{
 "cells": [
  {
   "cell_type": "markdown",
   "metadata": {
    "id": "hQSuKPIYhO7T"
   },
   "source": [
    "# **Import libraries**"
   ]
  },
  {
   "cell_type": "code",
   "execution_count": 1,
   "metadata": {
    "executionInfo": {
     "elapsed": 2643,
     "status": "ok",
     "timestamp": 1700665232365,
     "user": {
      "displayName": "erseghe@dei.unipd.it",
      "userId": "02226207360190315869"
     },
     "user_tz": -60
    },
    "id": "F-pCUreahJFK"
   },
   "outputs": [],
   "source": [
    "import pandas as pd\n",
    "import numpy as np\n",
    "from scipy.sparse import csr_matrix\n",
    "import nltk\n",
    "import matplotlib.pyplot as plt\n",
    "import datetime\n",
    "from datetime import date\n",
    "import time\n",
    "import pickle"
   ]
  },
  {
   "cell_type": "markdown",
   "metadata": {
    "id": "x6HdINNohfJ1"
   },
   "source": [
    "# **Load functions for data cleaning**"
   ]
  },
  {
   "cell_type": "code",
   "execution_count": 2,
   "metadata": {
    "colab": {
     "base_uri": "https://localhost:8080/"
    },
    "executionInfo": {
     "elapsed": 60314,
     "status": "ok",
     "timestamp": 1700665292676,
     "user": {
      "displayName": "erseghe@dei.unipd.it",
      "userId": "02226207360190315869"
     },
     "user_tz": -60
    },
    "id": "HToGt0n0hk3u",
    "outputId": "20eec10a-6d27-4b86-ac3d-228f01803b1a"
   },
   "outputs": [
    {
     "name": "stdout",
     "output_type": "stream",
     "text": [
      "Requirement already satisfied: emoji in c:\\users\\danie\\anaconda3\\envs\\ds_master\\lib\\site-packages (2.9.0)\n",
      "Requirement already satisfied: contractions in c:\\users\\danie\\anaconda3\\envs\\ds_master\\lib\\site-packages (0.1.73)\n",
      "Requirement already satisfied: textsearch>=0.0.21 in c:\\users\\danie\\anaconda3\\envs\\ds_master\\lib\\site-packages (from contractions) (0.0.24)\n",
      "Requirement already satisfied: anyascii in c:\\users\\danie\\anaconda3\\envs\\ds_master\\lib\\site-packages (from textsearch>=0.0.21->contractions) (0.3.2)\n",
      "Requirement already satisfied: pyahocorasick in c:\\users\\danie\\anaconda3\\envs\\ds_master\\lib\\site-packages (from textsearch>=0.0.21->contractions) (2.0.0)\n",
      "Requirement already satisfied: autocorrect in c:\\users\\danie\\anaconda3\\envs\\ds_master\\lib\\site-packages (2.6.1)\n",
      "Requirement already satisfied: unidecode in c:\\users\\danie\\anaconda3\\envs\\ds_master\\lib\\site-packages (1.2.0)\n"
     ]
    }
   ],
   "source": [
    "%run ../labs/cleaning_mod.py"
   ]
  },
  {
   "cell_type": "markdown",
   "metadata": {
    "id": "kY3nCVTYhppF"
   },
   "source": [
    "# Load Data"
   ]
  },
  {
   "cell_type": "code",
   "execution_count": 3,
   "metadata": {
    "colab": {
     "base_uri": "https://localhost:8080/",
     "height": 424
    },
    "executionInfo": {
     "elapsed": 583,
     "status": "ok",
     "timestamp": 1700665293251,
     "user": {
      "displayName": "erseghe@dei.unipd.it",
      "userId": "02226207360190315869"
     },
     "user_tz": -60
    },
    "id": "6gxY-AnVhpLz",
    "outputId": "abd194fa-6c0b-46ad-f508-7c6ec03d9f0e"
   },
   "outputs": [
    {
     "data": {
      "text/html": [
       "<div>\n",
       "<style scoped>\n",
       "    .dataframe tbody tr th:only-of-type {\n",
       "        vertical-align: middle;\n",
       "    }\n",
       "\n",
       "    .dataframe tbody tr th {\n",
       "        vertical-align: top;\n",
       "    }\n",
       "\n",
       "    .dataframe thead th {\n",
       "        text-align: right;\n",
       "    }\n",
       "</style>\n",
       "<table border=\"1\" class=\"dataframe\">\n",
       "  <thead>\n",
       "    <tr style=\"text-align: right;\">\n",
       "      <th></th>\n",
       "      <th>Long</th>\n",
       "      <th>Face</th>\n",
       "      <th>Skin_pct</th>\n",
       "      <th>Auto_caption</th>\n",
       "      <th>id</th>\n",
       "      <th>Short</th>\n",
       "      <th>link</th>\n",
       "      <th>Objectify (yes or no)</th>\n",
       "      <th>caption</th>\n",
       "      <th>Has_women</th>\n",
       "      <th>Key_path</th>\n",
       "      <th>No_humans</th>\n",
       "    </tr>\n",
       "  </thead>\n",
       "  <tbody>\n",
       "    <tr>\n",
       "      <th>0</th>\n",
       "      <td>2015-11-18_18-26-59_UTC</td>\n",
       "      <td>1</td>\n",
       "      <td>0.042849</td>\n",
       "      <td>a picture of a woman with long black hair sits...</td>\n",
       "      <td>207</td>\n",
       "      <td>-PHbiexlr_</td>\n",
       "      <td>https://www.instagram.com/p/-PHbiexlr_/?igshid...</td>\n",
       "      <td>1</td>\n",
       "      <td>Stunning Mariana Rodriguez in #amencouture. Se...</td>\n",
       "      <td>1</td>\n",
       "      <td>../1_download_data/data/raw/-PHbiexlr_\\2015-11...</td>\n",
       "      <td>0</td>\n",
       "    </tr>\n",
       "    <tr>\n",
       "      <th>1</th>\n",
       "      <td>2015-06-01_07-45-08_UTC</td>\n",
       "      <td>1</td>\n",
       "      <td>0.491443</td>\n",
       "      <td>a picture of a woman with black hair and a bla...</td>\n",
       "      <td>214</td>\n",
       "      <td>3YO1o0Rlkt</td>\n",
       "      <td>https://www.instagram.com/p/3YO1o0Rlkt/?igshid...</td>\n",
       "      <td>1</td>\n",
       "      <td>@emastokholma in Amen embroidered #dress from ...</td>\n",
       "      <td>1</td>\n",
       "      <td>../1_download_data/data/raw/3YO1o0Rlkt\\2015-06...</td>\n",
       "      <td>0</td>\n",
       "    </tr>\n",
       "    <tr>\n",
       "      <th>2</th>\n",
       "      <td>2015-07-06_10-38-30_UTC</td>\n",
       "      <td>1</td>\n",
       "      <td>0.133582</td>\n",
       "      <td>a picture of a woman with black hair and a bla...</td>\n",
       "      <td>213</td>\n",
       "      <td>4yqgDyxloK</td>\n",
       "      <td>https://www.instagram.com/p/4yqgDyxloK/?igshid...</td>\n",
       "      <td>1</td>\n",
       "      <td>Stunning DJ @emastokholma wears all over paill...</td>\n",
       "      <td>1</td>\n",
       "      <td>../1_download_data/data/raw/4yqgDyxloK\\2015-07...</td>\n",
       "      <td>0</td>\n",
       "    </tr>\n",
       "    <tr>\n",
       "      <th>3</th>\n",
       "      <td>2020-04-10_08-57-20_UTC</td>\n",
       "      <td>0</td>\n",
       "      <td>0.258619</td>\n",
       "      <td>a picture of a woman wearing a black jacket an...</td>\n",
       "      <td>209</td>\n",
       "      <td>B-y2Fo8qcN_</td>\n",
       "      <td>https://www.instagram.com/p/B-y2Fo8qcN_/?igshi...</td>\n",
       "      <td>1</td>\n",
       "      <td>Crystal Pumps ✨ #AmenStyle #AmenPreSpring20 #A...</td>\n",
       "      <td>1</td>\n",
       "      <td>../1_download_data/data/raw/B-y2Fo8qcN_\\2020-0...</td>\n",
       "      <td>0</td>\n",
       "    </tr>\n",
       "    <tr>\n",
       "      <th>4</th>\n",
       "      <td>2019-10-24_11-49-40_UTC</td>\n",
       "      <td>1</td>\n",
       "      <td>0.888304</td>\n",
       "      <td>a picture of a woman in a red dress sits on a ...</td>\n",
       "      <td>200</td>\n",
       "      <td>B3__d73i46x</td>\n",
       "      <td>https://www.instagram.com/p/B3__d73i46x/?igshi...</td>\n",
       "      <td>1</td>\n",
       "      <td>Discover our FW19 Collection on amenstyle.com ...</td>\n",
       "      <td>1</td>\n",
       "      <td>../1_download_data/data/raw/B3__d73i46x\\2019-1...</td>\n",
       "      <td>0</td>\n",
       "    </tr>\n",
       "  </tbody>\n",
       "</table>\n",
       "</div>"
      ],
      "text/plain": [
       "                      Long  Face  Skin_pct  \\\n",
       "0  2015-11-18_18-26-59_UTC     1  0.042849   \n",
       "1  2015-06-01_07-45-08_UTC     1  0.491443   \n",
       "2  2015-07-06_10-38-30_UTC     1  0.133582   \n",
       "3  2020-04-10_08-57-20_UTC     0  0.258619   \n",
       "4  2019-10-24_11-49-40_UTC     1  0.888304   \n",
       "\n",
       "                                        Auto_caption   id        Short  \\\n",
       "0  a picture of a woman with long black hair sits...  207   -PHbiexlr_   \n",
       "1  a picture of a woman with black hair and a bla...  214   3YO1o0Rlkt   \n",
       "2  a picture of a woman with black hair and a bla...  213   4yqgDyxloK   \n",
       "3  a picture of a woman wearing a black jacket an...  209  B-y2Fo8qcN_   \n",
       "4  a picture of a woman in a red dress sits on a ...  200  B3__d73i46x   \n",
       "\n",
       "                                                link  Objectify (yes or no)  \\\n",
       "0  https://www.instagram.com/p/-PHbiexlr_/?igshid...                      1   \n",
       "1  https://www.instagram.com/p/3YO1o0Rlkt/?igshid...                      1   \n",
       "2  https://www.instagram.com/p/4yqgDyxloK/?igshid...                      1   \n",
       "3  https://www.instagram.com/p/B-y2Fo8qcN_/?igshi...                      1   \n",
       "4  https://www.instagram.com/p/B3__d73i46x/?igshi...                      1   \n",
       "\n",
       "                                             caption  Has_women  \\\n",
       "0  Stunning Mariana Rodriguez in #amencouture. Se...          1   \n",
       "1  @emastokholma in Amen embroidered #dress from ...          1   \n",
       "2  Stunning DJ @emastokholma wears all over paill...          1   \n",
       "3  Crystal Pumps ✨ #AmenStyle #AmenPreSpring20 #A...          1   \n",
       "4  Discover our FW19 Collection on amenstyle.com ...          1   \n",
       "\n",
       "                                            Key_path  No_humans  \n",
       "0  ../1_download_data/data/raw/-PHbiexlr_\\2015-11...          0  \n",
       "1  ../1_download_data/data/raw/3YO1o0Rlkt\\2015-06...          0  \n",
       "2  ../1_download_data/data/raw/4yqgDyxloK\\2015-07...          0  \n",
       "3  ../1_download_data/data/raw/B-y2Fo8qcN_\\2020-0...          0  \n",
       "4  ../1_download_data/data/raw/B3__d73i46x\\2019-1...          0  "
      ]
     },
     "execution_count": 3,
     "metadata": {},
     "output_type": "execute_result"
    }
   ],
   "source": [
    "df = pd.read_excel('../0_data/data_model.xlsx')\n",
    "df.head()"
   ]
  },
  {
   "cell_type": "markdown",
   "metadata": {
    "id": "yIS4iAcbixPC"
   },
   "source": [
    "# **Clean text**"
   ]
  },
  {
   "cell_type": "code",
   "execution_count": 4,
   "metadata": {},
   "outputs": [
    {
     "ename": "KeyError",
     "evalue": "'All_text'",
     "output_type": "error",
     "traceback": [
      "\u001b[1;31m---------------------------------------------------------------------------\u001b[0m",
      "\u001b[1;31mKeyError\u001b[0m                                  Traceback (most recent call last)",
      "File \u001b[1;32m~\\anaconda3\\envs\\ds_master\\Lib\\site-packages\\pandas\\core\\indexes\\base.py:3791\u001b[0m, in \u001b[0;36mIndex.get_loc\u001b[1;34m(self, key)\u001b[0m\n\u001b[0;32m   3790\u001b[0m \u001b[38;5;28;01mtry\u001b[39;00m:\n\u001b[1;32m-> 3791\u001b[0m     \u001b[38;5;28;01mreturn\u001b[39;00m \u001b[38;5;28mself\u001b[39m\u001b[38;5;241m.\u001b[39m_engine\u001b[38;5;241m.\u001b[39mget_loc(casted_key)\n\u001b[0;32m   3792\u001b[0m \u001b[38;5;28;01mexcept\u001b[39;00m \u001b[38;5;167;01mKeyError\u001b[39;00m \u001b[38;5;28;01mas\u001b[39;00m err:\n",
      "File \u001b[1;32mindex.pyx:152\u001b[0m, in \u001b[0;36mpandas._libs.index.IndexEngine.get_loc\u001b[1;34m()\u001b[0m\n",
      "File \u001b[1;32mindex.pyx:181\u001b[0m, in \u001b[0;36mpandas._libs.index.IndexEngine.get_loc\u001b[1;34m()\u001b[0m\n",
      "File \u001b[1;32mpandas\\_libs\\hashtable_class_helper.pxi:7080\u001b[0m, in \u001b[0;36mpandas._libs.hashtable.PyObjectHashTable.get_item\u001b[1;34m()\u001b[0m\n",
      "File \u001b[1;32mpandas\\_libs\\hashtable_class_helper.pxi:7088\u001b[0m, in \u001b[0;36mpandas._libs.hashtable.PyObjectHashTable.get_item\u001b[1;34m()\u001b[0m\n",
      "\u001b[1;31mKeyError\u001b[0m: 'All_text'",
      "\nThe above exception was the direct cause of the following exception:\n",
      "\u001b[1;31mKeyError\u001b[0m                                  Traceback (most recent call last)",
      "Cell \u001b[1;32mIn[4], line 1\u001b[0m\n\u001b[1;32m----> 1\u001b[0m df[\u001b[38;5;124m'\u001b[39m\u001b[38;5;124mAll_text\u001b[39m\u001b[38;5;124m'\u001b[39m] \u001b[38;5;241m=\u001b[39m df[\u001b[38;5;124m'\u001b[39m\u001b[38;5;124mAll_text\u001b[39m\u001b[38;5;124m'\u001b[39m]\u001b[38;5;241m.\u001b[39mastype(\u001b[38;5;28mstr\u001b[39m)\n\u001b[0;32m      2\u001b[0m df[\u001b[38;5;124m'\u001b[39m\u001b[38;5;124mAuto_caption\u001b[39m\u001b[38;5;124m'\u001b[39m] \u001b[38;5;241m=\u001b[39m df[\u001b[38;5;124m'\u001b[39m\u001b[38;5;124mAuto_caption\u001b[39m\u001b[38;5;124m'\u001b[39m]\u001b[38;5;241m.\u001b[39mastype(\u001b[38;5;28mstr\u001b[39m)\n\u001b[0;32m      3\u001b[0m df[\u001b[38;5;124m'\u001b[39m\u001b[38;5;124mcaption\u001b[39m\u001b[38;5;124m'\u001b[39m] \u001b[38;5;241m=\u001b[39m df[\u001b[38;5;124m'\u001b[39m\u001b[38;5;124mcaption\u001b[39m\u001b[38;5;124m'\u001b[39m]\u001b[38;5;241m.\u001b[39mastype(\u001b[38;5;28mstr\u001b[39m)\n",
      "File \u001b[1;32m~\\anaconda3\\envs\\ds_master\\Lib\\site-packages\\pandas\\core\\frame.py:3893\u001b[0m, in \u001b[0;36mDataFrame.__getitem__\u001b[1;34m(self, key)\u001b[0m\n\u001b[0;32m   3891\u001b[0m \u001b[38;5;28;01mif\u001b[39;00m \u001b[38;5;28mself\u001b[39m\u001b[38;5;241m.\u001b[39mcolumns\u001b[38;5;241m.\u001b[39mnlevels \u001b[38;5;241m>\u001b[39m \u001b[38;5;241m1\u001b[39m:\n\u001b[0;32m   3892\u001b[0m     \u001b[38;5;28;01mreturn\u001b[39;00m \u001b[38;5;28mself\u001b[39m\u001b[38;5;241m.\u001b[39m_getitem_multilevel(key)\n\u001b[1;32m-> 3893\u001b[0m indexer \u001b[38;5;241m=\u001b[39m \u001b[38;5;28mself\u001b[39m\u001b[38;5;241m.\u001b[39mcolumns\u001b[38;5;241m.\u001b[39mget_loc(key)\n\u001b[0;32m   3894\u001b[0m \u001b[38;5;28;01mif\u001b[39;00m is_integer(indexer):\n\u001b[0;32m   3895\u001b[0m     indexer \u001b[38;5;241m=\u001b[39m [indexer]\n",
      "File \u001b[1;32m~\\anaconda3\\envs\\ds_master\\Lib\\site-packages\\pandas\\core\\indexes\\base.py:3798\u001b[0m, in \u001b[0;36mIndex.get_loc\u001b[1;34m(self, key)\u001b[0m\n\u001b[0;32m   3793\u001b[0m     \u001b[38;5;28;01mif\u001b[39;00m \u001b[38;5;28misinstance\u001b[39m(casted_key, \u001b[38;5;28mslice\u001b[39m) \u001b[38;5;129;01mor\u001b[39;00m (\n\u001b[0;32m   3794\u001b[0m         \u001b[38;5;28misinstance\u001b[39m(casted_key, abc\u001b[38;5;241m.\u001b[39mIterable)\n\u001b[0;32m   3795\u001b[0m         \u001b[38;5;129;01mand\u001b[39;00m \u001b[38;5;28many\u001b[39m(\u001b[38;5;28misinstance\u001b[39m(x, \u001b[38;5;28mslice\u001b[39m) \u001b[38;5;28;01mfor\u001b[39;00m x \u001b[38;5;129;01min\u001b[39;00m casted_key)\n\u001b[0;32m   3796\u001b[0m     ):\n\u001b[0;32m   3797\u001b[0m         \u001b[38;5;28;01mraise\u001b[39;00m InvalidIndexError(key)\n\u001b[1;32m-> 3798\u001b[0m     \u001b[38;5;28;01mraise\u001b[39;00m \u001b[38;5;167;01mKeyError\u001b[39;00m(key) \u001b[38;5;28;01mfrom\u001b[39;00m \u001b[38;5;21;01merr\u001b[39;00m\n\u001b[0;32m   3799\u001b[0m \u001b[38;5;28;01mexcept\u001b[39;00m \u001b[38;5;167;01mTypeError\u001b[39;00m:\n\u001b[0;32m   3800\u001b[0m     \u001b[38;5;66;03m# If we have a listlike key, _check_indexing_error will raise\u001b[39;00m\n\u001b[0;32m   3801\u001b[0m     \u001b[38;5;66;03m#  InvalidIndexError. Otherwise we fall through and re-raise\u001b[39;00m\n\u001b[0;32m   3802\u001b[0m     \u001b[38;5;66;03m#  the TypeError.\u001b[39;00m\n\u001b[0;32m   3803\u001b[0m     \u001b[38;5;28mself\u001b[39m\u001b[38;5;241m.\u001b[39m_check_indexing_error(key)\n",
      "\u001b[1;31mKeyError\u001b[0m: 'All_text'"
     ]
    }
   ],
   "source": [
    "df['All_text'] = df['All_text'].astype(str)\n",
    "df['Auto_caption'] = df['Auto_caption'].astype(str)\n",
    "df['caption'] = df['caption'].astype(str)"
   ]
  },
  {
   "cell_type": "markdown",
   "metadata": {},
   "source": [
    "All text"
   ]
  },
  {
   "cell_type": "code",
   "execution_count": null,
   "metadata": {
    "colab": {
     "base_uri": "https://localhost:8080/",
     "height": 1000
    },
    "executionInfo": {
     "elapsed": 43058,
     "status": "ok",
     "timestamp": 1700665336301,
     "user": {
      "displayName": "erseghe@dei.unipd.it",
      "userId": "02226207360190315869"
     },
     "user_tz": -60
    },
    "id": "pF6OVlwuiwcp",
    "outputId": "00bd49db-01a9-453c-ba19-daccab7d106d"
   },
   "outputs": [],
   "source": [
    "# superficial cleaning\n",
    "df['text_sup_clean'] = df['All_text'].apply(superficial_cleaning)\n",
    "\n",
    "# deep cleaning\n",
    "POS_KEEP = [\"ADJ\",\"ADV\",\"NOUN\",\"PROPN\",\"VERB\",\"NUM\"] # we do not include \"PRON\"\n",
    "df['text_deep_clean'] = df['text_sup_clean'].apply(deep_cleaning)\n",
    "df['text_deep_clean_pos'] = df['text_sup_clean'].apply(deep_cleaning_pos)\n",
    "\n",
    "# extract hashtags (if present)\n",
    "df['hashtags'] = df['All_text'].apply(get_hashtags)\n",
    "\n",
    "# display the result\n",
    "df.head()"
   ]
  },
  {
   "cell_type": "markdown",
   "metadata": {},
   "source": [
    "Captions"
   ]
  },
  {
   "cell_type": "code",
   "execution_count": null,
   "metadata": {},
   "outputs": [],
   "source": [
    "# superficial cleaning\n",
    "df['text_sup_clean_caption'] = df['caption'].apply(superficial_cleaning)\n",
    "\n",
    "# deep cleaning\n",
    "POS_KEEP = [\"ADJ\",\"ADV\",\"NOUN\",\"PROPN\",\"VERB\",\"NUM\"] # we do not include \"PRON\"\n",
    "df['text_deep_clean_caption'] = df['text_sup_clean_caption'].apply(deep_cleaning)\n",
    "df['text_deep_clean_pos_caption'] = df['text_sup_clean_caption'].apply(deep_cleaning_pos)\n",
    "\n",
    "# extract hashtags (if present)\n",
    "df['hashtags_caption'] = df['caption'].apply(get_hashtags)"
   ]
  },
  {
   "cell_type": "markdown",
   "metadata": {},
   "source": [
    "Autocaptions"
   ]
  },
  {
   "cell_type": "code",
   "execution_count": null,
   "metadata": {},
   "outputs": [],
   "source": [
    "# superficial cleaning\n",
    "df['text_sup_clean_auto'] = df['Auto_caption'].apply(superficial_cleaning)\n",
    "\n",
    "# deep cleaning\n",
    "POS_KEEP = [\"ADJ\",\"ADV\",\"NOUN\",\"PROPN\",\"VERB\",\"NUM\"] # we do not include \"PRON\"\n",
    "df['text_deep_clean_auto'] = df['text_sup_clean_auto'].apply(deep_cleaning)\n",
    "df['text_deep_clean_pos_auto'] = df['text_sup_clean_auto'].apply(deep_cleaning_pos)\n",
    "\n",
    "# extract hashtags (if present)\n",
    "#df['hashtags_auto'] = df['auto'].apply(get_hashtags)"
   ]
  },
  {
   "cell_type": "code",
   "execution_count": null,
   "metadata": {},
   "outputs": [],
   "source": [
    "df.head()"
   ]
  },
  {
   "cell_type": "code",
   "execution_count": null,
   "metadata": {},
   "outputs": [],
   "source": [
    "df.columns"
   ]
  },
  {
   "cell_type": "code",
   "execution_count": null,
   "metadata": {},
   "outputs": [],
   "source": [
    "df_save = df[['Short', 'Objectify','text_deep_clean_caption','text_deep_clean_auto','text_deep_clean']].copy()\n",
    "df_save.columns = ['Short', 'Objectify', 'clean_caption', 'clean_autocaption', 'clean_all']\n",
    "df_save.head()"
   ]
  },
  {
   "cell_type": "code",
   "execution_count": null,
   "metadata": {
    "executionInfo": {
     "elapsed": 1924,
     "status": "ok",
     "timestamp": 1700665338217,
     "user": {
      "displayName": "erseghe@dei.unipd.it",
      "userId": "02226207360190315869"
     },
     "user_tz": -60
    },
    "id": "IxY0u8GyiI79"
   },
   "outputs": [],
   "source": [
    "# store the results\n",
    "out_dir = \"../0_data/\"\n",
    "out_file = \"text\"\n",
    "df_save.to_excel(out_dir+out_file+\"_clean.xlsx\", index=True)"
   ]
  },
  {
   "cell_type": "code",
   "execution_count": null,
   "metadata": {},
   "outputs": [],
   "source": [
    "# store the results\n",
    "out_dir = \"../0_data/\"\n",
    "out_file = \"text\"\n",
    "df.to_excel(out_dir+out_file+\"_clean_large.xlsx\", index=True)"
   ]
  },
  {
   "cell_type": "markdown",
   "metadata": {
    "id": "XpH7Rx1bXOKW"
   },
   "source": [
    "# **Build an occurrence matrix for words and hashtags**"
   ]
  },
  {
   "cell_type": "code",
   "execution_count": 13,
   "metadata": {},
   "outputs": [
    {
     "data": {
      "text/html": [
       "<div>\n",
       "<style scoped>\n",
       "    .dataframe tbody tr th:only-of-type {\n",
       "        vertical-align: middle;\n",
       "    }\n",
       "\n",
       "    .dataframe tbody tr th {\n",
       "        vertical-align: top;\n",
       "    }\n",
       "\n",
       "    .dataframe thead th {\n",
       "        text-align: right;\n",
       "    }\n",
       "</style>\n",
       "<table border=\"1\" class=\"dataframe\">\n",
       "  <thead>\n",
       "    <tr style=\"text-align: right;\">\n",
       "      <th></th>\n",
       "      <th>id</th>\n",
       "      <th>Short</th>\n",
       "      <th>Auto_caption</th>\n",
       "      <th>caption</th>\n",
       "      <th>All_text</th>\n",
       "      <th>Objectify</th>\n",
       "      <th>text_sup_clean</th>\n",
       "      <th>text_deep_clean</th>\n",
       "      <th>text_deep_clean_pos</th>\n",
       "      <th>hashtags</th>\n",
       "      <th>text_sup_clean_caption</th>\n",
       "      <th>text_deep_clean_caption</th>\n",
       "      <th>text_deep_clean_pos_caption</th>\n",
       "      <th>hashtags_caption</th>\n",
       "      <th>text_sup_clean_auto</th>\n",
       "      <th>text_deep_clean_auto</th>\n",
       "      <th>text_deep_clean_pos_auto</th>\n",
       "    </tr>\n",
       "  </thead>\n",
       "  <tbody>\n",
       "    <tr>\n",
       "      <th>0</th>\n",
       "      <td>0</td>\n",
       "      <td>-PHbiexlr_</td>\n",
       "      <td>a picture of a woman with long black hair sits...</td>\n",
       "      <td>Stunning Mariana Rodriguez in #amencouture. Se...</td>\n",
       "      <td>Stunning Mariana Rodriguez in #amencouture. Se...</td>\n",
       "      <td>1.0</td>\n",
       "      <td>stunning mariana rodriguez in see the entire c...</td>\n",
       "      <td>stunning mariana rodriguez see entire collecti...</td>\n",
       "      <td>['stunning ADJ', 'mariana PROPN', 'rodriguez P...</td>\n",
       "      <td>['amencouture', 'amenstyle', 'ss16', 'womenswe...</td>\n",
       "      <td>stunning mariana rodriguez in see the entire c...</td>\n",
       "      <td>stunning mariana rodriguez see entire collection</td>\n",
       "      <td>['stunning ADJ', 'mariana PROPN', 'rodriguez P...</td>\n",
       "      <td>['amencouture', 'amenstyle', 'ss16', 'womenswe...</td>\n",
       "      <td>a picture of a woman with long black hair sits...</td>\n",
       "      <td>picture woman long black hair sit couch front ...</td>\n",
       "      <td>['picture NOUN', 'woman NOUN', 'long ADJ', 'bl...</td>\n",
       "    </tr>\n",
       "    <tr>\n",
       "      <th>1</th>\n",
       "      <td>1</td>\n",
       "      <td>3YO1o0Rlkt</td>\n",
       "      <td>a picture of a woman with black hair and a bla...</td>\n",
       "      <td>@emastokholma in Amen embroidered #dress from ...</td>\n",
       "      <td>@emastokholma in Amen embroidered #dress from ...</td>\n",
       "      <td>1.0</td>\n",
       "      <td>in amen embroidered from the spring summer co...</td>\n",
       "      <td>embroider spring summer collection discover mo...</td>\n",
       "      <td>['embroider VERB', 'spring NOUN', 'summer NOUN...</td>\n",
       "      <td>['dress', 'amenstyle', 'ss15', 'emastokholma',...</td>\n",
       "      <td>in amen embroidered from the spring summer co...</td>\n",
       "      <td>embroider spring summer collection discover more</td>\n",
       "      <td>['embroider VERB', 'spring NOUN', 'summer NOUN...</td>\n",
       "      <td>['dress', 'amenstyle', 'ss15', 'emastokholma',...</td>\n",
       "      <td>a picture of a woman with black hair and a bla...</td>\n",
       "      <td>picture woman black hair black tattoo arm wear...</td>\n",
       "      <td>['picture NOUN', 'woman NOUN', 'black ADJ', 'h...</td>\n",
       "    </tr>\n",
       "    <tr>\n",
       "      <th>2</th>\n",
       "      <td>2</td>\n",
       "      <td>4yqgDyxloK</td>\n",
       "      <td>a picture of a woman with black hair and a bla...</td>\n",
       "      <td>Stunning DJ @emastokholma wears all over paill...</td>\n",
       "      <td>Stunning DJ @emastokholma wears all over paill...</td>\n",
       "      <td>1.0</td>\n",
       "      <td>stunning dj wears all over paillettes dress fr...</td>\n",
       "      <td>stunning dj wear all paillette dress last ss c...</td>\n",
       "      <td>['stunning ADJ', 'dj ADV', 'wear NOUN', 'all A...</td>\n",
       "      <td>['dj', 'amenstyle', 'ss15', 'womenswear', 'oot...</td>\n",
       "      <td>stunning dj wears all over paillettes dress fr...</td>\n",
       "      <td>stunning dj wear all paillette dress last ss c...</td>\n",
       "      <td>['stunning ADJ', 'dj ADV', 'wear NOUN', 'all A...</td>\n",
       "      <td>['dj', 'amenstyle', 'ss15', 'womenswear', 'oot...</td>\n",
       "      <td>a picture of a woman with black hair and a bla...</td>\n",
       "      <td>picture woman black hair black tattoo arm pose...</td>\n",
       "      <td>['picture NOUN', 'woman NOUN', 'black ADJ', 'h...</td>\n",
       "    </tr>\n",
       "    <tr>\n",
       "      <th>3</th>\n",
       "      <td>3</td>\n",
       "      <td>B-y2Fo8qcN_</td>\n",
       "      <td>a picture of a woman wearing a black jacket an...</td>\n",
       "      <td>Crystal Pumps ✨ #AmenStyle #AmenPreSpring20 #A...</td>\n",
       "      <td>Crystal Pumps ✨ #AmenStyle #AmenPreSpring20 #A...</td>\n",
       "      <td>1.0</td>\n",
       "      <td>crystal pumps a picture of a woman wearing a b...</td>\n",
       "      <td>crystal pump picture woman wear black jacket h...</td>\n",
       "      <td>['crystal NOUN', 'pump VERB', 'picture NOUN', ...</td>\n",
       "      <td>['amenstyle', 'amenprespring20', 'amenaccessor...</td>\n",
       "      <td>crystal pumps</td>\n",
       "      <td>crystal pump</td>\n",
       "      <td>['crystal NOUN', 'pump VERB']</td>\n",
       "      <td>['amenstyle', 'amenprespring20', 'amenaccessor...</td>\n",
       "      <td>a picture of a woman wearing a black jacket an...</td>\n",
       "      <td>picture woman wear black jacket heel sit red c...</td>\n",
       "      <td>['picture NOUN', 'woman NOUN', 'wear VERB', 'b...</td>\n",
       "    </tr>\n",
       "    <tr>\n",
       "      <th>4</th>\n",
       "      <td>4</td>\n",
       "      <td>B3__d73i46x</td>\n",
       "      <td>a picture of a woman in a red dress sits on a ...</td>\n",
       "      <td>Discover our FW19 Collection on amenstyle.com ...</td>\n",
       "      <td>Discover our FW19 Collection on amenstyle.com ...</td>\n",
       "      <td>1.0</td>\n",
       "      <td>discover our fw collection on link in bio shop...</td>\n",
       "      <td>discover fw collection link bio shop line now ...</td>\n",
       "      <td>['discover VERB', 'fw PROPN', 'collection NOUN...</td>\n",
       "      <td>['amenstyle', 'amenfw19', 'declareyoursparkle']</td>\n",
       "      <td>discover our fw collection on link in bio shop...</td>\n",
       "      <td>discover fw collection link bio shop line now</td>\n",
       "      <td>['discover VERB', 'fw PROPN', 'collection NOUN...</td>\n",
       "      <td>['amenstyle', 'amenfw19', 'declareyoursparkle']</td>\n",
       "      <td>a picture of a woman in a red dress sits on a ...</td>\n",
       "      <td>picture woman red dress sit leather couch hold...</td>\n",
       "      <td>['picture NOUN', 'woman NOUN', 'red ADJ', 'dre...</td>\n",
       "    </tr>\n",
       "  </tbody>\n",
       "</table>\n",
       "</div>"
      ],
      "text/plain": [
       "   id        Short                                       Auto_caption  \\\n",
       "0   0   -PHbiexlr_  a picture of a woman with long black hair sits...   \n",
       "1   1   3YO1o0Rlkt  a picture of a woman with black hair and a bla...   \n",
       "2   2   4yqgDyxloK  a picture of a woman with black hair and a bla...   \n",
       "3   3  B-y2Fo8qcN_  a picture of a woman wearing a black jacket an...   \n",
       "4   4  B3__d73i46x  a picture of a woman in a red dress sits on a ...   \n",
       "\n",
       "                                             caption  \\\n",
       "0  Stunning Mariana Rodriguez in #amencouture. Se...   \n",
       "1  @emastokholma in Amen embroidered #dress from ...   \n",
       "2  Stunning DJ @emastokholma wears all over paill...   \n",
       "3  Crystal Pumps ✨ #AmenStyle #AmenPreSpring20 #A...   \n",
       "4  Discover our FW19 Collection on amenstyle.com ...   \n",
       "\n",
       "                                            All_text  Objectify  \\\n",
       "0  Stunning Mariana Rodriguez in #amencouture. Se...        1.0   \n",
       "1  @emastokholma in Amen embroidered #dress from ...        1.0   \n",
       "2  Stunning DJ @emastokholma wears all over paill...        1.0   \n",
       "3  Crystal Pumps ✨ #AmenStyle #AmenPreSpring20 #A...        1.0   \n",
       "4  Discover our FW19 Collection on amenstyle.com ...        1.0   \n",
       "\n",
       "                                      text_sup_clean  \\\n",
       "0  stunning mariana rodriguez in see the entire c...   \n",
       "1   in amen embroidered from the spring summer co...   \n",
       "2  stunning dj wears all over paillettes dress fr...   \n",
       "3  crystal pumps a picture of a woman wearing a b...   \n",
       "4  discover our fw collection on link in bio shop...   \n",
       "\n",
       "                                     text_deep_clean  \\\n",
       "0  stunning mariana rodriguez see entire collecti...   \n",
       "1  embroider spring summer collection discover mo...   \n",
       "2  stunning dj wear all paillette dress last ss c...   \n",
       "3  crystal pump picture woman wear black jacket h...   \n",
       "4  discover fw collection link bio shop line now ...   \n",
       "\n",
       "                                 text_deep_clean_pos  \\\n",
       "0  ['stunning ADJ', 'mariana PROPN', 'rodriguez P...   \n",
       "1  ['embroider VERB', 'spring NOUN', 'summer NOUN...   \n",
       "2  ['stunning ADJ', 'dj ADV', 'wear NOUN', 'all A...   \n",
       "3  ['crystal NOUN', 'pump VERB', 'picture NOUN', ...   \n",
       "4  ['discover VERB', 'fw PROPN', 'collection NOUN...   \n",
       "\n",
       "                                            hashtags  \\\n",
       "0  ['amencouture', 'amenstyle', 'ss16', 'womenswe...   \n",
       "1  ['dress', 'amenstyle', 'ss15', 'emastokholma',...   \n",
       "2  ['dj', 'amenstyle', 'ss15', 'womenswear', 'oot...   \n",
       "3  ['amenstyle', 'amenprespring20', 'amenaccessor...   \n",
       "4    ['amenstyle', 'amenfw19', 'declareyoursparkle']   \n",
       "\n",
       "                              text_sup_clean_caption  \\\n",
       "0  stunning mariana rodriguez in see the entire c...   \n",
       "1   in amen embroidered from the spring summer co...   \n",
       "2  stunning dj wears all over paillettes dress fr...   \n",
       "3                                     crystal pumps    \n",
       "4  discover our fw collection on link in bio shop...   \n",
       "\n",
       "                             text_deep_clean_caption  \\\n",
       "0   stunning mariana rodriguez see entire collection   \n",
       "1   embroider spring summer collection discover more   \n",
       "2  stunning dj wear all paillette dress last ss c...   \n",
       "3                                       crystal pump   \n",
       "4      discover fw collection link bio shop line now   \n",
       "\n",
       "                         text_deep_clean_pos_caption  \\\n",
       "0  ['stunning ADJ', 'mariana PROPN', 'rodriguez P...   \n",
       "1  ['embroider VERB', 'spring NOUN', 'summer NOUN...   \n",
       "2  ['stunning ADJ', 'dj ADV', 'wear NOUN', 'all A...   \n",
       "3                      ['crystal NOUN', 'pump VERB']   \n",
       "4  ['discover VERB', 'fw PROPN', 'collection NOUN...   \n",
       "\n",
       "                                    hashtags_caption  \\\n",
       "0  ['amencouture', 'amenstyle', 'ss16', 'womenswe...   \n",
       "1  ['dress', 'amenstyle', 'ss15', 'emastokholma',...   \n",
       "2  ['dj', 'amenstyle', 'ss15', 'womenswear', 'oot...   \n",
       "3  ['amenstyle', 'amenprespring20', 'amenaccessor...   \n",
       "4    ['amenstyle', 'amenfw19', 'declareyoursparkle']   \n",
       "\n",
       "                                 text_sup_clean_auto  \\\n",
       "0  a picture of a woman with long black hair sits...   \n",
       "1  a picture of a woman with black hair and a bla...   \n",
       "2  a picture of a woman with black hair and a bla...   \n",
       "3  a picture of a woman wearing a black jacket an...   \n",
       "4  a picture of a woman in a red dress sits on a ...   \n",
       "\n",
       "                                text_deep_clean_auto  \\\n",
       "0  picture woman long black hair sit couch front ...   \n",
       "1  picture woman black hair black tattoo arm wear...   \n",
       "2  picture woman black hair black tattoo arm pose...   \n",
       "3  picture woman wear black jacket heel sit red c...   \n",
       "4  picture woman red dress sit leather couch hold...   \n",
       "\n",
       "                            text_deep_clean_pos_auto  \n",
       "0  ['picture NOUN', 'woman NOUN', 'long ADJ', 'bl...  \n",
       "1  ['picture NOUN', 'woman NOUN', 'black ADJ', 'h...  \n",
       "2  ['picture NOUN', 'woman NOUN', 'black ADJ', 'h...  \n",
       "3  ['picture NOUN', 'woman NOUN', 'wear VERB', 'b...  \n",
       "4  ['picture NOUN', 'woman NOUN', 'red ADJ', 'dre...  "
      ]
     },
     "execution_count": 13,
     "metadata": {},
     "output_type": "execute_result"
    }
   ],
   "source": [
    "# store the results\n",
    "dir = \"../0_data/\"\n",
    "file = \"text\"\n",
    "df = pd.read_excel(dir+file+\"_clean_large.xlsx\")\n",
    "df.rename(columns={'Unnamed: 0':'id'}, inplace = True)\n",
    "df.head()"
   ]
  },
  {
   "cell_type": "code",
   "execution_count": 14,
   "metadata": {
    "executionInfo": {
     "elapsed": 10,
     "status": "ok",
     "timestamp": 1700665338217,
     "user": {
      "displayName": "erseghe@dei.unipd.it",
      "userId": "02226207360190315869"
     },
     "user_tz": -60
    },
    "id": "r6rjVGhaD9w8"
   },
   "outputs": [],
   "source": [
    "# collection of words\n",
    "words = np.unique([item for sublist in df['text_deep_clean_pos'] for item in sublist])\n",
    "# words dictionary\n",
    "words_dict = dict(zip(words,range(len(words))))\n",
    "# occurrence matrix for words\n",
    "Mwd = csr_matrix((len(words_dict), len(df)), dtype = np.int8).toarray()\n",
    "for i in range(len(df)):\n",
    "  for j in df['text_deep_clean_pos'][i]:\n",
    "    Mwd[words_dict[j],i] += 1"
   ]
  },
  {
   "cell_type": "code",
   "execution_count": 15,
   "metadata": {
    "executionInfo": {
     "elapsed": 9,
     "status": "ok",
     "timestamp": 1700665338218,
     "user": {
      "displayName": "erseghe@dei.unipd.it",
      "userId": "02226207360190315869"
     },
     "user_tz": -60
    },
    "id": "OCvNgX_bk_t0"
   },
   "outputs": [],
   "source": [
    "# collection of hashtags\n",
    "hashtags = np.unique([item for sublist in df['hashtags'] for item in sublist])\n",
    "# add the # sign\n",
    "hashtags2 = np.unique([\"#\"+item for sublist in df['hashtags'] for item in sublist])\n",
    "# hashtags dictionary\n",
    "hashtags_dict = dict(zip(hashtags,range(len(hashtags))))\n",
    "# occurrence matrix for hashtags\n",
    "Mhd = csr_matrix((len(hashtags_dict), len(df)), dtype = np.int8).toarray()\n",
    "for i in range(len(df)):\n",
    "  for j in df['hashtags'][i]:\n",
    "    Mhd[hashtags_dict[j],i] += 1"
   ]
  },
  {
   "cell_type": "code",
   "execution_count": 16,
   "metadata": {
    "executionInfo": {
     "elapsed": 9,
     "status": "ok",
     "timestamp": 1700665338218,
     "user": {
      "displayName": "erseghe@dei.unipd.it",
      "userId": "02226207360190315869"
     },
     "user_tz": -60
    },
    "id": "Y3F2bC9YlSni"
   },
   "outputs": [],
   "source": [
    "# join words and hashtags\n",
    "Mwd = np.vstack((Mwd, Mhd)) # in one occurrence matrix\n",
    "words = np.hstack((words, hashtags2)) # in one word+hashtags list\n",
    "documents = np.array(df[\"id\"].tolist()) # further collect documents names"
   ]
  },
  {
   "cell_type": "markdown",
   "metadata": {
    "id": "vmy5Kb_fl3Hm"
   },
   "source": [
    "# **Remove least occurring words**"
   ]
  },
  {
   "cell_type": "code",
   "execution_count": 17,
   "metadata": {
    "colab": {
     "base_uri": "https://localhost:8080/",
     "height": 430
    },
    "executionInfo": {
     "elapsed": 2502,
     "status": "ok",
     "timestamp": 1700665340712,
     "user": {
      "displayName": "erseghe@dei.unipd.it",
      "userId": "02226207360190315869"
     },
     "user_tz": -60
    },
    "id": "Bf4HKA6ZlrJH",
    "outputId": "20a41d8b-d8ff-4a4e-c24c-bd9957c2f470"
   },
   "outputs": [
    {
     "data": {
      "image/png": "[encoded data removed]",
      "text/plain": [
       "<Figure size 640x480 with 1 Axes>"
      ]
     },
     "metadata": {},
     "output_type": "display_data"
    }
   ],
   "source": [
    "# display word occurrences first\n",
    "plt.figure()\n",
    "plt.semilogy(-np.sort(-np.sum(Mwd,axis=1)))\n",
    "plt.savefig(out_dir+out_file+\"_statistics.png\")"
   ]
  },
  {
   "cell_type": "code",
   "execution_count": 18,
   "metadata": {
    "colab": {
     "base_uri": "https://localhost:8080/",
     "height": 35
    },
    "executionInfo": {
     "elapsed": 10,
     "status": "ok",
     "timestamp": 1700665340712,
     "user": {
      "displayName": "erseghe@dei.unipd.it",
      "userId": "02226207360190315869"
     },
     "user_tz": -60
    },
    "id": "_JfHEWqPmX1t",
    "outputId": "e3718677-b310-4dc8-e9b7-c15bb86d0b7e"
   },
   "outputs": [
    {
     "data": {
      "text/plain": [
       "(79, 260)"
      ]
     },
     "metadata": {},
     "output_type": "display_data"
    }
   ],
   "source": [
    "# remove words that are used once or twice\n",
    "select = (np.sum(Mwd,axis=1)>2)\n",
    "Mwd = Mwd[select,:]\n",
    "words = words[select]\n",
    "# remove documents that do not contain words\n",
    "select = (np.sum(Mwd,axis=0)>0)\n",
    "Mwd = Mwd[:,select]\n",
    "documents = documents[select]\n",
    "# display final matrix size\n",
    "display(Mwd.shape)"
   ]
  },
  {
   "cell_type": "code",
   "execution_count": 19,
   "metadata": {
    "executionInfo": {
     "elapsed": 9,
     "status": "ok",
     "timestamp": 1700665340713,
     "user": {
      "displayName": "erseghe@dei.unipd.it",
      "userId": "02226207360190315869"
     },
     "user_tz": -60
    },
    "id": "AAmZJVommoy5"
   },
   "outputs": [],
   "source": [
    "# store the result\n",
    "pickle.dump([Mwd,words,documents], open(out_dir+out_file+\"_occurrences.p\", \"wb\"))\n",
    "# c,d,e = pickle.load(open(out_dir+out_file+\"_occurrences.p\",\"rb\"))"
   ]
  }
 ],
 "metadata": {
  "colab": {
   "authorship_tag": "ABX9TyPbpZYjrcPH+878mQiDNhaK",
   "mount_file_id": "1KOIkmV8O9rUMeTr2iElufzGUgNDSdMcc",
   "provenance": [
    {
     "file_id": "1Ib1cmWISMrAbj8sdEPagtguHoKMpLyO0",
     "timestamp": 1689695128493
    }
   ]
  },
  "kernelspec": {
   "display_name": "Python 3 (ipykernel)",
   "language": "python",
   "name": "python3"
  },
  "language_info": {
   "codemirror_mode": {
    "name": "ipython",
    "version": 3
   },
   "file_extension": ".py",
   "mimetype": "text/x-python",
   "name": "python",
   "nbconvert_exporter": "python",
   "pygments_lexer": "ipython3",
   "version": "3.11.5"
  }
 },
 "nbformat": 4,
 "nbformat_minor": 4
}
