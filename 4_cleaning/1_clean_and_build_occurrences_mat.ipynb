{
 "cells": [
  {
   "cell_type": "markdown",
   "metadata": {
    "id": "hQSuKPIYhO7T"
   },
   "source": [
    "# **Import libraries**"
   ]
  },
  {
   "cell_type": "code",
   "execution_count": 1,
   "metadata": {
    "executionInfo": {
     "elapsed": 2643,
     "status": "ok",
     "timestamp": 1700665232365,
     "user": {
      "displayName": "erseghe@dei.unipd.it",
      "userId": "02226207360190315869"
     },
     "user_tz": -60
    },
    "id": "F-pCUreahJFK"
   },
   "outputs": [],
   "source": [
    "import pandas as pd\n",
    "import numpy as np\n",
    "from scipy.sparse import csr_matrix\n",
    "import nltk\n",
    "import matplotlib.pyplot as plt\n",
    "import datetime\n",
    "from datetime import date\n",
    "import time\n",
    "import pickle"
   ]
  },
  {
   "cell_type": "markdown",
   "metadata": {
    "id": "x6HdINNohfJ1"
   },
   "source": [
    "# **Load functions for data cleaning**"
   ]
  },
  {
   "cell_type": "code",
   "execution_count": 2,
   "metadata": {
    "colab": {
     "base_uri": "https://localhost:8080/"
    },
    "executionInfo": {
     "elapsed": 60314,
     "status": "ok",
     "timestamp": 1700665292676,
     "user": {
      "displayName": "erseghe@dei.unipd.it",
      "userId": "02226207360190315869"
     },
     "user_tz": -60
    },
    "id": "HToGt0n0hk3u",
    "outputId": "20eec10a-6d27-4b86-ac3d-228f01803b1a"
   },
   "outputs": [
    {
     "name": "stdout",
     "output_type": "stream",
     "text": [
      "Requirement already satisfied: emoji in c:\\users\\danie\\anaconda3\\envs\\ds_master\\lib\\site-packages (2.9.0)\n",
      "Requirement already satisfied: contractions in c:\\users\\danie\\anaconda3\\envs\\ds_master\\lib\\site-packages (0.1.73)\n",
      "Requirement already satisfied: textsearch>=0.0.21 in c:\\users\\danie\\anaconda3\\envs\\ds_master\\lib\\site-packages (from contractions) (0.0.24)\n",
      "Requirement already satisfied: anyascii in c:\\users\\danie\\anaconda3\\envs\\ds_master\\lib\\site-packages (from textsearch>=0.0.21->contractions) (0.3.2)\n",
      "Requirement already satisfied: pyahocorasick in c:\\users\\danie\\anaconda3\\envs\\ds_master\\lib\\site-packages (from textsearch>=0.0.21->contractions) (2.0.0)\n",
      "Requirement already satisfied: autocorrect in c:\\users\\danie\\anaconda3\\envs\\ds_master\\lib\\site-packages (2.6.1)\n",
      "Requirement already satisfied: unidecode in c:\\users\\danie\\anaconda3\\envs\\ds_master\\lib\\site-packages (1.2.0)\n"
     ]
    }
   ],
   "source": [
    "%run ../labs/cleaning_mod.py"
   ]
  },
  {
   "cell_type": "markdown",
   "metadata": {
    "id": "kY3nCVTYhppF"
   },
   "source": [
    "# Load Data"
   ]
  },
  {
   "cell_type": "code",
   "execution_count": 21,
   "metadata": {
    "colab": {
     "base_uri": "https://localhost:8080/",
     "height": 424
    },
    "executionInfo": {
     "elapsed": 583,
     "status": "ok",
     "timestamp": 1700665293251,
     "user": {
      "displayName": "erseghe@dei.unipd.it",
      "userId": "02226207360190315869"
     },
     "user_tz": -60
    },
    "id": "6gxY-AnVhpLz",
    "outputId": "abd194fa-6c0b-46ad-f508-7c6ec03d9f0e"
   },
   "outputs": [
    {
     "data": {
      "text/html": [
       "<div>\n",
       "<style scoped>\n",
       "    .dataframe tbody tr th:only-of-type {\n",
       "        vertical-align: middle;\n",
       "    }\n",
       "\n",
       "    .dataframe tbody tr th {\n",
       "        vertical-align: top;\n",
       "    }\n",
       "\n",
       "    .dataframe thead th {\n",
       "        text-align: right;\n",
       "    }\n",
       "</style>\n",
       "<table border=\"1\" class=\"dataframe\">\n",
       "  <thead>\n",
       "    <tr style=\"text-align: right;\">\n",
       "      <th></th>\n",
       "      <th>Short</th>\n",
       "      <th>Auto_caption</th>\n",
       "      <th>caption</th>\n",
       "      <th>All_text</th>\n",
       "      <th>Objectify</th>\n",
       "    </tr>\n",
       "  </thead>\n",
       "  <tbody>\n",
       "    <tr>\n",
       "      <th>0</th>\n",
       "      <td>-PHbiexlr_</td>\n",
       "      <td>a picture of a woman with long black hair sits...</td>\n",
       "      <td>Stunning Mariana Rodriguez in #amencouture. Se...</td>\n",
       "      <td>Stunning Mariana Rodriguez in #amencouture. Se...</td>\n",
       "      <td>1.0</td>\n",
       "    </tr>\n",
       "    <tr>\n",
       "      <th>1</th>\n",
       "      <td>3YO1o0Rlkt</td>\n",
       "      <td>a picture of a woman with black hair and a bla...</td>\n",
       "      <td>@emastokholma in Amen embroidered #dress from ...</td>\n",
       "      <td>@emastokholma in Amen embroidered #dress from ...</td>\n",
       "      <td>1.0</td>\n",
       "    </tr>\n",
       "    <tr>\n",
       "      <th>2</th>\n",
       "      <td>4yqgDyxloK</td>\n",
       "      <td>a picture of a woman with black hair and a bla...</td>\n",
       "      <td>Stunning DJ @emastokholma wears all over paill...</td>\n",
       "      <td>Stunning DJ @emastokholma wears all over paill...</td>\n",
       "      <td>1.0</td>\n",
       "    </tr>\n",
       "    <tr>\n",
       "      <th>3</th>\n",
       "      <td>B-y2Fo8qcN_</td>\n",
       "      <td>a picture of a woman wearing a black jacket an...</td>\n",
       "      <td>Crystal Pumps ✨ #AmenStyle #AmenPreSpring20 #A...</td>\n",
       "      <td>Crystal Pumps ✨ #AmenStyle #AmenPreSpring20 #A...</td>\n",
       "      <td>1.0</td>\n",
       "    </tr>\n",
       "    <tr>\n",
       "      <th>4</th>\n",
       "      <td>B3__d73i46x</td>\n",
       "      <td>a picture of a woman in a red dress sits on a ...</td>\n",
       "      <td>Discover our FW19 Collection on amenstyle.com ...</td>\n",
       "      <td>Discover our FW19 Collection on amenstyle.com ...</td>\n",
       "      <td>1.0</td>\n",
       "    </tr>\n",
       "  </tbody>\n",
       "</table>\n",
       "</div>"
      ],
      "text/plain": [
       "         Short                                       Auto_caption  \\\n",
       "0   -PHbiexlr_  a picture of a woman with long black hair sits...   \n",
       "1   3YO1o0Rlkt  a picture of a woman with black hair and a bla...   \n",
       "2   4yqgDyxloK  a picture of a woman with black hair and a bla...   \n",
       "3  B-y2Fo8qcN_  a picture of a woman wearing a black jacket an...   \n",
       "4  B3__d73i46x  a picture of a woman in a red dress sits on a ...   \n",
       "\n",
       "                                             caption  \\\n",
       "0  Stunning Mariana Rodriguez in #amencouture. Se...   \n",
       "1  @emastokholma in Amen embroidered #dress from ...   \n",
       "2  Stunning DJ @emastokholma wears all over paill...   \n",
       "3  Crystal Pumps ✨ #AmenStyle #AmenPreSpring20 #A...   \n",
       "4  Discover our FW19 Collection on amenstyle.com ...   \n",
       "\n",
       "                                            All_text  Objectify  \n",
       "0  Stunning Mariana Rodriguez in #amencouture. Se...        1.0  \n",
       "1  @emastokholma in Amen embroidered #dress from ...        1.0  \n",
       "2  Stunning DJ @emastokholma wears all over paill...        1.0  \n",
       "3  Crystal Pumps ✨ #AmenStyle #AmenPreSpring20 #A...        1.0  \n",
       "4  Discover our FW19 Collection on amenstyle.com ...        1.0  "
      ]
     },
     "execution_count": 21,
     "metadata": {},
     "output_type": "execute_result"
    }
   ],
   "source": [
    "df = pd.read_excel('../0_data/captions_autocaptions.xlsx')\n",
    "df.head()"
   ]
  },
  {
   "cell_type": "markdown",
   "metadata": {
    "id": "yIS4iAcbixPC"
   },
   "source": [
    "# **Clean text**"
   ]
  },
  {
   "cell_type": "code",
   "execution_count": 22,
   "metadata": {},
   "outputs": [],
   "source": [
    "df['All_text'] = df['All_text'].astype(str)\n",
    "df['Auto_caption'] = df['Auto_caption'].astype(str)\n",
    "df['caption'] = df['caption'].astype(str)"
   ]
  },
  {
   "cell_type": "markdown",
   "metadata": {},
   "source": [
    "All text"
   ]
  },
  {
   "cell_type": "code",
   "execution_count": 23,
   "metadata": {
    "colab": {
     "base_uri": "https://localhost:8080/",
     "height": 1000
    },
    "executionInfo": {
     "elapsed": 43058,
     "status": "ok",
     "timestamp": 1700665336301,
     "user": {
      "displayName": "erseghe@dei.unipd.it",
      "userId": "02226207360190315869"
     },
     "user_tz": -60
    },
    "id": "pF6OVlwuiwcp",
    "outputId": "00bd49db-01a9-453c-ba19-daccab7d106d"
   },
   "outputs": [
    {
     "name": "stderr",
     "output_type": "stream",
     "text": [
      "C:\\Users\\danie\\Documents\\GitHub\\network_science\\labs\\cleaning_mod.py:156: MarkupResemblesLocatorWarning: The input looks more like a filename than markup. You may want to open this file and pass the filehandle into Beautiful Soup.\n",
      "  soup = BeautifulSoup(selftext, \"html.parser\")\n"
     ]
    },
    {
     "data": {
      "text/html": [
       "<div>\n",
       "<style scoped>\n",
       "    .dataframe tbody tr th:only-of-type {\n",
       "        vertical-align: middle;\n",
       "    }\n",
       "\n",
       "    .dataframe tbody tr th {\n",
       "        vertical-align: top;\n",
       "    }\n",
       "\n",
       "    .dataframe thead th {\n",
       "        text-align: right;\n",
       "    }\n",
       "</style>\n",
       "<table border=\"1\" class=\"dataframe\">\n",
       "  <thead>\n",
       "    <tr style=\"text-align: right;\">\n",
       "      <th></th>\n",
       "      <th>Short</th>\n",
       "      <th>Auto_caption</th>\n",
       "      <th>caption</th>\n",
       "      <th>All_text</th>\n",
       "      <th>Objectify</th>\n",
       "      <th>text_sup_clean</th>\n",
       "      <th>text_deep_clean</th>\n",
       "      <th>text_deep_clean_pos</th>\n",
       "      <th>hashtags</th>\n",
       "    </tr>\n",
       "  </thead>\n",
       "  <tbody>\n",
       "    <tr>\n",
       "      <th>0</th>\n",
       "      <td>-PHbiexlr_</td>\n",
       "      <td>a picture of a woman with long black hair sits...</td>\n",
       "      <td>Stunning Mariana Rodriguez in #amencouture. Se...</td>\n",
       "      <td>Stunning Mariana Rodriguez in #amencouture. Se...</td>\n",
       "      <td>1.0</td>\n",
       "      <td>stunning mariana rodriguez in see the entire c...</td>\n",
       "      <td>stunning mariana rodriguez see entire collecti...</td>\n",
       "      <td>[stunning ADJ, mariana PROPN, rodriguez PROPN,...</td>\n",
       "      <td>[amencouture, amenstyle, ss16, womenswear, ootd]</td>\n",
       "    </tr>\n",
       "    <tr>\n",
       "      <th>1</th>\n",
       "      <td>3YO1o0Rlkt</td>\n",
       "      <td>a picture of a woman with black hair and a bla...</td>\n",
       "      <td>@emastokholma in Amen embroidered #dress from ...</td>\n",
       "      <td>@emastokholma in Amen embroidered #dress from ...</td>\n",
       "      <td>1.0</td>\n",
       "      <td>in amen embroidered from the spring summer co...</td>\n",
       "      <td>embroider spring summer collection discover mo...</td>\n",
       "      <td>[embroider VERB, spring NOUN, summer NOUN, col...</td>\n",
       "      <td>[dress, amenstyle, ss15, emastokholma, ootd]</td>\n",
       "    </tr>\n",
       "    <tr>\n",
       "      <th>2</th>\n",
       "      <td>4yqgDyxloK</td>\n",
       "      <td>a picture of a woman with black hair and a bla...</td>\n",
       "      <td>Stunning DJ @emastokholma wears all over paill...</td>\n",
       "      <td>Stunning DJ @emastokholma wears all over paill...</td>\n",
       "      <td>1.0</td>\n",
       "      <td>stunning dj wears all over paillettes dress fr...</td>\n",
       "      <td>stunning dj wear all paillette dress last ss c...</td>\n",
       "      <td>[stunning ADJ, dj ADV, wear NOUN, all ADV, pai...</td>\n",
       "      <td>[dj, amenstyle, ss15, womenswear, ootd, emasto...</td>\n",
       "    </tr>\n",
       "    <tr>\n",
       "      <th>3</th>\n",
       "      <td>B-y2Fo8qcN_</td>\n",
       "      <td>a picture of a woman wearing a black jacket an...</td>\n",
       "      <td>Crystal Pumps ✨ #AmenStyle #AmenPreSpring20 #A...</td>\n",
       "      <td>Crystal Pumps ✨ #AmenStyle #AmenPreSpring20 #A...</td>\n",
       "      <td>1.0</td>\n",
       "      <td>crystal pumps a picture of a woman wearing a b...</td>\n",
       "      <td>crystal pump picture woman wear black jacket h...</td>\n",
       "      <td>[crystal NOUN, pump VERB, picture NOUN, woman ...</td>\n",
       "      <td>[amenstyle, amenprespring20, amenaccessories]</td>\n",
       "    </tr>\n",
       "    <tr>\n",
       "      <th>4</th>\n",
       "      <td>B3__d73i46x</td>\n",
       "      <td>a picture of a woman in a red dress sits on a ...</td>\n",
       "      <td>Discover our FW19 Collection on amenstyle.com ...</td>\n",
       "      <td>Discover our FW19 Collection on amenstyle.com ...</td>\n",
       "      <td>1.0</td>\n",
       "      <td>discover our fw collection on link in bio shop...</td>\n",
       "      <td>discover fw collection link bio shop line now ...</td>\n",
       "      <td>[discover VERB, fw PROPN, collection NOUN, lin...</td>\n",
       "      <td>[amenstyle, amenfw19, declareyoursparkle]</td>\n",
       "    </tr>\n",
       "  </tbody>\n",
       "</table>\n",
       "</div>"
      ],
      "text/plain": [
       "         Short                                       Auto_caption  \\\n",
       "0   -PHbiexlr_  a picture of a woman with long black hair sits...   \n",
       "1   3YO1o0Rlkt  a picture of a woman with black hair and a bla...   \n",
       "2   4yqgDyxloK  a picture of a woman with black hair and a bla...   \n",
       "3  B-y2Fo8qcN_  a picture of a woman wearing a black jacket an...   \n",
       "4  B3__d73i46x  a picture of a woman in a red dress sits on a ...   \n",
       "\n",
       "                                             caption  \\\n",
       "0  Stunning Mariana Rodriguez in #amencouture. Se...   \n",
       "1  @emastokholma in Amen embroidered #dress from ...   \n",
       "2  Stunning DJ @emastokholma wears all over paill...   \n",
       "3  Crystal Pumps ✨ #AmenStyle #AmenPreSpring20 #A...   \n",
       "4  Discover our FW19 Collection on amenstyle.com ...   \n",
       "\n",
       "                                            All_text  Objectify  \\\n",
       "0  Stunning Mariana Rodriguez in #amencouture. Se...        1.0   \n",
       "1  @emastokholma in Amen embroidered #dress from ...        1.0   \n",
       "2  Stunning DJ @emastokholma wears all over paill...        1.0   \n",
       "3  Crystal Pumps ✨ #AmenStyle #AmenPreSpring20 #A...        1.0   \n",
       "4  Discover our FW19 Collection on amenstyle.com ...        1.0   \n",
       "\n",
       "                                      text_sup_clean  \\\n",
       "0  stunning mariana rodriguez in see the entire c...   \n",
       "1   in amen embroidered from the spring summer co...   \n",
       "2  stunning dj wears all over paillettes dress fr...   \n",
       "3  crystal pumps a picture of a woman wearing a b...   \n",
       "4  discover our fw collection on link in bio shop...   \n",
       "\n",
       "                                     text_deep_clean  \\\n",
       "0  stunning mariana rodriguez see entire collecti...   \n",
       "1  embroider spring summer collection discover mo...   \n",
       "2  stunning dj wear all paillette dress last ss c...   \n",
       "3  crystal pump picture woman wear black jacket h...   \n",
       "4  discover fw collection link bio shop line now ...   \n",
       "\n",
       "                                 text_deep_clean_pos  \\\n",
       "0  [stunning ADJ, mariana PROPN, rodriguez PROPN,...   \n",
       "1  [embroider VERB, spring NOUN, summer NOUN, col...   \n",
       "2  [stunning ADJ, dj ADV, wear NOUN, all ADV, pai...   \n",
       "3  [crystal NOUN, pump VERB, picture NOUN, woman ...   \n",
       "4  [discover VERB, fw PROPN, collection NOUN, lin...   \n",
       "\n",
       "                                            hashtags  \n",
       "0   [amencouture, amenstyle, ss16, womenswear, ootd]  \n",
       "1       [dress, amenstyle, ss15, emastokholma, ootd]  \n",
       "2  [dj, amenstyle, ss15, womenswear, ootd, emasto...  \n",
       "3      [amenstyle, amenprespring20, amenaccessories]  \n",
       "4          [amenstyle, amenfw19, declareyoursparkle]  "
      ]
     },
     "execution_count": 23,
     "metadata": {},
     "output_type": "execute_result"
    }
   ],
   "source": [
    "# superficial cleaning\n",
    "df['text_sup_clean'] = df['All_text'].apply(superficial_cleaning)\n",
    "\n",
    "# deep cleaning\n",
    "POS_KEEP = [\"ADJ\",\"ADV\",\"NOUN\",\"PROPN\",\"VERB\",\"NUM\"] # we do not include \"PRON\"\n",
    "df['text_deep_clean'] = df['text_sup_clean'].apply(deep_cleaning)\n",
    "df['text_deep_clean_pos'] = df['text_sup_clean'].apply(deep_cleaning_pos)\n",
    "\n",
    "# extract hashtags (if present)\n",
    "df['hashtags'] = df['All_text'].apply(get_hashtags)\n",
    "\n",
    "# display the result\n",
    "df.head()"
   ]
  },
  {
   "cell_type": "markdown",
   "metadata": {},
   "source": [
    "Captions"
   ]
  },
  {
   "cell_type": "code",
   "execution_count": 24,
   "metadata": {},
   "outputs": [
    {
     "name": "stderr",
     "output_type": "stream",
     "text": [
      "C:\\Users\\danie\\Documents\\GitHub\\network_science\\labs\\cleaning_mod.py:156: MarkupResemblesLocatorWarning: The input looks more like a filename than markup. You may want to open this file and pass the filehandle into Beautiful Soup.\n",
      "  soup = BeautifulSoup(selftext, \"html.parser\")\n"
     ]
    }
   ],
   "source": [
    "# superficial cleaning\n",
    "df['text_sup_clean_caption'] = df['caption'].apply(superficial_cleaning)\n",
    "\n",
    "# deep cleaning\n",
    "POS_KEEP = [\"ADJ\",\"ADV\",\"NOUN\",\"PROPN\",\"VERB\",\"NUM\"] # we do not include \"PRON\"\n",
    "df['text_deep_clean_caption'] = df['text_sup_clean_caption'].apply(deep_cleaning)\n",
    "df['text_deep_clean_pos_caption'] = df['text_sup_clean_caption'].apply(deep_cleaning_pos)\n",
    "\n",
    "# extract hashtags (if present)\n",
    "df['hashtags_caption'] = df['caption'].apply(get_hashtags)"
   ]
  },
  {
   "cell_type": "markdown",
   "metadata": {},
   "source": [
    "Autocaptions"
   ]
  },
  {
   "cell_type": "code",
   "execution_count": 25,
   "metadata": {},
   "outputs": [
    {
     "name": "stderr",
     "output_type": "stream",
     "text": [
      "C:\\Users\\danie\\Documents\\GitHub\\network_science\\labs\\cleaning_mod.py:156: MarkupResemblesLocatorWarning: The input looks more like a filename than markup. You may want to open this file and pass the filehandle into Beautiful Soup.\n",
      "  soup = BeautifulSoup(selftext, \"html.parser\")\n"
     ]
    }
   ],
   "source": [
    "# superficial cleaning\n",
    "df['text_sup_clean_auto'] = df['Auto_caption'].apply(superficial_cleaning)\n",
    "\n",
    "# deep cleaning\n",
    "POS_KEEP = [\"ADJ\",\"ADV\",\"NOUN\",\"PROPN\",\"VERB\",\"NUM\"] # we do not include \"PRON\"\n",
    "df['text_deep_clean_auto'] = df['text_sup_clean_auto'].apply(deep_cleaning)\n",
    "df['text_deep_clean_pos_auto'] = df['text_sup_clean_auto'].apply(deep_cleaning_pos)\n",
    "\n",
    "# extract hashtags (if present)\n",
    "#df['hashtags_auto'] = df['auto'].apply(get_hashtags)"
   ]
  },
  {
   "cell_type": "code",
   "execution_count": 26,
   "metadata": {},
   "outputs": [
    {
     "data": {
      "text/html": [
       "<div>\n",
       "<style scoped>\n",
       "    .dataframe tbody tr th:only-of-type {\n",
       "        vertical-align: middle;\n",
       "    }\n",
       "\n",
       "    .dataframe tbody tr th {\n",
       "        vertical-align: top;\n",
       "    }\n",
       "\n",
       "    .dataframe thead th {\n",
       "        text-align: right;\n",
       "    }\n",
       "</style>\n",
       "<table border=\"1\" class=\"dataframe\">\n",
       "  <thead>\n",
       "    <tr style=\"text-align: right;\">\n",
       "      <th></th>\n",
       "      <th>Short</th>\n",
       "      <th>Auto_caption</th>\n",
       "      <th>caption</th>\n",
       "      <th>All_text</th>\n",
       "      <th>Objectify</th>\n",
       "      <th>text_sup_clean</th>\n",
       "      <th>text_deep_clean</th>\n",
       "      <th>text_deep_clean_pos</th>\n",
       "      <th>hashtags</th>\n",
       "      <th>text_sup_clean_caption</th>\n",
       "      <th>text_deep_clean_caption</th>\n",
       "      <th>text_deep_clean_pos_caption</th>\n",
       "      <th>hashtags_caption</th>\n",
       "      <th>text_sup_clean_auto</th>\n",
       "      <th>text_deep_clean_auto</th>\n",
       "      <th>text_deep_clean_pos_auto</th>\n",
       "    </tr>\n",
       "  </thead>\n",
       "  <tbody>\n",
       "    <tr>\n",
       "      <th>0</th>\n",
       "      <td>-PHbiexlr_</td>\n",
       "      <td>a picture of a woman with long black hair sits...</td>\n",
       "      <td>Stunning Mariana Rodriguez in #amencouture. Se...</td>\n",
       "      <td>Stunning Mariana Rodriguez in #amencouture. Se...</td>\n",
       "      <td>1.0</td>\n",
       "      <td>stunning mariana rodriguez in see the entire c...</td>\n",
       "      <td>stunning mariana rodriguez see entire collecti...</td>\n",
       "      <td>[stunning ADJ, mariana PROPN, rodriguez PROPN,...</td>\n",
       "      <td>[amencouture, amenstyle, ss16, womenswear, ootd]</td>\n",
       "      <td>stunning mariana rodriguez in see the entire c...</td>\n",
       "      <td>stunning mariana rodriguez see entire collection</td>\n",
       "      <td>[stunning ADJ, mariana PROPN, rodriguez PROPN,...</td>\n",
       "      <td>[amencouture, amenstyle, ss16, womenswear, ootd]</td>\n",
       "      <td>a picture of a woman with long black hair sits...</td>\n",
       "      <td>picture woman long black hair sit couch front ...</td>\n",
       "      <td>[picture NOUN, woman NOUN, long ADJ, black ADJ...</td>\n",
       "    </tr>\n",
       "    <tr>\n",
       "      <th>1</th>\n",
       "      <td>3YO1o0Rlkt</td>\n",
       "      <td>a picture of a woman with black hair and a bla...</td>\n",
       "      <td>@emastokholma in Amen embroidered #dress from ...</td>\n",
       "      <td>@emastokholma in Amen embroidered #dress from ...</td>\n",
       "      <td>1.0</td>\n",
       "      <td>in amen embroidered from the spring summer co...</td>\n",
       "      <td>embroider spring summer collection discover mo...</td>\n",
       "      <td>[embroider VERB, spring NOUN, summer NOUN, col...</td>\n",
       "      <td>[dress, amenstyle, ss15, emastokholma, ootd]</td>\n",
       "      <td>in amen embroidered from the spring summer co...</td>\n",
       "      <td>embroider spring summer collection discover more</td>\n",
       "      <td>[embroider VERB, spring NOUN, summer NOUN, col...</td>\n",
       "      <td>[dress, amenstyle, ss15, emastokholma, ootd]</td>\n",
       "      <td>a picture of a woman with black hair and a bla...</td>\n",
       "      <td>picture woman black hair black tattoo arm wear...</td>\n",
       "      <td>[picture NOUN, woman NOUN, black ADJ, hair NOU...</td>\n",
       "    </tr>\n",
       "    <tr>\n",
       "      <th>2</th>\n",
       "      <td>4yqgDyxloK</td>\n",
       "      <td>a picture of a woman with black hair and a bla...</td>\n",
       "      <td>Stunning DJ @emastokholma wears all over paill...</td>\n",
       "      <td>Stunning DJ @emastokholma wears all over paill...</td>\n",
       "      <td>1.0</td>\n",
       "      <td>stunning dj wears all over paillettes dress fr...</td>\n",
       "      <td>stunning dj wear all paillette dress last ss c...</td>\n",
       "      <td>[stunning ADJ, dj ADV, wear NOUN, all ADV, pai...</td>\n",
       "      <td>[dj, amenstyle, ss15, womenswear, ootd, emasto...</td>\n",
       "      <td>stunning dj wears all over paillettes dress fr...</td>\n",
       "      <td>stunning dj wear all paillette dress last ss c...</td>\n",
       "      <td>[stunning ADJ, dj ADV, wear NOUN, all ADV, pai...</td>\n",
       "      <td>[dj, amenstyle, ss15, womenswear, ootd, emasto...</td>\n",
       "      <td>a picture of a woman with black hair and a bla...</td>\n",
       "      <td>picture woman black hair black tattoo arm pose...</td>\n",
       "      <td>[picture NOUN, woman NOUN, black ADJ, hair NOU...</td>\n",
       "    </tr>\n",
       "    <tr>\n",
       "      <th>3</th>\n",
       "      <td>B-y2Fo8qcN_</td>\n",
       "      <td>a picture of a woman wearing a black jacket an...</td>\n",
       "      <td>Crystal Pumps ✨ #AmenStyle #AmenPreSpring20 #A...</td>\n",
       "      <td>Crystal Pumps ✨ #AmenStyle #AmenPreSpring20 #A...</td>\n",
       "      <td>1.0</td>\n",
       "      <td>crystal pumps a picture of a woman wearing a b...</td>\n",
       "      <td>crystal pump picture woman wear black jacket h...</td>\n",
       "      <td>[crystal NOUN, pump VERB, picture NOUN, woman ...</td>\n",
       "      <td>[amenstyle, amenprespring20, amenaccessories]</td>\n",
       "      <td>crystal pumps</td>\n",
       "      <td>crystal pump</td>\n",
       "      <td>[crystal NOUN, pump VERB]</td>\n",
       "      <td>[amenstyle, amenprespring20, amenaccessories]</td>\n",
       "      <td>a picture of a woman wearing a black jacket an...</td>\n",
       "      <td>picture woman wear black jacket heel sit red c...</td>\n",
       "      <td>[picture NOUN, woman NOUN, wear VERB, black AD...</td>\n",
       "    </tr>\n",
       "    <tr>\n",
       "      <th>4</th>\n",
       "      <td>B3__d73i46x</td>\n",
       "      <td>a picture of a woman in a red dress sits on a ...</td>\n",
       "      <td>Discover our FW19 Collection on amenstyle.com ...</td>\n",
       "      <td>Discover our FW19 Collection on amenstyle.com ...</td>\n",
       "      <td>1.0</td>\n",
       "      <td>discover our fw collection on link in bio shop...</td>\n",
       "      <td>discover fw collection link bio shop line now ...</td>\n",
       "      <td>[discover VERB, fw PROPN, collection NOUN, lin...</td>\n",
       "      <td>[amenstyle, amenfw19, declareyoursparkle]</td>\n",
       "      <td>discover our fw collection on link in bio shop...</td>\n",
       "      <td>discover fw collection link bio shop line now</td>\n",
       "      <td>[discover VERB, fw PROPN, collection NOUN, lin...</td>\n",
       "      <td>[amenstyle, amenfw19, declareyoursparkle]</td>\n",
       "      <td>a picture of a woman in a red dress sits on a ...</td>\n",
       "      <td>picture woman red dress sit leather couch hold...</td>\n",
       "      <td>[picture NOUN, woman NOUN, red ADJ, dress NOUN...</td>\n",
       "    </tr>\n",
       "  </tbody>\n",
       "</table>\n",
       "</div>"
      ],
      "text/plain": [
       "         Short                                       Auto_caption  \\\n",
       "0   -PHbiexlr_  a picture of a woman with long black hair sits...   \n",
       "1   3YO1o0Rlkt  a picture of a woman with black hair and a bla...   \n",
       "2   4yqgDyxloK  a picture of a woman with black hair and a bla...   \n",
       "3  B-y2Fo8qcN_  a picture of a woman wearing a black jacket an...   \n",
       "4  B3__d73i46x  a picture of a woman in a red dress sits on a ...   \n",
       "\n",
       "                                             caption  \\\n",
       "0  Stunning Mariana Rodriguez in #amencouture. Se...   \n",
       "1  @emastokholma in Amen embroidered #dress from ...   \n",
       "2  Stunning DJ @emastokholma wears all over paill...   \n",
       "3  Crystal Pumps ✨ #AmenStyle #AmenPreSpring20 #A...   \n",
       "4  Discover our FW19 Collection on amenstyle.com ...   \n",
       "\n",
       "                                            All_text  Objectify  \\\n",
       "0  Stunning Mariana Rodriguez in #amencouture. Se...        1.0   \n",
       "1  @emastokholma in Amen embroidered #dress from ...        1.0   \n",
       "2  Stunning DJ @emastokholma wears all over paill...        1.0   \n",
       "3  Crystal Pumps ✨ #AmenStyle #AmenPreSpring20 #A...        1.0   \n",
       "4  Discover our FW19 Collection on amenstyle.com ...        1.0   \n",
       "\n",
       "                                      text_sup_clean  \\\n",
       "0  stunning mariana rodriguez in see the entire c...   \n",
       "1   in amen embroidered from the spring summer co...   \n",
       "2  stunning dj wears all over paillettes dress fr...   \n",
       "3  crystal pumps a picture of a woman wearing a b...   \n",
       "4  discover our fw collection on link in bio shop...   \n",
       "\n",
       "                                     text_deep_clean  \\\n",
       "0  stunning mariana rodriguez see entire collecti...   \n",
       "1  embroider spring summer collection discover mo...   \n",
       "2  stunning dj wear all paillette dress last ss c...   \n",
       "3  crystal pump picture woman wear black jacket h...   \n",
       "4  discover fw collection link bio shop line now ...   \n",
       "\n",
       "                                 text_deep_clean_pos  \\\n",
       "0  [stunning ADJ, mariana PROPN, rodriguez PROPN,...   \n",
       "1  [embroider VERB, spring NOUN, summer NOUN, col...   \n",
       "2  [stunning ADJ, dj ADV, wear NOUN, all ADV, pai...   \n",
       "3  [crystal NOUN, pump VERB, picture NOUN, woman ...   \n",
       "4  [discover VERB, fw PROPN, collection NOUN, lin...   \n",
       "\n",
       "                                            hashtags  \\\n",
       "0   [amencouture, amenstyle, ss16, womenswear, ootd]   \n",
       "1       [dress, amenstyle, ss15, emastokholma, ootd]   \n",
       "2  [dj, amenstyle, ss15, womenswear, ootd, emasto...   \n",
       "3      [amenstyle, amenprespring20, amenaccessories]   \n",
       "4          [amenstyle, amenfw19, declareyoursparkle]   \n",
       "\n",
       "                              text_sup_clean_caption  \\\n",
       "0  stunning mariana rodriguez in see the entire c...   \n",
       "1   in amen embroidered from the spring summer co...   \n",
       "2  stunning dj wears all over paillettes dress fr...   \n",
       "3                                     crystal pumps    \n",
       "4  discover our fw collection on link in bio shop...   \n",
       "\n",
       "                             text_deep_clean_caption  \\\n",
       "0   stunning mariana rodriguez see entire collection   \n",
       "1   embroider spring summer collection discover more   \n",
       "2  stunning dj wear all paillette dress last ss c...   \n",
       "3                                       crystal pump   \n",
       "4      discover fw collection link bio shop line now   \n",
       "\n",
       "                         text_deep_clean_pos_caption  \\\n",
       "0  [stunning ADJ, mariana PROPN, rodriguez PROPN,...   \n",
       "1  [embroider VERB, spring NOUN, summer NOUN, col...   \n",
       "2  [stunning ADJ, dj ADV, wear NOUN, all ADV, pai...   \n",
       "3                          [crystal NOUN, pump VERB]   \n",
       "4  [discover VERB, fw PROPN, collection NOUN, lin...   \n",
       "\n",
       "                                    hashtags_caption  \\\n",
       "0   [amencouture, amenstyle, ss16, womenswear, ootd]   \n",
       "1       [dress, amenstyle, ss15, emastokholma, ootd]   \n",
       "2  [dj, amenstyle, ss15, womenswear, ootd, emasto...   \n",
       "3      [amenstyle, amenprespring20, amenaccessories]   \n",
       "4          [amenstyle, amenfw19, declareyoursparkle]   \n",
       "\n",
       "                                 text_sup_clean_auto  \\\n",
       "0  a picture of a woman with long black hair sits...   \n",
       "1  a picture of a woman with black hair and a bla...   \n",
       "2  a picture of a woman with black hair and a bla...   \n",
       "3  a picture of a woman wearing a black jacket an...   \n",
       "4  a picture of a woman in a red dress sits on a ...   \n",
       "\n",
       "                                text_deep_clean_auto  \\\n",
       "0  picture woman long black hair sit couch front ...   \n",
       "1  picture woman black hair black tattoo arm wear...   \n",
       "2  picture woman black hair black tattoo arm pose...   \n",
       "3  picture woman wear black jacket heel sit red c...   \n",
       "4  picture woman red dress sit leather couch hold...   \n",
       "\n",
       "                            text_deep_clean_pos_auto  \n",
       "0  [picture NOUN, woman NOUN, long ADJ, black ADJ...  \n",
       "1  [picture NOUN, woman NOUN, black ADJ, hair NOU...  \n",
       "2  [picture NOUN, woman NOUN, black ADJ, hair NOU...  \n",
       "3  [picture NOUN, woman NOUN, wear VERB, black AD...  \n",
       "4  [picture NOUN, woman NOUN, red ADJ, dress NOUN...  "
      ]
     },
     "execution_count": 26,
     "metadata": {},
     "output_type": "execute_result"
    }
   ],
   "source": [
    "df.head()"
   ]
  },
  {
   "cell_type": "code",
   "execution_count": 27,
   "metadata": {},
   "outputs": [
    {
     "data": {
      "text/plain": [
       "Index(['Short', 'Auto_caption', 'caption', 'All_text', 'Objectify',\n",
       "       'text_sup_clean', 'text_deep_clean', 'text_deep_clean_pos', 'hashtags',\n",
       "       'text_sup_clean_caption', 'text_deep_clean_caption',\n",
       "       'text_deep_clean_pos_caption', 'hashtags_caption',\n",
       "       'text_sup_clean_auto', 'text_deep_clean_auto',\n",
       "       'text_deep_clean_pos_auto'],\n",
       "      dtype='object')"
      ]
     },
     "execution_count": 27,
     "metadata": {},
     "output_type": "execute_result"
    }
   ],
   "source": [
    "df.columns"
   ]
  },
  {
   "cell_type": "code",
   "execution_count": 28,
   "metadata": {},
   "outputs": [
    {
     "data": {
      "text/html": [
       "<div>\n",
       "<style scoped>\n",
       "    .dataframe tbody tr th:only-of-type {\n",
       "        vertical-align: middle;\n",
       "    }\n",
       "\n",
       "    .dataframe tbody tr th {\n",
       "        vertical-align: top;\n",
       "    }\n",
       "\n",
       "    .dataframe thead th {\n",
       "        text-align: right;\n",
       "    }\n",
       "</style>\n",
       "<table border=\"1\" class=\"dataframe\">\n",
       "  <thead>\n",
       "    <tr style=\"text-align: right;\">\n",
       "      <th></th>\n",
       "      <th>Short</th>\n",
       "      <th>Objectify</th>\n",
       "      <th>clean_caption</th>\n",
       "      <th>clean_autocaption</th>\n",
       "      <th>clean_all</th>\n",
       "    </tr>\n",
       "  </thead>\n",
       "  <tbody>\n",
       "    <tr>\n",
       "      <th>0</th>\n",
       "      <td>-PHbiexlr_</td>\n",
       "      <td>1.0</td>\n",
       "      <td>stunning mariana rodriguez see entire collection</td>\n",
       "      <td>picture woman long black hair sit couch front ...</td>\n",
       "      <td>stunning mariana rodriguez see entire collecti...</td>\n",
       "    </tr>\n",
       "    <tr>\n",
       "      <th>1</th>\n",
       "      <td>3YO1o0Rlkt</td>\n",
       "      <td>1.0</td>\n",
       "      <td>embroider spring summer collection discover more</td>\n",
       "      <td>picture woman black hair black tattoo arm wear...</td>\n",
       "      <td>embroider spring summer collection discover mo...</td>\n",
       "    </tr>\n",
       "    <tr>\n",
       "      <th>2</th>\n",
       "      <td>4yqgDyxloK</td>\n",
       "      <td>1.0</td>\n",
       "      <td>stunning dj wear all paillette dress last ss c...</td>\n",
       "      <td>picture woman black hair black tattoo arm pose...</td>\n",
       "      <td>stunning dj wear all paillette dress last ss c...</td>\n",
       "    </tr>\n",
       "    <tr>\n",
       "      <th>3</th>\n",
       "      <td>B-y2Fo8qcN_</td>\n",
       "      <td>1.0</td>\n",
       "      <td>crystal pump</td>\n",
       "      <td>picture woman wear black jacket heel sit red c...</td>\n",
       "      <td>crystal pump picture woman wear black jacket h...</td>\n",
       "    </tr>\n",
       "    <tr>\n",
       "      <th>4</th>\n",
       "      <td>B3__d73i46x</td>\n",
       "      <td>1.0</td>\n",
       "      <td>discover fw collection link bio shop line now</td>\n",
       "      <td>picture woman red dress sit leather couch hold...</td>\n",
       "      <td>discover fw collection link bio shop line now ...</td>\n",
       "    </tr>\n",
       "  </tbody>\n",
       "</table>\n",
       "</div>"
      ],
      "text/plain": [
       "         Short  Objectify                                      clean_caption  \\\n",
       "0   -PHbiexlr_        1.0   stunning mariana rodriguez see entire collection   \n",
       "1   3YO1o0Rlkt        1.0   embroider spring summer collection discover more   \n",
       "2   4yqgDyxloK        1.0  stunning dj wear all paillette dress last ss c...   \n",
       "3  B-y2Fo8qcN_        1.0                                       crystal pump   \n",
       "4  B3__d73i46x        1.0      discover fw collection link bio shop line now   \n",
       "\n",
       "                                   clean_autocaption  \\\n",
       "0  picture woman long black hair sit couch front ...   \n",
       "1  picture woman black hair black tattoo arm wear...   \n",
       "2  picture woman black hair black tattoo arm pose...   \n",
       "3  picture woman wear black jacket heel sit red c...   \n",
       "4  picture woman red dress sit leather couch hold...   \n",
       "\n",
       "                                           clean_all  \n",
       "0  stunning mariana rodriguez see entire collecti...  \n",
       "1  embroider spring summer collection discover mo...  \n",
       "2  stunning dj wear all paillette dress last ss c...  \n",
       "3  crystal pump picture woman wear black jacket h...  \n",
       "4  discover fw collection link bio shop line now ...  "
      ]
     },
     "execution_count": 28,
     "metadata": {},
     "output_type": "execute_result"
    }
   ],
   "source": [
    "df_save = df[['Short', 'Objectify','text_deep_clean_caption','text_deep_clean_auto','text_deep_clean']].copy()\n",
    "df_save.columns = ['Short', 'Objectify', 'clean_caption', 'clean_autocaption', 'clean_all']\n",
    "df_save.head()"
   ]
  },
  {
   "cell_type": "code",
   "execution_count": 29,
   "metadata": {
    "executionInfo": {
     "elapsed": 1924,
     "status": "ok",
     "timestamp": 1700665338217,
     "user": {
      "displayName": "erseghe@dei.unipd.it",
      "userId": "02226207360190315869"
     },
     "user_tz": -60
    },
    "id": "IxY0u8GyiI79"
   },
   "outputs": [],
   "source": [
    "# store the results\n",
    "out_dir = \"../0_data/\"\n",
    "out_file = \"text\"\n",
    "df_save.to_excel(out_dir+out_file+\"_clean.xlsx\", index=True)"
   ]
  },
  {
   "cell_type": "code",
   "execution_count": 30,
   "metadata": {},
   "outputs": [],
   "source": [
    "# store the results\n",
    "out_dir = \"../0_data/\"\n",
    "out_file = \"text\"\n",
    "df.to_excel(out_dir+out_file+\"_clean_large.xlsx\", index=True)"
   ]
  },
  {
   "cell_type": "markdown",
   "metadata": {
    "id": "XpH7Rx1bXOKW"
   },
   "source": [
    "# **Build an occurrence matrix for words and hashtags**"
   ]
  },
  {
   "cell_type": "code",
   "execution_count": 38,
   "metadata": {},
   "outputs": [
    {
     "data": {
      "text/html": [
       "<div>\n",
       "<style scoped>\n",
       "    .dataframe tbody tr th:only-of-type {\n",
       "        vertical-align: middle;\n",
       "    }\n",
       "\n",
       "    .dataframe tbody tr th {\n",
       "        vertical-align: top;\n",
       "    }\n",
       "\n",
       "    .dataframe thead th {\n",
       "        text-align: right;\n",
       "    }\n",
       "</style>\n",
       "<table border=\"1\" class=\"dataframe\">\n",
       "  <thead>\n",
       "    <tr style=\"text-align: right;\">\n",
       "      <th></th>\n",
       "      <th>id</th>\n",
       "      <th>Short</th>\n",
       "      <th>Auto_caption</th>\n",
       "      <th>caption</th>\n",
       "      <th>All_text</th>\n",
       "      <th>Objectify</th>\n",
       "      <th>text_sup_clean</th>\n",
       "      <th>text_deep_clean</th>\n",
       "      <th>text_deep_clean_pos</th>\n",
       "      <th>hashtags</th>\n",
       "      <th>text_sup_clean_caption</th>\n",
       "      <th>text_deep_clean_caption</th>\n",
       "      <th>text_deep_clean_pos_caption</th>\n",
       "      <th>hashtags_caption</th>\n",
       "      <th>text_sup_clean_auto</th>\n",
       "      <th>text_deep_clean_auto</th>\n",
       "      <th>text_deep_clean_pos_auto</th>\n",
       "    </tr>\n",
       "  </thead>\n",
       "  <tbody>\n",
       "    <tr>\n",
       "      <th>0</th>\n",
       "      <td>0</td>\n",
       "      <td>-PHbiexlr_</td>\n",
       "      <td>a picture of a woman with long black hair sits...</td>\n",
       "      <td>Stunning Mariana Rodriguez in #amencouture. Se...</td>\n",
       "      <td>Stunning Mariana Rodriguez in #amencouture. Se...</td>\n",
       "      <td>1.0</td>\n",
       "      <td>stunning mariana rodriguez in see the entire c...</td>\n",
       "      <td>stunning mariana rodriguez see entire collecti...</td>\n",
       "      <td>['stunning ADJ', 'mariana PROPN', 'rodriguez P...</td>\n",
       "      <td>['amencouture', 'amenstyle', 'ss16', 'womenswe...</td>\n",
       "      <td>stunning mariana rodriguez in see the entire c...</td>\n",
       "      <td>stunning mariana rodriguez see entire collection</td>\n",
       "      <td>['stunning ADJ', 'mariana PROPN', 'rodriguez P...</td>\n",
       "      <td>['amencouture', 'amenstyle', 'ss16', 'womenswe...</td>\n",
       "      <td>a picture of a woman with long black hair sits...</td>\n",
       "      <td>picture woman long black hair sit couch front ...</td>\n",
       "      <td>['picture NOUN', 'woman NOUN', 'long ADJ', 'bl...</td>\n",
       "    </tr>\n",
       "    <tr>\n",
       "      <th>1</th>\n",
       "      <td>1</td>\n",
       "      <td>3YO1o0Rlkt</td>\n",
       "      <td>a picture of a woman with black hair and a bla...</td>\n",
       "      <td>@emastokholma in Amen embroidered #dress from ...</td>\n",
       "      <td>@emastokholma in Amen embroidered #dress from ...</td>\n",
       "      <td>1.0</td>\n",
       "      <td>in amen embroidered from the spring summer co...</td>\n",
       "      <td>embroider spring summer collection discover mo...</td>\n",
       "      <td>['embroider VERB', 'spring NOUN', 'summer NOUN...</td>\n",
       "      <td>['dress', 'amenstyle', 'ss15', 'emastokholma',...</td>\n",
       "      <td>in amen embroidered from the spring summer co...</td>\n",
       "      <td>embroider spring summer collection discover more</td>\n",
       "      <td>['embroider VERB', 'spring NOUN', 'summer NOUN...</td>\n",
       "      <td>['dress', 'amenstyle', 'ss15', 'emastokholma',...</td>\n",
       "      <td>a picture of a woman with black hair and a bla...</td>\n",
       "      <td>picture woman black hair black tattoo arm wear...</td>\n",
       "      <td>['picture NOUN', 'woman NOUN', 'black ADJ', 'h...</td>\n",
       "    </tr>\n",
       "    <tr>\n",
       "      <th>2</th>\n",
       "      <td>2</td>\n",
       "      <td>4yqgDyxloK</td>\n",
       "      <td>a picture of a woman with black hair and a bla...</td>\n",
       "      <td>Stunning DJ @emastokholma wears all over paill...</td>\n",
       "      <td>Stunning DJ @emastokholma wears all over paill...</td>\n",
       "      <td>1.0</td>\n",
       "      <td>stunning dj wears all over paillettes dress fr...</td>\n",
       "      <td>stunning dj wear all paillette dress last ss c...</td>\n",
       "      <td>['stunning ADJ', 'dj ADV', 'wear NOUN', 'all A...</td>\n",
       "      <td>['dj', 'amenstyle', 'ss15', 'womenswear', 'oot...</td>\n",
       "      <td>stunning dj wears all over paillettes dress fr...</td>\n",
       "      <td>stunning dj wear all paillette dress last ss c...</td>\n",
       "      <td>['stunning ADJ', 'dj ADV', 'wear NOUN', 'all A...</td>\n",
       "      <td>['dj', 'amenstyle', 'ss15', 'womenswear', 'oot...</td>\n",
       "      <td>a picture of a woman with black hair and a bla...</td>\n",
       "      <td>picture woman black hair black tattoo arm pose...</td>\n",
       "      <td>['picture NOUN', 'woman NOUN', 'black ADJ', 'h...</td>\n",
       "    </tr>\n",
       "    <tr>\n",
       "      <th>3</th>\n",
       "      <td>3</td>\n",
       "      <td>B-y2Fo8qcN_</td>\n",
       "      <td>a picture of a woman wearing a black jacket an...</td>\n",
       "      <td>Crystal Pumps ✨ #AmenStyle #AmenPreSpring20 #A...</td>\n",
       "      <td>Crystal Pumps ✨ #AmenStyle #AmenPreSpring20 #A...</td>\n",
       "      <td>1.0</td>\n",
       "      <td>crystal pumps a picture of a woman wearing a b...</td>\n",
       "      <td>crystal pump picture woman wear black jacket h...</td>\n",
       "      <td>['crystal NOUN', 'pump VERB', 'picture NOUN', ...</td>\n",
       "      <td>['amenstyle', 'amenprespring20', 'amenaccessor...</td>\n",
       "      <td>crystal pumps</td>\n",
       "      <td>crystal pump</td>\n",
       "      <td>['crystal NOUN', 'pump VERB']</td>\n",
       "      <td>['amenstyle', 'amenprespring20', 'amenaccessor...</td>\n",
       "      <td>a picture of a woman wearing a black jacket an...</td>\n",
       "      <td>picture woman wear black jacket heel sit red c...</td>\n",
       "      <td>['picture NOUN', 'woman NOUN', 'wear VERB', 'b...</td>\n",
       "    </tr>\n",
       "    <tr>\n",
       "      <th>4</th>\n",
       "      <td>4</td>\n",
       "      <td>B3__d73i46x</td>\n",
       "      <td>a picture of a woman in a red dress sits on a ...</td>\n",
       "      <td>Discover our FW19 Collection on amenstyle.com ...</td>\n",
       "      <td>Discover our FW19 Collection on amenstyle.com ...</td>\n",
       "      <td>1.0</td>\n",
       "      <td>discover our fw collection on link in bio shop...</td>\n",
       "      <td>discover fw collection link bio shop line now ...</td>\n",
       "      <td>['discover VERB', 'fw PROPN', 'collection NOUN...</td>\n",
       "      <td>['amenstyle', 'amenfw19', 'declareyoursparkle']</td>\n",
       "      <td>discover our fw collection on link in bio shop...</td>\n",
       "      <td>discover fw collection link bio shop line now</td>\n",
       "      <td>['discover VERB', 'fw PROPN', 'collection NOUN...</td>\n",
       "      <td>['amenstyle', 'amenfw19', 'declareyoursparkle']</td>\n",
       "      <td>a picture of a woman in a red dress sits on a ...</td>\n",
       "      <td>picture woman red dress sit leather couch hold...</td>\n",
       "      <td>['picture NOUN', 'woman NOUN', 'red ADJ', 'dre...</td>\n",
       "    </tr>\n",
       "  </tbody>\n",
       "</table>\n",
       "</div>"
      ],
      "text/plain": [
       "   id        Short                                       Auto_caption  \\\n",
       "0   0   -PHbiexlr_  a picture of a woman with long black hair sits...   \n",
       "1   1   3YO1o0Rlkt  a picture of a woman with black hair and a bla...   \n",
       "2   2   4yqgDyxloK  a picture of a woman with black hair and a bla...   \n",
       "3   3  B-y2Fo8qcN_  a picture of a woman wearing a black jacket an...   \n",
       "4   4  B3__d73i46x  a picture of a woman in a red dress sits on a ...   \n",
       "\n",
       "                                             caption  \\\n",
       "0  Stunning Mariana Rodriguez in #amencouture. Se...   \n",
       "1  @emastokholma in Amen embroidered #dress from ...   \n",
       "2  Stunning DJ @emastokholma wears all over paill...   \n",
       "3  Crystal Pumps ✨ #AmenStyle #AmenPreSpring20 #A...   \n",
       "4  Discover our FW19 Collection on amenstyle.com ...   \n",
       "\n",
       "                                            All_text  Objectify  \\\n",
       "0  Stunning Mariana Rodriguez in #amencouture. Se...        1.0   \n",
       "1  @emastokholma in Amen embroidered #dress from ...        1.0   \n",
       "2  Stunning DJ @emastokholma wears all over paill...        1.0   \n",
       "3  Crystal Pumps ✨ #AmenStyle #AmenPreSpring20 #A...        1.0   \n",
       "4  Discover our FW19 Collection on amenstyle.com ...        1.0   \n",
       "\n",
       "                                      text_sup_clean  \\\n",
       "0  stunning mariana rodriguez in see the entire c...   \n",
       "1   in amen embroidered from the spring summer co...   \n",
       "2  stunning dj wears all over paillettes dress fr...   \n",
       "3  crystal pumps a picture of a woman wearing a b...   \n",
       "4  discover our fw collection on link in bio shop...   \n",
       "\n",
       "                                     text_deep_clean  \\\n",
       "0  stunning mariana rodriguez see entire collecti...   \n",
       "1  embroider spring summer collection discover mo...   \n",
       "2  stunning dj wear all paillette dress last ss c...   \n",
       "3  crystal pump picture woman wear black jacket h...   \n",
       "4  discover fw collection link bio shop line now ...   \n",
       "\n",
       "                                 text_deep_clean_pos  \\\n",
       "0  ['stunning ADJ', 'mariana PROPN', 'rodriguez P...   \n",
       "1  ['embroider VERB', 'spring NOUN', 'summer NOUN...   \n",
       "2  ['stunning ADJ', 'dj ADV', 'wear NOUN', 'all A...   \n",
       "3  ['crystal NOUN', 'pump VERB', 'picture NOUN', ...   \n",
       "4  ['discover VERB', 'fw PROPN', 'collection NOUN...   \n",
       "\n",
       "                                            hashtags  \\\n",
       "0  ['amencouture', 'amenstyle', 'ss16', 'womenswe...   \n",
       "1  ['dress', 'amenstyle', 'ss15', 'emastokholma',...   \n",
       "2  ['dj', 'amenstyle', 'ss15', 'womenswear', 'oot...   \n",
       "3  ['amenstyle', 'amenprespring20', 'amenaccessor...   \n",
       "4    ['amenstyle', 'amenfw19', 'declareyoursparkle']   \n",
       "\n",
       "                              text_sup_clean_caption  \\\n",
       "0  stunning mariana rodriguez in see the entire c...   \n",
       "1   in amen embroidered from the spring summer co...   \n",
       "2  stunning dj wears all over paillettes dress fr...   \n",
       "3                                     crystal pumps    \n",
       "4  discover our fw collection on link in bio shop...   \n",
       "\n",
       "                             text_deep_clean_caption  \\\n",
       "0   stunning mariana rodriguez see entire collection   \n",
       "1   embroider spring summer collection discover more   \n",
       "2  stunning dj wear all paillette dress last ss c...   \n",
       "3                                       crystal pump   \n",
       "4      discover fw collection link bio shop line now   \n",
       "\n",
       "                         text_deep_clean_pos_caption  \\\n",
       "0  ['stunning ADJ', 'mariana PROPN', 'rodriguez P...   \n",
       "1  ['embroider VERB', 'spring NOUN', 'summer NOUN...   \n",
       "2  ['stunning ADJ', 'dj ADV', 'wear NOUN', 'all A...   \n",
       "3                      ['crystal NOUN', 'pump VERB']   \n",
       "4  ['discover VERB', 'fw PROPN', 'collection NOUN...   \n",
       "\n",
       "                                    hashtags_caption  \\\n",
       "0  ['amencouture', 'amenstyle', 'ss16', 'womenswe...   \n",
       "1  ['dress', 'amenstyle', 'ss15', 'emastokholma',...   \n",
       "2  ['dj', 'amenstyle', 'ss15', 'womenswear', 'oot...   \n",
       "3  ['amenstyle', 'amenprespring20', 'amenaccessor...   \n",
       "4    ['amenstyle', 'amenfw19', 'declareyoursparkle']   \n",
       "\n",
       "                                 text_sup_clean_auto  \\\n",
       "0  a picture of a woman with long black hair sits...   \n",
       "1  a picture of a woman with black hair and a bla...   \n",
       "2  a picture of a woman with black hair and a bla...   \n",
       "3  a picture of a woman wearing a black jacket an...   \n",
       "4  a picture of a woman in a red dress sits on a ...   \n",
       "\n",
       "                                text_deep_clean_auto  \\\n",
       "0  picture woman long black hair sit couch front ...   \n",
       "1  picture woman black hair black tattoo arm wear...   \n",
       "2  picture woman black hair black tattoo arm pose...   \n",
       "3  picture woman wear black jacket heel sit red c...   \n",
       "4  picture woman red dress sit leather couch hold...   \n",
       "\n",
       "                            text_deep_clean_pos_auto  \n",
       "0  ['picture NOUN', 'woman NOUN', 'long ADJ', 'bl...  \n",
       "1  ['picture NOUN', 'woman NOUN', 'black ADJ', 'h...  \n",
       "2  ['picture NOUN', 'woman NOUN', 'black ADJ', 'h...  \n",
       "3  ['picture NOUN', 'woman NOUN', 'wear VERB', 'b...  \n",
       "4  ['picture NOUN', 'woman NOUN', 'red ADJ', 'dre...  "
      ]
     },
     "execution_count": 38,
     "metadata": {},
     "output_type": "execute_result"
    }
   ],
   "source": [
    "# store the results\n",
    "dir = \"../0_data/\"\n",
    "file = \"text\"\n",
    "df = pd.read_excel(dir+file+\"_clean_large.xlsx\")\n",
    "df.rename(columns={'Unnamed: 0':'id'}, inplace = True)\n",
    "df.head()"
   ]
  },
  {
   "cell_type": "code",
   "execution_count": 39,
   "metadata": {
    "executionInfo": {
     "elapsed": 10,
     "status": "ok",
     "timestamp": 1700665338217,
     "user": {
      "displayName": "erseghe@dei.unipd.it",
      "userId": "02226207360190315869"
     },
     "user_tz": -60
    },
    "id": "r6rjVGhaD9w8"
   },
   "outputs": [],
   "source": [
    "# collection of words\n",
    "words = np.unique([item for sublist in df['text_deep_clean_pos'] for item in sublist])\n",
    "# words dictionary\n",
    "words_dict = dict(zip(words,range(len(words))))\n",
    "# occurrence matrix for words\n",
    "Mwd = csr_matrix((len(words_dict), len(df)), dtype = np.int8).toarray()\n",
    "for i in range(len(df)):\n",
    "  for j in df['text_deep_clean_pos'][i]:\n",
    "    Mwd[words_dict[j],i] += 1"
   ]
  },
  {
   "cell_type": "code",
   "execution_count": 40,
   "metadata": {
    "executionInfo": {
     "elapsed": 9,
     "status": "ok",
     "timestamp": 1700665338218,
     "user": {
      "displayName": "erseghe@dei.unipd.it",
      "userId": "02226207360190315869"
     },
     "user_tz": -60
    },
    "id": "OCvNgX_bk_t0"
   },
   "outputs": [],
   "source": [
    "# collection of hashtags\n",
    "hashtags = np.unique([item for sublist in df['hashtags'] for item in sublist])\n",
    "# add the # sign\n",
    "hashtags2 = np.unique([\"#\"+item for sublist in df['hashtags'] for item in sublist])\n",
    "# hashtags dictionary\n",
    "hashtags_dict = dict(zip(hashtags,range(len(hashtags))))\n",
    "# occurrence matrix for hashtags\n",
    "Mhd = csr_matrix((len(hashtags_dict), len(df)), dtype = np.int8).toarray()\n",
    "for i in range(len(df)):\n",
    "  for j in df['hashtags'][i]:\n",
    "    Mhd[hashtags_dict[j],i] += 1"
   ]
  },
  {
   "cell_type": "code",
   "execution_count": 41,
   "metadata": {
    "executionInfo": {
     "elapsed": 9,
     "status": "ok",
     "timestamp": 1700665338218,
     "user": {
      "displayName": "erseghe@dei.unipd.it",
      "userId": "02226207360190315869"
     },
     "user_tz": -60
    },
    "id": "Y3F2bC9YlSni"
   },
   "outputs": [],
   "source": [
    "# join words and hashtags\n",
    "Mwd = np.vstack((Mwd, Mhd)) # in one occurrence matrix\n",
    "words = np.hstack((words, hashtags2)) # in one word+hashtags list\n",
    "documents = np.array(df[\"id\"].tolist()) # further collect documents names"
   ]
  },
  {
   "cell_type": "markdown",
   "metadata": {
    "id": "vmy5Kb_fl3Hm"
   },
   "source": [
    "# **Remove least occurring words**"
   ]
  },
  {
   "cell_type": "code",
   "execution_count": 42,
   "metadata": {
    "colab": {
     "base_uri": "https://localhost:8080/",
     "height": 430
    },
    "executionInfo": {
     "elapsed": 2502,
     "status": "ok",
     "timestamp": 1700665340712,
     "user": {
      "displayName": "erseghe@dei.unipd.it",
      "userId": "02226207360190315869"
     },
     "user_tz": -60
    },
    "id": "Bf4HKA6ZlrJH",
    "outputId": "20a41d8b-d8ff-4a4e-c24c-bd9957c2f470"
   },
   "outputs": [
    {
     "data": {
      "image/png": "[encoded data removed]",
      "text/plain": [
       "<Figure size 640x480 with 1 Axes>"
      ]
     },
     "metadata": {},
     "output_type": "display_data"
    }
   ],
   "source": [
    "# display word occurrences first\n",
    "plt.figure()\n",
    "plt.semilogy(-np.sort(-np.sum(Mwd,axis=1)))\n",
    "plt.savefig(out_dir+out_file+\"_statistics.png\")"
   ]
  },
  {
   "cell_type": "code",
   "execution_count": 11,
   "metadata": {
    "colab": {
     "base_uri": "https://localhost:8080/",
     "height": 35
    },
    "executionInfo": {
     "elapsed": 10,
     "status": "ok",
     "timestamp": 1700665340712,
     "user": {
      "displayName": "erseghe@dei.unipd.it",
      "userId": "02226207360190315869"
     },
     "user_tz": -60
    },
    "id": "_JfHEWqPmX1t",
    "outputId": "e3718677-b310-4dc8-e9b7-c15bb86d0b7e"
   },
   "outputs": [
    {
     "data": {
      "text/plain": [
       "(620, 280)"
      ]
     },
     "metadata": {},
     "output_type": "display_data"
    }
   ],
   "source": [
    "# remove words that are used once or twice\n",
    "select = (np.sum(Mwd,axis=1)>2)\n",
    "Mwd = Mwd[select,:]\n",
    "words = words[select]\n",
    "# remove documents that do not contain words\n",
    "select = (np.sum(Mwd,axis=0)>0)\n",
    "Mwd = Mwd[:,select]\n",
    "documents = documents[select]\n",
    "# display final matrix size\n",
    "display(Mwd.shape)"
   ]
  },
  {
   "cell_type": "code",
   "execution_count": 12,
   "metadata": {
    "executionInfo": {
     "elapsed": 9,
     "status": "ok",
     "timestamp": 1700665340713,
     "user": {
      "displayName": "erseghe@dei.unipd.it",
      "userId": "02226207360190315869"
     },
     "user_tz": -60
    },
    "id": "AAmZJVommoy5"
   },
   "outputs": [],
   "source": [
    "# store the result\n",
    "pickle.dump([Mwd,words,documents], open(out_dir+out_file+\"_occurrences.p\", \"wb\"))\n",
    "# c,d,e = pickle.load(open(out_dir+out_file+\"_occurrences.p\",\"rb\"))"
   ]
  }
 ],
 "metadata": {
  "colab": {
   "authorship_tag": "ABX9TyPbpZYjrcPH+878mQiDNhaK",
   "mount_file_id": "1KOIkmV8O9rUMeTr2iElufzGUgNDSdMcc",
   "provenance": [
    {
     "file_id": "1Ib1cmWISMrAbj8sdEPagtguHoKMpLyO0",
     "timestamp": 1689695128493
    }
   ]
  },
  "kernelspec": {
   "display_name": "Python 3 (ipykernel)",
   "language": "python",
   "name": "python3"
  },
  "language_info": {
   "codemirror_mode": {
    "name": "ipython",
    "version": 3
   },
   "file_extension": ".py",
   "mimetype": "text/x-python",
   "name": "python",
   "nbconvert_exporter": "python",
   "pygments_lexer": "ipython3",
   "version": "3.11.5"
  }
 },
 "nbformat": 4,
 "nbformat_minor": 4
}
