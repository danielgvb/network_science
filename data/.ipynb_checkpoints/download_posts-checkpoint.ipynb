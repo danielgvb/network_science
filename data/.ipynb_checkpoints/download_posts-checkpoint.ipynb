{
 "cells": [
  {
   "cell_type": "code",
   "execution_count": 1,
   "id": "c7de8016-3369-4245-9559-2a6ac1917c1d",
   "metadata": {},
   "outputs": [],
   "source": [
    "import pandas as pd\n",
    "import numpy as np\n",
    "import matplotlib.pyplot as plt\n",
    "import seaborn as sns"
   ]
  },
  {
   "cell_type": "code",
   "execution_count": 2,
   "id": "c679c2f6-7897-4803-903d-3d2aabdeab64",
   "metadata": {},
   "outputs": [
    {
     "data": {
      "text/html": [
       "<div>\n",
       "<style scoped>\n",
       "    .dataframe tbody tr th:only-of-type {\n",
       "        vertical-align: middle;\n",
       "    }\n",
       "\n",
       "    .dataframe tbody tr th {\n",
       "        vertical-align: top;\n",
       "    }\n",
       "\n",
       "    .dataframe thead th {\n",
       "        text-align: right;\n",
       "    }\n",
       "</style>\n",
       "<table border=\"1\" class=\"dataframe\">\n",
       "  <thead>\n",
       "    <tr style=\"text-align: right;\">\n",
       "      <th></th>\n",
       "      <th>id</th>\n",
       "      <th>link</th>\n",
       "      <th>Objectify (yes or no)</th>\n",
       "    </tr>\n",
       "  </thead>\n",
       "  <tbody>\n",
       "    <tr>\n",
       "      <th>0</th>\n",
       "      <td>1</td>\n",
       "      <td>https://www.instagram.com/p/CzTyW00KYzC/</td>\n",
       "      <td>1.0</td>\n",
       "    </tr>\n",
       "    <tr>\n",
       "      <th>1</th>\n",
       "      <td>2</td>\n",
       "      <td>https://www.instagram.com/p/C0PzOJxhEv7/</td>\n",
       "      <td>0.0</td>\n",
       "    </tr>\n",
       "    <tr>\n",
       "      <th>2</th>\n",
       "      <td>3</td>\n",
       "      <td>https://www.instagram.com/p/CzxRQd0tbV6/</td>\n",
       "      <td>0.0</td>\n",
       "    </tr>\n",
       "    <tr>\n",
       "      <th>3</th>\n",
       "      <td>4</td>\n",
       "      <td>https://www.instagram.com/p/CzZIXBVMWdZ/?img_i...</td>\n",
       "      <td>1.0</td>\n",
       "    </tr>\n",
       "    <tr>\n",
       "      <th>4</th>\n",
       "      <td>5</td>\n",
       "      <td>https://www.instagram.com/p/CzZIXBVMWdZ/?img_i...</td>\n",
       "      <td>1.0</td>\n",
       "    </tr>\n",
       "  </tbody>\n",
       "</table>\n",
       "</div>"
      ],
      "text/plain": [
       "   id                                               link  \\\n",
       "0   1           https://www.instagram.com/p/CzTyW00KYzC/   \n",
       "1   2           https://www.instagram.com/p/C0PzOJxhEv7/   \n",
       "2   3           https://www.instagram.com/p/CzxRQd0tbV6/   \n",
       "3   4  https://www.instagram.com/p/CzZIXBVMWdZ/?img_i...   \n",
       "4   5  https://www.instagram.com/p/CzZIXBVMWdZ/?img_i...   \n",
       "\n",
       "   Objectify (yes or no)  \n",
       "0                    1.0  \n",
       "1                    0.0  \n",
       "2                    0.0  \n",
       "3                    1.0  \n",
       "4                    1.0  "
      ]
     },
     "execution_count": 2,
     "metadata": {},
     "output_type": "execute_result"
    }
   ],
   "source": [
    "df_links = pd.read_excel('db_prod.xlsx')\n",
    "df_links.head()"
   ]
  },
  {
   "cell_type": "code",
   "execution_count": 3,
   "id": "12c8a4c1-d2bf-4aaf-88f2-b35ae97ffd2c",
   "metadata": {},
   "outputs": [],
   "source": [
    "df_links.dropna(inplace = True)"
   ]
  },
  {
   "cell_type": "code",
   "execution_count": 4,
   "id": "20a82956-b234-4179-9464-d9d57b71a10c",
   "metadata": {},
   "outputs": [
    {
     "data": {
      "text/plain": [
       "0               https://www.instagram.com/p/CzTyW00KYzC/\n",
       "1               https://www.instagram.com/p/C0PzOJxhEv7/\n",
       "2               https://www.instagram.com/p/CzxRQd0tbV6/\n",
       "3      https://www.instagram.com/p/CzZIXBVMWdZ/?img_i...\n",
       "4      https://www.instagram.com/p/CzZIXBVMWdZ/?img_i...\n",
       "                             ...                        \n",
       "278    https://www.instagram.com/p/Cy3AwyyMlvd/?utm_s...\n",
       "279    https://www.instagram.com/p/CystloQtc3B/?utm_s...\n",
       "280    https://www.instagram.com/p/CxnMNwKsphQ/?utm_s...\n",
       "281    https://www.instagram.com/p/Cu6q25Us_XC/?utm_s...\n",
       "282    https://www.instagram.com/p/CtjBFvLtulX/?utm_s...\n",
       "Name: link, Length: 282, dtype: object"
      ]
     },
     "execution_count": 4,
     "metadata": {},
     "output_type": "execute_result"
    }
   ],
   "source": [
    "links = df_links['link']\n",
    "links"
   ]
  },
  {
   "cell_type": "code",
   "execution_count": 5,
   "id": "06fe4973-55b2-4689-9ac6-dfbe4dab7a0f",
   "metadata": {},
   "outputs": [
    {
     "data": {
      "text/plain": [
       "259"
      ]
     },
     "execution_count": 5,
     "metadata": {},
     "output_type": "execute_result"
    }
   ],
   "source": [
    "import os\n",
    "\n",
    "# Get the current working directory\n",
    "current_directory = os.getcwd()\n",
    "current_directory\n",
    "# Specify the folder path you want to search for text files in\n",
    "folder_path = current_directory + '\\\\downloaded_posts'\n",
    "\n",
    "# List all files in the folder\n",
    "files = os.listdir(folder_path)\n",
    "\n",
    "# Filter out only the text files (files with a .txt extension)\n",
    "txt_files = [file for file in files if file.endswith('.txt')]\n",
    "len(txt_files)"
   ]
  },
  {
   "cell_type": "markdown",
   "id": "c6d9a656-07d9-49a4-af5e-6a81253f0447",
   "metadata": {},
   "source": [
    "### Instaloader"
   ]
  },
  {
   "cell_type": "code",
   "execution_count": 7,
   "id": "d3ffe59c-86aa-4e9d-b4ab-633180016495",
   "metadata": {},
   "outputs": [],
   "source": [
    "import instaloader\n",
    "from instaloader.exceptions import BadResponseException"
   ]
  },
  {
   "cell_type": "code",
   "execution_count": 8,
   "id": "6e4d45b4-c268-4b49-a378-d21577307f84",
   "metadata": {},
   "outputs": [
    {
     "ename": "NameError",
     "evalue": "name 'id_to_post' is not defined",
     "output_type": "error",
     "traceback": [
      "\u001b[1;31m---------------------------------------------------------------------------\u001b[0m",
      "\u001b[1;31mNameError\u001b[0m                                 Traceback (most recent call last)",
      "Cell \u001b[1;32mIn[8], line 13\u001b[0m\n\u001b[0;32m     10\u001b[0m id_to_filename \u001b[38;5;241m=\u001b[39m {}\n\u001b[0;32m     12\u001b[0m \u001b[38;5;66;03m# Iterate over each item in your existing dictionary\u001b[39;00m\n\u001b[1;32m---> 13\u001b[0m \u001b[38;5;28;01mfor\u001b[39;00m \u001b[38;5;28mid\u001b[39m, post \u001b[38;5;129;01min\u001b[39;00m id_to_post\u001b[38;5;241m.\u001b[39mitems():\n\u001b[0;32m     14\u001b[0m     \u001b[38;5;66;03m# Extract the shortcode from the Post object\u001b[39;00m\n\u001b[0;32m     15\u001b[0m     shortcode \u001b[38;5;241m=\u001b[39m post\u001b[38;5;241m.\u001b[39mshortcode\n\u001b[0;32m     17\u001b[0m     \u001b[38;5;66;03m# Search for the corresponding file in the download folder\u001b[39;00m\n",
      "\u001b[1;31mNameError\u001b[0m: name 'id_to_post' is not defined"
     ]
    }
   ],
   "source": [
    "import os\n",
    "ids = df_links['id']\n",
    "# Initialize a dictionary to map custom IDs to corresponding post names\n",
    "custom_id_to_post_name = {}\n",
    "\n",
    "# Path to the folder where posts are downloaded\n",
    "download_folder = 'downloaded_posts'\n",
    "\n",
    "# New dictionary to hold the mapping of IDs to actual filenames\n",
    "id_to_filename = {}\n",
    "\n",
    "# Iterate over each item in your existing dictionary\n",
    "for id, post in id_to_post.items():\n",
    "    # Extract the shortcode from the Post object\n",
    "    shortcode = post.shortcode\n",
    "\n",
    "    # Search for the corresponding file in the download folder\n",
    "    for filename in os.listdir(download_folder):\n",
    "        if filename.startswith(shortcode):\n",
    "            # If a matching file is found, map the ID to the actual filename\n",
    "            id_to_filename[id] = filename\n",
    "            break\n",
    "\n",
    "# Now, id_to_filename contains the mapping of IDs to actual filenames\n"
   ]
  },
  {
   "cell_type": "code",
   "execution_count": 30,
   "id": "39c4775a-c76f-4c92-8019-2c2845bb2f9d",
   "metadata": {},
   "outputs": [
    {
     "name": "stderr",
     "output_type": "stream",
     "text": [
      " 32%|█████████████████████████▌                                                       | 89/282 [06:25<10:54,  3.39s/it]"
     ]
    },
    {
     "name": "stdout",
     "output_type": "stream",
     "text": [
      "Could not fetch metadata for https://www.instagram.com/p/C0UvM2UNU3w/?img_index=2. Skipping...\n"
     ]
    },
    {
     "name": "stderr",
     "output_type": "stream",
     "text": [
      " 32%|█████████████████████████▊                                                       | 90/282 [06:26<08:54,  2.78s/it]"
     ]
    },
    {
     "name": "stdout",
     "output_type": "stream",
     "text": [
      "Could not fetch metadata for https://www.instagram.com/p/C0H-DQlNFD8/?img_index=2. Skipping...\n"
     ]
    },
    {
     "name": "stderr",
     "output_type": "stream",
     "text": [
      " 32%|██████████████████████████▏                                                      | 91/282 [06:27<07:24,  2.33s/it]"
     ]
    },
    {
     "name": "stdout",
     "output_type": "stream",
     "text": [
      "Could not fetch metadata for https://www.instagram.com/p/C0H9dc8N_kZ/?img_index=2. Skipping...\n"
     ]
    },
    {
     "name": "stderr",
     "output_type": "stream",
     "text": [
      "100%|███████████████████████████████████████████████████████████████████████████████▋| 281/282 [19:57<00:04,  4.26s/it]\n"
     ]
    }
   ],
   "source": [
    "ids = df_links['id']\n",
    "# Initialize a dictionary to map custom IDs to corresponding post names\n",
    "custom_id_to_post_name = {}\n",
    "\n",
    "# ... [Your existing code for setup and loading the list_downloaded] ...\n",
    "\n",
    "\n",
    "for custom_id, link in zip(list_ids, tqdm(links)):\n",
    "    try:\n",
    "        post_link = link\n",
    "        post = instaloader.Post.from_shortcode(L.context, post_link.split('/')[-2])\n",
    "\n",
    "        if post not in list_downloaded:\n",
    "            # Download the post\n",
    "            L.download_post(post, target=download_folder)\n",
    "            list_downloaded.append(post)\n",
    "\n",
    "            # Update the dictionary with the custom ID and post name\n",
    "            custom_id_to_post_name[custom_id] = post.shortcode\n",
    "\n",
    "    except BadResponseException:\n",
    "        print(f\"Could not fetch metadata for {link}. Skipping...\")\n",
    "        continue\n",
    "    except Exception as e:\n",
    "        print(f\"An error occurred: {e}\")\n",
    "        continue\n",
    "\n",
    "    time.sleep(2)"
   ]
  },
  {
   "cell_type": "code",
   "execution_count": 13,
   "id": "4a0d6b0d-3b8a-45b1-beda-d659b67613e4",
   "metadata": {},
   "outputs": [
    {
     "name": "stderr",
     "output_type": "stream",
     "text": [
      "  0%|                                                                                          | 0/282 [00:00<?, ?it/s]"
     ]
    },
    {
     "name": "stdout",
     "output_type": "stream",
     "text": [
      "downloaded_posts\\2023-11-06_15-12-10_UTC.jpg exists [A golden fantasy. #rabanneHM …] unchanged json "
     ]
    },
    {
     "name": "stderr",
     "output_type": "stream",
     "text": [
      "  0%|▎                                                                                 | 1/282 [00:03<15:16,  3.26s/it]"
     ]
    },
    {
     "name": "stdout",
     "output_type": "stream",
     "text": [
      "\n",
      "downloaded_posts\\2023-11-29_22-34-09_UTC.jpg exists [El denim, ¡siempre el protago…] unchanged json "
     ]
    },
    {
     "name": "stderr",
     "output_type": "stream",
     "text": [
      "  1%|▌                                                                                 | 2/282 [00:11<28:48,  6.17s/it]"
     ]
    },
    {
     "name": "stdout",
     "output_type": "stream",
     "text": [
      "\n",
      "downloaded_posts\\2023-11-18_02-00-09_UTC.jpg exists [Fresh goodies 🫶  ¿Qué tal est…] unchanged json "
     ]
    },
    {
     "name": "stderr",
     "output_type": "stream",
     "text": [
      "  1%|▊                                                                                 | 3/282 [00:13<20:51,  4.49s/it]"
     ]
    },
    {
     "name": "stdout",
     "output_type": "stream",
     "text": [
      "\n",
      "downloaded_posts\\2023-11-08_17-00-38_UTC_1.jpg exists downloaded_posts\\2023-11-08_17-00-38_UTC_2.jpg exists downloaded_posts\\2023-11-08_17-00-38_UTC_3.jpg exists downloaded_posts\\2023-11-08_17-00-38_UTC_4.jpg exists downloaded_posts\\2023-11-08_17-00-38_UTC_5.jpg exists [”GUIRLANDE” with @kendalljenn…] unchanged json "
     ]
    },
    {
     "name": "stderr",
     "output_type": "stream",
     "text": [
      "  1%|█▏                                                                                | 4/282 [00:15<14:55,  3.22s/it]"
     ]
    },
    {
     "name": "stdout",
     "output_type": "stream",
     "text": [
      "\n",
      "downloaded_posts\\2023-11-08_17-00-38_UTC_1.jpg exists downloaded_posts\\2023-11-08_17-00-38_UTC_2.jpg exists downloaded_posts\\2023-11-08_17-00-38_UTC_3.jpg exists downloaded_posts\\2023-11-08_17-00-38_UTC_4.jpg exists downloaded_posts\\2023-11-08_17-00-38_UTC_5.jpg exists [”GUIRLANDE” with @kendalljenn…] unchanged json "
     ]
    },
    {
     "name": "stderr",
     "output_type": "stream",
     "text": [
      "  2%|█▍                                                                                | 5/282 [00:19<16:51,  3.65s/it]"
     ]
    },
    {
     "name": "stdout",
     "output_type": "stream",
     "text": [
      "\n",
      "downloaded_posts\\2023-11-08_17-00-38_UTC_1.jpg exists downloaded_posts\\2023-11-08_17-00-38_UTC_2.jpg exists downloaded_posts\\2023-11-08_17-00-38_UTC_3.jpg exists downloaded_posts\\2023-11-08_17-00-38_UTC_4.jpg exists downloaded_posts\\2023-11-08_17-00-38_UTC_5.jpg exists [”GUIRLANDE” with @kendalljenn…] unchanged json "
     ]
    },
    {
     "name": "stderr",
     "output_type": "stream",
     "text": [
      "  2%|█▋                                                                                | 6/282 [00:21<14:23,  3.13s/it]"
     ]
    },
    {
     "name": "stdout",
     "output_type": "stream",
     "text": [
      "\n",
      "downloaded_posts\\2023-11-08_17-00-38_UTC_1.jpg exists downloaded_posts\\2023-11-08_17-00-38_UTC_2.jpg exists downloaded_posts\\2023-11-08_17-00-38_UTC_3.jpg exists downloaded_posts\\2023-11-08_17-00-38_UTC_4.jpg exists downloaded_posts\\2023-11-08_17-00-38_UTC_5.jpg exists [”GUIRLANDE” with @kendalljenn…] unchanged json "
     ]
    },
    {
     "name": "stderr",
     "output_type": "stream",
     "text": [
      "  2%|██                                                                                | 7/282 [00:24<13:00,  2.84s/it]"
     ]
    },
    {
     "name": "stdout",
     "output_type": "stream",
     "text": [
      "\n",
      "downloaded_posts\\2023-11-06_17-00-06_UTC_1.jpg exists downloaded_posts\\2023-11-06_17-00-06_UTC_1.mp4 exists downloaded_posts\\2023-11-06_17-00-06_UTC_2.jpg exists downloaded_posts\\2023-11-06_17-00-06_UTC_3.jpg exists downloaded_posts\\2023-11-06_17-00-06_UTC_4.jpg exists downloaded_posts\\2023-11-06_17-00-06_UTC_5.jpg exists [“GUIRLANDE” with @kendalljenn…] unchanged json "
     ]
    },
    {
     "name": "stderr",
     "output_type": "stream",
     "text": [
      "  3%|██▎                                                                               | 8/282 [00:25<10:22,  2.27s/it]"
     ]
    },
    {
     "name": "stdout",
     "output_type": "stream",
     "text": [
      "\n",
      "downloaded_posts\\2023-11-05_16-57-33_UTC.jpg exists [“GUIRLANDE” with @kendalljenn…] unchanged json "
     ]
    },
    {
     "name": "stderr",
     "output_type": "stream",
     "text": [
      "  3%|██▌                                                                               | 9/282 [00:27<10:25,  2.29s/it]"
     ]
    },
    {
     "name": "stdout",
     "output_type": "stream",
     "text": [
      "\n",
      "downloaded_posts\\2023-09-26_16-01-17_UTC_1.jpg exists downloaded_posts\\2023-09-26_16-01-17_UTC_2.jpg exists downloaded_posts\\2023-09-26_16-01-17_UTC_3.jpg exists downloaded_posts\\2023-09-26_16-01-17_UTC_4.jpg exists downloaded_posts\\2023-09-26_16-01-17_UTC_5.jpg exists downloaded_posts\\2023-09-26_16-01-17_UTC_6.jpg exists downloaded_posts\\2023-09-26_16-01-17_UTC_7.jpg exists downloaded_posts\\2023-09-26_16-01-17_UTC_8.jpg exists downloaded_posts\\2023-09-26_16-01-17_UTC_9.jpg exists downloaded_posts\\2023-09-26_16-01-17_UTC_10.jpg exists [\"LE SOIR\" IS OUT -  EVENING E…] unchanged json "
     ]
    },
    {
     "name": "stderr",
     "output_type": "stream",
     "text": [
      "  4%|██▊                                                                              | 10/282 [00:33<16:16,  3.59s/it]"
     ]
    },
    {
     "name": "stdout",
     "output_type": "stream",
     "text": [
      "\n",
      "downloaded_posts\\2023-09-26_16-01-17_UTC_1.jpg exists downloaded_posts\\2023-09-26_16-01-17_UTC_2.jpg exists downloaded_posts\\2023-09-26_16-01-17_UTC_3.jpg exists downloaded_posts\\2023-09-26_16-01-17_UTC_4.jpg exists downloaded_posts\\2023-09-26_16-01-17_UTC_5.jpg exists downloaded_posts\\2023-09-26_16-01-17_UTC_6.jpg exists downloaded_posts\\2023-09-26_16-01-17_UTC_7.jpg exists downloaded_posts\\2023-09-26_16-01-17_UTC_8.jpg exists downloaded_posts\\2023-09-26_16-01-17_UTC_9.jpg exists downloaded_posts\\2023-09-26_16-01-17_UTC_10.jpg exists [\"LE SOIR\" IS OUT -  EVENING E…] unchanged json "
     ]
    },
    {
     "name": "stderr",
     "output_type": "stream",
     "text": [
      "  4%|███▏                                                                             | 11/282 [00:34<12:39,  2.80s/it]"
     ]
    },
    {
     "name": "stdout",
     "output_type": "stream",
     "text": [
      "\n",
      "downloaded_posts\\2023-09-22_12-10-58_UTC_1.jpg exists downloaded_posts\\2023-09-22_12-10-58_UTC_2.jpg exists downloaded_posts\\2023-09-22_12-10-58_UTC_3.jpg exists downloaded_posts\\2023-09-22_12-10-58_UTC_4.jpg exists downloaded_posts\\2023-09-22_12-10-58_UTC_5.jpg exists downloaded_posts\\2023-09-22_12-10-58_UTC_6.jpg exists downloaded_posts\\2023-09-22_12-10-58_UTC_7.jpg exists [So happy of this project with…] unchanged json "
     ]
    },
    {
     "name": "stderr",
     "output_type": "stream",
     "text": [
      "  4%|███▍                                                                             | 12/282 [00:36<10:33,  2.35s/it]"
     ]
    },
    {
     "name": "stdout",
     "output_type": "stream",
     "text": [
      "\n",
      "downloaded_posts\\2023-09-22_12-10-58_UTC_1.jpg exists downloaded_posts\\2023-09-22_12-10-58_UTC_2.jpg exists downloaded_posts\\2023-09-22_12-10-58_UTC_3.jpg exists downloaded_posts\\2023-09-22_12-10-58_UTC_4.jpg exists downloaded_posts\\2023-09-22_12-10-58_UTC_5.jpg exists downloaded_posts\\2023-09-22_12-10-58_UTC_6.jpg exists downloaded_posts\\2023-09-22_12-10-58_UTC_7.jpg exists [So happy of this project with…] unchanged json "
     ]
    },
    {
     "name": "stderr",
     "output_type": "stream",
     "text": [
      "  5%|███▋                                                                             | 13/282 [00:40<12:49,  2.86s/it]"
     ]
    },
    {
     "name": "stdout",
     "output_type": "stream",
     "text": [
      "\n",
      "downloaded_posts\\2023-07-17_18-28-18_UTC_1.jpg exists downloaded_posts\\2023-07-17_18-28-18_UTC_2.jpg exists downloaded_posts\\2023-07-17_18-28-18_UTC_3.jpg exists downloaded_posts\\2023-07-17_18-28-18_UTC_4.jpg exists downloaded_posts\\2023-07-17_18-28-18_UTC_5.jpg exists downloaded_posts\\2023-07-17_18-28-18_UTC_6.jpg exists downloaded_posts\\2023-07-17_18-28-18_UTC_7.jpg exists downloaded_posts\\2023-07-17_18-28-18_UTC_8.jpg exists downloaded_posts\\2023-07-17_18-28-18_UTC_9.jpg exists [“LE CHOUCHOU” What’s your moo…] unchanged json "
     ]
    },
    {
     "name": "stderr",
     "output_type": "stream",
     "text": [
      "  5%|████                                                                             | 14/282 [00:43<12:41,  2.84s/it]"
     ]
    },
    {
     "name": "stdout",
     "output_type": "stream",
     "text": [
      "\n",
      "downloaded_posts\\2023-07-17_18-28-18_UTC_1.jpg exists downloaded_posts\\2023-07-17_18-28-18_UTC_2.jpg exists downloaded_posts\\2023-07-17_18-28-18_UTC_3.jpg exists downloaded_posts\\2023-07-17_18-28-18_UTC_4.jpg exists downloaded_posts\\2023-07-17_18-28-18_UTC_5.jpg exists downloaded_posts\\2023-07-17_18-28-18_UTC_6.jpg exists downloaded_posts\\2023-07-17_18-28-18_UTC_7.jpg exists downloaded_posts\\2023-07-17_18-28-18_UTC_8.jpg exists downloaded_posts\\2023-07-17_18-28-18_UTC_9.jpg exists [“LE CHOUCHOU” What’s your moo…] unchanged json "
     ]
    },
    {
     "name": "stderr",
     "output_type": "stream",
     "text": [
      "  5%|████▎                                                                            | 15/282 [00:45<11:43,  2.64s/it]"
     ]
    },
    {
     "name": "stdout",
     "output_type": "stream",
     "text": [
      "\n",
      "downloaded_posts\\2023-07-16_12-04-52_UTC_1.jpg exists downloaded_posts\\2023-07-16_12-04-52_UTC_2.jpg exists downloaded_posts\\2023-07-16_12-04-52_UTC_3.jpg exists downloaded_posts\\2023-07-16_12-04-52_UTC_4.jpg exists downloaded_posts\\2023-07-16_12-04-52_UTC_5.jpg exists downloaded_posts\\2023-07-16_12-04-52_UTC_6.jpg exists downloaded_posts\\2023-07-16_12-04-52_UTC_7.jpg exists [JANE BIRKIN  1946/2023  No wo…] unchanged json "
     ]
    },
    {
     "name": "stderr",
     "output_type": "stream",
     "text": [
      "  6%|████▌                                                                            | 16/282 [00:46<09:36,  2.17s/it]"
     ]
    },
    {
     "name": "stdout",
     "output_type": "stream",
     "text": [
      "\n",
      "downloaded_posts\\2023-06-19_15-58-56_UTC_1.jpg exists downloaded_posts\\2023-06-19_15-58-56_UTC_2.jpg exists downloaded_posts\\2023-06-19_15-58-56_UTC_3.jpg exists downloaded_posts\\2023-06-19_15-58-56_UTC_4.jpg exists downloaded_posts\\2023-06-19_15-58-56_UTC_4.mp4 exists downloaded_posts\\2023-06-19_15-58-56_UTC_5.jpg exists downloaded_posts\\2023-06-19_15-58-56_UTC_5.mp4 exists downloaded_posts\\2023-06-19_15-58-56_UTC_6.jpg exists downloaded_posts\\2023-06-19_15-58-56_UTC_7.jpg exists downloaded_posts\\2023-06-19_15-58-56_UTC_8.jpg exists downloaded_posts\\2023-06-19_15-58-56_UTC_9.jpg exists downloaded_posts\\2023-06-19_15-58-56_UTC_9.mp4 exists downloaded_posts\\2023-06-19_15-58-56_UTC_10.jpg exists [« LE CHOUCHOU » Preview  One …] unchanged json "
     ]
    },
    {
     "name": "stderr",
     "output_type": "stream",
     "text": [
      "  6%|████▉                                                                            | 17/282 [00:49<10:21,  2.35s/it]"
     ]
    },
    {
     "name": "stdout",
     "output_type": "stream",
     "text": [
      "\n",
      "downloaded_posts\\2023-06-19_15-58-56_UTC_1.jpg exists downloaded_posts\\2023-06-19_15-58-56_UTC_2.jpg exists downloaded_posts\\2023-06-19_15-58-56_UTC_3.jpg exists downloaded_posts\\2023-06-19_15-58-56_UTC_4.jpg exists downloaded_posts\\2023-06-19_15-58-56_UTC_4.mp4 exists downloaded_posts\\2023-06-19_15-58-56_UTC_5.jpg exists downloaded_posts\\2023-06-19_15-58-56_UTC_5.mp4 exists downloaded_posts\\2023-06-19_15-58-56_UTC_6.jpg exists downloaded_posts\\2023-06-19_15-58-56_UTC_7.jpg exists downloaded_posts\\2023-06-19_15-58-56_UTC_8.jpg exists downloaded_posts\\2023-06-19_15-58-56_UTC_9.jpg exists downloaded_posts\\2023-06-19_15-58-56_UTC_9.mp4 exists downloaded_posts\\2023-06-19_15-58-56_UTC_10.jpg exists [« LE CHOUCHOU » Preview  One …] unchanged json "
     ]
    },
    {
     "name": "stderr",
     "output_type": "stream",
     "text": [
      "  6%|█████▏                                                                           | 18/282 [00:50<08:52,  2.02s/it]"
     ]
    },
    {
     "name": "stdout",
     "output_type": "stream",
     "text": [
      "\n",
      "downloaded_posts\\2023-06-19_15-58-56_UTC_1.jpg exists downloaded_posts\\2023-06-19_15-58-56_UTC_2.jpg exists downloaded_posts\\2023-06-19_15-58-56_UTC_3.jpg exists downloaded_posts\\2023-06-19_15-58-56_UTC_4.jpg exists downloaded_posts\\2023-06-19_15-58-56_UTC_4.mp4 exists downloaded_posts\\2023-06-19_15-58-56_UTC_5.jpg exists downloaded_posts\\2023-06-19_15-58-56_UTC_5.mp4 exists downloaded_posts\\2023-06-19_15-58-56_UTC_6.jpg exists downloaded_posts\\2023-06-19_15-58-56_UTC_7.jpg exists downloaded_posts\\2023-06-19_15-58-56_UTC_8.jpg exists downloaded_posts\\2023-06-19_15-58-56_UTC_9.jpg exists downloaded_posts\\2023-06-19_15-58-56_UTC_9.mp4 exists downloaded_posts\\2023-06-19_15-58-56_UTC_10.jpg exists [« LE CHOUCHOU » Preview  One …] unchanged json "
     ]
    },
    {
     "name": "stderr",
     "output_type": "stream",
     "text": [
      "  7%|█████▍                                                                           | 19/282 [00:56<14:16,  3.26s/it]"
     ]
    },
    {
     "name": "stdout",
     "output_type": "stream",
     "text": [
      "\n",
      "downloaded_posts\\2023-05-22_16-05-11_UTC_1.jpg exists downloaded_posts\\2023-05-22_16-05-11_UTC_2.jpg exists downloaded_posts\\2023-05-22_16-05-11_UTC_3.jpg exists downloaded_posts\\2023-05-22_16-05-11_UTC_4.jpg exists downloaded_posts\\2023-05-22_16-05-11_UTC_5.jpg exists downloaded_posts\\2023-05-22_16-05-11_UTC_6.jpg exists downloaded_posts\\2023-05-22_16-05-11_UTC_7.jpg exists downloaded_posts\\2023-05-22_16-05-11_UTC_8.jpg exists [CIAO ITALIA!! Happy to announ…] unchanged json "
     ]
    },
    {
     "name": "stderr",
     "output_type": "stream",
     "text": [
      "  7%|█████▋                                                                           | 20/282 [00:58<12:35,  2.88s/it]"
     ]
    },
    {
     "name": "stdout",
     "output_type": "stream",
     "text": [
      "\n",
      "downloaded_posts\\2023-05-15_15-29-24_UTC_1.jpg exists downloaded_posts\\2023-05-15_15-29-24_UTC_2.jpg exists downloaded_posts\\2023-05-15_15-29-24_UTC_3.jpg exists downloaded_posts\\2023-05-15_15-29-24_UTC_4.jpg exists downloaded_posts\\2023-05-15_15-29-24_UTC_5.jpg exists downloaded_posts\\2023-05-15_15-29-24_UTC_6.jpg exists downloaded_posts\\2023-05-15_15-29-24_UTC_7.jpg exists downloaded_posts\\2023-05-15_15-29-24_UTC_8.jpg exists downloaded_posts\\2023-05-15_15-29-24_UTC_9.jpg exists downloaded_posts\\2023-05-15_15-29-24_UTC_10.jpg exists [CIAO ITALIA! 🇮🇹 Qual é la vos…] unchanged json "
     ]
    },
    {
     "name": "stderr",
     "output_type": "stream",
     "text": [
      "  7%|██████                                                                           | 21/282 [01:01<12:42,  2.92s/it]"
     ]
    },
    {
     "name": "stdout",
     "output_type": "stream",
     "text": [
      "\n",
      "downloaded_posts\\2023-05-15_15-29-24_UTC_1.jpg exists downloaded_posts\\2023-05-15_15-29-24_UTC_2.jpg exists downloaded_posts\\2023-05-15_15-29-24_UTC_3.jpg exists downloaded_posts\\2023-05-15_15-29-24_UTC_4.jpg exists downloaded_posts\\2023-05-15_15-29-24_UTC_5.jpg exists downloaded_posts\\2023-05-15_15-29-24_UTC_6.jpg exists downloaded_posts\\2023-05-15_15-29-24_UTC_7.jpg exists downloaded_posts\\2023-05-15_15-29-24_UTC_8.jpg exists downloaded_posts\\2023-05-15_15-29-24_UTC_9.jpg exists downloaded_posts\\2023-05-15_15-29-24_UTC_10.jpg exists [CIAO ITALIA! 🇮🇹 Qual é la vos…] unchanged json "
     ]
    },
    {
     "name": "stderr",
     "output_type": "stream",
     "text": [
      "  8%|██████▎                                                                          | 22/282 [01:02<09:54,  2.29s/it]"
     ]
    },
    {
     "name": "stdout",
     "output_type": "stream",
     "text": [
      "\n",
      "downloaded_posts\\2023-05-15_15-29-24_UTC_1.jpg exists downloaded_posts\\2023-05-15_15-29-24_UTC_2.jpg exists downloaded_posts\\2023-05-15_15-29-24_UTC_3.jpg exists downloaded_posts\\2023-05-15_15-29-24_UTC_4.jpg exists downloaded_posts\\2023-05-15_15-29-24_UTC_5.jpg exists downloaded_posts\\2023-05-15_15-29-24_UTC_6.jpg exists downloaded_posts\\2023-05-15_15-29-24_UTC_7.jpg exists downloaded_posts\\2023-05-15_15-29-24_UTC_8.jpg exists downloaded_posts\\2023-05-15_15-29-24_UTC_9.jpg exists downloaded_posts\\2023-05-15_15-29-24_UTC_10.jpg exists [CIAO ITALIA! 🇮🇹 Qual é la vos…] unchanged json "
     ]
    },
    {
     "name": "stderr",
     "output_type": "stream",
     "text": [
      "  8%|██████▌                                                                          | 23/282 [01:05<10:38,  2.47s/it]"
     ]
    },
    {
     "name": "stdout",
     "output_type": "stream",
     "text": [
      "\n",
      "downloaded_posts\\2023-03-24_15-37-38_UTC_1.jpg exists downloaded_posts\\2023-03-24_15-37-38_UTC_2.jpg exists downloaded_posts\\2023-03-24_15-37-38_UTC_3.jpg exists [Love @dualipa  In full look f…] unchanged json "
     ]
    },
    {
     "name": "stderr",
     "output_type": "stream",
     "text": [
      "  9%|██████▉                                                                          | 24/282 [01:08<11:11,  2.60s/it]"
     ]
    },
    {
     "name": "stdout",
     "output_type": "stream",
     "text": [
      "\n",
      "downloaded_posts\\2023-03-24_15-37-38_UTC_1.jpg exists downloaded_posts\\2023-03-24_15-37-38_UTC_2.jpg exists downloaded_posts\\2023-03-24_15-37-38_UTC_3.jpg exists [Love @dualipa  In full look f…] unchanged json "
     ]
    },
    {
     "name": "stderr",
     "output_type": "stream",
     "text": [
      "  9%|███████▏                                                                         | 25/282 [01:09<09:26,  2.20s/it]"
     ]
    },
    {
     "name": "stdout",
     "output_type": "stream",
     "text": [
      "\n",
      "downloaded_posts\\2023-02-14_16-49-50_UTC.jpg exists [Le bisou bag Jacquemus.com] unchanged json "
     ]
    },
    {
     "name": "stderr",
     "output_type": "stream",
     "text": [
      "  9%|███████▍                                                                         | 26/282 [01:10<07:37,  1.79s/it]"
     ]
    },
    {
     "name": "stdout",
     "output_type": "stream",
     "text": [
      "\n",
      "downloaded_posts\\2022-12-12_19-29-11_UTC_1.jpg exists downloaded_posts\\2022-12-12_19-29-11_UTC_2.jpg exists downloaded_posts\\2022-12-12_19-29-11_UTC_3.jpg exists downloaded_posts\\2022-12-12_19-29-11_UTC_4.jpg exists downloaded_posts\\2022-12-12_19-29-11_UTC_5.jpg exists downloaded_posts\\2022-12-12_19-29-11_UTC_6.jpg exists downloaded_posts\\2022-12-12_19-29-11_UTC_7.jpg exists downloaded_posts\\2022-12-12_19-29-11_UTC_8.jpg exists downloaded_posts\\2022-12-12_19-29-11_UTC_9.jpg exists downloaded_posts\\2022-12-12_19-29-11_UTC_10.jpg exists [“Le raphia” 💞] unchanged json "
     ]
    },
    {
     "name": "stderr",
     "output_type": "stream",
     "text": [
      " 10%|███████▊                                                                         | 27/282 [01:13<08:56,  2.10s/it]"
     ]
    },
    {
     "name": "stdout",
     "output_type": "stream",
     "text": [
      "\n",
      "downloaded_posts\\2022-11-30_16-58-45_UTC_1.jpg exists downloaded_posts\\2022-11-30_16-58-45_UTC_2.jpg exists downloaded_posts\\2022-11-30_16-58-45_UTC_3.jpg exists downloaded_posts\\2022-11-30_16-58-45_UTC_4.jpg exists downloaded_posts\\2022-11-30_16-58-45_UTC_5.jpg exists downloaded_posts\\2022-11-30_16-58-45_UTC_5.mp4 exists downloaded_posts\\2022-11-30_16-58-45_UTC_6.jpg exists downloaded_posts\\2022-11-30_16-58-45_UTC_7.jpg exists downloaded_posts\\2022-11-30_16-58-45_UTC_8.jpg exists downloaded_posts\\2022-11-30_16-58-45_UTC_9.jpg exists downloaded_posts\\2022-11-30_16-58-45_UTC_10.jpg exists [« IN BED WITH » JACQUEMUS + T…] unchanged json "
     ]
    },
    {
     "name": "stderr",
     "output_type": "stream",
     "text": [
      " 10%|████████                                                                         | 28/282 [01:14<07:38,  1.80s/it]"
     ]
    },
    {
     "name": "stdout",
     "output_type": "stream",
     "text": [
      "\n",
      "downloaded_posts\\2022-09-12_15-40-58_UTC_1.jpg exists downloaded_posts\\2022-09-12_15-40-58_UTC_2.jpg exists downloaded_posts\\2022-09-12_15-40-58_UTC_3.jpg exists downloaded_posts\\2022-09-12_15-40-58_UTC_4.jpg exists downloaded_posts\\2022-09-12_15-40-58_UTC_5.jpg exists downloaded_posts\\2022-09-12_15-40-58_UTC_6.jpg exists [Bella in Jacquemus 🏹🫠] unchanged json "
     ]
    },
    {
     "name": "stderr",
     "output_type": "stream",
     "text": [
      " 10%|████████▎                                                                        | 29/282 [01:20<13:28,  3.20s/it]"
     ]
    },
    {
     "name": "stdout",
     "output_type": "stream",
     "text": [
      "\n",
      "downloaded_posts\\2022-06-28_13-25-36_UTC_1.jpg exists downloaded_posts\\2022-06-28_13-25-36_UTC_2.jpg exists downloaded_posts\\2022-06-28_13-25-36_UTC_3.jpg exists downloaded_posts\\2022-06-28_13-25-36_UTC_4.jpg exists downloaded_posts\\2022-06-28_13-25-36_UTC_5.jpg exists downloaded_posts\\2022-06-28_13-25-36_UTC_6.jpg exists downloaded_posts\\2022-06-28_13-25-36_UTC_7.jpg exists downloaded_posts\\2022-06-28_13-25-36_UTC_8.jpg exists downloaded_posts\\2022-06-28_13-25-36_UTC_9.jpg exists downloaded_posts\\2022-06-28_13-25-36_UTC_10.jpg exists [MY FIRST NIKE COLLECTION OUT …] unchanged json "
     ]
    },
    {
     "name": "stderr",
     "output_type": "stream",
     "text": [
      " 11%|████████▌                                                                        | 30/282 [01:23<12:28,  2.97s/it]"
     ]
    },
    {
     "name": "stdout",
     "output_type": "stream",
     "text": [
      "\n",
      "downloaded_posts\\2022-06-28_13-25-36_UTC_1.jpg exists downloaded_posts\\2022-06-28_13-25-36_UTC_2.jpg exists downloaded_posts\\2022-06-28_13-25-36_UTC_3.jpg exists downloaded_posts\\2022-06-28_13-25-36_UTC_4.jpg exists downloaded_posts\\2022-06-28_13-25-36_UTC_5.jpg exists downloaded_posts\\2022-06-28_13-25-36_UTC_6.jpg exists downloaded_posts\\2022-06-28_13-25-36_UTC_7.jpg exists downloaded_posts\\2022-06-28_13-25-36_UTC_8.jpg exists downloaded_posts\\2022-06-28_13-25-36_UTC_9.jpg exists downloaded_posts\\2022-06-28_13-25-36_UTC_10.jpg exists [MY FIRST NIKE COLLECTION OUT …] unchanged json "
     ]
    },
    {
     "name": "stderr",
     "output_type": "stream",
     "text": [
      " 11%|████████▉                                                                        | 31/282 [01:25<11:15,  2.69s/it]"
     ]
    },
    {
     "name": "stdout",
     "output_type": "stream",
     "text": [
      "\n",
      "downloaded_posts\\2021-09-28_14-35-09_UTC_1.jpg exists downloaded_posts\\2021-09-28_14-35-09_UTC_2.jpg exists downloaded_posts\\2021-09-28_14-35-09_UTC_3.jpg exists downloaded_posts\\2021-09-28_14-35-09_UTC_4.jpg exists downloaded_posts\\2021-09-28_14-35-09_UTC_5.jpg exists downloaded_posts\\2021-09-28_14-35-09_UTC_6.jpg exists downloaded_posts\\2021-09-28_14-35-09_UTC_7.jpg exists downloaded_posts\\2021-09-28_14-35-09_UTC_8.jpg exists downloaded_posts\\2021-09-28_14-35-09_UTC_9.jpg exists [END OF SUMMER LIKE] unchanged json "
     ]
    },
    {
     "name": "stderr",
     "output_type": "stream",
     "text": [
      " 11%|█████████▏                                                                       | 32/282 [01:29<12:57,  3.11s/it]"
     ]
    },
    {
     "name": "stdout",
     "output_type": "stream",
     "text": [
      "\n",
      "downloaded_posts\\2021-09-28_14-35-09_UTC_1.jpg exists downloaded_posts\\2021-09-28_14-35-09_UTC_2.jpg exists downloaded_posts\\2021-09-28_14-35-09_UTC_3.jpg exists downloaded_posts\\2021-09-28_14-35-09_UTC_4.jpg exists downloaded_posts\\2021-09-28_14-35-09_UTC_5.jpg exists downloaded_posts\\2021-09-28_14-35-09_UTC_6.jpg exists downloaded_posts\\2021-09-28_14-35-09_UTC_7.jpg exists downloaded_posts\\2021-09-28_14-35-09_UTC_8.jpg exists downloaded_posts\\2021-09-28_14-35-09_UTC_9.jpg exists [END OF SUMMER LIKE] unchanged json "
     ]
    },
    {
     "name": "stderr",
     "output_type": "stream",
     "text": [
      " 12%|█████████▍                                                                       | 33/282 [01:31<12:06,  2.92s/it]"
     ]
    },
    {
     "name": "stdout",
     "output_type": "stream",
     "text": [
      "\n",
      "downloaded_posts\\2021-08-23_16-26-27_UTC.jpg exists [« LA MONTAGNE » OUT SOON,  wi…] unchanged json "
     ]
    },
    {
     "name": "stderr",
     "output_type": "stream",
     "text": [
      " 12%|█████████▊                                                                       | 34/282 [01:32<09:59,  2.42s/it]"
     ]
    },
    {
     "name": "stdout",
     "output_type": "stream",
     "text": [
      "\n",
      "downloaded_posts\\2021-08-21_15-23-39_UTC.jpg exists [JACQUEMUS SUMMER] unchanged json "
     ]
    },
    {
     "name": "stderr",
     "output_type": "stream",
     "text": [
      " 12%|██████████                                                                       | 35/282 [01:39<14:40,  3.57s/it]"
     ]
    },
    {
     "name": "stdout",
     "output_type": "stream",
     "text": [
      "\n",
      "downloaded_posts\\2021-01-18_15-24-40_UTC_1.jpg exists downloaded_posts\\2021-01-18_15-24-40_UTC_2.jpg exists [A YEAR AGO @gigihadid  ❤️🥜  O…] unchanged json "
     ]
    },
    {
     "name": "stderr",
     "output_type": "stream",
     "text": [
      " 13%|██████████▎                                                                      | 36/282 [01:39<11:11,  2.73s/it]"
     ]
    },
    {
     "name": "stdout",
     "output_type": "stream",
     "text": [
      "\n",
      "downloaded_posts\\2021-01-18_15-06-15_UTC_1.jpg exists downloaded_posts\\2021-01-18_15-06-15_UTC_2.jpg exists downloaded_posts\\2021-01-18_15-06-15_UTC_3.jpg exists downloaded_posts\\2021-01-18_15-06-15_UTC_3.mp4 exists [A YEAR AGO @gigihadid  ❤️🥜  O…] unchanged json "
     ]
    },
    {
     "name": "stderr",
     "output_type": "stream",
     "text": [
      " 13%|██████████▋                                                                      | 37/282 [01:43<11:47,  2.89s/it]"
     ]
    },
    {
     "name": "stdout",
     "output_type": "stream",
     "text": [
      "\n",
      "downloaded_posts\\2020-11-02_19-48-21_UTC.jpg exists [BONSOIR, Regram from @voostore] unchanged json "
     ]
    },
    {
     "name": "stderr",
     "output_type": "stream",
     "text": [
      " 13%|██████████▉                                                                      | 38/282 [01:44<09:47,  2.41s/it]"
     ]
    },
    {
     "name": "stdout",
     "output_type": "stream",
     "text": [
      "\n",
      "downloaded_posts\\2020-06-11_15-52-05_UTC_1.jpg exists downloaded_posts\\2020-06-11_15-52-05_UTC_2.jpg exists downloaded_posts\\2020-06-11_15-52-05_UTC_3.jpg exists downloaded_posts\\2020-06-11_15-52-05_UTC_4.jpg exists downloaded_posts\\2020-06-11_15-52-05_UTC_5.jpg exists downloaded_posts\\2020-06-11_15-52-05_UTC_6.jpg exists downloaded_posts\\2020-06-11_15-52-05_UTC_7.jpg exists downloaded_posts\\2020-06-11_15-52-05_UTC_8.jpg exists [SO HAPPY TO SHARE WITH YOU TH…] unchanged json "
     ]
    },
    {
     "name": "stderr",
     "output_type": "stream",
     "text": [
      " 14%|███████████▏                                                                     | 39/282 [01:45<08:00,  1.98s/it]"
     ]
    },
    {
     "name": "stdout",
     "output_type": "stream",
     "text": [
      "\n",
      "downloaded_posts\\2020-06-11_15-52-05_UTC_1.jpg exists downloaded_posts\\2020-06-11_15-52-05_UTC_2.jpg exists downloaded_posts\\2020-06-11_15-52-05_UTC_3.jpg exists downloaded_posts\\2020-06-11_15-52-05_UTC_4.jpg exists downloaded_posts\\2020-06-11_15-52-05_UTC_5.jpg exists downloaded_posts\\2020-06-11_15-52-05_UTC_6.jpg exists downloaded_posts\\2020-06-11_15-52-05_UTC_7.jpg exists downloaded_posts\\2020-06-11_15-52-05_UTC_8.jpg exists [SO HAPPY TO SHARE WITH YOU TH…] unchanged json "
     ]
    },
    {
     "name": "stderr",
     "output_type": "stream",
     "text": [
      " 14%|███████████▍                                                                     | 40/282 [01:46<06:48,  1.69s/it]"
     ]
    },
    {
     "name": "stdout",
     "output_type": "stream",
     "text": [
      "\n",
      "downloaded_posts\\2020-05-13_20-22-09_UTC_1.jpg exists downloaded_posts\\2020-05-13_20-22-09_UTC_2.jpg exists downloaded_posts\\2020-05-13_20-22-09_UTC_3.jpg exists downloaded_posts\\2020-05-13_20-22-09_UTC_4.jpg exists [JACQUEMUS + SSENSE  LOUNGEWEA…] unchanged json "
     ]
    },
    {
     "name": "stderr",
     "output_type": "stream",
     "text": [
      " 15%|███████████▊                                                                     | 41/282 [01:47<05:56,  1.48s/it]"
     ]
    },
    {
     "name": "stdout",
     "output_type": "stream",
     "text": [
      "\n",
      "downloaded_posts\\2020-04-18_19-52-18_UTC_1.jpg exists downloaded_posts\\2020-04-18_19-52-18_UTC_2.jpg exists downloaded_posts\\2020-04-18_19-52-18_UTC_3.jpg exists downloaded_posts\\2020-04-18_19-52-18_UTC_4.jpg exists [HANS FEURER] unchanged json "
     ]
    },
    {
     "name": "stderr",
     "output_type": "stream",
     "text": [
      " 15%|████████████                                                                     | 42/282 [01:50<07:19,  1.83s/it]"
     ]
    },
    {
     "name": "stdout",
     "output_type": "stream",
     "text": [
      "\n",
      "downloaded_posts\\2020-04-18_19-49-32_UTC_1.jpg exists downloaded_posts\\2020-04-18_19-49-32_UTC_2.jpg exists downloaded_posts\\2020-04-18_19-49-32_UTC_3.jpg exists downloaded_posts\\2020-04-18_19-49-32_UTC_4.jpg exists [HANS FEURER] unchanged json "
     ]
    },
    {
     "name": "stderr",
     "output_type": "stream",
     "text": [
      " 15%|████████████▎                                                                    | 43/282 [01:51<06:15,  1.57s/it]"
     ]
    },
    {
     "name": "stdout",
     "output_type": "stream",
     "text": [
      "\n",
      "downloaded_posts\\2020-03-05_20-32-01_UTC_1.jpg exists downloaded_posts\\2020-03-05_20-32-01_UTC_2.jpg exists downloaded_posts\\2020-03-05_20-32-01_UTC_2.mp4 exists [SLIDE.. HOW TO PREPARE A SET …] unchanged json "
     ]
    },
    {
     "name": "stderr",
     "output_type": "stream",
     "text": [
      " 16%|████████████▋                                                                    | 44/282 [01:58<13:07,  3.31s/it]"
     ]
    },
    {
     "name": "stdout",
     "output_type": "stream",
     "text": [
      "\n",
      "downloaded_posts\\2020-03-04_18-25-36_UTC.jpg exists [BONJOUR :) @kyliejenner and @…] unchanged json "
     ]
    },
    {
     "name": "stderr",
     "output_type": "stream",
     "text": [
      " 16%|████████████▉                                                                    | 45/282 [01:59<10:18,  2.61s/it]"
     ]
    },
    {
     "name": "stdout",
     "output_type": "stream",
     "text": [
      "\n",
      "downloaded_posts\\2020-02-20_17-34-19_UTC.jpg exists [RIHANNA, HAPPY YOU 🥰 THANKS F…] unchanged json "
     ]
    },
    {
     "name": "stderr",
     "output_type": "stream",
     "text": [
      " 16%|█████████████▏                                                                   | 46/282 [02:05<14:57,  3.80s/it]"
     ]
    },
    {
     "name": "stdout",
     "output_type": "stream",
     "text": [
      "\n",
      "downloaded_posts\\2023-12-03_00-20-44_UTC_1.jpg exists downloaded_posts\\2023-12-03_00-20-44_UTC_2.jpg exists downloaded_posts\\2023-12-03_00-20-44_UTC_3.jpg exists [#brandyusa] unchanged json "
     ]
    },
    {
     "name": "stderr",
     "output_type": "stream",
     "text": [
      " 17%|█████████████▌                                                                   | 47/282 [02:08<13:28,  3.44s/it]"
     ]
    },
    {
     "name": "stdout",
     "output_type": "stream",
     "text": [
      "\n",
      "downloaded_posts\\2023-12-01_16-32-00_UTC.jpg exists [#brandyusa] unchanged json "
     ]
    },
    {
     "name": "stderr",
     "output_type": "stream",
     "text": [
      " 17%|█████████████▊                                                                   | 48/282 [02:09<10:34,  2.71s/it]"
     ]
    },
    {
     "name": "stdout",
     "output_type": "stream",
     "text": [
      "\n",
      "downloaded_posts\\2023-11-22_04-58-54_UTC.jpg exists [#brandyusa] unchanged json "
     ]
    },
    {
     "name": "stderr",
     "output_type": "stream",
     "text": [
      " 17%|██████████████                                                                   | 49/282 [02:11<09:42,  2.50s/it]"
     ]
    },
    {
     "name": "stdout",
     "output_type": "stream",
     "text": [
      "\n",
      "downloaded_posts\\2023-11-16_17-04-31_UTC.jpg exists [#brandyusa] unchanged json "
     ]
    },
    {
     "name": "stderr",
     "output_type": "stream",
     "text": [
      " 18%|██████████████▎                                                                  | 50/282 [02:14<09:44,  2.52s/it]"
     ]
    },
    {
     "name": "stdout",
     "output_type": "stream",
     "text": [
      "\n",
      "downloaded_posts\\2023-11-11_23-05-05_UTC_1.jpg exists downloaded_posts\\2023-11-11_23-05-05_UTC_2.jpg exists downloaded_posts\\2023-11-11_23-05-05_UTC_3.jpg exists [#brandyusa] unchanged json "
     ]
    },
    {
     "name": "stderr",
     "output_type": "stream",
     "text": [
      " 18%|██████████████▋                                                                  | 51/282 [02:15<08:53,  2.31s/it]"
     ]
    },
    {
     "name": "stdout",
     "output_type": "stream",
     "text": [
      "\n",
      "downloaded_posts\\2023-10-24_23-12-26_UTC_1.jpg exists downloaded_posts\\2023-10-24_23-12-26_UTC_2.jpg exists [#brandyusa] unchanged json "
     ]
    },
    {
     "name": "stderr",
     "output_type": "stream",
     "text": [
      " 18%|██████████████▉                                                                  | 52/282 [02:18<08:43,  2.28s/it]"
     ]
    },
    {
     "name": "stdout",
     "output_type": "stream",
     "text": [
      "\n",
      "downloaded_posts\\2023-10-11_02-06-29_UTC.jpg exists [#brandyusa] unchanged json "
     ]
    },
    {
     "name": "stderr",
     "output_type": "stream",
     "text": [
      " 19%|███████████████▏                                                                 | 53/282 [02:24<12:59,  3.40s/it]"
     ]
    },
    {
     "name": "stdout",
     "output_type": "stream",
     "text": [
      "\n",
      "downloaded_posts\\2023-09-16_15-24-50_UTC.jpg exists [#brandyusa] unchanged json "
     ]
    },
    {
     "name": "stderr",
     "output_type": "stream",
     "text": [
      " 19%|███████████████▌                                                                 | 54/282 [02:25<10:39,  2.80s/it]"
     ]
    },
    {
     "name": "stdout",
     "output_type": "stream",
     "text": [
      "\n",
      "downloaded_posts\\2023-04-08_13-52-34_UTC.jpg exists [#brandyusa] unchanged json "
     ]
    },
    {
     "name": "stderr",
     "output_type": "stream",
     "text": [
      " 20%|███████████████▊                                                                 | 55/282 [02:26<08:57,  2.37s/it]"
     ]
    },
    {
     "name": "stdout",
     "output_type": "stream",
     "text": [
      "\n",
      "downloaded_posts\\2023-12-01_13-24-15_UTC.jpg exists [AW23 ‘For better or for worse…] unchanged json "
     ]
    },
    {
     "name": "stderr",
     "output_type": "stream",
     "text": [
      " 20%|████████████████                                                                 | 56/282 [02:31<11:52,  3.15s/it]"
     ]
    },
    {
     "name": "stdout",
     "output_type": "stream",
     "text": [
      "\n",
      "downloaded_posts\\2023-10-04_16-05-29_UTC_1.jpg exists downloaded_posts\\2023-10-04_16-05-29_UTC_2.jpg exists downloaded_posts\\2023-10-04_16-05-29_UTC_3.jpg exists downloaded_posts\\2023-10-04_16-05-29_UTC_4.jpg exists downloaded_posts\\2023-10-04_16-05-29_UTC_5.jpg exists [@preciousleexoxo wears Ester …] unchanged json "
     ]
    },
    {
     "name": "stderr",
     "output_type": "stream",
     "text": [
      " 20%|████████████████▎                                                                | 57/282 [02:32<09:29,  2.53s/it]"
     ]
    },
    {
     "name": "stdout",
     "output_type": "stream",
     "text": [
      "\n",
      "downloaded_posts\\2023-07-12_13-40-50_UTC_1.jpg exists downloaded_posts\\2023-07-12_13-40-50_UTC_2.jpg exists downloaded_posts\\2023-07-12_13-40-50_UTC_2.mp4 exists downloaded_posts\\2023-07-12_13-40-50_UTC_3.jpg exists [@miakhalifa for @sheytan.worl…] unchanged json "
     ]
    },
    {
     "name": "stderr",
     "output_type": "stream",
     "text": [
      " 21%|████████████████▋                                                                | 58/282 [02:34<07:45,  2.08s/it]"
     ]
    },
    {
     "name": "stdout",
     "output_type": "stream",
     "text": [
      "\n",
      "downloaded_posts\\2023-03-01_17-57-07_UTC.jpg exists [@geraldinenakach by @camillem…] unchanged json "
     ]
    },
    {
     "name": "stderr",
     "output_type": "stream",
     "text": [
      " 21%|████████████████▉                                                                | 59/282 [02:36<08:06,  2.18s/it]"
     ]
    },
    {
     "name": "stdout",
     "output_type": "stream",
     "text": [
      "\n",
      "downloaded_posts\\2023-02-14_11-17-43_UTC.jpg exists [🥐] unchanged json "
     ]
    },
    {
     "name": "stderr",
     "output_type": "stream",
     "text": [
      " 21%|█████████████████▏                                                               | 60/282 [02:37<06:52,  1.86s/it]"
     ]
    },
    {
     "name": "stdout",
     "output_type": "stream",
     "text": [
      "\n",
      "downloaded_posts\\2023-11-17_09-00-20_UTC.jpg exists [The scintillating energy of t…] unchanged json "
     ]
    },
    {
     "name": "stderr",
     "output_type": "stream",
     "text": [
      " 22%|█████████████████▌                                                               | 61/282 [02:40<07:55,  2.15s/it]"
     ]
    },
    {
     "name": "stdout",
     "output_type": "stream",
     "text": [
      "\n",
      "downloaded_posts\\2023-11-15_13-00-37_UTC.jpg exists [Californian aesthetics — the …] unchanged json "
     ]
    },
    {
     "name": "stderr",
     "output_type": "stream",
     "text": [
      " 22%|█████████████████▊                                                               | 62/282 [02:41<06:45,  1.84s/it]"
     ]
    },
    {
     "name": "stdout",
     "output_type": "stream",
     "text": [
      "\n",
      "downloaded_posts\\2023-11-10_19-18-09_UTC_1.jpg exists downloaded_posts\\2023-11-10_19-18-09_UTC_2.jpg exists downloaded_posts\\2023-11-10_19-18-09_UTC_3.jpg exists [Give wonder, give CHANEL. ",
      "Thi…] unchanged json "
     ]
    },
    {
     "name": "stderr",
     "output_type": "stream",
     "text": [
      " 22%|██████████████████                                                               | 63/282 [02:42<06:10,  1.69s/it]"
     ]
    },
    {
     "name": "stdout",
     "output_type": "stream",
     "text": [
      "\n",
      "downloaded_posts\\2023-10-26_13-04-15_UTC_1.jpg exists downloaded_posts\\2023-10-26_13-04-15_UTC_2.jpg exists downloaded_posts\\2023-10-26_13-04-15_UTC_3.jpg exists downloaded_posts\\2023-10-26_13-04-15_UTC_4.jpg exists [The CHANEL Style Guide: COCO …] unchanged json "
     ]
    },
    {
     "name": "stderr",
     "output_type": "stream",
     "text": [
      " 23%|██████████████████▍                                                              | 64/282 [02:43<05:14,  1.44s/it]"
     ]
    },
    {
     "name": "stdout",
     "output_type": "stream",
     "text": [
      "\n",
      "downloaded_posts\\2023-10-23_18-00-18_UTC.jpg exists [Performance and elegance — th…] unchanged json "
     ]
    },
    {
     "name": "stderr",
     "output_type": "stream",
     "text": [
      " 23%|██████████████████▋                                                              | 65/282 [02:45<05:27,  1.51s/it]"
     ]
    },
    {
     "name": "stdout",
     "output_type": "stream",
     "text": [
      "\n",
      "downloaded_posts\\2023-10-05_08-00-04_UTC.jpg exists [Twisting seaside inspirations…] unchanged json "
     ]
    },
    {
     "name": "stderr",
     "output_type": "stream",
     "text": [
      " 23%|██████████████████▉                                                              | 66/282 [02:47<06:02,  1.68s/it]"
     ]
    },
    {
     "name": "stdout",
     "output_type": "stream",
     "text": [
      "\n",
      "downloaded_posts\\2023-09-23_16-00-13_UTC_1.jpg exists downloaded_posts\\2023-09-23_16-00-13_UTC_2.jpg exists downloaded_posts\\2023-09-23_16-00-13_UTC_3.jpg exists downloaded_posts\\2023-09-23_16-00-13_UTC_4.jpg exists downloaded_posts\\2023-09-23_16-00-13_UTC_5.jpg exists downloaded_posts\\2023-09-23_16-00-13_UTC_6.jpg exists [To celebrate the close relati…] unchanged json "
     ]
    },
    {
     "name": "stderr",
     "output_type": "stream",
     "text": [
      " 24%|███████████████████▏                                                             | 67/282 [02:51<08:20,  2.33s/it]"
     ]
    },
    {
     "name": "stdout",
     "output_type": "stream",
     "text": [
      "\n",
      "downloaded_posts\\2023-11-27_14-00-10_UTC.jpg exists [Introducing @m_kayoung as the…] unchanged json "
     ]
    },
    {
     "name": "stderr",
     "output_type": "stream",
     "text": [
      " 24%|███████████████████▌                                                             | 68/282 [02:55<09:56,  2.79s/it]"
     ]
    },
    {
     "name": "stdout",
     "output_type": "stream",
     "text": [
      "\n",
      "downloaded_posts\\2023-11-13_14-00-20_UTC_1.jpg exists downloaded_posts\\2023-11-13_14-00-20_UTC_2.jpg exists [@mariacarlaboscono for #DGDNA…] unchanged json "
     ]
    },
    {
     "name": "stderr",
     "output_type": "stream",
     "text": [
      " 24%|███████████████████▊                                                             | 69/282 [02:57<09:57,  2.81s/it]"
     ]
    },
    {
     "name": "stdout",
     "output_type": "stream",
     "text": [
      "\n",
      "downloaded_posts\\2023-10-03_20-00-13_UTC.jpg exists [DEVOTION  The new bright gour…] unchanged json "
     ]
    },
    {
     "name": "stderr",
     "output_type": "stream",
     "text": [
      " 25%|████████████████████                                                             | 70/282 [02:59<08:37,  2.44s/it]"
     ]
    },
    {
     "name": "stdout",
     "output_type": "stream",
     "text": [
      "\n",
      "downloaded_posts\\2023-09-21_13-00-10_UTC.jpg exists [@mayajama for #DGFW23 shot by…] unchanged json "
     ]
    },
    {
     "name": "stderr",
     "output_type": "stream",
     "text": [
      " 25%|████████████████████▍                                                            | 71/282 [03:02<09:35,  2.73s/it]"
     ]
    },
    {
     "name": "stdout",
     "output_type": "stream",
     "text": [
      "\n",
      "downloaded_posts\\2023-09-20_13-00-11_UTC.jpg exists [@mayajama for #DGFW23 shot by…] unchanged json "
     ]
    },
    {
     "name": "stderr",
     "output_type": "stream",
     "text": [
      " 26%|████████████████████▋                                                            | 72/282 [03:04<07:56,  2.27s/it]"
     ]
    },
    {
     "name": "stdout",
     "output_type": "stream",
     "text": [
      "\n",
      "downloaded_posts\\2023-09-15_13-00-10_UTC.jpg exists [@mayajama for #DGFW23 shot by…] unchanged json "
     ]
    },
    {
     "name": "stderr",
     "output_type": "stream",
     "text": [
      " 26%|████████████████████▉                                                            | 73/282 [03:08<09:54,  2.84s/it]"
     ]
    },
    {
     "name": "stdout",
     "output_type": "stream",
     "text": [
      "\n",
      "downloaded_posts\\2023-09-01_13-00-11_UTC.jpg exists [@mariacarlaboscono for #DGDNA…] unchanged json "
     ]
    },
    {
     "name": "stderr",
     "output_type": "stream",
     "text": [
      " 26%|█████████████████████▎                                                           | 74/282 [03:10<09:28,  2.73s/it]"
     ]
    },
    {
     "name": "stdout",
     "output_type": "stream",
     "text": [
      "\n",
      "downloaded_posts\\2023-12-05_11-13-44_UTC_1.jpg exists downloaded_posts\\2023-12-05_11-13-44_UTC_2.jpg exists downloaded_posts\\2023-12-05_11-13-44_UTC_3.jpg exists [Suki Waterhouse wears H&M Stu…] unchanged json "
     ]
    },
    {
     "name": "stderr",
     "output_type": "stream",
     "text": [
      " 27%|█████████████████████▌                                                           | 75/282 [03:13<09:11,  2.67s/it]"
     ]
    },
    {
     "name": "stdout",
     "output_type": "stream",
     "text": [
      "\n",
      "downloaded_posts\\2023-11-30_20-26-54_UTC.jpg exists [An intuitive approach to even…] unchanged json "
     ]
    },
    {
     "name": "stderr",
     "output_type": "stream",
     "text": [
      " 27%|█████████████████████▊                                                           | 76/282 [03:15<08:31,  2.48s/it]"
     ]
    },
    {
     "name": "stdout",
     "output_type": "stream",
     "text": [
      "\n",
      "downloaded_posts\\2023-11-30_08-12-08_UTC.jpg exists [The H&M Studio Holiday Capsul…] unchanged json "
     ]
    },
    {
     "name": "stderr",
     "output_type": "stream",
     "text": [
      " 27%|██████████████████████                                                           | 77/282 [03:17<07:38,  2.24s/it]"
     ]
    },
    {
     "name": "stdout",
     "output_type": "stream",
     "text": [
      "\n",
      "downloaded_posts\\2023-11-28_08-07-37_UTC.jpg exists [Presenting our latest collab,…] unchanged json "
     ]
    },
    {
     "name": "stderr",
     "output_type": "stream",
     "text": [
      " 28%|██████████████████████▍                                                          | 78/282 [03:21<09:52,  2.91s/it]"
     ]
    },
    {
     "name": "stdout",
     "output_type": "stream",
     "text": [
      "\n",
      "downloaded_posts\\2023-10-18_08-03-53_UTC_1.jpg exists downloaded_posts\\2023-10-18_08-03-53_UTC_2.jpg exists downloaded_posts\\2023-10-18_08-03-53_UTC_3.jpg exists [Knit co-ords in creamy shades…] unchanged json "
     ]
    },
    {
     "name": "stderr",
     "output_type": "stream",
     "text": [
      " 28%|██████████████████████▋                                                          | 79/282 [03:24<09:35,  2.84s/it]"
     ]
    },
    {
     "name": "stdout",
     "output_type": "stream",
     "text": [
      "\n",
      "downloaded_posts\\2023-12-04_15-38-40_UTC_1.jpg exists downloaded_posts\\2023-12-04_15-38-40_UTC_2.jpg exists downloaded_posts\\2023-12-04_15-38-40_UTC_3.jpg exists downloaded_posts\\2023-12-04_15-38-40_UTC_4.jpg exists [Already set up a snowy weeken…] unchanged json "
     ]
    },
    {
     "name": "stderr",
     "output_type": "stream",
     "text": [
      " 28%|██████████████████████▉                                                          | 80/282 [03:25<07:51,  2.33s/it]"
     ]
    },
    {
     "name": "stdout",
     "output_type": "stream",
     "text": [
      "\n",
      "downloaded_posts\\2023-11-24_15-40-32_UTC_1.jpg exists downloaded_posts\\2023-11-24_15-40-32_UTC_2.jpg exists downloaded_posts\\2023-11-24_15-40-32_UTC_3.jpg exists downloaded_posts\\2023-11-24_15-40-32_UTC_4.jpg exists [Surfing towards Winter Season…] unchanged json "
     ]
    },
    {
     "name": "stderr",
     "output_type": "stream",
     "text": [
      " 29%|███████████████████████▎                                                         | 81/282 [03:27<07:15,  2.17s/it]"
     ]
    },
    {
     "name": "stdout",
     "output_type": "stream",
     "text": [
      "\n",
      "downloaded_posts\\2023-05-04_11-09-20_UTC.jpg exists [Skate worker 👊🏼  #WearScout #…] unchanged json "
     ]
    },
    {
     "name": "stderr",
     "output_type": "stream",
     "text": [
      " 29%|███████████████████████▌                                                         | 82/282 [03:30<08:01,  2.41s/it]"
     ]
    },
    {
     "name": "stdout",
     "output_type": "stream",
     "text": [
      "\n",
      "downloaded_posts\\2023-02-24_13-33-02_UTC.jpg exists [Easy and delicious as strawbe…] unchanged json "
     ]
    },
    {
     "name": "stderr",
     "output_type": "stream",
     "text": [
      " 29%|███████████████████████▊                                                         | 83/282 [03:31<06:33,  1.98s/it]"
     ]
    },
    {
     "name": "stdout",
     "output_type": "stream",
     "text": [
      "\n",
      "downloaded_posts\\2023-11-28_08-00-52_UTC_1.jpg exists downloaded_posts\\2023-11-28_08-00-52_UTC_2.jpg exists downloaded_posts\\2023-11-28_08-00-52_UTC_3.jpg exists [Light up the night in our par…] unchanged json "
     ]
    },
    {
     "name": "stderr",
     "output_type": "stream",
     "text": [
      " 30%|████████████████████████▏                                                        | 84/282 [03:32<05:49,  1.77s/it]"
     ]
    },
    {
     "name": "stdout",
     "output_type": "stream",
     "text": [
      "\n",
      "downloaded_posts\\2023-11-26_08-00-34_UTC.jpg exists [Racing styles with FORD MUSTA…] unchanged json "
     ]
    },
    {
     "name": "stderr",
     "output_type": "stream",
     "text": [
      " 30%|████████████████████████▍                                                        | 85/282 [03:34<06:23,  1.95s/it]"
     ]
    },
    {
     "name": "stdout",
     "output_type": "stream",
     "text": [
      "\n",
      "downloaded_posts\\2023-11-25_08-00-36_UTC.jpg exists [STUDIO NICHOLSON + ZARA TIMEL…] unchanged json "
     ]
    },
    {
     "name": "stderr",
     "output_type": "stream",
     "text": [
      " 30%|████████████████████████▋                                                        | 86/282 [03:35<05:16,  1.62s/it]"
     ]
    },
    {
     "name": "stdout",
     "output_type": "stream",
     "text": [
      "\n",
      "downloaded_posts\\2023-11-18_14-00-26_UTC.jpg exists [Party looks for the season #z…] unchanged json "
     ]
    },
    {
     "name": "stderr",
     "output_type": "stream",
     "text": [
      " 31%|████████████████████████▉                                                        | 87/282 [03:39<07:17,  2.24s/it]"
     ]
    },
    {
     "name": "stdout",
     "output_type": "stream",
     "text": [
      "\n",
      "downloaded_posts\\2023-11-10_17-02-02_UTC.jpg exists [TIME TO CELEBRATE. ZW collect…] unchanged json "
     ]
    },
    {
     "name": "stderr",
     "output_type": "stream",
     "text": [
      " 31%|█████████████████████████▎                                                       | 88/282 [03:40<06:16,  1.94s/it]"
     ]
    },
    {
     "name": "stdout",
     "output_type": "stream",
     "text": [
      "\n"
     ]
    },
    {
     "name": "stderr",
     "output_type": "stream",
     "text": [
      " 32%|█████████████████████████▌                                                       | 89/282 [03:46<10:14,  3.18s/it]"
     ]
    },
    {
     "name": "stdout",
     "output_type": "stream",
     "text": [
      "Could not fetch metadata for https://www.instagram.com/p/C0UvM2UNU3w/?img_index=2. Skipping...\n"
     ]
    },
    {
     "name": "stderr",
     "output_type": "stream",
     "text": [
      " 32%|█████████████████████████▊                                                       | 90/282 [03:47<07:49,  2.44s/it]"
     ]
    },
    {
     "name": "stdout",
     "output_type": "stream",
     "text": [
      "Could not fetch metadata for https://www.instagram.com/p/C0H-DQlNFD8/?img_index=2. Skipping...\n"
     ]
    },
    {
     "name": "stderr",
     "output_type": "stream",
     "text": [
      " 32%|██████████████████████████▏                                                      | 91/282 [03:48<07:00,  2.20s/it]"
     ]
    },
    {
     "name": "stdout",
     "output_type": "stream",
     "text": [
      "Could not fetch metadata for https://www.instagram.com/p/C0H9dc8N_kZ/?img_index=2. Skipping...\n",
      "downloaded_posts\\2023-11-25_09-55-53_UTC_1.jpg exists downloaded_posts\\2023-11-25_09-55-53_UTC_2.jpg exists downloaded_posts\\2023-11-25_09-55-53_UTC_3.jpg exists downloaded_posts\\2023-11-25_09-55-53_UTC_4.jpg exists downloaded_posts\\2023-11-25_09-55-53_UTC_5.jpg exists downloaded_posts\\2023-11-25_09-55-53_UTC_6.jpg exists downloaded_posts\\2023-11-25_09-55-53_UTC_7.jpg exists downloaded_posts\\2023-11-25_09-55-53_UTC_8.jpg exists [WHEREVER THE PARTY IS ☾] unchanged json "
     ]
    },
    {
     "name": "stderr",
     "output_type": "stream",
     "text": [
      " 33%|██████████████████████████▍                                                      | 92/282 [03:50<06:24,  2.02s/it]"
     ]
    },
    {
     "name": "stdout",
     "output_type": "stream",
     "text": [
      "\n",
      "downloaded_posts\\2023-12-02_14-15-59_UTC.jpg exists [Miniature crystals and a mesh…] unchanged json "
     ]
    },
    {
     "name": "stderr",
     "output_type": "stream",
     "text": [
      " 33%|██████████████████████████▋                                                      | 93/282 [03:51<05:37,  1.79s/it]"
     ]
    },
    {
     "name": "stdout",
     "output_type": "stream",
     "text": [
      "\n",
      "downloaded_posts\\2023-11-27_14-46-12_UTC.jpg exists [Crystal bows and party-ready …] unchanged json "
     ]
    },
    {
     "name": "stderr",
     "output_type": "stream",
     "text": [
      " 33%|███████████████████████████                                                      | 94/282 [03:53<05:39,  1.81s/it]"
     ]
    },
    {
     "name": "stdout",
     "output_type": "stream",
     "text": [
      "\n",
      "downloaded_posts\\2023-11-25_12-33-40_UTC.jpg exists [The rose is delicate, festive…] unchanged json "
     ]
    },
    {
     "name": "stderr",
     "output_type": "stream",
     "text": [
      " 34%|███████████████████████████▎                                                     | 95/282 [03:56<06:56,  2.23s/it]"
     ]
    },
    {
     "name": "stdout",
     "output_type": "stream",
     "text": [
      "\n",
      "downloaded_posts\\2023-11-21_14-41-15_UTC.jpg exists [Alluring ensembles, Couture i…] unchanged json "
     ]
    },
    {
     "name": "stderr",
     "output_type": "stream",
     "text": [
      " 34%|███████████████████████████▌                                                     | 96/282 [03:58<06:23,  2.06s/it]"
     ]
    },
    {
     "name": "stdout",
     "output_type": "stream",
     "text": [
      "\n",
      "downloaded_posts\\2023-10-10_08-46-33_UTC_1.jpg exists downloaded_posts\\2023-10-10_08-46-33_UTC_2.jpg exists [A soft shape offers an elegan…] unchanged json "
     ]
    },
    {
     "name": "stderr",
     "output_type": "stream",
     "text": [
      " 34%|███████████████████████████▊                                                     | 97/282 [04:00<05:59,  1.94s/it]"
     ]
    },
    {
     "name": "stdout",
     "output_type": "stream",
     "text": [
      "\n",
      "downloaded_posts\\2023-10-10_08-46-33_UTC_1.jpg exists downloaded_posts\\2023-10-10_08-46-33_UTC_2.jpg exists [A soft shape offers an elegan…] unchanged json "
     ]
    },
    {
     "name": "stderr",
     "output_type": "stream",
     "text": [
      " 35%|████████████████████████████▏                                                    | 98/282 [04:03<07:15,  2.36s/it]"
     ]
    },
    {
     "name": "stdout",
     "output_type": "stream",
     "text": [
      "\n",
      "downloaded_posts\\2023-11-11_16-00-39_UTC.jpg exists [Versace Milan Boutique Via Mo…] unchanged json "
     ]
    },
    {
     "name": "stderr",
     "output_type": "stream",
     "text": [
      " 35%|████████████████████████████▍                                                    | 99/282 [04:05<06:37,  2.17s/it]"
     ]
    },
    {
     "name": "stdout",
     "output_type": "stream",
     "text": [
      "\n",
      "downloaded_posts\\2023-10-17_08-02-48_UTC.jpg exists [Fall-Winter 2023 Campaign  Mo…] unchanged json "
     ]
    },
    {
     "name": "stderr",
     "output_type": "stream",
     "text": [
      " 35%|████████████████████████████▎                                                   | 100/282 [04:06<05:46,  1.90s/it]"
     ]
    },
    {
     "name": "stdout",
     "output_type": "stream",
     "text": [
      "\n",
      "downloaded_posts\\2023-10-21_11-02-05_UTC.jpg exists [Must have della stagione 💙  •…] unchanged json "
     ]
    },
    {
     "name": "stderr",
     "output_type": "stream",
     "text": [
      " 36%|████████████████████████████▋                                                   | 101/282 [04:09<06:48,  2.26s/it]"
     ]
    },
    {
     "name": "stdout",
     "output_type": "stream",
     "text": [
      "\n",
      "downloaded_posts\\2023-10-04_15-30-35_UTC_1.jpg exists downloaded_posts\\2023-10-04_15-30-35_UTC_2.jpg exists downloaded_posts\\2023-10-04_15-30-35_UTC_3.jpg exists downloaded_posts\\2023-10-04_15-30-35_UTC_4.jpg exists downloaded_posts\\2023-10-04_15-30-35_UTC_5.jpg exists [Anything but ordinary. 🔗  • C…] unchanged json "
     ]
    },
    {
     "name": "stderr",
     "output_type": "stream",
     "text": [
      " 36%|████████████████████████████▉                                                   | 102/282 [04:10<05:50,  1.95s/it]"
     ]
    },
    {
     "name": "stdout",
     "output_type": "stream",
     "text": [
      "\n",
      "downloaded_posts\\2023-09-07_16-53-44_UTC.jpg exists [Add a texture on your look 🤩 …] unchanged json "
     ]
    },
    {
     "name": "stderr",
     "output_type": "stream",
     "text": [
      " 37%|█████████████████████████████▏                                                  | 103/282 [04:14<07:14,  2.43s/it]"
     ]
    },
    {
     "name": "stdout",
     "output_type": "stream",
     "text": [
      "\n",
      "downloaded_posts\\2023-10-07_15-42-39_UTC.jpg exists [Hi London 👋 @theofficialselfr…] unchanged json "
     ]
    },
    {
     "name": "stderr",
     "output_type": "stream",
     "text": [
      " 37%|█████████████████████████████▌                                                  | 104/282 [04:20<10:16,  3.46s/it]"
     ]
    },
    {
     "name": "stdout",
     "output_type": "stream",
     "text": [
      "\n",
      "downloaded_posts\\2023-06-26_13-04-33_UTC_1.jpg exists downloaded_posts\\2023-06-26_13-04-33_UTC_2.jpg exists downloaded_posts\\2023-06-26_13-04-33_UTC_3.jpg exists [@miakhalifa 🖤] unchanged json "
     ]
    },
    {
     "name": "stderr",
     "output_type": "stream",
     "text": [
      " 37%|█████████████████████████████▊                                                  | 105/282 [04:24<10:27,  3.54s/it]"
     ]
    },
    {
     "name": "stdout",
     "output_type": "stream",
     "text": [
      "\n",
      "downloaded_posts\\2023-05-12_15-35-45_UTC_1.jpg exists downloaded_posts\\2023-05-12_15-35-45_UTC_2.jpg exists downloaded_posts\\2023-05-12_15-35-45_UTC_3.jpg exists downloaded_posts\\2023-05-12_15-35-45_UTC_4.jpg exists downloaded_posts\\2023-05-12_15-35-45_UTC_5.jpg exists downloaded_posts\\2023-05-12_15-35-45_UTC_6.jpg exists downloaded_posts\\2023-05-12_15-35-45_UTC_7.jpg exists [🏝️ Manas Girls 💙] unchanged json "
     ]
    },
    {
     "name": "stderr",
     "output_type": "stream",
     "text": [
      " 38%|██████████████████████████████                                                  | 106/282 [04:25<08:41,  2.96s/it]"
     ]
    },
    {
     "name": "stdout",
     "output_type": "stream",
     "text": [
      "\n",
      "downloaded_posts\\2022-01-27_20-00-18_UTC.jpg exists [#DolceGabbana celebrates the …] unchanged json "
     ]
    },
    {
     "name": "stderr",
     "output_type": "stream",
     "text": [
      " 38%|██████████████████████████████▎                                                 | 107/282 [04:27<07:43,  2.65s/it]"
     ]
    },
    {
     "name": "stdout",
     "output_type": "stream",
     "text": [
      "\n",
      "downloaded_posts\\2022-10-11_13-01-20_UTC_1.jpg exists downloaded_posts\\2022-10-11_13-01-20_UTC_2.jpg exists downloaded_posts\\2022-10-11_13-01-20_UTC_3.jpg exists [🤍 Massive thank you @oddamaga…] unchanged json "
     ]
    },
    {
     "name": "stderr",
     "output_type": "stream",
     "text": [
      " 38%|██████████████████████████████▋                                                 | 108/282 [04:29<07:18,  2.52s/it]"
     ]
    },
    {
     "name": "stdout",
     "output_type": "stream",
     "text": [
      "\n",
      "downloaded_posts\\2022-09-25_15-18-32_UTC.jpg exists [🕊️ @madamefigarofr October is…] unchanged json "
     ]
    },
    {
     "name": "stderr",
     "output_type": "stream",
     "text": [
      " 39%|██████████████████████████████▉                                                 | 109/282 [04:30<06:00,  2.08s/it]"
     ]
    },
    {
     "name": "stdout",
     "output_type": "stream",
     "text": [
      "\n",
      "downloaded_posts\\2022-07-22_15-40-40_UTC_1.jpg exists downloaded_posts\\2022-07-22_15-40-40_UTC_2.jpg exists [🕊️ by @_cha.gonzalez_   Style…] unchanged json "
     ]
    },
    {
     "name": "stderr",
     "output_type": "stream",
     "text": [
      " 39%|███████████████████████████████▏                                                | 110/282 [04:32<05:59,  2.09s/it]"
     ]
    },
    {
     "name": "stdout",
     "output_type": "stream",
     "text": [
      "\n",
      "downloaded_posts\\2022-01-30_19-45-26_UTC_1.jpg exists downloaded_posts\\2022-01-30_19-45-26_UTC_2.jpg exists [💗💓💘💕💖] unchanged json "
     ]
    },
    {
     "name": "stderr",
     "output_type": "stream",
     "text": [
      " 39%|███████████████████████████████▍                                                | 111/282 [04:36<06:54,  2.42s/it]"
     ]
    },
    {
     "name": "stdout",
     "output_type": "stream",
     "text": [
      "\n",
      "downloaded_posts\\2022-01-28_16-38-57_UTC.jpg exists [💗 @highishe] unchanged json "
     ]
    },
    {
     "name": "stderr",
     "output_type": "stream",
     "text": [
      " 40%|███████████████████████████████▊                                                | 112/282 [04:38<06:56,  2.45s/it]"
     ]
    },
    {
     "name": "stdout",
     "output_type": "stream",
     "text": [
      "\n",
      "downloaded_posts\\2022-12-08_13-05-55_UTC_1.jpg exists downloaded_posts\\2022-12-08_13-05-55_UTC_2.jpg exists downloaded_posts\\2022-12-08_13-05-55_UTC_3.jpg exists downloaded_posts\\2022-12-08_13-05-55_UTC_4.jpg exists [Manas Girls 🦋] unchanged json "
     ]
    },
    {
     "name": "stderr",
     "output_type": "stream",
     "text": [
      " 40%|████████████████████████████████                                                | 113/282 [04:40<06:23,  2.27s/it]"
     ]
    },
    {
     "name": "stdout",
     "output_type": "stream",
     "text": [
      "\n",
      "downloaded_posts\\2023-09-21_13-00-10_UTC.jpg exists [@mayajama for #DGFW23 shot by…] unchanged json "
     ]
    },
    {
     "name": "stderr",
     "output_type": "stream",
     "text": [
      " 40%|████████████████████████████████▎                                               | 114/282 [04:42<05:58,  2.13s/it]"
     ]
    },
    {
     "name": "stdout",
     "output_type": "stream",
     "text": [
      "\n",
      "downloaded_posts\\2023-09-15_13-00-10_UTC.jpg exists [@mayajama for #DGFW23 shot by…] unchanged json "
     ]
    },
    {
     "name": "stderr",
     "output_type": "stream",
     "text": [
      " 41%|████████████████████████████████▌                                               | 115/282 [04:45<06:40,  2.40s/it]"
     ]
    },
    {
     "name": "stdout",
     "output_type": "stream",
     "text": [
      "\n",
      "downloaded_posts\\2023-03-30_19-00-11_UTC_1.jpg exists downloaded_posts\\2023-03-30_19-00-11_UTC_2.jpg exists downloaded_posts\\2023-03-30_19-00-11_UTC_3.jpg exists [The Dawn of a New Elegance. H…] unchanged json "
     ]
    },
    {
     "name": "stderr",
     "output_type": "stream",
     "text": [
      " 41%|████████████████████████████████▉                                               | 116/282 [04:47<06:39,  2.41s/it]"
     ]
    },
    {
     "name": "stdout",
     "output_type": "stream",
     "text": [
      "\n",
      "downloaded_posts\\2023-03-24_20-00-00_UTC.jpg exists [@penelopecruzoficial wears a …] unchanged json "
     ]
    },
    {
     "name": "stderr",
     "output_type": "stream",
     "text": [
      " 41%|█████████████████████████████████▏                                              | 117/282 [04:49<05:45,  2.09s/it]"
     ]
    },
    {
     "name": "stdout",
     "output_type": "stream",
     "text": [
      "\n",
      "downloaded_posts\\2023-02-16_19-59-27_UTC.jpg exists [The new #DGSS23 campaign, sho…] unchanged json "
     ]
    },
    {
     "name": "stderr",
     "output_type": "stream",
     "text": [
      " 42%|█████████████████████████████████▍                                              | 118/282 [04:53<07:31,  2.75s/it]"
     ]
    },
    {
     "name": "stdout",
     "output_type": "stream",
     "text": [
      "\n",
      "downloaded_posts\\2022-12-10_17-00-14_UTC_1.jpg exists downloaded_posts\\2022-12-10_17-00-14_UTC_2.jpg exists downloaded_posts\\2022-12-10_17-00-14_UTC_3.jpg exists [Shot by @parsenziani against …] unchanged json "
     ]
    },
    {
     "name": "stderr",
     "output_type": "stream",
     "text": [
      " 42%|█████████████████████████████████▊                                              | 119/282 [04:54<06:16,  2.31s/it]"
     ]
    },
    {
     "name": "stdout",
     "output_type": "stream",
     "text": [
      "\n",
      "downloaded_posts\\2022-10-25_19-00-50_UTC.jpg exists [Repost from @kyliejenner   Ky…] unchanged json "
     ]
    },
    {
     "name": "stderr",
     "output_type": "stream",
     "text": [
      " 43%|██████████████████████████████████                                              | 120/282 [04:56<05:59,  2.22s/it]"
     ]
    },
    {
     "name": "stdout",
     "output_type": "stream",
     "text": [
      "\n",
      "downloaded_posts\\2022-09-04_16-00-44_UTC_1.jpg exists downloaded_posts\\2022-09-04_16-00-44_UTC_2.jpg exists downloaded_posts\\2022-09-04_16-00-44_UTC_3.jpg exists [In a tribute to the iconic #D…] unchanged json "
     ]
    },
    {
     "name": "stderr",
     "output_type": "stream",
     "text": [
      " 43%|██████████████████████████████████▎                                             | 121/282 [04:58<05:59,  2.23s/it]"
     ]
    },
    {
     "name": "stdout",
     "output_type": "stream",
     "text": [
      "\n",
      "downloaded_posts\\2022-08-18_11-00-27_UTC_1.jpg exists downloaded_posts\\2022-08-18_11-00-27_UTC_2.jpg exists downloaded_posts\\2022-08-18_11-00-27_UTC_3.jpg exists [The very essence of the #DGDN…] unchanged json "
     ]
    },
    {
     "name": "stderr",
     "output_type": "stream",
     "text": [
      " 43%|██████████████████████████████████▌                                             | 122/282 [05:00<05:33,  2.09s/it]"
     ]
    },
    {
     "name": "stdout",
     "output_type": "stream",
     "text": [
      "\n",
      "downloaded_posts\\2022-08-16_16-00-09_UTC.jpg exists [A contemporary interpretation…] unchanged json "
     ]
    },
    {
     "name": "stderr",
     "output_type": "stream",
     "text": [
      " 44%|██████████████████████████████████▉                                             | 123/282 [05:01<04:54,  1.85s/it]"
     ]
    },
    {
     "name": "stdout",
     "output_type": "stream",
     "text": [
      "\n",
      "downloaded_posts\\2022-08-10_16-00-57_UTC_1.jpg exists downloaded_posts\\2022-08-10_16-00-57_UTC_2.jpg exists [Poised between rock and 80s g…] unchanged json "
     ]
    },
    {
     "name": "stderr",
     "output_type": "stream",
     "text": [
      " 44%|███████████████████████████████████▏                                            | 124/282 [05:02<04:09,  1.58s/it]"
     ]
    },
    {
     "name": "stdout",
     "output_type": "stream",
     "text": [
      "\n",
      "downloaded_posts\\2022-08-01_19-00-18_UTC.jpg exists [#DolceGabbana pays homage to …] unchanged json "
     ]
    },
    {
     "name": "stderr",
     "output_type": "stream",
     "text": [
      " 44%|███████████████████████████████████▍                                            | 125/282 [05:03<03:33,  1.36s/it]"
     ]
    },
    {
     "name": "stdout",
     "output_type": "stream",
     "text": [
      "\n",
      "downloaded_posts\\2022-06-06_07-56-33_UTC.jpg exists [Passion. Nostalgia. Memories.…] unchanged json "
     ]
    },
    {
     "name": "stderr",
     "output_type": "stream",
     "text": [
      " 45%|███████████████████████████████████▋                                            | 126/282 [05:05<03:53,  1.50s/it]"
     ]
    },
    {
     "name": "stdout",
     "output_type": "stream",
     "text": [
      "\n",
      "downloaded_posts\\2022-04-23_13-00-27_UTC.jpg exists [The breath-taking beauty of t…] unchanged json "
     ]
    },
    {
     "name": "stderr",
     "output_type": "stream",
     "text": [
      " 45%|████████████████████████████████████                                            | 127/282 [05:06<03:34,  1.38s/it]"
     ]
    },
    {
     "name": "stdout",
     "output_type": "stream",
     "text": [
      "\n",
      "downloaded_posts\\2022-02-12_20-00-41_UTC.jpg exists [Introducing #DGTradizione, a …] unchanged json "
     ]
    },
    {
     "name": "stderr",
     "output_type": "stream",
     "text": [
      " 45%|████████████████████████████████████▎                                           | 128/282 [05:08<03:30,  1.37s/it]"
     ]
    },
    {
     "name": "stdout",
     "output_type": "stream",
     "text": [
      "\n",
      "downloaded_posts\\2021-12-30_20-00-35_UTC.jpg exists [#DolceGabbana ambassador @kit…] unchanged json "
     ]
    },
    {
     "name": "stderr",
     "output_type": "stream",
     "text": [
      " 46%|████████████████████████████████████▌                                           | 129/282 [05:09<03:25,  1.35s/it]"
     ]
    },
    {
     "name": "stdout",
     "output_type": "stream",
     "text": [
      "\n",
      "downloaded_posts\\2021-12-29_14-00-12_UTC.jpg exists [Introducing #DGHotStuff, a tr…] unchanged json "
     ]
    },
    {
     "name": "stderr",
     "output_type": "stream",
     "text": [
      " 46%|████████████████████████████████████▉                                           | 130/282 [05:10<03:01,  1.19s/it]"
     ]
    },
    {
     "name": "stdout",
     "output_type": "stream",
     "text": [
      "\n",
      "downloaded_posts\\2021-12-20_12-00-45_UTC.jpg exists [Shot in Capri by photographer…] unchanged json "
     ]
    },
    {
     "name": "stderr",
     "output_type": "stream",
     "text": [
      " 46%|█████████████████████████████████████▏                                          | 131/282 [05:11<02:45,  1.10s/it]"
     ]
    },
    {
     "name": "stdout",
     "output_type": "stream",
     "text": [
      "\n",
      "downloaded_posts\\2021-11-23_16-00-39_UTC.jpg exists [Introducing #DGHotStuff, the …] unchanged json "
     ]
    },
    {
     "name": "stderr",
     "output_type": "stream",
     "text": [
      " 47%|█████████████████████████████████████▍                                          | 132/282 [05:18<07:11,  2.88s/it]"
     ]
    },
    {
     "name": "stdout",
     "output_type": "stream",
     "text": [
      "\n",
      "downloaded_posts\\2021-10-06_19-00-32_UTC_1.jpg exists downloaded_posts\\2021-10-06_19-00-32_UTC_2.jpg exists [Introducing a new journey for…] unchanged json "
     ]
    },
    {
     "name": "stderr",
     "output_type": "stream",
     "text": [
      " 47%|█████████████████████████████████████▋                                          | 133/282 [05:20<07:01,  2.83s/it]"
     ]
    },
    {
     "name": "stdout",
     "output_type": "stream",
     "text": [
      "\n",
      "downloaded_posts\\2021-09-20_19-00-45_UTC.jpg exists [An unexpected and instinctive…] unchanged json "
     ]
    },
    {
     "name": "stderr",
     "output_type": "stream",
     "text": [
      " 48%|██████████████████████████████████████                                          | 134/282 [05:22<06:01,  2.44s/it]"
     ]
    },
    {
     "name": "stdout",
     "output_type": "stream",
     "text": [
      "\n",
      "downloaded_posts\\2021-09-11_19-01-17_UTC_1.jpg exists downloaded_posts\\2021-09-11_19-01-17_UTC_2.jpg exists downloaded_posts\\2021-09-11_19-01-17_UTC_2.mp4 exists [The magical city of Venice, c…] unchanged json "
     ]
    },
    {
     "name": "stderr",
     "output_type": "stream",
     "text": [
      " 48%|██████████████████████████████████████▎                                         | 135/282 [05:26<06:58,  2.85s/it]"
     ]
    },
    {
     "name": "stdout",
     "output_type": "stream",
     "text": [
      "\n",
      "downloaded_posts\\2023-12-05_17-00-34_UTC_1.jpg exists downloaded_posts\\2023-12-05_17-00-34_UTC_2.jpg exists downloaded_posts\\2023-12-05_17-00-34_UTC_3.jpg exists [Get in, ICON, we're going sho…] unchanged json "
     ]
    },
    {
     "name": "stderr",
     "output_type": "stream",
     "text": [
      " 48%|██████████████████████████████████████▌                                         | 136/282 [05:28<06:15,  2.57s/it]"
     ]
    },
    {
     "name": "stdout",
     "output_type": "stream",
     "text": [
      "\n",
      "downloaded_posts\\2023-12-02_12-00-30_UTC_1.jpg exists downloaded_posts\\2023-12-02_12-00-30_UTC_2.jpg exists downloaded_posts\\2023-12-02_12-00-30_UTC_3.jpg exists downloaded_posts\\2023-12-02_12-00-30_UTC_4.jpg exists downloaded_posts\\2023-12-02_12-00-30_UTC_5.jpg exists downloaded_posts\\2023-12-02_12-00-30_UTC_6.jpg exists downloaded_posts\\2023-12-02_12-00-30_UTC_7.jpg exists downloaded_posts\\2023-12-02_12-00-30_UTC_8.jpg exists downloaded_posts\\2023-12-02_12-00-30_UTC_9.jpg exists [Get in the spirit with swimwe…] unchanged json "
     ]
    },
    {
     "name": "stderr",
     "output_type": "stream",
     "text": [
      " 49%|██████████████████████████████████████▊                                         | 137/282 [05:30<06:11,  2.56s/it]"
     ]
    },
    {
     "name": "stdout",
     "output_type": "stream",
     "text": [
      "\n",
      "downloaded_posts\\2023-12-01_17-00-40_UTC_1.jpg exists downloaded_posts\\2023-12-01_17-00-40_UTC_2.jpg exists downloaded_posts\\2023-12-01_17-00-40_UTC_3.jpg exists [Making a list 📃 Checking it t…] unchanged json "
     ]
    },
    {
     "name": "stderr",
     "output_type": "stream",
     "text": [
      " 49%|███████████████████████████████████████▏                                        | 138/282 [05:32<06:00,  2.50s/it]"
     ]
    },
    {
     "name": "stdout",
     "output_type": "stream",
     "text": [
      "\n",
      "downloaded_posts\\2023-12-01_14-00-41_UTC_1.jpg exists downloaded_posts\\2023-12-01_14-00-41_UTC_2.jpg exists downloaded_posts\\2023-12-01_14-00-41_UTC_3.jpg exists downloaded_posts\\2023-12-01_14-00-41_UTC_4.jpg exists downloaded_posts\\2023-12-01_14-00-41_UTC_5.jpg exists [Feel like a star in these stu…] unchanged json "
     ]
    },
    {
     "name": "stderr",
     "output_type": "stream",
     "text": [
      " 49%|███████████████████████████████████████▍                                        | 139/282 [05:33<04:45,  2.00s/it]"
     ]
    },
    {
     "name": "stdout",
     "output_type": "stream",
     "text": [
      "\n",
      "downloaded_posts\\2023-11-28_14-00-28_UTC_1.jpg exists downloaded_posts\\2023-11-28_14-00-28_UTC_2.jpg exists [Could @lelafusco BAE any more…] unchanged json "
     ]
    },
    {
     "name": "stderr",
     "output_type": "stream",
     "text": [
      " 50%|███████████████████████████████████████▋                                        | 140/282 [05:37<05:49,  2.46s/it]"
     ]
    },
    {
     "name": "stdout",
     "output_type": "stream",
     "text": [
      "\n",
      "downloaded_posts\\2023-11-27_12-00-28_UTC_1.jpg exists downloaded_posts\\2023-11-27_12-00-28_UTC_2.jpg exists [@isisgomez__ is so bb girl in…] unchanged json "
     ]
    },
    {
     "name": "stderr",
     "output_type": "stream",
     "text": [
      " 50%|████████████████████████████████████████                                        | 141/282 [05:39<05:26,  2.31s/it]"
     ]
    },
    {
     "name": "stdout",
     "output_type": "stream",
     "text": [
      "\n",
      "downloaded_posts\\2023-11-25_14-00-33_UTC_1.jpg exists downloaded_posts\\2023-11-25_14-00-33_UTC_2.jpg exists downloaded_posts\\2023-11-25_14-00-33_UTC_3.jpg exists downloaded_posts\\2023-11-25_14-00-33_UTC_4.jpg exists downloaded_posts\\2023-11-25_14-00-33_UTC_5.jpg exists downloaded_posts\\2023-11-25_14-00-33_UTC_6.jpg exists downloaded_posts\\2023-11-25_14-00-33_UTC_7.jpg exists downloaded_posts\\2023-11-25_14-00-33_UTC_8.jpg exists downloaded_posts\\2023-11-25_14-00-33_UTC_9.jpg exists [Denim that's all in the detai…] unchanged json "
     ]
    },
    {
     "name": "stderr",
     "output_type": "stream",
     "text": [
      " 50%|████████████████████████████████████████▎                                       | 142/282 [05:42<06:03,  2.60s/it]"
     ]
    },
    {
     "name": "stdout",
     "output_type": "stream",
     "text": [
      "\n",
      "downloaded_posts\\2023-11-22_14-00-35_UTC_1.jpg exists downloaded_posts\\2023-11-22_14-00-35_UTC_2.jpg exists downloaded_posts\\2023-11-22_14-00-35_UTC_3.jpg exists downloaded_posts\\2023-11-22_14-00-35_UTC_4.jpg exists downloaded_posts\\2023-11-22_14-00-35_UTC_5.jpg exists downloaded_posts\\2023-11-22_14-00-35_UTC_6.jpg exists downloaded_posts\\2023-11-22_14-00-35_UTC_7.jpg exists downloaded_posts\\2023-11-22_14-00-35_UTC_8.jpg exists downloaded_posts\\2023-11-22_14-00-35_UTC_9.jpg exists [CAUTION: MAY TURN HEADS RAPID…] unchanged json "
     ]
    },
    {
     "name": "stderr",
     "output_type": "stream",
     "text": [
      " 51%|████████████████████████████████████████▌                                       | 143/282 [05:45<06:13,  2.68s/it]"
     ]
    },
    {
     "name": "stdout",
     "output_type": "stream",
     "text": [
      "\n",
      "downloaded_posts\\2023-11-22_10-30-06_UTC_1.jpg exists downloaded_posts\\2023-11-22_10-30-06_UTC_2.jpg exists downloaded_posts\\2023-11-22_10-30-06_UTC_3.jpg exists downloaded_posts\\2023-11-22_10-30-06_UTC_4.jpg exists [Bounce into style with Looney…] unchanged json "
     ]
    },
    {
     "name": "stderr",
     "output_type": "stream",
     "text": [
      " 51%|████████████████████████████████████████▊                                       | 144/282 [05:47<05:56,  2.58s/it]"
     ]
    },
    {
     "name": "stdout",
     "output_type": "stream",
     "text": [
      "\n",
      "downloaded_posts\\2023-11-15_12-00-40_UTC_1.jpg exists downloaded_posts\\2023-11-15_12-00-40_UTC_2.jpg exists [Zebra prints-cess @britmanuel…] unchanged json "
     ]
    },
    {
     "name": "stderr",
     "output_type": "stream",
     "text": [
      " 51%|█████████████████████████████████████████▏                                      | 145/282 [05:51<06:31,  2.85s/it]"
     ]
    },
    {
     "name": "stdout",
     "output_type": "stream",
     "text": [
      "\n",
      "downloaded_posts\\2023-11-13_12-00-32_UTC_1.jpg exists downloaded_posts\\2023-11-13_12-00-32_UTC_2.jpg exists downloaded_posts\\2023-11-13_12-00-32_UTC_3.jpg exists downloaded_posts\\2023-11-13_12-00-32_UTC_4.jpg exists downloaded_posts\\2023-11-13_12-00-32_UTC_5.jpg exists downloaded_posts\\2023-11-13_12-00-32_UTC_6.jpg exists [Set your lingerie looks to ⚡ …] unchanged json "
     ]
    },
    {
     "name": "stderr",
     "output_type": "stream",
     "text": [
      " 52%|█████████████████████████████████████████▍                                      | 146/282 [05:52<05:13,  2.30s/it]"
     ]
    },
    {
     "name": "stdout",
     "output_type": "stream",
     "text": [
      "\n",
      "downloaded_posts\\2023-11-11_17-00-23_UTC.jpg exists [@haileygrice is perfecting th…] unchanged json "
     ]
    },
    {
     "name": "stderr",
     "output_type": "stream",
     "text": [
      " 52%|█████████████████████████████████████████▋                                      | 147/282 [05:53<04:09,  1.85s/it]"
     ]
    },
    {
     "name": "stdout",
     "output_type": "stream",
     "text": [
      "\n",
      "downloaded_posts\\2023-11-11_12-00-25_UTC_1.jpg exists downloaded_posts\\2023-11-11_12-00-25_UTC_2.jpg exists [Red has entered the chat ❤️🍒😍…] unchanged json "
     ]
    },
    {
     "name": "stderr",
     "output_type": "stream",
     "text": [
      " 52%|█████████████████████████████████████████▉                                      | 148/282 [05:54<03:55,  1.75s/it]"
     ]
    },
    {
     "name": "stdout",
     "output_type": "stream",
     "text": [
      "\n",
      "downloaded_posts\\2023-11-10_12-00-47_UTC_1.jpg exists downloaded_posts\\2023-11-10_12-00-47_UTC_2.jpg exists downloaded_posts\\2023-11-10_12-00-47_UTC_3.jpg exists downloaded_posts\\2023-11-10_12-00-47_UTC_4.jpg exists downloaded_posts\\2023-11-10_12-00-47_UTC_5.jpg exists downloaded_posts\\2023-11-10_12-00-47_UTC_6.jpg exists downloaded_posts\\2023-11-10_12-00-47_UTC_7.jpg exists [For every aesthetic and every…] unchanged json "
     ]
    },
    {
     "name": "stderr",
     "output_type": "stream",
     "text": [
      " 53%|██████████████████████████████████████████▎                                     | 149/282 [05:58<05:31,  2.49s/it]"
     ]
    },
    {
     "name": "stdout",
     "output_type": "stream",
     "text": [
      "\n",
      "downloaded_posts\\2023-11-09_12-30-11_UTC_1.jpg exists downloaded_posts\\2023-11-09_12-30-11_UTC_2.jpg exists [@turnttoni is a poised for pe…] unchanged json "
     ]
    },
    {
     "name": "stderr",
     "output_type": "stream",
     "text": [
      " 53%|██████████████████████████████████████████▌                                     | 150/282 [06:01<05:42,  2.60s/it]"
     ]
    },
    {
     "name": "stdout",
     "output_type": "stream",
     "text": [
      "\n",
      "downloaded_posts\\2023-10-31_15-30-08_UTC_1.jpg exists downloaded_posts\\2023-10-31_15-30-08_UTC_2.jpg exists downloaded_posts\\2023-10-31_15-30-08_UTC_3.jpg exists downloaded_posts\\2023-10-31_15-30-08_UTC_4.jpg exists downloaded_posts\\2023-10-31_15-30-08_UTC_5.jpg exists downloaded_posts\\2023-10-31_15-30-08_UTC_6.jpg exists downloaded_posts\\2023-10-31_15-30-08_UTC_7.jpg exists downloaded_posts\\2023-10-31_15-30-08_UTC_8.jpg exists downloaded_posts\\2023-10-31_15-30-08_UTC_9.jpg exists [👙🦇🏆 The #1 ghoul by the pool …] unchanged json "
     ]
    },
    {
     "name": "stderr",
     "output_type": "stream",
     "text": [
      " 54%|██████████████████████████████████████████▊                                     | 151/282 [06:03<05:22,  2.46s/it]"
     ]
    },
    {
     "name": "stdout",
     "output_type": "stream",
     "text": [
      "\n",
      "downloaded_posts\\2023-10-25_12-00-13_UTC_1.jpg exists downloaded_posts\\2023-10-25_12-00-13_UTC_2.jpg exists downloaded_posts\\2023-10-25_12-00-13_UTC_3.jpg exists [Your ICON era starts NOW 💃🔥 P…] unchanged json "
     ]
    },
    {
     "name": "stderr",
     "output_type": "stream",
     "text": [
      " 54%|███████████████████████████████████████████                                     | 152/282 [06:06<05:47,  2.68s/it]"
     ]
    },
    {
     "name": "stdout",
     "output_type": "stream",
     "text": [
      "\n",
      "downloaded_posts\\2023-10-23_12-00-50_UTC_1.jpg exists downloaded_posts\\2023-10-23_12-00-50_UTC_2.jpg exists downloaded_posts\\2023-10-23_12-00-50_UTC_3.jpg exists downloaded_posts\\2023-10-23_12-00-50_UTC_4.jpg exists downloaded_posts\\2023-10-23_12-00-50_UTC_5.jpg exists downloaded_posts\\2023-10-23_12-00-50_UTC_6.jpg exists downloaded_posts\\2023-10-23_12-00-50_UTC_7.jpg exists downloaded_posts\\2023-10-23_12-00-50_UTC_8.jpg exists downloaded_posts\\2023-10-23_12-00-50_UTC_9.jpg exists [Layering means lots & lots of…] unchanged json "
     ]
    },
    {
     "name": "stderr",
     "output_type": "stream",
     "text": [
      " 54%|███████████████████████████████████████████▍                                    | 153/282 [06:09<05:24,  2.52s/it]"
     ]
    },
    {
     "name": "stdout",
     "output_type": "stream",
     "text": [
      "\n",
      "downloaded_posts\\2023-10-21_12-30-11_UTC_1.jpg exists downloaded_posts\\2023-10-21_12-30-11_UTC_2.jpg exists downloaded_posts\\2023-10-21_12-30-11_UTC_3.jpg exists downloaded_posts\\2023-10-21_12-30-11_UTC_4.jpg exists downloaded_posts\\2023-10-21_12-30-11_UTC_5.jpg exists downloaded_posts\\2023-10-21_12-30-11_UTC_6.jpg exists downloaded_posts\\2023-10-21_12-30-11_UTC_7.jpg exists downloaded_posts\\2023-10-21_12-30-11_UTC_8.jpg exists downloaded_posts\\2023-10-21_12-30-11_UTC_9.jpg exists [Style meets magic! Bring the …] unchanged json "
     ]
    },
    {
     "name": "stderr",
     "output_type": "stream",
     "text": [
      " 55%|███████████████████████████████████████████▋                                    | 154/282 [06:10<04:24,  2.07s/it]"
     ]
    },
    {
     "name": "stdout",
     "output_type": "stream",
     "text": [
      "\n",
      "downloaded_posts\\2023-10-19_17-00-31_UTC_1.jpg exists downloaded_posts\\2023-10-19_17-00-31_UTC_2.jpg exists [Back in black 🖤🖤🖤 @krystaldia…] unchanged json "
     ]
    },
    {
     "name": "stderr",
     "output_type": "stream",
     "text": [
      " 55%|███████████████████████████████████████████▉                                    | 155/282 [06:12<04:38,  2.19s/it]"
     ]
    },
    {
     "name": "stdout",
     "output_type": "stream",
     "text": [
      "\n",
      "downloaded_posts\\2023-10-19_12-00-18_UTC_1.jpg exists downloaded_posts\\2023-10-19_12-00-18_UTC_2.jpg exists [Pink & black in your area! 🖤💗…] unchanged json "
     ]
    },
    {
     "name": "stderr",
     "output_type": "stream",
     "text": [
      " 55%|████████████████████████████████████████████▎                                   | 156/282 [06:13<03:47,  1.80s/it]"
     ]
    },
    {
     "name": "stdout",
     "output_type": "stream",
     "text": [
      "\n",
      "downloaded_posts\\2023-10-06_14-00-08_UTC.jpg exists [@taralosito is absolutely cru…] unchanged json "
     ]
    },
    {
     "name": "stderr",
     "output_type": "stream",
     "text": [
      " 56%|████████████████████████████████████████████▌                                   | 157/282 [06:20<07:03,  3.39s/it]"
     ]
    },
    {
     "name": "stdout",
     "output_type": "stream",
     "text": [
      "\n",
      "downloaded_posts\\2023-10-05_12-30-06_UTC_1.jpg exists downloaded_posts\\2023-10-05_12-30-06_UTC_2.jpg exists [@britmanuela is giving home b…] unchanged json "
     ]
    },
    {
     "name": "stderr",
     "output_type": "stream",
     "text": [
      " 56%|████████████████████████████████████████████▊                                   | 158/282 [06:28<09:36,  4.65s/it]"
     ]
    },
    {
     "name": "stdout",
     "output_type": "stream",
     "text": [
      "\n",
      "downloaded_posts\\2023-10-04_17-00-09_UTC_1.jpg exists downloaded_posts\\2023-10-04_17-00-09_UTC_2.jpg exists downloaded_posts\\2023-10-04_17-00-09_UTC_3.jpg exists downloaded_posts\\2023-10-04_17-00-09_UTC_4.jpg exists downloaded_posts\\2023-10-04_17-00-09_UTC_5.jpg exists downloaded_posts\\2023-10-04_17-00-09_UTC_6.jpg exists [NOT READY Fall vibes are in t…] unchanged json "
     ]
    },
    {
     "name": "stderr",
     "output_type": "stream",
     "text": [
      " 56%|█████████████████████████████████████████████                                   | 159/282 [06:30<08:18,  4.05s/it]"
     ]
    },
    {
     "name": "stdout",
     "output_type": "stream",
     "text": [
      "\n",
      "downloaded_posts\\2023-09-21_02-57-58_UTC_1.jpg exists downloaded_posts\\2023-09-21_02-57-58_UTC_2.jpg exists downloaded_posts\\2023-09-21_02-57-58_UTC_3.jpg exists downloaded_posts\\2023-09-21_02-57-58_UTC_4.jpg exists downloaded_posts\\2023-09-21_02-57-58_UTC_5.jpg exists downloaded_posts\\2023-09-21_02-57-58_UTC_6.jpg exists [The gang is all here and we’r…] unchanged json "
     ]
    },
    {
     "name": "stderr",
     "output_type": "stream",
     "text": [
      " 57%|█████████████████████████████████████████████▍                                  | 160/282 [06:34<07:42,  3.79s/it]"
     ]
    },
    {
     "name": "stdout",
     "output_type": "stream",
     "text": [
      "\n",
      "downloaded_posts\\2023-09-12_12-00-08_UTC_1.jpg exists downloaded_posts\\2023-09-12_12-00-08_UTC_2.jpg exists downloaded_posts\\2023-09-12_12-00-08_UTC_3.jpg exists [Clock in and work up a winnin…] unchanged json "
     ]
    },
    {
     "name": "stderr",
     "output_type": "stream",
     "text": [
      " 57%|█████████████████████████████████████████████▋                                  | 161/282 [06:35<06:22,  3.16s/it]"
     ]
    },
    {
     "name": "stdout",
     "output_type": "stream",
     "text": [
      "\n",
      "downloaded_posts\\2023-08-20_14-00-05_UTC_1.jpg exists downloaded_posts\\2023-08-20_14-00-05_UTC_2.jpg exists downloaded_posts\\2023-08-20_14-00-05_UTC_3.jpg exists [Out-of-Office Reply: Sorry we…] unchanged json "
     ]
    },
    {
     "name": "stderr",
     "output_type": "stream",
     "text": [
      " 57%|█████████████████████████████████████████████▉                                  | 162/282 [06:37<05:30,  2.76s/it]"
     ]
    },
    {
     "name": "stdout",
     "output_type": "stream",
     "text": [
      "\n",
      "downloaded_posts\\2023-08-16_17-00-09_UTC_1.jpg exists downloaded_posts\\2023-08-16_17-00-09_UTC_2.jpg exists downloaded_posts\\2023-08-16_17-00-09_UTC_3.jpg exists [BFFs = Beach Friends Forever …] unchanged json "
     ]
    },
    {
     "name": "stderr",
     "output_type": "stream",
     "text": [
      " 58%|██████████████████████████████████████████████▏                                 | 163/282 [06:38<04:36,  2.32s/it]"
     ]
    },
    {
     "name": "stdout",
     "output_type": "stream",
     "text": [
      "\n",
      "downloaded_posts\\2023-08-14_14-00-09_UTC_1.jpg exists downloaded_posts\\2023-08-14_14-00-09_UTC_2.jpg exists downloaded_posts\\2023-08-14_14-00-09_UTC_3.jpg exists downloaded_posts\\2023-08-14_14-00-09_UTC_4.jpg exists downloaded_posts\\2023-08-14_14-00-09_UTC_5.jpg exists [\"Make way, Main Character com…] unchanged json "
     ]
    },
    {
     "name": "stderr",
     "output_type": "stream",
     "text": [
      " 58%|██████████████████████████████████████████████▌                                 | 164/282 [06:40<03:54,  1.98s/it]"
     ]
    },
    {
     "name": "stdout",
     "output_type": "stream",
     "text": [
      "\n",
      "downloaded_posts\\2023-08-13_11-30-08_UTC_1.jpg exists downloaded_posts\\2023-08-13_11-30-08_UTC_2.jpg exists downloaded_posts\\2023-08-13_11-30-08_UTC_3.jpg exists downloaded_posts\\2023-08-13_11-30-08_UTC_4.jpg exists downloaded_posts\\2023-08-13_11-30-08_UTC_5.jpg exists [Pick your minimalist chic sum…] unchanged json "
     ]
    },
    {
     "name": "stderr",
     "output_type": "stream",
     "text": [
      " 59%|██████████████████████████████████████████████▊                                 | 165/282 [06:42<03:56,  2.02s/it]"
     ]
    },
    {
     "name": "stdout",
     "output_type": "stream",
     "text": [
      "\n",
      "downloaded_posts\\2023-07-30_15-30-06_UTC_1.jpg exists downloaded_posts\\2023-07-30_15-30-06_UTC_2.jpg exists downloaded_posts\\2023-07-30_15-30-06_UTC_3.jpg exists downloaded_posts\\2023-07-30_15-30-06_UTC_4.jpg exists downloaded_posts\\2023-07-30_15-30-06_UTC_5.jpg exists [Master the art of playfully p…] unchanged json "
     ]
    },
    {
     "name": "stderr",
     "output_type": "stream",
     "text": [
      " 59%|███████████████████████████████████████████████                                 | 166/282 [06:46<05:14,  2.71s/it]"
     ]
    },
    {
     "name": "stdout",
     "output_type": "stream",
     "text": [
      "\n",
      "downloaded_posts\\2023-07-29_15-30-04_UTC_1.jpg exists downloaded_posts\\2023-07-29_15-30-04_UTC_2.jpg exists downloaded_posts\\2023-07-29_15-30-04_UTC_3.jpg exists downloaded_posts\\2023-07-29_15-30-04_UTC_4.jpg exists [Which white hot looks are bur…] unchanged json "
     ]
    },
    {
     "name": "stderr",
     "output_type": "stream",
     "text": [
      " 59%|███████████████████████████████████████████████▍                                | 167/282 [06:48<05:00,  2.61s/it]"
     ]
    },
    {
     "name": "stdout",
     "output_type": "stream",
     "text": [
      "\n",
      "downloaded_posts\\2023-07-29_12-00-07_UTC_1.jpg exists downloaded_posts\\2023-07-29_12-00-07_UTC_2.jpg exists downloaded_posts\\2023-07-29_12-00-07_UTC_3.jpg exists [We love these sets a latte ☕✨…] unchanged json "
     ]
    },
    {
     "name": "stderr",
     "output_type": "stream",
     "text": [
      " 60%|███████████████████████████████████████████████▋                                | 168/282 [06:49<04:02,  2.13s/it]"
     ]
    },
    {
     "name": "stdout",
     "output_type": "stream",
     "text": [
      "\n",
      "downloaded_posts\\2023-07-26_17-30-06_UTC_1.jpg exists downloaded_posts\\2023-07-26_17-30-06_UTC_2.jpg exists [@chechurodriguez_real is comi…] unchanged json "
     ]
    },
    {
     "name": "stderr",
     "output_type": "stream",
     "text": [
      " 60%|███████████████████████████████████████████████▉                                | 169/282 [06:51<03:46,  2.01s/it]"
     ]
    },
    {
     "name": "stdout",
     "output_type": "stream",
     "text": [
      "\n",
      "downloaded_posts\\2023-07-26_14-00-04_UTC_1.jpg exists downloaded_posts\\2023-07-26_14-00-04_UTC_2.jpg exists downloaded_posts\\2023-07-26_14-00-04_UTC_3.jpg exists downloaded_posts\\2023-07-26_14-00-04_UTC_4.jpg exists downloaded_posts\\2023-07-26_14-00-04_UTC_5.jpg exists [Be a fashion MVP with Space J…] unchanged json "
     ]
    },
    {
     "name": "stderr",
     "output_type": "stream",
     "text": [
      " 60%|████████████████████████████████████████████████▏                               | 170/282 [06:57<06:06,  3.27s/it]"
     ]
    },
    {
     "name": "stdout",
     "output_type": "stream",
     "text": [
      "\n",
      "downloaded_posts\\2023-07-17_12-00-06_UTC_1.jpg exists downloaded_posts\\2023-07-17_12-00-06_UTC_2.jpg exists downloaded_posts\\2023-07-17_12-00-06_UTC_3.jpg exists [Which cozy morning fit has yo…] unchanged json "
     ]
    },
    {
     "name": "stderr",
     "output_type": "stream",
     "text": [
      " 61%|████████████████████████████████████████████████▌                               | 171/282 [06:58<04:52,  2.64s/it]"
     ]
    },
    {
     "name": "stdout",
     "output_type": "stream",
     "text": [
      "\n",
      "downloaded_posts\\2023-07-07_14-00-08_UTC_1.jpg exists downloaded_posts\\2023-07-07_14-00-08_UTC_2.jpg exists [Which athleisure set would sl…] unchanged json "
     ]
    },
    {
     "name": "stderr",
     "output_type": "stream",
     "text": [
      " 61%|████████████████████████████████████████████████▊                               | 172/282 [07:00<04:15,  2.32s/it]"
     ]
    },
    {
     "name": "stdout",
     "output_type": "stream",
     "text": [
      "\n",
      "downloaded_posts\\2023-07-05_17-00-09_UTC_1.jpg exists downloaded_posts\\2023-07-05_17-00-09_UTC_2.jpg exists downloaded_posts\\2023-07-05_17-00-09_UTC_3.jpg exists downloaded_posts\\2023-07-05_17-00-09_UTC_4.jpg exists downloaded_posts\\2023-07-05_17-00-09_UTC_5.jpg exists downloaded_posts\\2023-07-05_17-00-09_UTC_6.jpg exists downloaded_posts\\2023-07-05_17-00-09_UTC_7.jpg exists [Gear that keeps up with your …] unchanged json "
     ]
    },
    {
     "name": "stderr",
     "output_type": "stream",
     "text": [
      " 61%|█████████████████████████████████████████████████                               | 173/282 [07:01<03:38,  2.01s/it]"
     ]
    },
    {
     "name": "stdout",
     "output_type": "stream",
     "text": [
      "\n",
      "downloaded_posts\\2023-06-30_12-30-07_UTC_1.jpg exists downloaded_posts\\2023-06-30_12-30-07_UTC_2.jpg exists downloaded_posts\\2023-06-30_12-30-07_UTC_3.jpg exists downloaded_posts\\2023-06-30_12-30-07_UTC_4.jpg exists downloaded_posts\\2023-06-30_12-30-07_UTC_5.jpg exists [Timeless styles are always tr…] unchanged json "
     ]
    },
    {
     "name": "stderr",
     "output_type": "stream",
     "text": [
      " 62%|█████████████████████████████████████████████████▎                              | 174/282 [07:06<04:57,  2.75s/it]"
     ]
    },
    {
     "name": "stdout",
     "output_type": "stream",
     "text": [
      "\n",
      "downloaded_posts\\2023-06-26_17-00-06_UTC_1.jpg exists downloaded_posts\\2023-06-26_17-00-06_UTC_2.jpg exists downloaded_posts\\2023-06-26_17-00-06_UTC_3.jpg exists [Which extra earthy vibe would…] unchanged json "
     ]
    },
    {
     "name": "stderr",
     "output_type": "stream",
     "text": [
      " 62%|█████████████████████████████████████████████████▋                              | 175/282 [07:07<04:01,  2.26s/it]"
     ]
    },
    {
     "name": "stdout",
     "output_type": "stream",
     "text": [
      "\n",
      "downloaded_posts\\2023-06-22_17-00-07_UTC_1.jpg exists downloaded_posts\\2023-06-22_17-00-07_UTC_2.jpg exists downloaded_posts\\2023-06-22_17-00-07_UTC_3.jpg exists [@turnttoni is enjoying a Mari…] unchanged json "
     ]
    },
    {
     "name": "stderr",
     "output_type": "stream",
     "text": [
      " 62%|█████████████████████████████████████████████████▉                              | 176/282 [07:10<04:39,  2.63s/it]"
     ]
    },
    {
     "name": "stdout",
     "output_type": "stream",
     "text": [
      "\n",
      "downloaded_posts\\2023-06-17_09-00-08_UTC_1.jpg exists downloaded_posts\\2023-06-17_09-00-08_UTC_2.jpg exists downloaded_posts\\2023-06-17_09-00-08_UTC_3.jpg exists downloaded_posts\\2023-06-17_09-00-08_UTC_4.jpg exists downloaded_posts\\2023-06-17_09-00-08_UTC_5.jpg exists downloaded_posts\\2023-06-17_09-00-08_UTC_6.jpg exists downloaded_posts\\2023-06-17_09-00-08_UTC_7.jpg exists downloaded_posts\\2023-06-17_09-00-08_UTC_8.jpg exists [Whether you're hitting the st…] unchanged json "
     ]
    },
    {
     "name": "stderr",
     "output_type": "stream",
     "text": [
      " 63%|██████████████████████████████████████████████████▏                             | 177/282 [07:12<03:53,  2.23s/it]"
     ]
    },
    {
     "name": "stdout",
     "output_type": "stream",
     "text": [
      "\n",
      "downloaded_posts\\2023-06-15_11-00-00_UTC_1.jpg exists downloaded_posts\\2023-06-15_11-00-00_UTC_2.jpg exists downloaded_posts\\2023-06-15_11-00-00_UTC_3.jpg exists downloaded_posts\\2023-06-15_11-00-00_UTC_4.jpg exists downloaded_posts\\2023-06-15_11-00-00_UTC_5.jpg exists [Soft Girl Summer is calling 🌞…] unchanged json "
     ]
    },
    {
     "name": "stderr",
     "output_type": "stream",
     "text": [
      " 63%|██████████████████████████████████████████████████▍                             | 178/282 [07:17<05:23,  3.11s/it]"
     ]
    },
    {
     "name": "stdout",
     "output_type": "stream",
     "text": [
      "\n",
      "downloaded_posts\\2023-06-13_12-30-07_UTC_1.jpg exists downloaded_posts\\2023-06-13_12-30-07_UTC_2.jpg exists [Serve! 🔥 @britmanuela is spor…] unchanged json "
     ]
    },
    {
     "name": "stderr",
     "output_type": "stream",
     "text": [
      " 63%|██████████████████████████████████████████████████▊                             | 179/282 [07:18<04:10,  2.43s/it]"
     ]
    },
    {
     "name": "stdout",
     "output_type": "stream",
     "text": [
      "\n",
      "downloaded_posts\\2023-06-08_13-00-08_UTC_1.jpg exists downloaded_posts\\2023-06-08_13-00-08_UTC_2.jpg exists downloaded_posts\\2023-06-08_13-00-08_UTC_3.jpg exists [Pick your next satin slay: 1,…] unchanged json "
     ]
    },
    {
     "name": "stderr",
     "output_type": "stream",
     "text": [
      " 64%|███████████████████████████████████████████████████                             | 180/282 [07:21<04:24,  2.60s/it]"
     ]
    },
    {
     "name": "stdout",
     "output_type": "stream",
     "text": [
      "\n",
      "downloaded_posts\\2023-06-06_03-50-09_UTC_1.jpg exists downloaded_posts\\2023-06-06_03-50-09_UTC_2.jpg exists downloaded_posts\\2023-06-06_03-50-09_UTC_3.jpg exists downloaded_posts\\2023-06-06_03-50-09_UTC_4.jpg exists downloaded_posts\\2023-06-06_03-50-09_UTC_5.jpg exists downloaded_posts\\2023-06-06_03-50-09_UTC_6.jpg exists downloaded_posts\\2023-06-06_03-50-09_UTC_7.jpg exists [These workout sets are curren…] unchanged json "
     ]
    },
    {
     "name": "stderr",
     "output_type": "stream",
     "text": [
      " 64%|███████████████████████████████████████████████████▎                            | 181/282 [07:22<03:55,  2.33s/it]"
     ]
    },
    {
     "name": "stdout",
     "output_type": "stream",
     "text": [
      "\n",
      "downloaded_posts\\2023-06-04_12-00-08_UTC_1.jpg exists downloaded_posts\\2023-06-04_12-00-08_UTC_2.jpg exists downloaded_posts\\2023-06-04_12-00-08_UTC_3.jpg exists [BRB, manifesting this LBD 🖤➕🛒…] unchanged json "
     ]
    },
    {
     "name": "stderr",
     "output_type": "stream",
     "text": [
      " 65%|███████████████████████████████████████████████████▋                            | 182/282 [07:23<03:07,  1.87s/it]"
     ]
    },
    {
     "name": "stdout",
     "output_type": "stream",
     "text": [
      "\n",
      "downloaded_posts\\2023-05-28_12-00-07_UTC_1.jpg exists downloaded_posts\\2023-05-28_12-00-07_UTC_2.jpg exists downloaded_posts\\2023-05-28_12-00-07_UTC_3.jpg exists [Pick your Cool Girl Summer st…] unchanged json "
     ]
    },
    {
     "name": "stderr",
     "output_type": "stream",
     "text": [
      " 65%|███████████████████████████████████████████████████▉                            | 183/282 [07:28<04:43,  2.87s/it]"
     ]
    },
    {
     "name": "stdout",
     "output_type": "stream",
     "text": [
      "\n",
      "downloaded_posts\\2023-05-21_14-01-45_UTC_1.jpg exists downloaded_posts\\2023-05-21_14-01-45_UTC_2.jpg exists downloaded_posts\\2023-05-21_14-01-45_UTC_3.jpg exists [Pick your next pajama party p…] unchanged json "
     ]
    },
    {
     "name": "stderr",
     "output_type": "stream",
     "text": [
      " 65%|████████████████████████████████████████████████████▏                           | 184/282 [07:29<03:39,  2.24s/it]"
     ]
    },
    {
     "name": "stdout",
     "output_type": "stream",
     "text": [
      "\n",
      "downloaded_posts\\2023-11-21_17-01-14_UTC.jpg exists [Versace Holiday  Amelia wears…] unchanged json "
     ]
    },
    {
     "name": "stderr",
     "output_type": "stream",
     "text": [
      " 66%|████████████████████████████████████████████████████▍                           | 185/282 [07:31<03:21,  2.07s/it]"
     ]
    },
    {
     "name": "stdout",
     "output_type": "stream",
     "text": [
      "\n",
      "downloaded_posts\\2023-11-22_21-00-08_UTC.jpg exists [Hailey Bieber wears #PradaHol…] unchanged json "
     ]
    },
    {
     "name": "stderr",
     "output_type": "stream",
     "text": [
      " 66%|████████████████████████████████████████████████████▊                           | 186/282 [07:32<02:45,  1.72s/it]"
     ]
    },
    {
     "name": "stdout",
     "output_type": "stream",
     "text": [
      "\n",
      "downloaded_posts\\2023-09-26_12-00-11_UTC_1.jpg exists downloaded_posts\\2023-09-26_12-00-11_UTC_2.jpg exists downloaded_posts\\2023-09-26_12-00-11_UTC_3.jpg exists downloaded_posts\\2023-09-26_12-00-11_UTC_4.jpg exists downloaded_posts\\2023-09-26_12-00-11_UTC_5.jpg exists [Recognized ideas, techniques …] unchanged json "
     ]
    },
    {
     "name": "stderr",
     "output_type": "stream",
     "text": [
      " 66%|█████████████████████████████████████████████████████                           | 187/282 [07:33<02:41,  1.70s/it]"
     ]
    },
    {
     "name": "stdout",
     "output_type": "stream",
     "text": [
      "\n",
      "downloaded_posts\\2023-06-15_16-00-10_UTC.jpg exists [Miley Cyrus wears a custom #P…] unchanged json "
     ]
    },
    {
     "name": "stderr",
     "output_type": "stream",
     "text": [
      " 67%|█████████████████████████████████████████████████████▎                          | 188/282 [07:35<02:46,  1.78s/it]"
     ]
    },
    {
     "name": "stdout",
     "output_type": "stream",
     "text": [
      "\n",
      "downloaded_posts\\2023-04-27_20-00-19_UTC_1.jpg exists downloaded_posts\\2023-04-27_20-00-19_UTC_2.jpg exists [Jeon Somi wears #PradaSS23 an…] unchanged json "
     ]
    },
    {
     "name": "stderr",
     "output_type": "stream",
     "text": [
      " 67%|█████████████████████████████████████████████████████▌                          | 189/282 [07:37<02:34,  1.66s/it]"
     ]
    },
    {
     "name": "stdout",
     "output_type": "stream",
     "text": [
      "\n",
      "downloaded_posts\\2023-04-21_20-00-09_UTC.jpg exists [Juxtapositions between purpos…] unchanged json "
     ]
    },
    {
     "name": "stderr",
     "output_type": "stream",
     "text": [
      " 67%|█████████████████████████████████████████████████████▉                          | 190/282 [07:38<02:32,  1.65s/it]"
     ]
    },
    {
     "name": "stdout",
     "output_type": "stream",
     "text": [
      "\n",
      "downloaded_posts\\2023-02-19_17-06-38_UTC.jpg exists [Margot Robbie wears #PradaSS2…] unchanged json "
     ]
    },
    {
     "name": "stderr",
     "output_type": "stream",
     "text": [
      " 68%|██████████████████████████████████████████████████████▏                         | 191/282 [07:39<02:07,  1.40s/it]"
     ]
    },
    {
     "name": "stdout",
     "output_type": "stream",
     "text": [
      "\n",
      "downloaded_posts\\2023-02-19_17-06-38_UTC.jpg exists [Margot Robbie wears #PradaSS2…] unchanged json "
     ]
    },
    {
     "name": "stderr",
     "output_type": "stream",
     "text": [
      " 68%|██████████████████████████████████████████████████████▍                         | 192/282 [07:40<01:54,  1.27s/it]"
     ]
    },
    {
     "name": "stdout",
     "output_type": "stream",
     "text": [
      "\n",
      "downloaded_posts\\2022-11-29_17-06-53_UTC.jpg exists [Rita Ora wears a full Prada l…] unchanged json "
     ]
    },
    {
     "name": "stderr",
     "output_type": "stream",
     "text": [
      " 68%|██████████████████████████████████████████████████████▊                         | 193/282 [07:42<02:19,  1.56s/it]"
     ]
    },
    {
     "name": "stdout",
     "output_type": "stream",
     "text": [
      "\n",
      "downloaded_posts\\2022-10-31_13-00-12_UTC_1.jpg exists downloaded_posts\\2022-10-31_13-00-12_UTC_2.jpg exists [Rosalía wears #PradaFW22 and …] unchanged json "
     ]
    },
    {
     "name": "stderr",
     "output_type": "stream",
     "text": [
      " 69%|███████████████████████████████████████████████████████                         | 194/282 [07:47<03:50,  2.62s/it]"
     ]
    },
    {
     "name": "stdout",
     "output_type": "stream",
     "text": [
      "\n",
      "downloaded_posts\\2022-10-02_16-00-13_UTC_1.jpg exists downloaded_posts\\2022-10-02_16-00-13_UTC_2.jpg exists [Guinevere van Seenus wears #P…] unchanged json "
     ]
    },
    {
     "name": "stderr",
     "output_type": "stream",
     "text": [
      " 69%|███████████████████████████████████████████████████████▎                        | 195/282 [07:49<03:19,  2.29s/it]"
     ]
    },
    {
     "name": "stdout",
     "output_type": "stream",
     "text": [
      "\n",
      "downloaded_posts\\2022-09-12_12-21-50_UTC.jpg exists [Gisèle Bündchen wears #PradaF…] unchanged json "
     ]
    },
    {
     "name": "stderr",
     "output_type": "stream",
     "text": [
      " 70%|███████████████████████████████████████████████████████▌                        | 196/282 [07:50<02:47,  1.95s/it]"
     ]
    },
    {
     "name": "stdout",
     "output_type": "stream",
     "text": [
      "\n",
      "downloaded_posts\\2022-05-16_12-01-17_UTC.jpg exists [On @gq, @rosalia.vt wears a #…] unchanged json "
     ]
    },
    {
     "name": "stderr",
     "output_type": "stream",
     "text": [
      " 70%|███████████████████████████████████████████████████████▉                        | 197/282 [07:53<03:10,  2.24s/it]"
     ]
    },
    {
     "name": "stdout",
     "output_type": "stream",
     "text": [
      "\n",
      "downloaded_posts\\2022-05-10_16-00-12_UTC.jpg exists [For @voguemagazine’s June/Jul…] unchanged json "
     ]
    },
    {
     "name": "stderr",
     "output_type": "stream",
     "text": [
      " 70%|████████████████████████████████████████████████████████▏                       | 198/282 [07:54<02:30,  1.79s/it]"
     ]
    },
    {
     "name": "stdout",
     "output_type": "stream",
     "text": [
      "\n",
      "downloaded_posts\\2021-05-31_16-19-42_UTC_1.jpg exists downloaded_posts\\2021-05-31_16-19-42_UTC_2.jpg exists [On @elleindonesia, @ritaora w…] unchanged json "
     ]
    },
    {
     "name": "stderr",
     "output_type": "stream",
     "text": [
      " 71%|████████████████████████████████████████████████████████▍                       | 199/282 [07:59<03:52,  2.80s/it]"
     ]
    },
    {
     "name": "stdout",
     "output_type": "stream",
     "text": [
      "\n",
      "downloaded_posts\\2019-10-24_11-49-40_UTC.jpg exists [Discover our FW19 Collection …] unchanged json "
     ]
    },
    {
     "name": "stderr",
     "output_type": "stream",
     "text": [
      " 71%|████████████████████████████████████████████████████████▋                       | 200/282 [08:00<03:02,  2.22s/it]"
     ]
    },
    {
     "name": "stdout",
     "output_type": "stream",
     "text": [
      "\n",
      "\n",
      "Too many queries in the last time. Need to wait 188 seconds, until 17:27.\n",
      "downloaded_posts\\2018-08-16_09-01-47_UTC.jpg exists [Baby. Bold. Brilliant. #AmenF…] unchanged json "
     ]
    },
    {
     "name": "stderr",
     "output_type": "stream",
     "text": [
      " 71%|███████████████████████████████████████████████████████▌                      | 201/282 [11:09<1:18:36, 58.23s/it]"
     ]
    },
    {
     "name": "stdout",
     "output_type": "stream",
     "text": [
      "\n",
      "downloaded_posts\\2018-06-25_08-48-23_UTC.jpg exists [Every summer has its own stor…] unchanged json "
     ]
    },
    {
     "name": "stderr",
     "output_type": "stream",
     "text": [
      " 72%|█████████████████████████████████████████████████████████▎                      | 202/282 [11:17<57:40, 43.25s/it]"
     ]
    },
    {
     "name": "stdout",
     "output_type": "stream",
     "text": [
      "\n",
      "downloaded_posts\\2018-04-12_13-45-37_UTC.jpg exists [Stunning @oliviaculpo wearing…] unchanged json "
     ]
    },
    {
     "name": "stderr",
     "output_type": "stream",
     "text": [
      " 72%|█████████████████████████████████████████████████████████▌                      | 203/282 [11:19<40:37, 30.86s/it]"
     ]
    },
    {
     "name": "stdout",
     "output_type": "stream",
     "text": [
      "\n",
      "downloaded_posts\\2017-09-20_07-34-38_UTC.jpg exists [Winter is coming and @amensty…] unchanged json "
     ]
    },
    {
     "name": "stderr",
     "output_type": "stream",
     "text": [
      " 72%|█████████████████████████████████████████████████████████▊                      | 204/282 [11:20<28:32, 21.95s/it]"
     ]
    },
    {
     "name": "stdout",
     "output_type": "stream",
     "text": [
      "\n",
      "downloaded_posts\\2016-10-02_09-12-04_UTC.jpg exists [Amen Couture #ss17. Discover …] unchanged json "
     ]
    },
    {
     "name": "stderr",
     "output_type": "stream",
     "text": [
      " 73%|██████████████████████████████████████████████████████████▏                     | 205/282 [11:22<20:14, 15.77s/it]"
     ]
    },
    {
     "name": "stdout",
     "output_type": "stream",
     "text": [
      "\n",
      "downloaded_posts\\2016-03-12_18-19-07_UTC.jpg exists [New Amen Dress from the last …] unchanged json "
     ]
    },
    {
     "name": "stderr",
     "output_type": "stream",
     "text": [
      " 73%|██████████████████████████████████████████████████████████▍                     | 206/282 [11:22<14:18, 11.30s/it]"
     ]
    },
    {
     "name": "stdout",
     "output_type": "stream",
     "text": [
      "\n",
      "downloaded_posts\\2015-11-18_18-26-59_UTC.jpg exists [Stunning Mariana Rodriguez in…] unchanged json "
     ]
    },
    {
     "name": "stderr",
     "output_type": "stream",
     "text": [
      " 73%|██████████████████████████████████████████████████████████▋                     | 207/282 [11:25<10:45,  8.61s/it]"
     ]
    },
    {
     "name": "stdout",
     "output_type": "stream",
     "text": [
      "\n",
      "downloaded_posts\\2020-12-21_18-09-40_UTC.jpg exists [Open back #AmenStyle #AmenFW20] unchanged json "
     ]
    },
    {
     "name": "stderr",
     "output_type": "stream",
     "text": [
      " 74%|███████████████████████████████████████████████████████████                     | 208/282 [11:27<08:11,  6.64s/it]"
     ]
    },
    {
     "name": "stdout",
     "output_type": "stream",
     "text": [
      "\n",
      "downloaded_posts\\2020-04-10_08-57-20_UTC.jpg exists [Crystal Pumps ✨ #AmenStyle #A…] unchanged json "
     ]
    },
    {
     "name": "stderr",
     "output_type": "stream",
     "text": [
      " 74%|███████████████████████████████████████████████████████████▎                    | 209/282 [11:28<06:08,  5.05s/it]"
     ]
    },
    {
     "name": "stdout",
     "output_type": "stream",
     "text": [
      "\n",
      "downloaded_posts\\2019-03-28_08-08-59_UTC.jpg exists [Looking ahead to Fall - Winte…] unchanged json "
     ]
    },
    {
     "name": "stderr",
     "output_type": "stream",
     "text": [
      " 74%|███████████████████████████████████████████████████████████▌                    | 210/282 [11:39<08:15,  6.88s/it]"
     ]
    },
    {
     "name": "stdout",
     "output_type": "stream",
     "text": [
      "\n",
      "downloaded_posts\\2016-08-27_19-08-47_UTC.jpg exists [Amen Couture Flower Body on @…] unchanged json "
     ]
    },
    {
     "name": "stderr",
     "output_type": "stream",
     "text": [
      " 75%|███████████████████████████████████████████████████████████▊                    | 211/282 [11:40<06:02,  5.11s/it]"
     ]
    },
    {
     "name": "stdout",
     "output_type": "stream",
     "text": [
      "\n",
      "downloaded_posts\\2016-01-29_14-48-24_UTC.jpg exists [AMEN Fall/Winter 2016 collect…] unchanged json "
     ]
    },
    {
     "name": "stderr",
     "output_type": "stream",
     "text": [
      " 75%|████████████████████████████████████████████████████████████▏                   | 212/282 [11:41<04:26,  3.80s/it]"
     ]
    },
    {
     "name": "stdout",
     "output_type": "stream",
     "text": [
      "\n",
      "downloaded_posts\\2015-07-06_10-38-30_UTC.jpg exists [Stunning DJ @emastokholma wea…] unchanged json "
     ]
    },
    {
     "name": "stderr",
     "output_type": "stream",
     "text": [
      " 76%|████████████████████████████████████████████████████████████▍                   | 213/282 [11:42<03:27,  3.01s/it]"
     ]
    },
    {
     "name": "stdout",
     "output_type": "stream",
     "text": [
      "\n",
      "downloaded_posts\\2015-06-01_07-45-08_UTC.jpg exists [@emastokholma in Amen embroid…] unchanged json "
     ]
    },
    {
     "name": "stderr",
     "output_type": "stream",
     "text": [
      " 76%|████████████████████████████████████████████████████████████▋                   | 214/282 [11:43<02:39,  2.35s/it]"
     ]
    },
    {
     "name": "stdout",
     "output_type": "stream",
     "text": [
      "\n",
      "downloaded_posts\\2014-04-12_09-13-03_UTC.jpg exists [RG @nimabenati #amencouture a…] unchanged json "
     ]
    },
    {
     "name": "stderr",
     "output_type": "stream",
     "text": [
      " 76%|████████████████████████████████████████████████████████████▉                   | 215/282 [11:44<02:05,  1.88s/it]"
     ]
    },
    {
     "name": "stdout",
     "output_type": "stream",
     "text": [
      "\n",
      "downloaded_posts\\2013-10-08_12-40-36_UTC.jpg exists [Valentina Vignali looks explo…] unchanged json "
     ]
    },
    {
     "name": "stderr",
     "output_type": "stream",
     "text": [
      " 77%|█████████████████████████████████████████████████████████████▎                  | 216/282 [11:52<04:04,  3.71s/it]"
     ]
    },
    {
     "name": "stdout",
     "output_type": "stream",
     "text": [
      "\n",
      "downloaded_posts\\2014-03-21_10-14-52_UTC.jpg exists [Regram @nimabenati #amenstyle…] unchanged json "
     ]
    },
    {
     "name": "stderr",
     "output_type": "stream",
     "text": [
      " 77%|█████████████████████████████████████████████████████████████▌                  | 217/282 [11:53<03:10,  2.92s/it]"
     ]
    },
    {
     "name": "stdout",
     "output_type": "stream",
     "text": [
      "\n",
      "downloaded_posts\\2023-11-19_13-37-28_UTC_1.jpg exists downloaded_posts\\2023-11-19_13-37-28_UTC_2.jpg exists downloaded_posts\\2023-11-19_13-37-28_UTC_3.jpg exists downloaded_posts\\2023-11-19_13-37-28_UTC_4.jpg exists [It's a golden touch by @luiza…] unchanged json "
     ]
    },
    {
     "name": "stderr",
     "output_type": "stream",
     "text": [
      " 77%|█████████████████████████████████████████████████████████████▊                  | 218/282 [11:54<02:34,  2.42s/it]"
     ]
    },
    {
     "name": "stdout",
     "output_type": "stream",
     "text": [
      "\n",
      "downloaded_posts\\2023-11-07_12-34-36_UTC_1.jpg exists downloaded_posts\\2023-11-07_12-34-36_UTC_2.jpg exists downloaded_posts\\2023-11-07_12-34-36_UTC_3.jpg exists downloaded_posts\\2023-11-07_12-34-36_UTC_4.jpg exists [@julietapadros in this fit ne…] unchanged json "
     ]
    },
    {
     "name": "stderr",
     "output_type": "stream",
     "text": [
      " 78%|██████████████████████████████████████████████████████████████▏                 | 219/282 [11:56<02:25,  2.31s/it]"
     ]
    },
    {
     "name": "stdout",
     "output_type": "stream",
     "text": [
      "\n",
      "downloaded_posts\\2023-10-10_11-24-16_UTC_1.jpg exists downloaded_posts\\2023-10-10_11-24-16_UTC_2.jpg exists downloaded_posts\\2023-10-10_11-24-16_UTC_3.jpg exists downloaded_posts\\2023-10-10_11-24-16_UTC_4.jpg exists downloaded_posts\\2023-10-10_11-24-16_UTC_5.jpg exists [Our girlies are manifesting a…] unchanged json "
     ]
    },
    {
     "name": "stderr",
     "output_type": "stream",
     "text": [
      " 78%|██████████████████████████████████████████████████████████████▍                 | 220/282 [11:59<02:39,  2.57s/it]"
     ]
    },
    {
     "name": "stdout",
     "output_type": "stream",
     "text": [
      "\n",
      "downloaded_posts\\2023-09-19_13-24-46_UTC_1.jpg exists downloaded_posts\\2023-09-19_13-24-46_UTC_2.jpg exists downloaded_posts\\2023-09-19_13-24-46_UTC_3.jpg exists downloaded_posts\\2023-09-19_13-24-46_UTC_4.jpg exists downloaded_posts\\2023-09-19_13-24-46_UTC_5.jpg exists downloaded_posts\\2023-09-19_13-24-46_UTC_6.jpg exists downloaded_posts\\2023-09-19_13-24-46_UTC_7.jpg exists downloaded_posts\\2023-09-19_13-24-46_UTC_8.jpg exists downloaded_posts\\2023-09-19_13-24-46_UTC_9.jpg exists downloaded_posts\\2023-09-19_13-24-46_UTC_10.jpg exists [All these fab looks RSVPed to…] unchanged json "
     ]
    },
    {
     "name": "stderr",
     "output_type": "stream",
     "text": [
      " 78%|██████████████████████████████████████████████████████████████▋                 | 221/282 [12:02<02:39,  2.61s/it]"
     ]
    },
    {
     "name": "stdout",
     "output_type": "stream",
     "text": [
      "\n",
      "downloaded_posts\\2023-09-03_13-25-05_UTC_1.jpg exists downloaded_posts\\2023-09-03_13-25-05_UTC_2.jpg exists downloaded_posts\\2023-09-03_13-25-05_UTC_3.jpg exists downloaded_posts\\2023-09-03_13-25-05_UTC_4.jpg exists downloaded_posts\\2023-09-03_13-25-05_UTC_5.jpg exists [Our #bershkastyle winners thi…] unchanged json "
     ]
    },
    {
     "name": "stderr",
     "output_type": "stream",
     "text": [
      " 79%|██████████████████████████████████████████████████████████████▉                 | 222/282 [12:04<02:18,  2.31s/it]"
     ]
    },
    {
     "name": "stdout",
     "output_type": "stream",
     "text": [
      "\n",
      "downloaded_posts\\2023-08-11_13-23-42_UTC_1.jpg exists downloaded_posts\\2023-08-11_13-23-42_UTC_2.jpg exists downloaded_posts\\2023-08-11_13-23-42_UTC_3.jpg exists downloaded_posts\\2023-08-11_13-23-42_UTC_4.jpg exists [No party like a squad hangout…] unchanged json "
     ]
    },
    {
     "name": "stderr",
     "output_type": "stream",
     "text": [
      " 79%|███████████████████████████████████████████████████████████████▎                | 223/282 [12:10<03:26,  3.50s/it]"
     ]
    },
    {
     "name": "stdout",
     "output_type": "stream",
     "text": [
      "\n",
      "downloaded_posts\\2023-07-31_09-17-39_UTC_1.jpg exists downloaded_posts\\2023-07-31_09-17-39_UTC_2.jpg exists downloaded_posts\\2023-07-31_09-17-39_UTC_3.jpg exists [There is no better partner th…] unchanged json "
     ]
    },
    {
     "name": "stderr",
     "output_type": "stream",
     "text": [
      " 79%|███████████████████████████████████████████████████████████████▌                | 224/282 [12:13<03:09,  3.27s/it]"
     ]
    },
    {
     "name": "stdout",
     "output_type": "stream",
     "text": [
      "\n",
      "downloaded_posts\\2023-06-14_08-36-18_UTC_1.jpg exists downloaded_posts\\2023-06-14_08-36-18_UTC_2.jpg exists downloaded_posts\\2023-06-14_08-36-18_UTC_3.jpg exists [Pink hits differently on Wedn…] unchanged json "
     ]
    },
    {
     "name": "stderr",
     "output_type": "stream",
     "text": [
      " 80%|███████████████████████████████████████████████████████████████▊                | 225/282 [12:15<02:47,  2.95s/it]"
     ]
    },
    {
     "name": "stdout",
     "output_type": "stream",
     "text": [
      "\n",
      "downloaded_posts\\2023-05-12_08-24-18_UTC_1.jpg exists downloaded_posts\\2023-05-12_08-24-18_UTC_2.jpg exists [This is THE look, periodt🧨] unchanged json "
     ]
    },
    {
     "name": "stderr",
     "output_type": "stream",
     "text": [
      " 80%|████████████████████████████████████████████████████████████████                | 226/282 [12:16<02:22,  2.54s/it]"
     ]
    },
    {
     "name": "stdout",
     "output_type": "stream",
     "text": [
      "\n",
      "downloaded_posts\\2023-05-06_09-25-16_UTC_1.jpg exists downloaded_posts\\2023-05-06_09-25-16_UTC_2.jpg exists downloaded_posts\\2023-05-06_09-25-16_UTC_3.jpg exists [Siri, play my fav summer play…] unchanged json "
     ]
    },
    {
     "name": "stderr",
     "output_type": "stream",
     "text": [
      " 80%|████████████████████████████████████████████████████████████████▍               | 227/282 [12:19<02:15,  2.46s/it]"
     ]
    },
    {
     "name": "stdout",
     "output_type": "stream",
     "text": [
      "\n",
      "downloaded_posts\\2023-03-19_08-45-45_UTC.jpg exists [Denim to make everyone wink 😍…] unchanged json "
     ]
    },
    {
     "name": "stderr",
     "output_type": "stream",
     "text": [
      " 81%|████████████████████████████████████████████████████████████████▋               | 228/282 [12:24<02:57,  3.28s/it]"
     ]
    },
    {
     "name": "stdout",
     "output_type": "stream",
     "text": [
      "\n",
      "downloaded_posts\\2023-12-04_14-00-37_UTC_1.jpg exists downloaded_posts\\2023-12-04_14-00-37_UTC_2.jpg exists downloaded_posts\\2023-12-04_14-00-37_UTC_3.jpg exists [Cosy is the new state. @lovis…] unchanged json "
     ]
    },
    {
     "name": "stderr",
     "output_type": "stream",
     "text": [
      " 81%|████████████████████████████████████████████████████████████████▉               | 229/282 [12:26<02:30,  2.85s/it]"
     ]
    },
    {
     "name": "stdout",
     "output_type": "stream",
     "text": [
      "\n",
      "downloaded_posts\\2023-12-05_13-59-58_UTC_1.jpg exists downloaded_posts\\2023-12-05_13-59-58_UTC_2.jpg exists downloaded_posts\\2023-12-05_13-59-58_UTC_3.jpg exists downloaded_posts\\2023-12-05_13-59-58_UTC_4.jpg exists downloaded_posts\\2023-12-05_13-59-58_UTC_5.jpg exists downloaded_posts\\2023-12-05_13-59-58_UTC_6.jpg exists [The more oversized, the bette…] unchanged json "
     ]
    },
    {
     "name": "stderr",
     "output_type": "stream",
     "text": [
      " 82%|█████████████████████████████████████████████████████████████████▏              | 230/282 [12:32<03:18,  3.82s/it]"
     ]
    },
    {
     "name": "stdout",
     "output_type": "stream",
     "text": [
      "\n",
      "downloaded_posts\\2023-11-29_17-01-43_UTC_1.jpg exists downloaded_posts\\2023-11-29_17-01-43_UTC_2.jpg exists downloaded_posts\\2023-11-29_17-01-43_UTC_3.jpg exists downloaded_posts\\2023-11-29_17-01-43_UTC_4.jpg exists downloaded_posts\\2023-11-29_17-01-43_UTC_5.jpg exists downloaded_posts\\2023-11-29_17-01-43_UTC_6.jpg exists downloaded_posts\\2023-11-29_17-01-43_UTC_7.jpg exists downloaded_posts\\2023-11-29_17-01-43_UTC_8.jpg exists [Luxurious, warm, and timeless…] unchanged json "
     ]
    },
    {
     "name": "stderr",
     "output_type": "stream",
     "text": [
      " 82%|█████████████████████████████████████████████████████████████████▌              | 231/282 [12:33<02:30,  2.94s/it]"
     ]
    },
    {
     "name": "stdout",
     "output_type": "stream",
     "text": [
      "\n",
      "downloaded_posts\\2023-11-25_14-49-51_UTC_1.jpg exists downloaded_posts\\2023-11-25_14-49-51_UTC_2.jpg exists downloaded_posts\\2023-11-25_14-49-51_UTC_3.jpg exists [Weekend attire done right. @b…] unchanged json "
     ]
    },
    {
     "name": "stderr",
     "output_type": "stream",
     "text": [
      " 82%|█████████████████████████████████████████████████████████████████▊              | 232/282 [12:34<02:00,  2.40s/it]"
     ]
    },
    {
     "name": "stdout",
     "output_type": "stream",
     "text": [
      "\n",
      "downloaded_posts\\2023-11-21_14-01-31_UTC_1.jpg exists downloaded_posts\\2023-11-21_14-01-31_UTC_2.jpg exists downloaded_posts\\2023-11-21_14-01-31_UTC_3.jpg exists downloaded_posts\\2023-11-21_14-01-31_UTC_4.jpg exists downloaded_posts\\2023-11-21_14-01-31_UTC_5.jpg exists downloaded_posts\\2023-11-21_14-01-31_UTC_6.jpg exists [Consider a new addition to yo…] unchanged json "
     ]
    },
    {
     "name": "stderr",
     "output_type": "stream",
     "text": [
      " 83%|██████████████████████████████████████████████████████████████████              | 233/282 [12:39<02:34,  3.14s/it]"
     ]
    },
    {
     "name": "stdout",
     "output_type": "stream",
     "text": [
      "\n",
      "downloaded_posts\\2023-11-18_18-05-39_UTC_1.jpg exists downloaded_posts\\2023-11-18_18-05-39_UTC_2.jpg exists downloaded_posts\\2023-11-18_18-05-39_UTC_3.jpg exists downloaded_posts\\2023-11-18_18-05-39_UTC_4.jpg exists downloaded_posts\\2023-11-18_18-05-39_UTC_5.jpg exists downloaded_posts\\2023-11-18_18-05-39_UTC_6.jpg exists [Style serve — Frankie girls s…] unchanged json "
     ]
    },
    {
     "name": "stderr",
     "output_type": "stream",
     "text": [
      " 83%|██████████████████████████████████████████████████████████████████▍             | 234/282 [12:45<03:13,  4.04s/it]"
     ]
    },
    {
     "name": "stdout",
     "output_type": "stream",
     "text": [
      "\n",
      "downloaded_posts\\2023-11-08_17-37-17_UTC_1.jpg exists downloaded_posts\\2023-11-08_17-37-17_UTC_2.jpg exists downloaded_posts\\2023-11-08_17-37-17_UTC_3.jpg exists downloaded_posts\\2023-11-08_17-37-17_UTC_4.jpg exists downloaded_posts\\2023-11-08_17-37-17_UTC_5.jpg exists [This season must-have. @fashi…] unchanged json "
     ]
    },
    {
     "name": "stderr",
     "output_type": "stream",
     "text": [
      " 83%|██████████████████████████████████████████████████████████████████▋             | 235/282 [12:47<02:42,  3.46s/it]"
     ]
    },
    {
     "name": "stdout",
     "output_type": "stream",
     "text": [
      "\n",
      "downloaded_posts\\2023-11-06_14-53-37_UTC_1.jpg exists downloaded_posts\\2023-11-06_14-53-37_UTC_2.jpg exists downloaded_posts\\2023-11-06_14-53-37_UTC_3.jpg exists downloaded_posts\\2023-11-06_14-53-37_UTC_4.jpg exists [Versatile and modern, meet No…] unchanged json "
     ]
    },
    {
     "name": "stderr",
     "output_type": "stream",
     "text": [
      " 84%|██████████████████████████████████████████████████████████████████▉             | 236/282 [12:48<02:08,  2.80s/it]"
     ]
    },
    {
     "name": "stdout",
     "output_type": "stream",
     "text": [
      "\n",
      "downloaded_posts\\2023-10-22_18-06-48_UTC_1.jpg exists downloaded_posts\\2023-10-22_18-06-48_UTC_2.jpg exists downloaded_posts\\2023-10-22_18-06-48_UTC_3.jpg exists downloaded_posts\\2023-10-22_18-06-48_UTC_4.jpg exists [A soft touch. Stay warm with …] unchanged json "
     ]
    },
    {
     "name": "stderr",
     "output_type": "stream",
     "text": [
      " 84%|███████████████████████████████████████████████████████████████████▏            | 237/282 [12:51<02:07,  2.82s/it]"
     ]
    },
    {
     "name": "stdout",
     "output_type": "stream",
     "text": [
      "\n",
      "downloaded_posts\\2023-09-29_13-08-47_UTC.jpg exists [Our FW23 Campaign emphasizes …] unchanged json "
     ]
    },
    {
     "name": "stderr",
     "output_type": "stream",
     "text": [
      " 84%|███████████████████████████████████████████████████████████████████▌            | 238/282 [12:53<01:50,  2.52s/it]"
     ]
    },
    {
     "name": "stdout",
     "output_type": "stream",
     "text": [
      "\n",
      "downloaded_posts\\2023-11-06_15-12-10_UTC.jpg exists [A golden fantasy. #rabanneHM …] unchanged json "
     ]
    },
    {
     "name": "stderr",
     "output_type": "stream",
     "text": [
      " 85%|███████████████████████████████████████████████████████████████████▊            | 239/282 [12:54<01:34,  2.20s/it]"
     ]
    },
    {
     "name": "stdout",
     "output_type": "stream",
     "text": [
      "\n",
      "downloaded_posts\\2023-07-27_07-00-19_UTC_1.jpg exists downloaded_posts\\2023-07-27_07-00-19_UTC_2.jpg exists [The secret of striped suiting…] unchanged json "
     ]
    },
    {
     "name": "stderr",
     "output_type": "stream",
     "text": [
      " 85%|████████████████████████████████████████████████████████████████████            | 240/282 [12:56<01:21,  1.93s/it]"
     ]
    },
    {
     "name": "stdout",
     "output_type": "stream",
     "text": [
      "\n",
      "downloaded_posts\\2023-06-02_14-36-21_UTC_1.jpg exists downloaded_posts\\2023-06-02_14-36-21_UTC_2.jpg exists downloaded_posts\\2023-06-02_14-36-21_UTC_3.jpg exists downloaded_posts\\2023-06-02_14-36-21_UTC_4.jpg exists [All about those details. Whic…] unchanged json "
     ]
    },
    {
     "name": "stderr",
     "output_type": "stream",
     "text": [
      " 85%|████████████████████████████████████████████████████████████████████▎           | 241/282 [13:00<01:52,  2.75s/it]"
     ]
    },
    {
     "name": "stdout",
     "output_type": "stream",
     "text": [
      "\n",
      "downloaded_posts\\2023-05-25_14-03-46_UTC.jpg exists [Bling things. #HM   Rhineston…] unchanged json "
     ]
    },
    {
     "name": "stderr",
     "output_type": "stream",
     "text": [
      " 86%|████████████████████████████████████████████████████████████████████▋           | 242/282 [13:04<02:00,  3.01s/it]"
     ]
    },
    {
     "name": "stdout",
     "output_type": "stream",
     "text": [
      "\n",
      "downloaded_posts\\2023-04-09_12-28-38_UTC.jpg exists [New things for dressing like …] unchanged json "
     ]
    },
    {
     "name": "stderr",
     "output_type": "stream",
     "text": [
      " 86%|████████████████████████████████████████████████████████████████████▉           | 243/282 [13:07<02:03,  3.16s/it]"
     ]
    },
    {
     "name": "stdout",
     "output_type": "stream",
     "text": [
      "\n",
      "downloaded_posts\\2023-02-02_13-07-03_UTC_1.jpg exists downloaded_posts\\2023-02-02_13-07-03_UTC_2.jpg exists downloaded_posts\\2023-02-02_13-07-03_UTC_3.jpg exists [Which one is the perfect fit …] unchanged json "
     ]
    },
    {
     "name": "stderr",
     "output_type": "stream",
     "text": [
      " 87%|█████████████████████████████████████████████████████████████████████▏          | 244/282 [13:12<02:17,  3.62s/it]"
     ]
    },
    {
     "name": "stdout",
     "output_type": "stream",
     "text": [
      "\n",
      "downloaded_posts\\2022-07-14_11-01-25_UTC.jpg exists [Mix-and-match silhouettes. #H…] unchanged json "
     ]
    },
    {
     "name": "stderr",
     "output_type": "stream",
     "text": [
      " 87%|█████████████████████████████████████████████████████████████████████▌          | 245/282 [13:16<02:14,  3.64s/it]"
     ]
    },
    {
     "name": "stdout",
     "output_type": "stream",
     "text": [
      "\n",
      "downloaded_posts\\2022-05-01_11-27-10_UTC_1.jpg exists downloaded_posts\\2022-05-01_11-27-10_UTC_2.jpg exists [When the vacation outtakes ar…] unchanged json "
     ]
    },
    {
     "name": "stderr",
     "output_type": "stream",
     "text": [
      " 87%|█████████████████████████████████████████████████████████████████████▊          | 246/282 [13:17<01:49,  3.03s/it]"
     ]
    },
    {
     "name": "stdout",
     "output_type": "stream",
     "text": [
      "\n",
      "downloaded_posts\\2022-03-22_13-08-51_UTC.jpg exists [If this sports bra seems seam…] unchanged json "
     ]
    },
    {
     "name": "stderr",
     "output_type": "stream",
     "text": [
      " 88%|██████████████████████████████████████████████████████████████████████          | 247/282 [13:19<01:27,  2.51s/it]"
     ]
    },
    {
     "name": "stdout",
     "output_type": "stream",
     "text": [
      "\n",
      "downloaded_posts\\2022-01-03_15-04-42_UTC.jpg exists [Connect with your body and fe…] unchanged json "
     ]
    },
    {
     "name": "stderr",
     "output_type": "stream",
     "text": [
      " 88%|██████████████████████████████████████████████████████████████████████▎         | 248/282 [13:20<01:08,  2.01s/it]"
     ]
    },
    {
     "name": "stdout",
     "output_type": "stream",
     "text": [
      "\n",
      "downloaded_posts\\2022-01-03_15-04-42_UTC.jpg exists [Connect with your body and fe…] unchanged json "
     ]
    },
    {
     "name": "stderr",
     "output_type": "stream",
     "text": [
      " 88%|██████████████████████████████████████████████████████████████████████▋         | 249/282 [13:21<00:56,  1.70s/it]"
     ]
    },
    {
     "name": "stdout",
     "output_type": "stream",
     "text": [
      "\n",
      "downloaded_posts\\2021-11-21_16-35-50_UTC.jpg exists [Who said comfy can't be chic?…] unchanged json "
     ]
    },
    {
     "name": "stderr",
     "output_type": "stream",
     "text": [
      " 89%|██████████████████████████████████████████████████████████████████████▉         | 250/282 [13:24<01:11,  2.25s/it]"
     ]
    },
    {
     "name": "stdout",
     "output_type": "stream",
     "text": [
      "\n",
      "downloaded_posts\\2021-10-04_14-11-30_UTC_1.jpg exists downloaded_posts\\2021-10-04_14-11-30_UTC_2.jpg exists downloaded_posts\\2021-10-04_14-11-30_UTC_3.jpg exists downloaded_posts\\2021-10-04_14-11-30_UTC_4.jpg exists [TFW elevated gorpcore meets 9…] unchanged json "
     ]
    },
    {
     "name": "stderr",
     "output_type": "stream",
     "text": [
      " 89%|███████████████████████████████████████████████████████████████████████▏        | 251/282 [13:25<00:58,  1.88s/it]"
     ]
    },
    {
     "name": "stdout",
     "output_type": "stream",
     "text": [
      "\n",
      "downloaded_posts\\2021-08-17_07-06-12_UTC_1.jpg exists downloaded_posts\\2021-08-17_07-06-12_UTC_2.jpg exists [Beach views. 🌊  @thanyaw #HMx…] unchanged json "
     ]
    },
    {
     "name": "stderr",
     "output_type": "stream",
     "text": [
      " 89%|███████████████████████████████████████████████████████████████████████▍        | 252/282 [13:31<01:30,  3.03s/it]"
     ]
    },
    {
     "name": "stdout",
     "output_type": "stream",
     "text": [
      "\n",
      "downloaded_posts\\2021-07-13_14-07-03_UTC_1.jpg exists downloaded_posts\\2021-07-13_14-07-03_UTC_2.jpg exists downloaded_posts\\2021-07-13_14-07-03_UTC_3.jpg exists [Bikini szn is here to stay. 👙…] unchanged json "
     ]
    },
    {
     "name": "stderr",
     "output_type": "stream",
     "text": [
      " 90%|███████████████████████████████████████████████████████████████████████▊        | 253/282 [13:33<01:19,  2.75s/it]"
     ]
    },
    {
     "name": "stdout",
     "output_type": "stream",
     "text": [
      "\n",
      "downloaded_posts\\2021-06-18_07-09-51_UTC_1.jpg exists downloaded_posts\\2021-06-18_07-09-51_UTC_2.jpg exists downloaded_posts\\2021-06-18_07-09-51_UTC_3.jpg exists downloaded_posts\\2021-06-18_07-09-51_UTC_4.jpg exists downloaded_posts\\2021-06-18_07-09-51_UTC_5.jpg exists downloaded_posts\\2021-06-18_07-09-51_UTC_6.jpg exists [This is how you seas the day …] unchanged json "
     ]
    },
    {
     "name": "stderr",
     "output_type": "stream",
     "text": [
      " 90%|████████████████████████████████████████████████████████████████████████        | 254/282 [13:35<01:12,  2.58s/it]"
     ]
    },
    {
     "name": "stdout",
     "output_type": "stream",
     "text": [
      "\n",
      "downloaded_posts\\2020-12-08_12-50-40_UTC.jpg exists [Press pause. What's your self…] unchanged json "
     ]
    },
    {
     "name": "stderr",
     "output_type": "stream",
     "text": [
      " 90%|████████████████████████████████████████████████████████████████████████▎       | 255/282 [13:37<01:01,  2.26s/it]"
     ]
    },
    {
     "name": "stdout",
     "output_type": "stream",
     "text": [
      "\n",
      "downloaded_posts\\2023-11-15_14-26-38_UTC.jpg exists [Perfect-present alert: Robes …] unchanged json "
     ]
    },
    {
     "name": "stderr",
     "output_type": "stream",
     "text": [
      " 91%|████████████████████████████████████████████████████████████████████████▌       | 256/282 [13:38<00:48,  1.88s/it]"
     ]
    },
    {
     "name": "stdout",
     "output_type": "stream",
     "text": [
      "\n",
      "downloaded_posts\\2023-10-30_14-39-46_UTC_1.jpg exists downloaded_posts\\2023-10-30_14-39-46_UTC_2.jpg exists downloaded_posts\\2023-10-30_14-39-46_UTC_3.jpg exists [@haileybieber looking scary-g…] unchanged json "
     ]
    },
    {
     "name": "stderr",
     "output_type": "stream",
     "text": [
      " 91%|████████████████████████████████████████████████████████████████████████▉       | 257/282 [13:45<01:28,  3.52s/it]"
     ]
    },
    {
     "name": "stdout",
     "output_type": "stream",
     "text": [
      "\n",
      "downloaded_posts\\2023-08-27_16-00-36_UTC.jpg exists [The mantra? Never, ever be ba…] unchanged json "
     ]
    },
    {
     "name": "stderr",
     "output_type": "stream",
     "text": [
      " 91%|█████████████████████████████████████████████████████████████████████████▏      | 258/282 [13:47<01:16,  3.17s/it]"
     ]
    },
    {
     "name": "stdout",
     "output_type": "stream",
     "text": [
      "\n",
      "downloaded_posts\\2023-08-18_14-39-29_UTC.jpg exists [Royals watch: our just-landed…] unchanged json "
     ]
    },
    {
     "name": "stderr",
     "output_type": "stream",
     "text": [
      " 92%|█████████████████████████████████████████████████████████████████████████▍      | 259/282 [13:54<01:38,  4.26s/it]"
     ]
    },
    {
     "name": "stdout",
     "output_type": "stream",
     "text": [
      "\n",
      "downloaded_posts\\2023-08-03_14-05-29_UTC.jpg exists [We’re thrilled to reveal @doj…] unchanged json "
     ]
    },
    {
     "name": "stderr",
     "output_type": "stream",
     "text": [
      " 92%|█████████████████████████████████████████████████████████████████████████▊      | 260/282 [13:55<01:13,  3.36s/it]"
     ]
    },
    {
     "name": "stdout",
     "output_type": "stream",
     "text": [
      "\n",
      "downloaded_posts\\2023-06-20_15-41-50_UTC.jpg exists [Keep the vibes high well afte…] unchanged json "
     ]
    },
    {
     "name": "stderr",
     "output_type": "stream",
     "text": [
      " 93%|██████████████████████████████████████████████████████████████████████████      | 261/282 [13:56<00:54,  2.58s/it]"
     ]
    },
    {
     "name": "stdout",
     "output_type": "stream",
     "text": [
      "\n",
      "downloaded_posts\\2023-05-03_13-26-38_UTC.jpg exists [Wait, what’s that in the wate…] unchanged json "
     ]
    },
    {
     "name": "stderr",
     "output_type": "stream",
     "text": [
      " 93%|██████████████████████████████████████████████████████████████████████████▎     | 262/282 [13:58<00:48,  2.42s/it]"
     ]
    },
    {
     "name": "stdout",
     "output_type": "stream",
     "text": [
      "\n",
      "downloaded_posts\\2023-04-22_14-01-21_UTC.jpg exists [You’ve got a situation; we’ve…] unchanged json "
     ]
    },
    {
     "name": "stderr",
     "output_type": "stream",
     "text": [
      " 93%|██████████████████████████████████████████████████████████████████████████▌     | 263/282 [14:01<00:46,  2.43s/it]"
     ]
    },
    {
     "name": "stdout",
     "output_type": "stream",
     "text": [
      "\n",
      "downloaded_posts\\2023-05-27_15-39-40_UTC.jpg exists [Outfit for a stroll around th…] unchanged json "
     ]
    },
    {
     "name": "stderr",
     "output_type": "stream",
     "text": [
      " 94%|██████████████████████████████████████████████████████████████████████████▉     | 264/282 [14:05<00:51,  2.87s/it]"
     ]
    },
    {
     "name": "stdout",
     "output_type": "stream",
     "text": [
      "\n",
      "downloaded_posts\\2022-06-11_12-21-34_UTC.jpg exists [Vacation mode: activated ✅ @a…] unchanged json "
     ]
    },
    {
     "name": "stderr",
     "output_type": "stream",
     "text": [
      " 94%|███████████████████████████████████████████████████████████████████████████▏    | 265/282 [14:08<00:50,  2.95s/it]"
     ]
    },
    {
     "name": "stdout",
     "output_type": "stream",
     "text": [
      "\n",
      "downloaded_posts\\2021-11-30_16-16-11_UTC_1.jpg exists downloaded_posts\\2021-11-30_16-16-11_UTC_2.jpg exists [Cosy & cute - these are our k…] unchanged json "
     ]
    },
    {
     "name": "stderr",
     "output_type": "stream",
     "text": [
      " 94%|███████████████████████████████████████████████████████████████████████████▍    | 266/282 [14:13<00:58,  3.69s/it]"
     ]
    },
    {
     "name": "stdout",
     "output_type": "stream",
     "text": [
      "\n",
      "downloaded_posts\\2021-05-01_14-33-18_UTC.jpg exists [Your perfect little black dre…] unchanged json "
     ]
    },
    {
     "name": "stderr",
     "output_type": "stream",
     "text": [
      " 95%|███████████████████████████████████████████████████████████████████████████▋    | 267/282 [14:15<00:46,  3.13s/it]"
     ]
    },
    {
     "name": "stdout",
     "output_type": "stream",
     "text": [
      "\n",
      "downloaded_posts\\2023-12-03_11-49-56_UTC_1.jpg exists downloaded_posts\\2023-12-03_11-49-56_UTC_2.jpg exists [La collezione natalizia è arr…] unchanged json "
     ]
    },
    {
     "name": "stderr",
     "output_type": "stream",
     "text": [
      " 95%|████████████████████████████████████████████████████████████████████████████    | 268/282 [14:17<00:37,  2.68s/it]"
     ]
    },
    {
     "name": "stdout",
     "output_type": "stream",
     "text": [
      "\n",
      "downloaded_posts\\2023-11-28_11-16-39_UTC_1.jpg exists downloaded_posts\\2023-11-28_11-16-39_UTC_2.jpg exists [Finite le promozioni… tornano…] unchanged json "
     ]
    },
    {
     "name": "stderr",
     "output_type": "stream",
     "text": [
      " 95%|████████████████████████████████████████████████████████████████████████████▎   | 269/282 [14:20<00:36,  2.79s/it]"
     ]
    },
    {
     "name": "stdout",
     "output_type": "stream",
     "text": [
      "\n",
      "downloaded_posts\\2023-11-16_16-06-14_UTC_1.jpg exists downloaded_posts\\2023-11-16_16-06-14_UTC_2.jpg exists downloaded_posts\\2023-11-16_16-06-14_UTC_3.jpg exists [Il Natale si avvicina e si av…] unchanged json "
     ]
    },
    {
     "name": "stderr",
     "output_type": "stream",
     "text": [
      " 96%|████████████████████████████████████████████████████████████████████████████▌   | 270/282 [14:21<00:29,  2.48s/it]"
     ]
    },
    {
     "name": "stdout",
     "output_type": "stream",
     "text": [
      "\n",
      "downloaded_posts\\2023-12-07_12-07-03_UTC_1.jpg exists downloaded_posts\\2023-12-07_12-07-03_UTC_2.jpg exists downloaded_posts\\2023-12-07_12-07-03_UTC_3.jpg exists [✨ Per queste feste scegli di …] unchanged json "
     ]
    },
    {
     "name": "stderr",
     "output_type": "stream",
     "text": [
      " 96%|████████████████████████████████████████████████████████████████████████████▉   | 271/282 [14:23<00:22,  2.09s/it]"
     ]
    },
    {
     "name": "stdout",
     "output_type": "stream",
     "text": [
      "\n",
      "downloaded_posts\\2023-11-07_15-36-16_UTC_1.jpg exists downloaded_posts\\2023-11-07_15-36-16_UTC_2.jpg exists downloaded_posts\\2023-11-07_15-36-16_UTC_3.jpg exists [Quando fai “il segnale” alla …] unchanged json "
     ]
    },
    {
     "name": "stderr",
     "output_type": "stream",
     "text": [
      " 96%|█████████████████████████████████████████████████████████████████████████████▏  | 272/282 [14:24<00:18,  1.88s/it]"
     ]
    },
    {
     "name": "stdout",
     "output_type": "stream",
     "text": [
      "\n",
      "downloaded_posts\\2023-10-06_06-33-26_UTC_1.jpg exists downloaded_posts\\2023-10-06_06-33-26_UTC_2.jpg exists downloaded_posts\\2023-10-06_06-33-26_UTC_3.jpg exists [Il denim è da sempre il tessu…] unchanged json "
     ]
    },
    {
     "name": "stderr",
     "output_type": "stream",
     "text": [
      " 97%|█████████████████████████████████████████████████████████████████████████████▍  | 273/282 [14:26<00:17,  1.89s/it]"
     ]
    },
    {
     "name": "stdout",
     "output_type": "stream",
     "text": [
      "\n",
      "downloaded_posts\\2023-09-30_08-07-07_UTC_1.jpg exists downloaded_posts\\2023-09-30_08-07-07_UTC_2.jpg exists downloaded_posts\\2023-09-30_08-07-07_UTC_3.jpg exists downloaded_posts\\2023-09-30_08-07-07_UTC_4.jpg exists downloaded_posts\\2023-09-30_08-07-07_UTC_5.jpg exists downloaded_posts\\2023-09-30_08-07-07_UTC_6.jpg exists downloaded_posts\\2023-09-30_08-07-07_UTC_7.jpg exists downloaded_posts\\2023-09-30_08-07-07_UTC_8.jpg exists downloaded_posts\\2023-09-30_08-07-07_UTC_9.jpg exists downloaded_posts\\2023-09-30_08-07-07_UTC_10.jpg exists [Silhouette second skin e vest…] unchanged json "
     ]
    },
    {
     "name": "stderr",
     "output_type": "stream",
     "text": [
      " 97%|█████████████████████████████████████████████████████████████████████████████▋  | 274/282 [14:27<00:13,  1.66s/it]"
     ]
    },
    {
     "name": "stdout",
     "output_type": "stream",
     "text": [
      "\n",
      "downloaded_posts\\2023-07-13_08-30-10_UTC_1.jpg exists downloaded_posts\\2023-07-13_08-30-10_UTC_2.jpg exists downloaded_posts\\2023-07-13_08-30-10_UTC_3.jpg exists [Quando fa caldissimo ma cerch…] unchanged json "
     ]
    },
    {
     "name": "stderr",
     "output_type": "stream",
     "text": [
      " 98%|██████████████████████████████████████████████████████████████████████████████  | 275/282 [14:28<00:10,  1.48s/it]"
     ]
    },
    {
     "name": "stdout",
     "output_type": "stream",
     "text": [
      "\n",
      "downloaded_posts\\2023-04-24_13-10-48_UTC_1.jpg exists downloaded_posts\\2023-04-24_13-10-48_UTC_2.jpg exists downloaded_posts\\2023-04-24_13-10-48_UTC_3.jpg exists downloaded_posts\\2023-04-24_13-10-48_UTC_4.jpg exists downloaded_posts\\2023-04-24_13-10-48_UTC_5.jpg exists downloaded_posts\\2023-04-24_13-10-48_UTC_6.jpg exists downloaded_posts\\2023-04-24_13-10-48_UTC_7.jpg exists downloaded_posts\\2023-04-24_13-10-48_UTC_8.jpg exists downloaded_posts\\2023-04-24_13-10-48_UTC_9.jpg exists downloaded_posts\\2023-04-24_13-10-48_UTC_10.jpg exists [Utopja | A safe heaven for wo…] unchanged json "
     ]
    },
    {
     "name": "stderr",
     "output_type": "stream",
     "text": [
      " 98%|██████████████████████████████████████████████████████████████████████████████▎ | 276/282 [14:31<00:10,  1.83s/it]"
     ]
    },
    {
     "name": "stdout",
     "output_type": "stream",
     "text": [
      "\n",
      "downloaded_posts\\2023-04-26_09-17-03_UTC_1.jpg exists downloaded_posts\\2023-04-26_09-17-03_UTC_2.jpg exists downloaded_posts\\2023-04-26_09-17-03_UTC_3.jpg exists [Femminile. Timeless. Effortle…] unchanged json "
     ]
    },
    {
     "name": "stderr",
     "output_type": "stream",
     "text": [
      " 98%|██████████████████████████████████████████████████████████████████████████████▌ | 277/282 [14:32<00:07,  1.58s/it]"
     ]
    },
    {
     "name": "stdout",
     "output_type": "stream",
     "text": [
      "\n",
      "downloaded_posts\\2023-10-26_11-00-25_UTC.jpg exists [Rich brocades and bustiers me…] unchanged json "
     ]
    },
    {
     "name": "stderr",
     "output_type": "stream",
     "text": [
      " 99%|██████████████████████████████████████████████████████████████████████████████▊ | 278/282 [14:35<00:08,  2.14s/it]"
     ]
    },
    {
     "name": "stdout",
     "output_type": "stream",
     "text": [
      "\n",
      "downloaded_posts\\2023-10-22_11-00-18_UTC.jpg exists [To celebrate the 10th anniver…] unchanged json "
     ]
    },
    {
     "name": "stderr",
     "output_type": "stream",
     "text": [
      " 99%|███████████████████████████████████████████████████████████████████████████████▏| 279/282 [14:36<00:05,  1.85s/it]"
     ]
    },
    {
     "name": "stdout",
     "output_type": "stream",
     "text": [
      "\n",
      "downloaded_posts\\2023-09-25_11-00-55_UTC_1.jpg exists downloaded_posts\\2023-09-25_11-00-55_UTC_2.jpg exists downloaded_posts\\2023-09-25_11-00-55_UTC_3.jpg exists downloaded_posts\\2023-09-25_11-00-55_UTC_4.jpg exists downloaded_posts\\2023-09-25_11-00-55_UTC_5.jpg exists downloaded_posts\\2023-09-25_11-00-55_UTC_6.jpg exists downloaded_posts\\2023-09-25_11-00-55_UTC_7.jpg exists downloaded_posts\\2023-09-25_11-00-55_UTC_8.jpg exists downloaded_posts\\2023-09-25_11-00-55_UTC_9.jpg exists downloaded_posts\\2023-09-25_11-00-55_UTC_10.jpg exists [Inspired by the creative purs…] unchanged json "
     ]
    },
    {
     "name": "stderr",
     "output_type": "stream",
     "text": [
      " 99%|███████████████████████████████████████████████████████████████████████████████▍| 280/282 [14:37<00:03,  1.66s/it]"
     ]
    },
    {
     "name": "stdout",
     "output_type": "stream",
     "text": [
      "\n",
      "downloaded_posts\\2023-07-20_11-00-38_UTC.jpg exists [Most wanted. When it comes to…] unchanged json "
     ]
    },
    {
     "name": "stderr",
     "output_type": "stream",
     "text": [
      "100%|███████████████████████████████████████████████████████████████████████████████▋| 281/282 [14:39<00:01,  1.65s/it]"
     ]
    },
    {
     "name": "stdout",
     "output_type": "stream",
     "text": [
      "\n",
      "downloaded_posts\\2023-06-16_10-01-12_UTC_1.jpg exists downloaded_posts\\2023-06-16_10-01-12_UTC_2.jpg exists downloaded_posts\\2023-06-16_10-01-12_UTC_3.jpg exists downloaded_posts\\2023-06-16_10-01-12_UTC_4.jpg exists downloaded_posts\\2023-06-16_10-01-12_UTC_5.jpg exists downloaded_posts\\2023-06-16_10-01-12_UTC_6.jpg exists downloaded_posts\\2023-06-16_10-01-12_UTC_7.jpg exists downloaded_posts\\2023-06-16_10-01-12_UTC_8.jpg exists downloaded_posts\\2023-06-16_10-01-12_UTC_9.jpg exists [Inspired by Scandinavian hist…] unchanged json "
     ]
    },
    {
     "name": "stderr",
     "output_type": "stream",
     "text": [
      "100%|███████████████████████████████████████████████████████████████████████████████▋| 281/282 [14:41<00:03,  3.14s/it]"
     ]
    },
    {
     "name": "stdout",
     "output_type": "stream",
     "text": [
      "\n"
     ]
    },
    {
     "name": "stderr",
     "output_type": "stream",
     "text": [
      "\n"
     ]
    }
   ],
   "source": [
    "import os\n",
    "import instaloader\n",
    "from instaloader.exceptions import BadResponseException\n",
    "from tqdm import tqdm\n",
    "import time\n",
    "import json\n",
    "\n",
    "list_ids = df_links['id']\n",
    "links = df_links['link']\n",
    "\n",
    "\n",
    "# Assuming 'list_ids' and 'links' are already defined\n",
    "download_folder = 'downloaded_posts'\n",
    "L = instaloader.Instaloader()\n",
    "\n",
    "# Ensure the download folder exists\n",
    "os.makedirs(download_folder, exist_ok=True)\n",
    "\n",
    "# Initialize or load the custom_id_to_post_name dictionary\n",
    "custom_id_to_post_name = {}  # Load from file if needed\n",
    "\n",
    "for custom_id, link in zip(list_ids, tqdm(links)):\n",
    "    shortcode = link.split('/')[-2]\n",
    "\n",
    "    try:\n",
    "        post = instaloader.Post.from_shortcode(L.context, shortcode)\n",
    "\n",
    "        # Check if the post has already been downloaded\n",
    "        post_already_downloaded = False\n",
    "        for filename in os.listdir(download_folder):\n",
    "            if filename.endswith(\".json\") and shortcode in filename:\n",
    "                post_already_downloaded = True\n",
    "                custom_id_to_post_name[custom_id] = filename\n",
    "                break\n",
    "\n",
    "        if not post_already_downloaded:\n",
    "            # Download the post\n",
    "            L.download_post(post, target=download_folder)\n",
    "\n",
    "            # Find the new file and update the mapping\n",
    "            for filename in os.listdir(download_folder):\n",
    "                if filename.endswith(\".json\") and shortcode in filename:\n",
    "                    custom_id_to_post_name[custom_id] = filename\n",
    "                    break\n",
    "\n",
    "    except BadResponseException:\n",
    "        print(f\"Could not fetch metadata for {link}. Skipping...\")\n",
    "        continue\n",
    "    except Exception as e:\n",
    "        print(f\"An error occurred: {e}\")\n",
    "        continue\n",
    "\n",
    "    #time.sleep(2)\n",
    "\n",
    "# Optionally, save the custom_id_to_post_name dictionary to a file for persistence\n",
    "with open('custom_id_to_post_name_mapping.json', 'w') as file:\n",
    "    json.dump(custom_id_to_post_name, file)\n"
   ]
  },
  {
   "cell_type": "code",
   "execution_count": 14,
   "id": "9b489256-8de9-4fea-a70f-eb019d4a882f",
   "metadata": {},
   "outputs": [
    {
     "data": {
      "text/plain": [
       "{}"
      ]
     },
     "execution_count": 14,
     "metadata": {},
     "output_type": "execute_result"
    }
   ],
   "source": [
    "custom_id_to_post_name"
   ]
  },
  {
   "cell_type": "code",
   "execution_count": null,
   "id": "322a80a6-1c09-4342-8382-45c1ff7b5422",
   "metadata": {},
   "outputs": [],
   "source": [
    "# Convert to DataFrame\n",
    "df_ids = pd.DataFrame(list(id_to_post.items()), columns=['id', 'PostName'])\n",
    "\n",
    "df_ids.to_excel('posts_id.xlsx')"
   ]
  }
 ],
 "metadata": {
  "kernelspec": {
   "display_name": "Python 3 (ipykernel)",
   "language": "python",
   "name": "python3"
  },
  "language_info": {
   "codemirror_mode": {
    "name": "ipython",
    "version": 3
   },
   "file_extension": ".py",
   "mimetype": "text/x-python",
   "name": "python",
   "nbconvert_exporter": "python",
   "pygments_lexer": "ipython3",
   "version": "3.11.5"
  }
 },
 "nbformat": 4,
 "nbformat_minor": 5
}
