{
 "cells": [
  {
   "cell_type": "code",
   "execution_count": 1,
   "id": "c7de8016-3369-4245-9559-2a6ac1917c1d",
   "metadata": {},
   "outputs": [],
   "source": [
    "import pandas as pd\n",
    "import numpy as np\n",
    "import matplotlib.pyplot as plt\n",
    "import seaborn as sns"
   ]
  },
  {
   "cell_type": "code",
   "execution_count": 2,
   "id": "c679c2f6-7897-4803-903d-3d2aabdeab64",
   "metadata": {},
   "outputs": [
    {
     "data": {
      "text/html": [
       "<div>\n",
       "<style scoped>\n",
       "    .dataframe tbody tr th:only-of-type {\n",
       "        vertical-align: middle;\n",
       "    }\n",
       "\n",
       "    .dataframe tbody tr th {\n",
       "        vertical-align: top;\n",
       "    }\n",
       "\n",
       "    .dataframe thead th {\n",
       "        text-align: right;\n",
       "    }\n",
       "</style>\n",
       "<table border=\"1\" class=\"dataframe\">\n",
       "  <thead>\n",
       "    <tr style=\"text-align: right;\">\n",
       "      <th></th>\n",
       "      <th>id</th>\n",
       "      <th>link</th>\n",
       "      <th>Objectify (yes or no)</th>\n",
       "    </tr>\n",
       "  </thead>\n",
       "  <tbody>\n",
       "    <tr>\n",
       "      <th>0</th>\n",
       "      <td>1</td>\n",
       "      <td>https://www.instagram.com/p/CzTyW00KYzC/</td>\n",
       "      <td>1.0</td>\n",
       "    </tr>\n",
       "    <tr>\n",
       "      <th>1</th>\n",
       "      <td>2</td>\n",
       "      <td>https://www.instagram.com/p/C0PzOJxhEv7/</td>\n",
       "      <td>0.0</td>\n",
       "    </tr>\n",
       "    <tr>\n",
       "      <th>2</th>\n",
       "      <td>3</td>\n",
       "      <td>https://www.instagram.com/p/CzxRQd0tbV6/</td>\n",
       "      <td>0.0</td>\n",
       "    </tr>\n",
       "    <tr>\n",
       "      <th>3</th>\n",
       "      <td>4</td>\n",
       "      <td>https://www.instagram.com/p/CzZIXBVMWdZ/?img_i...</td>\n",
       "      <td>1.0</td>\n",
       "    </tr>\n",
       "    <tr>\n",
       "      <th>4</th>\n",
       "      <td>5</td>\n",
       "      <td>https://www.instagram.com/p/CzZIXBVMWdZ/?img_i...</td>\n",
       "      <td>1.0</td>\n",
       "    </tr>\n",
       "  </tbody>\n",
       "</table>\n",
       "</div>"
      ],
      "text/plain": [
       "   id                                               link  \\\n",
       "0   1           https://www.instagram.com/p/CzTyW00KYzC/   \n",
       "1   2           https://www.instagram.com/p/C0PzOJxhEv7/   \n",
       "2   3           https://www.instagram.com/p/CzxRQd0tbV6/   \n",
       "3   4  https://www.instagram.com/p/CzZIXBVMWdZ/?img_i...   \n",
       "4   5  https://www.instagram.com/p/CzZIXBVMWdZ/?img_i...   \n",
       "\n",
       "   Objectify (yes or no)  \n",
       "0                    1.0  \n",
       "1                    0.0  \n",
       "2                    0.0  \n",
       "3                    1.0  \n",
       "4                    1.0  "
      ]
     },
     "execution_count": 2,
     "metadata": {},
     "output_type": "execute_result"
    }
   ],
   "source": [
    "df_links = pd.read_excel('db_prod.xlsx')\n",
    "df_links.head()"
   ]
  },
  {
   "cell_type": "code",
   "execution_count": 3,
   "id": "12c8a4c1-d2bf-4aaf-88f2-b35ae97ffd2c",
   "metadata": {},
   "outputs": [],
   "source": [
    "df_links.dropna(inplace = True)"
   ]
  },
  {
   "cell_type": "code",
   "execution_count": 4,
   "id": "20a82956-b234-4179-9464-d9d57b71a10c",
   "metadata": {},
   "outputs": [
    {
     "data": {
      "text/plain": [
       "0               https://www.instagram.com/p/CzTyW00KYzC/\n",
       "1               https://www.instagram.com/p/C0PzOJxhEv7/\n",
       "2               https://www.instagram.com/p/CzxRQd0tbV6/\n",
       "3      https://www.instagram.com/p/CzZIXBVMWdZ/?img_i...\n",
       "4      https://www.instagram.com/p/CzZIXBVMWdZ/?img_i...\n",
       "                             ...                        \n",
       "278    https://www.instagram.com/p/Cy3AwyyMlvd/?utm_s...\n",
       "279    https://www.instagram.com/p/CystloQtc3B/?utm_s...\n",
       "280    https://www.instagram.com/p/CxnMNwKsphQ/?utm_s...\n",
       "281    https://www.instagram.com/p/Cu6q25Us_XC/?utm_s...\n",
       "282    https://www.instagram.com/p/CtjBFvLtulX/?utm_s...\n",
       "Name: link, Length: 282, dtype: object"
      ]
     },
     "execution_count": 4,
     "metadata": {},
     "output_type": "execute_result"
    }
   ],
   "source": [
    "links = df_links['link']\n",
    "links"
   ]
  },
  {
   "cell_type": "code",
   "execution_count": 5,
   "id": "06fe4973-55b2-4689-9ac6-dfbe4dab7a0f",
   "metadata": {},
   "outputs": [
    {
     "data": {
      "text/plain": [
       "259"
      ]
     },
     "execution_count": 5,
     "metadata": {},
     "output_type": "execute_result"
    }
   ],
   "source": [
    "import os\n",
    "\n",
    "# Get the current working directory\n",
    "current_directory = os.getcwd()\n",
    "current_directory\n",
    "# Specify the folder path you want to search for text files in\n",
    "folder_path = current_directory + '\\\\downloaded_posts'\n",
    "\n",
    "# List all files in the folder\n",
    "files = os.listdir(folder_path)\n",
    "\n",
    "# Filter out only the text files (files with a .txt extension)\n",
    "txt_files = [file for file in files if file.endswith('.txt')]\n",
    "len(txt_files)"
   ]
  },
  {
   "cell_type": "markdown",
   "id": "c6d9a656-07d9-49a4-af5e-6a81253f0447",
   "metadata": {},
   "source": [
    "### Instaloader"
   ]
  },
  {
   "cell_type": "code",
   "execution_count": null,
   "id": "d3ffe59c-86aa-4e9d-b4ab-633180016495",
   "metadata": {},
   "outputs": [],
   "source": [
    "import instaloader\n",
    "from instaloader.exceptions import BadResponseException"
   ]
  },
  {
   "cell_type": "code",
   "execution_count": null,
   "id": "39c4775a-c76f-4c92-8019-2c2845bb2f9d",
   "metadata": {},
   "outputs": [],
   "source": [
    "ids = df_links['id']\n",
    "# Initialize a dictionary to map custom IDs to corresponding post names\n",
    "custom_id_to_post_name = {}\n",
    "\n",
    "# ... [Your existing code for setup and loading the list_downloaded] ...\n",
    "\n",
    "\n",
    "for custom_id, link in zip(list_ids, tqdm(links)):\n",
    "    try:\n",
    "        post_link = link\n",
    "        post = instaloader.Post.from_shortcode(L.context, post_link.split('/')[-2])\n",
    "\n",
    "        if post not in list_downloaded:\n",
    "            # Download the post\n",
    "            L.download_post(post, target=download_folder)\n",
    "            list_downloaded.append(post)\n",
    "\n",
    "            # Update the dictionary with the custom ID and post name\n",
    "            custom_id_to_post_name[custom_id] = post.shortcode\n",
    "\n",
    "    except BadResponseException:\n",
    "        print(f\"Could not fetch metadata for {link}. Skipping...\")\n",
    "        continue\n",
    "    except Exception as e:\n",
    "        print(f\"An error occurred: {e}\")\n",
    "        continue\n",
    "\n",
    "    time.sleep(2)"
   ]
  },
  {
   "cell_type": "code",
   "execution_count": null,
   "id": "4a0d6b0d-3b8a-45b1-beda-d659b67613e4",
   "metadata": {},
   "outputs": [],
   "source": [
    "import os\n",
    "import instaloader\n",
    "from instaloader.exceptions import BadResponseException\n",
    "from tqdm import tqdm\n",
    "import time\n",
    "import json\n",
    "\n",
    "list_ids = df_links['id']\n",
    "links = df_links['link']\n",
    "\n",
    "\n",
    "# Assuming 'list_ids' and 'links' are already defined\n",
    "download_folder = 'downloaded_posts'\n",
    "L = instaloader.Instaloader()\n",
    "\n",
    "# Ensure the download folder exists\n",
    "os.makedirs(download_folder, exist_ok=True)\n",
    "\n",
    "# Initialize or load the custom_id_to_post_name dictionary\n",
    "custom_id_to_post_name = {}  # Load from file if needed\n",
    "\n",
    "for custom_id, link in zip(list_ids, tqdm(links)):\n",
    "    shortcode = link.split('/')[-2]\n",
    "\n",
    "    try:\n",
    "        post = instaloader.Post.from_shortcode(L.context, shortcode)\n",
    "\n",
    "        # Check if the post has already been downloaded\n",
    "        post_already_downloaded = False\n",
    "        for filename in os.listdir(download_folder):\n",
    "            if filename.endswith(\".json\") and shortcode in filename:\n",
    "                post_already_downloaded = True\n",
    "                custom_id_to_post_name[custom_id] = filename\n",
    "                break\n",
    "\n",
    "        if not post_already_downloaded:\n",
    "            # Download the post\n",
    "            L.download_post(post, target=download_folder)\n",
    "\n",
    "            # Find the new file and update the mapping\n",
    "            for filename in os.listdir(download_folder):\n",
    "                if filename.endswith(\".json\") and shortcode in filename:\n",
    "                    custom_id_to_post_name[custom_id] = filename\n",
    "                    break\n",
    "\n",
    "    except BadResponseException:\n",
    "        print(f\"Could not fetch metadata for {link}. Skipping...\")\n",
    "        continue\n",
    "    except Exception as e:\n",
    "        print(f\"An error occurred: {e}\")\n",
    "        continue\n",
    "\n",
    "    #time.sleep(2)\n",
    "\n",
    "# Optionally, save the custom_id_to_post_name dictionary to a file for persistence\n",
    "with open('custom_id_to_post_name_mapping.json', 'w') as file:\n",
    "    json.dump(custom_id_to_post_name, file)\n"
   ]
  },
  {
   "cell_type": "code",
   "execution_count": null,
   "id": "9b489256-8de9-4fea-a70f-eb019d4a882f",
   "metadata": {},
   "outputs": [],
   "source": [
    "custom_id_to_post_name"
   ]
  },
  {
   "cell_type": "code",
   "execution_count": null,
   "id": "322a80a6-1c09-4342-8382-45c1ff7b5422",
   "metadata": {},
   "outputs": [],
   "source": [
    "# Convert to DataFrame\n",
    "df_ids = pd.DataFrame(list(id_to_post.items()), columns=['id', 'PostName'])\n",
    "\n",
    "df_ids.to_excel('posts_id.xlsx')"
   ]
  }
 ],
 "metadata": {
  "kernelspec": {
   "display_name": "Python 3 (ipykernel)",
   "language": "python",
   "name": "python3"
  },
  "language_info": {
   "codemirror_mode": {
    "name": "ipython",
    "version": 3
   },
   "file_extension": ".py",
   "mimetype": "text/x-python",
   "name": "python",
   "nbconvert_exporter": "python",
   "pygments_lexer": "ipython3",
   "version": "3.11.5"
  }
 },
 "nbformat": 4,
 "nbformat_minor": 5
}
