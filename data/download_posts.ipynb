{
 "cells": [
  {
   "cell_type": "code",
   "execution_count": 2,
   "id": "c7de8016-3369-4245-9559-2a6ac1917c1d",
   "metadata": {},
   "outputs": [],
   "source": [
    "import pandas as pd\n",
    "import numpy as np\n",
    "import matplotlib.pyplot as plt\n",
    "import seaborn as sns"
   ]
  },
  {
   "cell_type": "code",
   "execution_count": 5,
   "id": "c679c2f6-7897-4803-903d-3d2aabdeab64",
   "metadata": {},
   "outputs": [
    {
     "data": {
      "text/html": [
       "<div>\n",
       "<style scoped>\n",
       "    .dataframe tbody tr th:only-of-type {\n",
       "        vertical-align: middle;\n",
       "    }\n",
       "\n",
       "    .dataframe tbody tr th {\n",
       "        vertical-align: top;\n",
       "    }\n",
       "\n",
       "    .dataframe thead th {\n",
       "        text-align: right;\n",
       "    }\n",
       "</style>\n",
       "<table border=\"1\" class=\"dataframe\">\n",
       "  <thead>\n",
       "    <tr style=\"text-align: right;\">\n",
       "      <th></th>\n",
       "      <th>id</th>\n",
       "      <th>link</th>\n",
       "      <th>Objectify (yes or no)</th>\n",
       "    </tr>\n",
       "  </thead>\n",
       "  <tbody>\n",
       "    <tr>\n",
       "      <th>0</th>\n",
       "      <td>1</td>\n",
       "      <td>https://www.instagram.com/p/CzTyW00KYzC/</td>\n",
       "      <td>1.0</td>\n",
       "    </tr>\n",
       "    <tr>\n",
       "      <th>1</th>\n",
       "      <td>2</td>\n",
       "      <td>https://www.instagram.com/p/C0PzOJxhEv7/</td>\n",
       "      <td>0.0</td>\n",
       "    </tr>\n",
       "    <tr>\n",
       "      <th>2</th>\n",
       "      <td>3</td>\n",
       "      <td>https://www.instagram.com/p/CzxRQd0tbV6/</td>\n",
       "      <td>0.0</td>\n",
       "    </tr>\n",
       "    <tr>\n",
       "      <th>3</th>\n",
       "      <td>4</td>\n",
       "      <td>https://www.instagram.com/p/CzZIXBVMWdZ/?img_i...</td>\n",
       "      <td>1.0</td>\n",
       "    </tr>\n",
       "    <tr>\n",
       "      <th>4</th>\n",
       "      <td>5</td>\n",
       "      <td>https://www.instagram.com/p/CzZIXBVMWdZ/?img_i...</td>\n",
       "      <td>1.0</td>\n",
       "    </tr>\n",
       "  </tbody>\n",
       "</table>\n",
       "</div>"
      ],
      "text/plain": [
       "   id                                               link  \\\n",
       "0   1           https://www.instagram.com/p/CzTyW00KYzC/   \n",
       "1   2           https://www.instagram.com/p/C0PzOJxhEv7/   \n",
       "2   3           https://www.instagram.com/p/CzxRQd0tbV6/   \n",
       "3   4  https://www.instagram.com/p/CzZIXBVMWdZ/?img_i...   \n",
       "4   5  https://www.instagram.com/p/CzZIXBVMWdZ/?img_i...   \n",
       "\n",
       "   Objectify (yes or no)  \n",
       "0                    1.0  \n",
       "1                    0.0  \n",
       "2                    0.0  \n",
       "3                    1.0  \n",
       "4                    1.0  "
      ]
     },
     "execution_count": 5,
     "metadata": {},
     "output_type": "execute_result"
    }
   ],
   "source": [
    "df_links = pd.read_excel('db_prod.xlsx')\n",
    "df_links.head()"
   ]
  },
  {
   "cell_type": "code",
   "execution_count": 8,
   "id": "12c8a4c1-d2bf-4aaf-88f2-b35ae97ffd2c",
   "metadata": {},
   "outputs": [],
   "source": [
    "df_links.dropna(inplace = True)"
   ]
  },
  {
   "cell_type": "code",
   "execution_count": 6,
   "id": "20a82956-b234-4179-9464-d9d57b71a10c",
   "metadata": {},
   "outputs": [
    {
     "data": {
      "text/plain": [
       "0               https://www.instagram.com/p/CzTyW00KYzC/\n",
       "1               https://www.instagram.com/p/C0PzOJxhEv7/\n",
       "2               https://www.instagram.com/p/CzxRQd0tbV6/\n",
       "3      https://www.instagram.com/p/CzZIXBVMWdZ/?img_i...\n",
       "4      https://www.instagram.com/p/CzZIXBVMWdZ/?img_i...\n",
       "                             ...                        \n",
       "494                                                  NaN\n",
       "495                                                  NaN\n",
       "496                                                  NaN\n",
       "497                                                  NaN\n",
       "498                                                  NaN\n",
       "Name: link, Length: 499, dtype: object"
      ]
     },
     "execution_count": 6,
     "metadata": {},
     "output_type": "execute_result"
    }
   ],
   "source": [
    "links = df_links['link']\n",
    "links"
   ]
  },
  {
   "cell_type": "code",
   "execution_count": 19,
   "id": "06fe4973-55b2-4689-9ac6-dfbe4dab7a0f",
   "metadata": {},
   "outputs": [
    {
     "data": {
      "text/plain": [
       "74"
      ]
     },
     "execution_count": 19,
     "metadata": {},
     "output_type": "execute_result"
    }
   ],
   "source": [
    "import os\n",
    "\n",
    "# Get the current working directory\n",
    "current_directory = os.getcwd()\n",
    "current_directory\n",
    "# Specify the folder path you want to search for text files in\n",
    "folder_path = current_directory + '\\\\downloaded_posts'\n",
    "\n",
    "# List all files in the folder\n",
    "files = os.listdir(folder_path)\n",
    "\n",
    "# Filter out only the text files (files with a .txt extension)\n",
    "txt_files = [file for file in files if file.endswith('.txt')]\n",
    "len(txt_files)\n"
   ]
  },
  {
   "cell_type": "code",
   "execution_count": 23,
   "id": "03f148cc-3b27-49ee-b396-b9a5164e34ed",
   "metadata": {},
   "outputs": [
    {
     "name": "stderr",
     "output_type": "stream",
     "text": [
      "  0%|                                                                                          | 0/282 [00:00<?, ?it/s]"
     ]
    },
    {
     "name": "stdout",
     "output_type": "stream",
     "text": [
      "Error downloading post CzTyW00KYzC: name 'Post' is not defined\n"
     ]
    },
    {
     "name": "stderr",
     "output_type": "stream",
     "text": [
      "  0%|▎                                                                                 | 1/282 [00:10<46:51, 10.00s/it]"
     ]
    },
    {
     "name": "stdout",
     "output_type": "stream",
     "text": [
      "Error downloading post C0PzOJxhEv7: name 'Post' is not defined\n"
     ]
    },
    {
     "name": "stderr",
     "output_type": "stream",
     "text": [
      "  0%|▎                                                                               | 1/282 [00:20<1:33:41, 20.01s/it]\n"
     ]
    },
    {
     "ename": "KeyboardInterrupt",
     "evalue": "",
     "output_type": "error",
     "traceback": [
      "\u001b[1;31m---------------------------------------------------------------------------\u001b[0m",
      "\u001b[1;31mKeyboardInterrupt\u001b[0m                         Traceback (most recent call last)",
      "Cell \u001b[1;32mIn[23], line 27\u001b[0m\n\u001b[0;32m     25\u001b[0m \u001b[38;5;28;01mexcept\u001b[39;00m \u001b[38;5;167;01mException\u001b[39;00m \u001b[38;5;28;01mas\u001b[39;00m e:\n\u001b[0;32m     26\u001b[0m     \u001b[38;5;28mprint\u001b[39m(\u001b[38;5;124mf\u001b[39m\u001b[38;5;124m\"\u001b[39m\u001b[38;5;124mError downloading post \u001b[39m\u001b[38;5;132;01m{\u001b[39;00mpost_id\u001b[38;5;132;01m}\u001b[39;00m\u001b[38;5;124m: \u001b[39m\u001b[38;5;132;01m{\u001b[39;00me\u001b[38;5;132;01m}\u001b[39;00m\u001b[38;5;124m\"\u001b[39m)\n\u001b[1;32m---> 27\u001b[0m \u001b[43mtime\u001b[49m\u001b[38;5;241;43m.\u001b[39;49m\u001b[43msleep\u001b[49m\u001b[43m(\u001b[49m\u001b[38;5;241;43m10\u001b[39;49m\u001b[43m)\u001b[49m\n",
      "\u001b[1;31mKeyboardInterrupt\u001b[0m: "
     ]
    }
   ],
   "source": [
    "import instaloader\n",
    "import os\n",
    "import time\n",
    "from tqdm import tqdm\n",
    "\n",
    "# Create an Instaloader instance\n",
    "L = instaloader.Instaloader()\n",
    "\n",
    "# Specify the folder where downloaded posts are stored\n",
    "download_folder = 'downloaded_posts'\n",
    "\n",
    "# Replace [...] with your actual list of post links\n",
    "links = df_links['link']\n",
    "\n",
    "# Initialize the list_downloaded with the post IDs of already downloaded posts\n",
    "list_downloaded = []\n",
    "for filename in os.listdir(download_folder):\n",
    "    if filename.endswith('.json'):\n",
    "        post_id = filename[:-5]  # Remove the '.json' extension\n",
    "        list_downloaded.append(post_id)\n",
    "\n",
    "for link in tqdm(links[1:]):\n",
    "    # Replace 'POST_LINK_HERE' with the actual post link\n",
    "    post_link = link\n",
    "    # Get the post ID from the post link\n",
    "    post_id = instaloader.Post.from_shortcode(L.context, post_link.split('/')[-2])\n",
    "    \n",
    "    if post_id not in list_downloaded:\n",
    "        try:\n",
    "            # Download the post\n",
    "            L.download_post(post_id, target=download_folder)\n",
    "            list_downloaded.append(post_id)  # Add the post ID to the list of downloaded posts\n",
    "        except:\n",
    "            pass\n",
    "    time.sleep(10)\n"
   ]
  },
  {
   "cell_type": "code",
   "execution_count": null,
   "id": "d3ffe59c-86aa-4e9d-b4ab-633180016495",
   "metadata": {},
   "outputs": [],
   "source": [
    "\n",
    "for link in tqdm(links):\n",
    "    post_id = link.split('/')[-2]\n",
    "    if post_id not in list_downloaded:\n",
    "        try:\n",
    "            post = Post.from_shortcode(L.context, post_id)\n",
    "            L.download_post(post, target=download_folder)\n",
    "            list_downloaded.append(post_id)\n",
    "        except Exception as e:\n",
    "            print(f\"Error downloading post {post_id}: {e}\")\n",
    "        time.sleep(10)"
   ]
  }
 ],
 "metadata": {
  "kernelspec": {
   "display_name": "Python 3 (ipykernel)",
   "language": "python",
   "name": "python3"
  },
  "language_info": {
   "codemirror_mode": {
    "name": "ipython",
    "version": 3
   },
   "file_extension": ".py",
   "mimetype": "text/x-python",
   "name": "python",
   "nbconvert_exporter": "python",
   "pygments_lexer": "ipython3",
   "version": "3.11.5"
  }
 },
 "nbformat": 4,
 "nbformat_minor": 5
}
