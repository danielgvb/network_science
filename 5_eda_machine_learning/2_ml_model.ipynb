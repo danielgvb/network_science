{
 "cells": [
  {
   "cell_type": "code",
   "execution_count": 1,
   "id": "083ad3ac-2519-40bc-a934-8f8117f7e522",
   "metadata": {},
   "outputs": [],
   "source": [
    "import pandas as pd\n",
    "import numpy as np\n",
    "import matplotlib.pyplot as plt\n",
    "import seaborn as sns\n",
    "from sklearn.model_selection import train_test_split\n",
    "from sklearn.metrics import accuracy_score\n",
    "from sklearn.linear_model import LogisticRegression\n",
    "from sklearn.neighbors import KNeighborsClassifier\n",
    "from sklearn.svm import SVC\n",
    "from sklearn.tree import DecisionTreeClassifier\n",
    "from sklearn.ensemble import RandomForestClassifier, GradientBoostingClassifier"
   ]
  },
  {
   "cell_type": "code",
   "execution_count": 2,
   "id": "d1eac7cd-b155-486c-ac92-20dc34eca967",
   "metadata": {},
   "outputs": [
    {
     "data": {
      "text/html": [
       "<div>\n",
       "<style scoped>\n",
       "    .dataframe tbody tr th:only-of-type {\n",
       "        vertical-align: middle;\n",
       "    }\n",
       "\n",
       "    .dataframe tbody tr th {\n",
       "        vertical-align: top;\n",
       "    }\n",
       "\n",
       "    .dataframe thead th {\n",
       "        text-align: right;\n",
       "    }\n",
       "</style>\n",
       "<table border=\"1\" class=\"dataframe\">\n",
       "  <thead>\n",
       "    <tr style=\"text-align: right;\">\n",
       "      <th></th>\n",
       "      <th>Long</th>\n",
       "      <th>Face</th>\n",
       "      <th>Skin_pct</th>\n",
       "      <th>Auto_caption</th>\n",
       "      <th>id</th>\n",
       "      <th>Short</th>\n",
       "      <th>link</th>\n",
       "      <th>Objectify (yes or no)</th>\n",
       "      <th>caption</th>\n",
       "      <th>Has_women</th>\n",
       "      <th>Key_path</th>\n",
       "      <th>No_humans</th>\n",
       "    </tr>\n",
       "  </thead>\n",
       "  <tbody>\n",
       "    <tr>\n",
       "      <th>0</th>\n",
       "      <td>2015-11-18_18-26-59_UTC</td>\n",
       "      <td>1</td>\n",
       "      <td>0.042849</td>\n",
       "      <td>a picture of a woman with long black hair sits...</td>\n",
       "      <td>207</td>\n",
       "      <td>-PHbiexlr_</td>\n",
       "      <td>https://www.instagram.com/p/-PHbiexlr_/?igshid...</td>\n",
       "      <td>1</td>\n",
       "      <td>Stunning Mariana Rodriguez in #amencouture. Se...</td>\n",
       "      <td>1</td>\n",
       "      <td>../1_download_data/data/raw/-PHbiexlr_\\2015-11...</td>\n",
       "      <td>0</td>\n",
       "    </tr>\n",
       "    <tr>\n",
       "      <th>1</th>\n",
       "      <td>2015-06-01_07-45-08_UTC</td>\n",
       "      <td>1</td>\n",
       "      <td>0.491443</td>\n",
       "      <td>a picture of a woman with black hair and a bla...</td>\n",
       "      <td>214</td>\n",
       "      <td>3YO1o0Rlkt</td>\n",
       "      <td>https://www.instagram.com/p/3YO1o0Rlkt/?igshid...</td>\n",
       "      <td>1</td>\n",
       "      <td>@emastokholma in Amen embroidered #dress from ...</td>\n",
       "      <td>1</td>\n",
       "      <td>../1_download_data/data/raw/3YO1o0Rlkt\\2015-06...</td>\n",
       "      <td>0</td>\n",
       "    </tr>\n",
       "    <tr>\n",
       "      <th>2</th>\n",
       "      <td>2015-07-06_10-38-30_UTC</td>\n",
       "      <td>1</td>\n",
       "      <td>0.133582</td>\n",
       "      <td>a picture of a woman with black hair and a bla...</td>\n",
       "      <td>213</td>\n",
       "      <td>4yqgDyxloK</td>\n",
       "      <td>https://www.instagram.com/p/4yqgDyxloK/?igshid...</td>\n",
       "      <td>1</td>\n",
       "      <td>Stunning DJ @emastokholma wears all over paill...</td>\n",
       "      <td>1</td>\n",
       "      <td>../1_download_data/data/raw/4yqgDyxloK\\2015-07...</td>\n",
       "      <td>0</td>\n",
       "    </tr>\n",
       "    <tr>\n",
       "      <th>3</th>\n",
       "      <td>2020-04-10_08-57-20_UTC</td>\n",
       "      <td>0</td>\n",
       "      <td>0.258619</td>\n",
       "      <td>a picture of a woman wearing a black jacket an...</td>\n",
       "      <td>209</td>\n",
       "      <td>B-y2Fo8qcN_</td>\n",
       "      <td>https://www.instagram.com/p/B-y2Fo8qcN_/?igshi...</td>\n",
       "      <td>1</td>\n",
       "      <td>Crystal Pumps ✨ #AmenStyle #AmenPreSpring20 #A...</td>\n",
       "      <td>1</td>\n",
       "      <td>../1_download_data/data/raw/B-y2Fo8qcN_\\2020-0...</td>\n",
       "      <td>0</td>\n",
       "    </tr>\n",
       "    <tr>\n",
       "      <th>4</th>\n",
       "      <td>2019-10-24_11-49-40_UTC</td>\n",
       "      <td>1</td>\n",
       "      <td>0.888304</td>\n",
       "      <td>a picture of a woman in a red dress sits on a ...</td>\n",
       "      <td>200</td>\n",
       "      <td>B3__d73i46x</td>\n",
       "      <td>https://www.instagram.com/p/B3__d73i46x/?igshi...</td>\n",
       "      <td>1</td>\n",
       "      <td>Discover our FW19 Collection on amenstyle.com ...</td>\n",
       "      <td>1</td>\n",
       "      <td>../1_download_data/data/raw/B3__d73i46x\\2019-1...</td>\n",
       "      <td>0</td>\n",
       "    </tr>\n",
       "  </tbody>\n",
       "</table>\n",
       "</div>"
      ],
      "text/plain": [
       "                      Long  Face  Skin_pct  \\\n",
       "0  2015-11-18_18-26-59_UTC     1  0.042849   \n",
       "1  2015-06-01_07-45-08_UTC     1  0.491443   \n",
       "2  2015-07-06_10-38-30_UTC     1  0.133582   \n",
       "3  2020-04-10_08-57-20_UTC     0  0.258619   \n",
       "4  2019-10-24_11-49-40_UTC     1  0.888304   \n",
       "\n",
       "                                        Auto_caption   id        Short  \\\n",
       "0  a picture of a woman with long black hair sits...  207   -PHbiexlr_   \n",
       "1  a picture of a woman with black hair and a bla...  214   3YO1o0Rlkt   \n",
       "2  a picture of a woman with black hair and a bla...  213   4yqgDyxloK   \n",
       "3  a picture of a woman wearing a black jacket an...  209  B-y2Fo8qcN_   \n",
       "4  a picture of a woman in a red dress sits on a ...  200  B3__d73i46x   \n",
       "\n",
       "                                                link  Objectify (yes or no)  \\\n",
       "0  https://www.instagram.com/p/-PHbiexlr_/?igshid...                      1   \n",
       "1  https://www.instagram.com/p/3YO1o0Rlkt/?igshid...                      1   \n",
       "2  https://www.instagram.com/p/4yqgDyxloK/?igshid...                      1   \n",
       "3  https://www.instagram.com/p/B-y2Fo8qcN_/?igshi...                      1   \n",
       "4  https://www.instagram.com/p/B3__d73i46x/?igshi...                      1   \n",
       "\n",
       "                                             caption  Has_women  \\\n",
       "0  Stunning Mariana Rodriguez in #amencouture. Se...          1   \n",
       "1  @emastokholma in Amen embroidered #dress from ...          1   \n",
       "2  Stunning DJ @emastokholma wears all over paill...          1   \n",
       "3  Crystal Pumps ✨ #AmenStyle #AmenPreSpring20 #A...          1   \n",
       "4  Discover our FW19 Collection on amenstyle.com ...          1   \n",
       "\n",
       "                                            Key_path  No_humans  \n",
       "0  ../1_download_data/data/raw/-PHbiexlr_\\2015-11...          0  \n",
       "1  ../1_download_data/data/raw/3YO1o0Rlkt\\2015-06...          0  \n",
       "2  ../1_download_data/data/raw/4yqgDyxloK\\2015-07...          0  \n",
       "3  ../1_download_data/data/raw/B-y2Fo8qcN_\\2020-0...          0  \n",
       "4  ../1_download_data/data/raw/B3__d73i46x\\2019-1...          0  "
      ]
     },
     "execution_count": 2,
     "metadata": {},
     "output_type": "execute_result"
    }
   ],
   "source": [
    "df = pd.read_excel('../0_data/data_model.xlsx')\n",
    "df.head()"
   ]
  },
  {
   "cell_type": "code",
   "execution_count": 3,
   "id": "699401f0-c609-4365-b91b-aa1324d3c6b7",
   "metadata": {},
   "outputs": [],
   "source": [
    "df.rename(columns = {'Objectify (yes or no)':'Objectify'}, inplace = True)"
   ]
  },
  {
   "cell_type": "code",
   "execution_count": 4,
   "id": "be1834d3-51bd-44fa-9c4d-19d288f574ed",
   "metadata": {},
   "outputs": [
    {
     "data": {
      "text/html": [
       "<div>\n",
       "<style scoped>\n",
       "    .dataframe tbody tr th:only-of-type {\n",
       "        vertical-align: middle;\n",
       "    }\n",
       "\n",
       "    .dataframe tbody tr th {\n",
       "        vertical-align: top;\n",
       "    }\n",
       "\n",
       "    .dataframe thead th {\n",
       "        text-align: right;\n",
       "    }\n",
       "</style>\n",
       "<table border=\"1\" class=\"dataframe\">\n",
       "  <thead>\n",
       "    <tr style=\"text-align: right;\">\n",
       "      <th></th>\n",
       "      <th>Face</th>\n",
       "      <th>Skin_pct</th>\n",
       "      <th>id</th>\n",
       "      <th>Objectify</th>\n",
       "      <th>Has_women</th>\n",
       "      <th>No_humans</th>\n",
       "    </tr>\n",
       "  </thead>\n",
       "  <tbody>\n",
       "    <tr>\n",
       "      <th>count</th>\n",
       "      <td>661.000000</td>\n",
       "      <td>661.000000</td>\n",
       "      <td>661.000000</td>\n",
       "      <td>661.000000</td>\n",
       "      <td>661.0</td>\n",
       "      <td>661.0</td>\n",
       "    </tr>\n",
       "    <tr>\n",
       "      <th>mean</th>\n",
       "      <td>0.881997</td>\n",
       "      <td>0.254157</td>\n",
       "      <td>149.216339</td>\n",
       "      <td>0.695915</td>\n",
       "      <td>1.0</td>\n",
       "      <td>0.0</td>\n",
       "    </tr>\n",
       "    <tr>\n",
       "      <th>std</th>\n",
       "      <td>0.322856</td>\n",
       "      <td>0.213565</td>\n",
       "      <td>82.665152</td>\n",
       "      <td>0.460367</td>\n",
       "      <td>0.0</td>\n",
       "      <td>0.0</td>\n",
       "    </tr>\n",
       "    <tr>\n",
       "      <th>min</th>\n",
       "      <td>0.000000</td>\n",
       "      <td>0.000000</td>\n",
       "      <td>1.000000</td>\n",
       "      <td>0.000000</td>\n",
       "      <td>1.0</td>\n",
       "      <td>0.0</td>\n",
       "    </tr>\n",
       "    <tr>\n",
       "      <th>25%</th>\n",
       "      <td>1.000000</td>\n",
       "      <td>0.086044</td>\n",
       "      <td>78.000000</td>\n",
       "      <td>0.000000</td>\n",
       "      <td>1.0</td>\n",
       "      <td>0.0</td>\n",
       "    </tr>\n",
       "    <tr>\n",
       "      <th>50%</th>\n",
       "      <td>1.000000</td>\n",
       "      <td>0.197287</td>\n",
       "      <td>154.000000</td>\n",
       "      <td>1.000000</td>\n",
       "      <td>1.0</td>\n",
       "      <td>0.0</td>\n",
       "    </tr>\n",
       "    <tr>\n",
       "      <th>75%</th>\n",
       "      <td>1.000000</td>\n",
       "      <td>0.371213</td>\n",
       "      <td>222.000000</td>\n",
       "      <td>1.000000</td>\n",
       "      <td>1.0</td>\n",
       "      <td>0.0</td>\n",
       "    </tr>\n",
       "    <tr>\n",
       "      <th>max</th>\n",
       "      <td>1.000000</td>\n",
       "      <td>0.973183</td>\n",
       "      <td>283.000000</td>\n",
       "      <td>1.000000</td>\n",
       "      <td>1.0</td>\n",
       "      <td>0.0</td>\n",
       "    </tr>\n",
       "  </tbody>\n",
       "</table>\n",
       "</div>"
      ],
      "text/plain": [
       "             Face    Skin_pct          id   Objectify  Has_women  No_humans\n",
       "count  661.000000  661.000000  661.000000  661.000000      661.0      661.0\n",
       "mean     0.881997    0.254157  149.216339    0.695915        1.0        0.0\n",
       "std      0.322856    0.213565   82.665152    0.460367        0.0        0.0\n",
       "min      0.000000    0.000000    1.000000    0.000000        1.0        0.0\n",
       "25%      1.000000    0.086044   78.000000    0.000000        1.0        0.0\n",
       "50%      1.000000    0.197287  154.000000    1.000000        1.0        0.0\n",
       "75%      1.000000    0.371213  222.000000    1.000000        1.0        0.0\n",
       "max      1.000000    0.973183  283.000000    1.000000        1.0        0.0"
      ]
     },
     "execution_count": 4,
     "metadata": {},
     "output_type": "execute_result"
    }
   ],
   "source": [
    "df.describe()"
   ]
  },
  {
   "cell_type": "code",
   "execution_count": 5,
   "id": "7b3cd18b-324b-45ff-8a7c-e681c3839042",
   "metadata": {},
   "outputs": [],
   "source": [
    "X = df[['Skin_pct', 'Face']]\n",
    "y = df['Objectify']\n",
    "X_train, X_test, y_train, y_test = train_test_split(X, y, test_size=0.3, random_state=42)"
   ]
  },
  {
   "cell_type": "code",
   "execution_count": 6,
   "id": "b9d71b8b-fe10-481f-868f-4fc125d31ae7",
   "metadata": {},
   "outputs": [
    {
     "name": "stdout",
     "output_type": "stream",
     "text": [
      "Logistic Regression Accuracy: 0.6633165829145728\n",
      "KNN Accuracy: 0.5979899497487438\n",
      "SVM Accuracy: 0.6733668341708543\n",
      "Decision Tree Accuracy: 0.5829145728643216\n",
      "Random Forest Accuracy: 0.5778894472361809\n",
      "Gradient Boosting Accuracy: 0.6080402010050251\n"
     ]
    }
   ],
   "source": [
    "# Logistic Regression\n",
    "logreg = LogisticRegression()\n",
    "logreg.fit(X_train, y_train)\n",
    "logreg_pred = logreg.predict(X_test)\n",
    "\n",
    "# K-Nearest Neighbors\n",
    "knn = KNeighborsClassifier()\n",
    "knn.fit(X_train, y_train)\n",
    "knn_pred = knn.predict(X_test)\n",
    "\n",
    "# Support Vector Machine\n",
    "svm = SVC()\n",
    "svm.fit(X_train, y_train)\n",
    "svm_pred = svm.predict(X_test)\n",
    "\n",
    "# Decision Tree\n",
    "dtree = DecisionTreeClassifier()\n",
    "dtree.fit(X_train, y_train)\n",
    "dtree_pred = dtree.predict(X_test)\n",
    "\n",
    "# Random Forest\n",
    "rforest = RandomForestClassifier()\n",
    "rforest.fit(X_train, y_train)\n",
    "rforest_pred = rforest.predict(X_test)\n",
    "\n",
    "# Gradient Boosting\n",
    "gboost = GradientBoostingClassifier()\n",
    "gboost.fit(X_train, y_train)\n",
    "gboost_pred = gboost.predict(X_test)\n",
    "\n",
    "# Example of evaluating the models using accuracy\n",
    "print(\"Logistic Regression Accuracy:\", accuracy_score(y_test, logreg_pred))\n",
    "print(\"KNN Accuracy:\", accuracy_score(y_test, knn_pred))\n",
    "print(\"SVM Accuracy:\", accuracy_score(y_test, svm_pred))\n",
    "print(\"Decision Tree Accuracy:\", accuracy_score(y_test, dtree_pred))\n",
    "print(\"Random Forest Accuracy:\", accuracy_score(y_test, rforest_pred))\n",
    "print(\"Gradient Boosting Accuracy:\", accuracy_score(y_test, gboost_pred))\n"
   ]
  },
  {
   "cell_type": "markdown",
   "id": "23e62f38-1787-4b2d-b40c-7ffbf0305ce0",
   "metadata": {},
   "source": [
    "## Use Word Embeddings"
   ]
  },
  {
   "cell_type": "code",
   "execution_count": 7,
   "id": "8592e580-d5f6-44ae-9063-eb06c83a310e",
   "metadata": {},
   "outputs": [
    {
     "name": "stderr",
     "output_type": "stream",
     "text": [
      "C:\\Users\\danie\\anaconda3\\envs\\ds_master\\Lib\\site-packages\\paramiko\\transport.py:219: CryptographyDeprecationWarning: Blowfish has been deprecated\n",
      "  \"class\": algorithms.Blowfish,\n",
      "[nltk_data] Downloading package punkt to\n",
      "[nltk_data]     C:\\Users\\danie\\AppData\\Roaming\\nltk_data...\n",
      "[nltk_data]   Package punkt is already up-to-date!\n"
     ]
    },
    {
     "data": {
      "text/plain": [
       "True"
      ]
     },
     "execution_count": 7,
     "metadata": {},
     "output_type": "execute_result"
    }
   ],
   "source": [
    "import numpy as np\n",
    "import pandas as pd\n",
    "from gensim.models import KeyedVectors\n",
    "from nltk.tokenize import word_tokenize\n",
    "import nltk\n",
    "nltk.download('punkt')"
   ]
  },
  {
   "cell_type": "markdown",
   "id": "eeabcbe2-950f-4791-b517-21223137e676",
   "metadata": {},
   "source": [
    "Download the Word2Vec Embeddings and save them locally. Not in this folder because github does not support large files in the free trial\n",
    "GoogleNews-vectors-negative300.bin\n",
    "path to download = https://www.kaggle.com/datasets/leadbest/googlenewsvectorsnegative300"
   ]
  },
  {
   "cell_type": "code",
   "execution_count": 8,
   "id": "4c5d7274-6757-42f0-92a3-7f7428bedc20",
   "metadata": {},
   "outputs": [],
   "source": [
    "model = KeyedVectors.load_word2vec_format('../../../Embeddings/GoogleNews-vectors-negative300.bin/GoogleNews-vectors-negative300.bin', binary=True) # have embeddings in pc"
   ]
  },
  {
   "cell_type": "code",
   "execution_count": 9,
   "id": "f6bd8710-0728-4faf-89a8-dd4a8e1b36cf",
   "metadata": {},
   "outputs": [],
   "source": [
    "def sentence_to_avg_vector(sentence, model):\n",
    "    words = word_tokenize(sentence.lower())\n",
    "    word_vectors = [model[word] for word in words if word in model]\n",
    "    if len(word_vectors) == 0:\n",
    "        return np.zeros(model.vector_size)\n",
    "    else:\n",
    "        return np.mean(word_vectors, axis=0)"
   ]
  },
  {
   "cell_type": "code",
   "execution_count": 10,
   "id": "f7cb2cbc-c80b-4792-adcd-1bbabc3c3658",
   "metadata": {},
   "outputs": [],
   "source": [
    "df['sentence_vector'] = df['Auto_caption'].apply(lambda x: sentence_to_avg_vector(x, model))\n",
    "# Assuming you want to use these vectors in a machine learning model\n",
    "X_embeddings = np.array(df['sentence_vector'].tolist())  # Feature matrix"
   ]
  },
  {
   "cell_type": "code",
   "execution_count": 11,
   "id": "3bc620f0-c4ac-4760-bca3-a09b77ebab2a",
   "metadata": {},
   "outputs": [
    {
     "data": {
      "text/plain": [
       "array([[ 4.27223481e-02,  3.72857004e-02, -2.62578321e-03, ...,\n",
       "        -4.93028434e-03,  4.28485870e-02,  1.00000000e+00],\n",
       "       [ 3.92417908e-02,  6.11674003e-02, -1.57318115e-02, ...,\n",
       "        -5.69152832e-03,  4.91442871e-01,  1.00000000e+00],\n",
       "       [ 5.21591194e-02,  4.77233902e-02,  9.75036621e-03, ...,\n",
       "         1.49719240e-02,  1.33582176e-01,  1.00000000e+00],\n",
       "       ...,\n",
       "       [ 5.52016683e-02,  3.56270932e-02,  2.24958151e-03, ...,\n",
       "         4.49044368e-04,  2.44262356e-01,  1.00000000e+00],\n",
       "       [ 1.91882905e-02,  5.26588075e-02, -1.14281066e-02, ...,\n",
       "         5.10428287e-02,  2.20332031e-01,  1.00000000e+00],\n",
       "       [ 4.89985161e-02,  5.01327515e-02, -2.30077114e-02, ...,\n",
       "         4.17919159e-02,  3.72958984e-01,  1.00000000e+00]])"
      ]
     },
     "execution_count": 11,
     "metadata": {},
     "output_type": "execute_result"
    }
   ],
   "source": [
    "X_combined = np.concatenate((X_embeddings, X), axis=1)\n",
    "X_combined"
   ]
  },
  {
   "cell_type": "markdown",
   "id": "364a6e9f-b543-460c-81f5-a6b2824e05e8",
   "metadata": {},
   "source": [
    "# Classificator with embeddings"
   ]
  },
  {
   "cell_type": "code",
   "execution_count": 12,
   "id": "3b5c583e-3d55-43c7-acb7-ace9f70cfc32",
   "metadata": {},
   "outputs": [],
   "source": [
    "X0 = X_combined\n",
    "Y = df['Objectify']\n",
    "X_train, X_test, Y_train, Y_test = train_test_split(X0, Y, test_size=0.3, random_state=42)"
   ]
  },
  {
   "cell_type": "code",
   "execution_count": 13,
   "id": "01b8c19e-83cf-49f2-ba9c-f8bd0381dbc1",
   "metadata": {},
   "outputs": [
    {
     "name": "stdout",
     "output_type": "stream",
     "text": [
      "Logistic Regression Accuracy: 0.6884422110552764\n",
      "KNN Accuracy: 0.7185929648241206\n",
      "SVM Accuracy: 0.6633165829145728\n",
      "Decision Tree Accuracy: 0.5577889447236181\n",
      "Random Forest Accuracy: 0.7185929648241206\n",
      "Gradient Boosting Accuracy: 0.7035175879396985\n"
     ]
    }
   ],
   "source": [
    "# Logistic Regression\n",
    "logreg = LogisticRegression()\n",
    "logreg.fit(X_train, y_train)\n",
    "logreg_pred = logreg.predict(X_test)\n",
    "\n",
    "# K-Nearest Neighbors\n",
    "knn = KNeighborsClassifier()\n",
    "knn.fit(X_train, y_train)\n",
    "knn_pred = knn.predict(X_test)\n",
    "\n",
    "# Support Vector Machine\n",
    "svm = SVC()\n",
    "svm.fit(X_train, y_train)\n",
    "svm_pred = svm.predict(X_test)\n",
    "\n",
    "# Decision Tree\n",
    "dtree = DecisionTreeClassifier()\n",
    "dtree.fit(X_train, y_train)\n",
    "dtree_pred = dtree.predict(X_test)\n",
    "\n",
    "# Random Forest\n",
    "rforest = RandomForestClassifier()\n",
    "rforest.fit(X_train, y_train)\n",
    "rforest_pred = rforest.predict(X_test)\n",
    "\n",
    "# Gradient Boosting\n",
    "gboost = GradientBoostingClassifier()\n",
    "gboost.fit(X_train, y_train)\n",
    "gboost_pred = gboost.predict(X_test)\n",
    "\n",
    "# Example of evaluating the models using accuracy\n",
    "print(\"Logistic Regression Accuracy:\", accuracy_score(y_test, logreg_pred))\n",
    "print(\"KNN Accuracy:\", accuracy_score(y_test, knn_pred))\n",
    "print(\"SVM Accuracy:\", accuracy_score(y_test, svm_pred))\n",
    "print(\"Decision Tree Accuracy:\", accuracy_score(y_test, dtree_pred))\n",
    "print(\"Random Forest Accuracy:\", accuracy_score(y_test, rforest_pred))\n",
    "print(\"Gradient Boosting Accuracy:\", accuracy_score(y_test, gboost_pred))"
   ]
  },
  {
   "cell_type": "code",
   "execution_count": 17,
   "id": "ce4d04bf-b28f-4be5-8a7d-088647460021",
   "metadata": {},
   "outputs": [
    {
     "data": {
      "text/plain": [
       "0.6959152798789713"
      ]
     },
     "execution_count": 17,
     "metadata": {},
     "output_type": "execute_result"
    }
   ],
   "source": [
    "y.mean()"
   ]
  },
  {
   "cell_type": "markdown",
   "id": "85360579-73fd-495f-b4ec-47c67a967f63",
   "metadata": {},
   "source": [
    "See also F1-score to evaluate best model because dataset is unbalanced"
   ]
  },
  {
   "cell_type": "code",
   "execution_count": 14,
   "id": "1440e10b-c65e-4e0c-b467-acc7124b54ec",
   "metadata": {},
   "outputs": [
    {
     "name": "stdout",
     "output_type": "stream",
     "text": [
      "Logistic Regression F1 Score: 0.8074534161490684\n",
      "KNN F1 Score: 0.8082191780821918\n",
      "SVM F1 Score: 0.797583081570997\n",
      "Decision Tree F1 Score: 0.653543307086614\n",
      "Random Forest F1 Score: 0.8181818181818182\n",
      "Gradient Boosting F1 Score: 0.802675585284281\n"
     ]
    }
   ],
   "source": [
    "from sklearn.metrics import f1_score\n",
    "\n",
    "# Calculate F1 scores\n",
    "f1_logreg = f1_score(y_test, logreg_pred)\n",
    "f1_knn = f1_score(y_test, knn_pred)\n",
    "f1_svm = f1_score(y_test, svm_pred)\n",
    "f1_dtree = f1_score(y_test, dtree_pred)\n",
    "f1_rforest = f1_score(y_test, rforest_pred)\n",
    "f1_gboost = f1_score(y_test, gboost_pred)\n",
    "\n",
    "# Print F1 scores\n",
    "print(\"Logistic Regression F1 Score:\", f1_logreg)\n",
    "print(\"KNN F1 Score:\", f1_knn)\n",
    "print(\"SVM F1 Score:\", f1_svm)\n",
    "print(\"Decision Tree F1 Score:\", f1_dtree)\n",
    "print(\"Random Forest F1 Score:\", f1_rforest)\n",
    "print(\"Gradient Boosting F1 Score:\", f1_gboost)"
   ]
  },
  {
   "cell_type": "markdown",
   "id": "48ba1f36-5761-42e8-9db5-941c0666ec28",
   "metadata": {},
   "source": [
    "Having the best model we can automatically label all the other data"
   ]
  },
  {
   "cell_type": "code",
   "execution_count": null,
   "id": "46c14835-7b2f-49ee-bf68-df6fc66a5dcb",
   "metadata": {},
   "outputs": [],
   "source": [
    "# import other data"
   ]
  }
 ],
 "metadata": {
  "kernelspec": {
   "display_name": "Python 3 (ipykernel)",
   "language": "python",
   "name": "python3"
  },
  "language_info": {
   "codemirror_mode": {
    "name": "ipython",
    "version": 3
   },
   "file_extension": ".py",
   "mimetype": "text/x-python",
   "name": "python",
   "nbconvert_exporter": "python",
   "pygments_lexer": "ipython3",
   "version": "3.11.5"
  }
 },
 "nbformat": 4,
 "nbformat_minor": 5
}
