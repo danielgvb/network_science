{
 "cells": [
  {
   "cell_type": "code",
   "execution_count": 8,
   "id": "7f36c02c-644f-44eb-a803-2389bb9c8647",
   "metadata": {},
   "outputs": [],
   "source": [
    "from ultralytics import YOLO\n",
    "import cv2\n",
    "import matplotlib.pyplot as plt\n",
    "\n",
    "# Load the YOLO model\n",
    "model = YOLO(\"yolov8n.pt\")\n",
    "\n",
    "# Define the image path\n",
    "image_path = 'sample/2022-11-30_16-58-45_UTC_6.jpg'\n",
    "\n",
    "\n",
    "# Process the image with the YOLO model\n",
    "#results = model(image_path, classes = 0)\n",
    "\n",
    "# You can now view the results\n",
    "#print(results)"
   ]
  },
  {
   "cell_type": "code",
   "execution_count": 10,
   "id": "23cef3a0-6890-434c-81f8-c83055d9242f",
   "metadata": {},
   "outputs": [
    {
     "name": "stdout",
     "output_type": "stream",
     "text": [
      "\n",
      "image 1/1 C:\\Users\\danie\\Documents\\GitHub\\network_science\\2_image_processing\\sample\\2022-11-30_16-58-45_UTC_6.jpg: 640x512 (no detections), 126.1ms\n",
      "Speed: 6.5ms preprocess, 126.1ms inference, 1.2ms postprocess per image at shape (1, 3, 640, 512)\n"
     ]
    }
   ],
   "source": [
    "#results = model('https://ultralytics.com/images/bus.jpg')\n",
    "results = model(image_path)\n",
    "\n",
    "# Extract bounding boxes, classes, names, and confidences\n",
    "boxes = results[0].boxes.xyxy.tolist()\n",
    "classes = results[0].boxes.cls.tolist()\n",
    "names = results[0].names\n",
    "confidences = results[0].boxes.conf.tolist()\n",
    "\n",
    "# Iterate through the results\n",
    "for box, cls, conf in zip(boxes, classes, confidences):\n",
    "    x1, y1, x2, y2 = box\n",
    "    confidence = conf\n",
    "    detected_class = cls\n",
    "    name = names[int(cls)]"
   ]
  },
  {
   "cell_type": "code",
   "execution_count": 13,
   "id": "d9997a34-33fd-4047-b452-372391c7f8c9",
   "metadata": {},
   "outputs": [
    {
     "data": {
      "text/plain": [
       "[]"
      ]
     },
     "execution_count": 13,
     "metadata": {},
     "output_type": "execute_result"
    }
   ],
   "source": [
    "classes"
   ]
  },
  {
   "cell_type": "code",
   "execution_count": 12,
   "id": "4da0bc19-9088-41c6-b14a-4e566323f3e3",
   "metadata": {},
   "outputs": [
    {
     "data": {
      "text/plain": [
       "0.8192964792251587"
      ]
     },
     "execution_count": 12,
     "metadata": {},
     "output_type": "execute_result"
    }
   ],
   "source": [
    "confidence"
   ]
  },
  {
   "cell_type": "code",
   "execution_count": 14,
   "id": "aa074d5a-7971-4607-b953-77c6cf8135d5",
   "metadata": {},
   "outputs": [
    {
     "name": "stdout",
     "output_type": "stream",
     "text": [
      "Image loaded successfully\n"
     ]
    }
   ],
   "source": [
    "import cv2\n",
    "image_path = 'sample/2015-07-06_10-38-30_UTC.jpg'\n",
    "img = cv2.imread(image_path)\n",
    "if img is None:\n",
    "    print(f\"Failed to load image at {image_path}\")\n",
    "else:\n",
    "    print(\"Image loaded successfully\")"
   ]
  },
  {
   "cell_type": "code",
   "execution_count": null,
   "id": "f31e0b13-9f98-43b5-9ccd-b70c5e87871d",
   "metadata": {},
   "outputs": [],
   "source": [
    "# Read the image using OpenCV\n",
    "img = cv2.imread(image_path)\n",
    "\n",
    "# Convert the image from BGR to RGB (matplotlib displays in RGB format)\n",
    "img_rgb = cv2.cvtColor(img, cv2.COLOR_BGR2RGB)\n",
    "\n",
    "# Display the image using matplotlib\n",
    "plt.imshow(img_rgb)\n",
    "plt.title('Image')\n",
    "plt.show()"
   ]
  }
 ],
 "metadata": {
  "kernelspec": {
   "display_name": "Python 3 (ipykernel)",
   "language": "python",
   "name": "python3"
  },
  "language_info": {
   "codemirror_mode": {
    "name": "ipython",
    "version": 3
   },
   "file_extension": ".py",
   "mimetype": "text/x-python",
   "name": "python",
   "nbconvert_exporter": "python",
   "pygments_lexer": "ipython3",
   "version": "3.11.5"
  }
 },
 "nbformat": 4,
 "nbformat_minor": 5
}
