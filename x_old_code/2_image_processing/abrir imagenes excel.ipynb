{
 "cells": [
  {
   "cell_type": "markdown",
   "id": "1f9030b8-8999-415d-bdd8-25d915bcafb3",
   "metadata": {},
   "source": [
    "create image_paths using the actual paths of all images that are selected (women and human identified)"
   ]
  },
  {
   "cell_type": "code",
   "execution_count": 3,
   "id": "c5ad1fba-8976-4a83-a409-1f479e00a4d8",
   "metadata": {},
   "outputs": [],
   "source": [
    "import pandas as pd\n",
    "import openpyxl\n",
    "\n",
    "# Sample image paths\n",
    "image_paths = ['C:/Users/danie/Documents/GitHub/network_science/2_image_processing/sample/2013-10-08_12-40-36_UTC.jpg', \n",
    "               'C:/Users/danie/Documents/GitHub/network_science/2_image_processing/sample/2014-04-12_09-13-03_UTC.jpg']  # Replace with actual paths\n",
    "\n",
    "\n",
    "# create image_paths using the actual paths of all images that are selected (women and human identified)\n",
    "\n",
    "# Create a DataFrame\n",
    "df = pd.DataFrame({'Image_Path': image_paths})\n",
    "\n",
    "# Save to Excel\n",
    "excel_path = 'images.xlsx'\n",
    "df.to_excel(excel_path, index=False)\n",
    "\n",
    "# Add Hyperlinks using openpyxl\n",
    "wb = openpyxl.load_workbook(excel_path)\n",
    "ws = wb.active\n",
    "\n",
    "for row in range(2, len(image_paths) + 2):  # Adjust range for actual number of images\n",
    "    cell = ws.cell(row, 1)\n",
    "    link = cell.value\n",
    "    cell.hyperlink = link\n",
    "    cell.style = 'Hyperlink'\n",
    "\n",
    "wb.save(excel_path)"
   ]
  }
 ],
 "metadata": {
  "kernelspec": {
   "display_name": "Python 3 (ipykernel)",
   "language": "python",
   "name": "python3"
  },
  "language_info": {
   "codemirror_mode": {
    "name": "ipython",
    "version": 3
   },
   "file_extension": ".py",
   "mimetype": "text/x-python",
   "name": "python",
   "nbconvert_exporter": "python",
   "pygments_lexer": "ipython3",
   "version": "3.11.5"
  }
 },
 "nbformat": 4,
 "nbformat_minor": 5
}
