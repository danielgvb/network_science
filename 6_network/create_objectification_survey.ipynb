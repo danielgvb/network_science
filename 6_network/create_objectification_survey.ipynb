{
 "cells": [
  {
   "cell_type": "code",
   "execution_count": 1,
   "metadata": {},
   "outputs": [
    {
     "name": "stderr",
     "output_type": "stream",
     "text": [
      "C:\\Users\\rdm42\\anaconda3\\lib\\site-packages\\pandas\\core\\computation\\expressions.py:20: UserWarning: Pandas requires version '2.7.3' or newer of 'numexpr' (version '2.7.1' currently installed).\n",
      "  from pandas.core.computation.check import NUMEXPR_INSTALLED\n"
     ]
    }
   ],
   "source": [
    "import os\n",
    "import lzma\n",
    "import json\n",
    "# from tqdm.notebook import tqdm\n",
    "from tqdm import tqdm\n",
    "import io\n",
    "\n",
    "import pandas as pd\n",
    "import numpy as np\n",
    "\n",
    "from openpyxl import Workbook\n",
    "from openpyxl import load_workbook\n",
    "from openpyxl.drawing.image import Image\n",
    "from PIL import Image as PILImage\n",
    "\n",
    "def resize_image(original_image, alpha):\n",
    "    width, height = original_image.size\n",
    "    new_width = int(width * alpha)\n",
    "    new_height = int(height * alpha)\n",
    "    resized_image = original_image.resize((new_width, new_height))\n",
    "    return resized_image"
   ]
  },
  {
   "cell_type": "code",
   "execution_count": 2,
   "metadata": {},
   "outputs": [],
   "source": [
    "def get_metadata(post_dir):\n",
    "    metadata_path = os.path.join(post_dir,\n",
    "                                 [file for file in os.listdir(post_dir)\n",
    "                                  if file.endswith('.json.xz')][0])\n",
    "\n",
    "    with lzma.open(metadata_path, 'rt') as file:\n",
    "        data_dict = json.load(file)\n",
    "        \n",
    "    metadata = dict(\n",
    "        user = data_dict['node']['owner']['username'],\n",
    "        short = data_dict['node']['shortcode'],\n",
    "        caption = data_dict['node']['edge_media_to_caption']['edges'][0]['node']['text']\n",
    "    )\n",
    "    \n",
    "    return pd.Series(metadata)"
   ]
  },
  {
   "cell_type": "code",
   "execution_count": 3,
   "metadata": {},
   "outputs": [],
   "source": [
    "import pickle\n",
    "\n",
    "with open('DATA_DELETE.pickle', 'rb') as handle:\n",
    "    data = pickle.load(handle).reset_index()"
   ]
  },
  {
   "cell_type": "code",
   "execution_count": 4,
   "metadata": {},
   "outputs": [],
   "source": [
    "path = os.path.join('..','0_data','bronze','2_data_women.xlsx')\n",
    "\n",
    "with pd.ExcelFile(path) as xl:\n",
    "    cat_women_imgs = xl.parse(index_col=0) \\\n",
    "                       .rename(columns={'Long':'img_path'}) \\\n",
    "                       .drop(columns=['Has_women']) \\\n",
    "                       .reset_index(drop=True)\n",
    "    \n",
    "cat_women_imgs['post_dir'] = cat_women_imgs.img_path.apply(os.path.dirname)\n",
    "cat_women_imgs['img_name'] = cat_women_imgs.img_path.apply(os.path.basename)\n",
    "\n",
    "cat_women_imgs[['user','short','caption']] = cat_women_imgs.post_dir.apply(get_metadata)\n",
    "cat_women_imgs['post_link'] = \"www.instagram.com/p/\" + cat_women_imgs.short\n",
    "\n",
    "cat_women_imgs = cat_women_imgs.sort_values(['user','short','img_path']) \\\n",
    "                               [['img_path','img_name','short','post_link','user','caption','Auto_caption']]\n",
    "\n",
    "# cat_women_imgs = cat_women_imgs[['img_path','post_dir','img_name','short','user','Auto_caption']]\n",
    "\n",
    "# cat_women_imgs['img'] = ' '\n",
    "# cat_women_imgs['objectifies?'] = np.nan"
   ]
  },
  {
   "cell_type": "code",
   "execution_count": 9,
   "metadata": {},
   "outputs": [],
   "source": [
    "output = cat_women_imgs.merge(data, on='img_name',how='right',validate='1:1') \\\n",
    "                       .sort_values(['user','short','img_name']) \\\n",
    "                       .drop(columns=['img_name','short'])"
   ]
  },
  {
   "cell_type": "code",
   "execution_count": 6,
   "metadata": {},
   "outputs": [],
   "source": [
    "# output.to_excel(\"image_data__just_text.xlsx\",index=False)\n"
   ]
  },
  {
   "cell_type": "code",
   "execution_count": 7,
   "metadata": {},
   "outputs": [],
   "source": [
    "# cat_women_imgs = cat_women_imgs.sample(frac=1, random_state=42).reset_index(drop=True)#.head(100)\n",
    "\n",
    "# cat_women_imgs.user.value_counts(normalize=True)"
   ]
  },
  {
   "cell_type": "code",
   "execution_count": 10,
   "metadata": {},
   "outputs": [],
   "source": [
    "# output"
   ]
  },
  {
   "cell_type": "code",
   "execution_count": 25,
   "metadata": {},
   "outputs": [
    {
     "name": "stderr",
     "output_type": "stream",
     "text": [
      "<ipython-input-25-8616485e50ae>:8: UserWarning: Pandas requires version '1.4.3' or newer of 'xlsxwriter' (version '1.2.9' currently installed).\n",
      "  df.to_excel(fname,index=False)\n"
     ]
    }
   ],
   "source": [
    "n_split = 1\n",
    "l = np.array_split(output,n_split)\n",
    "xl_file_paths = []\n",
    "\n",
    "for i,df in enumerate(l, start=1):\n",
    "    fname = os.path.join(\"img_data\",f'IMAGES_PENDING__img_data__{i}_{n_split}.xlsx')\n",
    "    xl_file_paths.append(fname)\n",
    "    df.to_excel(fname,index=False)"
   ]
  },
  {
   "cell_type": "code",
   "execution_count": 26,
   "metadata": {},
   "outputs": [
    {
     "name": "stderr",
     "output_type": "stream",
     "text": [
      "1583it [01:23, 18.93it/s]\n"
     ]
    }
   ],
   "source": [
    "cell_height = 200\n",
    "cell_width = 35\n",
    "alpha = 0.15  # Replace with your desired value\n",
    "\n",
    "for k,(df,file_path) in enumerate(zip(l,xl_file_paths),start=1):\n",
    "    workbook = load_workbook(file_path)\n",
    "    sheet = workbook.active\n",
    "\n",
    "    for col_letter in 'ABCDEFHIJKL':\n",
    "        sheet.column_dimensions[col_letter].width = 20\n",
    "\n",
    "    sheet.column_dimensions['M'].width = cell_width\n",
    "#     sheet.column_dimensions['H'].width = 15\n",
    "\n",
    "    for i, img_path in tqdm(enumerate(df.img_path, start=2)):\n",
    "        sheet.row_dimensions[i].height = cell_height*0.75\n",
    "\n",
    "        with PILImage.open(img_path) as pil_img:\n",
    "            img_width, img_height = pil_img.size\n",
    "            aspect_ratio = img_width / img_height\n",
    "            \n",
    "            resized_image = resize_image(pil_img, alpha)\n",
    "            image_stream = io.BytesIO()\n",
    "            resized_image.save(image_stream, format='JPEG')\n",
    "            image_stream.seek(0)\n",
    "\n",
    "\n",
    "        img = Image(image_stream)\n",
    "        img.height = cell_height\n",
    "        img.width = aspect_ratio * cell_height\n",
    "\n",
    "        cell_reference = f'M{i}'\n",
    "        sheet.add_image(img, cell_reference)\n",
    "\n",
    "    fname = os.path.join(os.path.dirname(file_path),os.path.basename(file_path)[16:])\n",
    "    workbook.save(fname)"
   ]
  }
 ],
 "metadata": {
  "kernelspec": {
   "display_name": "Python 3",
   "language": "python",
   "name": "python3"
  },
  "language_info": {
   "codemirror_mode": {
    "name": "ipython",
    "version": 3
   },
   "file_extension": ".py",
   "mimetype": "text/x-python",
   "name": "python",
   "nbconvert_exporter": "python",
   "pygments_lexer": "ipython3",
   "version": "3.8.3"
  }
 },
 "nbformat": 4,
 "nbformat_minor": 4
}
