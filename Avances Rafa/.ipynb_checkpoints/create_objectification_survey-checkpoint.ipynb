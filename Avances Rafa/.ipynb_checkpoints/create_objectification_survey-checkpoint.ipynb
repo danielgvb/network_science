{
 "cells": [
  {
   "cell_type": "code",
   "execution_count": 1,
   "metadata": {},
   "outputs": [
    {
     "name": "stderr",
     "output_type": "stream",
     "text": [
      "C:\\Users\\rdm42\\anaconda3\\lib\\site-packages\\pandas\\core\\computation\\expressions.py:20: UserWarning: Pandas requires version '2.7.3' or newer of 'numexpr' (version '2.7.1' currently installed).\n",
      "  from pandas.core.computation.check import NUMEXPR_INSTALLED\n"
     ]
    }
   ],
   "source": [
    "import os\n",
    "import lzma\n",
    "import json\n",
    "# from tqdm.notebook import tqdm\n",
    "from tqdm import tqdm\n",
    "import io\n",
    "\n",
    "import pandas as pd\n",
    "import numpy as np\n",
    "\n",
    "from openpyxl import Workbook\n",
    "from openpyxl import load_workbook\n",
    "from openpyxl.drawing.image import Image\n",
    "from PIL import Image as PILImage\n",
    "\n",
    "def resize_image(original_image, alpha):\n",
    "    width, height = original_image.size\n",
    "    new_width = int(width * alpha)\n",
    "    new_height = int(height * alpha)\n",
    "    resized_image = original_image.resize((new_width, new_height))\n",
    "    return resized_image"
   ]
  },
  {
   "cell_type": "code",
   "execution_count": 2,
   "metadata": {},
   "outputs": [],
   "source": [
    "def get_metadata(post_dir):\n",
    "    metadata_path = os.path.join(post_dir,\n",
    "                                 [file for file in os.listdir(post_dir)\n",
    "                                  if file.endswith('.json.xz')][0])\n",
    "\n",
    "    with lzma.open(metadata_path, 'rt') as file:\n",
    "        data_dict = json.load(file)\n",
    "        \n",
    "    metadata = dict(\n",
    "        user = data_dict['node']['owner']['username'],\n",
    "        short = data_dict['node']['shortcode']\n",
    "    )\n",
    "    \n",
    "    return pd.Series(metadata)"
   ]
  },
  {
   "cell_type": "code",
   "execution_count": 3,
   "metadata": {},
   "outputs": [],
   "source": [
    "path = os.path.join('..','0_data','2_data_women.xlsx')\n",
    "\n",
    "with pd.ExcelFile(path) as xl:\n",
    "    cat_women_imgs = xl.parse(index_col=0) \\\n",
    "                       .rename(columns={'Long':'img_path'}) \\\n",
    "                       .drop(columns=['Has_women'])\n",
    "    \n",
    "cat_women_imgs['post_dir'] = cat_women_imgs.img_path.apply(os.path.dirname)\n",
    "cat_women_imgs['img_name'] = cat_women_imgs.img_path.apply(os.path.basename)\n",
    "\n",
    "cat_women_imgs[['user','short']] = cat_women_imgs.post_dir.apply(get_metadata)\n",
    "\n",
    "cat_women_imgs = cat_women_imgs[['img_path','post_dir','img_name','short','user','Auto_caption']]\n",
    "\n",
    "cat_women_imgs['img'] = ' '\n",
    "cat_women_imgs['objectifies?'] = np.nan"
   ]
  },
  {
   "cell_type": "code",
   "execution_count": 4,
   "metadata": {},
   "outputs": [
    {
     "data": {
      "text/plain": [
       "user\n",
       "jacquemus         0.446334\n",
       "hm                0.321408\n",
       "sheinofficial     0.130205\n",
       "chanelofficial    0.102053\n",
       "Name: proportion, dtype: float64"
      ]
     },
     "execution_count": 4,
     "metadata": {},
     "output_type": "execute_result"
    }
   ],
   "source": [
    "cat_women_imgs = cat_women_imgs.sample(frac=1, random_state=42).reset_index(drop=True)#.head(100)\n",
    "\n",
    "cat_women_imgs.user.value_counts(normalize=True)"
   ]
  },
  {
   "cell_type": "code",
   "execution_count": 5,
   "metadata": {},
   "outputs": [
    {
     "name": "stderr",
     "output_type": "stream",
     "text": [
      "<ipython-input-5-dbe30934881b>:8: UserWarning: Pandas requires version '1.4.3' or newer of 'xlsxwriter' (version '1.2.9' currently installed).\n",
      "  df.to_excel(fname,index=False)\n"
     ]
    }
   ],
   "source": [
    "n_split = 1\n",
    "l = np.array_split(cat_women_imgs,n_split)\n",
    "xl_file_paths = []\n",
    "\n",
    "for i,df in enumerate(l, start=1):\n",
    "    fname = os.path.join(\"survey\",f'IMAGES_PENDING__objectification_survey__{i}_{n_split}.xlsx')\n",
    "    xl_file_paths.append(fname)\n",
    "    df.to_excel(fname,index=False)"
   ]
  },
  {
   "cell_type": "code",
   "execution_count": 6,
   "metadata": {},
   "outputs": [
    {
     "name": "stderr",
     "output_type": "stream",
     "text": [
      "1705it [02:07, 13.37it/s]\n"
     ]
    }
   ],
   "source": [
    "cell_height = 200\n",
    "cell_width = 35\n",
    "alpha = 0.25  # Replace with your desired value\n",
    "\n",
    "for k,(df,file_path) in enumerate(zip(l,xl_file_paths),start=1):\n",
    "    workbook = load_workbook(file_path)\n",
    "    sheet = workbook.active\n",
    "\n",
    "    for col_letter in 'ABCDEF':\n",
    "        sheet.column_dimensions[col_letter].width = 5\n",
    "\n",
    "    sheet.column_dimensions['G'].width = cell_width\n",
    "    sheet.column_dimensions['H'].width = 15\n",
    "\n",
    "    for i, img_path in tqdm(enumerate(df.img_path, start=2)):\n",
    "        sheet.row_dimensions[i].height = cell_height*0.75\n",
    "\n",
    "        with PILImage.open(img_path) as pil_img:\n",
    "            img_width, img_height = pil_img.size\n",
    "            aspect_ratio = img_width / img_height\n",
    "            \n",
    "            resized_image = resize_image(pil_img, alpha)\n",
    "            image_stream = io.BytesIO()\n",
    "            resized_image.save(image_stream, format='JPEG')\n",
    "            image_stream.seek(0)\n",
    "\n",
    "\n",
    "        img = Image(image_stream)\n",
    "        img.height = cell_height\n",
    "        img.width = aspect_ratio * cell_height\n",
    "\n",
    "        cell_reference = f'G{i}'\n",
    "        sheet.add_image(img, cell_reference)\n",
    "\n",
    "    fname = os.path.join('survey',file_path[23:])\n",
    "    workbook.save(fname)"
   ]
  }
 ],
 "metadata": {
  "kernelspec": {
   "display_name": "Python 3",
   "language": "python",
   "name": "python3"
  },
  "language_info": {
   "codemirror_mode": {
    "name": "ipython",
    "version": 3
   },
   "file_extension": ".py",
   "mimetype": "text/x-python",
   "name": "python",
   "nbconvert_exporter": "python",
   "pygments_lexer": "ipython3",
   "version": "3.8.3"
  }
 },
 "nbformat": 4,
 "nbformat_minor": 4
}
