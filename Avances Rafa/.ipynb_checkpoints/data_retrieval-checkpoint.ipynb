{
 "cells": [
  {
   "cell_type": "code",
   "execution_count": 1,
   "metadata": {},
   "outputs": [
    {
     "name": "stderr",
     "output_type": "stream",
     "text": [
      "C:\\Users\\rdm42\\anaconda3\\lib\\site-packages\\win_unicode_console\\__init__.py:31: RuntimeWarning: sys.stdin.encoding == 'cp1252', whereas sys.stdout.encoding == 'UTF-8', readline hook consumer may assume they are the same\n",
      "  readline_hook.enable(use_pyreadline=use_pyreadline)\n",
      "C:\\Users\\rdm42\\anaconda3\\lib\\site-packages\\pandas\\core\\computation\\expressions.py:20: UserWarning: Pandas requires version '2.7.3' or newer of 'numexpr' (version '2.7.1' currently installed).\n",
      "  from pandas.core.computation.check import NUMEXPR_INSTALLED\n",
      "<ipython-input-1-d98dcfa80be2>:29: DeprecationWarning: This package has been superseded by the `leidenalg` package and will no longer be maintained. Please upgrade to the `leidenalg` package.\n",
      "  import louvain\n"
     ]
    }
   ],
   "source": [
    "import instaloader\n",
    "\n",
    "import os\n",
    "import re\n",
    "import json\n",
    "import shutil\n",
    "import lzma\n",
    "\n",
    "import time\n",
    "import numpy as np\n",
    "import pandas as pd\n",
    "\n",
    "import matplotlib.pyplot as plt\n",
    "\n",
    "import string\n",
    "from bs4 import BeautifulSoup\n",
    "import spacy\n",
    "from spacy.lang.en.stop_words import STOP_WORDS\n",
    "\n",
    "import emoji\n",
    "from emoji import UNICODE_EMOJI\n",
    "import contractions\n",
    "from autocorrect import Speller\n",
    "from unidecode import unidecode\n",
    "\n",
    "import scipy.sparse as sps\n",
    "from scipy.sparse import csr_matrix\n",
    "\n",
    "import louvain\n",
    "import igraph as ig\n",
    "\n",
    "download_dir = os.path.join(\"data\",'raw')\n",
    "os.makedirs(download_dir, exist_ok=True)\n",
    "\n",
    "failed_posts = []\n",
    "\n",
    "loader = instaloader.Instaloader()\n",
    "# loader.load_session_from_file('rafadimare')"
   ]
  },
  {
   "cell_type": "markdown",
   "metadata": {},
   "source": [
    "# Recuperación de datos"
   ]
  },
  {
   "cell_type": "markdown",
   "metadata": {},
   "source": [
    "## Descarga de posts"
   ]
  },
  {
   "cell_type": "code",
   "execution_count": null,
   "metadata": {},
   "outputs": [],
   "source": [
    "xl_path = os.path.join('data','resources','database.xlsx')\n",
    "\n",
    "already_downloaded = os.listdir(download_dir)\n",
    "\n",
    "with pd.ExcelFile(xl_path) as xl:\n",
    "    df = xl.parse() \\\n",
    "           .drop(columns=['id']) \\\n",
    "           .dropna(subset=['link']) \\\n",
    "           .eval(\"post_code = link.str.split('/').str[-2]\") \\\n",
    "           .drop_duplicates(subset=['post_code']) \\\n",
    "           .rename(columns={'Objectify (yes or no)':'objectifies'})\n",
    "    \n",
    "pending = df.query(\"~post_code.isin(@already_downloaded)\")\n",
    "pending\n",
    "\n",
    "# Check not to drop the row which contains objectify\n",
    "# Check for missing values on objectify column\n",
    "\n",
    "df.query(\"post_code.isin(@already_downloaded)\").post_code.to_clipboard(index=False, header=False)"
   ]
  },
  {
   "cell_type": "code",
   "execution_count": null,
   "metadata": {},
   "outputs": [],
   "source": [
    "# for i,post_code in enumerate(pending.post_code.tolist()):\n",
    "    \n",
    "#     print(f\"{i+1} / {len(pending.post_code.tolist())}\")\n",
    "#     try:    \n",
    "#         print(f\"\\tSTART: {pd.Timestamp.now():%H : %M : %S}\")\n",
    "#         print('\\t\\t'+post_code)\n",
    "        \n",
    "#         post = instaloader.Post.from_shortcode(loader.context, post_code)\n",
    "#         loader.download_post(post, target=post_code)\n",
    "\n",
    "#         print(f\"\\t\\tEND: {pd.Timestamp.now():%H : %M : %S}\")\n",
    "#         print(f\"\\n\\nPost {post_code} downloaded successfully\" + \"\\n\" + \"-\"*100 + '\\n'*2)\n",
    "#         shutil.move(post_code, download_dir)\n",
    "        \n",
    "#     except instaloader.exceptions.InstaloaderException as e:\n",
    "#         print(f\"Error: {e}\")\n",
    "#         failed_posts.append((post_code,e))\n",
    "        \n",
    "#     time.sleep(5)"
   ]
  },
  {
   "cell_type": "code",
   "execution_count": null,
   "metadata": {},
   "outputs": [],
   "source": [
    "# # Simple code to retrieve comments\n",
    "\n",
    "# post_code = \"CW6AeAVq3tJ\"\n",
    "# post = instaloader.Post.from_shortcode(loader.context, post_code)\n",
    "# for comment in post.get_comments():\n",
    "#     print(comment)"
   ]
  },
  {
   "cell_type": "markdown",
   "metadata": {},
   "source": [
    "## Lectura de captions"
   ]
  },
  {
   "cell_type": "code",
   "execution_count": null,
   "metadata": {},
   "outputs": [],
   "source": [
    "captions = []\n",
    "\n",
    "for post_code in os.listdir(download_dir):\n",
    "    \n",
    "    post_data_path = os.path.join(download_dir,post_code)\n",
    "\n",
    "    txt_file = [file for file in os.listdir(post_data_path) if file.endswith('.txt')][0]\n",
    "    caption_path = os.path.join(post_data_path,txt_file)\n",
    "\n",
    "    with open(caption_path,'r',encoding='utf-8') as f:\n",
    "        caption = f.read().strip()\n",
    "        \n",
    "    captions.append((post_code, caption))\n",
    "    \n",
    "captions = pd.DataFrame(captions, columns=['post_code','caption'])\n",
    "\n",
    "# captions.head(5)\n",
    "# df.merge(captions,on='post_code',how='inner')"
   ]
  },
  {
   "cell_type": "markdown",
   "metadata": {},
   "source": [
    "## Lectura de autocaptions"
   ]
  },
  {
   "cell_type": "code",
   "execution_count": null,
   "metadata": {},
   "outputs": [],
   "source": [
    "autocaptions_path = os.path.join('..','data','auto_gen_captions_rafa.xlsx')\n",
    "cat_codes_path = os.path.join('..','data','dataframe_codigos.xlsx')\n",
    "\n",
    "with pd.ExcelFile(autocaptions_path) as xl:\n",
    "    autocaptions = xl.parse()\n",
    "    \n",
    "autocaptions['Long'] = autocaptions['Long'].apply(os.path.splitext).str[0]\n",
    "autocaptions['Long'] = autocaptions.Long.str.extract(\"(.*UTC)\")[0]\n",
    "    \n",
    "with pd.ExcelFile(cat_codes_path) as xl:\n",
    "    cat_codes = xl.parse(index_col=0)\n",
    "    \n",
    "\n",
    "# Obs!! En el catalogo de codigos, el Long sale más de una vez.\n",
    "# Momentáneamente se descartarán los repetidos\n",
    "display(cat_codes.Long.value_counts().value_counts())\n",
    "\n",
    "cat_codes.drop_duplicates('Long',keep=False,inplace=True)\n",
    "\n",
    "df = autocaptions.merge(cat_codes, on=['Long'], how='outer', validate='m:1', indicator=True)"
   ]
  },
  {
   "cell_type": "code",
   "execution_count": null,
   "metadata": {},
   "outputs": [],
   "source": [
    "#### Obs!!\n",
    "\n",
    "## Las imágenes y posts no son comparables, _no hay una relación\n",
    "## uno a uno_. Hay que recordar que cada post puede tener más de una imagen\n",
    "\n",
    "## Qué hacer? Se podría, por ejemplo, concatenar todas las descripciones de\n",
    "## imágenes asociadas a un mismo post"
   ]
  },
  {
   "cell_type": "code",
   "execution_count": null,
   "metadata": {},
   "outputs": [],
   "source": [
    "path = os.path.join('..','data','downloaded_posts')\n",
    "\n",
    "metadata_files = [file[:-8] for file in os.listdir(path) if file.endswith('.json.xz')]\n",
    "\n",
    "autocaptions.Long.apply(lambda code: metadata_files.count(code)).value_counts()\n",
    "\n",
    "# autocaptions"
   ]
  },
  {
   "cell_type": "code",
   "execution_count": null,
   "metadata": {},
   "outputs": [],
   "source": [
    "# pd.options.display.max_colwidth = None\n",
    "# autocaptions.sort_values('Long').head(10)"
   ]
  },
  {
   "cell_type": "markdown",
   "metadata": {},
   "source": [
    "## Lectura de autocaptions - V2"
   ]
  },
  {
   "cell_type": "code",
   "execution_count": null,
   "metadata": {},
   "outputs": [],
   "source": [
    "autocaptions_path = os.path.join('..','data','auto_gen_captions_rafa.xlsx')\n",
    "\n",
    "with pd.ExcelFile(autocaptions_path) as xl:\n",
    "    autocaptions = xl.parse()\n",
    "    \n",
    "autocaptions['timestamp'] = autocaptions['Long'].apply(os.path.splitext).str[0] \\\n",
    "                                                .str.extract(\"(.*UTC)\")[0]\n",
    "\n",
    "path = os.path.join('..','data','downloaded_posts')\n",
    "autocaptions['metadata_file'] = autocaptions['timestamp'] + '.json.xz'\n",
    "autocaptions['metadata_file'] = autocaptions['metadata_file'].apply(lambda f: os.path.join(path,f))\n",
    "autocaptions.head(2)"
   ]
  },
  {
   "cell_type": "code",
   "execution_count": null,
   "metadata": {},
   "outputs": [],
   "source": [
    "# Hay un archivo de imagen al cual no se le encontró\n",
    "# el correspondiente archivo de metadata\n",
    "\n",
    "exists = autocaptions.metadata_file.apply(os.path.exists)\n",
    "autocaptions[~exists]"
   ]
  },
  {
   "cell_type": "code",
   "execution_count": null,
   "metadata": {},
   "outputs": [],
   "source": [
    "def retrieve_metadata(metadata_file):\n",
    "    \n",
    "    if os.path.exists(metadata_file):\n",
    "        with lzma.open(metadata_file, 'rt') as file:\n",
    "            data_dict = json.load(file)\n",
    "            \n",
    "        metadata = dict(\n",
    "            metadata_file = metadata_file,\n",
    "            post_code = data_dict['node']['shortcode'],\n",
    "            user = data_dict['node']['owner']['username'],\n",
    "            likes = data_dict['node']['edge_media_preview_like']['count'],\n",
    "        )\n",
    "\n",
    "        return pd.Series(metadata)\n",
    "    \n",
    "    else:\n",
    "        print(f\"File does not exist:\\n\\t{metadata_file}\\n\\n\")\n",
    "        cols = ['metadata_file','post_code','user','likes']\n",
    "        return pd.Series([np.nan]*len(cols),index=cols)"
   ]
  },
  {
   "cell_type": "code",
   "execution_count": null,
   "metadata": {},
   "outputs": [],
   "source": [
    "metadata_cat = autocaptions['metadata_file'].drop_duplicates().apply(retrieve_metadata)"
   ]
  },
  {
   "cell_type": "code",
   "execution_count": null,
   "metadata": {},
   "outputs": [],
   "source": [
    "autocaptions = autocaptions.drop(columns=['post_code','user','likes'], errors='ignore') \\\n",
    "                           .merge(metadata_cat, on='metadata_file', how='left', validate='m:1')\n",
    "\n",
    "autocaptions_cat = autocaptions.groupby('post_code')['Auto_caption'] \\\n",
    "                               .apply(lambda s: '\\n'.join(s.tolist())) \\\n",
    "                               .to_frame().reset_index()\n",
    "\n",
    "captions = captions.drop(columns='Auto_caption',errors='ignore') \\\n",
    "                   .merge(autocaptions_cat,how='left',validate='1:1')"
   ]
  },
  {
   "cell_type": "code",
   "execution_count": null,
   "metadata": {},
   "outputs": [],
   "source": [
    "captions['text'] = captions['caption'] + '\\n\\n' + captions['Auto_caption']\n",
    "captions.head(2)"
   ]
  },
  {
   "cell_type": "markdown",
   "metadata": {},
   "source": [
    "## Lectura de metadata"
   ]
  },
  {
   "cell_type": "code",
   "execution_count": 5,
   "metadata": {},
   "outputs": [],
   "source": [
    "additional_data = []\n",
    "\n",
    "for i,post_code in enumerate(os.listdir(download_dir)):\n",
    "\n",
    "    post_path = os.path.join(download_dir,post_code)\n",
    "\n",
    "    metadata_path = os.path.join(post_path,\n",
    "                                 [file for file in os.listdir(post_path) if file.endswith('.json.xz')][0])\n",
    "    \n",
    "    with lzma.open(metadata_path, 'rt') as file:\n",
    "        data_dict = json.load(file)\n",
    "        \n",
    "    user = data_dict['node']['owner']['username']\n",
    "    likes = data_dict['node']['edge_media_preview_like']['count']\n",
    "\n",
    "    additional_data.append((post_code,user,likes))\n",
    "\n",
    "additional_data = pd.DataFrame(additional_data, columns=['post_code','user','likes'])\n",
    "\n",
    "# additional_data.merge(df).groupby('user').agg({'objectifies':'mean'}).sort_values('objectifies')"
   ]
  },
  {
   "cell_type": "markdown",
   "metadata": {},
   "source": [
    "## Checkpoint"
   ]
  },
  {
   "cell_type": "code",
   "execution_count": null,
   "metadata": {},
   "outputs": [],
   "source": [
    "output_file = f\"posts_data_{pd.Timestamp.now():%Y%m%d_%H%M}.csv\"\n",
    "output_path = os.path.join('data','standardized',output_file)\n",
    "\n",
    "df.merge(captions).merge(additional_data).to_csv(output_path,index=False,encoding='UTF-16')"
   ]
  },
  {
   "cell_type": "markdown",
   "metadata": {},
   "source": [
    "# Preparación de datos"
   ]
  },
  {
   "cell_type": "markdown",
   "metadata": {},
   "source": [
    "## Limpieza superficial"
   ]
  },
  {
   "cell_type": "code",
   "execution_count": null,
   "metadata": {},
   "outputs": [],
   "source": [
    "data_path = os.path.join('data', 'standardized')\n",
    "data_file = os.path.join(data_path,max(os.listdir(data_path)))\n",
    "\n",
    "data = pd.read_csv(data_file,encoding='UTF-16')"
   ]
  },
  {
   "cell_type": "code",
   "execution_count": null,
   "metadata": {},
   "outputs": [],
   "source": [
    "contraction_map_path = os.path.join('data','resources','CONTRACTION_MAP.json')\n",
    "with open(contraction_map_path,'r') as f:\n",
    "    CONTRACTION_MAP = json.load(f)"
   ]
  },
  {
   "cell_type": "code",
   "execution_count": null,
   "metadata": {},
   "outputs": [],
   "source": [
    "def superficial_cleaning(selftext):\n",
    "    \n",
    "    emojis = ' '.join([c for c in selftext if c in UNICODE_EMOJI['en']])\n",
    "\n",
    "    selftext = contractions.fix(selftext)\n",
    "\n",
    "    # Remove any HTML tag\n",
    "    soup = BeautifulSoup(selftext, \"html.parser\")\n",
    "    selftext = soup.get_text(separator=\" \")\n",
    "\n",
    "    # Remove any text inside square brackets\n",
    "    selftext = re.sub(r'\\[.*?\\]', '', selftext)\n",
    "\n",
    "    # Remove any website links\n",
    "    selftext = re.sub(r'http\\S+', '', selftext)\n",
    "    selftext = re.sub(r'www.\\S+', '', selftext)\n",
    "    selftext = selftext.replace('. com', '.com')\n",
    "    selftext = re.sub(r\"\\ [A-Za-z]*\\.com\", \" \", selftext)\n",
    "\n",
    "    # Remove any emojis\n",
    "    emoji_pattern = re.compile(\"[\"\n",
    "                       u\"\\U0001F600-\\U0001F64F\"  # emoticons\n",
    "                       u\"\\U0001F300-\\U0001F5FF\"  # symbols & pictographs\n",
    "                       u\"\\U0001F680-\\U0001F6FF\"  # transport & map symbols\n",
    "                       u\"\\U0001F1E0-\\U0001F1FF\"  # flags (iOS)\n",
    "                       u\"\\U0001F92C\"             # 🥴\n",
    "                       u\"\\u2764\"                 # ❤️\n",
    "                       u\"\\u2764\\ufe0f\"           # ❤️ (with variation selector)\n",
    "                       \"]+\", flags=re.UNICODE)\n",
    "    selftext = emoji_pattern.sub(r'', selftext)\n",
    "\n",
    "    # Remove '&amp;#x200B;\\n\\'\n",
    "    selftext = re.sub(r'&amp;#x200B;\\n\\\\', ' ', selftext)\n",
    "    selftext = re.sub(r'‚Äú', ' ', selftext)\n",
    "    selftext = re.sub(r'‚Äô', \"’\", selftext)\n",
    "\n",
    "    # Remove accented characters from text using unidecode\n",
    "    selftext = unidecode(selftext)\n",
    "\n",
    "    # Convert text to lower case\n",
    "    selftext = selftext.lower()\n",
    "\n",
    "    # Remove double spaces, newlines, tabs, and combinations\n",
    "    selftext = re.sub(r' +', ' ', selftext)\n",
    "    selftext = re.sub(r'\\s{2,}', ' ', selftext)\n",
    "    selftext = re.sub(r'&gt;', ' ', selftext)\n",
    "    selftext = selftext.replace('-', ' ')\n",
    "    selftext = selftext.replace('\\\\n', ' ').replace('\\n', ' ').replace('\\t',' ').replace('\\\\', ' ')\n",
    "\n",
    "#     # Remove any numbers, hashtags and mentions - are dealt with separately\n",
    "    selftext = re.sub(r'\\d+', ' ', selftext)\n",
    "#     selftext = re.sub(r'#\\w+', '', selftext)\n",
    "#     selftext = re.sub(r'@\\w+', '', selftext)\n",
    "\n",
    "    # Reduce repetition to two characters for alphabets and to\n",
    "    # one character for punctuations\n",
    "    Pattern_alpha = re.compile(r\"([A-Za-z])\\1{1,}\", re.DOTALL)\n",
    "    Pattern_Punct = re.compile(r'([.,/#!$%^&*?;:{}=_`~()+-])\\1{1,}')\n",
    "    selftext = Pattern_alpha.sub(r\"\\1\\1\", selftext)\n",
    "    selftext = Pattern_Punct.sub(r'\\1', selftext)\n",
    "    selftext = re.sub(' {2,}',' ', selftext)\n",
    "\n",
    "    # Expand contractions\n",
    "    list_Of_tokens = selftext.split(' ')\n",
    "    for Word in list_Of_tokens:\n",
    "         if Word in CONTRACTION_MAP:\n",
    "                list_Of_tokens = [item.replace(Word, CONTRACTION_MAP[Word]) for item in list_Of_tokens]\n",
    "    selftext = ' '.join(str(e) for e in list_Of_tokens)\n",
    "\n",
    "    # Remove any special character (After hastages & mentions)\n",
    "    selftext = re.sub(r\"[^a-zA-Z0-9:$-,%.?!]+\", ' ', selftext)\n",
    "    selftext = re.sub(r'%', ' ', selftext)\n",
    "\n",
    "    # Removing numbers and punctuations\n",
    "    selftext = re.sub(r\"[^a-zA-Z:$-,%.?!]+\", ' ', selftext)\n",
    "    selftext = re.sub(r'[^\\w\\s]',' ',selftext)\n",
    "\n",
    "    # Remove extra whitespaces from the text\n",
    "    pattern = re.compile(r'\\s+')\n",
    "    Without_whitespace = re.sub(pattern, ' ', selftext)\n",
    "    selftext = Without_whitespace.replace('?', ' ? ').replace(')', ') ')\n",
    "\n",
    "    # Check for spellings in English language - very slow\n",
    "    #spell = Speller(lang='en')\n",
    "    #selftext = spell(selftext)\n",
    "    #selftext = re.sub(r'[^\\w\\s]', '', selftext)\n",
    "    \n",
    "    selftext += ' ' + emojis\n",
    "\n",
    "    return selftext"
   ]
  },
  {
   "cell_type": "code",
   "execution_count": null,
   "metadata": {},
   "outputs": [],
   "source": [
    "# pd.set_option('display.max_rows', None)\n",
    "# pd.options.display.max_colwidth = None\n",
    "\n",
    "text_col = 'text'\n",
    "\n",
    "data['text_sup_clean'] = data[text_col].apply(superficial_cleaning)\n",
    "\n",
    "\n",
    "# collection of words\n",
    "words = np.unique([item for sublist in data['text_sup_clean'].str.split() for item in sublist])\n",
    "documents = data[text_col].values\n",
    "\n",
    "# words dictionary\n",
    "words_dict = {v:k for k,v in enumerate(words)}"
   ]
  },
  {
   "cell_type": "code",
   "execution_count": null,
   "metadata": {},
   "outputs": [],
   "source": [
    "data.head(2)"
   ]
  },
  {
   "cell_type": "markdown",
   "metadata": {},
   "source": [
    "## Lectura de captions procesados por Daniel - 08/01/2024"
   ]
  },
  {
   "cell_type": "code",
   "execution_count": 2,
   "metadata": {},
   "outputs": [
    {
     "name": "stdout",
     "output_type": "stream",
     "text": [
      "Renglones antes de quitar duplicados:   280\n",
      "Renglones después de quitar duplicados: 262\n",
      "Porcentaje de pérdida : 6.43%\n"
     ]
    }
   ],
   "source": [
    "captions_path = os.path.join('..','data','captions_autocaptions_clean.xlsx')\n",
    "with pd.ExcelFile(captions_path) as xl:\n",
    "    data = xl.parse(index_col=0)\n",
    "    \n",
    "print(f\"Renglones antes de quitar duplicados:   {(r1 := data.shape[0])}\")\n",
    "print(f\"Renglones después de quitar duplicados: {(r2 := data.drop_duplicates().shape[0])}\")\n",
    "print(f\"Porcentaje de pérdida : {1 - r2/r1:.2%}\")"
   ]
  },
  {
   "cell_type": "code",
   "execution_count": 3,
   "metadata": {},
   "outputs": [
    {
     "name": "stdout",
     "output_type": "stream",
     "text": [
      "Renglones antes de quitar duplicados:   882\n",
      "Renglones después de quitar duplicados: 262\n",
      "Porcentaje de pérdida : 70.29%\n"
     ]
    }
   ],
   "source": [
    "captions_path = os.path.join('..','0_data','text_clean.xlsx')\n",
    "with pd.ExcelFile(captions_path) as xl:\n",
    "    data = xl.parse(index_col=0)\n",
    "    \n",
    "print(f\"Renglones antes de quitar duplicados:   {(r1 := data.shape[0])}\")\n",
    "print(f\"Renglones después de quitar duplicados: {(r2 := data.drop_duplicates().shape[0])}\")\n",
    "print(f\"Porcentaje de pérdida : {1 - r2/r1:.2%}\")"
   ]
  },
  {
   "cell_type": "code",
   "execution_count": 6,
   "metadata": {},
   "outputs": [],
   "source": [
    "captions_path = os.path.join('..','0_data','text_clean.xlsx')\n",
    "s = ' '\n",
    "\n",
    "text_col = 'clean_caption'\n",
    "\n",
    "with pd.ExcelFile(captions_path) as xl:\n",
    "    data = xl.parse(index_col=0) \\\n",
    "             .merge(additional_data, left_on='Short', right_on='post_code', how='left', validate='m:1') \\\n",
    "             .drop(columns=['post_code']) \\\n",
    "             .drop_duplicates() \\\n",
    "             .reset_index(drop=True)\n",
    "    \n",
    "for col in ['clean_caption','clean_autocaption','clean_all']:\n",
    "    data[col] = data['user'] + ' ' + data[col]\n",
    "\n",
    "# collection of words\n",
    "words = np.unique([token\n",
    "                   for tokens in data.dropna(subset=[text_col])[text_col].str.split()\n",
    "                   for token in tokens])\n",
    "\n",
    "documents = data[text_col].values\n",
    "\n",
    "# words dictionary\n",
    "words_dict = {wrd:i for i,wrd in enumerate(words)}"
   ]
  },
  {
   "cell_type": "markdown",
   "metadata": {},
   "source": [
    "## Exploración inicial"
   ]
  },
  {
   "cell_type": "code",
   "execution_count": 7,
   "metadata": {},
   "outputs": [],
   "source": [
    "def plot_degree_summary(Mwd):\n",
    "\n",
    "    # Summary analysis of the network:\n",
    "    dw = Mwd.sum(axis=1)\n",
    "    gamma = 1 + dw.size/np.log(dw / dw.min()).sum()\n",
    "    print(f\"Network's gamma is {gamma:.2f}\")\n",
    "    print(f\"Number of words: {Mwd.shape[0]}\")\n",
    "    print(f\"Number of documents: {Mwd.shape[1]}\")\n",
    "\n",
    "\n",
    "    fig, axs = plt.subplots(1, 2, figsize=(12, 5))\n",
    "    plt.suptitle(\"Word degree summary\", size=20)\n",
    "\n",
    "    # Words' degrees\n",
    "\n",
    "    n = 6\n",
    "    s = Mwd.sum(axis=1).sort_values(ascending=False)\n",
    "    custom_ticks = [(s.size//n)*l for l in range(n+1)]\n",
    "    custom_labels = s.index[custom_ticks]\n",
    "\n",
    "    axs[0].set_title(\"Degrees\", size=16)\n",
    "    axs[0].set_ylabel(\"Word count across documents\", size=12)\n",
    "    axs[0].semilogy(s)\n",
    "    axs[0].set_xticks(custom_ticks)\n",
    "    axs[0].set_xticklabels(custom_labels, rotation=30)\n",
    "\n",
    "\n",
    "    # Words degree distribution\n",
    "\n",
    "    dw = Mwd.sum(axis=1) # words degrees\n",
    "    k = np.unique(dw)\n",
    "    pk = np.histogram(dw,np.append(k,k[-1]+1))[0]\n",
    "    pk = pk/pk.sum()\n",
    "    # Pk = 1-np.cumsum(pk)\n",
    "    p_ideal = ((gamma-1)/k.min()) * ((k/k.min())**(-gamma))\n",
    "\n",
    "    label = r'$\\gamma$' + f\" = {gamma:.2f}\\n\" + r'$k_{min}$' + f\" = {k.min()}\"\n",
    "    axs[1].loglog(k, pk, 'o')\n",
    "    axs[1].loglog(k, p_ideal,label=label)\n",
    "    axs[1].set_title(\"Distribution\", size=16)\n",
    "    axs[1].set_xlabel(\"k\", size=12)\n",
    "    axs[1].set_ylabel(\"$p_k$\", size=12)\n",
    "    axs[1].legend(loc='upper right')\n",
    "\n",
    "    plt.tight_layout()  # Adjust layout to prevent overlap\n",
    "#     plt.show()\n",
    "    \n",
    "    return gamma, fig, axs"
   ]
  },
  {
   "cell_type": "code",
   "execution_count": 8,
   "metadata": {},
   "outputs": [
    {
     "name": "stdout",
     "output_type": "stream",
     "text": [
      "Network's gamma is 2.81\n",
      "Number of words: 302\n",
      "Number of documents: 247\n"
     ]
    },
    {
     "data": {
      "image/png": "[encoded data removed]",
      "text/plain": [
       "<Figure size 864x360 with 2 Axes>"
      ]
     },
     "metadata": {
      "needs_background": "light"
     },
     "output_type": "display_data"
    }
   ],
   "source": [
    "# occurrence matrix for words\n",
    "Mwd = csr_matrix((len(words_dict), data.shape[0]), dtype = np.int8).toarray()\n",
    "\n",
    "for j,doc in data[text_col].dropna().items():\n",
    "    for token in doc.split():\n",
    "        Mwd[words_dict[token],j] += 1\n",
    "        \n",
    "        \n",
    "# remove words that are used once or twice\n",
    "select = Mwd.sum(axis=1) > 2\n",
    "Mwd = Mwd[select,:]\n",
    "words = words[select]\n",
    "\n",
    "# remove documents that do not contain words\n",
    "select = Mwd.sum(axis=0) > 0\n",
    "Mwd = Mwd[:,select]\n",
    "documents = documents[select]\n",
    "\n",
    "Mwd_df = pd.DataFrame(Mwd,index=words,columns=documents)\n",
    "\n",
    "gamma, fig, axs = plot_degree_summary(Mwd_df)"
   ]
  },
  {
   "cell_type": "markdown",
   "metadata": {},
   "source": [
    "## Construcción de matrices"
   ]
  },
  {
   "cell_type": "code",
   "execution_count": 10,
   "metadata": {},
   "outputs": [
    {
     "name": "stdout",
     "output_type": "stream",
     "text": [
      "removing: collection, \n"
     ]
    }
   ],
   "source": [
    "def clean_Mwd_matrix(Mwd,words,documents):\n",
    "\n",
    "    # remove elements that are too central, e.g., #covid19\n",
    "    not_wanted = Mwd.sum(axis=1) > Mwd.shape[1]/4\n",
    "    text = \"removing: \" + \", \".join(words[not_wanted])\n",
    "    words = words[~not_wanted]\n",
    "    Mwd = Mwd[~not_wanted,:]\n",
    "\n",
    "    # remove documents and words with fewer than 2 links\n",
    "    while True:\n",
    "        dim_old = Mwd.size\n",
    "        \n",
    "        # remove documents with less than 2 words\n",
    "        wanted = Mwd.sum(axis=0) >= 2\n",
    "        Mwd = Mwd[:,wanted]\n",
    "        documents = documents[wanted]\n",
    "\n",
    "        # remove words in less than 2 documents\n",
    "        not_wanted = Mwd.sum(axis=1) < 2\n",
    "        text = text + \", \" + \", \".join(words[not_wanted])\n",
    "        words = words[~not_wanted]\n",
    "        Mwd = Mwd[~not_wanted,:]\n",
    "        \n",
    "        # exit criterion\n",
    "        if (dim_old == Mwd.size): break\n",
    "\n",
    "    print(text)\n",
    "    return Mwd, words, documents\n",
    "\n",
    "def logg(x):\n",
    "    y = np.log(x)\n",
    "    y[x==0] = 0\n",
    "    return y\n",
    "\n",
    "\n",
    "\n",
    "def probability_matrices(Mwd, equalik = True, tform = False):\n",
    "\n",
    "    if equalik: # documents equally likely\n",
    "        Pwd = Mwd/Mwd.sum(axis=0) #/ Mwd.shape[1]    ## Por qué aquí se divide entre el número de columnas???\n",
    "        \n",
    "    else: # documents proportional to their length\n",
    "        Pwd = Mwd / Mwd.sum()                       ## Aquí la suma por columnas no da 1!!! entonces no es matriz estocástica\n",
    "    # TF-IDF format\n",
    "    \n",
    "    if (tform):\n",
    "        iw = -logg(np.sum(Mwd>0,axis=1).flatten()/Mwd.shape[1])\n",
    "        Pwd = sps.diags(np.array(iw)[0])*Pwd # TF-IDF form\n",
    "        Pwd = Pwd/Pwd.sum() # normalize, treat it as Pwd\n",
    "        \n",
    "    \n",
    "    \n",
    "    # Creo que aquí debe ser .dot ..............\n",
    "    \n",
    "    # words and document matrices\n",
    "    pd = Pwd.sum(axis=0)\n",
    "    Pww = (Pwd/pd).dot(Pwd.T)\n",
    "    \n",
    "    pw = Pwd.sum(axis=1)\n",
    "    Pdd = (Pwd.T/pw).dot(Pwd)\n",
    "    \n",
    "    \n",
    "    \n",
    "    # joint words and document matrix - documents first\n",
    "    Paa = sps.hstack((sps.csr_matrix((Pwd.shape[1],Pwd.shape[1])),Pwd.T))\n",
    "    Paa = sps.vstack((Paa,sps.hstack((Pwd,sps.csr_matrix((Pwd.shape[0],Pwd.shape[0]))))))\n",
    "    Paa = Paa/2.0\n",
    "\n",
    "    \n",
    "    \n",
    "    # Los auto-enlaces están permitidos????\n",
    "    \n",
    "    return Pwd, Pww, Pdd, Paa\n",
    "\n",
    "Mwd, words, documents = clean_Mwd_matrix(Mwd,words,documents)\n",
    "Pwd, Pww, Pdd, Paa = probability_matrices(Mwd, tform=False)"
   ]
  },
  {
   "cell_type": "code",
   "execution_count": 11,
   "metadata": {},
   "outputs": [
    {
     "data": {
      "text/html": [
       "<div>\n",
       "<style scoped>\n",
       "    .dataframe tbody tr th:only-of-type {\n",
       "        vertical-align: middle;\n",
       "    }\n",
       "\n",
       "    .dataframe tbody tr th {\n",
       "        vertical-align: top;\n",
       "    }\n",
       "\n",
       "    .dataframe thead th {\n",
       "        text-align: right;\n",
       "    }\n",
       "</style>\n",
       "<table border=\"1\" class=\"dataframe\">\n",
       "  <thead>\n",
       "    <tr style=\"text-align: right;\">\n",
       "      <th></th>\n",
       "      <th>Id</th>\n",
       "      <th>obj_rate</th>\n",
       "    </tr>\n",
       "  </thead>\n",
       "  <tbody>\n",
       "    <tr>\n",
       "      <th>0</th>\n",
       "      <td>accessory</td>\n",
       "      <td>1.00</td>\n",
       "    </tr>\n",
       "    <tr>\n",
       "      <th>1</th>\n",
       "      <td>aesthetic</td>\n",
       "      <td>0.50</td>\n",
       "    </tr>\n",
       "    <tr>\n",
       "      <th>2</th>\n",
       "      <td>all</td>\n",
       "      <td>0.75</td>\n",
       "    </tr>\n",
       "  </tbody>\n",
       "</table>\n",
       "</div>"
      ],
      "text/plain": [
       "          Id  obj_rate\n",
       "0  accessory      1.00\n",
       "1  aesthetic      0.50\n",
       "2        all      0.75"
      ]
     },
     "metadata": {},
     "output_type": "display_data"
    },
    {
     "data": {
      "text/html": [
       "<div>\n",
       "<style scoped>\n",
       "    .dataframe tbody tr th:only-of-type {\n",
       "        vertical-align: middle;\n",
       "    }\n",
       "\n",
       "    .dataframe tbody tr th {\n",
       "        vertical-align: top;\n",
       "    }\n",
       "\n",
       "    .dataframe thead th {\n",
       "        text-align: right;\n",
       "    }\n",
       "</style>\n",
       "<table border=\"1\" class=\"dataframe\">\n",
       "  <thead>\n",
       "    <tr style=\"text-align: right;\">\n",
       "      <th></th>\n",
       "      <th>obj_rate</th>\n",
       "    </tr>\n",
       "  </thead>\n",
       "  <tbody>\n",
       "    <tr>\n",
       "      <th>count</th>\n",
       "      <td>302.000000</td>\n",
       "    </tr>\n",
       "    <tr>\n",
       "      <th>mean</th>\n",
       "      <td>0.569736</td>\n",
       "    </tr>\n",
       "    <tr>\n",
       "      <th>std</th>\n",
       "      <td>0.309891</td>\n",
       "    </tr>\n",
       "    <tr>\n",
       "      <th>min</th>\n",
       "      <td>0.000000</td>\n",
       "    </tr>\n",
       "    <tr>\n",
       "      <th>25%</th>\n",
       "      <td>0.333333</td>\n",
       "    </tr>\n",
       "    <tr>\n",
       "      <th>50%</th>\n",
       "      <td>0.666667</td>\n",
       "    </tr>\n",
       "    <tr>\n",
       "      <th>75%</th>\n",
       "      <td>0.800000</td>\n",
       "    </tr>\n",
       "    <tr>\n",
       "      <th>max</th>\n",
       "      <td>1.000000</td>\n",
       "    </tr>\n",
       "  </tbody>\n",
       "</table>\n",
       "</div>"
      ],
      "text/plain": [
       "         obj_rate\n",
       "count  302.000000\n",
       "mean     0.569736\n",
       "std      0.309891\n",
       "min      0.000000\n",
       "25%      0.333333\n",
       "50%      0.666667\n",
       "75%      0.800000\n",
       "max      1.000000"
      ]
     },
     "metadata": {},
     "output_type": "display_data"
    },
    {
     "data": {
      "text/plain": [
       "[<matplotlib.lines.Line2D at 0x237d75cfa90>]"
      ]
     },
     "execution_count": 11,
     "metadata": {},
     "output_type": "execute_result"
    },
    {
     "data": {
      "image/png": "[encoded data removed]",
      "text/plain": [
       "<Figure size 720x432 with 1 Axes>"
      ]
     },
     "metadata": {
      "needs_background": "light"
     },
     "output_type": "display_data"
    }
   ],
   "source": [
    "obj_docs = data.set_index(text_col) \\\n",
    "               .query(\"Objectify==1\") \\\n",
    "               .index.drop_duplicates() \\\n",
    "               .intersection(Mwd_df.columns)\n",
    "\n",
    "\n",
    "# Objectification rate for each word catalogue\n",
    "# obj_rate = times the word is used in an objectifying post / times the word is used\n",
    "obj_rate_cat = (Mwd_df[obj_docs].sum(axis=1) / Mwd_df.sum(axis=1)) \\\n",
    "               .to_frame().rename(columns={0:'obj_rate'}) \\\n",
    "               .reset_index(names='Id')\n",
    "\n",
    "display(obj_rate_cat.head(3))\n",
    "display(obj_rate_cat.describe())\n",
    "\n",
    "\n",
    "from scipy.stats import gaussian_kde\n",
    "\n",
    "plt.figure(figsize=(10, 6))\n",
    "\n",
    "kde = gaussian_kde(obj_rate_cat['obj_rate'])\n",
    "x_vals = np.linspace(obj_rate_cat['obj_rate'].min(), obj_rate_cat['obj_rate'].max(), 1000)\n",
    "y_vals = kde(x_vals)\n",
    "\n",
    "# Plot KDE\n",
    "plt.plot(x_vals, y_vals, color='blue', label='KDE')\n",
    "plt.plot(obj_rate_cat['obj_rate'].values, [0.5] * len(obj_rate_cat), '|', color='black', markersize=30)\n",
    "\n",
    "\n",
    "### La distribución luce bimodal!!"
   ]
  },
  {
   "cell_type": "code",
   "execution_count": 13,
   "metadata": {},
   "outputs": [
    {
     "name": "stdout",
     "output_type": "stream",
     "text": [
      "Network's gamma is 2.06\n",
      "Number of words: 301\n",
      "Number of documents: 235\n"
     ]
    },
    {
     "data": {
      "image/png": "[encoded data removed]",
      "text/plain": [
       "<Figure size 864x360 with 2 Axes>"
      ]
     },
     "metadata": {
      "needs_background": "light"
     },
     "output_type": "display_data"
    }
   ],
   "source": [
    "Mwd_df = pd.DataFrame(Mwd,index=words,columns=documents)\n",
    "gamma, fig, axs = plot_degree_summary(Mwd_df)"
   ]
  },
  {
   "cell_type": "code",
   "execution_count": 14,
   "metadata": {},
   "outputs": [],
   "source": [
    "df = pd.DataFrame(Pww,index=words,columns=words) \\\n",
    "       .stack() \\\n",
    "       .to_frame() \\\n",
    "       .reset_index(names = ['Source','Target']) \\\n",
    "       .rename(columns={0:'Weight'}) \\\n",
    "       .query(\"Source != Target\") \\\n",
    "       .replace(UNICODE_EMOJI['en']) \\\n",
    "       .query(\"Weight != 0\")\n",
    "\n",
    "df['temp_key'] = df.apply(lambda row: ''.join(sorted([row['Source'],row['Target']])),axis=1)\n",
    "df = df.drop_duplicates('temp_key') \\\n",
    "       .drop(columns=['temp_key']) \\\n",
    "       .reset_index(drop=True)"
   ]
  },
  {
   "cell_type": "code",
   "execution_count": 15,
   "metadata": {},
   "outputs": [
    {
     "data": {
      "text/plain": [
       "[<matplotlib.lines.Line2D at 0x237d810f850>]"
      ]
     },
     "execution_count": 15,
     "metadata": {},
     "output_type": "execute_result"
    },
    {
     "data": {
      "image/png": "[encoded data removed]",
      "text/plain": [
       "<Figure size 720x432 with 1 Axes>"
      ]
     },
     "metadata": {
      "needs_background": "light"
     },
     "output_type": "display_data"
    }
   ],
   "source": [
    "from scipy.stats import gaussian_kde\n",
    "\n",
    "plt.figure(figsize=(10, 6))\n",
    "\n",
    "kde = gaussian_kde(df['Weight'])\n",
    "x_vals = np.linspace(df['Weight'].min(), df['Weight'].max(), 1000)\n",
    "y_vals = kde(x_vals)\n",
    "\n",
    "# Plot KDE\n",
    "plt.plot(x_vals, y_vals, color='blue', label='KDE')\n",
    "plt.plot(df['Weight'].values, [0.5] * len(df), '|', color='black', markersize=30)"
   ]
  },
  {
   "cell_type": "code",
   "execution_count": 16,
   "metadata": {},
   "outputs": [
    {
     "data": {
      "text/plain": [
       "count    6256.000000\n",
       "mean        0.014806\n",
       "std         0.029950\n",
       "min         0.000319\n",
       "25%         0.002770\n",
       "50%         0.005540\n",
       "75%         0.014418\n",
       "max         0.565384\n",
       "Name: Weight, dtype: float64"
      ]
     },
     "execution_count": 16,
     "metadata": {},
     "output_type": "execute_result"
    }
   ],
   "source": [
    "df['Weight'].describe()"
   ]
  },
  {
   "cell_type": "code",
   "execution_count": null,
   "metadata": {},
   "outputs": [],
   "source": [
    "tol = 0.05/2\n",
    "df.query(\"Weight > @tol\")['Weight'].describe()"
   ]
  },
  {
   "cell_type": "code",
   "execution_count": null,
   "metadata": {},
   "outputs": [],
   "source": [
    "# Calcular de nuevo la gamma!\n",
    "\n",
    "\n",
    "tol = 0.05/4\n",
    "df2 = df.query(\"Weight > @tol\")\n",
    "\n",
    "df.sort_values('Weight').to_csv(f'data/processed/col_{text_col}__tol_{tol}__links.csv',encoding='UTF-16',index=False)\n",
    "\n",
    "pd.concat([df.Source,df.Target],ignore_index=True) \\\n",
    "  .drop_duplicates() \\\n",
    "  .to_frame() \\\n",
    "  .rename(columns={0:'Id'}) \\\n",
    "  .eval(\"Label=Id\") \\\n",
    "  .merge(obj_rate_cat,how='left',on='Id',validate='m:1') \\\n",
    "  .to_csv(f'data/processed/col_{text_col}__tol_{tol}__nodes.csv',encoding='UTF-16',index=False)"
   ]
  }
 ],
 "metadata": {
  "kernelspec": {
   "display_name": "Python 3",
   "language": "python",
   "name": "python3"
  },
  "language_info": {
   "codemirror_mode": {
    "name": "ipython",
    "version": 3
   },
   "file_extension": ".py",
   "mimetype": "text/x-python",
   "name": "python",
   "nbconvert_exporter": "python",
   "pygments_lexer": "ipython3",
   "version": "3.8.3"
  }
 },
 "nbformat": 4,
 "nbformat_minor": 4
}
