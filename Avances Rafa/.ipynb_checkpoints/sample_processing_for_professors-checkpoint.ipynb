{
 "cells": [
  {
   "cell_type": "code",
   "execution_count": 1,
   "metadata": {},
   "outputs": [
    {
     "name": "stderr",
     "output_type": "stream",
     "text": [
      "C:\\Users\\rdm42\\anaconda3\\lib\\site-packages\\pandas\\core\\computation\\expressions.py:20: UserWarning: Pandas requires version '2.7.3' or newer of 'numexpr' (version '2.7.1' currently installed).\n",
      "  from pandas.core.computation.check import NUMEXPR_INSTALLED\n"
     ]
    }
   ],
   "source": [
    "import os\n",
    "import json\n",
    "import shutil\n",
    "import lzma\n",
    "\n",
    "import numpy as np\n",
    "import pandas as pd\n",
    "\n",
    "import matplotlib.pyplot as plt\n",
    "import seaborn as sns\n",
    "sns.set_theme()"
   ]
  },
  {
   "cell_type": "code",
   "execution_count": 84,
   "metadata": {},
   "outputs": [
    {
     "data": {
      "text/html": [
       "<div>\n",
       "<style scoped>\n",
       "    .dataframe tbody tr th:only-of-type {\n",
       "        vertical-align: middle;\n",
       "    }\n",
       "\n",
       "    .dataframe tbody tr th {\n",
       "        vertical-align: top;\n",
       "    }\n",
       "\n",
       "    .dataframe thead th {\n",
       "        text-align: right;\n",
       "    }\n",
       "</style>\n",
       "<table border=\"1\" class=\"dataframe\">\n",
       "  <thead>\n",
       "    <tr style=\"text-align: right;\">\n",
       "      <th></th>\n",
       "      <th>Short</th>\n",
       "      <th>user</th>\n",
       "      <th>likes</th>\n",
       "      <th>caption</th>\n",
       "      <th>URL</th>\n",
       "    </tr>\n",
       "  </thead>\n",
       "  <tbody>\n",
       "    <tr>\n",
       "      <th>0</th>\n",
       "      <td>fNO52Nxluy</td>\n",
       "      <td>amenstyle</td>\n",
       "      <td>61</td>\n",
       "      <td>Valentina Vignali looks explosive in a preciou...</td>\n",
       "      <td>https://www.instagram.com/p/fNO52Nxluy</td>\n",
       "    </tr>\n",
       "    <tr>\n",
       "      <th>1</th>\n",
       "      <td>lzQl_gRlnD</td>\n",
       "      <td>amenstyle</td>\n",
       "      <td>374</td>\n",
       "      <td>Regram @nimabenati #amenstyle #amen #fashion #...</td>\n",
       "      <td>https://www.instagram.com/p/lzQl_gRlnD</td>\n",
       "    </tr>\n",
       "    <tr>\n",
       "      <th>2</th>\n",
       "      <td>mrzAb-Rlkt</td>\n",
       "      <td>amenstyle</td>\n",
       "      <td>175</td>\n",
       "      <td>RG @nimabenati #amencouture amenstyle.com</td>\n",
       "      <td>https://www.instagram.com/p/mrzAb-Rlkt</td>\n",
       "    </tr>\n",
       "  </tbody>\n",
       "</table>\n",
       "</div>"
      ],
      "text/plain": [
       "        Short       user  likes  \\\n",
       "0  fNO52Nxluy  amenstyle     61   \n",
       "1  lzQl_gRlnD  amenstyle    374   \n",
       "2  mrzAb-Rlkt  amenstyle    175   \n",
       "\n",
       "                                             caption  \\\n",
       "0  Valentina Vignali looks explosive in a preciou...   \n",
       "1  Regram @nimabenati #amenstyle #amen #fashion #...   \n",
       "2          RG @nimabenati #amencouture amenstyle.com   \n",
       "\n",
       "                                      URL  \n",
       "0  https://www.instagram.com/p/fNO52Nxluy  \n",
       "1  https://www.instagram.com/p/lzQl_gRlnD  \n",
       "2  https://www.instagram.com/p/mrzAb-Rlkt  "
      ]
     },
     "execution_count": 84,
     "metadata": {},
     "output_type": "execute_result"
    }
   ],
   "source": [
    "download_dir = os.path.join('..','0_data','downloaded_posts')\n",
    "metadata_paths = [os.path.join(download_dir,f) for f in os.listdir(download_dir) if f.endswith('.json.xz')]\n",
    "\n",
    "additional_data = []\n",
    "\n",
    "for i,path in enumerate(metadata_paths):\n",
    "\n",
    "    with lzma.open(path, 'rt') as file:\n",
    "        data_dict = json.load(file)\n",
    "    \n",
    "    short = data_dict['node']['shortcode']\n",
    "    user  = data_dict['node']['owner']['username']\n",
    "    likes = data_dict['node']['edge_media_preview_like']['count']\n",
    "    caption = data_dict['node']['edge_media_to_caption']['edges'][0]['node']['text']\n",
    "    long = os.path.split(path)[-1].split('.')[0]\n",
    "\n",
    "    additional_data.append((short,user,likes,caption,long))\n",
    "\n",
    "additional_data = pd.DataFrame(additional_data, columns=['Short','user','likes','caption','Long']) \\\n",
    "                    .drop(columns=['Long'])\n",
    "additional_data['URL'] = additional_data.Short.apply(lambda code: f\"https://www.instagram.com/p/{code}\")\n",
    "additional_data.head(3)"
   ]
  },
  {
   "cell_type": "code",
   "execution_count": 80,
   "metadata": {},
   "outputs": [],
   "source": [
    "with pd.ExcelFile('pictures_captions_autocaptions.xlsx') as xl:\n",
    "    autocaptions = xl.parse()[['Short','Auto_caption']]\n",
    "    \n",
    "# autocaptions['Long'] = autocaptions.Long.str.extract(\"(.*_UTC)\")[0]"
   ]
  },
  {
   "cell_type": "code",
   "execution_count": 87,
   "metadata": {},
   "outputs": [],
   "source": [
    "output_table = autocaptions.merge(additional_data, on='Short', how='left', validate='m:1') \\\n",
    "               [['Short','URL','user','likes','caption','Auto_caption']]"
   ]
  },
  {
   "cell_type": "code",
   "execution_count": 90,
   "metadata": {},
   "outputs": [],
   "source": [
    "output_table.to_clipboard(index=False)"
   ]
  },
  {
   "cell_type": "code",
   "execution_count": 97,
   "metadata": {},
   "outputs": [
    {
     "data": {
      "text/html": [
       "<div>\n",
       "<style scoped>\n",
       "    .dataframe tbody tr th:only-of-type {\n",
       "        vertical-align: middle;\n",
       "    }\n",
       "\n",
       "    .dataframe tbody tr th {\n",
       "        vertical-align: top;\n",
       "    }\n",
       "\n",
       "    .dataframe thead th {\n",
       "        text-align: right;\n",
       "    }\n",
       "</style>\n",
       "<table border=\"1\" class=\"dataframe\">\n",
       "  <thead>\n",
       "    <tr style=\"text-align: right;\">\n",
       "      <th></th>\n",
       "      <th>Short</th>\n",
       "      <th>URL</th>\n",
       "      <th>user</th>\n",
       "      <th>likes</th>\n",
       "      <th>caption</th>\n",
       "      <th>Auto_caption</th>\n",
       "    </tr>\n",
       "  </thead>\n",
       "  <tbody>\n",
       "    <tr>\n",
       "      <th>168</th>\n",
       "      <td>CiaXyUYsqcJ</td>\n",
       "      <td>https://www.instagram.com/p/CiaXyUYsqcJ</td>\n",
       "      <td>jacquemus</td>\n",
       "      <td>188018.0</td>\n",
       "      <td>Bella in Jacquemus 🏹🫠</td>\n",
       "      <td>a picture of a woman with long hair wearing a ...</td>\n",
       "    </tr>\n",
       "    <tr>\n",
       "      <th>170</th>\n",
       "      <td>CiaXyUYsqcJ</td>\n",
       "      <td>https://www.instagram.com/p/CiaXyUYsqcJ</td>\n",
       "      <td>jacquemus</td>\n",
       "      <td>188018.0</td>\n",
       "      <td>Bella in Jacquemus 🏹🫠</td>\n",
       "      <td>a picture of a woman with long hair wearing a ...</td>\n",
       "    </tr>\n",
       "  </tbody>\n",
       "</table>\n",
       "</div>"
      ],
      "text/plain": [
       "           Short                                      URL       user  \\\n",
       "168  CiaXyUYsqcJ  https://www.instagram.com/p/CiaXyUYsqcJ  jacquemus   \n",
       "170  CiaXyUYsqcJ  https://www.instagram.com/p/CiaXyUYsqcJ  jacquemus   \n",
       "\n",
       "        likes                caption  \\\n",
       "168  188018.0  Bella in Jacquemus 🏹🫠   \n",
       "170  188018.0  Bella in Jacquemus 🏹🫠   \n",
       "\n",
       "                                          Auto_caption  \n",
       "168  a picture of a woman with long hair wearing a ...  \n",
       "170  a picture of a woman with long hair wearing a ...  "
      ]
     },
     "execution_count": 97,
     "metadata": {},
     "output_type": "execute_result"
    }
   ],
   "source": [
    "output_table[output_table.duplicated(keep=False)]"
   ]
  }
 ],
 "metadata": {
  "kernelspec": {
   "display_name": "Python 3",
   "language": "python",
   "name": "python3"
  },
  "language_info": {
   "codemirror_mode": {
    "name": "ipython",
    "version": 3
   },
   "file_extension": ".py",
   "mimetype": "text/x-python",
   "name": "python",
   "nbconvert_exporter": "python",
   "pygments_lexer": "ipython3",
   "version": "3.8.3"
  }
 },
 "nbformat": 4,
 "nbformat_minor": 4
}
