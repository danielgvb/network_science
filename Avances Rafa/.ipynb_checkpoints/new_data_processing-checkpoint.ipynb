{
 "cells": [
  {
   "cell_type": "code",
   "execution_count": 1,
   "metadata": {},
   "outputs": [
    {
     "name": "stderr",
     "output_type": "stream",
     "text": [
      "C:\\Users\\rdm42\\anaconda3\\lib\\site-packages\\pandas\\core\\computation\\expressions.py:20: UserWarning: Pandas requires version '2.7.3' or newer of 'numexpr' (version '2.7.1' currently installed).\n",
      "  from pandas.core.computation.check import NUMEXPR_INSTALLED\n",
      "<ipython-input-1-91d011d553e6>:22: DeprecationWarning: This package has been superseded by the `leidenalg` package and will no longer be maintained. Please upgrade to the `leidenalg` package.\n",
      "  import louvain\n"
     ]
    }
   ],
   "source": [
    "import os\n",
    "import json\n",
    "import shutil\n",
    "import lzma\n",
    "import warnings\n",
    "from tqdm import tqdm\n",
    "\n",
    "import numpy as np\n",
    "import pandas as pd\n",
    "\n",
    "import matplotlib.pyplot as plt\n",
    "import seaborn as sns\n",
    "sns.set_theme()\n",
    "\n",
    "import scipy\n",
    "import scipy.sparse as sps\n",
    "from scipy.sparse import csr_matrix\n",
    "import scipy.stats as st\n",
    "from random import shuffle\n",
    "\n",
    "import networkx as nx\n",
    "import louvain\n",
    "import igraph as ig\n",
    "\n",
    "pd.set_option('display.max_columns', None)"
   ]
  },
  {
   "cell_type": "code",
   "execution_count": 2,
   "metadata": {},
   "outputs": [],
   "source": [
    "def plot_degree_summary(Mwd=None, G=None):\n",
    "    \n",
    "    if G is None:\n",
    "        dw = Mwd.sum(axis=1)\n",
    "        print(f\"Number of words: {Mwd.shape[0]}\")\n",
    "        print(f\"Number of documents: {Mwd.shape[1]}\")\n",
    "    else:\n",
    "        dw = pd.Series(dict(G.degree()))\n",
    "        print(f\"Number of words: {len(G)}\")\n",
    "        \n",
    "\n",
    "    # Summary analysis of the network:\n",
    "    gamma = 1 + dw.size/np.log(dw / dw.min()).sum()\n",
    "    print(f\"Network's gamma is {gamma:.2f}\")\n",
    "\n",
    "\n",
    "    fig, axs = plt.subplots(1, 2, figsize=(12, 5))\n",
    "    plt.suptitle(\"Word degree summary\", size=20)\n",
    "\n",
    "    # Words' degrees\n",
    "\n",
    "    n = 6\n",
    "    s = dw.sort_values(ascending=False)\n",
    "    custom_ticks = [min((s.size//n)*l,s.size-1) for l in range(n+1)]\n",
    "    custom_labels = s.index[custom_ticks]\n",
    "\n",
    "    axs[0].set_title(\"Degrees\", size=16)\n",
    "    axs[0].set_ylabel(\"Word count across documents\", size=12)\n",
    "    axs[0].semilogy(s)\n",
    "    axs[0].set_xticks(custom_ticks)\n",
    "    axs[0].set_xticklabels(custom_labels, rotation=30)\n",
    "\n",
    "\n",
    "    # Words degree distribution\n",
    "\n",
    "    k = np.unique(dw)\n",
    "    pk = np.histogram(dw,np.append(k,k[-1]+1))[0]\n",
    "    pk = pk/pk.sum()\n",
    "    # Pk = 1-np.cumsum(pk)\n",
    "    p_ideal = ((gamma-1)/k.min()) * ((k/k.min())**(-gamma))\n",
    "\n",
    "    label = r'$\\gamma$' + f\" = {gamma:.2f}\\n\" + r'$k_{min}$' + f\" = {k.min()}\"\n",
    "    axs[1].loglog(k, pk, 'o')\n",
    "    axs[1].loglog(k, p_ideal,label=label)\n",
    "    axs[1].set_title(\"Distribution\", size=16)\n",
    "    axs[1].set_xlabel(\"k\", size=12)\n",
    "    axs[1].set_ylabel(\"$p_k$\", size=12)\n",
    "    axs[1].legend(loc='upper right')\n",
    "\n",
    "    plt.tight_layout()\n",
    "    \n",
    "    return gamma, fig, axs"
   ]
  },
  {
   "cell_type": "code",
   "execution_count": 3,
   "metadata": {},
   "outputs": [],
   "source": [
    "def clean_Mwd_matrix(Mwd,words,documents):\n",
    "\n",
    "    # remove elements that are too central, e.g., #covid19\n",
    "    not_wanted = np.array(Mwd.sum(axis=1)).flatten()>Mwd.shape[1]/4\n",
    "    text = \"removing: \" + \" \".join(words[not_wanted])\n",
    "    words = words[~not_wanted]\n",
    "    Mwd = Mwd[~not_wanted,:]\n",
    "\n",
    "    # remove documents and words with fewer than 2 links\n",
    "    while True:\n",
    "\n",
    "        # keep memory\n",
    "        dim_old = Mwd.size\n",
    "        \n",
    "        # remove documents with less than 2 words\n",
    "        wanted = np.array(Mwd.sum(axis=0)).flatten()>1\n",
    "        Mwd = Mwd[:,wanted]\n",
    "        documents = documents[wanted]\n",
    "\n",
    "        # remove words in less than 2 documents\n",
    "        not_wanted = np.array(Mwd.sum(axis=1)).flatten()<=1\n",
    "        text = text + \" \" + \" \".join(words[not_wanted])\n",
    "        words = words[~not_wanted]\n",
    "        Mwd = Mwd[~not_wanted,:]\n",
    "        \n",
    "        # exit criterion\n",
    "        if (dim_old == Mwd.size): break\n",
    "\n",
    "    # exit\n",
    "    print(text)\n",
    "    return Mwd, words, documents\n",
    "\n",
    "    print(text)\n",
    "    return Mwd, words, documents\n",
    "\n",
    "def logg(x):\n",
    "    y = np.log(x)\n",
    "    y[x==0] = 0\n",
    "    return y\n",
    "\n",
    "\n",
    "\n",
    "def probability_matrices(Mwd, equalik = True, tform = False):\n",
    "\n",
    "    if equalik: # documents equally likely\n",
    "        Pwd = Mwd/Mwd.sum(axis=0).flatten()/Mwd.shape[1]\n",
    "        \n",
    "    else: # documents proportional to their length\n",
    "        Pwd = Mwd/Mwd.sum()\n",
    "        \n",
    "    # TF-IDF format\n",
    "    if (tform):\n",
    "        iw = -logg(np.sum(Mwd>0,axis=1).flatten()/Mwd.shape[1])\n",
    "        Pwd = sps.diags(np.array(iw)[0])*Pwd # TF-IDF form\n",
    "        Pwd = Pwd/Pwd.sum() # normalize, treat it as Pwd\n",
    "        \n",
    "    # words and document matrices\n",
    "    pd = Pwd.sum(axis=0).flatten()\n",
    "    Pww = (Pwd/pd)*(Pwd.T)\n",
    "    pw = Pwd.sum(axis=1).flatten()\n",
    "    Pdd = (Pwd.T/pw)*Pwd\n",
    "    \n",
    "    # joint words and document matrix - documents first\n",
    "    Paa = sps.hstack((sps.csr_matrix((Pwd.shape[1],Pwd.shape[1])),Pwd.T))\n",
    "    Paa = sps.vstack((Paa,sps.hstack((Pwd,sps.csr_matrix((Pwd.shape[0],Pwd.shape[0]))))))\n",
    "    Paa = Paa/2.0\n",
    "\n",
    "    return Pwd, Pww, Pdd, Paa"
   ]
  },
  {
   "cell_type": "code",
   "execution_count": 4,
   "metadata": {},
   "outputs": [],
   "source": [
    "def my_soft_louvain(A, C_start=None, seed=42):\n",
    "    \"\"\"\n",
    "    Find the best partition of a graph using the Louvain Community Detection\n",
    "    Algorithm.\n",
    "\n",
    "    References\n",
    "    [1] Blondel, V.D. et al. Fast unfolding of communities in large networks.\n",
    "        J. Stat. Mech 10008, 1-12(2008).\n",
    "        https://doi.org/10.1088/1742-5468/2008/10/P10008\n",
    "    [2] Traag, V.A., Waltman, L. & van Eck, N.J. From Louvain to Leiden:\n",
    "        guaranteeing well-connected communities. Sci Rep 9, 5233 (2019).\n",
    "        https://doi.org/10.1038/s41598-019-41695-z\n",
    "    [3] Nicolas Dugué, Anthony Perez. Directed Louvain : maximizing modularity\n",
    "        in directed networks. [Research Report] Université d’Orléans. 2015.\n",
    "        hal-01231784. https://hal.archives-ouvertes.fr/hal-01231784\n",
    "    \"\"\"\n",
    "\n",
    "    np.random.seed(seed)\n",
    "    \n",
    "    # normalize matrix - otherwise it doesn't work -  read by rows\n",
    "    A = sps.csr_matrix(A)/A.sum()\n",
    "    \n",
    "    # initialize the community assignment matrix to \"each node is a community\"\n",
    "    C = sps.csr_matrix(sps.identity(A.shape[0], dtype='float'))\n",
    "    \n",
    "    # starting assignment\n",
    "    if C_start is None:\n",
    "        C_start = sps.csr_matrix(sps.identity(A.shape[0], dtype='float'))\n",
    "\n",
    "    \n",
    "    # main loop for the different layers of Louvain\n",
    "    while True:\n",
    "        # improve modularity in this layer\n",
    "        Clayer, improvement = _my_one_level(A,C_start)\n",
    "        \n",
    "        if not improvement: break\n",
    "        \n",
    "        # Update variables according to the new clusters\n",
    "        C = C*Clayer\n",
    "        A = Clayer.T*(A*Clayer)\n",
    "        \n",
    "        # initialize the community assignment matrix to \"each node is a community\"\n",
    "        C_start = sps.csr_matrix(sps.identity(A.shape[0], dtype='float'))\n",
    "\n",
    "    # return community assignments and resulting adjacency matrix\n",
    "    Q = modularity_function(A)\n",
    "    return C, A, Q\n",
    "\n",
    "\n",
    "def _my_one_level(A,C):\n",
    "\n",
    "    N = A.shape[0] # number of nodes\n",
    "    rand_nodes = list(range(N)) # random nodes list\n",
    "    shuffle(rand_nodes) # shuffle random nodes list\n",
    "\n",
    "    d_in = A.sum(axis=1).T # input degrees - row vector\n",
    "    d_out = A.sum(axis=0) # output degrees - row vector\n",
    "    A = A + A.T # sum easily accessible by row\n",
    "\n",
    "    # main loop - loop until you do not see any improvement\n",
    "    improvement = False\n",
    "    while True:\n",
    "\n",
    "        # counter for the number of nodes changing community\n",
    "        nb_moves = 0\n",
    "        \n",
    "        # test each node\n",
    "        for i in rand_nodes:\n",
    "            # get the community of node i\n",
    "            ci_old = C[i,0:C.shape[1]].toarray()[0]\n",
    "            \n",
    "            # modify C for our purposes, i.e., exclude node i\n",
    "            C[i,0:C.shape[1]] = 0\n",
    "            \n",
    "            # build vector v for evaluating modularity increase\n",
    "            v = ( A[i] - d_out[0,i]*d_in - d_in[0,i]*d_out )/2\n",
    "            \n",
    "            # find the maximum - best community\n",
    "            ci = soft_assign(v[0,i], np.array(v*C)[0])\n",
    "            \n",
    "            # update matrix\n",
    "            C[i,0:C.shape[1]] = ci\n",
    "            \n",
    "            # update counter (if needed)\n",
    "            nb_moves += np.linalg.norm(ci-ci_old)\n",
    "\n",
    "#         print(nb_moves)\n",
    "        # exit if no improvement\n",
    "        if (nb_moves<1e-10): break\n",
    "        \n",
    "        # otherwise: remove empty communities\n",
    "        C = C[:,np.unique(scipy.sparse.find(C)[1])]\n",
    "        \n",
    "        # set improvement and reshuffle nodes for next try\n",
    "        improvement = True\n",
    "        shuffle(rand_nodes)\n",
    "\n",
    "    # exit\n",
    "    return C, improvement\n",
    "\n",
    "\n",
    "def soft_assign(a,v):\n",
    "    if (a>=0):\n",
    "        u = np.array(v.data)\n",
    "        n = np.where(u==u.max())[0][0]\n",
    "        u = np.zeros(u.shape)\n",
    "        u[n] = 1\n",
    "        return np.array(u)/u.sum()\n",
    "\n",
    "    else:\n",
    "        u = -np.array(v.data)/a\n",
    "        g = np.sort(u)[::-1]\n",
    "        z = np.cumsum(g)-np.append(np.array(range(1,len(g)))*g[1:len(g)],-np.Inf)\n",
    "        n = np.where(z>=1)[0][0]\n",
    "        la = ((g[0:n+1]).sum()-1)/(n+1)\n",
    "        u = u-la\n",
    "        u[u<0] = 0\n",
    "        return np.array(u)/u.sum()"
   ]
  },
  {
   "cell_type": "code",
   "execution_count": 5,
   "metadata": {},
   "outputs": [],
   "source": [
    "def nmi_function(A): # A = Pwc\n",
    "    aw = A.sum(axis=1).flatten() # word probability\n",
    "    ac = A.sum(axis=0).flatten() # class probability\n",
    "    Hc = np.multiply(ac,-logg(ac)).sum() # class entropy\n",
    "    A2 = ((A/ac).T/aw).T\n",
    "    A2.data = logg(A2.data)\n",
    "    y = (A.multiply(A2)).sum()/Hc\n",
    "    return y\n",
    "\n",
    "\n",
    "# RDM: Why? How?\n",
    "def modularity_function(A):\n",
    "    y = A.diagonal().sum()-(A.sum(axis=0)*A.sum(axis=1)).item()\n",
    "    return y\n",
    "\n",
    "def ncut_function(A):\n",
    "    y = ((A.sum(axis=0)-A.diagonal())/A.sum(axis=0)).mean()\n",
    "    return y\n",
    "\n",
    "def my_pagerank(M,q,c=.85,it=60):\n",
    "    r = q.copy() # ranking matrix, initialized to q (copy)\n",
    "    for k in range(it): # slow cycle\n",
    "        r = c*M.dot(r) + (1-c)*q\n",
    "    return r\n",
    "\n",
    "def infomap_function(v):\n",
    "    y = -(v.data*logg(v.data/v.sum())).sum()\n",
    "    return y\n",
    "\n",
    "def infomap_rank(Pdd):\n",
    "    # transition matrix\n",
    "    pd = Pdd.sum(axis=0).flatten()\n",
    "    M = sps.csr_matrix(Pdd/pd)\n",
    "    # pagerank vector - faster than r = my_pagerank(M,q)\n",
    "    G = ig.Graph.Adjacency((M > 0).toarray().tolist())\n",
    "    G.es['weight'] = np.array(M[M.nonzero()])[0]\n",
    "    r = G.pagerank(weights='weight')\n",
    "    r = (sps.csr_matrix(np.array(r))).T\n",
    "\n",
    "    return r\n",
    "\n",
    "def infomap(C,Pdd,r):\n",
    "    pd = Pdd.sum(axis=0).flatten()\n",
    "    M = Pdd/pd # transition matrix\n",
    "    # extract vectors\n",
    "    z = C.T*sps.diags(r.toarray().flatten())\n",
    "    q = sps.csr_matrix((1,z.shape[0]))\n",
    "    c = .85\n",
    "    for i in range(z.shape[0]):\n",
    "        tmp = (C[:,i].transpose()*M)*z[i].transpose()\n",
    "        q[0,i] = (1-(1-c)*C[:,i].sum()/M.shape[0])*z[i].sum()-c*tmp[0,0]\n",
    "    # extract statistics\n",
    "    y = infomap_function(q)\n",
    "    for i in range(z.shape[0]):\n",
    "        y += infomap_function(sps.hstack([z[i],sps.csr_matrix([[q[0,i]]])]))\n",
    "    # normalize\n",
    "    y = (y/infomap_function(pd))-1\n",
    "\n",
    "    return y\n",
    "\n",
    "\n",
    "# RDM: What if I'd like to use the Pww instead?\n",
    "def clustering_statistics(C,Pwd,Pdd,r):\n",
    "\n",
    "    Pwc = Pwd*C # joint word + class probability\n",
    "    NMI = nmi_function(Pwc)\n",
    "    Pcc = C.T*Pdd*C # joint class + class probability\n",
    "    Q = modularity_function(Pcc)\n",
    "    Ncut = ncut_function(Pcc)\n",
    "    Infomap = infomap(C,Pdd,r)\n",
    "\n",
    "    return [NMI, Q, Ncut, Infomap]"
   ]
  },
  {
   "cell_type": "markdown",
   "metadata": {},
   "source": [
    "# Retrieving cleaned-text data"
   ]
  },
  {
   "cell_type": "code",
   "execution_count": 6,
   "metadata": {},
   "outputs": [
    {
     "name": "stdout",
     "output_type": "stream",
     "text": [
      "Wall time: 3.3 s\n"
     ]
    },
    {
     "data": {
      "text/plain": [
       "text_deep_clean    0\n",
       "objectifies        0\n",
       "dtype: int64"
      ]
     },
     "execution_count": 6,
     "metadata": {},
     "output_type": "execute_result"
    }
   ],
   "source": [
    "%%time\n",
    "\n",
    "path = os.path.join('..','0_data','silver','7_text_clean_large.xlsx')\n",
    "with pd.ExcelFile(path) as xl:\n",
    "    data = xl.parse(index_col=0)\n",
    "    \n",
    "text_col = 'text_deep_clean'\n",
    "data = data[[text_col,'objectifies']]\n",
    "data.isna().sum()"
   ]
  },
  {
   "cell_type": "code",
   "execution_count": 7,
   "metadata": {},
   "outputs": [
    {
     "name": "stdout",
     "output_type": "stream",
     "text": [
      "Wall time: 68.2 ms\n"
     ]
    }
   ],
   "source": [
    "%%time\n",
    "\n",
    "documents = data['text_deep_clean'].drop_duplicates().values\n",
    "words = np.unique([token\n",
    "                   for doc in documents\n",
    "                   for token in doc.split()])\n",
    "\n",
    "words_dict = {wrd:i for i,wrd in enumerate(words)}"
   ]
  },
  {
   "cell_type": "markdown",
   "metadata": {},
   "source": [
    "# Occurrence matrix $M_{wd}$"
   ]
  },
  {
   "cell_type": "code",
   "execution_count": 8,
   "metadata": {},
   "outputs": [
    {
     "name": "stderr",
     "output_type": "stream",
     "text": [
      "0it [00:00, ?it/s]"
     ]
    },
    {
     "name": "stdout",
     "output_type": "stream",
     "text": [
      "Mwd shape: (2675, 1583)\n"
     ]
    },
    {
     "name": "stderr",
     "output_type": "stream",
     "text": [
      "C:\\Users\\rdm42\\anaconda3\\lib\\site-packages\\scipy\\sparse\\_index.py:82: SparseEfficiencyWarning: Changing the sparsity structure of a csr_matrix is expensive. lil_matrix is more efficient.\n",
      "  self._set_intXint(row, col, x.flat[0])\n",
      "1583it [01:02, 25.34it/s]"
     ]
    },
    {
     "name": "stdout",
     "output_type": "stream",
     "text": [
      "New shape: (1475, 1583)\n",
      "Wall time: 1min 2s\n"
     ]
    },
    {
     "name": "stderr",
     "output_type": "stream",
     "text": [
      "\n"
     ]
    }
   ],
   "source": [
    "%%time\n",
    "\n",
    "# occurrence matrix for words\n",
    "Mwd = csr_matrix((words.size, documents.size), dtype = np.int8)\n",
    "print(f\"Mwd shape: {Mwd.shape}\")\n",
    "\n",
    "for j,doc in tqdm(enumerate(documents)):\n",
    "    for token in doc.split():\n",
    "        Mwd[words_dict[token],j] += 1\n",
    "\n",
    "        \n",
    "# remove words that are used once or twice\n",
    "select = np.array(Mwd.sum(axis=1) > 2).flatten()\n",
    "Mwd = Mwd[select,:]\n",
    "words = words[select]\n",
    "\n",
    "# remove documents that do not contain words\n",
    "select = np.array(Mwd.sum(axis=0) > 0).flatten()\n",
    "Mwd = Mwd[:,select]\n",
    "documents = documents[select]\n",
    "\n",
    "print(f\"New shape: {Mwd.shape}\")"
   ]
  },
  {
   "cell_type": "code",
   "execution_count": 9,
   "metadata": {},
   "outputs": [
    {
     "name": "stdout",
     "output_type": "stream",
     "text": [
      "removing: black blue brown dress foreground front hair hand jacquemus long stand visible wear white woman \n"
     ]
    }
   ],
   "source": [
    "# Further cleaning and probability matrices computation\n",
    "Mwd, words, documents = clean_Mwd_matrix(Mwd,words,documents)\n",
    "Pwd, Pww, Pdd, Paa = probability_matrices(Mwd, tform = True)"
   ]
  },
  {
   "cell_type": "markdown",
   "metadata": {},
   "source": [
    "# General overview"
   ]
  },
  {
   "cell_type": "code",
   "execution_count": 10,
   "metadata": {},
   "outputs": [
    {
     "name": "stdout",
     "output_type": "stream",
     "text": [
      "Number of words: 1460\n",
      "Number of documents: 1583\n",
      "Network's gamma is 1.77\n"
     ]
    },
    {
     "data": {
      "image/png": "[encoded data removed]",
      "text/plain": [
       "<Figure size 864x360 with 2 Axes>"
      ]
     },
     "metadata": {
      "needs_background": "light"
     },
     "output_type": "display_data"
    }
   ],
   "source": [
    "Mwd_df = pd.DataFrame(Mwd.A,index=words,columns=documents)\n",
    "Pww_df = pd.DataFrame(Pww.A,index=words,columns=words)\n",
    "\n",
    "gamma, fig, axs = plot_degree_summary(Mwd_df)"
   ]
  },
  {
   "cell_type": "code",
   "execution_count": 11,
   "metadata": {},
   "outputs": [
    {
     "data": {
      "text/html": [
       "<div>\n",
       "<style scoped>\n",
       "    .dataframe tbody tr th:only-of-type {\n",
       "        vertical-align: middle;\n",
       "    }\n",
       "\n",
       "    .dataframe tbody tr th {\n",
       "        vertical-align: top;\n",
       "    }\n",
       "\n",
       "    .dataframe thead th {\n",
       "        text-align: right;\n",
       "    }\n",
       "</style>\n",
       "<table border=\"1\" class=\"dataframe\">\n",
       "  <thead>\n",
       "    <tr style=\"text-align: right;\">\n",
       "      <th></th>\n",
       "      <th>Id</th>\n",
       "      <th>obj_rate</th>\n",
       "    </tr>\n",
       "  </thead>\n",
       "  <tbody>\n",
       "    <tr>\n",
       "      <th>0</th>\n",
       "      <td>abandon</td>\n",
       "      <td>0.000000</td>\n",
       "    </tr>\n",
       "    <tr>\n",
       "      <th>1</th>\n",
       "      <td>absence</td>\n",
       "      <td>0.136364</td>\n",
       "    </tr>\n",
       "    <tr>\n",
       "      <th>2</th>\n",
       "      <td>accessible</td>\n",
       "      <td>0.000000</td>\n",
       "    </tr>\n",
       "  </tbody>\n",
       "</table>\n",
       "</div>"
      ],
      "text/plain": [
       "           Id  obj_rate\n",
       "0     abandon  0.000000\n",
       "1     absence  0.136364\n",
       "2  accessible  0.000000"
      ]
     },
     "metadata": {},
     "output_type": "display_data"
    },
    {
     "data": {
      "text/html": [
       "<div>\n",
       "<style scoped>\n",
       "    .dataframe tbody tr th:only-of-type {\n",
       "        vertical-align: middle;\n",
       "    }\n",
       "\n",
       "    .dataframe tbody tr th {\n",
       "        vertical-align: top;\n",
       "    }\n",
       "\n",
       "    .dataframe thead th {\n",
       "        text-align: right;\n",
       "    }\n",
       "</style>\n",
       "<table border=\"1\" class=\"dataframe\">\n",
       "  <thead>\n",
       "    <tr style=\"text-align: right;\">\n",
       "      <th></th>\n",
       "      <th>count</th>\n",
       "      <th>mean</th>\n",
       "      <th>std</th>\n",
       "      <th>min</th>\n",
       "      <th>25%</th>\n",
       "      <th>50%</th>\n",
       "      <th>75%</th>\n",
       "      <th>max</th>\n",
       "    </tr>\n",
       "  </thead>\n",
       "  <tbody>\n",
       "    <tr>\n",
       "      <th>obj_rate</th>\n",
       "      <td>1460.0</td>\n",
       "      <td>0.309308</td>\n",
       "      <td>0.256411</td>\n",
       "      <td>0.0</td>\n",
       "      <td>0.125</td>\n",
       "      <td>0.272727</td>\n",
       "      <td>0.461538</td>\n",
       "      <td>1.0</td>\n",
       "    </tr>\n",
       "  </tbody>\n",
       "</table>\n",
       "</div>"
      ],
      "text/plain": [
       "           count      mean       std  min    25%       50%       75%  max\n",
       "obj_rate  1460.0  0.309308  0.256411  0.0  0.125  0.272727  0.461538  1.0"
      ]
     },
     "metadata": {},
     "output_type": "display_data"
    },
    {
     "data": {
      "text/plain": [
       "<Axes: xlabel='obj_rate', ylabel='Density'>"
      ]
     },
     "execution_count": 11,
     "metadata": {},
     "output_type": "execute_result"
    },
    {
     "data": {
      "image/png": "[encoded data removed]",
      "text/plain": [
       "<Figure size 432x288 with 1 Axes>"
      ]
     },
     "metadata": {
      "needs_background": "light"
     },
     "output_type": "display_data"
    }
   ],
   "source": [
    "obj_docs = data.set_index(text_col) \\\n",
    "               .query(\"objectifies==1\") \\\n",
    "               .index.drop_duplicates() \\\n",
    "               .intersection(Mwd_df.columns)\n",
    "\n",
    "obj_rate_cat = (Mwd_df[obj_docs].sum(axis=1) / Mwd_df.sum(axis=1)) \\\n",
    "               .to_frame(name='obj_rate') \\\n",
    "               .reset_index(names='Id')\n",
    "\n",
    "display(obj_rate_cat.head(3))\n",
    "display(obj_rate_cat.describe().T)\n",
    "\n",
    "\n",
    "sns.kdeplot(data=obj_rate_cat, x='obj_rate')\n",
    "sns.rugplot(data=obj_rate_cat, x='obj_rate')"
   ]
  },
  {
   "cell_type": "markdown",
   "metadata": {},
   "source": [
    "# Output for Gephi"
   ]
  },
  {
   "cell_type": "code",
   "execution_count": 12,
   "metadata": {},
   "outputs": [
    {
     "data": {
      "text/plain": [
       "array([           nan, 0.00000000e+00, 2.39577096e-21, 1.69406589e-21,\n",
       "       3.38813179e-21, 1.05879118e-22, 3.30872245e-24, 2.11758237e-22,\n",
       "       5.29395592e-23, 6.61744490e-24, 2.64697796e-23, 8.47032947e-22,\n",
       "       1.32348898e-23, 4.23516474e-22, 1.19788548e-21, 6.77626358e-21,\n",
       "       2.99471370e-22, 7.48678426e-23, 5.98942741e-22, 1.49735685e-22,\n",
       "       4.79154193e-21, 1.87169607e-23, 3.74339213e-23, 8.29919406e-21,\n",
       "       1.35525272e-20, 1.46710410e-21, 1.91661677e-20, 1.56005262e-06,\n",
       "       7.91664889e-07, 9.58308385e-21, 1.65436123e-24, 2.71050543e-20,\n",
       "       2.07479852e-21, 9.72590196e-07, 3.35432351e-06, 6.03178337e-07,\n",
       "       6.11807194e-07, 4.37381661e-06, 1.03739926e-21, 2.93420820e-21,\n",
       "       1.17132739e-05, 3.39184874e-06, 4.82097094e-06, 4.67924016e-24,\n",
       "       2.63688911e-07, 1.14713137e-07, 3.15350779e-07, 1.41888964e-07,\n",
       "       4.14959703e-21, 4.20166627e-06, 4.42507059e-06, 2.62354332e-06,\n",
       "       2.83511873e-06, 3.47993477e-06, 6.02182230e-07, 1.79288566e-06,\n",
       "       9.35848033e-24, 3.83323354e-20, 1.32506152e-06, 3.97879611e-07,\n",
       "       2.49430094e-06, 1.71087166e-06, 1.17368328e-20, 1.05671688e-06,\n",
       "       9.58815026e-07, 1.80806950e-06, 1.20593307e-06, 3.86970265e-06,\n",
       "       1.87106655e-07, 2.34810520e-07, 1.18012989e-06, 7.35704733e-07,\n",
       "       6.83484285e-08, 5.18699629e-22, 4.06492792e-07, 9.40729221e-07,\n",
       "       2.21227681e-07])"
      ]
     },
     "execution_count": 12,
     "metadata": {},
     "output_type": "execute_result"
    }
   ],
   "source": [
    "links = Pww_df.melt(ignore_index=False, var_name='Target', value_name='Weight') \\\n",
    "              .reset_index() \\\n",
    "              .rename(columns={'index':'Source'})\n",
    "\n",
    "links['temp_key'] = links.apply(lambda row: ''.join(sorted([row['Source'],row['Target']])),axis=1)\n",
    "\n",
    "links.groupby('temp_key')['Weight'].std().unique()"
   ]
  },
  {
   "cell_type": "code",
   "execution_count": 13,
   "metadata": {},
   "outputs": [
    {
     "data": {
      "text/html": [
       "<div>\n",
       "<style scoped>\n",
       "    .dataframe tbody tr th:only-of-type {\n",
       "        vertical-align: middle;\n",
       "    }\n",
       "\n",
       "    .dataframe tbody tr th {\n",
       "        vertical-align: top;\n",
       "    }\n",
       "\n",
       "    .dataframe thead th {\n",
       "        text-align: right;\n",
       "    }\n",
       "</style>\n",
       "<table border=\"1\" class=\"dataframe\">\n",
       "  <thead>\n",
       "    <tr style=\"text-align: right;\">\n",
       "      <th></th>\n",
       "      <th>count</th>\n",
       "      <th>mean</th>\n",
       "      <th>std</th>\n",
       "      <th>min</th>\n",
       "      <th>25%</th>\n",
       "      <th>50%</th>\n",
       "      <th>75%</th>\n",
       "      <th>max</th>\n",
       "    </tr>\n",
       "  </thead>\n",
       "  <tbody>\n",
       "    <tr>\n",
       "      <th>Weight</th>\n",
       "      <td>110287.0</td>\n",
       "      <td>0.000005</td>\n",
       "      <td>0.000014</td>\n",
       "      <td>1.169925e-08</td>\n",
       "      <td>6.261748e-07</td>\n",
       "      <td>0.000002</td>\n",
       "      <td>0.000004</td>\n",
       "      <td>0.000589</td>\n",
       "    </tr>\n",
       "  </tbody>\n",
       "</table>\n",
       "</div>"
      ],
      "text/plain": [
       "           count      mean       std           min           25%       50%  \\\n",
       "Weight  110287.0  0.000005  0.000014  1.169925e-08  6.261748e-07  0.000002   \n",
       "\n",
       "             75%       max  \n",
       "Weight  0.000004  0.000589  "
      ]
     },
     "execution_count": 13,
     "metadata": {},
     "output_type": "execute_result"
    },
    {
     "data": {
      "image/png": "[encoded data removed]",
      "text/plain": [
       "<Figure size 432x288 with 1 Axes>"
      ]
     },
     "metadata": {
      "needs_background": "light"
     },
     "output_type": "display_data"
    }
   ],
   "source": [
    "links = Pww_df.where((np.triu(np.ones(Pww_df.shape))).astype(np.bool_)) \\\n",
    "              .melt(ignore_index=False, var_name='Target', value_name='Weight') \\\n",
    "              .dropna() \\\n",
    "              .query(\"\"\"Weight !=0\"\"\") \\\n",
    "              .reset_index() \\\n",
    "              .rename(columns={'index':'Source'})\n",
    "\n",
    "sns.kdeplot(data=links, x='Weight')\n",
    "sns.rugplot(data=links, x='Weight')\n",
    "links.describe().T\n",
    "\n",
    "\n",
    "# Esto está bien?"
   ]
  },
  {
   "cell_type": "code",
   "execution_count": 14,
   "metadata": {},
   "outputs": [],
   "source": [
    "tol = links.Weight.quantile(0.05)*0\n",
    "data_gephi = links.query(\"Weight >= @tol\").sort_values('Weight')\n",
    "\n",
    "data_gephi.to_csv(f'data/processed/new__col_{text_col}__tol_{tol}__links.csv',\n",
    "                  encoding='UTF-16',index=False)\n",
    "\n",
    "pd.concat([data_gephi.Source,\n",
    "           data_gephi.Target],\n",
    "          ignore_index=True) \\\n",
    "  .drop_duplicates() \\\n",
    "  .sort_values() \\\n",
    "  .to_frame(name='Id') \\\n",
    "  .eval(\"Label=Id\") \\\n",
    "  .merge(obj_rate_cat,how='left',on='Id',validate='m:1') \\\n",
    "  .to_csv(f'data/processed/new__col_{text_col}__tol_{tol}__nodes.csv',encoding='UTF-16',index=False)"
   ]
  },
  {
   "cell_type": "markdown",
   "metadata": {},
   "source": [
    "# Homophily / Assortativity analysis"
   ]
  },
  {
   "cell_type": "code",
   "execution_count": 26,
   "metadata": {},
   "outputs": [
    {
     "data": {
      "image/png": "[encoded data removed]",
      "text/plain": [
       "<Figure size 432x288 with 1 Axes>"
      ]
     },
     "metadata": {
      "needs_background": "light"
     },
     "output_type": "display_data"
    }
   ],
   "source": [
    "# RDM: Esto hay que hacerlo función para poder cambiar la variable numérica\n",
    "#      que se use para mostrar\n",
    "\n",
    "# RDM: Proceso muy lento\n",
    "\n",
    "# RDM: Consultar con profesor si la implementación es correcta\n",
    "\n",
    "# ----------------------------------------------------------------------\n",
    "\n",
    "G_nx = nx.from_pandas_edgelist(data_gephi, 'Source', 'Target', ['Weight'],create_using=nx.Graph())\n",
    "\n",
    "assortativity_var = 'obj_rate'\n",
    "cat = obj_rate_cat.set_index('Id')[assortativity_var]\n",
    "assortativity = [(cat[i],cat[j])\n",
    "                  for i in G_nx\n",
    "                    for j in G_nx.neighbors(i)]\n",
    "\n",
    "assortativity = pd.DataFrame(assortativity, columns=['node_val','neighbors_val'])\n",
    "\n",
    "# ---------------------------------------------------------------------\n",
    "\n",
    "data = np.random.multivariate_normal((0, 0), [[0.8, 0.05], [0.05, 0.7]], 100)\n",
    "x = assortativity['node_val']\n",
    "y = assortativity['neighbors_val']\n",
    "xmin, xmax = 0,1\n",
    "ymin, ymax = 0,1\n",
    "\n",
    "# Peform the kernel density estimate\n",
    "xx, yy = np.mgrid[xmin:xmax:100j, ymin:ymax:100j]\n",
    "positions = np.vstack([xx.ravel(), yy.ravel()])\n",
    "values = np.vstack([x, y])\n",
    "kernel = st.gaussian_kde(values)\n",
    "f = np.reshape(kernel(positions).T, xx.shape)\n",
    "\n",
    "fig = plt.figure()\n",
    "ax = fig.gca()\n",
    "ax.set_xlim(xmin, xmax)\n",
    "ax.set_ylim(ymin, ymax)\n",
    "# Contourf plot\n",
    "cfset = ax.contourf(xx, yy, f, cmap='Blues')\n",
    "## Or kernel density estimate plot instead of the contourf plot\n",
    "#ax.imshow(np.rot90(f), cmap='Blues', extent=[xmin, xmax, ymin, ymax])\n",
    "# Contour plot\n",
    "cset = ax.contour(xx, yy, f, colors='k')\n",
    "# Label plot\n",
    "ax.clabel(cset, inline=1, fontsize=10)\n",
    "ax.set_xlabel(\"Node's objectification rate\")\n",
    "ax.set_ylabel(\"Neighbors' objectification rate\")\n",
    "ax.set_aspect('equal', adjustable='box')"
   ]
  },
  {
   "cell_type": "markdown",
   "metadata": {},
   "source": [
    "# Community assignment"
   ]
  },
  {
   "cell_type": "code",
   "execution_count": 96,
   "metadata": {},
   "outputs": [],
   "source": [
    "partitions = dict()\n",
    "\n",
    "# function to map the partition into a community assignment matrix C\n",
    "# where rows represent documents, and columns represent topics\n",
    "def partition_to_C(part):\n",
    "    \n",
    "    with warnings.catch_warnings(record=True) as w:    \n",
    "        C = sps.csr_matrix((Pww.shape[0],len(part)))\n",
    "        for community,nodes in enumerate(part):\n",
    "            C[np.array(nodes), community] = 1\n",
    "    return C\n",
    "\n",
    "def modularity(C, A_0):\n",
    "    \n",
    "    if C.shape[0] > C.shape[1]:\n",
    "        C = C.T.copy()\n",
    "    \n",
    "    d_0 = A_0.sum()\n",
    "    A = A_0/d_0\n",
    "    d = A.sum(axis=1)\n",
    "\n",
    "    Q = (C @ ( A - d@d.T ) @ C.T).diagonal().sum()\n",
    "    \n",
    "    return Q\n",
    "\n",
    "\n",
    "def register_partition(C,Pww,name,partitions):\n",
    "    \n",
    "    partitions[name] = dict()\n",
    "    partitions[name]['C'] = C\n",
    "    partitions[name]['Q'] = modularity(C,Pww.copy())\n",
    "\n",
    "    print(f\"Modularity for {name}: {partitions[name]['Q']:.2%}\")\n",
    "    print(f\"Shape of matrix C: {C.shape}\")"
   ]
  },
  {
   "cell_type": "markdown",
   "metadata": {},
   "source": [
    "## Louvain"
   ]
  },
  {
   "cell_type": "code",
   "execution_count": 97,
   "metadata": {},
   "outputs": [
    {
     "name": "stdout",
     "output_type": "stream",
     "text": [
      "Modularity for louvain: 33.88%\n",
      "Shape of matrix C: (1460, 14)\n"
     ]
    }
   ],
   "source": [
    "# build a graph based on Pdd as adjacency matrix\n",
    "A = sps.csr_matrix(Pww)\n",
    "G = ig.Graph.Adjacency((A > 0).toarray().tolist())\n",
    "G.es['weight'] = np.array(A[A.nonzero()])[0]\n",
    "\n",
    "# run Louvain on the graph to get a partition\n",
    "part = louvain.find_partition(G, louvain.ModularityVertexPartition,\n",
    "                                 weights='weight', seed=42)\n",
    "\n",
    "# map the partition into a community assignment matrix C\n",
    "C_l = partition_to_C(part)\n",
    "\n",
    "register_partition(C_l,Pww,'louvain',partitions)"
   ]
  },
  {
   "cell_type": "markdown",
   "metadata": {},
   "source": [
    "## Soft Louvain"
   ]
  },
  {
   "cell_type": "code",
   "execution_count": 98,
   "metadata": {},
   "outputs": [
    {
     "name": "stdout",
     "output_type": "stream",
     "text": [
      "Modularity for soft_louvain: 34.38%\n",
      "Shape of matrix C: (1460, 13)\n"
     ]
    }
   ],
   "source": [
    "# refine with soft Louvain\n",
    "\n",
    "with warnings.catch_warnings(record=True) as w:\n",
    "    C_sl, _A, _Q = my_soft_louvain(Pww.copy(), partitions['louvain']['C'].copy(),seed=42)\n",
    "    \n",
    "register_partition(C_sl,Pww,'soft_louvain',partitions)"
   ]
  },
  {
   "cell_type": "markdown",
   "metadata": {},
   "source": [
    "## Infomap"
   ]
  },
  {
   "cell_type": "code",
   "execution_count": 75,
   "metadata": {},
   "outputs": [],
   "source": [
    "def infomap_function(v):\n",
    "    y = -(v.data*logg(v.data/v.sum())).sum()\n",
    "    return y\n",
    "\n",
    "def infomap_rank(Pdd):\n",
    "    # transition matrix\n",
    "    pd = Pdd.sum(axis=0).flatten()\n",
    "    M = sps.csr_matrix(Pdd/pd)\n",
    "    \n",
    "    # pagerank vector - faster than r = my_pagerank(M,q)\n",
    "    G = ig.Graph.Adjacency((M > 0).toarray().tolist())\n",
    "    G.es['weight'] = np.array(M[M.nonzero()])[0]\n",
    "    r = G.pagerank(weights='weight')\n",
    "    r = (sps.csr_matrix(np.array(r))).T\n",
    "\n",
    "    return r\n",
    "\n",
    "def infomap(C,Pdd,r):\n",
    "    pd = Pdd.sum(axis=0).flatten()\n",
    "    M = Pdd/pd # transition matrix\n",
    "    \n",
    "    # extract vectors\n",
    "    z = C.T*sps.diags(r.toarray().flatten())\n",
    "    q = sps.csr_matrix((1,z.shape[0]))\n",
    "    c = 0.85\n",
    "    \n",
    "    for i in range(z.shape[0]):\n",
    "        tmp = (C[:,i].transpose() * M) * z[i].transpose()\n",
    "        q[0,i] = (1 - (1-c)*C[:,i].sum()/M.shape[0]) * z[i].sum() - c*tmp[0,0]\n",
    "    \n",
    "    # extract statistics\n",
    "    y = infomap_function(q)\n",
    "    \n",
    "    for i in range(z.shape[0]):\n",
    "        y += infomap_function(sps.hstack([z[i],sps.csr_matrix([[q[0,i]]])]))\n",
    "    \n",
    "    # normalize\n",
    "    y = (y/infomap_function(pd))-1\n",
    "\n",
    "    return y"
   ]
  },
  {
   "cell_type": "code",
   "execution_count": 102,
   "metadata": {},
   "outputs": [
    {
     "name": "stdout",
     "output_type": "stream",
     "text": [
      "Modularity for infomap: 9.09%\n",
      "Shape of matrix C: (1460, 23)\n"
     ]
    }
   ],
   "source": [
    "infomap_clusters = G.community_infomap(edge_weights=G.es[\"weight\"])\n",
    "C_im = partition_to_C(infomap_clusters)\n",
    "\n",
    "register_partition(C_im,Pww,'infomap',partitions)"
   ]
  },
  {
   "cell_type": "code",
   "execution_count": 107,
   "metadata": {},
   "outputs": [
    {
     "data": {
      "text/plain": [
       "dancer      0.001313\n",
       "jr          0.001313\n",
       "pourchet    0.001264\n",
       "maria       0.001264\n",
       "writer      0.001264\n",
       "              ...   \n",
       "happy       0.000338\n",
       "ethic       0.000337\n",
       "splash      0.000335\n",
       "raphia      0.000313\n",
       "montagne    0.000290\n",
       "Length: 1460, dtype: float64"
      ]
     },
     "execution_count": 107,
     "metadata": {},
     "output_type": "execute_result"
    }
   ],
   "source": [
    "r = infomap_rank(Pww)\n",
    "pd.Series(r.A.flatten(),index=words).sort_values(ascending=False)"
   ]
  },
  {
   "cell_type": "code",
   "execution_count": 106,
   "metadata": {},
   "outputs": [
    {
     "name": "stdout",
     "output_type": "stream",
     "text": [
      "Infomap score: 0.04\n",
      "Modularity: 7.28%\n"
     ]
    }
   ],
   "source": [
    "with warnings.catch_warnings(record=True) as w:\n",
    "    infomap_score = infomap(C_im,Pww,r)\n",
    "    \n",
    "print(f\"Infomap score: {infomap_score:,.2f}\")\n",
    "print(f\"Modularity: {G.modularity(infomap_clusters):.2%}\")"
   ]
  },
  {
   "cell_type": "markdown",
   "metadata": {},
   "source": [
    "# BerTopic"
   ]
  },
  {
   "cell_type": "code",
   "execution_count": null,
   "metadata": {},
   "outputs": [],
   "source": []
  }
 ],
 "metadata": {
  "kernelspec": {
   "display_name": "Python 3",
   "language": "python",
   "name": "python3"
  },
  "language_info": {
   "codemirror_mode": {
    "name": "ipython",
    "version": 3
   },
   "file_extension": ".py",
   "mimetype": "text/x-python",
   "name": "python",
   "nbconvert_exporter": "python",
   "pygments_lexer": "ipython3",
   "version": "3.8.3"
  }
 },
 "nbformat": 4,
 "nbformat_minor": 4
}
