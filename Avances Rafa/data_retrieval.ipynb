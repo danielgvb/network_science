{
 "cells": [
  {
   "cell_type": "code",
   "execution_count": 14,
   "metadata": {},
   "outputs": [],
   "source": [
    "import instaloader\n",
    "from emoji import UNICODE_EMOJI\n",
    "\n",
    "import os\n",
    "import re\n",
    "import json\n",
    "import shutil\n",
    "\n",
    "import time\n",
    "import numpy as np\n",
    "import pandas as pd\n",
    "import matplotlib.pyplot as plt\n",
    "import seaborn as sns\n",
    "\n",
    "download_dir = os.path.join(\"data\",'raw')\n",
    "os.makedirs(download_dir, exist_ok=True)\n",
    "\n",
    "failed_posts = []\n",
    "\n",
    "loader = instaloader.Instaloader()\n",
    "# loader.load_session_from_file('rafadimare')"
   ]
  },
  {
   "cell_type": "code",
   "execution_count": 2,
   "metadata": {},
   "outputs": [],
   "source": [
    "import re\n",
    "import string\n",
    "from bs4 import BeautifulSoup\n",
    "import spacy\n",
    "from spacy.lang.en.stop_words import STOP_WORDS\n",
    "\n",
    "import emoji\n",
    "import contractions\n",
    "from autocorrect import Speller\n",
    "from unidecode import unidecode\n",
    "\n",
    "from scipy.sparse import csr_matrix"
   ]
  },
  {
   "cell_type": "code",
   "execution_count": 3,
   "metadata": {},
   "outputs": [
    {
     "name": "stderr",
     "output_type": "stream",
     "text": [
      "<ipython-input-3-a6e011f3cea3>:3: DeprecationWarning: This package has been superseded by the `leidenalg` package and will no longer be maintained. Please upgrade to the `leidenalg` package.\n",
      "  import louvain\n"
     ]
    }
   ],
   "source": [
    "import scipy.sparse as sps\n",
    "\n",
    "import louvain\n",
    "import igraph as ig"
   ]
  },
  {
   "cell_type": "markdown",
   "metadata": {},
   "source": [
    "# Data retrieval"
   ]
  },
  {
   "cell_type": "markdown",
   "metadata": {},
   "source": [
    "## Post downloading"
   ]
  },
  {
   "cell_type": "code",
   "execution_count": 4,
   "metadata": {},
   "outputs": [],
   "source": [
    "xl_path = os.path.join('data','resources','database.xlsx')\n",
    "\n",
    "already_downloaded = os.listdir(download_dir)\n",
    "\n",
    "with pd.ExcelFile(xl_path) as xl:\n",
    "    df = xl.parse() \\\n",
    "           .drop(columns=['id']) \\\n",
    "           .dropna(subset=['link']) \\\n",
    "           .eval(\"post_code = link.str.split('/').str[-2]\") \\\n",
    "           .drop_duplicates(subset=['post_code']) \\\n",
    "           .rename(columns={'Objectify (yes or no)':'objectifies'})\n",
    "    \n",
    "pending = df.query(\"~post_code.isin(@already_downloaded)\")\n",
    "pending\n",
    "\n",
    "# Check not to drop the row which contains objectify\n",
    "# Check for missing values on objectify column\n",
    "\n",
    "df.query(\"post_code.isin(@already_downloaded)\").post_code.to_clipboard(index=False, header=False)"
   ]
  },
  {
   "cell_type": "code",
   "execution_count": 5,
   "metadata": {},
   "outputs": [
    {
     "name": "stdout",
     "output_type": "stream",
     "text": [
      "1 / 3\n",
      "\tSTART: 07 : 19 : 35\n",
      "\t\tC0UvM2UNU3w\n",
      "Error: Fetching Post metadata failed.\n",
      "2 / 3\n",
      "\tSTART: 07 : 19 : 43\n",
      "\t\tC0H-DQlNFD8\n",
      "Error: Fetching Post metadata failed.\n",
      "3 / 3\n",
      "\tSTART: 07 : 19 : 56\n",
      "\t\tC0H9dc8N_kZ\n",
      "Error: Fetching Post metadata failed.\n"
     ]
    }
   ],
   "source": [
    "for i,post_code in enumerate(pending.post_code.tolist()):\n",
    "    \n",
    "    print(f\"{i+1} / {len(pending.post_code.tolist())}\")\n",
    "    try:    \n",
    "        print(f\"\\tSTART: {pd.Timestamp.now():%H : %M : %S}\")\n",
    "        print('\\t\\t'+post_code)\n",
    "        \n",
    "        post = instaloader.Post.from_shortcode(loader.context, post_code)\n",
    "        loader.download_post(post, target=post_code)\n",
    "\n",
    "        print(f\"\\t\\tEND: {pd.Timestamp.now():%H : %M : %S}\")\n",
    "        print(f\"\\n\\nPost {post_code} downloaded successfully\" + \"\\n\" + \"-\"*100 + '\\n'*2)\n",
    "        shutil.move(post_code, download_dir)\n",
    "        \n",
    "    except instaloader.exceptions.InstaloaderException as e:\n",
    "        print(f\"Error: {e}\")\n",
    "        failed_posts.append((post_code,e))\n",
    "        \n",
    "    time.sleep(5)"
   ]
  },
  {
   "cell_type": "code",
   "execution_count": 6,
   "metadata": {},
   "outputs": [],
   "source": [
    "# # Simple code to retrieve comments\n",
    "\n",
    "# post_code = \"CW6AeAVq3tJ\"\n",
    "# post = instaloader.Post.from_shortcode(loader.context, post_code)\n",
    "# for comment in post.get_comments():\n",
    "#     print(comment)"
   ]
  },
  {
   "cell_type": "markdown",
   "metadata": {},
   "source": [
    "## Lectura de captions"
   ]
  },
  {
   "cell_type": "code",
   "execution_count": 7,
   "metadata": {},
   "outputs": [],
   "source": [
    "captions = []\n",
    "\n",
    "for post_code in os.listdir(download_dir):\n",
    "    \n",
    "    post_data_path = os.path.join(download_dir,post_code)\n",
    "\n",
    "    txt_file = [file for file in os.listdir(post_data_path) if file.endswith('.txt')][0]\n",
    "    caption_path = os.path.join(post_data_path,txt_file)\n",
    "\n",
    "    with open(caption_path,'r',encoding='utf-8') as f:\n",
    "        caption = f.read().strip()\n",
    "        \n",
    "    captions.append((post_code, caption))\n",
    "    \n",
    "captions = pd.DataFrame(captions, columns=['post_code','caption'])\n",
    "\n",
    "# captions.head(5)\n",
    "# df.merge(captions,on='post_code',how='inner')"
   ]
  },
  {
   "cell_type": "markdown",
   "metadata": {},
   "source": [
    "## Lectura de metadata"
   ]
  },
  {
   "cell_type": "code",
   "execution_count": 8,
   "metadata": {},
   "outputs": [],
   "source": [
    "import json\n",
    "import lzma\n",
    "\n",
    "additional_data = []\n",
    "\n",
    "for i,post_code in enumerate(os.listdir(download_dir)):\n",
    "\n",
    "    post_path = os.path.join(download_dir,post_code)\n",
    "\n",
    "    metadata_path = os.path.join(post_path,\n",
    "                                 [file for file in os.listdir(post_path) if file.endswith('.json.xz')][0])\n",
    "    \n",
    "    with lzma.open(metadata_path, 'rt') as file:\n",
    "        data_dict = json.load(file)\n",
    "        \n",
    "    user = data_dict['node']['owner']['username']\n",
    "    likes = data_dict['node']['edge_media_preview_like']['count']\n",
    "\n",
    "    additional_data.append((post_code,user,likes))\n",
    "\n",
    "addtional_data = pd.DataFrame(additional_data, columns=['post_code','user','likes'])\n",
    "\n",
    "# addtional_data.merge(df).groupby('user').agg({'objectifies':'mean'}).sort_values('objectifies')"
   ]
  },
  {
   "cell_type": "markdown",
   "metadata": {},
   "source": [
    "## Writing on file"
   ]
  },
  {
   "cell_type": "code",
   "execution_count": 9,
   "metadata": {},
   "outputs": [],
   "source": [
    "output_file = f\"posts_data_{pd.Timestamp.now():%Y%m%d_%H%M}.csv\"\n",
    "output_path = os.path.join('data','standardized',output_file)\n",
    "\n",
    "df.merge(captions).merge(addtional_data).to_csv(output_path,index=False,encoding='UTF-16')"
   ]
  },
  {
   "cell_type": "markdown",
   "metadata": {},
   "source": [
    "# Data cleansing"
   ]
  },
  {
   "cell_type": "code",
   "execution_count": 10,
   "metadata": {},
   "outputs": [],
   "source": [
    "data_path = os.path.join('data', 'standardized')\n",
    "data_file = os.path.join(data_path,max(os.listdir(data_path)))\n",
    "\n",
    "data = pd.read_csv(data_file,encoding='UTF-16')"
   ]
  },
  {
   "cell_type": "code",
   "execution_count": 11,
   "metadata": {},
   "outputs": [],
   "source": [
    "contraction_map_path = os.path.join('data','resources','CONTRACTION_MAP.json')\n",
    "with open(contraction_map_path,'r') as f:\n",
    "    CONTRACTION_MAP = json.load(f)"
   ]
  },
  {
   "cell_type": "code",
   "execution_count": 12,
   "metadata": {},
   "outputs": [],
   "source": [
    "def superficial_cleaning(selftext):\n",
    "    \n",
    "    emojis = ' '.join([c for c in selftext if c in UNICODE_EMOJI['en']])\n",
    "\n",
    "    selftext = contractions.fix(selftext)\n",
    "\n",
    "    # Remove any HTML tag\n",
    "    soup = BeautifulSoup(selftext, \"html.parser\")\n",
    "    selftext = soup.get_text(separator=\" \")\n",
    "\n",
    "    # Remove any text inside square brackets\n",
    "    selftext = re.sub(r'\\[.*?\\]', '', selftext)\n",
    "\n",
    "    # Remove any website links\n",
    "    selftext = re.sub(r'http\\S+', '', selftext)\n",
    "    selftext = re.sub(r'www.\\S+', '', selftext)\n",
    "    selftext = selftext.replace('. com', '.com')\n",
    "    selftext = re.sub(r\"\\ [A-Za-z]*\\.com\", \" \", selftext)\n",
    "\n",
    "    # Remove any emojis\n",
    "#     emoji_pattern = re.compile(\"[\"\n",
    "#                        u\"\\U0001F600-\\U0001F64F\"  # emoticons\n",
    "#                        u\"\\U0001F300-\\U0001F5FF\"  # symbols & pictographs\n",
    "#                        u\"\\U0001F680-\\U0001F6FF\"  # transport & map symbols\n",
    "#                        u\"\\U0001F1E0-\\U0001F1FF\"  # flags (iOS)\n",
    "#                        u\"\\U0001F92C\"             # 🥴\n",
    "#                        u\"\\u2764\"                 # ❤️\n",
    "#                        u\"\\u2764\\ufe0f\"           # ❤️ (with variation selector)\n",
    "#                        \"]+\", flags=re.UNICODE)\n",
    "#     selftext = emoji_pattern.sub(r'', selftext)\n",
    "\n",
    "    # Remove '&amp;#x200B;\\n\\'\n",
    "    selftext = re.sub(r'&amp;#x200B;\\n\\\\', ' ', selftext)\n",
    "    selftext = re.sub(r'‚Äú', ' ', selftext)\n",
    "    selftext = re.sub(r'‚Äô', \"’\", selftext)\n",
    "\n",
    "    # Remove accented characters from text using unidecode\n",
    "    selftext = unidecode(selftext)\n",
    "\n",
    "    # Convert text to lower case\n",
    "    selftext = selftext.lower()\n",
    "\n",
    "    # Remove double spaces, newlines, tabs, and combinations\n",
    "    selftext = re.sub(r' +', ' ', selftext)\n",
    "    selftext = re.sub(r'\\s{2,}', ' ', selftext)\n",
    "    selftext = re.sub(r'&gt;', ' ', selftext)\n",
    "    selftext = selftext.replace('-', ' ')\n",
    "    selftext = selftext.replace('\\\\n', ' ').replace('\\n', ' ').replace('\\t',' ').replace('\\\\', ' ')\n",
    "\n",
    "#     # Remove any numbers, hashtags and mentions - are dealt with separately\n",
    "#     selftext = re.sub(r'\\d+', ' ', selftext)\n",
    "#     selftext = re.sub(r'#\\w+', '', selftext)\n",
    "#     selftext = re.sub(r'@\\w+', '', selftext)\n",
    "\n",
    "    # Reduce repetition to two characters for alphabets and to\n",
    "    # one character for punctuations\n",
    "    Pattern_alpha = re.compile(r\"([A-Za-z])\\1{1,}\", re.DOTALL)\n",
    "    Pattern_Punct = re.compile(r'([.,/#!$%^&*?;:{}=_`~()+-])\\1{1,}')\n",
    "    selftext = Pattern_alpha.sub(r\"\\1\\1\", selftext)\n",
    "    selftext = Pattern_Punct.sub(r'\\1', selftext)\n",
    "    selftext = re.sub(' {2,}',' ', selftext)\n",
    "\n",
    "    # Expand contractions\n",
    "    list_Of_tokens = selftext.split(' ')\n",
    "    for Word in list_Of_tokens:\n",
    "         if Word in CONTRACTION_MAP:\n",
    "                list_Of_tokens = [item.replace(Word, CONTRACTION_MAP[Word]) for item in list_Of_tokens]\n",
    "    selftext = ' '.join(str(e) for e in list_Of_tokens)\n",
    "\n",
    "    # Remove any special character (After hastages & mentions)\n",
    "    selftext = re.sub(r\"[^a-zA-Z0-9:$-,%.?!]+\", ' ', selftext)\n",
    "    selftext = re.sub(r'%', ' ', selftext)\n",
    "\n",
    "    # Removing numbers and punctuations\n",
    "    selftext = re.sub(r\"[^a-zA-Z:$-,%.?!]+\", ' ', selftext)\n",
    "    selftext = re.sub(r'[^\\w\\s]',' ',selftext)\n",
    "\n",
    "    # Remove extra whitespaces from the text\n",
    "    pattern = re.compile(r'\\s+')\n",
    "    Without_whitespace = re.sub(pattern, ' ', selftext)\n",
    "    selftext = Without_whitespace.replace('?', ' ? ').replace(')', ') ')\n",
    "\n",
    "    # Check for spellings in English language - very slow\n",
    "    #spell = Speller(lang='en')\n",
    "    #selftext = spell(selftext)\n",
    "    #selftext = re.sub(r'[^\\w\\s]', '', selftext)\n",
    "    \n",
    "    selftext += ' ' + emojis\n",
    "\n",
    "    return selftext"
   ]
  },
  {
   "cell_type": "code",
   "execution_count": 15,
   "metadata": {},
   "outputs": [],
   "source": [
    "pd.set_option('display.max_rows', None)\n",
    "pd.options.display.max_colwidth = None\n",
    "\n",
    "data['text_sup_clean'] = data['caption'].apply(superficial_cleaning)\n",
    "\n",
    "\n",
    "# collection of words\n",
    "words = np.unique([item for sublist in data['text_sup_clean'].str.split() for item in sublist])\n",
    "documents = np.array(data.index.tolist())\n",
    "\n",
    "# words dictionary\n",
    "words_dict = {v:k for k,v in dict(enumerate(words)).items()}\n",
    "\n",
    "\n",
    "\n",
    "# occurrence matrix for words\n",
    "Mwd = csr_matrix((len(words_dict), data.shape[0]), dtype = np.int8).toarray()\n",
    "\n",
    "for j,doc in data['text_sup_clean'].items():\n",
    "    for word in doc.split():\n",
    "        Mwd[words_dict[word],j] += 1"
   ]
  },
  {
   "cell_type": "code",
   "execution_count": 16,
   "metadata": {},
   "outputs": [
    {
     "data": {
      "image/png": "[encoded data removed]",
      "text/plain": [
       "<Figure size 432x288 with 1 Axes>"
      ]
     },
     "metadata": {
      "needs_background": "light"
     },
     "output_type": "display_data"
    }
   ],
   "source": [
    "plt.figure()\n",
    "plt.semilogy(-np.sort(-np.sum(Mwd,axis=1)))\n",
    "plt.savefig(\"statistics.png\")"
   ]
  },
  {
   "cell_type": "code",
   "execution_count": 17,
   "metadata": {},
   "outputs": [
    {
     "data": {
      "text/plain": [
       "(427, 257)"
      ]
     },
     "metadata": {},
     "output_type": "display_data"
    },
    {
     "data": {
      "image/png": "[encoded data removed]",
      "text/plain": [
       "<Figure size 432x288 with 1 Axes>"
      ]
     },
     "metadata": {
      "needs_background": "light"
     },
     "output_type": "display_data"
    }
   ],
   "source": [
    "# remove words that are used once or twice\n",
    "select = np.sum(Mwd,axis=1) > 2\n",
    "\n",
    "Mwd = Mwd[select,:]\n",
    "words = words[select]\n",
    "\n",
    "# remove documents that do not contain words\n",
    "select = (np.sum(Mwd,axis=0)>0)\n",
    "Mwd = Mwd[:,select]\n",
    "documents = documents[select]\n",
    "\n",
    "# display final matrix size\n",
    "display(Mwd.shape)\n",
    "\n",
    "plt.figure()\n",
    "plt.semilogy(-np.sort(-np.sum(Mwd,axis=1)))\n",
    "plt.savefig(\"statistics.png\")"
   ]
  },
  {
   "cell_type": "code",
   "execution_count": 19,
   "metadata": {},
   "outputs": [
    {
     "data": {
      "image/png": "[encoded data removed]",
      "text/plain": [
       "<Figure size 432x288 with 1 Axes>"
      ]
     },
     "metadata": {
      "needs_background": "light"
     },
     "output_type": "display_data"
    }
   ],
   "source": [
    "# degree distribution for words\n",
    "dw = np.squeeze(np.asarray(Mwd.sum(axis=1))) # words degrees\n",
    "k = np.unique(dw)\n",
    "pk = np.histogram(dw,np.append(k,k[-1]+1))[0]\n",
    "pk = pk/pk.sum()\n",
    "Pk = 1-np.cumsum(pk)\n",
    "fig = plt.figure()\n",
    "plt.loglog(k,pk,'o')\n",
    "plt.title(\"degree distribution for words\", size=16)\n",
    "plt.xlabel(\"k\", size=12)\n",
    "plt.ylabel(\"pk\", size=12)\n",
    "plt.show()"
   ]
  },
  {
   "cell_type": "code",
   "execution_count": 20,
   "metadata": {},
   "outputs": [
    {
     "data": {
      "image/png": "[encoded data removed]",
      "text/plain": [
       "<Figure size 432x288 with 1 Axes>"
      ]
     },
     "metadata": {
      "needs_background": "light"
     },
     "output_type": "display_data"
    }
   ],
   "source": [
    "# degree distribution for documents\n",
    "dd = np.squeeze(np.asarray(Mwd.sum(axis=0))) # documents degrees\n",
    "k = np.unique(dd)\n",
    "pk = np.histogram(dd,np.append(k,k[-1]+1))[0]\n",
    "pk = pk/pk.sum()\n",
    "Pk = 1-np.cumsum(pk)\n",
    "fig = plt.figure()\n",
    "plt.loglog(pk,'o')\n",
    "plt.title(\"degree distribution for documents\", size=16)\n",
    "plt.xlabel(\"k\", size=12)\n",
    "plt.ylabel(\"pk\", size=12)\n",
    "plt.show()"
   ]
  }
 ],
 "metadata": {
  "kernelspec": {
   "display_name": "Python 3",
   "language": "python",
   "name": "python3"
  },
  "language_info": {
   "codemirror_mode": {
    "name": "ipython",
    "version": 3
   },
   "file_extension": ".py",
   "mimetype": "text/x-python",
   "name": "python",
   "nbconvert_exporter": "python",
   "pygments_lexer": "ipython3",
   "version": "3.8.3"
  }
 },
 "nbformat": 4,
 "nbformat_minor": 4
}
