{
 "cells": [
  {
   "cell_type": "code",
   "execution_count": 1,
   "metadata": {},
   "outputs": [
    {
     "name": "stderr",
     "output_type": "stream",
     "text": [
      "C:\\Users\\rdm42\\anaconda3\\lib\\site-packages\\win_unicode_console\\__init__.py:31: RuntimeWarning: sys.stdin.encoding == 'cp1252', whereas sys.stdout.encoding == 'UTF-8', readline hook consumer may assume they are the same\n",
      "  readline_hook.enable(use_pyreadline=use_pyreadline)\n",
      "C:\\Users\\rdm42\\anaconda3\\lib\\site-packages\\pandas\\core\\computation\\expressions.py:20: UserWarning: Pandas requires version '2.7.3' or newer of 'numexpr' (version '2.7.1' currently installed).\n",
      "  from pandas.core.computation.check import NUMEXPR_INSTALLED\n"
     ]
    }
   ],
   "source": [
    "import instaloader\n",
    "\n",
    "import os\n",
    "import re\n",
    "import json\n",
    "import shutil\n",
    "import lzma\n",
    "\n",
    "import time\n",
    "import numpy as np\n",
    "import pandas as pd\n",
    "import matplotlib.pyplot as plt\n",
    "import seaborn as sns\n",
    "\n",
    "download_dir = os.path.join(\"data\",'raw')\n",
    "os.makedirs(download_dir, exist_ok=True)\n",
    "\n",
    "failed_posts = []\n",
    "\n",
    "loader = instaloader.Instaloader()\n",
    "# loader.load_session_from_file('rafadimare')"
   ]
  },
  {
   "cell_type": "code",
   "execution_count": 2,
   "metadata": {},
   "outputs": [
    {
     "name": "stderr",
     "output_type": "stream",
     "text": [
      "<ipython-input-2-6aba05ae1ac3>:15: DeprecationWarning: This package has been superseded by the `leidenalg` package and will no longer be maintained. Please upgrade to the `leidenalg` package.\n",
      "  import louvain\n"
     ]
    }
   ],
   "source": [
    "import string\n",
    "from bs4 import BeautifulSoup\n",
    "import spacy\n",
    "from spacy.lang.en.stop_words import STOP_WORDS\n",
    "\n",
    "import emoji\n",
    "from emoji import UNICODE_EMOJI\n",
    "import contractions\n",
    "from autocorrect import Speller\n",
    "from unidecode import unidecode\n",
    "\n",
    "import scipy.sparse as sps\n",
    "from scipy.sparse import csr_matrix\n",
    "\n",
    "import louvain\n",
    "import igraph as ig"
   ]
  },
  {
   "cell_type": "markdown",
   "metadata": {},
   "source": [
    "# Recuperación de datos"
   ]
  },
  {
   "cell_type": "markdown",
   "metadata": {},
   "source": [
    "## Descarga de posts"
   ]
  },
  {
   "cell_type": "code",
   "execution_count": 3,
   "metadata": {},
   "outputs": [],
   "source": [
    "xl_path = os.path.join('data','resources','database.xlsx')\n",
    "\n",
    "already_downloaded = os.listdir(download_dir)\n",
    "\n",
    "with pd.ExcelFile(xl_path) as xl:\n",
    "    df = xl.parse() \\\n",
    "           .drop(columns=['id']) \\\n",
    "           .dropna(subset=['link']) \\\n",
    "           .eval(\"post_code = link.str.split('/').str[-2]\") \\\n",
    "           .drop_duplicates(subset=['post_code']) \\\n",
    "           .rename(columns={'Objectify (yes or no)':'objectifies'})\n",
    "    \n",
    "pending = df.query(\"~post_code.isin(@already_downloaded)\")\n",
    "pending\n",
    "\n",
    "# Check not to drop the row which contains objectify\n",
    "# Check for missing values on objectify column\n",
    "\n",
    "df.query(\"post_code.isin(@already_downloaded)\").post_code.to_clipboard(index=False, header=False)"
   ]
  },
  {
   "cell_type": "code",
   "execution_count": 4,
   "metadata": {},
   "outputs": [],
   "source": [
    "# for i,post_code in enumerate(pending.post_code.tolist()):\n",
    "    \n",
    "#     print(f\"{i+1} / {len(pending.post_code.tolist())}\")\n",
    "#     try:    \n",
    "#         print(f\"\\tSTART: {pd.Timestamp.now():%H : %M : %S}\")\n",
    "#         print('\\t\\t'+post_code)\n",
    "        \n",
    "#         post = instaloader.Post.from_shortcode(loader.context, post_code)\n",
    "#         loader.download_post(post, target=post_code)\n",
    "\n",
    "#         print(f\"\\t\\tEND: {pd.Timestamp.now():%H : %M : %S}\")\n",
    "#         print(f\"\\n\\nPost {post_code} downloaded successfully\" + \"\\n\" + \"-\"*100 + '\\n'*2)\n",
    "#         shutil.move(post_code, download_dir)\n",
    "        \n",
    "#     except instaloader.exceptions.InstaloaderException as e:\n",
    "#         print(f\"Error: {e}\")\n",
    "#         failed_posts.append((post_code,e))\n",
    "        \n",
    "#     time.sleep(5)"
   ]
  },
  {
   "cell_type": "code",
   "execution_count": 5,
   "metadata": {},
   "outputs": [],
   "source": [
    "# # Simple code to retrieve comments\n",
    "\n",
    "# post_code = \"CW6AeAVq3tJ\"\n",
    "# post = instaloader.Post.from_shortcode(loader.context, post_code)\n",
    "# for comment in post.get_comments():\n",
    "#     print(comment)"
   ]
  },
  {
   "cell_type": "markdown",
   "metadata": {},
   "source": [
    "## Lectura de captions"
   ]
  },
  {
   "cell_type": "code",
   "execution_count": 6,
   "metadata": {},
   "outputs": [],
   "source": [
    "captions = []\n",
    "\n",
    "for post_code in os.listdir(download_dir):\n",
    "    \n",
    "    post_data_path = os.path.join(download_dir,post_code)\n",
    "\n",
    "    txt_file = [file for file in os.listdir(post_data_path) if file.endswith('.txt')][0]\n",
    "    caption_path = os.path.join(post_data_path,txt_file)\n",
    "\n",
    "    with open(caption_path,'r',encoding='utf-8') as f:\n",
    "        caption = f.read().strip()\n",
    "        \n",
    "    captions.append((post_code, caption))\n",
    "    \n",
    "captions = pd.DataFrame(captions, columns=['post_code','caption'])\n",
    "\n",
    "# captions.head(5)\n",
    "# df.merge(captions,on='post_code',how='inner')"
   ]
  },
  {
   "cell_type": "markdown",
   "metadata": {},
   "source": [
    "## Lectura de autocaptions"
   ]
  },
  {
   "cell_type": "code",
   "execution_count": 7,
   "metadata": {},
   "outputs": [
    {
     "data": {
      "text/plain": [
       "count\n",
       "1    243\n",
       "2     13\n",
       "3      2\n",
       "4      1\n",
       "Name: count, dtype: int64"
      ]
     },
     "metadata": {},
     "output_type": "display_data"
    }
   ],
   "source": [
    "autocaptions_path = os.path.join('..','data','auto_gen_captions_rafa.xlsx')\n",
    "cat_codes_path = os.path.join('..','data','dataframe_codigos.xlsx')\n",
    "\n",
    "with pd.ExcelFile(autocaptions_path) as xl:\n",
    "    autocaptions = xl.parse()\n",
    "    \n",
    "autocaptions['Long'] = autocaptions['Long'].apply(os.path.splitext).str[0]\n",
    "autocaptions['Long'] = autocaptions.Long.str.extract(\"(.*UTC)\")[0]\n",
    "    \n",
    "with pd.ExcelFile(cat_codes_path) as xl:\n",
    "    cat_codes = xl.parse(index_col=0)\n",
    "    \n",
    "\n",
    "# Obs!! En el catalogo de codigos, el Long sale más de una vez.\n",
    "# Momentáneamente se descartarán los repetidos\n",
    "display(cat_codes.Long.value_counts().value_counts())\n",
    "\n",
    "cat_codes.drop_duplicates('Long',keep=False,inplace=True)\n",
    "\n",
    "df = autocaptions.merge(cat_codes, on=['Long'], how='outer', validate='m:1', indicator=True)"
   ]
  },
  {
   "cell_type": "code",
   "execution_count": 8,
   "metadata": {},
   "outputs": [],
   "source": [
    "# df"
   ]
  },
  {
   "cell_type": "code",
   "execution_count": 9,
   "metadata": {},
   "outputs": [],
   "source": [
    "#### Obs!!\n",
    "\n",
    "## Las imágenes y posts no son comparables, _no hay una relación\n",
    "## uno a uno_. Hay que recordar que cada post puede tener más de una imagen\n",
    "\n",
    "## Qué hacer? Se podría, por ejemplo, concatenar todas las descripciones de\n",
    "## imágenes asociadas a un mismo post\n",
    "\n"
   ]
  },
  {
   "cell_type": "code",
   "execution_count": 10,
   "metadata": {},
   "outputs": [
    {
     "data": {
      "text/plain": [
       "Long\n",
       "1    763\n",
       "0      1\n",
       "Name: count, dtype: int64"
      ]
     },
     "execution_count": 10,
     "metadata": {},
     "output_type": "execute_result"
    }
   ],
   "source": [
    "path = os.path.join('..','data','downloaded_posts')\n",
    "\n",
    "metadata_files = [file[:-8] for file in os.listdir(path) if file.endswith('.json.xz')]\n",
    "\n",
    "autocaptions.Long.apply(lambda code: metadata_files.count(code)).value_counts()\n",
    "\n",
    "# autocaptions"
   ]
  },
  {
   "cell_type": "code",
   "execution_count": 11,
   "metadata": {},
   "outputs": [],
   "source": [
    "# pd.options.display.max_colwidth = None\n",
    "# autocaptions.sort_values('Long').head(10)"
   ]
  },
  {
   "cell_type": "markdown",
   "metadata": {},
   "source": [
    "## Lectura de autocaptions - V2"
   ]
  },
  {
   "cell_type": "code",
   "execution_count": 12,
   "metadata": {},
   "outputs": [
    {
     "data": {
      "text/html": [
       "<div>\n",
       "<style scoped>\n",
       "    .dataframe tbody tr th:only-of-type {\n",
       "        vertical-align: middle;\n",
       "    }\n",
       "\n",
       "    .dataframe tbody tr th {\n",
       "        vertical-align: top;\n",
       "    }\n",
       "\n",
       "    .dataframe thead th {\n",
       "        text-align: right;\n",
       "    }\n",
       "</style>\n",
       "<table border=\"1\" class=\"dataframe\">\n",
       "  <thead>\n",
       "    <tr style=\"text-align: right;\">\n",
       "      <th></th>\n",
       "      <th>Long</th>\n",
       "      <th>Auto_caption</th>\n",
       "      <th>timestamp</th>\n",
       "      <th>metadata_file</th>\n",
       "    </tr>\n",
       "  </thead>\n",
       "  <tbody>\n",
       "    <tr>\n",
       "      <th>0</th>\n",
       "      <td>2015-11-18_18-26-59_UTC.jpg</td>\n",
       "      <td>a picture of a woman with long black hair sits...</td>\n",
       "      <td>2015-11-18_18-26-59_UTC</td>\n",
       "      <td>..\\data\\downloaded_posts\\2015-11-18_18-26-59_U...</td>\n",
       "    </tr>\n",
       "    <tr>\n",
       "      <th>1</th>\n",
       "      <td>2015-06-01_07-45-08_UTC.jpg</td>\n",
       "      <td>a picture of a woman with black hair and a bla...</td>\n",
       "      <td>2015-06-01_07-45-08_UTC</td>\n",
       "      <td>..\\data\\downloaded_posts\\2015-06-01_07-45-08_U...</td>\n",
       "    </tr>\n",
       "  </tbody>\n",
       "</table>\n",
       "</div>"
      ],
      "text/plain": [
       "                          Long  \\\n",
       "0  2015-11-18_18-26-59_UTC.jpg   \n",
       "1  2015-06-01_07-45-08_UTC.jpg   \n",
       "\n",
       "                                        Auto_caption                timestamp  \\\n",
       "0  a picture of a woman with long black hair sits...  2015-11-18_18-26-59_UTC   \n",
       "1  a picture of a woman with black hair and a bla...  2015-06-01_07-45-08_UTC   \n",
       "\n",
       "                                       metadata_file  \n",
       "0  ..\\data\\downloaded_posts\\2015-11-18_18-26-59_U...  \n",
       "1  ..\\data\\downloaded_posts\\2015-06-01_07-45-08_U...  "
      ]
     },
     "execution_count": 12,
     "metadata": {},
     "output_type": "execute_result"
    }
   ],
   "source": [
    "autocaptions_path = os.path.join('..','data','auto_gen_captions_rafa.xlsx')\n",
    "\n",
    "with pd.ExcelFile(autocaptions_path) as xl:\n",
    "    autocaptions = xl.parse()\n",
    "    \n",
    "autocaptions['timestamp'] = autocaptions['Long'].apply(os.path.splitext).str[0] \\\n",
    "                                                .str.extract(\"(.*UTC)\")[0]\n",
    "\n",
    "path = os.path.join('..','data','downloaded_posts')\n",
    "autocaptions['metadata_file'] = autocaptions['timestamp'] + '.json.xz'\n",
    "autocaptions['metadata_file'] = autocaptions['metadata_file'].apply(lambda f: os.path.join(path,f))\n",
    "autocaptions.head(2)"
   ]
  },
  {
   "cell_type": "code",
   "execution_count": 13,
   "metadata": {},
   "outputs": [
    {
     "data": {
      "text/html": [
       "<div>\n",
       "<style scoped>\n",
       "    .dataframe tbody tr th:only-of-type {\n",
       "        vertical-align: middle;\n",
       "    }\n",
       "\n",
       "    .dataframe tbody tr th {\n",
       "        vertical-align: top;\n",
       "    }\n",
       "\n",
       "    .dataframe thead th {\n",
       "        text-align: right;\n",
       "    }\n",
       "</style>\n",
       "<table border=\"1\" class=\"dataframe\">\n",
       "  <thead>\n",
       "    <tr style=\"text-align: right;\">\n",
       "      <th></th>\n",
       "      <th>Long</th>\n",
       "      <th>Auto_caption</th>\n",
       "      <th>timestamp</th>\n",
       "      <th>metadata_file</th>\n",
       "    </tr>\n",
       "  </thead>\n",
       "  <tbody>\n",
       "    <tr>\n",
       "      <th>218</th>\n",
       "      <td>2021-03-29_12-23-06_UTC.jpg</td>\n",
       "      <td>a picture of a woman with long brown hair wear...</td>\n",
       "      <td>2021-03-29_12-23-06_UTC</td>\n",
       "      <td>..\\data\\downloaded_posts\\2021-03-29_12-23-06_U...</td>\n",
       "    </tr>\n",
       "  </tbody>\n",
       "</table>\n",
       "</div>"
      ],
      "text/plain": [
       "                            Long  \\\n",
       "218  2021-03-29_12-23-06_UTC.jpg   \n",
       "\n",
       "                                          Auto_caption  \\\n",
       "218  a picture of a woman with long brown hair wear...   \n",
       "\n",
       "                   timestamp  \\\n",
       "218  2021-03-29_12-23-06_UTC   \n",
       "\n",
       "                                         metadata_file  \n",
       "218  ..\\data\\downloaded_posts\\2021-03-29_12-23-06_U...  "
      ]
     },
     "execution_count": 13,
     "metadata": {},
     "output_type": "execute_result"
    }
   ],
   "source": [
    "# Hay un archivo de imagen al cual no se le encontró\n",
    "# el correspondiente archivo de metadata\n",
    "\n",
    "exists = autocaptions.metadata_file.apply(os.path.exists)\n",
    "autocaptions[~exists]"
   ]
  },
  {
   "cell_type": "code",
   "execution_count": 14,
   "metadata": {},
   "outputs": [],
   "source": [
    "def retrieve_metadata(metadata_file):\n",
    "    \n",
    "    if os.path.exists(metadata_file):\n",
    "        with lzma.open(metadata_file, 'rt') as file:\n",
    "            data_dict = json.load(file)\n",
    "            \n",
    "        metadata = dict(\n",
    "            metadata_file = metadata_file,\n",
    "            post_code = data_dict['node']['shortcode'],\n",
    "            user = data_dict['node']['owner']['username'],\n",
    "            likes = data_dict['node']['edge_media_preview_like']['count'],\n",
    "        )\n",
    "\n",
    "        return pd.Series(metadata)\n",
    "    \n",
    "    else:\n",
    "        print(f\"File does not exist:\\n\\t{metadata_file}\\n\\n\")\n",
    "        cols = ['metadata_file','post_code','user','likes']\n",
    "        return pd.Series([np.nan]*len(cols),index=cols)"
   ]
  },
  {
   "cell_type": "code",
   "execution_count": 15,
   "metadata": {},
   "outputs": [
    {
     "name": "stdout",
     "output_type": "stream",
     "text": [
      "File does not exist:\n",
      "\t..\\data\\downloaded_posts\\2021-03-29_12-23-06_UTC.json.xz\n",
      "\n",
      "\n"
     ]
    }
   ],
   "source": [
    "metadata_cat = autocaptions['metadata_file'].drop_duplicates().apply(retrieve_metadata)"
   ]
  },
  {
   "cell_type": "code",
   "execution_count": 16,
   "metadata": {},
   "outputs": [],
   "source": [
    "autocaptions = autocaptions.drop(columns=['post_code','user','likes'], errors='ignore') \\\n",
    "                           .merge(metadata_cat, on='metadata_file', how='left', validate='m:1')\n",
    "\n",
    "autocaptions_cat = autocaptions.groupby('post_code')['Auto_caption'] \\\n",
    "                               .apply(lambda s: '\\n'.join(s.tolist())) \\\n",
    "                               .to_frame().reset_index()\n",
    "\n",
    "captions = captions.drop(columns='Auto_caption',errors='ignore') \\\n",
    "                   .merge(autocaptions_cat,how='left',validate='1:1')"
   ]
  },
  {
   "cell_type": "code",
   "execution_count": 17,
   "metadata": {},
   "outputs": [
    {
     "data": {
      "text/html": [
       "<div>\n",
       "<style scoped>\n",
       "    .dataframe tbody tr th:only-of-type {\n",
       "        vertical-align: middle;\n",
       "    }\n",
       "\n",
       "    .dataframe tbody tr th {\n",
       "        vertical-align: top;\n",
       "    }\n",
       "\n",
       "    .dataframe thead th {\n",
       "        text-align: right;\n",
       "    }\n",
       "</style>\n",
       "<table border=\"1\" class=\"dataframe\">\n",
       "  <thead>\n",
       "    <tr style=\"text-align: right;\">\n",
       "      <th></th>\n",
       "      <th>post_code</th>\n",
       "      <th>caption</th>\n",
       "      <th>Auto_caption</th>\n",
       "      <th>text</th>\n",
       "    </tr>\n",
       "  </thead>\n",
       "  <tbody>\n",
       "    <tr>\n",
       "      <th>0</th>\n",
       "      <td>-PHbiexlr_</td>\n",
       "      <td>Stunning Mariana Rodriguez in #amencouture. Se...</td>\n",
       "      <td>a picture of a woman with long black hair sits...</td>\n",
       "      <td>Stunning Mariana Rodriguez in #amencouture. Se...</td>\n",
       "    </tr>\n",
       "    <tr>\n",
       "      <th>1</th>\n",
       "      <td>3YO1o0Rlkt</td>\n",
       "      <td>@emastokholma in Amen embroidered #dress from ...</td>\n",
       "      <td>a picture of a woman with black hair and a bla...</td>\n",
       "      <td>@emastokholma in Amen embroidered #dress from ...</td>\n",
       "    </tr>\n",
       "    <tr>\n",
       "      <th>2</th>\n",
       "      <td>4yqgDyxloK</td>\n",
       "      <td>Stunning DJ @emastokholma wears all over paill...</td>\n",
       "      <td>a picture of a woman with black hair and a bla...</td>\n",
       "      <td>Stunning DJ @emastokholma wears all over paill...</td>\n",
       "    </tr>\n",
       "    <tr>\n",
       "      <th>3</th>\n",
       "      <td>B-y2Fo8qcN_</td>\n",
       "      <td>Crystal Pumps ✨ #AmenStyle #AmenPreSpring20 #A...</td>\n",
       "      <td>a picture of a woman wearing a black jacket an...</td>\n",
       "      <td>Crystal Pumps ✨ #AmenStyle #AmenPreSpring20 #A...</td>\n",
       "    </tr>\n",
       "    <tr>\n",
       "      <th>4</th>\n",
       "      <td>B3__d73i46x</td>\n",
       "      <td>Discover our FW19 Collection on amenstyle.com ...</td>\n",
       "      <td>a picture of a woman in a red dress sits on a ...</td>\n",
       "      <td>Discover our FW19 Collection on amenstyle.com ...</td>\n",
       "    </tr>\n",
       "    <tr>\n",
       "      <th>...</th>\n",
       "      <td>...</td>\n",
       "      <td>...</td>\n",
       "      <td>...</td>\n",
       "      <td>...</td>\n",
       "    </tr>\n",
       "    <tr>\n",
       "      <th>255</th>\n",
       "      <td>CzZIXBVMWdZ</td>\n",
       "      <td>”GUIRLANDE” with @kendalljenner\\nThe holiday c...</td>\n",
       "      <td>a picture of a smiling white woman with brown ...</td>\n",
       "      <td>”GUIRLANDE” with @kendalljenner\\nThe holiday c...</td>\n",
       "    </tr>\n",
       "    <tr>\n",
       "      <th>256</th>\n",
       "      <td>CzZMjcYMP21</td>\n",
       "      <td>This season must-have. @fashionhurricanebyv in...</td>\n",
       "      <td>a picture of a woman with long brown hair wear...</td>\n",
       "      <td>This season must-have. @fashionhurricanebyv in...</td>\n",
       "    </tr>\n",
       "    <tr>\n",
       "      <th>257</th>\n",
       "      <td>fNO52Nxluy</td>\n",
       "      <td>Valentina Vignali looks explosive in a preciou...</td>\n",
       "      <td>a picture of a woman with black hair and a bar...</td>\n",
       "      <td>Valentina Vignali looks explosive in a preciou...</td>\n",
       "    </tr>\n",
       "    <tr>\n",
       "      <th>258</th>\n",
       "      <td>lzQl_gRlnD</td>\n",
       "      <td>Regram @nimabenati #amenstyle #amen #fashion #...</td>\n",
       "      <td>a picture of a young woman with long brown hai...</td>\n",
       "      <td>Regram @nimabenati #amenstyle #amen #fashion #...</td>\n",
       "    </tr>\n",
       "    <tr>\n",
       "      <th>259</th>\n",
       "      <td>mrzAb-Rlkt</td>\n",
       "      <td>RG @nimabenati #amencouture amenstyle.com</td>\n",
       "      <td>a picture of a group of beautiful women, dress...</td>\n",
       "      <td>RG @nimabenati #amencouture amenstyle.com\\n\\na...</td>\n",
       "    </tr>\n",
       "  </tbody>\n",
       "</table>\n",
       "<p>260 rows × 4 columns</p>\n",
       "</div>"
      ],
      "text/plain": [
       "       post_code                                            caption  \\\n",
       "0     -PHbiexlr_  Stunning Mariana Rodriguez in #amencouture. Se...   \n",
       "1     3YO1o0Rlkt  @emastokholma in Amen embroidered #dress from ...   \n",
       "2     4yqgDyxloK  Stunning DJ @emastokholma wears all over paill...   \n",
       "3    B-y2Fo8qcN_  Crystal Pumps ✨ #AmenStyle #AmenPreSpring20 #A...   \n",
       "4    B3__d73i46x  Discover our FW19 Collection on amenstyle.com ...   \n",
       "..           ...                                                ...   \n",
       "255  CzZIXBVMWdZ  ”GUIRLANDE” with @kendalljenner\\nThe holiday c...   \n",
       "256  CzZMjcYMP21  This season must-have. @fashionhurricanebyv in...   \n",
       "257   fNO52Nxluy  Valentina Vignali looks explosive in a preciou...   \n",
       "258   lzQl_gRlnD  Regram @nimabenati #amenstyle #amen #fashion #...   \n",
       "259   mrzAb-Rlkt          RG @nimabenati #amencouture amenstyle.com   \n",
       "\n",
       "                                          Auto_caption  \\\n",
       "0    a picture of a woman with long black hair sits...   \n",
       "1    a picture of a woman with black hair and a bla...   \n",
       "2    a picture of a woman with black hair and a bla...   \n",
       "3    a picture of a woman wearing a black jacket an...   \n",
       "4    a picture of a woman in a red dress sits on a ...   \n",
       "..                                                 ...   \n",
       "255  a picture of a smiling white woman with brown ...   \n",
       "256  a picture of a woman with long brown hair wear...   \n",
       "257  a picture of a woman with black hair and a bar...   \n",
       "258  a picture of a young woman with long brown hai...   \n",
       "259  a picture of a group of beautiful women, dress...   \n",
       "\n",
       "                                                  text  \n",
       "0    Stunning Mariana Rodriguez in #amencouture. Se...  \n",
       "1    @emastokholma in Amen embroidered #dress from ...  \n",
       "2    Stunning DJ @emastokholma wears all over paill...  \n",
       "3    Crystal Pumps ✨ #AmenStyle #AmenPreSpring20 #A...  \n",
       "4    Discover our FW19 Collection on amenstyle.com ...  \n",
       "..                                                 ...  \n",
       "255  ”GUIRLANDE” with @kendalljenner\\nThe holiday c...  \n",
       "256  This season must-have. @fashionhurricanebyv in...  \n",
       "257  Valentina Vignali looks explosive in a preciou...  \n",
       "258  Regram @nimabenati #amenstyle #amen #fashion #...  \n",
       "259  RG @nimabenati #amencouture amenstyle.com\\n\\na...  \n",
       "\n",
       "[260 rows x 4 columns]"
      ]
     },
     "execution_count": 17,
     "metadata": {},
     "output_type": "execute_result"
    }
   ],
   "source": [
    "captions['text'] = captions['caption'] + '\\n\\n' + captions['Auto_caption']\n",
    "captions"
   ]
  },
  {
   "cell_type": "markdown",
   "metadata": {},
   "source": [
    "## Lectura de metadata"
   ]
  },
  {
   "cell_type": "code",
   "execution_count": 18,
   "metadata": {},
   "outputs": [],
   "source": [
    "additional_data = []\n",
    "\n",
    "for i,post_code in enumerate(os.listdir(download_dir)):\n",
    "\n",
    "    post_path = os.path.join(download_dir,post_code)\n",
    "\n",
    "    metadata_path = os.path.join(post_path,\n",
    "                                 [file for file in os.listdir(post_path) if file.endswith('.json.xz')][0])\n",
    "    \n",
    "    with lzma.open(metadata_path, 'rt') as file:\n",
    "        data_dict = json.load(file)\n",
    "        \n",
    "    user = data_dict['node']['owner']['username']\n",
    "    likes = data_dict['node']['edge_media_preview_like']['count']\n",
    "\n",
    "    additional_data.append((post_code,user,likes))\n",
    "\n",
    "addtional_data = pd.DataFrame(additional_data, columns=['post_code','user','likes'])\n",
    "\n",
    "# addtional_data.merge(df).groupby('user').agg({'objectifies':'mean'}).sort_values('objectifies')"
   ]
  },
  {
   "cell_type": "markdown",
   "metadata": {},
   "source": [
    "## Checkpoint"
   ]
  },
  {
   "cell_type": "code",
   "execution_count": 19,
   "metadata": {},
   "outputs": [],
   "source": [
    "output_file = f\"posts_data_{pd.Timestamp.now():%Y%m%d_%H%M}.csv\"\n",
    "output_path = os.path.join('data','standardized',output_file)\n",
    "\n",
    "df.merge(captions).merge(addtional_data).to_csv(output_path,index=False,encoding='UTF-16')"
   ]
  },
  {
   "cell_type": "markdown",
   "metadata": {},
   "source": [
    "# Preparación de datos"
   ]
  },
  {
   "cell_type": "markdown",
   "metadata": {},
   "source": [
    "## Limpieza superficial"
   ]
  },
  {
   "cell_type": "code",
   "execution_count": 20,
   "metadata": {},
   "outputs": [],
   "source": [
    "data_path = os.path.join('data', 'standardized')\n",
    "data_file = os.path.join(data_path,max(os.listdir(data_path)))\n",
    "\n",
    "data = pd.read_csv(data_file,encoding='UTF-16')"
   ]
  },
  {
   "cell_type": "code",
   "execution_count": 21,
   "metadata": {},
   "outputs": [],
   "source": [
    "contraction_map_path = os.path.join('data','resources','CONTRACTION_MAP.json')\n",
    "with open(contraction_map_path,'r') as f:\n",
    "    CONTRACTION_MAP = json.load(f)"
   ]
  },
  {
   "cell_type": "code",
   "execution_count": 22,
   "metadata": {},
   "outputs": [],
   "source": [
    "def superficial_cleaning(selftext):\n",
    "    \n",
    "    emojis = ' '.join([c for c in selftext if c in UNICODE_EMOJI['en']])\n",
    "\n",
    "    selftext = contractions.fix(selftext)\n",
    "\n",
    "    # Remove any HTML tag\n",
    "    soup = BeautifulSoup(selftext, \"html.parser\")\n",
    "    selftext = soup.get_text(separator=\" \")\n",
    "\n",
    "    # Remove any text inside square brackets\n",
    "    selftext = re.sub(r'\\[.*?\\]', '', selftext)\n",
    "\n",
    "    # Remove any website links\n",
    "    selftext = re.sub(r'http\\S+', '', selftext)\n",
    "    selftext = re.sub(r'www.\\S+', '', selftext)\n",
    "    selftext = selftext.replace('. com', '.com')\n",
    "    selftext = re.sub(r\"\\ [A-Za-z]*\\.com\", \" \", selftext)\n",
    "\n",
    "    # Remove any emojis\n",
    "    emoji_pattern = re.compile(\"[\"\n",
    "                       u\"\\U0001F600-\\U0001F64F\"  # emoticons\n",
    "                       u\"\\U0001F300-\\U0001F5FF\"  # symbols & pictographs\n",
    "                       u\"\\U0001F680-\\U0001F6FF\"  # transport & map symbols\n",
    "                       u\"\\U0001F1E0-\\U0001F1FF\"  # flags (iOS)\n",
    "                       u\"\\U0001F92C\"             # 🥴\n",
    "                       u\"\\u2764\"                 # ❤️\n",
    "                       u\"\\u2764\\ufe0f\"           # ❤️ (with variation selector)\n",
    "                       \"]+\", flags=re.UNICODE)\n",
    "    selftext = emoji_pattern.sub(r'', selftext)\n",
    "\n",
    "    # Remove '&amp;#x200B;\\n\\'\n",
    "    selftext = re.sub(r'&amp;#x200B;\\n\\\\', ' ', selftext)\n",
    "    selftext = re.sub(r'‚Äú', ' ', selftext)\n",
    "    selftext = re.sub(r'‚Äô', \"’\", selftext)\n",
    "\n",
    "    # Remove accented characters from text using unidecode\n",
    "    selftext = unidecode(selftext)\n",
    "\n",
    "    # Convert text to lower case\n",
    "    selftext = selftext.lower()\n",
    "\n",
    "    # Remove double spaces, newlines, tabs, and combinations\n",
    "    selftext = re.sub(r' +', ' ', selftext)\n",
    "    selftext = re.sub(r'\\s{2,}', ' ', selftext)\n",
    "    selftext = re.sub(r'&gt;', ' ', selftext)\n",
    "    selftext = selftext.replace('-', ' ')\n",
    "    selftext = selftext.replace('\\\\n', ' ').replace('\\n', ' ').replace('\\t',' ').replace('\\\\', ' ')\n",
    "\n",
    "#     # Remove any numbers, hashtags and mentions - are dealt with separately\n",
    "    selftext = re.sub(r'\\d+', ' ', selftext)\n",
    "#     selftext = re.sub(r'#\\w+', '', selftext)\n",
    "#     selftext = re.sub(r'@\\w+', '', selftext)\n",
    "\n",
    "    # Reduce repetition to two characters for alphabets and to\n",
    "    # one character for punctuations\n",
    "    Pattern_alpha = re.compile(r\"([A-Za-z])\\1{1,}\", re.DOTALL)\n",
    "    Pattern_Punct = re.compile(r'([.,/#!$%^&*?;:{}=_`~()+-])\\1{1,}')\n",
    "    selftext = Pattern_alpha.sub(r\"\\1\\1\", selftext)\n",
    "    selftext = Pattern_Punct.sub(r'\\1', selftext)\n",
    "    selftext = re.sub(' {2,}',' ', selftext)\n",
    "\n",
    "    # Expand contractions\n",
    "    list_Of_tokens = selftext.split(' ')\n",
    "    for Word in list_Of_tokens:\n",
    "         if Word in CONTRACTION_MAP:\n",
    "                list_Of_tokens = [item.replace(Word, CONTRACTION_MAP[Word]) for item in list_Of_tokens]\n",
    "    selftext = ' '.join(str(e) for e in list_Of_tokens)\n",
    "\n",
    "    # Remove any special character (After hastages & mentions)\n",
    "    selftext = re.sub(r\"[^a-zA-Z0-9:$-,%.?!]+\", ' ', selftext)\n",
    "    selftext = re.sub(r'%', ' ', selftext)\n",
    "\n",
    "    # Removing numbers and punctuations\n",
    "    selftext = re.sub(r\"[^a-zA-Z:$-,%.?!]+\", ' ', selftext)\n",
    "    selftext = re.sub(r'[^\\w\\s]',' ',selftext)\n",
    "\n",
    "    # Remove extra whitespaces from the text\n",
    "    pattern = re.compile(r'\\s+')\n",
    "    Without_whitespace = re.sub(pattern, ' ', selftext)\n",
    "    selftext = Without_whitespace.replace('?', ' ? ').replace(')', ') ')\n",
    "\n",
    "    # Check for spellings in English language - very slow\n",
    "    #spell = Speller(lang='en')\n",
    "    #selftext = spell(selftext)\n",
    "    #selftext = re.sub(r'[^\\w\\s]', '', selftext)\n",
    "    \n",
    "    selftext += ' ' + emojis\n",
    "\n",
    "    return selftext"
   ]
  },
  {
   "cell_type": "code",
   "execution_count": 23,
   "metadata": {},
   "outputs": [],
   "source": [
    "# pd.set_option('display.max_rows', None)\n",
    "# pd.options.display.max_colwidth = None\n",
    "\n",
    "text_col = 'text'\n",
    "\n",
    "data['text_sup_clean'] = data[text_col].apply(superficial_cleaning)\n",
    "\n",
    "\n",
    "# collection of words\n",
    "words = np.unique([item for sublist in data['text_sup_clean'].str.split() for item in sublist])\n",
    "documents = data[text_col].values\n",
    "\n",
    "# words dictionary\n",
    "words_dict = {v:k for k,v in enumerate(words)}"
   ]
  },
  {
   "cell_type": "markdown",
   "metadata": {},
   "source": [
    "## Exploración inicial"
   ]
  },
  {
   "cell_type": "code",
   "execution_count": 24,
   "metadata": {},
   "outputs": [],
   "source": [
    "# occurrence matrix for words\n",
    "Mwd = csr_matrix((len(words_dict), data.shape[0]), dtype = np.int8).toarray()\n",
    "\n",
    "for j,doc in data['text_sup_clean'].items():\n",
    "    for word in doc.split():\n",
    "        Mwd[words_dict[word],j] += 1"
   ]
  },
  {
   "cell_type": "code",
   "execution_count": 25,
   "metadata": {},
   "outputs": [
    {
     "data": {
      "text/plain": [
       "[<matplotlib.lines.Line2D at 0x1dec3243790>]"
      ]
     },
     "execution_count": 25,
     "metadata": {},
     "output_type": "execute_result"
    },
    {
     "data": {
      "image/png": "[encoded data removed]",
      "text/plain": [
       "<Figure size 432x288 with 1 Axes>"
      ]
     },
     "metadata": {
      "needs_background": "light"
     },
     "output_type": "display_data"
    }
   ],
   "source": [
    "plt.figure()\n",
    "plt.semilogy(-np.sort(-np.sum(Mwd,axis=1)))"
   ]
  },
  {
   "cell_type": "code",
   "execution_count": 26,
   "metadata": {},
   "outputs": [
    {
     "data": {
      "text/plain": [
       "(311, 114)"
      ]
     },
     "metadata": {},
     "output_type": "display_data"
    },
    {
     "data": {
      "text/plain": [
       "[<matplotlib.lines.Line2D at 0x1dec2bc1370>]"
      ]
     },
     "execution_count": 26,
     "metadata": {},
     "output_type": "execute_result"
    },
    {
     "data": {
      "image/png": "[encoded data removed]",
      "text/plain": [
       "<Figure size 432x288 with 1 Axes>"
      ]
     },
     "metadata": {
      "needs_background": "light"
     },
     "output_type": "display_data"
    }
   ],
   "source": [
    "# remove words that are used once or twice\n",
    "select = Mwd.sum(axis=1) > 2\n",
    "Mwd = Mwd[select,:]\n",
    "words = words[select]\n",
    "\n",
    "# remove documents that do not contain words\n",
    "select = Mwd.sum(axis=0) > 0\n",
    "Mwd = Mwd[:,select]\n",
    "documents = documents[select]\n",
    "\n",
    "# display final matrix size\n",
    "display(Mwd.shape)\n",
    "\n",
    "plt.figure()\n",
    "plt.semilogy(-np.sort(-np.sum(Mwd,axis=1)))"
   ]
  },
  {
   "cell_type": "code",
   "execution_count": 27,
   "metadata": {},
   "outputs": [
    {
     "data": {
      "image/png": "[encoded data removed]",
      "text/plain": [
       "<Figure size 432x288 with 1 Axes>"
      ]
     },
     "metadata": {
      "needs_background": "light"
     },
     "output_type": "display_data"
    }
   ],
   "source": [
    "# degree distribution for words\n",
    "dw = np.squeeze(Mwd.sum(axis=1)) # words degrees\n",
    "k = np.unique(dw)\n",
    "pk = np.histogram(dw,np.append(k,k[-1]+1))[0]\n",
    "pk = pk/pk.sum()\n",
    "Pk = 1-np.cumsum(pk)\n",
    "\n",
    "fig = plt.figure()\n",
    "plt.loglog(k,pk,'o')\n",
    "plt.title(\"Word degree distribution\", size=16)\n",
    "plt.xlabel(\"k\", size=12)\n",
    "plt.ylabel(\"$p_k$\", size=12)\n",
    "plt.show()"
   ]
  },
  {
   "cell_type": "code",
   "execution_count": 28,
   "metadata": {},
   "outputs": [
    {
     "data": {
      "image/png": "[encoded data removed]",
      "text/plain": [
       "<Figure size 432x288 with 1 Axes>"
      ]
     },
     "metadata": {
      "needs_background": "light"
     },
     "output_type": "display_data"
    }
   ],
   "source": [
    "# degree distribution for documents\n",
    "dd = np.squeeze(Mwd.sum(axis=0)) # documents degrees\n",
    "k = np.unique(dd)\n",
    "pk = np.histogram(dd,np.append(k,k[-1]+1))[0]\n",
    "pk = pk/pk.sum()\n",
    "Pk = 1-np.cumsum(pk)\n",
    "fig = plt.figure()\n",
    "\n",
    "plt.loglog(pk,'o')\n",
    "plt.title(\"Document degree distribution\", size=16)\n",
    "plt.xlabel(\"k\", size=12)\n",
    "plt.ylabel(\"pk\", size=12)\n",
    "plt.show()"
   ]
  },
  {
   "cell_type": "markdown",
   "metadata": {},
   "source": [
    "## Construcción de matrices"
   ]
  },
  {
   "cell_type": "code",
   "execution_count": 29,
   "metadata": {},
   "outputs": [
    {
     "name": "stdout",
     "output_type": "stream",
     "text": [
      "removing: a, and, at, bare, black, blue, brown, by, collection, dress, for, front, hair, hand, her, in, is, long, of, on, picture, sits, stands, the, to, visible, wall, wearing, wears, white, with, woman, \n"
     ]
    }
   ],
   "source": [
    "def clean_Mwd_matrix(Mwd,words,documents):\n",
    "\n",
    "    # remove elements that are too central, e.g., #covid19\n",
    "    not_wanted = Mwd.sum(axis=1) > Mwd.shape[1]/4\n",
    "    text = \"removing: \" + \", \".join(words[not_wanted])\n",
    "    words = words[~not_wanted]\n",
    "    Mwd = Mwd[~not_wanted,:]\n",
    "\n",
    "    # remove documents and words with fewer than 2 links\n",
    "    while True:\n",
    "        dim_old = Mwd.size\n",
    "        \n",
    "        # remove documents with less than 2 words\n",
    "        wanted = Mwd.sum(axis=0) >= 2\n",
    "        Mwd = Mwd[:,wanted]\n",
    "        documents = documents[wanted]\n",
    "\n",
    "        # remove words in less than 2 documents\n",
    "        not_wanted = Mwd.sum(axis=1) < 2\n",
    "        text = text + \", \" + \", \".join(words[not_wanted])\n",
    "        words = words[~not_wanted]\n",
    "        Mwd = Mwd[~not_wanted,:]\n",
    "        \n",
    "        # exit criterion\n",
    "        if (dim_old == Mwd.size): break\n",
    "\n",
    "    print(text)\n",
    "    return Mwd, words, documents\n",
    "\n",
    "def logg(x):\n",
    "    y = np.log(x)\n",
    "    y[x==0] = 0\n",
    "    return y\n",
    "\n",
    "\n",
    "\n",
    "##### Por qué los productos se definen así???\n",
    "\n",
    "def probability_matrices(Mwd, equalik = True, tform = False):\n",
    "\n",
    "    if equalik: # documents equally likely\n",
    "        Pwd = Mwd/Mwd.sum(axis=0) #/ Mwd.shape[1]    ## Por qué aquí se divide entre el número de columnas???\n",
    "        \n",
    "    else: # documents proportional to their length\n",
    "        Pwd = Mwd / Mwd.sum()                       ## Aquí la suma por columnas no da 1!!! entonces no es matriz estocástica\n",
    "    # TF-IDF format\n",
    "    \n",
    "    if (tform):\n",
    "        iw = -logg(np.sum(Mwd>0,axis=1).flatten()/Mwd.shape[1])\n",
    "        Pwd = sps.diags(np.array(iw)[0])*Pwd # TF-IDF form\n",
    "        Pwd = Pwd/Pwd.sum() # normalize, treat it as Pwd\n",
    "        \n",
    "    \n",
    "    \n",
    "    # Creo que aquí debe ser .dot ..............\n",
    "    \n",
    "    # words and document matrices\n",
    "    pd = Pwd.sum(axis=0)\n",
    "    Pww = (Pwd/pd).dot(Pwd.T)\n",
    "    \n",
    "    pw = Pwd.sum(axis=1)\n",
    "    Pdd = (Pwd.T/pw).dot(Pwd)\n",
    "    \n",
    "    \n",
    "    # Aquí no entiendo y no sé qué utilidad tiene.............................\n",
    "    \n",
    "    # joint words and document matrix - documents first\n",
    "    Paa = sps.hstack((sps.csr_matrix((Pwd.shape[1],Pwd.shape[1])),Pwd.T))\n",
    "    Paa = sps.vstack((Paa,sps.hstack((Pwd,sps.csr_matrix((Pwd.shape[0],Pwd.shape[0]))))))\n",
    "    Paa = Paa/2.0\n",
    "\n",
    "    \n",
    "    \n",
    "    # Los auto-enlaces están permitidos????\n",
    "    \n",
    "    return Pwd, Pww, Pdd, Paa\n",
    "\n",
    "Mwd, words, documents = clean_Mwd_matrix(Mwd,words,documents)\n",
    "Pwd, Pww, Pdd, Paa = probability_matrices(Mwd, tform=False)"
   ]
  },
  {
   "cell_type": "code",
   "execution_count": 30,
   "metadata": {},
   "outputs": [
    {
     "name": "stdout",
     "output_type": "stream",
     "text": [
      "Network's gamma is 2.68\n"
     ]
    }
   ],
   "source": [
    "k = Mwd.sum(axis=1)\n",
    "\n",
    "gamma = 1 + k.size/np.log(k / k.min()).sum()\n",
    "\n",
    "print(f\"Network's gamma is {gamma:.2f}\")"
   ]
  },
  {
   "cell_type": "code",
   "execution_count": 31,
   "metadata": {},
   "outputs": [
    {
     "data": {
      "image/png": "[encoded data removed]",
      "text/plain": [
       "<Figure size 432x288 with 1 Axes>"
      ]
     },
     "metadata": {
      "needs_background": "light"
     },
     "output_type": "display_data"
    }
   ],
   "source": [
    "# AQUÍ HACE FALTA CALCULAR LA GAMMA\n",
    "\n",
    "dw = Mwd.sum(axis=1) # words degrees\n",
    "k = np.unique(dw)\n",
    "pk = np.histogram(dw,np.append(k,k[-1]+1))[0]\n",
    "pk = pk/pk.sum()\n",
    "Pk = 1-np.cumsum(pk)\n",
    "\n",
    "fig = plt.figure()\n",
    "plt.loglog(k,pk,'o')\n",
    "plt.title(\"Word degree distribution\", size=16)\n",
    "plt.xlabel(\"k\", size=12)\n",
    "plt.ylabel(\"$p_k$\", size=12)\n",
    "plt.show()"
   ]
  },
  {
   "cell_type": "code",
   "execution_count": 37,
   "metadata": {},
   "outputs": [],
   "source": [
    "df = pd.DataFrame(Pww,index=words,columns=words) \\\n",
    "       .stack() \\\n",
    "       .to_frame() \\\n",
    "       .reset_index(names = ['Source','Target']) \\\n",
    "       .rename(columns={0:'Weight'}) \\\n",
    "       .query(\"Weight > 0\") \\\n",
    "       .query(\"Source != Target\") \\\n",
    "       .replace(UNICODE_EMOJI['en'])\n",
    "\n",
    "df['temp_key'] = df.apply(lambda row: ''.join(sorted([row['Source'],row['Target']])),axis=1)\n",
    "df = df.drop_duplicates('temp_key') \\\n",
    "       .drop(columns=['temp_key'])\n",
    "\n",
    "df.sort_values('Weight')[['Source','Target','Weight']] \\\n",
    "  .to_csv('data/processed/links.csv',encoding='UTF-16',index=False)"
   ]
  },
  {
   "cell_type": "code",
   "execution_count": 39,
   "metadata": {},
   "outputs": [
    {
     "data": {
      "text/plain": [
       "(279, 2)"
      ]
     },
     "execution_count": 39,
     "metadata": {},
     "output_type": "execute_result"
    }
   ],
   "source": [
    "pd.concat([df.Source,df.Target],ignore_index=True) \\\n",
    "  .drop_duplicates() \\\n",
    "  .to_frame() \\\n",
    "  .rename(columns={0:'Id'}) \\\n",
    "  .eval(\"Label=Id\") \\\n",
    "  .to_csv('data/processed/nodes.csv',encoding='UTF-16',index=False)"
   ]
  },
  {
   "cell_type": "code",
   "execution_count": 34,
   "metadata": {},
   "outputs": [
    {
     "data": {
      "image/png": "[encoded data removed]",
      "text/plain": [
       "<Figure size 432x288 with 1 Axes>"
      ]
     },
     "metadata": {
      "needs_background": "light"
     },
     "output_type": "display_data"
    }
   ],
   "source": [
    "plt.imshow(Mwd, interpolation='nearest')\n",
    "plt.show()"
   ]
  },
  {
   "cell_type": "code",
   "execution_count": 35,
   "metadata": {},
   "outputs": [
    {
     "data": {
      "image/png": "[encoded data removed]",
      "text/plain": [
       "<Figure size 432x288 with 1 Axes>"
      ]
     },
     "metadata": {
      "needs_background": "light"
     },
     "output_type": "display_data"
    }
   ],
   "source": [
    "plt.imshow(Pww, interpolation='nearest')\n",
    "plt.show()"
   ]
  },
  {
   "cell_type": "code",
   "execution_count": 36,
   "metadata": {},
   "outputs": [
    {
     "data": {
      "image/png": "[encoded data removed]",
      "text/plain": [
       "<Figure size 432x288 with 1 Axes>"
      ]
     },
     "metadata": {
      "needs_background": "light"
     },
     "output_type": "display_data"
    }
   ],
   "source": [
    "plt.imshow(Pdd, interpolation='nearest')\n",
    "plt.show()"
   ]
  }
 ],
 "metadata": {
  "kernelspec": {
   "display_name": "Python 3 (ipykernel)",
   "language": "python",
   "name": "python3"
  },
  "language_info": {
   "codemirror_mode": {
    "name": "ipython",
    "version": 3
   },
   "file_extension": ".py",
   "mimetype": "text/x-python",
   "name": "python",
   "nbconvert_exporter": "python",
   "pygments_lexer": "ipython3",
   "version": "3.11.5"
  }
 },
 "nbformat": 4,
 "nbformat_minor": 4
}
