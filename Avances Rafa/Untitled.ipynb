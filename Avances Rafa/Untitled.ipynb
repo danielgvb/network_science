{
 "cells": [
  {
   "cell_type": "code",
   "execution_count": 6,
   "metadata": {},
   "outputs": [],
   "source": [
    "import os\n",
    "\n",
    "from openpyxl import Workbook\n",
    "from openpyxl.drawing.image import Image\n",
    "from openpyxl.utils import get_column_letter"
   ]
  },
  {
   "cell_type": "code",
   "execution_count": 9,
   "metadata": {},
   "outputs": [],
   "source": [
    "img_path = '2015-07-06_10-38-30_UTC.jpg'\n",
    "\n",
    "wb = Workbook()\n",
    "ws = wb.active\n",
    "\n",
    "img = Image(img_path)\n",
    "\n",
    "ws.add_image(img,'C5')\n",
    "\n",
    "wb.save('IMG_TEST.xlsx')"
   ]
  },
  {
   "cell_type": "code",
   "execution_count": 34,
   "metadata": {},
   "outputs": [
    {
     "data": {
      "text/plain": [
       "['2015-07-06_10-38-30_UTC.jpg', '2023-11-25_08-00-36_UTC.jpg']"
      ]
     },
     "execution_count": 34,
     "metadata": {},
     "output_type": "execute_result"
    }
   ],
   "source": [
    "[f for f in os.listdir() if f.endswith('.jpg')]"
   ]
  },
  {
   "cell_type": "code",
   "execution_count": 32,
   "metadata": {},
   "outputs": [],
   "source": [
    "from openpyxl import Workbook\n",
    "\n",
    "# Create a new Excel workbook\n",
    "workbook = Workbook()\n",
    "\n",
    "# Select the active sheet\n",
    "sheet = workbook.active\n",
    "\n",
    "# Set the height of rows to 70\n",
    "for row_num in range(1, 10):\n",
    "    sheet.row_dimensions[row_num].height = 70\n",
    "\n",
    "# Set the height of column C cells to 300\n",
    "sheet.column_dimensions['C'].width = 70\n",
    "\n",
    "# Save the workbook to a file\n",
    "workbook.save('example_set_dimensions.xlsx')"
   ]
  },
  {
   "cell_type": "code",
   "execution_count": 61,
   "metadata": {},
   "outputs": [],
   "source": [
    "from openpyxl import Workbook\n",
    "from openpyxl.drawing.image import Image\n",
    "from PIL import Image as PILImage\n",
    "\n",
    "workbook = Workbook()\n",
    "sheet = workbook.active\n",
    "\n",
    "cell_height = 200\n",
    "cell_width = 40\n",
    "\n",
    "\n",
    "sheet.column_dimensions['C'].width = cell_width\n",
    "image_paths = ['2015-07-06_10-38-30_UTC.jpg', '2023-11-25_08-00-36_UTC.jpg']\n",
    "\n",
    "for i, img_path in enumerate(image_paths, start=1):\n",
    "    sheet.row_dimensions[i+1].height = cell_height\n",
    "    \n",
    "    with PILImage.open(img_path) as pil_img:\n",
    "        img_width, img_height = pil_img.size\n",
    "        aspect_ratio = img_width / img_height\n",
    "\n",
    "    img = Image(img_path)\n",
    "    img.height = cell_height\n",
    "    img.width = aspect_ratio * cell_height\n",
    "\n",
    "    cell_reference = f'C{1 + i}'\n",
    "    sheet.add_image(img, cell_reference)\n",
    "\n",
    "# Save the workbook to a file\n",
    "workbook.save('example_insert_images_pillow.xlsx')\n"
   ]
  }
 ],
 "metadata": {
  "kernelspec": {
   "display_name": "Python 3",
   "language": "python",
   "name": "python3"
  },
  "language_info": {
   "codemirror_mode": {
    "name": "ipython",
    "version": 3
   },
   "file_extension": ".py",
   "mimetype": "text/x-python",
   "name": "python",
   "nbconvert_exporter": "python",
   "pygments_lexer": "ipython3",
   "version": "3.8.3"
  }
 },
 "nbformat": 4,
 "nbformat_minor": 4
}
