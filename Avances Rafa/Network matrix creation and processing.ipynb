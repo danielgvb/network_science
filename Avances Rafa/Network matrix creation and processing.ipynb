{
 "cells": [
  {
   "cell_type": "code",
   "execution_count": 1,
   "metadata": {},
   "outputs": [
    {
     "name": "stderr",
     "output_type": "stream",
     "text": [
      "C:\\Users\\rdm42\\anaconda3\\lib\\site-packages\\pandas\\core\\computation\\expressions.py:20: UserWarning: Pandas requires version '2.7.3' or newer of 'numexpr' (version '2.7.1' currently installed).\n",
      "  from pandas.core.computation.check import NUMEXPR_INSTALLED\n",
      "<ipython-input-1-311869d41af1>:21: DeprecationWarning: This package has been superseded by the `leidenalg` package and will no longer be maintained. Please upgrade to the `leidenalg` package.\n",
      "  import louvain\n"
     ]
    }
   ],
   "source": [
    "import os\n",
    "import json\n",
    "import shutil\n",
    "import lzma\n",
    "import warnings\n",
    "\n",
    "import numpy as np\n",
    "import pandas as pd\n",
    "\n",
    "import matplotlib.pyplot as plt\n",
    "import seaborn as sns\n",
    "sns.set_theme()\n",
    "\n",
    "import scipy\n",
    "import scipy.sparse as sps\n",
    "from scipy.sparse import csr_matrix\n",
    "import scipy.stats as st\n",
    "from random import shuffle\n",
    "\n",
    "import networkx as nx\n",
    "import louvain\n",
    "import igraph as ig"
   ]
  },
  {
   "cell_type": "code",
   "execution_count": 101,
   "metadata": {},
   "outputs": [],
   "source": [
    "def plot_degree_summary(Mwd=None, G=None):\n",
    "    \n",
    "    if G is None:\n",
    "        dw = Mwd.sum(axis=1)\n",
    "        print(f\"Number of words: {Mwd.shape[0]}\")\n",
    "        print(f\"Number of documents: {Mwd.shape[1]}\")\n",
    "    else:\n",
    "        dw = pd.Series(dict(G.degree()))\n",
    "        print(f\"Number of words: {len(G)}\")\n",
    "        \n",
    "\n",
    "    # Summary analysis of the network:\n",
    "    gamma = 1 + dw.size/np.log(dw / dw.min()).sum()\n",
    "    print(f\"Network's gamma is {gamma:.2f}\")\n",
    "\n",
    "\n",
    "    fig, axs = plt.subplots(1, 2, figsize=(12, 5))\n",
    "    plt.suptitle(\"Word degree summary\", size=20)\n",
    "\n",
    "    # Words' degrees\n",
    "\n",
    "    n = 6\n",
    "    s = dw.sort_values(ascending=False)\n",
    "    custom_ticks = [min((s.size//n)*l,s.size-1) for l in range(n+1)]\n",
    "    custom_labels = s.index[custom_ticks]\n",
    "\n",
    "    axs[0].set_title(\"Degrees\", size=16)\n",
    "    axs[0].set_ylabel(\"Word count across documents\", size=12)\n",
    "    axs[0].semilogy(s)\n",
    "    axs[0].set_xticks(custom_ticks)\n",
    "    axs[0].set_xticklabels(custom_labels, rotation=30)\n",
    "\n",
    "\n",
    "    # Words degree distribution\n",
    "\n",
    "    k = np.unique(dw)\n",
    "    pk = np.histogram(dw,np.append(k,k[-1]+1))[0]\n",
    "    pk = pk/pk.sum()\n",
    "    # Pk = 1-np.cumsum(pk)\n",
    "    p_ideal = ((gamma-1)/k.min()) * ((k/k.min())**(-gamma))\n",
    "\n",
    "    label = r'$\\gamma$' + f\" = {gamma:.2f}\\n\" + r'$k_{min}$' + f\" = {k.min()}\"\n",
    "    axs[1].loglog(k, pk, 'o')\n",
    "    axs[1].loglog(k, p_ideal,label=label)\n",
    "    axs[1].set_title(\"Distribution\", size=16)\n",
    "    axs[1].set_xlabel(\"k\", size=12)\n",
    "    axs[1].set_ylabel(\"$p_k$\", size=12)\n",
    "    axs[1].legend(loc='upper right')\n",
    "\n",
    "    plt.tight_layout()\n",
    "    \n",
    "    return gamma, fig, axs"
   ]
  },
  {
   "cell_type": "code",
   "execution_count": 3,
   "metadata": {},
   "outputs": [],
   "source": [
    "def clean_Mwd_matrix(Mwd,words,documents,thresh=2):\n",
    "\n",
    "    # remove elements that are too central, e.g., #covid19\n",
    "    not_wanted = Mwd.sum(axis=1) > Mwd.shape[1]/4\n",
    "    text = \"removing: \" + \", \".join(words[not_wanted])\n",
    "    words = words[~not_wanted]\n",
    "    Mwd = Mwd[~not_wanted,:]\n",
    "\n",
    "    # remove documents and words with fewer than 2 links\n",
    "    while True:\n",
    "        dim_old = Mwd.size\n",
    "        \n",
    "        # remove documents with less than 2 words\n",
    "        wanted = Mwd.sum(axis=0) >= thresh\n",
    "        Mwd = Mwd[:,wanted]\n",
    "        documents = documents[wanted]\n",
    "\n",
    "        # remove words in less than 2 documents\n",
    "        wanted = Mwd.sum(axis=1) >= thresh\n",
    "        text = text + \", \" + \", \".join(words[~wanted])\n",
    "        words = words[wanted]\n",
    "        Mwd = Mwd[wanted,:]\n",
    "        \n",
    "        # exit criterion\n",
    "        if (dim_old == Mwd.size): break\n",
    "\n",
    "    print(text)\n",
    "    return Mwd, words, documents\n",
    "\n",
    "def logg(x):\n",
    "    y = np.log(x)\n",
    "    y[x==0] = 0\n",
    "    return y\n",
    "\n",
    "\n",
    "\n",
    "def probability_matrices(Mwd, equalik = True, tform = False):\n",
    "\n",
    "    if equalik: # documents equally likely\n",
    "        Pwd = Mwd/Mwd.sum(axis=0) / Mwd.shape[1]\n",
    "        \n",
    "    else: # documents proportional to their length\n",
    "        Pwd = Mwd / Mwd.sum()\n",
    "        \n",
    "    # TF-IDF format\n",
    "    if (tform):\n",
    "        iw = -logg(np.sum(Mwd>0,axis=1)/Mwd.shape[1])\n",
    "        Pwd = sps.diags(np.array(iw)[0]).dot(Pwd) # TF-IDF form\n",
    "        Pwd = Pwd/Pwd.sum() # normalize, treat it as Pwd\n",
    "        \n",
    "    \n",
    "    \n",
    "    # Creo que aquí debe ser .dot ..............\n",
    "    \n",
    "    # words and document matrices\n",
    "    pd = Pwd.sum(axis=0)\n",
    "    Pww = (Pwd/pd).dot(Pwd.T)\n",
    "    \n",
    "    pw = Pwd.sum(axis=1)\n",
    "    Pdd = (Pwd.T/pw).dot(Pwd)\n",
    "    \n",
    "    \n",
    "    # joint words and document matrix - documents first\n",
    "    Paa = sps.hstack((sps.csr_matrix((Pwd.shape[1],Pwd.shape[1])),Pwd.T))\n",
    "    Paa = sps.vstack((Paa,sps.hstack((Pwd,sps.csr_matrix((Pwd.shape[0],Pwd.shape[0]))))))\n",
    "    Paa = Paa/2.0\n",
    "    \n",
    "    return Pwd, Pww, Pdd, Paa"
   ]
  },
  {
   "cell_type": "code",
   "execution_count": 4,
   "metadata": {},
   "outputs": [],
   "source": [
    "def my_soft_louvain(A, C_start=None, seed=42):\n",
    "    \"\"\"\n",
    "    Find the best partition of a graph using the Louvain Community Detection\n",
    "    Algorithm.\n",
    "\n",
    "    References\n",
    "    [1] Blondel, V.D. et al. Fast unfolding of communities in large networks.\n",
    "        J. Stat. Mech 10008, 1-12(2008).\n",
    "        https://doi.org/10.1088/1742-5468/2008/10/P10008\n",
    "    [2] Traag, V.A., Waltman, L. & van Eck, N.J. From Louvain to Leiden:\n",
    "        guaranteeing well-connected communities. Sci Rep 9, 5233 (2019).\n",
    "        https://doi.org/10.1038/s41598-019-41695-z\n",
    "    [3] Nicolas Dugué, Anthony Perez. Directed Louvain : maximizing modularity\n",
    "        in directed networks. [Research Report] Université d’Orléans. 2015.\n",
    "        hal-01231784. https://hal.archives-ouvertes.fr/hal-01231784\n",
    "    \"\"\"\n",
    "\n",
    "    np.random.seed(seed)\n",
    "    \n",
    "    # normalize matrix - otherwise it doesn't work -  read by rows\n",
    "    A = sps.csr_matrix(A)/A.sum()\n",
    "    \n",
    "    # initialize the community assignment matrix to \"each node is a community\"\n",
    "    C = sps.csr_matrix(sps.identity(A.shape[0], dtype='float'))\n",
    "    \n",
    "    # starting assignment\n",
    "    if C_start is None:\n",
    "        C_start = sps.csr_matrix(sps.identity(A.shape[0], dtype='float'))\n",
    "\n",
    "    \n",
    "    # main loop for the different layers of Louvain\n",
    "    while True:\n",
    "        # improve modularity in this layer\n",
    "        Clayer, improvement = _my_one_level(A,C_start)\n",
    "        \n",
    "        if not improvement: break\n",
    "        \n",
    "        # Update variables according to the new clusters\n",
    "        C = C*Clayer\n",
    "        A = Clayer.T*(A*Clayer)\n",
    "        \n",
    "        # initialize the community assignment matrix to \"each node is a community\"\n",
    "        C_start = sps.csr_matrix(sps.identity(A.shape[0], dtype='float'))\n",
    "\n",
    "    # return community assignments and resulting adjacency matrix\n",
    "    Q = modularity_function(A)\n",
    "    return C, A, Q\n",
    "\n",
    "\n",
    "def _my_one_level(A,C):\n",
    "\n",
    "    N = A.shape[0] # number of nodes\n",
    "    rand_nodes = list(range(N)) # random nodes list\n",
    "    shuffle(rand_nodes) # shuffle random nodes list\n",
    "\n",
    "    d_in = A.sum(axis=1).T # input degrees - row vector\n",
    "    d_out = A.sum(axis=0) # output degrees - row vector\n",
    "    A = A + A.T # sum easily accessible by row\n",
    "\n",
    "    # main loop - loop until you do not see any improvement\n",
    "    improvement = False\n",
    "    while True:\n",
    "\n",
    "        # counter for the number of nodes changing community\n",
    "        nb_moves = 0\n",
    "        \n",
    "        # test each node\n",
    "        for i in rand_nodes:\n",
    "            # get the community of node i\n",
    "            ci_old = C[i,0:C.shape[1]].toarray()[0]\n",
    "            \n",
    "            # modify C for our purposes, i.e., exclude node i\n",
    "            C[i,0:C.shape[1]] = 0\n",
    "            \n",
    "            # build vector v for evaluating modularity increase\n",
    "            v = ( A[i] - d_out[0,i]*d_in - d_in[0,i]*d_out )/2\n",
    "            \n",
    "            # find the maximum - best community\n",
    "            ci = soft_assign(v[0,i], np.array(v*C)[0])\n",
    "            \n",
    "            # update matrix\n",
    "            C[i,0:C.shape[1]] = ci\n",
    "            \n",
    "            # update counter (if needed)\n",
    "            nb_moves += np.linalg.norm(ci-ci_old)\n",
    "\n",
    "#         print(nb_moves)\n",
    "        # exit if no improvement\n",
    "        if (nb_moves<1e-10): break\n",
    "        \n",
    "        # otherwise: remove empty communities\n",
    "        C = C[:,np.unique(scipy.sparse.find(C)[1])]\n",
    "        \n",
    "        # set improvement and reshuffle nodes for next try\n",
    "        improvement = True\n",
    "        shuffle(rand_nodes)\n",
    "\n",
    "    # exit\n",
    "    return C, improvement\n",
    "\n",
    "\n",
    "def soft_assign(a,v):\n",
    "    if (a>=0):\n",
    "        u = np.array(v.data)\n",
    "        n = np.where(u==u.max())[0][0]\n",
    "        u = np.zeros(u.shape)\n",
    "        u[n] = 1\n",
    "        return np.array(u)/u.sum()\n",
    "\n",
    "    else:\n",
    "        u = -np.array(v.data)/a\n",
    "        g = np.sort(u)[::-1]\n",
    "        z = np.cumsum(g)-np.append(np.array(range(1,len(g)))*g[1:len(g)],-np.Inf)\n",
    "        n = np.where(z>=1)[0][0]\n",
    "        la = ((g[0:n+1]).sum()-1)/(n+1)\n",
    "        u = u-la\n",
    "        u[u<0] = 0\n",
    "        return np.array(u)/u.sum()"
   ]
  },
  {
   "cell_type": "code",
   "execution_count": 5,
   "metadata": {},
   "outputs": [],
   "source": [
    "def nmi_function(A): # A = Pwc\n",
    "    aw = A.sum(axis=1).flatten() # word probability\n",
    "    ac = A.sum(axis=0).flatten() # class probability\n",
    "    Hc = np.multiply(ac,-logg(ac)).sum() # class entropy\n",
    "    A2 = ((A/ac).T/aw).T\n",
    "    A2.data = logg(A2.data)\n",
    "    y = (A.multiply(A2)).sum()/Hc\n",
    "    return y\n",
    "\n",
    "\n",
    "# RDM: Why? How?\n",
    "def modularity_function(A):\n",
    "    y = A.diagonal().sum()-(A.sum(axis=0)*A.sum(axis=1)).item()\n",
    "    return y\n",
    "\n",
    "def ncut_function(A):\n",
    "    y = ((A.sum(axis=0)-A.diagonal())/A.sum(axis=0)).mean()\n",
    "    return y\n",
    "\n",
    "def my_pagerank(M,q,c=.85,it=60):\n",
    "    r = q.copy() # ranking matrix, initialized to q (copy)\n",
    "    for k in range(it): # slow cycle\n",
    "        r = c*M.dot(r) + (1-c)*q\n",
    "    return r\n",
    "\n",
    "def infomap_function(v):\n",
    "    y = -(v.data*logg(v.data/v.sum())).sum()\n",
    "    return y\n",
    "\n",
    "def infomap_rank(Pdd):\n",
    "    # transition matrix\n",
    "    pd = Pdd.sum(axis=0).flatten()\n",
    "    M = sps.csr_matrix(Pdd/pd)\n",
    "    # pagerank vector - faster than r = my_pagerank(M,q)\n",
    "    G = ig.Graph.Adjacency((M > 0).toarray().tolist())\n",
    "    G.es['weight'] = np.array(M[M.nonzero()])[0]\n",
    "    r = G.pagerank(weights='weight')\n",
    "    r = (sps.csr_matrix(np.array(r))).T\n",
    "\n",
    "    return r\n",
    "\n",
    "def infomap(C,Pdd,r):\n",
    "    pd = Pdd.sum(axis=0).flatten()\n",
    "    M = Pdd/pd # transition matrix\n",
    "    # extract vectors\n",
    "    z = C.T*sps.diags(r.toarray().flatten())\n",
    "    q = sps.csr_matrix((1,z.shape[0]))\n",
    "    c = .85\n",
    "    for i in range(z.shape[0]):\n",
    "        tmp = (C[:,i].transpose()*M)*z[i].transpose()\n",
    "        q[0,i] = (1-(1-c)*C[:,i].sum()/M.shape[0])*z[i].sum()-c*tmp[0,0]\n",
    "    # extract statistics\n",
    "    y = infomap_function(q)\n",
    "    for i in range(z.shape[0]):\n",
    "        y += infomap_function(sps.hstack([z[i],sps.csr_matrix([[q[0,i]]])]))\n",
    "    # normalize\n",
    "    y = (y/infomap_function(pd))-1\n",
    "\n",
    "    return y\n",
    "\n",
    "\n",
    "# RDM: What if I'd like to use the Pww instead?\n",
    "def clustering_statistics(C,Pwd,Pdd,r):\n",
    "\n",
    "    Pwc = Pwd*C # joint word + class probability\n",
    "    NMI = nmi_function(Pwc)\n",
    "    Pcc = C.T*Pdd*C # joint class + class probability\n",
    "    Q = modularity_function(Pcc)\n",
    "    Ncut = ncut_function(Pcc)\n",
    "    Infomap = infomap(C,Pdd,r)\n",
    "\n",
    "    return [NMI, Q, Ncut, Infomap]"
   ]
  },
  {
   "cell_type": "markdown",
   "metadata": {},
   "source": [
    "# Reading metadata"
   ]
  },
  {
   "cell_type": "code",
   "execution_count": 6,
   "metadata": {},
   "outputs": [],
   "source": [
    "download_dir = os.path.join('..','0_data','downloaded_posts')\n",
    "metadata_paths = [os.path.join(download_dir,f) for f in os.listdir(download_dir) if f.endswith('.json.xz')]"
   ]
  },
  {
   "cell_type": "code",
   "execution_count": 7,
   "metadata": {},
   "outputs": [
    {
     "data": {
      "text/html": [
       "<div>\n",
       "<style scoped>\n",
       "    .dataframe tbody tr th:only-of-type {\n",
       "        vertical-align: middle;\n",
       "    }\n",
       "\n",
       "    .dataframe tbody tr th {\n",
       "        vertical-align: top;\n",
       "    }\n",
       "\n",
       "    .dataframe thead th {\n",
       "        text-align: right;\n",
       "    }\n",
       "</style>\n",
       "<table border=\"1\" class=\"dataframe\">\n",
       "  <thead>\n",
       "    <tr style=\"text-align: right;\">\n",
       "      <th></th>\n",
       "      <th>Short</th>\n",
       "      <th>user</th>\n",
       "      <th>likes</th>\n",
       "    </tr>\n",
       "  </thead>\n",
       "  <tbody>\n",
       "    <tr>\n",
       "      <th>0</th>\n",
       "      <td>fNO52Nxluy</td>\n",
       "      <td>amenstyle</td>\n",
       "      <td>61</td>\n",
       "    </tr>\n",
       "    <tr>\n",
       "      <th>1</th>\n",
       "      <td>lzQl_gRlnD</td>\n",
       "      <td>amenstyle</td>\n",
       "      <td>374</td>\n",
       "    </tr>\n",
       "    <tr>\n",
       "      <th>2</th>\n",
       "      <td>mrzAb-Rlkt</td>\n",
       "      <td>amenstyle</td>\n",
       "      <td>175</td>\n",
       "    </tr>\n",
       "  </tbody>\n",
       "</table>\n",
       "</div>"
      ],
      "text/plain": [
       "        Short       user  likes\n",
       "0  fNO52Nxluy  amenstyle     61\n",
       "1  lzQl_gRlnD  amenstyle    374\n",
       "2  mrzAb-Rlkt  amenstyle    175"
      ]
     },
     "execution_count": 7,
     "metadata": {},
     "output_type": "execute_result"
    }
   ],
   "source": [
    "additional_data = []\n",
    "\n",
    "for i,path in enumerate(metadata_paths):\n",
    "\n",
    "    with lzma.open(path, 'rt') as file:\n",
    "        data_dict = json.load(file)\n",
    "    \n",
    "    short = data_dict['node']['shortcode']\n",
    "    user  = data_dict['node']['owner']['username']\n",
    "    likes = data_dict['node']['edge_media_preview_like']['count']\n",
    "#     caption = data_dict['node']['edge_media_to_caption']['edges'][0]['node']['text']\n",
    "#     long = f\"{os.path.split(path)[-1].split('.')[0]}.jpg\"\n",
    "\n",
    "    additional_data.append((short,user,likes))#,caption,long))\n",
    "\n",
    "additional_data = pd.DataFrame(additional_data, columns=['Short','user','likes'])#,'caption','Long'])\n",
    "\n",
    "additional_data.head(3)"
   ]
  },
  {
   "cell_type": "markdown",
   "metadata": {},
   "source": [
    "# Reading clean data"
   ]
  },
  {
   "cell_type": "code",
   "execution_count": 8,
   "metadata": {},
   "outputs": [],
   "source": [
    "captions_path = os.path.join('..','0_data','text_clean.xlsx')\n",
    "s = ' '\n",
    "\n",
    "text_col = 'clean_caption'\n",
    "# text_col = 'clean_all'\n",
    "# text_col = 'clean_autocaption'\n",
    "\n",
    "with pd.ExcelFile(captions_path) as xl:\n",
    "    data = xl.parse(index_col=0) \\\n",
    "             .merge(additional_data, on='Short', how='left', validate='m:1') \\\n",
    "             .drop_duplicates() \\\n",
    "             .reset_index(drop=True)\n",
    "\n",
    "# Inclusion of username in captions\n",
    "for col in ['clean_caption','clean_autocaption','clean_all']:\n",
    "    data[col] = data['user'] + ' ' + data[col]\n",
    "\n",
    "# collection of words\n",
    "words = np.unique([token\n",
    "                   for tokens in data.dropna(subset=[text_col])[text_col].str.split()\n",
    "                   for token in tokens])\n",
    "\n",
    "documents = data[text_col].values\n",
    "\n",
    "# words dictionary\n",
    "words_dict = {wrd:i for i,wrd in enumerate(words)}"
   ]
  },
  {
   "cell_type": "markdown",
   "metadata": {},
   "source": [
    "# Occurrence matrix $M_{wd}$"
   ]
  },
  {
   "cell_type": "code",
   "execution_count": 9,
   "metadata": {},
   "outputs": [
    {
     "name": "stdout",
     "output_type": "stream",
     "text": [
      "removing: , , \n"
     ]
    }
   ],
   "source": [
    "# occurrence matrix for words\n",
    "Mwd = csr_matrix((len(words_dict), data.shape[0]), dtype = np.int8).toarray()\n",
    "\n",
    "for j,doc in data[text_col].dropna().items():\n",
    "    for token in doc.split():\n",
    "        Mwd[words_dict[token],j] += 1\n",
    "        \n",
    "        \n",
    "# remove words that are used once or twice\n",
    "select = Mwd.sum(axis=1) > 2\n",
    "Mwd = Mwd[select,:]\n",
    "words = words[select]\n",
    "\n",
    "# remove documents that do not contain words\n",
    "select = Mwd.sum(axis=0) > 0\n",
    "Mwd = Mwd[:,select]\n",
    "documents = documents[select]\n",
    "\n",
    "# Further cleaning and probability matrices computation\n",
    "Mwd, words, documents = clean_Mwd_matrix(Mwd,words,documents,thresh=2)\n",
    "Pwd, Pww, Pdd, Paa = probability_matrices(Mwd, tform=False)"
   ]
  },
  {
   "cell_type": "code",
   "execution_count": 10,
   "metadata": {},
   "outputs": [
    {
     "name": "stdout",
     "output_type": "stream",
     "text": [
      "Number of words: 302\n",
      "Number of documents: 233\n",
      "Network's gamma is 2.06\n"
     ]
    },
    {
     "data": {
      "image/png": "[encoded data removed]",
      "text/plain": [
       "<Figure size 864x360 with 2 Axes>"
      ]
     },
     "metadata": {
      "needs_background": "light"
     },
     "output_type": "display_data"
    }
   ],
   "source": [
    "Mwd_df = pd.DataFrame(Mwd,index=words,columns=documents)\n",
    "Pww_df = pd.DataFrame(Pww,index=words,columns=words)\n",
    "\n",
    "gamma, fig, axs = plot_degree_summary(Mwd_df)"
   ]
  },
  {
   "cell_type": "markdown",
   "metadata": {},
   "source": [
    "# Objectification rate per word"
   ]
  },
  {
   "cell_type": "code",
   "execution_count": 11,
   "metadata": {},
   "outputs": [
    {
     "data": {
      "text/html": [
       "<div>\n",
       "<style scoped>\n",
       "    .dataframe tbody tr th:only-of-type {\n",
       "        vertical-align: middle;\n",
       "    }\n",
       "\n",
       "    .dataframe tbody tr th {\n",
       "        vertical-align: top;\n",
       "    }\n",
       "\n",
       "    .dataframe thead th {\n",
       "        text-align: right;\n",
       "    }\n",
       "</style>\n",
       "<table border=\"1\" class=\"dataframe\">\n",
       "  <thead>\n",
       "    <tr style=\"text-align: right;\">\n",
       "      <th></th>\n",
       "      <th>Id</th>\n",
       "      <th>obj_rate</th>\n",
       "    </tr>\n",
       "  </thead>\n",
       "  <tbody>\n",
       "    <tr>\n",
       "      <th>0</th>\n",
       "      <td>accessory</td>\n",
       "      <td>1.00</td>\n",
       "    </tr>\n",
       "    <tr>\n",
       "      <th>1</th>\n",
       "      <td>aesthetic</td>\n",
       "      <td>0.50</td>\n",
       "    </tr>\n",
       "    <tr>\n",
       "      <th>2</th>\n",
       "      <td>all</td>\n",
       "      <td>0.75</td>\n",
       "    </tr>\n",
       "  </tbody>\n",
       "</table>\n",
       "</div>"
      ],
      "text/plain": [
       "          Id  obj_rate\n",
       "0  accessory      1.00\n",
       "1  aesthetic      0.50\n",
       "2        all      0.75"
      ]
     },
     "metadata": {},
     "output_type": "display_data"
    },
    {
     "data": {
      "text/html": [
       "<div>\n",
       "<style scoped>\n",
       "    .dataframe tbody tr th:only-of-type {\n",
       "        vertical-align: middle;\n",
       "    }\n",
       "\n",
       "    .dataframe tbody tr th {\n",
       "        vertical-align: top;\n",
       "    }\n",
       "\n",
       "    .dataframe thead th {\n",
       "        text-align: right;\n",
       "    }\n",
       "</style>\n",
       "<table border=\"1\" class=\"dataframe\">\n",
       "  <thead>\n",
       "    <tr style=\"text-align: right;\">\n",
       "      <th></th>\n",
       "      <th>count</th>\n",
       "      <th>mean</th>\n",
       "      <th>std</th>\n",
       "      <th>min</th>\n",
       "      <th>25%</th>\n",
       "      <th>50%</th>\n",
       "      <th>75%</th>\n",
       "      <th>max</th>\n",
       "    </tr>\n",
       "  </thead>\n",
       "  <tbody>\n",
       "    <tr>\n",
       "      <th>obj_rate</th>\n",
       "      <td>302.0</td>\n",
       "      <td>0.560841</td>\n",
       "      <td>0.311861</td>\n",
       "      <td>0.0</td>\n",
       "      <td>0.333333</td>\n",
       "      <td>0.636364</td>\n",
       "      <td>0.8</td>\n",
       "      <td>1.0</td>\n",
       "    </tr>\n",
       "  </tbody>\n",
       "</table>\n",
       "</div>"
      ],
      "text/plain": [
       "          count      mean       std  min       25%       50%  75%  max\n",
       "obj_rate  302.0  0.560841  0.311861  0.0  0.333333  0.636364  0.8  1.0"
      ]
     },
     "metadata": {},
     "output_type": "display_data"
    },
    {
     "data": {
      "text/plain": [
       "<Axes: xlabel='obj_rate', ylabel='Density'>"
      ]
     },
     "execution_count": 11,
     "metadata": {},
     "output_type": "execute_result"
    },
    {
     "data": {
      "image/png": "[encoded data removed]",
      "text/plain": [
       "<Figure size 432x288 with 1 Axes>"
      ]
     },
     "metadata": {
      "needs_background": "light"
     },
     "output_type": "display_data"
    }
   ],
   "source": [
    "obj_docs = data.set_index(text_col) \\\n",
    "               .query(\"Objectify==1\") \\\n",
    "               .index.drop_duplicates() \\\n",
    "               .intersection(Mwd_df.columns)\n",
    "\n",
    "\n",
    "# Objectification rate for each word catalogue\n",
    "# obj_rate = times the word is used in an objectifying post / times the word is used\n",
    "obj_rate_cat = (Mwd_df[obj_docs].sum(axis=1) / Mwd_df.sum(axis=1)) \\\n",
    "               .to_frame().rename(columns={0:'obj_rate'}) \\\n",
    "               .reset_index(names='Id')\n",
    "\n",
    "display(obj_rate_cat.head(3))\n",
    "display(obj_rate_cat.describe().T)\n",
    "\n",
    "\n",
    "sns.kdeplot(data=obj_rate_cat, x='obj_rate')\n",
    "sns.rugplot(data=obj_rate_cat, x='obj_rate')\n",
    "\n",
    "### La distribución luce multimodal"
   ]
  },
  {
   "cell_type": "code",
   "execution_count": 12,
   "metadata": {},
   "outputs": [
    {
     "data": {
      "text/plain": [
       "array([           nan, 0.00000000e+00, 1.69406589e-21, 1.35525272e-20,\n",
       "       8.47032947e-22, 5.42101086e-20, 3.38813179e-21, 6.77626358e-21,\n",
       "       7.66646708e-20, 2.71050543e-20, 1.53329342e-19])"
      ]
     },
     "execution_count": 12,
     "metadata": {},
     "output_type": "execute_result"
    }
   ],
   "source": [
    "links = Pww_df.melt(ignore_index=False, var_name='Target', value_name='Weight') \\\n",
    "              .reset_index() \\\n",
    "              .rename(columns={'index':'Source'})\n",
    "\n",
    "links['temp_key'] = links.apply(lambda row: ''.join(sorted([row['Source'],row['Target']])),axis=1)\n",
    "\n",
    "links.groupby('temp_key')['Weight'].std().unique()"
   ]
  },
  {
   "cell_type": "code",
   "execution_count": 13,
   "metadata": {},
   "outputs": [
    {
     "data": {
      "text/html": [
       "<div>\n",
       "<style scoped>\n",
       "    .dataframe tbody tr th:only-of-type {\n",
       "        vertical-align: middle;\n",
       "    }\n",
       "\n",
       "    .dataframe tbody tr th {\n",
       "        vertical-align: top;\n",
       "    }\n",
       "\n",
       "    .dataframe thead th {\n",
       "        text-align: right;\n",
       "    }\n",
       "</style>\n",
       "<table border=\"1\" class=\"dataframe\">\n",
       "  <thead>\n",
       "    <tr style=\"text-align: right;\">\n",
       "      <th></th>\n",
       "      <th>count</th>\n",
       "      <th>mean</th>\n",
       "      <th>std</th>\n",
       "      <th>min</th>\n",
       "      <th>25%</th>\n",
       "      <th>50%</th>\n",
       "      <th>75%</th>\n",
       "      <th>max</th>\n",
       "    </tr>\n",
       "  </thead>\n",
       "  <tbody>\n",
       "    <tr>\n",
       "      <th>Weight</th>\n",
       "      <td>6764.0</td>\n",
       "      <td>0.000089</td>\n",
       "      <td>0.000374</td>\n",
       "      <td>0.000001</td>\n",
       "      <td>0.000012</td>\n",
       "      <td>0.000025</td>\n",
       "      <td>0.000067</td>\n",
       "      <td>0.018871</td>\n",
       "    </tr>\n",
       "  </tbody>\n",
       "</table>\n",
       "</div>"
      ],
      "text/plain": [
       "         count      mean       std       min       25%       50%       75%  \\\n",
       "Weight  6764.0  0.000089  0.000374  0.000001  0.000012  0.000025  0.000067   \n",
       "\n",
       "             max  \n",
       "Weight  0.018871  "
      ]
     },
     "execution_count": 13,
     "metadata": {},
     "output_type": "execute_result"
    },
    {
     "data": {
      "image/png": "[encoded data removed]",
      "text/plain": [
       "<Figure size 432x288 with 1 Axes>"
      ]
     },
     "metadata": {
      "needs_background": "light"
     },
     "output_type": "display_data"
    }
   ],
   "source": [
    "links = Pww_df.where((np.triu(np.ones(Pww_df.shape))).astype(np.bool_)) \\\n",
    "              .melt(ignore_index=False, var_name='Target', value_name='Weight') \\\n",
    "              .dropna() \\\n",
    "              .query(\"\"\"Weight !=0\"\"\") \\\n",
    "              .reset_index() \\\n",
    "              .rename(columns={'index':'Source'})\n",
    "\n",
    "sns.kdeplot(data=links, x='Weight')\n",
    "sns.rugplot(data=links, x='Weight')\n",
    "links.describe().T"
   ]
  },
  {
   "cell_type": "code",
   "execution_count": 14,
   "metadata": {},
   "outputs": [],
   "source": [
    "tol = links.Weight.quantile(0.05)*0\n",
    "data_gephi = links.query(\"Weight >= @tol\").sort_values('Weight')"
   ]
  },
  {
   "cell_type": "code",
   "execution_count": 15,
   "metadata": {},
   "outputs": [
    {
     "name": "stdout",
     "output_type": "stream",
     "text": [
      "Number of words: 302\n",
      "Network's gamma is 1.55\n"
     ]
    },
    {
     "data": {
      "image/png": "[encoded data removed]",
      "text/plain": [
       "<Figure size 864x360 with 2 Axes>"
      ]
     },
     "metadata": {
      "needs_background": "light"
     },
     "output_type": "display_data"
    }
   ],
   "source": [
    "G = nx.from_pandas_edgelist(data_gephi, 'Source', 'Target', ['Weight'])\n",
    "dw = pd.Series(dict(G.degree()))\n",
    "_=plot_degree_summary(G=G)"
   ]
  },
  {
   "cell_type": "code",
   "execution_count": 16,
   "metadata": {},
   "outputs": [],
   "source": [
    "data_gephi.to_csv(f'data/processed/col_{text_col}__tol_{tol}__links.csv',\n",
    "                  encoding='UTF-16',index=False)\n",
    "\n",
    "pd.concat([data_gephi.Source,\n",
    "           data_gephi.Target],\n",
    "          ignore_index=True) \\\n",
    "  .drop_duplicates() \\\n",
    "  .sort_values() \\\n",
    "  .to_frame(name='Id') \\\n",
    "  .eval(\"Label=Id\") \\\n",
    "  .merge(obj_rate_cat,how='left',on='Id',validate='m:1') \\\n",
    "  .to_csv(f'data/processed/col_{text_col}__tol_{tol}__nodes.csv',encoding='UTF-16',index=False)"
   ]
  },
  {
   "cell_type": "markdown",
   "metadata": {},
   "source": [
    "# Homophily / Assortativity analysis"
   ]
  },
  {
   "cell_type": "code",
   "execution_count": 18,
   "metadata": {},
   "outputs": [
    {
     "data": {
      "image/png": "[encoded data removed]",
      "text/plain": [
       "<Figure size 432x288 with 1 Axes>"
      ]
     },
     "metadata": {
      "needs_background": "light"
     },
     "output_type": "display_data"
    }
   ],
   "source": [
    "# RDM: Esto hay que hacerlo función para poder cambiar la variable numérica\n",
    "#      que se use para mostrar\n",
    "\n",
    "# RDM: Proceso muy lento\n",
    "\n",
    "# RDM: Consultar con profesor si la implementación es correcta\n",
    "\n",
    "# ----------------------------------------------------------------------\n",
    "\n",
    "assortativity_var = 'obj_rate'\n",
    "\n",
    "\n",
    "cat = obj_rate_cat.set_index('Id')[assortativity_var]\n",
    "\n",
    "assortativity = [(cat[i],cat[j])\n",
    "                  for i in G\n",
    "                    for j in G.neighbors(i)]\n",
    "\n",
    "assortativity = pd.DataFrame(assortativity, columns=['node_val','neighbors_val'])\n",
    "\n",
    "# ---------------------------------------------------------------------\n",
    "\n",
    "data = np.random.multivariate_normal((0, 0), [[0.8, 0.05], [0.05, 0.7]], 100)\n",
    "x = assortativity['node_val']\n",
    "y = assortativity['neighbors_val']\n",
    "xmin, xmax = 0,1\n",
    "ymin, ymax = 0,1\n",
    "\n",
    "# Peform the kernel density estimate\n",
    "xx, yy = np.mgrid[xmin:xmax:100j, ymin:ymax:100j]\n",
    "positions = np.vstack([xx.ravel(), yy.ravel()])\n",
    "values = np.vstack([x, y])\n",
    "kernel = st.gaussian_kde(values)\n",
    "f = np.reshape(kernel(positions).T, xx.shape)\n",
    "\n",
    "fig = plt.figure()\n",
    "ax = fig.gca()\n",
    "ax.set_xlim(xmin, xmax)\n",
    "ax.set_ylim(ymin, ymax)\n",
    "# Contourf plot\n",
    "cfset = ax.contourf(xx, yy, f, cmap='Blues')\n",
    "## Or kernel density estimate plot instead of the contourf plot\n",
    "#ax.imshow(np.rot90(f), cmap='Blues', extent=[xmin, xmax, ymin, ymax])\n",
    "# Contour plot\n",
    "cset = ax.contour(xx, yy, f, colors='k')\n",
    "# Label plot\n",
    "ax.clabel(cset, inline=1, fontsize=10)\n",
    "ax.set_xlabel(\"Node's objectification rate\")\n",
    "ax.set_ylabel(\"Neighbors' objectification rate\")\n",
    "ax.set_aspect('equal', adjustable='box')"
   ]
  },
  {
   "cell_type": "markdown",
   "metadata": {},
   "source": [
    "# Community assignment"
   ]
  },
  {
   "cell_type": "markdown",
   "metadata": {},
   "source": [
    "## Louvain"
   ]
  },
  {
   "cell_type": "code",
   "execution_count": 19,
   "metadata": {},
   "outputs": [],
   "source": [
    "# build a graph based on Pdd as adjacency matrix\n",
    "A = sps.csr_matrix(Pww)\n",
    "G = ig.Graph.Adjacency((A > 0).toarray().tolist())\n",
    "G.es['weight'] = np.array(A[A.nonzero()])[0]"
   ]
  },
  {
   "cell_type": "code",
   "execution_count": 20,
   "metadata": {},
   "outputs": [],
   "source": [
    "# run Louvain on the graph to get a partition\n",
    "part = louvain.find_partition(G, louvain.ModularityVertexPartition,\n",
    "                                 weights='weight')"
   ]
  },
  {
   "cell_type": "code",
   "execution_count": 21,
   "metadata": {},
   "outputs": [
    {
     "name": "stderr",
     "output_type": "stream",
     "text": [
      "C:\\Users\\rdm42\\anaconda3\\lib\\site-packages\\scipy\\sparse\\_index.py:124: SparseEfficiencyWarning: Changing the sparsity structure of a csr_matrix is expensive. lil_matrix is more efficient.\n",
      "  self._set_arrayXarray(i, j, x)\n"
     ]
    }
   ],
   "source": [
    "# function to map the partition into a community assignment matrix C\n",
    "# where rows represent documents, and columns represent topics\n",
    "def partition_to_C(part):\n",
    "    \n",
    "    # RDM: Isn't this matrix transposed?\n",
    "    C = sps.csr_matrix((Pww.shape[0],len(part)))\n",
    "    for community,nodes in enumerate(part):\n",
    "        C[np.array(nodes), community] = 1\n",
    "    return C\n",
    "\n",
    "# map the partition into a community assignment matrix C\n",
    "C_l = partition_to_C(part)"
   ]
  },
  {
   "cell_type": "code",
   "execution_count": 78,
   "metadata": {},
   "outputs": [
    {
     "data": {
      "text/plain": [
       "True"
      ]
     },
     "execution_count": 78,
     "metadata": {},
     "output_type": "execute_result"
    }
   ],
   "source": [
    "# Check: cada nodo está asignado a una comunidad\n",
    "pd.DataFrame(C_l.toarray()).sum(axis=1).eq(1).all() "
   ]
  },
  {
   "cell_type": "markdown",
   "metadata": {},
   "source": [
    "## Soft Louvain"
   ]
  },
  {
   "cell_type": "code",
   "execution_count": 63,
   "metadata": {},
   "outputs": [
    {
     "data": {
      "text/plain": [
       "(302, 10)"
      ]
     },
     "execution_count": 63,
     "metadata": {},
     "output_type": "execute_result"
    }
   ],
   "source": [
    "# refine with soft Louvain\n",
    "\n",
    "# RDM: Hay que poner .copy, de otra manera la función\n",
    "#      afecta a las variables globales\n",
    "\n",
    "with warnings.catch_warnings(record=True) as w:\n",
    "    C_sl, _A, _Q = my_soft_louvain(Pww.copy(), C_l.copy(),seed=100)\n",
    "    \n",
    "C_sl.shape"
   ]
  },
  {
   "cell_type": "code",
   "execution_count": 77,
   "metadata": {},
   "outputs": [],
   "source": [
    "# Hacer algoritmos que ya tiene Erseghe\n",
    "\n",
    "# Hacer BigCLAM\n",
    "\n",
    "# Calcular métricas de este y el resto de algoritmos!\n",
    "# usar función de Erseghe\n",
    "\n",
    "\n",
    "# Guardar asignación de cada algoritmo en diccionario,\n",
    "# luego usar para calcular NMI (PREGUNTAR A ERSEGHE SI LO VE BIEN)\n",
    "\n",
    "\n",
    "# Asignar cluster de vuelta a los nodos, visualizaciones en Gephi"
   ]
  },
  {
   "cell_type": "markdown",
   "metadata": {},
   "source": [
    "# Infomap"
   ]
  },
  {
   "cell_type": "code",
   "execution_count": 103,
   "metadata": {},
   "outputs": [],
   "source": [
    "def infomap_function(v):\n",
    "    y = -(v.data*logg(v.data/v.sum())).sum()\n",
    "    return y\n",
    "\n",
    "def infomap_rank(Pdd):\n",
    "    # transition matrix\n",
    "    pd = Pdd.sum(axis=0).flatten()\n",
    "    M = sps.csr_matrix(Pdd/pd)\n",
    "    \n",
    "    # pagerank vector - faster than r = my_pagerank(M,q)\n",
    "    G = ig.Graph.Adjacency((M > 0).toarray().tolist())\n",
    "    G.es['weight'] = np.array(M[M.nonzero()])[0]\n",
    "    r = G.pagerank(weights='weight')\n",
    "    r = (sps.csr_matrix(np.array(r))).T\n",
    "\n",
    "    return r\n",
    "\n",
    "def infomap(C,Pdd,r):\n",
    "    pd = Pdd.sum(axis=0).flatten()\n",
    "    M = Pdd/pd # transition matrix\n",
    "    \n",
    "    # extract vectors\n",
    "    z = C.T*sps.diags(r.toarray().flatten())\n",
    "    q = sps.csr_matrix((1,z.shape[0]))\n",
    "    c = 0.85\n",
    "    \n",
    "    for i in range(z.shape[0]):\n",
    "        tmp = (C[:,i].transpose() * M) * z[i].transpose()\n",
    "        q[0,i] = (1 - (1-c)*C[:,i].sum()/M.shape[0]) * z[i].sum() - c*tmp[0,0]\n",
    "    \n",
    "    # extract statistics\n",
    "    y = infomap_function(q)\n",
    "    \n",
    "    for i in range(z.shape[0]):\n",
    "        y += infomap_function(sps.hstack([z[i],sps.csr_matrix([[q[0,i]]])]))\n",
    "    \n",
    "    # normalize\n",
    "    y = (y/infomap_function(pd))-1\n",
    "\n",
    "    return y"
   ]
  },
  {
   "cell_type": "code",
   "execution_count": 132,
   "metadata": {},
   "outputs": [],
   "source": [
    "clusters = G.community_infomap(edge_weights=G.es[\"weight\"])\n",
    "C_im = partition_to_C(clusters)"
   ]
  },
  {
   "cell_type": "code",
   "execution_count": 144,
   "metadata": {},
   "outputs": [
    {
     "data": {
      "text/plain": [
       "jacquemus    0.001733\n",
       "bershka      0.001763\n",
       "pick         0.001897\n",
       "girl         0.001934\n",
       "summer       0.001943\n",
       "               ...   \n",
       "quilt        0.005928\n",
       "tote         0.005953\n",
       "athena       0.005953\n",
       "gilet        0.006593\n",
       "boot         0.006593\n",
       "Length: 302, dtype: float64"
      ]
     },
     "execution_count": 144,
     "metadata": {},
     "output_type": "execute_result"
    }
   ],
   "source": [
    "r = infomap_rank(Pww)\n",
    "pd.Series(r.A.flatten(),index=words).sort_values()"
   ]
  },
  {
   "cell_type": "code",
   "execution_count": 140,
   "metadata": {},
   "outputs": [
    {
     "name": "stdout",
     "output_type": "stream",
     "text": [
      "Infomap score: 0.05\n",
      "Modularity: 15.96%\n"
     ]
    }
   ],
   "source": [
    "with warnings.catch_warnings(record=True) as w:\n",
    "    infomap_score = infomap(C_im,Pww,r)\n",
    "    \n",
    "print(f\"Infomap score: {infomap_score:,.2f}\")\n",
    "print(f\"Modularity: {G.modularity(clusters):.2%}\")"
   ]
  },
  {
   "cell_type": "markdown",
   "metadata": {},
   "source": [
    "# BertTopic"
   ]
  },
  {
   "cell_type": "code",
   "execution_count": null,
   "metadata": {},
   "outputs": [],
   "source": [
    "# Revisar código del profe\n",
    "# Preguntar a Daniel por su ejemplo de cómo usarlo"
   ]
  },
  {
   "cell_type": "markdown",
   "metadata": {},
   "source": [
    "# BigCLAM"
   ]
  },
  {
   "cell_type": "code",
   "execution_count": null,
   "metadata": {},
   "outputs": [],
   "source": []
  },
  {
   "cell_type": "code",
   "execution_count": null,
   "metadata": {},
   "outputs": [],
   "source": []
  },
  {
   "cell_type": "code",
   "execution_count": null,
   "metadata": {},
   "outputs": [],
   "source": []
  }
 ],
 "metadata": {
  "kernelspec": {
   "display_name": "Python 3",
   "language": "python",
   "name": "python3"
  },
  "language_info": {
   "codemirror_mode": {
    "name": "ipython",
    "version": 3
   },
   "file_extension": ".py",
   "mimetype": "text/x-python",
   "name": "python",
   "nbconvert_exporter": "python",
   "pygments_lexer": "ipython3",
   "version": "3.8.3"
  }
 },
 "nbformat": 4,
 "nbformat_minor": 4
}
