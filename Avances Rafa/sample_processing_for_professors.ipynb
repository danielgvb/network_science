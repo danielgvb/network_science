{
 "cells": [
  {
   "cell_type": "code",
   "execution_count": 1,
   "metadata": {},
   "outputs": [
    {
     "name": "stderr",
     "output_type": "stream",
     "text": [
      "C:\\Users\\rdm42\\anaconda3\\lib\\site-packages\\pandas\\core\\computation\\expressions.py:20: UserWarning: Pandas requires version '2.7.3' or newer of 'numexpr' (version '2.7.1' currently installed).\n",
      "  from pandas.core.computation.check import NUMEXPR_INSTALLED\n"
     ]
    }
   ],
   "source": [
    "import os\n",
    "import json\n",
    "import shutil\n",
    "import lzma\n",
    "\n",
    "import numpy as np\n",
    "import pandas as pd\n",
    "\n",
    "import matplotlib.pyplot as plt\n",
    "import seaborn as sns\n",
    "sns.set_theme()"
   ]
  },
  {
   "cell_type": "code",
   "execution_count": null,
   "metadata": {},
   "outputs": [],
   "source": [
    "download_dir = os.path.join('..','0_data','downloaded_posts')\n",
    "metadata_paths = [os.path.join(download_dir,f) for f in os.listdir(download_dir) if f.endswith('.json.xz')]\n",
    "\n",
    "additional_data = []\n",
    "\n",
    "for i,path in enumerate(metadata_paths):\n",
    "\n",
    "    with lzma.open(path, 'rt') as file:\n",
    "        data_dict = json.load(file)\n",
    "    \n",
    "    short = data_dict['node']['shortcode']\n",
    "    user  = data_dict['node']['owner']['username']\n",
    "    likes = data_dict['node']['edge_media_preview_like']['count']\n",
    "    caption = data_dict['node']['edge_media_to_caption']['edges'][0]['node']['text']\n",
    "    long = os.path.split(path)[-1].split('.')[0]\n",
    "\n",
    "    additional_data.append((short,user,likes,caption,long))\n",
    "\n",
    "additional_data = pd.DataFrame(additional_data, columns=['Short','user','likes','caption','Long']) \\\n",
    "                    .drop(columns=['Long'])\n",
    "additional_data['URL'] = additional_data.Short.apply(lambda code: f\"https://www.instagram.com/p/{code}\")\n",
    "additional_data.head(3)"
   ]
  },
  {
   "cell_type": "code",
   "execution_count": null,
   "metadata": {},
   "outputs": [],
   "source": [
    "with pd.ExcelFile('pictures_captions_autocaptions.xlsx') as xl:\n",
    "    autocaptions = xl.parse()[['Short','Auto_caption']]\n",
    "    \n",
    "# autocaptions['Long'] = autocaptions.Long.str.extract(\"(.*_UTC)\")[0]"
   ]
  },
  {
   "cell_type": "code",
   "execution_count": null,
   "metadata": {},
   "outputs": [],
   "source": [
    "output_table = autocaptions.merge(additional_data, on='Short', how='left', validate='m:1') \\\n",
    "               [['Short','URL','user','likes','caption','Auto_caption']]"
   ]
  },
  {
   "cell_type": "code",
   "execution_count": null,
   "metadata": {},
   "outputs": [],
   "source": [
    "output_table.to_clipboard(index=False)"
   ]
  },
  {
   "cell_type": "code",
   "execution_count": null,
   "metadata": {},
   "outputs": [],
   "source": [
    "output_table[output_table.duplicated(keep=False)]"
   ]
  },
  {
   "cell_type": "code",
   "execution_count": null,
   "metadata": {},
   "outputs": [],
   "source": []
  },
  {
   "cell_type": "code",
   "execution_count": null,
   "metadata": {},
   "outputs": [],
   "source": []
  },
  {
   "cell_type": "code",
   "execution_count": null,
   "metadata": {},
   "outputs": [],
   "source": []
  },
  {
   "cell_type": "markdown",
   "metadata": {},
   "source": [
    "# Agregar obj_rate a LIWC"
   ]
  },
  {
   "cell_type": "code",
   "execution_count": null,
   "metadata": {},
   "outputs": [],
   "source": [
    "import pandas as pd\n",
    "import os"
   ]
  },
  {
   "cell_type": "code",
   "execution_count": null,
   "metadata": {},
   "outputs": [],
   "source": [
    "with pd.ExcelFile(\"LIWC2015 Results (Ig posts sample - 11012024).xlsx\") as xl:\n",
    "    liwc_data = xl.parse()"
   ]
  },
  {
   "cell_type": "code",
   "execution_count": null,
   "metadata": {},
   "outputs": [],
   "source": [
    "path = os.path.join('data','resources','database.xlsx')\n",
    "\n",
    "with pd.ExcelFile(path) as xl:\n",
    "    original_db = xl.parse(usecols='B:C').dropna()\n",
    "    \n",
    "original_db['Short'] = original_db.link.str.split('/').str[4]\n",
    "original_db.drop_duplicates(subset=['Short'],inplace=True)"
   ]
  },
  {
   "cell_type": "code",
   "execution_count": null,
   "metadata": {},
   "outputs": [],
   "source": [
    "df = liwc_data.merge(original_db.drop(columns=['link']).rename(columns={'Objectify (yes or no)':'objectification_flag'}),how='left',on='Short',validate='m:1')\n",
    "\n",
    "cols = df.columns.tolist()\n",
    "df[cols[:6] + [cols[-1]] + cols[6:-1]].to_excel('liwc_data_11012024.xlsx',index=False)"
   ]
  },
  {
   "cell_type": "code",
   "execution_count": null,
   "metadata": {},
   "outputs": [],
   "source": [
    "# df.query(\"Short=='Cll7fIRsuo2'\")"
   ]
  },
  {
   "cell_type": "code",
   "execution_count": null,
   "metadata": {},
   "outputs": [],
   "source": []
  },
  {
   "cell_type": "code",
   "execution_count": null,
   "metadata": {},
   "outputs": [],
   "source": []
  },
  {
   "cell_type": "code",
   "execution_count": null,
   "metadata": {},
   "outputs": [],
   "source": []
  },
  {
   "cell_type": "markdown",
   "metadata": {},
   "source": [
    "# Nueva data para LIWC de 1700 imagenes"
   ]
  },
  {
   "cell_type": "code",
   "execution_count": 2,
   "metadata": {},
   "outputs": [],
   "source": [
    "def get_metadata(post_dir):\n",
    "    metadata_path = os.path.join(post_dir,\n",
    "                                 [file for file in os.listdir(post_dir)\n",
    "                                  if file.endswith('.json.xz')][0])\n",
    "\n",
    "    with lzma.open(metadata_path, 'rt') as file:\n",
    "        data_dict = json.load(file)\n",
    "        \n",
    "    metadata = dict(\n",
    "        user = data_dict['node']['owner']['username'],\n",
    "        short = data_dict['node']['shortcode'],\n",
    "        caption = data_dict['node']['edge_media_to_caption']['edges'][0]['node']['text']\n",
    "    )\n",
    "    \n",
    "    return pd.Series(metadata)"
   ]
  },
  {
   "cell_type": "code",
   "execution_count": 3,
   "metadata": {},
   "outputs": [],
   "source": [
    "path = os.path.join('..','0_data','2_data_women.xlsx')\n",
    "\n",
    "with pd.ExcelFile(path) as xl:\n",
    "    cat_women_imgs = xl.parse(index_col=0) \\\n",
    "                       .rename(columns={'Long':'img_path'}) \\\n",
    "                       .drop(columns=['Has_women'])\n",
    "    \n",
    "cat_women_imgs['post_dir'] = cat_women_imgs.img_path.apply(os.path.dirname)\n",
    "cat_women_imgs['img_name'] = cat_women_imgs.img_path.apply(os.path.basename)\n",
    "\n",
    "cat_women_imgs[['user','short','caption']] = cat_women_imgs.post_dir.apply(get_metadata)\n",
    "cat_women_imgs['URL'] = cat_women_imgs.short.apply(lambda code: f\"https://www.instagram.com/p/{code}\")\n",
    "\n",
    "cat_women_imgs = cat_women_imgs[['img_path','post_dir','img_name','short','user','URL','Auto_caption','caption']]"
   ]
  },
  {
   "cell_type": "code",
   "execution_count": 4,
   "metadata": {},
   "outputs": [
    {
     "name": "stderr",
     "output_type": "stream",
     "text": [
      "<ipython-input-4-b1fa4cb8f58b>:3: UserWarning: Pandas requires version '1.4.3' or newer of 'xlsxwriter' (version '1.2.9' currently installed).\n",
      "  cat_women_imgs.drop(columns=['caption']).drop_duplicates() \\\n",
      "<ipython-input-4-b1fa4cb8f58b>:6: UserWarning: Pandas requires version '1.4.3' or newer of 'xlsxwriter' (version '1.2.9' currently installed).\n",
      "  cat_women_imgs.drop(columns=['Auto_caption','img_path','img_name']).drop_duplicates() \\\n"
     ]
    }
   ],
   "source": [
    "dir_path = os.path.join('samples for professors')\n",
    "\n",
    "cat_women_imgs.drop(columns=['caption']).drop_duplicates() \\\n",
    ".to_excel(os.path.join(dir_path,'autocaptions_per_image.xlsx'),index=False)\n",
    "\n",
    "cat_women_imgs.drop(columns=['Auto_caption','img_path','img_name']).drop_duplicates() \\\n",
    ".to_excel(os.path.join(dir_path,'original_captions_per_image.xlsx'),index=False)"
   ]
  },
  {
   "cell_type": "code",
   "execution_count": null,
   "metadata": {},
   "outputs": [],
   "source": []
  },
  {
   "cell_type": "code",
   "execution_count": null,
   "metadata": {},
   "outputs": [],
   "source": []
  }
 ],
 "metadata": {
  "kernelspec": {
   "display_name": "Python 3",
   "language": "python",
   "name": "python3"
  },
  "language_info": {
   "codemirror_mode": {
    "name": "ipython",
    "version": 3
   },
   "file_extension": ".py",
   "mimetype": "text/x-python",
   "name": "python",
   "nbconvert_exporter": "python",
   "pygments_lexer": "ipython3",
   "version": "3.8.3"
  }
 },
 "nbformat": 4,
 "nbformat_minor": 4
}
