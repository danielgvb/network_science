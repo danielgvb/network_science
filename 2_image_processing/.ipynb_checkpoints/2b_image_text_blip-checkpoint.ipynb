{
 "cells": [
  {
   "cell_type": "markdown",
   "id": "36021023",
   "metadata": {},
   "source": [
    "Image to text using salesforce blip\n",
    "\n",
    "source: https://huggingface.co/Salesforce/blip-image-captioning-large"
   ]
  },
  {
   "cell_type": "markdown",
   "id": "ddb4470a",
   "metadata": {},
   "source": [
    "Need ```PIL``` and ```transformers```, which requieres ```pytorch``` and ```tensorflow```"
   ]
  },
  {
   "cell_type": "code",
   "execution_count": 1,
   "id": "84930a3e-1591-444f-9fbd-7bbc8d4b31db",
   "metadata": {},
   "outputs": [],
   "source": [
    "import os\n",
    "import pandas as pd"
   ]
  },
  {
   "cell_type": "code",
   "execution_count": null,
   "id": "26b08265-4806-46ba-b431-681c7c941370",
   "metadata": {},
   "outputs": [],
   "source": [
    "def get_jpg_files(folder_path, users):\n",
    "    jpg_files = []\n",
    "    for user in users:\n",
    "        user_folder = os.path.join(folder_path, user)\n",
    "        if os.path.exists(user_folder):\n",
    "            for root, dirs, files in os.walk(user_folder):\n",
    "                for file in files:\n",
    "                    if file.endswith('.jpg'):\n",
    "                        jpg_files.append(os.path.join(root, file))\n",
    "        else:\n",
    "            print(f\"Folder not found: {user_folder}\")\n",
    "    return jpg_files\n",
    "\n",
    "# Example usage\n",
    "users = ['hm', 'jacquemus', 'sheinofficial', 'chanelofficial']\n",
    "folder_path = '../1_download_data/'\n",
    "jpg_files = get_jpg_files(folder_path, users)"
   ]
  },
  {
   "cell_type": "code",
   "execution_count": 2,
   "id": "63bc4aef-e252-4253-b43e-b9705097383c",
   "metadata": {},
   "outputs": [
    {
     "data": {
      "text/plain": [
       "3988"
      ]
     },
     "execution_count": 2,
     "metadata": {},
     "output_type": "execute_result"
    }
   ],
   "source": [
    "len(jpg_files)"
   ]
  },
  {
   "cell_type": "code",
   "execution_count": 3,
   "id": "bed1de95-0e5a-4595-b763-b85604517768",
   "metadata": {},
   "outputs": [
    {
     "ename": "NameError",
     "evalue": "name 'pd' is not defined",
     "output_type": "error",
     "traceback": [
      "\u001b[1;31m---------------------------------------------------------------------------\u001b[0m",
      "\u001b[1;31mNameError\u001b[0m                                 Traceback (most recent call last)",
      "Cell \u001b[1;32mIn[3], line 1\u001b[0m\n\u001b[1;32m----> 1\u001b[0m df_keys \u001b[38;5;241m=\u001b[39m pd\u001b[38;5;241m.\u001b[39mread_excel(\u001b[38;5;124m'\u001b[39m\u001b[38;5;124m../0_data/1_data_no_humans.xlsx\u001b[39m\u001b[38;5;124m'\u001b[39m)\n\u001b[0;32m      2\u001b[0m df_keys\u001b[38;5;241m.\u001b[39mhead()\n",
      "\u001b[1;31mNameError\u001b[0m: name 'pd' is not defined"
     ]
    }
   ],
   "source": [
    "df_keys = pd.read_excel('../0_data/1_data_no_humans.xlsx')\n",
    "df_keys.head()"
   ]
  },
  {
   "cell_type": "code",
   "execution_count": null,
   "id": "5f011be5-45c1-426e-ad1d-c130167bdd0e",
   "metadata": {},
   "outputs": [],
   "source": []
  },
  {
   "cell_type": "markdown",
   "id": "9d9cb165",
   "metadata": {},
   "source": [
    "### Blip tuned for captioning\n",
    "https://huggingface.co/noamrot/FuseCap_Image_Captioning"
   ]
  },
  {
   "cell_type": "code",
   "execution_count": null,
   "id": "2b4f269a",
   "metadata": {},
   "outputs": [],
   "source": [
    "import requests\n",
    "from PIL import Image\n",
    "from transformers import BlipProcessor, BlipForConditionalGeneration\n",
    "import torch\n",
    "\n",
    "device = torch.device('cuda' if torch.cuda.is_available() else 'cpu')\n",
    "processor = BlipProcessor.from_pretrained(\"noamrot/FuseCap\")\n",
    "model = BlipForConditionalGeneration.from_pretrained(\"noamrot/FuseCap\").to(device)\n",
    "\n",
    "image_path = jpg_files[0]\n",
    "raw_image = Image.open(image_path).convert('RGB')\n",
    "raw_image"
   ]
  },
  {
   "cell_type": "code",
   "execution_count": null,
   "id": "dc0fc8ad-4bc6-4e50-995e-e2bdea44c5c0",
   "metadata": {},
   "outputs": [],
   "source": [
    "text = \"the picture contains\"\n",
    "inputs = processor(raw_image, text, return_tensors=\"pt\").to(device)\n",
    "\n",
    "out = model.generate(**inputs, num_beams = 3)\n",
    "print(processor.decode(out[0], skip_special_tokens=True))"
   ]
  },
  {
   "cell_type": "markdown",
   "id": "ce979410",
   "metadata": {},
   "source": [
    "# Caption Images\n",
    "Use the transformer model to caption each image and store the captions in a dictionary"
   ]
  },
  {
   "cell_type": "markdown",
   "id": "57e442c5-201d-43f6-8655-3fc0d6b49ca5",
   "metadata": {},
   "source": [
    "Instead of all the images, pass only the images containing people"
   ]
  },
  {
   "cell_type": "code",
   "execution_count": null,
   "id": "f45fce3d",
   "metadata": {},
   "outputs": [],
   "source": [
    "from PIL import Image, ImageFile\n",
    "from tqdm import tqdm\n",
    "\n",
    "ImageFile.LOAD_TRUNCATED_IMAGES = True  # Allow loading of truncated images\n",
    "dict_captions = {}\n",
    "for image in tqdm(jpg_files):\n",
    "    try:\n",
    "        with Image.open(image) as img:\n",
    "            raw_image = img.convert('RGB')\n",
    "            # Further processing of raw_image if needed\n",
    "            # unconditional image captioning\n",
    "            text = \"the picture contains\"\n",
    "            inputs = processor(raw_image, text, return_tensors=\"pt\").to(device)\n",
    "            out = model.generate(**inputs, num_beams = 3)\n",
    "            dict_captions[image] = processor.decode(out[0], skip_special_tokens=True)\n",
    "    except IOError as e:\n",
    "        print(f\"Cannot process image {image}: {e}\")\n",
    "        dict_captions[image] = ''"
   ]
  },
  {
   "cell_type": "code",
   "execution_count": null,
   "id": "c1ab363c",
   "metadata": {},
   "outputs": [],
   "source": [
    "import pandas as pd\n",
    "df_captions =  pd.DataFrame(list(dict_captions.items()), columns=['Long', 'Auto_caption'])"
   ]
  },
  {
   "cell_type": "code",
   "execution_count": null,
   "id": "7b15c9f5-a0c9-447d-a036-d041ff99ccb5",
   "metadata": {},
   "outputs": [],
   "source": [
    "df_captions"
   ]
  },
  {
   "cell_type": "code",
   "execution_count": null,
   "id": "c4378638-b21a-4614-8f85-663c3b0d3076",
   "metadata": {},
   "outputs": [],
   "source": [
    "df_captions['Has_women'] = df_captions['Auto_caption'].str.contains('woman|women') # Create filter for caption with woman, women\n",
    "df_women = df_captions[df_captions['Has_women'] == True].reset_index(drop = True) #filter implementation"
   ]
  },
  {
   "cell_type": "code",
   "execution_count": null,
   "id": "f0639202-bcb8-4660-bea8-7b1f88124522",
   "metadata": {},
   "outputs": [],
   "source": [
    "df_women.to_excel('../0_data/2_data_women.xlsx', index=False) #save for later cleaning, processing"
   ]
  }
 ],
 "metadata": {
  "kernelspec": {
   "display_name": "Python 3 (ipykernel)",
   "language": "python",
   "name": "python3"
  },
  "language_info": {
   "codemirror_mode": {
    "name": "ipython",
    "version": 3
   },
   "file_extension": ".py",
   "mimetype": "text/x-python",
   "name": "python",
   "nbconvert_exporter": "python",
   "pygments_lexer": "ipython3",
   "version": "3.11.5"
  }
 },
 "nbformat": 4,
 "nbformat_minor": 5
}
