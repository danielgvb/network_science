{
 "cells": [
  {
   "cell_type": "code",
   "execution_count": 1,
   "id": "170ba2a0-3c16-4e41-949a-eadeaa2bbad2",
   "metadata": {},
   "outputs": [],
   "source": [
    "import sys\n",
    "\n",
    "# Replace this with the path to your 'deepgaze' directory\n",
    "path_to_deepgaze = '../../deepgaze'\n",
    "\n",
    "# Add this path to the list of locations Python looks in for modules\n",
    "sys.path.append(path_to_deepgaze)\n",
    "\n",
    "# Now you can import from deepgaze\n",
    "from deepgaze.color_detection import RangeColorDetector"
   ]
  },
  {
   "cell_type": "code",
   "execution_count": 2,
   "id": "3ce6e2a0-38aa-4d71-a09f-704f954cc7cf",
   "metadata": {},
   "outputs": [
    {
     "ename": "error",
     "evalue": "OpenCV(4.8.1) D:\\a\\opencv-python\\opencv-python\\opencv\\modules\\imgproc\\src\\color.cpp:182: error: (-215:Assertion failed) !_src.empty() in function 'cv::cvtColor'\n",
     "output_type": "error",
     "traceback": [
      "\u001b[1;31m---------------------------------------------------------------------------\u001b[0m",
      "\u001b[1;31merror\u001b[0m                                     Traceback (most recent call last)",
      "Cell \u001b[1;32mIn[2], line 34\u001b[0m\n\u001b[0;32m     32\u001b[0m my_skin_detector\u001b[38;5;241m.\u001b[39msetRange(min_range, max_range) \u001b[38;5;66;03m#Set the new range for the color detector object\u001b[39;00m\n\u001b[0;32m     33\u001b[0m \u001b[38;5;66;03m#For this image we use one iteration of the morph_opening and gaussian blur to clear the noise\u001b[39;00m\n\u001b[1;32m---> 34\u001b[0m image_filtered \u001b[38;5;241m=\u001b[39m my_skin_detector\u001b[38;5;241m.\u001b[39mreturnFiltered(image, morph_opening\u001b[38;5;241m=\u001b[39m\u001b[38;5;28;01mTrue\u001b[39;00m, blur\u001b[38;5;241m=\u001b[39m\u001b[38;5;28;01mTrue\u001b[39;00m, kernel_size\u001b[38;5;241m=\u001b[39m\u001b[38;5;241m3\u001b[39m, iterations\u001b[38;5;241m=\u001b[39m\u001b[38;5;241m1\u001b[39m)\n\u001b[0;32m     35\u001b[0m cv2\u001b[38;5;241m.\u001b[39mimwrite(\u001b[38;5;124m\"\u001b[39m\u001b[38;5;124mtomb_rider_2_filtered.jpg\u001b[39m\u001b[38;5;124m\"\u001b[39m, image_filtered)\n",
      "File \u001b[1;32m~\\Documents\\GitHub\\network_science\\2_image_processing\\../../deepgaze\\deepgaze\\color_detection.py:251\u001b[0m, in \u001b[0;36mRangeColorDetector.returnFiltered\u001b[1;34m(self, frame, morph_opening, blur, kernel_size, iterations)\u001b[0m\n\u001b[0;32m    242\u001b[0m \u001b[38;5;28;01mdef\u001b[39;00m \u001b[38;5;21mreturnFiltered\u001b[39m(\u001b[38;5;28mself\u001b[39m, frame, morph_opening\u001b[38;5;241m=\u001b[39m\u001b[38;5;28;01mTrue\u001b[39;00m, blur\u001b[38;5;241m=\u001b[39m\u001b[38;5;28;01mTrue\u001b[39;00m, kernel_size\u001b[38;5;241m=\u001b[39m\u001b[38;5;241m5\u001b[39m, iterations\u001b[38;5;241m=\u001b[39m\u001b[38;5;241m1\u001b[39m):\n\u001b[0;32m    243\u001b[0m \u001b[38;5;250m    \u001b[39m\u001b[38;5;124;03m\"\"\"Given an input frame return the filtered and denoised version.\u001b[39;00m\n\u001b[0;32m    244\u001b[0m \u001b[38;5;124;03m\u001b[39;00m\n\u001b[0;32m    245\u001b[0m \u001b[38;5;124;03m    @param frame the original frame (color)\u001b[39;00m\n\u001b[1;32m   (...)\u001b[0m\n\u001b[0;32m    249\u001b[0m \u001b[38;5;124;03m    @param iterations the number of time erode and dilate are called\u001b[39;00m\n\u001b[0;32m    250\u001b[0m \u001b[38;5;124;03m    \"\"\"\u001b[39;00m\n\u001b[1;32m--> 251\u001b[0m     frame_filtered \u001b[38;5;241m=\u001b[39m \u001b[38;5;28mself\u001b[39m\u001b[38;5;241m.\u001b[39mreturnMask(frame, morph_opening\u001b[38;5;241m=\u001b[39mmorph_opening, blur\u001b[38;5;241m=\u001b[39mblur, kernel_size\u001b[38;5;241m=\u001b[39mkernel_size, iterations\u001b[38;5;241m=\u001b[39miterations)\n\u001b[0;32m    252\u001b[0m     \u001b[38;5;66;03m#bitwiseAND mask\u001b[39;00m\n\u001b[0;32m    253\u001b[0m     frame_denoised \u001b[38;5;241m=\u001b[39m cv2\u001b[38;5;241m.\u001b[39mbitwise_and(frame, frame, mask \u001b[38;5;241m=\u001b[39m frame_filtered)\n",
      "File \u001b[1;32m~\\Documents\\GitHub\\network_science\\2_image_processing\\../../deepgaze\\deepgaze\\color_detection.py:265\u001b[0m, in \u001b[0;36mRangeColorDetector.returnMask\u001b[1;34m(self, frame, morph_opening, blur, kernel_size, iterations)\u001b[0m\n\u001b[0;32m    257\u001b[0m \u001b[38;5;250m\u001b[39m\u001b[38;5;124;03m\"\"\"Given an input frame return the black/white mask.\u001b[39;00m\n\u001b[0;32m    258\u001b[0m \u001b[38;5;124;03m\u001b[39;00m\n\u001b[0;32m    259\u001b[0m \u001b[38;5;124;03mThis version of the function does not use the blur and bitwise \u001b[39;00m\n\u001b[1;32m   (...)\u001b[0m\n\u001b[0;32m    262\u001b[0m \u001b[38;5;124;03m@param frame the original frame (color)\u001b[39;00m\n\u001b[0;32m    263\u001b[0m \u001b[38;5;124;03m\"\"\"\u001b[39;00m\n\u001b[0;32m    264\u001b[0m \u001b[38;5;66;03m#Convert to HSV and eliminate pixels outside the range\u001b[39;00m\n\u001b[1;32m--> 265\u001b[0m frame_hsv \u001b[38;5;241m=\u001b[39m cv2\u001b[38;5;241m.\u001b[39mcvtColor(frame, cv2\u001b[38;5;241m.\u001b[39mCOLOR_BGR2HSV)\n\u001b[0;32m    266\u001b[0m frame_filtered \u001b[38;5;241m=\u001b[39m cv2\u001b[38;5;241m.\u001b[39minRange(frame_hsv, \u001b[38;5;28mself\u001b[39m\u001b[38;5;241m.\u001b[39mmin_range, \u001b[38;5;28mself\u001b[39m\u001b[38;5;241m.\u001b[39mmax_range)\n\u001b[0;32m    267\u001b[0m \u001b[38;5;28;01mif\u001b[39;00m(morph_opening\u001b[38;5;241m==\u001b[39m\u001b[38;5;28;01mTrue\u001b[39;00m):\n",
      "\u001b[1;31merror\u001b[0m: OpenCV(4.8.1) D:\\a\\opencv-python\\opencv-python\\opencv\\modules\\imgproc\\src\\color.cpp:182: error: (-215:Assertion failed) !_src.empty() in function 'cv::cvtColor'\n"
     ]
    }
   ],
   "source": [
    "#The MIT License (MIT)\n",
    "#Copyright (c) 2016 Massimiliano Patacchiola\n",
    "#\n",
    "#THE SOFTWARE IS PROVIDED \"AS IS\", WITHOUT WARRANTY OF ANY KIND, EXPRESS OR IMPLIED, INCLUDING BUT NOT LIMITED TO THE WARRANTIES OF \n",
    "#MERCHANTABILITY, FITNESS FOR A PARTICULAR PURPOSE AND NONINFRINGEMENT. IN NO EVENT SHALL THE AUTHORS OR COPYRIGHT HOLDERS BE LIABLE FOR ANY \n",
    "#CLAIM, DAMAGES OR OTHER LIABILITY, WHETHER IN AN ACTION OF CONTRACT, TORT OR OTHERWISE, ARISING FROM, OUT OF OR IN CONNECTION WITH THE \n",
    "#SOFTWARE OR THE USE OR OTHER DEALINGS IN THE SOFTWARE.\n",
    "\n",
    "#In this example I use the range detector class to detect skin in two pictures\n",
    "#The range detector find which pixels are included in a specific range.\n",
    "#The hardest part is to find the correct boundaries for the range and tune\n",
    "#the detector with the right morphing operation in order to have clean results\n",
    "#and remove noise. The filter use HSV color representation (https://en.wikipedia.org/wiki/HSL_and_HSV)\n",
    "\n",
    "import numpy as np\n",
    "import cv2\n",
    "from deepgaze.color_detection import RangeColorDetector\n",
    "\n",
    "#Firs image boundaries\n",
    "min_range = np.array([0, 48, 70], dtype = \"uint8\") #lower HSV boundary of skin color\n",
    "max_range = np.array([20, 150, 255], dtype = \"uint8\") #upper HSV boundary of skin color\n",
    "my_skin_detector = RangeColorDetector(min_range, max_range) #Define the detector object\n",
    "image = cv2.imread(\"sample/2014-03-21_10-14-52_UTC.jpg\") #Read the image with OpenCV\n",
    "#We do not need to remove noise from this image so morph_opening and blur are se to False\n",
    "image_filtered = my_skin_detector.returnFiltered(image, morph_opening=False, blur=False, kernel_size=3, iterations=1)\n",
    "cv2.imwrite(\"tomb_rider_filtered.jpg\", image_filtered) #Save the filtered image\n",
    "\n",
    "#Second image boundaries\n",
    "min_range = np.array([0, 58, 50], dtype = \"uint8\") #lower HSV boundary of skin color\n",
    "max_range = np.array([30, 255, 255], dtype = \"uint8\") #upper HSV boundary of skin color\n",
    "image = cv2.imread(\"tomb_rider_2.jpg\") #Read the image with OpenCV\n",
    "my_skin_detector.setRange(min_range, max_range) #Set the new range for the color detector object\n",
    "#For this image we use one iteration of the morph_opening and gaussian blur to clear the noise\n",
    "image_filtered = my_skin_detector.returnFiltered(image, morph_opening=True, blur=True, kernel_size=3, iterations=1)\n",
    "cv2.imwrite(\"tomb_rider_2_filtered.jpg\", image_filtered) #Save the filtered image"
   ]
  }
 ],
 "metadata": {
  "kernelspec": {
   "display_name": "Python 3 (ipykernel)",
   "language": "python",
   "name": "python3"
  },
  "language_info": {
   "codemirror_mode": {
    "name": "ipython",
    "version": 3
   },
   "file_extension": ".py",
   "mimetype": "text/x-python",
   "name": "python",
   "nbconvert_exporter": "python",
   "pygments_lexer": "ipython3",
   "version": "3.11.5"
  }
 },
 "nbformat": 4,
 "nbformat_minor": 5
}
