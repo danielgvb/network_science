{
 "cells": [
  {
   "cell_type": "markdown",
   "id": "2a9d0534-1acd-4605-8c2e-810438b18b5d",
   "metadata": {},
   "source": [
    "sources = \n",
    "* https://realpython.com/python-opencv-color-spaces/\n",
    "* https://pyimagesearch.com/2014/08/18/skin-detection-step-step-example-using-python-opencv/\n",
    "* https://github.com/noorkhokhar99/skindetection\n",
    "* https://github.com/CHEREF-Mehdi/SkinDetection\n",
    "* https://github.com/mpatacchiola/deepgaze"
   ]
  },
  {
   "cell_type": "code",
   "execution_count": null,
   "id": "09ee6d12-0377-42e1-940c-25dae8219c68",
   "metadata": {},
   "outputs": [],
   "source": [
    "#!/usr/bin/env python\n",
    "\n",
    "#The MIT License (MIT)\n",
    "#Copyright (c) 2016 Massimiliano Patacchiola\n",
    "#\n",
    "#THE SOFTWARE IS PROVIDED \"AS IS\", WITHOUT WARRANTY OF ANY KIND, EXPRESS OR IMPLIED, INCLUDING BUT NOT LIMITED TO THE WARRANTIES OF \n",
    "#MERCHANTABILITY, FITNESS FOR A PARTICULAR PURPOSE AND NONINFRINGEMENT. IN NO EVENT SHALL THE AUTHORS OR COPYRIGHT HOLDERS BE LIABLE FOR ANY \n",
    "#CLAIM, DAMAGES OR OTHER LIABILITY, WHETHER IN AN ACTION OF CONTRACT, TORT OR OTHERWISE, ARISING FROM, OUT OF OR IN CONNECTION WITH THE \n",
    "#SOFTWARE OR THE USE OR OTHER DEALINGS IN THE SOFTWARE.\n",
    "\n",
    "#In this example I use the range detector class to detect skin in two pictures\n",
    "#The range detector find which pixels are included in a specific range.\n",
    "#The hardest part is to find the correct boundaries for the range and tune\n",
    "#the detector with the right morphing operation in order to have clean results\n",
    "#and remove noise. The filter use HSV color representation (https://en.wikipedia.org/wiki/HSL_and_HSV)\n",
    "\n",
    "import numpy as np\n",
    "import cv2\n",
    "from deepgaze.color_detection import RangeColorDetector\n",
    "\n",
    "#Firs image boundaries\n",
    "min_range = np.array([0, 48, 70], dtype = \"uint8\") #lower HSV boundary of skin color\n",
    "max_range = np.array([20, 150, 255], dtype = \"uint8\") #upper HSV boundary of skin color\n",
    "my_skin_detector = RangeColorDetector(min_range, max_range) #Define the detector object\n",
    "image = cv2.imread(\"tomb_rider.jpg\") #Read the image with OpenCV\n",
    "#We do not need to remove noise from this image so morph_opening and blur are se to False\n",
    "image_filtered = my_skin_detector.returnFiltered(image, morph_opening=False, blur=False, kernel_size=3, iterations=1)\n",
    "cv2.imwrite(\"tomb_rider_filtered.jpg\", image_filtered) #Save the filtered image\n",
    "\n",
    "#Second image boundaries\n",
    "min_range = np.array([0, 58, 50], dtype = \"uint8\") #lower HSV boundary of skin color\n",
    "max_range = np.array([30, 255, 255], dtype = \"uint8\") #upper HSV boundary of skin color\n",
    "image = cv2.imread(\"tomb_rider_2.jpg\") #Read the image with OpenCV\n",
    "my_skin_detector.setRange(min_range, max_range) #Set the new range for the color detector object\n",
    "#For this image we use one iteration of the morph_opening and gaussian blur to clear the noise\n",
    "image_filtered = my_skin_detector.returnFiltered(image, morph_opening=True, blur=True, kernel_size=3, iterations=1)\n",
    "cv2.imwrite(\"tomb_rider_2_filtered.jpg\", image_filtered) #Save the filtered image"
   ]
  }
 ],
 "metadata": {
  "kernelspec": {
   "display_name": "Python 3 (ipykernel)",
   "language": "python",
   "name": "python3"
  },
  "language_info": {
   "codemirror_mode": {
    "name": "ipython",
    "version": 3
   },
   "file_extension": ".py",
   "mimetype": "text/x-python",
   "name": "python",
   "nbconvert_exporter": "python",
   "pygments_lexer": "ipython3",
   "version": "3.11.5"
  }
 },
 "nbformat": 4,
 "nbformat_minor": 5
}
