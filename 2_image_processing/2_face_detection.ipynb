{
 "cells": [
  {
   "cell_type": "code",
   "execution_count": 1,
   "id": "584c98b2-aac8-4390-afe9-f993b853fc57",
   "metadata": {},
   "outputs": [
    {
     "name": "stderr",
     "output_type": "stream",
     "text": [
      "C:\\Users\\danie\\anaconda3\\envs\\ds_master\\Lib\\site-packages\\tqdm\\auto.py:21: TqdmWarning: IProgress not found. Please update jupyter and ipywidgets. See https://ipywidgets.readthedocs.io/en/stable/user_install.html\n",
      "  from .autonotebook import tqdm as notebook_tqdm\n"
     ]
    }
   ],
   "source": [
    "# load libraries\n",
    "from huggingface_hub import hf_hub_download\n",
    "from ultralytics import YOLO\n",
    "from supervision import Detections\n",
    "from PIL import Image"
   ]
  },
  {
   "cell_type": "markdown",
   "id": "f0a993be-3826-4329-8f50-0877f181afff",
   "metadata": {},
   "source": [
    "# Sample usage"
   ]
  },
  {
   "cell_type": "markdown",
   "id": "3007cb21-ee9e-46d9-a5bc-ead46fe0c992",
   "metadata": {},
   "source": [
    "source = https://huggingface.co/arnabdhar/YOLOv8-Face-Detection"
   ]
  },
  {
   "cell_type": "code",
   "execution_count": 2,
   "id": "58115f17-49c9-4eb2-9cf3-8ad2dbd4d164",
   "metadata": {},
   "outputs": [
    {
     "name": "stdout",
     "output_type": "stream",
     "text": [
      "\n",
      "0: 640x512 (no detections), 212.9ms\n",
      "Speed: 10.1ms preprocess, 212.9ms inference, 9.0ms postprocess per image at shape (1, 3, 640, 512)\n"
     ]
    }
   ],
   "source": [
    "# download model\n",
    "model_path = hf_hub_download(repo_id=\"arnabdhar/YOLOv8-Face-Detection\", filename=\"model.pt\")\n",
    "\n",
    "# load model\n",
    "model = YOLO(model_path)\n",
    "\n",
    "# inference\n",
    "#image_path = \"sample/2013-10-08_12-40-36_UTC.jpg\" # face\n",
    "image_path = \"sample/2022-11-30_16-58-45_UTC_6.jpg\" # no face\n",
    "image = Image.open(image_path)\n",
    "\n",
    "# Perform inference\n",
    "output = model(image, save_conf=True)\n",
    "results = Detections.from_ultralytics(output[0])"
   ]
  },
  {
   "cell_type": "markdown",
   "id": "84115f1a-bf4a-480e-b9e6-c6f38b0e8eb5",
   "metadata": {},
   "source": [
    "# Label all data"
   ]
  },
  {
   "cell_type": "code",
   "execution_count": 3,
   "id": "af0c51fe-b808-443f-a166-91f5461c0fed",
   "metadata": {},
   "outputs": [
    {
     "data": {
      "text/plain": [
       "['../1_download_data/data/raw/-PHbiexlr_\\\\2015-11-18_18-26-59_UTC.jpg',\n",
       " '../1_download_data/data/raw/3YO1o0Rlkt\\\\2015-06-01_07-45-08_UTC.jpg',\n",
       " '../1_download_data/data/raw/4yqgDyxloK\\\\2015-07-06_10-38-30_UTC.jpg',\n",
       " '../1_download_data/data/raw/B-y2Fo8qcN_\\\\2020-04-10_08-57-20_UTC.jpg',\n",
       " '../1_download_data/data/raw/B3__d73i46x\\\\2019-10-24_11-49-40_UTC.jpg',\n",
       " '../1_download_data/data/raw/B8zBgZeD8bQ\\\\2020-02-20_17-34-19_UTC.jpg',\n",
       " '../1_download_data/data/raw/B9UltWvIDjA\\\\2020-03-04_18-25-36_UTC.jpg',\n",
       " '../1_download_data/data/raw/B9XY-IjjDWt\\\\2020-03-05_20-32-01_UTC_1.jpg',\n",
       " '../1_download_data/data/raw/B9XY-IjjDWt\\\\2020-03-05_20-32-01_UTC_2.jpg',\n",
       " '../1_download_data/data/raw/BBIHpekRlhD\\\\2016-01-29_14-48-24_UTC.jpg']"
      ]
     },
     "execution_count": 3,
     "metadata": {},
     "output_type": "execute_result"
    }
   ],
   "source": [
    "import os\n",
    "import glob\n",
    "\n",
    "# Replace this with the directory you want to search in\n",
    "directory = '../1_download_data/data/raw/' #change when data is new data\n",
    "\n",
    "\n",
    "\n",
    "def get_jpg_files(folder_path):\n",
    "    jpg_files = []\n",
    "    for root, dirs, files in os.walk(folder_path):\n",
    "        for file in files:\n",
    "            if file.endswith('.jpg'):\n",
    "                jpg_files.append(os.path.join(root, file))\n",
    "    return jpg_files\n",
    "\n",
    "# Example usage\n",
    "folder_path = '../1_download_data/data/raw/'\n",
    "jpg_files = get_jpg_files(folder_path)\n",
    "jpg_files[0:10]"
   ]
  },
  {
   "cell_type": "code",
   "execution_count": 6,
   "id": "11af4e36-f0ff-46d3-add1-0118de067e14",
   "metadata": {},
   "outputs": [
    {
     "name": "stderr",
     "output_type": "stream",
     "text": [
      "  0%|                                                                                           | 0/10 [00:00<?, ?it/s]"
     ]
    },
    {
     "name": "stdout",
     "output_type": "stream",
     "text": [
      "\n",
      "0: 640x640 2 FACEs, 149.6ms\n",
      "Speed: 5.5ms preprocess, 149.6ms inference, 10.0ms postprocess per image at shape (1, 3, 640, 640)\n"
     ]
    },
    {
     "name": "stderr",
     "output_type": "stream",
     "text": [
      " 10%|████████▎                                                                          | 1/10 [00:00<00:02,  4.28it/s]"
     ]
    },
    {
     "name": "stdout",
     "output_type": "stream",
     "text": [
      "\n",
      "0: 640x640 1 FACE, 122.7ms\n",
      "Speed: 0.0ms preprocess, 122.7ms inference, 2.0ms postprocess per image at shape (1, 3, 640, 640)\n"
     ]
    },
    {
     "name": "stderr",
     "output_type": "stream",
     "text": [
      " 20%|████████████████▌                                                                  | 2/10 [00:00<00:01,  5.45it/s]"
     ]
    },
    {
     "name": "stdout",
     "output_type": "stream",
     "text": [
      "\n",
      "0: 640x640 2 FACEs, 130.3ms\n",
      "Speed: 8.5ms preprocess, 130.3ms inference, 0.0ms postprocess per image at shape (1, 3, 640, 640)\n"
     ]
    },
    {
     "name": "stderr",
     "output_type": "stream",
     "text": [
      " 30%|████████████████████████▉                                                          | 3/10 [00:00<00:01,  5.79it/s]"
     ]
    },
    {
     "name": "stdout",
     "output_type": "stream",
     "text": [
      "\n",
      "0: 640x512 (no detections), 103.1ms\n",
      "Speed: 2.5ms preprocess, 103.1ms inference, 2.0ms postprocess per image at shape (1, 3, 640, 512)\n"
     ]
    },
    {
     "name": "stderr",
     "output_type": "stream",
     "text": [
      " 40%|█████████████████████████████████▏                                                 | 4/10 [00:00<00:01,  5.59it/s]"
     ]
    },
    {
     "name": "stdout",
     "output_type": "stream",
     "text": [
      "\n",
      "0: 448x640 1 FACE, 119.7ms\n",
      "Speed: 5.0ms preprocess, 119.7ms inference, 2.0ms postprocess per image at shape (1, 3, 448, 640)\n"
     ]
    },
    {
     "name": "stderr",
     "output_type": "stream",
     "text": [
      " 50%|█████████████████████████████████████████▌                                         | 5/10 [00:00<00:00,  5.63it/s]"
     ]
    },
    {
     "name": "stdout",
     "output_type": "stream",
     "text": [
      "\n",
      "0: 640x544 1 FACE, 127.1ms\n",
      "Speed: 8.0ms preprocess, 127.1ms inference, 1.6ms postprocess per image at shape (1, 3, 640, 544)\n"
     ]
    },
    {
     "name": "stderr",
     "output_type": "stream",
     "text": [
      " 60%|█████████████████████████████████████████████████▊                                 | 6/10 [00:01<00:00,  5.38it/s]"
     ]
    },
    {
     "name": "stdout",
     "output_type": "stream",
     "text": [
      "\n",
      "0: 640x544 2 FACEs, 128.2ms\n",
      "Speed: 5.0ms preprocess, 128.2ms inference, 0.0ms postprocess per image at shape (1, 3, 640, 544)\n"
     ]
    },
    {
     "name": "stderr",
     "output_type": "stream",
     "text": [
      " 70%|██████████████████████████████████████████████████████████                         | 7/10 [00:01<00:00,  5.21it/s]"
     ]
    },
    {
     "name": "stdout",
     "output_type": "stream",
     "text": [
      "\n",
      "0: 640x512 (no detections), 114.9ms\n",
      "Speed: 0.0ms preprocess, 114.9ms inference, 0.0ms postprocess per image at shape (1, 3, 640, 512)\n"
     ]
    },
    {
     "name": "stderr",
     "output_type": "stream",
     "text": [
      " 80%|██████████████████████████████████████████████████████████████████▍                | 8/10 [00:01<00:00,  5.23it/s]"
     ]
    },
    {
     "name": "stdout",
     "output_type": "stream",
     "text": [
      "\n",
      "0: 640x512 (no detections), 106.6ms\n",
      "Speed: 4.0ms preprocess, 106.6ms inference, 0.0ms postprocess per image at shape (1, 3, 640, 512)\n"
     ]
    },
    {
     "name": "stderr",
     "output_type": "stream",
     "text": [
      " 90%|██████████████████████████████████████████████████████████████████████████▋        | 9/10 [00:01<00:00,  5.51it/s]"
     ]
    },
    {
     "name": "stdout",
     "output_type": "stream",
     "text": [
      "\n",
      "0: 640x640 1 FACE, 130.6ms\n",
      "Speed: 7.5ms preprocess, 130.6ms inference, 1.0ms postprocess per image at shape (1, 3, 640, 640)\n"
     ]
    },
    {
     "name": "stderr",
     "output_type": "stream",
     "text": [
      "100%|██████████████████████████████████████████████████████████████████████████████████| 10/10 [00:01<00:00,  5.34it/s]\n"
     ]
    }
   ],
   "source": [
    "from tqdm import tqdm\n",
    "dict_face_detection = {}\n",
    "for image_path in tqdm(jpg_files[0:10]):\n",
    "    short_name = image_path.split('\\\\')[1]\n",
    "    try:\n",
    "        image = Image.open(image_path)\n",
    "        # Perform inference\n",
    "        output = model(image)\n",
    "        results = Detections.from_ultralytics(output[0])\n",
    "        tensor = output[0].boxes.xyxy  # Replace with your tensor\n",
    "        # Accessing the first element\n",
    "        if tensor.numel() > 0:  # Check if the tensor is not empty\n",
    "            dict_face_detection[short_name] = 1\n",
    "        else:\n",
    "            dict_face_detection[short_name] = 0\n",
    "    except:\n",
    "        pass\n",
    " "
   ]
  },
  {
   "cell_type": "code",
   "execution_count": 7,
   "id": "ae31f052-b92a-4a27-886d-8bd5fe130bdd",
   "metadata": {},
   "outputs": [
    {
     "data": {
      "text/plain": [
       "{'2015-11-18_18-26-59_UTC.jpg': 1,\n",
       " '2015-06-01_07-45-08_UTC.jpg': 1,\n",
       " '2015-07-06_10-38-30_UTC.jpg': 1,\n",
       " '2020-04-10_08-57-20_UTC.jpg': 0,\n",
       " '2019-10-24_11-49-40_UTC.jpg': 1,\n",
       " '2020-02-20_17-34-19_UTC.jpg': 1,\n",
       " '2020-03-04_18-25-36_UTC.jpg': 1,\n",
       " '2020-03-05_20-32-01_UTC_1.jpg': 0,\n",
       " '2020-03-05_20-32-01_UTC_2.jpg': 0,\n",
       " '2016-01-29_14-48-24_UTC.jpg': 1}"
      ]
     },
     "execution_count": 7,
     "metadata": {},
     "output_type": "execute_result"
    }
   ],
   "source": [
    "dict_face_detection"
   ]
  },
  {
   "cell_type": "code",
   "execution_count": 10,
   "id": "c1f62ae5-9c5a-45e4-a30a-b17395cd98c0",
   "metadata": {},
   "outputs": [
    {
     "data": {
      "text/html": [
       "<div>\n",
       "<style scoped>\n",
       "    .dataframe tbody tr th:only-of-type {\n",
       "        vertical-align: middle;\n",
       "    }\n",
       "\n",
       "    .dataframe tbody tr th {\n",
       "        vertical-align: top;\n",
       "    }\n",
       "\n",
       "    .dataframe thead th {\n",
       "        text-align: right;\n",
       "    }\n",
       "</style>\n",
       "<table border=\"1\" class=\"dataframe\">\n",
       "  <thead>\n",
       "    <tr style=\"text-align: right;\">\n",
       "      <th></th>\n",
       "      <th>Long</th>\n",
       "      <th>Face</th>\n",
       "    </tr>\n",
       "  </thead>\n",
       "  <tbody>\n",
       "    <tr>\n",
       "      <th>0</th>\n",
       "      <td>2015-11-18_18-26-59_UTC.jpg</td>\n",
       "      <td>1</td>\n",
       "    </tr>\n",
       "    <tr>\n",
       "      <th>1</th>\n",
       "      <td>2015-06-01_07-45-08_UTC.jpg</td>\n",
       "      <td>1</td>\n",
       "    </tr>\n",
       "    <tr>\n",
       "      <th>2</th>\n",
       "      <td>2015-07-06_10-38-30_UTC.jpg</td>\n",
       "      <td>1</td>\n",
       "    </tr>\n",
       "    <tr>\n",
       "      <th>3</th>\n",
       "      <td>2020-04-10_08-57-20_UTC.jpg</td>\n",
       "      <td>0</td>\n",
       "    </tr>\n",
       "    <tr>\n",
       "      <th>4</th>\n",
       "      <td>2019-10-24_11-49-40_UTC.jpg</td>\n",
       "      <td>1</td>\n",
       "    </tr>\n",
       "    <tr>\n",
       "      <th>5</th>\n",
       "      <td>2020-02-20_17-34-19_UTC.jpg</td>\n",
       "      <td>1</td>\n",
       "    </tr>\n",
       "    <tr>\n",
       "      <th>6</th>\n",
       "      <td>2020-03-04_18-25-36_UTC.jpg</td>\n",
       "      <td>1</td>\n",
       "    </tr>\n",
       "    <tr>\n",
       "      <th>7</th>\n",
       "      <td>2020-03-05_20-32-01_UTC_1.jpg</td>\n",
       "      <td>0</td>\n",
       "    </tr>\n",
       "    <tr>\n",
       "      <th>8</th>\n",
       "      <td>2020-03-05_20-32-01_UTC_2.jpg</td>\n",
       "      <td>0</td>\n",
       "    </tr>\n",
       "    <tr>\n",
       "      <th>9</th>\n",
       "      <td>2016-01-29_14-48-24_UTC.jpg</td>\n",
       "      <td>1</td>\n",
       "    </tr>\n",
       "  </tbody>\n",
       "</table>\n",
       "</div>"
      ],
      "text/plain": [
       "                            Long  Face\n",
       "0    2015-11-18_18-26-59_UTC.jpg     1\n",
       "1    2015-06-01_07-45-08_UTC.jpg     1\n",
       "2    2015-07-06_10-38-30_UTC.jpg     1\n",
       "3    2020-04-10_08-57-20_UTC.jpg     0\n",
       "4    2019-10-24_11-49-40_UTC.jpg     1\n",
       "5    2020-02-20_17-34-19_UTC.jpg     1\n",
       "6    2020-03-04_18-25-36_UTC.jpg     1\n",
       "7  2020-03-05_20-32-01_UTC_1.jpg     0\n",
       "8  2020-03-05_20-32-01_UTC_2.jpg     0\n",
       "9    2016-01-29_14-48-24_UTC.jpg     1"
      ]
     },
     "execution_count": 10,
     "metadata": {},
     "output_type": "execute_result"
    }
   ],
   "source": [
    "import pandas as pd\n",
    "df_faces = pd.DataFrame(dict_face_detection.items(), columns=['Long', 'Face'])\n",
    "df_faces"
   ]
  },
  {
   "cell_type": "code",
   "execution_count": null,
   "id": "b4ccb9df-5873-48e7-bf06-a7495aa43dc5",
   "metadata": {},
   "outputs": [],
   "source": [
    "df_faces.to_excel('../0_data/dataframe_face_detection.xlsx', index=False)"
   ]
  }
 ],
 "metadata": {
  "kernelspec": {
   "display_name": "Python 3 (ipykernel)",
   "language": "python",
   "name": "python3"
  },
  "language_info": {
   "codemirror_mode": {
    "name": "ipython",
    "version": 3
   },
   "file_extension": ".py",
   "mimetype": "text/x-python",
   "name": "python",
   "nbconvert_exporter": "python",
   "pygments_lexer": "ipython3",
   "version": "3.11.5"
  }
 },
 "nbformat": 4,
 "nbformat_minor": 5
}
