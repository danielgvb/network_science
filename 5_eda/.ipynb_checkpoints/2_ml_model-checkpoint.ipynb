{
 "cells": [
  {
   "cell_type": "code",
   "execution_count": 3,
   "id": "083ad3ac-2519-40bc-a934-8f8117f7e522",
   "metadata": {},
   "outputs": [],
   "source": [
    "import pandas as pd\n",
    "import numpy as np\n",
    "import matplotlib.pyplot as plt\n",
    "import seaborn as sns\n",
    "from sklearn.model_selection import train_test_split\n",
    "from sklearn.ensemble import RandomForestClassifier\n",
    "from sklearn.linear_model import LogisticRegression\n",
    "from sklearn.metrics import accuracy_score"
   ]
  },
  {
   "cell_type": "code",
   "execution_count": 4,
   "id": "d1eac7cd-b155-486c-ac92-20dc34eca967",
   "metadata": {},
   "outputs": [
    {
     "data": {
      "text/html": [
       "<div>\n",
       "<style scoped>\n",
       "    .dataframe tbody tr th:only-of-type {\n",
       "        vertical-align: middle;\n",
       "    }\n",
       "\n",
       "    .dataframe tbody tr th {\n",
       "        vertical-align: top;\n",
       "    }\n",
       "\n",
       "    .dataframe thead th {\n",
       "        text-align: right;\n",
       "    }\n",
       "</style>\n",
       "<table border=\"1\" class=\"dataframe\">\n",
       "  <thead>\n",
       "    <tr style=\"text-align: right;\">\n",
       "      <th></th>\n",
       "      <th>Long</th>\n",
       "      <th>Face</th>\n",
       "      <th>Skin_pct</th>\n",
       "      <th>Auto_caption</th>\n",
       "      <th>id</th>\n",
       "      <th>Short</th>\n",
       "      <th>link</th>\n",
       "      <th>Objectify (yes or no)</th>\n",
       "      <th>caption</th>\n",
       "    </tr>\n",
       "  </thead>\n",
       "  <tbody>\n",
       "    <tr>\n",
       "      <th>0</th>\n",
       "      <td>2015-11-18_18-26-59_UTC</td>\n",
       "      <td>1</td>\n",
       "      <td>0.042849</td>\n",
       "      <td>a picture of a woman with long black hair sits...</td>\n",
       "      <td>207</td>\n",
       "      <td>-PHbiexlr_</td>\n",
       "      <td>https://www.instagram.com/p/-PHbiexlr_/?igshid...</td>\n",
       "      <td>1</td>\n",
       "      <td>Stunning Mariana Rodriguez in #amencouture. Se...</td>\n",
       "    </tr>\n",
       "    <tr>\n",
       "      <th>1</th>\n",
       "      <td>2015-06-01_07-45-08_UTC</td>\n",
       "      <td>1</td>\n",
       "      <td>0.491443</td>\n",
       "      <td>a picture of a woman with black hair and a bla...</td>\n",
       "      <td>214</td>\n",
       "      <td>3YO1o0Rlkt</td>\n",
       "      <td>https://www.instagram.com/p/3YO1o0Rlkt/?igshid...</td>\n",
       "      <td>1</td>\n",
       "      <td>@emastokholma in Amen embroidered #dress from ...</td>\n",
       "    </tr>\n",
       "    <tr>\n",
       "      <th>2</th>\n",
       "      <td>2015-07-06_10-38-30_UTC</td>\n",
       "      <td>1</td>\n",
       "      <td>0.133582</td>\n",
       "      <td>a picture of a woman with black hair and a bla...</td>\n",
       "      <td>213</td>\n",
       "      <td>4yqgDyxloK</td>\n",
       "      <td>https://www.instagram.com/p/4yqgDyxloK/?igshid...</td>\n",
       "      <td>1</td>\n",
       "      <td>Stunning DJ @emastokholma wears all over paill...</td>\n",
       "    </tr>\n",
       "    <tr>\n",
       "      <th>3</th>\n",
       "      <td>2020-04-10_08-57-20_UTC</td>\n",
       "      <td>0</td>\n",
       "      <td>0.258619</td>\n",
       "      <td>a picture of a woman wearing a black jacket an...</td>\n",
       "      <td>209</td>\n",
       "      <td>B-y2Fo8qcN_</td>\n",
       "      <td>https://www.instagram.com/p/B-y2Fo8qcN_/?igshi...</td>\n",
       "      <td>1</td>\n",
       "      <td>Crystal Pumps ✨ #AmenStyle #AmenPreSpring20 #A...</td>\n",
       "    </tr>\n",
       "    <tr>\n",
       "      <th>4</th>\n",
       "      <td>2019-10-24_11-49-40_UTC</td>\n",
       "      <td>1</td>\n",
       "      <td>0.888304</td>\n",
       "      <td>a picture of a woman in a red dress sits on a ...</td>\n",
       "      <td>200</td>\n",
       "      <td>B3__d73i46x</td>\n",
       "      <td>https://www.instagram.com/p/B3__d73i46x/?igshi...</td>\n",
       "      <td>1</td>\n",
       "      <td>Discover our FW19 Collection on amenstyle.com ...</td>\n",
       "    </tr>\n",
       "    <tr>\n",
       "      <th>...</th>\n",
       "      <td>...</td>\n",
       "      <td>...</td>\n",
       "      <td>...</td>\n",
       "      <td>...</td>\n",
       "      <td>...</td>\n",
       "      <td>...</td>\n",
       "      <td>...</td>\n",
       "      <td>...</td>\n",
       "      <td>...</td>\n",
       "    </tr>\n",
       "    <tr>\n",
       "      <th>758</th>\n",
       "      <td>2023-11-08_17-37-17_UTC_4</td>\n",
       "      <td>1</td>\n",
       "      <td>0.030407</td>\n",
       "      <td>a picture of a woman in a black coat and sungl...</td>\n",
       "      <td>235</td>\n",
       "      <td>CzZMjcYMP21</td>\n",
       "      <td>https://www.instagram.com/p/CzZMjcYMP21/?utm_s...</td>\n",
       "      <td>0</td>\n",
       "      <td>This season must-have. @fashionhurricanebyv in...</td>\n",
       "    </tr>\n",
       "    <tr>\n",
       "      <th>759</th>\n",
       "      <td>2023-11-08_17-37-17_UTC_5</td>\n",
       "      <td>0</td>\n",
       "      <td>0.022535</td>\n",
       "      <td>a picture of a woman with brown hair wearing a...</td>\n",
       "      <td>235</td>\n",
       "      <td>CzZMjcYMP21</td>\n",
       "      <td>https://www.instagram.com/p/CzZMjcYMP21/?utm_s...</td>\n",
       "      <td>0</td>\n",
       "      <td>This season must-have. @fashionhurricanebyv in...</td>\n",
       "    </tr>\n",
       "    <tr>\n",
       "      <th>760</th>\n",
       "      <td>2013-10-08_12-40-36_UTC</td>\n",
       "      <td>1</td>\n",
       "      <td>0.244262</td>\n",
       "      <td>a picture of a woman with black hair and a bar...</td>\n",
       "      <td>216</td>\n",
       "      <td>fNO52Nxluy</td>\n",
       "      <td>https://www.instagram.com/p/fNO52Nxluy/?igshid...</td>\n",
       "      <td>1</td>\n",
       "      <td>Valentina Vignali looks explosive in a preciou...</td>\n",
       "    </tr>\n",
       "    <tr>\n",
       "      <th>761</th>\n",
       "      <td>2014-03-21_10-14-52_UTC</td>\n",
       "      <td>1</td>\n",
       "      <td>0.220332</td>\n",
       "      <td>a picture of a young woman with long brown hai...</td>\n",
       "      <td>217</td>\n",
       "      <td>lzQl_gRlnD</td>\n",
       "      <td>https://www.instagram.com/p/lzQl_gRlnD/?igshid...</td>\n",
       "      <td>1</td>\n",
       "      <td>Regram @nimabenati #amenstyle #amen #fashion #...</td>\n",
       "    </tr>\n",
       "    <tr>\n",
       "      <th>762</th>\n",
       "      <td>2014-04-12_09-13-03_UTC</td>\n",
       "      <td>1</td>\n",
       "      <td>0.372959</td>\n",
       "      <td>a picture of a group of beautiful women, dress...</td>\n",
       "      <td>215</td>\n",
       "      <td>mrzAb-Rlkt</td>\n",
       "      <td>https://www.instagram.com/p/mrzAb-Rlkt/?igshid...</td>\n",
       "      <td>1</td>\n",
       "      <td>RG @nimabenati #amencouture amenstyle.com\\n</td>\n",
       "    </tr>\n",
       "  </tbody>\n",
       "</table>\n",
       "<p>763 rows × 9 columns</p>\n",
       "</div>"
      ],
      "text/plain": [
       "                          Long  Face  Skin_pct  \\\n",
       "0      2015-11-18_18-26-59_UTC     1  0.042849   \n",
       "1      2015-06-01_07-45-08_UTC     1  0.491443   \n",
       "2      2015-07-06_10-38-30_UTC     1  0.133582   \n",
       "3      2020-04-10_08-57-20_UTC     0  0.258619   \n",
       "4      2019-10-24_11-49-40_UTC     1  0.888304   \n",
       "..                         ...   ...       ...   \n",
       "758  2023-11-08_17-37-17_UTC_4     1  0.030407   \n",
       "759  2023-11-08_17-37-17_UTC_5     0  0.022535   \n",
       "760    2013-10-08_12-40-36_UTC     1  0.244262   \n",
       "761    2014-03-21_10-14-52_UTC     1  0.220332   \n",
       "762    2014-04-12_09-13-03_UTC     1  0.372959   \n",
       "\n",
       "                                          Auto_caption   id        Short  \\\n",
       "0    a picture of a woman with long black hair sits...  207   -PHbiexlr_   \n",
       "1    a picture of a woman with black hair and a bla...  214   3YO1o0Rlkt   \n",
       "2    a picture of a woman with black hair and a bla...  213   4yqgDyxloK   \n",
       "3    a picture of a woman wearing a black jacket an...  209  B-y2Fo8qcN_   \n",
       "4    a picture of a woman in a red dress sits on a ...  200  B3__d73i46x   \n",
       "..                                                 ...  ...          ...   \n",
       "758  a picture of a woman in a black coat and sungl...  235  CzZMjcYMP21   \n",
       "759  a picture of a woman with brown hair wearing a...  235  CzZMjcYMP21   \n",
       "760  a picture of a woman with black hair and a bar...  216   fNO52Nxluy   \n",
       "761  a picture of a young woman with long brown hai...  217   lzQl_gRlnD   \n",
       "762  a picture of a group of beautiful women, dress...  215   mrzAb-Rlkt   \n",
       "\n",
       "                                                  link  Objectify (yes or no)  \\\n",
       "0    https://www.instagram.com/p/-PHbiexlr_/?igshid...                      1   \n",
       "1    https://www.instagram.com/p/3YO1o0Rlkt/?igshid...                      1   \n",
       "2    https://www.instagram.com/p/4yqgDyxloK/?igshid...                      1   \n",
       "3    https://www.instagram.com/p/B-y2Fo8qcN_/?igshi...                      1   \n",
       "4    https://www.instagram.com/p/B3__d73i46x/?igshi...                      1   \n",
       "..                                                 ...                    ...   \n",
       "758  https://www.instagram.com/p/CzZMjcYMP21/?utm_s...                      0   \n",
       "759  https://www.instagram.com/p/CzZMjcYMP21/?utm_s...                      0   \n",
       "760  https://www.instagram.com/p/fNO52Nxluy/?igshid...                      1   \n",
       "761  https://www.instagram.com/p/lzQl_gRlnD/?igshid...                      1   \n",
       "762  https://www.instagram.com/p/mrzAb-Rlkt/?igshid...                      1   \n",
       "\n",
       "                                               caption  \n",
       "0    Stunning Mariana Rodriguez in #amencouture. Se...  \n",
       "1    @emastokholma in Amen embroidered #dress from ...  \n",
       "2    Stunning DJ @emastokholma wears all over paill...  \n",
       "3    Crystal Pumps ✨ #AmenStyle #AmenPreSpring20 #A...  \n",
       "4    Discover our FW19 Collection on amenstyle.com ...  \n",
       "..                                                 ...  \n",
       "758  This season must-have. @fashionhurricanebyv in...  \n",
       "759  This season must-have. @fashionhurricanebyv in...  \n",
       "760  Valentina Vignali looks explosive in a preciou...  \n",
       "761  Regram @nimabenati #amenstyle #amen #fashion #...  \n",
       "762        RG @nimabenati #amencouture amenstyle.com\\n  \n",
       "\n",
       "[763 rows x 9 columns]"
      ]
     },
     "execution_count": 4,
     "metadata": {},
     "output_type": "execute_result"
    }
   ],
   "source": [
    "df = pd.read_excel('../0_data/data_model.xlsx')\n",
    "df"
   ]
  },
  {
   "cell_type": "code",
   "execution_count": 5,
   "id": "7b3cd18b-324b-45ff-8a7c-e681c3839042",
   "metadata": {},
   "outputs": [],
   "source": [
    "X = df[['Skin_pct', 'Face']]\n",
    "Y = df['Objectify (yes or no)']\n",
    "X_train, X_test, Y_train, Y_test = train_test_split(X, Y, test_size=0.3, random_state=42)"
   ]
  },
  {
   "cell_type": "code",
   "execution_count": 6,
   "id": "b9d71b8b-fe10-481f-868f-4fc125d31ae7",
   "metadata": {},
   "outputs": [
    {
     "data": {
      "text/html": [
       "<style>#sk-container-id-1 {color: black;background-color: white;}#sk-container-id-1 pre{padding: 0;}#sk-container-id-1 div.sk-toggleable {background-color: white;}#sk-container-id-1 label.sk-toggleable__label {cursor: pointer;display: block;width: 100%;margin-bottom: 0;padding: 0.3em;box-sizing: border-box;text-align: center;}#sk-container-id-1 label.sk-toggleable__label-arrow:before {content: \"▸\";float: left;margin-right: 0.25em;color: #696969;}#sk-container-id-1 label.sk-toggleable__label-arrow:hover:before {color: black;}#sk-container-id-1 div.sk-estimator:hover label.sk-toggleable__label-arrow:before {color: black;}#sk-container-id-1 div.sk-toggleable__content {max-height: 0;max-width: 0;overflow: hidden;text-align: left;background-color: #f0f8ff;}#sk-container-id-1 div.sk-toggleable__content pre {margin: 0.2em;color: black;border-radius: 0.25em;background-color: #f0f8ff;}#sk-container-id-1 input.sk-toggleable__control:checked~div.sk-toggleable__content {max-height: 200px;max-width: 100%;overflow: auto;}#sk-container-id-1 input.sk-toggleable__control:checked~label.sk-toggleable__label-arrow:before {content: \"▾\";}#sk-container-id-1 div.sk-estimator input.sk-toggleable__control:checked~label.sk-toggleable__label {background-color: #d4ebff;}#sk-container-id-1 div.sk-label input.sk-toggleable__control:checked~label.sk-toggleable__label {background-color: #d4ebff;}#sk-container-id-1 input.sk-hidden--visually {border: 0;clip: rect(1px 1px 1px 1px);clip: rect(1px, 1px, 1px, 1px);height: 1px;margin: -1px;overflow: hidden;padding: 0;position: absolute;width: 1px;}#sk-container-id-1 div.sk-estimator {font-family: monospace;background-color: #f0f8ff;border: 1px dotted black;border-radius: 0.25em;box-sizing: border-box;margin-bottom: 0.5em;}#sk-container-id-1 div.sk-estimator:hover {background-color: #d4ebff;}#sk-container-id-1 div.sk-parallel-item::after {content: \"\";width: 100%;border-bottom: 1px solid gray;flex-grow: 1;}#sk-container-id-1 div.sk-label:hover label.sk-toggleable__label {background-color: #d4ebff;}#sk-container-id-1 div.sk-serial::before {content: \"\";position: absolute;border-left: 1px solid gray;box-sizing: border-box;top: 0;bottom: 0;left: 50%;z-index: 0;}#sk-container-id-1 div.sk-serial {display: flex;flex-direction: column;align-items: center;background-color: white;padding-right: 0.2em;padding-left: 0.2em;position: relative;}#sk-container-id-1 div.sk-item {position: relative;z-index: 1;}#sk-container-id-1 div.sk-parallel {display: flex;align-items: stretch;justify-content: center;background-color: white;position: relative;}#sk-container-id-1 div.sk-item::before, #sk-container-id-1 div.sk-parallel-item::before {content: \"\";position: absolute;border-left: 1px solid gray;box-sizing: border-box;top: 0;bottom: 0;left: 50%;z-index: -1;}#sk-container-id-1 div.sk-parallel-item {display: flex;flex-direction: column;z-index: 1;position: relative;background-color: white;}#sk-container-id-1 div.sk-parallel-item:first-child::after {align-self: flex-end;width: 50%;}#sk-container-id-1 div.sk-parallel-item:last-child::after {align-self: flex-start;width: 50%;}#sk-container-id-1 div.sk-parallel-item:only-child::after {width: 0;}#sk-container-id-1 div.sk-dashed-wrapped {border: 1px dashed gray;margin: 0 0.4em 0.5em 0.4em;box-sizing: border-box;padding-bottom: 0.4em;background-color: white;}#sk-container-id-1 div.sk-label label {font-family: monospace;font-weight: bold;display: inline-block;line-height: 1.2em;}#sk-container-id-1 div.sk-label-container {text-align: center;}#sk-container-id-1 div.sk-container {/* jupyter's `normalize.less` sets `[hidden] { display: none; }` but bootstrap.min.css set `[hidden] { display: none !important; }` so we also need the `!important` here to be able to override the default hidden behavior on the sphinx rendered scikit-learn.org. See: https://github.com/scikit-learn/scikit-learn/issues/21755 */display: inline-block !important;position: relative;}#sk-container-id-1 div.sk-text-repr-fallback {display: none;}</style><div id=\"sk-container-id-1\" class=\"sk-top-container\"><div class=\"sk-text-repr-fallback\"><pre>LogisticRegression(random_state=42)</pre><b>In a Jupyter environment, please rerun this cell to show the HTML representation or trust the notebook. <br />On GitHub, the HTML representation is unable to render, please try loading this page with nbviewer.org.</b></div><div class=\"sk-container\" hidden><div class=\"sk-item\"><div class=\"sk-estimator sk-toggleable\"><input class=\"sk-toggleable__control sk-hidden--visually\" id=\"sk-estimator-id-1\" type=\"checkbox\" checked><label for=\"sk-estimator-id-1\" class=\"sk-toggleable__label sk-toggleable__label-arrow\">LogisticRegression</label><div class=\"sk-toggleable__content\"><pre>LogisticRegression(random_state=42)</pre></div></div></div></div></div>"
      ],
      "text/plain": [
       "LogisticRegression(random_state=42)"
      ]
     },
     "execution_count": 6,
     "metadata": {},
     "output_type": "execute_result"
    }
   ],
   "source": [
    "# Random Forest\n",
    "rf_classifier = RandomForestClassifier(random_state=42)\n",
    "rf_classifier.fit(X_train, Y_train)\n",
    "\n",
    "#Logit\n",
    "logit_classifier = LogisticRegression(random_state=42)\n",
    "logit_classifier.fit(X_train, Y_train)"
   ]
  },
  {
   "cell_type": "code",
   "execution_count": 7,
   "id": "2176afc8-d43e-46db-b351-ca62db24d5e7",
   "metadata": {},
   "outputs": [
    {
     "name": "stdout",
     "output_type": "stream",
     "text": [
      "Random Forest Accuracy: 0.6157205240174672\n",
      "Logit Accuracy: 0.6157205240174672\n"
     ]
    }
   ],
   "source": [
    "# Predictions with Random Forest\n",
    "rf_predictions = rf_classifier.predict(X_test)\n",
    "rf_accuracy = accuracy_score(Y_test, rf_predictions)\n",
    "print(f\"Random Forest Accuracy: {rf_accuracy}\")\n",
    "\n",
    "# Predictions with Logit\n",
    "logit_predictions = logit_classifier.predict(X_test)\n",
    "logit_accuracy = accuracy_score(Y_test, rf_predictions)\n",
    "print(f\"Logit Accuracy: {logit_accuracy}\")"
   ]
  },
  {
   "cell_type": "markdown",
   "id": "23e62f38-1787-4b2d-b40c-7ffbf0305ce0",
   "metadata": {},
   "source": [
    "## Use Word Embeddings"
   ]
  },
  {
   "cell_type": "code",
   "execution_count": 1,
   "id": "8592e580-d5f6-44ae-9063-eb06c83a310e",
   "metadata": {},
   "outputs": [
    {
     "name": "stderr",
     "output_type": "stream",
     "text": [
      "C:\\Users\\danie\\anaconda3\\envs\\ds_master\\Lib\\site-packages\\paramiko\\transport.py:219: CryptographyDeprecationWarning: Blowfish has been deprecated\n",
      "  \"class\": algorithms.Blowfish,\n",
      "[nltk_data] Downloading package punkt to\n",
      "[nltk_data]     C:\\Users\\danie\\AppData\\Roaming\\nltk_data...\n",
      "[nltk_data]   Package punkt is already up-to-date!\n"
     ]
    },
    {
     "data": {
      "text/plain": [
       "True"
      ]
     },
     "execution_count": 1,
     "metadata": {},
     "output_type": "execute_result"
    }
   ],
   "source": [
    "import numpy as np\n",
    "import pandas as pd\n",
    "from gensim.models import KeyedVectors\n",
    "from nltk.tokenize import word_tokenize\n",
    "import nltk\n",
    "nltk.download('punkt')"
   ]
  },
  {
   "cell_type": "code",
   "execution_count": 2,
   "id": "4c5d7274-6757-42f0-92a3-7f7428bedc20",
   "metadata": {},
   "outputs": [],
   "source": [
    "'''\n",
    "Download the Word2Vec Embeddings and save them locally. Not in this folder because github does not support large files in the free trial\n",
    "GoogleNews-vectors-negative300.bin\n",
    "path to download = https://www.kaggle.com/datasets/leadbest/googlenewsvectorsnegative300\n",
    "'''\n",
    "model = KeyedVectors.load_word2vec_format('../../../Embeddings/GoogleNews-vectors-negative300.bin/GoogleNews-vectors-negative300.bin', binary=True) # have embeddings in pc"
   ]
  },
  {
   "cell_type": "code",
   "execution_count": 8,
   "id": "f6bd8710-0728-4faf-89a8-dd4a8e1b36cf",
   "metadata": {},
   "outputs": [],
   "source": [
    "def sentence_to_avg_vector(sentence, model):\n",
    "    words = word_tokenize(sentence.lower())\n",
    "    word_vectors = [model[word] for word in words if word in model]\n",
    "    if len(word_vectors) == 0:\n",
    "        return np.zeros(model.vector_size)\n",
    "    else:\n",
    "        return np.mean(word_vectors, axis=0)"
   ]
  },
  {
   "cell_type": "code",
   "execution_count": 9,
   "id": "f7cb2cbc-c80b-4792-adcd-1bbabc3c3658",
   "metadata": {},
   "outputs": [],
   "source": [
    "df['sentence_vector'] = df['Auto_caption'].apply(lambda x: sentence_to_avg_vector(x, model))\n",
    "# Assuming you want to use these vectors in a machine learning model\n",
    "X_embeddings = np.array(df['sentence_vector'].tolist())  # Feature matrix"
   ]
  },
  {
   "cell_type": "code",
   "execution_count": 13,
   "id": "3bc620f0-c4ac-4760-bca3-a09b77ebab2a",
   "metadata": {},
   "outputs": [
    {
     "data": {
      "text/plain": [
       "array([[ 4.27223481e-02,  3.72857004e-02, -2.62578321e-03, ...,\n",
       "        -4.93028434e-03,  4.28485870e-02,  1.00000000e+00],\n",
       "       [ 3.92417908e-02,  6.11674003e-02, -1.57318115e-02, ...,\n",
       "        -5.69152832e-03,  4.91442871e-01,  1.00000000e+00],\n",
       "       [ 5.21591194e-02,  4.77233902e-02,  9.75036621e-03, ...,\n",
       "         1.49719240e-02,  1.33582176e-01,  1.00000000e+00],\n",
       "       ...,\n",
       "       [ 5.52016683e-02,  3.56270932e-02,  2.24958151e-03, ...,\n",
       "         4.49044368e-04,  2.44262356e-01,  1.00000000e+00],\n",
       "       [ 1.91882905e-02,  5.26588075e-02, -1.14281066e-02, ...,\n",
       "         5.10428287e-02,  2.20332031e-01,  1.00000000e+00],\n",
       "       [ 4.89985161e-02,  5.01327515e-02, -2.30077114e-02, ...,\n",
       "         4.17919159e-02,  3.72958984e-01,  1.00000000e+00]])"
      ]
     },
     "execution_count": 13,
     "metadata": {},
     "output_type": "execute_result"
    }
   ],
   "source": [
    "X_combined = np.concatenate((X_embeddings, X), axis=1)\n",
    "X_combined"
   ]
  },
  {
   "cell_type": "markdown",
   "id": "364a6e9f-b543-460c-81f5-a6b2824e05e8",
   "metadata": {},
   "source": [
    "# Classificator with embeddings"
   ]
  },
  {
   "cell_type": "code",
   "execution_count": 14,
   "id": "3b5c583e-3d55-43c7-acb7-ace9f70cfc32",
   "metadata": {},
   "outputs": [],
   "source": [
    "X0 = X_combined\n",
    "Y = df['Objectify (yes or no)']\n",
    "X_train, X_test, Y_train, Y_test = train_test_split(X0, Y, test_size=0.3, random_state=42)"
   ]
  },
  {
   "cell_type": "code",
   "execution_count": 15,
   "id": "1bf0ce61-7e91-42e2-975e-c96d764b8a02",
   "metadata": {},
   "outputs": [
    {
     "data": {
      "text/html": [
       "<style>#sk-container-id-2 {color: black;background-color: white;}#sk-container-id-2 pre{padding: 0;}#sk-container-id-2 div.sk-toggleable {background-color: white;}#sk-container-id-2 label.sk-toggleable__label {cursor: pointer;display: block;width: 100%;margin-bottom: 0;padding: 0.3em;box-sizing: border-box;text-align: center;}#sk-container-id-2 label.sk-toggleable__label-arrow:before {content: \"▸\";float: left;margin-right: 0.25em;color: #696969;}#sk-container-id-2 label.sk-toggleable__label-arrow:hover:before {color: black;}#sk-container-id-2 div.sk-estimator:hover label.sk-toggleable__label-arrow:before {color: black;}#sk-container-id-2 div.sk-toggleable__content {max-height: 0;max-width: 0;overflow: hidden;text-align: left;background-color: #f0f8ff;}#sk-container-id-2 div.sk-toggleable__content pre {margin: 0.2em;color: black;border-radius: 0.25em;background-color: #f0f8ff;}#sk-container-id-2 input.sk-toggleable__control:checked~div.sk-toggleable__content {max-height: 200px;max-width: 100%;overflow: auto;}#sk-container-id-2 input.sk-toggleable__control:checked~label.sk-toggleable__label-arrow:before {content: \"▾\";}#sk-container-id-2 div.sk-estimator input.sk-toggleable__control:checked~label.sk-toggleable__label {background-color: #d4ebff;}#sk-container-id-2 div.sk-label input.sk-toggleable__control:checked~label.sk-toggleable__label {background-color: #d4ebff;}#sk-container-id-2 input.sk-hidden--visually {border: 0;clip: rect(1px 1px 1px 1px);clip: rect(1px, 1px, 1px, 1px);height: 1px;margin: -1px;overflow: hidden;padding: 0;position: absolute;width: 1px;}#sk-container-id-2 div.sk-estimator {font-family: monospace;background-color: #f0f8ff;border: 1px dotted black;border-radius: 0.25em;box-sizing: border-box;margin-bottom: 0.5em;}#sk-container-id-2 div.sk-estimator:hover {background-color: #d4ebff;}#sk-container-id-2 div.sk-parallel-item::after {content: \"\";width: 100%;border-bottom: 1px solid gray;flex-grow: 1;}#sk-container-id-2 div.sk-label:hover label.sk-toggleable__label {background-color: #d4ebff;}#sk-container-id-2 div.sk-serial::before {content: \"\";position: absolute;border-left: 1px solid gray;box-sizing: border-box;top: 0;bottom: 0;left: 50%;z-index: 0;}#sk-container-id-2 div.sk-serial {display: flex;flex-direction: column;align-items: center;background-color: white;padding-right: 0.2em;padding-left: 0.2em;position: relative;}#sk-container-id-2 div.sk-item {position: relative;z-index: 1;}#sk-container-id-2 div.sk-parallel {display: flex;align-items: stretch;justify-content: center;background-color: white;position: relative;}#sk-container-id-2 div.sk-item::before, #sk-container-id-2 div.sk-parallel-item::before {content: \"\";position: absolute;border-left: 1px solid gray;box-sizing: border-box;top: 0;bottom: 0;left: 50%;z-index: -1;}#sk-container-id-2 div.sk-parallel-item {display: flex;flex-direction: column;z-index: 1;position: relative;background-color: white;}#sk-container-id-2 div.sk-parallel-item:first-child::after {align-self: flex-end;width: 50%;}#sk-container-id-2 div.sk-parallel-item:last-child::after {align-self: flex-start;width: 50%;}#sk-container-id-2 div.sk-parallel-item:only-child::after {width: 0;}#sk-container-id-2 div.sk-dashed-wrapped {border: 1px dashed gray;margin: 0 0.4em 0.5em 0.4em;box-sizing: border-box;padding-bottom: 0.4em;background-color: white;}#sk-container-id-2 div.sk-label label {font-family: monospace;font-weight: bold;display: inline-block;line-height: 1.2em;}#sk-container-id-2 div.sk-label-container {text-align: center;}#sk-container-id-2 div.sk-container {/* jupyter's `normalize.less` sets `[hidden] { display: none; }` but bootstrap.min.css set `[hidden] { display: none !important; }` so we also need the `!important` here to be able to override the default hidden behavior on the sphinx rendered scikit-learn.org. See: https://github.com/scikit-learn/scikit-learn/issues/21755 */display: inline-block !important;position: relative;}#sk-container-id-2 div.sk-text-repr-fallback {display: none;}</style><div id=\"sk-container-id-2\" class=\"sk-top-container\"><div class=\"sk-text-repr-fallback\"><pre>LogisticRegression(random_state=42)</pre><b>In a Jupyter environment, please rerun this cell to show the HTML representation or trust the notebook. <br />On GitHub, the HTML representation is unable to render, please try loading this page with nbviewer.org.</b></div><div class=\"sk-container\" hidden><div class=\"sk-item\"><div class=\"sk-estimator sk-toggleable\"><input class=\"sk-toggleable__control sk-hidden--visually\" id=\"sk-estimator-id-2\" type=\"checkbox\" checked><label for=\"sk-estimator-id-2\" class=\"sk-toggleable__label sk-toggleable__label-arrow\">LogisticRegression</label><div class=\"sk-toggleable__content\"><pre>LogisticRegression(random_state=42)</pre></div></div></div></div></div>"
      ],
      "text/plain": [
       "LogisticRegression(random_state=42)"
      ]
     },
     "execution_count": 15,
     "metadata": {},
     "output_type": "execute_result"
    }
   ],
   "source": [
    "# Random Forest\n",
    "rf_classifier = RandomForestClassifier(random_state=42)\n",
    "rf_classifier.fit(X_train, Y_train)\n",
    "\n",
    "#Logit\n",
    "logit_classifier = LogisticRegression(random_state=42)\n",
    "logit_classifier.fit(X_train, Y_train)"
   ]
  },
  {
   "cell_type": "code",
   "execution_count": 16,
   "id": "13e2ce61-258c-42a4-9aaf-970c5141fa5a",
   "metadata": {},
   "outputs": [
    {
     "name": "stdout",
     "output_type": "stream",
     "text": [
      "Random Forest Accuracy: 0.74235807860262\n",
      "Logit Accuracy: 0.74235807860262\n"
     ]
    }
   ],
   "source": [
    "# Predictions with Random Forest\n",
    "rf_predictions = rf_classifier.predict(X_test)\n",
    "rf_accuracy = accuracy_score(Y_test, rf_predictions)\n",
    "print(f\"Random Forest Accuracy: {rf_accuracy}\")\n",
    "\n",
    "# Predictions with Logit\n",
    "logit_predictions = logit_classifier.predict(X_test)\n",
    "logit_accuracy = accuracy_score(Y_test, rf_predictions)\n",
    "print(f\"Logit Accuracy: {logit_accuracy}\")"
   ]
  }
 ],
 "metadata": {
  "kernelspec": {
   "display_name": "Python 3 (ipykernel)",
   "language": "python",
   "name": "python3"
  },
  "language_info": {
   "codemirror_mode": {
    "name": "ipython",
    "version": 3
   },
   "file_extension": ".py",
   "mimetype": "text/x-python",
   "name": "python",
   "nbconvert_exporter": "python",
   "pygments_lexer": "ipython3",
   "version": "3.11.5"
  }
 },
 "nbformat": 4,
 "nbformat_minor": 5
}
