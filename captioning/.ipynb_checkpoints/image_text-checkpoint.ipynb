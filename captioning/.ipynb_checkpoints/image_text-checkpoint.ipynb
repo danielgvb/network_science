{
 "cells": [
  {
   "cell_type": "markdown",
   "id": "22f212af-1760-43a7-b7db-524296de082a",
   "metadata": {},
   "source": [
    "Image to text using salesforce\n",
    "\n",
    "source: https://huggingface.co/Salesforce/blip-image-captioning-large"
   ]
  },
  {
   "cell_type": "markdown",
   "id": "8d765906-5bc4-4672-a581-2a28cc6a5619",
   "metadata": {},
   "source": [
    "Need ```PIL``` and ```transformers```, which requieres ```pytorch``` and ```tensorflow```"
   ]
  },
  {
   "cell_type": "code",
   "execution_count": null,
   "id": "fec537e6-3a24-4bbb-b70b-77214940297f",
   "metadata": {},
   "outputs": [],
   "source": [
    "import requests\n",
    "from PIL import Image\n",
    "from transformers import BlipProcessor, BlipForConditionalGeneration\n",
    "\n",
    "processor = BlipProcessor.from_pretrained(\"Salesforce/blip-image-captioning-large\")\n",
    "model = BlipForConditionalGeneration.from_pretrained(\"Salesforce/blip-image-captioning-large\")\n",
    "\n",
    "img_url = 'https://storage.googleapis.com/sfr-vision-language-research/BLIP/demo.jpg' \n",
    "raw_image = Image.open(requests.get(img_url, stream=True).raw).convert('RGB')\n",
    "\n",
    "# conditional image captioning\n",
    "text = \"a photography of\"\n",
    "inputs = processor(raw_image, text, return_tensors=\"pt\")\n",
    "\n",
    "out = model.generate(**inputs)\n",
    "print(processor.decode(out[0], skip_special_tokens=True))\n",
    "\n",
    "# unconditional image captioning\n",
    "inputs = processor(raw_image, return_tensors=\"pt\")\n",
    "\n",
    "out = model.generate(**inputs)\n",
    "print(processor.decode(out[0], skip_special_tokens=True))\n"
   ]
  }
 ],
 "metadata": {
  "kernelspec": {
   "display_name": "Python 3 (ipykernel)",
   "language": "python",
   "name": "python3"
  },
  "language_info": {
   "codemirror_mode": {
    "name": "ipython",
    "version": 3
   },
   "file_extension": ".py",
   "mimetype": "text/x-python",
   "name": "python",
   "nbconvert_exporter": "python",
   "pygments_lexer": "ipython3",
   "version": "3.11.5"
  }
 },
 "nbformat": 4,
 "nbformat_minor": 5
}
