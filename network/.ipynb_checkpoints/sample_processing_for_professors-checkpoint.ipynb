{
 "cells": [
  {
   "cell_type": "code",
   "execution_count": 1,
   "metadata": {},
   "outputs": [
    {
     "name": "stderr",
     "output_type": "stream",
     "text": [
      "C:\\Users\\rdm42\\anaconda3\\lib\\site-packages\\pandas\\core\\computation\\expressions.py:20: UserWarning: Pandas requires version '2.7.3' or newer of 'numexpr' (version '2.7.1' currently installed).\n",
      "  from pandas.core.computation.check import NUMEXPR_INSTALLED\n"
     ]
    }
   ],
   "source": [
    "import os\n",
    "import json\n",
    "import shutil\n",
    "import lzma\n",
    "\n",
    "import numpy as np\n",
    "import pandas as pd\n",
    "\n",
    "import matplotlib.pyplot as plt\n",
    "import seaborn as sns\n",
    "sns.set_theme()"
   ]
  },
  {
   "cell_type": "code",
   "execution_count": 3,
   "metadata": {},
   "outputs": [
    {
     "data": {
      "text/html": [
       "<div>\n",
       "<style scoped>\n",
       "    .dataframe tbody tr th:only-of-type {\n",
       "        vertical-align: middle;\n",
       "    }\n",
       "\n",
       "    .dataframe tbody tr th {\n",
       "        vertical-align: top;\n",
       "    }\n",
       "\n",
       "    .dataframe thead th {\n",
       "        text-align: right;\n",
       "    }\n",
       "</style>\n",
       "<table border=\"1\" class=\"dataframe\">\n",
       "  <thead>\n",
       "    <tr style=\"text-align: right;\">\n",
       "      <th></th>\n",
       "      <th>Short</th>\n",
       "      <th>user</th>\n",
       "      <th>likes</th>\n",
       "      <th>caption</th>\n",
       "      <th>Long</th>\n",
       "      <th>URL</th>\n",
       "    </tr>\n",
       "  </thead>\n",
       "  <tbody>\n",
       "    <tr>\n",
       "      <th>0</th>\n",
       "      <td>fNO52Nxluy</td>\n",
       "      <td>amenstyle</td>\n",
       "      <td>61</td>\n",
       "      <td>Valentina Vignali looks explosive in a preciou...</td>\n",
       "      <td>2013-10-08_12-40-36_UTC</td>\n",
       "      <td>https://www.instagram.com/p/fNO52Nxluy</td>\n",
       "    </tr>\n",
       "    <tr>\n",
       "      <th>1</th>\n",
       "      <td>lzQl_gRlnD</td>\n",
       "      <td>amenstyle</td>\n",
       "      <td>374</td>\n",
       "      <td>Regram @nimabenati #amenstyle #amen #fashion #...</td>\n",
       "      <td>2014-03-21_10-14-52_UTC</td>\n",
       "      <td>https://www.instagram.com/p/lzQl_gRlnD</td>\n",
       "    </tr>\n",
       "    <tr>\n",
       "      <th>2</th>\n",
       "      <td>mrzAb-Rlkt</td>\n",
       "      <td>amenstyle</td>\n",
       "      <td>175</td>\n",
       "      <td>RG @nimabenati #amencouture amenstyle.com</td>\n",
       "      <td>2014-04-12_09-13-03_UTC</td>\n",
       "      <td>https://www.instagram.com/p/mrzAb-Rlkt</td>\n",
       "    </tr>\n",
       "  </tbody>\n",
       "</table>\n",
       "</div>"
      ],
      "text/plain": [
       "        Short       user  likes  \\\n",
       "0  fNO52Nxluy  amenstyle     61   \n",
       "1  lzQl_gRlnD  amenstyle    374   \n",
       "2  mrzAb-Rlkt  amenstyle    175   \n",
       "\n",
       "                                             caption                     Long  \\\n",
       "0  Valentina Vignali looks explosive in a preciou...  2013-10-08_12-40-36_UTC   \n",
       "1  Regram @nimabenati #amenstyle #amen #fashion #...  2014-03-21_10-14-52_UTC   \n",
       "2          RG @nimabenati #amencouture amenstyle.com  2014-04-12_09-13-03_UTC   \n",
       "\n",
       "                                      URL  \n",
       "0  https://www.instagram.com/p/fNO52Nxluy  \n",
       "1  https://www.instagram.com/p/lzQl_gRlnD  \n",
       "2  https://www.instagram.com/p/mrzAb-Rlkt  "
      ]
     },
     "execution_count": 3,
     "metadata": {},
     "output_type": "execute_result"
    }
   ],
   "source": [
    "download_dir = os.path.join('..','0_data','downloaded_posts')\n",
    "metadata_paths = [os.path.join(download_dir,f) for f in os.listdir(download_dir) if f.endswith('.json.xz')]\n",
    "\n",
    "additional_data = []\n",
    "\n",
    "for i,path in enumerate(metadata_paths):\n",
    "\n",
    "    with lzma.open(path, 'rt') as file:\n",
    "        data_dict = json.load(file)\n",
    "    \n",
    "    short = data_dict['node']['shortcode']\n",
    "    user  = data_dict['node']['owner']['username']\n",
    "    likes = data_dict['node']['edge_media_preview_like']['count']\n",
    "    caption = data_dict['node']['edge_media_to_caption']['edges'][0]['node']['text']\n",
    "    long = os.path.split(path)[-1].split('.')[0]\n",
    "\n",
    "    additional_data.append((short,user,likes,caption,long))\n",
    "\n",
    "additional_data = pd.DataFrame(additional_data, columns=['Short','user','likes','caption','Long'])\n",
    "additional_data['URL'] = additional_data.Short.apply(lambda code: f\"https://www.instagram.com/p/{code}\")\n",
    "additional_data.head(3)"
   ]
  },
  {
   "cell_type": "code",
   "execution_count": 4,
   "metadata": {},
   "outputs": [
    {
     "data": {
      "text/plain": [
       "['.ipynb_checkpoints',\n",
       " 'Build_network.ipynb',\n",
       " 'Build_occurrences_mat.ipynb',\n",
       " 'cleaning_mod.ipynb',\n",
       " 'communities_mod.ipynb',\n",
       " 'sample_processing_for_professors.ipynb']"
      ]
     },
     "execution_count": 4,
     "metadata": {},
     "output_type": "execute_result"
    }
   ],
   "source": [
    "os.listdir()"
   ]
  },
  {
   "cell_type": "code",
   "execution_count": 5,
   "metadata": {},
   "outputs": [
    {
     "data": {
      "text/plain": [
       "'C:\\\\Users\\\\rdm42\\\\Documents\\\\GitHub\\\\network_science\\\\network'"
      ]
     },
     "execution_count": 5,
     "metadata": {},
     "output_type": "execute_result"
    }
   ],
   "source": [
    "os.getcwd()"
   ]
  }
 ],
 "metadata": {
  "kernelspec": {
   "display_name": "Python 3",
   "language": "python",
   "name": "python3"
  },
  "language_info": {
   "codemirror_mode": {
    "name": "ipython",
    "version": 3
   },
   "file_extension": ".py",
   "mimetype": "text/x-python",
   "name": "python",
   "nbconvert_exporter": "python",
   "pygments_lexer": "ipython3",
   "version": "3.8.3"
  }
 },
 "nbformat": 4,
 "nbformat_minor": 4
}
