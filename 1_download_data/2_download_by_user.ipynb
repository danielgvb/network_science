{
 "cells": [
  {
   "cell_type": "markdown",
   "metadata": {},
   "source": [
    "# Instadownloader"
   ]
  },
  {
   "cell_type": "code",
<<<<<<< HEAD
   "execution_count": 1,
   "metadata": {},
   "outputs": [],
   "source": [
    "users = ['hm', 'jacquemus', 'sheinofficial', 'chanelofficial']"
   ]
  },
  {
   "cell_type": "code",
   "execution_count": 2,
=======
   "execution_count": 9,
   "id": "4aed5629-2393-48c6-9d32-46fe823189e7",
>>>>>>> ebf267c4643fa440d8689e15803aa30a89ff8b91
   "metadata": {},
   "outputs": [
    {
     "name": "stderr",
     "output_type": "stream",
     "text": [
<<<<<<< HEAD
      "C:\\Users\\rdm42\\anaconda3\\lib\\site-packages\\win_unicode_console\\__init__.py:31: RuntimeWarning: sys.stdin.encoding == 'cp1252', whereas sys.stdout.encoding == 'UTF-8', readline hook consumer may assume they are the same\n",
      "  readline_hook.enable(use_pyreadline=use_pyreadline)\n",
      "Downloading posts:   0%|                                                                       | 0/200 [00:00<?, ?it/s]"
=======
      "Downloading posts:   0%|                                                                       | 0/500 [00:00<?, ?it/s]"
>>>>>>> ebf267c4643fa440d8689e15803aa30a89ff8b91
     ]
    },
    {
     "name": "stdout",
     "output_type": "stream",
     "text": [
<<<<<<< HEAD
      "chanelofficial\\2024-01-12_13-56-05_UTC.jpg [Some encounters you wear fore…] json \n"
=======
      "jacquemus\\2024-01-02_14-27-41_UTC.jpg [Bonjour 2024 !] jacquemus\\2024-01-02_14-27-41_UTC.mp4 json \n"
>>>>>>> ebf267c4643fa440d8689e15803aa30a89ff8b91
     ]
    },
    {
     "name": "stderr",
     "output_type": "stream",
     "text": [
<<<<<<< HEAD
      "Downloading posts:   0%|▎                                                              | 1/200 [00:05<18:47,  5.66s/it]"
=======
      "Downloading posts:   0%|▏                                                              | 1/500 [00:04<35:02,  4.21s/it]"
>>>>>>> ebf267c4643fa440d8689e15803aa30a89ff8b91
     ]
    },
    {
     "name": "stdout",
     "output_type": "stream",
     "text": [
<<<<<<< HEAD
      "chanelofficial\\2024-01-12_09-59-35_UTC.jpg [Some encounters you wear fore…] chanelofficial\\2024-01-12_09-59-35_UTC.mp4 json \n"
=======
      "jacquemus\\2023-12-31_11-45-31_UTC_1.jpg jacquemus\\2023-12-31_11-45-31_UTC_1.mp4 jacquemus\\2023-12-31_11-45-31_UTC_2.jpg jacquemus\\2023-12-31_11-45-31_UTC_2.mp4 jacquemus\\2023-12-31_11-45-31_UTC_3.jpg jacquemus\\2023-12-31_11-45-31_UTC_3.mp4 jacquemus\\2023-12-31_11-45-31_UTC_4.jpg jacquemus\\2023-12-31_11-45-31_UTC_4.mp4 jacquemus\\2023-12-31_11-45-31_UTC_5.jpg jacquemus\\2023-12-31_11-45-31_UTC_5.mp4 jacquemus\\2023-12-31_11-45-31_UTC_6.jpg jacquemus\\2023-12-31_11-45-31_UTC_6.mp4 jacquemus\\2023-12-31_11-45-31_UTC_7.jpg jacquemus\\2023-12-31_11-45-31_UTC_7.mp4 jacquemus\\2023-12-31_11-45-31_UTC_8.jpg jacquemus\\2023-12-31_11-45-31_UTC_8.mp4 jacquemus\\2023-12-31_11-45-31_UTC_9.jpg jacquemus\\2023-12-31_11-45-31_UTC_9.mp4 jacquemus\\2023-12-31_11-45-31_UTC_10.jpg jacquemus\\2023-12-31_11-45-31_UTC_10.mp4 [:) JACQUEMUS SKI TRIP] json \n"
>>>>>>> ebf267c4643fa440d8689e15803aa30a89ff8b91
     ]
    },
    {
     "name": "stderr",
     "output_type": "stream",
     "text": [
<<<<<<< HEAD
      "Downloading posts:   1%|▋                                                              | 2/200 [00:11<19:17,  5.85s/it]"
=======
      "Downloading posts:   0%|▏                                                            | 2/500 [00:24<1:53:30, 13.67s/it]"
>>>>>>> ebf267c4643fa440d8689e15803aa30a89ff8b91
     ]
    },
    {
     "name": "stdout",
     "output_type": "stream",
     "text": [
<<<<<<< HEAD
      "chanelofficial\\2024-01-12_08-00-55_UTC.jpg [Some encounters you wear fore…] json \n"
=======
      "jacquemus\\2023-12-25_18-27-03_UTC.jpg [THE 25 LIKE  A lot lot of lov…] jacquemus\\2023-12-25_18-27-03_UTC.mp4 json \n"
>>>>>>> ebf267c4643fa440d8689e15803aa30a89ff8b91
     ]
    },
    {
     "name": "stderr",
     "output_type": "stream",
     "text": [
<<<<<<< HEAD
      "Downloading posts:   2%|▉                                                              | 3/200 [00:17<19:08,  5.83s/it]"
=======
      "Downloading posts:   1%|▎                                                            | 3/500 [00:28<1:15:18,  9.09s/it]"
>>>>>>> ebf267c4643fa440d8689e15803aa30a89ff8b91
     ]
    },
    {
     "name": "stdout",
     "output_type": "stream",
     "text": [
<<<<<<< HEAD
      "chanelofficial\\2024-01-11_18-00-49_UTC.jpg [Some encounters you wear fore…] json \n"
=======
      "jacquemus\\2023-12-13_10-49-11_UTC.jpg [I LOVE YOU @jennierubyjane  T…] jacquemus\\2023-12-13_10-49-11_UTC.mp4 json \n"
>>>>>>> ebf267c4643fa440d8689e15803aa30a89ff8b91
     ]
    },
    {
     "name": "stderr",
     "output_type": "stream",
     "text": [
<<<<<<< HEAD
      "Downloading posts:   2%|█▎                                                             | 4/200 [00:23<18:44,  5.74s/it]"
=======
      "Downloading posts:   1%|▍                                                            | 4/500 [00:36<1:13:30,  8.89s/it]"
>>>>>>> ebf267c4643fa440d8689e15803aa30a89ff8b91
     ]
    },
    {
     "name": "stdout",
     "output_type": "stream",
     "text": [
<<<<<<< HEAD
      "chanelofficial\\2024-01-11_13-52-47_UTC.jpg [Some encounters you wear fore…] json \n"
=======
      "jacquemus\\2023-12-12_11-13-22_UTC_1.jpg jacquemus\\2023-12-12_11-13-22_UTC_2.jpg jacquemus\\2023-12-12_11-13-22_UTC_3.jpg jacquemus\\2023-12-12_11-13-22_UTC_4.jpg jacquemus\\2023-12-12_11-13-22_UTC_5.jpg jacquemus\\2023-12-12_11-13-22_UTC_6.jpg jacquemus\\2023-12-12_11-13-22_UTC_7.jpg jacquemus\\2023-12-12_11-13-22_UTC_8.jpg jacquemus\\2023-12-12_11-13-22_UTC_9.jpg jacquemus\\2023-12-12_11-13-22_UTC_10.jpg [IN BED WITH JENNIE THE NEW « …] json \n"
>>>>>>> ebf267c4643fa440d8689e15803aa30a89ff8b91
     ]
    },
    {
     "name": "stderr",
     "output_type": "stream",
     "text": [
<<<<<<< HEAD
      "Downloading posts:   2%|█▌                                                             | 5/200 [00:28<18:29,  5.69s/it]"
=======
      "Downloading posts:   1%|▌                                                            | 5/500 [00:44<1:10:56,  8.60s/it]"
>>>>>>> ebf267c4643fa440d8689e15803aa30a89ff8b91
     ]
    },
    {
     "name": "stdout",
     "output_type": "stream",
     "text": [
<<<<<<< HEAD
      "chanelofficial\\2024-01-11_10-01-28_UTC.jpg [Some encounters you wear fore…] json \n"
=======
      "jacquemus\\2023-12-11_08-19-00_UTC.jpg [MONDAY LIKE ⏰] jacquemus\\2023-12-11_08-19-00_UTC.mp4 json \n"
>>>>>>> ebf267c4643fa440d8689e15803aa30a89ff8b91
     ]
    },
    {
     "name": "stderr",
     "output_type": "stream",
     "text": [
<<<<<<< HEAD
      "Downloading posts:   3%|█▉                                                             | 6/200 [00:34<18:21,  5.68s/it]"
=======
      "Downloading posts:   1%|▋                                                            | 6/500 [00:53<1:10:20,  8.54s/it]"
>>>>>>> ebf267c4643fa440d8689e15803aa30a89ff8b91
     ]
    },
    {
     "name": "stdout",
     "output_type": "stream",
     "text": [
<<<<<<< HEAD
      "chanelofficial\\2024-01-10_20-01-21_UTC.jpg [Some encounters you wear fore…] json \n"
=======
      "jacquemus\\2023-12-10_18-55-52_UTC_1.jpg jacquemus\\2023-12-10_18-55-52_UTC_2.jpg jacquemus\\2023-12-10_18-55-52_UTC_2.mp4 jacquemus\\2023-12-10_18-55-52_UTC_3.jpg jacquemus\\2023-12-10_18-55-52_UTC_3.mp4 jacquemus\\2023-12-10_18-55-52_UTC_4.jpg jacquemus\\2023-12-10_18-55-52_UTC_5.jpg jacquemus\\2023-12-10_18-55-52_UTC_5.mp4 jacquemus\\2023-12-10_18-55-52_UTC_6.jpg jacquemus\\2023-12-10_18-55-52_UTC_6.mp4 jacquemus\\2023-12-10_18-55-52_UTC_7.jpg jacquemus\\2023-12-10_18-55-52_UTC_8.jpg jacquemus\\2023-12-10_18-55-52_UTC_8.mp4 jacquemus\\2023-12-10_18-55-52_UTC_9.jpg jacquemus\\2023-12-10_18-55-52_UTC_9.mp4 jacquemus\\2023-12-10_18-55-52_UTC_10.jpg [NOW OPEN IN COURCHEVEL!!   SO…] json \n"
>>>>>>> ebf267c4643fa440d8689e15803aa30a89ff8b91
     ]
    },
    {
     "name": "stderr",
     "output_type": "stream",
     "text": [
<<<<<<< HEAD
      "Downloading posts:   4%|██▏                                                            | 7/200 [00:40<18:12,  5.66s/it]"
=======
      "Downloading posts:   1%|▊                                                            | 7/500 [01:08<1:26:57, 10.58s/it]"
>>>>>>> ebf267c4643fa440d8689e15803aa30a89ff8b91
     ]
    },
    {
     "name": "stdout",
     "output_type": "stream",
     "text": [
<<<<<<< HEAD
      "chanelofficial\\2024-01-10_17-50-40_UTC.jpg [Some encounters you wear fore…] json \n"
=======
      "jacquemus\\2023-12-09_16-49-32_UTC.jpg [MY FIRST DAY IN COURCHEVEL  :)] jacquemus\\2023-12-09_16-49-32_UTC.mp4 json \n"
>>>>>>> ebf267c4643fa440d8689e15803aa30a89ff8b91
     ]
    },
    {
     "name": "stderr",
     "output_type": "stream",
     "text": [
<<<<<<< HEAD
      "Downloading posts:   4%|██▌                                                            | 8/200 [00:45<17:58,  5.62s/it]"
=======
      "Downloading posts:   2%|▉                                                            | 8/500 [01:15<1:19:28,  9.69s/it]"
>>>>>>> ebf267c4643fa440d8689e15803aa30a89ff8b91
     ]
    },
    {
     "name": "stdout",
     "output_type": "stream",
     "text": [
<<<<<<< HEAD
      "chanelofficial\\2024-01-10_16-03-25_UTC.jpg [Some encounters you wear fore…] json \n"
=======
      "jacquemus\\2023-12-08_09-00-32_UTC.jpg [“GUIRLANDE” with @jennierubyj…] jacquemus\\2023-12-08_09-00-32_UTC.mp4 json \n"
>>>>>>> ebf267c4643fa440d8689e15803aa30a89ff8b91
     ]
    },
    {
     "name": "stderr",
     "output_type": "stream",
     "text": [
<<<<<<< HEAD
      "Downloading posts:   4%|██▊                                                            | 9/200 [00:51<17:48,  5.60s/it]"
=======
      "Downloading posts:   2%|█                                                            | 9/500 [01:20<1:06:46,  8.16s/it]"
>>>>>>> ebf267c4643fa440d8689e15803aa30a89ff8b91
     ]
    },
    {
     "name": "stdout",
     "output_type": "stream",
     "text": [
<<<<<<< HEAD
      "chanelofficial\\2024-01-10_13-59-20_UTC.jpg [Some encounters you wear fore…] json \n"
=======
      "jacquemus\\2023-12-05_18-37-46_UTC.jpg [SO HAPPY!!  Happy to announce…] jacquemus\\2023-12-05_18-37-46_UTC.mp4 json \n"
>>>>>>> ebf267c4643fa440d8689e15803aa30a89ff8b91
     ]
    },
    {
     "name": "stderr",
     "output_type": "stream",
     "text": [
<<<<<<< HEAD
      "Downloading posts:   5%|███                                                           | 10/200 [00:56<17:45,  5.61s/it]"
=======
      "Downloading posts:   2%|█▏                                                          | 10/500 [01:28<1:04:55,  7.95s/it]"
>>>>>>> ebf267c4643fa440d8689e15803aa30a89ff8b91
     ]
    },
    {
     "name": "stdout",
     "output_type": "stream",
     "text": [
<<<<<<< HEAD
      "chanelofficial\\2024-01-10_09-54-58_UTC.jpg [Some encounters you wear fore…] json \n"
=======
      "jacquemus\\2023-11-28_18-02-45_UTC_1.jpg jacquemus\\2023-11-28_18-02-45_UTC_1.mp4 jacquemus\\2023-11-28_18-02-45_UTC_2.jpg jacquemus\\2023-11-28_18-02-45_UTC_3.jpg jacquemus\\2023-11-28_18-02-45_UTC_4.jpg [What’s your number ?] json \n"
>>>>>>> ebf267c4643fa440d8689e15803aa30a89ff8b91
     ]
    },
    {
     "name": "stderr",
     "output_type": "stream",
     "text": [
<<<<<<< HEAD
      "Downloading posts:   6%|███▍                                                          | 11/200 [01:02<17:34,  5.58s/it]"
=======
      "Downloading posts:   2%|█▎                                                          | 11/500 [01:35<1:02:36,  7.68s/it]"
>>>>>>> ebf267c4643fa440d8689e15803aa30a89ff8b91
     ]
    },
    {
     "name": "stdout",
     "output_type": "stream",
     "text": [
<<<<<<< HEAD
      "chanelofficial\\2024-01-10_07-54-35_UTC.jpg [Some encounters you wear fore…] json \n"
=======
      "jacquemus\\2023-11-27_17-00-22_UTC.jpg [LE BISOU TRIP jacquemus.com] jacquemus\\2023-11-27_17-00-22_UTC.mp4 json \n"
>>>>>>> ebf267c4643fa440d8689e15803aa30a89ff8b91
     ]
    },
    {
     "name": "stderr",
     "output_type": "stream",
     "text": [
<<<<<<< HEAD
      "Downloading posts:   6%|███▋                                                          | 12/200 [01:07<17:31,  5.59s/it]"
=======
      "Downloading posts:   2%|█▍                                                            | 12/500 [01:39<54:18,  6.68s/it]"
>>>>>>> ebf267c4643fa440d8689e15803aa30a89ff8b91
     ]
    },
    {
     "name": "stdout",
     "output_type": "stream",
     "text": [
<<<<<<< HEAD
      "chanelofficial\\2024-01-09_17-52-47_UTC.jpg [Some encounters you wear fore…] chanelofficial\\2024-01-09_17-52-47_UTC.mp4 json \n"
=======
      "jacquemus\\2023-11-23_12-42-06_UTC_1.jpg jacquemus\\2023-11-23_12-42-06_UTC_2.jpg jacquemus\\2023-11-23_12-42-06_UTC_3.jpg jacquemus\\2023-11-23_12-42-06_UTC_4.jpg jacquemus\\2023-11-23_12-42-06_UTC_5.jpg jacquemus\\2023-11-23_12-42-06_UTC_6.jpg jacquemus\\2023-11-23_12-42-06_UTC_7.jpg jacquemus\\2023-11-23_12-42-06_UTC_8.jpg jacquemus\\2023-11-23_12-42-06_UTC_9.jpg jacquemus\\2023-11-23_12-42-06_UTC_9.mp4 jacquemus\\2023-11-23_12-42-06_UTC_10.jpg [“MINI ME” BY JACQUEMUS THE FI…] json \n"
>>>>>>> ebf267c4643fa440d8689e15803aa30a89ff8b91
     ]
    },
    {
     "name": "stderr",
     "output_type": "stream",
     "text": [
<<<<<<< HEAD
      "Downloading posts:   6%|████                                                          | 13/200 [01:16<20:15,  6.50s/it]"
=======
      "Downloading posts:   3%|█▌                                                          | 13/500 [01:54<1:13:28,  9.05s/it]"
>>>>>>> ebf267c4643fa440d8689e15803aa30a89ff8b91
     ]
    },
    {
     "name": "stdout",
     "output_type": "stream",
     "text": [
<<<<<<< HEAD
      "chanelofficial\\2024-01-09_13-56-23_UTC.jpg [Some encounters you wear fore…] chanelofficial\\2024-01-09_13-56-23_UTC.mp4 json \n"
=======
      "jacquemus\\2023-11-22_17-55-45_UTC.jpg [“MINI ME” BY JACQUEMUS THE FI…] jacquemus\\2023-11-22_17-55-45_UTC.mp4 json \n"
>>>>>>> ebf267c4643fa440d8689e15803aa30a89ff8b91
     ]
    },
    {
     "name": "stderr",
     "output_type": "stream",
     "text": [
<<<<<<< HEAD
      "Downloading posts:   7%|████▎                                                         | 14/200 [01:27<24:23,  7.87s/it]"
=======
      "Downloading posts:   3%|█▋                                                          | 14/500 [02:02<1:12:36,  8.96s/it]"
>>>>>>> ebf267c4643fa440d8689e15803aa30a89ff8b91
     ]
    },
    {
     "name": "stdout",
     "output_type": "stream",
     "text": [
<<<<<<< HEAD
      "chanelofficial\\2024-01-09_10-01-37_UTC.jpg [It’s so good.   English music…] chanelofficial\\2024-01-09_10-01-37_UTC.mp4 json \n"
=======
      "jacquemus\\2023-11-20_17-49-15_UTC.jpg [Silver delivery on jacquemus.…] jacquemus\\2023-11-20_17-49-15_UTC.mp4 json \n"
>>>>>>> ebf267c4643fa440d8689e15803aa30a89ff8b91
     ]
    },
    {
     "name": "stderr",
     "output_type": "stream",
     "text": [
<<<<<<< HEAD
      "Downloading posts:   8%|████▋                                                         | 15/200 [01:36<24:52,  8.07s/it]"
=======
      "Downloading posts:   3%|█▊                                                          | 15/500 [02:11<1:10:57,  8.78s/it]"
>>>>>>> ebf267c4643fa440d8689e15803aa30a89ff8b91
     ]
    },
    {
     "name": "stdout",
     "output_type": "stream",
     "text": [
<<<<<<< HEAD
      "chanelofficial\\2024-01-08_17-12-17_UTC.jpg [By a stroke of CHANCE Let the…] chanelofficial\\2024-01-08_17-12-17_UTC.mp4 json \n"
=======
      "jacquemus\\2023-11-15_16-38-47_UTC.jpg [Part 2..  “GUIRLANDE” The hol…] json \n"
>>>>>>> ebf267c4643fa440d8689e15803aa30a89ff8b91
     ]
    },
    {
     "name": "stderr",
     "output_type": "stream",
     "text": [
<<<<<<< HEAD
      "Downloading posts:   8%|████▉                                                         | 16/200 [01:43<23:41,  7.73s/it]"
=======
      "Downloading posts:   3%|█▉                                                            | 16/500 [02:14<58:24,  7.24s/it]"
>>>>>>> ebf267c4643fa440d8689e15803aa30a89ff8b91
     ]
    },
    {
     "name": "stdout",
     "output_type": "stream",
     "text": [
<<<<<<< HEAD
      "chanelofficial\\2024-01-08_14-00-38_UTC.jpg [Floral-sparkling notes New. C…] json \n"
=======
      "jacquemus\\2023-11-14_16-48-03_UTC.jpg [Caption this, only wrong answ…] json \n"
>>>>>>> ebf267c4643fa440d8689e15803aa30a89ff8b91
     ]
    },
    {
     "name": "stderr",
     "output_type": "stream",
     "text": [
<<<<<<< HEAD
      "Downloading posts:   8%|█████▎                                                        | 17/200 [01:48<21:32,  7.06s/it]"
=======
      "Downloading posts:   3%|██                                                            | 17/500 [02:21<56:53,  7.07s/it]"
>>>>>>> ebf267c4643fa440d8689e15803aa30a89ff8b91
     ]
    },
    {
     "name": "stdout",
     "output_type": "stream",
     "text": [
<<<<<<< HEAD
      "chanelofficial\\2024-01-08_10-47-05_UTC.jpg [Zuza’s audition tape Meet @zu…] chanelofficial\\2024-01-08_10-47-05_UTC.mp4 json \n"
=======
      "jacquemus\\2023-11-13_17-03-52_UTC.jpg [« GUIRLANDE »  The holiday co…] jacquemus\\2023-11-13_17-03-52_UTC.mp4 json \n"
>>>>>>> ebf267c4643fa440d8689e15803aa30a89ff8b91
     ]
    },
    {
     "name": "stderr",
     "output_type": "stream",
     "text": [
<<<<<<< HEAD
      "Downloading posts:   9%|█████▌                                                        | 18/200 [01:56<21:46,  7.18s/it]"
=======
      "Downloading posts:   4%|██▏                                                           | 18/500 [02:28<56:53,  7.08s/it]"
>>>>>>> ebf267c4643fa440d8689e15803aa30a89ff8b91
     ]
    },
    {
     "name": "stdout",
     "output_type": "stream",
     "text": [
<<<<<<< HEAD
      "chanelofficial\\2024-01-07_16-09-34_UTC_1.jpg chanelofficial\\2024-01-07_16-09-34_UTC_2.jpg [LES BEIGES HEALTHY WINTER GLO…] json \n"
=======
      "jacquemus\\2023-11-08_17-00-38_UTC_1.jpg jacquemus\\2023-11-08_17-00-38_UTC_2.jpg jacquemus\\2023-11-08_17-00-38_UTC_3.jpg jacquemus\\2023-11-08_17-00-38_UTC_4.jpg jacquemus\\2023-11-08_17-00-38_UTC_5.jpg [”GUIRLANDE” with @kendalljenn…] json \n"
>>>>>>> ebf267c4643fa440d8689e15803aa30a89ff8b91
     ]
    },
    {
     "name": "stderr",
     "output_type": "stream",
     "text": [
<<<<<<< HEAD
      "Downloading posts:  10%|█████▉                                                        | 19/200 [02:02<20:58,  6.95s/it]"
=======
      "Downloading posts:   4%|██▎                                                           | 19/500 [02:34<54:23,  6.79s/it]"
>>>>>>> ebf267c4643fa440d8689e15803aa30a89ff8b91
     ]
    },
    {
     "name": "stdout",
     "output_type": "stream",
     "text": [
<<<<<<< HEAD
      "chanelofficial\\2024-01-07_13-01-46_UTC.jpg [LES BEIGES WINTER GLOW Subtly…] json \n"
=======
      "jacquemus\\2023-11-07_12-55-51_UTC.jpg [Don’t try this at home :)  “G…] jacquemus\\2023-11-07_12-55-51_UTC.mp4 json \n"
>>>>>>> ebf267c4643fa440d8689e15803aa30a89ff8b91
     ]
    },
    {
     "name": "stderr",
     "output_type": "stream",
     "text": [
<<<<<<< HEAD
      "Downloading posts:  10%|██████▏                                                       | 20/200 [02:08<19:38,  6.55s/it]"
=======
      "Downloading posts:   4%|██▍                                                           | 20/500 [02:43<58:17,  7.29s/it]"
>>>>>>> ebf267c4643fa440d8689e15803aa30a89ff8b91
     ]
    },
    {
     "name": "stdout",
     "output_type": "stream",
     "text": [
<<<<<<< HEAD
      "chanelofficial\\2024-01-07_10-02-21_UTC_1.jpg chanelofficial\\2024-01-07_10-02-21_UTC_2.jpg [YOUR BEAUTY IS ELEVATED TO NE…] json \n"
=======
      "jacquemus\\2023-11-06_17-00-06_UTC_1.jpg jacquemus\\2023-11-06_17-00-06_UTC_1.mp4 jacquemus\\2023-11-06_17-00-06_UTC_2.jpg jacquemus\\2023-11-06_17-00-06_UTC_3.jpg jacquemus\\2023-11-06_17-00-06_UTC_4.jpg jacquemus\\2023-11-06_17-00-06_UTC_5.jpg [“GUIRLANDE” with @kendalljenn…] json \n"
>>>>>>> ebf267c4643fa440d8689e15803aa30a89ff8b91
     ]
    },
    {
     "name": "stderr",
     "output_type": "stream",
     "text": [
<<<<<<< HEAD
      "Downloading posts:  10%|██████▌                                                       | 21/200 [02:14<19:20,  6.48s/it]"
=======
      "Downloading posts:   4%|██▌                                                           | 21/500 [02:50<58:50,  7.37s/it]"
>>>>>>> ebf267c4643fa440d8689e15803aa30a89ff8b91
     ]
    },
    {
     "name": "stdout",
     "output_type": "stream",
     "text": [
<<<<<<< HEAD
      "chanelofficial\\2024-01-06_16-06-26_UTC.jpg [YOUR BEAUTY IS ELEVATED TO NE…] json \n"
=======
      "jacquemus\\2023-11-05_16-57-33_UTC.jpg [“GUIRLANDE” with @kendalljenn…] json \n"
>>>>>>> ebf267c4643fa440d8689e15803aa30a89ff8b91
     ]
    },
    {
     "name": "stderr",
     "output_type": "stream",
     "text": [
<<<<<<< HEAD
      "Downloading posts:  11%|██████▊                                                       | 22/200 [02:19<18:23,  6.20s/it]"
=======
      "Downloading posts:   4%|██▋                                                           | 22/500 [02:55<52:09,  6.55s/it]"
>>>>>>> ebf267c4643fa440d8689e15803aa30a89ff8b91
     ]
    },
    {
     "name": "stdout",
     "output_type": "stream",
     "text": [
<<<<<<< HEAD
      "chanelofficial\\2024-01-06_13-18-02_UTC.jpg [EXPLORE RADIANCE FROM EVERY A…] json \n"
=======
      "jacquemus\\2023-10-27_09-41-44_UTC.jpg [Where will we see you next? P…] jacquemus\\2023-10-27_09-41-44_UTC.mp4 json \n"
>>>>>>> ebf267c4643fa440d8689e15803aa30a89ff8b91
     ]
    },
    {
     "name": "stderr",
     "output_type": "stream",
     "text": [
<<<<<<< HEAD
      "Downloading posts:  12%|███████▏                                                      | 23/200 [02:25<17:45,  6.02s/it]"
=======
      "Downloading posts:   5%|██▊                                                           | 23/500 [03:01<52:10,  6.56s/it]"
>>>>>>> ebf267c4643fa440d8689e15803aa30a89ff8b91
     ]
    },
    {
     "name": "stdout",
     "output_type": "stream",
     "text": [
<<<<<<< HEAD
      "chanelofficial\\2024-01-06_10-05-22_UTC.jpg [LES BEIGES WINTER GLOW Inspir…] chanelofficial\\2024-01-06_10-05-22_UTC.mp4 json \n"
=======
      "jacquemus\\2023-10-26_15-56-08_UTC_1.jpg jacquemus\\2023-10-26_15-56-08_UTC_2.jpg jacquemus\\2023-10-26_15-56-08_UTC_3.jpg jacquemus\\2023-10-26_15-56-08_UTC_4.jpg jacquemus\\2023-10-26_15-56-08_UTC_5.jpg jacquemus\\2023-10-26_15-56-08_UTC_6.jpg [🍊 NIKE + JACQUEMUS NEW DROP @…] json \n"
>>>>>>> ebf267c4643fa440d8689e15803aa30a89ff8b91
     ]
    },
    {
     "name": "stderr",
     "output_type": "stream",
     "text": [
<<<<<<< HEAD
      "Downloading posts:  12%|███████▍                                                      | 24/200 [02:32<18:09,  6.19s/it]"
=======
      "Downloading posts:   5%|██▉                                                           | 24/500 [03:11<59:22,  7.48s/it]"
>>>>>>> ebf267c4643fa440d8689e15803aa30a89ff8b91
     ]
    },
    {
     "name": "stdout",
     "output_type": "stream",
     "text": [
<<<<<<< HEAD
      "chanelofficial\\2024-01-05_17-32-12_UTC_1.jpg chanelofficial\\2024-01-05_17-32-12_UTC_2.jpg [The N°1 DE CHANEL exfoliating…] json \n"
=======
      "jacquemus\\2023-10-20_15-04-22_UTC_1.jpg jacquemus\\2023-10-20_15-04-22_UTC_2.jpg jacquemus\\2023-10-20_15-04-22_UTC_3.jpg jacquemus\\2023-10-20_15-04-22_UTC_3.mp4 jacquemus\\2023-10-20_15-04-22_UTC_4.jpg jacquemus\\2023-10-20_15-04-22_UTC_4.mp4 jacquemus\\2023-10-20_15-04-22_UTC_5.jpg jacquemus\\2023-10-20_15-04-22_UTC_5.mp4 jacquemus\\2023-10-20_15-04-22_UTC_6.jpg jacquemus\\2023-10-20_15-04-22_UTC_6.mp4 jacquemus\\2023-10-20_15-04-22_UTC_7.jpg jacquemus\\2023-10-20_15-04-22_UTC_7.mp4 jacquemus\\2023-10-20_15-04-22_UTC_8.jpg jacquemus\\2023-10-20_15-04-22_UTC_8.mp4 jacquemus\\2023-10-20_15-04-22_UTC_9.jpg jacquemus\\2023-10-20_15-04-22_UTC_9.mp4 jacquemus\\2023-10-20_15-04-22_UTC_10.jpg [BONJOUR SÉOUL !!   카페 플라워가 서울…] json \n"
>>>>>>> ebf267c4643fa440d8689e15803aa30a89ff8b91
     ]
    },
    {
     "name": "stderr",
     "output_type": "stream",
     "text": [
<<<<<<< HEAD
      "Downloading posts:  12%|███████▊                                                      | 25/200 [02:38<17:51,  6.13s/it]"
=======
      "Downloading posts:   5%|███                                                         | 25/500 [03:27<1:19:20, 10.02s/it]"
>>>>>>> ebf267c4643fa440d8689e15803aa30a89ff8b91
     ]
    },
    {
     "name": "stdout",
     "output_type": "stream",
     "text": [
<<<<<<< HEAD
      "chanelofficial\\2024-01-05_16-17-56_UTC.jpg [The extraordinary red camelli…] chanelofficial\\2024-01-05_16-17-56_UTC.mp4 json \n"
=======
      "jacquemus\\2023-10-09_15-58-27_UTC_1.jpg jacquemus\\2023-10-09_15-58-27_UTC_2.jpg jacquemus\\2023-10-09_15-58-27_UTC_2.mp4 jacquemus\\2023-10-09_15-58-27_UTC_3.jpg jacquemus\\2023-10-09_15-58-27_UTC_4.jpg jacquemus\\2023-10-09_15-58-27_UTC_5.jpg jacquemus\\2023-10-09_15-58-27_UTC_6.jpg jacquemus\\2023-10-09_15-58-27_UTC_7.jpg jacquemus\\2023-10-09_15-58-27_UTC_8.jpg jacquemus\\2023-10-09_15-58-27_UTC_9.jpg [Now available ! 😀⏰❤️ So happy…] json \n"
>>>>>>> ebf267c4643fa440d8689e15803aa30a89ff8b91
     ]
    },
    {
     "name": "stderr",
     "output_type": "stream",
     "text": [
<<<<<<< HEAD
      "Downloading posts:  13%|████████                                                      | 26/200 [02:49<22:00,  7.59s/it]"
=======
      "Downloading posts:   5%|███                                                         | 26/500 [03:40<1:25:24, 10.81s/it]"
>>>>>>> ebf267c4643fa440d8689e15803aa30a89ff8b91
     ]
    },
    {
     "name": "stdout",
     "output_type": "stream",
     "text": [
<<<<<<< HEAD
      "chanelofficial\\2024-01-05_15-37-15_UTC_1.jpg chanelofficial\\2024-01-05_15-37-15_UTC_2.jpg chanelofficial\\2024-01-05_15-37-15_UTC_3.jpg [An extraordinarily powerful f…] json \n"
=======
      "jacquemus\\2023-10-05_16-35-02_UTC_1.jpg jacquemus\\2023-10-05_16-35-02_UTC_2.jpg jacquemus\\2023-10-05_16-35-02_UTC_2.mp4 jacquemus\\2023-10-05_16-35-02_UTC_3.jpg jacquemus\\2023-10-05_16-35-02_UTC_3.mp4 jacquemus\\2023-10-05_16-35-02_UTC_4.jpg jacquemus\\2023-10-05_16-35-02_UTC_4.mp4 jacquemus\\2023-10-05_16-35-02_UTC_5.jpg jacquemus\\2023-10-05_16-35-02_UTC_5.mp4 jacquemus\\2023-10-05_16-35-02_UTC_6.jpg jacquemus\\2023-10-05_16-35-02_UTC_6.mp4 jacquemus\\2023-10-05_16-35-02_UTC_7.jpg jacquemus\\2023-10-05_16-35-02_UTC_7.mp4 [Yesterday our dinner in Versa…] json \n"
>>>>>>> ebf267c4643fa440d8689e15803aa30a89ff8b91
     ]
    },
    {
     "name": "stderr",
     "output_type": "stream",
     "text": [
<<<<<<< HEAD
      "Downloading posts:  14%|████████▎                                                     | 27/200 [02:55<20:37,  7.15s/it]"
=======
      "Downloading posts:   5%|███▏                                                        | 27/500 [03:56<1:37:24, 12.36s/it]"
>>>>>>> ebf267c4643fa440d8689e15803aa30a89ff8b91
     ]
    },
    {
     "name": "stdout",
     "output_type": "stream",
     "text": [
<<<<<<< HEAD
      "chanelofficial\\2024-01-04_16-17-37_UTC_1.jpg chanelofficial\\2024-01-04_16-17-37_UTC_2.jpg chanelofficial\\2024-01-04_16-17-37_UTC_3.jpg [Boost your skin's vitality.  …] json \n"
=======
      "jacquemus\\2023-10-02_16-18-19_UTC.jpg [LE CHOUCHOU - MARTIN PARR AVA…] jacquemus\\2023-10-02_16-18-19_UTC.mp4 json \n"
>>>>>>> ebf267c4643fa440d8689e15803aa30a89ff8b91
     ]
    },
    {
     "name": "stderr",
     "output_type": "stream",
     "text": [
<<<<<<< HEAD
      "Downloading posts:  14%|████████▋                                                     | 28/200 [03:01<19:44,  6.89s/it]"
=======
      "Downloading posts:   6%|███▎                                                        | 28/500 [04:00<1:18:28,  9.98s/it]"
>>>>>>> ebf267c4643fa440d8689e15803aa30a89ff8b91
     ]
    },
    {
     "name": "stdout",
     "output_type": "stream",
     "text": [
<<<<<<< HEAD
      "chanelofficial\\2024-01-04_13-02-10_UTC.jpg [The N°1 DE CHANEL serum. A re…] json \n"
=======
      "jacquemus\\2023-09-26_16-01-17_UTC_1.jpg jacquemus\\2023-09-26_16-01-17_UTC_2.jpg jacquemus\\2023-09-26_16-01-17_UTC_3.jpg jacquemus\\2023-09-26_16-01-17_UTC_4.jpg jacquemus\\2023-09-26_16-01-17_UTC_5.jpg jacquemus\\2023-09-26_16-01-17_UTC_6.jpg jacquemus\\2023-09-26_16-01-17_UTC_7.jpg jacquemus\\2023-09-26_16-01-17_UTC_8.jpg jacquemus\\2023-09-26_16-01-17_UTC_9.jpg jacquemus\\2023-09-26_16-01-17_UTC_10.jpg [\"LE SOIR\" IS OUT -  EVENING E…] json \n"
>>>>>>> ebf267c4643fa440d8689e15803aa30a89ff8b91
     ]
    },
    {
     "name": "stderr",
     "output_type": "stream",
     "text": [
<<<<<<< HEAD
      "Downloading posts:  14%|████████▉                                                     | 29/200 [03:07<18:27,  6.48s/it]"
=======
      "Downloading posts:   6%|███▍                                                        | 29/500 [04:09<1:15:12,  9.58s/it]"
>>>>>>> ebf267c4643fa440d8689e15803aa30a89ff8b91
     ]
    },
    {
     "name": "stdout",
     "output_type": "stream",
     "text": [
<<<<<<< HEAD
      "chanelofficial\\2024-01-04_09-24-52_UTC.jpg [The N°1 DE CHANEL line. Beaut…] chanelofficial\\2024-01-04_09-24-52_UTC.mp4 json \n"
=======
      "jacquemus\\2023-09-25_15-47-35_UTC.jpg [\"LE SOIR\"  EVENING EXCLUSIVE …] json \n"
>>>>>>> ebf267c4643fa440d8689e15803aa30a89ff8b91
     ]
    },
    {
     "name": "stderr",
     "output_type": "stream",
     "text": [
<<<<<<< HEAD
      "Downloading posts:  15%|█████████▎                                                    | 30/200 [03:15<20:24,  7.21s/it]"
=======
      "Downloading posts:   6%|███▌                                                        | 30/500 [04:15<1:08:04,  8.69s/it]"
>>>>>>> ebf267c4643fa440d8689e15803aa30a89ff8b91
     ]
    },
    {
     "name": "stdout",
     "output_type": "stream",
     "text": [
<<<<<<< HEAD
      "chanelofficial\\2024-01-03_17-09-50_UTC.jpg [When CHANCE favors you Let th…] chanelofficial\\2024-01-03_17-09-50_UTC.mp4 json \n"
=======
      "jacquemus\\2023-09-22_12-10-58_UTC_1.jpg jacquemus\\2023-09-22_12-10-58_UTC_2.jpg jacquemus\\2023-09-22_12-10-58_UTC_3.jpg jacquemus\\2023-09-22_12-10-58_UTC_4.jpg jacquemus\\2023-09-22_12-10-58_UTC_5.jpg jacquemus\\2023-09-22_12-10-58_UTC_6.jpg jacquemus\\2023-09-22_12-10-58_UTC_7.jpg [So happy of this project with…] json \n"
>>>>>>> ebf267c4643fa440d8689e15803aa30a89ff8b91
     ]
    },
    {
     "name": "stderr",
     "output_type": "stream",
     "text": [
<<<<<<< HEAD
      "Downloading posts:  16%|█████████▌                                                    | 31/200 [03:23<20:11,  7.17s/it]"
=======
      "Downloading posts:   6%|███▋                                                        | 31/500 [04:26<1:11:21,  9.13s/it]"
>>>>>>> ebf267c4643fa440d8689e15803aa30a89ff8b91
     ]
    },
    {
     "name": "stdout",
     "output_type": "stream",
     "text": [
<<<<<<< HEAD
      "chanelofficial\\2024-01-03_14-16-45_UTC.jpg [A fragrance with floral-fruit…] json \n"
=======
      "jacquemus\\2023-09-15_10-31-57_UTC_1.jpg jacquemus\\2023-09-15_10-31-57_UTC_2.jpg jacquemus\\2023-09-15_10-31-57_UTC_3.jpg jacquemus\\2023-09-15_10-31-57_UTC_4.jpg [So happy of this project with…] json \n"
>>>>>>> ebf267c4643fa440d8689e15803aa30a89ff8b91
     ]
    },
    {
     "name": "stderr",
     "output_type": "stream",
     "text": [
<<<<<<< HEAD
      "Downloading posts:  16%|█████████▉                                                    | 32/200 [03:28<18:40,  6.67s/it]"
=======
      "Downloading posts:   6%|███▊                                                        | 32/500 [04:31<1:02:20,  7.99s/it]"
>>>>>>> ebf267c4643fa440d8689e15803aa30a89ff8b91
     ]
    },
    {
     "name": "stdout",
     "output_type": "stream",
     "text": [
<<<<<<< HEAD
      "chanelofficial\\2024-01-03_08-16-47_UTC.jpg [Amiah’s audition tape Meet @a…] chanelofficial\\2024-01-03_08-16-47_UTC.mp4 json \n"
=======
      "jacquemus\\2023-09-13_17-23-02_UTC.jpg [“A TABLE!”  Time for a drink …] json \n"
>>>>>>> ebf267c4643fa440d8689e15803aa30a89ff8b91
     ]
    },
    {
     "name": "stderr",
     "output_type": "stream",
     "text": [
<<<<<<< HEAD
      "Downloading posts:  16%|██████████▏                                                   | 33/200 [03:36<20:00,  7.19s/it]"
=======
      "Downloading posts:   7%|████                                                          | 33/500 [04:34<52:01,  6.68s/it]"
>>>>>>> ebf267c4643fa440d8689e15803aa30a89ff8b91
     ]
    },
    {
     "name": "stdout",
     "output_type": "stream",
     "text": [
<<<<<<< HEAD
      "chanelofficial\\2024-01-02_19-42-30_UTC_1.jpg chanelofficial\\2024-01-02_19-42-30_UTC_2.jpg chanelofficial\\2024-01-02_19-42-30_UTC_3.jpg chanelofficial\\2024-01-02_19-42-30_UTC_4.jpg [It’s your turn to play CHANCE…] json \n"
=======
      "jacquemus\\2023-09-12_15-55-22_UTC.jpg [DISCOVER OUR NEW INSTALLATION…] jacquemus\\2023-09-12_15-55-22_UTC.mp4 json \n"
>>>>>>> ebf267c4643fa440d8689e15803aa30a89ff8b91
     ]
    },
    {
     "name": "stderr",
     "output_type": "stream",
     "text": [
<<<<<<< HEAD
      "Downloading posts:  17%|██████████▌                                                   | 34/200 [03:43<19:37,  7.10s/it]"
=======
      "Downloading posts:   7%|████▏                                                         | 34/500 [04:43<56:38,  7.29s/it]"
>>>>>>> ebf267c4643fa440d8689e15803aa30a89ff8b91
     ]
    },
    {
     "name": "stdout",
     "output_type": "stream",
     "text": [
<<<<<<< HEAD
      "chanelofficial\\2024-01-02_16-07-13_UTC.jpg [4 scents, 4 ways to take your…] json \n"
=======
      "jacquemus\\2023-09-12_06-54-26_UTC.jpg [« A TABLE! » Croissant ou pai…] json \n"
>>>>>>> ebf267c4643fa440d8689e15803aa30a89ff8b91
     ]
    },
    {
     "name": "stderr",
     "output_type": "stream",
     "text": [
<<<<<<< HEAD
      "Downloading posts:  18%|██████████▊                                                   | 35/200 [03:49<18:17,  6.65s/it]"
=======
      "Downloading posts:   7%|████▎                                                         | 35/500 [04:48<50:25,  6.51s/it]"
>>>>>>> ebf267c4643fa440d8689e15803aa30a89ff8b91
     ]
    },
    {
     "name": "stdout",
     "output_type": "stream",
     "text": [
<<<<<<< HEAD
      "chanelofficial\\2024-01-02_13-22-49_UTC.jpg [The new CHANCE campaign Disco…] chanelofficial\\2024-01-02_13-22-49_UTC.mp4 json \n"
=======
      "jacquemus\\2023-09-11_16-22-29_UTC_1.jpg jacquemus\\2023-09-11_16-22-29_UTC_2.jpg jacquemus\\2023-09-11_16-22-29_UTC_3.jpg jacquemus\\2023-09-11_16-22-29_UTC_4.jpg [“A TABLE!”  Your favorite dis…] json \n"
>>>>>>> ebf267c4643fa440d8689e15803aa30a89ff8b91
     ]
    },
    {
     "name": "stderr",
     "output_type": "stream",
     "text": [
<<<<<<< HEAD
      "Downloading posts:  18%|███████████▏                                                  | 36/200 [03:58<20:07,  7.36s/it]"
=======
      "Downloading posts:   7%|████▍                                                         | 36/500 [04:52<45:28,  5.88s/it]"
>>>>>>> ebf267c4643fa440d8689e15803aa30a89ff8b91
     ]
    },
    {
     "name": "stdout",
     "output_type": "stream",
     "text": [
<<<<<<< HEAD
      "chanelofficial\\2023-12-29_18-02-56_UTC_1.jpg chanelofficial\\2023-12-29_18-02-56_UTC_2.jpg [TWEED de CHANEL.  The CHANEL …] json \n"
=======
      "jacquemus\\2023-09-07_16-03-57_UTC_1.jpg jacquemus\\2023-09-07_16-03-57_UTC_2.jpg jacquemus\\2023-09-07_16-03-57_UTC_3.jpg jacquemus\\2023-09-07_16-03-57_UTC_4.jpg jacquemus\\2023-09-07_16-03-57_UTC_5.jpg jacquemus\\2023-09-07_16-03-57_UTC_6.jpg jacquemus\\2023-09-07_16-03-57_UTC_6.mp4 [JACQUEMUS FOR BEYONCÉ  BESPOK…] json \n"
>>>>>>> ebf267c4643fa440d8689e15803aa30a89ff8b91
     ]
    },
    {
     "name": "stderr",
     "output_type": "stream",
     "text": [
<<<<<<< HEAD
      "Downloading posts:  18%|███████████▍                                                  | 37/200 [04:04<18:54,  6.96s/it]"
=======
      "Downloading posts:   7%|████▌                                                         | 37/500 [05:04<58:05,  7.53s/it]"
>>>>>>> ebf267c4643fa440d8689e15803aa30a89ff8b91
     ]
    },
    {
     "name": "stdout",
     "output_type": "stream",
     "text": [
<<<<<<< HEAD
      "chanelofficial\\2023-12-29_13-19-15_UTC_1.jpg chanelofficial\\2023-12-29_13-19-15_UTC_2.jpg chanelofficial\\2023-12-29_13-19-15_UTC_3.jpg [TWEED de CHANEL. The TWEED CA…] json \n"
=======
      "jacquemus\\2023-09-06_16-37-03_UTC_1.jpg jacquemus\\2023-09-06_16-37-03_UTC_1.mp4 jacquemus\\2023-09-06_16-37-03_UTC_2.jpg jacquemus\\2023-09-06_16-37-03_UTC_2.mp4 jacquemus\\2023-09-06_16-37-03_UTC_3.jpg jacquemus\\2023-09-06_16-37-03_UTC_3.mp4 jacquemus\\2023-09-06_16-37-03_UTC_4.jpg jacquemus\\2023-09-06_16-37-03_UTC_4.mp4 jacquemus\\2023-09-06_16-37-03_UTC_5.jpg jacquemus\\2023-09-06_16-37-03_UTC_5.mp4 jacquemus\\2023-09-06_16-37-03_UTC_6.jpg jacquemus\\2023-09-06_16-37-03_UTC_6.mp4 jacquemus\\2023-09-06_16-37-03_UTC_7.jpg jacquemus\\2023-09-06_16-37-03_UTC_7.mp4 jacquemus\\2023-09-06_16-37-03_UTC_8.jpg jacquemus\\2023-09-06_16-37-03_UTC_8.mp4 jacquemus\\2023-09-06_16-37-03_UTC_9.jpg jacquemus\\2023-09-06_16-37-03_UTC_9.mp4 jacquemus\\2023-09-06_16-37-03_UTC_10.jpg jacquemus\\2023-09-06_16-37-03_UTC_10.mp4 [This was the best day @gigiha…] json \n"
>>>>>>> ebf267c4643fa440d8689e15803aa30a89ff8b91
     ]
    },
    {
     "name": "stderr",
     "output_type": "stream",
     "text": [
<<<<<<< HEAD
      "Downloading posts:  19%|███████████▊                                                  | 38/200 [04:11<18:38,  6.91s/it]"
=======
      "Downloading posts:   8%|████▌                                                       | 38/500 [05:22<1:24:03, 10.92s/it]"
>>>>>>> ebf267c4643fa440d8689e15803aa30a89ff8b91
     ]
    },
    {
     "name": "stdout",
     "output_type": "stream",
     "text": [
<<<<<<< HEAD
      "chanelofficial\\2023-12-29_10-02-16_UTC_1.jpg chanelofficial\\2023-12-29_10-02-16_UTC_2.jpg [TWEED de CHANEL.  Patrice Leg…] json \n"
=======
      "jacquemus\\2023-09-05_15-46-51_UTC_1.jpg jacquemus\\2023-09-05_15-46-51_UTC_2.jpg jacquemus\\2023-09-05_15-46-51_UTC_3.jpg jacquemus\\2023-09-05_15-46-51_UTC_4.jpg jacquemus\\2023-09-05_15-46-51_UTC_5.jpg jacquemus\\2023-09-05_15-46-51_UTC_6.jpg jacquemus\\2023-09-05_15-46-51_UTC_7.jpg jacquemus\\2023-09-05_15-46-51_UTC_8.jpg jacquemus\\2023-09-05_15-46-51_UTC_9.jpg [GIGI IS OUR CHOUCHOU!! GIGI H…] json \n"
>>>>>>> ebf267c4643fa440d8689e15803aa30a89ff8b91
     ]
    },
    {
     "name": "stderr",
     "output_type": "stream",
     "text": [
<<<<<<< HEAD
      "Downloading posts:  20%|████████████                                                  | 39/200 [04:17<18:14,  6.80s/it]"
=======
      "Downloading posts:   8%|████▋                                                       | 39/500 [05:32<1:21:10, 10.57s/it]"
>>>>>>> ebf267c4643fa440d8689e15803aa30a89ff8b91
     ]
    },
    {
     "name": "stdout",
     "output_type": "stream",
     "text": [
<<<<<<< HEAD
      "chanelofficial\\2023-12-23_15-19-51_UTC.jpg [The CHANEL gift finder. Find …] chanelofficial\\2023-12-23_15-19-51_UTC.mp4 json \n"
=======
      "jacquemus\\2023-09-04_15-09-16_UTC.jpg [«LE CHOUCHOU » See you tomorr…] jacquemus\\2023-09-04_15-09-16_UTC.mp4 json \n"
>>>>>>> ebf267c4643fa440d8689e15803aa30a89ff8b91
     ]
    },
    {
     "name": "stderr",
     "output_type": "stream",
     "text": [
<<<<<<< HEAD
      "Downloading posts:  20%|████████████▍                                                 | 40/200 [04:25<19:00,  7.13s/it]"
=======
      "Downloading posts:   8%|████▊                                                       | 40/500 [05:40<1:14:30,  9.72s/it]"
>>>>>>> ebf267c4643fa440d8689e15803aa30a89ff8b91
     ]
    },
    {
     "name": "stdout",
     "output_type": "stream",
     "text": [
<<<<<<< HEAD
      "chanelofficial\\2023-12-22_15-45-56_UTC_1.jpg chanelofficial\\2023-12-22_15-45-56_UTC_2.jpg [Give wonder, give CHANEL. Thi…] json \n"
=======
      "jacquemus\\2023-08-29_15-48-37_UTC.jpg [Our first ballerina boat is o…] jacquemus\\2023-08-29_15-48-37_UTC.mp4 json \n"
>>>>>>> ebf267c4643fa440d8689e15803aa30a89ff8b91
     ]
    },
    {
     "name": "stderr",
     "output_type": "stream",
     "text": [
<<<<<<< HEAD
      "Downloading posts:  20%|████████████▋                                                 | 41/200 [04:32<18:15,  6.89s/it]"
=======
      "Downloading posts:   8%|████▉                                                       | 41/500 [05:46<1:05:11,  8.52s/it]"
>>>>>>> ebf267c4643fa440d8689e15803aa30a89ff8b91
     ]
    },
    {
     "name": "stdout",
     "output_type": "stream",
     "text": [
<<<<<<< HEAD
      "chanelofficial\\2023-12-21_13-46-32_UTC.jpg [Give wonder, give CHANEL. Thi…] chanelofficial\\2023-12-21_13-46-32_UTC.mp4 json \n"
=======
      "jacquemus\\2023-08-23_11-31-52_UTC_1.jpg jacquemus\\2023-08-23_11-31-52_UTC_2.jpg jacquemus\\2023-08-23_11-31-52_UTC_2.mp4 jacquemus\\2023-08-23_11-31-52_UTC_3.jpg jacquemus\\2023-08-23_11-31-52_UTC_3.mp4 jacquemus\\2023-08-23_11-31-52_UTC_4.jpg jacquemus\\2023-08-23_11-31-52_UTC_5.jpg jacquemus\\2023-08-23_11-31-52_UTC_6.jpg jacquemus\\2023-08-23_11-31-52_UTC_7.jpg jacquemus\\2023-08-23_11-31-52_UTC_7.mp4 jacquemus\\2023-08-23_11-31-52_UTC_8.jpg jacquemus\\2023-08-23_11-31-52_UTC_9.jpg jacquemus\\2023-08-23_11-31-52_UTC_9.mp4 [LOVE YOU @dualipa  HAPPY YOU …] json \n"
>>>>>>> ebf267c4643fa440d8689e15803aa30a89ff8b91
     ]
    },
    {
     "name": "stderr",
     "output_type": "stream",
     "text": [
<<<<<<< HEAD
      "Downloading posts:  21%|█████████████                                                 | 42/200 [04:38<18:07,  6.88s/it]"
=======
      "Downloading posts:   8%|█████                                                       | 42/500 [06:00<1:18:19, 10.26s/it]"
>>>>>>> ebf267c4643fa440d8689e15803aa30a89ff8b91
     ]
    },
    {
     "name": "stdout",
     "output_type": "stream",
     "text": [
<<<<<<< HEAD
      "chanelofficial\\2023-12-18_17-55-46_UTC_1.jpg chanelofficial\\2023-12-18_17-55-46_UTC_2.jpg [Find your dream gift.  This h…] json \n"
=======
      "jacquemus\\2023-08-20_17-03-26_UTC.jpg [OUR NEW BAG INSTALLATION!] jacquemus\\2023-08-20_17-03-26_UTC.mp4 json \n"
>>>>>>> ebf267c4643fa440d8689e15803aa30a89ff8b91
     ]
    },
    {
     "name": "stderr",
     "output_type": "stream",
     "text": [
<<<<<<< HEAD
      "Downloading posts:  22%|█████████████▎                                                | 43/200 [04:44<17:16,  6.60s/it]"
=======
      "Downloading posts:   9%|█████▏                                                      | 43/500 [06:04<1:04:56,  8.53s/it]"
>>>>>>> ebf267c4643fa440d8689e15803aa30a89ff8b91
     ]
    },
    {
     "name": "stdout",
     "output_type": "stream",
     "text": [
<<<<<<< HEAD
      "chanelofficial\\2023-12-18_14-10-57_UTC_1.jpg chanelofficial\\2023-12-18_14-10-57_UTC_2.jpg [Give Wonder, Give CHANEL.  Th…] json \n"
=======
      "jacquemus\\2023-08-14_15-54-50_UTC_1.jpg jacquemus\\2023-08-14_15-54-50_UTC_1.mp4 jacquemus\\2023-08-14_15-54-50_UTC_2.jpg jacquemus\\2023-08-14_15-54-50_UTC_2.mp4 jacquemus\\2023-08-14_15-54-50_UTC_3.jpg jacquemus\\2023-08-14_15-54-50_UTC_3.mp4 jacquemus\\2023-08-14_15-54-50_UTC_4.jpg jacquemus\\2023-08-14_15-54-50_UTC_4.mp4 jacquemus\\2023-08-14_15-54-50_UTC_5.jpg jacquemus\\2023-08-14_15-54-50_UTC_5.mp4 jacquemus\\2023-08-14_15-54-50_UTC_6.jpg jacquemus\\2023-08-14_15-54-50_UTC_6.mp4 jacquemus\\2023-08-14_15-54-50_UTC_7.jpg jacquemus\\2023-08-14_15-54-50_UTC_7.mp4 jacquemus\\2023-08-14_15-54-50_UTC_8.jpg jacquemus\\2023-08-14_15-54-50_UTC_8.mp4 jacquemus\\2023-08-14_15-54-50_UTC_9.jpg jacquemus\\2023-08-14_15-54-50_UTC_9.mp4 jacquemus\\2023-08-14_15-54-50_UTC_10.jpg jacquemus\\2023-08-14_15-54-50_UTC_10.mp4 [LAST DESTINATION : ARLES  SUM…] json \n"
>>>>>>> ebf267c4643fa440d8689e15803aa30a89ff8b91
     ]
    },
    {
     "name": "stderr",
     "output_type": "stream",
     "text": [
<<<<<<< HEAD
      "Downloading posts:  22%|█████████████▋                                                | 44/200 [04:50<16:37,  6.39s/it]"
=======
      "Downloading posts:   9%|█████▎                                                      | 44/500 [06:29<1:41:46, 13.39s/it]"
>>>>>>> ebf267c4643fa440d8689e15803aa30a89ff8b91
     ]
    },
    {
     "name": "stdout",
     "output_type": "stream",
     "text": [
<<<<<<< HEAD
      "chanelofficial\\2023-12-18_10-09-44_UTC_1.jpg chanelofficial\\2023-12-18_10-09-44_UTC_2.jpg [Find your dream gift.  This h…] json \n"
=======
      "jacquemus\\2023-08-13_18-06-24_UTC_1.jpg jacquemus\\2023-08-13_18-06-24_UTC_2.jpg jacquemus\\2023-08-13_18-06-24_UTC_2.mp4 jacquemus\\2023-08-13_18-06-24_UTC_3.jpg jacquemus\\2023-08-13_18-06-24_UTC_4.jpg jacquemus\\2023-08-13_18-06-24_UTC_4.mp4 jacquemus\\2023-08-13_18-06-24_UTC_5.jpg jacquemus\\2023-08-13_18-06-24_UTC_5.mp4 jacquemus\\2023-08-13_18-06-24_UTC_6.jpg jacquemus\\2023-08-13_18-06-24_UTC_6.mp4 [SUNDAY NIGHT SOUTH OF FRANCE …] json \n"
>>>>>>> ebf267c4643fa440d8689e15803aa30a89ff8b91
     ]
    },
    {
     "name": "stderr",
     "output_type": "stream",
     "text": [
<<<<<<< HEAD
      "Downloading posts:  22%|█████████████▉                                                | 45/200 [04:56<16:19,  6.32s/it]"
=======
      "Downloading posts:   9%|█████▍                                                      | 45/500 [06:42<1:39:17, 13.09s/it]"
>>>>>>> ebf267c4643fa440d8689e15803aa30a89ff8b91
     ]
    },
    {
     "name": "stdout",
     "output_type": "stream",
     "text": [
<<<<<<< HEAD
      "chanelofficial\\2023-12-17_18-03-51_UTC.jpg [Find your dream gift.  COCO C…] chanelofficial\\2023-12-17_18-03-51_UTC.mp4 json \n"
=======
      "jacquemus\\2023-08-08_15-50-18_UTC.jpg [FROM PROVENCE with LOVE Someo…] jacquemus\\2023-08-08_15-50-18_UTC.mp4 json \n"
>>>>>>> ebf267c4643fa440d8689e15803aa30a89ff8b91
     ]
    },
    {
     "name": "stderr",
     "output_type": "stream",
     "text": [
<<<<<<< HEAD
      "Downloading posts:  23%|██████████████▎                                               | 46/200 [05:03<16:33,  6.45s/it]"
=======
      "Downloading posts:   9%|█████▌                                                      | 46/500 [06:46<1:18:08, 10.33s/it]"
>>>>>>> ebf267c4643fa440d8689e15803aa30a89ff8b91
     ]
    },
    {
     "name": "stdout",
     "output_type": "stream",
     "text": [
<<<<<<< HEAD
      "chanelofficial\\2023-12-17_14-04-17_UTC_1.jpg chanelofficial\\2023-12-17_14-04-17_UTC_2.jpg [Give Wonder, Give CHANEL.  Th…] json \n"
=======
      "jacquemus\\2023-08-07_17-14-58_UTC_1.jpg jacquemus\\2023-08-07_17-14-58_UTC_1.mp4 jacquemus\\2023-08-07_17-14-58_UTC_2.jpg jacquemus\\2023-08-07_17-14-58_UTC_2.mp4 jacquemus\\2023-08-07_17-14-58_UTC_3.jpg jacquemus\\2023-08-07_17-14-58_UTC_3.mp4 jacquemus\\2023-08-07_17-14-58_UTC_4.jpg jacquemus\\2023-08-07_17-14-58_UTC_4.mp4 jacquemus\\2023-08-07_17-14-58_UTC_5.jpg jacquemus\\2023-08-07_17-14-58_UTC_5.mp4 jacquemus\\2023-08-07_17-14-58_UTC_6.jpg jacquemus\\2023-08-07_17-14-58_UTC_6.mp4 jacquemus\\2023-08-07_17-14-58_UTC_7.jpg jacquemus\\2023-08-07_17-14-58_UTC_7.mp4 jacquemus\\2023-08-07_17-14-58_UTC_8.jpg jacquemus\\2023-08-07_17-14-58_UTC_8.mp4 jacquemus\\2023-08-07_17-14-58_UTC_9.jpg jacquemus\\2023-08-07_17-14-58_UTC_9.mp4 jacquemus\\2023-08-07_17-14-58_UTC_10.jpg jacquemus\\2023-08-07_17-14-58_UTC_10.mp4 [\"LES VACANCES DANS LES TERRES…] json \n"
>>>>>>> ebf267c4643fa440d8689e15803aa30a89ff8b91
     ]
    },
    {
     "name": "stderr",
     "output_type": "stream",
     "text": [
<<<<<<< HEAD
      "Downloading posts:  24%|██████████████▌                                               | 47/200 [05:09<16:12,  6.36s/it]"
=======
      "Downloading posts:   9%|█████▋                                                      | 47/500 [07:05<1:37:58, 12.98s/it]"
>>>>>>> ebf267c4643fa440d8689e15803aa30a89ff8b91
     ]
    },
    {
     "name": "stdout",
     "output_type": "stream",
     "text": [
<<<<<<< HEAD
      "chanelofficial\\2023-12-17_10-01-11_UTC_1.jpg chanelofficial\\2023-12-17_10-01-11_UTC_2.jpg [Find your dream gift.  This h…] json \n"
=======
      "jacquemus\\2023-08-04_18-14-29_UTC_1.jpg jacquemus\\2023-08-04_18-14-29_UTC_2.jpg jacquemus\\2023-08-04_18-14-29_UTC_3.jpg jacquemus\\2023-08-04_18-14-29_UTC_3.mp4 jacquemus\\2023-08-04_18-14-29_UTC_4.jpg jacquemus\\2023-08-04_18-14-29_UTC_5.jpg jacquemus\\2023-08-04_18-14-29_UTC_6.jpg jacquemus\\2023-08-04_18-14-29_UTC_6.mp4 jacquemus\\2023-08-04_18-14-29_UTC_7.jpg jacquemus\\2023-08-04_18-14-29_UTC_8.jpg jacquemus\\2023-08-04_18-14-29_UTC_9.jpg jacquemus\\2023-08-04_18-14-29_UTC_10.jpg [IBIZA 🍒] json \n"
>>>>>>> ebf267c4643fa440d8689e15803aa30a89ff8b91
     ]
    },
    {
     "name": "stderr",
     "output_type": "stream",
     "text": [
<<<<<<< HEAD
      "Downloading posts:  24%|██████████████▉                                               | 48/200 [05:15<15:53,  6.27s/it]"
=======
      "Downloading posts:  10%|█████▊                                                      | 48/500 [08:34<4:30:34, 35.92s/it]"
>>>>>>> ebf267c4643fa440d8689e15803aa30a89ff8b91
     ]
    },
    {
     "name": "stdout",
     "output_type": "stream",
     "text": [
<<<<<<< HEAD
      "chanelofficial\\2023-12-16_17-58-38_UTC_1.jpg chanelofficial\\2023-12-16_17-58-38_UTC_2.jpg [Find your dream gift.  This h…] json \n"
=======
      "jacquemus\\2023-08-01_15-59-36_UTC.jpg [OUR ICE CREAM TRUCK IS NOW OP…] jacquemus\\2023-08-01_15-59-36_UTC.mp4 json \n"
>>>>>>> ebf267c4643fa440d8689e15803aa30a89ff8b91
     ]
    },
    {
     "name": "stderr",
     "output_type": "stream",
     "text": [
<<<<<<< HEAD
      "Downloading posts:  24%|███████████████▏                                              | 49/200 [05:21<15:30,  6.16s/it]"
=======
      "Downloading posts:  10%|█████▉                                                      | 49/500 [08:39<3:20:51, 26.72s/it]"
>>>>>>> ebf267c4643fa440d8689e15803aa30a89ff8b91
     ]
    },
    {
     "name": "stdout",
     "output_type": "stream",
     "text": [
<<<<<<< HEAD
      "chanelofficial\\2023-12-16_13-59-24_UTC.jpg [Give Wonder, Give CHANEL.  Th…] json \n"
=======
      "jacquemus\\2023-07-31_16-07-20_UTC_1.jpg jacquemus\\2023-07-31_16-07-20_UTC_1.mp4 jacquemus\\2023-07-31_16-07-20_UTC_2.jpg jacquemus\\2023-07-31_16-07-20_UTC_2.mp4 jacquemus\\2023-07-31_16-07-20_UTC_3.jpg jacquemus\\2023-07-31_16-07-20_UTC_3.mp4 jacquemus\\2023-07-31_16-07-20_UTC_4.jpg jacquemus\\2023-07-31_16-07-20_UTC_4.mp4 jacquemus\\2023-07-31_16-07-20_UTC_5.jpg jacquemus\\2023-07-31_16-07-20_UTC_5.mp4 jacquemus\\2023-07-31_16-07-20_UTC_6.jpg jacquemus\\2023-07-31_16-07-20_UTC_6.mp4 jacquemus\\2023-07-31_16-07-20_UTC_7.jpg jacquemus\\2023-07-31_16-07-20_UTC_7.mp4 jacquemus\\2023-07-31_16-07-20_UTC_8.jpg jacquemus\\2023-07-31_16-07-20_UTC_8.mp4 jacquemus\\2023-07-31_16-07-20_UTC_9.jpg jacquemus\\2023-07-31_16-07-20_UTC_9.mp4 jacquemus\\2023-07-31_16-07-20_UTC_10.jpg jacquemus\\2023-07-31_16-07-20_UTC_10.mp4 [\"LES VACANCES À MARSEILLE\" SU…] json \n"
>>>>>>> ebf267c4643fa440d8689e15803aa30a89ff8b91
     ]
    },
    {
     "name": "stderr",
     "output_type": "stream",
     "text": [
<<<<<<< HEAD
      "Downloading posts:  25%|███████████████▌                                              | 50/200 [05:27<14:54,  5.96s/it]"
=======
      "Downloading posts:  10%|██████                                                      | 50/500 [09:07<3:22:59, 27.07s/it]"
>>>>>>> ebf267c4643fa440d8689e15803aa30a89ff8b91
     ]
    },
    {
     "name": "stdout",
     "output_type": "stream",
     "text": [
<<<<<<< HEAD
      "chanelofficial\\2023-12-16_09-59-04_UTC.jpg [Find your dream gift.  COCO C…] chanelofficial\\2023-12-16_09-59-04_UTC.mp4 json \n"
=======
      "jacquemus\\2023-07-28_19-06-49_UTC.jpg [IBIZA MOOD] json \n"
>>>>>>> ebf267c4643fa440d8689e15803aa30a89ff8b91
     ]
    },
    {
     "name": "stderr",
     "output_type": "stream",
     "text": [
<<<<<<< HEAD
      "Downloading posts:  26%|███████████████▊                                              | 51/200 [05:34<15:38,  6.30s/it]"
=======
      "Downloading posts:  10%|██████                                                      | 51/500 [09:10<2:27:31, 19.71s/it]"
>>>>>>> ebf267c4643fa440d8689e15803aa30a89ff8b91
     ]
    },
    {
     "name": "stdout",
     "output_type": "stream",
     "text": [
<<<<<<< HEAD
      "chanelofficial\\2023-12-14_15-24-40_UTC.jpg [Give wonder, give CHANEL. Thi…] json \n"
=======
      "jacquemus\\2023-07-25_15-45-18_UTC.jpg [WELCOME TO ST TROPEZ @indiebe…] jacquemus\\2023-07-25_15-45-18_UTC.mp4 json \n"
>>>>>>> ebf267c4643fa440d8689e15803aa30a89ff8b91
     ]
    },
    {
     "name": "stderr",
     "output_type": "stream",
     "text": [
<<<<<<< HEAD
      "Downloading posts:  26%|████████████████                                              | 52/200 [05:39<14:54,  6.05s/it]"
=======
      "Downloading posts:  10%|██████▏                                                     | 52/500 [09:15<1:55:12, 15.43s/it]"
>>>>>>> ebf267c4643fa440d8689e15803aa30a89ff8b91
     ]
    },
    {
     "name": "stdout",
     "output_type": "stream",
     "text": [
<<<<<<< HEAD
      "chanelofficial\\2023-12-13_16-52-08_UTC.jpg [Give wonder, give CHANEL. Thi…] json \n"
=======
      "jacquemus\\2023-07-24_15-50-55_UTC_1.jpg jacquemus\\2023-07-24_15-50-55_UTC_1.mp4 jacquemus\\2023-07-24_15-50-55_UTC_2.jpg jacquemus\\2023-07-24_15-50-55_UTC_2.mp4 jacquemus\\2023-07-24_15-50-55_UTC_3.jpg jacquemus\\2023-07-24_15-50-55_UTC_3.mp4 jacquemus\\2023-07-24_15-50-55_UTC_4.jpg jacquemus\\2023-07-24_15-50-55_UTC_4.mp4 jacquemus\\2023-07-24_15-50-55_UTC_5.jpg jacquemus\\2023-07-24_15-50-55_UTC_5.mp4 jacquemus\\2023-07-24_15-50-55_UTC_6.jpg jacquemus\\2023-07-24_15-50-55_UTC_6.mp4 jacquemus\\2023-07-24_15-50-55_UTC_7.jpg jacquemus\\2023-07-24_15-50-55_UTC_7.mp4 jacquemus\\2023-07-24_15-50-55_UTC_8.jpg jacquemus\\2023-07-24_15-50-55_UTC_8.mp4 jacquemus\\2023-07-24_15-50-55_UTC_9.jpg jacquemus\\2023-07-24_15-50-55_UTC_9.mp4 jacquemus\\2023-07-24_15-50-55_UTC_10.jpg jacquemus\\2023-07-24_15-50-55_UTC_10.mp4 [« LES VACANCES À NICE » SUMME…] json \n"
>>>>>>> ebf267c4643fa440d8689e15803aa30a89ff8b91
     ]
    },
    {
     "name": "stderr",
     "output_type": "stream",
     "text": [
<<<<<<< HEAD
      "Downloading posts:  26%|████████████████▍                                             | 53/200 [05:45<14:28,  5.91s/it]"
=======
      "Downloading posts:  11%|██████▎                                                     | 53/500 [09:40<2:16:22, 18.31s/it]"
>>>>>>> ebf267c4643fa440d8689e15803aa30a89ff8b91
     ]
    },
    {
     "name": "stdout",
     "output_type": "stream",
     "text": [
<<<<<<< HEAD
      "chanelofficial\\2023-12-12_15-31-38_UTC.jpg [Give wonder, give CHANEL. Thi…] chanelofficial\\2023-12-12_15-31-38_UTC.mp4 json \n"
=======
      "jacquemus\\2023-07-20_17-19-36_UTC_1.jpg jacquemus\\2023-07-20_17-19-36_UTC_2.jpg jacquemus\\2023-07-20_17-19-36_UTC_2.mp4 jacquemus\\2023-07-20_17-19-36_UTC_3.jpg jacquemus\\2023-07-20_17-19-36_UTC_4.jpg jacquemus\\2023-07-20_17-19-36_UTC_4.mp4 jacquemus\\2023-07-20_17-19-36_UTC_5.jpg jacquemus\\2023-07-20_17-19-36_UTC_6.jpg jacquemus\\2023-07-20_17-19-36_UTC_7.jpg jacquemus\\2023-07-20_17-19-36_UTC_8.jpg jacquemus\\2023-07-20_17-19-36_UTC_9.jpg jacquemus\\2023-07-20_17-19-36_UTC_9.mp4 jacquemus\\2023-07-20_17-19-36_UTC_10.jpg [ROUGE  NAPOLI / ROMA Dove pos…] json \n"
>>>>>>> ebf267c4643fa440d8689e15803aa30a89ff8b91
     ]
    },
    {
     "name": "stderr",
     "output_type": "stream",
     "text": [
<<<<<<< HEAD
      "Downloading posts:  27%|████████████████▋                                             | 54/200 [05:53<15:38,  6.43s/it]"
=======
      "Downloading posts:  11%|██████▍                                                     | 54/500 [09:51<1:59:15, 16.04s/it]"
>>>>>>> ebf267c4643fa440d8689e15803aa30a89ff8b91
     ]
    },
    {
     "name": "stdout",
     "output_type": "stream",
     "text": [
<<<<<<< HEAD
      "chanelofficial\\2023-12-10_19-32-41_UTC.jpg [𝘔𝘢𝘯𝘤𝘩𝘦𝘴𝘵𝘦𝘳𝘮𝘰𝘥𝘦𝘳𝘯: 𝘱𝘢𝘴𝘵 𝘱𝘳𝘦𝘴𝘦𝘯…] chanelofficial\\2023-12-10_19-32-41_UTC.mp4 json \n"
=======
      "jacquemus\\2023-07-19_15-24-21_UTC.jpg [When life gives you lemon… 🫠] jacquemus\\2023-07-19_15-24-21_UTC.mp4 json \n"
>>>>>>> ebf267c4643fa440d8689e15803aa30a89ff8b91
     ]
    },
    {
     "name": "stderr",
     "output_type": "stream",
     "text": [
<<<<<<< HEAD
      "Downloading posts:  28%|█████████████████                                             | 55/200 [06:02<17:34,  7.28s/it]"
=======
      "Downloading posts:  11%|██████▌                                                     | 55/500 [09:59<1:41:58, 13.75s/it]"
>>>>>>> ebf267c4643fa440d8689e15803aa30a89ff8b91
     ]
    },
    {
     "name": "stdout",
     "output_type": "stream",
     "text": [
<<<<<<< HEAD
      "chanelofficial\\2023-12-10_18-29-58_UTC.jpg [Closing the CHANEL 2023/24 Mé…] chanelofficial\\2023-12-10_18-29-58_UTC.mp4 json \n"
=======
      "jacquemus\\2023-07-18_15-35-13_UTC_1.jpg jacquemus\\2023-07-18_15-35-13_UTC_2.jpg jacquemus\\2023-07-18_15-35-13_UTC_3.jpg jacquemus\\2023-07-18_15-35-13_UTC_4.jpg jacquemus\\2023-07-18_15-35-13_UTC_4.mp4 jacquemus\\2023-07-18_15-35-13_UTC_5.jpg jacquemus\\2023-07-18_15-35-13_UTC_5.mp4 jacquemus\\2023-07-18_15-35-13_UTC_6.jpg jacquemus\\2023-07-18_15-35-13_UTC_7.jpg jacquemus\\2023-07-18_15-35-13_UTC_8.jpg jacquemus\\2023-07-18_15-35-13_UTC_8.mp4 jacquemus\\2023-07-18_15-35-13_UTC_9.jpg jacquemus\\2023-07-18_15-35-13_UTC_9.mp4 jacquemus\\2023-07-18_15-35-13_UTC_10.jpg [48 HOURS in CAPRI] json \n"
>>>>>>> ebf267c4643fa440d8689e15803aa30a89ff8b91
     ]
    },
    {
     "name": "stderr",
     "output_type": "stream",
     "text": [
<<<<<<< HEAD
      "Downloading posts:  28%|█████████████████▎                                            | 56/200 [06:10<18:26,  7.68s/it]"
=======
      "Downloading posts:  11%|██████▋                                                     | 56/500 [10:13<1:41:03, 13.66s/it]"
>>>>>>> ebf267c4643fa440d8689e15803aa30a89ff8b91
     ]
    },
    {
     "name": "stdout",
     "output_type": "stream",
     "text": [
<<<<<<< HEAD
      "chanelofficial\\2023-12-10_17-30-04_UTC.jpg [The creative energy of the no…] chanelofficial\\2023-12-10_17-30-04_UTC.mp4 json \n"
=======
      "jacquemus\\2023-07-17_18-28-18_UTC_1.jpg jacquemus\\2023-07-17_18-28-18_UTC_2.jpg jacquemus\\2023-07-17_18-28-18_UTC_3.jpg jacquemus\\2023-07-17_18-28-18_UTC_4.jpg jacquemus\\2023-07-17_18-28-18_UTC_5.jpg jacquemus\\2023-07-17_18-28-18_UTC_6.jpg jacquemus\\2023-07-17_18-28-18_UTC_7.jpg jacquemus\\2023-07-17_18-28-18_UTC_8.jpg jacquemus\\2023-07-17_18-28-18_UTC_9.jpg [“LE CHOUCHOU” What’s your moo…] json \n"
>>>>>>> ebf267c4643fa440d8689e15803aa30a89ff8b91
     ]
    },
    {
     "name": "stderr",
     "output_type": "stream",
     "text": [
<<<<<<< HEAD
      "Downloading posts:  28%|█████████████████▋                                            | 57/200 [06:20<19:34,  8.22s/it]"
=======
      "Downloading posts:  11%|██████▊                                                     | 57/500 [10:22<1:31:23, 12.38s/it]"
>>>>>>> ebf267c4643fa440d8689e15803aa30a89ff8b91
     ]
    },
    {
     "name": "stdout",
     "output_type": "stream",
     "text": [
<<<<<<< HEAD
      "chanelofficial\\2023-12-10_16-33-51_UTC.jpg [The party – ambassadors and f…] chanelofficial\\2023-12-10_16-33-51_UTC.mp4 json \n"
=======
      "jacquemus\\2023-07-16_12-04-52_UTC_1.jpg jacquemus\\2023-07-16_12-04-52_UTC_2.jpg jacquemus\\2023-07-16_12-04-52_UTC_3.jpg jacquemus\\2023-07-16_12-04-52_UTC_4.jpg jacquemus\\2023-07-16_12-04-52_UTC_5.jpg jacquemus\\2023-07-16_12-04-52_UTC_6.jpg jacquemus\\2023-07-16_12-04-52_UTC_7.jpg [JANE BIRKIN  1946/2023  No wo…] json \n"
>>>>>>> ebf267c4643fa440d8689e15803aa30a89ff8b91
     ]
    },
    {
     "name": "stderr",
     "output_type": "stream",
     "text": [
<<<<<<< HEAD
      "Downloading posts:  29%|█████████████████▉                                            | 58/200 [06:30<20:53,  8.82s/it]"
=======
      "Downloading posts:  12%|██████▉                                                     | 58/500 [10:30<1:21:43, 11.09s/it]"
>>>>>>> ebf267c4643fa440d8689e15803aa30a89ff8b91
     ]
    },
    {
     "name": "stdout",
     "output_type": "stream",
     "text": [
<<<<<<< HEAD
      "chanelofficial\\2023-12-10_13-00-00_UTC.jpg [“For me, Manchester is the ci…] chanelofficial\\2023-12-10_13-00-00_UTC.mp4 json \n"
=======
      "jacquemus\\2023-07-12_15-34-11_UTC_1.jpg jacquemus\\2023-07-12_15-34-11_UTC_2.jpg jacquemus\\2023-07-12_15-34-11_UTC_3.jpg jacquemus\\2023-07-12_15-34-11_UTC_4.jpg jacquemus\\2023-07-12_15-34-11_UTC_5.jpg jacquemus\\2023-07-12_15-34-11_UTC_6.jpg jacquemus\\2023-07-12_15-34-11_UTC_7.jpg jacquemus\\2023-07-12_15-34-11_UTC_8.jpg jacquemus\\2023-07-12_15-34-11_UTC_9.jpg jacquemus\\2023-07-12_15-34-11_UTC_10.jpg [« LE CHOUCHOU » Détails and l…] json \n"
>>>>>>> ebf267c4643fa440d8689e15803aa30a89ff8b91
     ]
    },
    {
     "name": "stderr",
     "output_type": "stream",
     "text": [
<<<<<<< HEAD
      "Downloading posts:  30%|██████████████████▎                                           | 59/200 [06:38<20:21,  8.66s/it]"
=======
      "Downloading posts:  12%|███████                                                     | 59/500 [10:43<1:25:59, 11.70s/it]"
>>>>>>> ebf267c4643fa440d8689e15803aa30a89ff8b91
     ]
    },
    {
     "name": "stdout",
     "output_type": "stream",
     "text": [
<<<<<<< HEAD
      "chanelofficial\\2023-12-10_11-30-00_UTC.jpg [Strung with jade green pearls…] chanelofficial\\2023-12-10_11-30-00_UTC.mp4 json \n"
=======
      "jacquemus\\2023-07-11_16-21-11_UTC_1.jpg jacquemus\\2023-07-11_16-21-11_UTC_2.jpg jacquemus\\2023-07-11_16-21-11_UTC_3.jpg jacquemus\\2023-07-11_16-21-11_UTC_4.jpg jacquemus\\2023-07-11_16-21-11_UTC_5.jpg jacquemus\\2023-07-11_16-21-11_UTC_6.jpg jacquemus\\2023-07-11_16-21-11_UTC_7.jpg jacquemus\\2023-07-11_16-21-11_UTC_8.jpg jacquemus\\2023-07-11_16-21-11_UTC_9.jpg jacquemus\\2023-07-11_16-21-11_UTC_10.jpg [me me and me office  new book…] json \n"
>>>>>>> ebf267c4643fa440d8689e15803aa30a89ff8b91
     ]
    },
    {
     "name": "stderr",
     "output_type": "stream",
     "text": [
<<<<<<< HEAD
      "Downloading posts:  30%|██████████████████▌                                           | 60/200 [06:46<19:17,  8.27s/it]"
=======
      "Downloading posts:  12%|███████▏                                                    | 60/500 [10:54<1:24:04, 11.47s/it]"
>>>>>>> ebf267c4643fa440d8689e15803aa30a89ff8b91
     ]
    },
    {
     "name": "stdout",
     "output_type": "stream",
     "text": [
<<<<<<< HEAD
      "chanelofficial\\2023-12-10_10-00-34_UTC.jpg [Swapping short skirts for cit…] json \n"
=======
      "jacquemus\\2023-07-05_15-31-33_UTC.jpg [« THIS MADAME IS VERSAILLES »…] jacquemus\\2023-07-05_15-31-33_UTC.mp4 json \n"
>>>>>>> ebf267c4643fa440d8689e15803aa30a89ff8b91
     ]
    },
    {
     "name": "stderr",
     "output_type": "stream",
     "text": [
<<<<<<< HEAD
      "Downloading posts:  30%|██████████████████▉                                           | 61/200 [06:51<17:24,  7.51s/it]"
=======
      "Downloading posts:  12%|███████▎                                                    | 61/500 [11:03<1:17:41, 10.62s/it]"
>>>>>>> ebf267c4643fa440d8689e15803aa30a89ff8b91
     ]
    },
    {
     "name": "stdout",
     "output_type": "stream",
     "text": [
<<<<<<< HEAD
      "chanelofficial\\2023-12-10_09-00-00_UTC.jpg [Transforming denim with a fem…] chanelofficial\\2023-12-10_09-00-00_UTC.mp4 json \n"
=======
      "jacquemus\\2023-07-03_15-08-39_UTC_1.jpg jacquemus\\2023-07-03_15-08-39_UTC_2.jpg jacquemus\\2023-07-03_15-08-39_UTC_3.jpg jacquemus\\2023-07-03_15-08-39_UTC_4.jpg jacquemus\\2023-07-03_15-08-39_UTC_5.jpg jacquemus\\2023-07-03_15-08-39_UTC_6.jpg jacquemus\\2023-07-03_15-08-39_UTC_7.jpg jacquemus\\2023-07-03_15-08-39_UTC_8.jpg jacquemus\\2023-07-03_15-08-39_UTC_9.jpg jacquemus\\2023-07-03_15-08-39_UTC_10.jpg [« LE CHOUCHOU »  What’s your …] json \n"
>>>>>>> ebf267c4643fa440d8689e15803aa30a89ff8b91
     ]
    },
    {
     "name": "stderr",
     "output_type": "stream",
     "text": [
<<<<<<< HEAD
      "Downloading posts:  31%|███████████████████▏                                          | 62/200 [06:59<17:09,  7.46s/it]"
=======
      "Downloading posts:  12%|███████▍                                                    | 62/500 [11:15<1:20:22, 11.01s/it]"
>>>>>>> ebf267c4643fa440d8689e15803aa30a89ff8b91
     ]
    },
    {
     "name": "stdout",
     "output_type": "stream",
     "text": [
<<<<<<< HEAD
      "chanelofficial\\2023-12-10_07-00-11_UTC.jpg [The show part II – ambassador…] chanelofficial\\2023-12-10_07-00-11_UTC.mp4 json \n"
=======
      "jacquemus\\2023-06-29_09-20-54_UTC_1.jpg jacquemus\\2023-06-29_09-20-54_UTC_1.mp4 jacquemus\\2023-06-29_09-20-54_UTC_2.jpg jacquemus\\2023-06-29_09-20-54_UTC_2.mp4 jacquemus\\2023-06-29_09-20-54_UTC_3.jpg jacquemus\\2023-06-29_09-20-54_UTC_3.mp4 jacquemus\\2023-06-29_09-20-54_UTC_4.jpg jacquemus\\2023-06-29_09-20-54_UTC_4.mp4 jacquemus\\2023-06-29_09-20-54_UTC_5.jpg jacquemus\\2023-06-29_09-20-54_UTC_5.mp4 jacquemus\\2023-06-29_09-20-54_UTC_6.jpg jacquemus\\2023-06-29_09-20-54_UTC_6.mp4 jacquemus\\2023-06-29_09-20-54_UTC_7.jpg jacquemus\\2023-06-29_09-20-54_UTC_7.mp4 jacquemus\\2023-06-29_09-20-54_UTC_8.jpg jacquemus\\2023-06-29_09-20-54_UTC_8.mp4 jacquemus\\2023-06-29_09-20-54_UTC_9.jpg jacquemus\\2023-06-29_09-20-54_UTC_9.mp4 jacquemus\\2023-06-29_09-20-54_UTC_10.jpg jacquemus\\2023-06-29_09-20-54_UTC_10.mp4 [«LE CHOUCHOU » The mood of th…] json \n"
>>>>>>> ebf267c4643fa440d8689e15803aa30a89ff8b91
     ]
    },
    {
     "name": "stderr",
     "output_type": "stream",
     "text": [
<<<<<<< HEAD
      "Downloading posts:  32%|███████████████████▌                                          | 63/200 [07:18<25:20, 11.10s/it]"
=======
      "Downloading posts:  13%|███████▌                                                    | 63/500 [11:43<1:56:50, 16.04s/it]"
>>>>>>> ebf267c4643fa440d8689e15803aa30a89ff8b91
     ]
    },
    {
     "name": "stdout",
     "output_type": "stream",
     "text": [
<<<<<<< HEAD
      "chanelofficial\\2023-12-09_18-00-04_UTC.jpg [The show part I – ambassadors…] chanelofficial\\2023-12-09_18-00-04_UTC.mp4 json \n"
=======
      "jacquemus\\2023-06-28_18-44-02_UTC_1.jpg jacquemus\\2023-06-28_18-44-02_UTC_2.jpg jacquemus\\2023-06-28_18-44-02_UTC_3.jpg jacquemus\\2023-06-28_18-44-02_UTC_4.jpg jacquemus\\2023-06-28_18-44-02_UTC_5.jpg jacquemus\\2023-06-28_18-44-02_UTC_6.jpg jacquemus\\2023-06-28_18-44-02_UTC_7.jpg jacquemus\\2023-06-28_18-44-02_UTC_8.jpg jacquemus\\2023-06-28_18-44-02_UTC_9.jpg jacquemus\\2023-06-28_18-44-02_UTC_10.jpg [« LE CHOUCHOU » Backstage!] json \n"
>>>>>>> ebf267c4643fa440d8689e15803aa30a89ff8b91
     ]
    },
    {
     "name": "stderr",
     "output_type": "stream",
     "text": [
<<<<<<< HEAD
      "Downloading posts:  32%|███████████████████▊                                          | 64/200 [07:28<24:26, 10.78s/it]"
=======
      "Downloading posts:  13%|███████▋                                                    | 64/500 [11:56<1:50:44, 15.24s/it]"
>>>>>>> ebf267c4643fa440d8689e15803aa30a89ff8b91
     ]
    },
    {
     "name": "stdout",
     "output_type": "stream",
     "text": [
<<<<<<< HEAD
      "chanelofficial\\2023-12-09_17-00-05_UTC.jpg [Reflecting the colours of the…] chanelofficial\\2023-12-09_17-00-05_UTC.mp4 json \n"
=======
      "jacquemus\\2023-06-28_12-38-51_UTC_1.jpg jacquemus\\2023-06-28_12-38-51_UTC_1.mp4 jacquemus\\2023-06-28_12-38-51_UTC_2.jpg jacquemus\\2023-06-28_12-38-51_UTC_2.mp4 jacquemus\\2023-06-28_12-38-51_UTC_3.jpg jacquemus\\2023-06-28_12-38-51_UTC_3.mp4 jacquemus\\2023-06-28_12-38-51_UTC_4.jpg jacquemus\\2023-06-28_12-38-51_UTC_4.mp4 jacquemus\\2023-06-28_12-38-51_UTC_5.jpg jacquemus\\2023-06-28_12-38-51_UTC_5.mp4 jacquemus\\2023-06-28_12-38-51_UTC_6.jpg jacquemus\\2023-06-28_12-38-51_UTC_6.mp4 jacquemus\\2023-06-28_12-38-51_UTC_7.jpg jacquemus\\2023-06-28_12-38-51_UTC_7.mp4 jacquemus\\2023-06-28_12-38-51_UTC_8.jpg jacquemus\\2023-06-28_12-38-51_UTC_8.mp4 jacquemus\\2023-06-28_12-38-51_UTC_9.jpg jacquemus\\2023-06-28_12-38-51_UTC_9.mp4 jacquemus\\2023-06-28_12-38-51_UTC_10.jpg jacquemus\\2023-06-28_12-38-51_UTC_10.mp4 [« LE CHOUCHOU » Accessories a…] json \n"
>>>>>>> ebf267c4643fa440d8689e15803aa30a89ff8b91
     ]
    },
    {
     "name": "stderr",
     "output_type": "stream",
     "text": [
<<<<<<< HEAD
      "Downloading posts:  32%|████████████████████▏                                         | 65/200 [07:36<22:21,  9.94s/it]"
=======
      "Downloading posts:  13%|███████▊                                                    | 65/500 [12:21<2:11:57, 18.20s/it]"
>>>>>>> ebf267c4643fa440d8689e15803aa30a89ff8b91
     ]
    },
    {
     "name": "stdout",
     "output_type": "stream",
     "text": [
<<<<<<< HEAD
      "chanelofficial\\2023-12-09_15-00-00_UTC.jpg [In soft shades of delicate gr…] chanelofficial\\2023-12-09_15-00-00_UTC.mp4 json \n"
=======
      "jacquemus\\2023-06-28_10-22-50_UTC.jpg [“LE CHOUCHOU”   SUCH A SPECIA…] jacquemus\\2023-06-28_10-22-50_UTC.mp4 json \n"
>>>>>>> ebf267c4643fa440d8689e15803aa30a89ff8b91
     ]
    },
    {
     "name": "stderr",
     "output_type": "stream",
     "text": [
<<<<<<< HEAD
      "Downloading posts:  33%|████████████████████▍                                         | 66/200 [07:45<21:30,  9.63s/it]"
=======
      "Downloading posts:  13%|███████▉                                                    | 66/500 [12:44<2:21:39, 19.58s/it]"
>>>>>>> ebf267c4643fa440d8689e15803aa30a89ff8b91
     ]
    },
    {
     "name": "stdout",
     "output_type": "stream",
     "text": [
<<<<<<< HEAD
      "chanelofficial\\2023-12-09_13-00-29_UTC.jpg [Envisaging new characters wit…] json \n"
=======
      "jacquemus\\2023-06-27_19-36-48_UTC.jpg [EMILY IN VERSAILLES @emrata] jacquemus\\2023-06-27_19-36-48_UTC.mp4 json \n"
>>>>>>> ebf267c4643fa440d8689e15803aa30a89ff8b91
     ]
    },
    {
     "name": "stderr",
     "output_type": "stream",
     "text": [
<<<<<<< HEAD
      "Downloading posts:  34%|████████████████████▊                                         | 67/200 [07:51<18:44,  8.46s/it]"
=======
      "Downloading posts:  13%|████████                                                    | 67/500 [12:49<1:48:44, 15.07s/it]"
>>>>>>> ebf267c4643fa440d8689e15803aa30a89ff8b91
     ]
    },
    {
     "name": "stdout",
     "output_type": "stream",
     "text": [
<<<<<<< HEAD
      "chanelofficial\\2023-12-09_11-00-00_UTC.jpg [Inspired by Gabrielle Chanel’…] chanelofficial\\2023-12-09_11-00-00_UTC.mp4 json \n"
=======
      "jacquemus\\2023-06-27_15-57-55_UTC_1.jpg jacquemus\\2023-06-27_15-57-55_UTC_1.mp4 jacquemus\\2023-06-27_15-57-55_UTC_2.jpg jacquemus\\2023-06-27_15-57-55_UTC_3.jpg jacquemus\\2023-06-27_15-57-55_UTC_4.jpg jacquemus\\2023-06-27_15-57-55_UTC_5.jpg jacquemus\\2023-06-27_15-57-55_UTC_6.jpg jacquemus\\2023-06-27_15-57-55_UTC_6.mp4 jacquemus\\2023-06-27_15-57-55_UTC_7.jpg jacquemus\\2023-06-27_15-57-55_UTC_8.jpg jacquemus\\2023-06-27_15-57-55_UTC_8.mp4 jacquemus\\2023-06-27_15-57-55_UTC_9.jpg [“LE CHOUCHOU” No word can des…] json \n"
>>>>>>> ebf267c4643fa440d8689e15803aa30a89ff8b91
     ]
    },
    {
     "name": "stderr",
     "output_type": "stream",
     "text": [
<<<<<<< HEAD
      "Downloading posts:  34%|█████████████████████                                         | 68/200 [07:59<18:29,  8.40s/it]"
=======
      "Downloading posts:  14%|████████▏                                                   | 68/500 [13:04<1:48:19, 15.05s/it]"
>>>>>>> ebf267c4643fa440d8689e15803aa30a89ff8b91
     ]
    },
    {
     "name": "stdout",
     "output_type": "stream",
     "text": [
<<<<<<< HEAD
      "chanelofficial\\2023-12-09_09-00-33_UTC.jpg [Thinking of the CHANEL tweed …] json \n"
=======
      "jacquemus\\2023-06-27_10-18-45_UTC_1.jpg jacquemus\\2023-06-27_10-18-45_UTC_2.jpg jacquemus\\2023-06-27_10-18-45_UTC_3.jpg jacquemus\\2023-06-27_10-18-45_UTC_4.jpg jacquemus\\2023-06-27_10-18-45_UTC_5.jpg jacquemus\\2023-06-27_10-18-45_UTC_6.jpg jacquemus\\2023-06-27_10-18-45_UTC_7.jpg jacquemus\\2023-06-27_10-18-45_UTC_8.jpg jacquemus\\2023-06-27_10-18-45_UTC_9.jpg jacquemus\\2023-06-27_10-18-45_UTC_10.jpg [“LE CHOUCHOU”  Jacquemus.com ❤️] json \n"
>>>>>>> ebf267c4643fa440d8689e15803aa30a89ff8b91
     ]
    },
    {
     "name": "stderr",
     "output_type": "stream",
     "text": [
<<<<<<< HEAD
      "Downloading posts:  34%|█████████████████████▍                                        | 69/200 [08:05<16:28,  7.55s/it]"
=======
      "Downloading posts:  14%|████████▎                                                   | 69/500 [13:16<1:42:36, 14.28s/it]"
>>>>>>> ebf267c4643fa440d8689e15803aa30a89ff8b91
     ]
    },
    {
     "name": "stdout",
     "output_type": "stream",
     "text": [
<<<<<<< HEAD
      "chanelofficial\\2023-12-08_21-59-55_UTC.jpg [Bold and boxy, a black and wh…] chanelofficial\\2023-12-08_21-59-55_UTC.mp4 json \n"
=======
      "jacquemus\\2023-06-26_19-27-16_UTC_1.jpg jacquemus\\2023-06-26_19-27-16_UTC_2.jpg jacquemus\\2023-06-26_19-27-16_UTC_3.jpg jacquemus\\2023-06-26_19-27-16_UTC_4.jpg jacquemus\\2023-06-26_19-27-16_UTC_5.jpg jacquemus\\2023-06-26_19-27-16_UTC_6.jpg jacquemus\\2023-06-26_19-27-16_UTC_7.jpg jacquemus\\2023-06-26_19-27-16_UTC_8.jpg jacquemus\\2023-06-26_19-27-16_UTC_9.jpg [“LE CHOUCHOU” Jacquemus.com] json \n"
>>>>>>> ebf267c4643fa440d8689e15803aa30a89ff8b91
     ]
    },
    {
     "name": "stderr",
     "output_type": "stream",
     "text": [
<<<<<<< HEAD
      "Downloading posts:  35%|█████████████████████▋                                        | 70/200 [08:13<16:41,  7.70s/it]"
=======
      "Downloading posts:  14%|████████▍                                                   | 70/500 [13:25<1:31:21, 12.75s/it]"
>>>>>>> ebf267c4643fa440d8689e15803aa30a89ff8b91
     ]
    },
    {
     "name": "stdout",
     "output_type": "stream",
     "text": [
<<<<<<< HEAD
      "chanelofficial\\2023-12-08_21-02-37_UTC.jpg [Poetic and delicate elements …] json \n"
=======
      "jacquemus\\2023-06-26_17-36-07_UTC.jpg [BONJOUR !!  With   THE SYMONE…] jacquemus\\2023-06-26_17-36-07_UTC.mp4 json \n"
>>>>>>> ebf267c4643fa440d8689e15803aa30a89ff8b91
     ]
    },
    {
     "name": "stderr",
     "output_type": "stream",
     "text": [
<<<<<<< HEAD
      "Downloading posts:  36%|██████████████████████                                        | 71/200 [08:19<15:14,  7.09s/it]"
=======
      "Downloading posts:  14%|████████▌                                                   | 71/500 [13:30<1:13:33, 10.29s/it]"
>>>>>>> ebf267c4643fa440d8689e15803aa30a89ff8b91
     ]
    },
    {
     "name": "stdout",
     "output_type": "stream",
     "text": [
<<<<<<< HEAD
      "chanelofficial\\2023-12-08_20-18-26_UTC.jpg [CHANEL in Manchester – the 20…] chanelofficial\\2023-12-08_20-18-26_UTC.mp4 json \n"
=======
      "jacquemus\\2023-06-26_12-50-14_UTC_1.jpg jacquemus\\2023-06-26_12-50-14_UTC_2.jpg jacquemus\\2023-06-26_12-50-14_UTC_2.mp4 jacquemus\\2023-06-26_12-50-14_UTC_3.jpg jacquemus\\2023-06-26_12-50-14_UTC_4.jpg jacquemus\\2023-06-26_12-50-14_UTC_4.mp4 jacquemus\\2023-06-26_12-50-14_UTC_5.jpg [Welcome to “LE CHOUCHOU”] json \n"
>>>>>>> ebf267c4643fa440d8689e15803aa30a89ff8b91
     ]
    },
    {
     "name": "stderr",
     "output_type": "stream",
     "text": [
<<<<<<< HEAD
      "Downloading posts:  36%|██████████████████████▎                                       | 72/200 [08:57<35:13, 16.51s/it]"
=======
      "Downloading posts:  14%|████████▋                                                   | 72/500 [13:37<1:06:24,  9.31s/it]"
>>>>>>> ebf267c4643fa440d8689e15803aa30a89ff8b91
     ]
    },
    {
     "name": "stdout",
     "output_type": "stream",
     "text": [
<<<<<<< HEAD
      "chanelofficial\\2023-12-08_18-00-34_UTC.jpg [In autumnal shades, a brick-p…] json \n"
=======
      "jacquemus\\2023-06-25_18-45-30_UTC.jpg [TOMORROW…… LIVE SHOW IN DIREC…] jacquemus\\2023-06-25_18-45-30_UTC.mp4 json \n"
>>>>>>> ebf267c4643fa440d8689e15803aa30a89ff8b91
     ]
    },
    {
     "name": "stderr",
     "output_type": "stream",
     "text": [
<<<<<<< HEAD
      "Downloading posts:  36%|██████████████████████▋                                       | 73/200 [09:03<27:58, 13.21s/it]"
=======
      "Downloading posts:  15%|█████████                                                     | 73/500 [13:41<55:37,  7.82s/it]"
>>>>>>> ebf267c4643fa440d8689e15803aa30a89ff8b91
     ]
    },
    {
     "name": "stdout",
     "output_type": "stream",
     "text": [
<<<<<<< HEAD
      "chanelofficial\\2023-12-08_16-30-00_UTC.jpg [The preparation – in the Méti…] chanelofficial\\2023-12-08_16-30-00_UTC.mp4 json \n"
=======
      "jacquemus\\2023-06-20_15-07-39_UTC.jpg [Monday at Versailles…  Hairst…] jacquemus\\2023-06-20_15-07-39_UTC.mp4 json \n"
>>>>>>> ebf267c4643fa440d8689e15803aa30a89ff8b91
     ]
    },
    {
     "name": "stderr",
     "output_type": "stream",
     "text": [
<<<<<<< HEAD
      "Downloading posts:  37%|██████████████████████▉                                       | 74/200 [09:15<27:07, 12.91s/it]"
=======
      "Downloading posts:  15%|█████████▏                                                    | 74/500 [13:46<49:29,  6.97s/it]"
>>>>>>> ebf267c4643fa440d8689e15803aa30a89ff8b91
     ]
    },
    {
     "name": "stdout",
     "output_type": "stream",
     "text": [
<<<<<<< HEAD
      "chanelofficial\\2023-12-08_14-40-16_UTC.jpg [Worn boxy and double-breasted…] json \n"
=======
      "jacquemus\\2023-06-19_15-58-56_UTC_1.jpg jacquemus\\2023-06-19_15-58-56_UTC_2.jpg jacquemus\\2023-06-19_15-58-56_UTC_3.jpg jacquemus\\2023-06-19_15-58-56_UTC_4.jpg jacquemus\\2023-06-19_15-58-56_UTC_4.mp4 jacquemus\\2023-06-19_15-58-56_UTC_5.jpg jacquemus\\2023-06-19_15-58-56_UTC_5.mp4 jacquemus\\2023-06-19_15-58-56_UTC_6.jpg jacquemus\\2023-06-19_15-58-56_UTC_7.jpg jacquemus\\2023-06-19_15-58-56_UTC_8.jpg jacquemus\\2023-06-19_15-58-56_UTC_9.jpg jacquemus\\2023-06-19_15-58-56_UTC_9.mp4 jacquemus\\2023-06-19_15-58-56_UTC_10.jpg [« LE CHOUCHOU » Preview  One …] json \n"
>>>>>>> ebf267c4643fa440d8689e15803aa30a89ff8b91
     ]
    },
    {
     "name": "stderr",
     "output_type": "stream",
     "text": [
<<<<<<< HEAD
      "Downloading posts:  38%|███████████████████████▎                                      | 75/200 [09:21<22:28, 10.78s/it]"
=======
      "Downloading posts:  15%|█████████                                                   | 75/500 [14:04<1:12:40, 10.26s/it]"
>>>>>>> ebf267c4643fa440d8689e15803aa30a89ff8b91
     ]
    },
    {
     "name": "stdout",
     "output_type": "stream",
     "text": [
<<<<<<< HEAD
      "chanelofficial\\2023-12-08_13-30-07_UTC.jpg [Travelling north to Mancheste…] chanelofficial\\2023-12-08_13-30-07_UTC.mp4 json \n"
=======
      "jacquemus\\2023-06-14_15-46-48_UTC.jpg [JACQUEMUS « LE CHOUCHOU »  I …] jacquemus\\2023-06-14_15-46-48_UTC.mp4 json \n"
>>>>>>> ebf267c4643fa440d8689e15803aa30a89ff8b91
     ]
    },
    {
     "name": "stderr",
     "output_type": "stream",
     "text": [
<<<<<<< HEAD
      "Downloading posts:  38%|███████████████████████▌                                      | 76/200 [09:29<21:03, 10.19s/it]"
=======
      "Downloading posts:  15%|█████████▍                                                    | 76/500 [14:08<59:26,  8.41s/it]"
>>>>>>> ebf267c4643fa440d8689e15803aa30a89ff8b91
     ]
    },
    {
     "name": "stdout",
     "output_type": "stream",
     "text": [
<<<<<<< HEAD
      "chanelofficial\\2023-12-08_12-30-00_UTC.jpg [For the CHANEL 2023/24 Métier…] chanelofficial\\2023-12-08_12-30-00_UTC.mp4 json \n"
=======
      "jacquemus\\2023-06-12_11-33-24_UTC_1.jpg jacquemus\\2023-06-12_11-33-24_UTC_2.jpg jacquemus\\2023-06-12_11-33-24_UTC_3.jpg jacquemus\\2023-06-12_11-33-24_UTC_4.jpg jacquemus\\2023-06-12_11-33-24_UTC_5.jpg jacquemus\\2023-06-12_11-33-24_UTC_6.jpg jacquemus\\2023-06-12_11-33-24_UTC_7.jpg jacquemus\\2023-06-12_11-33-24_UTC_7.mp4 [BEYONCÉ IN JACQUEMUS !!  CUST…] json \n"
>>>>>>> ebf267c4643fa440d8689e15803aa30a89ff8b91
     ]
    },
    {
     "name": "stderr",
     "output_type": "stream",
     "text": [
<<<<<<< HEAD
      "Downloading posts:  38%|███████████████████████▊                                      | 77/200 [09:37<18:59,  9.26s/it]"
=======
      "Downloading posts:  15%|█████████▏                                                  | 77/500 [14:18<1:02:17,  8.84s/it]"
>>>>>>> ebf267c4643fa440d8689e15803aa30a89ff8b91
     ]
    },
    {
     "name": "stdout",
     "output_type": "stream",
     "text": [
<<<<<<< HEAD
      "chanelofficial\\2023-12-08_11-47-25_UTC.jpg [Gathering diverse expressions…] chanelofficial\\2023-12-08_11-47-25_UTC.mp4 json \n"
=======
      "jacquemus\\2023-06-11_16-15-58_UTC_1.jpg jacquemus\\2023-06-11_16-15-58_UTC_1.mp4 jacquemus\\2023-06-11_16-15-58_UTC_2.jpg jacquemus\\2023-06-11_16-15-58_UTC_3.jpg jacquemus\\2023-06-11_16-15-58_UTC_4.jpg jacquemus\\2023-06-11_16-15-58_UTC_4.mp4 jacquemus\\2023-06-11_16-15-58_UTC_5.jpg jacquemus\\2023-06-11_16-15-58_UTC_6.jpg jacquemus\\2023-06-11_16-15-58_UTC_7.jpg jacquemus\\2023-06-11_16-15-58_UTC_8.jpg jacquemus\\2023-06-11_16-15-58_UTC_8.mp4 jacquemus\\2023-06-11_16-15-58_UTC_9.jpg jacquemus\\2023-06-11_16-15-58_UTC_9.mp4 jacquemus\\2023-06-11_16-15-58_UTC_10.jpg jacquemus\\2023-06-11_16-15-58_UTC_10.mp4 [ST TROPEZ BEACH AND BOUTIQUE …] json \n"
>>>>>>> ebf267c4643fa440d8689e15803aa30a89ff8b91
     ]
    },
    {
     "name": "stderr",
     "output_type": "stream",
     "text": [
<<<<<<< HEAD
      "Downloading posts:  39%|████████████████████████▏                                     | 78/200 [09:44<17:46,  8.74s/it]"
=======
      "Downloading posts:  16%|█████████▎                                                  | 78/500 [14:34<1:16:59, 10.95s/it]"
>>>>>>> ebf267c4643fa440d8689e15803aa30a89ff8b91
     ]
    },
    {
     "name": "stdout",
     "output_type": "stream",
     "text": [
<<<<<<< HEAD
      "chanelofficial\\2023-12-08_10-30-03_UTC.jpg [Opening the CHANEL 2023/24 Mé…] chanelofficial\\2023-12-08_10-30-03_UTC.mp4 json \n"
=======
      "jacquemus\\2023-06-06_17-00-48_UTC.jpg [JACQUEMUS IN PORTOFINO! NEXT …] jacquemus\\2023-06-06_17-00-48_UTC.mp4 json \n"
>>>>>>> ebf267c4643fa440d8689e15803aa30a89ff8b91
     ]
    },
    {
     "name": "stderr",
     "output_type": "stream",
     "text": [
<<<<<<< HEAD
      "Downloading posts:  40%|████████████████████████▍                                     | 79/200 [09:52<17:24,  8.63s/it]"
=======
      "Downloading posts:  16%|█████████▍                                                  | 79/500 [14:40<1:06:24,  9.46s/it]"
>>>>>>> ebf267c4643fa440d8689e15803aa30a89ff8b91
     ]
    },
    {
     "name": "stdout",
     "output_type": "stream",
     "text": [
<<<<<<< HEAD
      "chanelofficial\\2023-12-08_09-30-07_UTC.jpg [The finale – the CHANEL 2023/…] chanelofficial\\2023-12-08_09-30-07_UTC.mp4 json \n"
=======
      "jacquemus\\2023-06-05_16-01-25_UTC_1.jpg jacquemus\\2023-06-05_16-01-25_UTC_1.mp4 jacquemus\\2023-06-05_16-01-25_UTC_2.jpg jacquemus\\2023-06-05_16-01-25_UTC_3.jpg jacquemus\\2023-06-05_16-01-25_UTC_3.mp4 jacquemus\\2023-06-05_16-01-25_UTC_4.jpg jacquemus\\2023-06-05_16-01-25_UTC_5.jpg jacquemus\\2023-06-05_16-01-25_UTC_5.mp4 jacquemus\\2023-06-05_16-01-25_UTC_6.jpg jacquemus\\2023-06-05_16-01-25_UTC_7.jpg jacquemus\\2023-06-05_16-01-25_UTC_7.mp4 jacquemus\\2023-06-05_16-01-25_UTC_8.jpg jacquemus\\2023-06-05_16-01-25_UTC_8.mp4 jacquemus\\2023-06-05_16-01-25_UTC_9.jpg jacquemus\\2023-06-05_16-01-25_UTC_9.mp4 jacquemus\\2023-06-05_16-01-25_UTC_10.jpg jacquemus\\2023-06-05_16-01-25_UTC_10.mp4 [PORTOFINO BOUTIQUE IS OPEN! 🇮…] json \n"
>>>>>>> ebf267c4643fa440d8689e15803aa30a89ff8b91
     ]
    },
    {
     "name": "stderr",
     "output_type": "stream",
     "text": [
<<<<<<< HEAD
      "Downloading posts:  40%|████████████████████████▊                                     | 80/200 [10:00<16:44,  8.37s/it]"
=======
      "Downloading posts:  16%|█████████▌                                                  | 80/500 [14:57<1:23:23, 11.91s/it]"
>>>>>>> ebf267c4643fa440d8689e15803aa30a89ff8b91
     ]
    },
    {
     "name": "stdout",
     "output_type": "stream",
     "text": [
<<<<<<< HEAD
      "chanelofficial\\2023-12-07_21-07-45_UTC.jpg [Welcome to Manchester – Sofia…] chanelofficial\\2023-12-07_21-07-45_UTC.mp4 json \n"
=======
      "jacquemus\\2023-05-30_16-05-44_UTC_1.jpg jacquemus\\2023-05-30_16-05-44_UTC_2.jpg jacquemus\\2023-05-30_16-05-44_UTC_3.jpg jacquemus\\2023-05-30_16-05-44_UTC_4.jpg jacquemus\\2023-05-30_16-05-44_UTC_5.jpg jacquemus\\2023-05-30_16-05-44_UTC_6.jpg jacquemus\\2023-05-30_16-05-44_UTC_7.jpg [So excited to share with you …] json \n"
>>>>>>> ebf267c4643fa440d8689e15803aa30a89ff8b91
     ]
    },
    {
     "name": "stderr",
     "output_type": "stream",
     "text": [
<<<<<<< HEAD
      "Downloading posts:  40%|█████████████████████████                                     | 81/200 [10:08<16:21,  8.25s/it]"
=======
      "Downloading posts:  16%|█████████▋                                                  | 81/500 [15:07<1:17:22, 11.08s/it]"
>>>>>>> ebf267c4643fa440d8689e15803aa30a89ff8b91
     ]
    },
    {
     "name": "stdout",
     "output_type": "stream",
     "text": [
<<<<<<< HEAD
      "chanelofficial\\2023-12-07_20-30-14_UTC_1.jpg chanelofficial\\2023-12-07_20-30-14_UTC_2.jpg chanelofficial\\2023-12-07_20-30-14_UTC_3.jpg [Offering a glimpse of the CHA…] json \n"
=======
      "jacquemus\\2023-05-28_16-00-05_UTC.jpg [A sophisticated shoe with the…] jacquemus\\2023-05-28_16-00-05_UTC.mp4 json \n"
>>>>>>> ebf267c4643fa440d8689e15803aa30a89ff8b91
     ]
    },
    {
     "name": "stderr",
     "output_type": "stream",
     "text": [
<<<<<<< HEAD
      "Downloading posts:  41%|█████████████████████████▍                                    | 82/200 [10:16<15:46,  8.02s/it]"
=======
      "Downloading posts:  16%|█████████▊                                                  | 82/500 [15:15<1:11:26, 10.25s/it]"
>>>>>>> ebf267c4643fa440d8689e15803aa30a89ff8b91
     ]
    },
    {
     "name": "stdout",
     "output_type": "stream",
     "text": [
<<<<<<< HEAD
      "chanelofficial\\2023-12-07_20-00-17_UTC_1.jpg chanelofficial\\2023-12-07_20-00-17_UTC_2.jpg [Offering a glimpse of the CHA…] json \n"
=======
      "jacquemus\\2023-05-22_16-05-11_UTC_1.jpg jacquemus\\2023-05-22_16-05-11_UTC_2.jpg jacquemus\\2023-05-22_16-05-11_UTC_3.jpg jacquemus\\2023-05-22_16-05-11_UTC_4.jpg jacquemus\\2023-05-22_16-05-11_UTC_5.jpg jacquemus\\2023-05-22_16-05-11_UTC_6.jpg jacquemus\\2023-05-22_16-05-11_UTC_7.jpg jacquemus\\2023-05-22_16-05-11_UTC_8.jpg [CIAO ITALIA!! Happy to announ…] json \n"
>>>>>>> ebf267c4643fa440d8689e15803aa30a89ff8b91
     ]
    },
    {
     "name": "stderr",
     "output_type": "stream",
     "text": [
<<<<<<< HEAD
      "Downloading posts:  42%|█████████████████████████▋                                    | 83/200 [10:22<14:35,  7.49s/it]"
=======
      "Downloading posts:  17%|█████████▉                                                  | 83/500 [15:22<1:03:40,  9.16s/it]"
>>>>>>> ebf267c4643fa440d8689e15803aa30a89ff8b91
     ]
    },
    {
     "name": "stdout",
     "output_type": "stream",
     "text": [
<<<<<<< HEAD
      "chanelofficial\\2023-12-07_19-30-05_UTC_1.jpg chanelofficial\\2023-12-07_19-30-05_UTC_2.jpg [Offering a glimpse of the CHA…] json \n"
=======
      "jacquemus\\2023-05-19_12-25-17_UTC_1.jpg jacquemus\\2023-05-19_12-25-17_UTC_2.jpg jacquemus\\2023-05-19_12-25-17_UTC_3.jpg jacquemus\\2023-05-19_12-25-17_UTC_4.jpg jacquemus\\2023-05-19_12-25-17_UTC_5.jpg jacquemus\\2023-05-19_12-25-17_UTC_6.jpg jacquemus\\2023-05-19_12-25-17_UTC_7.jpg [DAY 2 in RIO I want do more a…] json \n"
>>>>>>> ebf267c4643fa440d8689e15803aa30a89ff8b91
     ]
    },
    {
     "name": "stderr",
     "output_type": "stream",
     "text": [
<<<<<<< HEAD
      "Downloading posts:  42%|██████████████████████████                                    | 84/200 [10:28<13:45,  7.12s/it]"
=======
      "Downloading posts:  17%|██████████                                                  | 84/500 [15:32<1:06:42,  9.62s/it]"
>>>>>>> ebf267c4643fa440d8689e15803aa30a89ff8b91
     ]
    },
    {
     "name": "stdout",
     "output_type": "stream",
     "text": [
<<<<<<< HEAD
      "chanelofficial\\2023-12-07_19-00-19_UTC_1.jpg chanelofficial\\2023-12-07_19-00-19_UTC_2.jpg chanelofficial\\2023-12-07_19-00-19_UTC_3.jpg chanelofficial\\2023-12-07_19-00-19_UTC_4.jpg [Offering a glimpse of the CHA…] json \n"
=======
      "jacquemus\\2023-05-17_16-06-30_UTC_1.jpg jacquemus\\2023-05-17_16-06-30_UTC_2.jpg jacquemus\\2023-05-17_16-06-30_UTC_3.jpg jacquemus\\2023-05-17_16-06-30_UTC_4.jpg jacquemus\\2023-05-17_16-06-30_UTC_5.jpg jacquemus\\2023-05-17_16-06-30_UTC_6.jpg jacquemus\\2023-05-17_16-06-30_UTC_7.jpg jacquemus\\2023-05-17_16-06-30_UTC_8.jpg jacquemus\\2023-05-17_16-06-30_UTC_9.jpg jacquemus\\2023-05-17_16-06-30_UTC_10.jpg [BOM DIA RIO !  🇧🇷] json \n"
>>>>>>> ebf267c4643fa440d8689e15803aa30a89ff8b91
     ]
    },
    {
     "name": "stderr",
     "output_type": "stream",
     "text": [
<<<<<<< HEAD
      "Downloading posts:  42%|██████████████████████████▎                                   | 85/200 [10:36<13:48,  7.21s/it]"
=======
      "Downloading posts:  17%|██████████▏                                                 | 85/500 [15:45<1:13:04, 10.57s/it]"
>>>>>>> ebf267c4643fa440d8689e15803aa30a89ff8b91
     ]
    },
    {
     "name": "stdout",
     "output_type": "stream",
     "text": [
<<<<<<< HEAD
      "chanelofficial\\2023-12-07_18-30-14_UTC_1.jpg chanelofficial\\2023-12-07_18-30-14_UTC_2.jpg chanelofficial\\2023-12-07_18-30-14_UTC_3.jpg [Offering a glimpse of the CHA…] json \n"
=======
      "jacquemus\\2023-05-15_15-29-24_UTC_1.jpg jacquemus\\2023-05-15_15-29-24_UTC_2.jpg jacquemus\\2023-05-15_15-29-24_UTC_3.jpg jacquemus\\2023-05-15_15-29-24_UTC_4.jpg jacquemus\\2023-05-15_15-29-24_UTC_5.jpg jacquemus\\2023-05-15_15-29-24_UTC_6.jpg jacquemus\\2023-05-15_15-29-24_UTC_7.jpg jacquemus\\2023-05-15_15-29-24_UTC_8.jpg jacquemus\\2023-05-15_15-29-24_UTC_9.jpg jacquemus\\2023-05-15_15-29-24_UTC_10.jpg [CIAO ITALIA! 🇮🇹 Qual é la vos…] json \n"
>>>>>>> ebf267c4643fa440d8689e15803aa30a89ff8b91
     ]
    },
    {
     "name": "stderr",
     "output_type": "stream",
     "text": [
<<<<<<< HEAD
      "Downloading posts:  43%|██████████████████████████▋                                   | 86/200 [10:43<13:37,  7.17s/it]"
=======
      "Downloading posts:  17%|██████████▎                                                 | 86/500 [15:56<1:13:10, 10.61s/it]"
>>>>>>> ebf267c4643fa440d8689e15803aa30a89ff8b91
     ]
    },
    {
     "name": "stdout",
     "output_type": "stream",
     "text": [
<<<<<<< HEAD
      "chanelofficial\\2023-12-07_18-00-37_UTC_1.jpg chanelofficial\\2023-12-07_18-00-37_UTC_2.jpg chanelofficial\\2023-12-07_18-00-37_UTC_3.jpg [Offering a glimpse of the CHA…] json \n"
=======
      "jacquemus\\2023-05-11_14-16-04_UTC_1.jpg jacquemus\\2023-05-11_14-16-04_UTC_1.mp4 jacquemus\\2023-05-11_14-16-04_UTC_2.jpg jacquemus\\2023-05-11_14-16-04_UTC_3.jpg jacquemus\\2023-05-11_14-16-04_UTC_3.mp4 jacquemus\\2023-05-11_14-16-04_UTC_4.jpg jacquemus\\2023-05-11_14-16-04_UTC_4.mp4 jacquemus\\2023-05-11_14-16-04_UTC_5.jpg jacquemus\\2023-05-11_14-16-04_UTC_5.mp4 jacquemus\\2023-05-11_14-16-04_UTC_6.jpg jacquemus\\2023-05-11_14-16-04_UTC_6.mp4 jacquemus\\2023-05-11_14-16-04_UTC_7.jpg jacquemus\\2023-05-11_14-16-04_UTC_7.mp4 jacquemus\\2023-05-11_14-16-04_UTC_8.jpg jacquemus\\2023-05-11_14-16-04_UTC_8.mp4 jacquemus\\2023-05-11_14-16-04_UTC_9.jpg jacquemus\\2023-05-11_14-16-04_UTC_9.mp4 jacquemus\\2023-05-11_14-16-04_UTC_10.jpg [WE ARE OPEN! COMO ! 🇮🇹  Via R…] json \n"
>>>>>>> ebf267c4643fa440d8689e15803aa30a89ff8b91
     ]
    },
    {
     "name": "stderr",
     "output_type": "stream",
     "text": [
<<<<<<< HEAD
      "Downloading posts:  44%|██████████████████████████▉                                   | 87/200 [10:49<13:15,  7.04s/it]"
=======
      "Downloading posts:  17%|██████████▍                                                 | 87/500 [16:16<1:33:54, 13.64s/it]"
>>>>>>> ebf267c4643fa440d8689e15803aa30a89ff8b91
     ]
    },
    {
     "name": "stdout",
     "output_type": "stream",
     "text": [
<<<<<<< HEAD
      "chanelofficial\\2023-12-06_17-00-04_UTC.jpg [Creative dialogue is at the h…] chanelofficial\\2023-12-06_17-00-04_UTC.mp4 json \n"
=======
      "jacquemus\\2023-05-10_16-03-57_UTC.jpg [WE JUST ARRIVED IN COMO!] jacquemus\\2023-05-10_16-03-57_UTC.mp4 json \n"
>>>>>>> ebf267c4643fa440d8689e15803aa30a89ff8b91
     ]
    },
    {
     "name": "stderr",
     "output_type": "stream",
     "text": [
<<<<<<< HEAD
      "Downloading posts:  44%|███████████████████████████▎                                  | 88/200 [10:55<12:32,  6.71s/it]"
=======
      "Downloading posts:  18%|██████████▌                                                 | 88/500 [16:25<1:23:28, 12.16s/it]"
>>>>>>> ebf267c4643fa440d8689e15803aa30a89ff8b91
     ]
    },
    {
     "name": "stdout",
     "output_type": "stream",
     "text": [
<<<<<<< HEAD
      "chanelofficial\\2023-12-05_17-02-44_UTC.jpg [Creative dialogue is at the h…] chanelofficial\\2023-12-05_17-02-44_UTC.mp4 json \n"
=======
      "jacquemus\\2023-05-09_16-44-26_UTC_1.jpg jacquemus\\2023-05-09_16-44-26_UTC_2.jpg jacquemus\\2023-05-09_16-44-26_UTC_3.jpg jacquemus\\2023-05-09_16-44-26_UTC_3.mp4 jacquemus\\2023-05-09_16-44-26_UTC_4.jpg jacquemus\\2023-05-09_16-44-26_UTC_4.mp4 jacquemus\\2023-05-09_16-44-26_UTC_5.jpg jacquemus\\2023-05-09_16-44-26_UTC_5.mp4 jacquemus\\2023-05-09_16-44-26_UTC_6.jpg jacquemus\\2023-05-09_16-44-26_UTC_6.mp4 jacquemus\\2023-05-09_16-44-26_UTC_7.jpg jacquemus\\2023-05-09_16-44-26_UTC_8.jpg jacquemus\\2023-05-09_16-44-26_UTC_9.jpg [IT WAS MY FIRST MET :) LOVE 🥹🤍] json \n"
>>>>>>> ebf267c4643fa440d8689e15803aa30a89ff8b91
     ]
    },
    {
     "name": "stderr",
     "output_type": "stream",
     "text": [
<<<<<<< HEAD
      "Downloading posts:  44%|███████████████████████████▌                                  | 89/200 [11:04<13:42,  7.41s/it]"
=======
      "Downloading posts:  18%|██████████▋                                                 | 89/500 [16:38<1:23:50, 12.24s/it]"
>>>>>>> ebf267c4643fa440d8689e15803aa30a89ff8b91
     ]
    },
    {
     "name": "stdout",
     "output_type": "stream",
     "text": [
<<<<<<< HEAD
      "chanelofficial\\2023-12-05_09-01-01_UTC.jpg [Creative dialogue is at the h…] chanelofficial\\2023-12-05_09-01-01_UTC.mp4 json \n"
=======
      "jacquemus\\2023-05-09_08-59-42_UTC.jpg [DANS LES ATELIERS DE LA MAISON] jacquemus\\2023-05-09_08-59-42_UTC.mp4 json \n"
>>>>>>> ebf267c4643fa440d8689e15803aa30a89ff8b91
     ]
    },
    {
     "name": "stderr",
     "output_type": "stream",
     "text": [
<<<<<<< HEAD
      "Downloading posts:  45%|███████████████████████████▉                                  | 90/200 [11:10<12:51,  7.01s/it]"
=======
      "Downloading posts:  18%|██████████▊                                                 | 90/500 [16:46<1:16:25, 11.18s/it]"
>>>>>>> ebf267c4643fa440d8689e15803aa30a89ff8b91
     ]
    },
    {
     "name": "stdout",
     "output_type": "stream",
     "text": [
<<<<<<< HEAD
      "chanelofficial\\2023-12-02_09-51-15_UTC.jpg [The art of wrapping. Elevate …] chanelofficial\\2023-12-02_09-51-15_UTC.mp4 json \n"
=======
      "jacquemus\\2023-05-08_16-21-53_UTC_1.jpg jacquemus\\2023-05-08_16-21-53_UTC_2.jpg jacquemus\\2023-05-08_16-21-53_UTC_3.jpg jacquemus\\2023-05-08_16-21-53_UTC_4.jpg jacquemus\\2023-05-08_16-21-53_UTC_5.jpg jacquemus\\2023-05-08_16-21-53_UTC_6.jpg jacquemus\\2023-05-08_16-21-53_UTC_7.jpg [BAD BUNNY 🤍  What a special m…] json \n"
>>>>>>> ebf267c4643fa440d8689e15803aa30a89ff8b91
     ]
    },
    {
     "name": "stderr",
     "output_type": "stream",
     "text": [
<<<<<<< HEAD
      "Downloading posts:  46%|████████████████████████████▏                                 | 91/200 [11:17<12:44,  7.01s/it]"
=======
      "Downloading posts:  18%|██████████▉                                                 | 91/500 [16:55<1:10:15, 10.31s/it]"
>>>>>>> ebf267c4643fa440d8689e15803aa30a89ff8b91
     ]
    },
    {
     "name": "stdout",
     "output_type": "stream",
     "text": [
<<<<<<< HEAD
      "chanelofficial\\2023-12-01_17-30-28_UTC.jpg [Give wonder, give CHANEL. Thi…] json \n"
=======
      "jacquemus\\2023-05-04_13-27-06_UTC.jpg [“THE DAY AFTER »] jacquemus\\2023-05-04_13-27-06_UTC.mp4 json \n"
>>>>>>> ebf267c4643fa440d8689e15803aa30a89ff8b91
     ]
    },
    {
     "name": "stderr",
     "output_type": "stream",
     "text": [
<<<<<<< HEAD
      "Downloading posts:  46%|████████████████████████████▌                                 | 92/200 [11:23<11:47,  6.56s/it]"
=======
      "Downloading posts:  18%|███████████                                                 | 92/500 [17:03<1:05:38,  9.65s/it]"
>>>>>>> ebf267c4643fa440d8689e15803aa30a89ff8b91
     ]
    },
    {
     "name": "stdout",
     "output_type": "stream",
     "text": [
<<<<<<< HEAD
      "chanelofficial\\2023-12-01_11-09-48_UTC.jpg [Give wonder, give CHANEL. Thi…] chanelofficial\\2023-12-01_11-09-48_UTC.mp4 json \n"
=======
      "jacquemus\\2023-05-03_16-56-13_UTC.jpg [“LA ROBE”  My first memory of…] jacquemus\\2023-05-03_16-56-13_UTC.mp4 json \n"
>>>>>>> ebf267c4643fa440d8689e15803aa30a89ff8b91
     ]
    },
    {
     "name": "stderr",
     "output_type": "stream",
     "text": [
<<<<<<< HEAD
      "Downloading posts:  46%|████████████████████████████▊                                 | 93/200 [11:30<11:45,  6.59s/it]"
=======
      "Downloading posts:  19%|███████████▏                                                | 93/500 [17:11<1:03:21,  9.34s/it]"
>>>>>>> ebf267c4643fa440d8689e15803aa30a89ff8b91
     ]
    },
    {
     "name": "stdout",
     "output_type": "stream",
     "text": [
<<<<<<< HEAD
      "chanelofficial\\2023-11-30_19-13-54_UTC_1.jpg chanelofficial\\2023-11-30_19-13-54_UTC_2.jpg chanelofficial\\2023-11-30_19-13-54_UTC_3.jpg chanelofficial\\2023-11-30_19-13-54_UTC_4.jpg chanelofficial\\2023-11-30_19-13-54_UTC_5.jpg [New. LES SYMBOLES DE CHANEL e…] json \n"
=======
      "jacquemus\\2023-05-03_11-10-42_UTC_1.jpg jacquemus\\2023-05-03_11-10-42_UTC_2.jpg jacquemus\\2023-05-03_11-10-42_UTC_3.jpg jacquemus\\2023-05-03_11-10-42_UTC_4.jpg jacquemus\\2023-05-03_11-10-42_UTC_5.jpg jacquemus\\2023-05-03_11-10-42_UTC_6.jpg jacquemus\\2023-05-03_11-10-42_UTC_7.jpg jacquemus\\2023-05-03_11-10-42_UTC_8.jpg jacquemus\\2023-05-03_11-10-42_UTC_9.jpg jacquemus\\2023-05-03_11-10-42_UTC_10.jpg [KARL FOREVER « L’INVENTAIRE »…] json \n"
>>>>>>> ebf267c4643fa440d8689e15803aa30a89ff8b91
     ]
    },
    {
     "name": "stderr",
     "output_type": "stream",
     "text": [
<<<<<<< HEAD
      "Downloading posts:  47%|█████████████████████████████▏                                | 94/200 [11:37<12:05,  6.84s/it]"
=======
      "Downloading posts:  19%|███████████▎                                                | 94/500 [17:23<1:08:39, 10.15s/it]"
>>>>>>> ebf267c4643fa440d8689e15803aa30a89ff8b91
     ]
    },
    {
     "name": "stdout",
     "output_type": "stream",
     "text": [
<<<<<<< HEAD
      "chanelofficial\\2023-11-30_17-23-43_UTC.jpg [Your personalized illuminatin…] chanelofficial\\2023-11-30_17-23-43_UTC.mp4 json \n"
=======
      "jacquemus\\2023-05-02_14-52-22_UTC.jpg [THIS MOMENT… KARL FOREVER 🤍] jacquemus\\2023-05-02_14-52-22_UTC.mp4 json \n"
>>>>>>> ebf267c4643fa440d8689e15803aa30a89ff8b91
     ]
    },
    {
     "name": "stderr",
     "output_type": "stream",
     "text": [
<<<<<<< HEAD
      "Downloading posts:  48%|█████████████████████████████▍                                | 95/200 [11:43<11:29,  6.57s/it]"
=======
      "Downloading posts:  19%|███████████▍                                                | 95/500 [17:32<1:06:17,  9.82s/it]"
>>>>>>> ebf267c4643fa440d8689e15803aa30a89ff8b91
     ]
    },
    {
     "name": "stdout",
     "output_type": "stream",
     "text": [
<<<<<<< HEAD
      "chanelofficial\\2023-11-30_15-09-30_UTC.jpg [Which CHANEL symbol represent…] chanelofficial\\2023-11-30_15-09-30_UTC.mp4 json \n"
=======
      "jacquemus\\2023-05-02_06-03-15_UTC_1.jpg jacquemus\\2023-05-02_06-03-15_UTC_2.jpg jacquemus\\2023-05-02_06-03-15_UTC_3.jpg jacquemus\\2023-05-02_06-03-15_UTC_4.jpg jacquemus\\2023-05-02_06-03-15_UTC_5.jpg jacquemus\\2023-05-02_06-03-15_UTC_6.jpg jacquemus\\2023-05-02_06-03-15_UTC_6.mp4 jacquemus\\2023-05-02_06-03-15_UTC_7.jpg jacquemus\\2023-05-02_06-03-15_UTC_7.mp4 jacquemus\\2023-05-02_06-03-15_UTC_8.jpg jacquemus\\2023-05-02_06-03-15_UTC_8.mp4 jacquemus\\2023-05-02_06-03-15_UTC_9.jpg [KARL FOREVER SO PROUD TO SHAR…] json \n"
>>>>>>> ebf267c4643fa440d8689e15803aa30a89ff8b91
     ]
    },
    {
     "name": "stderr",
     "output_type": "stream",
     "text": [
<<<<<<< HEAD
      "Downloading posts:  48%|█████████████████████████████▊                                | 96/200 [11:50<11:50,  6.83s/it]"
=======
      "Downloading posts:  19%|███████████▌                                                | 96/500 [17:46<1:13:04, 10.85s/it]"
>>>>>>> ebf267c4643fa440d8689e15803aa30a89ff8b91
     ]
    },
    {
     "name": "stdout",
     "output_type": "stream",
     "text": [
<<<<<<< HEAD
      "chanelofficial\\2023-11-29_15-59-45_UTC_1.jpg chanelofficial\\2023-11-29_15-59-45_UTC_1.mp4 chanelofficial\\2023-11-29_15-59-45_UTC_2.jpg [RADIANCE ENHANCER Enriched wi…] json \n"
=======
      "jacquemus\\2023-05-01_23-17-49_UTC.jpg [KARL FOREVER  MET GALA 2023 «…] jacquemus\\2023-05-01_23-17-49_UTC.mp4 json \n"
>>>>>>> ebf267c4643fa440d8689e15803aa30a89ff8b91
     ]
    },
    {
     "name": "stderr",
     "output_type": "stream",
     "text": [
<<<<<<< HEAD
      "Downloading posts:  48%|██████████████████████████████                                | 97/200 [11:58<12:00,  7.00s/it]"
=======
      "Downloading posts:  19%|███████████▋                                                | 97/500 [17:50<1:00:28,  9.00s/it]"
>>>>>>> ebf267c4643fa440d8689e15803aa30a89ff8b91
     ]
    },
    {
     "name": "stdout",
     "output_type": "stream",
     "text": [
<<<<<<< HEAD
      "chanelofficial\\2023-11-29_13-09-03_UTC.jpg [Limited edition. SUBLIMAGE LE…] chanelofficial\\2023-11-29_13-09-03_UTC.mp4 json \n"
=======
      "jacquemus\\2023-04-27_18-46-12_UTC_1.jpg jacquemus\\2023-04-27_18-46-12_UTC_2.jpg jacquemus\\2023-04-27_18-46-12_UTC_3.jpg jacquemus\\2023-04-27_18-46-12_UTC_4.jpg jacquemus\\2023-04-27_18-46-12_UTC_5.jpg jacquemus\\2023-04-27_18-46-12_UTC_6.jpg jacquemus\\2023-04-27_18-46-12_UTC_7.jpg jacquemus\\2023-04-27_18-46-12_UTC_8.jpg jacquemus\\2023-04-27_18-46-12_UTC_9.jpg jacquemus\\2023-04-27_18-46-12_UTC_9.mp4 jacquemus\\2023-04-27_18-46-12_UTC_10.jpg [LA 🌴🌪️] json \n"
>>>>>>> ebf267c4643fa440d8689e15803aa30a89ff8b91
     ]
    },
    {
     "name": "stderr",
     "output_type": "stream",
     "text": [
<<<<<<< HEAD
      "Downloading posts:  49%|██████████████████████████████▍                               | 98/200 [12:04<11:40,  6.86s/it]"
=======
      "Downloading posts:  20%|███████████▊                                                | 98/500 [18:02<1:05:39,  9.80s/it]"
>>>>>>> ebf267c4643fa440d8689e15803aa30a89ff8b91
     ]
    },
    {
     "name": "stdout",
     "output_type": "stream",
     "text": [
<<<<<<< HEAD
      "chanelofficial\\2023-11-29_09-46-28_UTC.jpg [The radiance-enhancing duo Th…] chanelofficial\\2023-11-29_09-46-28_UTC.mp4 json \n"
=======
      "jacquemus\\2023-04-26_15-05-21_UTC.jpg [LEMON?] jacquemus\\2023-04-26_15-05-21_UTC.mp4 json \n"
>>>>>>> ebf267c4643fa440d8689e15803aa30a89ff8b91
     ]
    },
    {
     "name": "stderr",
     "output_type": "stream",
     "text": [
<<<<<<< HEAD
      "Downloading posts:  50%|██████████████████████████████▋                               | 99/200 [12:11<11:32,  6.86s/it]"
=======
      "Downloading posts:  20%|████████████▎                                                 | 99/500 [18:07<56:46,  8.50s/it]"
>>>>>>> ebf267c4643fa440d8689e15803aa30a89ff8b91
     ]
    },
    {
     "name": "stdout",
     "output_type": "stream",
     "text": [
<<<<<<< HEAD
      "chanelofficial\\2023-11-28_17-56-28_UTC.jpg [Fostering Global Dialogue wit…] chanelofficial\\2023-11-28_17-56-28_UTC.mp4 json \n"
=======
      "jacquemus\\2023-04-25_14-55-33_UTC.jpg [JACQUEMUS SCULPTURES] jacquemus\\2023-04-25_14-55-33_UTC.mp4 json \n"
>>>>>>> ebf267c4643fa440d8689e15803aa30a89ff8b91
     ]
    },
    {
     "name": "stderr",
     "output_type": "stream",
     "text": [
<<<<<<< HEAD
      "Downloading posts:  50%|██████████████████████████████▌                              | 100/200 [12:19<12:05,  7.26s/it]"
=======
      "Downloading posts:  20%|████████████▏                                                | 100/500 [18:13<51:42,  7.76s/it]"
>>>>>>> ebf267c4643fa440d8689e15803aa30a89ff8b91
     ]
    },
    {
     "name": "stdout",
     "output_type": "stream",
     "text": [
<<<<<<< HEAD
      "chanelofficial\\2023-11-28_12-26-54_UTC.jpg [Elevating Underrepresented Vo…] chanelofficial\\2023-11-28_12-26-54_UTC.mp4 json \n"
=======
      "jacquemus\\2023-04-24_16-04-25_UTC_1.jpg jacquemus\\2023-04-24_16-04-25_UTC_2.jpg jacquemus\\2023-04-24_16-04-25_UTC_3.jpg jacquemus\\2023-04-24_16-04-25_UTC_4.jpg jacquemus\\2023-04-24_16-04-25_UTC_5.jpg jacquemus\\2023-04-24_16-04-25_UTC_6.jpg jacquemus\\2023-04-24_16-04-25_UTC_7.jpg jacquemus\\2023-04-24_16-04-25_UTC_8.jpg [JACQUEMUS SCULPTURES] json \n"
>>>>>>> ebf267c4643fa440d8689e15803aa30a89ff8b91
     ]
    },
    {
     "name": "stderr",
     "output_type": "stream",
     "text": [
<<<<<<< HEAD
      "Downloading posts:  50%|██████████████████████████████▊                              | 101/200 [12:28<12:25,  7.53s/it]"
=======
      "Downloading posts:  20%|████████████▎                                                | 101/500 [18:24<57:43,  8.68s/it]"
>>>>>>> ebf267c4643fa440d8689e15803aa30a89ff8b91
     ]
    },
    {
     "name": "stdout",
     "output_type": "stream",
     "text": [
<<<<<<< HEAD
      "chanelofficial\\2023-11-27_15-42-20_UTC.jpg [Accelerating Ideas, Advancing…] chanelofficial\\2023-11-27_15-42-20_UTC.mp4 json \n"
=======
      "jacquemus\\2023-04-18_15-59-39_UTC.jpg [She didn't manage to choose a…] jacquemus\\2023-04-18_15-59-39_UTC.mp4 json \n"
>>>>>>> ebf267c4643fa440d8689e15803aa30a89ff8b91
     ]
    },
    {
     "name": "stderr",
     "output_type": "stream",
     "text": [
<<<<<<< HEAD
      "Downloading posts:  51%|███████████████████████████████                              | 102/200 [12:36<12:34,  7.70s/it]"
=======
      "Downloading posts:  20%|████████████▍                                                | 102/500 [18:31<53:06,  8.01s/it]"
>>>>>>> ebf267c4643fa440d8689e15803aa30a89ff8b91
     ]
    },
    {
     "name": "stdout",
     "output_type": "stream",
     "text": [
<<<<<<< HEAD
      "chanelofficial\\2023-11-26_18-00-26_UTC.jpg [The N°1 DE CHANEL revitalizin…] chanelofficial\\2023-11-26_18-00-26_UTC.mp4 json \n"
=======
      "jacquemus\\2023-04-17_15-51-53_UTC_1.jpg jacquemus\\2023-04-17_15-51-53_UTC_2.jpg jacquemus\\2023-04-17_15-51-53_UTC_3.jpg jacquemus\\2023-04-17_15-51-53_UTC_4.jpg jacquemus\\2023-04-17_15-51-53_UTC_5.jpg jacquemus\\2023-04-17_15-51-53_UTC_6.jpg jacquemus\\2023-04-17_15-51-53_UTC_7.jpg jacquemus\\2023-04-17_15-51-53_UTC_8.jpg jacquemus\\2023-04-17_15-51-53_UTC_9.jpg [« OBJETS »  LEATHER OBJECTS  …] json \n"
>>>>>>> ebf267c4643fa440d8689e15803aa30a89ff8b91
     ]
    },
    {
     "name": "stderr",
     "output_type": "stream",
     "text": [
<<<<<<< HEAD
      "Downloading posts:  52%|███████████████████████████████▍                             | 103/200 [12:43<12:18,  7.61s/it]"
=======
      "Downloading posts:  21%|████████████▏                                              | 103/500 [18:43<1:01:28,  9.29s/it]"
>>>>>>> ebf267c4643fa440d8689e15803aa30a89ff8b91
     ]
    },
    {
     "name": "stdout",
     "output_type": "stream",
     "text": [
<<<<<<< HEAD
      "chanelofficial\\2023-11-26_15-35-18_UTC.jpg [The N°1 DE CHANEL revitalizin…] json \n"
=======
      "jacquemus\\2023-04-05_13-56-22_UTC.jpg [I THINK I LIKE PARIS NOW 🫠] jacquemus\\2023-04-05_13-56-22_UTC.mp4 json \n"
>>>>>>> ebf267c4643fa440d8689e15803aa30a89ff8b91
     ]
    },
    {
     "name": "stderr",
     "output_type": "stream",
     "text": [
<<<<<<< HEAD
      "Downloading posts:  52%|███████████████████████████████▋                             | 104/200 [12:49<11:11,  6.99s/it]"
=======
      "Downloading posts:  21%|████████████▋                                                | 104/500 [18:48<53:25,  8.09s/it]"
>>>>>>> ebf267c4643fa440d8689e15803aa30a89ff8b91
     ]
    },
    {
     "name": "stdout",
     "output_type": "stream",
     "text": [
<<<<<<< HEAD
      "chanelofficial\\2023-11-26_12-43-22_UTC.jpg [N°1 DE CHANEL SECRETS. Discov…] chanelofficial\\2023-11-26_12-43-22_UTC.mp4 json \n"
=======
      "jacquemus\\2023-04-03_16-24-59_UTC_1.jpg jacquemus\\2023-04-03_16-24-59_UTC_2.jpg jacquemus\\2023-04-03_16-24-59_UTC_3.jpg jacquemus\\2023-04-03_16-24-59_UTC_4.jpg jacquemus\\2023-04-03_16-24-59_UTC_5.jpg [BON APPÉTIT  Jacquemus.com] json \n"
>>>>>>> ebf267c4643fa440d8689e15803aa30a89ff8b91
     ]
    },
    {
     "name": "stderr",
     "output_type": "stream",
     "text": [
<<<<<<< HEAD
      "Downloading posts:  52%|████████████████████████████████                             | 105/200 [12:55<10:50,  6.85s/it]"
=======
      "Downloading posts:  21%|████████████▊                                                | 105/500 [18:58<55:59,  8.51s/it]"
>>>>>>> ebf267c4643fa440d8689e15803aa30a89ff8b91
     ]
    },
    {
     "name": "stdout",
     "output_type": "stream",
     "text": [
<<<<<<< HEAD
      "chanelofficial\\2023-11-25_12-39-48_UTC.jpg [Give wonder, give CHANEL. Thi…] json \n"
=======
      "jacquemus\\2023-03-28_16-27-21_UTC.jpg [L’HOMME JACQUEMUS RUBEN PAR D…] jacquemus\\2023-03-28_16-27-21_UTC.mp4 json \n"
>>>>>>> ebf267c4643fa440d8689e15803aa30a89ff8b91
     ]
    },
    {
     "name": "stderr",
     "output_type": "stream",
     "text": [
<<<<<<< HEAD
      "Downloading posts:  53%|████████████████████████████████▎                            | 106/200 [13:01<10:06,  6.45s/it]"
=======
      "Downloading posts:  21%|████████████▉                                                | 106/500 [19:05<53:32,  8.15s/it]"
>>>>>>> ebf267c4643fa440d8689e15803aa30a89ff8b91
     ]
    },
    {
     "name": "stdout",
     "output_type": "stream",
     "text": [
<<<<<<< HEAD
      "chanelofficial\\2023-11-24_18-22-57_UTC.jpg [Give wonder, give CHANEL. Thi…] json \n"
=======
      "jacquemus\\2023-03-27_16-02-23_UTC.jpg [L’HOMME JACQUEMUS] json \n"
>>>>>>> ebf267c4643fa440d8689e15803aa30a89ff8b91
     ]
    },
    {
     "name": "stderr",
     "output_type": "stream",
     "text": [
<<<<<<< HEAD
      "Downloading posts:  54%|████████████████████████████████▋                            | 107/200 [13:06<09:32,  6.16s/it]"
=======
      "Downloading posts:  21%|█████████████                                                | 107/500 [19:13<52:21,  7.99s/it]"
>>>>>>> ebf267c4643fa440d8689e15803aa30a89ff8b91
     ]
    },
    {
     "name": "stdout",
     "output_type": "stream",
     "text": [
<<<<<<< HEAD
      "chanelofficial\\2023-11-24_10-09-09_UTC.jpg [Give wonder, give CHANEL. Thi…] chanelofficial\\2023-11-24_10-09-09_UTC.mp4 json \n"
=======
      "jacquemus\\2023-03-27_15-41-17_UTC_1.jpg jacquemus\\2023-03-27_15-41-17_UTC_2.jpg jacquemus\\2023-03-27_15-41-17_UTC_3.jpg jacquemus\\2023-03-27_15-41-17_UTC_4.jpg jacquemus\\2023-03-27_15-41-17_UTC_5.jpg jacquemus\\2023-03-27_15-41-17_UTC_6.jpg jacquemus\\2023-03-27_15-41-17_UTC_7.jpg jacquemus\\2023-03-27_15-41-17_UTC_8.jpg [L’HOMME JACQUEMUS RUBEN PAR D…] json \n"
>>>>>>> ebf267c4643fa440d8689e15803aa30a89ff8b91
     ]
    },
    {
     "name": "stderr",
     "output_type": "stream",
     "text": [
<<<<<<< HEAD
      "Downloading posts:  54%|████████████████████████████████▉                            | 108/200 [13:13<09:50,  6.41s/it]"
=======
      "Downloading posts:  22%|█████████████▏                                               | 108/500 [19:20<50:57,  7.80s/it]"
>>>>>>> ebf267c4643fa440d8689e15803aa30a89ff8b91
     ]
    },
    {
     "name": "stdout",
     "output_type": "stream",
     "text": [
<<<<<<< HEAD
      "chanelofficial\\2023-11-23_17-56-31_UTC.jpg [High-powered repair. Enriched…] chanelofficial\\2023-11-23_17-56-31_UTC.mp4 json \n"
=======
      "jacquemus\\2023-03-24_15-37-38_UTC_1.jpg jacquemus\\2023-03-24_15-37-38_UTC_2.jpg jacquemus\\2023-03-24_15-37-38_UTC_3.jpg [Love @dualipa  In full look f…] json \n"
>>>>>>> ebf267c4643fa440d8689e15803aa30a89ff8b91
     ]
    },
    {
     "name": "stderr",
     "output_type": "stream",
     "text": [
<<<<<<< HEAD
      "Downloading posts:  55%|█████████████████████████████████▏                           | 109/200 [13:20<09:47,  6.46s/it]"
=======
      "Downloading posts:  22%|█████████████▎                                               | 109/500 [19:28<50:53,  7.81s/it]"
>>>>>>> ebf267c4643fa440d8689e15803aa30a89ff8b91
     ]
    },
    {
     "name": "stdout",
     "output_type": "stream",
     "text": [
<<<<<<< HEAD
      "chanelofficial\\2023-11-23_15-02-17_UTC_1.jpg chanelofficial\\2023-11-23_15-02-17_UTC_1.mp4 chanelofficial\\2023-11-23_15-02-17_UTC_2.jpg [Discover SUBLIMAGE Les Extrai…] json \n"
=======
      "jacquemus\\2023-03-20_17-42-03_UTC.jpg [MONDAY AT JACQUEMUS  (No one …] jacquemus\\2023-03-20_17-42-03_UTC.mp4 json \n"
>>>>>>> ebf267c4643fa440d8689e15803aa30a89ff8b91
     ]
    },
    {
     "name": "stderr",
     "output_type": "stream",
     "text": [
<<<<<<< HEAD
      "Downloading posts:  55%|█████████████████████████████████▌                           | 110/200 [13:26<09:43,  6.49s/it]"
=======
      "Downloading posts:  22%|█████████████▍                                               | 110/500 [19:35<48:37,  7.48s/it]"
>>>>>>> ebf267c4643fa440d8689e15803aa30a89ff8b91
     ]
    },
    {
     "name": "stdout",
     "output_type": "stream",
     "text": [
<<<<<<< HEAD
      "chanelofficial\\2023-11-23_10-13-23_UTC.jpg [High-powered repair. SUBLIMAG…] chanelofficial\\2023-11-23_10-13-23_UTC.mp4 json \n"
=======
      "jacquemus\\2023-03-09_16-50-35_UTC.jpg [A YEAR AGO…. HAWAI’I  I WILL …] jacquemus\\2023-03-09_16-50-35_UTC.mp4 json \n"
>>>>>>> ebf267c4643fa440d8689e15803aa30a89ff8b91
     ]
    },
    {
     "name": "stderr",
     "output_type": "stream",
     "text": [
<<<<<<< HEAD
      "Downloading posts:  56%|█████████████████████████████████▊                           | 111/200 [13:34<10:00,  6.75s/it]"
=======
      "Downloading posts:  22%|█████████████▌                                               | 111/500 [19:43<50:19,  7.76s/it]"
>>>>>>> ebf267c4643fa440d8689e15803aa30a89ff8b91
     ]
    },
    {
     "name": "stdout",
     "output_type": "stream",
     "text": [
<<<<<<< HEAD
      "chanelofficial\\2023-11-22_15-15-03_UTC.jpg [New 31 LE ROUGE, Rouge Croisi…] chanelofficial\\2023-11-22_15-15-03_UTC.mp4 json \n"
=======
      "jacquemus\\2023-03-06_17-18-02_UTC.jpg [BONJOUR ? HOW DO YOU FEEL TOD…] jacquemus\\2023-03-06_17-18-02_UTC.mp4 json \n"
>>>>>>> ebf267c4643fa440d8689e15803aa30a89ff8b91
     ]
    },
    {
     "name": "stderr",
     "output_type": "stream",
     "text": [
<<<<<<< HEAD
      "Downloading posts:  56%|██████████████████████████████████▏                          | 112/200 [13:40<09:51,  6.72s/it]"
=======
      "Downloading posts:  22%|█████████████▋                                               | 112/500 [19:51<49:52,  7.71s/it]"
>>>>>>> ebf267c4643fa440d8689e15803aa30a89ff8b91
     ]
    },
    {
     "name": "stdout",
     "output_type": "stream",
     "text": [
<<<<<<< HEAD
      "chanelofficial\\2023-11-22_13-10-31_UTC_1.jpg chanelofficial\\2023-11-22_13-10-31_UTC_2.jpg chanelofficial\\2023-11-22_13-10-31_UTC_3.jpg chanelofficial\\2023-11-22_13-10-31_UTC_4.jpg [New 31 LE ROUGE.  The House's…] json \n"
=======
      "jacquemus\\2023-03-02_15-56-29_UTC.jpg [JUST BECAUSE] jacquemus\\2023-03-02_15-56-29_UTC.mp4 json \n"
>>>>>>> ebf267c4643fa440d8689e15803aa30a89ff8b91
     ]
    },
    {
     "name": "stderr",
     "output_type": "stream",
     "text": [
<<<<<<< HEAD
      "Downloading posts:  56%|██████████████████████████████████▍                          | 113/200 [13:52<11:46,  8.12s/it]"
=======
      "Downloading posts:  23%|█████████████▊                                               | 113/500 [20:00<53:25,  8.28s/it]"
>>>>>>> ebf267c4643fa440d8689e15803aa30a89ff8b91
     ]
    },
    {
     "name": "stdout",
     "output_type": "stream",
     "text": [
<<<<<<< HEAD
      "chanelofficial\\2023-11-22_11-01-28_UTC.jpg [New 31 LE ROUGE.  Singular sh…] chanelofficial\\2023-11-22_11-01-28_UTC.mp4 json \n"
=======
      "jacquemus\\2023-03-01_17-50-23_UTC.jpg [Today 🥰] jacquemus\\2023-03-01_17-50-23_UTC.mp4 json \n"
>>>>>>> ebf267c4643fa440d8689e15803aa30a89ff8b91
     ]
    },
    {
     "name": "stderr",
     "output_type": "stream",
     "text": [
<<<<<<< HEAD
      "Downloading posts:  57%|██████████████████████████████████▊                          | 114/200 [13:59<11:18,  7.89s/it]"
=======
      "Downloading posts:  23%|█████████████▉                                               | 114/500 [20:10<56:38,  8.81s/it]"
>>>>>>> ebf267c4643fa440d8689e15803aa30a89ff8b91
     ]
    },
    {
     "name": "stdout",
     "output_type": "stream",
     "text": [
<<<<<<< HEAD
      "chanelofficial\\2023-11-21_17-56-56_UTC_1.jpg chanelofficial\\2023-11-21_17-56-56_UTC_2.jpg [Find your dream gift.  This h…] json \n"
=======
      "jacquemus\\2023-02-28_17-18-36_UTC_1.jpg jacquemus\\2023-02-28_17-18-36_UTC_2.jpg jacquemus\\2023-02-28_17-18-36_UTC_2.mp4 jacquemus\\2023-02-28_17-18-36_UTC_3.jpg jacquemus\\2023-02-28_17-18-36_UTC_3.mp4 jacquemus\\2023-02-28_17-18-36_UTC_4.jpg jacquemus\\2023-02-28_17-18-36_UTC_4.mp4 jacquemus\\2023-02-28_17-18-36_UTC_5.jpg jacquemus\\2023-02-28_17-18-36_UTC_6.jpg jacquemus\\2023-02-28_17-18-36_UTC_6.mp4 jacquemus\\2023-02-28_17-18-36_UTC_7.jpg jacquemus\\2023-02-28_17-18-36_UTC_8.jpg jacquemus\\2023-02-28_17-18-36_UTC_8.mp4 jacquemus\\2023-02-28_17-18-36_UTC_9.jpg jacquemus\\2023-02-28_17-18-36_UTC_9.mp4 jacquemus\\2023-02-28_17-18-36_UTC_10.jpg [“JACQUEMUS OBSESSIONS”  OPEN …] json \n"
>>>>>>> ebf267c4643fa440d8689e15803aa30a89ff8b91
     ]
    },
    {
     "name": "stderr",
     "output_type": "stream",
     "text": [
<<<<<<< HEAD
      "Downloading posts:  57%|███████████████████████████████████                          | 115/200 [14:06<10:34,  7.46s/it]"
=======
      "Downloading posts:  23%|█████████████▌                                             | 115/500 [20:30<1:17:41, 12.11s/it]"
>>>>>>> ebf267c4643fa440d8689e15803aa30a89ff8b91
     ]
    },
    {
     "name": "stdout",
     "output_type": "stream",
     "text": [
<<<<<<< HEAD
      "chanelofficial\\2023-11-21_14-04-28_UTC.jpg [Give Wonder, Give CHANEL.  Th…] json \n"
=======
      "jacquemus\\2023-02-27_16-50-31_UTC_1.jpg jacquemus\\2023-02-27_16-50-31_UTC_2.jpg jacquemus\\2023-02-27_16-50-31_UTC_3.jpg jacquemus\\2023-02-27_16-50-31_UTC_4.jpg [BONJOUR ! HERE THE INVITATION…] json \n"
>>>>>>> ebf267c4643fa440d8689e15803aa30a89ff8b91
     ]
    },
    {
     "name": "stderr",
     "output_type": "stream",
     "text": [
<<<<<<< HEAD
      "Downloading posts:  58%|███████████████████████████████████▍                         | 116/200 [14:11<09:45,  6.97s/it]"
=======
      "Downloading posts:  23%|█████████████▋                                             | 116/500 [20:35<1:04:28, 10.08s/it]"
>>>>>>> ebf267c4643fa440d8689e15803aa30a89ff8b91
     ]
    },
    {
     "name": "stdout",
     "output_type": "stream",
     "text": [
<<<<<<< HEAD
      "chanelofficial\\2023-11-21_10-04-05_UTC.jpg [Find your dream gift.  This h…] json \n"
=======
      "jacquemus\\2023-02-26_16-46-18_UTC.jpg [SUNDAY LIKE :)] jacquemus\\2023-02-26_16-46-18_UTC.mp4 json \n"
>>>>>>> ebf267c4643fa440d8689e15803aa30a89ff8b91
     ]
    },
    {
     "name": "stderr",
     "output_type": "stream",
     "text": [
<<<<<<< HEAD
      "Downloading posts:  58%|███████████████████████████████████▋                         | 117/200 [14:17<09:05,  6.57s/it]"
=======
      "Downloading posts:  23%|██████████████▎                                              | 117/500 [20:40<53:17,  8.35s/it]"
>>>>>>> ebf267c4643fa440d8689e15803aa30a89ff8b91
     ]
    },
    {
     "name": "stdout",
     "output_type": "stream",
     "text": [
<<<<<<< HEAD
      "chanelofficial\\2023-11-20_17-00-22_UTC_1.jpg chanelofficial\\2023-11-20_17-00-22_UTC_2.jpg [A cinematographic silhouette …] json \n"
=======
      "jacquemus\\2023-02-23_09-02-24_UTC.jpg json \n"
>>>>>>> ebf267c4643fa440d8689e15803aa30a89ff8b91
     ]
    },
    {
     "name": "stderr",
     "output_type": "stream",
     "text": [
<<<<<<< HEAD
      "Downloading posts:  59%|███████████████████████████████████▉                         | 118/200 [14:23<08:51,  6.48s/it]"
=======
      "Downloading posts:  24%|██████████████▍                                              | 118/500 [20:47<50:07,  7.87s/it]"
>>>>>>> ebf267c4643fa440d8689e15803aa30a89ff8b91
     ]
    },
    {
     "name": "stdout",
     "output_type": "stream",
     "text": [
<<<<<<< HEAD
      "chanelofficial\\2023-11-20_13-00-34_UTC_1.jpg chanelofficial\\2023-11-20_13-00-34_UTC_2.jpg [Actress and House ambassador …] json \n"
=======
      "jacquemus\\2023-02-20_09-02-51_UTC.jpg [Which colors are you ?    “Le…] json \n"
>>>>>>> ebf267c4643fa440d8689e15803aa30a89ff8b91
     ]
    },
    {
     "name": "stderr",
     "output_type": "stream",
     "text": [
<<<<<<< HEAD
      "Downloading posts:  60%|████████████████████████████████████▎                        | 119/200 [14:30<08:48,  6.53s/it]"
=======
      "Downloading posts:  24%|██████████████▌                                              | 119/500 [20:54<49:29,  7.80s/it]"
>>>>>>> ebf267c4643fa440d8689e15803aa30a89ff8b91
     ]
    },
    {
     "name": "stdout",
     "output_type": "stream",
     "text": [
<<<<<<< HEAD
      "chanelofficial\\2023-11-20_09-00-32_UTC_1.jpg chanelofficial\\2023-11-20_09-00-32_UTC_2.jpg [Actress and House ambassador …] json \n"
=======
      "jacquemus\\2023-02-19_10-25-03_UTC_1.jpg jacquemus\\2023-02-19_10-25-03_UTC_1.mp4 jacquemus\\2023-02-19_10-25-03_UTC_2.jpg jacquemus\\2023-02-19_10-25-03_UTC_3.jpg jacquemus\\2023-02-19_10-25-03_UTC_4.jpg jacquemus\\2023-02-19_10-25-03_UTC_5.jpg jacquemus\\2023-02-19_10-25-03_UTC_6.jpg jacquemus\\2023-02-19_10-25-03_UTC_7.jpg jacquemus\\2023-02-19_10-25-03_UTC_7.mp4 jacquemus\\2023-02-19_10-25-03_UTC_8.jpg [passion ski] json \n"
>>>>>>> ebf267c4643fa440d8689e15803aa30a89ff8b91
     ]
    },
    {
     "name": "stderr",
     "output_type": "stream",
     "text": [
<<<<<<< HEAD
      "Downloading posts:  60%|████████████████████████████████████▌                        | 120/200 [14:36<08:38,  6.48s/it]"
=======
      "Downloading posts:  24%|██████████████▏                                            | 120/500 [21:09<1:02:35,  9.88s/it]"
>>>>>>> ebf267c4643fa440d8689e15803aa30a89ff8b91
     ]
    },
    {
     "name": "stdout",
     "output_type": "stream",
     "text": [
<<<<<<< HEAD
      "chanelofficial\\2023-11-18_17-00-00_UTC.jpg [Actress and House ambassador …] chanelofficial\\2023-11-18_17-00-00_UTC.mp4 json \n"
=======
      "jacquemus\\2023-02-14_17-14-03_UTC.jpg [For ever love] jacquemus\\2023-02-14_17-14-03_UTC.mp4 json \n"
>>>>>>> ebf267c4643fa440d8689e15803aa30a89ff8b91
     ]
    },
    {
     "name": "stderr",
     "output_type": "stream",
     "text": [
<<<<<<< HEAD
      "Downloading posts:  60%|████████████████████████████████████▉                        | 121/200 [14:44<09:04,  6.90s/it]"
=======
      "Downloading posts:  24%|██████████████▊                                              | 121/500 [21:14<53:24,  8.46s/it]"
>>>>>>> ebf267c4643fa440d8689e15803aa30a89ff8b91
     ]
    },
    {
     "name": "stdout",
     "output_type": "stream",
     "text": [
<<<<<<< HEAD
      "chanelofficial\\2023-11-18_13-00-00_UTC.jpg [For this eleventh edition of …] chanelofficial\\2023-11-18_13-00-00_UTC.mp4 json \n"
=======
      "jacquemus\\2023-02-14_16-49-50_UTC.jpg [Le bisou bag Jacquemus.com] json \n"
>>>>>>> ebf267c4643fa440d8689e15803aa30a89ff8b91
     ]
    },
    {
     "name": "stderr",
     "output_type": "stream",
     "text": [
<<<<<<< HEAD
      "Downloading posts:  61%|█████████████████████████████████████▏                       | 122/200 [14:52<09:13,  7.10s/it]"
=======
      "Downloading posts:  24%|██████████████▉                                              | 122/500 [21:20<47:52,  7.60s/it]"
>>>>>>> ebf267c4643fa440d8689e15803aa30a89ff8b91
     ]
    },
    {
     "name": "stdout",
     "output_type": "stream",
     "text": [
<<<<<<< HEAD
      "chanelofficial\\2023-11-18_09-00-00_UTC.jpg [The eleventh edition of the R…] chanelofficial\\2023-11-18_09-00-00_UTC.mp4 json \n"
=======
      "jacquemus\\2023-02-14_13-16-51_UTC.jpg [CAPTION THIS  Happy Valentine…] jacquemus\\2023-02-14_13-16-51_UTC.mp4 json \n"
>>>>>>> ebf267c4643fa440d8689e15803aa30a89ff8b91
     ]
    },
    {
     "name": "stderr",
     "output_type": "stream",
     "text": [
<<<<<<< HEAD
      "Downloading posts:  62%|█████████████████████████████████████▌                       | 123/200 [15:00<09:34,  7.46s/it]"
=======
      "Downloading posts:  25%|███████████████                                              | 123/500 [21:27<46:50,  7.45s/it]"
>>>>>>> ebf267c4643fa440d8689e15803aa30a89ff8b91
     ]
    },
    {
     "name": "stdout",
     "output_type": "stream",
     "text": [
<<<<<<< HEAD
      "chanelofficial\\2023-11-17_17-00-00_UTC.jpg [L.A. spirit— seizing the esse…] chanelofficial\\2023-11-17_17-00-00_UTC.mp4 json \n"
=======
      "jacquemus\\2023-02-03_18-16-04_UTC_1.jpg jacquemus\\2023-02-03_18-16-04_UTC_2.jpg jacquemus\\2023-02-03_18-16-04_UTC_3.jpg [Bonjour @kyliejenner  With ou…] json \n"
>>>>>>> ebf267c4643fa440d8689e15803aa30a89ff8b91
     ]
    },
    {
     "name": "stderr",
     "output_type": "stream",
     "text": [
<<<<<<< HEAD
      "Downloading posts:  62%|█████████████████████████████████████▊                       | 124/200 [15:09<09:55,  7.83s/it]"
=======
      "Downloading posts:  25%|███████████████▏                                             | 124/500 [21:36<49:13,  7.86s/it]"
>>>>>>> ebf267c4643fa440d8689e15803aa30a89ff8b91
     ]
    },
    {
     "name": "stdout",
     "output_type": "stream",
     "text": [
<<<<<<< HEAD
      "chanelofficial\\2023-11-17_13-00-24_UTC.jpg [A kaleidoscope of pastel pink…] json \n"
=======
      "jacquemus\\2023-01-24_16-29-25_UTC.jpg [NEW BABY ALERT!! “LE BAMBIMOU…] jacquemus\\2023-01-24_16-29-25_UTC.mp4 json \n"
>>>>>>> ebf267c4643fa440d8689e15803aa30a89ff8b91
     ]
    },
    {
     "name": "stderr",
     "output_type": "stream",
     "text": [
<<<<<<< HEAD
      "Downloading posts:  62%|██████████████████████████████████████▏                      | 125/200 [15:14<09:00,  7.21s/it]"
=======
      "Downloading posts:  25%|███████████████▎                                             | 125/500 [21:42<46:38,  7.46s/it]"
>>>>>>> ebf267c4643fa440d8689e15803aa30a89ff8b91
     ]
    },
    {
     "name": "stdout",
     "output_type": "stream",
     "text": [
<<<<<<< HEAD
      "chanelofficial\\2023-11-17_09-00-20_UTC.jpg [The scintillating energy of t…] json \n"
=======
      "jacquemus\\2023-01-16_12-35-36_UTC_1.jpg jacquemus\\2023-01-16_12-35-36_UTC_2.jpg jacquemus\\2023-01-16_12-35-36_UTC_3.jpg jacquemus\\2023-01-16_12-35-36_UTC_3.mp4 jacquemus\\2023-01-16_12-35-36_UTC_4.jpg jacquemus\\2023-01-16_12-35-36_UTC_4.mp4 jacquemus\\2023-01-16_12-35-36_UTC_5.jpg jacquemus\\2023-01-16_12-35-36_UTC_6.jpg jacquemus\\2023-01-16_12-35-36_UTC_7.jpg jacquemus\\2023-01-16_12-35-36_UTC_7.mp4 jacquemus\\2023-01-16_12-35-36_UTC_8.jpg jacquemus\\2023-01-16_12-35-36_UTC_9.jpg jacquemus\\2023-01-16_12-35-36_UTC_9.mp4 jacquemus\\2023-01-16_12-35-36_UTC_10.jpg jacquemus\\2023-01-16_12-35-36_UTC_10.mp4 [33 today. A crazy year if I l…] json \n"
>>>>>>> ebf267c4643fa440d8689e15803aa30a89ff8b91
     ]
    },
    {
     "name": "stderr",
     "output_type": "stream",
     "text": [
<<<<<<< HEAD
      "Downloading posts:  63%|██████████████████████████████████████▍                      | 126/200 [15:20<08:18,  6.74s/it]"
=======
      "Downloading posts:  25%|███████████████▎                                             | 126/500 [21:56<57:53,  9.29s/it]"
>>>>>>> ebf267c4643fa440d8689e15803aa30a89ff8b91
     ]
    },
    {
     "name": "stdout",
     "output_type": "stream",
     "text": [
<<<<<<< HEAD
      "chanelofficial\\2023-11-16_17-00-17_UTC.jpg [Model Loli-Bahia embodies the…] json \n"
=======
      "jacquemus\\2023-01-10_18-23-04_UTC.jpg [BREAKFAST at JACQUEMUS! Hungry?] jacquemus\\2023-01-10_18-23-04_UTC.mp4 json \n"
>>>>>>> ebf267c4643fa440d8689e15803aa30a89ff8b91
     ]
    },
    {
     "name": "stderr",
     "output_type": "stream",
     "text": [
<<<<<<< HEAD
      "Downloading posts:  64%|██████████████████████████████████████▋                      | 127/200 [15:26<07:52,  6.47s/it]"
=======
      "Downloading posts:  25%|███████████████▍                                             | 127/500 [22:04<55:41,  8.96s/it]"
>>>>>>> ebf267c4643fa440d8689e15803aa30a89ff8b91
     ]
    },
    {
     "name": "stdout",
     "output_type": "stream",
     "text": [
<<<<<<< HEAD
      "chanelofficial\\2023-11-16_13-00-27_UTC.jpg [Disco fever — from the beach …] json \n"
=======
      "jacquemus\\2023-01-09_18-11-44_UTC_1.jpg jacquemus\\2023-01-09_18-11-44_UTC_2.jpg jacquemus\\2023-01-09_18-11-44_UTC_3.jpg jacquemus\\2023-01-09_18-11-44_UTC_3.mp4 jacquemus\\2023-01-09_18-11-44_UTC_4.jpg jacquemus\\2023-01-09_18-11-44_UTC_4.mp4 jacquemus\\2023-01-09_18-11-44_UTC_5.jpg jacquemus\\2023-01-09_18-11-44_UTC_6.jpg jacquemus\\2023-01-09_18-11-44_UTC_6.mp4 jacquemus\\2023-01-09_18-11-44_UTC_7.jpg jacquemus\\2023-01-09_18-11-44_UTC_7.mp4 jacquemus\\2023-01-09_18-11-44_UTC_8.jpg jacquemus\\2023-01-09_18-11-44_UTC_8.mp4 jacquemus\\2023-01-09_18-11-44_UTC_9.jpg jacquemus\\2023-01-09_18-11-44_UTC_9.mp4 jacquemus\\2023-01-09_18-11-44_UTC_10.jpg [saudade Brazil 🇧🇷] json \n"
>>>>>>> ebf267c4643fa440d8689e15803aa30a89ff8b91
     ]
    },
    {
     "name": "stderr",
     "output_type": "stream",
     "text": [
<<<<<<< HEAD
      "Downloading posts:  64%|███████████████████████████████████████                      | 128/200 [15:31<07:25,  6.19s/it]"
=======
      "Downloading posts:  26%|███████████████                                            | 128/500 [22:25<1:17:41, 12.53s/it]"
>>>>>>> ebf267c4643fa440d8689e15803aa30a89ff8b91
     ]
    },
    {
     "name": "stdout",
     "output_type": "stream",
     "text": [
<<<<<<< HEAD
      "chanelofficial\\2023-11-16_09-00-15_UTC.jpg [An everlasting sunset — paste…] json \n"
=======
      "jacquemus\\2022-12-26_15-42-05_UTC_1.jpg jacquemus\\2022-12-26_15-42-05_UTC_2.jpg jacquemus\\2022-12-26_15-42-05_UTC_3.jpg jacquemus\\2022-12-26_15-42-05_UTC_4.jpg jacquemus\\2022-12-26_15-42-05_UTC_5.jpg [PAM IN PARIS! @pamelaanderson] json \n"
>>>>>>> ebf267c4643fa440d8689e15803aa30a89ff8b91
     ]
    },
    {
     "name": "stderr",
     "output_type": "stream",
     "text": [
<<<<<<< HEAD
      "Downloading posts:  64%|███████████████████████████████████████▎                     | 129/200 [15:37<07:11,  6.08s/it]"
=======
      "Downloading posts:  26%|███████████████▏                                           | 129/500 [22:33<1:09:10, 11.19s/it]"
>>>>>>> ebf267c4643fa440d8689e15803aa30a89ff8b91
     ]
    },
    {
     "name": "stdout",
     "output_type": "stream",
     "text": [
<<<<<<< HEAD
      "chanelofficial\\2023-11-15_17-00-37_UTC.jpg [Subverting the codes — for th…] json \n"
=======
      "jacquemus\\2022-12-25_17-50-51_UTC.jpg [“JOYEUX NOËL PAMELA” @pamelaa…] jacquemus\\2022-12-25_17-50-51_UTC.mp4 json \n"
>>>>>>> ebf267c4643fa440d8689e15803aa30a89ff8b91
     ]
    },
    {
     "name": "stderr",
     "output_type": "stream",
     "text": [
<<<<<<< HEAD
      "Downloading posts:  65%|███████████████████████████████████████▋                     | 130/200 [15:43<06:58,  5.98s/it]"
=======
      "Downloading posts:  26%|███████████████▊                                             | 130/500 [22:38<58:48,  9.54s/it]"
>>>>>>> ebf267c4643fa440d8689e15803aa30a89ff8b91
     ]
    },
    {
     "name": "stdout",
     "output_type": "stream",
     "text": [
<<<<<<< HEAD
      "chanelofficial\\2023-11-15_13-00-37_UTC.jpg [Californian aesthetics — the …] json \n"
=======
      "jacquemus\\2022-12-19_18-27-42_UTC.jpg [Fav look I think @vittoria fo…] jacquemus\\2022-12-19_18-27-42_UTC.mp4 json \n"
>>>>>>> ebf267c4643fa440d8689e15803aa30a89ff8b91
     ]
    },
    {
     "name": "stderr",
     "output_type": "stream",
     "text": [
<<<<<<< HEAD
      "Downloading posts:  66%|███████████████████████████████████████▉                     | 131/200 [15:49<06:46,  5.90s/it]"
=======
      "Downloading posts:  26%|███████████████▉                                             | 131/500 [22:44<52:12,  8.49s/it]"
>>>>>>> ebf267c4643fa440d8689e15803aa30a89ff8b91
     ]
    },
    {
     "name": "stdout",
     "output_type": "stream",
     "text": [
<<<<<<< HEAD
      "chanelofficial\\2023-11-15_09-00-00_UTC.jpg [The CHANEL Cruise 2023/24 col…] chanelofficial\\2023-11-15_09-00-00_UTC.mp4 json \n"
=======
      "jacquemus\\2022-12-15_16-58-55_UTC_1.jpg jacquemus\\2022-12-15_16-58-55_UTC_2.jpg jacquemus\\2022-12-15_16-58-55_UTC_3.jpg jacquemus\\2022-12-15_16-58-55_UTC_4.jpg jacquemus\\2022-12-15_16-58-55_UTC_5.jpg jacquemus\\2022-12-15_16-58-55_UTC_6.jpg jacquemus\\2022-12-15_16-58-55_UTC_7.jpg jacquemus\\2022-12-15_16-58-55_UTC_8.jpg jacquemus\\2022-12-15_16-58-55_UTC_9.jpg jacquemus\\2022-12-15_16-58-55_UTC_10.jpg [Which bags!? Bisous] json \n"
>>>>>>> ebf267c4643fa440d8689e15803aa30a89ff8b91
     ]
    },
    {
     "name": "stderr",
     "output_type": "stream",
     "text": [
<<<<<<< HEAD
      "Downloading posts:  66%|████████████████████████████████████████▎                    | 132/200 [15:57<07:35,  6.70s/it]"
=======
      "Downloading posts:  26%|████████████████                                             | 132/500 [22:56<58:20,  9.51s/it]"
>>>>>>> ebf267c4643fa440d8689e15803aa30a89ff8b91
     ]
    },
    {
     "name": "stdout",
     "output_type": "stream",
     "text": [
<<<<<<< HEAD
      "chanelofficial\\2023-11-14_23-06-19_UTC.jpg [Spotlight on \"Chiroptera\", a …] chanelofficial\\2023-11-14_23-06-19_UTC.mp4 json \n"
=======
      "jacquemus\\2022-12-15_10-32-09_UTC_1.jpg jacquemus\\2022-12-15_10-32-09_UTC_2.jpg jacquemus\\2022-12-15_10-32-09_UTC_3.jpg jacquemus\\2022-12-15_10-32-09_UTC_4.jpg jacquemus\\2022-12-15_10-32-09_UTC_5.jpg jacquemus\\2022-12-15_10-32-09_UTC_6.jpg [Might delete later] json \n"
>>>>>>> ebf267c4643fa440d8689e15803aa30a89ff8b91
     ]
    },
    {
     "name": "stderr",
     "output_type": "stream",
     "text": [
<<<<<<< HEAD
      "Downloading posts:  66%|████████████████████████████████████████▌                    | 133/200 [16:07<08:24,  7.52s/it]"
=======
      "Downloading posts:  27%|████████████████▏                                            | 133/500 [23:04<53:52,  8.81s/it]"
>>>>>>> ebf267c4643fa440d8689e15803aa30a89ff8b91
     ]
    },
    {
     "name": "stdout",
     "output_type": "stream",
     "text": [
<<<<<<< HEAD
      "chanelofficial\\2023-11-14_09-00-17_UTC_1.jpg chanelofficial\\2023-11-14_09-00-17_UTC_2.jpg chanelofficial\\2023-11-14_09-00-17_UTC_3.jpg chanelofficial\\2023-11-14_09-00-17_UTC_4.jpg chanelofficial\\2023-11-14_09-00-17_UTC_5.jpg chanelofficial\\2023-11-14_09-00-17_UTC_6.jpg chanelofficial\\2023-11-14_09-00-17_UTC_7.jpg chanelofficial\\2023-11-14_09-00-17_UTC_8.jpg [Spotlight on \"Chiroptera\", a …] json \n"
=======
      "jacquemus\\2022-12-14_14-11-15_UTC_1.jpg jacquemus\\2022-12-14_14-11-15_UTC_2.jpg jacquemus\\2022-12-14_14-11-15_UTC_3.jpg jacquemus\\2022-12-14_14-11-15_UTC_4.jpg jacquemus\\2022-12-14_14-11-15_UTC_5.jpg jacquemus\\2022-12-14_14-11-15_UTC_6.jpg jacquemus\\2022-12-14_14-11-15_UTC_7.jpg jacquemus\\2022-12-14_14-11-15_UTC_8.jpg jacquemus\\2022-12-14_14-11-15_UTC_9.jpg jacquemus\\2022-12-14_14-11-15_UTC_10.jpg [« LE RAPHIA » Details] json \n"
>>>>>>> ebf267c4643fa440d8689e15803aa30a89ff8b91
     ]
    },
    {
     "name": "stderr",
     "output_type": "stream",
     "text": [
<<<<<<< HEAD
      "Downloading posts:  67%|████████████████████████████████████████▊                    | 134/200 [16:17<09:17,  8.45s/it]"
=======
      "Downloading posts:  27%|████████████████▎                                            | 134/500 [23:14<56:29,  9.26s/it]"
>>>>>>> ebf267c4643fa440d8689e15803aa30a89ff8b91
     ]
    },
    {
     "name": "stdout",
     "output_type": "stream",
     "text": [
<<<<<<< HEAD
      "chanelofficial\\2023-11-13_20-49-17_UTC.jpg [Behind the scenes of \"Chiropt…] chanelofficial\\2023-11-13_20-49-17_UTC.mp4 json \n"
=======
      "jacquemus\\2022-12-13_16-23-47_UTC.jpg [“LE RAPHIA” Merci for yesterday] jacquemus\\2022-12-13_16-23-47_UTC.mp4 json \n"
>>>>>>> ebf267c4643fa440d8689e15803aa30a89ff8b91
     ]
    },
    {
     "name": "stderr",
     "output_type": "stream",
     "text": [
<<<<<<< HEAD
      "Downloading posts:  68%|█████████████████████████████████████████▏                   | 135/200 [16:26<09:16,  8.57s/it]"
=======
      "Downloading posts:  27%|████████████████▍                                            | 135/500 [23:21<51:49,  8.52s/it]"
>>>>>>> ebf267c4643fa440d8689e15803aa30a89ff8b91
     ]
    },
    {
     "name": "stdout",
     "output_type": "stream",
     "text": [
<<<<<<< HEAD
      "chanelofficial\\2023-11-12_17-56-53_UTC_1.jpg chanelofficial\\2023-11-12_17-56-53_UTC_2.jpg [Give Wonder, Give CHANEL.  Th…] json \n"
=======
      "jacquemus\\2022-12-13_13-54-08_UTC_1.jpg jacquemus\\2022-12-13_13-54-08_UTC_2.jpg jacquemus\\2022-12-13_13-54-08_UTC_3.jpg jacquemus\\2022-12-13_13-54-08_UTC_4.jpg jacquemus\\2022-12-13_13-54-08_UTC_5.jpg jacquemus\\2022-12-13_13-54-08_UTC_6.jpg jacquemus\\2022-12-13_13-54-08_UTC_7.jpg jacquemus\\2022-12-13_13-54-08_UTC_8.jpg jacquemus\\2022-12-13_13-54-08_UTC_9.jpg jacquemus\\2022-12-13_13-54-08_UTC_10.jpg [“LE RAPHIA” Side view] json \n"
>>>>>>> ebf267c4643fa440d8689e15803aa30a89ff8b91
     ]
    },
    {
     "name": "stderr",
     "output_type": "stream",
     "text": [
<<<<<<< HEAD
      "Downloading posts:  68%|█████████████████████████████████████████▍                   | 136/200 [16:32<08:21,  7.84s/it]"
=======
      "Downloading posts:  27%|████████████████                                           | 136/500 [23:34<1:01:07, 10.07s/it]"
>>>>>>> ebf267c4643fa440d8689e15803aa30a89ff8b91
     ]
    },
    {
     "name": "stdout",
     "output_type": "stream",
     "text": [
<<<<<<< HEAD
      "chanelofficial\\2023-11-12_14-06-54_UTC.jpg [Find your dream gift.  COCO C…] chanelofficial\\2023-11-12_14-06-54_UTC.mp4 json \n"
=======
      "jacquemus\\2022-12-13_10-59-04_UTC.jpg [“LE RAPHIA” A dream 🤍] jacquemus\\2022-12-13_10-59-04_UTC.mp4 json \n"
>>>>>>> ebf267c4643fa440d8689e15803aa30a89ff8b91
     ]
    },
    {
     "name": "stderr",
     "output_type": "stream",
     "text": [
<<<<<<< HEAD
      "Downloading posts:  68%|█████████████████████████████████████████▊                   | 137/200 [16:39<07:49,  7.45s/it]"
=======
      "Downloading posts:  27%|████████████████▋                                            | 137/500 [23:41<54:57,  9.09s/it]"
>>>>>>> ebf267c4643fa440d8689e15803aa30a89ff8b91
     ]
    },
    {
     "name": "stdout",
     "output_type": "stream",
     "text": [
<<<<<<< HEAD
      "chanelofficial\\2023-11-12_09-51-26_UTC_1.jpg chanelofficial\\2023-11-12_09-51-26_UTC_2.jpg [Give Wonder, Give CHANEL.  Th…] json \n"
=======
      "jacquemus\\2022-12-12_19-29-11_UTC_1.jpg jacquemus\\2022-12-12_19-29-11_UTC_2.jpg jacquemus\\2022-12-12_19-29-11_UTC_3.jpg jacquemus\\2022-12-12_19-29-11_UTC_4.jpg jacquemus\\2022-12-12_19-29-11_UTC_5.jpg jacquemus\\2022-12-12_19-29-11_UTC_6.jpg jacquemus\\2022-12-12_19-29-11_UTC_7.jpg jacquemus\\2022-12-12_19-29-11_UTC_8.jpg jacquemus\\2022-12-12_19-29-11_UTC_9.jpg jacquemus\\2022-12-12_19-29-11_UTC_10.jpg [“Le raphia” 💞] json \n"
>>>>>>> ebf267c4643fa440d8689e15803aa30a89ff8b91
     ]
    },
    {
     "name": "stderr",
     "output_type": "stream",
     "text": [
<<<<<<< HEAD
      "Downloading posts:  69%|██████████████████████████████████████████                   | 138/200 [16:45<07:19,  7.09s/it]"
=======
      "Downloading posts:  28%|████████████████▎                                          | 138/500 [23:54<1:01:19, 10.16s/it]"
>>>>>>> ebf267c4643fa440d8689e15803aa30a89ff8b91
     ]
    },
    {
     "name": "stdout",
     "output_type": "stream",
     "text": [
<<<<<<< HEAD
      "chanelofficial\\2023-11-11_17-54-10_UTC_1.jpg chanelofficial\\2023-11-11_17-54-10_UTC_2.jpg [Find your dream gift.  This h…] json \n"
=======
      "jacquemus\\2022-12-12_18-43-14_UTC.jpg [“LE RAPHIA” Hope you like it …] jacquemus\\2022-12-12_18-43-14_UTC.mp4 json \n"
>>>>>>> ebf267c4643fa440d8689e15803aa30a89ff8b91
     ]
    },
    {
     "name": "stderr",
     "output_type": "stream",
     "text": [
<<<<<<< HEAD
      "Downloading posts:  70%|██████████████████████████████████████████▍                  | 139/200 [16:52<07:02,  6.93s/it]"
=======
      "Downloading posts:  28%|████████████████▍                                          | 139/500 [24:12<1:16:25, 12.70s/it]"
>>>>>>> ebf267c4643fa440d8689e15803aa30a89ff8b91
     ]
    },
    {
     "name": "stdout",
     "output_type": "stream",
     "text": [
<<<<<<< HEAD
      "chanelofficial\\2023-11-11_13-51-38_UTC.jpg [Find your dream gift.  This h…] json \n"
=======
      "jacquemus\\2022-12-12_16-10-45_UTC.jpg [BONJOUR! Guests arriving to t…] jacquemus\\2022-12-12_16-10-45_UTC.mp4 json \n"
>>>>>>> ebf267c4643fa440d8689e15803aa30a89ff8b91
     ]
    },
    {
     "name": "stderr",
     "output_type": "stream",
     "text": [
<<<<<<< HEAD
      "Downloading posts:  70%|██████████████████████████████████████████▋                  | 140/200 [16:57<06:32,  6.54s/it]"
=======
      "Downloading posts:  28%|████████████████▌                                          | 140/500 [24:17<1:00:48, 10.13s/it]"
>>>>>>> ebf267c4643fa440d8689e15803aa30a89ff8b91
     ]
    },
    {
     "name": "stdout",
     "output_type": "stream",
     "text": [
<<<<<<< HEAD
      "chanelofficial\\2023-11-11_10-04-18_UTC.jpg [Find your dream gift.  COCO C…] chanelofficial\\2023-11-11_10-04-18_UTC.mp4 json \n"
=======
      "jacquemus\\2022-12-12_15-38-39_UTC_1.jpg jacquemus\\2022-12-12_15-38-39_UTC_2.jpg jacquemus\\2022-12-12_15-38-39_UTC_3.jpg jacquemus\\2022-12-12_15-38-39_UTC_4.jpg jacquemus\\2022-12-12_15-38-39_UTC_5.jpg jacquemus\\2022-12-12_15-38-39_UTC_6.jpg jacquemus\\2022-12-12_15-38-39_UTC_7.jpg jacquemus\\2022-12-12_15-38-39_UTC_8.jpg jacquemus\\2022-12-12_15-38-39_UTC_9.jpg [“LE RAPHIA” Love you 🥺💞] json \n"
>>>>>>> ebf267c4643fa440d8689e15803aa30a89ff8b91
     ]
    },
    {
     "name": "stderr",
     "output_type": "stream",
     "text": [
<<<<<<< HEAD
      "Downloading posts:  70%|███████████████████████████████████████████                  | 141/200 [17:05<06:52,  6.99s/it]"
=======
      "Downloading posts:  28%|████████████████▋                                          | 141/500 [24:27<1:00:48, 10.16s/it]"
>>>>>>> ebf267c4643fa440d8689e15803aa30a89ff8b91
     ]
    },
    {
     "name": "stdout",
     "output_type": "stream",
     "text": [
<<<<<<< HEAD
      "chanelofficial\\2023-11-10_19-18-09_UTC_1.jpg chanelofficial\\2023-11-10_19-18-09_UTC_2.jpg chanelofficial\\2023-11-10_19-18-09_UTC_3.jpg [Give wonder, give CHANEL. ",
      "Thi…] json \n"
=======
      "jacquemus\\2022-12-09_18-30-43_UTC.jpg [See you this Monday for our n…] jacquemus\\2022-12-09_18-30-43_UTC.mp4 json \n"
>>>>>>> ebf267c4643fa440d8689e15803aa30a89ff8b91
     ]
    },
    {
     "name": "stderr",
     "output_type": "stream",
     "text": [
<<<<<<< HEAD
      "Downloading posts:  71%|███████████████████████████████████████████▎                 | 142/200 [17:12<06:44,  6.97s/it]"
=======
      "Downloading posts:  28%|█████████████████▎                                           | 142/500 [24:35<56:56,  9.54s/it]"
>>>>>>> ebf267c4643fa440d8689e15803aa30a89ff8b91
     ]
    },
    {
     "name": "stdout",
     "output_type": "stream",
     "text": [
<<<<<<< HEAD
      "chanelofficial\\2023-11-10_14-51-14_UTC.jpg [Welcome to CHANEL WONDERLAND.…] json \n"
=======
      "jacquemus\\2022-12-07_14-20-40_UTC.jpg [Tag someone 🙃] jacquemus\\2022-12-07_14-20-40_UTC.mp4 json \n"
>>>>>>> ebf267c4643fa440d8689e15803aa30a89ff8b91
     ]
    },
    {
     "name": "stderr",
     "output_type": "stream",
     "text": [
<<<<<<< HEAD
      "Downloading posts:  72%|███████████████████████████████████████████▌                 | 143/200 [17:18<06:14,  6.57s/it]"
=======
      "Downloading posts:  29%|█████████████████▍                                           | 143/500 [24:41<50:34,  8.50s/it]"
>>>>>>> ebf267c4643fa440d8689e15803aa30a89ff8b91
     ]
    },
    {
     "name": "stdout",
     "output_type": "stream",
     "text": [
<<<<<<< HEAD
      "chanelofficial\\2023-11-10_10-48-16_UTC.jpg [Welcome to CHANEL WONDERLAND.…] chanelofficial\\2023-11-10_10-48-16_UTC.mp4 json \n"
=======
      "jacquemus\\2022-12-06_11-31-09_UTC.jpg [TÉLÉ SHOPPING BONUS Staring @…] jacquemus\\2022-12-06_11-31-09_UTC.mp4 json \n"
>>>>>>> ebf267c4643fa440d8689e15803aa30a89ff8b91
     ]
    },
    {
     "name": "stderr",
     "output_type": "stream",
     "text": [
<<<<<<< HEAD
      "Downloading posts:  72%|███████████████████████████████████████████▉                 | 144/200 [17:25<06:21,  6.80s/it]"
=======
      "Downloading posts:  29%|█████████████████▌                                           | 144/500 [24:50<50:51,  8.57s/it]"
>>>>>>> ebf267c4643fa440d8689e15803aa30a89ff8b91
     ]
    },
    {
     "name": "stdout",
     "output_type": "stream",
     "text": [
<<<<<<< HEAD
      "chanelofficial\\2023-11-09_17-19-46_UTC_1.jpg chanelofficial\\2023-11-09_17-19-46_UTC_2.jpg [N°5 Parfum, the epitome of fe…] json \n"
=======
      "jacquemus\\2022-12-05_12-54-05_UTC_1.jpg jacquemus\\2022-12-05_12-54-05_UTC_2.jpg jacquemus\\2022-12-05_12-54-05_UTC_3.jpg jacquemus\\2022-12-05_12-54-05_UTC_4.jpg jacquemus\\2022-12-05_12-54-05_UTC_5.jpg jacquemus\\2022-12-05_12-54-05_UTC_6.jpg [PINK HUMARA JACQUEMUS + NIKE …] json \n"
>>>>>>> ebf267c4643fa440d8689e15803aa30a89ff8b91
     ]
    },
    {
     "name": "stderr",
     "output_type": "stream",
     "text": [
<<<<<<< HEAD
      "Downloading posts:  72%|████████████████████████████████████████████▏                | 145/200 [17:32<06:06,  6.67s/it]"
=======
      "Downloading posts:  29%|█████████████████▋                                           | 145/500 [24:58<49:35,  8.38s/it]"
>>>>>>> ebf267c4643fa440d8689e15803aa30a89ff8b91
     ]
    },
    {
     "name": "stdout",
     "output_type": "stream",
     "text": [
<<<<<<< HEAD
      "chanelofficial\\2023-11-09_13-10-22_UTC.jpg [Behind the scenes  Go behind …] chanelofficial\\2023-11-09_13-10-22_UTC.mp4 json \n"
=======
      "jacquemus\\2022-12-05_10-55-29_UTC.jpg [MONDAY  JACQUEMUS + NIKE  Pin…] jacquemus\\2022-12-05_10-55-29_UTC.mp4 json \n"
>>>>>>> ebf267c4643fa440d8689e15803aa30a89ff8b91
     ]
    },
    {
     "name": "stderr",
     "output_type": "stream",
     "text": [
<<<<<<< HEAD
      "Downloading posts:  73%|████████████████████████████████████████████▌                | 146/200 [17:40<06:31,  7.25s/it]"
=======
      "Downloading posts:  29%|█████████████████▊                                           | 146/500 [25:02<42:06,  7.14s/it]"
>>>>>>> ebf267c4643fa440d8689e15803aa30a89ff8b91
     ]
    },
    {
     "name": "stdout",
     "output_type": "stream",
     "text": [
<<<<<<< HEAD
      "chanelofficial\\2023-11-09_09-02-28_UTC.jpg [Make the holidays magical wit…] json \n"
=======
      "jacquemus\\2022-12-04_17-55-40_UTC.jpg [Champagne?] jacquemus\\2022-12-04_17-55-40_UTC.mp4 json \n"
>>>>>>> ebf267c4643fa440d8689e15803aa30a89ff8b91
     ]
    },
    {
     "name": "stderr",
     "output_type": "stream",
     "text": [
<<<<<<< HEAD
      "Downloading posts:  74%|████████████████████████████████████████████▊                | 147/200 [17:46<05:56,  6.73s/it]"
=======
      "Downloading posts:  29%|█████████████████▉                                           | 147/500 [25:08<40:17,  6.85s/it]"
>>>>>>> ebf267c4643fa440d8689e15803aa30a89ff8b91
     ]
    },
    {
     "name": "stdout",
     "output_type": "stream",
     "text": [
<<<<<<< HEAD
      "chanelofficial\\2023-11-05_17-00-39_UTC.jpg [Inspiring the CHANEL Cruise 2…] chanelofficial\\2023-11-05_17-00-39_UTC.mp4 json \n"
=======
      "jacquemus\\2022-12-03_10-44-02_UTC.jpg [In bed, Saturday] jacquemus\\2022-12-03_10-44-02_UTC.mp4 json \n"
>>>>>>> ebf267c4643fa440d8689e15803aa30a89ff8b91
     ]
    },
    {
     "name": "stderr",
     "output_type": "stream",
     "text": [
<<<<<<< HEAD
      "Downloading posts:  74%|█████████████████████████████████████████████▏               | 148/200 [17:55<06:23,  7.37s/it]"
=======
      "Downloading posts:  30%|██████████████████                                           | 148/500 [25:13<37:37,  6.41s/it]"
>>>>>>> ebf267c4643fa440d8689e15803aa30a89ff8b91
     ]
    },
    {
     "name": "stdout",
     "output_type": "stream",
     "text": [
<<<<<<< HEAD
      "chanelofficial\\2023-11-05_11-02-35_UTC_1.jpg chanelofficial\\2023-11-05_11-02-35_UTC_2.jpg chanelofficial\\2023-11-05_11-02-35_UTC_3.jpg chanelofficial\\2023-11-05_11-02-35_UTC_4.jpg chanelofficial\\2023-11-05_11-02-35_UTC_5.jpg chanelofficial\\2023-11-05_11-02-35_UTC_6.jpg chanelofficial\\2023-11-05_11-02-35_UTC_7.jpg chanelofficial\\2023-11-05_11-02-35_UTC_8.jpg chanelofficial\\2023-11-05_11-02-35_UTC_9.jpg chanelofficial\\2023-11-05_11-02-35_UTC_10.jpg [Ambassadors and friends of th…] json \n"
=======
      "jacquemus\\2022-11-30_20-49-07_UTC.jpg [Backstage 🤍 JACQUEMUS + TEKLA] jacquemus\\2022-11-30_20-49-07_UTC.mp4 json \n"
>>>>>>> ebf267c4643fa440d8689e15803aa30a89ff8b91
     ]
    },
    {
     "name": "stderr",
     "output_type": "stream",
     "text": [
<<<<<<< HEAD
      "Downloading posts:  74%|█████████████████████████████████████████████▍               | 149/200 [18:05<07:00,  8.25s/it]"
=======
      "Downloading posts:  30%|██████████████████▏                                          | 149/500 [25:21<39:47,  6.80s/it]"
>>>>>>> ebf267c4643fa440d8689e15803aa30a89ff8b91
     ]
    },
    {
     "name": "stdout",
     "output_type": "stream",
     "text": [
<<<<<<< HEAD
      "chanelofficial\\2023-11-04_17-03-40_UTC.jpg [On the occasion of the CHANEL…] chanelofficial\\2023-11-04_17-03-40_UTC.mp4 json \n"
=======
      "jacquemus\\2022-11-30_16-58-45_UTC_1.jpg jacquemus\\2022-11-30_16-58-45_UTC_2.jpg jacquemus\\2022-11-30_16-58-45_UTC_3.jpg jacquemus\\2022-11-30_16-58-45_UTC_4.jpg jacquemus\\2022-11-30_16-58-45_UTC_5.jpg jacquemus\\2022-11-30_16-58-45_UTC_5.mp4 jacquemus\\2022-11-30_16-58-45_UTC_6.jpg jacquemus\\2022-11-30_16-58-45_UTC_7.jpg jacquemus\\2022-11-30_16-58-45_UTC_8.jpg jacquemus\\2022-11-30_16-58-45_UTC_9.jpg jacquemus\\2022-11-30_16-58-45_UTC_10.jpg [« IN BED WITH » JACQUEMUS + T…] json \n"
>>>>>>> ebf267c4643fa440d8689e15803aa30a89ff8b91
     ]
    },
    {
     "name": "stderr",
     "output_type": "stream",
     "text": [
<<<<<<< HEAD
      "Downloading posts:  75%|█████████████████████████████████████████████▊               | 150/200 [18:15<07:15,  8.70s/it]"
=======
      "Downloading posts:  30%|██████████████████▎                                          | 150/500 [25:32<46:58,  8.05s/it]"
>>>>>>> ebf267c4643fa440d8689e15803aa30a89ff8b91
     ]
    },
    {
     "name": "stdout",
     "output_type": "stream",
     "text": [
<<<<<<< HEAD
      "chanelofficial\\2023-11-04_09-35-49_UTC.jpg [From L.A. to Shenzhen, fashio…] chanelofficial\\2023-11-04_09-35-49_UTC.mp4 json \n"
=======
      "jacquemus\\2022-11-28_16-55-08_UTC.jpg [JACQUEMUS + TEKLA “IN THE BED…] jacquemus\\2022-11-28_16-55-08_UTC.mp4 json \n"
>>>>>>> ebf267c4643fa440d8689e15803aa30a89ff8b91
     ]
    },
    {
     "name": "stderr",
     "output_type": "stream",
     "text": [
<<<<<<< HEAD
      "Downloading posts:  76%|██████████████████████████████████████████████               | 151/200 [18:26<07:51,  9.62s/it]"
=======
      "Downloading posts:  30%|██████████████████▍                                          | 151/500 [25:42<49:10,  8.46s/it]"
>>>>>>> ebf267c4643fa440d8689e15803aa30a89ff8b91
     ]
    },
    {
     "name": "stdout",
     "output_type": "stream",
     "text": [
<<<<<<< HEAD
      "chanelofficial\\2023-11-03_17-40-51_UTC_1.jpg chanelofficial\\2023-11-03_17-40-51_UTC_2.jpg chanelofficial\\2023-11-03_17-40-51_UTC_3.jpg chanelofficial\\2023-11-03_17-40-51_UTC_4.jpg chanelofficial\\2023-11-03_17-40-51_UTC_5.jpg chanelofficial\\2023-11-03_17-40-51_UTC_6.jpg chanelofficial\\2023-11-03_17-40-51_UTC_7.jpg chanelofficial\\2023-11-03_17-40-51_UTC_8.jpg chanelofficial\\2023-11-03_17-40-51_UTC_9.jpg chanelofficial\\2023-11-03_17-40-51_UTC_10.jpg [An ode to the City of Angels …] json \n"
=======
      "jacquemus\\2022-11-16_19-24-49_UTC.jpg [Central Cee, by Oliver  « NEV…] jacquemus\\2022-11-16_19-24-49_UTC.mp4 json \n"
>>>>>>> ebf267c4643fa440d8689e15803aa30a89ff8b91
     ]
    },
    {
     "name": "stderr",
     "output_type": "stream",
     "text": [
<<<<<<< HEAD
      "Downloading posts:  76%|██████████████████████████████████████████████▎              | 152/200 [18:36<07:47,  9.74s/it]"
=======
      "Downloading posts:  30%|██████████████████▌                                          | 152/500 [25:47<43:16,  7.46s/it]"
>>>>>>> ebf267c4643fa440d8689e15803aa30a89ff8b91
     ]
    },
    {
     "name": "stdout",
     "output_type": "stream",
     "text": [
<<<<<<< HEAD
      "chanelofficial\\2023-11-03_10-29-58_UTC.jpg [First unveiled in Los Angeles…] chanelofficial\\2023-11-03_10-29-58_UTC.mp4 json \n"
=======
      "jacquemus\\2022-11-16_17-02-55_UTC_1.jpg jacquemus\\2022-11-16_17-02-55_UTC_2.jpg jacquemus\\2022-11-16_17-02-55_UTC_3.jpg jacquemus\\2022-11-16_17-02-55_UTC_4.jpg jacquemus\\2022-11-16_17-02-55_UTC_5.jpg jacquemus\\2022-11-16_17-02-55_UTC_6.jpg jacquemus\\2022-11-16_17-02-55_UTC_7.jpg jacquemus\\2022-11-16_17-02-55_UTC_8.jpg jacquemus\\2022-11-16_17-02-55_UTC_9.jpg jacquemus\\2022-11-16_17-02-55_UTC_10.jpg [Central Cee, by Oliver  « NEV…] json \n"
>>>>>>> ebf267c4643fa440d8689e15803aa30a89ff8b91
     ]
    },
    {
     "name": "stderr",
     "output_type": "stream",
     "text": [
<<<<<<< HEAD
      "Downloading posts:  76%|██████████████████████████████████████████████▋              | 153/200 [18:45<07:14,  9.24s/it]"
=======
      "Downloading posts:  31%|██████████████████▋                                          | 153/500 [26:00<54:04,  9.35s/it]"
>>>>>>> ebf267c4643fa440d8689e15803aa30a89ff8b91
     ]
    },
    {
     "name": "stdout",
     "output_type": "stream",
     "text": [
<<<<<<< HEAD
      "chanelofficial\\2023-10-31_18-35-43_UTC_1.jpg chanelofficial\\2023-10-31_18-35-43_UTC_2.jpg chanelofficial\\2023-10-31_18-35-43_UTC_3.jpg chanelofficial\\2023-10-31_18-35-43_UTC_4.jpg chanelofficial\\2023-10-31_18-35-43_UTC_5.jpg chanelofficial\\2023-10-31_18-35-43_UTC_6.jpg chanelofficial\\2023-10-31_18-35-43_UTC_7.jpg [The COCO MADEMOISELLE campaig…] json \n"
=======
      "jacquemus\\2022-11-11_17-55-54_UTC.jpg [Just Tina…. 🫠🥹 @tinakunakey] jacquemus\\2022-11-11_17-55-54_UTC.mp4 json \n"
>>>>>>> ebf267c4643fa440d8689e15803aa30a89ff8b91
     ]
    },
    {
     "name": "stderr",
     "output_type": "stream",
     "text": [
<<<<<<< HEAD
      "Downloading posts:  77%|██████████████████████████████████████████████▉              | 154/200 [18:53<07:01,  9.16s/it]"
=======
      "Downloading posts:  31%|██████████████████▊                                          | 154/500 [26:07<48:26,  8.40s/it]"
>>>>>>> ebf267c4643fa440d8689e15803aa30a89ff8b91
     ]
    },
    {
     "name": "stdout",
     "output_type": "stream",
     "text": [
<<<<<<< HEAD
      "chanelofficial\\2023-10-31_11-41-49_UTC.jpg [COCO MADEMOISELLE.  The essen…] json \n"
=======
      "jacquemus\\2022-11-06_11-00-49_UTC.jpg [WEIRD SUNDAY, Please caption …] jacquemus\\2022-11-06_11-00-49_UTC.mp4 json \n"
>>>>>>> ebf267c4643fa440d8689e15803aa30a89ff8b91
     ]
    },
    {
     "name": "stderr",
     "output_type": "stream",
     "text": [
<<<<<<< HEAD
      "Downloading posts:  78%|███████████████████████████████████████████████▎             | 155/200 [18:59<06:02,  8.06s/it]"
=======
      "Downloading posts:  31%|██████████████████▉                                          | 155/500 [26:12<42:37,  7.41s/it]"
>>>>>>> ebf267c4643fa440d8689e15803aa30a89ff8b91
     ]
    },
    {
     "name": "stdout",
     "output_type": "stream",
     "text": [
<<<<<<< HEAD
      "chanelofficial\\2023-10-31_07-59-56_UTC.jpg [COCO MADEMOISELLE. The essenc…] chanelofficial\\2023-10-31_07-59-56_UTC.mp4 json \n"
=======
      "jacquemus\\2022-10-18_15-31-34_UTC_1.jpg jacquemus\\2022-10-18_15-31-34_UTC_2.jpg jacquemus\\2022-10-18_15-31-34_UTC_3.jpg jacquemus\\2022-10-18_15-31-34_UTC_4.jpg jacquemus\\2022-10-18_15-31-34_UTC_5.jpg jacquemus\\2022-10-18_15-31-34_UTC_6.jpg jacquemus\\2022-10-18_15-31-34_UTC_7.jpg [“TERRACRUDA”  Our first bags …] json \n"
>>>>>>> ebf267c4643fa440d8689e15803aa30a89ff8b91
     ]
    },
    {
     "name": "stderr",
     "output_type": "stream",
     "text": [
<<<<<<< HEAD
      "Downloading posts:  78%|███████████████████████████████████████████████▌             | 156/200 [19:06<05:44,  7.83s/it]"
=======
      "Downloading posts:  31%|███████████████████                                          | 156/500 [26:19<42:24,  7.40s/it]"
>>>>>>> ebf267c4643fa440d8689e15803aa30a89ff8b91
     ]
    },
    {
     "name": "stdout",
     "output_type": "stream",
     "text": [
<<<<<<< HEAD
      "chanelofficial\\2023-10-30_17-34-53_UTC.jpg [COCO MADEMOISELLE. The essenc…] chanelofficial\\2023-10-30_17-34-53_UTC.mp4 json \n"
=======
      "jacquemus\\2022-10-17_14-56-43_UTC_1.jpg jacquemus\\2022-10-17_14-56-43_UTC_2.jpg jacquemus\\2022-10-17_14-56-43_UTC_3.jpg jacquemus\\2022-10-17_14-56-43_UTC_4.jpg jacquemus\\2022-10-17_14-56-43_UTC_5.jpg jacquemus\\2022-10-17_14-56-43_UTC_6.jpg jacquemus\\2022-10-17_14-56-43_UTC_7.jpg jacquemus\\2022-10-17_14-56-43_UTC_8.jpg jacquemus\\2022-10-17_14-56-43_UTC_9.jpg jacquemus\\2022-10-17_14-56-43_UTC_10.jpg [« PILLOW »   Our new Galerie …] json \n"
>>>>>>> ebf267c4643fa440d8689e15803aa30a89ff8b91
     ]
    },
    {
     "name": "stderr",
     "output_type": "stream",
     "text": [
<<<<<<< HEAD
      "Downloading posts:  78%|███████████████████████████████████████████████▉             | 157/200 [19:15<05:51,  8.17s/it]"
=======
      "Downloading posts:  31%|███████████████████▏                                         | 157/500 [26:30<48:07,  8.42s/it]"
>>>>>>> ebf267c4643fa440d8689e15803aa30a89ff8b91
     ]
    },
    {
     "name": "stdout",
     "output_type": "stream",
     "text": [
<<<<<<< HEAD
      "chanelofficial\\2023-10-30_11-56-42_UTC.jpg [Who are you COCO MADEMOISELLE…] json \n"
=======
      "jacquemus\\2022-10-05_17-54-00_UTC.jpg [THE DREAM STARTS WHEN YOU STA…] json \n"
>>>>>>> ebf267c4643fa440d8689e15803aa30a89ff8b91
     ]
    },
    {
     "name": "stderr",
     "output_type": "stream",
     "text": [
<<<<<<< HEAD
      "Downloading posts:  79%|████████████████████████████████████████████████▏            | 158/200 [19:21<05:10,  7.38s/it]"
=======
      "Downloading posts:  32%|███████████████████▎                                         | 158/500 [26:32<38:02,  6.68s/it]"
>>>>>>> ebf267c4643fa440d8689e15803aa30a89ff8b91
     ]
    },
    {
     "name": "stdout",
     "output_type": "stream",
     "text": [
<<<<<<< HEAD
      "chanelofficial\\2023-10-30_08-17-08_UTC.jpg [COCO MADEMOISELLE. The essenc…] chanelofficial\\2023-10-30_08-17-08_UTC.mp4 json \n"
=======
      "jacquemus\\2022-10-05_15-58-49_UTC_1.jpg jacquemus\\2022-10-05_15-58-49_UTC_2.jpg jacquemus\\2022-10-05_15-58-49_UTC_3.jpg jacquemus\\2022-10-05_15-58-49_UTC_4.jpg jacquemus\\2022-10-05_15-58-49_UTC_5.jpg jacquemus\\2022-10-05_15-58-49_UTC_6.jpg jacquemus\\2022-10-05_15-58-49_UTC_7.jpg jacquemus\\2022-10-05_15-58-49_UTC_8.jpg jacquemus\\2022-10-05_15-58-49_UTC_9.jpg jacquemus\\2022-10-05_15-58-49_UTC_10.jpg [« LE PAPIER » Jacquemus.com] json \n"
>>>>>>> ebf267c4643fa440d8689e15803aa30a89ff8b91
     ]
    },
    {
     "name": "stderr",
     "output_type": "stream",
     "text": [
<<<<<<< HEAD
      "Downloading posts:  80%|████████████████████████████████████████████████▍            | 159/200 [19:28<05:01,  7.35s/it]"
=======
      "Downloading posts:  32%|███████████████████▍                                         | 159/500 [26:45<48:26,  8.52s/it]"
>>>>>>> ebf267c4643fa440d8689e15803aa30a89ff8b91
     ]
    },
    {
     "name": "stdout",
     "output_type": "stream",
     "text": [
<<<<<<< HEAD
      "chanelofficial\\2023-10-29_18-41-57_UTC.jpg [COCO MADEMOISELLE. The essenc…] chanelofficial\\2023-10-29_18-41-57_UTC.mp4 json \n"
=======
      "jacquemus\\2022-09-28_15-05-13_UTC_1.jpg jacquemus\\2022-09-28_15-05-13_UTC_2.jpg jacquemus\\2022-09-28_15-05-13_UTC_3.jpg jacquemus\\2022-09-28_15-05-13_UTC_4.jpg jacquemus\\2022-09-28_15-05-13_UTC_5.jpg jacquemus\\2022-09-28_15-05-13_UTC_6.jpg jacquemus\\2022-09-28_15-05-13_UTC_7.jpg jacquemus\\2022-09-28_15-05-13_UTC_8.jpg jacquemus\\2022-09-28_15-05-13_UTC_9.jpg [JACQUEMUS POP CORN, 58 avenue…] json \n"
>>>>>>> ebf267c4643fa440d8689e15803aa30a89ff8b91
     ]
    },
    {
     "name": "stderr",
     "output_type": "stream",
     "text": [
<<<<<<< HEAD
      "Downloading posts:  80%|████████████████████████████████████████████████▊            | 160/200 [19:35<04:50,  7.26s/it]"
=======
      "Downloading posts:  32%|███████████████████▌                                         | 160/500 [26:57<52:53,  9.33s/it]"
>>>>>>> ebf267c4643fa440d8689e15803aa30a89ff8b91
     ]
    },
    {
     "name": "stdout",
     "output_type": "stream",
     "text": [
<<<<<<< HEAD
      "chanelofficial\\2023-10-29_15-51-45_UTC.jpg [Who are you COCO MADEMOISELLE…] json \n"
=======
      "jacquemus\\2022-09-28_11-38-56_UTC_1.jpg jacquemus\\2022-09-28_11-38-56_UTC_2.jpg jacquemus\\2022-09-28_11-38-56_UTC_3.jpg jacquemus\\2022-09-28_11-38-56_UTC_4.jpg [So happy to dress you @jennie…] json \n"
>>>>>>> ebf267c4643fa440d8689e15803aa30a89ff8b91
     ]
    },
    {
     "name": "stderr",
     "output_type": "stream",
     "text": [
<<<<<<< HEAD
      "Downloading posts:  80%|█████████████████████████████████████████████████            | 161/200 [19:41<04:24,  6.77s/it]"
=======
      "Downloading posts:  32%|███████████████████▋                                         | 161/500 [27:06<53:11,  9.42s/it]"
>>>>>>> ebf267c4643fa440d8689e15803aa30a89ff8b91
     ]
    },
    {
     "name": "stdout",
     "output_type": "stream",
     "text": [
<<<<<<< HEAD
      "chanelofficial\\2023-10-29_10-39-38_UTC.jpg [COCO MADEMOISELLE. The essenc…] chanelofficial\\2023-10-29_10-39-38_UTC.mp4 json \n"
=======
      "jacquemus\\2022-09-26_15-51-46_UTC_1.jpg jacquemus\\2022-09-26_15-51-46_UTC_2.jpg jacquemus\\2022-09-26_15-51-46_UTC_3.jpg jacquemus\\2022-09-26_15-51-46_UTC_4.jpg jacquemus\\2022-09-26_15-51-46_UTC_5.jpg jacquemus\\2022-09-26_15-51-46_UTC_6.jpg jacquemus\\2022-09-26_15-51-46_UTC_7.jpg jacquemus\\2022-09-26_15-51-46_UTC_8.jpg jacquemus\\2022-09-26_15-51-46_UTC_9.jpg jacquemus\\2022-09-26_15-51-46_UTC_10.jpg jacquemus\\2022-09-26_15-51-46_UTC_10.mp4 [So happy to open tomorrow «  …] json \n"
>>>>>>> ebf267c4643fa440d8689e15803aa30a89ff8b91
     ]
    },
    {
     "name": "stderr",
     "output_type": "stream",
     "text": [
<<<<<<< HEAD
      "Downloading posts:  81%|█████████████████████████████████████████████████▍           | 162/200 [19:48<04:19,  6.84s/it]"
=======
      "Downloading posts:  32%|███████████████████▊                                         | 162/500 [27:18<56:37, 10.05s/it]"
>>>>>>> ebf267c4643fa440d8689e15803aa30a89ff8b91
     ]
    },
    {
     "name": "stdout",
     "output_type": "stream",
     "text": [
<<<<<<< HEAD
      "chanelofficial\\2023-10-28_16-02-06_UTC.jpg [HOLIDAY 2023 MAKEUP COLLECTIO…] json \n"
=======
      "jacquemus\\2022-09-25_10-49-04_UTC.jpg [soon the opening 😵‍💫🫠] jacquemus\\2022-09-25_10-49-04_UTC.mp4 json \n"
>>>>>>> ebf267c4643fa440d8689e15803aa30a89ff8b91
     ]
    },
    {
     "name": "stderr",
     "output_type": "stream",
     "text": [
<<<<<<< HEAD
      "Downloading posts:  82%|█████████████████████████████████████████████████▋           | 163/200 [19:56<04:26,  7.21s/it]"
=======
      "Downloading posts:  33%|███████████████████▏                                       | 163/500 [27:31<1:02:44, 11.17s/it]"
>>>>>>> ebf267c4643fa440d8689e15803aa30a89ff8b91
     ]
    },
    {
     "name": "stdout",
     "output_type": "stream",
     "text": [
<<<<<<< HEAD
      "chanelofficial\\2023-10-28_14-28-04_UTC.jpg [Roaringly retro. Sparkling, g…] json \n"
=======
      "jacquemus\\2022-09-22_16-10-05_UTC_1.jpg jacquemus\\2022-09-22_16-10-05_UTC_1.mp4 jacquemus\\2022-09-22_16-10-05_UTC_2.jpg jacquemus\\2022-09-22_16-10-05_UTC_2.mp4 jacquemus\\2022-09-22_16-10-05_UTC_3.jpg jacquemus\\2022-09-22_16-10-05_UTC_4.jpg jacquemus\\2022-09-22_16-10-05_UTC_4.mp4 jacquemus\\2022-09-22_16-10-05_UTC_5.jpg jacquemus\\2022-09-22_16-10-05_UTC_6.jpg jacquemus\\2022-09-22_16-10-05_UTC_6.mp4 jacquemus\\2022-09-22_16-10-05_UTC_7.jpg jacquemus\\2022-09-22_16-10-05_UTC_8.jpg jacquemus\\2022-09-22_16-10-05_UTC_9.jpg jacquemus\\2022-09-22_16-10-05_UTC_10.jpg jacquemus\\2022-09-22_16-10-05_UTC_10.mp4 [MEXICO 💛] json \n"
>>>>>>> ebf267c4643fa440d8689e15803aa30a89ff8b91
     ]
    },
    {
     "name": "stderr",
     "output_type": "stream",
     "text": [
<<<<<<< HEAD
      "Downloading posts:  82%|██████████████████████████████████████████████████           | 164/200 [20:01<04:01,  6.71s/it]"
=======
      "Downloading posts:  33%|███████████████████▎                                       | 164/500 [27:45<1:06:18, 11.84s/it]"
>>>>>>> ebf267c4643fa440d8689e15803aa30a89ff8b91
     ]
    },
    {
     "name": "stdout",
     "output_type": "stream",
     "text": [
<<<<<<< HEAD
      "chanelofficial\\2023-10-28_11-30-11_UTC.jpg [HOLIDAY 2023 MAKEUP COLLECTIO…] json \n"
=======
      "jacquemus\\2022-09-19_16-44-42_UTC_1.jpg jacquemus\\2022-09-19_16-44-42_UTC_2.jpg jacquemus\\2022-09-19_16-44-42_UTC_3.jpg [Do you like pink ?  @nike] json \n"
>>>>>>> ebf267c4643fa440d8689e15803aa30a89ff8b91
     ]
    },
    {
     "name": "stderr",
     "output_type": "stream",
     "text": [
<<<<<<< HEAD
      "Downloading posts:  82%|██████████████████████████████████████████████████▎          | 165/200 [20:08<03:49,  6.57s/it]"
=======
      "Downloading posts:  33%|████████████████████▏                                        | 165/500 [27:53<59:23, 10.64s/it]"
>>>>>>> ebf267c4643fa440d8689e15803aa30a89ff8b91
     ]
    },
    {
     "name": "stdout",
     "output_type": "stream",
     "text": [
<<<<<<< HEAD
      "chanelofficial\\2023-10-27_16-13-39_UTC.jpg [HOLIDAY 2023 COLLECTION. Disc…] json \n"
=======
      "jacquemus\\2022-09-18_14-48-48_UTC.jpg [SUNDAY ON TIKTOK LIKE] jacquemus\\2022-09-18_14-48-48_UTC.mp4 json \n"
>>>>>>> ebf267c4643fa440d8689e15803aa30a89ff8b91
     ]
    },
    {
     "name": "stderr",
     "output_type": "stream",
     "text": [
<<<<<<< HEAD
      "Downloading posts:  83%|██████████████████████████████████████████████████▋          | 166/200 [20:13<03:33,  6.28s/it]"
=======
      "Downloading posts:  33%|████████████████████▎                                        | 166/500 [27:56<47:45,  8.58s/it]"
>>>>>>> ebf267c4643fa440d8689e15803aa30a89ff8b91
     ]
    },
    {
     "name": "stdout",
     "output_type": "stream",
     "text": [
<<<<<<< HEAD
      "chanelofficial\\2023-10-27_14-12-38_UTC.jpg [HOLIDAY 2023 MAKEUP COLLECTIO…] json \n"
=======
      "jacquemus\\2022-09-12_15-40-58_UTC_1.jpg jacquemus\\2022-09-12_15-40-58_UTC_2.jpg jacquemus\\2022-09-12_15-40-58_UTC_3.jpg jacquemus\\2022-09-12_15-40-58_UTC_4.jpg jacquemus\\2022-09-12_15-40-58_UTC_5.jpg jacquemus\\2022-09-12_15-40-58_UTC_6.jpg [Bella in Jacquemus 🏹🫠] json \n"
>>>>>>> ebf267c4643fa440d8689e15803aa30a89ff8b91
     ]
    },
    {
     "name": "stderr",
     "output_type": "stream",
     "text": [
<<<<<<< HEAD
      "Downloading posts:  84%|██████████████████████████████████████████████████▉          | 167/200 [20:19<03:24,  6.19s/it]"
=======
      "Downloading posts:  33%|████████████████████▎                                        | 167/500 [28:02<42:27,  7.65s/it]"
>>>>>>> ebf267c4643fa440d8689e15803aa30a89ff8b91
     ]
    },
    {
     "name": "stdout",
     "output_type": "stream",
     "text": [
<<<<<<< HEAD
      "chanelofficial\\2023-10-27_12-04-36_UTC.jpg [Travel back in time to the 19…] chanelofficial\\2023-10-27_12-04-36_UTC.mp4 json \n"
=======
      "jacquemus\\2022-09-01_16-32-12_UTC_1.jpg jacquemus\\2022-09-01_16-32-12_UTC_2.jpg jacquemus\\2022-09-01_16-32-12_UTC_3.jpg jacquemus\\2022-09-01_16-32-12_UTC_4.jpg jacquemus\\2022-09-01_16-32-12_UTC_4.mp4 [DONE 🤍🏹 When I arrived with 1…] json \n"
>>>>>>> ebf267c4643fa440d8689e15803aa30a89ff8b91
     ]
    },
    {
     "name": "stderr",
     "output_type": "stream",
     "text": [
<<<<<<< HEAD
      "Downloading posts:  84%|███████████████████████████████████████████████████▏         | 168/200 [20:26<03:25,  6.42s/it]"
=======
      "Downloading posts:  34%|████████████████████▍                                        | 168/500 [28:09<41:41,  7.53s/it]"
>>>>>>> ebf267c4643fa440d8689e15803aa30a89ff8b91
     ]
    },
    {
     "name": "stdout",
     "output_type": "stream",
     "text": [
<<<<<<< HEAD
      "chanelofficial\\2023-10-26_17-04-35_UTC.jpg [The CHANEL Style Guide: COCO …] chanelofficial\\2023-10-26_17-04-35_UTC.mp4 json \n"
=======
      "jacquemus\\2022-08-31_17-11-32_UTC_1.jpg jacquemus\\2022-08-31_17-11-32_UTC_2.jpg jacquemus\\2022-08-31_17-11-32_UTC_3.jpg jacquemus\\2022-08-31_17-11-32_UTC_4.jpg jacquemus\\2022-08-31_17-11-32_UTC_5.jpg [🥹  “LIBERTÉ ÉGALITÉ FRATERNITÉ”] json \n"
>>>>>>> ebf267c4643fa440d8689e15803aa30a89ff8b91
     ]
    },
    {
     "name": "stderr",
     "output_type": "stream",
     "text": [
<<<<<<< HEAD
      "Downloading posts:  84%|███████████████████████████████████████████████████▌         | 169/200 [20:33<03:20,  6.46s/it]"
=======
      "Downloading posts:  34%|████████████████████▌                                        | 169/500 [28:17<42:09,  7.64s/it]"
>>>>>>> ebf267c4643fa440d8689e15803aa30a89ff8b91
     ]
    },
    {
     "name": "stdout",
     "output_type": "stream",
     "text": [
<<<<<<< HEAD
      "chanelofficial\\2023-10-26_13-04-15_UTC_1.jpg chanelofficial\\2023-10-26_13-04-15_UTC_2.jpg chanelofficial\\2023-10-26_13-04-15_UTC_3.jpg chanelofficial\\2023-10-26_13-04-15_UTC_4.jpg [The CHANEL Style Guide: COCO …] json \n"
=======
      "jacquemus\\2022-08-30_16-19-22_UTC_1.jpg jacquemus\\2022-08-30_16-19-22_UTC_2.jpg jacquemus\\2022-08-30_16-19-22_UTC_3.jpg jacquemus\\2022-08-30_16-19-22_UTC_4.jpg jacquemus\\2022-08-30_16-19-22_UTC_5.jpg jacquemus\\2022-08-30_16-19-22_UTC_5.mp4 jacquemus\\2022-08-30_16-19-22_UTC_6.jpg jacquemus\\2022-08-30_16-19-22_UTC_6.mp4 jacquemus\\2022-08-30_16-19-22_UTC_7.jpg jacquemus\\2022-08-30_16-19-22_UTC_7.mp4 jacquemus\\2022-08-30_16-19-22_UTC_8.jpg [Growing up as a gay kid in a …] json \n"
>>>>>>> ebf267c4643fa440d8689e15803aa30a89ff8b91
     ]
    },
    {
     "name": "stderr",
     "output_type": "stream",
     "text": [
<<<<<<< HEAD
      "Downloading posts:  85%|███████████████████████████████████████████████████▊         | 170/200 [20:40<03:22,  6.74s/it]"
=======
      "Downloading posts:  34%|████████████████████▋                                        | 170/500 [28:31<52:40,  9.58s/it]"
>>>>>>> ebf267c4643fa440d8689e15803aa30a89ff8b91
     ]
    },
    {
     "name": "stdout",
     "output_type": "stream",
     "text": [
<<<<<<< HEAD
      "chanelofficial\\2023-10-26_09-00-56_UTC.jpg [The CHANEL Style Guide: Iconi…] chanelofficial\\2023-10-26_09-00-56_UTC.mp4 json \n"
=======
      "jacquemus\\2022-08-29_17-24-13_UTC_1.jpg jacquemus\\2022-08-29_17-24-13_UTC_2.jpg jacquemus\\2022-08-29_17-24-13_UTC_3.jpg jacquemus\\2022-08-29_17-24-13_UTC_4.jpg jacquemus\\2022-08-29_17-24-13_UTC_4.mp4 jacquemus\\2022-08-29_17-24-13_UTC_5.jpg jacquemus\\2022-08-29_17-24-13_UTC_5.mp4 jacquemus\\2022-08-29_17-24-13_UTC_6.jpg jacquemus\\2022-08-29_17-24-13_UTC_7.jpg jacquemus\\2022-08-29_17-24-13_UTC_7.mp4 jacquemus\\2022-08-29_17-24-13_UTC_8.jpg jacquemus\\2022-08-29_17-24-13_UTC_8.mp4 jacquemus\\2022-08-29_17-24-13_UTC_9.jpg jacquemus\\2022-08-29_17-24-13_UTC_9.mp4 jacquemus\\2022-08-29_17-24-13_UTC_10.jpg jacquemus\\2022-08-29_17-24-13_UTC_10.mp4 [Yesterday I said YES 🏹❤️] json \n"
>>>>>>> ebf267c4643fa440d8689e15803aa30a89ff8b91
     ]
    },
    {
     "name": "stderr",
     "output_type": "stream",
     "text": [
<<<<<<< HEAD
      "Downloading posts:  86%|████████████████████████████████████████████████████▏        | 171/200 [20:47<03:15,  6.73s/it]"
=======
      "Downloading posts:  34%|████████████████████▏                                      | 171/500 [28:49<1:05:16, 11.90s/it]"
>>>>>>> ebf267c4643fa440d8689e15803aa30a89ff8b91
     ]
    },
    {
     "name": "stdout",
     "output_type": "stream",
     "text": [
<<<<<<< HEAD
      "chanelofficial\\2023-10-25_16-48-43_UTC_1.jpg chanelofficial\\2023-10-25_16-48-43_UTC_2.jpg chanelofficial\\2023-10-25_16-48-43_UTC_3.jpg chanelofficial\\2023-10-25_16-48-43_UTC_4.jpg [The CHANEL Style Guide: Iconi…] json \n"
=======
      "jacquemus\\2022-08-11_13-54-50_UTC.jpg [Probably my wedding dress in …] jacquemus\\2022-08-11_13-54-50_UTC.mp4 json \n"
>>>>>>> ebf267c4643fa440d8689e15803aa30a89ff8b91
     ]
    },
    {
     "name": "stderr",
     "output_type": "stream",
     "text": [
<<<<<<< HEAD
      "Downloading posts:  86%|████████████████████████████████████████████████████▍        | 172/200 [20:54<03:12,  6.88s/it]"
=======
      "Downloading posts:  34%|████████████████████▉                                        | 172/500 [28:54<54:07,  9.90s/it]"
>>>>>>> ebf267c4643fa440d8689e15803aa30a89ff8b91
     ]
    },
    {
     "name": "stdout",
     "output_type": "stream",
     "text": [
<<<<<<< HEAD
      "chanelofficial\\2023-10-25_13-00-50_UTC.jpg [The CHANEL Style Guide: Long …] chanelofficial\\2023-10-25_13-00-50_UTC.mp4 json \n"
=======
      "jacquemus\\2022-08-03_18-50-40_UTC.jpg [SUMMER OF LOVE] json \n"
>>>>>>> ebf267c4643fa440d8689e15803aa30a89ff8b91
     ]
    },
    {
     "name": "stderr",
     "output_type": "stream",
     "text": [
<<<<<<< HEAD
      "Downloading posts:  86%|████████████████████████████████████████████████████▊        | 173/200 [21:02<03:10,  7.07s/it]"
=======
      "Downloading posts:  35%|█████████████████████                                        | 173/500 [29:00<48:32,  8.91s/it]"
>>>>>>> ebf267c4643fa440d8689e15803aa30a89ff8b91
     ]
    },
    {
     "name": "stdout",
     "output_type": "stream",
     "text": [
<<<<<<< HEAD
      "chanelofficial\\2023-10-25_09-00-48_UTC_1.jpg chanelofficial\\2023-10-25_09-00-48_UTC_2.jpg chanelofficial\\2023-10-25_09-00-48_UTC_3.jpg chanelofficial\\2023-10-25_09-00-48_UTC_4.jpg chanelofficial\\2023-10-25_09-00-48_UTC_5.jpg [The CHANEL Style Guide: One a…] json \n"
=======
      "jacquemus\\2022-07-21_12-21-58_UTC.jpg [💛 : @simon_porte_jacquemus] jacquemus\\2022-07-21_12-21-58_UTC.mp4 json \n"
>>>>>>> ebf267c4643fa440d8689e15803aa30a89ff8b91
     ]
    },
    {
     "name": "stderr",
     "output_type": "stream",
     "text": [
<<<<<<< HEAD
      "Downloading posts:  87%|█████████████████████████████████████████████████████        | 174/200 [21:09<03:08,  7.26s/it]"
=======
      "Downloading posts:  35%|█████████████████████▏                                       | 174/500 [29:05<42:15,  7.78s/it]"
>>>>>>> ebf267c4643fa440d8689e15803aa30a89ff8b91
     ]
    },
    {
     "name": "stdout",
     "output_type": "stream",
     "text": [
<<<<<<< HEAD
      "chanelofficial\\2023-10-24_17-10-31_UTC.jpg [The CHANEL Style Guide: One a…] chanelofficial\\2023-10-24_17-10-31_UTC.mp4 json \n"
=======
      "jacquemus\\2022-07-17_16-45-30_UTC_1.jpg jacquemus\\2022-07-17_16-45-30_UTC_2.jpg jacquemus\\2022-07-17_16-45-30_UTC_3.jpg jacquemus\\2022-07-17_16-45-30_UTC_4.jpg jacquemus\\2022-07-17_16-45-30_UTC_5.jpg jacquemus\\2022-07-17_16-45-30_UTC_6.jpg jacquemus\\2022-07-17_16-45-30_UTC_6.mp4 jacquemus\\2022-07-17_16-45-30_UTC_7.jpg jacquemus\\2022-07-17_16-45-30_UTC_7.mp4 jacquemus\\2022-07-17_16-45-30_UTC_8.jpg jacquemus\\2022-07-17_16-45-30_UTC_9.jpg jacquemus\\2022-07-17_16-45-30_UTC_9.mp4 jacquemus\\2022-07-17_16-45-30_UTC_10.jpg [MALLORCA] json \n"
>>>>>>> ebf267c4643fa440d8689e15803aa30a89ff8b91
     ]
    },
    {
     "name": "stderr",
     "output_type": "stream",
     "text": [
<<<<<<< HEAD
      "Downloading posts:  88%|█████████████████████████████████████████████████████▍       | 175/200 [21:16<02:54,  6.98s/it]"
=======
      "Downloading posts:  35%|█████████████████████▎                                       | 175/500 [29:22<56:09, 10.37s/it]"
>>>>>>> ebf267c4643fa440d8689e15803aa30a89ff8b91
     ]
    },
    {
     "name": "stdout",
     "output_type": "stream",
     "text": [
<<<<<<< HEAD
      "chanelofficial\\2023-10-24_12-59-17_UTC_1.jpg chanelofficial\\2023-10-24_12-59-17_UTC_2.jpg chanelofficial\\2023-10-24_12-59-17_UTC_3.jpg chanelofficial\\2023-10-24_12-59-17_UTC_4.jpg [The CHANEL Style Guide: Doubl…] json \n"
=======
      "jacquemus\\2022-07-06_16-10-25_UTC_1.jpg jacquemus\\2022-07-06_16-10-25_UTC_2.jpg jacquemus\\2022-07-06_16-10-25_UTC_3.jpg jacquemus\\2022-07-06_16-10-25_UTC_4.jpg jacquemus\\2022-07-06_16-10-25_UTC_5.jpg jacquemus\\2022-07-06_16-10-25_UTC_6.jpg jacquemus\\2022-07-06_16-10-25_UTC_7.jpg jacquemus\\2022-07-06_16-10-25_UTC_8.jpg jacquemus\\2022-07-06_16-10-25_UTC_9.jpg jacquemus\\2022-07-06_16-10-25_UTC_10.jpg [For those who missed it on ja…] json \n"
>>>>>>> ebf267c4643fa440d8689e15803aa30a89ff8b91
     ]
    },
    {
     "name": "stderr",
     "output_type": "stream",
     "text": [
<<<<<<< HEAD
      "Downloading posts:  88%|█████████████████████████████████████████████████████▋       | 176/200 [21:23<02:49,  7.07s/it]"
=======
      "Downloading posts:  35%|█████████████████████▍                                       | 176/500 [29:35<59:47, 11.07s/it]"
>>>>>>> ebf267c4643fa440d8689e15803aa30a89ff8b91
     ]
    },
    {
     "name": "stdout",
     "output_type": "stream",
     "text": [
<<<<<<< HEAD
      "chanelofficial\\2023-10-24_09-00-03_UTC.jpg [The CHANEL Style Guide: Doubl…] chanelofficial\\2023-10-24_09-00-03_UTC.mp4 json \n"
=======
      "jacquemus\\2022-06-29_16-55-59_UTC_1.jpg jacquemus\\2022-06-29_16-55-59_UTC_2.jpg jacquemus\\2022-06-29_16-55-59_UTC_3.jpg jacquemus\\2022-06-29_16-55-59_UTC_4.jpg jacquemus\\2022-06-29_16-55-59_UTC_5.jpg jacquemus\\2022-06-29_16-55-59_UTC_6.jpg jacquemus\\2022-06-29_16-55-59_UTC_7.jpg jacquemus\\2022-06-29_16-55-59_UTC_8.jpg jacquemus\\2022-06-29_16-55-59_UTC_9.jpg [« LE PAPIER » Some of my fav …] json \n"
>>>>>>> ebf267c4643fa440d8689e15803aa30a89ff8b91
     ]
    },
    {
     "name": "stderr",
     "output_type": "stream",
     "text": [
<<<<<<< HEAD
      "Downloading posts:  88%|█████████████████████████████████████████████████████▉       | 177/200 [21:29<02:39,  6.92s/it]"
=======
      "Downloading posts:  35%|█████████████████████▌                                       | 177/500 [29:43<54:55, 10.20s/it]"
>>>>>>> ebf267c4643fa440d8689e15803aa30a89ff8b91
     ]
    },
    {
     "name": "stdout",
     "output_type": "stream",
     "text": [
<<<<<<< HEAD
      "chanelofficial\\2023-10-23_18-00-18_UTC.jpg [Performance and elegance — th…] json \n"
=======
      "jacquemus\\2022-06-29_08-39-22_UTC.jpg [MAGICAL MOMENT  💔] jacquemus\\2022-06-29_08-39-22_UTC.mp4 json \n"
>>>>>>> ebf267c4643fa440d8689e15803aa30a89ff8b91
     ]
    },
    {
     "name": "stderr",
     "output_type": "stream",
     "text": [
<<<<<<< HEAD
      "Downloading posts:  89%|██████████████████████████████████████████████████████▎      | 178/200 [21:35<02:23,  6.53s/it]"
=======
      "Downloading posts:  36%|█████████████████████▋                                       | 178/500 [29:51<51:55,  9.68s/it]"
>>>>>>> ebf267c4643fa440d8689e15803aa30a89ff8b91
     ]
    },
    {
     "name": "stdout",
     "output_type": "stream",
     "text": [
<<<<<<< HEAD
      "chanelofficial\\2023-10-23_16-00-06_UTC.jpg [From skiwear to eveningwear, …] json \n"
=======
      "jacquemus\\2022-06-28_16-26-25_UTC.jpg [“LE PAPIER” Jacquemus new col…] jacquemus\\2022-06-28_16-26-25_UTC.mp4 json \n"
>>>>>>> ebf267c4643fa440d8689e15803aa30a89ff8b91
     ]
    },
    {
     "name": "stderr",
     "output_type": "stream",
     "text": [
<<<<<<< HEAD
      "Downloading posts:  90%|██████████████████████████████████████████████████████▌      | 179/200 [21:41<02:12,  6.31s/it]"
=======
      "Downloading posts:  36%|█████████████████████                                      | 179/500 [30:11<1:08:19, 12.77s/it]"
>>>>>>> ebf267c4643fa440d8689e15803aa30a89ff8b91
     ]
    },
    {
     "name": "stdout",
     "output_type": "stream",
     "text": [
<<<<<<< HEAD
      "chanelofficial\\2023-10-23_14-00-06_UTC.jpg [Technical sophistication — re…] json \n"
=======
      "jacquemus\\2022-06-28_13-25-36_UTC_1.jpg jacquemus\\2022-06-28_13-25-36_UTC_2.jpg jacquemus\\2022-06-28_13-25-36_UTC_3.jpg jacquemus\\2022-06-28_13-25-36_UTC_4.jpg jacquemus\\2022-06-28_13-25-36_UTC_5.jpg jacquemus\\2022-06-28_13-25-36_UTC_6.jpg jacquemus\\2022-06-28_13-25-36_UTC_7.jpg jacquemus\\2022-06-28_13-25-36_UTC_8.jpg jacquemus\\2022-06-28_13-25-36_UTC_9.jpg jacquemus\\2022-06-28_13-25-36_UTC_10.jpg [MY FIRST NIKE COLLECTION OUT …] json \n"
>>>>>>> ebf267c4643fa440d8689e15803aa30a89ff8b91
     ]
    },
    {
     "name": "stderr",
     "output_type": "stream",
     "text": [
<<<<<<< HEAD
      "Downloading posts:  90%|██████████████████████████████████████████████████████▉      | 180/200 [21:47<02:03,  6.19s/it]"
=======
      "Downloading posts:  36%|█████████████████████▏                                     | 180/500 [30:23<1:06:46, 12.52s/it]"
>>>>>>> ebf267c4643fa440d8689e15803aa30a89ff8b91
     ]
    },
    {
     "name": "stdout",
     "output_type": "stream",
     "text": [
<<<<<<< HEAD
      "chanelofficial\\2023-10-23_12-00-31_UTC.jpg [A nod to the codes of the Hou…] json \n"
=======
      "jacquemus\\2022-06-28_10-57-18_UTC_1.jpg jacquemus\\2022-06-28_10-57-18_UTC_2.jpg jacquemus\\2022-06-28_10-57-18_UTC_3.jpg jacquemus\\2022-06-28_10-57-18_UTC_4.jpg jacquemus\\2022-06-28_10-57-18_UTC_5.jpg jacquemus\\2022-06-28_10-57-18_UTC_6.jpg jacquemus\\2022-06-28_10-57-18_UTC_7.jpg jacquemus\\2022-06-28_10-57-18_UTC_8.jpg jacquemus\\2022-06-28_10-57-18_UTC_8.mp4 jacquemus\\2022-06-28_10-57-18_UTC_9.jpg jacquemus\\2022-06-28_10-57-18_UTC_10.jpg jacquemus\\2022-06-28_10-57-18_UTC_10.mp4 [« LE PAPIER » I would never f…] json \n"
>>>>>>> ebf267c4643fa440d8689e15803aa30a89ff8b91
     ]
    },
    {
     "name": "stderr",
     "output_type": "stream",
     "text": [
<<<<<<< HEAD
      "Downloading posts:  90%|███████████████████████████████████████████████████████▏     | 181/200 [21:52<01:54,  6.05s/it]"
=======
      "Downloading posts:  36%|█████████████████████▎                                     | 181/500 [30:38<1:09:54, 13.15s/it]"
>>>>>>> ebf267c4643fa440d8689e15803aa30a89ff8b91
     ]
    },
    {
     "name": "stdout",
     "output_type": "stream",
     "text": [
<<<<<<< HEAD
      "chanelofficial\\2023-10-23_10-00-14_UTC.jpg [Combining a pair of technical…] json \n"
=======
      "jacquemus\\2022-06-28_10-26-36_UTC.jpg [« LE PAPIER »  Yesterday show…] jacquemus\\2022-06-28_10-26-36_UTC.mp4 json \n"
>>>>>>> ebf267c4643fa440d8689e15803aa30a89ff8b91
     ]
    },
    {
     "name": "stderr",
     "output_type": "stream",
     "text": [
<<<<<<< HEAD
      "Downloading posts:  91%|███████████████████████████████████████████████████████▌     | 182/200 [21:58<01:48,  6.02s/it]"
=======
      "Downloading posts:  36%|██████████████████████▏                                      | 182/500 [30:44<58:45, 11.09s/it]"
>>>>>>> ebf267c4643fa440d8689e15803aa30a89ff8b91
     ]
    },
    {
     "name": "stdout",
     "output_type": "stream",
     "text": [
<<<<<<< HEAD
      "chanelofficial\\2023-10-23_08-00-31_UTC_1.jpg chanelofficial\\2023-10-23_08-00-31_UTC_2.jpg [Winter versatility — inspired…] json \n"
=======
      "jacquemus\\2022-06-27_16-43-45_UTC.jpg [THE SHOW IS ABOUT TO START.] jacquemus\\2022-06-27_16-43-45_UTC.mp4 json \n"
>>>>>>> ebf267c4643fa440d8689e15803aa30a89ff8b91
     ]
    },
    {
     "name": "stderr",
     "output_type": "stream",
     "text": [
<<<<<<< HEAD
      "Downloading posts:  92%|███████████████████████████████████████████████████████▊     | 183/200 [22:05<01:45,  6.21s/it]"
=======
      "Downloading posts:  37%|██████████████████████▎                                      | 183/500 [30:51<52:28,  9.93s/it]"
>>>>>>> ebf267c4643fa440d8689e15803aa30a89ff8b91
     ]
    },
    {
     "name": "stdout",
     "output_type": "stream",
     "text": [
<<<<<<< HEAD
      "chanelofficial\\2023-10-07_17-48-00_UTC_1.jpg chanelofficial\\2023-10-07_17-48-00_UTC_2.jpg [Who are you COCO MADEMOISELLE…] json \n"
=======
      "jacquemus\\2022-06-26_20-56-46_UTC.jpg [SEE YOU TOMOROW] jacquemus\\2022-06-26_20-56-46_UTC.mp4 json \n"
>>>>>>> ebf267c4643fa440d8689e15803aa30a89ff8b91
     ]
    },
    {
     "name": "stderr",
     "output_type": "stream",
     "text": [
<<<<<<< HEAD
      "Downloading posts:  92%|████████████████████████████████████████████████████████     | 184/200 [22:11<01:39,  6.19s/it]"
=======
      "Downloading posts:  37%|██████████████████████▍                                      | 184/500 [31:00<49:45,  9.45s/it]"
>>>>>>> ebf267c4643fa440d8689e15803aa30a89ff8b91
     ]
    },
    {
     "name": "stdout",
     "output_type": "stream",
     "text": [
<<<<<<< HEAD
      "chanelofficial\\2023-10-07_13-04-48_UTC.jpg [The interpretations of COCO M…] json \n"
=======
      "jacquemus\\2022-06-20_16-02-15_UTC.jpg [JORJA SMITH BY ZOE GHERTNER  …] json \n"
>>>>>>> ebf267c4643fa440d8689e15803aa30a89ff8b91
     ]
    },
    {
     "name": "stderr",
     "output_type": "stream",
     "text": [
<<<<<<< HEAD
      "Downloading posts:  92%|████████████████████████████████████████████████████████▍    | 185/200 [22:17<01:29,  5.99s/it]"
=======
      "Downloading posts:  37%|██████████████████████▌                                      | 185/500 [31:02<38:51,  7.40s/it]"
>>>>>>> ebf267c4643fa440d8689e15803aa30a89ff8b91
     ]
    },
    {
     "name": "stdout",
     "output_type": "stream",
     "text": [
<<<<<<< HEAD
      "chanelofficial\\2023-10-07_08-44-02_UTC.jpg [Who are you COCO MADEMOISELLE…] chanelofficial\\2023-10-07_08-44-02_UTC.mp4 json \n"
=======
      "jacquemus\\2022-06-14_11-20-35_UTC_1.jpg jacquemus\\2022-06-14_11-20-35_UTC_2.jpg [MY FIRST NIKE. Available on t…] json \n"
>>>>>>> ebf267c4643fa440d8689e15803aa30a89ff8b91
     ]
    },
    {
     "name": "stderr",
     "output_type": "stream",
     "text": [
<<<<<<< HEAD
      "Downloading posts:  93%|████████████████████████████████████████████████████████▋    | 186/200 [22:25<01:32,  6.64s/it]"
=======
      "Downloading posts:  37%|██████████████████████▋                                      | 186/500 [31:09<38:25,  7.34s/it]"
>>>>>>> ebf267c4643fa440d8689e15803aa30a89ff8b91
     ]
    },
    {
     "name": "stdout",
     "output_type": "stream",
     "text": [
<<<<<<< HEAD
      "chanelofficial\\2023-10-06_18-00-00_UTC.jpg [Mimicking the colourful flowe…] chanelofficial\\2023-10-06_18-00-00_UTC.mp4 json \n"
=======
      "jacquemus\\2022-06-13_18-08-16_UTC.jpg json \n"
>>>>>>> ebf267c4643fa440d8689e15803aa30a89ff8b91
     ]
    },
    {
     "name": "stderr",
     "output_type": "stream",
     "text": [
<<<<<<< HEAD
      "Downloading posts:  94%|█████████████████████████████████████████████████████████    | 187/200 [22:34<01:37,  7.53s/it]"
=======
      "Downloading posts:  37%|██████████████████████▊                                      | 187/500 [31:16<37:03,  7.10s/it]"
>>>>>>> ebf267c4643fa440d8689e15803aa30a89ff8b91
     ]
    },
    {
     "name": "stdout",
     "output_type": "stream",
     "text": [
<<<<<<< HEAD
      "chanelofficial\\2023-10-06_15-59-55_UTC.jpg [With an air of elegance, joy,…] chanelofficial\\2023-10-06_15-59-55_UTC.mp4 json \n"
=======
      "jacquemus\\2022-06-05_09-11-49_UTC_1.jpg jacquemus\\2022-06-05_09-11-49_UTC_2.jpg jacquemus\\2022-06-05_09-11-49_UTC_2.mp4 jacquemus\\2022-06-05_09-11-49_UTC_3.jpg jacquemus\\2022-06-05_09-11-49_UTC_3.mp4 jacquemus\\2022-06-05_09-11-49_UTC_4.jpg jacquemus\\2022-06-05_09-11-49_UTC_5.jpg jacquemus\\2022-06-05_09-11-49_UTC_6.jpg jacquemus\\2022-06-05_09-11-49_UTC_6.mp4 jacquemus\\2022-06-05_09-11-49_UTC_7.jpg jacquemus\\2022-06-05_09-11-49_UTC_7.mp4 jacquemus\\2022-06-05_09-11-49_UTC_8.jpg jacquemus\\2022-06-05_09-11-49_UTC_8.mp4 jacquemus\\2022-06-05_09-11-49_UTC_9.jpg jacquemus\\2022-06-05_09-11-49_UTC_10.jpg [Hier avec le J c’était le S  …] json \n"
>>>>>>> ebf267c4643fa440d8689e15803aa30a89ff8b91
     ]
    },
    {
     "name": "stderr",
     "output_type": "stream",
     "text": [
<<<<<<< HEAD
      "Downloading posts:  94%|█████████████████████████████████████████████████████████▎   | 188/200 [22:45<01:39,  8.30s/it]"
=======
      "Downloading posts:  38%|██████████████████████▉                                      | 188/500 [31:35<55:01, 10.58s/it]"
>>>>>>> ebf267c4643fa440d8689e15803aa30a89ff8b91
     ]
    },
    {
     "name": "stdout",
     "output_type": "stream",
     "text": [
<<<<<<< HEAD
      "chanelofficial\\2023-10-06_14-00-12_UTC.jpg [For the CHANEL Spring-Summer …] json \n"
=======
      "jacquemus\\2022-06-01_19-20-25_UTC.jpg [HAPPY PRIDE EVERYONE Wishing …] json \n"
>>>>>>> ebf267c4643fa440d8689e15803aa30a89ff8b91
     ]
    },
    {
     "name": "stderr",
     "output_type": "stream",
     "text": [
<<<<<<< HEAD
      "Downloading posts:  94%|█████████████████████████████████████████████████████████▋   | 189/200 [22:50<01:22,  7.47s/it]"
=======
      "Downloading posts:  38%|███████████████████████                                      | 189/500 [31:40<47:19,  9.13s/it]"
>>>>>>> ebf267c4643fa440d8689e15803aa30a89ff8b91
     ]
    },
    {
     "name": "stdout",
     "output_type": "stream",
     "text": [
<<<<<<< HEAD
      "chanelofficial\\2023-10-06_12-00-00_UTC.jpg [Fusing the athletic spirit of…] chanelofficial\\2023-10-06_12-00-00_UTC.mp4 json \n"
=======
      "jacquemus\\2022-05-31_18-41-10_UTC.jpg [“LE PAPIER” I will reveal my …] json \n"
>>>>>>> ebf267c4643fa440d8689e15803aa30a89ff8b91
     ]
    },
    {
     "name": "stderr",
     "output_type": "stream",
     "text": [
<<<<<<< HEAD
      "Downloading posts:  95%|█████████████████████████████████████████████████████████▉   | 190/200 [22:58<01:15,  7.52s/it]"
=======
      "Downloading posts:  38%|███████████████████████▏                                     | 190/500 [31:46<41:43,  8.08s/it]"
>>>>>>> ebf267c4643fa440d8689e15803aa30a89ff8b91
     ]
    },
    {
     "name": "stdout",
     "output_type": "stream",
     "text": [
<<<<<<< HEAD
      "chanelofficial\\2023-10-06_10-00-00_UTC.jpg [Riffing on the dream of the L…] chanelofficial\\2023-10-06_10-00-00_UTC.mp4 json \n"
=======
      "jacquemus\\2022-05-30_15-43-56_UTC_1.jpg jacquemus\\2022-05-30_15-43-56_UTC_2.jpg jacquemus\\2022-05-30_15-43-56_UTC_3.jpg jacquemus\\2022-05-30_15-43-56_UTC_4.jpg jacquemus\\2022-05-30_15-43-56_UTC_5.jpg [Sydney in Hawai’i at night by…] json \n"
>>>>>>> ebf267c4643fa440d8689e15803aa30a89ff8b91
     ]
    },
    {
     "name": "stderr",
     "output_type": "stream",
     "text": [
<<<<<<< HEAD
      "Downloading posts:  96%|██████████████████████████████████████████████████████████▎  | 191/200 [23:07<01:11,  7.94s/it]"
=======
      "Downloading posts:  38%|███████████████████████▎                                     | 191/500 [31:51<36:48,  7.15s/it]"
>>>>>>> ebf267c4643fa440d8689e15803aa30a89ff8b91
     ]
    },
    {
     "name": "stdout",
     "output_type": "stream",
     "text": [
<<<<<<< HEAD
      "chanelofficial\\2023-10-06_08-00-00_UTC.jpg [Romancing a certain idea of s…] chanelofficial\\2023-10-06_08-00-00_UTC.mp4 json \n"
=======
      "jacquemus\\2022-05-16_16-29-31_UTC_1.jpg jacquemus\\2022-05-16_16-29-31_UTC_2.jpg jacquemus\\2022-05-16_16-29-31_UTC_3.jpg jacquemus\\2022-05-16_16-29-31_UTC_4.jpg jacquemus\\2022-05-16_16-29-31_UTC_5.jpg jacquemus\\2022-05-16_16-29-31_UTC_6.jpg jacquemus\\2022-05-16_16-29-31_UTC_7.jpg jacquemus\\2022-05-16_16-29-31_UTC_8.jpg jacquemus\\2022-05-16_16-29-31_UTC_9.jpg [VOGUE MAGAZINE PREVIEW  JACQU…] json \n"
>>>>>>> ebf267c4643fa440d8689e15803aa30a89ff8b91
     ]
    },
    {
     "name": "stderr",
     "output_type": "stream",
     "text": [
<<<<<<< HEAD
      "Downloading posts:  96%|██████████████████████████████████████████████████████████▌  | 192/200 [23:14<01:02,  7.81s/it]"
=======
      "Downloading posts:  38%|███████████████████████▍                                     | 192/500 [32:01<40:31,  7.89s/it]"
>>>>>>> ebf267c4643fa440d8689e15803aa30a89ff8b91
     ]
    },
    {
     "name": "stdout",
     "output_type": "stream",
     "text": [
<<<<<<< HEAD
      "chanelofficial\\2023-10-05_20-00-07_UTC.jpg [True to the idea of embroider…] json \n"
=======
      "jacquemus\\2022-05-16_12-19-23_UTC_1.jpg jacquemus\\2022-05-16_12-19-23_UTC_2.jpg jacquemus\\2022-05-16_12-19-23_UTC_2.mp4 jacquemus\\2022-05-16_12-19-23_UTC_3.jpg jacquemus\\2022-05-16_12-19-23_UTC_4.jpg [JACQUEMUS + NIKE OUT ON JUNE …] json \n"
>>>>>>> ebf267c4643fa440d8689e15803aa30a89ff8b91
     ]
    },
    {
     "name": "stderr",
     "output_type": "stream",
     "text": [
<<<<<<< HEAD
      "Downloading posts:  96%|██████████████████████████████████████████████████████████▊  | 193/200 [23:20<00:49,  7.12s/it]"
=======
      "Downloading posts:  39%|███████████████████████▌                                     | 193/500 [32:17<53:52, 10.53s/it]"
>>>>>>> ebf267c4643fa440d8689e15803aa30a89ff8b91
     ]
    },
    {
     "name": "stdout",
     "output_type": "stream",
     "text": [
<<<<<<< HEAD
      "chanelofficial\\2023-10-05_18-00-05_UTC.jpg [Inspired by the gardens of th…] chanelofficial\\2023-10-05_18-00-05_UTC.mp4 json \n"
=======
      "jacquemus\\2022-05-16_08-35-59_UTC_1.jpg jacquemus\\2022-05-16_08-35-59_UTC_2.jpg jacquemus\\2022-05-16_08-35-59_UTC_3.jpg jacquemus\\2022-05-16_08-35-59_UTC_4.jpg jacquemus\\2022-05-16_08-35-59_UTC_5.jpg jacquemus\\2022-05-16_08-35-59_UTC_5.mp4 jacquemus\\2022-05-16_08-35-59_UTC_6.jpg jacquemus\\2022-05-16_08-35-59_UTC_7.jpg jacquemus\\2022-05-16_08-35-59_UTC_7.mp4 jacquemus\\2022-05-16_08-35-59_UTC_8.jpg jacquemus\\2022-05-16_08-35-59_UTC_9.jpg jacquemus\\2022-05-16_08-35-59_UTC_9.mp4 jacquemus\\2022-05-16_08-35-59_UTC_10.jpg [This week end 🫠] json \n"
>>>>>>> ebf267c4643fa440d8689e15803aa30a89ff8b91
     ]
    },
    {
     "name": "stderr",
     "output_type": "stream",
     "text": [
<<<<<<< HEAD
      "Downloading posts:  97%|███████████████████████████████████████████████████████████▏ | 194/200 [23:29<00:46,  7.81s/it]"
=======
      "Downloading posts:  39%|██████████████████████▉                                    | 194/500 [32:36<1:06:43, 13.08s/it]"
>>>>>>> ebf267c4643fa440d8689e15803aa30a89ff8b91
     ]
    },
    {
     "name": "stdout",
     "output_type": "stream",
     "text": [
<<<<<<< HEAD
      "chanelofficial\\2023-10-05_14-00-00_UTC.jpg [In a fantasy expression of th…] chanelofficial\\2023-10-05_14-00-00_UTC.mp4 json \n"
=======
      "jacquemus\\2022-05-14_15-40-52_UTC_1.jpg jacquemus\\2022-05-14_15-40-52_UTC_2.jpg jacquemus\\2022-05-14_15-40-52_UTC_3.jpg jacquemus\\2022-05-14_15-40-52_UTC_4.jpg jacquemus\\2022-05-14_15-40-52_UTC_5.jpg jacquemus\\2022-05-14_15-40-52_UTC_6.jpg jacquemus\\2022-05-14_15-40-52_UTC_7.jpg jacquemus\\2022-05-14_15-40-52_UTC_8.jpg jacquemus\\2022-05-14_15-40-52_UTC_9.jpg jacquemus\\2022-05-14_15-40-52_UTC_10.jpg [Paris c’est le sang ☀️🫠 @dual…] json \n"
>>>>>>> ebf267c4643fa440d8689e15803aa30a89ff8b91
     ]
    },
    {
     "name": "stderr",
     "output_type": "stream",
     "text": [
<<<<<<< HEAD
      "Downloading posts:  98%|███████████████████████████████████████████████████████████▍ | 195/200 [23:38<00:40,  8.11s/it]"
=======
      "Downloading posts:  39%|███████████████████████                                    | 195/500 [32:49<1:06:06, 13.00s/it]"
>>>>>>> ebf267c4643fa440d8689e15803aa30a89ff8b91
     ]
    },
    {
     "name": "stdout",
     "output_type": "stream",
     "text": [
<<<<<<< HEAD
      "chanelofficial\\2023-10-05_12-00-10_UTC.jpg [In a romantic game of tailore…] json \n"
=======
      "jacquemus\\2022-05-03_16-33-09_UTC_1.jpg jacquemus\\2022-05-03_16-33-09_UTC_2.jpg jacquemus\\2022-05-03_16-33-09_UTC_3.jpg jacquemus\\2022-05-03_16-33-09_UTC_4.jpg jacquemus\\2022-05-03_16-33-09_UTC_5.jpg jacquemus\\2022-05-03_16-33-09_UTC_6.jpg jacquemus\\2022-05-03_16-33-09_UTC_7.jpg jacquemus\\2022-05-03_16-33-09_UTC_8.jpg jacquemus\\2022-05-03_16-33-09_UTC_9.jpg jacquemus\\2022-05-03_16-33-09_UTC_10.jpg [« Le Bleu » at @theofficialse…] json \n"
>>>>>>> ebf267c4643fa440d8689e15803aa30a89ff8b91
     ]
    },
    {
     "name": "stderr",
     "output_type": "stream",
     "text": [
<<<<<<< HEAD
      "Downloading posts:  98%|███████████████████████████████████████████████████████████▊ | 196/200 [23:43<00:29,  7.33s/it]"
=======
      "Downloading posts:  39%|███████████████████████▏                                   | 196/500 [33:01<1:03:27, 12.52s/it]"
>>>>>>> ebf267c4643fa440d8689e15803aa30a89ff8b91
     ]
    },
    {
     "name": "stdout",
     "output_type": "stream",
     "text": [
<<<<<<< HEAD
      "chanelofficial\\2023-10-05_10-12-37_UTC.jpg [Soft but boyish, dressed up y…] chanelofficial\\2023-10-05_10-12-37_UTC.mp4 json \n"
=======
      "jacquemus\\2022-04-25_15-54-56_UTC.jpg [THE LINE by @keithkandell] jacquemus\\2022-04-25_15-54-56_UTC.mp4 json \n"
>>>>>>> ebf267c4643fa440d8689e15803aa30a89ff8b91
     ]
    },
    {
     "name": "stderr",
     "output_type": "stream",
     "text": [
<<<<<<< HEAD
      "Downloading posts:  98%|████████████████████████████████████████████████████████████ | 197/200 [23:51<00:22,  7.47s/it]"
=======
      "Downloading posts:  39%|████████████████████████                                     | 197/500 [33:06<51:59, 10.30s/it]"
>>>>>>> ebf267c4643fa440d8689e15803aa30a89ff8b91
     ]
    },
    {
     "name": "stdout",
     "output_type": "stream",
     "text": [
<<<<<<< HEAD
      "chanelofficial\\2023-10-05_08-00-04_UTC.jpg [Twisting seaside inspirations…] json \n"
=======
      "jacquemus\\2022-04-03_19-15-06_UTC.jpg [Some pictures need to be repu…] json \n"
>>>>>>> ebf267c4643fa440d8689e15803aa30a89ff8b91
     ]
    },
    {
     "name": "stderr",
     "output_type": "stream",
     "text": [
<<<<<<< HEAD
      "Downloading posts:  99%|████████████████████████████████████████████████████████████▍| 198/200 [23:57<00:13,  6.89s/it]"
=======
      "Downloading posts:  40%|████████████████████████▏                                    | 198/500 [33:08<40:10,  7.98s/it]"
>>>>>>> ebf267c4643fa440d8689e15803aa30a89ff8b91
     ]
    },
    {
     "name": "stdout",
     "output_type": "stream",
     "text": [
<<<<<<< HEAD
      "chanelofficial\\2023-10-05_07-00-06_UTC.jpg [Worn with bare legs, ballerin…] json \n"
=======
      "jacquemus\\2022-03-23_16-47-04_UTC_1.jpg jacquemus\\2022-03-23_16-47-04_UTC_2.jpg jacquemus\\2022-03-23_16-47-04_UTC_3.jpg jacquemus\\2022-03-23_16-47-04_UTC_4.jpg [« Le sac rond » So happy to h…] json \n"
>>>>>>> ebf267c4643fa440d8689e15803aa30a89ff8b91
     ]
    },
    {
     "name": "stderr",
     "output_type": "stream",
     "text": [
<<<<<<< HEAD
      "Downloading posts: 100%|████████████████████████████████████████████████████████████▋| 199/200 [24:02<00:06,  6.51s/it]"
=======
      "Downloading posts:  40%|████████████████████████▎                                    | 199/500 [33:14<35:57,  7.17s/it]"
>>>>>>> ebf267c4643fa440d8689e15803aa30a89ff8b91
     ]
    },
    {
     "name": "stdout",
     "output_type": "stream",
     "text": [
<<<<<<< HEAD
      "chanelofficial\\2023-10-04_21-25-58_UTC.jpg [Appearing within an architect…] chanelofficial\\2023-10-04_21-25-58_UTC.mp4 json \n"
=======
      "jacquemus\\2022-03-20_18-06-51_UTC_1.jpg jacquemus\\2022-03-20_18-06-51_UTC_2.jpg jacquemus\\2022-03-20_18-06-51_UTC_3.jpg jacquemus\\2022-03-20_18-06-51_UTC_4.jpg jacquemus\\2022-03-20_18-06-51_UTC_5.jpg jacquemus\\2022-03-20_18-06-51_UTC_6.jpg jacquemus\\2022-03-20_18-06-51_UTC_7.jpg jacquemus\\2022-03-20_18-06-51_UTC_8.jpg jacquemus\\2022-03-20_18-06-51_UTC_9.jpg jacquemus\\2022-03-20_18-06-51_UTC_10.jpg [Sunday backstage  @tomknel] json \n"
>>>>>>> ebf267c4643fa440d8689e15803aa30a89ff8b91
     ]
    },
    {
     "name": "stderr",
     "output_type": "stream",
     "text": [
<<<<<<< HEAD
      "Downloading posts: 100%|█████████████████████████████████████████████████████████████| 200/200 [24:11<00:00,  7.26s/it]\n"
=======
      "Downloading posts:  40%|████████████████████████▍                                    | 200/500 [33:25<42:09,  8.43s/it]"
     ]
    },
    {
     "name": "stdout",
     "output_type": "stream",
     "text": [
      "jacquemus\\2022-03-15_15-58-20_UTC.jpg [❤️  Hard to leave the island,…] jacquemus\\2022-03-15_15-58-20_UTC.mp4 json \n"
     ]
    },
    {
     "name": "stderr",
     "output_type": "stream",
     "text": [
      "Downloading posts:  40%|████████████████████████▌                                    | 201/500 [33:31<38:23,  7.70s/it]"
     ]
    },
    {
     "name": "stdout",
     "output_type": "stream",
     "text": [
      "jacquemus\\2022-03-13_10-20-01_UTC_1.jpg jacquemus\\2022-03-13_10-20-01_UTC_2.jpg jacquemus\\2022-03-13_10-20-01_UTC_3.jpg jacquemus\\2022-03-13_10-20-01_UTC_4.jpg jacquemus\\2022-03-13_10-20-01_UTC_5.jpg jacquemus\\2022-03-13_10-20-01_UTC_6.jpg jacquemus\\2022-03-13_10-20-01_UTC_7.jpg jacquemus\\2022-03-13_10-20-01_UTC_8.jpg jacquemus\\2022-03-13_10-20-01_UTC_9.jpg jacquemus\\2022-03-13_10-20-01_UTC_10.jpg [“LE SPLASH” Jacquemus.com] json \n"
     ]
    },
    {
     "name": "stderr",
     "output_type": "stream",
     "text": [
      "Downloading posts:  40%|████████████████████████▋                                    | 202/500 [33:42<42:49,  8.62s/it]"
     ]
    },
    {
     "name": "stdout",
     "output_type": "stream",
     "text": [
      "jacquemus\\2022-03-12_18-57-27_UTC.jpg [Backstage, I love this video …] jacquemus\\2022-03-12_18-57-27_UTC.mp4 json \n"
     ]
    },
    {
     "name": "stderr",
     "output_type": "stream",
     "text": [
      "Downloading posts:  41%|████████████████████████▊                                    | 203/500 [33:49<40:21,  8.15s/it]"
     ]
    },
    {
     "name": "stdout",
     "output_type": "stream",
     "text": [
      "jacquemus\\2022-03-11_10-03-31_UTC_1.jpg jacquemus\\2022-03-11_10-03-31_UTC_2.jpg jacquemus\\2022-03-11_10-03-31_UTC_3.jpg jacquemus\\2022-03-11_10-03-31_UTC_4.jpg jacquemus\\2022-03-11_10-03-31_UTC_5.jpg jacquemus\\2022-03-11_10-03-31_UTC_6.jpg jacquemus\\2022-03-11_10-03-31_UTC_7.jpg jacquemus\\2022-03-11_10-03-31_UTC_8.jpg jacquemus\\2022-03-11_10-03-31_UTC_9.jpg jacquemus\\2022-03-11_10-03-31_UTC_10.jpg [“LE SPLASH” Jacquemus.com] json \n"
     ]
    },
    {
     "name": "stderr",
     "output_type": "stream",
     "text": [
      "Downloading posts:  41%|████████████████████████▉                                    | 204/500 [33:59<42:36,  8.64s/it]"
     ]
    },
    {
     "name": "stdout",
     "output_type": "stream",
     "text": [
      "jacquemus\\2022-03-10_22-19-10_UTC_1.jpg jacquemus\\2022-03-10_22-19-10_UTC_2.jpg jacquemus\\2022-03-10_22-19-10_UTC_3.jpg jacquemus\\2022-03-10_22-19-10_UTC_4.jpg jacquemus\\2022-03-10_22-19-10_UTC_5.jpg jacquemus\\2022-03-10_22-19-10_UTC_6.jpg jacquemus\\2022-03-10_22-19-10_UTC_7.jpg jacquemus\\2022-03-10_22-19-10_UTC_8.jpg jacquemus\\2022-03-10_22-19-10_UTC_9.jpg jacquemus\\2022-03-10_22-19-10_UTC_10.jpg [Thanks for being with us on t…] json \n"
     ]
    },
    {
     "name": "stderr",
     "output_type": "stream",
     "text": [
      "Downloading posts:  41%|█████████████████████████                                    | 205/500 [34:09<44:53,  9.13s/it]"
     ]
    },
    {
     "name": "stdout",
     "output_type": "stream",
     "text": [
      "jacquemus\\2022-03-10_18-03-10_UTC.jpg [« LE SPLASH » Thanks to every…] jacquemus\\2022-03-10_18-03-10_UTC.mp4 json \n"
     ]
    },
    {
     "name": "stderr",
     "output_type": "stream",
     "text": [
      "Downloading posts:  41%|█████████████████████████▏                                   | 206/500 [34:22<51:02, 10.42s/it]"
     ]
    },
    {
     "name": "stdout",
     "output_type": "stream",
     "text": [
      "jacquemus\\2022-03-10_12-37-39_UTC.jpg [I can’t wait to share with yo…] jacquemus\\2022-03-10_12-37-39_UTC.mp4 json \n"
     ]
    },
    {
     "name": "stderr",
     "output_type": "stream",
     "text": [
      "Downloading posts:  41%|█████████████████████████▎                                   | 207/500 [34:26<41:13,  8.44s/it]"
     ]
    },
    {
     "name": "stdout",
     "output_type": "stream",
     "text": [
      "jacquemus\\2022-03-09_21-00-15_UTC_1.jpg jacquemus\\2022-03-09_21-00-15_UTC_2.jpg jacquemus\\2022-03-09_21-00-15_UTC_3.jpg jacquemus\\2022-03-09_21-00-15_UTC_4.jpg jacquemus\\2022-03-09_21-00-15_UTC_5.jpg jacquemus\\2022-03-09_21-00-15_UTC_5.mp4 [🥺❤️] json \n"
     ]
    },
    {
     "name": "stderr",
     "output_type": "stream",
     "text": [
      "Downloading posts:  42%|█████████████████████████▍                                   | 208/500 [34:38<45:48,  9.41s/it]"
     ]
    },
    {
     "name": "stdout",
     "output_type": "stream",
     "text": [
      "jacquemus\\2022-03-09_18-31-44_UTC.jpg [“LE SPLASH” Here a preview of…] json \n"
     ]
    },
    {
     "name": "stderr",
     "output_type": "stream",
     "text": [
      "Downloading posts:  42%|█████████████████████████▍                                   | 209/500 [34:43<40:06,  8.27s/it]"
     ]
    },
    {
     "name": "stdout",
     "output_type": "stream",
     "text": [
      "jacquemus\\2022-03-07_17-09-45_UTC.jpg [I’m really happy to announce …] jacquemus\\2022-03-07_17-09-45_UTC.mp4 json \n"
     ]
    },
    {
     "name": "stderr",
     "output_type": "stream",
     "text": [
      "Downloading posts:  42%|█████████████████████████▌                                   | 210/500 [34:47<33:40,  6.97s/it]"
     ]
    },
    {
     "name": "stdout",
     "output_type": "stream",
     "text": [
      "jacquemus\\2022-03-02_15-52-04_UTC.jpg [We stand for peace and starte…] json \n"
     ]
    },
    {
     "name": "stderr",
     "output_type": "stream",
     "text": [
      "Downloading posts:  42%|█████████████████████████▋                                   | 211/500 [34:50<27:17,  5.66s/it]"
     ]
    },
    {
     "name": "stdout",
     "output_type": "stream",
     "text": [
      "jacquemus\\2022-02-27_21-08-11_UTC.jpg [We stand for peace and starte…] json \n"
     ]
    },
    {
     "name": "stderr",
     "output_type": "stream",
     "text": [
      "Downloading posts:  42%|█████████████████████████▊                                   | 212/500 [34:58<30:00,  6.25s/it]"
     ]
    },
    {
     "name": "stdout",
     "output_type": "stream",
     "text": [
      "jacquemus\\2022-02-24_17-14-53_UTC_1.jpg jacquemus\\2022-02-24_17-14-53_UTC_2.jpg jacquemus\\2022-02-24_17-14-53_UTC_3.jpg jacquemus\\2022-02-24_17-14-53_UTC_4.jpg jacquemus\\2022-02-24_17-14-53_UTC_5.jpg jacquemus\\2022-02-24_17-14-53_UTC_6.jpg jacquemus\\2022-02-24_17-14-53_UTC_7.jpg jacquemus\\2022-02-24_17-14-53_UTC_7.mp4 jacquemus\\2022-02-24_17-14-53_UTC_8.jpg jacquemus\\2022-02-24_17-14-53_UTC_8.mp4 jacquemus\\2022-02-24_17-14-53_UTC_9.jpg jacquemus\\2022-02-24_17-14-53_UTC_9.mp4 jacquemus\\2022-02-24_17-14-53_UTC_10.jpg [« JACQUEMUS 24/24 »  We are o…] json \n"
     ]
    },
    {
     "name": "stderr",
     "output_type": "stream",
     "text": [
      "Downloading posts:  43%|█████████████████████████▉                                   | 213/500 [35:21<54:02, 11.30s/it]"
     ]
    },
    {
     "name": "stdout",
     "output_type": "stream",
     "text": [
      "jacquemus\\2022-02-22_16-45-07_UTC.jpg [back in stock! Jacquemus.com] json \n"
     ]
    },
    {
     "name": "stderr",
     "output_type": "stream",
     "text": [
      "Downloading posts:  43%|██████████████████████████                                   | 214/500 [35:27<47:08,  9.89s/it]"
     ]
    },
    {
     "name": "stdout",
     "output_type": "stream",
     "text": [
      "jacquemus\\2022-02-22_09-37-59_UTC_1.jpg jacquemus\\2022-02-22_09-37-59_UTC_2.jpg [Ok. 🤯] json \n"
     ]
    },
    {
     "name": "stderr",
     "output_type": "stream",
     "text": [
      "Downloading posts:  43%|██████████████████████████▏                                  | 215/500 [35:32<40:15,  8.48s/it]"
     ]
    },
    {
     "name": "stdout",
     "output_type": "stream",
     "text": [
      "jacquemus\\2022-02-21_17-42-43_UTC_1.jpg jacquemus\\2022-02-21_17-42-43_UTC_2.jpg [Me right now going home watch…] json \n"
     ]
    },
    {
     "name": "stderr",
     "output_type": "stream",
     "text": [
      "Downloading posts:  43%|██████████████████████████▎                                  | 216/500 [35:36<33:56,  7.17s/it]"
     ]
    },
    {
     "name": "stdout",
     "output_type": "stream",
     "text": [
      "jacquemus\\2022-02-15_16-39-38_UTC_1.jpg jacquemus\\2022-02-15_16-39-38_UTC_2.jpg jacquemus\\2022-02-15_16-39-38_UTC_3.jpg jacquemus\\2022-02-15_16-39-38_UTC_4.jpg jacquemus\\2022-02-15_16-39-38_UTC_4.mp4 jacquemus\\2022-02-15_16-39-38_UTC_5.jpg jacquemus\\2022-02-15_16-39-38_UTC_5.mp4 jacquemus\\2022-02-15_16-39-38_UTC_6.jpg jacquemus\\2022-02-15_16-39-38_UTC_7.jpg jacquemus\\2022-02-15_16-39-38_UTC_7.mp4 [“JACQUEMUS 24/24\" We are comi…] json \n"
     ]
    },
    {
     "name": "stderr",
     "output_type": "stream",
     "text": [
      "Downloading posts:  43%|██████████████████████████▍                                  | 217/500 [35:51<44:44,  9.49s/it]"
     ]
    },
    {
     "name": "stdout",
     "output_type": "stream",
     "text": [
      "jacquemus\\2022-02-15_08-57-17_UTC.jpg [I don’t need your homophobic …] json \n"
     ]
    },
    {
     "name": "stderr",
     "output_type": "stream",
     "text": [
      "Downloading posts:  44%|██████████████████████████▌                                  | 218/500 [35:55<36:16,  7.72s/it]"
     ]
    },
    {
     "name": "stdout",
     "output_type": "stream",
     "text": [
      "jacquemus\\2022-02-14_20-16-33_UTC.jpg [💓] json \n"
     ]
    },
    {
     "name": "stderr",
     "output_type": "stream",
     "text": [
      "Downloading posts:  44%|██████████████████████████▋                                  | 219/500 [36:01<33:10,  7.08s/it]"
     ]
    },
    {
     "name": "stdout",
     "output_type": "stream",
     "text": [
      "jacquemus\\2022-02-10_17-05-50_UTC.jpg [Wait for it] jacquemus\\2022-02-10_17-05-50_UTC.mp4 json \n"
     ]
    },
    {
     "name": "stderr",
     "output_type": "stream",
     "text": [
      "Downloading posts:  44%|██████████████████████████▊                                  | 220/500 [36:09<34:50,  7.46s/it]"
     ]
    },
    {
     "name": "stdout",
     "output_type": "stream",
     "text": [
      "jacquemus\\2022-02-09_16-49-53_UTC_1.jpg jacquemus\\2022-02-09_16-49-53_UTC_2.jpg jacquemus\\2022-02-09_16-49-53_UTC_3.jpg [ALERT!!! SIZE GOT BIGGER !  i…] json \n"
     ]
    },
    {
     "name": "stderr",
     "output_type": "stream",
     "text": [
      "Downloading posts:  44%|██████████████████████████▉                                  | 221/500 [36:16<34:00,  7.31s/it]"
     ]
    },
    {
     "name": "stdout",
     "output_type": "stream",
     "text": [
      "jacquemus\\2022-02-07_16-57-07_UTC_1.jpg jacquemus\\2022-02-07_16-57-07_UTC_2.jpg jacquemus\\2022-02-07_16-57-07_UTC_3.jpg jacquemus\\2022-02-07_16-57-07_UTC_4.jpg jacquemus\\2022-02-07_16-57-07_UTC_5.jpg jacquemus\\2022-02-07_16-57-07_UTC_6.jpg jacquemus\\2022-02-07_16-57-07_UTC_7.jpg jacquemus\\2022-02-07_16-57-07_UTC_8.jpg jacquemus\\2022-02-07_16-57-07_UTC_9.jpg jacquemus\\2022-02-07_16-57-07_UTC_10.jpg [Jacquemus new campaign starri…] json \n"
     ]
    },
    {
     "name": "stderr",
     "output_type": "stream",
     "text": [
      "Downloading posts:  44%|███████████████████████████                                  | 222/500 [36:29<42:08,  9.09s/it]"
     ]
    },
    {
     "name": "stdout",
     "output_type": "stream",
     "text": [
      "jacquemus\\2022-02-02_20-19-00_UTC.jpg [Claude Nori] json \n"
     ]
    },
    {
     "name": "stderr",
     "output_type": "stream",
     "text": [
      "Downloading posts:  45%|███████████████████████████▏                                 | 223/500 [36:34<35:50,  7.76s/it]"
     ]
    },
    {
     "name": "stdout",
     "output_type": "stream",
     "text": [
      "jacquemus\\2022-01-26_21-16-58_UTC.jpg [Would love to do a show there…] jacquemus\\2022-01-26_21-16-58_UTC.mp4 json \n"
     ]
    },
    {
     "name": "stderr",
     "output_type": "stream",
     "text": [
      "Downloading posts:  45%|███████████████████████████▎                                 | 224/500 [36:42<36:02,  7.84s/it]"
     ]
    },
    {
     "name": "stdout",
     "output_type": "stream",
     "text": [
      "jacquemus\\2022-01-16_11-21-40_UTC_1.jpg jacquemus\\2022-01-16_11-21-40_UTC_2.jpg [Turning 32 like  🧁] json \n"
     ]
    },
    {
     "name": "stderr",
     "output_type": "stream",
     "text": [
      "Downloading posts:  45%|███████████████████████████▍                                 | 225/500 [36:48<33:42,  7.36s/it]"
     ]
    },
    {
     "name": "stdout",
     "output_type": "stream",
     "text": [
      "jacquemus\\2022-01-11_20-43-39_UTC_1.jpg jacquemus\\2022-01-11_20-43-39_UTC_2.jpg jacquemus\\2022-01-11_20-43-39_UTC_3.jpg jacquemus\\2022-01-11_20-43-39_UTC_4.jpg [violet] json \n"
     ]
    },
    {
     "name": "stderr",
     "output_type": "stream",
     "text": [
      "Downloading posts:  45%|███████████████████████████▌                                 | 226/500 [36:53<29:58,  6.56s/it]"
     ]
    },
    {
     "name": "stdout",
     "output_type": "stream",
     "text": [
      "jacquemus\\2022-01-09_16-29-16_UTC.jpg [Paris] json \n"
     ]
    },
    {
     "name": "stderr",
     "output_type": "stream",
     "text": [
      "Downloading posts:  45%|███████████████████████████▋                                 | 227/500 [36:58<28:34,  6.28s/it]"
     ]
    },
    {
     "name": "stdout",
     "output_type": "stream",
     "text": [
      "jacquemus\\2022-01-08_13-23-10_UTC_1.jpg jacquemus\\2022-01-08_13-23-10_UTC_2.jpg jacquemus\\2022-01-08_13-23-10_UTC_3.jpg jacquemus\\2022-01-08_13-23-10_UTC_4.jpg jacquemus\\2022-01-08_13-23-10_UTC_5.jpg jacquemus\\2022-01-08_13-23-10_UTC_6.jpg [Can I go? Can we do a little …] json \n"
     ]
    },
    {
     "name": "stderr",
     "output_type": "stream",
     "text": [
      "Downloading posts:  46%|███████████████████████████▊                                 | 228/500 [37:05<28:28,  6.28s/it]"
     ]
    },
    {
     "name": "stdout",
     "output_type": "stream",
     "text": [
      "jacquemus\\2022-01-06_16-50-28_UTC_1.jpg jacquemus\\2022-01-06_16-50-28_UTC_2.jpg jacquemus\\2022-01-06_16-50-28_UTC_3.jpg jacquemus\\2022-01-06_16-50-28_UTC_4.jpg jacquemus\\2022-01-06_16-50-28_UTC_5.jpg jacquemus\\2022-01-06_16-50-28_UTC_6.jpg jacquemus\\2022-01-06_16-50-28_UTC_7.jpg jacquemus\\2022-01-06_16-50-28_UTC_8.jpg jacquemus\\2022-01-06_16-50-28_UTC_9.jpg jacquemus\\2022-01-06_16-50-28_UTC_10.jpg [2022, please caption this] json \n"
     ]
    },
    {
     "name": "stderr",
     "output_type": "stream",
     "text": [
      "Downloading posts:  46%|███████████████████████████▉                                 | 229/500 [37:20<40:28,  8.96s/it]"
     ]
    },
    {
     "name": "stdout",
     "output_type": "stream",
     "text": [
      "jacquemus\\2022-01-05_17-02-31_UTC_1.jpg jacquemus\\2022-01-05_17-02-31_UTC_2.jpg jacquemus\\2022-01-05_17-02-31_UTC_3.jpg jacquemus\\2022-01-05_17-02-31_UTC_4.jpg jacquemus\\2022-01-05_17-02-31_UTC_5.jpg jacquemus\\2022-01-05_17-02-31_UTC_6.jpg jacquemus\\2022-01-05_17-02-31_UTC_7.jpg jacquemus\\2022-01-05_17-02-31_UTC_7.mp4 jacquemus\\2022-01-05_17-02-31_UTC_8.jpg jacquemus\\2022-01-05_17-02-31_UTC_9.jpg jacquemus\\2022-01-05_17-02-31_UTC_10.jpg jacquemus\\2022-01-05_17-02-31_UTC_10.mp4 [just a toutou album] json \n"
     ]
    },
    {
     "name": "stderr",
     "output_type": "stream",
     "text": [
      "Downloading posts:  46%|████████████████████████████                                 | 230/500 [37:34<47:40, 10.59s/it]"
     ]
    },
    {
     "name": "stdout",
     "output_type": "stream",
     "text": [
      "jacquemus\\2022-01-02_12-27-04_UTC_1.jpg jacquemus\\2022-01-02_12-27-04_UTC_2.jpg jacquemus\\2022-01-02_12-27-04_UTC_3.jpg jacquemus\\2022-01-02_12-27-04_UTC_4.jpg jacquemus\\2022-01-02_12-27-04_UTC_5.jpg jacquemus\\2022-01-02_12-27-04_UTC_6.jpg jacquemus\\2022-01-02_12-27-04_UTC_7.jpg jacquemus\\2022-01-02_12-27-04_UTC_8.jpg jacquemus\\2022-01-02_12-27-04_UTC_9.jpg jacquemus\\2022-01-02_12-27-04_UTC_9.mp4 jacquemus\\2022-01-02_12-27-04_UTC_10.jpg [With love 💕] json \n"
     ]
    },
    {
     "name": "stderr",
     "output_type": "stream",
     "text": [
      "Downloading posts:  46%|████████████████████████████▏                                | 231/500 [37:45<48:15, 10.76s/it]"
     ]
    },
    {
     "name": "stdout",
     "output_type": "stream",
     "text": [
      "jacquemus\\2022-01-01_11-49-54_UTC.jpg [2022 💙] jacquemus\\2022-01-01_11-49-54_UTC.mp4 json \n"
     ]
    },
    {
     "name": "stderr",
     "output_type": "stream",
     "text": [
      "Downloading posts:  46%|████████████████████████████▎                                | 232/500 [37:52<42:22,  9.49s/it]"
     ]
    },
    {
     "name": "stdout",
     "output_type": "stream",
     "text": [
      "jacquemus\\2021-12-31_15-22-41_UTC_1.jpg jacquemus\\2021-12-31_15-22-41_UTC_2.jpg jacquemus\\2021-12-31_15-22-41_UTC_3.jpg jacquemus\\2021-12-31_15-22-41_UTC_3.mp4 jacquemus\\2021-12-31_15-22-41_UTC_4.jpg jacquemus\\2021-12-31_15-22-41_UTC_5.jpg jacquemus\\2021-12-31_15-22-41_UTC_6.jpg jacquemus\\2021-12-31_15-22-41_UTC_7.jpg jacquemus\\2021-12-31_15-22-41_UTC_8.jpg jacquemus\\2021-12-31_15-22-41_UTC_9.jpg jacquemus\\2021-12-31_15-22-41_UTC_9.mp4 [🤭💓🌋] json \n"
     ]
    },
    {
     "name": "stderr",
     "output_type": "stream",
     "text": [
      "Downloading posts:  47%|████████████████████████████▍                                | 233/500 [38:03<44:44, 10.05s/it]"
     ]
    },
    {
     "name": "stdout",
     "output_type": "stream",
     "text": [
      "jacquemus\\2021-12-23_16-19-09_UTC_1.jpg jacquemus\\2021-12-23_16-19-09_UTC_2.jpg jacquemus\\2021-12-23_16-19-09_UTC_3.jpg jacquemus\\2021-12-23_16-19-09_UTC_3.mp4 jacquemus\\2021-12-23_16-19-09_UTC_4.jpg jacquemus\\2021-12-23_16-19-09_UTC_5.jpg jacquemus\\2021-12-23_16-19-09_UTC_6.jpg jacquemus\\2021-12-23_16-19-09_UTC_7.jpg jacquemus\\2021-12-23_16-19-09_UTC_7.mp4 jacquemus\\2021-12-23_16-19-09_UTC_8.jpg jacquemus\\2021-12-23_16-19-09_UTC_9.jpg jacquemus\\2021-12-23_16-19-09_UTC_10.jpg [ELLE SPECIAL JACQUEMUS with t…] json \n"
     ]
    },
    {
     "name": "stderr",
     "output_type": "stream",
     "text": [
      "Downloading posts:  47%|████████████████████████████▌                                | 234/500 [38:14<46:02, 10.39s/it]"
     ]
    },
    {
     "name": "stdout",
     "output_type": "stream",
     "text": [
      "jacquemus\\2021-12-21_14-49-02_UTC.jpg [this mood right now] json \n"
     ]
    },
    {
     "name": "stderr",
     "output_type": "stream",
     "text": [
      "Downloading posts:  47%|████████████████████████████▋                                | 235/500 [38:18<37:03,  8.39s/it]"
     ]
    },
    {
     "name": "stdout",
     "output_type": "stream",
     "text": [
      "jacquemus\\2021-12-12_17-01-31_UTC_1.jpg jacquemus\\2021-12-12_17-01-31_UTC_2.jpg [Someone need a rainbow ? 🌈] json \n"
     ]
    },
    {
     "name": "stderr",
     "output_type": "stream",
     "text": [
      "Downloading posts:  47%|████████████████████████████▊                                | 236/500 [38:27<36:57,  8.40s/it]"
     ]
    },
    {
     "name": "stdout",
     "output_type": "stream",
     "text": [
      "jacquemus\\2021-12-11_19-14-25_UTC.jpg [Just find this picture of her…] json \n"
     ]
    },
    {
     "name": "stderr",
     "output_type": "stream",
     "text": [
      "Downloading posts:  47%|████████████████████████████▉                                | 237/500 [38:32<33:10,  7.57s/it]"
     ]
    },
    {
     "name": "stdout",
     "output_type": "stream",
     "text": [
      "jacquemus\\2021-12-10_16-18-41_UTC_1.jpg jacquemus\\2021-12-10_16-18-41_UTC_2.jpg [🙏🏽 @asaprocky] json \n"
     ]
    },
    {
     "name": "stderr",
     "output_type": "stream",
     "text": [
      "Downloading posts:  48%|█████████████████████████████                                | 238/500 [38:39<32:35,  7.47s/it]"
     ]
    },
    {
     "name": "stdout",
     "output_type": "stream",
     "text": [
      "jacquemus\\2021-12-07_16-59-42_UTC.jpg [What’s your fav colors so?  «…] json \n"
     ]
    },
    {
     "name": "stderr",
     "output_type": "stream",
     "text": [
      "Downloading posts:  48%|█████████████████████████████▏                               | 239/500 [38:44<28:54,  6.64s/it]"
     ]
    },
    {
     "name": "stdout",
     "output_type": "stream",
     "text": [
      "jacquemus\\2021-12-06_17-04-07_UTC_1.jpg jacquemus\\2021-12-06_17-04-07_UTC_2.jpg jacquemus\\2021-12-06_17-04-07_UTC_3.jpg [Big mood 😍 @hoooooyeony] json \n"
     ]
    },
    {
     "name": "stderr",
     "output_type": "stream",
     "text": [
      "Downloading posts:  48%|█████████████████████████████▎                               | 240/500 [38:50<27:43,  6.40s/it]"
     ]
    },
    {
     "name": "stdout",
     "output_type": "stream",
     "text": [
      "jacquemus\\2021-12-05_10-00-07_UTC.jpg [💕 @hoooooyeony] json \n"
     ]
    },
    {
     "name": "stderr",
     "output_type": "stream",
     "text": [
      "Downloading posts:  48%|█████████████████████████████▍                               | 241/500 [38:55<25:16,  5.86s/it]"
     ]
    },
    {
     "name": "stdout",
     "output_type": "stream",
     "text": [
      "jacquemus\\2021-12-05_00-07-04_UTC_1.jpg jacquemus\\2021-12-05_00-07-04_UTC_2.jpg jacquemus\\2021-12-05_00-07-04_UTC_3.jpg jacquemus\\2021-12-05_00-07-04_UTC_4.jpg jacquemus\\2021-12-05_00-07-04_UTC_5.jpg [Your fav night shop 😍  Thank …] json \n"
     ]
    },
    {
     "name": "stderr",
     "output_type": "stream",
     "text": [
      "Downloading posts:  48%|█████████████████████████████▌                               | 242/500 [39:04<29:51,  6.94s/it]"
     ]
    },
    {
     "name": "stdout",
     "output_type": "stream",
     "text": [
      "jacquemus\\2021-12-03_10-20-24_UTC.jpg [💕] json \n"
     ]
    },
    {
     "name": "stderr",
     "output_type": "stream",
     "text": [
      "Downloading posts:  49%|█████████████████████████████▋                               | 243/500 [39:08<25:39,  5.99s/it]"
     ]
    },
    {
     "name": "stdout",
     "output_type": "stream",
     "text": [
      "jacquemus\\2021-12-02_16-48-47_UTC_1.jpg jacquemus\\2021-12-02_16-48-47_UTC_2.jpg jacquemus\\2021-12-02_16-48-47_UTC_3.jpg jacquemus\\2021-12-02_16-48-47_UTC_3.mp4 jacquemus\\2021-12-02_16-48-47_UTC_4.jpg jacquemus\\2021-12-02_16-48-47_UTC_5.jpg jacquemus\\2021-12-02_16-48-47_UTC_5.mp4 jacquemus\\2021-12-02_16-48-47_UTC_6.jpg jacquemus\\2021-12-02_16-48-47_UTC_6.mp4 jacquemus\\2021-12-02_16-48-47_UTC_7.jpg jacquemus\\2021-12-02_16-48-47_UTC_8.jpg jacquemus\\2021-12-02_16-48-47_UTC_9.jpg jacquemus\\2021-12-02_16-48-47_UTC_9.mp4 jacquemus\\2021-12-02_16-48-47_UTC_10.jpg [« JACQUEMUS 24/24 »  To celeb…] json \n"
     ]
    },
    {
     "name": "stderr",
     "output_type": "stream",
     "text": [
      "Downloading posts:  49%|█████████████████████████████▊                               | 244/500 [39:25<39:23,  9.23s/it]"
     ]
    },
    {
     "name": "stdout",
     "output_type": "stream",
     "text": [
      "jacquemus\\2021-11-30_16-45-12_UTC_1.jpg jacquemus\\2021-11-30_16-45-12_UTC_2.jpg jacquemus\\2021-11-30_16-45-12_UTC_3.jpg jacquemus\\2021-11-30_16-45-12_UTC_4.jpg jacquemus\\2021-11-30_16-45-12_UTC_5.jpg jacquemus\\2021-11-30_16-45-12_UTC_6.jpg jacquemus\\2021-11-30_16-45-12_UTC_7.jpg jacquemus\\2021-11-30_16-45-12_UTC_8.jpg jacquemus\\2021-11-30_16-45-12_UTC_9.jpg jacquemus\\2021-11-30_16-45-12_UTC_10.jpg [« PINK2 » now available  Happ…] json \n"
     ]
    },
    {
     "name": "stderr",
     "output_type": "stream",
     "text": [
      "Downloading posts:  49%|█████████████████████████████▉                               | 245/500 [39:39<45:45, 10.77s/it]"
     ]
    },
    {
     "name": "stdout",
     "output_type": "stream",
     "text": [
      "jacquemus\\2021-11-30_12-00-26_UTC_1.jpg jacquemus\\2021-11-30_12-00-26_UTC_2.jpg jacquemus\\2021-11-30_12-00-26_UTC_3.jpg jacquemus\\2021-11-30_12-00-26_UTC_4.jpg jacquemus\\2021-11-30_12-00-26_UTC_5.jpg jacquemus\\2021-11-30_12-00-26_UTC_6.jpg jacquemus\\2021-11-30_12-00-26_UTC_7.jpg jacquemus\\2021-11-30_12-00-26_UTC_8.jpg jacquemus\\2021-11-30_12-00-26_UTC_9.jpg jacquemus\\2021-11-30_12-00-26_UTC_10.jpg [« PINK 2 » Jacquemus.com] json \n"
     ]
    },
    {
     "name": "stderr",
     "output_type": "stream",
     "text": [
      "Downloading posts:  49%|██████████████████████████████                               | 246/500 [39:51<47:31, 11.23s/it]"
     ]
    },
    {
     "name": "stdout",
     "output_type": "stream",
     "text": [
      "jacquemus\\2021-11-28_18-47-30_UTC.jpg [VIRGIL ABLOH 🕊] json \n"
     ]
    },
    {
     "name": "stderr",
     "output_type": "stream",
     "text": [
      "Downloading posts:  49%|██████████████████████████████▏                              | 247/500 [39:59<42:53, 10.17s/it]"
     ]
    },
    {
     "name": "stdout",
     "output_type": "stream",
     "text": [
      "jacquemus\\2021-11-25_20-30-38_UTC.jpg [Today] json \n"
     ]
    },
    {
     "name": "stderr",
     "output_type": "stream",
     "text": [
      "Downloading posts:  50%|██████████████████████████████▎                              | 248/500 [40:02<33:19,  7.94s/it]"
     ]
    },
    {
     "name": "stdout",
     "output_type": "stream",
     "text": [
      "jacquemus\\2021-11-22_17-14-43_UTC.jpg [Are you ready for a Jacquemus…] json \n"
     ]
    },
    {
     "name": "stderr",
     "output_type": "stream",
     "text": [
      "Downloading posts:  50%|██████████████████████████████▍                              | 249/500 [40:10<33:01,  7.89s/it]"
     ]
    },
    {
     "name": "stdout",
     "output_type": "stream",
     "text": [
      "jacquemus\\2021-11-18_13-47-05_UTC.jpg [are you ready for a pink ride…] json \n"
     ]
    },
    {
     "name": "stderr",
     "output_type": "stream",
     "text": [
      "Downloading posts:  50%|██████████████████████████████▌                              | 250/500 [40:15<30:17,  7.27s/it]"
     ]
    },
    {
     "name": "stdout",
     "output_type": "stream",
     "text": [
      "jacquemus\\2021-11-06_19-28-34_UTC.jpg [caption this] json \n"
     ]
    },
    {
     "name": "stderr",
     "output_type": "stream",
     "text": [
      "Downloading posts:  50%|██████████████████████████████▌                              | 251/500 [40:22<29:37,  7.14s/it]"
     ]
    },
    {
     "name": "stdout",
     "output_type": "stream",
     "text": [
      "jacquemus\\2021-11-05_13-39-29_UTC_1.jpg jacquemus\\2021-11-05_13-39-29_UTC_2.jpg jacquemus\\2021-11-05_13-39-29_UTC_3.jpg jacquemus\\2021-11-05_13-39-29_UTC_4.jpg jacquemus\\2021-11-05_13-39-29_UTC_5.jpg jacquemus\\2021-11-05_13-39-29_UTC_6.jpg jacquemus\\2021-11-05_13-39-29_UTC_7.jpg [Channeling Kendall Jenner for…] json \n"
     ]
    },
    {
     "name": "stderr",
     "output_type": "stream",
     "text": [
      "Downloading posts:  50%|██████████████████████████████▋                              | 252/500 [40:35<36:19,  8.79s/it]"
     ]
    },
    {
     "name": "stdout",
     "output_type": "stream",
     "text": [
      "jacquemus\\2021-11-02_19-33-13_UTC_1.jpg jacquemus\\2021-11-02_19-33-13_UTC_2.jpg jacquemus\\2021-11-02_19-33-13_UTC_3.jpg jacquemus\\2021-11-02_19-33-13_UTC_4.jpg jacquemus\\2021-11-02_19-33-13_UTC_5.jpg jacquemus\\2021-11-02_19-33-13_UTC_6.jpg [mix of my screenshoots] json \n"
     ]
    },
    {
     "name": "stderr",
     "output_type": "stream",
     "text": [
      "Downloading posts:  51%|██████████████████████████████▊                              | 253/500 [40:43<35:18,  8.58s/it]"
     ]
    },
    {
     "name": "stdout",
     "output_type": "stream",
     "text": [
      "jacquemus\\2021-11-02_17-41-26_UTC.jpg [FACES 💛] jacquemus\\2021-11-02_17-41-26_UTC.mp4 json \n"
     ]
    },
    {
     "name": "stderr",
     "output_type": "stream",
     "text": [
      "Downloading posts:  51%|██████████████████████████████▉                              | 254/500 [40:51<34:19,  8.37s/it]"
     ]
    },
    {
     "name": "stdout",
     "output_type": "stream",
     "text": [
      "jacquemus\\2021-10-27_15-27-59_UTC_1.jpg jacquemus\\2021-10-27_15-27-59_UTC_2.jpg [tell me?] json \n"
     ]
    },
    {
     "name": "stderr",
     "output_type": "stream",
     "text": [
      "Downloading posts:  51%|███████████████████████████████                              | 255/500 [40:59<33:58,  8.32s/it]"
     ]
    },
    {
     "name": "stdout",
     "output_type": "stream",
     "text": [
      "jacquemus\\2021-10-24_19-35-32_UTC.jpg [this time of the year..] json \n"
     ]
    },
    {
     "name": "stderr",
     "output_type": "stream",
     "text": [
      "Downloading posts:  51%|███████████████████████████████▏                             | 256/500 [41:03<28:05,  6.91s/it]"
     ]
    },
    {
     "name": "stdout",
     "output_type": "stream",
     "text": [
      "jacquemus\\2021-10-18_17-25-55_UTC_1.jpg jacquemus\\2021-10-18_17-25-55_UTC_2.jpg jacquemus\\2021-10-18_17-25-55_UTC_3.jpg [FRENCH BRAND SINCE 2009  🌞😀] json \n"
     ]
    },
    {
     "name": "stderr",
     "output_type": "stream",
     "text": [
      "Downloading posts:  51%|███████████████████████████████▎                             | 257/500 [41:10<28:15,  6.98s/it]"
     ]
    },
    {
     "name": "stdout",
     "output_type": "stream",
     "text": [
      "jacquemus\\2021-10-17_09-36-41_UTC_1.jpg jacquemus\\2021-10-17_09-36-41_UTC_2.jpg jacquemus\\2021-10-17_09-36-41_UTC_3.jpg jacquemus\\2021-10-17_09-36-41_UTC_4.jpg jacquemus\\2021-10-17_09-36-41_UTC_5.jpg [celebrating love in Venezia  …] json \n"
     ]
    },
    {
     "name": "stderr",
     "output_type": "stream",
     "text": [
      "Downloading posts:  52%|███████████████████████████████▍                             | 258/500 [41:19<30:22,  7.53s/it]"
     ]
    },
    {
     "name": "stdout",
     "output_type": "stream",
     "text": [
      "jacquemus\\2021-10-13_10-56-32_UTC.jpg [passeport picture avec le S] json \n"
     ]
    },
    {
     "name": "stderr",
     "output_type": "stream",
     "text": [
      "Downloading posts:  52%|███████████████████████████████▌                             | 259/500 [41:25<29:08,  7.25s/it]"
     ]
    },
    {
     "name": "stdout",
     "output_type": "stream",
     "text": [
      "jacquemus\\2021-10-12_16-11-29_UTC_1.jpg jacquemus\\2021-10-12_16-11-29_UTC_2.jpg jacquemus\\2021-10-12_16-11-29_UTC_3.jpg jacquemus\\2021-10-12_16-11-29_UTC_4.jpg jacquemus\\2021-10-12_16-11-29_UTC_5.jpg jacquemus\\2021-10-12_16-11-29_UTC_6.jpg jacquemus\\2021-10-12_16-11-29_UTC_7.jpg [last year during corona, when…] json \n"
     ]
    },
    {
     "name": "stderr",
     "output_type": "stream",
     "text": [
      "Downloading posts:  52%|███████████████████████████████▋                             | 260/500 [41:33<29:58,  7.49s/it]"
     ]
    },
    {
     "name": "stdout",
     "output_type": "stream",
     "text": [
      "jacquemus\\2021-10-11_16-15-08_UTC_1.jpg jacquemus\\2021-10-11_16-15-08_UTC_2.jpg jacquemus\\2021-10-11_16-15-08_UTC_3.jpg jacquemus\\2021-10-11_16-15-08_UTC_4.jpg jacquemus\\2021-10-11_16-15-08_UTC_5.jpg jacquemus\\2021-10-11_16-15-08_UTC_6.jpg jacquemus\\2021-10-11_16-15-08_UTC_7.jpg jacquemus\\2021-10-11_16-15-08_UTC_8.jpg jacquemus\\2021-10-11_16-15-08_UTC_9.jpg jacquemus\\2021-10-11_16-15-08_UTC_10.jpg [LA MONTAGNE  Backstage par Tim] json \n"
     ]
    },
    {
     "name": "stderr",
     "output_type": "stream",
     "text": [
      "Downloading posts:  52%|███████████████████████████████▊                             | 261/500 [41:43<32:21,  8.12s/it]"
     ]
    },
    {
     "name": "stdout",
     "output_type": "stream",
     "text": [
      "jacquemus\\2021-10-10_17-58-26_UTC.jpg [sunday] json \n"
     ]
    },
    {
     "name": "stderr",
     "output_type": "stream",
     "text": [
      "Downloading posts:  52%|███████████████████████████████▉                             | 262/500 [41:50<31:40,  7.98s/it]"
     ]
    },
    {
     "name": "stdout",
     "output_type": "stream",
     "text": [
      "jacquemus\\2021-10-07_20-05-51_UTC.jpg [pistachio] json \n"
     ]
    },
    {
     "name": "stderr",
     "output_type": "stream",
     "text": [
      "Downloading posts:  53%|████████████████████████████████                             | 263/500 [42:00<33:37,  8.51s/it]"
     ]
    },
    {
     "name": "stdout",
     "output_type": "stream",
     "text": [
      "jacquemus\\2021-10-06_17-06-57_UTC_1.jpg jacquemus\\2021-10-06_17-06-57_UTC_2.jpg jacquemus\\2021-10-06_17-06-57_UTC_3.jpg jacquemus\\2021-10-06_17-06-57_UTC_4.jpg jacquemus\\2021-10-06_17-06-57_UTC_5.jpg jacquemus\\2021-10-06_17-06-57_UTC_6.jpg jacquemus\\2021-10-06_17-06-57_UTC_7.jpg jacquemus\\2021-10-06_17-06-57_UTC_8.jpg jacquemus\\2021-10-06_17-06-57_UTC_9.jpg [💕 this month 🥺] json \n"
     ]
    },
    {
     "name": "stderr",
     "output_type": "stream",
     "text": [
      "Downloading posts:  53%|████████████████████████████████▏                            | 264/500 [42:09<33:33,  8.53s/it]"
     ]
    },
    {
     "name": "stdout",
     "output_type": "stream",
     "text": [
      "jacquemus\\2021-10-04_15-11-57_UTC_1.jpg jacquemus\\2021-10-04_15-11-57_UTC_2.jpg jacquemus\\2021-10-04_15-11-57_UTC_3.jpg jacquemus\\2021-10-04_15-11-57_UTC_4.jpg jacquemus\\2021-10-04_15-11-57_UTC_5.jpg jacquemus\\2021-10-04_15-11-57_UTC_6.jpg [« LA MONTAGNE » Par Camille S…] json \n"
     ]
    },
    {
     "name": "stderr",
     "output_type": "stream",
     "text": [
      "Downloading posts:  53%|████████████████████████████████▎                            | 265/500 [42:17<32:59,  8.42s/it]"
     ]
    },
    {
     "name": "stdout",
     "output_type": "stream",
     "text": [
      "jacquemus\\2021-10-03_15-31-36_UTC.jpg [what’s your number ? 🎂💕🥵] json \n"
     ]
    },
    {
     "name": "stderr",
     "output_type": "stream",
     "text": [
      "Downloading posts:  53%|████████████████████████████████▍                            | 266/500 [42:23<29:34,  7.58s/it]"
     ]
    },
    {
     "name": "stdout",
     "output_type": "stream",
     "text": [
      "jacquemus\\2021-09-29_20-37-29_UTC.jpg [Forever dreaming 💕] json \n"
     ]
    },
    {
     "name": "stderr",
     "output_type": "stream",
     "text": [
      "Downloading posts:  53%|████████████████████████████████▌                            | 267/500 [42:27<25:57,  6.68s/it]"
     ]
    },
    {
     "name": "stdout",
     "output_type": "stream",
     "text": [
      "jacquemus\\2021-09-28_14-35-09_UTC_1.jpg jacquemus\\2021-09-28_14-35-09_UTC_2.jpg jacquemus\\2021-09-28_14-35-09_UTC_3.jpg jacquemus\\2021-09-28_14-35-09_UTC_4.jpg jacquemus\\2021-09-28_14-35-09_UTC_5.jpg jacquemus\\2021-09-28_14-35-09_UTC_6.jpg jacquemus\\2021-09-28_14-35-09_UTC_7.jpg jacquemus\\2021-09-28_14-35-09_UTC_8.jpg jacquemus\\2021-09-28_14-35-09_UTC_9.jpg [END OF SUMMER LIKE] json \n"
     ]
    },
    {
     "name": "stderr",
     "output_type": "stream",
     "text": [
      "Downloading posts:  54%|████████████████████████████████▋                            | 268/500 [42:36<28:21,  7.34s/it]"
     ]
    },
    {
     "name": "stdout",
     "output_type": "stream",
     "text": [
      "jacquemus\\2021-09-26_11-40-37_UTC.jpg [HUNGRY?] json \n"
     ]
    },
    {
     "name": "stderr",
     "output_type": "stream",
     "text": [
      "Downloading posts:  54%|████████████████████████████████▊                            | 269/500 [42:41<25:11,  6.54s/it]"
     ]
    },
    {
     "name": "stdout",
     "output_type": "stream",
     "text": [
      "jacquemus\\2021-09-22_14-21-20_UTC.jpg [your new teddy bear 🤎] json \n"
     ]
    },
    {
     "name": "stderr",
     "output_type": "stream",
     "text": [
      "Downloading posts:  54%|████████████████████████████████▉                            | 270/500 [42:45<22:49,  5.96s/it]"
     ]
    },
    {
     "name": "stdout",
     "output_type": "stream",
     "text": [
      "jacquemus\\2021-09-20_14-18-54_UTC.jpg [“LE CIUCIU” 🧡 @bellahadid] jacquemus\\2021-09-20_14-18-54_UTC.mp4 json \n"
     ]
    },
    {
     "name": "stderr",
     "output_type": "stream",
     "text": [
      "Downloading posts:  54%|█████████████████████████████████                            | 271/500 [42:53<24:28,  6.41s/it]"
     ]
    },
    {
     "name": "stdout",
     "output_type": "stream",
     "text": [
      "jacquemus\\2021-09-20_14-09-12_UTC.jpg [MONDAY] json \n"
     ]
    },
    {
     "name": "stderr",
     "output_type": "stream",
     "text": [
      "Downloading posts:  54%|█████████████████████████████████▏                           | 272/500 [43:00<25:45,  6.78s/it]"
     ]
    },
    {
     "name": "stdout",
     "output_type": "stream",
     "text": [
      "jacquemus\\2021-09-16_15-30-35_UTC_1.jpg jacquemus\\2021-09-16_15-30-35_UTC_2.jpg jacquemus\\2021-09-16_15-30-35_UTC_3.jpg jacquemus\\2021-09-16_15-30-35_UTC_4.jpg jacquemus\\2021-09-16_15-30-35_UTC_5.jpg jacquemus\\2021-09-16_15-30-35_UTC_6.jpg [« WHICH DOG ARE YOU? » Par Ca…] json \n"
     ]
    },
    {
     "name": "stderr",
     "output_type": "stream",
     "text": [
      "Downloading posts:  55%|█████████████████████████████████▎                           | 273/500 [43:10<28:42,  7.59s/it]"
     ]
    },
    {
     "name": "stdout",
     "output_type": "stream",
     "text": [
      "jacquemus\\2021-09-13_10-32-30_UTC_1.jpg jacquemus\\2021-09-13_10-32-30_UTC_1.mp4 jacquemus\\2021-09-13_10-32-30_UTC_2.jpg jacquemus\\2021-09-13_10-32-30_UTC_3.jpg jacquemus\\2021-09-13_10-32-30_UTC_3.mp4 jacquemus\\2021-09-13_10-32-30_UTC_4.jpg jacquemus\\2021-09-13_10-32-30_UTC_4.mp4 jacquemus\\2021-09-13_10-32-30_UTC_5.jpg jacquemus\\2021-09-13_10-32-30_UTC_5.mp4 jacquemus\\2021-09-13_10-32-30_UTC_6.jpg [Paris, lundi 13 septembre 202…] json \n"
     ]
    },
    {
     "name": "stderr",
     "output_type": "stream",
     "text": [
      "Downloading posts:  55%|█████████████████████████████████▍                           | 274/500 [43:23<34:43,  9.22s/it]"
     ]
    },
    {
     "name": "stdout",
     "output_type": "stream",
     "text": [
      "jacquemus\\2021-09-12_11-47-18_UTC.jpg [SUNDAY LIKE You?] json \n"
     ]
    },
    {
     "name": "stderr",
     "output_type": "stream",
     "text": [
      "Downloading posts:  55%|█████████████████████████████████▌                           | 275/500 [43:27<28:16,  7.54s/it]"
     ]
    },
    {
     "name": "stdout",
     "output_type": "stream",
     "text": [
      "jacquemus\\2021-09-09_16-15-01_UTC.jpg [FAMILY LOVE « LA MONTAGNE » p…] jacquemus\\2021-09-09_16-15-01_UTC.mp4 json \n"
     ]
    },
    {
     "name": "stderr",
     "output_type": "stream",
     "text": [
      "Downloading posts:  55%|█████████████████████████████████▋                           | 276/500 [43:34<27:54,  7.48s/it]"
     ]
    },
    {
     "name": "stdout",
     "output_type": "stream",
     "text": [
      "jacquemus\\2021-09-08_17-25-17_UTC_1.jpg jacquemus\\2021-09-08_17-25-17_UTC_2.jpg jacquemus\\2021-09-08_17-25-17_UTC_3.jpg jacquemus\\2021-09-08_17-25-17_UTC_4.jpg jacquemus\\2021-09-08_17-25-17_UTC_5.jpg jacquemus\\2021-09-08_17-25-17_UTC_6.jpg jacquemus\\2021-09-08_17-25-17_UTC_7.jpg jacquemus\\2021-09-08_17-25-17_UTC_8.jpg jacquemus\\2021-09-08_17-25-17_UTC_9.jpg jacquemus\\2021-09-08_17-25-17_UTC_10.jpg [FAMILY LOVE « LA MONTAGNE » p…] json \n"
     ]
    },
    {
     "name": "stderr",
     "output_type": "stream",
     "text": [
      "Downloading posts:  55%|█████████████████████████████████▊                           | 277/500 [43:43<29:51,  8.03s/it]"
     ]
    },
    {
     "name": "stdout",
     "output_type": "stream",
     "text": [
      "jacquemus\\2021-09-02_16-19-45_UTC_1.jpg jacquemus\\2021-09-02_16-19-45_UTC_2.jpg jacquemus\\2021-09-02_16-19-45_UTC_3.jpg jacquemus\\2021-09-02_16-19-45_UTC_4.jpg jacquemus\\2021-09-02_16-19-45_UTC_5.jpg jacquemus\\2021-09-02_16-19-45_UTC_6.jpg jacquemus\\2021-09-02_16-19-45_UTC_7.jpg jacquemus\\2021-09-02_16-19-45_UTC_8.jpg jacquemus\\2021-09-02_16-19-45_UTC_9.jpg jacquemus\\2021-09-02_16-19-45_UTC_10.jpg [BACK AT THE OFFICE ❤️ LA TEAM J] json \n"
     ]
    },
    {
     "name": "stderr",
     "output_type": "stream",
     "text": [
      "Downloading posts:  56%|█████████████████████████████████▉                           | 278/500 [43:55<34:04,  9.21s/it]"
     ]
    },
    {
     "name": "stdout",
     "output_type": "stream",
     "text": [
      "jacquemus\\2021-08-30_19-11-45_UTC_1.jpg jacquemus\\2021-08-30_19-11-45_UTC_2.jpg [💕] json \n"
     ]
    },
    {
     "name": "stderr",
     "output_type": "stream",
     "text": [
      "Downloading posts:  56%|██████████████████████████████████                           | 279/500 [44:03<32:54,  8.94s/it]"
     ]
    },
    {
     "name": "stdout",
     "output_type": "stream",
     "text": [
      "jacquemus\\2021-08-30_16-17-34_UTC.jpg [LAST DAYS OF HOLIDAY LIKE…] json \n"
     ]
    },
    {
     "name": "stderr",
     "output_type": "stream",
     "text": [
      "Downloading posts:  56%|██████████████████████████████████▏                          | 280/500 [44:06<25:47,  7.03s/it]"
     ]
    },
    {
     "name": "stdout",
     "output_type": "stream",
     "text": [
      "jacquemus\\2021-08-29_15-35-03_UTC_1.jpg jacquemus\\2021-08-29_15-35-03_UTC_2.jpg jacquemus\\2021-08-29_15-35-03_UTC_2.mp4 jacquemus\\2021-08-29_15-35-03_UTC_3.jpg jacquemus\\2021-08-29_15-35-03_UTC_4.jpg jacquemus\\2021-08-29_15-35-03_UTC_5.jpg jacquemus\\2021-08-29_15-35-03_UTC_5.mp4 jacquemus\\2021-08-29_15-35-03_UTC_6.jpg jacquemus\\2021-08-29_15-35-03_UTC_7.jpg jacquemus\\2021-08-29_15-35-03_UTC_7.mp4 jacquemus\\2021-08-29_15-35-03_UTC_8.jpg jacquemus\\2021-08-29_15-35-03_UTC_9.jpg jacquemus\\2021-08-29_15-35-03_UTC_9.mp4 jacquemus\\2021-08-29_15-35-03_UTC_10.jpg [LES VACANCES DE MONSIEUR TOUTOU] json \n"
     ]
    },
    {
     "name": "stderr",
     "output_type": "stream",
     "text": [
      "Downloading posts:  56%|██████████████████████████████████▎                          | 281/500 [44:23<36:22,  9.97s/it]"
     ]
    },
    {
     "name": "stdout",
     "output_type": "stream",
     "text": [
      "jacquemus\\2021-08-28_16-44-29_UTC.jpg [MON PARADIS 🏔] json \n"
     ]
    },
    {
     "name": "stderr",
     "output_type": "stream",
     "text": [
      "Downloading posts:  56%|██████████████████████████████████▍                          | 282/500 [44:28<30:39,  8.44s/it]"
     ]
    },
    {
     "name": "stdout",
     "output_type": "stream",
     "text": [
      "jacquemus\\2021-08-26_15-55-33_UTC_1.jpg jacquemus\\2021-08-26_15-55-33_UTC_2.jpg jacquemus\\2021-08-26_15-55-33_UTC_3.jpg jacquemus\\2021-08-26_15-55-33_UTC_4.jpg jacquemus\\2021-08-26_15-55-33_UTC_5.jpg jacquemus\\2021-08-26_15-55-33_UTC_6.jpg jacquemus\\2021-08-26_15-55-33_UTC_7.jpg jacquemus\\2021-08-26_15-55-33_UTC_8.jpg jacquemus\\2021-08-26_15-55-33_UTC_9.jpg jacquemus\\2021-08-26_15-55-33_UTC_10.jpg [“LA MONTAGNE” Kendall par Dre…] json \n"
     ]
    },
    {
     "name": "stderr",
     "output_type": "stream",
     "text": [
      "Downloading posts:  57%|██████████████████████████████████▌                          | 283/500 [44:36<30:48,  8.52s/it]"
     ]
    },
    {
     "name": "stdout",
     "output_type": "stream",
     "text": [
      "jacquemus\\2021-08-24_15-02-33_UTC_1.jpg jacquemus\\2021-08-24_15-02-33_UTC_2.jpg jacquemus\\2021-08-24_15-02-33_UTC_3.jpg jacquemus\\2021-08-24_15-02-33_UTC_4.jpg jacquemus\\2021-08-24_15-02-33_UTC_5.jpg jacquemus\\2021-08-24_15-02-33_UTC_6.jpg jacquemus\\2021-08-24_15-02-33_UTC_7.jpg jacquemus\\2021-08-24_15-02-33_UTC_7.mp4 [Maman d’amour, Jacquemus c’es…] json \n"
     ]
    },
    {
     "name": "stderr",
     "output_type": "stream",
     "text": [
      "Downloading posts:  57%|██████████████████████████████████▋                          | 284/500 [44:48<33:52,  9.41s/it]"
     ]
    },
    {
     "name": "stdout",
     "output_type": "stream",
     "text": [
      "jacquemus\\2021-08-23_16-26-27_UTC.jpg [« LA MONTAGNE » OUT SOON,  wi…] json \n"
     ]
    },
    {
     "name": "stderr",
     "output_type": "stream",
     "text": [
      "Downloading posts:  57%|██████████████████████████████████▊                          | 285/500 [44:52<27:31,  7.68s/it]"
     ]
    },
    {
     "name": "stdout",
     "output_type": "stream",
     "text": [
      "jacquemus\\2021-08-21_15-23-39_UTC.jpg [JACQUEMUS SUMMER] json \n"
     ]
    },
    {
     "name": "stderr",
     "output_type": "stream",
     "text": [
      "Downloading posts:  57%|██████████████████████████████████▉                          | 286/500 [44:57<25:09,  7.05s/it]"
     ]
    },
    {
     "name": "stdout",
     "output_type": "stream",
     "text": [
      "jacquemus\\2021-08-17_17-54-08_UTC_1.jpg jacquemus\\2021-08-17_17-54-08_UTC_2.jpg jacquemus\\2021-08-17_17-54-08_UTC_3.jpg jacquemus\\2021-08-17_17-54-08_UTC_4.jpg jacquemus\\2021-08-17_17-54-08_UTC_5.jpg jacquemus\\2021-08-17_17-54-08_UTC_6.jpg jacquemus\\2021-08-17_17-54-08_UTC_7.jpg jacquemus\\2021-08-17_17-54-08_UTC_8.jpg jacquemus\\2021-08-17_17-54-08_UTC_9.jpg [LAST HOURS WAS MAGIC, ANY TIP…] json \n"
     ]
    },
    {
     "name": "stderr",
     "output_type": "stream",
     "text": [
      "Downloading posts:  57%|███████████████████████████████████                          | 287/500 [45:07<27:56,  7.87s/it]"
     ]
    },
    {
     "name": "stdout",
     "output_type": "stream",
     "text": [
      "jacquemus\\2021-08-16_08-49-15_UTC.jpg [“IMAGES” A year today ! Thank…] jacquemus\\2021-08-16_08-49-15_UTC.mp4 json \n"
     ]
    },
    {
     "name": "stderr",
     "output_type": "stream",
     "text": [
      "Downloading posts:  58%|███████████████████████████████████▏                         | 288/500 [45:16<29:00,  8.21s/it]"
     ]
    },
    {
     "name": "stdout",
     "output_type": "stream",
     "text": [
      "jacquemus\\2021-08-11_16-28-33_UTC_1.jpg jacquemus\\2021-08-11_16-28-33_UTC_2.jpg jacquemus\\2021-08-11_16-28-33_UTC_3.jpg jacquemus\\2021-08-11_16-28-33_UTC_4.jpg jacquemus\\2021-08-11_16-28-33_UTC_5.jpg jacquemus\\2021-08-11_16-28-33_UTC_6.jpg jacquemus\\2021-08-11_16-28-33_UTC_6.mp4 jacquemus\\2021-08-11_16-28-33_UTC_7.jpg jacquemus\\2021-08-11_16-28-33_UTC_8.jpg jacquemus\\2021-08-11_16-28-33_UTC_9.jpg jacquemus\\2021-08-11_16-28-33_UTC_10.jpg jacquemus\\2021-08-11_16-28-33_UTC_10.mp4 [🏕] json \n"
     ]
    },
    {
     "name": "stderr",
     "output_type": "stream",
     "text": [
      "Downloading posts:  58%|███████████████████████████████████▎                         | 289/500 [45:28<33:24,  9.50s/it]"
     ]
    },
    {
     "name": "stdout",
     "output_type": "stream",
     "text": [
      "jacquemus\\2021-07-24_15-48-04_UTC_1.jpg jacquemus\\2021-07-24_15-48-04_UTC_2.jpg jacquemus\\2021-07-24_15-48-04_UTC_3.jpg jacquemus\\2021-07-24_15-48-04_UTC_4.jpg jacquemus\\2021-07-24_15-48-04_UTC_4.mp4 [might delete later] json \n"
     ]
    },
    {
     "name": "stderr",
     "output_type": "stream",
     "text": [
      "Downloading posts:  58%|███████████████████████████████████▍                         | 290/500 [45:37<32:24,  9.26s/it]"
     ]
    },
    {
     "name": "stdout",
     "output_type": "stream",
     "text": [
      "jacquemus\\2021-07-21_19-12-09_UTC_1.jpg jacquemus\\2021-07-21_19-12-09_UTC_2.jpg jacquemus\\2021-07-21_19-12-09_UTC_3.jpg jacquemus\\2021-07-21_19-12-09_UTC_4.jpg jacquemus\\2021-07-21_19-12-09_UTC_5.jpg jacquemus\\2021-07-21_19-12-09_UTC_6.jpg jacquemus\\2021-07-21_19-12-09_UTC_7.jpg jacquemus\\2021-07-21_19-12-09_UTC_8.jpg jacquemus\\2021-07-21_19-12-09_UTC_9.jpg [🌍] json \n"
     ]
    },
    {
     "name": "stderr",
     "output_type": "stream",
     "text": [
      "Downloading posts:  58%|███████████████████████████████████▌                         | 291/500 [45:48<34:13,  9.83s/it]"
     ]
    },
    {
     "name": "stdout",
     "output_type": "stream",
     "text": [
      "jacquemus\\2021-07-14_13-59-06_UTC.jpg [NEED SUMMER] jacquemus\\2021-07-14_13-59-06_UTC.mp4 json \n"
     ]
    },
    {
     "name": "stderr",
     "output_type": "stream",
     "text": [
      "Downloading posts:  58%|███████████████████████████████████▌                         | 292/500 [45:57<32:52,  9.48s/it]"
     ]
    },
    {
     "name": "stdout",
     "output_type": "stream",
     "text": [
      "jacquemus\\2021-07-11_18-42-01_UTC_1.jpg jacquemus\\2021-07-11_18-42-01_UTC_2.jpg jacquemus\\2021-07-11_18-42-01_UTC_3.jpg jacquemus\\2021-07-11_18-42-01_UTC_4.jpg [ENSEMBLE  @davidluraschi new …] json \n"
     ]
    },
    {
     "name": "stderr",
     "output_type": "stream",
     "text": [
      "Downloading posts:  59%|███████████████████████████████████▋                         | 293/500 [46:01<27:28,  7.96s/it]"
     ]
    },
    {
     "name": "stdout",
     "output_type": "stream",
     "text": [
      "jacquemus\\2021-07-06_20-51-46_UTC_1.jpg jacquemus\\2021-07-06_20-51-46_UTC_2.jpg jacquemus\\2021-07-06_20-51-46_UTC_3.jpg jacquemus\\2021-07-06_20-51-46_UTC_4.jpg jacquemus\\2021-07-06_20-51-46_UTC_5.jpg jacquemus\\2021-07-06_20-51-46_UTC_6.jpg jacquemus\\2021-07-06_20-51-46_UTC_7.jpg jacquemus\\2021-07-06_20-51-46_UTC_8.jpg jacquemus\\2021-07-06_20-51-46_UTC_9.jpg jacquemus\\2021-07-06_20-51-46_UTC_10.jpg [FACES “LA MONTAGNE” JACQUEMUS…] json \n"
     ]
    },
    {
     "name": "stderr",
     "output_type": "stream",
     "text": [
      "Downloading posts:  59%|███████████████████████████████████▊                         | 294/500 [46:14<31:57,  9.31s/it]"
     ]
    },
    {
     "name": "stdout",
     "output_type": "stream",
     "text": [
      "jacquemus\\2021-07-06_14-39-45_UTC_1.jpg jacquemus\\2021-07-06_14-39-45_UTC_2.jpg jacquemus\\2021-07-06_14-39-45_UTC_3.jpg jacquemus\\2021-07-06_14-39-45_UTC_4.jpg jacquemus\\2021-07-06_14-39-45_UTC_5.jpg jacquemus\\2021-07-06_14-39-45_UTC_6.jpg jacquemus\\2021-07-06_14-39-45_UTC_7.jpg jacquemus\\2021-07-06_14-39-45_UTC_8.jpg jacquemus\\2021-07-06_14-39-45_UTC_9.jpg jacquemus\\2021-07-06_14-39-45_UTC_10.jpg [BAGS!? PICK YOUR NEW FAVORITE…] json \n"
     ]
    },
    {
     "name": "stderr",
     "output_type": "stream",
     "text": [
      "Downloading posts:  59%|███████████████████████████████████▉                         | 295/500 [46:23<31:25,  9.20s/it]"
     ]
    },
    {
     "name": "stdout",
     "output_type": "stream",
     "text": [
      "jacquemus\\2021-07-05_19-53-03_UTC_1.jpg jacquemus\\2021-07-05_19-53-03_UTC_2.jpg jacquemus\\2021-07-05_19-53-03_UTC_3.jpg jacquemus\\2021-07-05_19-53-03_UTC_4.jpg jacquemus\\2021-07-05_19-53-03_UTC_5.jpg jacquemus\\2021-07-05_19-53-03_UTC_6.jpg jacquemus\\2021-07-05_19-53-03_UTC_7.jpg jacquemus\\2021-07-05_19-53-03_UTC_8.jpg jacquemus\\2021-07-05_19-53-03_UTC_9.jpg [« LA MONTAGNE » AVAILABLE NOW…] json \n"
     ]
    },
    {
     "name": "stderr",
     "output_type": "stream",
     "text": [
      "Downloading posts:  59%|████████████████████████████████████                         | 296/500 [46:30<28:56,  8.51s/it]"
     ]
    },
    {
     "name": "stdout",
     "output_type": "stream",
     "text": [
      "jacquemus\\2021-07-05_16-11-30_UTC.jpg [OFFICIAL VIDEO] jacquemus\\2021-07-05_16-11-30_UTC.mp4 json \n"
     ]
    },
    {
     "name": "stderr",
     "output_type": "stream",
     "text": [
      "Downloading posts:  59%|████████████████████████████████████▏                        | 297/500 [46:45<35:57, 10.63s/it]"
     ]
    },
    {
     "name": "stdout",
     "output_type": "stream",
     "text": [
      "jacquemus\\2021-07-02_18-50-00_UTC_1.jpg jacquemus\\2021-07-02_18-50-00_UTC_2.jpg jacquemus\\2021-07-02_18-50-00_UTC_3.jpg jacquemus\\2021-07-02_18-50-00_UTC_4.jpg jacquemus\\2021-07-02_18-50-00_UTC_5.jpg jacquemus\\2021-07-02_18-50-00_UTC_6.jpg jacquemus\\2021-07-02_18-50-00_UTC_7.jpg [💙💚  “ LA MONTAGNE”] json \n"
     ]
    },
    {
     "name": "stderr",
     "output_type": "stream",
     "text": [
      "Downloading posts:  60%|████████████████████████████████████▎                        | 298/500 [46:52<32:04,  9.53s/it]"
     ]
    },
    {
     "name": "stdout",
     "output_type": "stream",
     "text": [
      "jacquemus\\2021-07-02_15-10-28_UTC_1.jpg jacquemus\\2021-07-02_15-10-28_UTC_2.jpg jacquemus\\2021-07-02_15-10-28_UTC_3.jpg jacquemus\\2021-07-02_15-10-28_UTC_4.jpg jacquemus\\2021-07-02_15-10-28_UTC_5.jpg jacquemus\\2021-07-02_15-10-28_UTC_6.jpg [« LA MONTAGNE » NOW AVAILABLE…] json \n"
     ]
    },
    {
     "name": "stderr",
     "output_type": "stream",
     "text": [
      "Downloading posts:  60%|████████████████████████████████████▍                        | 299/500 [47:00<29:48,  8.90s/it]"
     ]
    },
    {
     "name": "stdout",
     "output_type": "stream",
     "text": [
      "jacquemus\\2021-07-02_10-30-42_UTC_1.jpg jacquemus\\2021-07-02_10-30-42_UTC_2.jpg jacquemus\\2021-07-02_10-30-42_UTC_3.jpg jacquemus\\2021-07-02_10-30-42_UTC_4.jpg jacquemus\\2021-07-02_10-30-42_UTC_5.jpg jacquemus\\2021-07-02_10-30-42_UTC_6.jpg jacquemus\\2021-07-02_10-30-42_UTC_7.jpg jacquemus\\2021-07-02_10-30-42_UTC_8.jpg jacquemus\\2021-07-02_10-30-42_UTC_9.jpg jacquemus\\2021-07-02_10-30-42_UTC_10.jpg [« LA MONTAGNE » NOW AVAILABLE…] json \n"
     ]
    },
    {
     "name": "stderr",
     "output_type": "stream",
     "text": [
      "Downloading posts:  60%|████████████████████████████████████▌                        | 300/500 [47:11<32:33,  9.77s/it]"
     ]
    },
    {
     "name": "stdout",
     "output_type": "stream",
     "text": [
      "jacquemus\\2021-07-01_15-17-19_UTC_1.jpg jacquemus\\2021-07-01_15-17-19_UTC_2.jpg jacquemus\\2021-07-01_15-17-19_UTC_3.jpg jacquemus\\2021-07-01_15-17-19_UTC_4.jpg jacquemus\\2021-07-01_15-17-19_UTC_5.jpg jacquemus\\2021-07-01_15-17-19_UTC_6.jpg jacquemus\\2021-07-01_15-17-19_UTC_7.jpg jacquemus\\2021-07-01_15-17-19_UTC_8.jpg jacquemus\\2021-07-01_15-17-19_UTC_9.jpg jacquemus\\2021-07-01_15-17-19_UTC_10.jpg [« LA MONTAGNE » AVAILABLE NOW…] json \n"
     ]
    },
    {
     "name": "stderr",
     "output_type": "stream",
     "text": [
      "Downloading posts:  60%|████████████████████████████████████▋                        | 301/500 [47:20<31:08,  9.39s/it]"
     ]
    },
    {
     "name": "stdout",
     "output_type": "stream",
     "text": [
      "jacquemus\\2021-07-01_12-20-34_UTC.jpg [« LA MONTAGNE » AVAILABLE NOW…] jacquemus\\2021-07-01_12-20-34_UTC.mp4 json \n"
     ]
    },
    {
     "name": "stderr",
     "output_type": "stream",
     "text": [
      "Downloading posts:  60%|████████████████████████████████████▊                        | 302/500 [47:25<27:06,  8.21s/it]"
     ]
    },
    {
     "name": "stdout",
     "output_type": "stream",
     "text": [
      "jacquemus\\2021-06-30_19-09-24_UTC_1.jpg jacquemus\\2021-06-30_19-09-24_UTC_1.mp4 jacquemus\\2021-06-30_19-09-24_UTC_2.jpg jacquemus\\2021-06-30_19-09-24_UTC_3.jpg jacquemus\\2021-06-30_19-09-24_UTC_4.jpg jacquemus\\2021-06-30_19-09-24_UTC_5.jpg jacquemus\\2021-06-30_19-09-24_UTC_5.mp4 jacquemus\\2021-06-30_19-09-24_UTC_6.jpg jacquemus\\2021-06-30_19-09-24_UTC_7.jpg jacquemus\\2021-06-30_19-09-24_UTC_8.jpg jacquemus\\2021-06-30_19-09-24_UTC_9.jpg jacquemus\\2021-06-30_19-09-24_UTC_10.jpg [« LA MONTAGNE » AVAILABLE NOW…] json \n"
     ]
    },
    {
     "name": "stderr",
     "output_type": "stream",
     "text": [
      "Downloading posts:  61%|████████████████████████████████████▉                        | 303/500 [47:40<33:32, 10.21s/it]"
     ]
    },
    {
     "name": "stdout",
     "output_type": "stream",
     "text": [
      "jacquemus\\2021-06-30_17-50-40_UTC.jpg [LIVE OF THE SHOW] jacquemus\\2021-06-30_17-50-40_UTC.mp4 json \n"
     ]
    },
    {
     "name": "stderr",
     "output_type": "stream",
     "text": [
      "Downloading posts:  61%|█████████████████████████████████████                        | 304/500 [47:53<35:18, 10.81s/it]"
     ]
    },
    {
     "name": "stdout",
     "output_type": "stream",
     "text": [
      "jacquemus\\2021-06-29_15-32-42_UTC_1.jpg jacquemus\\2021-06-29_15-32-42_UTC_2.jpg [SEE YOU TOMORROW !!??] json \n"
     ]
    },
    {
     "name": "stderr",
     "output_type": "stream",
     "text": [
      "Downloading posts:  61%|█████████████████████████████████████▏                       | 305/500 [48:00<31:39,  9.74s/it]"
     ]
    },
    {
     "name": "stdout",
     "output_type": "stream",
     "text": [
      "jacquemus\\2021-06-28_15-48-23_UTC_1.jpg jacquemus\\2021-06-28_15-48-23_UTC_2.jpg [« LA MONTAGNE »  Preview #5  …] json \n"
     ]
    },
    {
     "name": "stderr",
     "output_type": "stream",
     "text": [
      "Downloading posts:  61%|█████████████████████████████████████▎                       | 306/500 [48:05<27:05,  8.38s/it]"
     ]
    },
    {
     "name": "stdout",
     "output_type": "stream",
     "text": [
      "jacquemus\\2021-06-27_16-20-43_UTC_1.jpg jacquemus\\2021-06-27_16-20-43_UTC_2.jpg [« LA MONTAGNE »  Preview #4  …] json \n"
     ]
    },
    {
     "name": "stderr",
     "output_type": "stream",
     "text": [
      "Downloading posts:  61%|█████████████████████████████████████▍                       | 307/500 [48:09<22:55,  7.13s/it]"
     ]
    },
    {
     "name": "stdout",
     "output_type": "stream",
     "text": [
      "jacquemus\\2021-06-16_16-03-29_UTC_1.jpg jacquemus\\2021-06-16_16-03-29_UTC_2.jpg [« LA MONTAGNE »  Preview #3  …] json \n"
     ]
    },
    {
     "name": "stderr",
     "output_type": "stream",
     "text": [
      "Downloading posts:  62%|█████████████████████████████████████▌                       | 308/500 [48:17<23:51,  7.45s/it]"
     ]
    },
    {
     "name": "stdout",
     "output_type": "stream",
     "text": [
      "jacquemus\\2021-06-15_16-46-59_UTC_1.jpg jacquemus\\2021-06-15_16-46-59_UTC_2.jpg [« LA MONTAGNE »  Preview #2  …] json \n"
     ]
    },
    {
     "name": "stderr",
     "output_type": "stream",
     "text": [
      "Downloading posts:  62%|█████████████████████████████████████▋                       | 309/500 [48:22<20:39,  6.49s/it]"
     ]
    },
    {
     "name": "stdout",
     "output_type": "stream",
     "text": [
      "jacquemus\\2021-06-14_15-58-29_UTC_1.jpg jacquemus\\2021-06-14_15-58-29_UTC_2.jpg [« LA MONTAGNE »  Preview #1  …] json \n"
     ]
    },
    {
     "name": "stderr",
     "output_type": "stream",
     "text": [
      "Downloading posts:  62%|█████████████████████████████████████▊                       | 310/500 [48:28<20:14,  6.39s/it]"
     ]
    },
    {
     "name": "stdout",
     "output_type": "stream",
     "text": [
      "jacquemus\\2021-06-05_20-48-11_UTC.jpg [“My life is as good as an Abb…] json \n"
     ]
    },
    {
     "name": "stderr",
     "output_type": "stream",
     "text": [
      "Downloading posts:  62%|█████████████████████████████████████▉                       | 311/500 [48:35<21:18,  6.76s/it]"
     ]
    },
    {
     "name": "stdout",
     "output_type": "stream",
     "text": [
      "jacquemus\\2021-06-05_20-44-58_UTC.jpg [I MEAN] json \n"
     ]
    },
    {
     "name": "stderr",
     "output_type": "stream",
     "text": [
      "Downloading posts:  62%|██████████████████████████████████████                       | 312/500 [48:42<21:02,  6.71s/it]"
     ]
    },
    {
     "name": "stdout",
     "output_type": "stream",
     "text": [
      "jacquemus\\2021-06-05_18-40-10_UTC.jpg [I SAID YES] json \n"
     ]
    },
    {
     "name": "stderr",
     "output_type": "stream",
     "text": [
      "Downloading posts:  63%|██████████████████████████████████████▏                      | 313/500 [48:57<28:32,  9.16s/it]"
     ]
    },
    {
     "name": "stdout",
     "output_type": "stream",
     "text": [
      "jacquemus\\2021-04-29_16-32-38_UTC_1.jpg jacquemus\\2021-04-29_16-32-38_UTC_2.jpg jacquemus\\2021-04-29_16-32-38_UTC_3.jpg jacquemus\\2021-04-29_16-32-38_UTC_4.jpg jacquemus\\2021-04-29_16-32-38_UTC_5.jpg jacquemus\\2021-04-29_16-32-38_UTC_6.jpg jacquemus\\2021-04-29_16-32-38_UTC_6.mp4 [❤️  Soon will announce you so…] json \n"
     ]
    },
    {
     "name": "stderr",
     "output_type": "stream",
     "text": [
      "Downloading posts:  63%|██████████████████████████████████████▎                      | 314/500 [49:04<26:38,  8.59s/it]"
     ]
    },
    {
     "name": "stdout",
     "output_type": "stream",
     "text": [
      "jacquemus\\2021-04-28_15-23-04_UTC_1.jpg jacquemus\\2021-04-28_15-23-04_UTC_2.jpg jacquemus\\2021-04-28_15-23-04_UTC_2.mp4 jacquemus\\2021-04-28_15-23-04_UTC_3.jpg jacquemus\\2021-04-28_15-23-04_UTC_3.mp4 jacquemus\\2021-04-28_15-23-04_UTC_4.jpg jacquemus\\2021-04-28_15-23-04_UTC_4.mp4 jacquemus\\2021-04-28_15-23-04_UTC_5.jpg jacquemus\\2021-04-28_15-23-04_UTC_5.mp4 jacquemus\\2021-04-28_15-23-04_UTC_6.jpg jacquemus\\2021-04-28_15-23-04_UTC_6.mp4 jacquemus\\2021-04-28_15-23-04_UTC_7.jpg jacquemus\\2021-04-28_15-23-04_UTC_7.mp4 jacquemus\\2021-04-28_15-23-04_UTC_8.jpg jacquemus\\2021-04-28_15-23-04_UTC_8.mp4 jacquemus\\2021-04-28_15-23-04_UTC_9.jpg jacquemus\\2021-04-28_15-23-04_UTC_9.mp4 jacquemus\\2021-04-28_15-23-04_UTC_10.jpg jacquemus\\2021-04-28_15-23-04_UTC_10.mp4 [I MISS SHOWS (part2) And you?…] json \n"
     ]
    },
    {
     "name": "stderr",
     "output_type": "stream",
     "text": [
      "Downloading posts:  63%|██████████████████████████████████████▍                      | 315/500 [49:27<39:41, 12.87s/it]"
     ]
    },
    {
     "name": "stdout",
     "output_type": "stream",
     "text": [
      "jacquemus\\2021-04-27_17-14-49_UTC_1.jpg jacquemus\\2021-04-27_17-14-49_UTC_2.jpg jacquemus\\2021-04-27_17-14-49_UTC_3.jpg jacquemus\\2021-04-27_17-14-49_UTC_4.jpg jacquemus\\2021-04-27_17-14-49_UTC_5.jpg jacquemus\\2021-04-27_17-14-49_UTC_5.mp4 jacquemus\\2021-04-27_17-14-49_UTC_6.jpg jacquemus\\2021-04-27_17-14-49_UTC_7.jpg jacquemus\\2021-04-27_17-14-49_UTC_8.jpg jacquemus\\2021-04-27_17-14-49_UTC_9.jpg jacquemus\\2021-04-27_17-14-49_UTC_9.mp4 jacquemus\\2021-04-27_17-14-49_UTC_10.jpg [I MISS SHOWS... You?] json \n"
     ]
    },
    {
     "name": "stderr",
     "output_type": "stream",
     "text": [
      "Downloading posts:  63%|██████████████████████████████████████▌                      | 316/500 [49:38<37:44, 12.31s/it]"
     ]
    },
    {
     "name": "stdout",
     "output_type": "stream",
     "text": [
      "jacquemus\\2021-03-31_15-53-22_UTC_1.jpg jacquemus\\2021-03-31_15-53-22_UTC_2.jpg jacquemus\\2021-03-31_15-53-22_UTC_3.jpg jacquemus\\2021-03-31_15-53-22_UTC_4.jpg jacquemus\\2021-03-31_15-53-22_UTC_5.jpg jacquemus\\2021-03-31_15-53-22_UTC_6.jpg jacquemus\\2021-03-31_15-53-22_UTC_7.jpg jacquemus\\2021-03-31_15-53-22_UTC_8.jpg jacquemus\\2021-03-31_15-53-22_UTC_9.jpg [I would like to thank everyon…] json \n"
     ]
    },
    {
     "name": "stderr",
     "output_type": "stream",
     "text": [
      "Downloading posts:  63%|██████████████████████████████████████▋                      | 317/500 [49:48<35:16, 11.56s/it]"
     ]
    },
    {
     "name": "stdout",
     "output_type": "stream",
     "text": [
      "jacquemus\\2021-03-26_17-30-18_UTC_1.jpg jacquemus\\2021-03-26_17-30-18_UTC_2.jpg jacquemus\\2021-03-26_17-30-18_UTC_3.jpg jacquemus\\2021-03-26_17-30-18_UTC_4.jpg jacquemus\\2021-03-26_17-30-18_UTC_4.mp4 jacquemus\\2021-03-26_17-30-18_UTC_5.jpg jacquemus\\2021-03-26_17-30-18_UTC_6.jpg [ALMOST READY :)  So happy  “L…] json \n"
     ]
    },
    {
     "name": "stderr",
     "output_type": "stream",
     "text": [
      "Downloading posts:  64%|██████████████████████████████████████▊                      | 318/500 [49:57<32:34, 10.74s/it]"
     ]
    },
    {
     "name": "stdout",
     "output_type": "stream",
     "text": [
      "jacquemus\\2021-03-25_17-30-36_UTC_1.jpg jacquemus\\2021-03-25_17-30-36_UTC_2.jpg jacquemus\\2021-03-25_17-30-36_UTC_3.jpg jacquemus\\2021-03-25_17-30-36_UTC_4.jpg jacquemus\\2021-03-25_17-30-36_UTC_5.jpg jacquemus\\2021-03-25_17-30-36_UTC_6.jpg [« LES FLEURS »  So happy to s…] json \n"
     ]
    },
    {
     "name": "stderr",
     "output_type": "stream",
     "text": [
      "Downloading posts:  64%|██████████████████████████████████████▉                      | 319/500 [50:07<31:46, 10.54s/it]"
     ]
    },
    {
     "name": "stdout",
     "output_type": "stream",
     "text": [
      "jacquemus\\2021-03-10_17-02-29_UTC_1.jpg jacquemus\\2021-03-10_17-02-29_UTC_2.jpg jacquemus\\2021-03-10_17-02-29_UTC_3.jpg jacquemus\\2021-03-10_17-02-29_UTC_4.jpg jacquemus\\2021-03-10_17-02-29_UTC_5.jpg jacquemus\\2021-03-10_17-02-29_UTC_6.jpg jacquemus\\2021-03-10_17-02-29_UTC_7.jpg jacquemus\\2021-03-10_17-02-29_UTC_8.jpg jacquemus\\2021-03-10_17-02-29_UTC_9.jpg jacquemus\\2021-03-10_17-02-29_UTC_10.jpg [JACQUEMOUSSE Video directed b…] json \n"
     ]
    },
    {
     "name": "stderr",
     "output_type": "stream",
     "text": [
      "Downloading posts:  64%|███████████████████████████████████████                      | 320/500 [50:21<35:01, 11.68s/it]"
     ]
    },
    {
     "name": "stdout",
     "output_type": "stream",
     "text": [
      "jacquemus\\2021-03-10_16-59-53_UTC.jpg [JACQUEMOUSSE Video directed b…] jacquemus\\2021-03-10_16-59-53_UTC.mp4 json \n"
     ]
    },
    {
     "name": "stderr",
     "output_type": "stream",
     "text": [
      "Downloading posts:  64%|███████████████████████████████████████▏                     | 321/500 [50:28<30:42, 10.29s/it]"
     ]
    },
    {
     "name": "stdout",
     "output_type": "stream",
     "text": [
      "jacquemus\\2021-03-10_16-58-50_UTC_1.jpg jacquemus\\2021-03-10_16-58-50_UTC_2.jpg jacquemus\\2021-03-10_16-58-50_UTC_3.jpg jacquemus\\2021-03-10_16-58-50_UTC_4.jpg jacquemus\\2021-03-10_16-58-50_UTC_5.jpg jacquemus\\2021-03-10_16-58-50_UTC_6.jpg jacquemus\\2021-03-10_16-58-50_UTC_7.jpg jacquemus\\2021-03-10_16-58-50_UTC_8.jpg jacquemus\\2021-03-10_16-58-50_UTC_9.jpg jacquemus\\2021-03-10_16-58-50_UTC_10.jpg [JACQUEMOUSSE Video directed b…] json \n"
     ]
    },
    {
     "name": "stderr",
     "output_type": "stream",
     "text": [
      "Downloading posts:  64%|███████████████████████████████████████▎                     | 322/500 [50:43<34:35, 11.66s/it]"
     ]
    },
    {
     "name": "stdout",
     "output_type": "stream",
     "text": [
      "jacquemus\\2021-02-22_17-09-09_UTC_1.jpg jacquemus\\2021-02-22_17-09-09_UTC_2.jpg jacquemus\\2021-02-22_17-09-09_UTC_3.jpg jacquemus\\2021-02-22_17-09-09_UTC_4.jpg jacquemus\\2021-02-22_17-09-09_UTC_5.jpg jacquemus\\2021-02-22_17-09-09_UTC_6.jpg jacquemus\\2021-02-22_17-09-09_UTC_7.jpg jacquemus\\2021-02-22_17-09-09_UTC_8.jpg jacquemus\\2021-02-22_17-09-09_UTC_9.jpg jacquemus\\2021-02-22_17-09-09_UTC_10.jpg [« L’AMOUR » Summer 2021, by T…] json \n"
     ]
    },
    {
     "name": "stderr",
     "output_type": "stream",
     "text": [
      "Downloading posts:  65%|███████████████████████████████████████▍                     | 323/500 [50:55<34:45, 11.79s/it]"
     ]
    },
    {
     "name": "stdout",
     "output_type": "stream",
     "text": [
      "jacquemus\\2021-02-22_17-06-59_UTC_1.jpg jacquemus\\2021-02-22_17-06-59_UTC_2.jpg jacquemus\\2021-02-22_17-06-59_UTC_3.jpg jacquemus\\2021-02-22_17-06-59_UTC_4.jpg jacquemus\\2021-02-22_17-06-59_UTC_5.jpg jacquemus\\2021-02-22_17-06-59_UTC_6.jpg jacquemus\\2021-02-22_17-06-59_UTC_7.jpg jacquemus\\2021-02-22_17-06-59_UTC_8.jpg jacquemus\\2021-02-22_17-06-59_UTC_9.jpg jacquemus\\2021-02-22_17-06-59_UTC_10.jpg [« L’AMOUR » Summer 2021, by T…] json \n"
     ]
    },
    {
     "name": "stderr",
     "output_type": "stream",
     "text": [
      "Downloading posts:  65%|███████████████████████████████████████▌                     | 324/500 [51:08<35:48, 12.21s/it]"
     ]
    },
    {
     "name": "stdout",
     "output_type": "stream",
     "text": [
      "jacquemus\\2021-02-22_17-03-19_UTC_1.jpg jacquemus\\2021-02-22_17-03-19_UTC_2.jpg jacquemus\\2021-02-22_17-03-19_UTC_3.jpg jacquemus\\2021-02-22_17-03-19_UTC_4.jpg jacquemus\\2021-02-22_17-03-19_UTC_5.jpg jacquemus\\2021-02-22_17-03-19_UTC_6.jpg jacquemus\\2021-02-22_17-03-19_UTC_7.jpg jacquemus\\2021-02-22_17-03-19_UTC_8.jpg jacquemus\\2021-02-22_17-03-19_UTC_9.jpg jacquemus\\2021-02-22_17-03-19_UTC_10.jpg [« L’AMOUR » Summer 2021, by T…] json \n"
     ]
    },
    {
     "name": "stderr",
     "output_type": "stream",
     "text": [
      "Downloading posts:  65%|███████████████████████████████████████▋                     | 325/500 [51:18<33:19, 11.42s/it]"
     ]
    },
    {
     "name": "stdout",
     "output_type": "stream",
     "text": [
      "jacquemus\\2021-02-18_16-52-05_UTC_1.jpg jacquemus\\2021-02-18_16-52-05_UTC_2.jpg jacquemus\\2021-02-18_16-52-05_UTC_3.jpg jacquemus\\2021-02-18_16-52-05_UTC_4.jpg jacquemus\\2021-02-18_16-52-05_UTC_5.jpg jacquemus\\2021-02-18_16-52-05_UTC_6.jpg jacquemus\\2021-02-18_16-52-05_UTC_7.jpg jacquemus\\2021-02-18_16-52-05_UTC_8.jpg jacquemus\\2021-02-18_16-52-05_UTC_9.jpg jacquemus\\2021-02-18_16-52-05_UTC_10.jpg [« L’AMOUR » Summer 2021, by @…] json \n"
     ]
    },
    {
     "name": "stderr",
     "output_type": "stream",
     "text": [
      "Downloading posts:  65%|███████████████████████████████████████▊                     | 326/500 [51:27<31:12, 10.76s/it]"
     ]
    },
    {
     "name": "stdout",
     "output_type": "stream",
     "text": [
      "jacquemus\\2021-02-17_16-40-00_UTC_1.jpg jacquemus\\2021-02-17_16-40-00_UTC_2.jpg jacquemus\\2021-02-17_16-40-00_UTC_3.jpg jacquemus\\2021-02-17_16-40-00_UTC_4.jpg jacquemus\\2021-02-17_16-40-00_UTC_5.jpg jacquemus\\2021-02-17_16-40-00_UTC_6.jpg jacquemus\\2021-02-17_16-40-00_UTC_7.jpg jacquemus\\2021-02-17_16-40-00_UTC_8.jpg jacquemus\\2021-02-17_16-40-00_UTC_9.jpg jacquemus\\2021-02-17_16-40-00_UTC_10.jpg [« L’AMOUR » Summer 2021, Phot…] json \n"
     ]
    },
    {
     "name": "stderr",
     "output_type": "stream",
     "text": [
      "Downloading posts:  65%|███████████████████████████████████████▉                     | 327/500 [51:38<30:54, 10.72s/it]"
     ]
    },
    {
     "name": "stdout",
     "output_type": "stream",
     "text": [
      "jacquemus\\2021-02-16_18-27-40_UTC_1.jpg jacquemus\\2021-02-16_18-27-40_UTC_2.jpg jacquemus\\2021-02-16_18-27-40_UTC_3.jpg jacquemus\\2021-02-16_18-27-40_UTC_4.jpg jacquemus\\2021-02-16_18-27-40_UTC_5.jpg jacquemus\\2021-02-16_18-27-40_UTC_6.jpg jacquemus\\2021-02-16_18-27-40_UTC_7.jpg jacquemus\\2021-02-16_18-27-40_UTC_8.jpg jacquemus\\2021-02-16_18-27-40_UTC_9.jpg jacquemus\\2021-02-16_18-27-40_UTC_10.jpg [« L’amour » Summer 2021, @jul…] json \n"
     ]
    },
    {
     "name": "stderr",
     "output_type": "stream",
     "text": [
      "Downloading posts:  66%|████████████████████████████████████████                     | 328/500 [51:48<30:02, 10.48s/it]"
     ]
    },
    {
     "name": "stdout",
     "output_type": "stream",
     "text": [
      "jacquemus\\2021-02-14_18-26-53_UTC.jpg [LOVE ALWAYS WINS ❤️] json \n"
     ]
    },
    {
     "name": "stderr",
     "output_type": "stream",
     "text": [
      "Downloading posts:  66%|████████████████████████████████████████▏                    | 329/500 [51:55<27:25,  9.62s/it]"
     ]
    },
    {
     "name": "stdout",
     "output_type": "stream",
     "text": [
      "jacquemus\\2021-02-14_18-23-40_UTC.jpg [JUST US, AMOUREUX] json \n"
     ]
    },
    {
     "name": "stderr",
     "output_type": "stream",
     "text": [
      "Downloading posts:  66%|████████████████████████████████████████▎                    | 330/500 [51:58<21:17,  7.52s/it]"
     ]
    },
    {
     "name": "stdout",
     "output_type": "stream",
     "text": [
      "jacquemus\\2021-02-14_18-10-40_UTC.jpg [LOVE ALWAYS WINS ❤️] json \n"
     ]
    },
    {
     "name": "stderr",
     "output_type": "stream",
     "text": [
      "Downloading posts:  66%|████████████████████████████████████████▍                    | 331/500 [52:05<21:13,  7.53s/it]"
     ]
    },
    {
     "name": "stdout",
     "output_type": "stream",
     "text": [
      "jacquemus\\2021-02-11_16-31-21_UTC.jpg [« L’Amour » Summer 2021 paint…] json \n"
     ]
    },
    {
     "name": "stderr",
     "output_type": "stream",
     "text": [
      "Downloading posts:  66%|████████████████████████████████████████▌                    | 332/500 [52:10<18:38,  6.66s/it]"
     ]
    },
    {
     "name": "stdout",
     "output_type": "stream",
     "text": [
      "jacquemus\\2021-02-11_16-30-45_UTC.jpg [« L’Amour » Summer 2021 paint…] json \n"
     ]
    },
    {
     "name": "stderr",
     "output_type": "stream",
     "text": [
      "Downloading posts:  67%|████████████████████████████████████████▋                    | 333/500 [52:14<15:57,  5.74s/it]"
     ]
    },
    {
     "name": "stdout",
     "output_type": "stream",
     "text": [
      "jacquemus\\2021-02-11_16-29-51_UTC.jpg [« L’Amour » Summer 2021 paint…] json \n"
     ]
    },
    {
     "name": "stderr",
     "output_type": "stream",
     "text": [
      "Downloading posts:  67%|████████████████████████████████████████▋                    | 334/500 [52:18<14:56,  5.40s/it]"
     ]
    },
    {
     "name": "stdout",
     "output_type": "stream",
     "text": [
      "jacquemus\\2021-02-02_14-57-06_UTC_1.jpg jacquemus\\2021-02-02_14-57-06_UTC_2.jpg jacquemus\\2021-02-02_14-57-06_UTC_3.jpg jacquemus\\2021-02-02_14-57-06_UTC_4.jpg jacquemus\\2021-02-02_14-57-06_UTC_5.jpg jacquemus\\2021-02-02_14-57-06_UTC_6.jpg jacquemus\\2021-02-02_14-57-06_UTC_7.jpg jacquemus\\2021-02-02_14-57-06_UTC_8.jpg jacquemus\\2021-02-02_14-57-06_UTC_9.jpg jacquemus\\2021-02-02_14-57-06_UTC_10.jpg [« L’amour » Backstage by @mas…] json \n"
     ]
    },
    {
     "name": "stderr",
     "output_type": "stream",
     "text": [
      "Downloading posts:  67%|████████████████████████████████████████▊                    | 335/500 [52:30<20:14,  7.36s/it]"
     ]
    },
    {
     "name": "stdout",
     "output_type": "stream",
     "text": [
      "jacquemus\\2021-02-02_14-49-18_UTC.jpg [« L’amour » SS21 Backstage vi…] jacquemus\\2021-02-02_14-49-18_UTC.mp4 json \n"
     ]
    },
    {
     "name": "stderr",
     "output_type": "stream",
     "text": [
      "Downloading posts:  67%|████████████████████████████████████████▉                    | 336/500 [52:34<17:03,  6.24s/it]"
     ]
    },
    {
     "name": "stdout",
     "output_type": "stream",
     "text": [
      "jacquemus\\2021-02-02_14-44-56_UTC_1.jpg jacquemus\\2021-02-02_14-44-56_UTC_2.jpg jacquemus\\2021-02-02_14-44-56_UTC_3.jpg jacquemus\\2021-02-02_14-44-56_UTC_4.jpg jacquemus\\2021-02-02_14-44-56_UTC_5.jpg jacquemus\\2021-02-02_14-44-56_UTC_6.jpg jacquemus\\2021-02-02_14-44-56_UTC_7.jpg jacquemus\\2021-02-02_14-44-56_UTC_8.jpg jacquemus\\2021-02-02_14-44-56_UTC_9.jpg jacquemus\\2021-02-02_14-44-56_UTC_10.jpg [« L’amour » Backstage by @mas…] json \n"
     ]
    },
    {
     "name": "stderr",
     "output_type": "stream",
     "text": [
      "Downloading posts:  67%|█████████████████████████████████████████                    | 337/500 [52:47<22:37,  8.33s/it]"
     ]
    },
    {
     "name": "stdout",
     "output_type": "stream",
     "text": [
      "jacquemus\\2021-01-28_11-32-41_UTC.jpg [THE AUCTION START NOW! DO YOU…] json \n"
     ]
    },
    {
     "name": "stderr",
     "output_type": "stream",
     "text": [
      "Downloading posts:  68%|█████████████████████████████████████████▏                   | 338/500 [52:53<20:16,  7.51s/it]"
     ]
    },
    {
     "name": "stdout",
     "output_type": "stream",
     "text": [
      "jacquemus\\2021-01-27_20-16-23_UTC.jpg [DO YOU WANT TO CREATE YOUR OW…] json \n"
     ]
    },
    {
     "name": "stderr",
     "output_type": "stream",
     "text": [
      "Downloading posts:  68%|█████████████████████████████████████████▎                   | 339/500 [52:58<18:40,  6.96s/it]"
     ]
    },
    {
     "name": "stdout",
     "output_type": "stream",
     "text": [
      "jacquemus\\2021-01-27_18-16-57_UTC.jpg [DO YOU WANT TO CREATE YOUR OW…] json \n"
     ]
    },
    {
     "name": "stderr",
     "output_type": "stream",
     "text": [
      "Downloading posts:  68%|█████████████████████████████████████████▍                   | 340/500 [53:04<17:28,  6.55s/it]"
     ]
    },
    {
     "name": "stdout",
     "output_type": "stream",
     "text": [
      "jacquemus\\2021-01-18_15-24-40_UTC_1.jpg jacquemus\\2021-01-18_15-24-40_UTC_2.jpg [A YEAR AGO @gigihadid  ❤️🥜  O…] json \n"
     ]
    },
    {
     "name": "stderr",
     "output_type": "stream",
     "text": [
      "Downloading posts:  68%|█████████████████████████████████████████▌                   | 341/500 [53:10<17:12,  6.50s/it]"
     ]
    },
    {
     "name": "stdout",
     "output_type": "stream",
     "text": [
      "jacquemus\\2021-01-18_15-17-56_UTC_1.jpg jacquemus\\2021-01-18_15-17-56_UTC_2.jpg jacquemus\\2021-01-18_15-17-56_UTC_3.jpg [A YEAR AGO @gigihadid  ❤️🥜  O…] json \n"
     ]
    },
    {
     "name": "stderr",
     "output_type": "stream",
     "text": [
      "Downloading posts:  68%|█████████████████████████████████████████▋                   | 342/500 [53:18<18:10,  6.90s/it]"
     ]
    },
    {
     "name": "stdout",
     "output_type": "stream",
     "text": [
      "jacquemus\\2021-01-18_15-06-15_UTC_1.jpg jacquemus\\2021-01-18_15-06-15_UTC_2.jpg jacquemus\\2021-01-18_15-06-15_UTC_3.jpg jacquemus\\2021-01-18_15-06-15_UTC_3.mp4 [A YEAR AGO @gigihadid  ❤️🥜  O…] json \n"
     ]
    },
    {
     "name": "stderr",
     "output_type": "stream",
     "text": [
      "Downloading posts:  69%|█████████████████████████████████████████▊                   | 343/500 [53:24<17:05,  6.53s/it]"
     ]
    },
    {
     "name": "stdout",
     "output_type": "stream",
     "text": [
      "jacquemus\\2021-01-16_17-48-24_UTC.jpg [FOR EVER THAT SMILE 😁 🎂] json \n"
     ]
    },
    {
     "name": "stderr",
     "output_type": "stream",
     "text": [
      "Downloading posts:  69%|█████████████████████████████████████████▉                   | 344/500 [53:26<13:54,  5.35s/it]"
     ]
    },
    {
     "name": "stdout",
     "output_type": "stream",
     "text": [
      "jacquemus\\2021-01-16_12-10-45_UTC.jpg [🤍🎂 LE J CEST LE S] json \n"
     ]
    },
    {
     "name": "stderr",
     "output_type": "stream",
     "text": [
      "Downloading posts:  69%|██████████████████████████████████████████                   | 345/500 [53:30<12:28,  4.83s/it]"
     ]
    },
    {
     "name": "stdout",
     "output_type": "stream",
     "text": [
      "jacquemus\\2021-01-16_11-40-29_UTC.jpg [My mom always let me wear dre…] json \n"
     ]
    },
    {
     "name": "stderr",
     "output_type": "stream",
     "text": [
      "Downloading posts:  69%|██████████████████████████████████████████▏                  | 346/500 [53:33<10:46,  4.20s/it]"
     ]
    },
    {
     "name": "stdout",
     "output_type": "stream",
     "text": [
      "jacquemus\\2021-01-13_15-40-14_UTC_1.jpg jacquemus\\2021-01-13_15-40-14_UTC_2.jpg jacquemus\\2021-01-13_15-40-14_UTC_3.jpg jacquemus\\2021-01-13_15-40-14_UTC_4.jpg jacquemus\\2021-01-13_15-40-14_UTC_5.jpg jacquemus\\2021-01-13_15-40-14_UTC_6.jpg jacquemus\\2021-01-13_15-40-14_UTC_7.jpg jacquemus\\2021-01-13_15-40-14_UTC_8.jpg jacquemus\\2021-01-13_15-40-14_UTC_9.jpg jacquemus\\2021-01-13_15-40-14_UTC_10.jpg [AN ACCESSORY STORY, SUMMER 20…] json \n"
     ]
    },
    {
     "name": "stderr",
     "output_type": "stream",
     "text": [
      "Downloading posts:  69%|██████████████████████████████████████████▎                  | 347/500 [53:45<16:37,  6.52s/it]"
     ]
    },
    {
     "name": "stdout",
     "output_type": "stream",
     "text": [
      "jacquemus\\2021-01-13_15-39-15_UTC_1.jpg jacquemus\\2021-01-13_15-39-15_UTC_2.jpg jacquemus\\2021-01-13_15-39-15_UTC_3.jpg jacquemus\\2021-01-13_15-39-15_UTC_4.jpg jacquemus\\2021-01-13_15-39-15_UTC_5.jpg jacquemus\\2021-01-13_15-39-15_UTC_6.jpg jacquemus\\2021-01-13_15-39-15_UTC_7.jpg jacquemus\\2021-01-13_15-39-15_UTC_8.jpg jacquemus\\2021-01-13_15-39-15_UTC_9.jpg jacquemus\\2021-01-13_15-39-15_UTC_10.jpg [AN ACCESSORY STORY, SUMMER 20…] json \n"
     ]
    },
    {
     "name": "stderr",
     "output_type": "stream",
     "text": [
      "Downloading posts:  70%|██████████████████████████████████████████▍                  | 348/500 [53:56<20:34,  8.12s/it]"
     ]
    },
    {
     "name": "stdout",
     "output_type": "stream",
     "text": [
      "jacquemus\\2021-01-13_15-37-41_UTC_1.jpg jacquemus\\2021-01-13_15-37-41_UTC_2.jpg jacquemus\\2021-01-13_15-37-41_UTC_3.jpg jacquemus\\2021-01-13_15-37-41_UTC_4.jpg jacquemus\\2021-01-13_15-37-41_UTC_5.jpg jacquemus\\2021-01-13_15-37-41_UTC_6.jpg jacquemus\\2021-01-13_15-37-41_UTC_7.jpg jacquemus\\2021-01-13_15-37-41_UTC_8.jpg jacquemus\\2021-01-13_15-37-41_UTC_9.jpg jacquemus\\2021-01-13_15-37-41_UTC_10.jpg [AN ACCESSORY STORY, SUMMER 20…] json \n"
     ]
    },
    {
     "name": "stderr",
     "output_type": "stream",
     "text": [
      "Downloading posts:  70%|██████████████████████████████████████████▌                  | 349/500 [54:06<21:47,  8.66s/it]"
     ]
    },
    {
     "name": "stdout",
     "output_type": "stream",
     "text": [
      "jacquemus\\2021-01-11_17-08-52_UTC_1.jpg jacquemus\\2021-01-11_17-08-52_UTC_2.jpg jacquemus\\2021-01-11_17-08-52_UTC_3.jpg jacquemus\\2021-01-11_17-08-52_UTC_4.jpg jacquemus\\2021-01-11_17-08-52_UTC_5.jpg jacquemus\\2021-01-11_17-08-52_UTC_6.jpg jacquemus\\2021-01-11_17-08-52_UTC_7.jpg jacquemus\\2021-01-11_17-08-52_UTC_8.jpg jacquemus\\2021-01-11_17-08-52_UTC_9.jpg [« BONJOUR JACQUEMUS » WELCOME…] json \n"
     ]
    },
    {
     "name": "stderr",
     "output_type": "stream",
     "text": [
      "Downloading posts:  70%|██████████████████████████████████████████▋                  | 350/500 [54:18<24:05,  9.64s/it]"
     ]
    },
    {
     "name": "stdout",
     "output_type": "stream",
     "text": [
      "jacquemus\\2021-01-11_17-07-15_UTC_1.jpg jacquemus\\2021-01-11_17-07-15_UTC_2.jpg jacquemus\\2021-01-11_17-07-15_UTC_3.jpg jacquemus\\2021-01-11_17-07-15_UTC_4.jpg jacquemus\\2021-01-11_17-07-15_UTC_5.jpg jacquemus\\2021-01-11_17-07-15_UTC_6.jpg jacquemus\\2021-01-11_17-07-15_UTC_7.jpg jacquemus\\2021-01-11_17-07-15_UTC_8.jpg jacquemus\\2021-01-11_17-07-15_UTC_9.jpg jacquemus\\2021-01-11_17-07-15_UTC_10.jpg [« BONJOUR JACQUEMUS » WELCOME…] json \n"
     ]
    },
    {
     "name": "stderr",
     "output_type": "stream",
     "text": [
      "Downloading posts:  70%|██████████████████████████████████████████▊                  | 351/500 [54:32<27:05, 10.91s/it]"
     ]
    },
    {
     "name": "stdout",
     "output_type": "stream",
     "text": [
      "jacquemus\\2021-01-11_17-04-45_UTC_1.jpg jacquemus\\2021-01-11_17-04-45_UTC_2.jpg jacquemus\\2021-01-11_17-04-45_UTC_3.jpg jacquemus\\2021-01-11_17-04-45_UTC_4.jpg jacquemus\\2021-01-11_17-04-45_UTC_5.jpg jacquemus\\2021-01-11_17-04-45_UTC_6.jpg jacquemus\\2021-01-11_17-04-45_UTC_7.jpg jacquemus\\2021-01-11_17-04-45_UTC_8.jpg jacquemus\\2021-01-11_17-04-45_UTC_9.jpg [« BONJOUR JACQUEMUS » WELCOME…] json \n"
     ]
    },
    {
     "name": "stderr",
     "output_type": "stream",
     "text": [
      "Downloading posts:  70%|██████████████████████████████████████████▉                  | 352/500 [54:46<28:47, 11.68s/it]"
     ]
    },
    {
     "name": "stdout",
     "output_type": "stream",
     "text": [
      "jacquemus\\2021-01-10_18-32-56_UTC_1.jpg jacquemus\\2021-01-10_18-32-56_UTC_2.jpg jacquemus\\2021-01-10_18-32-56_UTC_3.jpg jacquemus\\2021-01-10_18-32-56_UTC_4.jpg jacquemus\\2021-01-10_18-32-56_UTC_5.jpg jacquemus\\2021-01-10_18-32-56_UTC_6.jpg jacquemus\\2021-01-10_18-32-56_UTC_7.jpg jacquemus\\2021-01-10_18-32-56_UTC_8.jpg jacquemus\\2021-01-10_18-32-56_UTC_9.jpg [« L’AMOUR »  SUMMER 2021 FIRS…] json \n"
     ]
    },
    {
     "name": "stderr",
     "output_type": "stream",
     "text": [
      "Downloading posts:  71%|███████████████████████████████████████████                  | 353/500 [54:56<27:20, 11.16s/it]"
     ]
    },
    {
     "name": "stdout",
     "output_type": "stream",
     "text": [
      "jacquemus\\2021-01-10_18-22-14_UTC_1.jpg jacquemus\\2021-01-10_18-22-14_UTC_2.jpg jacquemus\\2021-01-10_18-22-14_UTC_3.jpg jacquemus\\2021-01-10_18-22-14_UTC_4.jpg jacquemus\\2021-01-10_18-22-14_UTC_5.jpg jacquemus\\2021-01-10_18-22-14_UTC_6.jpg jacquemus\\2021-01-10_18-22-14_UTC_7.jpg jacquemus\\2021-01-10_18-22-14_UTC_8.jpg jacquemus\\2021-01-10_18-22-14_UTC_9.jpg [« L’AMOUR »  SUMMER 2021 FIRS…] json \n"
     ]
    },
    {
     "name": "stderr",
     "output_type": "stream",
     "text": [
      "Downloading posts:  71%|███████████████████████████████████████████▏                 | 354/500 [55:09<28:30, 11.71s/it]"
     ]
    },
    {
     "name": "stdout",
     "output_type": "stream",
     "text": [
      "jacquemus\\2021-01-10_18-10-12_UTC.jpg [SUMMER 2021 FIRST LOOK  VIDEO…] jacquemus\\2021-01-10_18-10-12_UTC.mp4 json \n"
     ]
    },
    {
     "name": "stderr",
     "output_type": "stream",
     "text": [
      "Downloading posts:  71%|███████████████████████████████████████████▎                 | 355/500 [55:14<23:52,  9.88s/it]"
     ]
    },
    {
     "name": "stdout",
     "output_type": "stream",
     "text": [
      "jacquemus\\2021-01-02_16-43-16_UTC.jpg [🍝] json \n"
     ]
    },
    {
     "name": "stderr",
     "output_type": "stream",
     "text": [
      "Downloading posts:  71%|███████████████████████████████████████████▍                 | 356/500 [55:21<21:21,  8.90s/it]"
     ]
    },
    {
     "name": "stdout",
     "output_type": "stream",
     "text": [
      "jacquemus\\2021-01-02_16-34-28_UTC.jpg [🌞] json \n"
     ]
    },
    {
     "name": "stderr",
     "output_type": "stream",
     "text": [
      "Downloading posts:  71%|███████████████████████████████████████████▌                 | 357/500 [55:28<20:17,  8.52s/it]"
     ]
    },
    {
     "name": "stdout",
     "output_type": "stream",
     "text": [
      "jacquemus\\2021-01-02_13-02-22_UTC.jpg [HAPPY 2021, LOVE TO EVERYONE] json \n"
     ]
    },
    {
     "name": "stderr",
     "output_type": "stream",
     "text": [
      "Downloading posts:  72%|███████████████████████████████████████████▋                 | 358/500 [55:34<18:03,  7.63s/it]"
     ]
    },
    {
     "name": "stdout",
     "output_type": "stream",
     "text": [
      "jacquemus\\2020-12-29_19-28-23_UTC.jpg [WITH ALL MY RESPECT AND ADMIR…] json \n"
     ]
    },
    {
     "name": "stderr",
     "output_type": "stream",
     "text": [
      "Downloading posts:  72%|███████████████████████████████████████████▊                 | 359/500 [55:41<17:13,  7.33s/it]"
     ]
    },
    {
     "name": "stdout",
     "output_type": "stream",
     "text": [
      "jacquemus\\2020-12-29_19-22-32_UTC_1.jpg jacquemus\\2020-12-29_19-22-32_UTC_2.jpg jacquemus\\2020-12-29_19-22-32_UTC_3.jpg jacquemus\\2020-12-29_19-22-32_UTC_4.jpg jacquemus\\2020-12-29_19-22-32_UTC_5.jpg jacquemus\\2020-12-29_19-22-32_UTC_6.jpg jacquemus\\2020-12-29_19-22-32_UTC_7.jpg [THINKING OF YOU, PIERRE CARDI…] json \n"
     ]
    },
    {
     "name": "stderr",
     "output_type": "stream",
     "text": [
      "Downloading posts:  72%|███████████████████████████████████████████▉                 | 360/500 [55:51<19:34,  8.39s/it]"
     ]
    },
    {
     "name": "stdout",
     "output_type": "stream",
     "text": [
      "jacquemus\\2020-12-29_19-18-39_UTC.jpg [THINKING OF YOU, PIERRE CARDI…] json \n"
     ]
    },
    {
     "name": "stderr",
     "output_type": "stream",
     "text": [
      "Downloading posts:  72%|████████████████████████████████████████████                 | 361/500 [55:58<18:10,  7.85s/it]"
     ]
    },
    {
     "name": "stdout",
     "output_type": "stream",
     "text": [
      "jacquemus\\2020-12-10_18-03-14_UTC.jpg [BRING ME BACK] jacquemus\\2020-12-10_18-03-14_UTC.mp4 json \n"
     ]
    },
    {
     "name": "stderr",
     "output_type": "stream",
     "text": [
      "Downloading posts:  72%|████████████████████████████████████████████▏                | 362/500 [56:02<15:06,  6.57s/it]"
     ]
    },
    {
     "name": "stdout",
     "output_type": "stream",
     "text": [
      "jacquemus\\2020-12-10_17-45-24_UTC_1.jpg jacquemus\\2020-12-10_17-45-24_UTC_2.jpg jacquemus\\2020-12-10_17-45-24_UTC_3.jpg jacquemus\\2020-12-10_17-45-24_UTC_3.mp4 jacquemus\\2020-12-10_17-45-24_UTC_4.jpg jacquemus\\2020-12-10_17-45-24_UTC_5.jpg jacquemus\\2020-12-10_17-45-24_UTC_6.jpg jacquemus\\2020-12-10_17-45-24_UTC_7.jpg [“L’AMOUR”,  SUMMER 2021 1ST D…] json \n"
     ]
    },
    {
     "name": "stderr",
     "output_type": "stream",
     "text": [
      "Downloading posts:  73%|████████████████████████████████████████████▎                | 363/500 [56:13<18:26,  8.08s/it]"
     ]
    },
    {
     "name": "stdout",
     "output_type": "stream",
     "text": [
      "jacquemus\\2020-12-10_17-00-27_UTC_1.jpg jacquemus\\2020-12-10_17-00-27_UTC_2.jpg jacquemus\\2020-12-10_17-00-27_UTC_3.jpg jacquemus\\2020-12-10_17-00-27_UTC_4.jpg jacquemus\\2020-12-10_17-00-27_UTC_5.jpg jacquemus\\2020-12-10_17-00-27_UTC_6.jpg jacquemus\\2020-12-10_17-00-27_UTC_7.jpg [“L’AMOUR”,  SUMMER 2021 1ST D…] json \n"
     ]
    },
    {
     "name": "stderr",
     "output_type": "stream",
     "text": [
      "Downloading posts:  73%|████████████████████████████████████████████▍                | 364/500 [56:25<20:52,  9.21s/it]"
     ]
    },
    {
     "name": "stdout",
     "output_type": "stream",
     "text": [
      "jacquemus\\2020-12-02_15-17-38_UTC.jpg [Thank you for the amazing rea…] json \n"
     ]
    },
    {
     "name": "stderr",
     "output_type": "stream",
     "text": [
      "Downloading posts:  73%|████████████████████████████████████████████▌                | 365/500 [56:28<16:15,  7.22s/it]"
     ]
    },
    {
     "name": "stdout",
     "output_type": "stream",
     "text": [
      "jacquemus\\2020-12-01_17-08-52_UTC_1.jpg jacquemus\\2020-12-01_17-08-52_UTC_2.jpg jacquemus\\2020-12-01_17-08-52_UTC_3.jpg jacquemus\\2020-12-01_17-08-52_UTC_4.jpg [OUT NOW, PINK CHRISTMAS CAPSU…] json \n"
     ]
    },
    {
     "name": "stderr",
     "output_type": "stream",
     "text": [
      "Downloading posts:  73%|████████████████████████████████████████████▋                | 366/500 [56:33<15:00,  6.72s/it]"
     ]
    },
    {
     "name": "stdout",
     "output_type": "stream",
     "text": [
      "jacquemus\\2020-11-30_18-41-05_UTC.jpg [!?] json \n"
     ]
    },
    {
     "name": "stderr",
     "output_type": "stream",
     "text": [
      "Downloading posts:  73%|████████████████████████████████████████████▊                | 367/500 [56:38<13:27,  6.07s/it]"
     ]
    },
    {
     "name": "stdout",
     "output_type": "stream",
     "text": [
      "jacquemus\\2020-11-12_17-07-20_UTC_1.jpg jacquemus\\2020-11-12_17-07-20_UTC_2.jpg jacquemus\\2020-11-12_17-07-20_UTC_3.jpg jacquemus\\2020-11-12_17-07-20_UTC_4.jpg jacquemus\\2020-11-12_17-07-20_UTC_5.jpg jacquemus\\2020-11-12_17-07-20_UTC_6.jpg jacquemus\\2020-11-12_17-07-20_UTC_7.jpg jacquemus\\2020-11-12_17-07-20_UTC_8.jpg [« L’ANNÉE 97 » FW20  @laetiti…] json \n"
     ]
    },
    {
     "name": "stderr",
     "output_type": "stream",
     "text": [
      "Downloading posts:  74%|████████████████████████████████████████████▉                | 368/500 [56:51<18:02,  8.20s/it]"
     ]
    },
    {
     "name": "stdout",
     "output_type": "stream",
     "text": [
      "jacquemus\\2020-11-12_17-03-40_UTC_1.jpg jacquemus\\2020-11-12_17-03-40_UTC_2.jpg jacquemus\\2020-11-12_17-03-40_UTC_3.jpg jacquemus\\2020-11-12_17-03-40_UTC_4.jpg jacquemus\\2020-11-12_17-03-40_UTC_5.jpg jacquemus\\2020-11-12_17-03-40_UTC_6.jpg jacquemus\\2020-11-12_17-03-40_UTC_7.jpg jacquemus\\2020-11-12_17-03-40_UTC_8.jpg [« L’ANNÉE 97 » FW20  @laetiti…] json \n"
     ]
    },
    {
     "name": "stderr",
     "output_type": "stream",
     "text": [
      "Downloading posts:  74%|█████████████████████████████████████████████                | 369/500 [57:00<18:10,  8.33s/it]"
     ]
    },
    {
     "name": "stdout",
     "output_type": "stream",
     "text": [
      "jacquemus\\2020-11-12_17-00-17_UTC_1.jpg jacquemus\\2020-11-12_17-00-17_UTC_2.jpg jacquemus\\2020-11-12_17-00-17_UTC_3.jpg jacquemus\\2020-11-12_17-00-17_UTC_4.jpg jacquemus\\2020-11-12_17-00-17_UTC_5.jpg jacquemus\\2020-11-12_17-00-17_UTC_6.jpg jacquemus\\2020-11-12_17-00-17_UTC_7.jpg jacquemus\\2020-11-12_17-00-17_UTC_8.jpg jacquemus\\2020-11-12_17-00-17_UTC_9.jpg [« L’ANNÉE 97 » FW20  @laetiti…] json \n"
     ]
    },
    {
     "name": "stderr",
     "output_type": "stream",
     "text": [
      "Downloading posts:  74%|█████████████████████████████████████████████▏               | 370/500 [57:11<19:48,  9.14s/it]"
     ]
    },
    {
     "name": "stdout",
     "output_type": "stream",
     "text": [
      "jacquemus\\2020-11-02_19-48-21_UTC.jpg [BONSOIR, Regram from @voostore] json \n"
     ]
    },
    {
     "name": "stderr",
     "output_type": "stream",
     "text": [
      "Downloading posts:  74%|█████████████████████████████████████████████▎               | 371/500 [57:15<16:43,  7.78s/it]"
     ]
    },
    {
     "name": "stdout",
     "output_type": "stream",
     "text": [
      "jacquemus\\2020-11-02_19-31-40_UTC.jpg [BONSOIR, Regram from @voostore] json \n"
     ]
    },
    {
     "name": "stderr",
     "output_type": "stream",
     "text": [
      "Downloading posts:  74%|█████████████████████████████████████████████▍               | 372/500 [57:21<15:12,  7.13s/it]"
     ]
    },
    {
     "name": "stdout",
     "output_type": "stream",
     "text": [
      "jacquemus\\2020-11-02_19-29-23_UTC.jpg [BONSOIR, Regram from @voostore] json \n"
     ]
    },
    {
     "name": "stderr",
     "output_type": "stream",
     "text": [
      "Downloading posts:  75%|█████████████████████████████████████████████▌               | 373/500 [57:27<14:44,  6.96s/it]"
     ]
    },
    {
     "name": "stdout",
     "output_type": "stream",
     "text": [
      "jacquemus\\2020-11-01_22-10-04_UTC.jpg [« L’AMOUR »  SUMMER 2021  OUT…] json \n"
     ]
    },
    {
     "name": "stderr",
     "output_type": "stream",
     "text": [
      "Downloading posts:  75%|█████████████████████████████████████████████▋               | 374/500 [57:34<14:24,  6.86s/it]"
     ]
    },
    {
     "name": "stdout",
     "output_type": "stream",
     "text": [
      "jacquemus\\2020-11-01_22-09-55_UTC.jpg [« L’AMOUR »  SUMMER 2021  10 …] json \n"
     ]
    },
    {
     "name": "stderr",
     "output_type": "stream",
     "text": [
      "Downloading posts:  75%|█████████████████████████████████████████████▊               | 375/500 [57:42<14:46,  7.09s/it]"
     ]
    },
    {
     "name": "stdout",
     "output_type": "stream",
     "text": [
      "jacquemus\\2020-11-01_22-08-33_UTC.jpg [« L’AMOUR »  SUMMER 2021  JAC…] json \n"
     ]
    },
    {
     "name": "stderr",
     "output_type": "stream",
     "text": [
      "Downloading posts:  75%|█████████████████████████████████████████████▊               | 376/500 [57:48<14:21,  6.95s/it]"
     ]
    },
    {
     "name": "stdout",
     "output_type": "stream",
     "text": [
      "jacquemus\\2020-11-01_16-36-19_UTC_1.jpg jacquemus\\2020-11-01_16-36-19_UTC_2.jpg jacquemus\\2020-11-01_16-36-19_UTC_3.jpg jacquemus\\2020-11-01_16-36-19_UTC_4.jpg jacquemus\\2020-11-01_16-36-19_UTC_5.jpg jacquemus\\2020-11-01_16-36-19_UTC_5.mp4 jacquemus\\2020-11-01_16-36-19_UTC_6.jpg jacquemus\\2020-11-01_16-36-19_UTC_7.jpg jacquemus\\2020-11-01_16-36-19_UTC_8.jpg jacquemus\\2020-11-01_16-36-19_UTC_9.jpg jacquemus\\2020-11-01_16-36-19_UTC_10.jpg [ALBUM] json \n"
     ]
    },
    {
     "name": "stderr",
     "output_type": "stream",
     "text": [
      "Downloading posts:  75%|█████████████████████████████████████████████▉               | 377/500 [58:01<17:57,  8.76s/it]"
     ]
    },
    {
     "name": "stdout",
     "output_type": "stream",
     "text": [
      "jacquemus\\2020-11-01_13-10-04_UTC_1.jpg jacquemus\\2020-11-01_13-10-04_UTC_2.jpg jacquemus\\2020-11-01_13-10-04_UTC_3.jpg jacquemus\\2020-11-01_13-10-04_UTC_3.mp4 jacquemus\\2020-11-01_13-10-04_UTC_4.jpg jacquemus\\2020-11-01_13-10-04_UTC_5.jpg jacquemus\\2020-11-01_13-10-04_UTC_6.jpg jacquemus\\2020-11-01_13-10-04_UTC_7.jpg jacquemus\\2020-11-01_13-10-04_UTC_8.jpg jacquemus\\2020-11-01_13-10-04_UTC_9.jpg jacquemus\\2020-11-01_13-10-04_UTC_10.jpg [WINTER BTS] json \n"
     ]
    },
    {
     "name": "stderr",
     "output_type": "stream",
     "text": [
      "Downloading posts:  76%|██████████████████████████████████████████████               | 378/500 [58:12<18:52,  9.28s/it]"
     ]
    },
    {
     "name": "stdout",
     "output_type": "stream",
     "text": [
      "jacquemus\\2020-11-01_10-32-27_UTC.jpg [MOOD] json \n"
     ]
    },
    {
     "name": "stderr",
     "output_type": "stream",
     "text": [
      "Downloading posts:  76%|██████████████████████████████████████████████▏              | 379/500 [58:15<15:18,  7.59s/it]"
     ]
    },
    {
     "name": "stdout",
     "output_type": "stream",
     "text": [
      "jacquemus\\2020-10-19_17-55-47_UTC_1.jpg jacquemus\\2020-10-19_17-55-47_UTC_2.jpg jacquemus\\2020-10-19_17-55-47_UTC_3.jpg jacquemus\\2020-10-19_17-55-47_UTC_4.jpg jacquemus\\2020-10-19_17-55-47_UTC_5.jpg jacquemus\\2020-10-19_17-55-47_UTC_6.jpg jacquemus\\2020-10-19_17-55-47_UTC_7.jpg jacquemus\\2020-10-19_17-55-47_UTC_8.jpg jacquemus\\2020-10-19_17-55-47_UTC_9.jpg jacquemus\\2020-10-19_17-55-47_UTC_10.jpg [« L’ANNÉE 97 » A FILM BY @mas…] json \n"
     ]
    },
    {
     "name": "stderr",
     "output_type": "stream",
     "text": [
      "Downloading posts:  76%|██████████████████████████████████████████████▎              | 380/500 [58:25<16:23,  8.19s/it]"
     ]
    },
    {
     "name": "stdout",
     "output_type": "stream",
     "text": [
      "jacquemus\\2020-10-19_17-51-11_UTC.jpg [A FILM BY @massimiliano_bomba] jacquemus\\2020-10-19_17-51-11_UTC.mp4 json \n"
     ]
    },
    {
     "name": "stderr",
     "output_type": "stream",
     "text": [
      "Downloading posts:  76%|██████████████████████████████████████████████▍              | 381/500 [58:31<14:54,  7.52s/it]"
     ]
    },
    {
     "name": "stdout",
     "output_type": "stream",
     "text": [
      "jacquemus\\2020-10-19_17-43-13_UTC_1.jpg jacquemus\\2020-10-19_17-43-13_UTC_2.jpg jacquemus\\2020-10-19_17-43-13_UTC_3.jpg jacquemus\\2020-10-19_17-43-13_UTC_4.jpg jacquemus\\2020-10-19_17-43-13_UTC_5.jpg jacquemus\\2020-10-19_17-43-13_UTC_6.jpg jacquemus\\2020-10-19_17-43-13_UTC_7.jpg jacquemus\\2020-10-19_17-43-13_UTC_8.jpg jacquemus\\2020-10-19_17-43-13_UTC_9.jpg jacquemus\\2020-10-19_17-43-13_UTC_10.jpg [« L’ANNÉE 97 » A FILM BY @mas…] json \n"
     ]
    },
    {
     "name": "stderr",
     "output_type": "stream",
     "text": [
      "Downloading posts:  76%|██████████████████████████████████████████████▌              | 382/500 [58:40<15:38,  7.95s/it]"
     ]
    },
    {
     "name": "stdout",
     "output_type": "stream",
     "text": [
      "jacquemus\\2020-09-30_15-01-12_UTC_1.jpg jacquemus\\2020-09-30_15-01-12_UTC_2.jpg jacquemus\\2020-09-30_15-01-12_UTC_3.jpg jacquemus\\2020-09-30_15-01-12_UTC_4.jpg jacquemus\\2020-09-30_15-01-12_UTC_5.jpg jacquemus\\2020-09-30_15-01-12_UTC_6.jpg jacquemus\\2020-09-30_15-01-12_UTC_7.jpg jacquemus\\2020-09-30_15-01-12_UTC_7.mp4 jacquemus\\2020-09-30_15-01-12_UTC_8.jpg jacquemus\\2020-09-30_15-01-12_UTC_9.jpg jacquemus\\2020-09-30_15-01-12_UTC_10.jpg jacquemus\\2020-09-30_15-01-12_UTC_10.mp4 [FIRST DAY AT JACQUEMUS FOR @m…] json \n"
     ]
    },
    {
     "name": "stderr",
     "output_type": "stream",
     "text": [
      "Downloading posts:  77%|██████████████████████████████████████████████▋              | 383/500 [58:55<19:44, 10.13s/it]"
     ]
    },
    {
     "name": "stdout",
     "output_type": "stream",
     "text": [
      "jacquemus\\2020-09-28_09-47-52_UTC.jpg [QUE DES TOUTOU DANS MA TEAM] json \n"
     ]
    },
    {
     "name": "stderr",
     "output_type": "stream",
     "text": [
      "Downloading posts:  77%|██████████████████████████████████████████████▊              | 384/500 [59:01<17:01,  8.80s/it]"
     ]
    },
    {
     "name": "stdout",
     "output_type": "stream",
     "text": [
      "jacquemus\\2020-09-27_14-54-44_UTC_1.jpg jacquemus\\2020-09-27_14-54-44_UTC_2.jpg jacquemus\\2020-09-27_14-54-44_UTC_3.jpg jacquemus\\2020-09-27_14-54-44_UTC_4.jpg [MY NAME IS TOUTOU :)  IM THE …] json \n"
     ]
    },
    {
     "name": "stderr",
     "output_type": "stream",
     "text": [
      "Downloading posts:  77%|██████████████████████████████████████████████▉              | 385/500 [59:08<15:59,  8.34s/it]"
     ]
    },
    {
     "name": "stdout",
     "output_type": "stream",
     "text": [
      "jacquemus\\2020-09-24_16-40-50_UTC.jpg [CONGRATULATION GIGI AND ZAYN …] jacquemus\\2020-09-24_16-40-50_UTC.mp4 json \n"
     ]
    },
    {
     "name": "stderr",
     "output_type": "stream",
     "text": [
      "Downloading posts:  77%|███████████████████████████████████████████████              | 386/500 [59:16<15:21,  8.08s/it]"
     ]
    },
    {
     "name": "stdout",
     "output_type": "stream",
     "text": [
      "jacquemus\\2020-09-17_17-18-11_UTC.jpg [How to pronounce JACQUEMUS :)] jacquemus\\2020-09-17_17-18-11_UTC.mp4 json \n"
     ]
    },
    {
     "name": "stderr",
     "output_type": "stream",
     "text": [
      "Downloading posts:  77%|███████████████████████████████████████████████▏             | 387/500 [59:21<13:44,  7.30s/it]"
     ]
    },
    {
     "name": "stdout",
     "output_type": "stream",
     "text": [
      "jacquemus\\2020-09-14_14-58-40_UTC.jpg [MONDAY WITH BELLA 😍  @bellaha…] jacquemus\\2020-09-14_14-58-40_UTC.mp4 json \n"
     ]
    },
    {
     "name": "stderr",
     "output_type": "stream",
     "text": [
      "Downloading posts:  78%|███████████████████████████████████████████████▎             | 388/500 [59:25<11:37,  6.22s/it]"
     ]
    },
    {
     "name": "stdout",
     "output_type": "stream",
     "text": [
      "jacquemus\\2020-09-10_21-18-42_UTC_1.jpg jacquemus\\2020-09-10_21-18-42_UTC_1.mp4 jacquemus\\2020-09-10_21-18-42_UTC_2.jpg jacquemus\\2020-09-10_21-18-42_UTC_3.jpg [THIS...WAS SUPPOSED TO BE A C…] json \n"
     ]
    },
    {
     "name": "stderr",
     "output_type": "stream",
     "text": [
      "Downloading posts:  78%|███████████████████████████████████████████████▍             | 389/500 [59:30<10:54,  5.89s/it]"
     ]
    },
    {
     "name": "stdout",
     "output_type": "stream",
     "text": [
      "jacquemus\\2020-09-10_21-06-38_UTC.jpg [IM HAPPY 😅] json \n"
     ]
    },
    {
     "name": "stderr",
     "output_type": "stream",
     "text": [
      "Downloading posts:  78%|███████████████████████████████████████████████▌             | 390/500 [59:35<10:38,  5.80s/it]"
     ]
    },
    {
     "name": "stdout",
     "output_type": "stream",
     "text": [
      "jacquemus\\2020-09-10_16-39-33_UTC_1.jpg jacquemus\\2020-09-10_16-39-33_UTC_2.jpg jacquemus\\2020-09-10_16-39-33_UTC_3.jpg jacquemus\\2020-09-10_16-39-33_UTC_4.jpg jacquemus\\2020-09-10_16-39-33_UTC_4.mp4 jacquemus\\2020-09-10_16-39-33_UTC_5.jpg jacquemus\\2020-09-10_16-39-33_UTC_5.mp4 [BACK TO WORK LIKE] json \n"
     ]
    },
    {
     "name": "stderr",
     "output_type": "stream",
     "text": [
      "Downloading posts:  78%|███████████████████████████████████████████████▋             | 391/500 [59:43<11:24,  6.28s/it]"
     ]
    },
    {
     "name": "stdout",
     "output_type": "stream",
     "text": [
      "jacquemus\\2020-09-08_16-14-18_UTC_1.jpg jacquemus\\2020-09-08_16-14-18_UTC_2.jpg jacquemus\\2020-09-08_16-14-18_UTC_3.jpg jacquemus\\2020-09-08_16-14-18_UTC_4.jpg jacquemus\\2020-09-08_16-14-18_UTC_5.jpg jacquemus\\2020-09-08_16-14-18_UTC_6.jpg jacquemus\\2020-09-08_16-14-18_UTC_7.jpg jacquemus\\2020-09-08_16-14-18_UTC_8.jpg [IM OBSESSED ! SO HAPPY TO SHA…] json \n"
     ]
    },
    {
     "name": "stderr",
     "output_type": "stream",
     "text": [
      "Downloading posts:  78%|███████████████████████████████████████████████▊             | 392/500 [59:53<13:24,  7.45s/it]"
     ]
    },
    {
     "name": "stdout",
     "output_type": "stream",
     "text": [
      "jacquemus\\2020-09-08_16-11-51_UTC_1.jpg jacquemus\\2020-09-08_16-11-51_UTC_2.jpg jacquemus\\2020-09-08_16-11-51_UTC_3.jpg jacquemus\\2020-09-08_16-11-51_UTC_4.jpg jacquemus\\2020-09-08_16-11-51_UTC_5.jpg jacquemus\\2020-09-08_16-11-51_UTC_6.jpg jacquemus\\2020-09-08_16-11-51_UTC_7.jpg [IM OBSESSED ! SO HAPPY TO SHA…] json \n"
     ]
    },
    {
     "name": "stderr",
     "output_type": "stream",
     "text": [
      "Downloading posts:  79%|██████████████████████████████████████████████▎            | 393/500 [1:00:02<14:21,  8.05s/it]"
     ]
    },
    {
     "name": "stdout",
     "output_type": "stream",
     "text": [
      "jacquemus\\2020-09-08_14-17-46_UTC_1.jpg jacquemus\\2020-09-08_14-17-46_UTC_2.jpg jacquemus\\2020-09-08_14-17-46_UTC_3.jpg jacquemus\\2020-09-08_14-17-46_UTC_4.jpg jacquemus\\2020-09-08_14-17-46_UTC_5.jpg jacquemus\\2020-09-08_14-17-46_UTC_6.jpg jacquemus\\2020-09-08_14-17-46_UTC_7.jpg jacquemus\\2020-09-08_14-17-46_UTC_8.jpg jacquemus\\2020-09-08_14-17-46_UTC_9.jpg [IM OBSESSED ! SO HAPPY TO SHA…] json \n"
     ]
    },
    {
     "name": "stderr",
     "output_type": "stream",
     "text": [
      "Downloading posts:  79%|██████████████████████████████████████████████▍            | 394/500 [1:00:15<16:43,  9.47s/it]"
     ]
    },
    {
     "name": "stdout",
     "output_type": "stream",
     "text": [
      "jacquemus\\2020-09-07_17-06-54_UTC_1.jpg jacquemus\\2020-09-07_17-06-54_UTC_2.jpg jacquemus\\2020-09-07_17-06-54_UTC_3.jpg jacquemus\\2020-09-07_17-06-54_UTC_4.jpg jacquemus\\2020-09-07_17-06-54_UTC_5.jpg jacquemus\\2020-09-07_17-06-54_UTC_6.jpg jacquemus\\2020-09-07_17-06-54_UTC_7.jpg jacquemus\\2020-09-07_17-06-54_UTC_8.jpg jacquemus\\2020-09-07_17-06-54_UTC_9.jpg jacquemus\\2020-09-07_17-06-54_UTC_10.jpg [FINALLY OUT ❤️ FW20 « L’ANNÉE…] json \n"
     ]
    },
    {
     "name": "stderr",
     "output_type": "stream",
     "text": [
      "Downloading posts:  79%|██████████████████████████████████████████████▌            | 395/500 [1:00:24<16:08,  9.22s/it]"
     ]
    },
    {
     "name": "stdout",
     "output_type": "stream",
     "text": [
      "jacquemus\\2020-09-07_17-01-15_UTC.jpg [FINALLY OUT FW20 « L’ANNÉE 97…] jacquemus\\2020-09-07_17-01-15_UTC.mp4 json \n"
     ]
    },
    {
     "name": "stderr",
     "output_type": "stream",
     "text": [
      "Downloading posts:  79%|██████████████████████████████████████████████▋            | 396/500 [1:00:30<14:06,  8.14s/it]"
     ]
    },
    {
     "name": "stdout",
     "output_type": "stream",
     "text": [
      "jacquemus\\2020-09-07_15-59-24_UTC.jpg [FINALLY OUT 💣❤️ FW20 « L’ANNÉ…] jacquemus\\2020-09-07_15-59-24_UTC.mp4 json \n"
     ]
    },
    {
     "name": "stderr",
     "output_type": "stream",
     "text": [
      "Downloading posts:  79%|██████████████████████████████████████████████▊            | 397/500 [1:00:36<12:59,  7.56s/it]"
     ]
    },
    {
     "name": "stdout",
     "output_type": "stream",
     "text": [
      "jacquemus\\2020-09-01_17-24-24_UTC_1.jpg jacquemus\\2020-09-01_17-24-24_UTC_2.jpg jacquemus\\2020-09-01_17-24-24_UTC_3.jpg jacquemus\\2020-09-01_17-24-24_UTC_4.jpg jacquemus\\2020-09-01_17-24-24_UTC_5.jpg jacquemus\\2020-09-01_17-24-24_UTC_6.jpg jacquemus\\2020-09-01_17-24-24_UTC_7.jpg jacquemus\\2020-09-01_17-24-24_UTC_8.jpg jacquemus\\2020-09-01_17-24-24_UTC_9.jpg jacquemus\\2020-09-01_17-24-24_UTC_10.jpg [THESES IMAGES ARE IN OUR NEW …] json \n"
     ]
    },
    {
     "name": "stderr",
     "output_type": "stream",
     "text": [
      "Downloading posts:  80%|██████████████████████████████████████████████▉            | 398/500 [1:00:48<15:05,  8.88s/it]"
     ]
    },
    {
     "name": "stdout",
     "output_type": "stream",
     "text": [
      "jacquemus\\2020-09-01_16-24-25_UTC_1.jpg jacquemus\\2020-09-01_16-24-25_UTC_2.jpg jacquemus\\2020-09-01_16-24-25_UTC_3.jpg jacquemus\\2020-09-01_16-24-25_UTC_4.jpg jacquemus\\2020-09-01_16-24-25_UTC_5.jpg jacquemus\\2020-09-01_16-24-25_UTC_6.jpg jacquemus\\2020-09-01_16-24-25_UTC_7.jpg jacquemus\\2020-09-01_16-24-25_UTC_8.jpg jacquemus\\2020-09-01_16-24-25_UTC_9.jpg jacquemus\\2020-09-01_16-24-25_UTC_10.jpg jacquemus\\2020-09-01_16-24-25_UTC_10.mp4 [HI 👋🏼 THIS IS OUR NEW BOOK « …] json \n"
     ]
    },
    {
     "name": "stderr",
     "output_type": "stream",
     "text": [
      "Downloading posts:  80%|███████████████████████████████████████████████            | 399/500 [1:01:01<17:07, 10.17s/it]"
     ]
    },
    {
     "name": "stdout",
     "output_type": "stream",
     "text": [
      "jacquemus\\2020-08-09_16-12-08_UTC.jpg [PATES BEURRE] json \n"
     ]
    },
    {
     "name": "stderr",
     "output_type": "stream",
     "text": [
      "Downloading posts:  80%|███████████████████████████████████████████████▏           | 400/500 [1:01:05<13:40,  8.21s/it]"
     ]
    },
    {
     "name": "stdout",
     "output_type": "stream",
     "text": [
      "jacquemus\\2020-07-20_16-17-58_UTC.jpg [THIS VIDEO... « L’amour » SUM…] jacquemus\\2020-07-20_16-17-58_UTC.mp4 json \n"
     ]
    },
    {
     "name": "stderr",
     "output_type": "stream",
     "text": [
      "Downloading posts:  80%|███████████████████████████████████████████████▎           | 401/500 [1:01:10<12:19,  7.47s/it]"
     ]
    },
    {
     "name": "stdout",
     "output_type": "stream",
     "text": [
      "jacquemus\\2020-07-19_21-59-20_UTC_1.jpg jacquemus\\2020-07-19_21-59-20_UTC_2.jpg jacquemus\\2020-07-19_21-59-20_UTC_3.jpg jacquemus\\2020-07-19_21-59-20_UTC_4.jpg jacquemus\\2020-07-19_21-59-20_UTC_5.jpg jacquemus\\2020-07-19_21-59-20_UTC_6.jpg jacquemus\\2020-07-19_21-59-20_UTC_7.jpg jacquemus\\2020-07-19_21-59-20_UTC_8.jpg [« L’AMOUR » SUMMER 2021 @morg…] json \n"
     ]
    },
    {
     "name": "stderr",
     "output_type": "stream",
     "text": [
      "Downloading posts:  80%|███████████████████████████████████████████████▍           | 402/500 [1:01:20<13:17,  8.14s/it]"
     ]
    },
    {
     "name": "stdout",
     "output_type": "stream",
     "text": [
      "jacquemus\\2020-07-19_17-09-45_UTC_1.jpg jacquemus\\2020-07-19_17-09-45_UTC_2.jpg jacquemus\\2020-07-19_17-09-45_UTC_3.jpg jacquemus\\2020-07-19_17-09-45_UTC_4.jpg jacquemus\\2020-07-19_17-09-45_UTC_5.jpg jacquemus\\2020-07-19_17-09-45_UTC_6.jpg jacquemus\\2020-07-19_17-09-45_UTC_7.jpg jacquemus\\2020-07-19_17-09-45_UTC_8.jpg jacquemus\\2020-07-19_17-09-45_UTC_9.jpg jacquemus\\2020-07-19_17-09-45_UTC_10.jpg [« L’AMOUR » SUMMER 2021 @juli…] json \n"
     ]
    },
    {
     "name": "stderr",
     "output_type": "stream",
     "text": [
      "Downloading posts:  81%|███████████████████████████████████████████████▌           | 403/500 [1:01:32<15:10,  9.38s/it]"
     ]
    },
    {
     "name": "stdout",
     "output_type": "stream",
     "text": [
      "jacquemus\\2020-07-18_09-42-22_UTC_1.jpg jacquemus\\2020-07-18_09-42-22_UTC_2.jpg jacquemus\\2020-07-18_09-42-22_UTC_3.jpg jacquemus\\2020-07-18_09-42-22_UTC_4.jpg jacquemus\\2020-07-18_09-42-22_UTC_5.jpg jacquemus\\2020-07-18_09-42-22_UTC_6.jpg jacquemus\\2020-07-18_09-42-22_UTC_7.jpg jacquemus\\2020-07-18_09-42-22_UTC_8.jpg jacquemus\\2020-07-18_09-42-22_UTC_9.jpg jacquemus\\2020-07-18_09-42-22_UTC_10.jpg [SUMMER 2021 / DETAILS   YOU C…] json \n"
     ]
    },
    {
     "name": "stderr",
     "output_type": "stream",
     "text": [
      "Downloading posts:  81%|███████████████████████████████████████████████▋           | 404/500 [1:01:44<16:06, 10.06s/it]"
     ]
    },
    {
     "name": "stdout",
     "output_type": "stream",
     "text": [
      "jacquemus\\2020-07-17_20-04-18_UTC.jpg [SUMMER 2021  Video : @bureauf…] jacquemus\\2020-07-17_20-04-18_UTC.mp4 json \n"
     ]
    },
    {
     "name": "stderr",
     "output_type": "stream",
     "text": [
      "Downloading posts:  81%|███████████████████████████████████████████████▊           | 405/500 [1:02:03<20:07, 12.71s/it]"
     ]
    },
    {
     "name": "stdout",
     "output_type": "stream",
     "text": [
      "jacquemus\\2020-07-17_17-57-59_UTC_1.jpg jacquemus\\2020-07-17_17-57-59_UTC_2.jpg jacquemus\\2020-07-17_17-57-59_UTC_3.jpg jacquemus\\2020-07-17_17-57-59_UTC_4.jpg jacquemus\\2020-07-17_17-57-59_UTC_5.jpg jacquemus\\2020-07-17_17-57-59_UTC_6.jpg jacquemus\\2020-07-17_17-57-59_UTC_7.jpg jacquemus\\2020-07-17_17-57-59_UTC_8.jpg jacquemus\\2020-07-17_17-57-59_UTC_9.jpg [SUMMER 2021 / DETAILS   YOU C…] json \n"
     ]
    },
    {
     "name": "stderr",
     "output_type": "stream",
     "text": [
      "Downloading posts:  81%|███████████████████████████████████████████████▉           | 406/500 [1:02:16<19:57, 12.74s/it]"
     ]
    },
    {
     "name": "stdout",
     "output_type": "stream",
     "text": [
      "jacquemus\\2020-07-17_12-15-21_UTC_1.jpg jacquemus\\2020-07-17_12-15-21_UTC_2.jpg jacquemus\\2020-07-17_12-15-21_UTC_3.jpg jacquemus\\2020-07-17_12-15-21_UTC_4.jpg jacquemus\\2020-07-17_12-15-21_UTC_5.jpg jacquemus\\2020-07-17_12-15-21_UTC_6.jpg jacquemus\\2020-07-17_12-15-21_UTC_7.jpg jacquemus\\2020-07-17_12-15-21_UTC_8.jpg jacquemus\\2020-07-17_12-15-21_UTC_9.jpg jacquemus\\2020-07-17_12-15-21_UTC_10.jpg [\"As an idea for this collecti…] json \n"
     ]
    },
    {
     "name": "stderr",
     "output_type": "stream",
     "text": [
      "Downloading posts:  81%|████████████████████████████████████████████████           | 407/500 [1:02:28<19:40, 12.69s/it]"
     ]
    },
    {
     "name": "stdout",
     "output_type": "stream",
     "text": [
      "jacquemus\\2020-07-17_09-24-24_UTC_1.jpg jacquemus\\2020-07-17_09-24-24_UTC_2.jpg jacquemus\\2020-07-17_09-24-24_UTC_3.jpg jacquemus\\2020-07-17_09-24-24_UTC_4.jpg jacquemus\\2020-07-17_09-24-24_UTC_5.jpg jacquemus\\2020-07-17_09-24-24_UTC_6.jpg jacquemus\\2020-07-17_09-24-24_UTC_7.jpg jacquemus\\2020-07-17_09-24-24_UTC_8.jpg jacquemus\\2020-07-17_09-24-24_UTC_9.jpg jacquemus\\2020-07-17_09-24-24_UTC_10.jpg [\"As an idea for this collecti…] json \n"
     ]
    },
    {
     "name": "stderr",
     "output_type": "stream",
     "text": [
      "Downloading posts:  82%|████████████████████████████████████████████████▏          | 408/500 [1:02:41<19:20, 12.61s/it]"
     ]
    },
    {
     "name": "stdout",
     "output_type": "stream",
     "text": [
      "jacquemus\\2020-07-16_21-29-54_UTC_1.jpg jacquemus\\2020-07-16_21-29-54_UTC_2.jpg jacquemus\\2020-07-16_21-29-54_UTC_3.jpg jacquemus\\2020-07-16_21-29-54_UTC_4.jpg jacquemus\\2020-07-16_21-29-54_UTC_5.jpg jacquemus\\2020-07-16_21-29-54_UTC_6.jpg jacquemus\\2020-07-16_21-29-54_UTC_7.jpg jacquemus\\2020-07-16_21-29-54_UTC_8.jpg jacquemus\\2020-07-16_21-29-54_UTC_9.jpg [\"As an idea for this collecti…] json \n"
     ]
    },
    {
     "name": "stderr",
     "output_type": "stream",
     "text": [
      "Downloading posts:  82%|████████████████████████████████████████████████▎          | 409/500 [1:02:51<18:14, 12.03s/it]"
     ]
    },
    {
     "name": "stdout",
     "output_type": "stream",
     "text": [
      "jacquemus\\2020-07-16_18-09-40_UTC.jpg [WELCOME TO THE SS21 SHOW « L’…] json \n"
     ]
    },
    {
     "name": "stderr",
     "output_type": "stream",
     "text": [
      "Downloading posts:  82%|████████████████████████████████████████████████▍          | 410/500 [1:02:59<16:03, 10.70s/it]"
     ]
    },
    {
     "name": "stdout",
     "output_type": "stream",
     "text": [
      "jacquemus\\2020-07-16_18-09-09_UTC.jpg [WELCOME TO THE SS21 SHOW « L’…] json \n"
     ]
    },
    {
     "name": "stderr",
     "output_type": "stream",
     "text": [
      "Downloading posts:  82%|████████████████████████████████████████████████▍          | 411/500 [1:03:06<14:29,  9.76s/it]"
     ]
    },
    {
     "name": "stdout",
     "output_type": "stream",
     "text": [
      "jacquemus\\2020-07-16_18-08-33_UTC.jpg [WELCOME TO THE SS21 SHOW « L’…] json \n"
     ]
    },
    {
     "name": "stderr",
     "output_type": "stream",
     "text": [
      "Downloading posts:  82%|████████████████████████████████████████████████▌          | 412/500 [1:03:09<11:10,  7.62s/it]"
     ]
    },
    {
     "name": "stdout",
     "output_type": "stream",
     "text": [
      "jacquemus\\2020-07-09_16-07-41_UTC.jpg [JILL PAR OLIVER HADLEE PEARCH…] json \n"
     ]
    },
    {
     "name": "stderr",
     "output_type": "stream",
     "text": [
      "Downloading posts:  83%|████████████████████████████████████████████████▋          | 413/500 [1:03:17<11:16,  7.78s/it]"
     ]
    },
    {
     "name": "stdout",
     "output_type": "stream",
     "text": [
      "jacquemus\\2020-07-09_16-01-06_UTC.jpg [AGI PAR OLIVER HADLEE PEARCH …] json \n"
     ]
    },
    {
     "name": "stderr",
     "output_type": "stream",
     "text": [
      "Downloading posts:  83%|████████████████████████████████████████████████▊          | 414/500 [1:03:23<10:12,  7.13s/it]"
     ]
    },
    {
     "name": "stdout",
     "output_type": "stream",
     "text": [
      "jacquemus\\2020-07-09_15-51-15_UTC.jpg [ADUT, VITTORIA, MICA, DOUTZEN…] json \n"
     ]
    },
    {
     "name": "stderr",
     "output_type": "stream",
     "text": [
      "Downloading posts:  83%|████████████████████████████████████████████████▉          | 415/500 [1:03:26<08:36,  6.07s/it]"
     ]
    },
    {
     "name": "stdout",
     "output_type": "stream",
     "text": [
      "jacquemus\\2020-07-08_17-51-46_UTC_1.jpg jacquemus\\2020-07-08_17-51-46_UTC_2.jpg [I’m happy to announce our new…] json \n"
     ]
    },
    {
     "name": "stderr",
     "output_type": "stream",
     "text": [
      "Downloading posts:  83%|█████████████████████████████████████████████████          | 416/500 [1:03:35<09:22,  6.70s/it]"
     ]
    },
    {
     "name": "stdout",
     "output_type": "stream",
     "text": [
      "jacquemus\\2020-07-08_17-51-23_UTC_1.jpg jacquemus\\2020-07-08_17-51-23_UTC_2.jpg [I’m happy to announce our new…] json \n"
     ]
    },
    {
     "name": "stderr",
     "output_type": "stream",
     "text": [
      "Downloading posts:  83%|█████████████████████████████████████████████████▏         | 417/500 [1:03:40<08:36,  6.23s/it]"
     ]
    },
    {
     "name": "stdout",
     "output_type": "stream",
     "text": [
      "jacquemus\\2020-07-08_17-44-23_UTC_1.jpg jacquemus\\2020-07-08_17-44-23_UTC_2.jpg [I’m happy to announce our new…] json \n"
     ]
    },
    {
     "name": "stderr",
     "output_type": "stream",
     "text": [
      "Downloading posts:  84%|█████████████████████████████████████████████████▎         | 418/500 [1:03:44<07:39,  5.60s/it]"
     ]
    },
    {
     "name": "stdout",
     "output_type": "stream",
     "text": [
      "jacquemus\\2020-07-05_17-06-01_UTC_1.jpg jacquemus\\2020-07-05_17-06-01_UTC_1.mp4 jacquemus\\2020-07-05_17-06-01_UTC_2.jpg jacquemus\\2020-07-05_17-06-01_UTC_2.mp4 jacquemus\\2020-07-05_17-06-01_UTC_3.jpg jacquemus\\2020-07-05_17-06-01_UTC_3.mp4 jacquemus\\2020-07-05_17-06-01_UTC_4.jpg jacquemus\\2020-07-05_17-06-01_UTC_5.jpg jacquemus\\2020-07-05_17-06-01_UTC_5.mp4 jacquemus\\2020-07-05_17-06-01_UTC_6.jpg jacquemus\\2020-07-05_17-06-01_UTC_7.jpg jacquemus\\2020-07-05_17-06-01_UTC_8.jpg jacquemus\\2020-07-05_17-06-01_UTC_9.jpg jacquemus\\2020-07-05_17-06-01_UTC_10.jpg [« MON MARSEILLE » part3 JACQU…] json \n"
     ]
    },
    {
     "name": "stderr",
     "output_type": "stream",
     "text": [
      "Downloading posts:  84%|█████████████████████████████████████████████████▍         | 419/500 [1:03:59<11:33,  8.56s/it]"
     ]
    },
    {
     "name": "stdout",
     "output_type": "stream",
     "text": [
      "jacquemus\\2020-07-05_17-01-41_UTC_1.jpg jacquemus\\2020-07-05_17-01-41_UTC_1.mp4 jacquemus\\2020-07-05_17-01-41_UTC_2.jpg jacquemus\\2020-07-05_17-01-41_UTC_2.mp4 jacquemus\\2020-07-05_17-01-41_UTC_3.jpg jacquemus\\2020-07-05_17-01-41_UTC_4.jpg jacquemus\\2020-07-05_17-01-41_UTC_4.mp4 jacquemus\\2020-07-05_17-01-41_UTC_5.jpg jacquemus\\2020-07-05_17-01-41_UTC_6.jpg jacquemus\\2020-07-05_17-01-41_UTC_6.mp4 jacquemus\\2020-07-05_17-01-41_UTC_7.jpg jacquemus\\2020-07-05_17-01-41_UTC_7.mp4 jacquemus\\2020-07-05_17-01-41_UTC_8.jpg jacquemus\\2020-07-05_17-01-41_UTC_9.jpg jacquemus\\2020-07-05_17-01-41_UTC_9.mp4 jacquemus\\2020-07-05_17-01-41_UTC_10.jpg [« MON MARSEILLE » part2 JACQU…] json \n"
     ]
    },
    {
     "name": "stderr",
     "output_type": "stream",
     "text": [
      "Downloading posts:  84%|█████████████████████████████████████████████████▌         | 420/500 [1:04:20<16:26, 12.33s/it]"
     ]
    },
    {
     "name": "stdout",
     "output_type": "stream",
     "text": [
      "jacquemus\\2020-07-05_16-59-08_UTC_1.jpg jacquemus\\2020-07-05_16-59-08_UTC_1.mp4 jacquemus\\2020-07-05_16-59-08_UTC_2.jpg jacquemus\\2020-07-05_16-59-08_UTC_3.jpg jacquemus\\2020-07-05_16-59-08_UTC_4.jpg jacquemus\\2020-07-05_16-59-08_UTC_5.jpg jacquemus\\2020-07-05_16-59-08_UTC_5.mp4 jacquemus\\2020-07-05_16-59-08_UTC_6.jpg jacquemus\\2020-07-05_16-59-08_UTC_7.jpg jacquemus\\2020-07-05_16-59-08_UTC_8.jpg jacquemus\\2020-07-05_16-59-08_UTC_9.jpg jacquemus\\2020-07-05_16-59-08_UTC_10.jpg [« MON MARSEILLE » JACQUEMUS M…] json \n"
     ]
    },
    {
     "name": "stderr",
     "output_type": "stream",
     "text": [
      "Downloading posts:  84%|█████████████████████████████████████████████████▋         | 421/500 [1:04:35<17:08, 13.02s/it]"
     ]
    },
    {
     "name": "stdout",
     "output_type": "stream",
     "text": [
      "jacquemus\\2020-06-28_19-09-29_UTC.jpg [PRIDE 💙💚💛🧡❤️ TWO GUYS IN LOVE…] json \n"
     ]
    },
    {
     "name": "stderr",
     "output_type": "stream",
     "text": [
      "Downloading posts:  84%|█████████████████████████████████████████████████▊         | 422/500 [1:04:38<12:50,  9.88s/it]"
     ]
    },
    {
     "name": "stdout",
     "output_type": "stream",
     "text": [
      "jacquemus\\2020-06-28_19-08-25_UTC.jpg [PRIDE 💙💚💛🧡❤️ TWO GUYS IN LOVE…] json \n"
     ]
    },
    {
     "name": "stderr",
     "output_type": "stream",
     "text": [
      "Downloading posts:  85%|█████████████████████████████████████████████████▉         | 423/500 [1:04:40<09:51,  7.69s/it]"
     ]
    },
    {
     "name": "stdout",
     "output_type": "stream",
     "text": [
      "jacquemus\\2020-06-28_18-41-33_UTC.jpg [PRIDE 💙💚💛🧡❤️ TWO GUYS IN LOVE…] json \n"
     ]
    },
    {
     "name": "stderr",
     "output_type": "stream",
     "text": [
      "Downloading posts:  85%|██████████████████████████████████████████████████         | 424/500 [1:04:43<07:48,  6.16s/it]"
     ]
    },
    {
     "name": "stdout",
     "output_type": "stream",
     "text": [
      "jacquemus\\2020-06-24_16-36-08_UTC.jpg [A YEAR AGO] json \n"
     ]
    },
    {
     "name": "stderr",
     "output_type": "stream",
     "text": [
      "Downloading posts:  85%|██████████████████████████████████████████████████▏        | 425/500 [1:04:50<08:13,  6.59s/it]"
     ]
    },
    {
     "name": "stdout",
     "output_type": "stream",
     "text": [
      "jacquemus\\2020-06-24_16-33-22_UTC_1.jpg jacquemus\\2020-06-24_16-33-22_UTC_2.jpg jacquemus\\2020-06-24_16-33-22_UTC_2.mp4 jacquemus\\2020-06-24_16-33-22_UTC_3.jpg jacquemus\\2020-06-24_16-33-22_UTC_4.jpg jacquemus\\2020-06-24_16-33-22_UTC_4.mp4 jacquemus\\2020-06-24_16-33-22_UTC_5.jpg jacquemus\\2020-06-24_16-33-22_UTC_6.jpg jacquemus\\2020-06-24_16-33-22_UTC_7.jpg jacquemus\\2020-06-24_16-33-22_UTC_7.mp4 jacquemus\\2020-06-24_16-33-22_UTC_8.jpg jacquemus\\2020-06-24_16-33-22_UTC_8.mp4 jacquemus\\2020-06-24_16-33-22_UTC_9.jpg jacquemus\\2020-06-24_16-33-22_UTC_9.mp4 jacquemus\\2020-06-24_16-33-22_UTC_10.jpg [A YEAR AGO.  I WILL NEVER FOR…] json \n"
     ]
    },
    {
     "name": "stderr",
     "output_type": "stream",
     "text": [
      "Downloading posts:  85%|██████████████████████████████████████████████████▎        | 426/500 [1:05:08<12:22, 10.03s/it]"
     ]
    },
    {
     "name": "stdout",
     "output_type": "stream",
     "text": [
      "jacquemus\\2020-06-24_16-25-42_UTC.jpg [A YEAR AGO... 💔] json \n"
     ]
    },
    {
     "name": "stderr",
     "output_type": "stream",
     "text": [
      "Downloading posts:  85%|██████████████████████████████████████████████████▍        | 427/500 [1:05:11<09:29,  7.81s/it]"
     ]
    },
    {
     "name": "stdout",
     "output_type": "stream",
     "text": [
      "jacquemus\\2020-06-19_14-49-48_UTC.jpg [💓] json \n"
     ]
    },
    {
     "name": "stderr",
     "output_type": "stream",
     "text": [
      "Downloading posts:  86%|██████████████████████████████████████████████████▌        | 428/500 [1:05:16<08:13,  6.85s/it]"
     ]
    },
    {
     "name": "stdout",
     "output_type": "stream",
     "text": [
      "jacquemus\\2020-06-19_14-48-28_UTC.jpg [FRIDAY] json \n"
     ]
    },
    {
     "name": "stderr",
     "output_type": "stream",
     "text": [
      "Downloading posts:  86%|██████████████████████████████████████████████████▌        | 429/500 [1:05:18<06:35,  5.57s/it]"
     ]
    },
    {
     "name": "stdout",
     "output_type": "stream",
     "text": [
      "jacquemus\\2020-06-16_16-32-24_UTC.jpg [CAPTION THIS] json \n"
     ]
    },
    {
     "name": "stderr",
     "output_type": "stream",
     "text": [
      "Downloading posts:  86%|██████████████████████████████████████████████████▋        | 430/500 [1:05:26<07:12,  6.18s/it]"
     ]
    },
    {
     "name": "stdout",
     "output_type": "stream",
     "text": [
      "jacquemus\\2020-06-14_20-26-33_UTC_1.jpg jacquemus\\2020-06-14_20-26-33_UTC_2.jpg jacquemus\\2020-06-14_20-26-33_UTC_2.mp4 jacquemus\\2020-06-14_20-26-33_UTC_3.jpg jacquemus\\2020-06-14_20-26-33_UTC_4.jpg jacquemus\\2020-06-14_20-26-33_UTC_4.mp4 jacquemus\\2020-06-14_20-26-33_UTC_5.jpg jacquemus\\2020-06-14_20-26-33_UTC_5.mp4 jacquemus\\2020-06-14_20-26-33_UTC_6.jpg [SOUTH part3] json \n"
     ]
    },
    {
     "name": "stderr",
     "output_type": "stream",
     "text": [
      "Downloading posts:  86%|██████████████████████████████████████████████████▊        | 431/500 [1:05:37<08:47,  7.65s/it]"
     ]
    },
    {
     "name": "stdout",
     "output_type": "stream",
     "text": [
      "jacquemus\\2020-06-14_20-22-35_UTC_1.jpg jacquemus\\2020-06-14_20-22-35_UTC_2.jpg jacquemus\\2020-06-14_20-22-35_UTC_3.jpg jacquemus\\2020-06-14_20-22-35_UTC_3.mp4 jacquemus\\2020-06-14_20-22-35_UTC_4.jpg jacquemus\\2020-06-14_20-22-35_UTC_4.mp4 jacquemus\\2020-06-14_20-22-35_UTC_5.jpg jacquemus\\2020-06-14_20-22-35_UTC_5.mp4 [SOUTH part2] json \n"
     ]
    },
    {
     "name": "stderr",
     "output_type": "stream",
     "text": [
      "Downloading posts:  86%|██████████████████████████████████████████████████▉        | 432/500 [1:05:50<10:20,  9.12s/it]"
     ]
    },
    {
     "name": "stdout",
     "output_type": "stream",
     "text": [
      "jacquemus\\2020-06-14_19-56-38_UTC_1.jpg jacquemus\\2020-06-14_19-56-38_UTC_2.jpg jacquemus\\2020-06-14_19-56-38_UTC_2.mp4 jacquemus\\2020-06-14_19-56-38_UTC_3.jpg jacquemus\\2020-06-14_19-56-38_UTC_4.jpg jacquemus\\2020-06-14_19-56-38_UTC_4.mp4 jacquemus\\2020-06-14_19-56-38_UTC_5.jpg jacquemus\\2020-06-14_19-56-38_UTC_6.jpg jacquemus\\2020-06-14_19-56-38_UTC_6.mp4 jacquemus\\2020-06-14_19-56-38_UTC_7.jpg jacquemus\\2020-06-14_19-56-38_UTC_7.mp4 jacquemus\\2020-06-14_19-56-38_UTC_8.jpg jacquemus\\2020-06-14_19-56-38_UTC_8.mp4 jacquemus\\2020-06-14_19-56-38_UTC_9.jpg jacquemus\\2020-06-14_19-56-38_UTC_9.mp4 jacquemus\\2020-06-14_19-56-38_UTC_10.jpg [SOUTH :] json \n"
     ]
    },
    {
     "name": "stderr",
     "output_type": "stream",
     "text": [
      "Downloading posts:  87%|███████████████████████████████████████████████████        | 433/500 [1:06:08<13:21, 11.96s/it]"
     ]
    },
    {
     "name": "stdout",
     "output_type": "stream",
     "text": [
      "jacquemus\\2020-06-14_15-13-11_UTC_1.jpg jacquemus\\2020-06-14_15-13-11_UTC_2.jpg jacquemus\\2020-06-14_15-13-11_UTC_3.jpg jacquemus\\2020-06-14_15-13-11_UTC_4.jpg jacquemus\\2020-06-14_15-13-11_UTC_5.jpg jacquemus\\2020-06-14_15-13-11_UTC_6.jpg jacquemus\\2020-06-14_15-13-11_UTC_7.jpg jacquemus\\2020-06-14_15-13-11_UTC_8.jpg jacquemus\\2020-06-14_15-13-11_UTC_9.jpg jacquemus\\2020-06-14_15-13-11_UTC_10.jpg [WHEN YOU WEAR JACQUEMUS 💕 (pa…] json \n"
     ]
    },
    {
     "name": "stderr",
     "output_type": "stream",
     "text": [
      "Downloading posts:  87%|███████████████████████████████████████████████████▏       | 434/500 [1:06:19<12:39, 11.50s/it]"
     ]
    },
    {
     "name": "stdout",
     "output_type": "stream",
     "text": [
      "jacquemus\\2020-06-12_17-32-34_UTC_1.jpg jacquemus\\2020-06-12_17-32-34_UTC_2.jpg jacquemus\\2020-06-12_17-32-34_UTC_3.jpg jacquemus\\2020-06-12_17-32-34_UTC_4.jpg jacquemus\\2020-06-12_17-32-34_UTC_5.jpg jacquemus\\2020-06-12_17-32-34_UTC_6.jpg jacquemus\\2020-06-12_17-32-34_UTC_7.jpg jacquemus\\2020-06-12_17-32-34_UTC_8.jpg jacquemus\\2020-06-12_17-32-34_UTC_9.jpg jacquemus\\2020-06-12_17-32-34_UTC_10.jpg [WHEN YOU WEAR JACQUEMUS 💕] json \n"
     ]
    },
    {
     "name": "stderr",
     "output_type": "stream",
     "text": [
      "Downloading posts:  87%|███████████████████████████████████████████████████▎       | 435/500 [1:06:33<13:21, 12.33s/it]"
     ]
    },
    {
     "name": "stdout",
     "output_type": "stream",
     "text": [
      "jacquemus\\2020-06-11_15-52-05_UTC_1.jpg jacquemus\\2020-06-11_15-52-05_UTC_2.jpg jacquemus\\2020-06-11_15-52-05_UTC_3.jpg jacquemus\\2020-06-11_15-52-05_UTC_4.jpg jacquemus\\2020-06-11_15-52-05_UTC_5.jpg jacquemus\\2020-06-11_15-52-05_UTC_6.jpg jacquemus\\2020-06-11_15-52-05_UTC_7.jpg jacquemus\\2020-06-11_15-52-05_UTC_8.jpg [SO HAPPY TO SHARE WITH YOU TH…] json \n"
     ]
    },
    {
     "name": "stderr",
     "output_type": "stream",
     "text": [
      "Downloading posts:  87%|███████████████████████████████████████████████████▍       | 436/500 [1:06:43<12:30, 11.73s/it]"
     ]
    },
    {
     "name": "stdout",
     "output_type": "stream",
     "text": [
      "jacquemus\\2020-06-07_21-21-30_UTC_1.jpg jacquemus\\2020-06-07_21-21-30_UTC_2.jpg jacquemus\\2020-06-07_21-21-30_UTC_3.jpg jacquemus\\2020-06-07_21-21-30_UTC_4.jpg jacquemus\\2020-06-07_21-21-30_UTC_4.mp4 jacquemus\\2020-06-07_21-21-30_UTC_5.jpg [I spent my childhood sleeping…] json \n"
     ]
    },
    {
     "name": "stderr",
     "output_type": "stream",
     "text": [
      "Downloading posts:  87%|███████████████████████████████████████████████████▌       | 437/500 [1:06:55<12:14, 11.65s/it]"
     ]
    },
    {
     "name": "stdout",
     "output_type": "stream",
     "text": [
      "jacquemus\\2020-06-07_21-12-50_UTC_1.jpg jacquemus\\2020-06-07_21-12-50_UTC_2.jpg jacquemus\\2020-06-07_21-12-50_UTC_3.jpg [I spent my childhood sleeping…] json \n"
     ]
    },
    {
     "name": "stderr",
     "output_type": "stream",
     "text": [
      "Downloading posts:  88%|███████████████████████████████████████████████████▋       | 438/500 [1:07:03<10:58, 10.63s/it]"
     ]
    },
    {
     "name": "stdout",
     "output_type": "stream",
     "text": [
      "jacquemus\\2020-06-07_20-48-29_UTC_1.jpg jacquemus\\2020-06-07_20-48-29_UTC_2.jpg jacquemus\\2020-06-07_20-48-29_UTC_3.jpg jacquemus\\2020-06-07_20-48-29_UTC_4.jpg jacquemus\\2020-06-07_20-48-29_UTC_4.mp4 jacquemus\\2020-06-07_20-48-29_UTC_5.jpg jacquemus\\2020-06-07_20-48-29_UTC_6.jpg jacquemus\\2020-06-07_20-48-29_UTC_7.jpg jacquemus\\2020-06-07_20-48-29_UTC_8.jpg [I spent my childhood sleeping…] json \n"
     ]
    },
    {
     "name": "stderr",
     "output_type": "stream",
     "text": [
      "Downloading posts:  88%|███████████████████████████████████████████████████▊       | 439/500 [1:07:15<11:09, 10.97s/it]"
     ]
    },
    {
     "name": "stdout",
     "output_type": "stream",
     "text": [
      "jacquemus\\2020-05-31_10-43-52_UTC.jpg json \n"
     ]
    },
    {
     "name": "stderr",
     "output_type": "stream",
     "text": [
      "Downloading posts:  88%|███████████████████████████████████████████████████▉       | 440/500 [1:07:19<09:04,  9.07s/it]"
     ]
    },
    {
     "name": "stdout",
     "output_type": "stream",
     "text": [
      "jacquemus\\2020-05-31_10-21-23_UTC.jpg json \n"
     ]
    },
    {
     "name": "stderr",
     "output_type": "stream",
     "text": [
      "Downloading posts:  88%|████████████████████████████████████████████████████       | 441/500 [1:07:23<07:20,  7.47s/it]"
     ]
    },
    {
     "name": "stdout",
     "output_type": "stream",
     "text": [
      "jacquemus\\2020-05-28_14-50-53_UTC_1.jpg jacquemus\\2020-05-28_14-50-53_UTC_2.jpg jacquemus\\2020-05-28_14-50-53_UTC_3.jpg jacquemus\\2020-05-28_14-50-53_UTC_4.jpg jacquemus\\2020-05-28_14-50-53_UTC_5.jpg jacquemus\\2020-05-28_14-50-53_UTC_6.jpg jacquemus\\2020-05-28_14-50-53_UTC_7.jpg [SO HAPPY TO SHARE WITH YOU « …] json \n"
     ]
    },
    {
     "name": "stderr",
     "output_type": "stream",
     "text": [
      "Downloading posts:  88%|████████████████████████████████████████████████████▏      | 442/500 [1:07:33<07:55,  8.19s/it]"
     ]
    },
    {
     "name": "stdout",
     "output_type": "stream",
     "text": [
      "jacquemus\\2020-05-21_17-59-33_UTC_1.jpg jacquemus\\2020-05-21_17-59-33_UTC_2.jpg jacquemus\\2020-05-21_17-59-33_UTC_2.mp4 jacquemus\\2020-05-21_17-59-33_UTC_3.jpg [💕💕 #JACQUEMUSATHOME WITH MY G…] json \n"
     ]
    },
    {
     "name": "stderr",
     "output_type": "stream",
     "text": [
      "Downloading posts:  89%|████████████████████████████████████████████████████▎      | 443/500 [1:07:41<07:49,  8.24s/it]"
     ]
    },
    {
     "name": "stdout",
     "output_type": "stream",
     "text": [
      "jacquemus\\2020-05-21_17-58-02_UTC.jpg [💕💕 #JACQUEMUSATHOME WITH MY G…] json \n"
     ]
    },
    {
     "name": "stderr",
     "output_type": "stream",
     "text": [
      "Downloading posts:  89%|████████████████████████████████████████████████████▍      | 444/500 [1:07:46<06:40,  7.14s/it]"
     ]
    },
    {
     "name": "stdout",
     "output_type": "stream",
     "text": [
      "jacquemus\\2020-05-21_17-06-00_UTC_1.jpg jacquemus\\2020-05-21_17-06-00_UTC_2.jpg jacquemus\\2020-05-21_17-06-00_UTC_3.jpg jacquemus\\2020-05-21_17-06-00_UTC_4.jpg jacquemus\\2020-05-21_17-06-00_UTC_5.jpg jacquemus\\2020-05-21_17-06-00_UTC_6.jpg jacquemus\\2020-05-21_17-06-00_UTC_7.jpg jacquemus\\2020-05-21_17-06-00_UTC_8.jpg jacquemus\\2020-05-21_17-06-00_UTC_9.jpg [💕💕 #JACQUEMUSATHOME WITH MY G…] json \n"
     ]
    },
    {
     "name": "stderr",
     "output_type": "stream",
     "text": [
      "Downloading posts:  89%|████████████████████████████████████████████████████▌      | 445/500 [1:07:57<07:44,  8.45s/it]"
     ]
    },
    {
     "name": "stdout",
     "output_type": "stream",
     "text": [
      "jacquemus\\2020-05-20_15-56-37_UTC.jpg [SUMMER AT THE BUILDING PART 2] jacquemus\\2020-05-20_15-56-37_UTC.mp4 json \n"
     ]
    },
    {
     "name": "stderr",
     "output_type": "stream",
     "text": [
      "Downloading posts:  89%|████████████████████████████████████████████████████▋      | 446/500 [1:08:04<07:00,  7.78s/it]"
     ]
    },
    {
     "name": "stdout",
     "output_type": "stream",
     "text": [
      "jacquemus\\2020-05-20_15-32-33_UTC_1.jpg jacquemus\\2020-05-20_15-32-33_UTC_2.jpg jacquemus\\2020-05-20_15-32-33_UTC_3.jpg [SUMMER AT JACQUEMUS] json \n"
     ]
    },
    {
     "name": "stderr",
     "output_type": "stream",
     "text": [
      "Downloading posts:  89%|████████████████████████████████████████████████████▋      | 447/500 [1:08:08<05:55,  6.71s/it]"
     ]
    },
    {
     "name": "stdout",
     "output_type": "stream",
     "text": [
      "jacquemus\\2020-05-20_15-18-02_UTC.jpg [SUMMER AT THE STUDIO : WE GOI…] jacquemus\\2020-05-20_15-18-02_UTC.mp4 json \n"
     ]
    },
    {
     "name": "stderr",
     "output_type": "stream",
     "text": [
      "Downloading posts:  90%|████████████████████████████████████████████████████▊      | 448/500 [1:08:12<05:06,  5.89s/it]"
     ]
    },
    {
     "name": "stdout",
     "output_type": "stream",
     "text": [
      "jacquemus\\2020-05-19_14-25-38_UTC.jpg [🌞] json \n"
     ]
    },
    {
     "name": "stderr",
     "output_type": "stream",
     "text": [
      "Downloading posts:  90%|████████████████████████████████████████████████████▉      | 449/500 [1:08:18<05:11,  6.10s/it]"
     ]
    },
    {
     "name": "stdout",
     "output_type": "stream",
     "text": [
      "jacquemus\\2020-05-19_14-25-00_UTC.jpg [✨] json \n"
     ]
    },
    {
     "name": "stderr",
     "output_type": "stream",
     "text": [
      "Downloading posts:  90%|█████████████████████████████████████████████████████      | 450/500 [1:08:22<04:27,  5.35s/it]"
     ]
    },
    {
     "name": "stdout",
     "output_type": "stream",
     "text": [
      "jacquemus\\2020-05-19_13-52-02_UTC.jpg [OUR BIRTHDAY 💓  #jtm] json \n"
     ]
    },
    {
     "name": "stderr",
     "output_type": "stream",
     "text": [
      "Downloading posts:  90%|█████████████████████████████████████████████████████▏     | 451/500 [1:08:28<04:40,  5.72s/it]"
     ]
    },
    {
     "name": "stdout",
     "output_type": "stream",
     "text": [
      "jacquemus\\2020-05-15_15-50-46_UTC.jpg [SUMMER NOW  @emirshiro] json \n"
     ]
    },
    {
     "name": "stderr",
     "output_type": "stream",
     "text": [
      "Downloading posts:  90%|█████████████████████████████████████████████████████▎     | 452/500 [1:08:33<04:18,  5.38s/it]"
     ]
    },
    {
     "name": "stdout",
     "output_type": "stream",
     "text": [
      "jacquemus\\2020-05-15_15-50-25_UTC.jpg [SUMMER NOW  @emirshiro] json \n"
     ]
    },
    {
     "name": "stderr",
     "output_type": "stream",
     "text": [
      "Downloading posts:  91%|█████████████████████████████████████████████████████▍     | 453/500 [1:08:38<04:01,  5.15s/it]"
     ]
    },
    {
     "name": "stdout",
     "output_type": "stream",
     "text": [
      "jacquemus\\2020-05-15_15-49-14_UTC.jpg [SUMMER NOW  @emirshiro] json \n"
     ]
    },
    {
     "name": "stderr",
     "output_type": "stream",
     "text": [
      "Downloading posts:  91%|█████████████████████████████████████████████████████▌     | 454/500 [1:08:45<04:30,  5.88s/it]"
     ]
    },
    {
     "name": "stdout",
     "output_type": "stream",
     "text": [
      "jacquemus\\2020-05-13_20-22-09_UTC_1.jpg jacquemus\\2020-05-13_20-22-09_UTC_2.jpg jacquemus\\2020-05-13_20-22-09_UTC_3.jpg jacquemus\\2020-05-13_20-22-09_UTC_4.jpg [JACQUEMUS + SSENSE  LOUNGEWEA…] json \n"
     ]
    },
    {
     "name": "stderr",
     "output_type": "stream",
     "text": [
      "Downloading posts:  91%|█████████████████████████████████████████████████████▋     | 455/500 [1:08:52<04:38,  6.20s/it]"
     ]
    },
    {
     "name": "stdout",
     "output_type": "stream",
     "text": [
      "jacquemus\\2020-05-08_21-36-40_UTC_1.jpg jacquemus\\2020-05-08_21-36-40_UTC_2.jpg jacquemus\\2020-05-08_21-36-40_UTC_3.jpg jacquemus\\2020-05-08_21-36-40_UTC_4.jpg jacquemus\\2020-05-08_21-36-40_UTC_5.jpg jacquemus\\2020-05-08_21-36-40_UTC_5.mp4 jacquemus\\2020-05-08_21-36-40_UTC_6.jpg jacquemus\\2020-05-08_21-36-40_UTC_7.jpg jacquemus\\2020-05-08_21-36-40_UTC_8.jpg jacquemus\\2020-05-08_21-36-40_UTC_9.jpg jacquemus\\2020-05-08_21-36-40_UTC_10.jpg jacquemus\\2020-05-08_21-36-40_UTC_10.mp4 [WELCOME TO MY YELLOW WORLD :] json \n"
     ]
    },
    {
     "name": "stderr",
     "output_type": "stream",
     "text": [
      "Downloading posts:  91%|█████████████████████████████████████████████████████▊     | 456/500 [1:09:07<06:31,  8.90s/it]"
     ]
    },
    {
     "name": "stdout",
     "output_type": "stream",
     "text": [
      "jacquemus\\2020-05-07_16-37-26_UTC_1.jpg jacquemus\\2020-05-07_16-37-26_UTC_2.jpg jacquemus\\2020-05-07_16-37-26_UTC_3.jpg jacquemus\\2020-05-07_16-37-26_UTC_4.jpg jacquemus\\2020-05-07_16-37-26_UTC_5.jpg [OMBRES SUMMMER 2020 on JACQUE…] json \n"
     ]
    },
    {
     "name": "stderr",
     "output_type": "stream",
     "text": [
      "Downloading posts:  91%|█████████████████████████████████████████████████████▉     | 457/500 [1:09:14<05:46,  8.06s/it]"
     ]
    },
    {
     "name": "stdout",
     "output_type": "stream",
     "text": [
      "jacquemus\\2020-05-05_20-05-07_UTC_1.jpg jacquemus\\2020-05-05_20-05-07_UTC_2.jpg jacquemus\\2020-05-05_20-05-07_UTC_3.jpg jacquemus\\2020-05-05_20-05-07_UTC_4.jpg jacquemus\\2020-05-05_20-05-07_UTC_5.jpg jacquemus\\2020-05-05_20-05-07_UTC_6.jpg jacquemus\\2020-05-05_20-05-07_UTC_7.jpg jacquemus\\2020-05-05_20-05-07_UTC_7.mp4 jacquemus\\2020-05-05_20-05-07_UTC_8.jpg jacquemus\\2020-05-05_20-05-07_UTC_9.jpg jacquemus\\2020-05-05_20-05-07_UTC_10.jpg jacquemus\\2020-05-05_20-05-07_UTC_10.mp4 [PLACES I WOULD LOVE TO GO BAC…] json \n"
     ]
    },
    {
     "name": "stderr",
     "output_type": "stream",
     "text": [
      "Downloading posts:  92%|██████████████████████████████████████████████████████     | 458/500 [1:09:27<06:43,  9.61s/it]"
     ]
    },
    {
     "name": "stdout",
     "output_type": "stream",
     "text": [
      "jacquemus\\2020-05-05_13-53-20_UTC_1.jpg jacquemus\\2020-05-05_13-53-20_UTC_2.jpg jacquemus\\2020-05-05_13-53-20_UTC_2.mp4 jacquemus\\2020-05-05_13-53-20_UTC_3.jpg jacquemus\\2020-05-05_13-53-20_UTC_4.jpg jacquemus\\2020-05-05_13-53-20_UTC_4.mp4 jacquemus\\2020-05-05_13-53-20_UTC_5.jpg jacquemus\\2020-05-05_13-53-20_UTC_6.jpg jacquemus\\2020-05-05_13-53-20_UTC_7.jpg jacquemus\\2020-05-05_13-53-20_UTC_7.mp4 jacquemus\\2020-05-05_13-53-20_UTC_8.jpg jacquemus\\2020-05-05_13-53-20_UTC_9.jpg jacquemus\\2020-05-05_13-53-20_UTC_9.mp4 jacquemus\\2020-05-05_13-53-20_UTC_10.jpg [PLACES I WOULD LOVE TO GO BAC…] json \n"
     ]
    },
    {
     "name": "stderr",
     "output_type": "stream",
     "text": [
      "Downloading posts:  92%|██████████████████████████████████████████████████████▏    | 459/500 [1:09:44<08:05, 11.85s/it]"
     ]
    },
    {
     "name": "stdout",
     "output_type": "stream",
     "text": [
      "jacquemus\\2020-05-04_18-04-53_UTC_1.jpg jacquemus\\2020-05-04_18-04-53_UTC_2.jpg jacquemus\\2020-05-04_18-04-53_UTC_3.jpg jacquemus\\2020-05-04_18-04-53_UTC_4.jpg jacquemus\\2020-05-04_18-04-53_UTC_4.mp4 jacquemus\\2020-05-04_18-04-53_UTC_5.jpg jacquemus\\2020-05-04_18-04-53_UTC_6.jpg jacquemus\\2020-05-04_18-04-53_UTC_7.jpg jacquemus\\2020-05-04_18-04-53_UTC_8.jpg jacquemus\\2020-05-04_18-04-53_UTC_9.jpg jacquemus\\2020-05-04_18-04-53_UTC_10.jpg [PLACES I WOULD LOVE TO GO BACK] json \n"
     ]
    },
    {
     "name": "stderr",
     "output_type": "stream",
     "text": [
      "Downloading posts:  92%|██████████████████████████████████████████████████████▎    | 460/500 [1:09:56<07:59, 12.00s/it]"
     ]
    },
    {
     "name": "stdout",
     "output_type": "stream",
     "text": [
      "jacquemus\\2020-05-02_20-29-56_UTC.jpg [ROSALIA 💓💕 PASSION 💕💕 @rosali…] json \n"
     ]
    },
    {
     "name": "stderr",
     "output_type": "stream",
     "text": [
      "Downloading posts:  92%|██████████████████████████████████████████████████████▍    | 461/500 [1:09:59<05:57,  9.18s/it]"
     ]
    },
    {
     "name": "stdout",
     "output_type": "stream",
     "text": [
      "jacquemus\\2020-05-02_20-29-07_UTC.jpg [ROSALIA 💓💕 PASSION 💕💕 @rosali…] json \n"
     ]
    },
    {
     "name": "stderr",
     "output_type": "stream",
     "text": [
      "Downloading posts:  92%|██████████████████████████████████████████████████████▌    | 462/500 [1:10:06<05:30,  8.70s/it]"
     ]
    },
    {
     "name": "stdout",
     "output_type": "stream",
     "text": [
      "jacquemus\\2020-05-02_20-15-28_UTC_1.jpg jacquemus\\2020-05-02_20-15-28_UTC_2.jpg jacquemus\\2020-05-02_20-15-28_UTC_3.jpg [ROSALIA 💓💕 PASSION 💕💕 @rosali…] json \n"
     ]
    },
    {
     "name": "stderr",
     "output_type": "stream",
     "text": [
      "Downloading posts:  93%|██████████████████████████████████████████████████████▋    | 463/500 [1:10:15<05:17,  8.59s/it]"
     ]
    },
    {
     "name": "stdout",
     "output_type": "stream",
     "text": [
      "jacquemus\\2020-05-02_17-12-17_UTC_1.jpg jacquemus\\2020-05-02_17-12-17_UTC_2.jpg jacquemus\\2020-05-02_17-12-17_UTC_3.jpg jacquemus\\2020-05-02_17-12-17_UTC_4.jpg [BLACK AND WHITE OBSSESION HEN…] json \n"
     ]
    },
    {
     "name": "stderr",
     "output_type": "stream",
     "text": [
      "Downloading posts:  93%|██████████████████████████████████████████████████████▊    | 464/500 [1:10:24<05:16,  8.80s/it]"
     ]
    },
    {
     "name": "stdout",
     "output_type": "stream",
     "text": [
      "jacquemus\\2020-05-02_16-26-51_UTC_1.jpg jacquemus\\2020-05-02_16-26-51_UTC_2.jpg jacquemus\\2020-05-02_16-26-51_UTC_3.jpg jacquemus\\2020-05-02_16-26-51_UTC_4.jpg [BLACK AND WHITE OBSSESION, AN…] json \n"
     ]
    },
    {
     "name": "stderr",
     "output_type": "stream",
     "text": [
      "Downloading posts:  93%|██████████████████████████████████████████████████████▊    | 465/500 [1:10:30<04:38,  7.95s/it]"
     ]
    },
    {
     "name": "stdout",
     "output_type": "stream",
     "text": [
      "jacquemus\\2020-05-02_15-54-32_UTC_1.jpg jacquemus\\2020-05-02_15-54-32_UTC_2.jpg jacquemus\\2020-05-02_15-54-32_UTC_3.jpg jacquemus\\2020-05-02_15-54-32_UTC_4.jpg jacquemus\\2020-05-02_15-54-32_UTC_5.jpg [BLACK AND WHITE OBSSESION TOM…] json \n"
     ]
    },
    {
     "name": "stderr",
     "output_type": "stream",
     "text": [
      "Downloading posts:  93%|██████████████████████████████████████████████████████▉    | 466/500 [1:10:36<04:06,  7.24s/it]"
     ]
    },
    {
     "name": "stdout",
     "output_type": "stream",
     "text": [
      "jacquemus\\2020-05-01_15-10-15_UTC_1.jpg jacquemus\\2020-05-01_15-10-15_UTC_2.jpg [GIGI 💕 SO HAPPY FOR YOU @gigi…] json \n"
     ]
    },
    {
     "name": "stderr",
     "output_type": "stream",
     "text": [
      "Downloading posts:  93%|███████████████████████████████████████████████████████    | 467/500 [1:10:40<03:29,  6.34s/it]"
     ]
    },
    {
     "name": "stdout",
     "output_type": "stream",
     "text": [
      "jacquemus\\2020-05-01_15-07-13_UTC_1.jpg jacquemus\\2020-05-01_15-07-13_UTC_2.jpg jacquemus\\2020-05-01_15-07-13_UTC_3.jpg [GIGI 💕 SO HAPPY FOR YOU @gigi…] json \n"
     ]
    },
    {
     "name": "stderr",
     "output_type": "stream",
     "text": [
      "Downloading posts:  94%|███████████████████████████████████████████████████████▏   | 468/500 [1:10:46<03:18,  6.22s/it]"
     ]
    },
    {
     "name": "stdout",
     "output_type": "stream",
     "text": [
      "jacquemus\\2020-05-01_15-06-11_UTC_1.jpg jacquemus\\2020-05-01_15-06-11_UTC_2.jpg jacquemus\\2020-05-01_15-06-11_UTC_2.mp4 [GIGI 💕 SO HAPPY FOR YOU] json \n"
     ]
    },
    {
     "name": "stderr",
     "output_type": "stream",
     "text": [
      "Downloading posts:  94%|███████████████████████████████████████████████████████▎   | 469/500 [1:10:53<03:23,  6.58s/it]"
     ]
    },
    {
     "name": "stdout",
     "output_type": "stream",
     "text": [
      "jacquemus\\2020-05-01_12-44-46_UTC.jpg [JACQUEMUS DELIVERY  @piloulec…] jacquemus\\2020-05-01_12-44-46_UTC.mp4 json \n"
     ]
    },
    {
     "name": "stderr",
     "output_type": "stream",
     "text": [
      "Downloading posts:  94%|███████████████████████████████████████████████████████▍   | 470/500 [1:10:57<02:54,  5.83s/it]"
     ]
    },
    {
     "name": "stdout",
     "output_type": "stream",
     "text": [
      "jacquemus\\2020-05-01_10-26-22_UTC.jpg [BONJOUR SUMMER WITH @leowalki…] jacquemus\\2020-05-01_10-26-22_UTC.mp4 json \n"
     ]
    },
    {
     "name": "stderr",
     "output_type": "stream",
     "text": [
      "Downloading posts:  94%|███████████████████████████████████████████████████████▌   | 471/500 [1:11:15<04:29,  9.30s/it]"
     ]
    },
    {
     "name": "stdout",
     "output_type": "stream",
     "text": [
      "jacquemus\\2020-04-30_15-31-46_UTC.jpg [PICK YOUR WEEK END BAG :) NEW…] json \n"
     ]
    },
    {
     "name": "stderr",
     "output_type": "stream",
     "text": [
      "Downloading posts:  94%|███████████████████████████████████████████████████████▋   | 472/500 [1:11:19<03:41,  7.89s/it]"
     ]
    },
    {
     "name": "stdout",
     "output_type": "stream",
     "text": [
      "jacquemus\\2020-04-29_15-53-59_UTC_1.jpg jacquemus\\2020-04-29_15-53-59_UTC_2.jpg jacquemus\\2020-04-29_15-53-59_UTC_3.jpg jacquemus\\2020-04-29_15-53-59_UTC_4.jpg jacquemus\\2020-04-29_15-53-59_UTC_5.jpg jacquemus\\2020-04-29_15-53-59_UTC_6.jpg jacquemus\\2020-04-29_15-53-59_UTC_7.jpg jacquemus\\2020-04-29_15-53-59_UTC_8.jpg jacquemus\\2020-04-29_15-53-59_UTC_9.jpg jacquemus\\2020-04-29_15-53-59_UTC_10.jpg [SO HAPPY TO SHARE WITH YOU « …] json \n"
     ]
    },
    {
     "name": "stderr",
     "output_type": "stream",
     "text": [
      "Downloading posts:  95%|███████████████████████████████████████████████████████▊   | 473/500 [1:11:29<03:45,  8.36s/it]"
     ]
    },
    {
     "name": "stdout",
     "output_type": "stream",
     "text": [
      "jacquemus\\2020-04-24_16-54-11_UTC_1.jpg jacquemus\\2020-04-24_16-54-11_UTC_2.jpg jacquemus\\2020-04-24_16-54-11_UTC_3.jpg jacquemus\\2020-04-24_16-54-11_UTC_4.jpg jacquemus\\2020-04-24_16-54-11_UTC_5.jpg jacquemus\\2020-04-24_16-54-11_UTC_6.jpg jacquemus\\2020-04-24_16-54-11_UTC_7.jpg jacquemus\\2020-04-24_16-54-11_UTC_8.jpg [SO HAPPY TO SHARE WITH YOU « …] json \n"
     ]
    },
    {
     "name": "stderr",
     "output_type": "stream",
     "text": [
      "Downloading posts:  95%|███████████████████████████████████████████████████████▉   | 474/500 [1:11:40<03:58,  9.15s/it]"
     ]
    },
    {
     "name": "stdout",
     "output_type": "stream",
     "text": [
      "jacquemus\\2020-04-23_17-12-39_UTC_1.jpg jacquemus\\2020-04-23_17-12-39_UTC_2.jpg jacquemus\\2020-04-23_17-12-39_UTC_3.jpg jacquemus\\2020-04-23_17-12-39_UTC_4.jpg jacquemus\\2020-04-23_17-12-39_UTC_5.jpg jacquemus\\2020-04-23_17-12-39_UTC_6.jpg jacquemus\\2020-04-23_17-12-39_UTC_7.jpg jacquemus\\2020-04-23_17-12-39_UTC_8.jpg jacquemus\\2020-04-23_17-12-39_UTC_9.jpg [SO HAPPY TO SHARE WITH YOU « …] json \n"
     ]
    },
    {
     "name": "stderr",
     "output_type": "stream",
     "text": [
      "Downloading posts:  95%|████████████████████████████████████████████████████████   | 475/500 [1:11:52<04:11, 10.06s/it]"
     ]
    },
    {
     "name": "stdout",
     "output_type": "stream",
     "text": [
      "jacquemus\\2020-04-22_08-55-03_UTC.jpg [JACQUEMUS, L’ANNÉE 97 / WINTE…] json \n"
     ]
    },
    {
     "name": "stderr",
     "output_type": "stream",
     "text": [
      "Downloading posts:  95%|████████████████████████████████████████████████████████▏  | 476/500 [1:11:57<03:29,  8.72s/it]"
     ]
    },
    {
     "name": "stdout",
     "output_type": "stream",
     "text": [
      "jacquemus\\2020-04-21_20-10-12_UTC.jpg [AND ;) IMAGE BY @nicolemclaug…] json \n"
     ]
    },
    {
     "name": "stderr",
     "output_type": "stream",
     "text": [
      "Downloading posts:  95%|████████████████████████████████████████████████████████▎  | 477/500 [1:12:00<02:38,  6.88s/it]"
     ]
    },
    {
     "name": "stdout",
     "output_type": "stream",
     "text": [
      "jacquemus\\2020-04-21_20-02-09_UTC.jpg [TODAY LIKE 🥐  IMAGE BY @nicol…] json \n"
     ]
    },
    {
     "name": "stderr",
     "output_type": "stream",
     "text": [
      "Downloading posts:  96%|████████████████████████████████████████████████████████▍  | 478/500 [1:12:05<02:16,  6.19s/it]"
     ]
    },
    {
     "name": "stdout",
     "output_type": "stream",
     "text": [
      "jacquemus\\2020-04-20_16-31-26_UTC_1.jpg jacquemus\\2020-04-20_16-31-26_UTC_2.jpg jacquemus\\2020-04-20_16-31-26_UTC_3.jpg jacquemus\\2020-04-20_16-31-26_UTC_4.jpg jacquemus\\2020-04-20_16-31-26_UTC_5.jpg jacquemus\\2020-04-20_16-31-26_UTC_6.jpg [« MARSEILLE SOLEIL » @piloule…] json \n"
     ]
    },
    {
     "name": "stderr",
     "output_type": "stream",
     "text": [
      "Downloading posts:  96%|████████████████████████████████████████████████████████▌  | 479/500 [1:12:14<02:28,  7.06s/it]"
     ]
    },
    {
     "name": "stdout",
     "output_type": "stream",
     "text": [
      "jacquemus\\2020-04-20_16-29-15_UTC_1.jpg jacquemus\\2020-04-20_16-29-15_UTC_2.jpg jacquemus\\2020-04-20_16-29-15_UTC_3.jpg jacquemus\\2020-04-20_16-29-15_UTC_4.jpg [« MARSEILLE SOLEIL » @piloule…] json \n"
     ]
    },
    {
     "name": "stderr",
     "output_type": "stream",
     "text": [
      "Downloading posts:  96%|████████████████████████████████████████████████████████▋  | 480/500 [1:12:23<02:33,  7.65s/it]"
     ]
    },
    {
     "name": "stdout",
     "output_type": "stream",
     "text": [
      "jacquemus\\2020-04-20_16-16-21_UTC_1.jpg jacquemus\\2020-04-20_16-16-21_UTC_2.jpg jacquemus\\2020-04-20_16-16-21_UTC_3.jpg jacquemus\\2020-04-20_16-16-21_UTC_4.jpg jacquemus\\2020-04-20_16-16-21_UTC_4.mp4 jacquemus\\2020-04-20_16-16-21_UTC_5.jpg jacquemus\\2020-04-20_16-16-21_UTC_6.jpg [« MARSEILLE SOLEIL » @piloule…] json \n"
     ]
    },
    {
     "name": "stderr",
     "output_type": "stream",
     "text": [
      "Downloading posts:  96%|████████████████████████████████████████████████████████▊  | 481/500 [1:12:30<02:23,  7.56s/it]"
     ]
    },
    {
     "name": "stdout",
     "output_type": "stream",
     "text": [
      "jacquemus\\2020-04-19_10-56-05_UTC.jpg [SUNDAY, MY TEAM SEND ME THE A…] json \n"
     ]
    },
    {
     "name": "stderr",
     "output_type": "stream",
     "text": [
      "Downloading posts:  96%|████████████████████████████████████████████████████████▉  | 482/500 [1:12:35<02:00,  6.67s/it]"
     ]
    },
    {
     "name": "stdout",
     "output_type": "stream",
     "text": [
      "jacquemus\\2020-04-19_10-53-47_UTC.jpg [SUNDAY, MY TEAM SEND ME THE A…] json \n"
     ]
    },
    {
     "name": "stderr",
     "output_type": "stream",
     "text": [
      "Downloading posts:  97%|████████████████████████████████████████████████████████▉  | 483/500 [1:12:39<01:43,  6.06s/it]"
     ]
    },
    {
     "name": "stdout",
     "output_type": "stream",
     "text": [
      "jacquemus\\2020-04-19_10-51-23_UTC.jpg [SUNDAY, MY TEAM SEND ME THE A…] json \n"
     ]
    },
    {
     "name": "stderr",
     "output_type": "stream",
     "text": [
      "Downloading posts:  97%|█████████████████████████████████████████████████████████  | 484/500 [1:12:42<01:20,  5.03s/it]"
     ]
    },
    {
     "name": "stdout",
     "output_type": "stream",
     "text": [
      "jacquemus\\2020-04-18_19-52-18_UTC_1.jpg jacquemus\\2020-04-18_19-52-18_UTC_2.jpg jacquemus\\2020-04-18_19-52-18_UTC_3.jpg jacquemus\\2020-04-18_19-52-18_UTC_4.jpg [HANS FEURER] json \n"
     ]
    },
    {
     "name": "stderr",
     "output_type": "stream",
     "text": [
      "Downloading posts:  97%|█████████████████████████████████████████████████████████▏ | 485/500 [1:12:46<01:13,  4.88s/it]"
     ]
    },
    {
     "name": "stdout",
     "output_type": "stream",
     "text": [
      "jacquemus\\2020-04-18_19-49-32_UTC_1.jpg jacquemus\\2020-04-18_19-49-32_UTC_2.jpg jacquemus\\2020-04-18_19-49-32_UTC_3.jpg jacquemus\\2020-04-18_19-49-32_UTC_4.jpg [HANS FEURER] json \n"
     ]
    },
    {
     "name": "stderr",
     "output_type": "stream",
     "text": [
      "Downloading posts:  97%|█████████████████████████████████████████████████████████▎ | 486/500 [1:12:53<01:15,  5.43s/it]"
     ]
    },
    {
     "name": "stdout",
     "output_type": "stream",
     "text": [
      "jacquemus\\2020-04-18_19-44-56_UTC_1.jpg jacquemus\\2020-04-18_19-44-56_UTC_2.jpg jacquemus\\2020-04-18_19-44-56_UTC_3.jpg jacquemus\\2020-04-18_19-44-56_UTC_4.jpg jacquemus\\2020-04-18_19-44-56_UTC_5.jpg jacquemus\\2020-04-18_19-44-56_UTC_6.jpg [HANS FEURER] json \n"
     ]
    },
    {
     "name": "stderr",
     "output_type": "stream",
     "text": [
      "Downloading posts:  97%|█████████████████████████████████████████████████████████▍ | 487/500 [1:13:02<01:23,  6.43s/it]"
     ]
    },
    {
     "name": "stdout",
     "output_type": "stream",
     "text": [
      "jacquemus\\2020-04-17_21-15-51_UTC.jpg [I STARTED THIS BRAND FOR ONE …] json \n"
     ]
    },
    {
     "name": "stderr",
     "output_type": "stream",
     "text": [
      "Downloading posts:  98%|█████████████████████████████████████████████████████████▌ | 488/500 [1:13:10<01:21,  6.79s/it]"
     ]
    },
    {
     "name": "stdout",
     "output_type": "stream",
     "text": [
      "jacquemus\\2020-04-17_21-04-46_UTC_1.jpg jacquemus\\2020-04-17_21-04-46_UTC_2.jpg [YEARS LATER FOR @voguemagazine] json \n"
     ]
    },
    {
     "name": "stderr",
     "output_type": "stream",
     "text": [
      "Downloading posts:  98%|█████████████████████████████████████████████████████████▋ | 489/500 [1:13:13<01:03,  5.74s/it]"
     ]
    },
    {
     "name": "stdout",
     "output_type": "stream",
     "text": [
      "jacquemus\\2020-04-17_20-53-03_UTC.jpg [YEARS AGO WITH THE FAM GANG😂] json \n"
     ]
    },
    {
     "name": "stderr",
     "output_type": "stream",
     "text": [
      "Downloading posts:  98%|█████████████████████████████████████████████████████████▊ | 490/500 [1:13:21<01:03,  6.31s/it]"
     ]
    },
    {
     "name": "stdout",
     "output_type": "stream",
     "text": [
      "jacquemus\\2020-04-10_20-23-04_UTC_1.jpg jacquemus\\2020-04-10_20-23-04_UTC_2.jpg jacquemus\\2020-04-10_20-23-04_UTC_3.jpg jacquemus\\2020-04-10_20-23-04_UTC_4.jpg [WHERE I WANT TO BE] json \n"
     ]
    },
    {
     "name": "stderr",
     "output_type": "stream",
     "text": [
      "Downloading posts:  98%|█████████████████████████████████████████████████████████▉ | 491/500 [1:13:30<01:06,  7.39s/it]"
     ]
    },
    {
     "name": "stdout",
     "output_type": "stream",
     "text": [
      "jacquemus\\2020-04-10_20-21-20_UTC_1.jpg jacquemus\\2020-04-10_20-21-20_UTC_2.jpg jacquemus\\2020-04-10_20-21-20_UTC_3.jpg jacquemus\\2020-04-10_20-21-20_UTC_4.jpg [WHERE I WANT TO BE] json \n"
     ]
    },
    {
     "name": "stderr",
     "output_type": "stream",
     "text": [
      "Downloading posts:  98%|██████████████████████████████████████████████████████████ | 492/500 [1:13:37<00:57,  7.20s/it]"
     ]
    },
    {
     "name": "stdout",
     "output_type": "stream",
     "text": [
      "jacquemus\\2020-04-10_20-05-45_UTC_1.jpg jacquemus\\2020-04-10_20-05-45_UTC_2.jpg jacquemus\\2020-04-10_20-05-45_UTC_3.jpg jacquemus\\2020-04-10_20-05-45_UTC_3.mp4 jacquemus\\2020-04-10_20-05-45_UTC_4.jpg [WHERE I WANT TO BE] json \n"
     ]
    },
    {
     "name": "stderr",
     "output_type": "stream",
     "text": [
      "Downloading posts:  99%|██████████████████████████████████████████████████████████▏| 493/500 [1:13:44<00:50,  7.15s/it]"
     ]
    },
    {
     "name": "stdout",
     "output_type": "stream",
     "text": [
      "jacquemus\\2020-04-09_19-22-23_UTC_1.jpg jacquemus\\2020-04-09_19-22-23_UTC_1.mp4 jacquemus\\2020-04-09_19-22-23_UTC_2.jpg jacquemus\\2020-04-09_19-22-23_UTC_2.mp4 jacquemus\\2020-04-09_19-22-23_UTC_3.jpg jacquemus\\2020-04-09_19-22-23_UTC_3.mp4 jacquemus\\2020-04-09_19-22-23_UTC_4.jpg jacquemus\\2020-04-09_19-22-23_UTC_4.mp4 jacquemus\\2020-04-09_19-22-23_UTC_5.jpg jacquemus\\2020-04-09_19-22-23_UTC_5.mp4 [BRING ME BACK] json \n"
     ]
    },
    {
     "name": "stderr",
     "output_type": "stream",
     "text": [
      "Downloading posts:  99%|██████████████████████████████████████████████████████████▎| 494/500 [1:14:00<00:58,  9.78s/it]"
     ]
    },
    {
     "name": "stdout",
     "output_type": "stream",
     "text": [
      "jacquemus\\2020-04-08_11-29-55_UTC_1.jpg jacquemus\\2020-04-08_11-29-55_UTC_2.jpg jacquemus\\2020-04-08_11-29-55_UTC_2.mp4 [CHECK OUT @vogueparis MY FIRS…] json \n"
     ]
    },
    {
     "name": "stderr",
     "output_type": "stream",
     "text": [
      "Downloading posts:  99%|██████████████████████████████████████████████████████████▍| 495/500 [1:14:05<00:40,  8.18s/it]"
     ]
    },
    {
     "name": "stdout",
     "output_type": "stream",
     "text": [
      "jacquemus\\2020-04-06_17-30-16_UTC.jpg [IN LOVE WITH DUA, HER NEW ALB…] json \n"
     ]
    },
    {
     "name": "stderr",
     "output_type": "stream",
     "text": [
      "Downloading posts:  99%|██████████████████████████████████████████████████████████▌| 496/500 [1:14:12<00:32,  8.01s/it]"
     ]
    },
    {
     "name": "stdout",
     "output_type": "stream",
     "text": [
      "jacquemus\\2020-04-05_17-26-44_UTC.jpg [UNPUBLISHED, SOON MORE IN A N…] json \n"
     ]
    },
    {
     "name": "stderr",
     "output_type": "stream",
     "text": [
      "Downloading posts:  99%|██████████████████████████████████████████████████████████▋| 497/500 [1:14:20<00:23,  7.89s/it]"
     ]
    },
    {
     "name": "stdout",
     "output_type": "stream",
     "text": [
      "jacquemus\\2020-04-05_17-24-31_UTC.jpg [UNPUBLISHED, SOON MORE IN A N…] json \n"
     ]
    },
    {
     "name": "stderr",
     "output_type": "stream",
     "text": [
      "Downloading posts: 100%|██████████████████████████████████████████████████████████▊| 498/500 [1:14:22<00:12,  6.31s/it]"
     ]
    },
    {
     "name": "stdout",
     "output_type": "stream",
     "text": [
      "jacquemus\\2020-04-05_17-20-13_UTC.jpg [UNPUBLISHED, SOON MORE IN A N…] json \n"
     ]
    },
    {
     "name": "stderr",
     "output_type": "stream",
     "text": [
      "Downloading posts: 100%|██████████████████████████████████████████████████████████▉| 499/500 [1:14:26<00:05,  5.51s/it]"
     ]
    },
    {
     "name": "stdout",
     "output_type": "stream",
     "text": [
      "jacquemus\\2020-04-05_13-09-30_UTC_1.jpg jacquemus\\2020-04-05_13-09-30_UTC_2.jpg jacquemus\\2020-04-05_13-09-30_UTC_3.jpg jacquemus\\2020-04-05_13-09-30_UTC_4.jpg [JACQUEMUS GAME WHICH LOOK ARE…] json \n"
     ]
    },
    {
     "name": "stderr",
     "output_type": "stream",
     "text": [
      "Downloading posts: 100%|███████████████████████████████████████████████████████████| 500/500 [1:14:34<00:00,  8.95s/it]\n"
>>>>>>> ebf267c4643fa440d8689e15803aa30a89ff8b91
     ]
    }
   ],
   "source": [
    "import instaloader\n",
    "import time\n",
    "from tqdm import tqdm\n",
    "import random\n",
    "\n",
    "users = ['hm', 'jacquemus', 'sheinofficial', 'chanelofficial']\n",
    "L = instaloader.Instaloader()\n",
<<<<<<< HEAD
    "user = users[2]  # Replace with the actual username\n",
=======
    "user = users[1]  # Replace with the actual username\n",
>>>>>>> ebf267c4643fa440d8689e15803aa30a89ff8b91
    "profile = instaloader.Profile.from_username(L.context, user)  # user from list of users\n",
    "\n",
    "# Set the maximum number of posts to download\n",
    "max_posts = 500\n",
    "\n",
    "# Using tqdm to create a progress bar\n",
    "for post in tqdm(profile.get_posts(), total=max_posts, desc=\"Downloading posts\"):\n",
    "    if max_posts > 0:\n",
    "        L.download_post(post, target=profile.username)\n",
    "        max_posts -= 1  # Decrement the remaining number of posts to download\n",
    "        time.sleep(random.randint(2,7))  # Wait for x seconds between downloads: x is random uniform (2,7)\n",
    "    else:\n",
    "        break  # Exit the loop after downloading the desired number of posts"
   ]
  },
  {
   "cell_type": "markdown",
   "metadata": {},
   "source": [
    "# Arrange Data in folders"
   ]
  },
  {
   "cell_type": "code",
   "execution_count": 3,
   "metadata": {},
   "outputs": [],
   "source": [
    "import os\n",
    "import shutil\n",
    "\n",
    "def organize_files_by_name(folder_path):\n",
    "    files = [f for f in os.listdir(folder_path) if os.path.isfile(os.path.join(folder_path, f))]\n",
    "    base_names = {}\n",
    "\n",
    "    for file in files:\n",
    "        # Take the first 23 characters as the base name\n",
    "        base_name = file[:23]\n",
    "\n",
    "        if base_name not in base_names:\n",
    "            base_names[base_name] = []\n",
    "\n",
    "        base_names[base_name].append(file)\n",
    "\n",
    "    for base_name, file_list in base_names.items():\n",
    "        dir_path = os.path.join(folder_path, base_name)\n",
    "        if not os.path.exists(dir_path):\n",
    "            os.makedirs(dir_path)\n",
    "\n",
    "        for file in file_list:\n",
    "            original_file = os.path.join(folder_path, file)\n",
    "            new_file = os.path.join(dir_path, file)\n",
    "\n",
    "            if os.path.exists(new_file):\n",
    "                i = 1\n",
    "                new_base_name = file[:23]\n",
    "                ext = os.path.splitext(file)[1]\n",
    "                new_file = os.path.join(dir_path, f\"{new_base_name}_{i}{ext}\")\n",
    "                while os.path.exists(new_file):\n",
    "                    i += 1\n",
    "                    new_file = os.path.join(dir_path, f\"{new_base_name}_{i}{ext}\")\n",
    "\n",
    "            shutil.move(original_file, new_file)\n",
    "\n",
    "# Example usage\n",
    "folder_path = user  # Replace with the path to your folder\n",
    "organize_files_by_name(folder_path)"
   ]
  },
  {
   "cell_type": "markdown",
<<<<<<< HEAD
=======
   "id": "54dc61a6-894b-4c8e-9d05-6516d0b8aa0f",
   "metadata": {},
   "source": [
    "Delete mp4 files"
   ]
  },
  {
   "cell_type": "code",
   "execution_count": 13,
   "id": "9944ac0d-6145-41d3-8051-8753791dfeb0",
   "metadata": {},
   "outputs": [
    {
     "name": "stdout",
     "output_type": "stream",
     "text": [
      "Folder not found: ../1_download_data/sheinofficial\n",
      "Folder not found: ../1_download_data/chanelofficial\n"
     ]
    }
   ],
   "source": [
    "def get_mp4_files(folder_path, users):\n",
    "    mp4_files = []\n",
    "    for user in users:\n",
    "        user_folder = os.path.join(folder_path, user)\n",
    "        if os.path.exists(user_folder):\n",
    "            for root, dirs, files in os.walk(user_folder):\n",
    "                for file in files:\n",
    "                    if file.endswith('.mp4'):\n",
    "                        mp4_files.append(os.path.join(root, file))\n",
    "        else:\n",
    "            print(f\"Folder not found: {user_folder}\")\n",
    "    return mp4_files\n",
    "\n",
    "users = ['hm', 'jacquemus', 'sheinofficial', 'chanelofficial']\n",
    "folder_path = '../1_download_data/'\n",
    "mp4_files = get_mp4_files(folder_path, users)"
   ]
  },
  {
   "cell_type": "code",
   "execution_count": 15,
   "id": "0c54c0ac-47bb-4676-84f1-50817f914e11",
   "metadata": {},
   "outputs": [
    {
     "name": "stdout",
     "output_type": "stream",
     "text": [
      "Deleted: ../1_download_data/hm\\2023-08-07_08-49-07_UTC\\2023-08-07_08-49-07_UTC.mp4\n",
      "Deleted: ../1_download_data/hm\\2023-08-17_13-21-43_UTC\\2023-08-17_13-21-43_UTC.mp4\n",
      "Deleted: ../1_download_data/hm\\2023-08-21_08-17-16_UTC\\2023-08-21_08-17-16_UTC.mp4\n",
      "Deleted: ../1_download_data/hm\\2023-08-25_07-37-03_UTC\\2023-08-25_07-37-03_UTC.mp4\n",
      "Deleted: ../1_download_data/hm\\2023-09-07_10-24-34_UTC\\2023-09-07_10-24-34_UTC.mp4\n",
      "Deleted: ../1_download_data/hm\\2023-09-15_07-04-05_UTC\\2023-09-15_07-04-05_UTC.mp4\n",
      "Deleted: ../1_download_data/hm\\2023-09-15_11-50-28_UTC\\2023-09-15_11-50-28_UTC.mp4\n",
      "Deleted: ../1_download_data/hm\\2023-09-15_14-26-06_UTC\\2023-09-15_14-26-06_UTC.mp4\n",
      "Deleted: ../1_download_data/hm\\2023-09-20_18-21-33_UTC\\2023-09-20_18-21-33_UTC.mp4\n",
      "Deleted: ../1_download_data/hm\\2023-09-21_09-22-51_UTC\\2023-09-21_09-22-51_UTC.mp4\n",
      "Deleted: ../1_download_data/hm\\2023-09-21_16-03-28_UTC\\2023-09-21_16-03-28_UTC.mp4\n",
      "Deleted: ../1_download_data/hm\\2023-09-26_15-00-33_UTC\\2023-09-26_15-00-33_UTC.mp4\n",
      "Deleted: ../1_download_data/hm\\2023-09-27_11-57-23_UTC\\2023-09-27_11-57-23_UTC.mp4\n",
      "Deleted: ../1_download_data/hm\\2023-09-28_11-10-28_UTC\\2023-09-28_11-10-28_UTC.mp4\n",
      "Deleted: ../1_download_data/hm\\2023-10-03_00-42-10_UTC\\2023-10-03_00-42-10_UTC.mp4\n",
      "Deleted: ../1_download_data/hm\\2023-10-03_12-55-11_UTC\\2023-10-03_12-55-11_UTC.mp4\n",
      "Deleted: ../1_download_data/hm\\2023-10-03_20-29-06_UTC\\2023-10-03_20-29-06_UTC.mp4\n",
      "Deleted: ../1_download_data/hm\\2023-10-04_08-44-44_UTC\\2023-10-04_08-44-44_UTC_1.mp4\n",
      "Deleted: ../1_download_data/hm\\2023-10-04_08-44-44_UTC\\2023-10-04_08-44-44_UTC_2.mp4\n",
      "Deleted: ../1_download_data/hm\\2023-10-09_14-07-59_UTC\\2023-10-09_14-07-59_UTC.mp4\n",
      "Deleted: ../1_download_data/hm\\2023-10-19_12-01-11_UTC\\2023-10-19_12-01-11_UTC.mp4\n",
      "Deleted: ../1_download_data/hm\\2023-10-20_10-40-43_UTC\\2023-10-20_10-40-43_UTC.mp4\n",
      "Deleted: ../1_download_data/hm\\2023-10-22_11-15-15_UTC\\2023-10-22_11-15-15_UTC.mp4\n",
      "Deleted: ../1_download_data/hm\\2023-10-24_07-52-41_UTC\\2023-10-24_07-52-41_UTC.mp4\n",
      "Deleted: ../1_download_data/hm\\2023-10-24_11-05-11_UTC\\2023-10-24_11-05-11_UTC.mp4\n",
      "Deleted: ../1_download_data/hm\\2023-10-24_14-27-02_UTC\\2023-10-24_14-27-02_UTC.mp4\n",
      "Deleted: ../1_download_data/hm\\2023-11-02_08-46-44_UTC\\2023-11-02_08-46-44_UTC.mp4\n",
      "Deleted: ../1_download_data/hm\\2023-11-04_15-34-28_UTC\\2023-11-04_15-34-28_UTC.mp4\n",
      "Deleted: ../1_download_data/hm\\2023-11-06_08-19-52_UTC\\2023-11-06_08-19-52_UTC.mp4\n",
      "Deleted: ../1_download_data/hm\\2023-11-09_11-09-13_UTC\\2023-11-09_11-09-13_UTC.mp4\n",
      "Deleted: ../1_download_data/hm\\2023-11-13_09-48-44_UTC\\2023-11-13_09-48-44_UTC.mp4\n",
      "Deleted: ../1_download_data/hm\\2023-11-16_18-49-09_UTC\\2023-11-16_18-49-09_UTC_2.mp4\n",
      "Deleted: ../1_download_data/hm\\2023-11-20_14-06-50_UTC\\2023-11-20_14-06-50_UTC.mp4\n",
      "Deleted: ../1_download_data/hm\\2023-11-22_15-09-49_UTC\\2023-11-22_15-09-49_UTC.mp4\n",
      "Deleted: ../1_download_data/hm\\2023-11-23_09-33-21_UTC\\2023-11-23_09-33-21_UTC.mp4\n",
      "Deleted: ../1_download_data/hm\\2023-11-24_09-56-12_UTC\\2023-11-24_09-56-12_UTC.mp4\n",
      "Deleted: ../1_download_data/hm\\2023-12-01_12-10-03_UTC\\2023-12-01_12-10-03_UTC.mp4\n",
      "Deleted: ../1_download_data/hm\\2023-12-20_09-06-46_UTC\\2023-12-20_09-06-46_UTC.mp4\n",
      "Deleted: ../1_download_data/hm\\2023-12-29_16-05-56_UTC\\2023-12-29_16-05-56_UTC.mp4\n",
      "Deleted: ../1_download_data/hm\\2024-01-01_11-19-17_UTC\\2024-01-01_11-19-17_UTC.mp4\n",
      "Deleted: ../1_download_data/jacquemus\\2020-04-08_11-29-55_UTC\\2020-04-08_11-29-55_UTC_2.mp4\n",
      "Deleted: ../1_download_data/jacquemus\\2020-04-09_19-22-23_UTC\\2020-04-09_19-22-23_UTC_1.mp4\n",
      "Deleted: ../1_download_data/jacquemus\\2020-04-09_19-22-23_UTC\\2020-04-09_19-22-23_UTC_2.mp4\n",
      "Deleted: ../1_download_data/jacquemus\\2020-04-09_19-22-23_UTC\\2020-04-09_19-22-23_UTC_3.mp4\n",
      "Deleted: ../1_download_data/jacquemus\\2020-04-09_19-22-23_UTC\\2020-04-09_19-22-23_UTC_4.mp4\n",
      "Deleted: ../1_download_data/jacquemus\\2020-04-09_19-22-23_UTC\\2020-04-09_19-22-23_UTC_5.mp4\n",
      "Deleted: ../1_download_data/jacquemus\\2020-04-10_20-05-45_UTC\\2020-04-10_20-05-45_UTC_3.mp4\n",
      "Deleted: ../1_download_data/jacquemus\\2020-04-20_16-16-21_UTC\\2020-04-20_16-16-21_UTC_4.mp4\n",
      "Deleted: ../1_download_data/jacquemus\\2020-05-01_10-26-22_UTC\\2020-05-01_10-26-22_UTC.mp4\n",
      "Deleted: ../1_download_data/jacquemus\\2020-05-01_12-44-46_UTC\\2020-05-01_12-44-46_UTC.mp4\n",
      "Deleted: ../1_download_data/jacquemus\\2020-05-01_15-06-11_UTC\\2020-05-01_15-06-11_UTC_2.mp4\n",
      "Deleted: ../1_download_data/jacquemus\\2020-05-04_18-04-53_UTC\\2020-05-04_18-04-53_UTC_4.mp4\n",
      "Deleted: ../1_download_data/jacquemus\\2020-05-05_13-53-20_UTC\\2020-05-05_13-53-20_UTC_2.mp4\n",
      "Deleted: ../1_download_data/jacquemus\\2020-05-05_13-53-20_UTC\\2020-05-05_13-53-20_UTC_4.mp4\n",
      "Deleted: ../1_download_data/jacquemus\\2020-05-05_13-53-20_UTC\\2020-05-05_13-53-20_UTC_7.mp4\n",
      "Deleted: ../1_download_data/jacquemus\\2020-05-05_13-53-20_UTC\\2020-05-05_13-53-20_UTC_9.mp4\n",
      "Deleted: ../1_download_data/jacquemus\\2020-05-05_20-05-07_UTC\\2020-05-05_20-05-07_UTC_10.mp4\n",
      "Deleted: ../1_download_data/jacquemus\\2020-05-05_20-05-07_UTC\\2020-05-05_20-05-07_UTC_7.mp4\n",
      "Deleted: ../1_download_data/jacquemus\\2020-05-08_21-36-40_UTC\\2020-05-08_21-36-40_UTC_10.mp4\n",
      "Deleted: ../1_download_data/jacquemus\\2020-05-08_21-36-40_UTC\\2020-05-08_21-36-40_UTC_5.mp4\n",
      "Deleted: ../1_download_data/jacquemus\\2020-05-20_15-18-02_UTC\\2020-05-20_15-18-02_UTC.mp4\n",
      "Deleted: ../1_download_data/jacquemus\\2020-05-20_15-56-37_UTC\\2020-05-20_15-56-37_UTC.mp4\n",
      "Deleted: ../1_download_data/jacquemus\\2020-05-21_17-59-33_UTC\\2020-05-21_17-59-33_UTC_2.mp4\n",
      "Deleted: ../1_download_data/jacquemus\\2020-06-07_20-48-29_UTC\\2020-06-07_20-48-29_UTC_4.mp4\n",
      "Deleted: ../1_download_data/jacquemus\\2020-06-07_21-21-30_UTC\\2020-06-07_21-21-30_UTC_4.mp4\n",
      "Deleted: ../1_download_data/jacquemus\\2020-06-14_19-56-38_UTC\\2020-06-14_19-56-38_UTC_2.mp4\n",
      "Deleted: ../1_download_data/jacquemus\\2020-06-14_19-56-38_UTC\\2020-06-14_19-56-38_UTC_4.mp4\n",
      "Deleted: ../1_download_data/jacquemus\\2020-06-14_19-56-38_UTC\\2020-06-14_19-56-38_UTC_6.mp4\n",
      "Deleted: ../1_download_data/jacquemus\\2020-06-14_19-56-38_UTC\\2020-06-14_19-56-38_UTC_7.mp4\n",
      "Deleted: ../1_download_data/jacquemus\\2020-06-14_19-56-38_UTC\\2020-06-14_19-56-38_UTC_8.mp4\n",
      "Deleted: ../1_download_data/jacquemus\\2020-06-14_19-56-38_UTC\\2020-06-14_19-56-38_UTC_9.mp4\n",
      "Deleted: ../1_download_data/jacquemus\\2020-06-14_20-22-35_UTC\\2020-06-14_20-22-35_UTC_3.mp4\n",
      "Deleted: ../1_download_data/jacquemus\\2020-06-14_20-22-35_UTC\\2020-06-14_20-22-35_UTC_4.mp4\n",
      "Deleted: ../1_download_data/jacquemus\\2020-06-14_20-22-35_UTC\\2020-06-14_20-22-35_UTC_5.mp4\n",
      "Deleted: ../1_download_data/jacquemus\\2020-06-14_20-26-33_UTC\\2020-06-14_20-26-33_UTC_2.mp4\n",
      "Deleted: ../1_download_data/jacquemus\\2020-06-14_20-26-33_UTC\\2020-06-14_20-26-33_UTC_4.mp4\n",
      "Deleted: ../1_download_data/jacquemus\\2020-06-14_20-26-33_UTC\\2020-06-14_20-26-33_UTC_5.mp4\n",
      "Deleted: ../1_download_data/jacquemus\\2020-06-24_16-33-22_UTC\\2020-06-24_16-33-22_UTC_2.mp4\n",
      "Deleted: ../1_download_data/jacquemus\\2020-06-24_16-33-22_UTC\\2020-06-24_16-33-22_UTC_4.mp4\n",
      "Deleted: ../1_download_data/jacquemus\\2020-06-24_16-33-22_UTC\\2020-06-24_16-33-22_UTC_7.mp4\n",
      "Deleted: ../1_download_data/jacquemus\\2020-06-24_16-33-22_UTC\\2020-06-24_16-33-22_UTC_8.mp4\n",
      "Deleted: ../1_download_data/jacquemus\\2020-06-24_16-33-22_UTC\\2020-06-24_16-33-22_UTC_9.mp4\n",
      "Deleted: ../1_download_data/jacquemus\\2020-07-05_16-59-08_UTC\\2020-07-05_16-59-08_UTC_1.mp4\n",
      "Deleted: ../1_download_data/jacquemus\\2020-07-05_16-59-08_UTC\\2020-07-05_16-59-08_UTC_5.mp4\n",
      "Deleted: ../1_download_data/jacquemus\\2020-07-05_17-01-41_UTC\\2020-07-05_17-01-41_UTC_1.mp4\n",
      "Deleted: ../1_download_data/jacquemus\\2020-07-05_17-01-41_UTC\\2020-07-05_17-01-41_UTC_2.mp4\n",
      "Deleted: ../1_download_data/jacquemus\\2020-07-05_17-01-41_UTC\\2020-07-05_17-01-41_UTC_4.mp4\n",
      "Deleted: ../1_download_data/jacquemus\\2020-07-05_17-01-41_UTC\\2020-07-05_17-01-41_UTC_6.mp4\n",
      "Deleted: ../1_download_data/jacquemus\\2020-07-05_17-01-41_UTC\\2020-07-05_17-01-41_UTC_7.mp4\n",
      "Deleted: ../1_download_data/jacquemus\\2020-07-05_17-01-41_UTC\\2020-07-05_17-01-41_UTC_9.mp4\n",
      "Deleted: ../1_download_data/jacquemus\\2020-07-05_17-06-01_UTC\\2020-07-05_17-06-01_UTC_1.mp4\n",
      "Deleted: ../1_download_data/jacquemus\\2020-07-05_17-06-01_UTC\\2020-07-05_17-06-01_UTC_2.mp4\n",
      "Deleted: ../1_download_data/jacquemus\\2020-07-05_17-06-01_UTC\\2020-07-05_17-06-01_UTC_3.mp4\n",
      "Deleted: ../1_download_data/jacquemus\\2020-07-05_17-06-01_UTC\\2020-07-05_17-06-01_UTC_5.mp4\n",
      "Deleted: ../1_download_data/jacquemus\\2020-07-17_20-04-18_UTC\\2020-07-17_20-04-18_UTC.mp4\n",
      "Deleted: ../1_download_data/jacquemus\\2020-07-20_16-17-58_UTC\\2020-07-20_16-17-58_UTC.mp4\n",
      "Deleted: ../1_download_data/jacquemus\\2020-09-01_16-24-25_UTC\\2020-09-01_16-24-25_UTC_10.mp4\n",
      "Deleted: ../1_download_data/jacquemus\\2020-09-07_15-59-24_UTC\\2020-09-07_15-59-24_UTC.mp4\n",
      "Deleted: ../1_download_data/jacquemus\\2020-09-07_17-01-15_UTC\\2020-09-07_17-01-15_UTC.mp4\n",
      "Deleted: ../1_download_data/jacquemus\\2020-09-10_16-39-33_UTC\\2020-09-10_16-39-33_UTC_4.mp4\n",
      "Deleted: ../1_download_data/jacquemus\\2020-09-10_16-39-33_UTC\\2020-09-10_16-39-33_UTC_5.mp4\n",
      "Deleted: ../1_download_data/jacquemus\\2020-09-10_21-18-42_UTC\\2020-09-10_21-18-42_UTC_1.mp4\n",
      "Deleted: ../1_download_data/jacquemus\\2020-09-14_14-58-40_UTC\\2020-09-14_14-58-40_UTC.mp4\n",
      "Deleted: ../1_download_data/jacquemus\\2020-09-17_17-18-11_UTC\\2020-09-17_17-18-11_UTC.mp4\n",
      "Deleted: ../1_download_data/jacquemus\\2020-09-24_16-40-50_UTC\\2020-09-24_16-40-50_UTC.mp4\n",
      "Deleted: ../1_download_data/jacquemus\\2020-09-30_15-01-12_UTC\\2020-09-30_15-01-12_UTC_10.mp4\n",
      "Deleted: ../1_download_data/jacquemus\\2020-09-30_15-01-12_UTC\\2020-09-30_15-01-12_UTC_7.mp4\n",
      "Deleted: ../1_download_data/jacquemus\\2020-10-19_17-51-11_UTC\\2020-10-19_17-51-11_UTC.mp4\n",
      "Deleted: ../1_download_data/jacquemus\\2020-11-01_13-10-04_UTC\\2020-11-01_13-10-04_UTC_3.mp4\n",
      "Deleted: ../1_download_data/jacquemus\\2020-11-01_16-36-19_UTC\\2020-11-01_16-36-19_UTC_5.mp4\n",
      "Deleted: ../1_download_data/jacquemus\\2020-12-10_17-45-24_UTC\\2020-12-10_17-45-24_UTC_3.mp4\n",
      "Deleted: ../1_download_data/jacquemus\\2020-12-10_18-03-14_UTC\\2020-12-10_18-03-14_UTC.mp4\n",
      "Deleted: ../1_download_data/jacquemus\\2021-01-10_18-10-12_UTC\\2021-01-10_18-10-12_UTC.mp4\n",
      "Deleted: ../1_download_data/jacquemus\\2021-01-18_15-06-15_UTC\\2021-01-18_15-06-15_UTC_3.mp4\n",
      "Deleted: ../1_download_data/jacquemus\\2021-02-02_14-49-18_UTC\\2021-02-02_14-49-18_UTC.mp4\n",
      "Deleted: ../1_download_data/jacquemus\\2021-03-10_16-59-53_UTC\\2021-03-10_16-59-53_UTC.mp4\n",
      "Deleted: ../1_download_data/jacquemus\\2021-03-26_17-30-18_UTC\\2021-03-26_17-30-18_UTC_4.mp4\n",
      "Deleted: ../1_download_data/jacquemus\\2021-04-27_17-14-49_UTC\\2021-04-27_17-14-49_UTC_5.mp4\n",
      "Deleted: ../1_download_data/jacquemus\\2021-04-27_17-14-49_UTC\\2021-04-27_17-14-49_UTC_9.mp4\n",
      "Deleted: ../1_download_data/jacquemus\\2021-04-28_15-23-04_UTC\\2021-04-28_15-23-04_UTC_10.mp4\n",
      "Deleted: ../1_download_data/jacquemus\\2021-04-28_15-23-04_UTC\\2021-04-28_15-23-04_UTC_2.mp4\n",
      "Deleted: ../1_download_data/jacquemus\\2021-04-28_15-23-04_UTC\\2021-04-28_15-23-04_UTC_3.mp4\n",
      "Deleted: ../1_download_data/jacquemus\\2021-04-28_15-23-04_UTC\\2021-04-28_15-23-04_UTC_4.mp4\n",
      "Deleted: ../1_download_data/jacquemus\\2021-04-28_15-23-04_UTC\\2021-04-28_15-23-04_UTC_5.mp4\n",
      "Deleted: ../1_download_data/jacquemus\\2021-04-28_15-23-04_UTC\\2021-04-28_15-23-04_UTC_6.mp4\n",
      "Deleted: ../1_download_data/jacquemus\\2021-04-28_15-23-04_UTC\\2021-04-28_15-23-04_UTC_7.mp4\n",
      "Deleted: ../1_download_data/jacquemus\\2021-04-28_15-23-04_UTC\\2021-04-28_15-23-04_UTC_8.mp4\n",
      "Deleted: ../1_download_data/jacquemus\\2021-04-28_15-23-04_UTC\\2021-04-28_15-23-04_UTC_9.mp4\n",
      "Deleted: ../1_download_data/jacquemus\\2021-04-29_16-32-38_UTC\\2021-04-29_16-32-38_UTC_6.mp4\n",
      "Deleted: ../1_download_data/jacquemus\\2021-06-30_17-50-40_UTC\\2021-06-30_17-50-40_UTC.mp4\n",
      "Deleted: ../1_download_data/jacquemus\\2021-06-30_19-09-24_UTC\\2021-06-30_19-09-24_UTC_1.mp4\n",
      "Deleted: ../1_download_data/jacquemus\\2021-06-30_19-09-24_UTC\\2021-06-30_19-09-24_UTC_5.mp4\n",
      "Deleted: ../1_download_data/jacquemus\\2021-07-01_12-20-34_UTC\\2021-07-01_12-20-34_UTC.mp4\n",
      "Deleted: ../1_download_data/jacquemus\\2021-07-05_16-11-30_UTC\\2021-07-05_16-11-30_UTC.mp4\n",
      "Deleted: ../1_download_data/jacquemus\\2021-07-14_13-59-06_UTC\\2021-07-14_13-59-06_UTC.mp4\n",
      "Deleted: ../1_download_data/jacquemus\\2021-07-24_15-48-04_UTC\\2021-07-24_15-48-04_UTC_4.mp4\n",
      "Deleted: ../1_download_data/jacquemus\\2021-08-11_16-28-33_UTC\\2021-08-11_16-28-33_UTC_10.mp4\n",
      "Deleted: ../1_download_data/jacquemus\\2021-08-11_16-28-33_UTC\\2021-08-11_16-28-33_UTC_6.mp4\n",
      "Deleted: ../1_download_data/jacquemus\\2021-08-16_08-49-15_UTC\\2021-08-16_08-49-15_UTC.mp4\n",
      "Deleted: ../1_download_data/jacquemus\\2021-08-24_15-02-33_UTC\\2021-08-24_15-02-33_UTC_7.mp4\n",
      "Deleted: ../1_download_data/jacquemus\\2021-08-29_15-35-03_UTC\\2021-08-29_15-35-03_UTC_2.mp4\n",
      "Deleted: ../1_download_data/jacquemus\\2021-08-29_15-35-03_UTC\\2021-08-29_15-35-03_UTC_5.mp4\n",
      "Deleted: ../1_download_data/jacquemus\\2021-08-29_15-35-03_UTC\\2021-08-29_15-35-03_UTC_7.mp4\n",
      "Deleted: ../1_download_data/jacquemus\\2021-08-29_15-35-03_UTC\\2021-08-29_15-35-03_UTC_9.mp4\n",
      "Deleted: ../1_download_data/jacquemus\\2021-09-09_16-15-01_UTC\\2021-09-09_16-15-01_UTC.mp4\n",
      "Deleted: ../1_download_data/jacquemus\\2021-09-13_10-32-30_UTC\\2021-09-13_10-32-30_UTC_1.mp4\n",
      "Deleted: ../1_download_data/jacquemus\\2021-09-13_10-32-30_UTC\\2021-09-13_10-32-30_UTC_3.mp4\n",
      "Deleted: ../1_download_data/jacquemus\\2021-09-13_10-32-30_UTC\\2021-09-13_10-32-30_UTC_4.mp4\n",
      "Deleted: ../1_download_data/jacquemus\\2021-09-13_10-32-30_UTC\\2021-09-13_10-32-30_UTC_5.mp4\n",
      "Deleted: ../1_download_data/jacquemus\\2021-09-20_14-18-54_UTC\\2021-09-20_14-18-54_UTC.mp4\n",
      "Deleted: ../1_download_data/jacquemus\\2021-11-02_17-41-26_UTC\\2021-11-02_17-41-26_UTC.mp4\n",
      "Deleted: ../1_download_data/jacquemus\\2021-12-02_16-48-47_UTC\\2021-12-02_16-48-47_UTC_3.mp4\n",
      "Deleted: ../1_download_data/jacquemus\\2021-12-02_16-48-47_UTC\\2021-12-02_16-48-47_UTC_5.mp4\n",
      "Deleted: ../1_download_data/jacquemus\\2021-12-02_16-48-47_UTC\\2021-12-02_16-48-47_UTC_6.mp4\n",
      "Deleted: ../1_download_data/jacquemus\\2021-12-02_16-48-47_UTC\\2021-12-02_16-48-47_UTC_9.mp4\n",
      "Deleted: ../1_download_data/jacquemus\\2021-12-23_16-19-09_UTC\\2021-12-23_16-19-09_UTC_3.mp4\n",
      "Deleted: ../1_download_data/jacquemus\\2021-12-23_16-19-09_UTC\\2021-12-23_16-19-09_UTC_7.mp4\n",
      "Deleted: ../1_download_data/jacquemus\\2021-12-31_15-22-41_UTC\\2021-12-31_15-22-41_UTC_3.mp4\n",
      "Deleted: ../1_download_data/jacquemus\\2021-12-31_15-22-41_UTC\\2021-12-31_15-22-41_UTC_9.mp4\n",
      "Deleted: ../1_download_data/jacquemus\\2022-01-01_11-49-54_UTC\\2022-01-01_11-49-54_UTC.mp4\n",
      "Deleted: ../1_download_data/jacquemus\\2022-01-02_12-27-04_UTC\\2022-01-02_12-27-04_UTC_9.mp4\n",
      "Deleted: ../1_download_data/jacquemus\\2022-01-05_17-02-31_UTC\\2022-01-05_17-02-31_UTC_10.mp4\n",
      "Deleted: ../1_download_data/jacquemus\\2022-01-05_17-02-31_UTC\\2022-01-05_17-02-31_UTC_7.mp4\n",
      "Deleted: ../1_download_data/jacquemus\\2022-01-26_21-16-58_UTC\\2022-01-26_21-16-58_UTC.mp4\n",
      "Deleted: ../1_download_data/jacquemus\\2022-02-10_17-05-50_UTC\\2022-02-10_17-05-50_UTC.mp4\n",
      "Deleted: ../1_download_data/jacquemus\\2022-02-15_16-39-38_UTC\\2022-02-15_16-39-38_UTC_4.mp4\n",
      "Deleted: ../1_download_data/jacquemus\\2022-02-15_16-39-38_UTC\\2022-02-15_16-39-38_UTC_5.mp4\n",
      "Deleted: ../1_download_data/jacquemus\\2022-02-15_16-39-38_UTC\\2022-02-15_16-39-38_UTC_7.mp4\n",
      "Deleted: ../1_download_data/jacquemus\\2022-02-24_17-14-53_UTC\\2022-02-24_17-14-53_UTC_7.mp4\n",
      "Deleted: ../1_download_data/jacquemus\\2022-02-24_17-14-53_UTC\\2022-02-24_17-14-53_UTC_8.mp4\n",
      "Deleted: ../1_download_data/jacquemus\\2022-02-24_17-14-53_UTC\\2022-02-24_17-14-53_UTC_9.mp4\n",
      "Deleted: ../1_download_data/jacquemus\\2022-03-07_17-09-45_UTC\\2022-03-07_17-09-45_UTC.mp4\n",
      "Deleted: ../1_download_data/jacquemus\\2022-03-09_21-00-15_UTC\\2022-03-09_21-00-15_UTC_5.mp4\n",
      "Deleted: ../1_download_data/jacquemus\\2022-03-10_12-37-39_UTC\\2022-03-10_12-37-39_UTC.mp4\n",
      "Deleted: ../1_download_data/jacquemus\\2022-03-10_18-03-10_UTC\\2022-03-10_18-03-10_UTC.mp4\n",
      "Deleted: ../1_download_data/jacquemus\\2022-03-12_18-57-27_UTC\\2022-03-12_18-57-27_UTC.mp4\n",
      "Deleted: ../1_download_data/jacquemus\\2022-03-15_15-58-20_UTC\\2022-03-15_15-58-20_UTC.mp4\n",
      "Deleted: ../1_download_data/jacquemus\\2022-04-25_15-54-56_UTC\\2022-04-25_15-54-56_UTC.mp4\n",
      "Deleted: ../1_download_data/jacquemus\\2022-05-16_08-35-59_UTC\\2022-05-16_08-35-59_UTC_5.mp4\n",
      "Deleted: ../1_download_data/jacquemus\\2022-05-16_08-35-59_UTC\\2022-05-16_08-35-59_UTC_7.mp4\n",
      "Deleted: ../1_download_data/jacquemus\\2022-05-16_08-35-59_UTC\\2022-05-16_08-35-59_UTC_9.mp4\n",
      "Deleted: ../1_download_data/jacquemus\\2022-05-16_12-19-23_UTC\\2022-05-16_12-19-23_UTC_2.mp4\n",
      "Deleted: ../1_download_data/jacquemus\\2022-06-05_09-11-49_UTC\\2022-06-05_09-11-49_UTC_2.mp4\n",
      "Deleted: ../1_download_data/jacquemus\\2022-06-05_09-11-49_UTC\\2022-06-05_09-11-49_UTC_3.mp4\n",
      "Deleted: ../1_download_data/jacquemus\\2022-06-05_09-11-49_UTC\\2022-06-05_09-11-49_UTC_6.mp4\n",
      "Deleted: ../1_download_data/jacquemus\\2022-06-05_09-11-49_UTC\\2022-06-05_09-11-49_UTC_7.mp4\n",
      "Deleted: ../1_download_data/jacquemus\\2022-06-05_09-11-49_UTC\\2022-06-05_09-11-49_UTC_8.mp4\n",
      "Deleted: ../1_download_data/jacquemus\\2022-06-26_20-56-46_UTC\\2022-06-26_20-56-46_UTC.mp4\n",
      "Deleted: ../1_download_data/jacquemus\\2022-06-27_16-43-45_UTC\\2022-06-27_16-43-45_UTC.mp4\n",
      "Deleted: ../1_download_data/jacquemus\\2022-06-28_10-26-36_UTC\\2022-06-28_10-26-36_UTC.mp4\n",
      "Deleted: ../1_download_data/jacquemus\\2022-06-28_10-57-18_UTC\\2022-06-28_10-57-18_UTC_10.mp4\n",
      "Deleted: ../1_download_data/jacquemus\\2022-06-28_10-57-18_UTC\\2022-06-28_10-57-18_UTC_8.mp4\n",
      "Deleted: ../1_download_data/jacquemus\\2022-06-28_16-26-25_UTC\\2022-06-28_16-26-25_UTC.mp4\n",
      "Deleted: ../1_download_data/jacquemus\\2022-06-29_08-39-22_UTC\\2022-06-29_08-39-22_UTC.mp4\n",
      "Deleted: ../1_download_data/jacquemus\\2022-07-17_16-45-30_UTC\\2022-07-17_16-45-30_UTC_6.mp4\n",
      "Deleted: ../1_download_data/jacquemus\\2022-07-17_16-45-30_UTC\\2022-07-17_16-45-30_UTC_7.mp4\n",
      "Deleted: ../1_download_data/jacquemus\\2022-07-17_16-45-30_UTC\\2022-07-17_16-45-30_UTC_9.mp4\n",
      "Deleted: ../1_download_data/jacquemus\\2022-07-21_12-21-58_UTC\\2022-07-21_12-21-58_UTC.mp4\n",
      "Deleted: ../1_download_data/jacquemus\\2022-08-11_13-54-50_UTC\\2022-08-11_13-54-50_UTC.mp4\n",
      "Deleted: ../1_download_data/jacquemus\\2022-08-29_17-24-13_UTC\\2022-08-29_17-24-13_UTC_10.mp4\n",
      "Deleted: ../1_download_data/jacquemus\\2022-08-29_17-24-13_UTC\\2022-08-29_17-24-13_UTC_4.mp4\n",
      "Deleted: ../1_download_data/jacquemus\\2022-08-29_17-24-13_UTC\\2022-08-29_17-24-13_UTC_5.mp4\n",
      "Deleted: ../1_download_data/jacquemus\\2022-08-29_17-24-13_UTC\\2022-08-29_17-24-13_UTC_7.mp4\n",
      "Deleted: ../1_download_data/jacquemus\\2022-08-29_17-24-13_UTC\\2022-08-29_17-24-13_UTC_8.mp4\n",
      "Deleted: ../1_download_data/jacquemus\\2022-08-29_17-24-13_UTC\\2022-08-29_17-24-13_UTC_9.mp4\n",
      "Deleted: ../1_download_data/jacquemus\\2022-08-30_16-19-22_UTC\\2022-08-30_16-19-22_UTC_5.mp4\n",
      "Deleted: ../1_download_data/jacquemus\\2022-08-30_16-19-22_UTC\\2022-08-30_16-19-22_UTC_6.mp4\n",
      "Deleted: ../1_download_data/jacquemus\\2022-08-30_16-19-22_UTC\\2022-08-30_16-19-22_UTC_7.mp4\n",
      "Deleted: ../1_download_data/jacquemus\\2022-09-01_16-32-12_UTC\\2022-09-01_16-32-12_UTC_4.mp4\n",
      "Deleted: ../1_download_data/jacquemus\\2022-09-18_14-48-48_UTC\\2022-09-18_14-48-48_UTC.mp4\n",
      "Deleted: ../1_download_data/jacquemus\\2022-09-22_16-10-05_UTC\\2022-09-22_16-10-05_UTC_1.mp4\n",
      "Deleted: ../1_download_data/jacquemus\\2022-09-22_16-10-05_UTC\\2022-09-22_16-10-05_UTC_10.mp4\n",
      "Deleted: ../1_download_data/jacquemus\\2022-09-22_16-10-05_UTC\\2022-09-22_16-10-05_UTC_2.mp4\n",
      "Deleted: ../1_download_data/jacquemus\\2022-09-22_16-10-05_UTC\\2022-09-22_16-10-05_UTC_4.mp4\n",
      "Deleted: ../1_download_data/jacquemus\\2022-09-22_16-10-05_UTC\\2022-09-22_16-10-05_UTC_6.mp4\n",
      "Deleted: ../1_download_data/jacquemus\\2022-09-25_10-49-04_UTC\\2022-09-25_10-49-04_UTC.mp4\n",
      "Deleted: ../1_download_data/jacquemus\\2022-09-26_15-51-46_UTC\\2022-09-26_15-51-46_UTC_10.mp4\n",
      "Deleted: ../1_download_data/jacquemus\\2022-11-06_11-00-49_UTC\\2022-11-06_11-00-49_UTC.mp4\n",
      "Deleted: ../1_download_data/jacquemus\\2022-11-11_17-55-54_UTC\\2022-11-11_17-55-54_UTC.mp4\n",
      "Deleted: ../1_download_data/jacquemus\\2022-11-16_19-24-49_UTC\\2022-11-16_19-24-49_UTC.mp4\n",
      "Deleted: ../1_download_data/jacquemus\\2022-11-28_16-55-08_UTC\\2022-11-28_16-55-08_UTC.mp4\n",
      "Deleted: ../1_download_data/jacquemus\\2022-11-30_16-58-45_UTC\\2022-11-30_16-58-45_UTC_5.mp4\n",
      "Deleted: ../1_download_data/jacquemus\\2022-11-30_20-49-07_UTC\\2022-11-30_20-49-07_UTC.mp4\n",
      "Deleted: ../1_download_data/jacquemus\\2022-12-03_10-44-02_UTC\\2022-12-03_10-44-02_UTC.mp4\n",
      "Deleted: ../1_download_data/jacquemus\\2022-12-04_17-55-40_UTC\\2022-12-04_17-55-40_UTC.mp4\n",
      "Deleted: ../1_download_data/jacquemus\\2022-12-05_10-55-29_UTC\\2022-12-05_10-55-29_UTC.mp4\n",
      "Deleted: ../1_download_data/jacquemus\\2022-12-06_11-31-09_UTC\\2022-12-06_11-31-09_UTC.mp4\n",
      "Deleted: ../1_download_data/jacquemus\\2022-12-07_14-20-40_UTC\\2022-12-07_14-20-40_UTC.mp4\n",
      "Deleted: ../1_download_data/jacquemus\\2022-12-09_18-30-43_UTC\\2022-12-09_18-30-43_UTC.mp4\n",
      "Deleted: ../1_download_data/jacquemus\\2022-12-12_16-10-45_UTC\\2022-12-12_16-10-45_UTC.mp4\n",
      "Deleted: ../1_download_data/jacquemus\\2022-12-12_18-43-14_UTC\\2022-12-12_18-43-14_UTC.mp4\n",
      "Deleted: ../1_download_data/jacquemus\\2022-12-13_10-59-04_UTC\\2022-12-13_10-59-04_UTC.mp4\n",
      "Deleted: ../1_download_data/jacquemus\\2022-12-13_16-23-47_UTC\\2022-12-13_16-23-47_UTC.mp4\n",
      "Deleted: ../1_download_data/jacquemus\\2022-12-19_18-27-42_UTC\\2022-12-19_18-27-42_UTC.mp4\n",
      "Deleted: ../1_download_data/jacquemus\\2022-12-25_17-50-51_UTC\\2022-12-25_17-50-51_UTC.mp4\n",
      "Deleted: ../1_download_data/jacquemus\\2023-01-09_18-11-44_UTC\\2023-01-09_18-11-44_UTC_3.mp4\n",
      "Deleted: ../1_download_data/jacquemus\\2023-01-09_18-11-44_UTC\\2023-01-09_18-11-44_UTC_4.mp4\n",
      "Deleted: ../1_download_data/jacquemus\\2023-01-09_18-11-44_UTC\\2023-01-09_18-11-44_UTC_6.mp4\n",
      "Deleted: ../1_download_data/jacquemus\\2023-01-09_18-11-44_UTC\\2023-01-09_18-11-44_UTC_7.mp4\n",
      "Deleted: ../1_download_data/jacquemus\\2023-01-09_18-11-44_UTC\\2023-01-09_18-11-44_UTC_8.mp4\n",
      "Deleted: ../1_download_data/jacquemus\\2023-01-09_18-11-44_UTC\\2023-01-09_18-11-44_UTC_9.mp4\n",
      "Deleted: ../1_download_data/jacquemus\\2023-01-10_18-23-04_UTC\\2023-01-10_18-23-04_UTC.mp4\n",
      "Deleted: ../1_download_data/jacquemus\\2023-01-16_12-35-36_UTC\\2023-01-16_12-35-36_UTC_10.mp4\n",
      "Deleted: ../1_download_data/jacquemus\\2023-01-16_12-35-36_UTC\\2023-01-16_12-35-36_UTC_3.mp4\n",
      "Deleted: ../1_download_data/jacquemus\\2023-01-16_12-35-36_UTC\\2023-01-16_12-35-36_UTC_4.mp4\n",
      "Deleted: ../1_download_data/jacquemus\\2023-01-16_12-35-36_UTC\\2023-01-16_12-35-36_UTC_7.mp4\n",
      "Deleted: ../1_download_data/jacquemus\\2023-01-16_12-35-36_UTC\\2023-01-16_12-35-36_UTC_9.mp4\n",
      "Deleted: ../1_download_data/jacquemus\\2023-01-24_16-29-25_UTC\\2023-01-24_16-29-25_UTC.mp4\n",
      "Deleted: ../1_download_data/jacquemus\\2023-02-14_13-16-51_UTC\\2023-02-14_13-16-51_UTC.mp4\n",
      "Deleted: ../1_download_data/jacquemus\\2023-02-14_17-14-03_UTC\\2023-02-14_17-14-03_UTC.mp4\n",
      "Deleted: ../1_download_data/jacquemus\\2023-02-19_10-25-03_UTC\\2023-02-19_10-25-03_UTC_1.mp4\n",
      "Deleted: ../1_download_data/jacquemus\\2023-02-19_10-25-03_UTC\\2023-02-19_10-25-03_UTC_7.mp4\n",
      "Deleted: ../1_download_data/jacquemus\\2023-02-26_16-46-18_UTC\\2023-02-26_16-46-18_UTC.mp4\n",
      "Deleted: ../1_download_data/jacquemus\\2023-02-28_17-18-36_UTC\\2023-02-28_17-18-36_UTC_2.mp4\n",
      "Deleted: ../1_download_data/jacquemus\\2023-02-28_17-18-36_UTC\\2023-02-28_17-18-36_UTC_3.mp4\n",
      "Deleted: ../1_download_data/jacquemus\\2023-02-28_17-18-36_UTC\\2023-02-28_17-18-36_UTC_4.mp4\n",
      "Deleted: ../1_download_data/jacquemus\\2023-02-28_17-18-36_UTC\\2023-02-28_17-18-36_UTC_6.mp4\n",
      "Deleted: ../1_download_data/jacquemus\\2023-02-28_17-18-36_UTC\\2023-02-28_17-18-36_UTC_8.mp4\n",
      "Deleted: ../1_download_data/jacquemus\\2023-02-28_17-18-36_UTC\\2023-02-28_17-18-36_UTC_9.mp4\n",
      "Deleted: ../1_download_data/jacquemus\\2023-03-01_17-50-23_UTC\\2023-03-01_17-50-23_UTC.mp4\n",
      "Deleted: ../1_download_data/jacquemus\\2023-03-02_15-56-29_UTC\\2023-03-02_15-56-29_UTC.mp4\n",
      "Deleted: ../1_download_data/jacquemus\\2023-03-06_17-18-02_UTC\\2023-03-06_17-18-02_UTC.mp4\n",
      "Deleted: ../1_download_data/jacquemus\\2023-03-09_16-50-35_UTC\\2023-03-09_16-50-35_UTC.mp4\n",
      "Deleted: ../1_download_data/jacquemus\\2023-03-20_17-42-03_UTC\\2023-03-20_17-42-03_UTC.mp4\n",
      "Deleted: ../1_download_data/jacquemus\\2023-03-28_16-27-21_UTC\\2023-03-28_16-27-21_UTC.mp4\n",
      "Deleted: ../1_download_data/jacquemus\\2023-04-05_13-56-22_UTC\\2023-04-05_13-56-22_UTC.mp4\n",
      "Deleted: ../1_download_data/jacquemus\\2023-04-18_15-59-39_UTC\\2023-04-18_15-59-39_UTC.mp4\n",
      "Deleted: ../1_download_data/jacquemus\\2023-04-25_14-55-33_UTC\\2023-04-25_14-55-33_UTC.mp4\n",
      "Deleted: ../1_download_data/jacquemus\\2023-04-26_15-05-21_UTC\\2023-04-26_15-05-21_UTC.mp4\n",
      "Deleted: ../1_download_data/jacquemus\\2023-04-27_18-46-12_UTC\\2023-04-27_18-46-12_UTC_9.mp4\n",
      "Deleted: ../1_download_data/jacquemus\\2023-05-01_23-17-49_UTC\\2023-05-01_23-17-49_UTC.mp4\n",
      "Deleted: ../1_download_data/jacquemus\\2023-05-02_06-03-15_UTC\\2023-05-02_06-03-15_UTC_6.mp4\n",
      "Deleted: ../1_download_data/jacquemus\\2023-05-02_06-03-15_UTC\\2023-05-02_06-03-15_UTC_7.mp4\n",
      "Deleted: ../1_download_data/jacquemus\\2023-05-02_06-03-15_UTC\\2023-05-02_06-03-15_UTC_8.mp4\n",
      "Deleted: ../1_download_data/jacquemus\\2023-05-02_14-52-22_UTC\\2023-05-02_14-52-22_UTC.mp4\n",
      "Deleted: ../1_download_data/jacquemus\\2023-05-03_16-56-13_UTC\\2023-05-03_16-56-13_UTC.mp4\n",
      "Deleted: ../1_download_data/jacquemus\\2023-05-04_13-27-06_UTC\\2023-05-04_13-27-06_UTC.mp4\n",
      "Deleted: ../1_download_data/jacquemus\\2023-05-09_08-59-42_UTC\\2023-05-09_08-59-42_UTC.mp4\n",
      "Deleted: ../1_download_data/jacquemus\\2023-05-09_16-44-26_UTC\\2023-05-09_16-44-26_UTC_3.mp4\n",
      "Deleted: ../1_download_data/jacquemus\\2023-05-09_16-44-26_UTC\\2023-05-09_16-44-26_UTC_4.mp4\n",
      "Deleted: ../1_download_data/jacquemus\\2023-05-09_16-44-26_UTC\\2023-05-09_16-44-26_UTC_5.mp4\n",
      "Deleted: ../1_download_data/jacquemus\\2023-05-09_16-44-26_UTC\\2023-05-09_16-44-26_UTC_6.mp4\n",
      "Deleted: ../1_download_data/jacquemus\\2023-05-10_16-03-57_UTC\\2023-05-10_16-03-57_UTC.mp4\n",
      "Deleted: ../1_download_data/jacquemus\\2023-05-11_14-16-04_UTC\\2023-05-11_14-16-04_UTC_1.mp4\n",
      "Deleted: ../1_download_data/jacquemus\\2023-05-11_14-16-04_UTC\\2023-05-11_14-16-04_UTC_3.mp4\n",
      "Deleted: ../1_download_data/jacquemus\\2023-05-11_14-16-04_UTC\\2023-05-11_14-16-04_UTC_4.mp4\n",
      "Deleted: ../1_download_data/jacquemus\\2023-05-11_14-16-04_UTC\\2023-05-11_14-16-04_UTC_5.mp4\n",
      "Deleted: ../1_download_data/jacquemus\\2023-05-11_14-16-04_UTC\\2023-05-11_14-16-04_UTC_6.mp4\n",
      "Deleted: ../1_download_data/jacquemus\\2023-05-11_14-16-04_UTC\\2023-05-11_14-16-04_UTC_7.mp4\n",
      "Deleted: ../1_download_data/jacquemus\\2023-05-11_14-16-04_UTC\\2023-05-11_14-16-04_UTC_8.mp4\n",
      "Deleted: ../1_download_data/jacquemus\\2023-05-11_14-16-04_UTC\\2023-05-11_14-16-04_UTC_9.mp4\n",
      "Deleted: ../1_download_data/jacquemus\\2023-05-28_16-00-05_UTC\\2023-05-28_16-00-05_UTC.mp4\n",
      "Deleted: ../1_download_data/jacquemus\\2023-06-05_16-01-25_UTC\\2023-06-05_16-01-25_UTC_1.mp4\n",
      "Deleted: ../1_download_data/jacquemus\\2023-06-05_16-01-25_UTC\\2023-06-05_16-01-25_UTC_10.mp4\n",
      "Deleted: ../1_download_data/jacquemus\\2023-06-05_16-01-25_UTC\\2023-06-05_16-01-25_UTC_3.mp4\n",
      "Deleted: ../1_download_data/jacquemus\\2023-06-05_16-01-25_UTC\\2023-06-05_16-01-25_UTC_5.mp4\n",
      "Deleted: ../1_download_data/jacquemus\\2023-06-05_16-01-25_UTC\\2023-06-05_16-01-25_UTC_7.mp4\n",
      "Deleted: ../1_download_data/jacquemus\\2023-06-05_16-01-25_UTC\\2023-06-05_16-01-25_UTC_8.mp4\n",
      "Deleted: ../1_download_data/jacquemus\\2023-06-05_16-01-25_UTC\\2023-06-05_16-01-25_UTC_9.mp4\n",
      "Deleted: ../1_download_data/jacquemus\\2023-06-06_17-00-48_UTC\\2023-06-06_17-00-48_UTC.mp4\n",
      "Deleted: ../1_download_data/jacquemus\\2023-06-11_16-15-58_UTC\\2023-06-11_16-15-58_UTC_1.mp4\n",
      "Deleted: ../1_download_data/jacquemus\\2023-06-11_16-15-58_UTC\\2023-06-11_16-15-58_UTC_10.mp4\n",
      "Deleted: ../1_download_data/jacquemus\\2023-06-11_16-15-58_UTC\\2023-06-11_16-15-58_UTC_4.mp4\n",
      "Deleted: ../1_download_data/jacquemus\\2023-06-11_16-15-58_UTC\\2023-06-11_16-15-58_UTC_8.mp4\n",
      "Deleted: ../1_download_data/jacquemus\\2023-06-11_16-15-58_UTC\\2023-06-11_16-15-58_UTC_9.mp4\n",
      "Deleted: ../1_download_data/jacquemus\\2023-06-12_11-33-24_UTC\\2023-06-12_11-33-24_UTC_7.mp4\n",
      "Deleted: ../1_download_data/jacquemus\\2023-06-14_15-46-48_UTC\\2023-06-14_15-46-48_UTC.mp4\n",
      "Deleted: ../1_download_data/jacquemus\\2023-06-19_15-58-56_UTC\\2023-06-19_15-58-56_UTC_4.mp4\n",
      "Deleted: ../1_download_data/jacquemus\\2023-06-19_15-58-56_UTC\\2023-06-19_15-58-56_UTC_5.mp4\n",
      "Deleted: ../1_download_data/jacquemus\\2023-06-19_15-58-56_UTC\\2023-06-19_15-58-56_UTC_9.mp4\n",
      "Deleted: ../1_download_data/jacquemus\\2023-06-20_15-07-39_UTC\\2023-06-20_15-07-39_UTC.mp4\n",
      "Deleted: ../1_download_data/jacquemus\\2023-06-25_18-45-30_UTC\\2023-06-25_18-45-30_UTC.mp4\n",
      "Deleted: ../1_download_data/jacquemus\\2023-06-26_12-50-14_UTC\\2023-06-26_12-50-14_UTC_2.mp4\n",
      "Deleted: ../1_download_data/jacquemus\\2023-06-26_12-50-14_UTC\\2023-06-26_12-50-14_UTC_4.mp4\n",
      "Deleted: ../1_download_data/jacquemus\\2023-06-26_17-36-07_UTC\\2023-06-26_17-36-07_UTC.mp4\n",
      "Deleted: ../1_download_data/jacquemus\\2023-06-27_15-57-55_UTC\\2023-06-27_15-57-55_UTC_1.mp4\n",
      "Deleted: ../1_download_data/jacquemus\\2023-06-27_15-57-55_UTC\\2023-06-27_15-57-55_UTC_6.mp4\n",
      "Deleted: ../1_download_data/jacquemus\\2023-06-27_15-57-55_UTC\\2023-06-27_15-57-55_UTC_8.mp4\n",
      "Deleted: ../1_download_data/jacquemus\\2023-06-27_19-36-48_UTC\\2023-06-27_19-36-48_UTC.mp4\n",
      "Deleted: ../1_download_data/jacquemus\\2023-06-28_10-22-50_UTC\\2023-06-28_10-22-50_UTC.mp4\n",
      "Deleted: ../1_download_data/jacquemus\\2023-06-28_12-38-51_UTC\\2023-06-28_12-38-51_UTC_1.mp4\n",
      "Deleted: ../1_download_data/jacquemus\\2023-06-28_12-38-51_UTC\\2023-06-28_12-38-51_UTC_10.mp4\n",
      "Deleted: ../1_download_data/jacquemus\\2023-06-28_12-38-51_UTC\\2023-06-28_12-38-51_UTC_2.mp4\n",
      "Deleted: ../1_download_data/jacquemus\\2023-06-28_12-38-51_UTC\\2023-06-28_12-38-51_UTC_3.mp4\n",
      "Deleted: ../1_download_data/jacquemus\\2023-06-28_12-38-51_UTC\\2023-06-28_12-38-51_UTC_4.mp4\n",
      "Deleted: ../1_download_data/jacquemus\\2023-06-28_12-38-51_UTC\\2023-06-28_12-38-51_UTC_5.mp4\n",
      "Deleted: ../1_download_data/jacquemus\\2023-06-28_12-38-51_UTC\\2023-06-28_12-38-51_UTC_6.mp4\n",
      "Deleted: ../1_download_data/jacquemus\\2023-06-28_12-38-51_UTC\\2023-06-28_12-38-51_UTC_7.mp4\n",
      "Deleted: ../1_download_data/jacquemus\\2023-06-28_12-38-51_UTC\\2023-06-28_12-38-51_UTC_8.mp4\n",
      "Deleted: ../1_download_data/jacquemus\\2023-06-28_12-38-51_UTC\\2023-06-28_12-38-51_UTC_9.mp4\n",
      "Deleted: ../1_download_data/jacquemus\\2023-06-29_09-20-54_UTC\\2023-06-29_09-20-54_UTC_1.mp4\n",
      "Deleted: ../1_download_data/jacquemus\\2023-06-29_09-20-54_UTC\\2023-06-29_09-20-54_UTC_10.mp4\n",
      "Deleted: ../1_download_data/jacquemus\\2023-06-29_09-20-54_UTC\\2023-06-29_09-20-54_UTC_2.mp4\n",
      "Deleted: ../1_download_data/jacquemus\\2023-06-29_09-20-54_UTC\\2023-06-29_09-20-54_UTC_3.mp4\n",
      "Deleted: ../1_download_data/jacquemus\\2023-06-29_09-20-54_UTC\\2023-06-29_09-20-54_UTC_4.mp4\n",
      "Deleted: ../1_download_data/jacquemus\\2023-06-29_09-20-54_UTC\\2023-06-29_09-20-54_UTC_5.mp4\n",
      "Deleted: ../1_download_data/jacquemus\\2023-06-29_09-20-54_UTC\\2023-06-29_09-20-54_UTC_6.mp4\n",
      "Deleted: ../1_download_data/jacquemus\\2023-06-29_09-20-54_UTC\\2023-06-29_09-20-54_UTC_7.mp4\n",
      "Deleted: ../1_download_data/jacquemus\\2023-06-29_09-20-54_UTC\\2023-06-29_09-20-54_UTC_8.mp4\n",
      "Deleted: ../1_download_data/jacquemus\\2023-06-29_09-20-54_UTC\\2023-06-29_09-20-54_UTC_9.mp4\n",
      "Deleted: ../1_download_data/jacquemus\\2023-07-05_15-31-33_UTC\\2023-07-05_15-31-33_UTC.mp4\n",
      "Deleted: ../1_download_data/jacquemus\\2023-07-18_15-35-13_UTC\\2023-07-18_15-35-13_UTC_4.mp4\n",
      "Deleted: ../1_download_data/jacquemus\\2023-07-18_15-35-13_UTC\\2023-07-18_15-35-13_UTC_5.mp4\n",
      "Deleted: ../1_download_data/jacquemus\\2023-07-18_15-35-13_UTC\\2023-07-18_15-35-13_UTC_8.mp4\n",
      "Deleted: ../1_download_data/jacquemus\\2023-07-18_15-35-13_UTC\\2023-07-18_15-35-13_UTC_9.mp4\n",
      "Deleted: ../1_download_data/jacquemus\\2023-07-19_15-24-21_UTC\\2023-07-19_15-24-21_UTC.mp4\n",
      "Deleted: ../1_download_data/jacquemus\\2023-07-20_17-19-36_UTC\\2023-07-20_17-19-36_UTC_2.mp4\n",
      "Deleted: ../1_download_data/jacquemus\\2023-07-20_17-19-36_UTC\\2023-07-20_17-19-36_UTC_4.mp4\n",
      "Deleted: ../1_download_data/jacquemus\\2023-07-20_17-19-36_UTC\\2023-07-20_17-19-36_UTC_9.mp4\n",
      "Deleted: ../1_download_data/jacquemus\\2023-07-24_15-50-55_UTC\\2023-07-24_15-50-55_UTC_1.mp4\n",
      "Deleted: ../1_download_data/jacquemus\\2023-07-24_15-50-55_UTC\\2023-07-24_15-50-55_UTC_10.mp4\n",
      "Deleted: ../1_download_data/jacquemus\\2023-07-24_15-50-55_UTC\\2023-07-24_15-50-55_UTC_2.mp4\n",
      "Deleted: ../1_download_data/jacquemus\\2023-07-24_15-50-55_UTC\\2023-07-24_15-50-55_UTC_3.mp4\n",
      "Deleted: ../1_download_data/jacquemus\\2023-07-24_15-50-55_UTC\\2023-07-24_15-50-55_UTC_4.mp4\n",
      "Deleted: ../1_download_data/jacquemus\\2023-07-24_15-50-55_UTC\\2023-07-24_15-50-55_UTC_5.mp4\n",
      "Deleted: ../1_download_data/jacquemus\\2023-07-24_15-50-55_UTC\\2023-07-24_15-50-55_UTC_6.mp4\n",
      "Deleted: ../1_download_data/jacquemus\\2023-07-24_15-50-55_UTC\\2023-07-24_15-50-55_UTC_7.mp4\n",
      "Deleted: ../1_download_data/jacquemus\\2023-07-24_15-50-55_UTC\\2023-07-24_15-50-55_UTC_8.mp4\n",
      "Deleted: ../1_download_data/jacquemus\\2023-07-24_15-50-55_UTC\\2023-07-24_15-50-55_UTC_9.mp4\n",
      "Deleted: ../1_download_data/jacquemus\\2023-07-25_15-45-18_UTC\\2023-07-25_15-45-18_UTC.mp4\n",
      "Deleted: ../1_download_data/jacquemus\\2023-07-31_16-07-20_UTC\\2023-07-31_16-07-20_UTC_1.mp4\n",
      "Deleted: ../1_download_data/jacquemus\\2023-07-31_16-07-20_UTC\\2023-07-31_16-07-20_UTC_10.mp4\n",
      "Deleted: ../1_download_data/jacquemus\\2023-07-31_16-07-20_UTC\\2023-07-31_16-07-20_UTC_2.mp4\n",
      "Deleted: ../1_download_data/jacquemus\\2023-07-31_16-07-20_UTC\\2023-07-31_16-07-20_UTC_3.mp4\n",
      "Deleted: ../1_download_data/jacquemus\\2023-07-31_16-07-20_UTC\\2023-07-31_16-07-20_UTC_4.mp4\n",
      "Deleted: ../1_download_data/jacquemus\\2023-07-31_16-07-20_UTC\\2023-07-31_16-07-20_UTC_5.mp4\n",
      "Deleted: ../1_download_data/jacquemus\\2023-07-31_16-07-20_UTC\\2023-07-31_16-07-20_UTC_6.mp4\n",
      "Deleted: ../1_download_data/jacquemus\\2023-07-31_16-07-20_UTC\\2023-07-31_16-07-20_UTC_7.mp4\n",
      "Deleted: ../1_download_data/jacquemus\\2023-07-31_16-07-20_UTC\\2023-07-31_16-07-20_UTC_8.mp4\n",
      "Deleted: ../1_download_data/jacquemus\\2023-07-31_16-07-20_UTC\\2023-07-31_16-07-20_UTC_9.mp4\n",
      "Deleted: ../1_download_data/jacquemus\\2023-08-01_15-59-36_UTC\\2023-08-01_15-59-36_UTC.mp4\n",
      "Deleted: ../1_download_data/jacquemus\\2023-08-04_18-14-29_UTC\\2023-08-04_18-14-29_UTC_3.mp4\n",
      "Deleted: ../1_download_data/jacquemus\\2023-08-04_18-14-29_UTC\\2023-08-04_18-14-29_UTC_6.mp4\n",
      "Deleted: ../1_download_data/jacquemus\\2023-08-07_17-14-58_UTC\\2023-08-07_17-14-58_UTC_1.mp4\n",
      "Deleted: ../1_download_data/jacquemus\\2023-08-07_17-14-58_UTC\\2023-08-07_17-14-58_UTC_10.mp4\n",
      "Deleted: ../1_download_data/jacquemus\\2023-08-07_17-14-58_UTC\\2023-08-07_17-14-58_UTC_2.mp4\n",
      "Deleted: ../1_download_data/jacquemus\\2023-08-07_17-14-58_UTC\\2023-08-07_17-14-58_UTC_3.mp4\n",
      "Deleted: ../1_download_data/jacquemus\\2023-08-07_17-14-58_UTC\\2023-08-07_17-14-58_UTC_4.mp4\n",
      "Deleted: ../1_download_data/jacquemus\\2023-08-07_17-14-58_UTC\\2023-08-07_17-14-58_UTC_5.mp4\n",
      "Deleted: ../1_download_data/jacquemus\\2023-08-07_17-14-58_UTC\\2023-08-07_17-14-58_UTC_6.mp4\n",
      "Deleted: ../1_download_data/jacquemus\\2023-08-07_17-14-58_UTC\\2023-08-07_17-14-58_UTC_7.mp4\n",
      "Deleted: ../1_download_data/jacquemus\\2023-08-07_17-14-58_UTC\\2023-08-07_17-14-58_UTC_8.mp4\n",
      "Deleted: ../1_download_data/jacquemus\\2023-08-07_17-14-58_UTC\\2023-08-07_17-14-58_UTC_9.mp4\n",
      "Deleted: ../1_download_data/jacquemus\\2023-08-08_15-50-18_UTC\\2023-08-08_15-50-18_UTC.mp4\n",
      "Deleted: ../1_download_data/jacquemus\\2023-08-13_18-06-24_UTC\\2023-08-13_18-06-24_UTC_2.mp4\n",
      "Deleted: ../1_download_data/jacquemus\\2023-08-13_18-06-24_UTC\\2023-08-13_18-06-24_UTC_4.mp4\n",
      "Deleted: ../1_download_data/jacquemus\\2023-08-13_18-06-24_UTC\\2023-08-13_18-06-24_UTC_5.mp4\n",
      "Deleted: ../1_download_data/jacquemus\\2023-08-13_18-06-24_UTC\\2023-08-13_18-06-24_UTC_6.mp4\n",
      "Deleted: ../1_download_data/jacquemus\\2023-08-14_15-54-50_UTC\\2023-08-14_15-54-50_UTC_1.mp4\n",
      "Deleted: ../1_download_data/jacquemus\\2023-08-14_15-54-50_UTC\\2023-08-14_15-54-50_UTC_10.mp4\n",
      "Deleted: ../1_download_data/jacquemus\\2023-08-14_15-54-50_UTC\\2023-08-14_15-54-50_UTC_2.mp4\n",
      "Deleted: ../1_download_data/jacquemus\\2023-08-14_15-54-50_UTC\\2023-08-14_15-54-50_UTC_3.mp4\n",
      "Deleted: ../1_download_data/jacquemus\\2023-08-14_15-54-50_UTC\\2023-08-14_15-54-50_UTC_4.mp4\n",
      "Deleted: ../1_download_data/jacquemus\\2023-08-14_15-54-50_UTC\\2023-08-14_15-54-50_UTC_5.mp4\n",
      "Deleted: ../1_download_data/jacquemus\\2023-08-14_15-54-50_UTC\\2023-08-14_15-54-50_UTC_6.mp4\n",
      "Deleted: ../1_download_data/jacquemus\\2023-08-14_15-54-50_UTC\\2023-08-14_15-54-50_UTC_7.mp4\n",
      "Deleted: ../1_download_data/jacquemus\\2023-08-14_15-54-50_UTC\\2023-08-14_15-54-50_UTC_8.mp4\n",
      "Deleted: ../1_download_data/jacquemus\\2023-08-14_15-54-50_UTC\\2023-08-14_15-54-50_UTC_9.mp4\n",
      "Deleted: ../1_download_data/jacquemus\\2023-08-20_17-03-26_UTC\\2023-08-20_17-03-26_UTC.mp4\n",
      "Deleted: ../1_download_data/jacquemus\\2023-08-23_11-31-52_UTC\\2023-08-23_11-31-52_UTC_2.mp4\n",
      "Deleted: ../1_download_data/jacquemus\\2023-08-23_11-31-52_UTC\\2023-08-23_11-31-52_UTC_3.mp4\n",
      "Deleted: ../1_download_data/jacquemus\\2023-08-23_11-31-52_UTC\\2023-08-23_11-31-52_UTC_7.mp4\n",
      "Deleted: ../1_download_data/jacquemus\\2023-08-23_11-31-52_UTC\\2023-08-23_11-31-52_UTC_9.mp4\n",
      "Deleted: ../1_download_data/jacquemus\\2023-08-29_15-48-37_UTC\\2023-08-29_15-48-37_UTC.mp4\n",
      "Deleted: ../1_download_data/jacquemus\\2023-09-04_15-09-16_UTC\\2023-09-04_15-09-16_UTC.mp4\n",
      "Deleted: ../1_download_data/jacquemus\\2023-09-06_16-37-03_UTC\\2023-09-06_16-37-03_UTC_1.mp4\n",
      "Deleted: ../1_download_data/jacquemus\\2023-09-06_16-37-03_UTC\\2023-09-06_16-37-03_UTC_10.mp4\n",
      "Deleted: ../1_download_data/jacquemus\\2023-09-06_16-37-03_UTC\\2023-09-06_16-37-03_UTC_2.mp4\n",
      "Deleted: ../1_download_data/jacquemus\\2023-09-06_16-37-03_UTC\\2023-09-06_16-37-03_UTC_3.mp4\n",
      "Deleted: ../1_download_data/jacquemus\\2023-09-06_16-37-03_UTC\\2023-09-06_16-37-03_UTC_4.mp4\n",
      "Deleted: ../1_download_data/jacquemus\\2023-09-06_16-37-03_UTC\\2023-09-06_16-37-03_UTC_5.mp4\n",
      "Deleted: ../1_download_data/jacquemus\\2023-09-06_16-37-03_UTC\\2023-09-06_16-37-03_UTC_6.mp4\n",
      "Deleted: ../1_download_data/jacquemus\\2023-09-06_16-37-03_UTC\\2023-09-06_16-37-03_UTC_7.mp4\n",
      "Deleted: ../1_download_data/jacquemus\\2023-09-06_16-37-03_UTC\\2023-09-06_16-37-03_UTC_8.mp4\n",
      "Deleted: ../1_download_data/jacquemus\\2023-09-06_16-37-03_UTC\\2023-09-06_16-37-03_UTC_9.mp4\n",
      "Deleted: ../1_download_data/jacquemus\\2023-09-07_16-03-57_UTC\\2023-09-07_16-03-57_UTC_6.mp4\n",
      "Deleted: ../1_download_data/jacquemus\\2023-09-12_15-55-22_UTC\\2023-09-12_15-55-22_UTC.mp4\n",
      "Deleted: ../1_download_data/jacquemus\\2023-10-02_16-18-19_UTC\\2023-10-02_16-18-19_UTC.mp4\n",
      "Deleted: ../1_download_data/jacquemus\\2023-10-05_16-35-02_UTC\\2023-10-05_16-35-02_UTC_2.mp4\n",
      "Deleted: ../1_download_data/jacquemus\\2023-10-05_16-35-02_UTC\\2023-10-05_16-35-02_UTC_3.mp4\n",
      "Deleted: ../1_download_data/jacquemus\\2023-10-05_16-35-02_UTC\\2023-10-05_16-35-02_UTC_4.mp4\n",
      "Deleted: ../1_download_data/jacquemus\\2023-10-05_16-35-02_UTC\\2023-10-05_16-35-02_UTC_5.mp4\n",
      "Deleted: ../1_download_data/jacquemus\\2023-10-05_16-35-02_UTC\\2023-10-05_16-35-02_UTC_6.mp4\n",
      "Deleted: ../1_download_data/jacquemus\\2023-10-05_16-35-02_UTC\\2023-10-05_16-35-02_UTC_7.mp4\n",
      "Deleted: ../1_download_data/jacquemus\\2023-10-09_15-58-27_UTC\\2023-10-09_15-58-27_UTC_2.mp4\n",
      "Deleted: ../1_download_data/jacquemus\\2023-10-20_15-04-22_UTC\\2023-10-20_15-04-22_UTC_3.mp4\n",
      "Deleted: ../1_download_data/jacquemus\\2023-10-20_15-04-22_UTC\\2023-10-20_15-04-22_UTC_4.mp4\n",
      "Deleted: ../1_download_data/jacquemus\\2023-10-20_15-04-22_UTC\\2023-10-20_15-04-22_UTC_5.mp4\n",
      "Deleted: ../1_download_data/jacquemus\\2023-10-20_15-04-22_UTC\\2023-10-20_15-04-22_UTC_6.mp4\n",
      "Deleted: ../1_download_data/jacquemus\\2023-10-20_15-04-22_UTC\\2023-10-20_15-04-22_UTC_7.mp4\n",
      "Deleted: ../1_download_data/jacquemus\\2023-10-20_15-04-22_UTC\\2023-10-20_15-04-22_UTC_8.mp4\n",
      "Deleted: ../1_download_data/jacquemus\\2023-10-20_15-04-22_UTC\\2023-10-20_15-04-22_UTC_9.mp4\n",
      "Deleted: ../1_download_data/jacquemus\\2023-10-27_09-41-44_UTC\\2023-10-27_09-41-44_UTC.mp4\n",
      "Deleted: ../1_download_data/jacquemus\\2023-11-06_17-00-06_UTC\\2023-11-06_17-00-06_UTC_1.mp4\n",
      "Deleted: ../1_download_data/jacquemus\\2023-11-07_12-55-51_UTC\\2023-11-07_12-55-51_UTC.mp4\n",
      "Deleted: ../1_download_data/jacquemus\\2023-11-13_17-03-52_UTC\\2023-11-13_17-03-52_UTC.mp4\n",
      "Deleted: ../1_download_data/jacquemus\\2023-11-20_17-49-15_UTC\\2023-11-20_17-49-15_UTC.mp4\n",
      "Deleted: ../1_download_data/jacquemus\\2023-11-22_17-55-45_UTC\\2023-11-22_17-55-45_UTC.mp4\n",
      "Deleted: ../1_download_data/jacquemus\\2023-11-23_12-42-06_UTC\\2023-11-23_12-42-06_UTC_9.mp4\n",
      "Deleted: ../1_download_data/jacquemus\\2023-11-27_17-00-22_UTC\\2023-11-27_17-00-22_UTC.mp4\n",
      "Deleted: ../1_download_data/jacquemus\\2023-11-28_18-02-45_UTC\\2023-11-28_18-02-45_UTC_1.mp4\n",
      "Deleted: ../1_download_data/jacquemus\\2023-12-05_18-37-46_UTC\\2023-12-05_18-37-46_UTC.mp4\n",
      "Deleted: ../1_download_data/jacquemus\\2023-12-08_09-00-32_UTC\\2023-12-08_09-00-32_UTC.mp4\n",
      "Deleted: ../1_download_data/jacquemus\\2023-12-09_16-49-32_UTC\\2023-12-09_16-49-32_UTC.mp4\n",
      "Deleted: ../1_download_data/jacquemus\\2023-12-10_18-55-52_UTC\\2023-12-10_18-55-52_UTC_2.mp4\n",
      "Deleted: ../1_download_data/jacquemus\\2023-12-10_18-55-52_UTC\\2023-12-10_18-55-52_UTC_3.mp4\n",
      "Deleted: ../1_download_data/jacquemus\\2023-12-10_18-55-52_UTC\\2023-12-10_18-55-52_UTC_5.mp4\n",
      "Deleted: ../1_download_data/jacquemus\\2023-12-10_18-55-52_UTC\\2023-12-10_18-55-52_UTC_6.mp4\n",
      "Deleted: ../1_download_data/jacquemus\\2023-12-10_18-55-52_UTC\\2023-12-10_18-55-52_UTC_8.mp4\n",
      "Deleted: ../1_download_data/jacquemus\\2023-12-10_18-55-52_UTC\\2023-12-10_18-55-52_UTC_9.mp4\n",
      "Deleted: ../1_download_data/jacquemus\\2023-12-11_08-19-00_UTC\\2023-12-11_08-19-00_UTC.mp4\n",
      "Deleted: ../1_download_data/jacquemus\\2023-12-13_10-49-11_UTC\\2023-12-13_10-49-11_UTC.mp4\n",
      "Deleted: ../1_download_data/jacquemus\\2023-12-25_18-27-03_UTC\\2023-12-25_18-27-03_UTC.mp4\n",
      "Deleted: ../1_download_data/jacquemus\\2023-12-31_11-45-31_UTC\\2023-12-31_11-45-31_UTC_1.mp4\n",
      "Deleted: ../1_download_data/jacquemus\\2023-12-31_11-45-31_UTC\\2023-12-31_11-45-31_UTC_10.mp4\n",
      "Deleted: ../1_download_data/jacquemus\\2023-12-31_11-45-31_UTC\\2023-12-31_11-45-31_UTC_2.mp4\n",
      "Deleted: ../1_download_data/jacquemus\\2023-12-31_11-45-31_UTC\\2023-12-31_11-45-31_UTC_3.mp4\n",
      "Deleted: ../1_download_data/jacquemus\\2023-12-31_11-45-31_UTC\\2023-12-31_11-45-31_UTC_4.mp4\n",
      "Deleted: ../1_download_data/jacquemus\\2023-12-31_11-45-31_UTC\\2023-12-31_11-45-31_UTC_5.mp4\n",
      "Deleted: ../1_download_data/jacquemus\\2023-12-31_11-45-31_UTC\\2023-12-31_11-45-31_UTC_6.mp4\n",
      "Deleted: ../1_download_data/jacquemus\\2023-12-31_11-45-31_UTC\\2023-12-31_11-45-31_UTC_7.mp4\n",
      "Deleted: ../1_download_data/jacquemus\\2023-12-31_11-45-31_UTC\\2023-12-31_11-45-31_UTC_8.mp4\n",
      "Deleted: ../1_download_data/jacquemus\\2023-12-31_11-45-31_UTC\\2023-12-31_11-45-31_UTC_9.mp4\n",
      "Deleted: ../1_download_data/jacquemus\\2024-01-02_14-27-41_UTC\\2024-01-02_14-27-41_UTC.mp4\n"
     ]
    }
   ],
   "source": [
    "def delete_files(file_list):\n",
    "    for file_path in file_list:\n",
    "        try:\n",
    "            os.remove(file_path)\n",
    "            print(f\"Deleted: {file_path}\")\n",
    "        except OSError as e:\n",
    "            print(f\"Error: {e.strerror}, while deleting file: {file_path}\")\n",
    "\n",
    "# Example usage\n",
    "files_to_delete = mp4_files\n",
    "delete_files(files_to_delete)"
   ]
  },
  {
   "cell_type": "markdown",
   "id": "b319a1f3-f2e9-4fbd-93d9-6531d2da1582",
>>>>>>> ebf267c4643fa440d8689e15803aa30a89ff8b91
   "metadata": {},
   "source": [
    "Status:\n",
    "* HM OK\n",
    "* Jacquemus OK\n",
    "* Shein\n",
    "* Chanel"
   ]
  }
 ],
 "metadata": {
  "kernelspec": {
   "display_name": "Python 3",
   "language": "python",
   "name": "python3"
  },
  "language_info": {
   "codemirror_mode": {
    "name": "ipython",
    "version": 3
   },
   "file_extension": ".py",
   "mimetype": "text/x-python",
   "name": "python",
   "nbconvert_exporter": "python",
   "pygments_lexer": "ipython3",
   "version": "3.8.3"
  }
 },
 "nbformat": 4,
 "nbformat_minor": 5
}
