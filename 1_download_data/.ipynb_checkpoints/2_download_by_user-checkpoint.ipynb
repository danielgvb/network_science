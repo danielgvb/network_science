{
 "cells": [
  {
   "cell_type": "markdown",
   "metadata": {},
   "source": [
    "# Instadownloader"
   ]
  },
  {
   "cell_type": "code",
   "execution_count": 1,
   "metadata": {},
   "outputs": [],
   "source": [
    "users = ['hm', 'jacquemus', 'sheinofficial', 'chanelofficial']"
   ]
  },
  {
   "cell_type": "code",
   "execution_count": 2,
   "metadata": {},
   "outputs": [
    {
     "name": "stderr",
     "output_type": "stream",
     "text": [
      "C:\\Users\\rdm42\\anaconda3\\lib\\site-packages\\win_unicode_console\\__init__.py:31: RuntimeWarning: sys.stdin.encoding == 'cp1252', whereas sys.stdout.encoding == 'UTF-8', readline hook consumer may assume they are the same\n",
      "  readline_hook.enable(use_pyreadline=use_pyreadline)\n",
      "Downloading posts:   0%|                                                                       | 0/200 [00:00<?, ?it/s]"
     ]
    },
    {
     "name": "stdout",
     "output_type": "stream",
     "text": [
      "chanelofficial\\2024-01-12_13-56-05_UTC.jpg [Some encounters you wear fore…] json \n"
     ]
    },
    {
     "name": "stderr",
     "output_type": "stream",
     "text": [
      "Downloading posts:   0%|▎                                                              | 1/200 [00:05<18:47,  5.66s/it]"
     ]
    },
    {
     "name": "stdout",
     "output_type": "stream",
     "text": [
      "chanelofficial\\2024-01-12_09-59-35_UTC.jpg [Some encounters you wear fore…] chanelofficial\\2024-01-12_09-59-35_UTC.mp4 json \n"
     ]
    },
    {
     "name": "stderr",
     "output_type": "stream",
     "text": [
      "Downloading posts:   1%|▋                                                              | 2/200 [00:11<19:17,  5.85s/it]"
     ]
    },
    {
     "name": "stdout",
     "output_type": "stream",
     "text": [
      "chanelofficial\\2024-01-12_08-00-55_UTC.jpg [Some encounters you wear fore…] json \n"
     ]
    },
    {
     "name": "stderr",
     "output_type": "stream",
     "text": [
      "Downloading posts:   2%|▉                                                              | 3/200 [00:17<19:08,  5.83s/it]"
     ]
    },
    {
     "name": "stdout",
     "output_type": "stream",
     "text": [
      "chanelofficial\\2024-01-11_18-00-49_UTC.jpg [Some encounters you wear fore…] json \n"
     ]
    },
    {
     "name": "stderr",
     "output_type": "stream",
     "text": [
      "Downloading posts:   2%|█▎                                                             | 4/200 [00:23<18:44,  5.74s/it]"
     ]
    },
    {
     "name": "stdout",
     "output_type": "stream",
     "text": [
      "chanelofficial\\2024-01-11_13-52-47_UTC.jpg [Some encounters you wear fore…] json \n"
     ]
    },
    {
     "name": "stderr",
     "output_type": "stream",
     "text": [
      "Downloading posts:   2%|█▌                                                             | 5/200 [00:28<18:29,  5.69s/it]"
     ]
    },
    {
     "name": "stdout",
     "output_type": "stream",
     "text": [
      "chanelofficial\\2024-01-11_10-01-28_UTC.jpg [Some encounters you wear fore…] json \n"
     ]
    },
    {
     "name": "stderr",
     "output_type": "stream",
     "text": [
      "Downloading posts:   3%|█▉                                                             | 6/200 [00:34<18:21,  5.68s/it]"
     ]
    },
    {
     "name": "stdout",
     "output_type": "stream",
     "text": [
      "chanelofficial\\2024-01-10_20-01-21_UTC.jpg [Some encounters you wear fore…] json \n"
     ]
    },
    {
     "name": "stderr",
     "output_type": "stream",
     "text": [
      "Downloading posts:   4%|██▏                                                            | 7/200 [00:40<18:12,  5.66s/it]"
     ]
    },
    {
     "name": "stdout",
     "output_type": "stream",
     "text": [
      "chanelofficial\\2024-01-10_17-50-40_UTC.jpg [Some encounters you wear fore…] json \n"
     ]
    },
    {
     "name": "stderr",
     "output_type": "stream",
     "text": [
      "Downloading posts:   4%|██▌                                                            | 8/200 [00:45<17:58,  5.62s/it]"
     ]
    },
    {
     "name": "stdout",
     "output_type": "stream",
     "text": [
      "chanelofficial\\2024-01-10_16-03-25_UTC.jpg [Some encounters you wear fore…] json \n"
     ]
    },
    {
     "name": "stderr",
     "output_type": "stream",
     "text": [
      "Downloading posts:   4%|██▊                                                            | 9/200 [00:51<17:48,  5.60s/it]"
     ]
    },
    {
     "name": "stdout",
     "output_type": "stream",
     "text": [
      "chanelofficial\\2024-01-10_13-59-20_UTC.jpg [Some encounters you wear fore…] json \n"
     ]
    },
    {
     "name": "stderr",
     "output_type": "stream",
     "text": [
      "Downloading posts:   5%|███                                                           | 10/200 [00:56<17:45,  5.61s/it]"
     ]
    },
    {
     "name": "stdout",
     "output_type": "stream",
     "text": [
      "chanelofficial\\2024-01-10_09-54-58_UTC.jpg [Some encounters you wear fore…] json \n"
     ]
    },
    {
     "name": "stderr",
     "output_type": "stream",
     "text": [
      "Downloading posts:   6%|███▍                                                          | 11/200 [01:02<17:34,  5.58s/it]"
     ]
    },
    {
     "name": "stdout",
     "output_type": "stream",
     "text": [
      "chanelofficial\\2024-01-10_07-54-35_UTC.jpg [Some encounters you wear fore…] json \n"
     ]
    },
    {
     "name": "stderr",
     "output_type": "stream",
     "text": [
      "Downloading posts:   6%|███▋                                                          | 12/200 [01:07<17:31,  5.59s/it]"
     ]
    },
    {
     "name": "stdout",
     "output_type": "stream",
     "text": [
      "chanelofficial\\2024-01-09_17-52-47_UTC.jpg [Some encounters you wear fore…] chanelofficial\\2024-01-09_17-52-47_UTC.mp4 json \n"
     ]
    },
    {
     "name": "stderr",
     "output_type": "stream",
     "text": [
      "Downloading posts:   6%|████                                                          | 13/200 [01:16<20:15,  6.50s/it]"
     ]
    },
    {
     "name": "stdout",
     "output_type": "stream",
     "text": [
      "chanelofficial\\2024-01-09_13-56-23_UTC.jpg [Some encounters you wear fore…] chanelofficial\\2024-01-09_13-56-23_UTC.mp4 json \n"
     ]
    },
    {
     "name": "stderr",
     "output_type": "stream",
     "text": [
      "Downloading posts:   7%|████▎                                                         | 14/200 [01:27<24:23,  7.87s/it]"
     ]
    },
    {
     "name": "stdout",
     "output_type": "stream",
     "text": [
      "chanelofficial\\2024-01-09_10-01-37_UTC.jpg [It’s so good.   English music…] chanelofficial\\2024-01-09_10-01-37_UTC.mp4 json \n"
     ]
    },
    {
     "name": "stderr",
     "output_type": "stream",
     "text": [
      "Downloading posts:   8%|████▋                                                         | 15/200 [01:36<24:52,  8.07s/it]"
     ]
    },
    {
     "name": "stdout",
     "output_type": "stream",
     "text": [
      "chanelofficial\\2024-01-08_17-12-17_UTC.jpg [By a stroke of CHANCE Let the…] chanelofficial\\2024-01-08_17-12-17_UTC.mp4 json \n"
     ]
    },
    {
     "name": "stderr",
     "output_type": "stream",
     "text": [
      "Downloading posts:   8%|████▉                                                         | 16/200 [01:43<23:41,  7.73s/it]"
     ]
    },
    {
     "name": "stdout",
     "output_type": "stream",
     "text": [
      "chanelofficial\\2024-01-08_14-00-38_UTC.jpg [Floral-sparkling notes New. C…] json \n"
     ]
    },
    {
     "name": "stderr",
     "output_type": "stream",
     "text": [
      "Downloading posts:   8%|█████▎                                                        | 17/200 [01:48<21:32,  7.06s/it]"
     ]
    },
    {
     "name": "stdout",
     "output_type": "stream",
     "text": [
      "chanelofficial\\2024-01-08_10-47-05_UTC.jpg [Zuza’s audition tape Meet @zu…] chanelofficial\\2024-01-08_10-47-05_UTC.mp4 json \n"
     ]
    },
    {
     "name": "stderr",
     "output_type": "stream",
     "text": [
      "Downloading posts:   9%|█████▌                                                        | 18/200 [01:56<21:46,  7.18s/it]"
     ]
    },
    {
     "name": "stdout",
     "output_type": "stream",
     "text": [
      "chanelofficial\\2024-01-07_16-09-34_UTC_1.jpg chanelofficial\\2024-01-07_16-09-34_UTC_2.jpg [LES BEIGES HEALTHY WINTER GLO…] json \n"
     ]
    },
    {
     "name": "stderr",
     "output_type": "stream",
     "text": [
      "Downloading posts:  10%|█████▉                                                        | 19/200 [02:02<20:58,  6.95s/it]"
     ]
    },
    {
     "name": "stdout",
     "output_type": "stream",
     "text": [
      "chanelofficial\\2024-01-07_13-01-46_UTC.jpg [LES BEIGES WINTER GLOW Subtly…] json \n"
     ]
    },
    {
     "name": "stderr",
     "output_type": "stream",
     "text": [
      "Downloading posts:  10%|██████▏                                                       | 20/200 [02:08<19:38,  6.55s/it]"
     ]
    },
    {
     "name": "stdout",
     "output_type": "stream",
     "text": [
      "chanelofficial\\2024-01-07_10-02-21_UTC_1.jpg chanelofficial\\2024-01-07_10-02-21_UTC_2.jpg [YOUR BEAUTY IS ELEVATED TO NE…] json \n"
     ]
    },
    {
     "name": "stderr",
     "output_type": "stream",
     "text": [
      "Downloading posts:  10%|██████▌                                                       | 21/200 [02:14<19:20,  6.48s/it]"
     ]
    },
    {
     "name": "stdout",
     "output_type": "stream",
     "text": [
      "chanelofficial\\2024-01-06_16-06-26_UTC.jpg [YOUR BEAUTY IS ELEVATED TO NE…] json \n"
     ]
    },
    {
     "name": "stderr",
     "output_type": "stream",
     "text": [
      "Downloading posts:  11%|██████▊                                                       | 22/200 [02:19<18:23,  6.20s/it]"
     ]
    },
    {
     "name": "stdout",
     "output_type": "stream",
     "text": [
      "chanelofficial\\2024-01-06_13-18-02_UTC.jpg [EXPLORE RADIANCE FROM EVERY A…] json \n"
     ]
    },
    {
     "name": "stderr",
     "output_type": "stream",
     "text": [
      "Downloading posts:  12%|███████▏                                                      | 23/200 [02:25<17:45,  6.02s/it]"
     ]
    },
    {
     "name": "stdout",
     "output_type": "stream",
     "text": [
      "chanelofficial\\2024-01-06_10-05-22_UTC.jpg [LES BEIGES WINTER GLOW Inspir…] chanelofficial\\2024-01-06_10-05-22_UTC.mp4 json \n"
     ]
    },
    {
     "name": "stderr",
     "output_type": "stream",
     "text": [
      "Downloading posts:  12%|███████▍                                                      | 24/200 [02:32<18:09,  6.19s/it]"
     ]
    },
    {
     "name": "stdout",
     "output_type": "stream",
     "text": [
      "chanelofficial\\2024-01-05_17-32-12_UTC_1.jpg chanelofficial\\2024-01-05_17-32-12_UTC_2.jpg [The N°1 DE CHANEL exfoliating…] json \n"
     ]
    },
    {
     "name": "stderr",
     "output_type": "stream",
     "text": [
      "Downloading posts:  12%|███████▊                                                      | 25/200 [02:38<17:51,  6.13s/it]"
     ]
    },
    {
     "name": "stdout",
     "output_type": "stream",
     "text": [
      "chanelofficial\\2024-01-05_16-17-56_UTC.jpg [The extraordinary red camelli…] chanelofficial\\2024-01-05_16-17-56_UTC.mp4 json \n"
     ]
    },
    {
     "name": "stderr",
     "output_type": "stream",
     "text": [
      "Downloading posts:  13%|████████                                                      | 26/200 [02:49<22:00,  7.59s/it]"
     ]
    },
    {
     "name": "stdout",
     "output_type": "stream",
     "text": [
      "chanelofficial\\2024-01-05_15-37-15_UTC_1.jpg chanelofficial\\2024-01-05_15-37-15_UTC_2.jpg chanelofficial\\2024-01-05_15-37-15_UTC_3.jpg [An extraordinarily powerful f…] json \n"
     ]
    },
    {
     "name": "stderr",
     "output_type": "stream",
     "text": [
      "Downloading posts:  14%|████████▎                                                     | 27/200 [02:55<20:37,  7.15s/it]"
     ]
    },
    {
     "name": "stdout",
     "output_type": "stream",
     "text": [
      "chanelofficial\\2024-01-04_16-17-37_UTC_1.jpg chanelofficial\\2024-01-04_16-17-37_UTC_2.jpg chanelofficial\\2024-01-04_16-17-37_UTC_3.jpg [Boost your skin's vitality.  …] json \n"
     ]
    },
    {
     "name": "stderr",
     "output_type": "stream",
     "text": [
      "Downloading posts:  14%|████████▋                                                     | 28/200 [03:01<19:44,  6.89s/it]"
     ]
    },
    {
     "name": "stdout",
     "output_type": "stream",
     "text": [
      "chanelofficial\\2024-01-04_13-02-10_UTC.jpg [The N°1 DE CHANEL serum. A re…] json \n"
     ]
    },
    {
     "name": "stderr",
     "output_type": "stream",
     "text": [
      "Downloading posts:  14%|████████▉                                                     | 29/200 [03:07<18:27,  6.48s/it]"
     ]
    },
    {
     "name": "stdout",
     "output_type": "stream",
     "text": [
      "chanelofficial\\2024-01-04_09-24-52_UTC.jpg [The N°1 DE CHANEL line. Beaut…] chanelofficial\\2024-01-04_09-24-52_UTC.mp4 json \n"
     ]
    },
    {
     "name": "stderr",
     "output_type": "stream",
     "text": [
      "Downloading posts:  15%|█████████▎                                                    | 30/200 [03:15<20:24,  7.21s/it]"
     ]
    },
    {
     "name": "stdout",
     "output_type": "stream",
     "text": [
      "chanelofficial\\2024-01-03_17-09-50_UTC.jpg [When CHANCE favors you Let th…] chanelofficial\\2024-01-03_17-09-50_UTC.mp4 json \n"
     ]
    },
    {
     "name": "stderr",
     "output_type": "stream",
     "text": [
      "Downloading posts:  16%|█████████▌                                                    | 31/200 [03:23<20:11,  7.17s/it]"
     ]
    },
    {
     "name": "stdout",
     "output_type": "stream",
     "text": [
      "chanelofficial\\2024-01-03_14-16-45_UTC.jpg [A fragrance with floral-fruit…] json \n"
     ]
    },
    {
     "name": "stderr",
     "output_type": "stream",
     "text": [
      "Downloading posts:  16%|█████████▉                                                    | 32/200 [03:28<18:40,  6.67s/it]"
     ]
    },
    {
     "name": "stdout",
     "output_type": "stream",
     "text": [
      "chanelofficial\\2024-01-03_08-16-47_UTC.jpg [Amiah’s audition tape Meet @a…] chanelofficial\\2024-01-03_08-16-47_UTC.mp4 json \n"
     ]
    },
    {
     "name": "stderr",
     "output_type": "stream",
     "text": [
      "Downloading posts:  16%|██████████▏                                                   | 33/200 [03:36<20:00,  7.19s/it]"
     ]
    },
    {
     "name": "stdout",
     "output_type": "stream",
     "text": [
      "chanelofficial\\2024-01-02_19-42-30_UTC_1.jpg chanelofficial\\2024-01-02_19-42-30_UTC_2.jpg chanelofficial\\2024-01-02_19-42-30_UTC_3.jpg chanelofficial\\2024-01-02_19-42-30_UTC_4.jpg [It’s your turn to play CHANCE…] json \n"
     ]
    },
    {
     "name": "stderr",
     "output_type": "stream",
     "text": [
      "Downloading posts:  17%|██████████▌                                                   | 34/200 [03:43<19:37,  7.10s/it]"
     ]
    },
    {
     "name": "stdout",
     "output_type": "stream",
     "text": [
      "chanelofficial\\2024-01-02_16-07-13_UTC.jpg [4 scents, 4 ways to take your…] json \n"
     ]
    },
    {
     "name": "stderr",
     "output_type": "stream",
     "text": [
      "Downloading posts:  18%|██████████▊                                                   | 35/200 [03:49<18:17,  6.65s/it]"
     ]
    },
    {
     "name": "stdout",
     "output_type": "stream",
     "text": [
      "chanelofficial\\2024-01-02_13-22-49_UTC.jpg [The new CHANCE campaign Disco…] chanelofficial\\2024-01-02_13-22-49_UTC.mp4 json \n"
     ]
    },
    {
     "name": "stderr",
     "output_type": "stream",
     "text": [
      "Downloading posts:  18%|███████████▏                                                  | 36/200 [03:58<20:07,  7.36s/it]"
     ]
    },
    {
     "name": "stdout",
     "output_type": "stream",
     "text": [
      "chanelofficial\\2023-12-29_18-02-56_UTC_1.jpg chanelofficial\\2023-12-29_18-02-56_UTC_2.jpg [TWEED de CHANEL.  The CHANEL …] json \n"
     ]
    },
    {
     "name": "stderr",
     "output_type": "stream",
     "text": [
      "Downloading posts:  18%|███████████▍                                                  | 37/200 [04:04<18:54,  6.96s/it]"
     ]
    },
    {
     "name": "stdout",
     "output_type": "stream",
     "text": [
      "chanelofficial\\2023-12-29_13-19-15_UTC_1.jpg chanelofficial\\2023-12-29_13-19-15_UTC_2.jpg chanelofficial\\2023-12-29_13-19-15_UTC_3.jpg [TWEED de CHANEL. The TWEED CA…] json \n"
     ]
    },
    {
     "name": "stderr",
     "output_type": "stream",
     "text": [
      "Downloading posts:  19%|███████████▊                                                  | 38/200 [04:11<18:38,  6.91s/it]"
     ]
    },
    {
     "name": "stdout",
     "output_type": "stream",
     "text": [
      "chanelofficial\\2023-12-29_10-02-16_UTC_1.jpg chanelofficial\\2023-12-29_10-02-16_UTC_2.jpg [TWEED de CHANEL.  Patrice Leg…] json \n"
     ]
    },
    {
     "name": "stderr",
     "output_type": "stream",
     "text": [
      "Downloading posts:  20%|████████████                                                  | 39/200 [04:17<18:14,  6.80s/it]"
     ]
    },
    {
     "name": "stdout",
     "output_type": "stream",
     "text": [
      "chanelofficial\\2023-12-23_15-19-51_UTC.jpg [The CHANEL gift finder. Find …] chanelofficial\\2023-12-23_15-19-51_UTC.mp4 json \n"
     ]
    },
    {
     "name": "stderr",
     "output_type": "stream",
     "text": [
      "Downloading posts:  20%|████████████▍                                                 | 40/200 [04:25<19:00,  7.13s/it]"
     ]
    },
    {
     "name": "stdout",
     "output_type": "stream",
     "text": [
      "chanelofficial\\2023-12-22_15-45-56_UTC_1.jpg chanelofficial\\2023-12-22_15-45-56_UTC_2.jpg [Give wonder, give CHANEL. Thi…] json \n"
     ]
    },
    {
     "name": "stderr",
     "output_type": "stream",
     "text": [
      "Downloading posts:  20%|████████████▋                                                 | 41/200 [04:32<18:15,  6.89s/it]"
     ]
    },
    {
     "name": "stdout",
     "output_type": "stream",
     "text": [
      "chanelofficial\\2023-12-21_13-46-32_UTC.jpg [Give wonder, give CHANEL. Thi…] chanelofficial\\2023-12-21_13-46-32_UTC.mp4 json \n"
     ]
    },
    {
     "name": "stderr",
     "output_type": "stream",
     "text": [
      "Downloading posts:  21%|█████████████                                                 | 42/200 [04:38<18:07,  6.88s/it]"
     ]
    },
    {
     "name": "stdout",
     "output_type": "stream",
     "text": [
      "chanelofficial\\2023-12-18_17-55-46_UTC_1.jpg chanelofficial\\2023-12-18_17-55-46_UTC_2.jpg [Find your dream gift.  This h…] json \n"
     ]
    },
    {
     "name": "stderr",
     "output_type": "stream",
     "text": [
      "Downloading posts:  22%|█████████████▎                                                | 43/200 [04:44<17:16,  6.60s/it]"
     ]
    },
    {
     "name": "stdout",
     "output_type": "stream",
     "text": [
      "chanelofficial\\2023-12-18_14-10-57_UTC_1.jpg chanelofficial\\2023-12-18_14-10-57_UTC_2.jpg [Give Wonder, Give CHANEL.  Th…] json \n"
     ]
    },
    {
     "name": "stderr",
     "output_type": "stream",
     "text": [
      "Downloading posts:  22%|█████████████▋                                                | 44/200 [04:50<16:37,  6.39s/it]"
     ]
    },
    {
     "name": "stdout",
     "output_type": "stream",
     "text": [
      "chanelofficial\\2023-12-18_10-09-44_UTC_1.jpg chanelofficial\\2023-12-18_10-09-44_UTC_2.jpg [Find your dream gift.  This h…] json \n"
     ]
    },
    {
     "name": "stderr",
     "output_type": "stream",
     "text": [
      "Downloading posts:  22%|█████████████▉                                                | 45/200 [04:56<16:19,  6.32s/it]"
     ]
    },
    {
     "name": "stdout",
     "output_type": "stream",
     "text": [
      "chanelofficial\\2023-12-17_18-03-51_UTC.jpg [Find your dream gift.  COCO C…] chanelofficial\\2023-12-17_18-03-51_UTC.mp4 json \n"
     ]
    },
    {
     "name": "stderr",
     "output_type": "stream",
     "text": [
      "Downloading posts:  23%|██████████████▎                                               | 46/200 [05:03<16:33,  6.45s/it]"
     ]
    },
    {
     "name": "stdout",
     "output_type": "stream",
     "text": [
      "chanelofficial\\2023-12-17_14-04-17_UTC_1.jpg chanelofficial\\2023-12-17_14-04-17_UTC_2.jpg [Give Wonder, Give CHANEL.  Th…] json \n"
     ]
    },
    {
     "name": "stderr",
     "output_type": "stream",
     "text": [
      "Downloading posts:  24%|██████████████▌                                               | 47/200 [05:09<16:12,  6.36s/it]"
     ]
    },
    {
     "name": "stdout",
     "output_type": "stream",
     "text": [
      "chanelofficial\\2023-12-17_10-01-11_UTC_1.jpg chanelofficial\\2023-12-17_10-01-11_UTC_2.jpg [Find your dream gift.  This h…] json \n"
     ]
    },
    {
     "name": "stderr",
     "output_type": "stream",
     "text": [
      "Downloading posts:  24%|██████████████▉                                               | 48/200 [05:15<15:53,  6.27s/it]"
     ]
    },
    {
     "name": "stdout",
     "output_type": "stream",
     "text": [
      "chanelofficial\\2023-12-16_17-58-38_UTC_1.jpg chanelofficial\\2023-12-16_17-58-38_UTC_2.jpg [Find your dream gift.  This h…] json \n"
     ]
    },
    {
     "name": "stderr",
     "output_type": "stream",
     "text": [
      "Downloading posts:  24%|███████████████▏                                              | 49/200 [05:21<15:30,  6.16s/it]"
     ]
    },
    {
     "name": "stdout",
     "output_type": "stream",
     "text": [
      "chanelofficial\\2023-12-16_13-59-24_UTC.jpg [Give Wonder, Give CHANEL.  Th…] json \n"
     ]
    },
    {
     "name": "stderr",
     "output_type": "stream",
     "text": [
      "Downloading posts:  25%|███████████████▌                                              | 50/200 [05:27<14:54,  5.96s/it]"
     ]
    },
    {
     "name": "stdout",
     "output_type": "stream",
     "text": [
      "chanelofficial\\2023-12-16_09-59-04_UTC.jpg [Find your dream gift.  COCO C…] chanelofficial\\2023-12-16_09-59-04_UTC.mp4 json \n"
     ]
    },
    {
     "name": "stderr",
     "output_type": "stream",
     "text": [
      "Downloading posts:  26%|███████████████▊                                              | 51/200 [05:34<15:38,  6.30s/it]"
     ]
    },
    {
     "name": "stdout",
     "output_type": "stream",
     "text": [
      "chanelofficial\\2023-12-14_15-24-40_UTC.jpg [Give wonder, give CHANEL. Thi…] json \n"
     ]
    },
    {
     "name": "stderr",
     "output_type": "stream",
     "text": [
      "Downloading posts:  26%|████████████████                                              | 52/200 [05:39<14:54,  6.05s/it]"
     ]
    },
    {
     "name": "stdout",
     "output_type": "stream",
     "text": [
      "chanelofficial\\2023-12-13_16-52-08_UTC.jpg [Give wonder, give CHANEL. Thi…] json \n"
     ]
    },
    {
     "name": "stderr",
     "output_type": "stream",
     "text": [
      "Downloading posts:  26%|████████████████▍                                             | 53/200 [05:45<14:28,  5.91s/it]"
     ]
    },
    {
     "name": "stdout",
     "output_type": "stream",
     "text": [
      "chanelofficial\\2023-12-12_15-31-38_UTC.jpg [Give wonder, give CHANEL. Thi…] chanelofficial\\2023-12-12_15-31-38_UTC.mp4 json \n"
     ]
    },
    {
     "name": "stderr",
     "output_type": "stream",
     "text": [
      "Downloading posts:  27%|████████████████▋                                             | 54/200 [05:53<15:38,  6.43s/it]"
     ]
    },
    {
     "name": "stdout",
     "output_type": "stream",
     "text": [
      "chanelofficial\\2023-12-10_19-32-41_UTC.jpg [𝘔𝘢𝘯𝘤𝘩𝘦𝘴𝘵𝘦𝘳𝘮𝘰𝘥𝘦𝘳𝘯: 𝘱𝘢𝘴𝘵 𝘱𝘳𝘦𝘴𝘦𝘯…] chanelofficial\\2023-12-10_19-32-41_UTC.mp4 json \n"
     ]
    },
    {
     "name": "stderr",
     "output_type": "stream",
     "text": [
      "Downloading posts:  28%|█████████████████                                             | 55/200 [06:02<17:34,  7.28s/it]"
     ]
    },
    {
     "name": "stdout",
     "output_type": "stream",
     "text": [
      "chanelofficial\\2023-12-10_18-29-58_UTC.jpg [Closing the CHANEL 2023/24 Mé…] chanelofficial\\2023-12-10_18-29-58_UTC.mp4 json \n"
     ]
    },
    {
     "name": "stderr",
     "output_type": "stream",
     "text": [
      "Downloading posts:  28%|█████████████████▎                                            | 56/200 [06:10<18:26,  7.68s/it]"
     ]
    },
    {
     "name": "stdout",
     "output_type": "stream",
     "text": [
      "chanelofficial\\2023-12-10_17-30-04_UTC.jpg [The creative energy of the no…] chanelofficial\\2023-12-10_17-30-04_UTC.mp4 json \n"
     ]
    },
    {
     "name": "stderr",
     "output_type": "stream",
     "text": [
      "Downloading posts:  28%|█████████████████▋                                            | 57/200 [06:20<19:34,  8.22s/it]"
     ]
    },
    {
     "name": "stdout",
     "output_type": "stream",
     "text": [
      "chanelofficial\\2023-12-10_16-33-51_UTC.jpg [The party – ambassadors and f…] chanelofficial\\2023-12-10_16-33-51_UTC.mp4 json \n"
     ]
    },
    {
     "name": "stderr",
     "output_type": "stream",
     "text": [
      "Downloading posts:  29%|█████████████████▉                                            | 58/200 [06:30<20:53,  8.82s/it]"
     ]
    },
    {
     "name": "stdout",
     "output_type": "stream",
     "text": [
      "chanelofficial\\2023-12-10_13-00-00_UTC.jpg [“For me, Manchester is the ci…] chanelofficial\\2023-12-10_13-00-00_UTC.mp4 json \n"
     ]
    },
    {
     "name": "stderr",
     "output_type": "stream",
     "text": [
      "Downloading posts:  30%|██████████████████▎                                           | 59/200 [06:38<20:21,  8.66s/it]"
     ]
    },
    {
     "name": "stdout",
     "output_type": "stream",
     "text": [
      "chanelofficial\\2023-12-10_11-30-00_UTC.jpg [Strung with jade green pearls…] chanelofficial\\2023-12-10_11-30-00_UTC.mp4 json \n"
     ]
    },
    {
     "name": "stderr",
     "output_type": "stream",
     "text": [
      "Downloading posts:  30%|██████████████████▌                                           | 60/200 [06:46<19:17,  8.27s/it]"
     ]
    },
    {
     "name": "stdout",
     "output_type": "stream",
     "text": [
      "chanelofficial\\2023-12-10_10-00-34_UTC.jpg [Swapping short skirts for cit…] json \n"
     ]
    },
    {
     "name": "stderr",
     "output_type": "stream",
     "text": [
      "Downloading posts:  30%|██████████████████▉                                           | 61/200 [06:51<17:24,  7.51s/it]"
     ]
    },
    {
     "name": "stdout",
     "output_type": "stream",
     "text": [
      "chanelofficial\\2023-12-10_09-00-00_UTC.jpg [Transforming denim with a fem…] chanelofficial\\2023-12-10_09-00-00_UTC.mp4 json \n"
     ]
    },
    {
     "name": "stderr",
     "output_type": "stream",
     "text": [
      "Downloading posts:  31%|███████████████████▏                                          | 62/200 [06:59<17:09,  7.46s/it]"
     ]
    },
    {
     "name": "stdout",
     "output_type": "stream",
     "text": [
      "chanelofficial\\2023-12-10_07-00-11_UTC.jpg [The show part II – ambassador…] chanelofficial\\2023-12-10_07-00-11_UTC.mp4 json \n"
     ]
    },
    {
     "name": "stderr",
     "output_type": "stream",
     "text": [
      "Downloading posts:  32%|███████████████████▌                                          | 63/200 [07:18<25:20, 11.10s/it]"
     ]
    },
    {
     "name": "stdout",
     "output_type": "stream",
     "text": [
      "chanelofficial\\2023-12-09_18-00-04_UTC.jpg [The show part I – ambassadors…] chanelofficial\\2023-12-09_18-00-04_UTC.mp4 json \n"
     ]
    },
    {
     "name": "stderr",
     "output_type": "stream",
     "text": [
      "Downloading posts:  32%|███████████████████▊                                          | 64/200 [07:28<24:26, 10.78s/it]"
     ]
    },
    {
     "name": "stdout",
     "output_type": "stream",
     "text": [
      "chanelofficial\\2023-12-09_17-00-05_UTC.jpg [Reflecting the colours of the…] chanelofficial\\2023-12-09_17-00-05_UTC.mp4 json \n"
     ]
    },
    {
     "name": "stderr",
     "output_type": "stream",
     "text": [
      "Downloading posts:  32%|████████████████████▏                                         | 65/200 [07:36<22:21,  9.94s/it]"
     ]
    },
    {
     "name": "stdout",
     "output_type": "stream",
     "text": [
      "chanelofficial\\2023-12-09_15-00-00_UTC.jpg [In soft shades of delicate gr…] chanelofficial\\2023-12-09_15-00-00_UTC.mp4 json \n"
     ]
    },
    {
     "name": "stderr",
     "output_type": "stream",
     "text": [
      "Downloading posts:  33%|████████████████████▍                                         | 66/200 [07:45<21:30,  9.63s/it]"
     ]
    },
    {
     "name": "stdout",
     "output_type": "stream",
     "text": [
      "chanelofficial\\2023-12-09_13-00-29_UTC.jpg [Envisaging new characters wit…] json \n"
     ]
    },
    {
     "name": "stderr",
     "output_type": "stream",
     "text": [
      "Downloading posts:  34%|████████████████████▊                                         | 67/200 [07:51<18:44,  8.46s/it]"
     ]
    },
    {
     "name": "stdout",
     "output_type": "stream",
     "text": [
      "chanelofficial\\2023-12-09_11-00-00_UTC.jpg [Inspired by Gabrielle Chanel’…] chanelofficial\\2023-12-09_11-00-00_UTC.mp4 json \n"
     ]
    },
    {
     "name": "stderr",
     "output_type": "stream",
     "text": [
      "Downloading posts:  34%|█████████████████████                                         | 68/200 [07:59<18:29,  8.40s/it]"
     ]
    },
    {
     "name": "stdout",
     "output_type": "stream",
     "text": [
      "chanelofficial\\2023-12-09_09-00-33_UTC.jpg [Thinking of the CHANEL tweed …] json \n"
     ]
    },
    {
     "name": "stderr",
     "output_type": "stream",
     "text": [
      "Downloading posts:  34%|█████████████████████▍                                        | 69/200 [08:05<16:28,  7.55s/it]"
     ]
    },
    {
     "name": "stdout",
     "output_type": "stream",
     "text": [
      "chanelofficial\\2023-12-08_21-59-55_UTC.jpg [Bold and boxy, a black and wh…] chanelofficial\\2023-12-08_21-59-55_UTC.mp4 json \n"
     ]
    },
    {
     "name": "stderr",
     "output_type": "stream",
     "text": [
      "Downloading posts:  35%|█████████████████████▋                                        | 70/200 [08:13<16:41,  7.70s/it]"
     ]
    },
    {
     "name": "stdout",
     "output_type": "stream",
     "text": [
      "chanelofficial\\2023-12-08_21-02-37_UTC.jpg [Poetic and delicate elements …] json \n"
     ]
    },
    {
     "name": "stderr",
     "output_type": "stream",
     "text": [
      "Downloading posts:  36%|██████████████████████                                        | 71/200 [08:19<15:14,  7.09s/it]"
     ]
    },
    {
     "name": "stdout",
     "output_type": "stream",
     "text": [
      "chanelofficial\\2023-12-08_20-18-26_UTC.jpg [CHANEL in Manchester – the 20…] chanelofficial\\2023-12-08_20-18-26_UTC.mp4 json \n"
     ]
    },
    {
     "name": "stderr",
     "output_type": "stream",
     "text": [
      "Downloading posts:  36%|██████████████████████▎                                       | 72/200 [08:57<35:13, 16.51s/it]"
     ]
    },
    {
     "name": "stdout",
     "output_type": "stream",
     "text": [
      "chanelofficial\\2023-12-08_18-00-34_UTC.jpg [In autumnal shades, a brick-p…] json \n"
     ]
    },
    {
     "name": "stderr",
     "output_type": "stream",
     "text": [
      "Downloading posts:  36%|██████████████████████▋                                       | 73/200 [09:03<27:58, 13.21s/it]"
     ]
    },
    {
     "name": "stdout",
     "output_type": "stream",
     "text": [
      "chanelofficial\\2023-12-08_16-30-00_UTC.jpg [The preparation – in the Méti…] chanelofficial\\2023-12-08_16-30-00_UTC.mp4 json \n"
     ]
    },
    {
     "name": "stderr",
     "output_type": "stream",
     "text": [
      "Downloading posts:  37%|██████████████████████▉                                       | 74/200 [09:15<27:07, 12.91s/it]"
     ]
    },
    {
     "name": "stdout",
     "output_type": "stream",
     "text": [
      "chanelofficial\\2023-12-08_14-40-16_UTC.jpg [Worn boxy and double-breasted…] json \n"
     ]
    },
    {
     "name": "stderr",
     "output_type": "stream",
     "text": [
      "Downloading posts:  38%|███████████████████████▎                                      | 75/200 [09:21<22:28, 10.78s/it]"
     ]
    },
    {
     "name": "stdout",
     "output_type": "stream",
     "text": [
      "chanelofficial\\2023-12-08_13-30-07_UTC.jpg [Travelling north to Mancheste…] chanelofficial\\2023-12-08_13-30-07_UTC.mp4 json \n"
     ]
    },
    {
     "name": "stderr",
     "output_type": "stream",
     "text": [
      "Downloading posts:  38%|███████████████████████▌                                      | 76/200 [09:29<21:03, 10.19s/it]"
     ]
    },
    {
     "name": "stdout",
     "output_type": "stream",
     "text": [
      "chanelofficial\\2023-12-08_12-30-00_UTC.jpg [For the CHANEL 2023/24 Métier…] chanelofficial\\2023-12-08_12-30-00_UTC.mp4 json \n"
     ]
    },
    {
     "name": "stderr",
     "output_type": "stream",
     "text": [
      "Downloading posts:  38%|███████████████████████▊                                      | 77/200 [09:37<18:59,  9.26s/it]"
     ]
    },
    {
     "name": "stdout",
     "output_type": "stream",
     "text": [
      "chanelofficial\\2023-12-08_11-47-25_UTC.jpg [Gathering diverse expressions…] chanelofficial\\2023-12-08_11-47-25_UTC.mp4 json \n"
     ]
    },
    {
     "name": "stderr",
     "output_type": "stream",
     "text": [
      "Downloading posts:  39%|████████████████████████▏                                     | 78/200 [09:44<17:46,  8.74s/it]"
     ]
    },
    {
     "name": "stdout",
     "output_type": "stream",
     "text": [
      "chanelofficial\\2023-12-08_10-30-03_UTC.jpg [Opening the CHANEL 2023/24 Mé…] chanelofficial\\2023-12-08_10-30-03_UTC.mp4 json \n"
     ]
    },
    {
     "name": "stderr",
     "output_type": "stream",
     "text": [
      "Downloading posts:  40%|████████████████████████▍                                     | 79/200 [09:52<17:24,  8.63s/it]"
     ]
    },
    {
     "name": "stdout",
     "output_type": "stream",
     "text": [
      "chanelofficial\\2023-12-08_09-30-07_UTC.jpg [The finale – the CHANEL 2023/…] chanelofficial\\2023-12-08_09-30-07_UTC.mp4 json \n"
     ]
    },
    {
     "name": "stderr",
     "output_type": "stream",
     "text": [
      "Downloading posts:  40%|████████████████████████▊                                     | 80/200 [10:00<16:44,  8.37s/it]"
     ]
    },
    {
     "name": "stdout",
     "output_type": "stream",
     "text": [
      "chanelofficial\\2023-12-07_21-07-45_UTC.jpg [Welcome to Manchester – Sofia…] chanelofficial\\2023-12-07_21-07-45_UTC.mp4 json \n"
     ]
    },
    {
     "name": "stderr",
     "output_type": "stream",
     "text": [
      "Downloading posts:  40%|█████████████████████████                                     | 81/200 [10:08<16:21,  8.25s/it]"
     ]
    },
    {
     "name": "stdout",
     "output_type": "stream",
     "text": [
      "chanelofficial\\2023-12-07_20-30-14_UTC_1.jpg chanelofficial\\2023-12-07_20-30-14_UTC_2.jpg chanelofficial\\2023-12-07_20-30-14_UTC_3.jpg [Offering a glimpse of the CHA…] json \n"
     ]
    },
    {
     "name": "stderr",
     "output_type": "stream",
     "text": [
      "Downloading posts:  41%|█████████████████████████▍                                    | 82/200 [10:16<15:46,  8.02s/it]"
     ]
    },
    {
     "name": "stdout",
     "output_type": "stream",
     "text": [
      "chanelofficial\\2023-12-07_20-00-17_UTC_1.jpg chanelofficial\\2023-12-07_20-00-17_UTC_2.jpg [Offering a glimpse of the CHA…] json \n"
     ]
    },
    {
     "name": "stderr",
     "output_type": "stream",
     "text": [
      "Downloading posts:  42%|█████████████████████████▋                                    | 83/200 [10:22<14:35,  7.49s/it]"
     ]
    },
    {
     "name": "stdout",
     "output_type": "stream",
     "text": [
      "chanelofficial\\2023-12-07_19-30-05_UTC_1.jpg chanelofficial\\2023-12-07_19-30-05_UTC_2.jpg [Offering a glimpse of the CHA…] json \n"
     ]
    },
    {
     "name": "stderr",
     "output_type": "stream",
     "text": [
      "Downloading posts:  42%|██████████████████████████                                    | 84/200 [10:28<13:45,  7.12s/it]"
     ]
    },
    {
     "name": "stdout",
     "output_type": "stream",
     "text": [
      "chanelofficial\\2023-12-07_19-00-19_UTC_1.jpg chanelofficial\\2023-12-07_19-00-19_UTC_2.jpg chanelofficial\\2023-12-07_19-00-19_UTC_3.jpg chanelofficial\\2023-12-07_19-00-19_UTC_4.jpg [Offering a glimpse of the CHA…] json \n"
     ]
    },
    {
     "name": "stderr",
     "output_type": "stream",
     "text": [
      "Downloading posts:  42%|██████████████████████████▎                                   | 85/200 [10:36<13:48,  7.21s/it]"
     ]
    },
    {
     "name": "stdout",
     "output_type": "stream",
     "text": [
      "chanelofficial\\2023-12-07_18-30-14_UTC_1.jpg chanelofficial\\2023-12-07_18-30-14_UTC_2.jpg chanelofficial\\2023-12-07_18-30-14_UTC_3.jpg [Offering a glimpse of the CHA…] json \n"
     ]
    },
    {
     "name": "stderr",
     "output_type": "stream",
     "text": [
      "Downloading posts:  43%|██████████████████████████▋                                   | 86/200 [10:43<13:37,  7.17s/it]"
     ]
    },
    {
     "name": "stdout",
     "output_type": "stream",
     "text": [
      "chanelofficial\\2023-12-07_18-00-37_UTC_1.jpg chanelofficial\\2023-12-07_18-00-37_UTC_2.jpg chanelofficial\\2023-12-07_18-00-37_UTC_3.jpg [Offering a glimpse of the CHA…] json \n"
     ]
    },
    {
     "name": "stderr",
     "output_type": "stream",
     "text": [
      "Downloading posts:  44%|██████████████████████████▉                                   | 87/200 [10:49<13:15,  7.04s/it]"
     ]
    },
    {
     "name": "stdout",
     "output_type": "stream",
     "text": [
      "chanelofficial\\2023-12-06_17-00-04_UTC.jpg [Creative dialogue is at the h…] chanelofficial\\2023-12-06_17-00-04_UTC.mp4 json \n"
     ]
    },
    {
     "name": "stderr",
     "output_type": "stream",
     "text": [
      "Downloading posts:  44%|███████████████████████████▎                                  | 88/200 [10:55<12:32,  6.71s/it]"
     ]
    },
    {
     "name": "stdout",
     "output_type": "stream",
     "text": [
      "chanelofficial\\2023-12-05_17-02-44_UTC.jpg [Creative dialogue is at the h…] chanelofficial\\2023-12-05_17-02-44_UTC.mp4 json \n"
     ]
    },
    {
     "name": "stderr",
     "output_type": "stream",
     "text": [
      "Downloading posts:  44%|███████████████████████████▌                                  | 89/200 [11:04<13:42,  7.41s/it]"
     ]
    },
    {
     "name": "stdout",
     "output_type": "stream",
     "text": [
      "chanelofficial\\2023-12-05_09-01-01_UTC.jpg [Creative dialogue is at the h…] chanelofficial\\2023-12-05_09-01-01_UTC.mp4 json \n"
     ]
    },
    {
     "name": "stderr",
     "output_type": "stream",
     "text": [
      "Downloading posts:  45%|███████████████████████████▉                                  | 90/200 [11:10<12:51,  7.01s/it]"
     ]
    },
    {
     "name": "stdout",
     "output_type": "stream",
     "text": [
      "chanelofficial\\2023-12-02_09-51-15_UTC.jpg [The art of wrapping. Elevate …] chanelofficial\\2023-12-02_09-51-15_UTC.mp4 json \n"
     ]
    },
    {
     "name": "stderr",
     "output_type": "stream",
     "text": [
      "Downloading posts:  46%|████████████████████████████▏                                 | 91/200 [11:17<12:44,  7.01s/it]"
     ]
    },
    {
     "name": "stdout",
     "output_type": "stream",
     "text": [
      "chanelofficial\\2023-12-01_17-30-28_UTC.jpg [Give wonder, give CHANEL. Thi…] json \n"
     ]
    },
    {
     "name": "stderr",
     "output_type": "stream",
     "text": [
      "Downloading posts:  46%|████████████████████████████▌                                 | 92/200 [11:23<11:47,  6.56s/it]"
     ]
    },
    {
     "name": "stdout",
     "output_type": "stream",
     "text": [
      "chanelofficial\\2023-12-01_11-09-48_UTC.jpg [Give wonder, give CHANEL. Thi…] chanelofficial\\2023-12-01_11-09-48_UTC.mp4 json \n"
     ]
    },
    {
     "name": "stderr",
     "output_type": "stream",
     "text": [
      "Downloading posts:  46%|████████████████████████████▊                                 | 93/200 [11:30<11:45,  6.59s/it]"
     ]
    },
    {
     "name": "stdout",
     "output_type": "stream",
     "text": [
      "chanelofficial\\2023-11-30_19-13-54_UTC_1.jpg chanelofficial\\2023-11-30_19-13-54_UTC_2.jpg chanelofficial\\2023-11-30_19-13-54_UTC_3.jpg chanelofficial\\2023-11-30_19-13-54_UTC_4.jpg chanelofficial\\2023-11-30_19-13-54_UTC_5.jpg [New. LES SYMBOLES DE CHANEL e…] json \n"
     ]
    },
    {
     "name": "stderr",
     "output_type": "stream",
     "text": [
      "Downloading posts:  47%|█████████████████████████████▏                                | 94/200 [11:37<12:05,  6.84s/it]"
     ]
    },
    {
     "name": "stdout",
     "output_type": "stream",
     "text": [
      "chanelofficial\\2023-11-30_17-23-43_UTC.jpg [Your personalized illuminatin…] chanelofficial\\2023-11-30_17-23-43_UTC.mp4 json \n"
     ]
    },
    {
     "name": "stderr",
     "output_type": "stream",
     "text": [
      "Downloading posts:  48%|█████████████████████████████▍                                | 95/200 [11:43<11:29,  6.57s/it]"
     ]
    },
    {
     "name": "stdout",
     "output_type": "stream",
     "text": [
      "chanelofficial\\2023-11-30_15-09-30_UTC.jpg [Which CHANEL symbol represent…] chanelofficial\\2023-11-30_15-09-30_UTC.mp4 json \n"
     ]
    },
    {
     "name": "stderr",
     "output_type": "stream",
     "text": [
      "Downloading posts:  48%|█████████████████████████████▊                                | 96/200 [11:50<11:50,  6.83s/it]"
     ]
    },
    {
     "name": "stdout",
     "output_type": "stream",
     "text": [
      "chanelofficial\\2023-11-29_15-59-45_UTC_1.jpg chanelofficial\\2023-11-29_15-59-45_UTC_1.mp4 chanelofficial\\2023-11-29_15-59-45_UTC_2.jpg [RADIANCE ENHANCER Enriched wi…] json \n"
     ]
    },
    {
     "name": "stderr",
     "output_type": "stream",
     "text": [
      "Downloading posts:  48%|██████████████████████████████                                | 97/200 [11:58<12:00,  7.00s/it]"
     ]
    },
    {
     "name": "stdout",
     "output_type": "stream",
     "text": [
      "chanelofficial\\2023-11-29_13-09-03_UTC.jpg [Limited edition. SUBLIMAGE LE…] chanelofficial\\2023-11-29_13-09-03_UTC.mp4 json \n"
     ]
    },
    {
     "name": "stderr",
     "output_type": "stream",
     "text": [
      "Downloading posts:  49%|██████████████████████████████▍                               | 98/200 [12:04<11:40,  6.86s/it]"
     ]
    },
    {
     "name": "stdout",
     "output_type": "stream",
     "text": [
      "chanelofficial\\2023-11-29_09-46-28_UTC.jpg [The radiance-enhancing duo Th…] chanelofficial\\2023-11-29_09-46-28_UTC.mp4 json \n"
     ]
    },
    {
     "name": "stderr",
     "output_type": "stream",
     "text": [
      "Downloading posts:  50%|██████████████████████████████▋                               | 99/200 [12:11<11:32,  6.86s/it]"
     ]
    },
    {
     "name": "stdout",
     "output_type": "stream",
     "text": [
      "chanelofficial\\2023-11-28_17-56-28_UTC.jpg [Fostering Global Dialogue wit…] chanelofficial\\2023-11-28_17-56-28_UTC.mp4 json \n"
     ]
    },
    {
     "name": "stderr",
     "output_type": "stream",
     "text": [
      "Downloading posts:  50%|██████████████████████████████▌                              | 100/200 [12:19<12:05,  7.26s/it]"
     ]
    },
    {
     "name": "stdout",
     "output_type": "stream",
     "text": [
      "chanelofficial\\2023-11-28_12-26-54_UTC.jpg [Elevating Underrepresented Vo…] chanelofficial\\2023-11-28_12-26-54_UTC.mp4 json \n"
     ]
    },
    {
     "name": "stderr",
     "output_type": "stream",
     "text": [
      "Downloading posts:  50%|██████████████████████████████▊                              | 101/200 [12:28<12:25,  7.53s/it]"
     ]
    },
    {
     "name": "stdout",
     "output_type": "stream",
     "text": [
      "chanelofficial\\2023-11-27_15-42-20_UTC.jpg [Accelerating Ideas, Advancing…] chanelofficial\\2023-11-27_15-42-20_UTC.mp4 json \n"
     ]
    },
    {
     "name": "stderr",
     "output_type": "stream",
     "text": [
      "Downloading posts:  51%|███████████████████████████████                              | 102/200 [12:36<12:34,  7.70s/it]"
     ]
    },
    {
     "name": "stdout",
     "output_type": "stream",
     "text": [
      "chanelofficial\\2023-11-26_18-00-26_UTC.jpg [The N°1 DE CHANEL revitalizin…] chanelofficial\\2023-11-26_18-00-26_UTC.mp4 json \n"
     ]
    },
    {
     "name": "stderr",
     "output_type": "stream",
     "text": [
      "Downloading posts:  52%|███████████████████████████████▍                             | 103/200 [12:43<12:18,  7.61s/it]"
     ]
    },
    {
     "name": "stdout",
     "output_type": "stream",
     "text": [
      "chanelofficial\\2023-11-26_15-35-18_UTC.jpg [The N°1 DE CHANEL revitalizin…] json \n"
     ]
    },
    {
     "name": "stderr",
     "output_type": "stream",
     "text": [
      "Downloading posts:  52%|███████████████████████████████▋                             | 104/200 [12:49<11:11,  6.99s/it]"
     ]
    },
    {
     "name": "stdout",
     "output_type": "stream",
     "text": [
      "chanelofficial\\2023-11-26_12-43-22_UTC.jpg [N°1 DE CHANEL SECRETS. Discov…] chanelofficial\\2023-11-26_12-43-22_UTC.mp4 json \n"
     ]
    },
    {
     "name": "stderr",
     "output_type": "stream",
     "text": [
      "Downloading posts:  52%|████████████████████████████████                             | 105/200 [12:55<10:50,  6.85s/it]"
     ]
    },
    {
     "name": "stdout",
     "output_type": "stream",
     "text": [
      "chanelofficial\\2023-11-25_12-39-48_UTC.jpg [Give wonder, give CHANEL. Thi…] json \n"
     ]
    },
    {
     "name": "stderr",
     "output_type": "stream",
     "text": [
      "Downloading posts:  53%|████████████████████████████████▎                            | 106/200 [13:01<10:06,  6.45s/it]"
     ]
    },
    {
     "name": "stdout",
     "output_type": "stream",
     "text": [
      "chanelofficial\\2023-11-24_18-22-57_UTC.jpg [Give wonder, give CHANEL. Thi…] json \n"
     ]
    },
    {
     "name": "stderr",
     "output_type": "stream",
     "text": [
      "Downloading posts:  54%|████████████████████████████████▋                            | 107/200 [13:06<09:32,  6.16s/it]"
     ]
    },
    {
     "name": "stdout",
     "output_type": "stream",
     "text": [
      "chanelofficial\\2023-11-24_10-09-09_UTC.jpg [Give wonder, give CHANEL. Thi…] chanelofficial\\2023-11-24_10-09-09_UTC.mp4 json \n"
     ]
    },
    {
     "name": "stderr",
     "output_type": "stream",
     "text": [
      "Downloading posts:  54%|████████████████████████████████▉                            | 108/200 [13:13<09:50,  6.41s/it]"
     ]
    },
    {
     "name": "stdout",
     "output_type": "stream",
     "text": [
      "chanelofficial\\2023-11-23_17-56-31_UTC.jpg [High-powered repair. Enriched…] chanelofficial\\2023-11-23_17-56-31_UTC.mp4 json \n"
     ]
    },
    {
     "name": "stderr",
     "output_type": "stream",
     "text": [
      "Downloading posts:  55%|█████████████████████████████████▏                           | 109/200 [13:20<09:47,  6.46s/it]"
     ]
    },
    {
     "name": "stdout",
     "output_type": "stream",
     "text": [
      "chanelofficial\\2023-11-23_15-02-17_UTC_1.jpg chanelofficial\\2023-11-23_15-02-17_UTC_1.mp4 chanelofficial\\2023-11-23_15-02-17_UTC_2.jpg [Discover SUBLIMAGE Les Extrai…] json \n"
     ]
    },
    {
     "name": "stderr",
     "output_type": "stream",
     "text": [
      "Downloading posts:  55%|█████████████████████████████████▌                           | 110/200 [13:26<09:43,  6.49s/it]"
     ]
    },
    {
     "name": "stdout",
     "output_type": "stream",
     "text": [
      "chanelofficial\\2023-11-23_10-13-23_UTC.jpg [High-powered repair. SUBLIMAG…] chanelofficial\\2023-11-23_10-13-23_UTC.mp4 json \n"
     ]
    },
    {
     "name": "stderr",
     "output_type": "stream",
     "text": [
      "Downloading posts:  56%|█████████████████████████████████▊                           | 111/200 [13:34<10:00,  6.75s/it]"
     ]
    },
    {
     "name": "stdout",
     "output_type": "stream",
     "text": [
      "chanelofficial\\2023-11-22_15-15-03_UTC.jpg [New 31 LE ROUGE, Rouge Croisi…] chanelofficial\\2023-11-22_15-15-03_UTC.mp4 json \n"
     ]
    },
    {
     "name": "stderr",
     "output_type": "stream",
     "text": [
      "Downloading posts:  56%|██████████████████████████████████▏                          | 112/200 [13:40<09:51,  6.72s/it]"
     ]
    },
    {
     "name": "stdout",
     "output_type": "stream",
     "text": [
      "chanelofficial\\2023-11-22_13-10-31_UTC_1.jpg chanelofficial\\2023-11-22_13-10-31_UTC_2.jpg chanelofficial\\2023-11-22_13-10-31_UTC_3.jpg chanelofficial\\2023-11-22_13-10-31_UTC_4.jpg [New 31 LE ROUGE.  The House's…] json \n"
     ]
    },
    {
     "name": "stderr",
     "output_type": "stream",
     "text": [
      "Downloading posts:  56%|██████████████████████████████████▍                          | 113/200 [13:52<11:46,  8.12s/it]"
     ]
    },
    {
     "name": "stdout",
     "output_type": "stream",
     "text": [
      "chanelofficial\\2023-11-22_11-01-28_UTC.jpg [New 31 LE ROUGE.  Singular sh…] chanelofficial\\2023-11-22_11-01-28_UTC.mp4 json \n"
     ]
    },
    {
     "name": "stderr",
     "output_type": "stream",
     "text": [
      "Downloading posts:  57%|██████████████████████████████████▊                          | 114/200 [13:59<11:18,  7.89s/it]"
     ]
    },
    {
     "name": "stdout",
     "output_type": "stream",
     "text": [
      "chanelofficial\\2023-11-21_17-56-56_UTC_1.jpg chanelofficial\\2023-11-21_17-56-56_UTC_2.jpg [Find your dream gift.  This h…] json \n"
     ]
    },
    {
     "name": "stderr",
     "output_type": "stream",
     "text": [
      "Downloading posts:  57%|███████████████████████████████████                          | 115/200 [14:06<10:34,  7.46s/it]"
     ]
    },
    {
     "name": "stdout",
     "output_type": "stream",
     "text": [
      "chanelofficial\\2023-11-21_14-04-28_UTC.jpg [Give Wonder, Give CHANEL.  Th…] json \n"
     ]
    },
    {
     "name": "stderr",
     "output_type": "stream",
     "text": [
      "Downloading posts:  58%|███████████████████████████████████▍                         | 116/200 [14:11<09:45,  6.97s/it]"
     ]
    },
    {
     "name": "stdout",
     "output_type": "stream",
     "text": [
      "chanelofficial\\2023-11-21_10-04-05_UTC.jpg [Find your dream gift.  This h…] json \n"
     ]
    },
    {
     "name": "stderr",
     "output_type": "stream",
     "text": [
      "Downloading posts:  58%|███████████████████████████████████▋                         | 117/200 [14:17<09:05,  6.57s/it]"
     ]
    },
    {
     "name": "stdout",
     "output_type": "stream",
     "text": [
      "chanelofficial\\2023-11-20_17-00-22_UTC_1.jpg chanelofficial\\2023-11-20_17-00-22_UTC_2.jpg [A cinematographic silhouette …] json \n"
     ]
    },
    {
     "name": "stderr",
     "output_type": "stream",
     "text": [
      "Downloading posts:  59%|███████████████████████████████████▉                         | 118/200 [14:23<08:51,  6.48s/it]"
     ]
    },
    {
     "name": "stdout",
     "output_type": "stream",
     "text": [
      "chanelofficial\\2023-11-20_13-00-34_UTC_1.jpg chanelofficial\\2023-11-20_13-00-34_UTC_2.jpg [Actress and House ambassador …] json \n"
     ]
    },
    {
     "name": "stderr",
     "output_type": "stream",
     "text": [
      "Downloading posts:  60%|████████████████████████████████████▎                        | 119/200 [14:30<08:48,  6.53s/it]"
     ]
    },
    {
     "name": "stdout",
     "output_type": "stream",
     "text": [
      "chanelofficial\\2023-11-20_09-00-32_UTC_1.jpg chanelofficial\\2023-11-20_09-00-32_UTC_2.jpg [Actress and House ambassador …] json \n"
     ]
    },
    {
     "name": "stderr",
     "output_type": "stream",
     "text": [
      "Downloading posts:  60%|████████████████████████████████████▌                        | 120/200 [14:36<08:38,  6.48s/it]"
     ]
    },
    {
     "name": "stdout",
     "output_type": "stream",
     "text": [
      "chanelofficial\\2023-11-18_17-00-00_UTC.jpg [Actress and House ambassador …] chanelofficial\\2023-11-18_17-00-00_UTC.mp4 json \n"
     ]
    },
    {
     "name": "stderr",
     "output_type": "stream",
     "text": [
      "Downloading posts:  60%|████████████████████████████████████▉                        | 121/200 [14:44<09:04,  6.90s/it]"
     ]
    },
    {
     "name": "stdout",
     "output_type": "stream",
     "text": [
      "chanelofficial\\2023-11-18_13-00-00_UTC.jpg [For this eleventh edition of …] chanelofficial\\2023-11-18_13-00-00_UTC.mp4 json \n"
     ]
    },
    {
     "name": "stderr",
     "output_type": "stream",
     "text": [
      "Downloading posts:  61%|█████████████████████████████████████▏                       | 122/200 [14:52<09:13,  7.10s/it]"
     ]
    },
    {
     "name": "stdout",
     "output_type": "stream",
     "text": [
      "chanelofficial\\2023-11-18_09-00-00_UTC.jpg [The eleventh edition of the R…] chanelofficial\\2023-11-18_09-00-00_UTC.mp4 json \n"
     ]
    },
    {
     "name": "stderr",
     "output_type": "stream",
     "text": [
      "Downloading posts:  62%|█████████████████████████████████████▌                       | 123/200 [15:00<09:34,  7.46s/it]"
     ]
    },
    {
     "name": "stdout",
     "output_type": "stream",
     "text": [
      "chanelofficial\\2023-11-17_17-00-00_UTC.jpg [L.A. spirit— seizing the esse…] chanelofficial\\2023-11-17_17-00-00_UTC.mp4 json \n"
     ]
    },
    {
     "name": "stderr",
     "output_type": "stream",
     "text": [
      "Downloading posts:  62%|█████████████████████████████████████▊                       | 124/200 [15:09<09:55,  7.83s/it]"
     ]
    },
    {
     "name": "stdout",
     "output_type": "stream",
     "text": [
      "chanelofficial\\2023-11-17_13-00-24_UTC.jpg [A kaleidoscope of pastel pink…] json \n"
     ]
    },
    {
     "name": "stderr",
     "output_type": "stream",
     "text": [
      "Downloading posts:  62%|██████████████████████████████████████▏                      | 125/200 [15:14<09:00,  7.21s/it]"
     ]
    },
    {
     "name": "stdout",
     "output_type": "stream",
     "text": [
      "chanelofficial\\2023-11-17_09-00-20_UTC.jpg [The scintillating energy of t…] json \n"
     ]
    },
    {
     "name": "stderr",
     "output_type": "stream",
     "text": [
      "Downloading posts:  63%|██████████████████████████████████████▍                      | 126/200 [15:20<08:18,  6.74s/it]"
     ]
    },
    {
     "name": "stdout",
     "output_type": "stream",
     "text": [
      "chanelofficial\\2023-11-16_17-00-17_UTC.jpg [Model Loli-Bahia embodies the…] json \n"
     ]
    },
    {
     "name": "stderr",
     "output_type": "stream",
     "text": [
      "Downloading posts:  64%|██████████████████████████████████████▋                      | 127/200 [15:26<07:52,  6.47s/it]"
     ]
    },
    {
     "name": "stdout",
     "output_type": "stream",
     "text": [
      "chanelofficial\\2023-11-16_13-00-27_UTC.jpg [Disco fever — from the beach …] json \n"
     ]
    },
    {
     "name": "stderr",
     "output_type": "stream",
     "text": [
      "Downloading posts:  64%|███████████████████████████████████████                      | 128/200 [15:31<07:25,  6.19s/it]"
     ]
    },
    {
     "name": "stdout",
     "output_type": "stream",
     "text": [
      "chanelofficial\\2023-11-16_09-00-15_UTC.jpg [An everlasting sunset — paste…] json \n"
     ]
    },
    {
     "name": "stderr",
     "output_type": "stream",
     "text": [
      "Downloading posts:  64%|███████████████████████████████████████▎                     | 129/200 [15:37<07:11,  6.08s/it]"
     ]
    },
    {
     "name": "stdout",
     "output_type": "stream",
     "text": [
      "chanelofficial\\2023-11-15_17-00-37_UTC.jpg [Subverting the codes — for th…] json \n"
     ]
    },
    {
     "name": "stderr",
     "output_type": "stream",
     "text": [
      "Downloading posts:  65%|███████████████████████████████████████▋                     | 130/200 [15:43<06:58,  5.98s/it]"
     ]
    },
    {
     "name": "stdout",
     "output_type": "stream",
     "text": [
      "chanelofficial\\2023-11-15_13-00-37_UTC.jpg [Californian aesthetics — the …] json \n"
     ]
    },
    {
     "name": "stderr",
     "output_type": "stream",
     "text": [
      "Downloading posts:  66%|███████████████████████████████████████▉                     | 131/200 [15:49<06:46,  5.90s/it]"
     ]
    },
    {
     "name": "stdout",
     "output_type": "stream",
     "text": [
      "chanelofficial\\2023-11-15_09-00-00_UTC.jpg [The CHANEL Cruise 2023/24 col…] chanelofficial\\2023-11-15_09-00-00_UTC.mp4 json \n"
     ]
    },
    {
     "name": "stderr",
     "output_type": "stream",
     "text": [
      "Downloading posts:  66%|████████████████████████████████████████▎                    | 132/200 [15:57<07:35,  6.70s/it]"
     ]
    },
    {
     "name": "stdout",
     "output_type": "stream",
     "text": [
      "chanelofficial\\2023-11-14_23-06-19_UTC.jpg [Spotlight on \"Chiroptera\", a …] chanelofficial\\2023-11-14_23-06-19_UTC.mp4 json \n"
     ]
    },
    {
     "name": "stderr",
     "output_type": "stream",
     "text": [
      "Downloading posts:  66%|████████████████████████████████████████▌                    | 133/200 [16:07<08:24,  7.52s/it]"
     ]
    },
    {
     "name": "stdout",
     "output_type": "stream",
     "text": [
      "chanelofficial\\2023-11-14_09-00-17_UTC_1.jpg chanelofficial\\2023-11-14_09-00-17_UTC_2.jpg chanelofficial\\2023-11-14_09-00-17_UTC_3.jpg chanelofficial\\2023-11-14_09-00-17_UTC_4.jpg chanelofficial\\2023-11-14_09-00-17_UTC_5.jpg chanelofficial\\2023-11-14_09-00-17_UTC_6.jpg chanelofficial\\2023-11-14_09-00-17_UTC_7.jpg chanelofficial\\2023-11-14_09-00-17_UTC_8.jpg [Spotlight on \"Chiroptera\", a …] json \n"
     ]
    },
    {
     "name": "stderr",
     "output_type": "stream",
     "text": [
      "Downloading posts:  67%|████████████████████████████████████████▊                    | 134/200 [16:17<09:17,  8.45s/it]"
     ]
    },
    {
     "name": "stdout",
     "output_type": "stream",
     "text": [
      "chanelofficial\\2023-11-13_20-49-17_UTC.jpg [Behind the scenes of \"Chiropt…] chanelofficial\\2023-11-13_20-49-17_UTC.mp4 json \n"
     ]
    },
    {
     "name": "stderr",
     "output_type": "stream",
     "text": [
      "Downloading posts:  68%|█████████████████████████████████████████▏                   | 135/200 [16:26<09:16,  8.57s/it]"
     ]
    },
    {
     "name": "stdout",
     "output_type": "stream",
     "text": [
      "chanelofficial\\2023-11-12_17-56-53_UTC_1.jpg chanelofficial\\2023-11-12_17-56-53_UTC_2.jpg [Give Wonder, Give CHANEL.  Th…] json \n"
     ]
    },
    {
     "name": "stderr",
     "output_type": "stream",
     "text": [
      "Downloading posts:  68%|█████████████████████████████████████████▍                   | 136/200 [16:32<08:21,  7.84s/it]"
     ]
    },
    {
     "name": "stdout",
     "output_type": "stream",
     "text": [
      "chanelofficial\\2023-11-12_14-06-54_UTC.jpg [Find your dream gift.  COCO C…] chanelofficial\\2023-11-12_14-06-54_UTC.mp4 json \n"
     ]
    },
    {
     "name": "stderr",
     "output_type": "stream",
     "text": [
      "Downloading posts:  68%|█████████████████████████████████████████▊                   | 137/200 [16:39<07:49,  7.45s/it]"
     ]
    },
    {
     "name": "stdout",
     "output_type": "stream",
     "text": [
      "chanelofficial\\2023-11-12_09-51-26_UTC_1.jpg chanelofficial\\2023-11-12_09-51-26_UTC_2.jpg [Give Wonder, Give CHANEL.  Th…] json \n"
     ]
    },
    {
     "name": "stderr",
     "output_type": "stream",
     "text": [
      "Downloading posts:  69%|██████████████████████████████████████████                   | 138/200 [16:45<07:19,  7.09s/it]"
     ]
    },
    {
     "name": "stdout",
     "output_type": "stream",
     "text": [
      "chanelofficial\\2023-11-11_17-54-10_UTC_1.jpg chanelofficial\\2023-11-11_17-54-10_UTC_2.jpg [Find your dream gift.  This h…] json \n"
     ]
    },
    {
     "name": "stderr",
     "output_type": "stream",
     "text": [
      "Downloading posts:  70%|██████████████████████████████████████████▍                  | 139/200 [16:52<07:02,  6.93s/it]"
     ]
    },
    {
     "name": "stdout",
     "output_type": "stream",
     "text": [
      "chanelofficial\\2023-11-11_13-51-38_UTC.jpg [Find your dream gift.  This h…] json \n"
     ]
    },
    {
     "name": "stderr",
     "output_type": "stream",
     "text": [
      "Downloading posts:  70%|██████████████████████████████████████████▋                  | 140/200 [16:57<06:32,  6.54s/it]"
     ]
    },
    {
     "name": "stdout",
     "output_type": "stream",
     "text": [
      "chanelofficial\\2023-11-11_10-04-18_UTC.jpg [Find your dream gift.  COCO C…] chanelofficial\\2023-11-11_10-04-18_UTC.mp4 json \n"
     ]
    },
    {
     "name": "stderr",
     "output_type": "stream",
     "text": [
      "Downloading posts:  70%|███████████████████████████████████████████                  | 141/200 [17:05<06:52,  6.99s/it]"
     ]
    },
    {
     "name": "stdout",
     "output_type": "stream",
     "text": [
      "chanelofficial\\2023-11-10_19-18-09_UTC_1.jpg chanelofficial\\2023-11-10_19-18-09_UTC_2.jpg chanelofficial\\2023-11-10_19-18-09_UTC_3.jpg [Give wonder, give CHANEL. ",
      "Thi…] json \n"
     ]
    },
    {
     "name": "stderr",
     "output_type": "stream",
     "text": [
      "Downloading posts:  71%|███████████████████████████████████████████▎                 | 142/200 [17:12<06:44,  6.97s/it]"
     ]
    },
    {
     "name": "stdout",
     "output_type": "stream",
     "text": [
      "chanelofficial\\2023-11-10_14-51-14_UTC.jpg [Welcome to CHANEL WONDERLAND.…] json \n"
     ]
    },
    {
     "name": "stderr",
     "output_type": "stream",
     "text": [
      "Downloading posts:  72%|███████████████████████████████████████████▌                 | 143/200 [17:18<06:14,  6.57s/it]"
     ]
    },
    {
     "name": "stdout",
     "output_type": "stream",
     "text": [
      "chanelofficial\\2023-11-10_10-48-16_UTC.jpg [Welcome to CHANEL WONDERLAND.…] chanelofficial\\2023-11-10_10-48-16_UTC.mp4 json \n"
     ]
    },
    {
     "name": "stderr",
     "output_type": "stream",
     "text": [
      "Downloading posts:  72%|███████████████████████████████████████████▉                 | 144/200 [17:25<06:21,  6.80s/it]"
     ]
    },
    {
     "name": "stdout",
     "output_type": "stream",
     "text": [
      "chanelofficial\\2023-11-09_17-19-46_UTC_1.jpg chanelofficial\\2023-11-09_17-19-46_UTC_2.jpg [N°5 Parfum, the epitome of fe…] json \n"
     ]
    },
    {
     "name": "stderr",
     "output_type": "stream",
     "text": [
      "Downloading posts:  72%|████████████████████████████████████████████▏                | 145/200 [17:32<06:06,  6.67s/it]"
     ]
    },
    {
     "name": "stdout",
     "output_type": "stream",
     "text": [
      "chanelofficial\\2023-11-09_13-10-22_UTC.jpg [Behind the scenes  Go behind …] chanelofficial\\2023-11-09_13-10-22_UTC.mp4 json \n"
     ]
    },
    {
     "name": "stderr",
     "output_type": "stream",
     "text": [
      "Downloading posts:  73%|████████████████████████████████████████████▌                | 146/200 [17:40<06:31,  7.25s/it]"
     ]
    },
    {
     "name": "stdout",
     "output_type": "stream",
     "text": [
      "chanelofficial\\2023-11-09_09-02-28_UTC.jpg [Make the holidays magical wit…] json \n"
     ]
    },
    {
     "name": "stderr",
     "output_type": "stream",
     "text": [
      "Downloading posts:  74%|████████████████████████████████████████████▊                | 147/200 [17:46<05:56,  6.73s/it]"
     ]
    },
    {
     "name": "stdout",
     "output_type": "stream",
     "text": [
      "chanelofficial\\2023-11-05_17-00-39_UTC.jpg [Inspiring the CHANEL Cruise 2…] chanelofficial\\2023-11-05_17-00-39_UTC.mp4 json \n"
     ]
    },
    {
     "name": "stderr",
     "output_type": "stream",
     "text": [
      "Downloading posts:  74%|█████████████████████████████████████████████▏               | 148/200 [17:55<06:23,  7.37s/it]"
     ]
    },
    {
     "name": "stdout",
     "output_type": "stream",
     "text": [
      "chanelofficial\\2023-11-05_11-02-35_UTC_1.jpg chanelofficial\\2023-11-05_11-02-35_UTC_2.jpg chanelofficial\\2023-11-05_11-02-35_UTC_3.jpg chanelofficial\\2023-11-05_11-02-35_UTC_4.jpg chanelofficial\\2023-11-05_11-02-35_UTC_5.jpg chanelofficial\\2023-11-05_11-02-35_UTC_6.jpg chanelofficial\\2023-11-05_11-02-35_UTC_7.jpg chanelofficial\\2023-11-05_11-02-35_UTC_8.jpg chanelofficial\\2023-11-05_11-02-35_UTC_9.jpg chanelofficial\\2023-11-05_11-02-35_UTC_10.jpg [Ambassadors and friends of th…] json \n"
     ]
    },
    {
     "name": "stderr",
     "output_type": "stream",
     "text": [
      "Downloading posts:  74%|█████████████████████████████████████████████▍               | 149/200 [18:05<07:00,  8.25s/it]"
     ]
    },
    {
     "name": "stdout",
     "output_type": "stream",
     "text": [
      "chanelofficial\\2023-11-04_17-03-40_UTC.jpg [On the occasion of the CHANEL…] chanelofficial\\2023-11-04_17-03-40_UTC.mp4 json \n"
     ]
    },
    {
     "name": "stderr",
     "output_type": "stream",
     "text": [
      "Downloading posts:  75%|█████████████████████████████████████████████▊               | 150/200 [18:15<07:15,  8.70s/it]"
     ]
    },
    {
     "name": "stdout",
     "output_type": "stream",
     "text": [
      "chanelofficial\\2023-11-04_09-35-49_UTC.jpg [From L.A. to Shenzhen, fashio…] chanelofficial\\2023-11-04_09-35-49_UTC.mp4 json \n"
     ]
    },
    {
     "name": "stderr",
     "output_type": "stream",
     "text": [
      "Downloading posts:  76%|██████████████████████████████████████████████               | 151/200 [18:26<07:51,  9.62s/it]"
     ]
    },
    {
     "name": "stdout",
     "output_type": "stream",
     "text": [
      "chanelofficial\\2023-11-03_17-40-51_UTC_1.jpg chanelofficial\\2023-11-03_17-40-51_UTC_2.jpg chanelofficial\\2023-11-03_17-40-51_UTC_3.jpg chanelofficial\\2023-11-03_17-40-51_UTC_4.jpg chanelofficial\\2023-11-03_17-40-51_UTC_5.jpg chanelofficial\\2023-11-03_17-40-51_UTC_6.jpg chanelofficial\\2023-11-03_17-40-51_UTC_7.jpg chanelofficial\\2023-11-03_17-40-51_UTC_8.jpg chanelofficial\\2023-11-03_17-40-51_UTC_9.jpg chanelofficial\\2023-11-03_17-40-51_UTC_10.jpg [An ode to the City of Angels …] json \n"
     ]
    },
    {
     "name": "stderr",
     "output_type": "stream",
     "text": [
      "Downloading posts:  76%|██████████████████████████████████████████████▎              | 152/200 [18:36<07:47,  9.74s/it]"
     ]
    },
    {
     "name": "stdout",
     "output_type": "stream",
     "text": [
      "chanelofficial\\2023-11-03_10-29-58_UTC.jpg [First unveiled in Los Angeles…] chanelofficial\\2023-11-03_10-29-58_UTC.mp4 json \n"
     ]
    },
    {
     "name": "stderr",
     "output_type": "stream",
     "text": [
      "Downloading posts:  76%|██████████████████████████████████████████████▋              | 153/200 [18:45<07:14,  9.24s/it]"
     ]
    },
    {
     "name": "stdout",
     "output_type": "stream",
     "text": [
      "chanelofficial\\2023-10-31_18-35-43_UTC_1.jpg chanelofficial\\2023-10-31_18-35-43_UTC_2.jpg chanelofficial\\2023-10-31_18-35-43_UTC_3.jpg chanelofficial\\2023-10-31_18-35-43_UTC_4.jpg chanelofficial\\2023-10-31_18-35-43_UTC_5.jpg chanelofficial\\2023-10-31_18-35-43_UTC_6.jpg chanelofficial\\2023-10-31_18-35-43_UTC_7.jpg [The COCO MADEMOISELLE campaig…] json \n"
     ]
    },
    {
     "name": "stderr",
     "output_type": "stream",
     "text": [
      "Downloading posts:  77%|██████████████████████████████████████████████▉              | 154/200 [18:53<07:01,  9.16s/it]"
     ]
    },
    {
     "name": "stdout",
     "output_type": "stream",
     "text": [
      "chanelofficial\\2023-10-31_11-41-49_UTC.jpg [COCO MADEMOISELLE.  The essen…] json \n"
     ]
    },
    {
     "name": "stderr",
     "output_type": "stream",
     "text": [
      "Downloading posts:  78%|███████████████████████████████████████████████▎             | 155/200 [18:59<06:02,  8.06s/it]"
     ]
    },
    {
     "name": "stdout",
     "output_type": "stream",
     "text": [
      "chanelofficial\\2023-10-31_07-59-56_UTC.jpg [COCO MADEMOISELLE. The essenc…] chanelofficial\\2023-10-31_07-59-56_UTC.mp4 json \n"
     ]
    },
    {
     "name": "stderr",
     "output_type": "stream",
     "text": [
      "Downloading posts:  78%|███████████████████████████████████████████████▌             | 156/200 [19:06<05:44,  7.83s/it]"
     ]
    },
    {
     "name": "stdout",
     "output_type": "stream",
     "text": [
      "chanelofficial\\2023-10-30_17-34-53_UTC.jpg [COCO MADEMOISELLE. The essenc…] chanelofficial\\2023-10-30_17-34-53_UTC.mp4 json \n"
     ]
    },
    {
     "name": "stderr",
     "output_type": "stream",
     "text": [
      "Downloading posts:  78%|███████████████████████████████████████████████▉             | 157/200 [19:15<05:51,  8.17s/it]"
     ]
    },
    {
     "name": "stdout",
     "output_type": "stream",
     "text": [
      "chanelofficial\\2023-10-30_11-56-42_UTC.jpg [Who are you COCO MADEMOISELLE…] json \n"
     ]
    },
    {
     "name": "stderr",
     "output_type": "stream",
     "text": [
      "Downloading posts:  79%|████████████████████████████████████████████████▏            | 158/200 [19:21<05:10,  7.38s/it]"
     ]
    },
    {
     "name": "stdout",
     "output_type": "stream",
     "text": [
      "chanelofficial\\2023-10-30_08-17-08_UTC.jpg [COCO MADEMOISELLE. The essenc…] chanelofficial\\2023-10-30_08-17-08_UTC.mp4 json \n"
     ]
    },
    {
     "name": "stderr",
     "output_type": "stream",
     "text": [
      "Downloading posts:  80%|████████████████████████████████████████████████▍            | 159/200 [19:28<05:01,  7.35s/it]"
     ]
    },
    {
     "name": "stdout",
     "output_type": "stream",
     "text": [
      "chanelofficial\\2023-10-29_18-41-57_UTC.jpg [COCO MADEMOISELLE. The essenc…] chanelofficial\\2023-10-29_18-41-57_UTC.mp4 json \n"
     ]
    },
    {
     "name": "stderr",
     "output_type": "stream",
     "text": [
      "Downloading posts:  80%|████████████████████████████████████████████████▊            | 160/200 [19:35<04:50,  7.26s/it]"
     ]
    },
    {
     "name": "stdout",
     "output_type": "stream",
     "text": [
      "chanelofficial\\2023-10-29_15-51-45_UTC.jpg [Who are you COCO MADEMOISELLE…] json \n"
     ]
    },
    {
     "name": "stderr",
     "output_type": "stream",
     "text": [
      "Downloading posts:  80%|█████████████████████████████████████████████████            | 161/200 [19:41<04:24,  6.77s/it]"
     ]
    },
    {
     "name": "stdout",
     "output_type": "stream",
     "text": [
      "chanelofficial\\2023-10-29_10-39-38_UTC.jpg [COCO MADEMOISELLE. The essenc…] chanelofficial\\2023-10-29_10-39-38_UTC.mp4 json \n"
     ]
    },
    {
     "name": "stderr",
     "output_type": "stream",
     "text": [
      "Downloading posts:  81%|█████████████████████████████████████████████████▍           | 162/200 [19:48<04:19,  6.84s/it]"
     ]
    },
    {
     "name": "stdout",
     "output_type": "stream",
     "text": [
      "chanelofficial\\2023-10-28_16-02-06_UTC.jpg [HOLIDAY 2023 MAKEUP COLLECTIO…] json \n"
     ]
    },
    {
     "name": "stderr",
     "output_type": "stream",
     "text": [
      "Downloading posts:  82%|█████████████████████████████████████████████████▋           | 163/200 [19:56<04:26,  7.21s/it]"
     ]
    },
    {
     "name": "stdout",
     "output_type": "stream",
     "text": [
      "chanelofficial\\2023-10-28_14-28-04_UTC.jpg [Roaringly retro. Sparkling, g…] json \n"
     ]
    },
    {
     "name": "stderr",
     "output_type": "stream",
     "text": [
      "Downloading posts:  82%|██████████████████████████████████████████████████           | 164/200 [20:01<04:01,  6.71s/it]"
     ]
    },
    {
     "name": "stdout",
     "output_type": "stream",
     "text": [
      "chanelofficial\\2023-10-28_11-30-11_UTC.jpg [HOLIDAY 2023 MAKEUP COLLECTIO…] json \n"
     ]
    },
    {
     "name": "stderr",
     "output_type": "stream",
     "text": [
      "Downloading posts:  82%|██████████████████████████████████████████████████▎          | 165/200 [20:08<03:49,  6.57s/it]"
     ]
    },
    {
     "name": "stdout",
     "output_type": "stream",
     "text": [
      "chanelofficial\\2023-10-27_16-13-39_UTC.jpg [HOLIDAY 2023 COLLECTION. Disc…] json \n"
     ]
    },
    {
     "name": "stderr",
     "output_type": "stream",
     "text": [
      "Downloading posts:  83%|██████████████████████████████████████████████████▋          | 166/200 [20:13<03:33,  6.28s/it]"
     ]
    },
    {
     "name": "stdout",
     "output_type": "stream",
     "text": [
      "chanelofficial\\2023-10-27_14-12-38_UTC.jpg [HOLIDAY 2023 MAKEUP COLLECTIO…] json \n"
     ]
    },
    {
     "name": "stderr",
     "output_type": "stream",
     "text": [
      "Downloading posts:  84%|██████████████████████████████████████████████████▉          | 167/200 [20:19<03:24,  6.19s/it]"
     ]
    },
    {
     "name": "stdout",
     "output_type": "stream",
     "text": [
      "chanelofficial\\2023-10-27_12-04-36_UTC.jpg [Travel back in time to the 19…] chanelofficial\\2023-10-27_12-04-36_UTC.mp4 json \n"
     ]
    },
    {
     "name": "stderr",
     "output_type": "stream",
     "text": [
      "Downloading posts:  84%|███████████████████████████████████████████████████▏         | 168/200 [20:26<03:25,  6.42s/it]"
     ]
    },
    {
     "name": "stdout",
     "output_type": "stream",
     "text": [
      "chanelofficial\\2023-10-26_17-04-35_UTC.jpg [The CHANEL Style Guide: COCO …] chanelofficial\\2023-10-26_17-04-35_UTC.mp4 json \n"
     ]
    },
    {
     "name": "stderr",
     "output_type": "stream",
     "text": [
      "Downloading posts:  84%|███████████████████████████████████████████████████▌         | 169/200 [20:33<03:20,  6.46s/it]"
     ]
    },
    {
     "name": "stdout",
     "output_type": "stream",
     "text": [
      "chanelofficial\\2023-10-26_13-04-15_UTC_1.jpg chanelofficial\\2023-10-26_13-04-15_UTC_2.jpg chanelofficial\\2023-10-26_13-04-15_UTC_3.jpg chanelofficial\\2023-10-26_13-04-15_UTC_4.jpg [The CHANEL Style Guide: COCO …] json \n"
     ]
    },
    {
     "name": "stderr",
     "output_type": "stream",
     "text": [
      "Downloading posts:  85%|███████████████████████████████████████████████████▊         | 170/200 [20:40<03:22,  6.74s/it]"
     ]
    },
    {
     "name": "stdout",
     "output_type": "stream",
     "text": [
      "chanelofficial\\2023-10-26_09-00-56_UTC.jpg [The CHANEL Style Guide: Iconi…] chanelofficial\\2023-10-26_09-00-56_UTC.mp4 json \n"
     ]
    },
    {
     "name": "stderr",
     "output_type": "stream",
     "text": [
      "Downloading posts:  86%|████████████████████████████████████████████████████▏        | 171/200 [20:47<03:15,  6.73s/it]"
     ]
    },
    {
     "name": "stdout",
     "output_type": "stream",
     "text": [
      "chanelofficial\\2023-10-25_16-48-43_UTC_1.jpg chanelofficial\\2023-10-25_16-48-43_UTC_2.jpg chanelofficial\\2023-10-25_16-48-43_UTC_3.jpg chanelofficial\\2023-10-25_16-48-43_UTC_4.jpg [The CHANEL Style Guide: Iconi…] json \n"
     ]
    },
    {
     "name": "stderr",
     "output_type": "stream",
     "text": [
      "Downloading posts:  86%|████████████████████████████████████████████████████▍        | 172/200 [20:54<03:12,  6.88s/it]"
     ]
    },
    {
     "name": "stdout",
     "output_type": "stream",
     "text": [
      "chanelofficial\\2023-10-25_13-00-50_UTC.jpg [The CHANEL Style Guide: Long …] chanelofficial\\2023-10-25_13-00-50_UTC.mp4 json \n"
     ]
    },
    {
     "name": "stderr",
     "output_type": "stream",
     "text": [
      "Downloading posts:  86%|████████████████████████████████████████████████████▊        | 173/200 [21:02<03:10,  7.07s/it]"
     ]
    },
    {
     "name": "stdout",
     "output_type": "stream",
     "text": [
      "chanelofficial\\2023-10-25_09-00-48_UTC_1.jpg chanelofficial\\2023-10-25_09-00-48_UTC_2.jpg chanelofficial\\2023-10-25_09-00-48_UTC_3.jpg chanelofficial\\2023-10-25_09-00-48_UTC_4.jpg chanelofficial\\2023-10-25_09-00-48_UTC_5.jpg [The CHANEL Style Guide: One a…] json \n"
     ]
    },
    {
     "name": "stderr",
     "output_type": "stream",
     "text": [
      "Downloading posts:  87%|█████████████████████████████████████████████████████        | 174/200 [21:09<03:08,  7.26s/it]"
     ]
    },
    {
     "name": "stdout",
     "output_type": "stream",
     "text": [
      "chanelofficial\\2023-10-24_17-10-31_UTC.jpg [The CHANEL Style Guide: One a…] chanelofficial\\2023-10-24_17-10-31_UTC.mp4 json \n"
     ]
    },
    {
     "name": "stderr",
     "output_type": "stream",
     "text": [
      "Downloading posts:  88%|█████████████████████████████████████████████████████▍       | 175/200 [21:16<02:54,  6.98s/it]"
     ]
    },
    {
     "name": "stdout",
     "output_type": "stream",
     "text": [
      "chanelofficial\\2023-10-24_12-59-17_UTC_1.jpg chanelofficial\\2023-10-24_12-59-17_UTC_2.jpg chanelofficial\\2023-10-24_12-59-17_UTC_3.jpg chanelofficial\\2023-10-24_12-59-17_UTC_4.jpg [The CHANEL Style Guide: Doubl…] json \n"
     ]
    },
    {
     "name": "stderr",
     "output_type": "stream",
     "text": [
      "Downloading posts:  88%|█████████████████████████████████████████████████████▋       | 176/200 [21:23<02:49,  7.07s/it]"
     ]
    },
    {
     "name": "stdout",
     "output_type": "stream",
     "text": [
      "chanelofficial\\2023-10-24_09-00-03_UTC.jpg [The CHANEL Style Guide: Doubl…] chanelofficial\\2023-10-24_09-00-03_UTC.mp4 json \n"
     ]
    },
    {
     "name": "stderr",
     "output_type": "stream",
     "text": [
      "Downloading posts:  88%|█████████████████████████████████████████████████████▉       | 177/200 [21:29<02:39,  6.92s/it]"
     ]
    },
    {
     "name": "stdout",
     "output_type": "stream",
     "text": [
      "chanelofficial\\2023-10-23_18-00-18_UTC.jpg [Performance and elegance — th…] json \n"
     ]
    },
    {
     "name": "stderr",
     "output_type": "stream",
     "text": [
      "Downloading posts:  89%|██████████████████████████████████████████████████████▎      | 178/200 [21:35<02:23,  6.53s/it]"
     ]
    },
    {
     "name": "stdout",
     "output_type": "stream",
     "text": [
      "chanelofficial\\2023-10-23_16-00-06_UTC.jpg [From skiwear to eveningwear, …] json \n"
     ]
    },
    {
     "name": "stderr",
     "output_type": "stream",
     "text": [
      "Downloading posts:  90%|██████████████████████████████████████████████████████▌      | 179/200 [21:41<02:12,  6.31s/it]"
     ]
    },
    {
     "name": "stdout",
     "output_type": "stream",
     "text": [
      "chanelofficial\\2023-10-23_14-00-06_UTC.jpg [Technical sophistication — re…] json \n"
     ]
    },
    {
     "name": "stderr",
     "output_type": "stream",
     "text": [
      "Downloading posts:  90%|██████████████████████████████████████████████████████▉      | 180/200 [21:47<02:03,  6.19s/it]"
     ]
    },
    {
     "name": "stdout",
     "output_type": "stream",
     "text": [
      "chanelofficial\\2023-10-23_12-00-31_UTC.jpg [A nod to the codes of the Hou…] json \n"
     ]
    },
    {
     "name": "stderr",
     "output_type": "stream",
     "text": [
      "Downloading posts:  90%|███████████████████████████████████████████████████████▏     | 181/200 [21:52<01:54,  6.05s/it]"
     ]
    },
    {
     "name": "stdout",
     "output_type": "stream",
     "text": [
      "chanelofficial\\2023-10-23_10-00-14_UTC.jpg [Combining a pair of technical…] json \n"
     ]
    },
    {
     "name": "stderr",
     "output_type": "stream",
     "text": [
      "Downloading posts:  91%|███████████████████████████████████████████████████████▌     | 182/200 [21:58<01:48,  6.02s/it]"
     ]
    },
    {
     "name": "stdout",
     "output_type": "stream",
     "text": [
      "chanelofficial\\2023-10-23_08-00-31_UTC_1.jpg chanelofficial\\2023-10-23_08-00-31_UTC_2.jpg [Winter versatility — inspired…] json \n"
     ]
    },
    {
     "name": "stderr",
     "output_type": "stream",
     "text": [
      "Downloading posts:  92%|███████████████████████████████████████████████████████▊     | 183/200 [22:05<01:45,  6.21s/it]"
     ]
    },
    {
     "name": "stdout",
     "output_type": "stream",
     "text": [
      "chanelofficial\\2023-10-07_17-48-00_UTC_1.jpg chanelofficial\\2023-10-07_17-48-00_UTC_2.jpg [Who are you COCO MADEMOISELLE…] json \n"
     ]
    },
    {
     "name": "stderr",
     "output_type": "stream",
     "text": [
      "Downloading posts:  92%|████████████████████████████████████████████████████████     | 184/200 [22:11<01:39,  6.19s/it]"
     ]
    },
    {
     "name": "stdout",
     "output_type": "stream",
     "text": [
      "chanelofficial\\2023-10-07_13-04-48_UTC.jpg [The interpretations of COCO M…] json \n"
     ]
    },
    {
     "name": "stderr",
     "output_type": "stream",
     "text": [
      "Downloading posts:  92%|████████████████████████████████████████████████████████▍    | 185/200 [22:17<01:29,  5.99s/it]"
     ]
    },
    {
     "name": "stdout",
     "output_type": "stream",
     "text": [
      "chanelofficial\\2023-10-07_08-44-02_UTC.jpg [Who are you COCO MADEMOISELLE…] chanelofficial\\2023-10-07_08-44-02_UTC.mp4 json \n"
     ]
    },
    {
     "name": "stderr",
     "output_type": "stream",
     "text": [
      "Downloading posts:  93%|████████████████████████████████████████████████████████▋    | 186/200 [22:25<01:32,  6.64s/it]"
     ]
    },
    {
     "name": "stdout",
     "output_type": "stream",
     "text": [
      "chanelofficial\\2023-10-06_18-00-00_UTC.jpg [Mimicking the colourful flowe…] chanelofficial\\2023-10-06_18-00-00_UTC.mp4 json \n"
     ]
    },
    {
     "name": "stderr",
     "output_type": "stream",
     "text": [
      "Downloading posts:  94%|█████████████████████████████████████████████████████████    | 187/200 [22:34<01:37,  7.53s/it]"
     ]
    },
    {
     "name": "stdout",
     "output_type": "stream",
     "text": [
      "chanelofficial\\2023-10-06_15-59-55_UTC.jpg [With an air of elegance, joy,…] chanelofficial\\2023-10-06_15-59-55_UTC.mp4 json \n"
     ]
    },
    {
     "name": "stderr",
     "output_type": "stream",
     "text": [
      "Downloading posts:  94%|█████████████████████████████████████████████████████████▎   | 188/200 [22:45<01:39,  8.30s/it]"
     ]
    },
    {
     "name": "stdout",
     "output_type": "stream",
     "text": [
      "chanelofficial\\2023-10-06_14-00-12_UTC.jpg [For the CHANEL Spring-Summer …] json \n"
     ]
    },
    {
     "name": "stderr",
     "output_type": "stream",
     "text": [
      "Downloading posts:  94%|█████████████████████████████████████████████████████████▋   | 189/200 [22:50<01:22,  7.47s/it]"
     ]
    },
    {
     "name": "stdout",
     "output_type": "stream",
     "text": [
      "chanelofficial\\2023-10-06_12-00-00_UTC.jpg [Fusing the athletic spirit of…] chanelofficial\\2023-10-06_12-00-00_UTC.mp4 json \n"
     ]
    },
    {
     "name": "stderr",
     "output_type": "stream",
     "text": [
      "Downloading posts:  95%|█████████████████████████████████████████████████████████▉   | 190/200 [22:58<01:15,  7.52s/it]"
     ]
    },
    {
     "name": "stdout",
     "output_type": "stream",
     "text": [
      "chanelofficial\\2023-10-06_10-00-00_UTC.jpg [Riffing on the dream of the L…] chanelofficial\\2023-10-06_10-00-00_UTC.mp4 json \n"
     ]
    },
    {
     "name": "stderr",
     "output_type": "stream",
     "text": [
      "Downloading posts:  96%|██████████████████████████████████████████████████████████▎  | 191/200 [23:07<01:11,  7.94s/it]"
     ]
    },
    {
     "name": "stdout",
     "output_type": "stream",
     "text": [
      "chanelofficial\\2023-10-06_08-00-00_UTC.jpg [Romancing a certain idea of s…] chanelofficial\\2023-10-06_08-00-00_UTC.mp4 json \n"
     ]
    },
    {
     "name": "stderr",
     "output_type": "stream",
     "text": [
      "Downloading posts:  96%|██████████████████████████████████████████████████████████▌  | 192/200 [23:14<01:02,  7.81s/it]"
     ]
    },
    {
     "name": "stdout",
     "output_type": "stream",
     "text": [
      "chanelofficial\\2023-10-05_20-00-07_UTC.jpg [True to the idea of embroider…] json \n"
     ]
    },
    {
     "name": "stderr",
     "output_type": "stream",
     "text": [
      "Downloading posts:  96%|██████████████████████████████████████████████████████████▊  | 193/200 [23:20<00:49,  7.12s/it]"
     ]
    },
    {
     "name": "stdout",
     "output_type": "stream",
     "text": [
      "chanelofficial\\2023-10-05_18-00-05_UTC.jpg [Inspired by the gardens of th…] chanelofficial\\2023-10-05_18-00-05_UTC.mp4 json \n"
     ]
    },
    {
     "name": "stderr",
     "output_type": "stream",
     "text": [
      "Downloading posts:  97%|███████████████████████████████████████████████████████████▏ | 194/200 [23:29<00:46,  7.81s/it]"
     ]
    },
    {
     "name": "stdout",
     "output_type": "stream",
     "text": [
      "chanelofficial\\2023-10-05_14-00-00_UTC.jpg [In a fantasy expression of th…] chanelofficial\\2023-10-05_14-00-00_UTC.mp4 json \n"
     ]
    },
    {
     "name": "stderr",
     "output_type": "stream",
     "text": [
      "Downloading posts:  98%|███████████████████████████████████████████████████████████▍ | 195/200 [23:38<00:40,  8.11s/it]"
     ]
    },
    {
     "name": "stdout",
     "output_type": "stream",
     "text": [
      "chanelofficial\\2023-10-05_12-00-10_UTC.jpg [In a romantic game of tailore…] json \n"
     ]
    },
    {
     "name": "stderr",
     "output_type": "stream",
     "text": [
      "Downloading posts:  98%|███████████████████████████████████████████████████████████▊ | 196/200 [23:43<00:29,  7.33s/it]"
     ]
    },
    {
     "name": "stdout",
     "output_type": "stream",
     "text": [
      "chanelofficial\\2023-10-05_10-12-37_UTC.jpg [Soft but boyish, dressed up y…] chanelofficial\\2023-10-05_10-12-37_UTC.mp4 json \n"
     ]
    },
    {
     "name": "stderr",
     "output_type": "stream",
     "text": [
      "Downloading posts:  98%|████████████████████████████████████████████████████████████ | 197/200 [23:51<00:22,  7.47s/it]"
     ]
    },
    {
     "name": "stdout",
     "output_type": "stream",
     "text": [
      "chanelofficial\\2023-10-05_08-00-04_UTC.jpg [Twisting seaside inspirations…] json \n"
     ]
    },
    {
     "name": "stderr",
     "output_type": "stream",
     "text": [
      "Downloading posts:  99%|████████████████████████████████████████████████████████████▍| 198/200 [23:57<00:13,  6.89s/it]"
     ]
    },
    {
     "name": "stdout",
     "output_type": "stream",
     "text": [
      "chanelofficial\\2023-10-05_07-00-06_UTC.jpg [Worn with bare legs, ballerin…] json \n"
     ]
    },
    {
     "name": "stderr",
     "output_type": "stream",
     "text": [
      "Downloading posts: 100%|████████████████████████████████████████████████████████████▋| 199/200 [24:02<00:06,  6.51s/it]"
     ]
    },
    {
     "name": "stdout",
     "output_type": "stream",
     "text": [
      "chanelofficial\\2023-10-04_21-25-58_UTC.jpg [Appearing within an architect…] chanelofficial\\2023-10-04_21-25-58_UTC.mp4 json \n"
     ]
    },
    {
     "name": "stderr",
     "output_type": "stream",
     "text": [
      "Downloading posts: 100%|█████████████████████████████████████████████████████████████| 200/200 [24:11<00:00,  7.26s/it]\n"
     ]
    }
   ],
   "source": [
    "import instaloader\n",
    "import time\n",
    "from tqdm import tqdm\n",
    "\n",
    "L = instaloader.Instaloader()\n",
    "user = users[2]  # Replace with the actual username\n",
    "profile = instaloader.Profile.from_username(L.context, user)  # user from list of users\n",
    "\n",
    "# Set the maximum number of posts to download\n",
    "max_posts = 200\n",
    "\n",
    "# Using tqdm to create a progress bar\n",
    "for post in tqdm(profile.get_posts(), total=max_posts, desc=\"Downloading posts\"):\n",
    "    if max_posts > 0:\n",
    "        L.download_post(post, target=profile.username)\n",
    "        max_posts -= 1  # Decrement the remaining number of posts to download\n",
    "        time.sleep(5)  # Wait for 5 seconds between downloads\n",
    "    else:\n",
    "        break  # Exit the loop after downloading the desired number of posts"
   ]
  },
  {
   "cell_type": "markdown",
   "metadata": {},
   "source": [
    "# Arrange Data in folders"
   ]
  },
  {
   "cell_type": "code",
   "execution_count": 3,
   "metadata": {},
   "outputs": [],
   "source": [
    "import os\n",
    "import shutil\n",
    "\n",
    "def organize_files_by_name(folder_path):\n",
    "    files = [f for f in os.listdir(folder_path) if os.path.isfile(os.path.join(folder_path, f))]\n",
    "    base_names = {}\n",
    "\n",
    "    for file in files:\n",
    "        # Take the first 23 characters as the base name\n",
    "        base_name = file[:23]\n",
    "\n",
    "        if base_name not in base_names:\n",
    "            base_names[base_name] = []\n",
    "\n",
    "        base_names[base_name].append(file)\n",
    "\n",
    "    for base_name, file_list in base_names.items():\n",
    "        dir_path = os.path.join(folder_path, base_name)\n",
    "        if not os.path.exists(dir_path):\n",
    "            os.makedirs(dir_path)\n",
    "\n",
    "        for file in file_list:\n",
    "            original_file = os.path.join(folder_path, file)\n",
    "            new_file = os.path.join(dir_path, file)\n",
    "\n",
    "            if os.path.exists(new_file):\n",
    "                i = 1\n",
    "                new_base_name = file[:23]\n",
    "                ext = os.path.splitext(file)[1]\n",
    "                new_file = os.path.join(dir_path, f\"{new_base_name}_{i}{ext}\")\n",
    "                while os.path.exists(new_file):\n",
    "                    i += 1\n",
    "                    new_file = os.path.join(dir_path, f\"{new_base_name}_{i}{ext}\")\n",
    "\n",
    "            shutil.move(original_file, new_file)\n",
    "\n",
    "# Example usage\n",
    "folder_path = user  # Replace with the path to your folder\n",
    "organize_files_by_name(folder_path)"
   ]
  },
  {
   "cell_type": "markdown",
   "metadata": {},
   "source": [
    "Status:\n",
    "* HM OK\n",
    "* Jacquemus\n",
    "* Shein\n",
    "* Chanel"
   ]
  }
 ],
 "metadata": {
  "kernelspec": {
   "display_name": "Python 3",
   "language": "python",
   "name": "python3"
  },
  "language_info": {
   "codemirror_mode": {
    "name": "ipython",
    "version": 3
   },
   "file_extension": ".py",
   "mimetype": "text/x-python",
   "name": "python",
   "nbconvert_exporter": "python",
   "pygments_lexer": "ipython3",
   "version": "3.8.3"
  }
 },
 "nbformat": 4,
 "nbformat_minor": 5
}
