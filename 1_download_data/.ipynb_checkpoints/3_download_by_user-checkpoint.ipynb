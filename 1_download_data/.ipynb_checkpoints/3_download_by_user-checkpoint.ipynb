{
 "cells": [
  {
   "cell_type": "code",
   "execution_count": 1,
   "id": "a21aaefb-706a-4e29-8112-1320af28a2ca",
   "metadata": {},
   "outputs": [],
   "source": [
    "import instaloader\n",
    "import time\n",
    "from tqdm import tqdm\n",
    "import random"
   ]
  },
  {
   "cell_type": "markdown",
   "id": "ecce7d7e-29fc-4bfe-ad25-1a71e7aedd7e",
   "metadata": {},
   "source": [
    "# Download Data"
   ]
  },
  {
   "cell_type": "code",
   "execution_count": 2,
   "id": "1a91cd68-37da-4a2f-b3a8-cc79756d44ba",
   "metadata": {},
   "outputs": [
    {
     "name": "stderr",
     "output_type": "stream",
     "text": [
      "Downloading posts:   0%|                                                                       | 0/500 [00:00<?, ?it/s]"
     ]
    },
    {
     "name": "stdout",
     "output_type": "stream",
     "text": [
      "hm\\2024-01-11_17-37-35_UTC_1.jpg hm\\2024-01-11_17-37-35_UTC_2.jpg [The power suit in blue. #HM] json \n"
     ]
    },
    {
     "name": "stderr",
     "output_type": "stream",
     "text": [
      "Downloading posts:   0%|▏                                                              | 1/500 [00:06<51:57,  6.25s/it]"
     ]
    },
    {
     "name": "stdout",
     "output_type": "stream",
     "text": [
      "hm\\2024-01-11_09-19-31_UTC_1.jpg hm\\2024-01-11_09-19-31_UTC_2.jpg hm\\2024-01-11_09-19-31_UTC_3.jpg [Full look sorted. #HM] json \n"
     ]
    },
    {
     "name": "stderr",
     "output_type": "stream",
     "text": [
      "Downloading posts:   0%|▎                                                              | 2/500 [00:11<49:03,  5.91s/it]"
     ]
    },
    {
     "name": "stdout",
     "output_type": "stream",
     "text": [
      "hm\\2024-01-10_12-07-37_UTC_1.jpg hm\\2024-01-10_12-07-37_UTC_2.jpg [Stripes and tailoring. #HM] json \n"
     ]
    },
    {
     "name": "stderr",
     "output_type": "stream",
     "text": [
      "Downloading posts:   1%|▍                                                              | 3/500 [00:18<50:06,  6.05s/it]"
     ]
    },
    {
     "name": "stdout",
     "output_type": "stream",
     "text": [
      "hm\\2024-01-09_12-00-43_UTC_1.jpg hm\\2024-01-09_12-00-43_UTC_2.jpg [The everyday classic. #HM] json \n"
     ]
    },
    {
     "name": "stderr",
     "output_type": "stream",
     "text": [
      "Downloading posts:   1%|▌                                                              | 4/500 [00:26<56:59,  6.90s/it]"
     ]
    },
    {
     "name": "stdout",
     "output_type": "stream",
     "text": [
      "hm\\2024-01-08_17-25-59_UTC.jpg [Add a detail. #HM] json \n"
     ]
    },
    {
     "name": "stderr",
     "output_type": "stream",
     "text": [
      "Downloading posts:   1%|▋                                                              | 5/500 [00:33<59:02,  7.16s/it]"
     ]
    },
    {
     "name": "stdout",
     "output_type": "stream",
     "text": [
      "hm\\2024-01-01_11-19-17_UTC.jpg [Flavour of the year: Couch-po…] hm\\2024-01-01_11-19-17_UTC.mp4 json \n"
     ]
    },
    {
     "name": "stderr",
     "output_type": "stream",
     "text": [
      "Downloading posts:   1%|▊                                                              | 6/500 [00:38<52:07,  6.33s/it]"
     ]
    },
    {
     "name": "stdout",
     "output_type": "stream",
     "text": [
      "hm\\2023-12-29_16-05-56_UTC.jpg [Wrapping up the year with Ann…] hm\\2023-12-29_16-05-56_UTC.mp4 json \n"
     ]
    },
    {
     "name": "stderr",
     "output_type": "stream",
     "text": [
      "Downloading posts:   1%|▉                                                              | 7/500 [00:47<59:29,  7.24s/it]"
     ]
    },
    {
     "name": "stdout",
     "output_type": "stream",
     "text": [
      "hm\\2023-12-28_16-02-02_UTC_1.jpg hm\\2023-12-28_16-02-02_UTC_2.jpg [The beauty of the mismatch. #HM] json \n"
     ]
    },
    {
     "name": "stderr",
     "output_type": "stream",
     "text": [
      "Downloading posts:   2%|█                                                              | 8/500 [00:53<54:16,  6.62s/it]"
     ]
    },
    {
     "name": "stdout",
     "output_type": "stream",
     "text": [
      "hm\\2023-12-28_07-01-15_UTC_1.jpg hm\\2023-12-28_07-01-15_UTC_2.jpg hm\\2023-12-28_07-01-15_UTC_3.jpg [One woman show. #HM] json \n"
     ]
    },
    {
     "name": "stderr",
     "output_type": "stream",
     "text": [
      "Downloading posts:   2%|█▏                                                             | 9/500 [01:00<57:25,  7.02s/it]"
     ]
    },
    {
     "name": "stdout",
     "output_type": "stream",
     "text": [
      "hm\\2023-12-27_16-20-12_UTC_1.jpg hm\\2023-12-27_16-20-12_UTC_2.jpg [Trending now: Metallics. #HM] json \n"
     ]
    },
    {
     "name": "stderr",
     "output_type": "stream",
     "text": [
      "Downloading posts:   2%|█▏                                                          | 10/500 [01:09<1:00:52,  7.45s/it]"
     ]
    },
    {
     "name": "stdout",
     "output_type": "stream",
     "text": [
      "hm\\2023-12-27_07-01-40_UTC.jpg [A bold move. #HM] json \n"
     ]
    },
    {
     "name": "stderr",
     "output_type": "stream",
     "text": [
      "Downloading posts:   2%|█▎                                                            | 11/500 [01:15<56:10,  6.89s/it]"
     ]
    },
    {
     "name": "stdout",
     "output_type": "stream",
     "text": [
      "hm\\2023-12-26_16-00-45_UTC.jpg [Drama in the eyes. #HM] json \n"
     ]
    },
    {
     "name": "stderr",
     "output_type": "stream",
     "text": [
      "Downloading posts:   2%|█▍                                                            | 12/500 [01:21<55:16,  6.80s/it]"
     ]
    },
    {
     "name": "stdout",
     "output_type": "stream",
     "text": [
      "hm\\2023-12-26_07-14-22_UTC_1.jpg hm\\2023-12-26_07-14-22_UTC_2.jpg [This NYE: Shades of pink, sha…] json \n"
     ]
    },
    {
     "name": "stderr",
     "output_type": "stream",
     "text": [
      "Downloading posts:   3%|█▌                                                          | 13/500 [01:31<1:03:22,  7.81s/it]"
     ]
    },
    {
     "name": "stdout",
     "output_type": "stream",
     "text": [
      "hm\\2023-12-25_16-00-45_UTC_1.jpg hm\\2023-12-25_16-00-45_UTC_2.jpg [The little black sequin dress…] json \n"
     ]
    },
    {
     "name": "stderr",
     "output_type": "stream",
     "text": [
      "Downloading posts:   3%|█▋                                                            | 14/500 [01:34<51:50,  6.40s/it]"
     ]
    },
    {
     "name": "stdout",
     "output_type": "stream",
     "text": [
      "hm\\2023-12-25_07-45-47_UTC_1.jpg hm\\2023-12-25_07-45-47_UTC_2.jpg hm\\2023-12-25_07-45-47_UTC_3.jpg [The power of textures. #HM] json \n"
     ]
    },
    {
     "name": "stderr",
     "output_type": "stream",
     "text": [
      "Downloading posts:   3%|█▊                                                            | 15/500 [01:42<55:10,  6.83s/it]"
     ]
    },
    {
     "name": "stdout",
     "output_type": "stream",
     "text": [
      "hm\\2023-12-22_12-37-32_UTC_1.jpg hm\\2023-12-22_12-37-32_UTC_2.jpg [The little black dress for th…] json \n"
     ]
    },
    {
     "name": "stderr",
     "output_type": "stream",
     "text": [
      "Downloading posts:   3%|█▉                                                            | 16/500 [01:49<55:55,  6.93s/it]"
     ]
    },
    {
     "name": "stdout",
     "output_type": "stream",
     "text": [
      "hm\\2023-12-21_14-06-08_UTC.jpg [@juliafox wears The Oversized…] json \n"
     ]
    },
    {
     "name": "stderr",
     "output_type": "stream",
     "text": [
      "Downloading posts:   3%|██                                                            | 17/500 [01:55<52:33,  6.53s/it]"
     ]
    },
    {
     "name": "stdout",
     "output_type": "stream",
     "text": [
      "hm\\2023-12-21_09-54-40_UTC_1.jpg hm\\2023-12-21_09-54-40_UTC_2.jpg hm\\2023-12-21_09-54-40_UTC_3.jpg [Tailored three ways.  #HM] json \n"
     ]
    },
    {
     "name": "stderr",
     "output_type": "stream",
     "text": [
      "Downloading posts:   4%|██▏                                                           | 18/500 [02:02<52:59,  6.60s/it]"
     ]
    },
    {
     "name": "stdout",
     "output_type": "stream",
     "text": [
      "hm\\2023-12-20_15-16-14_UTC_1.jpg hm\\2023-12-20_15-16-14_UTC_2.jpg hm\\2023-12-20_15-16-14_UTC_3.jpg [Warming puffers to weatherpro…] json \n"
     ]
    },
    {
     "name": "stderr",
     "output_type": "stream",
     "text": [
      "Downloading posts:   4%|██▎                                                           | 19/500 [02:10<58:02,  7.24s/it]"
     ]
    },
    {
     "name": "stdout",
     "output_type": "stream",
     "text": [
      "hm\\2023-12-20_09-06-46_UTC.jpg [Powder-fresh looks turning he…] hm\\2023-12-20_09-06-46_UTC.mp4 json \n"
     ]
    },
    {
     "name": "stderr",
     "output_type": "stream",
     "text": [
      "Downloading posts:   4%|██▍                                                           | 20/500 [02:17<56:12,  7.03s/it]"
     ]
    },
    {
     "name": "stdout",
     "output_type": "stream",
     "text": [
      "hm\\2023-12-19_15-30-16_UTC_1.jpg hm\\2023-12-19_15-30-16_UTC_2.jpg [Introducing a new skiwear col…] json \n"
     ]
    },
    {
     "name": "stderr",
     "output_type": "stream",
     "text": [
      "Downloading posts:   4%|██▌                                                           | 21/500 [02:20<46:58,  5.88s/it]"
     ]
    },
    {
     "name": "stdout",
     "output_type": "stream",
     "text": [
      "hm\\2023-12-19_09-30-40_UTC_1.jpg hm\\2023-12-19_09-30-40_UTC_2.jpg [Bold prints for the winter se…] json \n"
     ]
    },
    {
     "name": "stderr",
     "output_type": "stream",
     "text": [
      "Downloading posts:   4%|██▋                                                           | 22/500 [02:26<47:31,  5.97s/it]"
     ]
    },
    {
     "name": "stdout",
     "output_type": "stream",
     "text": [
      "hm\\2023-12-18_15-08-37_UTC.jpg [The coated trousers & the coa…] json \n"
     ]
    },
    {
     "name": "stderr",
     "output_type": "stream",
     "text": [
      "Downloading posts:   5%|██▊                                                           | 23/500 [02:31<44:10,  5.56s/it]"
     ]
    },
    {
     "name": "stdout",
     "output_type": "stream",
     "text": [
      "hm\\2023-12-18_08-00-20_UTC_1.jpg hm\\2023-12-18_08-00-20_UTC_2.jpg [It’s the season for Teddy Jac…] json \n"
     ]
    },
    {
     "name": "stderr",
     "output_type": "stream",
     "text": [
      "Downloading posts:   5%|██▉                                                           | 24/500 [02:37<45:33,  5.74s/it]"
     ]
    },
    {
     "name": "stdout",
     "output_type": "stream",
     "text": [
      "hm\\2023-12-15_17-00-40_UTC_1.jpg hm\\2023-12-15_17-00-40_UTC_2.jpg hm\\2023-12-15_17-00-40_UTC_3.jpg [H&M Holiday. #HM] json \n"
     ]
    },
    {
     "name": "stderr",
     "output_type": "stream",
     "text": [
      "Downloading posts:   5%|███                                                           | 25/500 [02:42<42:54,  5.42s/it]"
     ]
    },
    {
     "name": "stdout",
     "output_type": "stream",
     "text": [
      "hm\\2023-12-15_12-05-03_UTC_1.jpg hm\\2023-12-15_12-05-03_UTC_2.jpg hm\\2023-12-15_12-05-03_UTC_3.jpg [Statement sparkle from the Ho…] json \n"
     ]
    },
    {
     "name": "stderr",
     "output_type": "stream",
     "text": [
      "Downloading posts:   5%|███▏                                                          | 26/500 [02:51<50:58,  6.45s/it]"
     ]
    },
    {
     "name": "stdout",
     "output_type": "stream",
     "text": [
      "hm\\2023-12-14_12-01-48_UTC_1.jpg hm\\2023-12-14_12-01-48_UTC_2.jpg [Attention to detail. #HM] json \n"
     ]
    },
    {
     "name": "stderr",
     "output_type": "stream",
     "text": [
      "Downloading posts:   5%|███▎                                                          | 27/500 [02:58<52:37,  6.68s/it]"
     ]
    },
    {
     "name": "stdout",
     "output_type": "stream",
     "text": [
      "hm\\2023-12-13_09-29-24_UTC_1.jpg hm\\2023-12-13_09-29-24_UTC_2.jpg hm\\2023-12-13_09-29-24_UTC_3.jpg [The Holiday collection is out…] json \n"
     ]
    },
    {
     "name": "stderr",
     "output_type": "stream",
     "text": [
      "Downloading posts:   6%|███▍                                                          | 28/500 [03:03<47:57,  6.10s/it]"
     ]
    },
    {
     "name": "stdout",
     "output_type": "stream",
     "text": [
      "hm\\2023-12-12_12-00-46_UTC_1.jpg hm\\2023-12-12_12-00-46_UTC_2.jpg hm\\2023-12-12_12-00-46_UTC_3.jpg [New beauty arrivals from the …] json \n"
     ]
    },
    {
     "name": "stderr",
     "output_type": "stream",
     "text": [
      "Downloading posts:   6%|███▌                                                          | 29/500 [03:09<49:22,  6.29s/it]"
     ]
    },
    {
     "name": "stdout",
     "output_type": "stream",
     "text": [
      "hm\\2023-12-12_08-35-26_UTC_1.jpg hm\\2023-12-12_08-35-26_UTC_2.jpg hm\\2023-12-12_08-35-26_UTC_3.jpg hm\\2023-12-12_08-35-26_UTC_4.jpg hm\\2023-12-12_08-35-26_UTC_5.jpg [A spotlight on men’s accessor…] json \n"
     ]
    },
    {
     "name": "stderr",
     "output_type": "stream",
     "text": [
      "Downloading posts:   6%|███▋                                                          | 30/500 [03:18<53:38,  6.85s/it]"
     ]
    },
    {
     "name": "stdout",
     "output_type": "stream",
     "text": [
      "hm\\2023-12-11_17-00-13_UTC_1.jpg hm\\2023-12-11_17-00-13_UTC_2.jpg hm\\2023-12-11_17-00-13_UTC_3.jpg hm\\2023-12-11_17-00-13_UTC_4.jpg [Party looks for the little on…] json \n"
     ]
    },
    {
     "name": "stderr",
     "output_type": "stream",
     "text": [
      "Downloading posts:   6%|███▊                                                          | 31/500 [03:22<47:45,  6.11s/it]"
     ]
    },
    {
     "name": "stdout",
     "output_type": "stream",
     "text": [
      "hm\\2023-12-11_12-17-14_UTC_1.jpg hm\\2023-12-11_12-17-14_UTC_2.jpg [H&M Holiday. #HM] json \n"
     ]
    },
    {
     "name": "stderr",
     "output_type": "stream",
     "text": [
      "Downloading posts:   6%|███▉                                                          | 32/500 [03:26<43:10,  5.54s/it]"
     ]
    },
    {
     "name": "stdout",
     "output_type": "stream",
     "text": [
      "hm\\2023-12-11_08-00-17_UTC_1.jpg hm\\2023-12-11_08-00-17_UTC_2.jpg hm\\2023-12-11_08-00-17_UTC_3.jpg [Take a peek at our Holiday sh…] json \n"
     ]
    },
    {
     "name": "stderr",
     "output_type": "stream",
     "text": [
      "Downloading posts:   7%|████                                                          | 33/500 [03:34<48:24,  6.22s/it]"
     ]
    },
    {
     "name": "stdout",
     "output_type": "stream",
     "text": [
      "hm\\2023-12-08_14-01-53_UTC_1.jpg hm\\2023-12-08_14-01-53_UTC_2.jpg hm\\2023-12-08_14-01-53_UTC_3.jpg hm\\2023-12-08_14-01-53_UTC_4.jpg hm\\2023-12-08_14-01-53_UTC_5.jpg [Tube Girl @sabrinabahsoon cau…] json \n"
     ]
    },
    {
     "name": "stderr",
     "output_type": "stream",
     "text": [
      "Downloading posts:   7%|████▏                                                         | 34/500 [03:39<45:24,  5.85s/it]"
     ]
    },
    {
     "name": "stdout",
     "output_type": "stream",
     "text": [
      "hm\\2023-12-08_11-00-12_UTC_1.jpg hm\\2023-12-08_11-00-12_UTC_2.jpg [Unexpectedly timeless. The H&…] json \n"
     ]
    },
    {
     "name": "stderr",
     "output_type": "stream",
     "text": [
      "Downloading posts:   7%|████▎                                                         | 35/500 [03:44<43:46,  5.65s/it]"
     ]
    },
    {
     "name": "stdout",
     "output_type": "stream",
     "text": [
      "hm\\2023-12-08_08-01-32_UTC.jpg [Reserved for special occasion…] json \n"
     ]
    },
    {
     "name": "stderr",
     "output_type": "stream",
     "text": [
      "Downloading posts:   7%|████▍                                                         | 36/500 [03:49<41:23,  5.35s/it]"
     ]
    },
    {
     "name": "stdout",
     "output_type": "stream",
     "text": [
      "hm\\2023-12-07_16-00-13_UTC.jpg [Reserved for special occasion…] json \n"
     ]
    },
    {
     "name": "stderr",
     "output_type": "stream",
     "text": [
      "Downloading posts:   7%|████▌                                                         | 37/500 [03:55<44:10,  5.73s/it]"
     ]
    },
    {
     "name": "stdout",
     "output_type": "stream",
     "text": [
      "hm\\2023-12-07_13-22-26_UTC_1.jpg hm\\2023-12-07_13-22-26_UTC_2.jpg hm\\2023-12-07_13-22-26_UTC_3.jpg [Finding the balance between m…] json \n"
     ]
    },
    {
     "name": "stderr",
     "output_type": "stream",
     "text": [
      "Downloading posts:   8%|████▋                                                         | 38/500 [03:59<39:40,  5.15s/it]"
     ]
    },
    {
     "name": "stdout",
     "output_type": "stream",
     "text": [
      "hm\\2023-12-07_08-30-48_UTC_1.jpg hm\\2023-12-07_08-30-48_UTC_2.jpg [Introducing a new eveningwear…] json \n"
     ]
    },
    {
     "name": "stderr",
     "output_type": "stream",
     "text": [
      "Downloading posts:   8%|████▊                                                         | 39/500 [04:03<37:27,  4.87s/it]"
     ]
    },
    {
     "name": "stdout",
     "output_type": "stream",
     "text": [
      "hm\\2023-12-06_12-11-11_UTC_1.jpg hm\\2023-12-06_12-11-11_UTC_2.jpg [Tailored for the Holidays. #HM] json \n"
     ]
    },
    {
     "name": "stderr",
     "output_type": "stream",
     "text": [
      "Downloading posts:   8%|████▉                                                         | 40/500 [04:10<40:29,  5.28s/it]"
     ]
    },
    {
     "name": "stdout",
     "output_type": "stream",
     "text": [
      "hm\\2023-12-06_09-12-19_UTC_1.jpg hm\\2023-12-06_09-12-19_UTC_2.jpg [Current obsession: the sequin…] json \n"
     ]
    },
    {
     "name": "stderr",
     "output_type": "stream",
     "text": [
      "Downloading posts:   8%|█████                                                         | 41/500 [04:17<45:01,  5.88s/it]"
     ]
    },
    {
     "name": "stdout",
     "output_type": "stream",
     "text": [
      "hm\\2023-12-05_11-13-44_UTC_1.jpg hm\\2023-12-05_11-13-44_UTC_2.jpg hm\\2023-12-05_11-13-44_UTC_3.jpg [Suki Waterhouse wears H&M Stu…] json \n"
     ]
    },
    {
     "name": "stderr",
     "output_type": "stream",
     "text": [
      "Downloading posts:   8%|█████▏                                                        | 42/500 [04:21<40:30,  5.31s/it]"
     ]
    },
    {
     "name": "stdout",
     "output_type": "stream",
     "text": [
      "hm\\2023-12-01_17-18-09_UTC.jpg [Coming soon: H&M Studio Holid…] json \n"
     ]
    },
    {
     "name": "stderr",
     "output_type": "stream",
     "text": [
      "Downloading posts:   9%|█████▎                                                        | 43/500 [04:27<43:25,  5.70s/it]"
     ]
    },
    {
     "name": "stdout",
     "output_type": "stream",
     "text": [
      "hm\\2023-12-01_12-10-03_UTC.jpg [Jewellery from the H&M Studio…] hm\\2023-12-01_12-10-03_UTC.mp4 json \n"
     ]
    },
    {
     "name": "stderr",
     "output_type": "stream",
     "text": [
      "Downloading posts:   9%|█████▍                                                        | 44/500 [04:33<43:03,  5.66s/it]"
     ]
    },
    {
     "name": "stdout",
     "output_type": "stream",
     "text": [
      "hm\\2023-12-01_08-31-33_UTC.jpg [Next up: H&M Studio Holiday C…] json \n"
     ]
    },
    {
     "name": "stderr",
     "output_type": "stream",
     "text": [
      "Downloading posts:   9%|█████▌                                                        | 45/500 [04:39<42:51,  5.65s/it]"
     ]
    },
    {
     "name": "stdout",
     "output_type": "stream",
     "text": [
      "hm\\2023-11-30_20-27-36_UTC.jpg [The H&M Studio Holiday Capsul…] json \n"
     ]
    },
    {
     "name": "stderr",
     "output_type": "stream",
     "text": [
      "Downloading posts:   9%|█████▋                                                        | 46/500 [04:42<38:07,  5.04s/it]"
     ]
    },
    {
     "name": "stdout",
     "output_type": "stream",
     "text": [
      "hm\\2023-11-30_20-26-54_UTC.jpg [An intuitive approach to even…] json \n"
     ]
    },
    {
     "name": "stderr",
     "output_type": "stream",
     "text": [
      "Downloading posts:   9%|█████▊                                                        | 47/500 [04:50<44:03,  5.83s/it]"
     ]
    },
    {
     "name": "stdout",
     "output_type": "stream",
     "text": [
      "hm\\2023-11-30_08-12-08_UTC.jpg [The H&M Studio Holiday Capsul…] json \n"
     ]
    },
    {
     "name": "stderr",
     "output_type": "stream",
     "text": [
      "Downloading posts:  10%|█████▉                                                        | 48/500 [04:54<38:59,  5.18s/it]"
     ]
    },
    {
     "name": "stdout",
     "output_type": "stream",
     "text": [
      "hm\\2023-11-29_08-46-34_UTC.jpg [ROTATE x H&M: 10 unique piece…] json \n"
     ]
    },
    {
     "name": "stderr",
     "output_type": "stream",
     "text": [
      "Downloading posts:  10%|██████                                                        | 49/500 [04:57<35:22,  4.71s/it]"
     ]
    },
    {
     "name": "stdout",
     "output_type": "stream",
     "text": [
      "hm\\2023-11-28_17-11-06_UTC_1.jpg hm\\2023-11-28_17-11-06_UTC_2.jpg hm\\2023-11-28_17-11-06_UTC_3.jpg [\"This collaboration feels lik…] json \n"
     ]
    },
    {
     "name": "stderr",
     "output_type": "stream",
     "text": [
      "Downloading posts:  10%|██████▏                                                       | 50/500 [05:05<42:07,  5.62s/it]"
     ]
    },
    {
     "name": "stdout",
     "output_type": "stream",
     "text": [
      "hm\\2023-11-28_08-07-37_UTC.jpg [Presenting our latest collab,…] json \n"
     ]
    },
    {
     "name": "stderr",
     "output_type": "stream",
     "text": [
      "Downloading posts:  10%|██████▎                                                       | 51/500 [05:08<35:23,  4.73s/it]"
     ]
    },
    {
     "name": "stdout",
     "output_type": "stream",
     "text": [
      "hm\\2023-11-24_09-56-12_UTC.jpg [New in: The Holiday collectio…] hm\\2023-11-24_09-56-12_UTC.mp4 json \n"
     ]
    },
    {
     "name": "stderr",
     "output_type": "stream",
     "text": [
      "Downloading posts:  10%|██████▍                                                       | 52/500 [05:14<38:57,  5.22s/it]"
     ]
    },
    {
     "name": "stdout",
     "output_type": "stream",
     "text": [
      "hm\\2023-11-23_09-33-21_UTC.jpg [The recipe for the perfect mo…] hm\\2023-11-23_09-33-21_UTC.mp4 json \n"
     ]
    },
    {
     "name": "stderr",
     "output_type": "stream",
     "text": [
      "Downloading posts:  11%|██████▌                                                       | 53/500 [05:23<47:07,  6.33s/it]"
     ]
    },
    {
     "name": "stdout",
     "output_type": "stream",
     "text": [
      "hm\\2023-11-22_15-09-49_UTC.jpg [H&M Holiday is out now. #HM] hm\\2023-11-22_15-09-49_UTC.mp4 json \n"
     ]
    },
    {
     "name": "stderr",
     "output_type": "stream",
     "text": [
      "Downloading posts:  11%|██████▋                                                       | 54/500 [05:28<43:26,  5.84s/it]"
     ]
    },
    {
     "name": "stdout",
     "output_type": "stream",
     "text": [
      "hm\\2023-11-22_09-12-01_UTC_1.jpg hm\\2023-11-22_09-12-01_UTC_2.jpg hm\\2023-11-22_09-12-01_UTC_3.jpg hm\\2023-11-22_09-12-01_UTC_4.jpg [Holiday newness. #HM] json \n"
     ]
    },
    {
     "name": "stderr",
     "output_type": "stream",
     "text": [
      "Downloading posts:  11%|██████▊                                                       | 55/500 [05:35<46:50,  6.32s/it]"
     ]
    },
    {
     "name": "stdout",
     "output_type": "stream",
     "text": [
      "hm\\2023-11-21_16-23-04_UTC_1.jpg hm\\2023-11-21_16-23-04_UTC_2.jpg hm\\2023-11-21_16-23-04_UTC_3.jpg hm\\2023-11-21_16-23-04_UTC_4.jpg hm\\2023-11-21_16-23-04_UTC_5.jpg [Monochrome elegance from the …] json \n"
     ]
    },
    {
     "name": "stderr",
     "output_type": "stream",
     "text": [
      "Downloading posts:  11%|██████▉                                                       | 56/500 [05:43<50:19,  6.80s/it]"
     ]
    },
    {
     "name": "stdout",
     "output_type": "stream",
     "text": [
      "hm\\2023-11-21_13-26-56_UTC_1.jpg hm\\2023-11-21_13-26-56_UTC_2.jpg hm\\2023-11-21_13-26-56_UTC_3.jpg hm\\2023-11-21_13-26-56_UTC_4.jpg [Party looks straight from the…] json \n"
     ]
    },
    {
     "name": "stderr",
     "output_type": "stream",
     "text": [
      "Downloading posts:  11%|███████                                                       | 57/500 [05:47<44:34,  6.04s/it]"
     ]
    },
    {
     "name": "stdout",
     "output_type": "stream",
     "text": [
      "hm\\2023-11-21_08-32-35_UTC.jpg [The Holiday season calls for …] json \n"
     ]
    },
    {
     "name": "stderr",
     "output_type": "stream",
     "text": [
      "Downloading posts:  12%|███████▏                                                      | 58/500 [05:55<47:59,  6.51s/it]"
     ]
    },
    {
     "name": "stdout",
     "output_type": "stream",
     "text": [
      "hm\\2023-11-20_14-06-50_UTC.jpg [Say it with a gift. #HM] hm\\2023-11-20_14-06-50_UTC.mp4 json \n"
     ]
    },
    {
     "name": "stderr",
     "output_type": "stream",
     "text": [
      "Downloading posts:  12%|███████▎                                                      | 59/500 [06:00<44:51,  6.10s/it]"
     ]
    },
    {
     "name": "stdout",
     "output_type": "stream",
     "text": [
      "hm\\2023-11-20_09-03-44_UTC.jpg [H&M Holiday. #HM] json \n"
     ]
    },
    {
     "name": "stderr",
     "output_type": "stream",
     "text": [
      "Downloading posts:  12%|███████▍                                                      | 60/500 [06:04<39:28,  5.38s/it]"
     ]
    },
    {
     "name": "stdout",
     "output_type": "stream",
     "text": [
      "hm\\2023-11-17_09-27-25_UTC.jpg [Couple goals in the Holiday c…] json \n"
     ]
    },
    {
     "name": "stderr",
     "output_type": "stream",
     "text": [
      "Downloading posts:  12%|███████▌                                                      | 61/500 [06:11<44:15,  6.05s/it]"
     ]
    },
    {
     "name": "stdout",
     "output_type": "stream",
     "text": [
      "hm\\2023-11-16_18-49-09_UTC_1.jpg hm\\2023-11-16_18-49-09_UTC_2.jpg hm\\2023-11-16_18-49-09_UTC_2.mp4 [Togetherness 101 with Paloma,…] json \n"
     ]
    },
    {
     "name": "stderr",
     "output_type": "stream",
     "text": [
      "Downloading posts:  12%|███████▋                                                      | 62/500 [06:19<48:10,  6.60s/it]"
     ]
    },
    {
     "name": "stdout",
     "output_type": "stream",
     "text": [
      "hm\\2023-11-16_12-05-00_UTC.jpg [Coordinate your holiday seaso…] json \n"
     ]
    },
    {
     "name": "stderr",
     "output_type": "stream",
     "text": [
      "Downloading posts:  13%|███████▊                                                      | 63/500 [06:26<49:39,  6.82s/it]"
     ]
    },
    {
     "name": "stdout",
     "output_type": "stream",
     "text": [
      "hm\\2023-11-16_08-47-21_UTC.jpg [Double the fun in the H&M Hol…] json \n"
     ]
    },
    {
     "name": "stderr",
     "output_type": "stream",
     "text": [
      "Downloading posts:  13%|███████▉                                                      | 64/500 [06:29<40:34,  5.58s/it]"
     ]
    },
    {
     "name": "stdout",
     "output_type": "stream",
     "text": [
      "hm\\2023-11-15_18-59-17_UTC.jpg [The Holiday collection is out…] json \n"
     ]
    },
    {
     "name": "stderr",
     "output_type": "stream",
     "text": [
      "Downloading posts:  13%|████████                                                      | 65/500 [06:33<36:08,  4.99s/it]"
     ]
    },
    {
     "name": "stdout",
     "output_type": "stream",
     "text": [
      "hm\\2023-11-15_08-34-09_UTC.jpg [Style runs in the family. Dis…] json \n"
     ]
    },
    {
     "name": "stderr",
     "output_type": "stream",
     "text": [
      "Downloading posts:  13%|████████▏                                                     | 66/500 [06:40<41:51,  5.79s/it]"
     ]
    },
    {
     "name": "stdout",
     "output_type": "stream",
     "text": [
      "hm\\2023-11-14_12-17-23_UTC.jpg [H&M Holiday. #HM] json \n"
     ]
    },
    {
     "name": "stderr",
     "output_type": "stream",
     "text": [
      "Downloading posts:  13%|████████▎                                                     | 67/500 [06:48<45:39,  6.33s/it]"
     ]
    },
    {
     "name": "stdout",
     "output_type": "stream",
     "text": [
      "hm\\2023-11-14_08-06-12_UTC.jpg [Don't miss the Holiday collec…] json \n"
     ]
    },
    {
     "name": "stderr",
     "output_type": "stream",
     "text": [
      "Downloading posts:  14%|████████▍                                                     | 68/500 [06:51<37:36,  5.22s/it]"
     ]
    },
    {
     "name": "stdout",
     "output_type": "stream",
     "text": [
      "hm\\2023-11-13_09-48-44_UTC.jpg [Just arrived: The Holiday col…] hm\\2023-11-13_09-48-44_UTC.mp4 json \n"
     ]
    },
    {
     "name": "stderr",
     "output_type": "stream",
     "text": [
      "Downloading posts:  14%|████████▌                                                     | 69/500 [06:55<36:27,  5.08s/it]"
     ]
    },
    {
     "name": "stdout",
     "output_type": "stream",
     "text": [
      "hm\\2023-11-09_11-09-13_UTC.jpg [#rabanneHM by @juliendossena …] hm\\2023-11-09_11-09-13_UTC.mp4 json \n"
     ]
    },
    {
     "name": "stderr",
     "output_type": "stream",
     "text": [
      "Downloading posts:  14%|████████▋                                                     | 70/500 [07:01<38:28,  5.37s/it]"
     ]
    },
    {
     "name": "stdout",
     "output_type": "stream",
     "text": [
      "hm\\2023-11-09_10-16-53_UTC.jpg [Out today! #rabanneHM is avai…] json \n"
     ]
    },
    {
     "name": "stderr",
     "output_type": "stream",
     "text": [
      "Downloading posts:  14%|████████▊                                                     | 71/500 [07:04<32:31,  4.55s/it]"
     ]
    },
    {
     "name": "stdout",
     "output_type": "stream",
     "text": [
      "hm\\2023-11-08_12-03-34_UTC.jpg [Playful, luxurious and dazzli…] json \n"
     ]
    },
    {
     "name": "stderr",
     "output_type": "stream",
     "text": [
      "Downloading posts:  14%|████████▉                                                     | 72/500 [07:08<30:33,  4.28s/it]"
     ]
    },
    {
     "name": "stdout",
     "output_type": "stream",
     "text": [
      "hm\\2023-11-08_08-47-42_UTC.jpg [Dynamic pieces for women, men…] json \n"
     ]
    },
    {
     "name": "stderr",
     "output_type": "stream",
     "text": [
      "Downloading posts:  15%|█████████                                                     | 73/500 [07:12<31:15,  4.39s/it]"
     ]
    },
    {
     "name": "stdout",
     "output_type": "stream",
     "text": [
      "hm\\2023-11-07_13-20-26_UTC.jpg [#rabanneHM is inspired by dis…] json \n"
     ]
    },
    {
     "name": "stderr",
     "output_type": "stream",
     "text": [
      "Downloading posts:  15%|█████████▏                                                    | 74/500 [07:16<29:30,  4.16s/it]"
     ]
    },
    {
     "name": "stdout",
     "output_type": "stream",
     "text": [
      "hm\\2023-11-07_09-02-54_UTC.jpg [Step into the light. #rabanne…] json \n"
     ]
    },
    {
     "name": "stderr",
     "output_type": "stream",
     "text": [
      "Downloading posts:  15%|█████████▎                                                    | 75/500 [07:21<30:25,  4.29s/it]"
     ]
    },
    {
     "name": "stdout",
     "output_type": "stream",
     "text": [
      "hm\\2023-11-06_15-12-10_UTC.jpg [A golden fantasy. #rabanneHM …] json \n"
     ]
    },
    {
     "name": "stderr",
     "output_type": "stream",
     "text": [
      "Downloading posts:  15%|█████████▍                                                    | 76/500 [07:27<35:20,  5.00s/it]"
     ]
    },
    {
     "name": "stdout",
     "output_type": "stream",
     "text": [
      "hm\\2023-11-06_11-03-20_UTC.jpg [Chain mail chic. #rabanneHM l…] json \n"
     ]
    },
    {
     "name": "stderr",
     "output_type": "stream",
     "text": [
      "Downloading posts:  15%|█████████▌                                                    | 77/500 [07:30<30:14,  4.29s/it]"
     ]
    },
    {
     "name": "stdout",
     "output_type": "stream",
     "text": [
      "hm\\2023-11-06_08-19-52_UTC.jpg [Dynamic style informed by rad…] hm\\2023-11-06_08-19-52_UTC.mp4 json \n"
     ]
    },
    {
     "name": "stderr",
     "output_type": "stream",
     "text": [
      "Downloading posts:  16%|█████████▋                                                    | 78/500 [07:34<28:53,  4.11s/it]"
     ]
    },
    {
     "name": "stdout",
     "output_type": "stream",
     "text": [
      "hm\\2023-11-04_15-34-28_UTC.jpg [The vending machine stocked w…] hm\\2023-11-04_15-34-28_UTC.mp4 json \n"
     ]
    },
    {
     "name": "stderr",
     "output_type": "stream",
     "text": [
      "Downloading posts:  16%|█████████▊                                                    | 79/500 [07:41<34:57,  4.98s/it]"
     ]
    },
    {
     "name": "stdout",
     "output_type": "stream",
     "text": [
      "hm\\2023-11-03_16-02-26_UTC_1.jpg hm\\2023-11-03_16-02-26_UTC_2.jpg hm\\2023-11-03_16-02-26_UTC_3.jpg hm\\2023-11-03_16-02-26_UTC_4.jpg [The slouchy power suit look. …] json \n"
     ]
    },
    {
     "name": "stderr",
     "output_type": "stream",
     "text": [
      "Downloading posts:  16%|█████████▉                                                    | 80/500 [07:50<43:53,  6.27s/it]"
     ]
    },
    {
     "name": "stdout",
     "output_type": "stream",
     "text": [
      "hm\\2023-11-03_09-19-57_UTC_1.jpg hm\\2023-11-03_09-19-57_UTC_2.jpg hm\\2023-11-03_09-19-57_UTC_3.jpg hm\\2023-11-03_09-19-57_UTC_4.jpg hm\\2023-11-03_09-19-57_UTC_5.jpg hm\\2023-11-03_09-19-57_UTC_6.jpg [The renaissance of silver. #HM] json \n"
     ]
    },
    {
     "name": "stderr",
     "output_type": "stream",
     "text": [
      "Downloading posts:  16%|██████████                                                    | 81/500 [07:55<42:16,  6.05s/it]"
     ]
    },
    {
     "name": "stdout",
     "output_type": "stream",
     "text": [
      "hm\\2023-11-02_16-11-36_UTC_1.jpg hm\\2023-11-02_16-11-36_UTC_2.jpg hm\\2023-11-02_16-11-36_UTC_3.jpg [The Studio A/W 2023 as worn b…] json \n"
     ]
    },
    {
     "name": "stderr",
     "output_type": "stream",
     "text": [
      "Downloading posts:  16%|██████████▏                                                   | 82/500 [08:01<41:29,  5.96s/it]"
     ]
    },
    {
     "name": "stdout",
     "output_type": "stream",
     "text": [
      "hm\\2023-11-02_08-46-44_UTC.jpg [The bigger the better bag. #HM] hm\\2023-11-02_08-46-44_UTC.mp4 json \n"
     ]
    },
    {
     "name": "stderr",
     "output_type": "stream",
     "text": [
      "Downloading posts:  17%|██████████▎                                                   | 83/500 [08:06<39:55,  5.75s/it]"
     ]
    },
    {
     "name": "stdout",
     "output_type": "stream",
     "text": [
      "hm\\2023-11-01_16-18-45_UTC.jpg [The dress up and down look. #hm] json \n"
     ]
    },
    {
     "name": "stderr",
     "output_type": "stream",
     "text": [
      "Downloading posts:  17%|██████████▍                                                   | 84/500 [08:12<39:31,  5.70s/it]"
     ]
    },
    {
     "name": "stdout",
     "output_type": "stream",
     "text": [
      "hm\\2023-11-01_07-42-43_UTC_1.jpg hm\\2023-11-01_07-42-43_UTC_2.jpg hm\\2023-11-01_07-42-43_UTC_3.jpg [The night daytime look. #HM] json \n"
     ]
    },
    {
     "name": "stderr",
     "output_type": "stream",
     "text": [
      "Downloading posts:  17%|██████████▌                                                   | 85/500 [08:18<39:32,  5.72s/it]"
     ]
    },
    {
     "name": "stdout",
     "output_type": "stream",
     "text": [
      "hm\\2023-10-31_12-05-06_UTC.jpg [The tube socks cowboy look. #HM] json \n"
     ]
    },
    {
     "name": "stderr",
     "output_type": "stream",
     "text": [
      "Downloading posts:  17%|██████████▋                                                   | 86/500 [08:23<39:21,  5.70s/it]"
     ]
    },
    {
     "name": "stdout",
     "output_type": "stream",
     "text": [
      "hm\\2023-10-30_12-03-21_UTC_1.jpg hm\\2023-10-30_12-03-21_UTC_2.jpg hm\\2023-10-30_12-03-21_UTC_3.jpg [The mini dress and knee-highs…] json \n"
     ]
    },
    {
     "name": "stderr",
     "output_type": "stream",
     "text": [
      "Downloading posts:  17%|██████████▊                                                   | 87/500 [08:30<41:24,  6.02s/it]"
     ]
    },
    {
     "name": "stdout",
     "output_type": "stream",
     "text": [
      "hm\\2023-10-27_14-49-11_UTC_1.jpg hm\\2023-10-27_14-49-11_UTC_2.jpg hm\\2023-10-27_14-49-11_UTC_3.jpg hm\\2023-10-27_14-49-11_UTC_4.jpg [Brilliant homeware by @julien…] json \n"
     ]
    },
    {
     "name": "stderr",
     "output_type": "stream",
     "text": [
      "Downloading posts:  18%|██████████▉                                                   | 88/500 [08:35<38:18,  5.58s/it]"
     ]
    },
    {
     "name": "stdout",
     "output_type": "stream",
     "text": [
      "hm\\2023-10-27_11-01-52_UTC_1.jpg hm\\2023-10-27_11-01-52_UTC_2.jpg hm\\2023-10-27_11-01-52_UTC_3.jpg hm\\2023-10-27_11-01-52_UTC_4.jpg hm\\2023-10-27_11-01-52_UTC_5.jpg [“Rabanne is a brand built on …] json \n"
     ]
    },
    {
     "name": "stderr",
     "output_type": "stream",
     "text": [
      "Downloading posts:  18%|███████████                                                   | 89/500 [08:44<45:14,  6.60s/it]"
     ]
    },
    {
     "name": "stdout",
     "output_type": "stream",
     "text": [
      "hm\\2023-10-27_08-13-36_UTC_1.jpg hm\\2023-10-27_08-13-36_UTC_2.jpg hm\\2023-10-27_08-13-36_UTC_3.jpg hm\\2023-10-27_08-13-36_UTC_4.jpg hm\\2023-10-27_08-13-36_UTC_5.jpg [Paillette perfection. A signa…] json \n"
     ]
    },
    {
     "name": "stderr",
     "output_type": "stream",
     "text": [
      "Downloading posts:  18%|███████████▏                                                  | 90/500 [08:49<41:40,  6.10s/it]"
     ]
    },
    {
     "name": "stdout",
     "output_type": "stream",
     "text": [
      "hm\\2023-10-26_16-29-37_UTC_1.jpg hm\\2023-10-26_16-29-37_UTC_2.jpg hm\\2023-10-26_16-29-37_UTC_3.jpg hm\\2023-10-26_16-29-37_UTC_4.jpg hm\\2023-10-26_16-29-37_UTC_5.jpg hm\\2023-10-26_16-29-37_UTC_6.jpg hm\\2023-10-26_16-29-37_UTC_7.jpg [“Paco Rabanne was a genius wh…] json \n"
     ]
    },
    {
     "name": "stderr",
     "output_type": "stream",
     "text": [
      "Downloading posts:  18%|███████████▎                                                  | 91/500 [09:00<51:41,  7.58s/it]"
     ]
    },
    {
     "name": "stdout",
     "output_type": "stream",
     "text": [
      "hm\\2023-10-26_10-04-46_UTC_1.jpg hm\\2023-10-26_10-04-46_UTC_2.jpg hm\\2023-10-26_10-04-46_UTC_3.jpg hm\\2023-10-26_10-04-46_UTC_4.jpg hm\\2023-10-26_10-04-46_UTC_5.jpg hm\\2023-10-26_10-04-46_UTC_6.jpg hm\\2023-10-26_10-04-46_UTC_7.jpg [@rabanne’s creative director …] json \n"
     ]
    },
    {
     "name": "stderr",
     "output_type": "stream",
     "text": [
      "Downloading posts:  18%|███████████▍                                                  | 92/500 [09:07<50:27,  7.42s/it]"
     ]
    },
    {
     "name": "stdout",
     "output_type": "stream",
     "text": [
      "hm\\2023-10-26_06-43-37_UTC_1.jpg hm\\2023-10-26_06-43-37_UTC_2.jpg hm\\2023-10-26_06-43-37_UTC_3.jpg hm\\2023-10-26_06-43-37_UTC_4.jpg hm\\2023-10-26_06-43-37_UTC_5.jpg hm\\2023-10-26_06-43-37_UTC_6.jpg hm\\2023-10-26_06-43-37_UTC_7.jpg [“As a designer, I’ve always b…] json \n"
     ]
    },
    {
     "name": "stderr",
     "output_type": "stream",
     "text": [
      "Downloading posts:  19%|███████████▌                                                  | 93/500 [09:15<51:29,  7.59s/it]"
     ]
    },
    {
     "name": "stdout",
     "output_type": "stream",
     "text": [
      "hm\\2023-10-24_14-27-02_UTC.jpg [Bring @rabanne home. The #rab…] hm\\2023-10-24_14-27-02_UTC.mp4 json \n"
     ]
    },
    {
     "name": "stderr",
     "output_type": "stream",
     "text": [
      "Downloading posts:  19%|███████████▋                                                  | 94/500 [09:18<43:20,  6.41s/it]"
     ]
    },
    {
     "name": "stdout",
     "output_type": "stream",
     "text": [
      "hm\\2023-10-24_11-05-11_UTC.jpg [“For this collaboration, I wa…] hm\\2023-10-24_11-05-11_UTC.mp4 json \n"
     ]
    },
    {
     "name": "stderr",
     "output_type": "stream",
     "text": [
      "Downloading posts:  19%|███████████▊                                                  | 95/500 [09:27<47:18,  7.01s/it]"
     ]
    },
    {
     "name": "stdout",
     "output_type": "stream",
     "text": [
      "hm\\2023-10-24_07-52-41_UTC.jpg [We’re unveiling a radiant new…] hm\\2023-10-24_07-52-41_UTC.mp4 json \n"
     ]
    },
    {
     "name": "stderr",
     "output_type": "stream",
     "text": [
      "Downloading posts:  19%|███████████▉                                                  | 96/500 [09:34<46:34,  6.92s/it]"
     ]
    },
    {
     "name": "stdout",
     "output_type": "stream",
     "text": [
      "hm\\2023-10-23_14-01-02_UTC_1.jpg hm\\2023-10-23_14-01-02_UTC_2.jpg hm\\2023-10-23_14-01-02_UTC_3.jpg [A/W 2023 drop 3 is now live. …] json \n"
     ]
    },
    {
     "name": "stderr",
     "output_type": "stream",
     "text": [
      "Downloading posts:  19%|████████████                                                  | 97/500 [09:40<46:26,  6.92s/it]"
     ]
    },
    {
     "name": "stdout",
     "output_type": "stream",
     "text": [
      "hm\\2023-10-23_11-00-13_UTC_1.jpg hm\\2023-10-23_11-00-13_UTC_2.jpg hm\\2023-10-23_11-00-13_UTC_3.jpg [New in. Drop 3 from A/W 2023.…] json \n"
     ]
    },
    {
     "name": "stderr",
     "output_type": "stream",
     "text": [
      "Downloading posts:  20%|████████████▏                                                 | 98/500 [09:48<47:11,  7.04s/it]"
     ]
    },
    {
     "name": "stdout",
     "output_type": "stream",
     "text": [
      "hm\\2023-10-23_07-41-20_UTC_1.jpg hm\\2023-10-23_07-41-20_UTC_2.jpg hm\\2023-10-23_07-41-20_UTC_3.jpg [A/W 2023: Drop 3. #HM] json \n"
     ]
    },
    {
     "name": "stderr",
     "output_type": "stream",
     "text": [
      "Downloading posts:  20%|████████████▎                                                 | 99/500 [09:53<42:29,  6.36s/it]"
     ]
    },
    {
     "name": "stdout",
     "output_type": "stream",
     "text": [
      "hm\\2023-10-22_11-15-15_UTC.jpg [Bold red lips. Timeless lash …] hm\\2023-10-22_11-15-15_UTC.mp4 json \n"
     ]
    },
    {
     "name": "stderr",
     "output_type": "stream",
     "text": [
      "Downloading posts:  20%|████████████▏                                                | 100/500 [10:00<45:17,  6.79s/it]"
     ]
    },
    {
     "name": "stdout",
     "output_type": "stream",
     "text": [
      "hm\\2023-10-20_10-40-43_UTC.jpg [Just calling to let you know …] hm\\2023-10-20_10-40-43_UTC.mp4 json \n"
     ]
    },
    {
     "name": "stderr",
     "output_type": "stream",
     "text": [
      "Downloading posts:  20%|████████████▎                                                | 101/500 [10:08<46:29,  6.99s/it]"
     ]
    },
    {
     "name": "stdout",
     "output_type": "stream",
     "text": [
      "hm\\2023-10-19_12-01-11_UTC.jpg [Let makeup do the talking. Ou…] hm\\2023-10-19_12-01-11_UTC.mp4 json \n"
     ]
    },
    {
     "name": "stderr",
     "output_type": "stream",
     "text": [
      "Downloading posts:  20%|████████████▍                                                | 102/500 [10:16<49:34,  7.47s/it]"
     ]
    },
    {
     "name": "stdout",
     "output_type": "stream",
     "text": [
      "hm\\2023-10-18_16-43-59_UTC_1.jpg hm\\2023-10-18_16-43-59_UTC_2.jpg hm\\2023-10-18_16-43-59_UTC_3.jpg [Fluffy, embellished or silky …] json \n"
     ]
    },
    {
     "name": "stderr",
     "output_type": "stream",
     "text": [
      "Downloading posts:  21%|████████████▌                                                | 103/500 [10:22<46:01,  6.96s/it]"
     ]
    },
    {
     "name": "stdout",
     "output_type": "stream",
     "text": [
      "hm\\2023-10-18_12-03-51_UTC_1.jpg hm\\2023-10-18_12-03-51_UTC_2.jpg hm\\2023-10-18_12-03-51_UTC_3.jpg [Two ways with classic monochr…] json \n"
     ]
    },
    {
     "name": "stderr",
     "output_type": "stream",
     "text": [
      "Downloading posts:  21%|████████████▋                                                | 104/500 [10:31<49:26,  7.49s/it]"
     ]
    },
    {
     "name": "stdout",
     "output_type": "stream",
     "text": [
      "hm\\2023-10-18_08-03-53_UTC_1.jpg hm\\2023-10-18_08-03-53_UTC_2.jpg hm\\2023-10-18_08-03-53_UTC_3.jpg [Knit co-ords in creamy shades…] json \n"
     ]
    },
    {
     "name": "stderr",
     "output_type": "stream",
     "text": [
      "Downloading posts:  21%|████████████▊                                                | 105/500 [10:37<46:08,  7.01s/it]"
     ]
    },
    {
     "name": "stdout",
     "output_type": "stream",
     "text": [
      "hm\\2023-10-17_08-23-40_UTC_1.jpg hm\\2023-10-17_08-23-40_UTC_2.jpg [The finishing touches for you…] json \n"
     ]
    },
    {
     "name": "stderr",
     "output_type": "stream",
     "text": [
      "Downloading posts:  21%|████████████▉                                                | 106/500 [10:40<38:37,  5.88s/it]"
     ]
    },
    {
     "name": "stdout",
     "output_type": "stream",
     "text": [
      "hm\\2023-10-16_16-20-51_UTC_1.jpg hm\\2023-10-16_16-20-51_UTC_2.jpg hm\\2023-10-16_16-20-51_UTC_3.jpg [Floral lace and a touch of sp…] json \n"
     ]
    },
    {
     "name": "stderr",
     "output_type": "stream",
     "text": [
      "Downloading posts:  21%|█████████████                                                | 107/500 [10:49<44:27,  6.79s/it]"
     ]
    },
    {
     "name": "stdout",
     "output_type": "stream",
     "text": [
      "hm\\2023-10-16_11-07-47_UTC_1.jpg hm\\2023-10-16_11-07-47_UTC_2.jpg hm\\2023-10-16_11-07-47_UTC_3.jpg [Textured layers. #HM] json \n"
     ]
    },
    {
     "name": "stderr",
     "output_type": "stream",
     "text": [
      "Downloading posts:  22%|█████████████▏                                               | 108/500 [10:54<40:55,  6.26s/it]"
     ]
    },
    {
     "name": "stdout",
     "output_type": "stream",
     "text": [
      "hm\\2023-10-13_14-56-31_UTC.jpg [A little red dress made for l…] json \n"
     ]
    },
    {
     "name": "stderr",
     "output_type": "stream",
     "text": [
      "Downloading posts:  22%|█████████████▎                                               | 109/500 [10:57<33:43,  5.17s/it]"
     ]
    },
    {
     "name": "stdout",
     "output_type": "stream",
     "text": [
      "hm\\2023-10-13_08-04-59_UTC_1.jpg hm\\2023-10-13_08-04-59_UTC_2.jpg hm\\2023-10-13_08-04-59_UTC_3.jpg hm\\2023-10-13_08-04-59_UTC_4.jpg [Tailored, textured and totall…] json \n"
     ]
    },
    {
     "name": "stderr",
     "output_type": "stream",
     "text": [
      "Downloading posts:  22%|█████████████▍                                               | 110/500 [11:01<32:13,  4.96s/it]"
     ]
    },
    {
     "name": "stdout",
     "output_type": "stream",
     "text": [
      "hm\\2023-10-12_14-48-49_UTC.jpg [Little handbag, lots of style…] json \n"
     ]
    },
    {
     "name": "stderr",
     "output_type": "stream",
     "text": [
      "Downloading posts:  22%|█████████████▌                                               | 111/500 [11:06<31:27,  4.85s/it]"
     ]
    },
    {
     "name": "stdout",
     "output_type": "stream",
     "text": [
      "hm\\2023-10-12_11-02-39_UTC_1.jpg hm\\2023-10-12_11-02-39_UTC_2.jpg hm\\2023-10-12_11-02-39_UTC_3.jpg [Sleek and chic in black. #HM] json \n"
     ]
    },
    {
     "name": "stderr",
     "output_type": "stream",
     "text": [
      "Downloading posts:  22%|█████████████▋                                               | 112/500 [11:11<33:12,  5.14s/it]"
     ]
    },
    {
     "name": "stdout",
     "output_type": "stream",
     "text": [
      "hm\\2023-10-11_13-30-46_UTC.jpg [The new stiletto. #HM] json \n"
     ]
    },
    {
     "name": "stderr",
     "output_type": "stream",
     "text": [
      "Downloading posts:  23%|█████████████▊                                               | 113/500 [11:18<36:08,  5.60s/it]"
     ]
    },
    {
     "name": "stdout",
     "output_type": "stream",
     "text": [
      "hm\\2023-10-11_11-29-04_UTC.jpg [Comfort, meet elegance. #HM] json \n"
     ]
    },
    {
     "name": "stderr",
     "output_type": "stream",
     "text": [
      "Downloading posts:  23%|█████████████▉                                               | 114/500 [11:23<34:04,  5.30s/it]"
     ]
    },
    {
     "name": "stdout",
     "output_type": "stream",
     "text": [
      "hm\\2023-10-10_13-34-08_UTC.jpg [The latest drop from H&M Move…] json \n"
     ]
    },
    {
     "name": "stderr",
     "output_type": "stream",
     "text": [
      "Downloading posts:  23%|██████████████                                               | 115/500 [11:29<36:32,  5.69s/it]"
     ]
    },
    {
     "name": "stdout",
     "output_type": "stream",
     "text": [
      "hm\\2023-10-10_08-46-24_UTC_1.jpg hm\\2023-10-10_08-46-24_UTC_2.jpg hm\\2023-10-10_08-46-24_UTC_3.jpg [The gear you need for your ne…] json \n"
     ]
    },
    {
     "name": "stderr",
     "output_type": "stream",
     "text": [
      "Downloading posts:  23%|██████████████▏                                              | 116/500 [11:33<32:41,  5.11s/it]"
     ]
    },
    {
     "name": "stdout",
     "output_type": "stream",
     "text": [
      "hm\\2023-10-09_14-07-59_UTC.jpg [Blaze new trails in the Trail…] hm\\2023-10-09_14-07-59_UTC.mp4 json \n"
     ]
    },
    {
     "name": "stderr",
     "output_type": "stream",
     "text": [
      "Downloading posts:  23%|██████████████▎                                              | 117/500 [11:39<33:51,  5.30s/it]"
     ]
    },
    {
     "name": "stdout",
     "output_type": "stream",
     "text": [
      "hm\\2023-10-06_08-04-49_UTC_1.jpg hm\\2023-10-06_08-04-49_UTC_2.jpg hm\\2023-10-06_08-04-49_UTC_3.jpg [A/W 2023 #HM] json \n"
     ]
    },
    {
     "name": "stderr",
     "output_type": "stream",
     "text": [
      "Downloading posts:  24%|██████████████▍                                              | 118/500 [11:48<40:27,  6.36s/it]"
     ]
    },
    {
     "name": "stdout",
     "output_type": "stream",
     "text": [
      "hm\\2023-10-05_11-03-27_UTC_1.jpg hm\\2023-10-05_11-03-27_UTC_2.jpg hm\\2023-10-05_11-03-27_UTC_3.jpg [A/W 2023 drop 2 is here. #HM] json \n"
     ]
    },
    {
     "name": "stderr",
     "output_type": "stream",
     "text": [
      "Downloading posts:  24%|██████████████▌                                              | 119/500 [11:55<43:07,  6.79s/it]"
     ]
    },
    {
     "name": "stdout",
     "output_type": "stream",
     "text": [
      "hm\\2023-10-05_08-20-57_UTC_1.jpg hm\\2023-10-05_08-20-57_UTC_2.jpg hm\\2023-10-05_08-20-57_UTC_3.jpg [Just landed: A/W 2023 drop 2.…] json \n"
     ]
    },
    {
     "name": "stderr",
     "output_type": "stream",
     "text": [
      "Downloading posts:  24%|██████████████▋                                              | 120/500 [12:01<41:16,  6.52s/it]"
     ]
    },
    {
     "name": "stdout",
     "output_type": "stream",
     "text": [
      "hm\\2023-10-04_08-44-44_UTC_1.jpg hm\\2023-10-04_08-44-44_UTC_1.mp4 hm\\2023-10-04_08-44-44_UTC_2.jpg hm\\2023-10-04_08-44-44_UTC_2.mp4 hm\\2023-10-04_08-44-44_UTC_3.jpg [Inside #rabanneHM surprise pa…] json \n"
     ]
    },
    {
     "name": "stderr",
     "output_type": "stream",
     "text": [
      "Downloading posts:  24%|██████████████▊                                              | 121/500 [12:11<46:54,  7.43s/it]"
     ]
    },
    {
     "name": "stdout",
     "output_type": "stream",
     "text": [
      "hm\\2023-10-03_20-29-06_UTC.jpg [Made to move: #RabanneHM’s fi…] hm\\2023-10-03_20-29-06_UTC.mp4 json \n"
     ]
    },
    {
     "name": "stderr",
     "output_type": "stream",
     "text": [
      "Downloading posts:  24%|██████████████▉                                              | 122/500 [12:17<44:31,  7.07s/it]"
     ]
    },
    {
     "name": "stdout",
     "output_type": "stream",
     "text": [
      "hm\\2023-10-03_16-48-13_UTC_1.jpg hm\\2023-10-03_16-48-13_UTC_2.jpg hm\\2023-10-03_16-48-13_UTC_3.jpg hm\\2023-10-03_16-48-13_UTC_4.jpg hm\\2023-10-03_16-48-13_UTC_5.jpg hm\\2023-10-03_16-48-13_UTC_6.jpg [Our next designer collaborati…] json \n"
     ]
    },
    {
     "name": "stderr",
     "output_type": "stream",
     "text": [
      "Downloading posts:  25%|███████████████                                              | 123/500 [12:23<41:45,  6.65s/it]"
     ]
    },
    {
     "name": "stdout",
     "output_type": "stream",
     "text": [
      "hm\\2023-10-03_12-55-11_UTC.jpg [Friends arriving at @silencio…] hm\\2023-10-03_12-55-11_UTC.mp4 json \n"
     ]
    },
    {
     "name": "stderr",
     "output_type": "stream",
     "text": [
      "Downloading posts:  25%|███████████████▏                                             | 124/500 [12:28<38:10,  6.09s/it]"
     ]
    },
    {
     "name": "stdout",
     "output_type": "stream",
     "text": [
      "hm\\2023-10-03_03-24-15_UTC_1.jpg hm\\2023-10-03_03-24-15_UTC_2.jpg hm\\2023-10-03_03-24-15_UTC_3.jpg hm\\2023-10-03_03-24-15_UTC_4.jpg hm\\2023-10-03_03-24-15_UTC_5.jpg hm\\2023-10-03_03-24-15_UTC_6.jpg hm\\2023-10-03_03-24-15_UTC_7.jpg hm\\2023-10-03_03-24-15_UTC_8.jpg [At @silencioclub celebrating …] json \n"
     ]
    },
    {
     "name": "stderr",
     "output_type": "stream",
     "text": [
      "Downloading posts:  25%|███████████████▎                                             | 125/500 [12:40<49:03,  7.85s/it]"
     ]
    },
    {
     "name": "stdout",
     "output_type": "stream",
     "text": [
      "hm\\2023-10-03_00-42-10_UTC.jpg [Believe it: Rabanne H&M is co…] hm\\2023-10-03_00-42-10_UTC.mp4 json \n"
     ]
    },
    {
     "name": "stderr",
     "output_type": "stream",
     "text": [
      "Downloading posts:  25%|███████████████▎                                             | 126/500 [12:46<46:18,  7.43s/it]"
     ]
    },
    {
     "name": "stdout",
     "output_type": "stream",
     "text": [
      "hm\\2023-09-29_16-20-03_UTC_1.jpg hm\\2023-09-29_16-20-03_UTC_2.jpg hm\\2023-09-29_16-20-03_UTC_3.jpg [H&M Studio A/W 2023 is out no…] json \n"
     ]
    },
    {
     "name": "stderr",
     "output_type": "stream",
     "text": [
      "Downloading posts:  25%|███████████████▍                                             | 127/500 [12:54<46:43,  7.51s/it]"
     ]
    },
    {
     "name": "stdout",
     "output_type": "stream",
     "text": [
      "hm\\2023-09-29_08-05-35_UTC_1.jpg hm\\2023-09-29_08-05-35_UTC_2.jpg hm\\2023-09-29_08-05-35_UTC_3.jpg hm\\2023-09-29_08-05-35_UTC_4.jpg hm\\2023-09-29_08-05-35_UTC_5.jpg [H&M Studio A/W 2023 has arriv…] json \n"
     ]
    },
    {
     "name": "stderr",
     "output_type": "stream",
     "text": [
      "Downloading posts:  26%|███████████████▌                                             | 128/500 [13:00<43:28,  7.01s/it]"
     ]
    },
    {
     "name": "stdout",
     "output_type": "stream",
     "text": [
      "hm\\2023-09-28_16-04-43_UTC_1.jpg hm\\2023-09-28_16-04-43_UTC_2.jpg hm\\2023-09-28_16-04-43_UTC_3.jpg [H&M Studio A/W 2023 is out no…] json \n"
     ]
    },
    {
     "name": "stderr",
     "output_type": "stream",
     "text": [
      "Downloading posts:  26%|███████████████▋                                             | 129/500 [13:07<45:03,  7.29s/it]"
     ]
    },
    {
     "name": "stdout",
     "output_type": "stream",
     "text": [
      "hm\\2023-09-28_11-10-28_UTC.jpg [Screamworthy style: Studio A/…] hm\\2023-09-28_11-10-28_UTC.mp4 json \n"
     ]
    },
    {
     "name": "stderr",
     "output_type": "stream",
     "text": [
      "Downloading posts:  26%|███████████████▊                                             | 130/500 [13:14<42:49,  6.94s/it]"
     ]
    },
    {
     "name": "stdout",
     "output_type": "stream",
     "text": [
      "hm\\2023-09-27_16-00-23_UTC_1.jpg hm\\2023-09-27_16-00-23_UTC_2.jpg hm\\2023-09-27_16-00-23_UTC_3.jpg hm\\2023-09-27_16-00-23_UTC_4.jpg [H&M Studio A/W 2023 is out to…] json \n"
     ]
    },
    {
     "name": "stderr",
     "output_type": "stream",
     "text": [
      "Downloading posts:  26%|███████████████▉                                             | 131/500 [13:18<38:22,  6.24s/it]"
     ]
    },
    {
     "name": "stdout",
     "output_type": "stream",
     "text": [
      "hm\\2023-09-27_11-57-23_UTC.jpg [H&M Studio A/W 2023 is out to…] hm\\2023-09-27_11-57-23_UTC.mp4 json \n"
     ]
    },
    {
     "name": "stderr",
     "output_type": "stream",
     "text": [
      "Downloading posts:  26%|████████████████                                             | 132/500 [13:22<33:18,  5.43s/it]"
     ]
    },
    {
     "name": "stdout",
     "output_type": "stream",
     "text": [
      "hm\\2023-09-27_08-55-07_UTC_1.jpg hm\\2023-09-27_08-55-07_UTC_2.jpg hm\\2023-09-27_08-55-07_UTC_3.jpg hm\\2023-09-27_08-55-07_UTC_4.jpg [10 years of H&M Studio. Dive …] json \n"
     ]
    },
    {
     "name": "stderr",
     "output_type": "stream",
     "text": [
      "Downloading posts:  27%|████████████████▏                                            | 133/500 [13:29<36:39,  5.99s/it]"
     ]
    },
    {
     "name": "stdout",
     "output_type": "stream",
     "text": [
      "hm\\2023-09-26_15-00-33_UTC.jpg [Last night at our H&M Studio …] hm\\2023-09-26_15-00-33_UTC.mp4 json \n"
     ]
    },
    {
     "name": "stderr",
     "output_type": "stream",
     "text": [
      "Downloading posts:  27%|████████████████▎                                            | 134/500 [13:36<38:26,  6.30s/it]"
     ]
    },
    {
     "name": "stdout",
     "output_type": "stream",
     "text": [
      "hm\\2023-09-25_16-26-54_UTC_1.jpg hm\\2023-09-25_16-26-54_UTC_2.jpg hm\\2023-09-25_16-26-54_UTC_3.jpg hm\\2023-09-25_16-26-54_UTC_4.jpg hm\\2023-09-25_16-26-54_UTC_5.jpg hm\\2023-09-25_16-26-54_UTC_6.jpg [Welcome to the world of H&M S…] json \n"
     ]
    },
    {
     "name": "stderr",
     "output_type": "stream",
     "text": [
      "Downloading posts:  27%|████████████████▍                                            | 135/500 [13:46<45:48,  7.53s/it]"
     ]
    },
    {
     "name": "stdout",
     "output_type": "stream",
     "text": [
      "hm\\2023-09-24_18-34-48_UTC_1.jpg hm\\2023-09-24_18-34-48_UTC_2.jpg hm\\2023-09-24_18-34-48_UTC_3.jpg [A handbag to hold close. #HM] json \n"
     ]
    },
    {
     "name": "stderr",
     "output_type": "stream",
     "text": [
      "Downloading posts:  27%|████████████████▌                                            | 136/500 [13:51<40:40,  6.71s/it]"
     ]
    },
    {
     "name": "stdout",
     "output_type": "stream",
     "text": [
      "hm\\2023-09-23_11-00-24_UTC_1.jpg hm\\2023-09-23_11-00-24_UTC_2.jpg hm\\2023-09-23_11-00-24_UTC_3.jpg hm\\2023-09-23_11-00-24_UTC_4.jpg hm\\2023-09-23_11-00-24_UTC_5.jpg [Double denim gets an on-trend…] json \n"
     ]
    },
    {
     "name": "stderr",
     "output_type": "stream",
     "text": [
      "Downloading posts:  27%|████████████████▋                                            | 137/500 [13:59<43:07,  7.13s/it]"
     ]
    },
    {
     "name": "stdout",
     "output_type": "stream",
     "text": [
      "hm\\2023-09-22_08-23-11_UTC.jpg [Soft as a cloud and smooth li…] json \n"
     ]
    },
    {
     "name": "stderr",
     "output_type": "stream",
     "text": [
      "Downloading posts:  28%|████████████████▊                                            | 138/500 [14:03<36:47,  6.10s/it]"
     ]
    },
    {
     "name": "stdout",
     "output_type": "stream",
     "text": [
      "hm\\2023-09-21_16-03-28_UTC.jpg [H&M Studio A/W 2023 is out 28…] hm\\2023-09-21_16-03-28_UTC.mp4 json \n"
     ]
    },
    {
     "name": "stderr",
     "output_type": "stream",
     "text": [
      "Downloading posts:  28%|████████████████▉                                            | 139/500 [14:09<35:47,  5.95s/it]"
     ]
    },
    {
     "name": "stdout",
     "output_type": "stream",
     "text": [
      "hm\\2023-09-21_09-22-51_UTC.jpg [Delightfully dark. H&M Studio…] hm\\2023-09-21_09-22-51_UTC.mp4 json \n"
     ]
    },
    {
     "name": "stderr",
     "output_type": "stream",
     "text": [
      "Downloading posts:  28%|█████████████████                                            | 140/500 [14:13<33:04,  5.51s/it]"
     ]
    },
    {
     "name": "stdout",
     "output_type": "stream",
     "text": [
      "hm\\2023-09-20_18-21-33_UTC.jpg [Designed to thrill. Studio A/…] hm\\2023-09-20_18-21-33_UTC.mp4 json \n"
     ]
    },
    {
     "name": "stderr",
     "output_type": "stream",
     "text": [
      "Downloading posts:  28%|█████████████████▏                                           | 141/500 [14:18<32:29,  5.43s/it]"
     ]
    },
    {
     "name": "stdout",
     "output_type": "stream",
     "text": [
      "hm\\2023-09-20_10-25-21_UTC.jpg [10 years of H&M Studio, showc…] json \n"
     ]
    },
    {
     "name": "stderr",
     "output_type": "stream",
     "text": [
      "Downloading posts:  28%|█████████████████▎                                           | 142/500 [14:23<30:56,  5.19s/it]"
     ]
    },
    {
     "name": "stdout",
     "output_type": "stream",
     "text": [
      "hm\\2023-09-19_17-21-55_UTC.jpg [10 years of H&M Studio, showc…] json \n"
     ]
    },
    {
     "name": "stderr",
     "output_type": "stream",
     "text": [
      "Downloading posts:  29%|█████████████████▍                                           | 143/500 [14:31<35:15,  5.92s/it]"
     ]
    },
    {
     "name": "stdout",
     "output_type": "stream",
     "text": [
      "hm\\2023-09-18_07-46-58_UTC.jpg [10 years of H&M Studio, showc…] json \n"
     ]
    },
    {
     "name": "stderr",
     "output_type": "stream",
     "text": [
      "Downloading posts:  29%|█████████████████▌                                           | 144/500 [14:33<29:17,  4.94s/it]"
     ]
    },
    {
     "name": "stdout",
     "output_type": "stream",
     "text": [
      "hm\\2023-09-17_14-43-29_UTC_1.jpg hm\\2023-09-17_14-43-29_UTC_2.jpg [@anokyai in A/W 2023 #HM] json \n"
     ]
    },
    {
     "name": "stderr",
     "output_type": "stream",
     "text": [
      "Downloading posts:  29%|█████████████████▋                                           | 145/500 [14:40<33:06,  5.60s/it]"
     ]
    },
    {
     "name": "stdout",
     "output_type": "stream",
     "text": [
      "hm\\2023-09-17_11-56-52_UTC.jpg [A/W 2023 #HM  Model @abenynhi…] json \n"
     ]
    },
    {
     "name": "stderr",
     "output_type": "stream",
     "text": [
      "Downloading posts:  29%|█████████████████▊                                           | 146/500 [14:44<29:29,  5.00s/it]"
     ]
    },
    {
     "name": "stdout",
     "output_type": "stream",
     "text": [
      "hm\\2023-09-17_07-20-18_UTC.jpg [@mona_tougaard and @anokyai i…] json \n"
     ]
    },
    {
     "name": "stderr",
     "output_type": "stream",
     "text": [
      "Downloading posts:  29%|█████████████████▉                                           | 147/500 [14:52<33:58,  5.78s/it]"
     ]
    },
    {
     "name": "stdout",
     "output_type": "stream",
     "text": [
      "hm\\2023-09-15_14-26-06_UTC.jpg [A/W 2023 #HM  Director @alber…] hm\\2023-09-15_14-26-06_UTC.mp4 json \n"
     ]
    },
    {
     "name": "stderr",
     "output_type": "stream",
     "text": [
      "Downloading posts:  30%|██████████████████                                           | 148/500 [15:01<40:21,  6.88s/it]"
     ]
    },
    {
     "name": "stdout",
     "output_type": "stream",
     "text": [
      "hm\\2023-09-15_11-50-28_UTC.jpg [A/W 2023 #HM  Director @alber…] hm\\2023-09-15_11-50-28_UTC.mp4 json \n"
     ]
    },
    {
     "name": "stderr",
     "output_type": "stream",
     "text": [
      "Downloading posts:  30%|██████████████████▏                                          | 149/500 [15:06<36:24,  6.22s/it]"
     ]
    },
    {
     "name": "stdout",
     "output_type": "stream",
     "text": [
      "hm\\2023-09-15_07-04-05_UTC.jpg [A/W 2023 #HM  Director @alber…] hm\\2023-09-15_07-04-05_UTC.mp4 json \n"
     ]
    },
    {
     "name": "stderr",
     "output_type": "stream",
     "text": [
      "Downloading posts:  30%|██████████████████▎                                          | 150/500 [15:09<31:55,  5.47s/it]"
     ]
    },
    {
     "name": "stdout",
     "output_type": "stream",
     "text": [
      "hm\\2023-09-14_14-13-06_UTC_1.jpg hm\\2023-09-14_14-13-06_UTC_2.jpg [A/W 2023 #HM  Models @sola553…] json \n"
     ]
    },
    {
     "name": "stderr",
     "output_type": "stream",
     "text": [
      "Downloading posts:  30%|██████████████████▍                                          | 151/500 [15:13<28:02,  4.82s/it]"
     ]
    },
    {
     "name": "stdout",
     "output_type": "stream",
     "text": [
      "hm\\2023-09-14_11-09-39_UTC_1.jpg hm\\2023-09-14_11-09-39_UTC_2.jpg [Just dropped. A/W 2023 #HM  M…] json \n"
     ]
    },
    {
     "name": "stderr",
     "output_type": "stream",
     "text": [
      "Downloading posts:  30%|██████████████████▌                                          | 152/500 [15:21<33:49,  5.83s/it]"
     ]
    },
    {
     "name": "stdout",
     "output_type": "stream",
     "text": [
      "hm\\2023-09-14_07-11-55_UTC_1.jpg hm\\2023-09-14_07-11-55_UTC_2.jpg hm\\2023-09-14_07-11-55_UTC_3.jpg [It’s here: A/W 2023 #HM  Mode…] json \n"
     ]
    },
    {
     "name": "stderr",
     "output_type": "stream",
     "text": [
      "Downloading posts:  31%|██████████████████▋                                          | 153/500 [15:25<30:13,  5.22s/it]"
     ]
    },
    {
     "name": "stdout",
     "output_type": "stream",
     "text": [
      "hm\\2023-09-10_11-06-35_UTC.jpg [Cozy as a Sunday. #HM  Oversi…] json \n"
     ]
    },
    {
     "name": "stderr",
     "output_type": "stream",
     "text": [
      "Downloading posts:  31%|██████████████████▊                                          | 154/500 [15:30<30:54,  5.36s/it]"
     ]
    },
    {
     "name": "stdout",
     "output_type": "stream",
     "text": [
      "hm\\2023-09-09_11-00-56_UTC.jpg [Quiet. Luxury. #HM  Slit-hem …] json \n"
     ]
    },
    {
     "name": "stderr",
     "output_type": "stream",
     "text": [
      "Downloading posts:  31%|██████████████████▉                                          | 155/500 [15:33<26:05,  4.54s/it]"
     ]
    },
    {
     "name": "stdout",
     "output_type": "stream",
     "text": [
      "hm\\2023-09-08_11-57-14_UTC_1.jpg hm\\2023-09-08_11-57-14_UTC_2.jpg hm\\2023-09-08_11-57-14_UTC_3.jpg hm\\2023-09-08_11-57-14_UTC_4.jpg hm\\2023-09-08_11-57-14_UTC_5.jpg hm\\2023-09-08_11-57-14_UTC_6.jpg hm\\2023-09-08_11-57-14_UTC_7.jpg [Get weekend-ready with pre-fa…] json \n"
     ]
    },
    {
     "name": "stderr",
     "output_type": "stream",
     "text": [
      "Downloading posts:  31%|███████████████████                                          | 156/500 [15:42<33:35,  5.86s/it]"
     ]
    },
    {
     "name": "stdout",
     "output_type": "stream",
     "text": [
      "hm\\2023-09-07_14-55-04_UTC_1.jpg hm\\2023-09-07_14-55-04_UTC_2.jpg hm\\2023-09-07_14-55-04_UTC_3.jpg [Looking good. Feeling amazing…] json \n"
     ]
    },
    {
     "name": "stderr",
     "output_type": "stream",
     "text": [
      "Downloading posts:  31%|███████████████████▏                                         | 157/500 [15:47<31:40,  5.54s/it]"
     ]
    },
    {
     "name": "stdout",
     "output_type": "stream",
     "text": [
      "hm\\2023-09-07_13-30-26_UTC.jpg [Join the party with Good Amer…] json \n"
     ]
    },
    {
     "name": "stderr",
     "output_type": "stream",
     "text": [
      "Downloading posts:  32%|███████████████████▎                                         | 158/500 [15:51<29:59,  5.26s/it]"
     ]
    },
    {
     "name": "stdout",
     "output_type": "stream",
     "text": [
      "hm\\2023-09-07_10-24-34_UTC.jpg [It’s here: Good American at H…] hm\\2023-09-07_10-24-34_UTC.mp4 json \n"
     ]
    },
    {
     "name": "stderr",
     "output_type": "stream",
     "text": [
      "Downloading posts:  32%|███████████████████▍                                         | 159/500 [15:57<31:02,  5.46s/it]"
     ]
    },
    {
     "name": "stdout",
     "output_type": "stream",
     "text": [
      "hm\\2023-09-06_12-19-12_UTC_1.jpg hm\\2023-09-06_12-19-12_UTC_2.jpg [It's giving street-style turn…] json \n"
     ]
    },
    {
     "name": "stderr",
     "output_type": "stream",
     "text": [
      "Downloading posts:  32%|███████████████████▌                                         | 160/500 [16:05<35:30,  6.27s/it]"
     ]
    },
    {
     "name": "stdout",
     "output_type": "stream",
     "text": [
      "hm\\2023-09-06_08-33-27_UTC_1.jpg hm\\2023-09-06_08-33-27_UTC_2.jpg [When you feel like playing wi…] json \n"
     ]
    },
    {
     "name": "stderr",
     "output_type": "stream",
     "text": [
      "Downloading posts:  32%|███████████████████▋                                         | 161/500 [16:12<35:11,  6.23s/it]"
     ]
    },
    {
     "name": "stdout",
     "output_type": "stream",
     "text": [
      "hm\\2023-09-05_14-13-09_UTC_1.jpg hm\\2023-09-05_14-13-09_UTC_2.jpg [Luscious lace leggings🖤#HM   …] json \n"
     ]
    },
    {
     "name": "stderr",
     "output_type": "stream",
     "text": [
      "Downloading posts:  32%|███████████████████▊                                         | 162/500 [16:19<36:48,  6.54s/it]"
     ]
    },
    {
     "name": "stdout",
     "output_type": "stream",
     "text": [
      "hm\\2023-08-31_15-44-51_UTC.jpg [Denim to wear forever. #HM  S…] json \n"
     ]
    },
    {
     "name": "stderr",
     "output_type": "stream",
     "text": [
      "Downloading posts:  33%|███████████████████▉                                         | 163/500 [16:30<43:43,  7.78s/it]"
     ]
    },
    {
     "name": "stdout",
     "output_type": "stream",
     "text": [
      "hm\\2023-08-31_11-24-47_UTC.jpg [Denim to wear forever. #HM  S…] json \n"
     ]
    },
    {
     "name": "stderr",
     "output_type": "stream",
     "text": [
      "Downloading posts:  33%|████████████████████                                         | 164/500 [16:32<35:08,  6.28s/it]"
     ]
    },
    {
     "name": "stdout",
     "output_type": "stream",
     "text": [
      "hm\\2023-08-31_08-21-16_UTC_1.jpg hm\\2023-08-31_08-21-16_UTC_2.jpg [Straight leg denim: the ultim…] json \n"
     ]
    },
    {
     "name": "stderr",
     "output_type": "stream",
     "text": [
      "Downloading posts:  33%|████████████████████▏                                        | 165/500 [16:41<38:37,  6.92s/it]"
     ]
    },
    {
     "name": "stdout",
     "output_type": "stream",
     "text": [
      "hm\\2023-08-30_16-43-30_UTC.jpg [Walk into a new season. #HM] json \n"
     ]
    },
    {
     "name": "stderr",
     "output_type": "stream",
     "text": [
      "Downloading posts:  33%|████████████████████▎                                        | 166/500 [16:48<39:43,  7.14s/it]"
     ]
    },
    {
     "name": "stdout",
     "output_type": "stream",
     "text": [
      "hm\\2023-08-30_14-22-21_UTC.jpg [Future's bright with sunglass…] json \n"
     ]
    },
    {
     "name": "stderr",
     "output_type": "stream",
     "text": [
      "Downloading posts:  33%|████████████████████▎                                        | 167/500 [16:52<33:44,  6.08s/it]"
     ]
    },
    {
     "name": "stdout",
     "output_type": "stream",
     "text": [
      "hm\\2023-08-30_07-41-25_UTC.jpg [Define your look with unexpec…] json \n"
     ]
    },
    {
     "name": "stderr",
     "output_type": "stream",
     "text": [
      "Downloading posts:  34%|████████████████████▍                                        | 168/500 [16:57<31:10,  5.63s/it]"
     ]
    },
    {
     "name": "stdout",
     "output_type": "stream",
     "text": [
      "hm\\2023-08-29_15-11-30_UTC_1.jpg hm\\2023-08-29_15-11-30_UTC_2.jpg hm\\2023-08-29_15-11-30_UTC_3.jpg hm\\2023-08-29_15-11-30_UTC_4.jpg [Get the look: sleek and lacy …] json \n"
     ]
    },
    {
     "name": "stderr",
     "output_type": "stream",
     "text": [
      "Downloading posts:  34%|████████████████████▌                                        | 169/500 [17:05<35:41,  6.47s/it]"
     ]
    },
    {
     "name": "stdout",
     "output_type": "stream",
     "text": [
      "hm\\2023-08-29_12-29-12_UTC.jpg [Add a leather jacket for a pl…] json \n"
     ]
    },
    {
     "name": "stderr",
     "output_type": "stream",
     "text": [
      "Downloading posts:  34%|████████████████████▋                                        | 170/500 [17:12<35:52,  6.52s/it]"
     ]
    },
    {
     "name": "stdout",
     "output_type": "stream",
     "text": [
      "hm\\2023-08-29_07-51-01_UTC.jpg [This season's best pick: glos…] json \n"
     ]
    },
    {
     "name": "stderr",
     "output_type": "stream",
     "text": [
      "Downloading posts:  34%|████████████████████▊                                        | 171/500 [17:16<32:34,  5.94s/it]"
     ]
    },
    {
     "name": "stdout",
     "output_type": "stream",
     "text": [
      "hm\\2023-08-25_17-45-00_UTC_1.jpg hm\\2023-08-25_17-45-00_UTC_2.jpg [Simple, sleek and sophisticat…] json \n"
     ]
    },
    {
     "name": "stderr",
     "output_type": "stream",
     "text": [
      "Downloading posts:  34%|████████████████████▉                                        | 172/500 [17:25<36:29,  6.67s/it]"
     ]
    },
    {
     "name": "stdout",
     "output_type": "stream",
     "text": [
      "hm\\2023-08-25_17-42-58_UTC_1.jpg hm\\2023-08-25_17-42-58_UTC_2.jpg [Monochrome magic. Which is yo…] json \n"
     ]
    },
    {
     "name": "stderr",
     "output_type": "stream",
     "text": [
      "Downloading posts:  35%|█████████████████████                                        | 173/500 [17:28<30:39,  5.62s/it]"
     ]
    },
    {
     "name": "stdout",
     "output_type": "stream",
     "text": [
      "hm\\2023-08-25_10-14-14_UTC.jpg [Everything is elegant in head…] json \n"
     ]
    },
    {
     "name": "stderr",
     "output_type": "stream",
     "text": [
      "Downloading posts:  35%|█████████████████████▏                                       | 174/500 [17:32<28:51,  5.31s/it]"
     ]
    },
    {
     "name": "stdout",
     "output_type": "stream",
     "text": [
      "hm\\2023-08-25_10-13-29_UTC_1.jpg hm\\2023-08-25_10-13-29_UTC_2.jpg [The secret of denim diva: Wea…] json \n"
     ]
    },
    {
     "name": "stderr",
     "output_type": "stream",
     "text": [
      "Downloading posts:  35%|█████████████████████▎                                       | 175/500 [17:37<27:06,  5.01s/it]"
     ]
    },
    {
     "name": "stdout",
     "output_type": "stream",
     "text": [
      "hm\\2023-08-25_07-43-32_UTC_1.jpg hm\\2023-08-25_07-43-32_UTC_2.jpg [Make denim the canvas for you…] json \n"
     ]
    },
    {
     "name": "stderr",
     "output_type": "stream",
     "text": [
      "Downloading posts:  35%|█████████████████████▍                                       | 176/500 [17:45<32:18,  5.98s/it]"
     ]
    },
    {
     "name": "stdout",
     "output_type": "stream",
     "text": [
      "hm\\2023-08-25_07-37-03_UTC.jpg [Indulge the extraordinary in …] hm\\2023-08-25_07-37-03_UTC.mp4 json \n"
     ]
    },
    {
     "name": "stderr",
     "output_type": "stream",
     "text": [
      "Downloading posts:  35%|█████████████████████▌                                       | 177/500 [17:52<33:11,  6.16s/it]"
     ]
    },
    {
     "name": "stdout",
     "output_type": "stream",
     "text": [
      "hm\\2023-08-24_10-01-47_UTC.jpg [Denim, meet halter top. #HM  …] json \n"
     ]
    },
    {
     "name": "stderr",
     "output_type": "stream",
     "text": [
      "Downloading posts:  36%|█████████████████████▋                                       | 178/500 [17:57<32:11,  6.00s/it]"
     ]
    },
    {
     "name": "stdout",
     "output_type": "stream",
     "text": [
      "hm\\2023-08-22_10-13-17_UTC_1.jpg hm\\2023-08-22_10-13-17_UTC_2.jpg hm\\2023-08-22_10-13-17_UTC_3.jpg [Back to business in herringbo…] json \n"
     ]
    },
    {
     "name": "stderr",
     "output_type": "stream",
     "text": [
      "Downloading posts:  36%|█████████████████████▊                                       | 179/500 [18:02<30:11,  5.64s/it]"
     ]
    },
    {
     "name": "stdout",
     "output_type": "stream",
     "text": [
      "hm\\2023-08-21_08-17-16_UTC.jpg [Light knitwear season. #HM  S…] hm\\2023-08-21_08-17-16_UTC.mp4 json \n"
     ]
    },
    {
     "name": "stderr",
     "output_type": "stream",
     "text": [
      "Downloading posts:  36%|█████████████████████▉                                       | 180/500 [18:09<31:49,  5.97s/it]"
     ]
    },
    {
     "name": "stdout",
     "output_type": "stream",
     "text": [
      "hm\\2023-08-20_15-27-45_UTC_1.jpg hm\\2023-08-20_15-27-45_UTC_2.jpg [A masterclass in laidback chi…] json \n"
     ]
    },
    {
     "name": "stderr",
     "output_type": "stream",
     "text": [
      "Downloading posts:  36%|██████████████████████                                       | 181/500 [18:14<30:46,  5.79s/it]"
     ]
    },
    {
     "name": "stdout",
     "output_type": "stream",
     "text": [
      "hm\\2023-08-20_12-45-28_UTC_1.jpg hm\\2023-08-20_12-45-28_UTC_2.jpg [That blue jean feeling. #HM  …] json \n"
     ]
    },
    {
     "name": "stderr",
     "output_type": "stream",
     "text": [
      "Downloading posts:  36%|██████████████████████▏                                      | 182/500 [18:19<29:51,  5.63s/it]"
     ]
    },
    {
     "name": "stdout",
     "output_type": "stream",
     "text": [
      "hm\\2023-08-20_09-11-50_UTC_1.jpg hm\\2023-08-20_09-11-50_UTC_2.jpg hm\\2023-08-20_09-11-50_UTC_3.jpg [Double denim never looked so …] json \n"
     ]
    },
    {
     "name": "stderr",
     "output_type": "stream",
     "text": [
      "Downloading posts:  37%|██████████████████████▎                                      | 183/500 [18:26<31:41,  6.00s/it]"
     ]
    },
    {
     "name": "stdout",
     "output_type": "stream",
     "text": [
      "hm\\2023-08-19_17-14-57_UTC.jpg [The classic tweed jacket, rea…] json \n"
     ]
    },
    {
     "name": "stderr",
     "output_type": "stream",
     "text": [
      "Downloading posts:  37%|██████████████████████▍                                      | 184/500 [18:31<29:42,  5.64s/it]"
     ]
    },
    {
     "name": "stdout",
     "output_type": "stream",
     "text": [
      "hm\\2023-08-19_10-24-12_UTC.jpg [Going places in chunky white …] json \n"
     ]
    },
    {
     "name": "stderr",
     "output_type": "stream",
     "text": [
      "Downloading posts:  37%|██████████████████████▌                                      | 185/500 [18:39<32:42,  6.23s/it]"
     ]
    },
    {
     "name": "stdout",
     "output_type": "stream",
     "text": [
      "hm\\2023-08-18_14-05-22_UTC.jpg [The cold shoulder, for those …] json \n"
     ]
    },
    {
     "name": "stderr",
     "output_type": "stream",
     "text": [
      "Downloading posts:  37%|██████████████████████▋                                      | 186/500 [18:44<31:41,  6.06s/it]"
     ]
    },
    {
     "name": "stdout",
     "output_type": "stream",
     "text": [
      "hm\\2023-08-18_08-23-28_UTC_1.jpg hm\\2023-08-18_08-23-28_UTC_2.jpg [Sporty with a glam perspectiv…] json \n"
     ]
    },
    {
     "name": "stderr",
     "output_type": "stream",
     "text": [
      "Downloading posts:  37%|██████████████████████▊                                      | 187/500 [18:53<35:12,  6.75s/it]"
     ]
    },
    {
     "name": "stdout",
     "output_type": "stream",
     "text": [
      "hm\\2023-08-17_13-21-43_UTC.jpg [Sophisticated and relaxed. #H…] hm\\2023-08-17_13-21-43_UTC.mp4 json \n"
     ]
    },
    {
     "name": "stderr",
     "output_type": "stream",
     "text": [
      "Downloading posts:  38%|██████████████████████▉                                      | 188/500 [19:01<38:05,  7.32s/it]"
     ]
    },
    {
     "name": "stdout",
     "output_type": "stream",
     "text": [
      "hm\\2023-08-17_07-07-53_UTC_1.jpg hm\\2023-08-17_07-07-53_UTC_2.jpg [The secret of sporty success:…] json \n"
     ]
    },
    {
     "name": "stderr",
     "output_type": "stream",
     "text": [
      "Downloading posts:  38%|███████████████████████                                      | 189/500 [19:07<34:55,  6.74s/it]"
     ]
    },
    {
     "name": "stdout",
     "output_type": "stream",
     "text": [
      "hm\\2023-08-13_13-48-17_UTC.jpg [Giant totes and giant stripes…] json \n"
     ]
    },
    {
     "name": "stderr",
     "output_type": "stream",
     "text": [
      "Downloading posts:  38%|███████████████████████▏                                     | 190/500 [19:12<33:01,  6.39s/it]"
     ]
    },
    {
     "name": "stdout",
     "output_type": "stream",
     "text": [
      "hm\\2023-08-12_11-01-02_UTC.jpg [Complete the look with a herr…] json \n"
     ]
    },
    {
     "name": "stderr",
     "output_type": "stream",
     "text": [
      "Downloading posts:  38%|███████████████████████▎                                     | 191/500 [19:17<30:13,  5.87s/it]"
     ]
    },
    {
     "name": "stdout",
     "output_type": "stream",
     "text": [
      "hm\\2023-08-11_09-11-25_UTC.jpg [Try a sleeveless mockneck for…] json \n"
     ]
    },
    {
     "name": "stderr",
     "output_type": "stream",
     "text": [
      "Downloading posts:  38%|███████████████████████▍                                     | 192/500 [19:24<32:47,  6.39s/it]"
     ]
    },
    {
     "name": "stdout",
     "output_type": "stream",
     "text": [
      "hm\\2023-08-10_15-00-00_UTC_1.jpg hm\\2023-08-10_15-00-00_UTC_2.jpg [Tailoring with a sporty twist…] json \n"
     ]
    },
    {
     "name": "stderr",
     "output_type": "stream",
     "text": [
      "Downloading posts:  39%|███████████████████████▌                                     | 193/500 [19:29<29:22,  5.74s/it]"
     ]
    },
    {
     "name": "stdout",
     "output_type": "stream",
     "text": [
      "hm\\2023-08-10_12-00-00_UTC_1.jpg hm\\2023-08-10_12-00-00_UTC_2.jpg [The perfect outfit for runnin…] json \n"
     ]
    },
    {
     "name": "stderr",
     "output_type": "stream",
     "text": [
      "Downloading posts:  39%|███████████████████████▋                                     | 194/500 [19:34<28:33,  5.60s/it]"
     ]
    },
    {
     "name": "stdout",
     "output_type": "stream",
     "text": [
      "hm\\2023-08-10_08-30-02_UTC_1.jpg hm\\2023-08-10_08-30-02_UTC_2.jpg [Turn up the volume with bold …] json \n"
     ]
    },
    {
     "name": "stderr",
     "output_type": "stream",
     "text": [
      "Downloading posts:  39%|███████████████████████▊                                     | 195/500 [19:42<32:23,  6.37s/it]"
     ]
    },
    {
     "name": "stdout",
     "output_type": "stream",
     "text": [
      "hm\\2023-08-09_12-21-35_UTC.jpg [A classic blazer to wear with…] json \n"
     ]
    },
    {
     "name": "stderr",
     "output_type": "stream",
     "text": [
      "Downloading posts:  39%|███████████████████████▉                                     | 196/500 [19:47<29:34,  5.84s/it]"
     ]
    },
    {
     "name": "stdout",
     "output_type": "stream",
     "text": [
      "hm\\2023-08-08_08-05-51_UTC.jpg [The animal print turtleneck f…] json \n"
     ]
    },
    {
     "name": "stderr",
     "output_type": "stream",
     "text": [
      "Downloading posts:  39%|████████████████████████                                     | 197/500 [19:51<27:41,  5.49s/it]"
     ]
    },
    {
     "name": "stdout",
     "output_type": "stream",
     "text": [
      "hm\\2023-08-07_08-49-07_UTC.jpg [All that glitters is gold. #H…] hm\\2023-08-07_08-49-07_UTC.mp4 json \n"
     ]
    },
    {
     "name": "stderr",
     "output_type": "stream",
     "text": [
      "Downloading posts:  40%|████████████████████████▏                                    | 198/500 [19:55<25:14,  5.02s/it]"
     ]
    },
    {
     "name": "stdout",
     "output_type": "stream",
     "text": [
      "hm\\2023-08-05_11-50-08_UTC_1.jpg hm\\2023-08-05_11-50-08_UTC_2.jpg [It doesn’t get more chic than…] json \n"
     ]
    },
    {
     "name": "stderr",
     "output_type": "stream",
     "text": [
      "Downloading posts:  40%|████████████████████████▎                                    | 199/500 [20:04<29:58,  5.98s/it]"
     ]
    },
    {
     "name": "stdout",
     "output_type": "stream",
     "text": [
      "hm\\2023-08-04_13-25-01_UTC.jpg [A small handbag with a big at…] json \n"
     ]
    },
    {
     "name": "stderr",
     "output_type": "stream",
     "text": [
      "Downloading posts:  40%|████████████████████████▍                                    | 200/500 [20:08<27:52,  5.57s/it]"
     ]
    },
    {
     "name": "stdout",
     "output_type": "stream",
     "text": [
      "hm\\2023-08-04_07-49-05_UTC_1.jpg hm\\2023-08-04_07-49-05_UTC_2.jpg [A sequinned skirt to light up…] json \n"
     ]
    },
    {
     "name": "stderr",
     "output_type": "stream",
     "text": [
      "Downloading posts:  40%|████████████████████████▌                                    | 201/500 [20:12<24:37,  4.94s/it]"
     ]
    },
    {
     "name": "stdout",
     "output_type": "stream",
     "text": [
      "hm\\2023-08-03_15-58-52_UTC_1.jpg hm\\2023-08-03_15-58-52_UTC_2.jpg [Stay natural. Shine always. #…] json \n"
     ]
    },
    {
     "name": "stderr",
     "output_type": "stream",
     "text": [
      "Downloading posts:  40%|████████████████████████▋                                    | 202/500 [20:15<21:57,  4.42s/it]"
     ]
    },
    {
     "name": "stdout",
     "output_type": "stream",
     "text": [
      "hm\\2023-08-03_14-01-18_UTC.jpg [Soft colours. Powerful me. #H…] json \n"
     ]
    },
    {
     "name": "stderr",
     "output_type": "stream",
     "text": [
      "Downloading posts:  41%|████████████████████████▊                                    | 203/500 [20:22<26:36,  5.37s/it]"
     ]
    },
    {
     "name": "stdout",
     "output_type": "stream",
     "text": [
      "hm\\2023-08-03_07-05-11_UTC.jpg [Stay natural. Shine always. #…] hm\\2023-08-03_07-05-11_UTC.mp4 json \n"
     ]
    },
    {
     "name": "stderr",
     "output_type": "stream",
     "text": [
      "Downloading posts:  41%|████████████████████████▉                                    | 204/500 [20:27<25:31,  5.17s/it]"
     ]
    },
    {
     "name": "stdout",
     "output_type": "stream",
     "text": [
      "hm\\2023-08-02_10-12-16_UTC.jpg [The Mary Jane goes with every…] hm\\2023-08-02_10-12-16_UTC.mp4 json \n"
     ]
    },
    {
     "name": "stderr",
     "output_type": "stream",
     "text": [
      "Downloading posts:  41%|█████████████████████████                                    | 205/500 [20:36<30:50,  6.27s/it]"
     ]
    },
    {
     "name": "stdout",
     "output_type": "stream",
     "text": [
      "hm\\2023-08-01_09-31-46_UTC_1.jpg hm\\2023-08-01_09-31-46_UTC_2.jpg hm\\2023-08-01_09-31-46_UTC_3.jpg hm\\2023-08-01_09-31-46_UTC_4.jpg hm\\2023-08-01_09-31-46_UTC_5.jpg hm\\2023-08-01_09-31-46_UTC_6.jpg [Contrast a monochrome look wi…] json \n"
     ]
    },
    {
     "name": "stderr",
     "output_type": "stream",
     "text": [
      "Downloading posts:  41%|█████████████████████████▏                                   | 206/500 [20:42<30:26,  6.21s/it]"
     ]
    },
    {
     "name": "stdout",
     "output_type": "stream",
     "text": [
      "hm\\2023-07-31_07-01-27_UTC.jpg [Go for geometric in this vers…] json \n"
     ]
    },
    {
     "name": "stderr",
     "output_type": "stream",
     "text": [
      "Downloading posts:  41%|█████████████████████████▎                                   | 207/500 [20:47<27:57,  5.73s/it]"
     ]
    },
    {
     "name": "stdout",
     "output_type": "stream",
     "text": [
      "hm\\2023-07-30_13-00-00_UTC.jpg [You can never go wrong with c…] json \n"
     ]
    },
    {
     "name": "stderr",
     "output_type": "stream",
     "text": [
      "Downloading posts:  42%|█████████████████████████▍                                   | 208/500 [20:51<26:12,  5.38s/it]"
     ]
    },
    {
     "name": "stdout",
     "output_type": "stream",
     "text": [
      "hm\\2023-07-29_11-00-00_UTC.jpg [Ring, ring. Your new favourit…] hm\\2023-07-29_11-00-00_UTC.mp4 json \n"
     ]
    },
    {
     "name": "stderr",
     "output_type": "stream",
     "text": [
      "Downloading posts:  42%|█████████████████████████▍                                   | 209/500 [20:56<25:18,  5.22s/it]"
     ]
    },
    {
     "name": "stdout",
     "output_type": "stream",
     "text": [
      "hm\\2023-07-28_11-00-00_UTC.jpg [A little behind-the-scenes, f…] hm\\2023-07-28_11-00-00_UTC.mp4 json \n"
     ]
    },
    {
     "name": "stderr",
     "output_type": "stream",
     "text": [
      "Downloading posts:  42%|█████████████████████████▌                                   | 210/500 [21:02<26:02,  5.39s/it]"
     ]
    },
    {
     "name": "stdout",
     "output_type": "stream",
     "text": [
      "hm\\2023-07-27_14-00-18_UTC_1.jpg hm\\2023-07-27_14-00-18_UTC_2.jpg [Suit yourself: striped and co…] json \n"
     ]
    },
    {
     "name": "stderr",
     "output_type": "stream",
     "text": [
      "Downloading posts:  42%|█████████████████████████▋                                   | 211/500 [21:09<28:42,  5.96s/it]"
     ]
    },
    {
     "name": "stdout",
     "output_type": "stream",
     "text": [
      "hm\\2023-07-27_11-29-20_UTC.jpg [Endlessly effortless. #HM  Lo…] hm\\2023-07-27_11-29-20_UTC.mp4 json \n"
     ]
    },
    {
     "name": "stderr",
     "output_type": "stream",
     "text": [
      "Downloading posts:  42%|█████████████████████████▊                                   | 212/500 [21:13<25:16,  5.27s/it]"
     ]
    },
    {
     "name": "stdout",
     "output_type": "stream",
     "text": [
      "hm\\2023-07-27_07-00-19_UTC_1.jpg hm\\2023-07-27_07-00-19_UTC_2.jpg [The secret of striped suiting…] json \n"
     ]
    },
    {
     "name": "stderr",
     "output_type": "stream",
     "text": [
      "Downloading posts:  43%|█████████████████████████▉                                   | 213/500 [21:23<31:55,  6.67s/it]"
     ]
    },
    {
     "name": "stdout",
     "output_type": "stream",
     "text": [
      "hm\\2023-07-26_07-13-53_UTC.jpg [Denim knows no bounds in this…] json \n"
     ]
    },
    {
     "name": "stderr",
     "output_type": "stream",
     "text": [
      "Downloading posts:  43%|██████████████████████████                                   | 214/500 [21:29<31:45,  6.66s/it]"
     ]
    },
    {
     "name": "stdout",
     "output_type": "stream",
     "text": [
      "hm\\2023-07-25_11-08-23_UTC.jpg [Denim gets a sporty, volumino…] json \n"
     ]
    },
    {
     "name": "stderr",
     "output_type": "stream",
     "text": [
      "Downloading posts:  43%|██████████████████████████▏                                  | 215/500 [21:37<33:07,  6.98s/it]"
     ]
    },
    {
     "name": "stdout",
     "output_type": "stream",
     "text": [
      "hm\\2023-07-24_07-21-15_UTC.jpg [Sleek, glossy black frames fo…] json \n"
     ]
    },
    {
     "name": "stderr",
     "output_type": "stream",
     "text": [
      "Downloading posts:  43%|██████████████████████████▎                                  | 216/500 [21:43<31:02,  6.56s/it]"
     ]
    },
    {
     "name": "stdout",
     "output_type": "stream",
     "text": [
      "hm\\2023-07-23_14-06-30_UTC_1.jpg hm\\2023-07-23_14-06-30_UTC_2.jpg hm\\2023-07-23_14-06-30_UTC_3.jpg hm\\2023-07-23_14-06-30_UTC_4.jpg [Pair baggy denim and boucle j…] json \n"
     ]
    },
    {
     "name": "stderr",
     "output_type": "stream",
     "text": [
      "Downloading posts:  43%|██████████████████████████▍                                  | 217/500 [21:49<29:54,  6.34s/it]"
     ]
    },
    {
     "name": "stdout",
     "output_type": "stream",
     "text": [
      "hm\\2023-07-23_10-49-30_UTC.jpg [Golden frames for golden hour…] json \n"
     ]
    },
    {
     "name": "stderr",
     "output_type": "stream",
     "text": [
      "Downloading posts:  44%|██████████████████████████▌                                  | 218/500 [21:52<26:06,  5.56s/it]"
     ]
    },
    {
     "name": "stdout",
     "output_type": "stream",
     "text": [
      "hm\\2023-07-22_12-14-19_UTC_1.jpg hm\\2023-07-22_12-14-19_UTC_2.jpg hm\\2023-07-22_12-14-19_UTC_3.jpg hm\\2023-07-22_12-14-19_UTC_4.jpg [Show some leg in a goes-with-…] json \n"
     ]
    },
    {
     "name": "stderr",
     "output_type": "stream",
     "text": [
      "Downloading posts:  44%|██████████████████████████▋                                  | 219/500 [22:02<31:43,  6.77s/it]"
     ]
    },
    {
     "name": "stdout",
     "output_type": "stream",
     "text": [
      "hm\\2023-07-22_08-05-41_UTC.jpg [Shirts in full bloom. #HM   F…] json \n"
     ]
    },
    {
     "name": "stderr",
     "output_type": "stream",
     "text": [
      "Downloading posts:  44%|██████████████████████████▊                                  | 220/500 [22:09<31:34,  6.76s/it]"
     ]
    },
    {
     "name": "stdout",
     "output_type": "stream",
     "text": [
      "hm\\2023-07-21_15-46-56_UTC.jpg [Now you can finally wear deni…] json \n"
     ]
    },
    {
     "name": "stderr",
     "output_type": "stream",
     "text": [
      "Downloading posts:  44%|██████████████████████████▉                                  | 221/500 [22:13<28:26,  6.12s/it]"
     ]
    },
    {
     "name": "stdout",
     "output_type": "stream",
     "text": [
      "hm\\2023-07-20_15-45-49_UTC_1.jpg hm\\2023-07-20_15-45-49_UTC_2.jpg [How to style a striped button…] json \n"
     ]
    },
    {
     "name": "stderr",
     "output_type": "stream",
     "text": [
      "Downloading posts:  44%|███████████████████████████                                  | 222/500 [22:17<25:48,  5.57s/it]"
     ]
    },
    {
     "name": "stdout",
     "output_type": "stream",
     "text": [
      "hm\\2023-07-19_17-17-00_UTC.jpg [The forever wardrobe staple, …] json \n"
     ]
    },
    {
     "name": "stderr",
     "output_type": "stream",
     "text": [
      "Downloading posts:  45%|███████████████████████████▏                                 | 223/500 [22:24<27:13,  5.90s/it]"
     ]
    },
    {
     "name": "stdout",
     "output_type": "stream",
     "text": [
      "hm\\2023-07-19_14-03-28_UTC.jpg [Denim on denim #HM  Denim shi…] json \n"
     ]
    },
    {
     "name": "stderr",
     "output_type": "stream",
     "text": [
      "Downloading posts:  45%|███████████████████████████▎                                 | 224/500 [22:28<23:59,  5.22s/it]"
     ]
    },
    {
     "name": "stdout",
     "output_type": "stream",
     "text": [
      "hm\\2023-07-18_14-05-22_UTC.jpg [Widen your denim horizons, ad…] json \n"
     ]
    },
    {
     "name": "stderr",
     "output_type": "stream",
     "text": [
      "Downloading posts:  45%|███████████████████████████▍                                 | 225/500 [22:35<27:20,  5.97s/it]"
     ]
    },
    {
     "name": "stdout",
     "output_type": "stream",
     "text": [
      "hm\\2023-07-16_12-00-18_UTC_1.jpg hm\\2023-07-16_12-00-18_UTC_2.jpg hm\\2023-07-16_12-00-18_UTC_3.jpg [Cream-coloured denim and whit…] json \n"
     ]
    },
    {
     "name": "stderr",
     "output_type": "stream",
     "text": [
      "Downloading posts:  45%|███████████████████████████▌                                 | 226/500 [22:44<31:06,  6.81s/it]"
     ]
    },
    {
     "name": "stdout",
     "output_type": "stream",
     "text": [
      "hm\\2023-07-16_11-46-37_UTC.jpg [Rock a translucent heeled mul…] json \n"
     ]
    },
    {
     "name": "stderr",
     "output_type": "stream",
     "text": [
      "Downloading posts:  45%|███████████████████████████▋                                 | 227/500 [22:52<32:06,  7.06s/it]"
     ]
    },
    {
     "name": "stdout",
     "output_type": "stream",
     "text": [
      "hm\\2023-07-14_07-59-47_UTC_1.jpg hm\\2023-07-14_07-59-47_UTC_2.jpg hm\\2023-07-14_07-59-47_UTC_3.jpg hm\\2023-07-14_07-59-47_UTC_4.jpg [A fresh take on the Canadian …] json \n"
     ]
    },
    {
     "name": "stderr",
     "output_type": "stream",
     "text": [
      "Downloading posts:  46%|███████████████████████████▊                                 | 228/500 [22:58<31:14,  6.89s/it]"
     ]
    },
    {
     "name": "stdout",
     "output_type": "stream",
     "text": [
      "hm\\2023-07-13_15-02-01_UTC.jpg [Sheer meets bold silhouettes …] json \n"
     ]
    },
    {
     "name": "stderr",
     "output_type": "stream",
     "text": [
      "Downloading posts:  46%|███████████████████████████▉                                 | 229/500 [23:01<25:17,  5.60s/it]"
     ]
    },
    {
     "name": "stdout",
     "output_type": "stream",
     "text": [
      "hm\\2023-07-13_11-03-12_UTC.jpg [Black lace with an edge. #HM …] json \n"
     ]
    },
    {
     "name": "stderr",
     "output_type": "stream",
     "text": [
      "Downloading posts:  46%|████████████████████████████                                 | 230/500 [23:04<21:08,  4.70s/it]"
     ]
    },
    {
     "name": "stdout",
     "output_type": "stream",
     "text": [
      "hm\\2023-07-13_11-02-22_UTC.jpg [Power dressing, Parisian styl…] json \n"
     ]
    },
    {
     "name": "stderr",
     "output_type": "stream",
     "text": [
      "Downloading posts:  46%|████████████████████████████▏                                | 231/500 [23:08<20:53,  4.66s/it]"
     ]
    },
    {
     "name": "stdout",
     "output_type": "stream",
     "text": [
      "hm\\2023-07-12_09-06-51_UTC.jpg [A patent heel with edge. #HM …] json \n"
     ]
    },
    {
     "name": "stderr",
     "output_type": "stream",
     "text": [
      "Downloading posts:  46%|████████████████████████████▎                                | 232/500 [23:14<22:04,  4.94s/it]"
     ]
    },
    {
     "name": "stdout",
     "output_type": "stream",
     "text": [
      "hm\\2023-07-11_07-00-49_UTC.jpg [All that glitters is gold. #H…] json \n"
     ]
    },
    {
     "name": "stderr",
     "output_type": "stream",
     "text": [
      "Downloading posts:  47%|████████████████████████████▍                                | 233/500 [23:18<21:35,  4.85s/it]"
     ]
    },
    {
     "name": "stdout",
     "output_type": "stream",
     "text": [
      "hm\\2023-07-10_11-53-01_UTC.jpg [We have a major crush on the …] hm\\2023-07-10_11-53-01_UTC.mp4 json \n"
     ]
    },
    {
     "name": "stderr",
     "output_type": "stream",
     "text": [
      "Downloading posts:  47%|████████████████████████████▌                                | 234/500 [23:22<20:11,  4.56s/it]"
     ]
    },
    {
     "name": "stdout",
     "output_type": "stream",
     "text": [
      "hm\\2023-07-09_11-25-26_UTC.jpg [The statement back. #HM   Top…] json \n"
     ]
    },
    {
     "name": "stderr",
     "output_type": "stream",
     "text": [
      "Downloading posts:  47%|████████████████████████████▋                                | 235/500 [23:28<21:28,  4.86s/it]"
     ]
    },
    {
     "name": "stdout",
     "output_type": "stream",
     "text": [
      "hm\\2023-07-08_11-42-19_UTC.jpg [Cool and calm in watercolour …] json \n"
     ]
    },
    {
     "name": "stderr",
     "output_type": "stream",
     "text": [
      "Downloading posts:  47%|████████████████████████████▊                                | 236/500 [23:32<21:04,  4.79s/it]"
     ]
    },
    {
     "name": "stdout",
     "output_type": "stream",
     "text": [
      "hm\\2023-07-07_11-00-39_UTC.jpg [Sheer romance. #HM   Bow Top:…] json \n"
     ]
    },
    {
     "name": "stderr",
     "output_type": "stream",
     "text": [
      "Downloading posts:  47%|████████████████████████████▉                                | 237/500 [23:37<20:44,  4.73s/it]"
     ]
    },
    {
     "name": "stdout",
     "output_type": "stream",
     "text": [
      "hm\\2023-07-07_06-08-27_UTC_1.jpg hm\\2023-07-07_06-08-27_UTC_2.jpg [Sweet and simple or all-over …] json \n"
     ]
    },
    {
     "name": "stderr",
     "output_type": "stream",
     "text": [
      "Downloading posts:  48%|█████████████████████████████                                | 238/500 [23:44<23:51,  5.46s/it]"
     ]
    },
    {
     "name": "stdout",
     "output_type": "stream",
     "text": [
      "hm\\2023-07-06_20-27-53_UTC.jpg [Tinted shades and clear frame…] json \n"
     ]
    },
    {
     "name": "stderr",
     "output_type": "stream",
     "text": [
      "Downloading posts:  48%|█████████████████████████████▏                               | 239/500 [23:48<21:22,  4.92s/it]"
     ]
    },
    {
     "name": "stdout",
     "output_type": "stream",
     "text": [
      "hm\\2023-07-06_09-00-18_UTC.jpg [Need a little wardrobe drama?…] hm\\2023-07-06_09-00-18_UTC.mp4 json \n"
     ]
    },
    {
     "name": "stderr",
     "output_type": "stream",
     "text": [
      "Downloading posts:  48%|█████████████████████████████▎                               | 240/500 [23:53<20:59,  4.85s/it]"
     ]
    },
    {
     "name": "stdout",
     "output_type": "stream",
     "text": [
      "hm\\2023-07-05_12-37-30_UTC.jpg [Elevate your basics with soft…] json \n"
     ]
    },
    {
     "name": "stderr",
     "output_type": "stream",
     "text": [
      "Downloading posts:  48%|█████████████████████████████▍                               | 241/500 [24:00<24:31,  5.68s/it]"
     ]
    },
    {
     "name": "stdout",
     "output_type": "stream",
     "text": [
      "hm\\2023-07-04_11-00-46_UTC.jpg [Beachside treasures. #HM   As…] json \n"
     ]
    },
    {
     "name": "stderr",
     "output_type": "stream",
     "text": [
      "Downloading posts:  48%|█████████████████████████████▌                               | 242/500 [24:07<25:38,  5.96s/it]"
     ]
    },
    {
     "name": "stdout",
     "output_type": "stream",
     "text": [
      "hm\\2023-07-03_10-11-51_UTC_1.jpg hm\\2023-07-03_10-11-51_UTC_2.jpg [Eye-catching earrings complet…] json \n"
     ]
    },
    {
     "name": "stderr",
     "output_type": "stream",
     "text": [
      "Downloading posts:  49%|█████████████████████████████▋                               | 243/500 [24:12<24:38,  5.75s/it]"
     ]
    },
    {
     "name": "stdout",
     "output_type": "stream",
     "text": [
      "hm\\2023-07-02_11-00-00_UTC.jpg [Go for bold in oversized squa…] json \n"
     ]
    },
    {
     "name": "stderr",
     "output_type": "stream",
     "text": [
      "Downloading posts:  49%|█████████████████████████████▊                               | 244/500 [24:16<21:46,  5.10s/it]"
     ]
    },
    {
     "name": "stdout",
     "output_type": "stream",
     "text": [
      "hm\\2023-07-01_11-00-00_UTC.jpg [Get a double-take with a croc…] json \n"
     ]
    },
    {
     "name": "stderr",
     "output_type": "stream",
     "text": [
      "Downloading posts:  49%|█████████████████████████████▉                               | 245/500 [24:22<23:35,  5.55s/it]"
     ]
    },
    {
     "name": "stdout",
     "output_type": "stream",
     "text": [
      "hm\\2023-06-30_07-00-00_UTC_1.jpg hm\\2023-06-30_07-00-00_UTC_2.jpg [Taking après swim to the next…] json \n"
     ]
    },
    {
     "name": "stderr",
     "output_type": "stream",
     "text": [
      "Downloading posts:  49%|██████████████████████████████                               | 246/500 [24:27<23:06,  5.46s/it]"
     ]
    },
    {
     "name": "stdout",
     "output_type": "stream",
     "text": [
      "hm\\2023-06-29_15-00-00_UTC.jpg [Pom-pom earrings to make you …] json \n"
     ]
    },
    {
     "name": "stderr",
     "output_type": "stream",
     "text": [
      "Downloading posts:  49%|██████████████████████████████▏                              | 247/500 [24:30<19:25,  4.61s/it]"
     ]
    },
    {
     "name": "stdout",
     "output_type": "stream",
     "text": [
      "hm\\2023-06-29_11-03-07_UTC.jpg [Red-hot summer. #HM   Oversiz…] json \n"
     ]
    },
    {
     "name": "stderr",
     "output_type": "stream",
     "text": [
      "Downloading posts:  50%|██████████████████████████████▎                              | 248/500 [24:38<23:17,  5.54s/it]"
     ]
    },
    {
     "name": "stdout",
     "output_type": "stream",
     "text": [
      "hm\\2023-06-29_07-36-40_UTC_1.jpg hm\\2023-06-29_07-36-40_UTC_2.jpg [The little black dress just g…] json \n"
     ]
    },
    {
     "name": "stderr",
     "output_type": "stream",
     "text": [
      "Downloading posts:  50%|██████████████████████████████▍                              | 249/500 [24:41<20:12,  4.83s/it]"
     ]
    },
    {
     "name": "stdout",
     "output_type": "stream",
     "text": [
      "hm\\2023-06-28_07-00-00_UTC.jpg [Turn up the romance with some…] json \n"
     ]
    },
    {
     "name": "stderr",
     "output_type": "stream",
     "text": [
      "Downloading posts:  50%|██████████████████████████████▌                              | 250/500 [24:45<18:35,  4.46s/it]"
     ]
    },
    {
     "name": "stdout",
     "output_type": "stream",
     "text": [
      "hm\\2023-06-27_15-00-00_UTC_1.jpg hm\\2023-06-27_15-00-00_UTC_2.jpg hm\\2023-06-27_15-00-00_UTC_3.jpg [Show-stopping broderie anglai…] json \n"
     ]
    },
    {
     "name": "stderr",
     "output_type": "stream",
     "text": [
      "Downloading posts:  50%|██████████████████████████████▌                              | 251/500 [24:53<22:57,  5.53s/it]"
     ]
    },
    {
     "name": "stdout",
     "output_type": "stream",
     "text": [
      "hm\\2023-06-27_07-32-50_UTC.jpg [The ultimate going-out strapp…] json \n"
     ]
    },
    {
     "name": "stderr",
     "output_type": "stream",
     "text": [
      "Downloading posts:  50%|██████████████████████████████▋                              | 252/500 [25:00<25:24,  6.15s/it]"
     ]
    },
    {
     "name": "stdout",
     "output_type": "stream",
     "text": [
      "hm\\2023-06-26_15-23-55_UTC_1.jpg hm\\2023-06-26_15-23-55_UTC_2.jpg [A silky set with a gorgeous s…] json \n"
     ]
    },
    {
     "name": "stderr",
     "output_type": "stream",
     "text": [
      "Downloading posts:  51%|██████████████████████████████▊                              | 253/500 [25:04<22:56,  5.57s/it]"
     ]
    },
    {
     "name": "stdout",
     "output_type": "stream",
     "text": [
      "hm\\2023-06-26_12-35-22_UTC.jpg [The mint green mini. #HM  Sma…] json \n"
     ]
    },
    {
     "name": "stderr",
     "output_type": "stream",
     "text": [
      "Downloading posts:  51%|██████████████████████████████▉                              | 254/500 [25:08<20:26,  4.99s/it]"
     ]
    },
    {
     "name": "stdout",
     "output_type": "stream",
     "text": [
      "hm\\2023-06-26_08-42-13_UTC_1.jpg hm\\2023-06-26_08-42-13_UTC_2.jpg hm\\2023-06-26_08-42-13_UTC_3.jpg hm\\2023-06-26_08-42-13_UTC_4.jpg hm\\2023-06-26_08-42-13_UTC_5.jpg [Easy, dreamy sundresses for l…] json \n"
     ]
    },
    {
     "name": "stderr",
     "output_type": "stream",
     "text": [
      "Downloading posts:  51%|███████████████████████████████                              | 255/500 [25:17<24:39,  6.04s/it]"
     ]
    },
    {
     "name": "stdout",
     "output_type": "stream",
     "text": [
      "hm\\2023-06-24_08-02-48_UTC_1.jpg hm\\2023-06-24_08-02-48_UTC_2.jpg [All dressed for a tropical ge…] json \n"
     ]
    },
    {
     "name": "stderr",
     "output_type": "stream",
     "text": [
      "Downloading posts:  51%|███████████████████████████████▏                             | 256/500 [25:21<22:20,  5.49s/it]"
     ]
    },
    {
     "name": "stdout",
     "output_type": "stream",
     "text": [
      "hm\\2023-06-23_10-14-27_UTC.jpg [Sandals that scream chic. #HM…] json \n"
     ]
    },
    {
     "name": "stderr",
     "output_type": "stream",
     "text": [
      "Downloading posts:  51%|███████████████████████████████▎                             | 257/500 [25:25<21:12,  5.24s/it]"
     ]
    },
    {
     "name": "stdout",
     "output_type": "stream",
     "text": [
      "hm\\2023-06-22_07-12-14_UTC.jpg [Nothing feels fresher than a …] json \n"
     ]
    },
    {
     "name": "stderr",
     "output_type": "stream",
     "text": [
      "Downloading posts:  52%|███████████████████████████████▍                             | 258/500 [25:30<20:25,  5.06s/it]"
     ]
    },
    {
     "name": "stdout",
     "output_type": "stream",
     "text": [
      "hm\\2023-06-21_15-00-44_UTC.jpg [It’s all in the details. #HM …] json \n"
     ]
    },
    {
     "name": "stderr",
     "output_type": "stream",
     "text": [
      "Downloading posts:  52%|███████████████████████████████▌                             | 259/500 [25:38<23:22,  5.82s/it]"
     ]
    },
    {
     "name": "stdout",
     "output_type": "stream",
     "text": [
      "hm\\2023-06-21_13-26-33_UTC.jpg [The classic bikini gets a ruc…] hm\\2023-06-21_13-26-33_UTC.mp4 json \n"
     ]
    },
    {
     "name": "stderr",
     "output_type": "stream",
     "text": [
      "Downloading posts:  52%|███████████████████████████████▋                             | 260/500 [25:43<23:01,  5.76s/it]"
     ]
    },
    {
     "name": "stdout",
     "output_type": "stream",
     "text": [
      "hm\\2023-06-19_15-46-30_UTC.jpg [Could there be a more perfect…] json \n"
     ]
    },
    {
     "name": "stderr",
     "output_type": "stream",
     "text": [
      "Downloading posts:  52%|███████████████████████████████▊                             | 261/500 [25:51<25:09,  6.32s/it]"
     ]
    },
    {
     "name": "stdout",
     "output_type": "stream",
     "text": [
      "hm\\2023-06-18_15-55-14_UTC_1.jpg hm\\2023-06-18_15-55-14_UTC_2.jpg [Dainty florals meets bold, ov…] json \n"
     ]
    },
    {
     "name": "stderr",
     "output_type": "stream",
     "text": [
      "Downloading posts:  52%|███████████████████████████████▉                             | 262/500 [25:57<25:01,  6.31s/it]"
     ]
    },
    {
     "name": "stdout",
     "output_type": "stream",
     "text": [
      "hm\\2023-06-17_07-05-58_UTC.jpg [Sleek and chic, with a subtle…] json \n"
     ]
    },
    {
     "name": "stderr",
     "output_type": "stream",
     "text": [
      "Downloading posts:  53%|████████████████████████████████                             | 263/500 [26:08<29:47,  7.54s/it]"
     ]
    },
    {
     "name": "stdout",
     "output_type": "stream",
     "text": [
      "hm\\2023-06-16_12-29-39_UTC.jpg [Low-key shades for long summe…] json \n"
     ]
    },
    {
     "name": "stderr",
     "output_type": "stream",
     "text": [
      "Downloading posts:  53%|████████████████████████████████▏                            | 264/500 [26:10<23:51,  6.06s/it]"
     ]
    },
    {
     "name": "stdout",
     "output_type": "stream",
     "text": [
      "hm\\2023-06-15_17-59-51_UTC_1.jpg hm\\2023-06-15_17-59-51_UTC_2.jpg [Where minimalism meets maxima…] json \n"
     ]
    },
    {
     "name": "stderr",
     "output_type": "stream",
     "text": [
      "Downloading posts:  53%|████████████████████████████████▎                            | 265/500 [26:14<20:33,  5.25s/it]"
     ]
    },
    {
     "name": "stdout",
     "output_type": "stream",
     "text": [
      "hm\\2023-06-15_14-31-14_UTC.jpg [A block heel that makes maxim…] json \n"
     ]
    },
    {
     "name": "stderr",
     "output_type": "stream",
     "text": [
      "Downloading posts:  53%|████████████████████████████████▍                            | 266/500 [26:19<20:58,  5.38s/it]"
     ]
    },
    {
     "name": "stdout",
     "output_type": "stream",
     "text": [
      "hm\\2023-06-15_09-35-42_UTC_1.jpg hm\\2023-06-15_09-35-42_UTC_2.jpg [The crochet co-ord your wardr…] json \n"
     ]
    },
    {
     "name": "stderr",
     "output_type": "stream",
     "text": [
      "Downloading posts:  53%|████████████████████████████████▌                            | 267/500 [26:25<21:54,  5.64s/it]"
     ]
    },
    {
     "name": "stdout",
     "output_type": "stream",
     "text": [
      "hm\\2023-06-15_09-34-37_UTC.jpg [Find your favourite summer sh…] json \n"
     ]
    },
    {
     "name": "stderr",
     "output_type": "stream",
     "text": [
      "Downloading posts:  54%|████████████████████████████████▋                            | 268/500 [26:30<20:38,  5.34s/it]"
     ]
    },
    {
     "name": "stdout",
     "output_type": "stream",
     "text": [
      "hm\\2023-06-14_12-35-02_UTC.jpg [Style inspo can come from the…] hm\\2023-06-14_12-35-02_UTC.mp4 json \n"
     ]
    },
    {
     "name": "stderr",
     "output_type": "stream",
     "text": [
      "Downloading posts:  54%|████████████████████████████████▊                            | 269/500 [26:40<25:23,  6.60s/it]"
     ]
    },
    {
     "name": "stdout",
     "output_type": "stream",
     "text": [
      "hm\\2023-06-13_08-12-25_UTC.jpg [Gunmetal grey for an edgy sum…] json \n"
     ]
    },
    {
     "name": "stderr",
     "output_type": "stream",
     "text": [
      "Downloading posts:  54%|████████████████████████████████▉                            | 270/500 [26:44<23:01,  6.01s/it]"
     ]
    },
    {
     "name": "stdout",
     "output_type": "stream",
     "text": [
      "hm\\2023-06-11_15-03-51_UTC_1.jpg hm\\2023-06-11_15-03-51_UTC_2.jpg hm\\2023-06-11_15-03-51_UTC_3.jpg hm\\2023-06-11_15-03-51_UTC_4.jpg [@ageofaquaria and @im_linux c…] json \n"
     ]
    },
    {
     "name": "stderr",
     "output_type": "stream",
     "text": [
      "Downloading posts:  54%|█████████████████████████████████                            | 271/500 [26:53<26:08,  6.85s/it]"
     ]
    },
    {
     "name": "stdout",
     "output_type": "stream",
     "text": [
      "hm\\2023-06-11_11-12-17_UTC.jpg [Celebrating Pride with H&M. A…] hm\\2023-06-11_11-12-17_UTC.mp4 json \n"
     ]
    },
    {
     "name": "stderr",
     "output_type": "stream",
     "text": [
      "Downloading posts:  54%|█████████████████████████████████▏                           | 272/500 [26:57<23:10,  6.10s/it]"
     ]
    },
    {
     "name": "stdout",
     "output_type": "stream",
     "text": [
      "hm\\2023-06-11_07-26-00_UTC_1.jpg hm\\2023-06-11_07-26-00_UTC_2.jpg hm\\2023-06-11_07-26-00_UTC_3.jpg hm\\2023-06-11_07-26-00_UTC_4.jpg hm\\2023-06-11_07-26-00_UTC_5.jpg [@mjrodriguez7 and @dominiquet…] json \n"
     ]
    },
    {
     "name": "stderr",
     "output_type": "stream",
     "text": [
      "Downloading posts:  55%|█████████████████████████████████▎                           | 273/500 [27:04<23:13,  6.14s/it]"
     ]
    },
    {
     "name": "stdout",
     "output_type": "stream",
     "text": [
      "hm\\2023-06-10_09-05-54_UTC.jpg [@AdwoaAboah wearing custom H&…] json \n"
     ]
    },
    {
     "name": "stderr",
     "output_type": "stream",
     "text": [
      "Downloading posts:  55%|█████████████████████████████████▍                           | 274/500 [27:11<24:47,  6.58s/it]"
     ]
    },
    {
     "name": "stdout",
     "output_type": "stream",
     "text": [
      "hm\\2023-06-09_13-45-54_UTC.jpg [Details from last night, @Adw…] json \n"
     ]
    },
    {
     "name": "stderr",
     "output_type": "stream",
     "text": [
      "Downloading posts:  55%|█████████████████████████████████▌                           | 275/500 [27:19<25:50,  6.89s/it]"
     ]
    },
    {
     "name": "stdout",
     "output_type": "stream",
     "text": [
      "hm\\2023-06-09_09-08-19_UTC.jpg [@AdwoaAboah wearing custom H&…] json \n"
     ]
    },
    {
     "name": "stderr",
     "output_type": "stream",
     "text": [
      "Downloading posts:  55%|█████████████████████████████████▋                           | 276/500 [27:22<20:56,  5.61s/it]"
     ]
    },
    {
     "name": "stdout",
     "output_type": "stream",
     "text": [
      "hm\\2023-06-08_11-05-03_UTC_1.jpg hm\\2023-06-08_11-05-03_UTC_2.jpg hm\\2023-06-08_11-05-03_UTC_3.jpg [No better combo than purple a…] json \n"
     ]
    },
    {
     "name": "stderr",
     "output_type": "stream",
     "text": [
      "Downloading posts:  55%|█████████████████████████████████▊                           | 277/500 [27:29<22:25,  6.03s/it]"
     ]
    },
    {
     "name": "stdout",
     "output_type": "stream",
     "text": [
      "hm\\2023-06-07_15-04-40_UTC.jpg [Romantic frills for date nigh…] json \n"
     ]
    },
    {
     "name": "stderr",
     "output_type": "stream",
     "text": [
      "Downloading posts:  56%|█████████████████████████████████▉                           | 278/500 [27:31<18:29,  5.00s/it]"
     ]
    },
    {
     "name": "stdout",
     "output_type": "stream",
     "text": [
      "hm\\2023-06-06_15-05-17_UTC.jpg [A floral sundress with a neck…] json \n"
     ]
    },
    {
     "name": "stderr",
     "output_type": "stream",
     "text": [
      "Downloading posts:  56%|██████████████████████████████████                           | 279/500 [27:36<17:59,  4.88s/it]"
     ]
    },
    {
     "name": "stdout",
     "output_type": "stream",
     "text": [
      "hm\\2023-06-06_11-22-54_UTC.jpg [Croc mules for a bit of textu…] json \n"
     ]
    },
    {
     "name": "stderr",
     "output_type": "stream",
     "text": [
      "Downloading posts:  56%|██████████████████████████████████▏                          | 280/500 [27:39<16:28,  4.49s/it]"
     ]
    },
    {
     "name": "stdout",
     "output_type": "stream",
     "text": [
      "hm\\2023-06-06_11-00-57_UTC.jpg [Frame your face with transluc…] json \n"
     ]
    },
    {
     "name": "stderr",
     "output_type": "stream",
     "text": [
      "Downloading posts:  56%|██████████████████████████████████▎                          | 281/500 [27:43<15:24,  4.22s/it]"
     ]
    },
    {
     "name": "stdout",
     "output_type": "stream",
     "text": [
      "hm\\2023-06-05_11-26-30_UTC.jpg [Dressed-up details.  #HM   Bo…] json \n"
     ]
    },
    {
     "name": "stderr",
     "output_type": "stream",
     "text": [
      "Downloading posts:  56%|██████████████████████████████████▍                          | 282/500 [27:46<13:35,  3.74s/it]"
     ]
    },
    {
     "name": "stdout",
     "output_type": "stream",
     "text": [
      "hm\\2023-06-04_11-20-29_UTC.jpg [Discover summer linen #HM  Ov…] hm\\2023-06-04_11-20-29_UTC.mp4 json \n"
     ]
    },
    {
     "name": "stderr",
     "output_type": "stream",
     "text": [
      "Downloading posts:  57%|██████████████████████████████████▌                          | 283/500 [27:51<15:17,  4.23s/it]"
     ]
    },
    {
     "name": "stdout",
     "output_type": "stream",
     "text": [
      "hm\\2023-06-03_09-50-34_UTC.jpg [A cheeky cut-out one-piece to…] json \n"
     ]
    },
    {
     "name": "stderr",
     "output_type": "stream",
     "text": [
      "Downloading posts:  57%|██████████████████████████████████▋                          | 284/500 [27:56<16:40,  4.63s/it]"
     ]
    },
    {
     "name": "stdout",
     "output_type": "stream",
     "text": [
      "hm\\2023-06-02_14-36-21_UTC_1.jpg hm\\2023-06-02_14-36-21_UTC_2.jpg hm\\2023-06-02_14-36-21_UTC_3.jpg hm\\2023-06-02_14-36-21_UTC_4.jpg [All about those details. Whic…] json \n"
     ]
    },
    {
     "name": "stderr",
     "output_type": "stream",
     "text": [
      "Downloading posts:  57%|██████████████████████████████████▊                          | 285/500 [28:01<16:47,  4.69s/it]"
     ]
    },
    {
     "name": "stdout",
     "output_type": "stream",
     "text": [
      "hm\\2023-06-02_08-31-47_UTC.jpg [Be the best dressed person on…] json \n"
     ]
    },
    {
     "name": "stderr",
     "output_type": "stream",
     "text": [
      "Downloading posts:  57%|██████████████████████████████████▉                          | 286/500 [28:09<19:50,  5.56s/it]"
     ]
    },
    {
     "name": "stdout",
     "output_type": "stream",
     "text": [
      "hm\\2023-06-01_08-32-29_UTC.jpg [Complete the look with futuri…] json \n"
     ]
    },
    {
     "name": "stderr",
     "output_type": "stream",
     "text": [
      "Downloading posts:  57%|███████████████████████████████████                          | 287/500 [28:14<18:44,  5.28s/it]"
     ]
    },
    {
     "name": "stdout",
     "output_type": "stream",
     "text": [
      "hm\\2023-05-31_09-32-07_UTC.jpg [You don’t need a beach day to…] json \n"
     ]
    },
    {
     "name": "stderr",
     "output_type": "stream",
     "text": [
      "Downloading posts:  58%|███████████████████████████████████▏                         | 288/500 [28:19<19:06,  5.41s/it]"
     ]
    },
    {
     "name": "stdout",
     "output_type": "stream",
     "text": [
      "hm\\2023-05-30_14-53-01_UTC.jpg [For the perfect lacy beach co…] json \n"
     ]
    },
    {
     "name": "stderr",
     "output_type": "stream",
     "text": [
      "Downloading posts:  58%|███████████████████████████████████▎                         | 289/500 [28:27<21:21,  6.07s/it]"
     ]
    },
    {
     "name": "stdout",
     "output_type": "stream",
     "text": [
      "hm\\2023-05-30_11-02-20_UTC_1.jpg hm\\2023-05-30_11-02-20_UTC_2.jpg hm\\2023-05-30_11-02-20_UTC_3.jpg [Giving the cold shoulder neve…] json \n"
     ]
    },
    {
     "name": "stderr",
     "output_type": "stream",
     "text": [
      "Downloading posts:  58%|███████████████████████████████████▍                         | 290/500 [28:32<20:03,  5.73s/it]"
     ]
    },
    {
     "name": "stdout",
     "output_type": "stream",
     "text": [
      "hm\\2023-05-29_07-56-33_UTC_1.jpg hm\\2023-05-29_07-56-33_UTC_2.jpg hm\\2023-05-29_07-56-33_UTC_3.jpg [Dreaming in silver this seaso…] json \n"
     ]
    },
    {
     "name": "stderr",
     "output_type": "stream",
     "text": [
      "Downloading posts:  58%|███████████████████████████████████▌                         | 291/500 [28:39<21:15,  6.10s/it]"
     ]
    },
    {
     "name": "stdout",
     "output_type": "stream",
     "text": [
      "hm\\2023-05-29_06-14-28_UTC_1.jpg hm\\2023-05-29_06-14-28_UTC_2.jpg hm\\2023-05-29_06-14-28_UTC_3.jpg [The key to the mermaid look i…] json \n"
     ]
    },
    {
     "name": "stderr",
     "output_type": "stream",
     "text": [
      "Downloading posts:  58%|███████████████████████████████████▌                         | 292/500 [28:48<23:59,  6.92s/it]"
     ]
    },
    {
     "name": "stdout",
     "output_type": "stream",
     "text": [
      "hm\\2023-05-28_13-10-54_UTC_1.jpg hm\\2023-05-28_13-10-54_UTC_2.jpg [This seasons catch: mesh dres…] json \n"
     ]
    },
    {
     "name": "stderr",
     "output_type": "stream",
     "text": [
      "Downloading posts:  59%|███████████████████████████████████▋                         | 293/500 [28:52<21:04,  6.11s/it]"
     ]
    },
    {
     "name": "stdout",
     "output_type": "stream",
     "text": [
      "hm\\2023-05-28_11-38-11_UTC.jpg [Make a wave everywhere you go…] hm\\2023-05-28_11-38-11_UTC.mp4 json \n"
     ]
    },
    {
     "name": "stderr",
     "output_type": "stream",
     "text": [
      "Downloading posts:  59%|███████████████████████████████████▊                         | 294/500 [29:00<23:02,  6.71s/it]"
     ]
    },
    {
     "name": "stdout",
     "output_type": "stream",
     "text": [
      "hm\\2023-05-28_11-32-09_UTC.jpg [Golden days ahead. #HM   Doub…] json \n"
     ]
    },
    {
     "name": "stderr",
     "output_type": "stream",
     "text": [
      "Downloading posts:  59%|███████████████████████████████████▉                         | 295/500 [29:05<20:45,  6.08s/it]"
     ]
    },
    {
     "name": "stdout",
     "output_type": "stream",
     "text": [
      "hm\\2023-05-27_13-00-54_UTC_1.jpg hm\\2023-05-27_13-00-54_UTC_2.jpg hm\\2023-05-27_13-00-54_UTC_3.jpg hm\\2023-05-27_13-00-54_UTC_4.jpg [Our take on styling the parac…] json \n"
     ]
    },
    {
     "name": "stderr",
     "output_type": "stream",
     "text": [
      "Downloading posts:  59%|████████████████████████████████████                         | 296/500 [29:10<20:07,  5.92s/it]"
     ]
    },
    {
     "name": "stdout",
     "output_type": "stream",
     "text": [
      "hm\\2023-05-26_09-04-56_UTC.jpg [Add some texture to your summ…] json \n"
     ]
    },
    {
     "name": "stderr",
     "output_type": "stream",
     "text": [
      "Downloading posts:  59%|████████████████████████████████████▏                        | 297/500 [29:13<16:39,  4.93s/it]"
     ]
    },
    {
     "name": "stdout",
     "output_type": "stream",
     "text": [
      "hm\\2023-05-25_14-03-46_UTC.jpg [Bling things. #HM   Rhineston…] json \n"
     ]
    },
    {
     "name": "stderr",
     "output_type": "stream",
     "text": [
      "Downloading posts:  60%|████████████████████████████████████▎                        | 298/500 [29:20<19:16,  5.73s/it]"
     ]
    },
    {
     "name": "stdout",
     "output_type": "stream",
     "text": [
      "hm\\2023-05-25_11-01-57_UTC.jpg [Shines wherever she goes. #HM…] json \n"
     ]
    },
    {
     "name": "stderr",
     "output_type": "stream",
     "text": [
      "Downloading posts:  60%|████████████████████████████████████▍                        | 299/500 [29:28<21:05,  6.30s/it]"
     ]
    },
    {
     "name": "stdout",
     "output_type": "stream",
     "text": [
      "hm\\2023-05-25_08-52-53_UTC.jpg [The summer look: statement-ma…] hm\\2023-05-25_08-52-53_UTC.mp4 json \n"
     ]
    },
    {
     "name": "stderr",
     "output_type": "stream",
     "text": [
      "Downloading posts:  60%|████████████████████████████████████▌                        | 300/500 [29:34<21:07,  6.34s/it]"
     ]
    },
    {
     "name": "stdout",
     "output_type": "stream",
     "text": [
      "hm\\2023-05-21_13-53-56_UTC.jpg [Your beach-to-city look. #HM …] json \n"
     ]
    },
    {
     "name": "stderr",
     "output_type": "stream",
     "text": [
      "Downloading posts:  60%|████████████████████████████████████▋                        | 301/500 [29:37<17:22,  5.24s/it]"
     ]
    },
    {
     "name": "stdout",
     "output_type": "stream",
     "text": [
      "hm\\2023-05-21_10-17-00_UTC.jpg [Ice, ice baby. #HM   Small sh…] hm\\2023-05-21_10-17-00_UTC.mp4 json \n"
     ]
    },
    {
     "name": "stderr",
     "output_type": "stream",
     "text": [
      "Downloading posts:  60%|████████████████████████████████████▊                        | 302/500 [29:43<18:10,  5.51s/it]"
     ]
    },
    {
     "name": "stdout",
     "output_type": "stream",
     "text": [
      "hm\\2023-05-20_11-24-07_UTC.jpg [Consider this permission to e…] json \n"
     ]
    },
    {
     "name": "stderr",
     "output_type": "stream",
     "text": [
      "Downloading posts:  61%|████████████████████████████████████▉                        | 303/500 [29:47<16:18,  4.97s/it]"
     ]
    },
    {
     "name": "stdout",
     "output_type": "stream",
     "text": [
      "hm\\2023-05-20_08-28-30_UTC.jpg [The summer collection: Made t…] json \n"
     ]
    },
    {
     "name": "stderr",
     "output_type": "stream",
     "text": [
      "Downloading posts:  61%|█████████████████████████████████████                        | 304/500 [29:52<15:58,  4.89s/it]"
     ]
    },
    {
     "name": "stdout",
     "output_type": "stream",
     "text": [
      "hm\\2023-05-19_12-25-56_UTC_1.jpg hm\\2023-05-19_12-25-56_UTC_2.jpg [Glow through the summer with …] json \n"
     ]
    },
    {
     "name": "stderr",
     "output_type": "stream",
     "text": [
      "Downloading posts:  61%|█████████████████████████████████████▏                       | 305/500 [29:56<15:22,  4.73s/it]"
     ]
    },
    {
     "name": "stdout",
     "output_type": "stream",
     "text": [
      "hm\\2023-05-19_09-20-22_UTC.jpg [Beachside elegance for SS23. …] hm\\2023-05-19_09-20-22_UTC.mp4 json \n"
     ]
    },
    {
     "name": "stderr",
     "output_type": "stream",
     "text": [
      "Downloading posts:  61%|█████████████████████████████████████▎                       | 306/500 [30:00<14:45,  4.56s/it]"
     ]
    },
    {
     "name": "stdout",
     "output_type": "stream",
     "text": [
      "hm\\2023-05-18_15-02-52_UTC.jpg [Simplicity with a side of gla…] json \n"
     ]
    },
    {
     "name": "stderr",
     "output_type": "stream",
     "text": [
      "Downloading posts:  61%|█████████████████████████████████████▍                       | 307/500 [30:07<16:44,  5.20s/it]"
     ]
    },
    {
     "name": "stdout",
     "output_type": "stream",
     "text": [
      "hm\\2023-05-18_11-38-00_UTC.jpg [Refresh this summer with ice-…] hm\\2023-05-18_11-38-00_UTC.mp4 json \n"
     ]
    },
    {
     "name": "stderr",
     "output_type": "stream",
     "text": [
      "Downloading posts:  62%|█████████████████████████████████████▌                       | 308/500 [30:11<15:51,  4.96s/it]"
     ]
    },
    {
     "name": "stdout",
     "output_type": "stream",
     "text": [
      "hm\\2023-05-18_07-19-57_UTC.jpg [SS23: Out-of-office and going…] json \n"
     ]
    },
    {
     "name": "stderr",
     "output_type": "stream",
     "text": [
      "Downloading posts:  62%|█████████████████████████████████████▋                       | 309/500 [30:17<16:26,  5.17s/it]"
     ]
    },
    {
     "name": "stdout",
     "output_type": "stream",
     "text": [
      "hm\\2023-05-14_11-11-37_UTC.jpg [Amp up your look with unexpec…] json \n"
     ]
    },
    {
     "name": "stderr",
     "output_type": "stream",
     "text": [
      "Downloading posts:  62%|█████████████████████████████████████▊                       | 310/500 [30:24<18:39,  5.89s/it]"
     ]
    },
    {
     "name": "stdout",
     "output_type": "stream",
     "text": [
      "hm\\2023-05-13_13-04-37_UTC.jpg [Only right moves in black and…] json \n"
     ]
    },
    {
     "name": "stderr",
     "output_type": "stream",
     "text": [
      "Downloading posts:  62%|█████████████████████████████████████▉                       | 311/500 [30:31<19:13,  6.10s/it]"
     ]
    },
    {
     "name": "stdout",
     "output_type": "stream",
     "text": [
      "hm\\2023-05-12_07-01-48_UTC_1.jpg hm\\2023-05-12_07-01-48_UTC_2.jpg hm\\2023-05-12_07-01-48_UTC_3.jpg [A bit of glamour in earth ton…] json \n"
     ]
    },
    {
     "name": "stderr",
     "output_type": "stream",
     "text": [
      "Downloading posts:  62%|██████████████████████████████████████                       | 312/500 [30:39<20:46,  6.63s/it]"
     ]
    },
    {
     "name": "stdout",
     "output_type": "stream",
     "text": [
      "hm\\2023-05-11_09-57-32_UTC.jpg [@selenaforrest, @xumeen, and …] json \n"
     ]
    },
    {
     "name": "stderr",
     "output_type": "stream",
     "text": [
      "Downloading posts:  63%|██████████████████████████████████████▏                      | 313/500 [30:50<24:47,  7.95s/it]"
     ]
    },
    {
     "name": "stdout",
     "output_type": "stream",
     "text": [
      "hm\\2023-05-11_09-47-52_UTC.jpg [@imaanhammam, @annaewers, @ar…] json \n"
     ]
    },
    {
     "name": "stderr",
     "output_type": "stream",
     "text": [
      "Downloading posts:  63%|██████████████████████████████████████▎                      | 314/500 [30:58<24:20,  7.85s/it]"
     ]
    },
    {
     "name": "stdout",
     "output_type": "stream",
     "text": [
      "hm\\2023-05-11_07-51-55_UTC.jpg [@awengchuol and @mariacarlabo…] json \n"
     ]
    },
    {
     "name": "stderr",
     "output_type": "stream",
     "text": [
      "Downloading posts:  63%|██████████████████████████████████████▍                      | 315/500 [31:04<23:03,  7.48s/it]"
     ]
    },
    {
     "name": "stdout",
     "output_type": "stream",
     "text": [
      "hm\\2023-05-10_15-01-41_UTC.jpg [@annaewers and @selenaforrest…] json \n"
     ]
    },
    {
     "name": "stderr",
     "output_type": "stream",
     "text": [
      "Downloading posts:  63%|██████████████████████████████████████▌                      | 316/500 [31:11<22:09,  7.22s/it]"
     ]
    },
    {
     "name": "stdout",
     "output_type": "stream",
     "text": [
      "hm\\2023-05-10_12-10-47_UTC_1.jpg hm\\2023-05-10_12-10-47_UTC_2.jpg hm\\2023-05-10_12-10-47_UTC_3.jpg hm\\2023-05-10_12-10-47_UTC_4.jpg hm\\2023-05-10_12-10-47_UTC_5.jpg hm\\2023-05-10_12-10-47_UTC_6.jpg hm\\2023-05-10_12-10-47_UTC_7.jpg hm\\2023-05-10_12-10-47_UTC_8.jpg hm\\2023-05-10_12-10-47_UTC_9.jpg hm\\2023-05-10_12-10-47_UTC_10.jpg [#MuglerHM by @cadwallader. - …] json \n"
     ]
    },
    {
     "name": "stderr",
     "output_type": "stream",
     "text": [
      "Downloading posts:  63%|██████████████████████████████████████▋                      | 317/500 [31:22<26:03,  8.55s/it]"
     ]
    },
    {
     "name": "stdout",
     "output_type": "stream",
     "text": [
      "hm\\2023-05-10_08-03-12_UTC.jpg [@sola5532 and @selenaforrest …] json \n"
     ]
    },
    {
     "name": "stderr",
     "output_type": "stream",
     "text": [
      "Downloading posts:  64%|██████████████████████████████████████▊                      | 318/500 [31:29<24:09,  7.97s/it]"
     ]
    },
    {
     "name": "stdout",
     "output_type": "stream",
     "text": [
      "hm\\2023-05-09_15-01-54_UTC.jpg [@imaanhammam for #MuglerHM by…] hm\\2023-05-09_15-01-54_UTC.mp4 json \n"
     ]
    },
    {
     "name": "stderr",
     "output_type": "stream",
     "text": [
      "Downloading posts:  64%|██████████████████████████████████████▉                      | 319/500 [31:34<21:23,  7.09s/it]"
     ]
    },
    {
     "name": "stdout",
     "output_type": "stream",
     "text": [
      "hm\\2023-05-09_12-46-10_UTC.jpg [@arca1000000 and @mariacarlab…] json \n"
     ]
    },
    {
     "name": "stderr",
     "output_type": "stream",
     "text": [
      "Downloading posts:  64%|███████████████████████████████████████                      | 320/500 [31:40<19:56,  6.65s/it]"
     ]
    },
    {
     "name": "stdout",
     "output_type": "stream",
     "text": [
      "hm\\2023-05-09_08-18-24_UTC.jpg [@imaanhammam, @selenaforrest,…] hm\\2023-05-09_08-18-24_UTC.mp4 json \n"
     ]
    },
    {
     "name": "stderr",
     "output_type": "stream",
     "text": [
      "Downloading posts:  64%|███████████████████████████████████████▏                     | 321/500 [31:48<21:33,  7.23s/it]"
     ]
    },
    {
     "name": "stdout",
     "output_type": "stream",
     "text": [
      "hm\\2023-05-08_15-21-55_UTC.jpg [@mariacarlaboscono for #Mugle…] hm\\2023-05-08_15-21-55_UTC.mp4 json \n"
     ]
    },
    {
     "name": "stderr",
     "output_type": "stream",
     "text": [
      "Downloading posts:  64%|███████████████████████████████████████▎                     | 322/500 [31:54<20:11,  6.80s/it]"
     ]
    },
    {
     "name": "stdout",
     "output_type": "stream",
     "text": [
      "hm\\2023-05-08_08-09-04_UTC.jpg [@mariacarlaboscono, @selenafo…] json \n"
     ]
    },
    {
     "name": "stderr",
     "output_type": "stream",
     "text": [
      "Downloading posts:  65%|███████████████████████████████████████▍                     | 323/500 [31:58<17:15,  5.85s/it]"
     ]
    },
    {
     "name": "stdout",
     "output_type": "stream",
     "text": [
      "hm\\2023-05-07_11-03-46_UTC.jpg [@0800shygirl, @amaarae, @eart…] hm\\2023-05-07_11-03-46_UTC.mp4 json \n"
     ]
    },
    {
     "name": "stderr",
     "output_type": "stream",
     "text": [
      "Downloading posts:  65%|███████████████████████████████████████▌                     | 324/500 [32:07<19:47,  6.75s/it]"
     ]
    },
    {
     "name": "stdout",
     "output_type": "stream",
     "text": [
      "hm\\2023-05-06_12-05-55_UTC_1.jpg hm\\2023-05-06_12-05-55_UTC_2.jpg hm\\2023-05-06_12-05-55_UTC_3.jpg hm\\2023-05-06_12-05-55_UTC_4.jpg [For every occasion, there’s a…] json \n"
     ]
    },
    {
     "name": "stderr",
     "output_type": "stream",
     "text": [
      "Downloading posts:  65%|███████████████████████████████████████▋                     | 325/500 [32:12<18:40,  6.40s/it]"
     ]
    },
    {
     "name": "stdout",
     "output_type": "stream",
     "text": [
      "hm\\2023-05-05_09-04-05_UTC.jpg [Add instant cool to your outf…] hm\\2023-05-05_09-04-05_UTC.mp4 json \n"
     ]
    },
    {
     "name": "stderr",
     "output_type": "stream",
     "text": [
      "Downloading posts:  65%|███████████████████████████████████████▊                     | 326/500 [32:17<16:56,  5.84s/it]"
     ]
    },
    {
     "name": "stdout",
     "output_type": "stream",
     "text": [
      "hm\\2023-05-04_11-33-54_UTC_1.jpg hm\\2023-05-04_11-33-54_UTC_2.jpg [A new spin on the sweetheart …] json \n"
     ]
    },
    {
     "name": "stderr",
     "output_type": "stream",
     "text": [
      "Downloading posts:  65%|███████████████████████████████████████▉                     | 327/500 [32:25<18:57,  6.58s/it]"
     ]
    },
    {
     "name": "stdout",
     "output_type": "stream",
     "text": [
      "hm\\2023-05-03_07-36-32_UTC.jpg [Sleek black shades to finish …] json \n"
     ]
    },
    {
     "name": "stderr",
     "output_type": "stream",
     "text": [
      "Downloading posts:  66%|████████████████████████████████████████                     | 328/500 [32:28<15:26,  5.38s/it]"
     ]
    },
    {
     "name": "stdout",
     "output_type": "stream",
     "text": [
      "hm\\2023-05-02_08-54-24_UTC_1.jpg hm\\2023-05-02_08-54-24_UTC_2.jpg [Romantic lace gets an edge in…] json \n"
     ]
    },
    {
     "name": "stderr",
     "output_type": "stream",
     "text": [
      "Downloading posts:  66%|████████████████████████████████████████▏                    | 329/500 [32:33<15:18,  5.37s/it]"
     ]
    },
    {
     "name": "stdout",
     "output_type": "stream",
     "text": [
      "hm\\2023-05-01_14-52-23_UTC.jpg [Take your outfit to new heigh…] json \n"
     ]
    },
    {
     "name": "stderr",
     "output_type": "stream",
     "text": [
      "Downloading posts:  66%|████████████████████████████████████████▎                    | 330/500 [32:36<12:53,  4.55s/it]"
     ]
    },
    {
     "name": "stdout",
     "output_type": "stream",
     "text": [
      "hm\\2023-04-27_16-05-49_UTC_1.jpg hm\\2023-04-27_16-05-49_UTC_2.jpg [@jerryfayehall, @imaanhammam,…] json \n"
     ]
    },
    {
     "name": "stderr",
     "output_type": "stream",
     "text": [
      "Downloading posts:  66%|████████████████████████████████████████▍                    | 331/500 [32:42<14:17,  5.08s/it]"
     ]
    },
    {
     "name": "stdout",
     "output_type": "stream",
     "text": [
      "hm\\2023-04-27_12-42-54_UTC_1.jpg hm\\2023-04-27_12-42-54_UTC_2.jpg [@krono.one, @annaewers, @sele…] json \n"
     ]
    },
    {
     "name": "stderr",
     "output_type": "stream",
     "text": [
      "Downloading posts:  66%|████████████████████████████████████████▌                    | 332/500 [32:46<13:35,  4.85s/it]"
     ]
    },
    {
     "name": "stdout",
     "output_type": "stream",
     "text": [
      "hm\\2023-04-27_07-47-31_UTC_1.jpg hm\\2023-04-27_07-47-31_UTC_2.jpg [Introducing #MuglerHM by @cad…] json \n"
     ]
    },
    {
     "name": "stderr",
     "output_type": "stream",
     "text": [
      "Downloading posts:  67%|████████████████████████████████████████▋                    | 333/500 [32:51<13:51,  4.98s/it]"
     ]
    },
    {
     "name": "stdout",
     "output_type": "stream",
     "text": [
      "hm\\2023-04-26_14-06-37_UTC.jpg [Summer calls for eye-catching…] json \n"
     ]
    },
    {
     "name": "stderr",
     "output_type": "stream",
     "text": [
      "Downloading posts:  67%|████████████████████████████████████████▋                    | 334/500 [32:56<13:28,  4.87s/it]"
     ]
    },
    {
     "name": "stdout",
     "output_type": "stream",
     "text": [
      "hm\\2023-04-26_08-05-52_UTC.jpg [It’s giving easy, breezy, low…] hm\\2023-04-26_08-05-52_UTC.mp4 json \n"
     ]
    },
    {
     "name": "stderr",
     "output_type": "stream",
     "text": [
      "Downloading posts:  67%|████████████████████████████████████████▊                    | 335/500 [33:00<12:18,  4.48s/it]"
     ]
    },
    {
     "name": "stdout",
     "output_type": "stream",
     "text": [
      "hm\\2023-04-25_14-20-59_UTC.jpg [Flower power. #HM   Flower-sh…] json \n"
     ]
    },
    {
     "name": "stderr",
     "output_type": "stream",
     "text": [
      "Downloading posts:  67%|████████████████████████████████████████▉                    | 336/500 [33:03<11:33,  4.23s/it]"
     ]
    },
    {
     "name": "stdout",
     "output_type": "stream",
     "text": [
      "hm\\2023-04-25_07-01-41_UTC_1.jpg hm\\2023-04-25_07-01-41_UTC_2.jpg hm\\2023-04-25_07-01-41_UTC_3.jpg hm\\2023-04-25_07-01-41_UTC_4.jpg [Fashion but make it fuss-free…] json \n"
     ]
    },
    {
     "name": "stderr",
     "output_type": "stream",
     "text": [
      "Downloading posts:  67%|█████████████████████████████████████████                    | 337/500 [33:12<15:10,  5.58s/it]"
     ]
    },
    {
     "name": "stdout",
     "output_type": "stream",
     "text": [
      "hm\\2023-04-24_15-43-26_UTC.jpg [Tie your look together with a…] json \n"
     ]
    },
    {
     "name": "stderr",
     "output_type": "stream",
     "text": [
      "Downloading posts:  68%|█████████████████████████████████████████▏                   | 338/500 [33:18<15:06,  5.60s/it]"
     ]
    },
    {
     "name": "stdout",
     "output_type": "stream",
     "text": [
      "hm\\2023-04-24_07-50-51_UTC_1.jpg hm\\2023-04-24_07-50-51_UTC_2.jpg hm\\2023-04-24_07-50-51_UTC_3.jpg [Stripes on stripes on stripes…] json \n"
     ]
    },
    {
     "name": "stderr",
     "output_type": "stream",
     "text": [
      "Downloading posts:  68%|█████████████████████████████████████████▎                   | 339/500 [33:26<16:53,  6.29s/it]"
     ]
    },
    {
     "name": "stdout",
     "output_type": "stream",
     "text": [
      "hm\\2023-04-21_22-07-26_UTC.jpg [#MuglerHM collection by @cadw…] hm\\2023-04-21_22-07-26_UTC.mp4 json \n"
     ]
    },
    {
     "name": "stderr",
     "output_type": "stream",
     "text": [
      "Downloading posts:  68%|█████████████████████████████████████████▍                   | 340/500 [33:34<18:20,  6.88s/it]"
     ]
    },
    {
     "name": "stdout",
     "output_type": "stream",
     "text": [
      "hm\\2023-04-21_16-11-41_UTC_1.jpg hm\\2023-04-21_16-11-41_UTC_2.jpg hm\\2023-04-21_16-11-41_UTC_3.jpg hm\\2023-04-21_16-11-41_UTC_4.jpg hm\\2023-04-21_16-11-41_UTC_5.jpg [Backstage at #MuglerHM by @ca…] json \n"
     ]
    },
    {
     "name": "stderr",
     "output_type": "stream",
     "text": [
      "Downloading posts:  68%|█████████████████████████████████████████▌                   | 341/500 [33:41<18:06,  6.84s/it]"
     ]
    },
    {
     "name": "stdout",
     "output_type": "stream",
     "text": [
      "hm\\2023-04-21_03-40-15_UTC.jpg [Backstage at #MuglerHM by @ca…] hm\\2023-04-21_03-40-15_UTC.mp4 json \n"
     ]
    },
    {
     "name": "stderr",
     "output_type": "stream",
     "text": [
      "Downloading posts:  68%|█████████████████████████████████████████▋                   | 342/500 [33:47<17:39,  6.71s/it]"
     ]
    },
    {
     "name": "stdout",
     "output_type": "stream",
     "text": [
      "hm\\2023-04-21_01-05-51_UTC.jpg [#MuglerHM by @cadwallader LAU…] hm\\2023-04-21_01-05-51_UTC.mp4 json \n"
     ]
    },
    {
     "name": "stderr",
     "output_type": "stream",
     "text": [
      "Downloading posts:  69%|█████████████████████████████████████████▊                   | 343/500 [33:53<17:12,  6.58s/it]"
     ]
    },
    {
     "name": "stdout",
     "output_type": "stream",
     "text": [
      "hm\\2023-04-20_13-57-42_UTC.jpg [#MuglerHM by @cadwallader LAU…] hm\\2023-04-20_13-57-42_UTC.mp4 json \n"
     ]
    },
    {
     "name": "stderr",
     "output_type": "stream",
     "text": [
      "Downloading posts:  69%|█████████████████████████████████████████▉                   | 344/500 [33:58<15:35,  6.00s/it]"
     ]
    },
    {
     "name": "stdout",
     "output_type": "stream",
     "text": [
      "hm\\2023-04-20_07-29-44_UTC_1.jpg hm\\2023-04-20_07-29-44_UTC_2.jpg hm\\2023-04-20_07-29-44_UTC_3.jpg hm\\2023-04-20_07-29-44_UTC_4.jpg hm\\2023-04-20_07-29-44_UTC_5.jpg hm\\2023-04-20_07-29-44_UTC_6.jpg hm\\2023-04-20_07-29-44_UTC_7.jpg hm\\2023-04-20_07-29-44_UTC_8.jpg hm\\2023-04-20_07-29-44_UTC_9.jpg hm\\2023-04-20_07-29-44_UTC_10.jpg [#MuglerHM by @cadwallader LAU…] json \n"
     ]
    },
    {
     "name": "stderr",
     "output_type": "stream",
     "text": [
      "Downloading posts:  69%|██████████████████████████████████████████                   | 345/500 [34:11<20:58,  8.12s/it]"
     ]
    },
    {
     "name": "stdout",
     "output_type": "stream",
     "text": [
      "hm\\2023-04-19_14-00-38_UTC_1.jpg hm\\2023-04-19_14-00-38_UTC_2.jpg hm\\2023-04-19_14-00-38_UTC_3.jpg [The easy knit co-ord. #HM   O…] json \n"
     ]
    },
    {
     "name": "stderr",
     "output_type": "stream",
     "text": [
      "Downloading posts:  69%|██████████████████████████████████████████▏                  | 346/500 [34:19<20:36,  8.03s/it]"
     ]
    },
    {
     "name": "stdout",
     "output_type": "stream",
     "text": [
      "hm\\2023-04-19_07-24-15_UTC.jpg [Which shade silhouette will y…] json \n"
     ]
    },
    {
     "name": "stderr",
     "output_type": "stream",
     "text": [
      "Downloading posts:  69%|██████████████████████████████████████████▎                  | 347/500 [34:24<18:37,  7.30s/it]"
     ]
    },
    {
     "name": "stdout",
     "output_type": "stream",
     "text": [
      "hm\\2023-04-18_15-38-54_UTC_1.jpg hm\\2023-04-18_15-38-54_UTC_2.jpg hm\\2023-04-18_15-38-54_UTC_3.jpg hm\\2023-04-18_15-38-54_UTC_4.jpg [Easy sun hats for every style…] json \n"
     ]
    },
    {
     "name": "stderr",
     "output_type": "stream",
     "text": [
      "Downloading posts:  70%|██████████████████████████████████████████▍                  | 348/500 [34:31<18:21,  7.24s/it]"
     ]
    },
    {
     "name": "stdout",
     "output_type": "stream",
     "text": [
      "hm\\2023-04-18_09-48-35_UTC.jpg [Golden days ahead. #HM  Wide …] json \n"
     ]
    },
    {
     "name": "stderr",
     "output_type": "stream",
     "text": [
      "Downloading posts:  70%|██████████████████████████████████████████▌                  | 349/500 [34:36<16:14,  6.45s/it]"
     ]
    },
    {
     "name": "stdout",
     "output_type": "stream",
     "text": [
      "hm\\2023-04-18_05-24-50_UTC_1.jpg hm\\2023-04-18_05-24-50_UTC_2.jpg hm\\2023-04-18_05-24-50_UTC_3.jpg hm\\2023-04-18_05-24-50_UTC_4.jpg [For some unexpected rodeo fla…] json \n"
     ]
    },
    {
     "name": "stderr",
     "output_type": "stream",
     "text": [
      "Downloading posts:  70%|██████████████████████████████████████████▋                  | 350/500 [34:43<16:08,  6.45s/it]"
     ]
    },
    {
     "name": "stdout",
     "output_type": "stream",
     "text": [
      "hm\\2023-04-17_07-23-40_UTC.jpg [Beachy vibes for when you wan…] json \n"
     ]
    },
    {
     "name": "stderr",
     "output_type": "stream",
     "text": [
      "Downloading posts:  70%|██████████████████████████████████████████▊                  | 351/500 [34:49<16:11,  6.52s/it]"
     ]
    },
    {
     "name": "stdout",
     "output_type": "stream",
     "text": [
      "hm\\2023-04-13_15-06-36_UTC_1.jpg hm\\2023-04-13_15-06-36_UTC_2.jpg [Swinging into #coachella like…] json \n"
     ]
    },
    {
     "name": "stderr",
     "output_type": "stream",
     "text": [
      "Downloading posts:  70%|██████████████████████████████████████████▉                  | 352/500 [34:58<17:25,  7.06s/it]"
     ]
    },
    {
     "name": "stdout",
     "output_type": "stream",
     "text": [
      "hm\\2023-04-13_11-05-30_UTC.jpg [Run, don’t walk…new Coachella…] hm\\2023-04-13_11-05-30_UTC.mp4 json \n"
     ]
    },
    {
     "name": "stderr",
     "output_type": "stream",
     "text": [
      "Downloading posts:  71%|███████████████████████████████████████████                  | 353/500 [35:06<17:59,  7.34s/it]"
     ]
    },
    {
     "name": "stdout",
     "output_type": "stream",
     "text": [
      "hm\\2023-04-13_07-29-59_UTC_1.jpg hm\\2023-04-13_07-29-59_UTC_2.jpg [Feeling all the festival feel…] json \n"
     ]
    },
    {
     "name": "stderr",
     "output_type": "stream",
     "text": [
      "Downloading posts:  71%|███████████████████████████████████████████▏                 | 354/500 [35:14<18:30,  7.60s/it]"
     ]
    },
    {
     "name": "stdout",
     "output_type": "stream",
     "text": [
      "hm\\2023-04-12_08-01-52_UTC.jpg [The perfect brush for your fi…] json \n"
     ]
    },
    {
     "name": "stderr",
     "output_type": "stream",
     "text": [
      "Downloading posts:  71%|███████████████████████████████████████████▎                 | 355/500 [35:16<14:46,  6.11s/it]"
     ]
    },
    {
     "name": "stdout",
     "output_type": "stream",
     "text": [
      "hm\\2023-04-11_07-05-30_UTC.jpg [May attract pop-up dance floo…] json \n"
     ]
    },
    {
     "name": "stderr",
     "output_type": "stream",
     "text": [
      "Downloading posts:  71%|███████████████████████████████████████████▍                 | 356/500 [35:19<12:09,  5.06s/it]"
     ]
    },
    {
     "name": "stdout",
     "output_type": "stream",
     "text": [
      "hm\\2023-04-10_14-33-33_UTC.jpg [Groovy swirl accents for your…] json \n"
     ]
    },
    {
     "name": "stderr",
     "output_type": "stream",
     "text": [
      "Downloading posts:  71%|███████████████████████████████████████████▌                 | 357/500 [35:24<11:44,  4.93s/it]"
     ]
    },
    {
     "name": "stdout",
     "output_type": "stream",
     "text": [
      "hm\\2023-04-09_16-30-18_UTC.jpg [The friends that dress togeth…] json \n"
     ]
    },
    {
     "name": "stderr",
     "output_type": "stream",
     "text": [
      "Downloading posts:  72%|███████████████████████████████████████████▋                 | 358/500 [35:30<12:56,  5.47s/it]"
     ]
    },
    {
     "name": "stdout",
     "output_type": "stream",
     "text": [
      "hm\\2023-04-09_12-28-38_UTC.jpg [New things for dressing like …] json \n"
     ]
    },
    {
     "name": "stderr",
     "output_type": "stream",
     "text": [
      "Downloading posts:  72%|███████████████████████████████████████████▊                 | 359/500 [35:36<12:58,  5.52s/it]"
     ]
    },
    {
     "name": "stdout",
     "output_type": "stream",
     "text": [
      "hm\\2023-04-09_09-37-51_UTC.jpg [Sleek black or striking citru…] json \n"
     ]
    },
    {
     "name": "stderr",
     "output_type": "stream",
     "text": [
      "Downloading posts:  72%|███████████████████████████████████████████▉                 | 360/500 [35:42<12:57,  5.55s/it]"
     ]
    },
    {
     "name": "stdout",
     "output_type": "stream",
     "text": [
      "hm\\2023-04-08_09-25-24_UTC.jpg [Care for your wool garments w…] hm\\2023-04-08_09-25-24_UTC.mp4 json \n"
     ]
    },
    {
     "name": "stderr",
     "output_type": "stream",
     "text": [
      "Downloading posts:  72%|████████████████████████████████████████████                 | 361/500 [35:48<13:36,  5.88s/it]"
     ]
    },
    {
     "name": "stdout",
     "output_type": "stream",
     "text": [
      "hm\\2023-04-07_15-08-09_UTC.jpg [That little extra thing for y…] json \n"
     ]
    },
    {
     "name": "stderr",
     "output_type": "stream",
     "text": [
      "Downloading posts:  72%|████████████████████████████████████████████▏                | 362/500 [35:55<14:03,  6.11s/it]"
     ]
    },
    {
     "name": "stdout",
     "output_type": "stream",
     "text": [
      "hm\\2023-04-06_16-18-55_UTC.jpg [Get rid of that pesky stain o…] hm\\2023-04-06_16-18-55_UTC.mp4 json \n"
     ]
    },
    {
     "name": "stderr",
     "output_type": "stream",
     "text": [
      "Downloading posts:  73%|████████████████████████████████████████████▎                | 363/500 [36:07<18:05,  7.92s/it]"
     ]
    },
    {
     "name": "stdout",
     "output_type": "stream",
     "text": [
      "hm\\2023-04-05_07-22-54_UTC.jpg [Candy-coloured accessories, c…] json \n"
     ]
    },
    {
     "name": "stderr",
     "output_type": "stream",
     "text": [
      "Downloading posts:  73%|████████████████████████████████████████████▍                | 364/500 [36:13<16:23,  7.23s/it]"
     ]
    },
    {
     "name": "stdout",
     "output_type": "stream",
     "text": [
      "hm\\2023-04-04_17-47-38_UTC.jpg [Take care of your clothes––an…] hm\\2023-04-04_17-47-38_UTC.mp4 json \n"
     ]
    },
    {
     "name": "stderr",
     "output_type": "stream",
     "text": [
      "Downloading posts:  73%|████████████████████████████████████████████▌                | 365/500 [36:22<17:38,  7.84s/it]"
     ]
    },
    {
     "name": "stdout",
     "output_type": "stream",
     "text": [
      "hm\\2023-04-03_12-24-58_UTC.jpg [Translucent pink shades for r…] json \n"
     ]
    },
    {
     "name": "stderr",
     "output_type": "stream",
     "text": [
      "Downloading posts:  73%|████████████████████████████████████████████▋                | 366/500 [36:25<14:01,  6.28s/it]"
     ]
    },
    {
     "name": "stdout",
     "output_type": "stream",
     "text": [
      "hm\\2023-04-02_11-14-57_UTC.jpg [Dazzling prints and standout …] json \n"
     ]
    },
    {
     "name": "stderr",
     "output_type": "stream",
     "text": [
      "Downloading posts:  73%|████████████████████████████████████████████▊                | 367/500 [36:31<14:10,  6.39s/it]"
     ]
    },
    {
     "name": "stdout",
     "output_type": "stream",
     "text": [
      "hm\\2023-04-01_15-51-44_UTC.jpg [There's a gold lining to the …] json \n"
     ]
    },
    {
     "name": "stderr",
     "output_type": "stream",
     "text": [
      "Downloading posts:  74%|████████████████████████████████████████████▉                | 368/500 [36:34<11:35,  5.27s/it]"
     ]
    },
    {
     "name": "stdout",
     "output_type": "stream",
     "text": [
      "hm\\2023-04-01_11-01-45_UTC.jpg [For Spring / Summer 2023, emb…] json \n"
     ]
    },
    {
     "name": "stderr",
     "output_type": "stream",
     "text": [
      "Downloading posts:  74%|█████████████████████████████████████████████                | 369/500 [36:39<11:06,  5.09s/it]"
     ]
    },
    {
     "name": "stdout",
     "output_type": "stream",
     "text": [
      "hm\\2023-03-31_14-07-48_UTC_1.jpg hm\\2023-03-31_14-07-48_UTC_2.jpg hm\\2023-03-31_14-07-48_UTC_3.jpg hm\\2023-03-31_14-07-48_UTC_4.jpg [Think texture this season. #H…] json \n"
     ]
    },
    {
     "name": "stderr",
     "output_type": "stream",
     "text": [
      "Downloading posts:  74%|█████████████████████████████████████████████▏               | 370/500 [36:43<10:47,  4.98s/it]"
     ]
    },
    {
     "name": "stdout",
     "output_type": "stream",
     "text": [
      "hm\\2023-03-31_08-01-26_UTC.jpg [For Spring / Summer 2023, the…] json \n"
     ]
    },
    {
     "name": "stderr",
     "output_type": "stream",
     "text": [
      "Downloading posts:  74%|█████████████████████████████████████████████▎               | 371/500 [36:47<09:49,  4.57s/it]"
     ]
    },
    {
     "name": "stdout",
     "output_type": "stream",
     "text": [
      "hm\\2023-03-30_07-36-34_UTC.jpg [Ring in the season with a pop…] json \n"
     ]
    },
    {
     "name": "stderr",
     "output_type": "stream",
     "text": [
      "Downloading posts:  74%|█████████████████████████████████████████████▍               | 372/500 [36:52<09:48,  4.60s/it]"
     ]
    },
    {
     "name": "stdout",
     "output_type": "stream",
     "text": [
      "hm\\2023-03-27_14-15-15_UTC.jpg [Strap in, all set for the sum…] json \n"
     ]
    },
    {
     "name": "stderr",
     "output_type": "stream",
     "text": [
      "Downloading posts:  75%|█████████████████████████████████████████████▌               | 373/500 [36:54<08:35,  4.06s/it]"
     ]
    },
    {
     "name": "stdout",
     "output_type": "stream",
     "text": [
      "hm\\2023-03-27_14-14-48_UTC.jpg [It might be short but sweeter…] json \n"
     ]
    },
    {
     "name": "stderr",
     "output_type": "stream",
     "text": [
      "Downloading posts:  75%|█████████████████████████████████████████████▋               | 374/500 [36:58<08:15,  3.93s/it]"
     ]
    },
    {
     "name": "stdout",
     "output_type": "stream",
     "text": [
      "hm\\2023-03-27_14-14-21_UTC.jpg [It's a colourful beginning of…] json \n"
     ]
    },
    {
     "name": "stderr",
     "output_type": "stream",
     "text": [
      "Downloading posts:  75%|█████████████████████████████████████████████▊               | 375/500 [37:02<07:59,  3.84s/it]"
     ]
    },
    {
     "name": "stdout",
     "output_type": "stream",
     "text": [
      "hm\\2023-03-25_16-34-51_UTC_1.jpg hm\\2023-03-25_16-34-51_UTC_2.jpg hm\\2023-03-25_16-34-51_UTC_3.jpg hm\\2023-03-25_16-34-51_UTC_4.jpg hm\\2023-03-25_16-34-51_UTC_5.jpg [@0800shygirl, @amaarae, @eart…] json \n"
     ]
    },
    {
     "name": "stderr",
     "output_type": "stream",
     "text": [
      "Downloading posts:  75%|█████████████████████████████████████████████▊               | 376/500 [37:09<10:18,  4.99s/it]"
     ]
    },
    {
     "name": "stdout",
     "output_type": "stream",
     "text": [
      "hm\\2023-03-25_12-02-42_UTC.jpg [@imaanhammam, @mariacarlabosc…] hm\\2023-03-25_12-02-42_UTC.mp4 json \n"
     ]
    },
    {
     "name": "stderr",
     "output_type": "stream",
     "text": [
      "Downloading posts:  75%|█████████████████████████████████████████████▉               | 377/500 [37:14<10:03,  4.90s/it]"
     ]
    },
    {
     "name": "stdout",
     "output_type": "stream",
     "text": [
      "hm\\2023-03-25_08-46-44_UTC.jpg [@mariacarlaboscono, @sola5532…] hm\\2023-03-25_08-46-44_UTC.mp4 json \n"
     ]
    },
    {
     "name": "stderr",
     "output_type": "stream",
     "text": [
      "Downloading posts:  76%|██████████████████████████████████████████████               | 378/500 [37:20<10:44,  5.28s/it]"
     ]
    },
    {
     "name": "stdout",
     "output_type": "stream",
     "text": [
      "hm\\2023-03-24_17-06-49_UTC.jpg [@arca1000000, @cont.ethics , …] hm\\2023-03-24_17-06-49_UTC.mp4 json \n"
     ]
    },
    {
     "name": "stderr",
     "output_type": "stream",
     "text": [
      "Downloading posts:  76%|██████████████████████████████████████████████▏              | 379/500 [37:26<11:10,  5.54s/it]"
     ]
    },
    {
     "name": "stdout",
     "output_type": "stream",
     "text": [
      "hm\\2023-03-24_12-23-13_UTC.jpg [@mariacarlaboscono, @jerryfay…] hm\\2023-03-24_12-23-13_UTC.mp4 json \n"
     ]
    },
    {
     "name": "stderr",
     "output_type": "stream",
     "text": [
      "Downloading posts:  76%|██████████████████████████████████████████████▎              | 380/500 [37:35<13:07,  6.56s/it]"
     ]
    },
    {
     "name": "stdout",
     "output_type": "stream",
     "text": [
      "hm\\2023-03-24_09-00-13_UTC.jpg [@arca1000000 for #MuglerHM by…] hm\\2023-03-24_09-00-13_UTC.mp4 json \n"
     ]
    },
    {
     "name": "stderr",
     "output_type": "stream",
     "text": [
      "Downloading posts:  76%|██████████████████████████████████████████████▍              | 381/500 [37:40<12:12,  6.16s/it]"
     ]
    },
    {
     "name": "stdout",
     "output_type": "stream",
     "text": [
      "hm\\2023-03-23_17-00-13_UTC.jpg [@jerryfayehall and @mugleroff…] json \n"
     ]
    },
    {
     "name": "stderr",
     "output_type": "stream",
     "text": [
      "Downloading posts:  76%|██████████████████████████████████████████████▌              | 382/500 [37:47<12:24,  6.31s/it]"
     ]
    },
    {
     "name": "stdout",
     "output_type": "stream",
     "text": [
      "hm\\2023-03-23_15-01-07_UTC.jpg [#MuglerHM has transformative …] hm\\2023-03-23_15-01-07_UTC.mp4 json \n"
     ]
    },
    {
     "name": "stderr",
     "output_type": "stream",
     "text": [
      "Downloading posts:  77%|██████████████████████████████████████████████▋              | 383/500 [37:54<12:52,  6.60s/it]"
     ]
    },
    {
     "name": "stdout",
     "output_type": "stream",
     "text": [
      "hm\\2023-03-23_12-00-30_UTC.jpg [Introducing the #MuglerHM mus…] hm\\2023-03-23_12-00-30_UTC.mp4 json \n"
     ]
    },
    {
     "name": "stderr",
     "output_type": "stream",
     "text": [
      "Downloading posts:  77%|██████████████████████████████████████████████▊              | 384/500 [38:01<13:01,  6.74s/it]"
     ]
    },
    {
     "name": "stdout",
     "output_type": "stream",
     "text": [
      "hm\\2023-03-22_17-26-06_UTC_1.jpg hm\\2023-03-22_17-26-06_UTC_2.jpg hm\\2023-03-22_17-26-06_UTC_3.jpg [Inspired by magic crystals an…] json \n"
     ]
    },
    {
     "name": "stderr",
     "output_type": "stream",
     "text": [
      "Downloading posts:  77%|██████████████████████████████████████████████▉              | 385/500 [38:08<12:33,  6.55s/it]"
     ]
    },
    {
     "name": "stdout",
     "output_type": "stream",
     "text": [
      "hm\\2023-03-22_09-23-16_UTC_1.jpg hm\\2023-03-22_09-23-16_UTC_2.jpg hm\\2023-03-22_09-23-16_UTC_3.jpg hm\\2023-03-22_09-23-16_UTC_4.jpg [Fashion on the rocks. The new…] json \n"
     ]
    },
    {
     "name": "stderr",
     "output_type": "stream",
     "text": [
      "Downloading posts:  77%|███████████████████████████████████████████████              | 386/500 [38:17<14:18,  7.53s/it]"
     ]
    },
    {
     "name": "stdout",
     "output_type": "stream",
     "text": [
      "hm\\2023-03-21_17-21-54_UTC_1.jpg hm\\2023-03-21_17-21-54_UTC_2.jpg [On the horizon: Pieces that d…] json \n"
     ]
    },
    {
     "name": "stderr",
     "output_type": "stream",
     "text": [
      "Downloading posts:  77%|███████████████████████████████████████████████▏             | 387/500 [38:22<12:23,  6.58s/it]"
     ]
    },
    {
     "name": "stdout",
     "output_type": "stream",
     "text": [
      "hm\\2023-03-21_08-47-42_UTC_1.jpg hm\\2023-03-21_08-47-42_UTC_2.jpg hm\\2023-03-21_08-47-42_UTC_3.jpg [Precious gems, made to shine.…] json \n"
     ]
    },
    {
     "name": "stderr",
     "output_type": "stream",
     "text": [
      "Downloading posts:  78%|███████████████████████████████████████████████▎             | 388/500 [38:29<12:31,  6.71s/it]"
     ]
    },
    {
     "name": "stdout",
     "output_type": "stream",
     "text": [
      "hm\\2023-03-20_14-23-08_UTC.jpg [Our latest Innovation collect…] hm\\2023-03-20_14-23-08_UTC.mp4 json \n"
     ]
    },
    {
     "name": "stderr",
     "output_type": "stream",
     "text": [
      "Downloading posts:  78%|███████████████████████████████████████████████▍             | 389/500 [38:34<11:22,  6.15s/it]"
     ]
    },
    {
     "name": "stdout",
     "output_type": "stream",
     "text": [
      "hm\\2023-03-20_08-22-24_UTC_1.jpg hm\\2023-03-20_08-22-24_UTC_2.jpg hm\\2023-03-20_08-22-24_UTC_3.jpg [#HMInnovation returns 23 Marc…] json \n"
     ]
    },
    {
     "name": "stderr",
     "output_type": "stream",
     "text": [
      "Downloading posts:  78%|███████████████████████████████████████████████▌             | 390/500 [38:42<12:16,  6.70s/it]"
     ]
    },
    {
     "name": "stdout",
     "output_type": "stream",
     "text": [
      "hm\\2023-03-19_08-48-13_UTC.jpg [You can't go wrong with a pop…] json \n"
     ]
    },
    {
     "name": "stderr",
     "output_type": "stream",
     "text": [
      "Downloading posts:  78%|███████████████████████████████████████████████▋             | 391/500 [38:49<12:39,  6.96s/it]"
     ]
    },
    {
     "name": "stdout",
     "output_type": "stream",
     "text": [
      "hm\\2023-03-18_09-58-27_UTC.jpg [Sometimes, more really is mor…] json \n"
     ]
    },
    {
     "name": "stderr",
     "output_type": "stream",
     "text": [
      "Downloading posts:  78%|███████████████████████████████████████████████▊             | 392/500 [38:52<10:10,  5.65s/it]"
     ]
    },
    {
     "name": "stdout",
     "output_type": "stream",
     "text": [
      "hm\\2023-03-17_08-00-53_UTC.jpg [Laid-back days call for laid-…] json \n"
     ]
    },
    {
     "name": "stderr",
     "output_type": "stream",
     "text": [
      "Downloading posts:  79%|███████████████████████████████████████████████▉             | 393/500 [38:57<10:03,  5.64s/it]"
     ]
    },
    {
     "name": "stdout",
     "output_type": "stream",
     "text": [
      "hm\\2023-03-16_16-12-05_UTC_1.jpg hm\\2023-03-16_16-12-05_UTC_2.jpg hm\\2023-03-16_16-12-05_UTC_3.jpg [Dress code: Hot shades of red…] json \n"
     ]
    },
    {
     "name": "stderr",
     "output_type": "stream",
     "text": [
      "Downloading posts:  79%|████████████████████████████████████████████████             | 394/500 [39:03<10:04,  5.70s/it]"
     ]
    },
    {
     "name": "stdout",
     "output_type": "stream",
     "text": [
      "hm\\2023-03-16_08-05-08_UTC_1.jpg hm\\2023-03-16_08-05-08_UTC_2.jpg hm\\2023-03-16_08-05-08_UTC_3.jpg [Turn up the drama with larger…] json \n"
     ]
    },
    {
     "name": "stderr",
     "output_type": "stream",
     "text": [
      "Downloading posts:  79%|████████████████████████████████████████████████▏            | 395/500 [39:10<10:44,  6.14s/it]"
     ]
    },
    {
     "name": "stdout",
     "output_type": "stream",
     "text": [
      "hm\\2023-03-15_16-44-00_UTC_1.jpg hm\\2023-03-15_16-44-00_UTC_2.jpg hm\\2023-03-15_16-44-00_UTC_2.mp4 hm\\2023-03-15_16-44-00_UTC_3.jpg [Stunning shades of blue that …] json \n"
     ]
    },
    {
     "name": "stderr",
     "output_type": "stream",
     "text": [
      "Downloading posts:  79%|████████████████████████████████████████████████▎            | 396/500 [39:16<10:28,  6.04s/it]"
     ]
    },
    {
     "name": "stdout",
     "output_type": "stream",
     "text": [
      "hm\\2023-03-15_08-11-24_UTC.jpg [The dress equivalent of petal…] hm\\2023-03-15_08-11-24_UTC.mp4 json \n"
     ]
    },
    {
     "name": "stderr",
     "output_type": "stream",
     "text": [
      "Downloading posts:  79%|████████████████████████████████████████████████▍            | 397/500 [39:20<09:03,  5.28s/it]"
     ]
    },
    {
     "name": "stdout",
     "output_type": "stream",
     "text": [
      "hm\\2023-03-14_08-03-03_UTC.jpg [Give golden hour a run for it…] json \n"
     ]
    },
    {
     "name": "stderr",
     "output_type": "stream",
     "text": [
      "Downloading posts:  80%|████████████████████████████████████████████████▌            | 398/500 [39:26<09:38,  5.67s/it]"
     ]
    },
    {
     "name": "stdout",
     "output_type": "stream",
     "text": [
      "hm\\2023-03-13_08-03-57_UTC.jpg [An outfit inspired by our fav…] hm\\2023-03-13_08-03-57_UTC.mp4 json \n"
     ]
    },
    {
     "name": "stderr",
     "output_type": "stream",
     "text": [
      "Downloading posts:  80%|████████████████████████████████████████████████▋            | 399/500 [39:36<11:30,  6.84s/it]"
     ]
    },
    {
     "name": "stdout",
     "output_type": "stream",
     "text": [
      "hm\\2023-03-12_17-29-41_UTC.jpg [Why should golden leaves be e…] json \n"
     ]
    },
    {
     "name": "stderr",
     "output_type": "stream",
     "text": [
      "Downloading posts:  80%|████████████████████████████████████████████████▊            | 400/500 [39:42<11:16,  6.77s/it]"
     ]
    },
    {
     "name": "stdout",
     "output_type": "stream",
     "text": [
      "hm\\2023-03-12_09-32-16_UTC.jpg [On Isla Hennes, transforming …] json \n"
     ]
    },
    {
     "name": "stderr",
     "output_type": "stream",
     "text": [
      "Downloading posts:  80%|████████████████████████████████████████████████▉            | 401/500 [39:49<11:06,  6.73s/it]"
     ]
    },
    {
     "name": "stdout",
     "output_type": "stream",
     "text": [
      "hm\\2023-03-11_09-25-50_UTC.jpg [Let minimalist accessories ta…] json \n"
     ]
    },
    {
     "name": "stderr",
     "output_type": "stream",
     "text": [
      "Downloading posts:  80%|█████████████████████████████████████████████████            | 402/500 [39:55<10:25,  6.38s/it]"
     ]
    },
    {
     "name": "stdout",
     "output_type": "stream",
     "text": [
      "hm\\2023-03-09_19-51-39_UTC.jpg [Destination: Isla Hennes. Exp…] hm\\2023-03-09_19-51-39_UTC.mp4 json \n"
     ]
    },
    {
     "name": "stderr",
     "output_type": "stream",
     "text": [
      "Downloading posts:  81%|█████████████████████████████████████████████████▏           | 403/500 [40:04<11:56,  7.38s/it]"
     ]
    },
    {
     "name": "stdout",
     "output_type": "stream",
     "text": [
      "hm\\2023-03-09_17-16-07_UTC.jpg [¡Yo hablo español! con @micar…] hm\\2023-03-09_17-16-07_UTC.mp4 json \n"
     ]
    },
    {
     "name": "stderr",
     "output_type": "stream",
     "text": [
      "Downloading posts:  81%|█████████████████████████████████████████████████▎           | 404/500 [40:10<10:57,  6.85s/it]"
     ]
    },
    {
     "name": "stdout",
     "output_type": "stream",
     "text": [
      "hm\\2023-03-09_09-02-48_UTC.jpg [Welcome to Isla Hennes, the m…] hm\\2023-03-09_09-02-48_UTC.mp4 json \n"
     ]
    },
    {
     "name": "stderr",
     "output_type": "stream",
     "text": [
      "Downloading posts:  81%|█████████████████████████████████████████████████▍           | 405/500 [40:17<11:05,  7.01s/it]"
     ]
    },
    {
     "name": "stdout",
     "output_type": "stream",
     "text": [
      "hm\\2023-03-08_10-12-49_UTC.jpg [New stylish ways to stay out …] hm\\2023-03-08_10-12-49_UTC.mp4 json \n"
     ]
    },
    {
     "name": "stderr",
     "output_type": "stream",
     "text": [
      "Downloading posts:  81%|█████████████████████████████████████████████████▌           | 406/500 [40:22<09:52,  6.30s/it]"
     ]
    },
    {
     "name": "stdout",
     "output_type": "stream",
     "text": [
      "hm\\2023-03-07_16-26-47_UTC_1.jpg hm\\2023-03-07_16-26-47_UTC_2.jpg hm\\2023-03-07_16-26-47_UTC_3.jpg hm\\2023-03-07_16-26-47_UTC_4.jpg hm\\2023-03-07_16-26-47_UTC_5.jpg hm\\2023-03-07_16-26-47_UTC_6.jpg hm\\2023-03-07_16-26-47_UTC_7.jpg [Our pick of Fashion Week Tren…] json \n"
     ]
    },
    {
     "name": "stderr",
     "output_type": "stream",
     "text": [
      "Downloading posts:  81%|█████████████████████████████████████████████████▋           | 407/500 [40:33<11:46,  7.60s/it]"
     ]
    },
    {
     "name": "stdout",
     "output_type": "stream",
     "text": [
      "hm\\2023-03-06_17-01-01_UTC_1.jpg hm\\2023-03-06_17-01-01_UTC_2.jpg hm\\2023-03-06_17-01-01_UTC_3.jpg [Forgo the standard bauble for…] json \n"
     ]
    },
    {
     "name": "stderr",
     "output_type": "stream",
     "text": [
      "Downloading posts:  82%|█████████████████████████████████████████████████▊           | 408/500 [40:38<10:28,  6.83s/it]"
     ]
    },
    {
     "name": "stdout",
     "output_type": "stream",
     "text": [
      "hm\\2023-03-05_17-01-10_UTC.jpg [Dressing for date night is ea…] json \n"
     ]
    },
    {
     "name": "stderr",
     "output_type": "stream",
     "text": [
      "Downloading posts:  82%|█████████████████████████████████████████████████▉           | 409/500 [40:40<08:25,  5.55s/it]"
     ]
    },
    {
     "name": "stdout",
     "output_type": "stream",
     "text": [
      "hm\\2023-03-04_17-02-14_UTC.jpg [Take sophistication to new he…] hm\\2023-03-04_17-02-14_UTC.mp4 json \n"
     ]
    },
    {
     "name": "stderr",
     "output_type": "stream",
     "text": [
      "Downloading posts:  82%|██████████████████████████████████████████████████           | 410/500 [40:48<09:21,  6.24s/it]"
     ]
    },
    {
     "name": "stdout",
     "output_type": "stream",
     "text": [
      "hm\\2023-03-04_08-06-22_UTC.jpg [Find elegance in a look that …] hm\\2023-03-04_08-06-22_UTC.mp4 json \n"
     ]
    },
    {
     "name": "stderr",
     "output_type": "stream",
     "text": [
      "Downloading posts:  82%|██████████████████████████████████████████████████▏          | 411/500 [40:54<09:09,  6.18s/it]"
     ]
    },
    {
     "name": "stdout",
     "output_type": "stream",
     "text": [
      "hm\\2023-03-03_17-26-37_UTC.jpg [Our #HMStudio star @kaliuchis…] hm\\2023-03-03_17-26-37_UTC.mp4 json \n"
     ]
    },
    {
     "name": "stderr",
     "output_type": "stream",
     "text": [
      "Downloading posts:  82%|██████████████████████████████████████████████████▎          | 412/500 [40:58<08:02,  5.48s/it]"
     ]
    },
    {
     "name": "stdout",
     "output_type": "stream",
     "text": [
      "hm\\2023-03-03_15-00-33_UTC_1.jpg hm\\2023-03-03_15-00-33_UTC_2.jpg [#HMStudio Spring/Summer 2023 …] json \n"
     ]
    },
    {
     "name": "stderr",
     "output_type": "stream",
     "text": [
      "Downloading posts:  83%|██████████████████████████████████████████████████▍          | 413/500 [41:05<08:43,  6.02s/it]"
     ]
    },
    {
     "name": "stdout",
     "output_type": "stream",
     "text": [
      "hm\\2023-03-03_08-24-30_UTC.jpg [Step into the spotlight: #HMS…] hm\\2023-03-03_08-24-30_UTC.mp4 json \n"
     ]
    },
    {
     "name": "stderr",
     "output_type": "stream",
     "text": [
      "Downloading posts:  83%|██████████████████████████████████████████████████▌          | 414/500 [41:10<08:10,  5.70s/it]"
     ]
    },
    {
     "name": "stdout",
     "output_type": "stream",
     "text": [
      "hm\\2023-03-02_17-11-09_UTC_1.jpg hm\\2023-03-02_17-11-09_UTC_2.jpg [Cotton candy couture, brought…] json \n"
     ]
    },
    {
     "name": "stderr",
     "output_type": "stream",
     "text": [
      "Downloading posts:  83%|██████████████████████████████████████████████████▋          | 415/500 [41:14<07:26,  5.26s/it]"
     ]
    },
    {
     "name": "stdout",
     "output_type": "stream",
     "text": [
      "hm\\2023-03-02_12-01-40_UTC.jpg [#HMStudio Spring/Summer 2023 …] hm\\2023-03-02_12-01-40_UTC.mp4 json \n"
     ]
    },
    {
     "name": "stderr",
     "output_type": "stream",
     "text": [
      "Downloading posts:  83%|██████████████████████████████████████████████████▊          | 416/500 [41:23<08:34,  6.13s/it]"
     ]
    },
    {
     "name": "stdout",
     "output_type": "stream",
     "text": [
      "hm\\2023-03-02_08-07-20_UTC.jpg [#HMStudio Spring/Summer 2023 …] hm\\2023-03-02_08-07-20_UTC.mp4 json \n"
     ]
    },
    {
     "name": "stderr",
     "output_type": "stream",
     "text": [
      "Downloading posts:  83%|██████████████████████████████████████████████████▊          | 417/500 [41:32<09:47,  7.07s/it]"
     ]
    },
    {
     "name": "stdout",
     "output_type": "stream",
     "text": [
      "hm\\2023-03-01_09-01-25_UTC.jpg [Singer, songwriter and musici…] json \n"
     ]
    },
    {
     "name": "stderr",
     "output_type": "stream",
     "text": [
      "Downloading posts:  84%|██████████████████████████████████████████████████▉          | 418/500 [41:36<08:39,  6.33s/it]"
     ]
    },
    {
     "name": "stdout",
     "output_type": "stream",
     "text": [
      "hm\\2023-02-28_09-03-30_UTC.jpg [Red-carpet style for everyday…] hm\\2023-02-28_09-03-30_UTC.mp4 json \n"
     ]
    },
    {
     "name": "stderr",
     "output_type": "stream",
     "text": [
      "Downloading posts:  84%|███████████████████████████████████████████████████          | 419/500 [41:44<09:05,  6.74s/it]"
     ]
    },
    {
     "name": "stdout",
     "output_type": "stream",
     "text": [
      "hm\\2023-02-27_12-33-25_UTC.jpg [#HMStudio is back 2 March* wi…] hm\\2023-02-27_12-33-25_UTC.mp4 json \n"
     ]
    },
    {
     "name": "stderr",
     "output_type": "stream",
     "text": [
      "Downloading posts:  84%|███████████████████████████████████████████████████▏         | 420/500 [41:48<07:44,  5.81s/it]"
     ]
    },
    {
     "name": "stdout",
     "output_type": "stream",
     "text": [
      "hm\\2023-02-26_11-05-26_UTC.jpg [The curse of having fabulous …] hm\\2023-02-26_11-05-26_UTC.mp4 json \n"
     ]
    },
    {
     "name": "stderr",
     "output_type": "stream",
     "text": [
      "Downloading posts:  84%|███████████████████████████████████████████████████▎         | 421/500 [41:52<07:12,  5.48s/it]"
     ]
    },
    {
     "name": "stdout",
     "output_type": "stream",
     "text": [
      "hm\\2023-02-25_11-01-49_UTC_1.jpg hm\\2023-02-25_11-01-49_UTC_2.jpg hm\\2023-02-25_11-01-49_UTC_3.jpg hm\\2023-02-25_11-01-49_UTC_4.jpg [Meet the spring nights with y…] json \n"
     ]
    },
    {
     "name": "stderr",
     "output_type": "stream",
     "text": [
      "Downloading posts:  84%|███████████████████████████████████████████████████▍         | 422/500 [41:59<07:34,  5.82s/it]"
     ]
    },
    {
     "name": "stdout",
     "output_type": "stream",
     "text": [
      "hm\\2023-02-24_10-39-28_UTC.jpg [Keep calm and shred it on the…] json \n"
     ]
    },
    {
     "name": "stderr",
     "output_type": "stream",
     "text": [
      "Downloading posts:  85%|███████████████████████████████████████████████████▌         | 423/500 [42:06<07:47,  6.07s/it]"
     ]
    },
    {
     "name": "stdout",
     "output_type": "stream",
     "text": [
      "hm\\2023-02-21_17-52-47_UTC.jpg [Transform your blazer with a …] json \n"
     ]
    },
    {
     "name": "stderr",
     "output_type": "stream",
     "text": [
      "Downloading posts:  85%|███████████████████████████████████████████████████▋         | 424/500 [42:10<07:07,  5.63s/it]"
     ]
    },
    {
     "name": "stdout",
     "output_type": "stream",
     "text": [
      "hm\\2023-02-21_13-13-21_UTC.jpg [Add a pop of unexpected colou…] json \n"
     ]
    },
    {
     "name": "stderr",
     "output_type": "stream",
     "text": [
      "Downloading posts:  85%|███████████████████████████████████████████████████▊         | 425/500 [42:14<06:16,  5.03s/it]"
     ]
    },
    {
     "name": "stdout",
     "output_type": "stream",
     "text": [
      "hm\\2023-02-20_08-10-45_UTC_1.jpg hm\\2023-02-20_08-10-45_UTC_2.jpg hm\\2023-02-20_08-10-45_UTC_3.jpg [An elegant mix of bold and ne…] json \n"
     ]
    },
    {
     "name": "stderr",
     "output_type": "stream",
     "text": [
      "Downloading posts:  85%|███████████████████████████████████████████████████▉         | 426/500 [42:21<06:52,  5.57s/it]"
     ]
    },
    {
     "name": "stdout",
     "output_type": "stream",
     "text": [
      "hm\\2023-02-19_15-30-05_UTC.jpg [It's all about the details, l…] json \n"
     ]
    },
    {
     "name": "stderr",
     "output_type": "stream",
     "text": [
      "Downloading posts:  85%|████████████████████████████████████████████████████         | 427/500 [42:27<07:10,  5.90s/it]"
     ]
    },
    {
     "name": "stdout",
     "output_type": "stream",
     "text": [
      "hm\\2023-02-18_14-28-27_UTC.jpg [Today’s tailoring is comfy, c…] json \n"
     ]
    },
    {
     "name": "stderr",
     "output_type": "stream",
     "text": [
      "Downloading posts:  86%|████████████████████████████████████████████████████▏        | 428/500 [42:31<06:14,  5.21s/it]"
     ]
    },
    {
     "name": "stdout",
     "output_type": "stream",
     "text": [
      "hm\\2023-02-17_11-02-38_UTC.jpg [Spring into the office with a…] hm\\2023-02-17_11-02-38_UTC.mp4 json \n"
     ]
    },
    {
     "name": "stderr",
     "output_type": "stream",
     "text": [
      "Downloading posts:  86%|████████████████████████████████████████████████████▎        | 429/500 [42:39<07:01,  5.94s/it]"
     ]
    },
    {
     "name": "stdout",
     "output_type": "stream",
     "text": [
      "hm\\2023-02-14_17-00-42_UTC.jpg [That extra red on top to crea…] json \n"
     ]
    },
    {
     "name": "stderr",
     "output_type": "stream",
     "text": [
      "Downloading posts:  86%|████████████████████████████████████████████████████▍        | 430/500 [42:46<07:31,  6.45s/it]"
     ]
    },
    {
     "name": "stdout",
     "output_type": "stream",
     "text": [
      "hm\\2023-02-14_09-10-30_UTC.jpg [Remember eye contact even whe…] hm\\2023-02-14_09-10-30_UTC.mp4 json \n"
     ]
    },
    {
     "name": "stderr",
     "output_type": "stream",
     "text": [
      "Downloading posts:  86%|████████████████████████████████████████████████████▌        | 431/500 [42:53<07:32,  6.56s/it]"
     ]
    },
    {
     "name": "stdout",
     "output_type": "stream",
     "text": [
      "hm\\2023-02-13_14-09-21_UTC.jpg [If a dozen roses means ‘be mi…] json \n"
     ]
    },
    {
     "name": "stderr",
     "output_type": "stream",
     "text": [
      "Downloading posts:  86%|████████████████████████████████████████████████████▋        | 432/500 [42:57<06:25,  5.67s/it]"
     ]
    },
    {
     "name": "stdout",
     "output_type": "stream",
     "text": [
      "hm\\2023-02-12_15-21-12_UTC.jpg [Black, white and head-to-toe …] json \n"
     ]
    },
    {
     "name": "stderr",
     "output_type": "stream",
     "text": [
      "Downloading posts:  87%|████████████████████████████████████████████████████▊        | 433/500 [43:04<06:59,  6.26s/it]"
     ]
    },
    {
     "name": "stdout",
     "output_type": "stream",
     "text": [
      "hm\\2023-02-12_12-10-41_UTC_1.jpg hm\\2023-02-12_12-10-41_UTC_2.jpg [How to style Breton stripes? …] json \n"
     ]
    },
    {
     "name": "stderr",
     "output_type": "stream",
     "text": [
      "Downloading posts:  87%|████████████████████████████████████████████████████▉        | 434/500 [43:09<06:12,  5.64s/it]"
     ]
    },
    {
     "name": "stdout",
     "output_type": "stream",
     "text": [
      "hm\\2023-02-12_09-02-52_UTC.jpg [Monochrome magic, in three di…] hm\\2023-02-12_09-02-52_UTC.mp4 json \n"
     ]
    },
    {
     "name": "stderr",
     "output_type": "stream",
     "text": [
      "Downloading posts:  87%|█████████████████████████████████████████████████████        | 435/500 [43:16<06:46,  6.26s/it]"
     ]
    },
    {
     "name": "stdout",
     "output_type": "stream",
     "text": [
      "hm\\2023-02-10_08-01-42_UTC.jpg [You can’t have too orange sho…] json \n"
     ]
    },
    {
     "name": "stderr",
     "output_type": "stream",
     "text": [
      "Downloading posts:  87%|█████████████████████████████████████████████████████▏       | 436/500 [43:24<07:05,  6.66s/it]"
     ]
    },
    {
     "name": "stdout",
     "output_type": "stream",
     "text": [
      "hm\\2023-02-08_08-12-13_UTC.jpg [A touch of black and white. #…] json \n"
     ]
    },
    {
     "name": "stderr",
     "output_type": "stream",
     "text": [
      "Downloading posts:  87%|█████████████████████████████████████████████████████▎       | 437/500 [43:30<06:41,  6.37s/it]"
     ]
    },
    {
     "name": "stdout",
     "output_type": "stream",
     "text": [
      "hm\\2023-02-07_08-24-06_UTC_1.jpg hm\\2023-02-07_08-24-06_UTC_2.jpg hm\\2023-02-07_08-24-06_UTC_3.jpg [Dress down a broderie anglais…] json \n"
     ]
    },
    {
     "name": "stderr",
     "output_type": "stream",
     "text": [
      "Downloading posts:  88%|█████████████████████████████████████████████████████▍       | 438/500 [43:38<07:21,  7.12s/it]"
     ]
    },
    {
     "name": "stdout",
     "output_type": "stream",
     "text": [
      "hm\\2023-02-06_08-07-01_UTC.jpg [Hot pink sneakers give that c…] hm\\2023-02-06_08-07-01_UTC.mp4 json \n"
     ]
    },
    {
     "name": "stderr",
     "output_type": "stream",
     "text": [
      "Downloading posts:  88%|█████████████████████████████████████████████████████▌       | 439/500 [43:42<06:09,  6.06s/it]"
     ]
    },
    {
     "name": "stdout",
     "output_type": "stream",
     "text": [
      "hm\\2023-02-06_00-01-06_UTC.jpg [Even at home, aim for the bes…] json \n"
     ]
    },
    {
     "name": "stderr",
     "output_type": "stream",
     "text": [
      "Downloading posts:  88%|█████████████████████████████████████████████████████▋       | 440/500 [43:45<05:01,  5.02s/it]"
     ]
    },
    {
     "name": "stdout",
     "output_type": "stream",
     "text": [
      "hm\\2023-02-05_22-45-28_UTC.jpg [Treating your award show watc…] hm\\2023-02-05_22-45-28_UTC.mp4 json \n"
     ]
    },
    {
     "name": "stderr",
     "output_type": "stream",
     "text": [
      "Downloading posts:  88%|█████████████████████████████████████████████████████▊       | 441/500 [43:50<05:05,  5.18s/it]"
     ]
    },
    {
     "name": "stdout",
     "output_type": "stream",
     "text": [
      "hm\\2023-02-04_22-03-56_UTC.jpg [It’s the most romantic time o…] hm\\2023-02-04_22-03-56_UTC.mp4 json \n"
     ]
    },
    {
     "name": "stderr",
     "output_type": "stream",
     "text": [
      "Downloading posts:  88%|█████████████████████████████████████████████████████▉       | 442/500 [43:54<04:37,  4.78s/it]"
     ]
    },
    {
     "name": "stdout",
     "output_type": "stream",
     "text": [
      "hm\\2023-02-04_14-03-26_UTC.jpg [Zoom in on handbags in eye-po…] hm\\2023-02-04_14-03-26_UTC.mp4 json \n"
     ]
    },
    {
     "name": "stderr",
     "output_type": "stream",
     "text": [
      "Downloading posts:  89%|██████████████████████████████████████████████████████       | 443/500 [44:02<05:24,  5.70s/it]"
     ]
    },
    {
     "name": "stdout",
     "output_type": "stream",
     "text": [
      "hm\\2023-02-04_08-12-29_UTC.jpg [An edgy take on florals that …] hm\\2023-02-04_08-12-29_UTC.mp4 json \n"
     ]
    },
    {
     "name": "stderr",
     "output_type": "stream",
     "text": [
      "Downloading posts:  89%|██████████████████████████████████████████████████████▏      | 444/500 [44:09<05:50,  6.27s/it]"
     ]
    },
    {
     "name": "stdout",
     "output_type": "stream",
     "text": [
      "hm\\2023-02-03_20-17-48_UTC_1.jpg hm\\2023-02-03_20-17-48_UTC_2.jpg [A handbag that gives you all …] json \n"
     ]
    },
    {
     "name": "stderr",
     "output_type": "stream",
     "text": [
      "Downloading posts:  89%|██████████████████████████████████████████████████████▎      | 445/500 [44:14<05:10,  5.64s/it]"
     ]
    },
    {
     "name": "stdout",
     "output_type": "stream",
     "text": [
      "hm\\2023-02-03_16-02-37_UTC.jpg [Do you love denim? So do we. …] hm\\2023-02-03_16-02-37_UTC.mp4 json \n"
     ]
    },
    {
     "name": "stderr",
     "output_type": "stream",
     "text": [
      "Downloading posts:  89%|██████████████████████████████████████████████████████▍      | 446/500 [44:19<04:56,  5.49s/it]"
     ]
    },
    {
     "name": "stdout",
     "output_type": "stream",
     "text": [
      "hm\\2023-02-03_14-10-50_UTC.jpg [Satin covered platforms: shin…] json \n"
     ]
    },
    {
     "name": "stderr",
     "output_type": "stream",
     "text": [
      "Downloading posts:  89%|██████████████████████████████████████████████████████▌      | 447/500 [44:25<05:09,  5.83s/it]"
     ]
    },
    {
     "name": "stdout",
     "output_type": "stream",
     "text": [
      "hm\\2023-02-02_16-40-34_UTC.jpg [How do you like your denim? #…] hm\\2023-02-02_16-40-34_UTC.mp4 json \n"
     ]
    },
    {
     "name": "stderr",
     "output_type": "stream",
     "text": [
      "Downloading posts:  90%|██████████████████████████████████████████████████████▋      | 448/500 [44:33<05:35,  6.46s/it]"
     ]
    },
    {
     "name": "stdout",
     "output_type": "stream",
     "text": [
      "hm\\2023-02-02_13-07-03_UTC_1.jpg hm\\2023-02-02_13-07-03_UTC_2.jpg hm\\2023-02-02_13-07-03_UTC_3.jpg [Which one is the perfect fit …] json \n"
     ]
    },
    {
     "name": "stderr",
     "output_type": "stream",
     "text": [
      "Downloading posts:  90%|██████████████████████████████████████████████████████▊      | 449/500 [44:37<04:48,  5.67s/it]"
     ]
    },
    {
     "name": "stdout",
     "output_type": "stream",
     "text": [
      "hm\\2023-02-02_08-38-33_UTC.jpg [The perfect fit. Did you find…] hm\\2023-02-02_08-38-33_UTC.mp4 json \n"
     ]
    },
    {
     "name": "stderr",
     "output_type": "stream",
     "text": [
      "Downloading posts:  90%|██████████████████████████████████████████████████████▉      | 450/500 [44:42<04:35,  5.51s/it]"
     ]
    },
    {
     "name": "stdout",
     "output_type": "stream",
     "text": [
      "hm\\2023-02-01_09-17-54_UTC_1.jpg hm\\2023-02-01_09-17-54_UTC_2.jpg hm\\2023-02-01_09-17-54_UTC_3.jpg hm\\2023-02-01_09-17-54_UTC_4.jpg hm\\2023-02-01_09-17-54_UTC_5.jpg [However you wear it, black an…] json \n"
     ]
    },
    {
     "name": "stderr",
     "output_type": "stream",
     "text": [
      "Downloading posts:  90%|███████████████████████████████████████████████████████      | 451/500 [44:50<05:08,  6.30s/it]"
     ]
    },
    {
     "name": "stdout",
     "output_type": "stream",
     "text": [
      "hm\\2023-01-31_11-52-55_UTC_1.jpg hm\\2023-01-31_11-52-55_UTC_2.jpg hm\\2023-01-31_11-52-55_UTC_3.jpg hm\\2023-01-31_11-52-55_UTC_4.jpg [Hit your stride in elevated a…] json \n"
     ]
    },
    {
     "name": "stderr",
     "output_type": "stream",
     "text": [
      "Downloading posts:  90%|███████████████████████████████████████████████████████▏     | 452/500 [45:00<05:48,  7.25s/it]"
     ]
    },
    {
     "name": "stdout",
     "output_type": "stream",
     "text": [
      "hm\\2023-01-30_09-40-24_UTC_1.jpg hm\\2023-01-30_09-40-24_UTC_2.jpg hm\\2023-01-30_09-40-24_UTC_3.jpg [Spring plans: fringing around…] json \n"
     ]
    },
    {
     "name": "stderr",
     "output_type": "stream",
     "text": [
      "Downloading posts:  91%|███████████████████████████████████████████████████████▎     | 453/500 [45:05<05:07,  6.54s/it]"
     ]
    },
    {
     "name": "stdout",
     "output_type": "stream",
     "text": [
      "hm\\2023-01-29_16-03-45_UTC_1.jpg hm\\2023-01-29_16-03-45_UTC_2.jpg hm\\2023-01-29_16-03-45_UTC_3.jpg hm\\2023-01-29_16-03-45_UTC_4.jpg hm\\2023-01-29_16-03-45_UTC_5.jpg [Trendspotting: Underwear is t…] json \n"
     ]
    },
    {
     "name": "stderr",
     "output_type": "stream",
     "text": [
      "Downloading posts:  91%|███████████████████████████████████████████████████████▍     | 454/500 [45:11<04:52,  6.36s/it]"
     ]
    },
    {
     "name": "stdout",
     "output_type": "stream",
     "text": [
      "hm\\2023-01-29_12-23-31_UTC.jpg [The sun is secondary when it …] json \n"
     ]
    },
    {
     "name": "stderr",
     "output_type": "stream",
     "text": [
      "Downloading posts:  91%|███████████████████████████████████████████████████████▌     | 455/500 [45:13<03:55,  5.24s/it]"
     ]
    },
    {
     "name": "stdout",
     "output_type": "stream",
     "text": [
      "hm\\2023-01-28_16-02-25_UTC_1.jpg hm\\2023-01-28_16-02-25_UTC_2.jpg hm\\2023-01-28_16-02-25_UTC_3.jpg hm\\2023-01-28_16-02-25_UTC_4.jpg hm\\2023-01-28_16-02-25_UTC_5.jpg hm\\2023-01-28_16-02-25_UTC_6.jpg [Step into the deep end with o…] json \n"
     ]
    },
    {
     "name": "stderr",
     "output_type": "stream",
     "text": [
      "Downloading posts:  91%|███████████████████████████████████████████████████████▋     | 456/500 [45:20<04:11,  5.72s/it]"
     ]
    },
    {
     "name": "stdout",
     "output_type": "stream",
     "text": [
      "hm\\2023-01-28_15-20-04_UTC.jpg [Feeling shady in a good kind …] json \n"
     ]
    },
    {
     "name": "stderr",
     "output_type": "stream",
     "text": [
      "Downloading posts:  91%|███████████████████████████████████████████████████████▊     | 457/500 [45:27<04:17,  5.98s/it]"
     ]
    },
    {
     "name": "stdout",
     "output_type": "stream",
     "text": [
      "hm\\2023-01-27_08-03-31_UTC.jpg [Meet our most-wanted trouser.…] json \n"
     ]
    },
    {
     "name": "stderr",
     "output_type": "stream",
     "text": [
      "Downloading posts:  92%|███████████████████████████████████████████████████████▉     | 458/500 [45:34<04:31,  6.47s/it]"
     ]
    },
    {
     "name": "stdout",
     "output_type": "stream",
     "text": [
      "hm\\2023-01-26_14-23-17_UTC.jpg [Walk through this season with…] json \n"
     ]
    },
    {
     "name": "stderr",
     "output_type": "stream",
     "text": [
      "Downloading posts:  92%|███████████████████████████████████████████████████████▉     | 459/500 [45:42<04:40,  6.85s/it]"
     ]
    },
    {
     "name": "stdout",
     "output_type": "stream",
     "text": [
      "hm\\2023-01-25_14-45-19_UTC.jpg [Denim and slingbacks for that…] json \n"
     ]
    },
    {
     "name": "stderr",
     "output_type": "stream",
     "text": [
      "Downloading posts:  92%|████████████████████████████████████████████████████████     | 460/500 [45:48<04:19,  6.48s/it]"
     ]
    },
    {
     "name": "stdout",
     "output_type": "stream",
     "text": [
      "hm\\2023-01-22_17-08-54_UTC_1.jpg hm\\2023-01-22_17-08-54_UTC_2.jpg hm\\2023-01-22_17-08-54_UTC_3.jpg hm\\2023-01-22_17-08-54_UTC_4.jpg hm\\2023-01-22_17-08-54_UTC_5.jpg [With a go-to office uniform l…] json \n"
     ]
    },
    {
     "name": "stderr",
     "output_type": "stream",
     "text": [
      "Downloading posts:  92%|████████████████████████████████████████████████████████▏    | 461/500 [45:57<04:43,  7.26s/it]"
     ]
    },
    {
     "name": "stdout",
     "output_type": "stream",
     "text": [
      "hm\\2023-01-22_11-40-35_UTC.jpg [Love living a colourful life …] json \n"
     ]
    },
    {
     "name": "stderr",
     "output_type": "stream",
     "text": [
      "Downloading posts:  92%|████████████████████████████████████████████████████████▎    | 462/500 [46:00<03:54,  6.17s/it]"
     ]
    },
    {
     "name": "stdout",
     "output_type": "stream",
     "text": [
      "hm\\2023-01-21_11-33-23_UTC.jpg [As we move on, even symmetry …] json \n"
     ]
    },
    {
     "name": "stderr",
     "output_type": "stream",
     "text": [
      "Downloading posts:  93%|████████████████████████████████████████████████████████▍    | 463/500 [46:10<04:29,  7.27s/it]"
     ]
    },
    {
     "name": "stdout",
     "output_type": "stream",
     "text": [
      "hm\\2023-01-20_16-37-59_UTC.jpg [Monochrome or mix and match, …] hm\\2023-01-20_16-37-59_UTC.mp4 json \n"
     ]
    },
    {
     "name": "stderr",
     "output_type": "stream",
     "text": [
      "Downloading posts:  93%|████████████████████████████████████████████████████████▌    | 464/500 [46:16<04:05,  6.82s/it]"
     ]
    },
    {
     "name": "stdout",
     "output_type": "stream",
     "text": [
      "hm\\2023-01-19_15-27-25_UTC.jpg [With boots reaching the knee …] json \n"
     ]
    },
    {
     "name": "stderr",
     "output_type": "stream",
     "text": [
      "Downloading posts:  93%|████████████████████████████████████████████████████████▋    | 465/500 [46:23<03:56,  6.75s/it]"
     ]
    },
    {
     "name": "stdout",
     "output_type": "stream",
     "text": [
      "hm\\2023-01-18_17-01-51_UTC.jpg [This is the year of magenta, …] json \n"
     ]
    },
    {
     "name": "stderr",
     "output_type": "stream",
     "text": [
      "Downloading posts:  93%|████████████████████████████████████████████████████████▊    | 466/500 [46:27<03:27,  6.11s/it]"
     ]
    },
    {
     "name": "stdout",
     "output_type": "stream",
     "text": [
      "hm\\2023-01-17_17-10-57_UTC.jpg [Oh yes, we've entered the yea…] json \n"
     ]
    },
    {
     "name": "stderr",
     "output_type": "stream",
     "text": [
      "Downloading posts:  93%|████████████████████████████████████████████████████████▉    | 467/500 [46:31<02:56,  5.36s/it]"
     ]
    },
    {
     "name": "stdout",
     "output_type": "stream",
     "text": [
      "hm\\2023-01-17_09-27-46_UTC.jpg [You may feel chained to just …] hm\\2023-01-17_09-27-46_UTC.mp4 json \n"
     ]
    },
    {
     "name": "stderr",
     "output_type": "stream",
     "text": [
      "Downloading posts:  94%|█████████████████████████████████████████████████████████    | 468/500 [46:39<03:19,  6.24s/it]"
     ]
    },
    {
     "name": "stdout",
     "output_type": "stream",
     "text": [
      "hm\\2023-01-16_15-46-30_UTC.jpg [Styling your January glow-up …] json \n"
     ]
    },
    {
     "name": "stderr",
     "output_type": "stream",
     "text": [
      "Downloading posts:  94%|█████████████████████████████████████████████████████████▏   | 469/500 [46:42<02:41,  5.20s/it]"
     ]
    },
    {
     "name": "stdout",
     "output_type": "stream",
     "text": [
      "hm\\2023-01-13_15-53-38_UTC_1.jpg hm\\2023-01-13_15-53-38_UTC_2.jpg [Hit the studio with a pop of …] json \n"
     ]
    },
    {
     "name": "stderr",
     "output_type": "stream",
     "text": [
      "Downloading posts:  94%|█████████████████████████████████████████████████████████▎   | 470/500 [46:50<03:03,  6.12s/it]"
     ]
    },
    {
     "name": "stdout",
     "output_type": "stream",
     "text": [
      "hm\\2023-01-13_08-49-33_UTC_1.jpg hm\\2023-01-13_08-49-33_UTC_2.jpg hm\\2023-01-13_08-49-33_UTC_3.jpg [The ultimate matching set.  @…] json \n"
     ]
    },
    {
     "name": "stderr",
     "output_type": "stream",
     "text": [
      "Downloading posts:  94%|█████████████████████████████████████████████████████████▍   | 471/500 [46:56<02:54,  6.01s/it]"
     ]
    },
    {
     "name": "stdout",
     "output_type": "stream",
     "text": [
      "hm\\2023-01-12_19-06-04_UTC_1.jpg hm\\2023-01-12_19-06-04_UTC_2.jpg hm\\2023-01-12_19-06-04_UTC_3.jpg [Seamless, shaping and super-c…] json \n"
     ]
    },
    {
     "name": "stderr",
     "output_type": "stream",
     "text": [
      "Downloading posts:  94%|█████████████████████████████████████████████████████████▌   | 472/500 [47:04<03:03,  6.55s/it]"
     ]
    },
    {
     "name": "stdout",
     "output_type": "stream",
     "text": [
      "hm\\2023-01-12_14-35-19_UTC.jpg [Straight from the runway to t…] json \n"
     ]
    },
    {
     "name": "stderr",
     "output_type": "stream",
     "text": [
      "Downloading posts:  95%|█████████████████████████████████████████████████████████▋   | 473/500 [47:07<02:33,  5.67s/it]"
     ]
    },
    {
     "name": "stdout",
     "output_type": "stream",
     "text": [
      "hm\\2023-01-12_08-50-15_UTC_1.jpg hm\\2023-01-12_08-50-15_UTC_2.jpg hm\\2023-01-12_08-50-15_UTC_3.jpg hm\\2023-01-12_08-50-15_UTC_4.jpg [In the mood to move? This spo…] json \n"
     ]
    },
    {
     "name": "stderr",
     "output_type": "stream",
     "text": [
      "Downloading posts:  95%|█████████████████████████████████████████████████████████▊   | 474/500 [47:17<02:59,  6.89s/it]"
     ]
    },
    {
     "name": "stdout",
     "output_type": "stream",
     "text": [
      "hm\\2023-01-11_09-03-23_UTC_1.jpg hm\\2023-01-11_09-03-23_UTC_2.jpg hm\\2023-01-11_09-03-23_UTC_3.jpg hm\\2023-01-11_09-03-23_UTC_4.jpg [Self-love embodied by a huggi…] json \n"
     ]
    },
    {
     "name": "stderr",
     "output_type": "stream",
     "text": [
      "Downloading posts:  95%|█████████████████████████████████████████████████████████▉   | 475/500 [47:26<03:10,  7.63s/it]"
     ]
    },
    {
     "name": "stdout",
     "output_type": "stream",
     "text": [
      "hm\\2023-01-10_10-35-11_UTC.jpg [Showing love to yourself in t…] json \n"
     ]
    },
    {
     "name": "stderr",
     "output_type": "stream",
     "text": [
      "Downloading posts:  95%|██████████████████████████████████████████████████████████   | 476/500 [47:29<02:26,  6.12s/it]"
     ]
    },
    {
     "name": "stdout",
     "output_type": "stream",
     "text": [
      "hm\\2023-01-09_09-41-59_UTC.jpg [That matching hood to perfect…] json \n"
     ]
    },
    {
     "name": "stderr",
     "output_type": "stream",
     "text": [
      "Downloading posts:  95%|██████████████████████████████████████████████████████████▏  | 477/500 [47:37<02:31,  6.57s/it]"
     ]
    },
    {
     "name": "stdout",
     "output_type": "stream",
     "text": [
      "hm\\2023-01-08_17-05-18_UTC_1.jpg hm\\2023-01-08_17-05-18_UTC_2.jpg hm\\2023-01-08_17-05-18_UTC_3.jpg hm\\2023-01-08_17-05-18_UTC_4.jpg hm\\2023-01-08_17-05-18_UTC_5.jpg [Overlooking the slopes, do yo…] json \n"
     ]
    },
    {
     "name": "stderr",
     "output_type": "stream",
     "text": [
      "Downloading posts:  96%|██████████████████████████████████████████████████████████▎  | 478/500 [47:47<02:51,  7.78s/it]"
     ]
    },
    {
     "name": "stdout",
     "output_type": "stream",
     "text": [
      "hm\\2023-01-07_18-08-14_UTC_1.jpg hm\\2023-01-07_18-08-14_UTC_2.jpg hm\\2023-01-07_18-08-14_UTC_3.jpg hm\\2023-01-07_18-08-14_UTC_4.jpg hm\\2023-01-07_18-08-14_UTC_5.jpg [The effortless way of matchin…] json \n"
     ]
    },
    {
     "name": "stderr",
     "output_type": "stream",
     "text": [
      "Downloading posts:  96%|██████████████████████████████████████████████████████████▍  | 479/500 [47:57<02:53,  8.25s/it]"
     ]
    },
    {
     "name": "stdout",
     "output_type": "stream",
     "text": [
      "hm\\2023-01-05_17-06-27_UTC_1.jpg hm\\2023-01-05_17-06-27_UTC_2.jpg hm\\2023-01-05_17-06-27_UTC_3.jpg hm\\2023-01-05_17-06-27_UTC_4.jpg hm\\2023-01-05_17-06-27_UTC_5.jpg [A vest only covers some so yo…] json \n"
     ]
    },
    {
     "name": "stderr",
     "output_type": "stream",
     "text": [
      "Downloading posts:  96%|██████████████████████████████████████████████████████████▌  | 480/500 [48:07<02:58,  8.92s/it]"
     ]
    },
    {
     "name": "stdout",
     "output_type": "stream",
     "text": [
      "hm\\2023-01-04_17-05-09_UTC_1.jpg hm\\2023-01-04_17-05-09_UTC_2.jpg hm\\2023-01-04_17-05-09_UTC_3.jpg hm\\2023-01-04_17-05-09_UTC_4.jpg hm\\2023-01-04_17-05-09_UTC_5.jpg [If this isn't puffer perfecti…] json \n"
     ]
    },
    {
     "name": "stderr",
     "output_type": "stream",
     "text": [
      "Downloading posts:  96%|██████████████████████████████████████████████████████████▋  | 481/500 [48:13<02:34,  8.13s/it]"
     ]
    },
    {
     "name": "stdout",
     "output_type": "stream",
     "text": [
      "hm\\2023-01-03_17-06-22_UTC.jpg [Just preparing for never feel…] json \n"
     ]
    },
    {
     "name": "stderr",
     "output_type": "stream",
     "text": [
      "Downloading posts:  96%|██████████████████████████████████████████████████████████▊  | 482/500 [48:18<02:07,  7.06s/it]"
     ]
    },
    {
     "name": "stdout",
     "output_type": "stream",
     "text": [
      "hm\\2023-01-02_13-44-08_UTC.jpg [If you’re not ready to deep d…] json \n"
     ]
    },
    {
     "name": "stderr",
     "output_type": "stream",
     "text": [
      "Downloading posts:  97%|██████████████████████████████████████████████████████████▉  | 483/500 [48:21<01:37,  5.73s/it]"
     ]
    },
    {
     "name": "stdout",
     "output_type": "stream",
     "text": [
      "hm\\2023-01-01_10-05-43_UTC.jpg [Soft, comfy and so stylish yo…] hm\\2023-01-01_10-05-43_UTC.mp4 json \n"
     ]
    },
    {
     "name": "stderr",
     "output_type": "stream",
     "text": [
      "Downloading posts:  97%|███████████████████████████████████████████████████████████  | 484/500 [48:25<01:27,  5.46s/it]"
     ]
    },
    {
     "name": "stdout",
     "output_type": "stream",
     "text": [
      "hm\\2022-12-31_13-37-26_UTC.jpg [Silver slingbacks for the shi…] json \n"
     ]
    },
    {
     "name": "stderr",
     "output_type": "stream",
     "text": [
      "Downloading posts:  97%|███████████████████████████████████████████████████████████▏ | 485/500 [48:32<01:27,  5.81s/it]"
     ]
    },
    {
     "name": "stdout",
     "output_type": "stream",
     "text": [
      "hm\\2022-12-30_13-37-33_UTC_1.jpg hm\\2022-12-30_13-37-33_UTC_2.jpg hm\\2022-12-30_13-37-33_UTC_3.jpg hm\\2022-12-30_13-37-33_UTC_4.jpg [If the LBD is TBD, remember t…] json \n"
     ]
    },
    {
     "name": "stderr",
     "output_type": "stream",
     "text": [
      "Downloading posts:  97%|███████████████████████████████████████████████████████████▎ | 486/500 [48:40<01:28,  6.33s/it]"
     ]
    },
    {
     "name": "stdout",
     "output_type": "stream",
     "text": [
      "hm\\2022-12-29_14-09-33_UTC.jpg [Can we finally admit that des…] hm\\2022-12-29_14-09-33_UTC.mp4 json \n"
     ]
    },
    {
     "name": "stderr",
     "output_type": "stream",
     "text": [
      "Downloading posts:  97%|███████████████████████████████████████████████████████████▍ | 487/500 [48:45<01:16,  5.91s/it]"
     ]
    },
    {
     "name": "stdout",
     "output_type": "stream",
     "text": [
      "hm\\2022-12-29_10-22-18_UTC.jpg [Mirror, mirror on the wall, w…] json \n"
     ]
    },
    {
     "name": "stderr",
     "output_type": "stream",
     "text": [
      "Downloading posts:  98%|███████████████████████████████████████████████████████████▌ | 488/500 [48:48<01:02,  5.22s/it]"
     ]
    },
    {
     "name": "stdout",
     "output_type": "stream",
     "text": [
      "hm\\2022-12-28_13-01-32_UTC.jpg [Hear the jaws drop when you’v…] json \n"
     ]
    },
    {
     "name": "stderr",
     "output_type": "stream",
     "text": [
      "Downloading posts:  98%|███████████████████████████████████████████████████████████▋ | 489/500 [48:51<00:48,  4.43s/it]"
     ]
    },
    {
     "name": "stdout",
     "output_type": "stream",
     "text": [
      "hm\\2022-12-28_12-22-29_UTC_1.jpg hm\\2022-12-28_12-22-29_UTC_2.jpg hm\\2022-12-28_12-22-29_UTC_3.jpg [The best gift is still to be …] json \n"
     ]
    },
    {
     "name": "stderr",
     "output_type": "stream",
     "text": [
      "Downloading posts:  98%|███████████████████████████████████████████████████████████▊ | 490/500 [48:59<00:55,  5.55s/it]"
     ]
    },
    {
     "name": "stdout",
     "output_type": "stream",
     "text": [
      "hm\\2022-12-27_13-18-49_UTC.jpg [Getting new heels for the new…] json \n"
     ]
    },
    {
     "name": "stderr",
     "output_type": "stream",
     "text": [
      "Downloading posts:  98%|███████████████████████████████████████████████████████████▉ | 491/500 [49:05<00:52,  5.87s/it]"
     ]
    },
    {
     "name": "stdout",
     "output_type": "stream",
     "text": [
      "hm\\2022-12-26_17-02-59_UTC_1.jpg hm\\2022-12-26_17-02-59_UTC_2.jpg hm\\2022-12-26_17-02-59_UTC_3.jpg hm\\2022-12-26_17-02-59_UTC_4.jpg [Dresses that pave the way for…] json \n"
     ]
    },
    {
     "name": "stderr",
     "output_type": "stream",
     "text": [
      "Downloading posts:  98%|████████████████████████████████████████████████████████████ | 492/500 [49:15<00:56,  7.07s/it]"
     ]
    },
    {
     "name": "stdout",
     "output_type": "stream",
     "text": [
      "hm\\2022-12-25_17-04-46_UTC.jpg [Dazzling every room, regardle…] hm\\2022-12-25_17-04-46_UTC.mp4 json \n"
     ]
    },
    {
     "name": "stderr",
     "output_type": "stream",
     "text": [
      "Downloading posts:  99%|████████████████████████████████████████████████████████████▏| 493/500 [49:24<00:53,  7.62s/it]"
     ]
    },
    {
     "name": "stdout",
     "output_type": "stream",
     "text": [
      "hm\\2022-12-25_12-37-08_UTC.jpg [Leveling up that selfie game …] hm\\2022-12-25_12-37-08_UTC.mp4 json \n"
     ]
    },
    {
     "name": "stderr",
     "output_type": "stream",
     "text": [
      "Downloading posts:  99%|████████████████████████████████████████████████████████████▎| 494/500 [49:33<00:48,  8.03s/it]"
     ]
    },
    {
     "name": "stdout",
     "output_type": "stream",
     "text": [
      "hm\\2022-12-24_17-02-09_UTC.jpg [A clue: one can never have to…] json \n"
     ]
    },
    {
     "name": "stderr",
     "output_type": "stream",
     "text": [
      "Downloading posts:  99%|████████████████████████████████████████████████████████████▍| 495/500 [49:36<00:31,  6.40s/it]"
     ]
    },
    {
     "name": "stdout",
     "output_type": "stream",
     "text": [
      "hm\\2022-12-24_12-01-54_UTC_1.jpg hm\\2022-12-24_12-01-54_UTC_2.jpg hm\\2022-12-24_12-01-54_UTC_3.jpg hm\\2022-12-24_12-01-54_UTC_4.jpg [No matter the decorations, ev…] json \n"
     ]
    },
    {
     "name": "stderr",
     "output_type": "stream",
     "text": [
      "Downloading posts:  99%|████████████████████████████████████████████████████████████▌| 496/500 [49:42<00:25,  6.41s/it]"
     ]
    },
    {
     "name": "stdout",
     "output_type": "stream",
     "text": [
      "hm\\2022-12-23_17-10-58_UTC_1.jpg hm\\2022-12-23_17-10-58_UTC_2.jpg [The outfit that had them look…] json \n"
     ]
    },
    {
     "name": "stderr",
     "output_type": "stream",
     "text": [
      "Downloading posts:  99%|████████████████████████████████████████████████████████████▋| 497/500 [49:48<00:18,  6.08s/it]"
     ]
    },
    {
     "name": "stdout",
     "output_type": "stream",
     "text": [
      "hm\\2022-12-23_14-18-20_UTC_1.jpg hm\\2022-12-23_14-18-20_UTC_2.jpg hm\\2022-12-23_14-18-20_UTC_3.jpg [How do we wrap this year? All…] json \n"
     ]
    },
    {
     "name": "stderr",
     "output_type": "stream",
     "text": [
      "Downloading posts: 100%|████████████████████████████████████████████████████████████▊| 498/500 [49:55<00:12,  6.40s/it]"
     ]
    },
    {
     "name": "stdout",
     "output_type": "stream",
     "text": [
      "hm\\2022-12-21_17-02-38_UTC_1.jpg hm\\2022-12-21_17-02-38_UTC_2.jpg hm\\2022-12-21_17-02-38_UTC_3.jpg hm\\2022-12-21_17-02-38_UTC_4.jpg [We love soft presents, but ma…] json \n"
     ]
    },
    {
     "name": "stderr",
     "output_type": "stream",
     "text": [
      "Downloading posts: 100%|████████████████████████████████████████████████████████████▉| 499/500 [50:03<00:07,  7.04s/it]"
     ]
    },
    {
     "name": "stdout",
     "output_type": "stream",
     "text": [
      "hm\\2022-12-20_15-06-43_UTC.jpg [Shine bright with standout ac…] json \n"
     ]
    },
    {
     "name": "stderr",
     "output_type": "stream",
     "text": [
      "Downloading posts: 100%|█████████████████████████████████████████████████████████████| 500/500 [50:08<00:00,  6.02s/it]\n"
     ]
    }
   ],
   "source": [
    "users = ['hm', 'jacquemus', 'sheinofficial', 'chanelofficial']\n",
    "L = instaloader.Instaloader()\n",
    "user = users[0]  # Replace with the actual username\n",
    "profile = instaloader.Profile.from_username(L.context, user)  # user from list of users\n",
    "\n",
    "# Set the maximum number of posts to download\n",
    "max_posts = 500\n",
    "\n",
    "# Using tqdm to create a progress bar\n",
    "for post in tqdm(profile.get_posts(), total=max_posts, desc=\"Downloading posts\"):\n",
    "    if max_posts > 0:\n",
    "        L.download_post(post, target=profile.username)\n",
    "        max_posts -= 1  # Decrement the remaining number of posts to download\n",
    "        time.sleep(random.randint(2,7))  # Wait for x seconds between downloads: x is random uniform (2,7)\n",
    "    else:\n",
    "        break  # Exit the loop after downloading the desired number of posts"
   ]
  },
  {
   "cell_type": "markdown",
   "id": "42af09f9-8ba9-4729-a7bc-6271c5d8ccb2",
   "metadata": {},
   "source": [
    "# Arrange in Folders\n",
    "Put content of posts into a folder per post containing metadata and pictures"
   ]
  },
  {
   "cell_type": "code",
   "execution_count": null,
   "id": "81d5aa79-38e9-4321-9e5f-76f8d71262c0",
   "metadata": {},
   "outputs": [],
   "source": [
    "import os\n",
    "import shutil\n",
    "\n",
    "def organize_files_by_name(folder_path):\n",
    "    files = [f for f in os.listdir(folder_path) if os.path.isfile(os.path.join(folder_path, f))]\n",
    "    base_names = {}\n",
    "\n",
    "    for file in files:\n",
    "        # Take the first 23 characters as the base name\n",
    "        base_name = file[:23]\n",
    "\n",
    "        if base_name not in base_names:\n",
    "            base_names[base_name] = []\n",
    "\n",
    "        base_names[base_name].append(file)\n",
    "\n",
    "    for base_name, file_list in base_names.items():\n",
    "        dir_path = os.path.join(folder_path, base_name)\n",
    "        if not os.path.exists(dir_path):\n",
    "            os.makedirs(dir_path)\n",
    "\n",
    "        for file in file_list:\n",
    "            original_file = os.path.join(folder_path, file)\n",
    "            new_file = os.path.join(dir_path, file)\n",
    "\n",
    "            if os.path.exists(new_file):\n",
    "                i = 1\n",
    "                new_base_name = file[:23]\n",
    "                ext = os.path.splitext(file)[1]\n",
    "                new_file = os.path.join(dir_path, f\"{new_base_name}_{i}{ext}\")\n",
    "                while os.path.exists(new_file):\n",
    "                    i += 1\n",
    "                    new_file = os.path.join(dir_path, f\"{new_base_name}_{i}{ext}\")\n",
    "\n",
    "            shutil.move(original_file, new_file)\n",
    "\n",
    "# Implement\n",
    "folder_path = user  # Replace with the path to your folder\n",
    "organize_files_by_name(folder_path)"
   ]
  },
  {
   "cell_type": "markdown",
   "id": "f732bb2d-5fe1-4e9e-b8e1-75386e489f26",
   "metadata": {},
   "source": [
    "# Delete MP4\n",
    "Some posts are MP4, so delete them because they are out of scope"
   ]
  },
  {
   "cell_type": "code",
   "execution_count": null,
   "id": "531e54dc-79fe-4524-8aff-088edfe62c59",
   "metadata": {},
   "outputs": [],
   "source": [
    "def get_mp4_files(folder_path, users):\n",
    "    mp4_files = []\n",
    "    for user in users:\n",
    "        user_folder = os.path.join(folder_path, user)\n",
    "        if os.path.exists(user_folder):\n",
    "            for root, dirs, files in os.walk(user_folder):\n",
    "                for file in files:\n",
    "                    if file.endswith('.mp4'):\n",
    "                        mp4_files.append(os.path.join(root, file))\n",
    "        else:\n",
    "            print(f\"Folder not found: {user_folder}\")\n",
    "    return mp4_files\n",
    "\n",
    "users = ['hm', 'jacquemus', 'sheinofficial', 'chanelofficial']\n",
    "folder_path = '../1_download_data/'\n",
    "mp4_files = get_mp4_files(folder_path, users)"
   ]
  }
 ],
 "metadata": {
  "kernelspec": {
   "display_name": "Python 3 (ipykernel)",
   "language": "python",
   "name": "python3"
  },
  "language_info": {
   "codemirror_mode": {
    "name": "ipython",
    "version": 3
   },
   "file_extension": ".py",
   "mimetype": "text/x-python",
   "name": "python",
   "nbconvert_exporter": "python",
   "pygments_lexer": "ipython3",
   "version": "3.11.5"
  }
 },
 "nbformat": 4,
 "nbformat_minor": 5
}
