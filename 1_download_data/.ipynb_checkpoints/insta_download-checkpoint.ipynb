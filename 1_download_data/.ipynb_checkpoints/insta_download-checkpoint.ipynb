{
 "cells": [
  {
   "cell_type": "markdown",
   "id": "14a3e9b8-1e14-48d1-ae67-b0beb4adc46c",
   "metadata": {},
   "source": [
    "this is a source to download using requests https://geekflare.com/how-to-download-instagram-data-using-python/"
   ]
  },
  {
   "cell_type": "markdown",
   "id": "b17ae2c4-06d8-4999-b4b9-29e1b2451c0d",
   "metadata": {},
   "source": [
    "# Instadownloader"
   ]
  },
  {
   "cell_type": "code",
   "execution_count": 1,
   "id": "dd200dd8-bdbc-4a6e-865e-15c95d2d354e",
   "metadata": {},
   "outputs": [],
   "source": [
    "users = ['hm', 'jacquemus', 'sheinofficial', 'chanelofficial']"
   ]
  },
  {
   "cell_type": "code",
   "execution_count": 9,
   "id": "4aed5629-2393-48c6-9d32-46fe823189e7",
   "metadata": {},
   "outputs": [
    {
     "name": "stderr",
     "output_type": "stream",
     "text": [
      "Downloading posts:   0%|                                                                       | 0/200 [00:00<?, ?it/s]"
     ]
    },
    {
     "name": "stdout",
     "output_type": "stream",
     "text": [
      "hm\\2024-01-11_09-19-31_UTC_1.jpg hm\\2024-01-11_09-19-31_UTC_2.jpg hm\\2024-01-11_09-19-31_UTC_3.jpg [Full look sorted. #HM] json \n"
     ]
    },
    {
     "name": "stderr",
     "output_type": "stream",
     "text": [
      "Downloading posts:   0%|▎                                                              | 1/200 [00:06<22:14,  6.71s/it]"
     ]
    },
    {
     "name": "stdout",
     "output_type": "stream",
     "text": [
      "hm\\2024-01-10_12-07-37_UTC_1.jpg hm\\2024-01-10_12-07-37_UTC_2.jpg [Stripes and tailoring. #HM] json \n"
     ]
    },
    {
     "name": "stderr",
     "output_type": "stream",
     "text": [
      "Downloading posts:   1%|▋                                                              | 2/200 [00:12<20:59,  6.36s/it]"
     ]
    },
    {
     "name": "stdout",
     "output_type": "stream",
     "text": [
      "hm\\2024-01-09_12-00-43_UTC_1.jpg hm\\2024-01-09_12-00-43_UTC_2.jpg [The everyday classic. #HM] json \n"
     ]
    },
    {
     "name": "stderr",
     "output_type": "stream",
     "text": [
      "Downloading posts:   2%|▉                                                              | 3/200 [00:18<20:33,  6.26s/it]"
     ]
    },
    {
     "name": "stdout",
     "output_type": "stream",
     "text": [
      "hm\\2024-01-08_17-25-59_UTC.jpg [Add a detail. #HM] json \n"
     ]
    },
    {
     "name": "stderr",
     "output_type": "stream",
     "text": [
      "Downloading posts:   2%|█▎                                                             | 4/200 [00:24<19:34,  5.99s/it]"
     ]
    },
    {
     "name": "stdout",
     "output_type": "stream",
     "text": [
      "hm\\2024-01-01_11-19-17_UTC.jpg [Flavour of the year: Couch-po…] hm\\2024-01-01_11-19-17_UTC.mp4 json \n"
     ]
    },
    {
     "name": "stderr",
     "output_type": "stream",
     "text": [
      "Downloading posts:   2%|█▌                                                             | 5/200 [00:31<20:15,  6.23s/it]"
     ]
    },
    {
     "name": "stdout",
     "output_type": "stream",
     "text": [
      "hm\\2023-12-29_16-05-56_UTC.jpg [Wrapping up the year with Ann…] hm\\2023-12-29_16-05-56_UTC.mp4 json \n"
     ]
    },
    {
     "name": "stderr",
     "output_type": "stream",
     "text": [
      "Downloading posts:   3%|█▉                                                             | 6/200 [00:38<21:12,  6.56s/it]"
     ]
    },
    {
     "name": "stdout",
     "output_type": "stream",
     "text": [
      "hm\\2023-12-28_16-02-02_UTC_1.jpg hm\\2023-12-28_16-02-02_UTC_2.jpg [The beauty of the mismatch. #HM] json \n"
     ]
    },
    {
     "name": "stderr",
     "output_type": "stream",
     "text": [
      "Downloading posts:   4%|██▏                                                            | 7/200 [00:44<20:41,  6.43s/it]"
     ]
    },
    {
     "name": "stdout",
     "output_type": "stream",
     "text": [
      "hm\\2023-12-28_07-01-15_UTC_1.jpg hm\\2023-12-28_07-01-15_UTC_2.jpg hm\\2023-12-28_07-01-15_UTC_3.jpg [One woman show. #HM] json \n"
     ]
    },
    {
     "name": "stderr",
     "output_type": "stream",
     "text": [
      "Downloading posts:   4%|██▌                                                            | 8/200 [00:51<20:54,  6.53s/it]"
     ]
    },
    {
     "name": "stdout",
     "output_type": "stream",
     "text": [
      "hm\\2023-12-27_16-20-12_UTC_1.jpg hm\\2023-12-27_16-20-12_UTC_2.jpg [Trending now: Metallics. #HM] json \n"
     ]
    },
    {
     "name": "stderr",
     "output_type": "stream",
     "text": [
      "Downloading posts:   4%|██▊                                                            | 9/200 [00:57<20:29,  6.44s/it]"
     ]
    },
    {
     "name": "stdout",
     "output_type": "stream",
     "text": [
      "hm\\2023-12-27_07-01-40_UTC.jpg [A bold move. #HM] json \n"
     ]
    },
    {
     "name": "stderr",
     "output_type": "stream",
     "text": [
      "Downloading posts:   5%|███                                                           | 10/200 [01:03<19:33,  6.18s/it]"
     ]
    },
    {
     "name": "stdout",
     "output_type": "stream",
     "text": [
      "hm\\2023-12-26_16-00-45_UTC.jpg [Drama in the eyes. #HM] json \n"
     ]
    },
    {
     "name": "stderr",
     "output_type": "stream",
     "text": [
      "Downloading posts:   6%|███▍                                                          | 11/200 [01:08<18:52,  5.99s/it]"
     ]
    },
    {
     "name": "stdout",
     "output_type": "stream",
     "text": [
      "hm\\2023-12-26_07-14-22_UTC_1.jpg hm\\2023-12-26_07-14-22_UTC_2.jpg [This NYE: Shades of pink, sha…] json \n"
     ]
    },
    {
     "name": "stderr",
     "output_type": "stream",
     "text": [
      "Downloading posts:   6%|███▋                                                          | 12/200 [01:14<18:54,  6.03s/it]"
     ]
    },
    {
     "name": "stdout",
     "output_type": "stream",
     "text": [
      "hm\\2023-12-25_16-00-45_UTC_1.jpg hm\\2023-12-25_16-00-45_UTC_2.jpg [The little black sequin dress…] json \n"
     ]
    },
    {
     "name": "stderr",
     "output_type": "stream",
     "text": [
      "Downloading posts:   6%|████                                                          | 13/200 [01:23<21:08,  6.78s/it]"
     ]
    },
    {
     "name": "stdout",
     "output_type": "stream",
     "text": [
      "hm\\2023-12-25_07-45-47_UTC_1.jpg hm\\2023-12-25_07-45-47_UTC_2.jpg hm\\2023-12-25_07-45-47_UTC_3.jpg [The power of textures. #HM] json \n"
     ]
    },
    {
     "name": "stderr",
     "output_type": "stream",
     "text": [
      "Downloading posts:   7%|████▎                                                         | 14/200 [01:30<21:01,  6.78s/it]"
     ]
    },
    {
     "name": "stdout",
     "output_type": "stream",
     "text": [
      "hm\\2023-12-22_12-37-32_UTC_1.jpg hm\\2023-12-22_12-37-32_UTC_2.jpg [The little black dress for th…] json \n"
     ]
    },
    {
     "name": "stderr",
     "output_type": "stream",
     "text": [
      "Downloading posts:   8%|████▋                                                         | 15/200 [01:36<20:21,  6.60s/it]"
     ]
    },
    {
     "name": "stdout",
     "output_type": "stream",
     "text": [
      "hm\\2023-12-21_14-06-08_UTC.jpg [@juliafox wears The Oversized…] json \n"
     ]
    },
    {
     "name": "stderr",
     "output_type": "stream",
     "text": [
      "Downloading posts:   8%|████▉                                                         | 16/200 [01:41<19:18,  6.30s/it]"
     ]
    },
    {
     "name": "stdout",
     "output_type": "stream",
     "text": [
      "hm\\2023-12-21_09-54-40_UTC_1.jpg hm\\2023-12-21_09-54-40_UTC_2.jpg hm\\2023-12-21_09-54-40_UTC_3.jpg [Tailored three ways.  #HM] json \n"
     ]
    },
    {
     "name": "stderr",
     "output_type": "stream",
     "text": [
      "Downloading posts:   8%|█████▎                                                        | 17/200 [01:48<19:34,  6.42s/it]"
     ]
    },
    {
     "name": "stdout",
     "output_type": "stream",
     "text": [
      "hm\\2023-12-20_15-16-14_UTC_1.jpg hm\\2023-12-20_15-16-14_UTC_2.jpg hm\\2023-12-20_15-16-14_UTC_3.jpg [Warming puffers to weatherpro…] json \n"
     ]
    },
    {
     "name": "stderr",
     "output_type": "stream",
     "text": [
      "Downloading posts:   9%|█████▌                                                        | 18/200 [01:55<19:44,  6.51s/it]"
     ]
    },
    {
     "name": "stdout",
     "output_type": "stream",
     "text": [
      "hm\\2023-12-20_09-06-46_UTC.jpg [Powder-fresh looks turning he…] hm\\2023-12-20_09-06-46_UTC.mp4 json \n"
     ]
    },
    {
     "name": "stderr",
     "output_type": "stream",
     "text": [
      "Downloading posts:  10%|█████▉                                                        | 19/200 [02:01<19:33,  6.48s/it]"
     ]
    },
    {
     "name": "stdout",
     "output_type": "stream",
     "text": [
      "hm\\2023-12-19_15-30-16_UTC_1.jpg hm\\2023-12-19_15-30-16_UTC_2.jpg [Introducing a new skiwear col…] json \n"
     ]
    },
    {
     "name": "stderr",
     "output_type": "stream",
     "text": [
      "Downloading posts:  10%|██████▏                                                       | 20/200 [02:07<19:10,  6.39s/it]"
     ]
    },
    {
     "name": "stdout",
     "output_type": "stream",
     "text": [
      "hm\\2023-12-19_09-30-40_UTC_1.jpg hm\\2023-12-19_09-30-40_UTC_2.jpg [Bold prints for the winter se…] json \n"
     ]
    },
    {
     "name": "stderr",
     "output_type": "stream",
     "text": [
      "Downloading posts:  10%|██████▌                                                       | 21/200 [02:14<18:52,  6.32s/it]"
     ]
    },
    {
     "name": "stdout",
     "output_type": "stream",
     "text": [
      "hm\\2023-12-18_15-08-37_UTC.jpg [The coated trousers & the coa…] json \n"
     ]
    },
    {
     "name": "stderr",
     "output_type": "stream",
     "text": [
      "Downloading posts:  11%|██████▊                                                       | 22/200 [02:19<18:06,  6.10s/it]"
     ]
    },
    {
     "name": "stdout",
     "output_type": "stream",
     "text": [
      "hm\\2023-12-18_08-00-20_UTC_1.jpg hm\\2023-12-18_08-00-20_UTC_2.jpg [It’s the season for Teddy Jac…] json \n"
     ]
    },
    {
     "name": "stderr",
     "output_type": "stream",
     "text": [
      "Downloading posts:  12%|███████▏                                                      | 23/200 [02:25<18:02,  6.12s/it]"
     ]
    },
    {
     "name": "stdout",
     "output_type": "stream",
     "text": [
      "hm\\2023-12-15_17-00-40_UTC_1.jpg hm\\2023-12-15_17-00-40_UTC_2.jpg hm\\2023-12-15_17-00-40_UTC_3.jpg [H&M Holiday. #HM] json \n"
     ]
    },
    {
     "name": "stderr",
     "output_type": "stream",
     "text": [
      "Downloading posts:  12%|███████▍                                                      | 24/200 [02:32<18:27,  6.29s/it]"
     ]
    },
    {
     "name": "stdout",
     "output_type": "stream",
     "text": [
      "hm\\2023-12-15_12-05-03_UTC_1.jpg hm\\2023-12-15_12-05-03_UTC_2.jpg hm\\2023-12-15_12-05-03_UTC_3.jpg [Statement sparkle from the Ho…] json \n"
     ]
    },
    {
     "name": "stderr",
     "output_type": "stream",
     "text": [
      "Downloading posts:  12%|███████▊                                                      | 25/200 [02:39<18:45,  6.43s/it]"
     ]
    },
    {
     "name": "stdout",
     "output_type": "stream",
     "text": [
      "hm\\2023-12-14_12-01-48_UTC_1.jpg hm\\2023-12-14_12-01-48_UTC_2.jpg [Attention to detail. #HM] json \n"
     ]
    },
    {
     "name": "stderr",
     "output_type": "stream",
     "text": [
      "Downloading posts:  13%|████████                                                      | 26/200 [02:45<18:32,  6.39s/it]"
     ]
    },
    {
     "name": "stdout",
     "output_type": "stream",
     "text": [
      "hm\\2023-12-13_09-29-24_UTC_1.jpg hm\\2023-12-13_09-29-24_UTC_2.jpg hm\\2023-12-13_09-29-24_UTC_3.jpg [The Holiday collection is out…] json \n"
     ]
    },
    {
     "name": "stderr",
     "output_type": "stream",
     "text": [
      "Downloading posts:  14%|████████▎                                                     | 27/200 [02:52<18:40,  6.48s/it]"
     ]
    },
    {
     "name": "stdout",
     "output_type": "stream",
     "text": [
      "hm\\2023-12-12_12-00-46_UTC_1.jpg hm\\2023-12-12_12-00-46_UTC_2.jpg hm\\2023-12-12_12-00-46_UTC_3.jpg [New beauty arrivals from the …] json \n"
     ]
    },
    {
     "name": "stderr",
     "output_type": "stream",
     "text": [
      "Downloading posts:  14%|████████▋                                                     | 28/200 [02:58<18:45,  6.55s/it]"
     ]
    },
    {
     "name": "stdout",
     "output_type": "stream",
     "text": [
      "hm\\2023-12-12_08-35-26_UTC_1.jpg hm\\2023-12-12_08-35-26_UTC_2.jpg hm\\2023-12-12_08-35-26_UTC_3.jpg hm\\2023-12-12_08-35-26_UTC_4.jpg hm\\2023-12-12_08-35-26_UTC_5.jpg [A spotlight on men’s accessor…] json \n"
     ]
    },
    {
     "name": "stderr",
     "output_type": "stream",
     "text": [
      "Downloading posts:  14%|████████▉                                                     | 29/200 [03:06<19:48,  6.95s/it]"
     ]
    },
    {
     "name": "stdout",
     "output_type": "stream",
     "text": [
      "hm\\2023-12-11_17-00-13_UTC_1.jpg hm\\2023-12-11_17-00-13_UTC_2.jpg hm\\2023-12-11_17-00-13_UTC_3.jpg hm\\2023-12-11_17-00-13_UTC_4.jpg [Party looks for the little on…] json \n"
     ]
    },
    {
     "name": "stderr",
     "output_type": "stream",
     "text": [
      "Downloading posts:  15%|█████████▎                                                    | 30/200 [03:14<20:00,  7.06s/it]"
     ]
    },
    {
     "name": "stdout",
     "output_type": "stream",
     "text": [
      "hm\\2023-12-11_12-17-14_UTC_1.jpg hm\\2023-12-11_12-17-14_UTC_2.jpg [H&M Holiday. #HM] json \n"
     ]
    },
    {
     "name": "stderr",
     "output_type": "stream",
     "text": [
      "Downloading posts:  16%|█████████▌                                                    | 31/200 [03:20<19:12,  6.82s/it]"
     ]
    },
    {
     "name": "stdout",
     "output_type": "stream",
     "text": [
      "hm\\2023-12-11_08-00-17_UTC_1.jpg hm\\2023-12-11_08-00-17_UTC_2.jpg hm\\2023-12-11_08-00-17_UTC_3.jpg [Take a peek at our Holiday sh…] json \n"
     ]
    },
    {
     "name": "stderr",
     "output_type": "stream",
     "text": [
      "Downloading posts:  16%|█████████▉                                                    | 32/200 [03:27<19:03,  6.81s/it]"
     ]
    },
    {
     "name": "stdout",
     "output_type": "stream",
     "text": [
      "hm\\2023-12-08_14-01-53_UTC_1.jpg hm\\2023-12-08_14-01-53_UTC_2.jpg hm\\2023-12-08_14-01-53_UTC_3.jpg hm\\2023-12-08_14-01-53_UTC_4.jpg hm\\2023-12-08_14-01-53_UTC_5.jpg [Tube Girl @sabrinabahsoon cau…] json \n"
     ]
    },
    {
     "name": "stderr",
     "output_type": "stream",
     "text": [
      "Downloading posts:  16%|██████████▏                                                   | 33/200 [03:35<19:56,  7.17s/it]"
     ]
    },
    {
     "name": "stdout",
     "output_type": "stream",
     "text": [
      "hm\\2023-12-08_11-00-12_UTC_1.jpg hm\\2023-12-08_11-00-12_UTC_2.jpg [Unexpectedly timeless. The H&…] json \n"
     ]
    },
    {
     "name": "stderr",
     "output_type": "stream",
     "text": [
      "Downloading posts:  17%|██████████▌                                                   | 34/200 [03:41<19:01,  6.87s/it]"
     ]
    },
    {
     "name": "stdout",
     "output_type": "stream",
     "text": [
      "hm\\2023-12-08_08-01-32_UTC.jpg [Reserved for special occasion…] json \n"
     ]
    },
    {
     "name": "stderr",
     "output_type": "stream",
     "text": [
      "Downloading posts:  18%|██████████▊                                                   | 35/200 [03:47<17:50,  6.49s/it]"
     ]
    },
    {
     "name": "stdout",
     "output_type": "stream",
     "text": [
      "hm\\2023-12-07_16-00-13_UTC.jpg [Reserved for special occasion…] json \n"
     ]
    },
    {
     "name": "stderr",
     "output_type": "stream",
     "text": [
      "Downloading posts:  18%|███████████▏                                                  | 36/200 [03:52<17:06,  6.26s/it]"
     ]
    },
    {
     "name": "stdout",
     "output_type": "stream",
     "text": [
      "hm\\2023-12-07_13-22-26_UTC_1.jpg hm\\2023-12-07_13-22-26_UTC_2.jpg hm\\2023-12-07_13-22-26_UTC_3.jpg [Finding the balance between m…] json \n"
     ]
    },
    {
     "name": "stderr",
     "output_type": "stream",
     "text": [
      "Downloading posts:  18%|███████████▍                                                  | 37/200 [03:59<17:25,  6.41s/it]"
     ]
    },
    {
     "name": "stdout",
     "output_type": "stream",
     "text": [
      "hm\\2023-12-07_08-30-48_UTC_1.jpg hm\\2023-12-07_08-30-48_UTC_2.jpg [Introducing a new eveningwear…] json \n"
     ]
    },
    {
     "name": "stderr",
     "output_type": "stream",
     "text": [
      "Downloading posts:  19%|███████████▊                                                  | 38/200 [04:05<17:12,  6.37s/it]"
     ]
    },
    {
     "name": "stdout",
     "output_type": "stream",
     "text": [
      "hm\\2023-12-06_12-11-11_UTC_1.jpg hm\\2023-12-06_12-11-11_UTC_2.jpg [Tailored for the Holidays. #HM] json \n"
     ]
    },
    {
     "name": "stderr",
     "output_type": "stream",
     "text": [
      "Downloading posts:  20%|████████████                                                  | 39/200 [04:12<17:00,  6.34s/it]"
     ]
    },
    {
     "name": "stdout",
     "output_type": "stream",
     "text": [
      "hm\\2023-12-06_09-12-19_UTC_1.jpg hm\\2023-12-06_09-12-19_UTC_2.jpg [Current obsession: the sequin…] json \n"
     ]
    },
    {
     "name": "stderr",
     "output_type": "stream",
     "text": [
      "Downloading posts:  20%|████████████▍                                                 | 40/200 [04:18<16:46,  6.29s/it]"
     ]
    },
    {
     "name": "stdout",
     "output_type": "stream",
     "text": [
      "hm\\2023-12-05_11-13-44_UTC_1.jpg hm\\2023-12-05_11-13-44_UTC_2.jpg hm\\2023-12-05_11-13-44_UTC_3.jpg [Suki Waterhouse wears H&M Stu…] json \n"
     ]
    },
    {
     "name": "stderr",
     "output_type": "stream",
     "text": [
      "Downloading posts:  20%|████████████▋                                                 | 41/200 [04:25<17:05,  6.45s/it]"
     ]
    },
    {
     "name": "stdout",
     "output_type": "stream",
     "text": [
      "hm\\2023-12-01_17-18-09_UTC.jpg [Coming soon: H&M Studio Holid…] json \n"
     ]
    },
    {
     "name": "stderr",
     "output_type": "stream",
     "text": [
      "Downloading posts:  21%|█████████████                                                 | 42/200 [04:30<16:18,  6.19s/it]"
     ]
    },
    {
     "name": "stdout",
     "output_type": "stream",
     "text": [
      "hm\\2023-12-01_12-10-03_UTC.jpg [Jewellery from the H&M Studio…] hm\\2023-12-01_12-10-03_UTC.mp4 json \n"
     ]
    },
    {
     "name": "stderr",
     "output_type": "stream",
     "text": [
      "Downloading posts:  22%|█████████████▎                                                | 43/200 [04:37<16:52,  6.45s/it]"
     ]
    },
    {
     "name": "stdout",
     "output_type": "stream",
     "text": [
      "hm\\2023-12-01_08-31-33_UTC.jpg [Next up: H&M Studio Holiday C…] json \n"
     ]
    },
    {
     "name": "stderr",
     "output_type": "stream",
     "text": [
      "Downloading posts:  22%|█████████████▋                                                | 44/200 [04:43<16:05,  6.19s/it]"
     ]
    },
    {
     "name": "stdout",
     "output_type": "stream",
     "text": [
      "hm\\2023-11-30_20-27-36_UTC.jpg [The H&M Studio Holiday Capsul…] json \n"
     ]
    },
    {
     "name": "stderr",
     "output_type": "stream",
     "text": [
      "Downloading posts:  22%|█████████████▉                                                | 45/200 [04:48<15:32,  6.02s/it]"
     ]
    },
    {
     "name": "stdout",
     "output_type": "stream",
     "text": [
      "hm\\2023-11-30_20-26-54_UTC.jpg [An intuitive approach to even…] json \n"
     ]
    },
    {
     "name": "stderr",
     "output_type": "stream",
     "text": [
      "Downloading posts:  23%|██████████████▎                                               | 46/200 [04:54<15:08,  5.90s/it]"
     ]
    },
    {
     "name": "stdout",
     "output_type": "stream",
     "text": [
      "hm\\2023-11-30_08-12-08_UTC.jpg [The H&M Studio Holiday Capsul…] json \n"
     ]
    },
    {
     "name": "stderr",
     "output_type": "stream",
     "text": [
      "Downloading posts:  24%|██████████████▌                                               | 47/200 [05:00<14:49,  5.82s/it]"
     ]
    },
    {
     "name": "stdout",
     "output_type": "stream",
     "text": [
      "hm\\2023-11-29_08-46-34_UTC.jpg [ROTATE x H&M: 10 unique piece…] json \n"
     ]
    },
    {
     "name": "stderr",
     "output_type": "stream",
     "text": [
      "Downloading posts:  24%|██████████████▉                                               | 48/200 [05:05<14:34,  5.75s/it]"
     ]
    },
    {
     "name": "stdout",
     "output_type": "stream",
     "text": [
      "hm\\2023-11-28_17-11-06_UTC_1.jpg hm\\2023-11-28_17-11-06_UTC_2.jpg hm\\2023-11-28_17-11-06_UTC_3.jpg [\"This collaboration feels lik…] json \n"
     ]
    },
    {
     "name": "stderr",
     "output_type": "stream",
     "text": [
      "Downloading posts:  24%|███████████████▏                                              | 49/200 [05:12<15:12,  6.04s/it]"
     ]
    },
    {
     "name": "stdout",
     "output_type": "stream",
     "text": [
      "hm\\2023-11-28_08-07-37_UTC.jpg [Presenting our latest collab,…] json \n"
     ]
    },
    {
     "name": "stderr",
     "output_type": "stream",
     "text": [
      "Downloading posts:  25%|███████████████▌                                              | 50/200 [05:18<14:51,  5.94s/it]"
     ]
    },
    {
     "name": "stdout",
     "output_type": "stream",
     "text": [
      "hm\\2023-11-24_09-56-12_UTC.jpg [New in: The Holiday collectio…] hm\\2023-11-24_09-56-12_UTC.mp4 json \n"
     ]
    },
    {
     "name": "stderr",
     "output_type": "stream",
     "text": [
      "Downloading posts:  26%|███████████████▊                                              | 51/200 [05:26<16:26,  6.62s/it]"
     ]
    },
    {
     "name": "stdout",
     "output_type": "stream",
     "text": [
      "hm\\2023-11-23_09-33-21_UTC.jpg [The recipe for the perfect mo…] hm\\2023-11-23_09-33-21_UTC.mp4 json \n"
     ]
    },
    {
     "name": "stderr",
     "output_type": "stream",
     "text": [
      "Downloading posts:  26%|████████████████                                              | 52/200 [05:33<16:37,  6.74s/it]"
     ]
    },
    {
     "name": "stdout",
     "output_type": "stream",
     "text": [
      "hm\\2023-11-22_15-09-49_UTC.jpg [H&M Holiday is out now. #HM] hm\\2023-11-22_15-09-49_UTC.mp4 json \n"
     ]
    },
    {
     "name": "stderr",
     "output_type": "stream",
     "text": [
      "Downloading posts:  26%|████████████████▍                                             | 53/200 [05:41<17:13,  7.03s/it]"
     ]
    },
    {
     "name": "stdout",
     "output_type": "stream",
     "text": [
      "hm\\2023-11-22_09-12-01_UTC_1.jpg hm\\2023-11-22_09-12-01_UTC_2.jpg hm\\2023-11-22_09-12-01_UTC_3.jpg hm\\2023-11-22_09-12-01_UTC_4.jpg [Holiday newness. #HM] json \n"
     ]
    },
    {
     "name": "stderr",
     "output_type": "stream",
     "text": [
      "Downloading posts:  27%|████████████████▋                                             | 54/200 [05:48<17:17,  7.10s/it]"
     ]
    },
    {
     "name": "stdout",
     "output_type": "stream",
     "text": [
      "hm\\2023-11-21_16-23-04_UTC_1.jpg hm\\2023-11-21_16-23-04_UTC_2.jpg hm\\2023-11-21_16-23-04_UTC_3.jpg hm\\2023-11-21_16-23-04_UTC_4.jpg hm\\2023-11-21_16-23-04_UTC_5.jpg [Monochrome elegance from the …] json \n"
     ]
    },
    {
     "name": "stderr",
     "output_type": "stream",
     "text": [
      "Downloading posts:  28%|█████████████████                                             | 55/200 [05:56<17:43,  7.34s/it]"
     ]
    },
    {
     "name": "stdout",
     "output_type": "stream",
     "text": [
      "hm\\2023-11-21_13-26-56_UTC_1.jpg hm\\2023-11-21_13-26-56_UTC_2.jpg hm\\2023-11-21_13-26-56_UTC_3.jpg hm\\2023-11-21_13-26-56_UTC_4.jpg [Party looks straight from the…] json \n"
     ]
    },
    {
     "name": "stderr",
     "output_type": "stream",
     "text": [
      "Downloading posts:  28%|█████████████████▎                                            | 56/200 [06:03<17:42,  7.38s/it]"
     ]
    },
    {
     "name": "stdout",
     "output_type": "stream",
     "text": [
      "hm\\2023-11-21_08-32-35_UTC.jpg [The Holiday season calls for …] json \n"
     ]
    },
    {
     "name": "stderr",
     "output_type": "stream",
     "text": [
      "Downloading posts:  28%|█████████████████▋                                            | 57/200 [06:09<16:19,  6.85s/it]"
     ]
    },
    {
     "name": "stdout",
     "output_type": "stream",
     "text": [
      "hm\\2023-11-20_14-06-50_UTC.jpg [Say it with a gift. #HM] hm\\2023-11-20_14-06-50_UTC.mp4 json \n"
     ]
    },
    {
     "name": "stderr",
     "output_type": "stream",
     "text": [
      "Downloading posts:  29%|█████████████████▉                                            | 58/200 [06:15<15:43,  6.65s/it]"
     ]
    },
    {
     "name": "stdout",
     "output_type": "stream",
     "text": [
      "hm\\2023-11-20_09-03-44_UTC.jpg [H&M Holiday. #HM] json \n"
     ]
    },
    {
     "name": "stderr",
     "output_type": "stream",
     "text": [
      "Downloading posts:  30%|██████████████████▎                                           | 59/200 [06:21<14:53,  6.34s/it]"
     ]
    },
    {
     "name": "stdout",
     "output_type": "stream",
     "text": [
      "hm\\2023-11-17_09-27-25_UTC.jpg [Couple goals in the Holiday c…] json \n"
     ]
    },
    {
     "name": "stderr",
     "output_type": "stream",
     "text": [
      "Downloading posts:  30%|██████████████████▌                                           | 60/200 [06:26<14:15,  6.11s/it]"
     ]
    },
    {
     "name": "stdout",
     "output_type": "stream",
     "text": [
      "hm\\2023-11-16_18-49-09_UTC_1.jpg hm\\2023-11-16_18-49-09_UTC_2.jpg hm\\2023-11-16_18-49-09_UTC_2.mp4 [Togetherness 101 with Paloma,…] json \n"
     ]
    },
    {
     "name": "stderr",
     "output_type": "stream",
     "text": [
      "Downloading posts:  30%|██████████████████▉                                           | 61/200 [06:33<14:48,  6.39s/it]"
     ]
    },
    {
     "name": "stdout",
     "output_type": "stream",
     "text": [
      "hm\\2023-11-16_12-05-00_UTC.jpg [Coordinate your holiday seaso…] json \n"
     ]
    },
    {
     "name": "stderr",
     "output_type": "stream",
     "text": [
      "Downloading posts:  31%|███████████████████▏                                          | 62/200 [06:39<14:09,  6.16s/it]"
     ]
    },
    {
     "name": "stdout",
     "output_type": "stream",
     "text": [
      "hm\\2023-11-16_08-47-21_UTC.jpg [Double the fun in the H&M Hol…] json \n"
     ]
    },
    {
     "name": "stderr",
     "output_type": "stream",
     "text": [
      "Downloading posts:  32%|███████████████████▌                                          | 63/200 [06:48<16:03,  7.03s/it]"
     ]
    },
    {
     "name": "stdout",
     "output_type": "stream",
     "text": [
      "hm\\2023-11-15_18-59-17_UTC.jpg [The Holiday collection is out…] json \n"
     ]
    },
    {
     "name": "stderr",
     "output_type": "stream",
     "text": [
      "Downloading posts:  32%|███████████████████▊                                          | 64/200 [06:54<14:58,  6.60s/it]"
     ]
    },
    {
     "name": "stdout",
     "output_type": "stream",
     "text": [
      "hm\\2023-11-15_08-34-09_UTC.jpg [Style runs in the family. Dis…] json \n"
     ]
    },
    {
     "name": "stderr",
     "output_type": "stream",
     "text": [
      "Downloading posts:  32%|████████████████████▏                                         | 65/200 [06:59<14:10,  6.30s/it]"
     ]
    },
    {
     "name": "stdout",
     "output_type": "stream",
     "text": [
      "hm\\2023-11-14_12-17-23_UTC.jpg [H&M Holiday. #HM] json \n"
     ]
    },
    {
     "name": "stderr",
     "output_type": "stream",
     "text": [
      "Downloading posts:  33%|████████████████████▍                                         | 66/200 [07:05<13:39,  6.12s/it]"
     ]
    },
    {
     "name": "stdout",
     "output_type": "stream",
     "text": [
      "hm\\2023-11-14_08-06-12_UTC.jpg [Don't miss the Holiday collec…] json \n"
     ]
    },
    {
     "name": "stderr",
     "output_type": "stream",
     "text": [
      "Downloading posts:  34%|████████████████████▊                                         | 67/200 [07:10<13:13,  5.97s/it]"
     ]
    },
    {
     "name": "stdout",
     "output_type": "stream",
     "text": [
      "hm\\2023-11-13_09-48-44_UTC.jpg [Just arrived: The Holiday col…] hm\\2023-11-13_09-48-44_UTC.mp4 json \n"
     ]
    },
    {
     "name": "stderr",
     "output_type": "stream",
     "text": [
      "Downloading posts:  34%|█████████████████████                                         | 68/200 [07:19<14:36,  6.64s/it]"
     ]
    },
    {
     "name": "stdout",
     "output_type": "stream",
     "text": [
      "hm\\2023-11-09_11-09-13_UTC.jpg [#rabanneHM by @juliendossena …] hm\\2023-11-09_11-09-13_UTC.mp4 json \n"
     ]
    },
    {
     "name": "stderr",
     "output_type": "stream",
     "text": [
      "Downloading posts:  34%|█████████████████████▍                                        | 69/200 [07:26<14:46,  6.77s/it]"
     ]
    },
    {
     "name": "stdout",
     "output_type": "stream",
     "text": [
      "hm\\2023-11-09_10-16-53_UTC.jpg [Out today! #rabanneHM is avai…] json \n"
     ]
    },
    {
     "name": "stderr",
     "output_type": "stream",
     "text": [
      "Downloading posts:  35%|█████████████████████▋                                        | 70/200 [07:31<13:53,  6.41s/it]"
     ]
    },
    {
     "name": "stdout",
     "output_type": "stream",
     "text": [
      "hm\\2023-11-08_12-03-34_UTC.jpg [Playful, luxurious and dazzli…] json \n"
     ]
    },
    {
     "name": "stderr",
     "output_type": "stream",
     "text": [
      "Downloading posts:  36%|██████████████████████                                        | 71/200 [07:37<13:16,  6.17s/it]"
     ]
    },
    {
     "name": "stdout",
     "output_type": "stream",
     "text": [
      "hm\\2023-11-08_08-47-42_UTC.jpg [Dynamic pieces for women, men…] json \n"
     ]
    },
    {
     "name": "stderr",
     "output_type": "stream",
     "text": [
      "Downloading posts:  36%|██████████████████████▎                                       | 72/200 [07:42<12:47,  6.00s/it]"
     ]
    },
    {
     "name": "stdout",
     "output_type": "stream",
     "text": [
      "hm\\2023-11-07_13-20-26_UTC.jpg [#rabanneHM is inspired by dis…] json \n"
     ]
    },
    {
     "name": "stderr",
     "output_type": "stream",
     "text": [
      "Downloading posts:  36%|██████████████████████▋                                       | 73/200 [07:48<12:25,  5.87s/it]"
     ]
    },
    {
     "name": "stdout",
     "output_type": "stream",
     "text": [
      "hm\\2023-11-07_09-02-54_UTC.jpg [Step into the light. #rabanne…] json \n"
     ]
    },
    {
     "name": "stderr",
     "output_type": "stream",
     "text": [
      "Downloading posts:  37%|██████████████████████▉                                       | 74/200 [07:54<12:09,  5.79s/it]"
     ]
    },
    {
     "name": "stdout",
     "output_type": "stream",
     "text": [
      "hm\\2023-11-06_15-12-10_UTC.jpg [A golden fantasy. #rabanneHM …] json \n"
     ]
    },
    {
     "name": "stderr",
     "output_type": "stream",
     "text": [
      "Downloading posts:  38%|███████████████████████▎                                      | 75/200 [07:59<11:57,  5.74s/it]"
     ]
    },
    {
     "name": "stdout",
     "output_type": "stream",
     "text": [
      "hm\\2023-11-06_11-03-20_UTC.jpg [Chain mail chic. #rabanneHM l…] json \n"
     ]
    },
    {
     "name": "stderr",
     "output_type": "stream",
     "text": [
      "Downloading posts:  38%|███████████████████████▌                                      | 76/200 [08:05<11:46,  5.70s/it]"
     ]
    },
    {
     "name": "stdout",
     "output_type": "stream",
     "text": [
      "hm\\2023-11-06_08-19-52_UTC.jpg [Dynamic style informed by rad…] hm\\2023-11-06_08-19-52_UTC.mp4 json \n"
     ]
    },
    {
     "name": "stderr",
     "output_type": "stream",
     "text": [
      "Downloading posts:  38%|███████████████████████▊                                      | 77/200 [08:12<12:22,  6.04s/it]"
     ]
    },
    {
     "name": "stdout",
     "output_type": "stream",
     "text": [
      "hm\\2023-11-04_15-34-28_UTC.jpg [The vending machine stocked w…] hm\\2023-11-04_15-34-28_UTC.mp4 json \n"
     ]
    },
    {
     "name": "stderr",
     "output_type": "stream",
     "text": [
      "Downloading posts:  39%|████████████████████████▏                                     | 78/200 [08:19<12:49,  6.31s/it]"
     ]
    },
    {
     "name": "stdout",
     "output_type": "stream",
     "text": [
      "hm\\2023-11-03_16-02-26_UTC_1.jpg hm\\2023-11-03_16-02-26_UTC_2.jpg hm\\2023-11-03_16-02-26_UTC_3.jpg hm\\2023-11-03_16-02-26_UTC_4.jpg [The slouchy power suit look. …] json \n"
     ]
    },
    {
     "name": "stderr",
     "output_type": "stream",
     "text": [
      "Downloading posts:  40%|████████████████████████▍                                     | 79/200 [08:26<13:22,  6.64s/it]"
     ]
    },
    {
     "name": "stdout",
     "output_type": "stream",
     "text": [
      "hm\\2023-11-03_09-19-57_UTC_1.jpg hm\\2023-11-03_09-19-57_UTC_2.jpg hm\\2023-11-03_09-19-57_UTC_3.jpg hm\\2023-11-03_09-19-57_UTC_4.jpg hm\\2023-11-03_09-19-57_UTC_5.jpg hm\\2023-11-03_09-19-57_UTC_6.jpg [The renaissance of silver. #HM] json \n"
     ]
    },
    {
     "name": "stderr",
     "output_type": "stream",
     "text": [
      "Downloading posts:  40%|████████████████████████▊                                     | 80/200 [08:34<14:20,  7.17s/it]"
     ]
    },
    {
     "name": "stdout",
     "output_type": "stream",
     "text": [
      "hm\\2023-11-02_16-11-36_UTC_1.jpg hm\\2023-11-02_16-11-36_UTC_2.jpg hm\\2023-11-02_16-11-36_UTC_3.jpg [The Studio A/W 2023 as worn b…] json \n"
     ]
    },
    {
     "name": "stderr",
     "output_type": "stream",
     "text": [
      "Downloading posts:  40%|█████████████████████████                                     | 81/200 [08:41<13:57,  7.04s/it]"
     ]
    },
    {
     "name": "stdout",
     "output_type": "stream",
     "text": [
      "hm\\2023-11-02_08-46-44_UTC.jpg [The bigger the better bag. #HM] hm\\2023-11-02_08-46-44_UTC.mp4 json \n"
     ]
    },
    {
     "name": "stderr",
     "output_type": "stream",
     "text": [
      "Downloading posts:  41%|█████████████████████████▍                                    | 82/200 [08:48<13:29,  6.86s/it]"
     ]
    },
    {
     "name": "stdout",
     "output_type": "stream",
     "text": [
      "hm\\2023-11-01_16-18-45_UTC.jpg [The dress up and down look. #hm] json \n"
     ]
    },
    {
     "name": "stderr",
     "output_type": "stream",
     "text": [
      "Downloading posts:  42%|█████████████████████████▋                                    | 83/200 [08:53<12:38,  6.48s/it]"
     ]
    },
    {
     "name": "stdout",
     "output_type": "stream",
     "text": [
      "hm\\2023-11-01_07-42-43_UTC_1.jpg hm\\2023-11-01_07-42-43_UTC_2.jpg hm\\2023-11-01_07-42-43_UTC_3.jpg [The night daytime look. #HM] json \n"
     ]
    },
    {
     "name": "stderr",
     "output_type": "stream",
     "text": [
      "Downloading posts:  42%|██████████████████████████                                    | 84/200 [09:00<12:40,  6.56s/it]"
     ]
    },
    {
     "name": "stdout",
     "output_type": "stream",
     "text": [
      "hm\\2023-10-31_12-05-06_UTC.jpg [The tube socks cowboy look. #HM] json \n"
     ]
    },
    {
     "name": "stderr",
     "output_type": "stream",
     "text": [
      "Downloading posts:  42%|██████████████████████████▎                                   | 85/200 [09:06<12:00,  6.27s/it]"
     ]
    },
    {
     "name": "stdout",
     "output_type": "stream",
     "text": [
      "hm\\2023-10-30_12-03-21_UTC_1.jpg hm\\2023-10-30_12-03-21_UTC_2.jpg hm\\2023-10-30_12-03-21_UTC_3.jpg [The mini dress and knee-highs…] json \n"
     ]
    },
    {
     "name": "stderr",
     "output_type": "stream",
     "text": [
      "Downloading posts:  43%|██████████████████████████▋                                   | 86/200 [09:12<12:08,  6.39s/it]"
     ]
    },
    {
     "name": "stdout",
     "output_type": "stream",
     "text": [
      "hm\\2023-10-27_14-49-11_UTC_1.jpg hm\\2023-10-27_14-49-11_UTC_2.jpg hm\\2023-10-27_14-49-11_UTC_3.jpg hm\\2023-10-27_14-49-11_UTC_4.jpg [Brilliant homeware by @julien…] json \n"
     ]
    },
    {
     "name": "stderr",
     "output_type": "stream",
     "text": [
      "Downloading posts:  44%|██████████████████████████▉                                   | 87/200 [09:20<12:41,  6.74s/it]"
     ]
    },
    {
     "name": "stdout",
     "output_type": "stream",
     "text": [
      "hm\\2023-10-27_11-01-52_UTC_1.jpg hm\\2023-10-27_11-01-52_UTC_2.jpg hm\\2023-10-27_11-01-52_UTC_3.jpg hm\\2023-10-27_11-01-52_UTC_4.jpg hm\\2023-10-27_11-01-52_UTC_5.jpg [“Rabanne is a brand built on …] json \n"
     ]
    },
    {
     "name": "stderr",
     "output_type": "stream",
     "text": [
      "Downloading posts:  44%|███████████████████████████▎                                  | 88/200 [09:28<13:19,  7.14s/it]"
     ]
    },
    {
     "name": "stdout",
     "output_type": "stream",
     "text": [
      "hm\\2023-10-27_08-13-36_UTC_1.jpg hm\\2023-10-27_08-13-36_UTC_2.jpg hm\\2023-10-27_08-13-36_UTC_3.jpg hm\\2023-10-27_08-13-36_UTC_4.jpg hm\\2023-10-27_08-13-36_UTC_5.jpg [Paillette perfection. A signa…] json \n"
     ]
    },
    {
     "name": "stderr",
     "output_type": "stream",
     "text": [
      "Downloading posts:  44%|███████████████████████████▌                                  | 89/200 [09:36<13:46,  7.45s/it]"
     ]
    },
    {
     "name": "stdout",
     "output_type": "stream",
     "text": [
      "hm\\2023-10-26_16-29-37_UTC_1.jpg hm\\2023-10-26_16-29-37_UTC_2.jpg hm\\2023-10-26_16-29-37_UTC_3.jpg hm\\2023-10-26_16-29-37_UTC_4.jpg hm\\2023-10-26_16-29-37_UTC_5.jpg hm\\2023-10-26_16-29-37_UTC_6.jpg hm\\2023-10-26_16-29-37_UTC_7.jpg [“Paco Rabanne was a genius wh…] json \n"
     ]
    },
    {
     "name": "stderr",
     "output_type": "stream",
     "text": [
      "Downloading posts:  45%|███████████████████████████▉                                  | 90/200 [09:45<14:32,  7.93s/it]"
     ]
    },
    {
     "name": "stdout",
     "output_type": "stream",
     "text": [
      "hm\\2023-10-26_10-04-46_UTC_1.jpg hm\\2023-10-26_10-04-46_UTC_2.jpg hm\\2023-10-26_10-04-46_UTC_3.jpg hm\\2023-10-26_10-04-46_UTC_4.jpg hm\\2023-10-26_10-04-46_UTC_5.jpg hm\\2023-10-26_10-04-46_UTC_6.jpg hm\\2023-10-26_10-04-46_UTC_7.jpg [@rabanne’s creative director …] json \n"
     ]
    },
    {
     "name": "stderr",
     "output_type": "stream",
     "text": [
      "Downloading posts:  46%|████████████████████████████▏                                 | 91/200 [09:54<15:06,  8.32s/it]"
     ]
    },
    {
     "name": "stdout",
     "output_type": "stream",
     "text": [
      "hm\\2023-10-26_06-43-37_UTC_1.jpg hm\\2023-10-26_06-43-37_UTC_2.jpg hm\\2023-10-26_06-43-37_UTC_3.jpg hm\\2023-10-26_06-43-37_UTC_4.jpg hm\\2023-10-26_06-43-37_UTC_5.jpg hm\\2023-10-26_06-43-37_UTC_6.jpg hm\\2023-10-26_06-43-37_UTC_7.jpg [“As a designer, I’ve always b…] json \n"
     ]
    },
    {
     "name": "stderr",
     "output_type": "stream",
     "text": [
      "Downloading posts:  46%|████████████████████████████▌                                 | 92/200 [10:03<15:25,  8.57s/it]"
     ]
    },
    {
     "name": "stdout",
     "output_type": "stream",
     "text": [
      "hm\\2023-10-24_14-27-02_UTC.jpg [Bring @rabanne home. The #rab…] hm\\2023-10-24_14-27-02_UTC.mp4 json \n"
     ]
    },
    {
     "name": "stderr",
     "output_type": "stream",
     "text": [
      "Downloading posts:  46%|████████████████████████████▊                                 | 93/200 [10:10<14:19,  8.03s/it]"
     ]
    },
    {
     "name": "stdout",
     "output_type": "stream",
     "text": [
      "hm\\2023-10-24_11-05-11_UTC.jpg [“For this collaboration, I wa…] hm\\2023-10-24_11-05-11_UTC.mp4 json \n"
     ]
    },
    {
     "name": "stderr",
     "output_type": "stream",
     "text": [
      "Downloading posts:  47%|█████████████████████████████▏                                | 94/200 [10:17<13:24,  7.59s/it]"
     ]
    },
    {
     "name": "stdout",
     "output_type": "stream",
     "text": [
      "hm\\2023-10-24_07-52-41_UTC.jpg [We’re unveiling a radiant new…] hm\\2023-10-24_07-52-41_UTC.mp4 json \n"
     ]
    },
    {
     "name": "stderr",
     "output_type": "stream",
     "text": [
      "Downloading posts:  48%|█████████████████████████████▍                                | 95/200 [10:26<14:21,  8.21s/it]"
     ]
    },
    {
     "name": "stdout",
     "output_type": "stream",
     "text": [
      "hm\\2023-10-23_14-01-02_UTC_1.jpg hm\\2023-10-23_14-01-02_UTC_2.jpg hm\\2023-10-23_14-01-02_UTC_3.jpg [A/W 2023 drop 3 is now live. …] json \n"
     ]
    },
    {
     "name": "stderr",
     "output_type": "stream",
     "text": [
      "Downloading posts:  48%|█████████████████████████████▊                                | 96/200 [10:33<13:30,  7.79s/it]"
     ]
    },
    {
     "name": "stdout",
     "output_type": "stream",
     "text": [
      "hm\\2023-10-23_11-00-13_UTC_1.jpg hm\\2023-10-23_11-00-13_UTC_2.jpg hm\\2023-10-23_11-00-13_UTC_3.jpg [New in. Drop 3 from A/W 2023.…] json \n"
     ]
    },
    {
     "name": "stderr",
     "output_type": "stream",
     "text": [
      "Downloading posts:  48%|██████████████████████████████                                | 97/200 [10:40<12:54,  7.52s/it]"
     ]
    },
    {
     "name": "stdout",
     "output_type": "stream",
     "text": [
      "hm\\2023-10-23_07-41-20_UTC_1.jpg hm\\2023-10-23_07-41-20_UTC_2.jpg hm\\2023-10-23_07-41-20_UTC_3.jpg [A/W 2023: Drop 3. #HM] json \n"
     ]
    },
    {
     "name": "stderr",
     "output_type": "stream",
     "text": [
      "Downloading posts:  49%|██████████████████████████████▍                               | 98/200 [10:47<12:25,  7.31s/it]"
     ]
    },
    {
     "name": "stdout",
     "output_type": "stream",
     "text": [
      "hm\\2023-10-22_11-15-15_UTC.jpg [Bold red lips. Timeless lash …] hm\\2023-10-22_11-15-15_UTC.mp4 json \n"
     ]
    },
    {
     "name": "stderr",
     "output_type": "stream",
     "text": [
      "Downloading posts:  50%|██████████████████████████████▋                               | 99/200 [10:54<12:08,  7.21s/it]"
     ]
    },
    {
     "name": "stdout",
     "output_type": "stream",
     "text": [
      "hm\\2023-10-20_10-40-43_UTC.jpg [Just calling to let you know …] hm\\2023-10-20_10-40-43_UTC.mp4 json \n"
     ]
    },
    {
     "name": "stderr",
     "output_type": "stream",
     "text": [
      "Downloading posts:  50%|██████████████████████████████▌                              | 100/200 [11:01<11:45,  7.05s/it]"
     ]
    },
    {
     "name": "stdout",
     "output_type": "stream",
     "text": [
      "hm\\2023-10-19_12-01-11_UTC.jpg [Let makeup do the talking. Ou…] hm\\2023-10-19_12-01-11_UTC.mp4 json \n"
     ]
    },
    {
     "name": "stderr",
     "output_type": "stream",
     "text": [
      "Downloading posts:  50%|██████████████████████████████▊                              | 101/200 [11:08<11:32,  7.00s/it]"
     ]
    },
    {
     "name": "stdout",
     "output_type": "stream",
     "text": [
      "hm\\2023-10-18_16-43-59_UTC_1.jpg hm\\2023-10-18_16-43-59_UTC_2.jpg hm\\2023-10-18_16-43-59_UTC_3.jpg [Fluffy, embellished or silky …] json \n"
     ]
    },
    {
     "name": "stderr",
     "output_type": "stream",
     "text": [
      "Downloading posts:  51%|███████████████████████████████                              | 102/200 [11:14<11:20,  6.94s/it]"
     ]
    },
    {
     "name": "stdout",
     "output_type": "stream",
     "text": [
      "hm\\2023-10-18_12-03-51_UTC_1.jpg hm\\2023-10-18_12-03-51_UTC_2.jpg hm\\2023-10-18_12-03-51_UTC_3.jpg [Two ways with classic monochr…] json \n"
     ]
    },
    {
     "name": "stderr",
     "output_type": "stream",
     "text": [
      "Downloading posts:  52%|███████████████████████████████▍                             | 103/200 [11:21<11:07,  6.88s/it]"
     ]
    },
    {
     "name": "stdout",
     "output_type": "stream",
     "text": [
      "hm\\2023-10-18_08-03-53_UTC_1.jpg hm\\2023-10-18_08-03-53_UTC_2.jpg hm\\2023-10-18_08-03-53_UTC_3.jpg [Knit co-ords in creamy shades…] json \n"
     ]
    },
    {
     "name": "stderr",
     "output_type": "stream",
     "text": [
      "Downloading posts:  52%|███████████████████████████████▋                             | 104/200 [11:28<10:58,  6.86s/it]"
     ]
    },
    {
     "name": "stdout",
     "output_type": "stream",
     "text": [
      "hm\\2023-10-17_08-23-40_UTC_1.jpg hm\\2023-10-17_08-23-40_UTC_2.jpg [The finishing touches for you…] json \n"
     ]
    },
    {
     "name": "stderr",
     "output_type": "stream",
     "text": [
      "Downloading posts:  52%|████████████████████████████████                             | 105/200 [11:34<10:31,  6.65s/it]"
     ]
    },
    {
     "name": "stdout",
     "output_type": "stream",
     "text": [
      "hm\\2023-10-16_16-20-51_UTC_1.jpg hm\\2023-10-16_16-20-51_UTC_2.jpg hm\\2023-10-16_16-20-51_UTC_3.jpg [Floral lace and a touch of sp…] json \n"
     ]
    },
    {
     "name": "stderr",
     "output_type": "stream",
     "text": [
      "Downloading posts:  53%|████████████████████████████████▎                            | 106/200 [11:41<10:27,  6.68s/it]"
     ]
    },
    {
     "name": "stdout",
     "output_type": "stream",
     "text": [
      "hm\\2023-10-16_11-07-47_UTC_1.jpg hm\\2023-10-16_11-07-47_UTC_2.jpg hm\\2023-10-16_11-07-47_UTC_3.jpg [Textured layers. #HM] json \n"
     ]
    },
    {
     "name": "stderr",
     "output_type": "stream",
     "text": [
      "Downloading posts:  54%|████████████████████████████████▋                            | 107/200 [11:48<10:26,  6.74s/it]"
     ]
    },
    {
     "name": "stdout",
     "output_type": "stream",
     "text": [
      "hm\\2023-10-13_14-56-31_UTC.jpg [A little red dress made for l…] json \n"
     ]
    },
    {
     "name": "stderr",
     "output_type": "stream",
     "text": [
      "Downloading posts:  54%|████████████████████████████████▉                            | 108/200 [11:53<09:48,  6.40s/it]"
     ]
    },
    {
     "name": "stdout",
     "output_type": "stream",
     "text": [
      "hm\\2023-10-13_08-04-59_UTC_1.jpg hm\\2023-10-13_08-04-59_UTC_2.jpg hm\\2023-10-13_08-04-59_UTC_3.jpg hm\\2023-10-13_08-04-59_UTC_4.jpg [Tailored, textured and totall…] json \n"
     ]
    },
    {
     "name": "stderr",
     "output_type": "stream",
     "text": [
      "Downloading posts:  55%|█████████████████████████████████▏                           | 109/200 [12:01<10:10,  6.71s/it]"
     ]
    },
    {
     "name": "stdout",
     "output_type": "stream",
     "text": [
      "hm\\2023-10-12_14-48-49_UTC.jpg [Little handbag, lots of style…] json \n"
     ]
    },
    {
     "name": "stderr",
     "output_type": "stream",
     "text": [
      "Downloading posts:  55%|█████████████████████████████████▌                           | 110/200 [12:06<09:34,  6.39s/it]"
     ]
    },
    {
     "name": "stdout",
     "output_type": "stream",
     "text": [
      "hm\\2023-10-12_11-02-39_UTC_1.jpg hm\\2023-10-12_11-02-39_UTC_2.jpg hm\\2023-10-12_11-02-39_UTC_3.jpg [Sleek and chic in black. #HM] json \n"
     ]
    },
    {
     "name": "stderr",
     "output_type": "stream",
     "text": [
      "Downloading posts:  56%|█████████████████████████████████▊                           | 111/200 [12:13<09:35,  6.47s/it]"
     ]
    },
    {
     "name": "stdout",
     "output_type": "stream",
     "text": [
      "hm\\2023-10-11_13-30-46_UTC.jpg [The new stiletto. #HM] json \n"
     ]
    },
    {
     "name": "stderr",
     "output_type": "stream",
     "text": [
      "Downloading posts:  56%|██████████████████████████████████▏                          | 112/200 [12:19<09:05,  6.20s/it]"
     ]
    },
    {
     "name": "stdout",
     "output_type": "stream",
     "text": [
      "hm\\2023-10-11_11-29-04_UTC.jpg [Comfort, meet elegance. #HM] json \n"
     ]
    },
    {
     "name": "stderr",
     "output_type": "stream",
     "text": [
      "Downloading posts:  56%|██████████████████████████████████▍                          | 113/200 [12:27<10:02,  6.92s/it]"
     ]
    },
    {
     "name": "stdout",
     "output_type": "stream",
     "text": [
      "hm\\2023-10-10_13-34-08_UTC.jpg [The latest drop from H&M Move…] json \n"
     ]
    },
    {
     "name": "stderr",
     "output_type": "stream",
     "text": [
      "Downloading posts:  57%|██████████████████████████████████▊                          | 114/200 [12:33<09:20,  6.52s/it]"
     ]
    },
    {
     "name": "stdout",
     "output_type": "stream",
     "text": [
      "hm\\2023-10-10_08-46-24_UTC_1.jpg hm\\2023-10-10_08-46-24_UTC_2.jpg hm\\2023-10-10_08-46-24_UTC_3.jpg [The gear you need for your ne…] json \n"
     ]
    },
    {
     "name": "stderr",
     "output_type": "stream",
     "text": [
      "Downloading posts:  57%|███████████████████████████████████                          | 115/200 [12:40<09:22,  6.61s/it]"
     ]
    },
    {
     "name": "stdout",
     "output_type": "stream",
     "text": [
      "hm\\2023-10-09_14-07-59_UTC.jpg [Blaze new trails in the Trail…] hm\\2023-10-09_14-07-59_UTC.mp4 json \n"
     ]
    },
    {
     "name": "stderr",
     "output_type": "stream",
     "text": [
      "Downloading posts:  58%|███████████████████████████████████▍                         | 116/200 [12:46<09:17,  6.64s/it]"
     ]
    },
    {
     "name": "stdout",
     "output_type": "stream",
     "text": [
      "hm\\2023-10-06_08-04-49_UTC_1.jpg hm\\2023-10-06_08-04-49_UTC_2.jpg hm\\2023-10-06_08-04-49_UTC_3.jpg [A/W 2023 #HM] json \n"
     ]
    },
    {
     "name": "stderr",
     "output_type": "stream",
     "text": [
      "Downloading posts:  58%|███████████████████████████████████▋                         | 117/200 [12:53<09:14,  6.68s/it]"
     ]
    },
    {
     "name": "stdout",
     "output_type": "stream",
     "text": [
      "hm\\2023-10-05_11-03-27_UTC_1.jpg hm\\2023-10-05_11-03-27_UTC_2.jpg hm\\2023-10-05_11-03-27_UTC_3.jpg [A/W 2023 drop 2 is here. #HM] json \n"
     ]
    },
    {
     "name": "stderr",
     "output_type": "stream",
     "text": [
      "Downloading posts:  59%|███████████████████████████████████▉                         | 118/200 [13:00<09:10,  6.71s/it]"
     ]
    },
    {
     "name": "stdout",
     "output_type": "stream",
     "text": [
      "hm\\2023-10-05_08-20-57_UTC_1.jpg hm\\2023-10-05_08-20-57_UTC_2.jpg hm\\2023-10-05_08-20-57_UTC_3.jpg [Just landed: A/W 2023 drop 2.…] json \n"
     ]
    },
    {
     "name": "stderr",
     "output_type": "stream",
     "text": [
      "Downloading posts:  60%|████████████████████████████████████▎                        | 119/200 [13:07<09:03,  6.71s/it]"
     ]
    },
    {
     "name": "stdout",
     "output_type": "stream",
     "text": [
      "hm\\2023-10-04_08-44-44_UTC_1.jpg hm\\2023-10-04_08-44-44_UTC_1.mp4 hm\\2023-10-04_08-44-44_UTC_2.jpg hm\\2023-10-04_08-44-44_UTC_2.mp4 hm\\2023-10-04_08-44-44_UTC_3.jpg [Inside #rabanneHM surprise pa…] json \n"
     ]
    },
    {
     "name": "stderr",
     "output_type": "stream",
     "text": [
      "Downloading posts:  60%|████████████████████████████████████▌                        | 120/200 [13:15<09:43,  7.29s/it]"
     ]
    },
    {
     "name": "stdout",
     "output_type": "stream",
     "text": [
      "hm\\2023-10-03_20-29-06_UTC.jpg [Made to move: #RabanneHM’s fi…] hm\\2023-10-03_20-29-06_UTC.mp4 json \n"
     ]
    },
    {
     "name": "stderr",
     "output_type": "stream",
     "text": [
      "Downloading posts:  60%|████████████████████████████████████▉                        | 121/200 [13:23<09:47,  7.44s/it]"
     ]
    },
    {
     "name": "stdout",
     "output_type": "stream",
     "text": [
      "hm\\2023-10-03_16-48-13_UTC_1.jpg hm\\2023-10-03_16-48-13_UTC_2.jpg hm\\2023-10-03_16-48-13_UTC_3.jpg hm\\2023-10-03_16-48-13_UTC_4.jpg hm\\2023-10-03_16-48-13_UTC_5.jpg hm\\2023-10-03_16-48-13_UTC_6.jpg [Our next designer collaborati…] json \n"
     ]
    },
    {
     "name": "stderr",
     "output_type": "stream",
     "text": [
      "Downloading posts:  61%|█████████████████████████████████████▏                       | 122/200 [13:32<10:11,  7.85s/it]"
     ]
    },
    {
     "name": "stdout",
     "output_type": "stream",
     "text": [
      "hm\\2023-10-03_12-55-11_UTC.jpg [Friends arriving at @silencio…] hm\\2023-10-03_12-55-11_UTC.mp4 json \n"
     ]
    },
    {
     "name": "stderr",
     "output_type": "stream",
     "text": [
      "Downloading posts:  62%|█████████████████████████████████████▌                       | 123/200 [13:40<10:12,  7.95s/it]"
     ]
    },
    {
     "name": "stdout",
     "output_type": "stream",
     "text": [
      "hm\\2023-10-03_03-24-15_UTC_1.jpg hm\\2023-10-03_03-24-15_UTC_2.jpg hm\\2023-10-03_03-24-15_UTC_3.jpg hm\\2023-10-03_03-24-15_UTC_4.jpg hm\\2023-10-03_03-24-15_UTC_5.jpg hm\\2023-10-03_03-24-15_UTC_6.jpg hm\\2023-10-03_03-24-15_UTC_7.jpg hm\\2023-10-03_03-24-15_UTC_8.jpg [At @silencioclub celebrating …] json \n"
     ]
    },
    {
     "name": "stderr",
     "output_type": "stream",
     "text": [
      "Downloading posts:  62%|█████████████████████████████████████▊                       | 124/200 [13:50<10:49,  8.55s/it]"
     ]
    },
    {
     "name": "stdout",
     "output_type": "stream",
     "text": [
      "hm\\2023-10-03_00-42-10_UTC.jpg [Believe it: Rabanne H&M is co…] hm\\2023-10-03_00-42-10_UTC.mp4 json \n"
     ]
    },
    {
     "name": "stderr",
     "output_type": "stream",
     "text": [
      "Downloading posts:  62%|██████████████████████████████████████▏                      | 125/200 [13:57<10:03,  8.04s/it]"
     ]
    },
    {
     "name": "stdout",
     "output_type": "stream",
     "text": [
      "hm\\2023-09-29_16-20-03_UTC_1.jpg hm\\2023-09-29_16-20-03_UTC_2.jpg hm\\2023-09-29_16-20-03_UTC_3.jpg [H&M Studio A/W 2023 is out no…] json \n"
     ]
    },
    {
     "name": "stderr",
     "output_type": "stream",
     "text": [
      "Downloading posts:  63%|██████████████████████████████████████▍                      | 126/200 [14:03<09:25,  7.65s/it]"
     ]
    },
    {
     "name": "stdout",
     "output_type": "stream",
     "text": [
      "hm\\2023-09-29_08-05-35_UTC_1.jpg hm\\2023-09-29_08-05-35_UTC_2.jpg hm\\2023-09-29_08-05-35_UTC_3.jpg hm\\2023-09-29_08-05-35_UTC_4.jpg hm\\2023-09-29_08-05-35_UTC_5.jpg [H&M Studio A/W 2023 has arriv…] json \n"
     ]
    },
    {
     "name": "stderr",
     "output_type": "stream",
     "text": [
      "Downloading posts:  64%|██████████████████████████████████████▋                      | 127/200 [14:11<09:23,  7.72s/it]"
     ]
    },
    {
     "name": "stdout",
     "output_type": "stream",
     "text": [
      "hm\\2023-09-28_16-04-43_UTC_1.jpg hm\\2023-09-28_16-04-43_UTC_2.jpg hm\\2023-09-28_16-04-43_UTC_3.jpg [H&M Studio A/W 2023 is out no…] json \n"
     ]
    },
    {
     "name": "stderr",
     "output_type": "stream",
     "text": [
      "Downloading posts:  64%|███████████████████████████████████████                      | 128/200 [14:18<08:53,  7.41s/it]"
     ]
    },
    {
     "name": "stdout",
     "output_type": "stream",
     "text": [
      "hm\\2023-09-28_11-10-28_UTC.jpg [Screamworthy style: Studio A/…] hm\\2023-09-28_11-10-28_UTC.mp4 json \n"
     ]
    },
    {
     "name": "stderr",
     "output_type": "stream",
     "text": [
      "Downloading posts:  64%|███████████████████████████████████████▎                     | 129/200 [14:26<08:59,  7.60s/it]"
     ]
    },
    {
     "name": "stdout",
     "output_type": "stream",
     "text": [
      "hm\\2023-09-27_16-00-23_UTC_1.jpg hm\\2023-09-27_16-00-23_UTC_2.jpg hm\\2023-09-27_16-00-23_UTC_3.jpg hm\\2023-09-27_16-00-23_UTC_4.jpg [H&M Studio A/W 2023 is out to…] json \n"
     ]
    },
    {
     "name": "stderr",
     "output_type": "stream",
     "text": [
      "Downloading posts:  65%|███████████████████████████████████████▋                     | 130/200 [14:34<09:04,  7.77s/it]"
     ]
    },
    {
     "name": "stdout",
     "output_type": "stream",
     "text": [
      "hm\\2023-09-27_11-57-23_UTC.jpg [H&M Studio A/W 2023 is out to…] hm\\2023-09-27_11-57-23_UTC.mp4 json \n"
     ]
    },
    {
     "name": "stderr",
     "output_type": "stream",
     "text": [
      "Downloading posts:  66%|███████████████████████████████████████▉                     | 131/200 [14:42<08:56,  7.77s/it]"
     ]
    },
    {
     "name": "stdout",
     "output_type": "stream",
     "text": [
      "hm\\2023-09-27_08-55-07_UTC_1.jpg hm\\2023-09-27_08-55-07_UTC_2.jpg hm\\2023-09-27_08-55-07_UTC_3.jpg hm\\2023-09-27_08-55-07_UTC_4.jpg [10 years of H&M Studio. Dive …] json \n"
     ]
    },
    {
     "name": "stderr",
     "output_type": "stream",
     "text": [
      "Downloading posts:  66%|████████████████████████████████████████▎                    | 132/200 [14:51<09:13,  8.13s/it]"
     ]
    },
    {
     "name": "stdout",
     "output_type": "stream",
     "text": [
      "hm\\2023-09-26_15-00-33_UTC.jpg [Last night at our H&M Studio …] hm\\2023-09-26_15-00-33_UTC.mp4 json \n"
     ]
    },
    {
     "name": "stderr",
     "output_type": "stream",
     "text": [
      "Downloading posts:  66%|████████████████████████████████████████▌                    | 133/200 [14:58<08:44,  7.82s/it]"
     ]
    },
    {
     "name": "stdout",
     "output_type": "stream",
     "text": [
      "hm\\2023-09-25_16-26-54_UTC_1.jpg hm\\2023-09-25_16-26-54_UTC_2.jpg hm\\2023-09-25_16-26-54_UTC_3.jpg hm\\2023-09-25_16-26-54_UTC_4.jpg hm\\2023-09-25_16-26-54_UTC_5.jpg hm\\2023-09-25_16-26-54_UTC_6.jpg [Welcome to the world of H&M S…] json \n"
     ]
    },
    {
     "name": "stderr",
     "output_type": "stream",
     "text": [
      "Downloading posts:  67%|████████████████████████████████████████▊                    | 134/200 [15:07<08:56,  8.13s/it]"
     ]
    },
    {
     "name": "stdout",
     "output_type": "stream",
     "text": [
      "hm\\2023-09-24_18-34-48_UTC_1.jpg hm\\2023-09-24_18-34-48_UTC_2.jpg hm\\2023-09-24_18-34-48_UTC_3.jpg [A handbag to hold close. #HM] json \n"
     ]
    },
    {
     "name": "stderr",
     "output_type": "stream",
     "text": [
      "Downloading posts:  68%|█████████████████████████████████████████▏                   | 135/200 [15:14<08:21,  7.72s/it]"
     ]
    },
    {
     "name": "stdout",
     "output_type": "stream",
     "text": [
      "hm\\2023-09-23_11-00-24_UTC_1.jpg hm\\2023-09-23_11-00-24_UTC_2.jpg hm\\2023-09-23_11-00-24_UTC_3.jpg hm\\2023-09-23_11-00-24_UTC_4.jpg hm\\2023-09-23_11-00-24_UTC_5.jpg [Double denim gets an on-trend…] json \n"
     ]
    },
    {
     "name": "stderr",
     "output_type": "stream",
     "text": [
      "Downloading posts:  68%|█████████████████████████████████████████▍                   | 136/200 [15:22<08:25,  7.90s/it]"
     ]
    },
    {
     "name": "stdout",
     "output_type": "stream",
     "text": [
      "hm\\2023-09-22_08-23-11_UTC.jpg [Soft as a cloud and smooth li…] json \n"
     ]
    },
    {
     "name": "stderr",
     "output_type": "stream",
     "text": [
      "Downloading posts:  68%|█████████████████████████████████████████▊                   | 137/200 [15:28<07:35,  7.23s/it]"
     ]
    },
    {
     "name": "stdout",
     "output_type": "stream",
     "text": [
      "hm\\2023-09-21_16-03-28_UTC.jpg [H&M Studio A/W 2023 is out 28…] hm\\2023-09-21_16-03-28_UTC.mp4 json \n"
     ]
    },
    {
     "name": "stderr",
     "output_type": "stream",
     "text": [
      "Downloading posts:  69%|██████████████████████████████████████████                   | 138/200 [15:35<07:34,  7.33s/it]"
     ]
    },
    {
     "name": "stdout",
     "output_type": "stream",
     "text": [
      "hm\\2023-09-21_09-22-51_UTC.jpg [Delightfully dark. H&M Studio…] hm\\2023-09-21_09-22-51_UTC.mp4 json \n"
     ]
    },
    {
     "name": "stderr",
     "output_type": "stream",
     "text": [
      "Downloading posts:  70%|██████████████████████████████████████████▍                  | 139/200 [15:42<07:20,  7.21s/it]"
     ]
    },
    {
     "name": "stdout",
     "output_type": "stream",
     "text": [
      "hm\\2023-09-20_18-21-33_UTC.jpg [Designed to thrill. Studio A/…] hm\\2023-09-20_18-21-33_UTC.mp4 json \n"
     ]
    },
    {
     "name": "stderr",
     "output_type": "stream",
     "text": [
      "Downloading posts:  70%|██████████████████████████████████████████▋                  | 140/200 [15:49<07:09,  7.17s/it]"
     ]
    },
    {
     "name": "stdout",
     "output_type": "stream",
     "text": [
      "hm\\2023-09-20_10-25-21_UTC.jpg [10 years of H&M Studio, showc…] json \n"
     ]
    },
    {
     "name": "stderr",
     "output_type": "stream",
     "text": [
      "Downloading posts:  70%|███████████████████████████████████████████                  | 141/200 [15:55<06:35,  6.70s/it]"
     ]
    },
    {
     "name": "stdout",
     "output_type": "stream",
     "text": [
      "hm\\2023-09-19_17-21-55_UTC.jpg [10 years of H&M Studio, showc…] json \n"
     ]
    },
    {
     "name": "stderr",
     "output_type": "stream",
     "text": [
      "Downloading posts:  71%|███████████████████████████████████████████▎                 | 142/200 [16:01<06:09,  6.37s/it]"
     ]
    },
    {
     "name": "stdout",
     "output_type": "stream",
     "text": [
      "hm\\2023-09-18_07-46-58_UTC.jpg [10 years of H&M Studio, showc…] json \n"
     ]
    },
    {
     "name": "stderr",
     "output_type": "stream",
     "text": [
      "Downloading posts:  72%|███████████████████████████████████████████▌                 | 143/200 [16:06<05:51,  6.16s/it]"
     ]
    },
    {
     "name": "stdout",
     "output_type": "stream",
     "text": [
      "hm\\2023-09-17_14-43-29_UTC_1.jpg hm\\2023-09-17_14-43-29_UTC_2.jpg [@anokyai in A/W 2023 #HM] json \n"
     ]
    },
    {
     "name": "stderr",
     "output_type": "stream",
     "text": [
      "Downloading posts:  72%|███████████████████████████████████████████▉                 | 144/200 [16:12<05:44,  6.15s/it]"
     ]
    },
    {
     "name": "stdout",
     "output_type": "stream",
     "text": [
      "hm\\2023-09-17_11-56-52_UTC.jpg [A/W 2023 #HM  Model @abenynhi…] json \n"
     ]
    },
    {
     "name": "stderr",
     "output_type": "stream",
     "text": [
      "Downloading posts:  72%|████████████████████████████████████████████▏                | 145/200 [16:18<05:30,  6.01s/it]"
     ]
    },
    {
     "name": "stdout",
     "output_type": "stream",
     "text": [
      "hm\\2023-09-17_07-20-18_UTC.jpg [@mona_tougaard and @anokyai i…] json \n"
     ]
    },
    {
     "name": "stderr",
     "output_type": "stream",
     "text": [
      "Downloading posts:  73%|████████████████████████████████████████████▌                | 146/200 [16:24<05:20,  5.93s/it]"
     ]
    },
    {
     "name": "stdout",
     "output_type": "stream",
     "text": [
      "hm\\2023-09-15_14-26-06_UTC.jpg [A/W 2023 #HM  Director @alber…] hm\\2023-09-15_14-26-06_UTC.mp4 json \n"
     ]
    },
    {
     "name": "stderr",
     "output_type": "stream",
     "text": [
      "Downloading posts:  74%|████████████████████████████████████████████▊                | 147/200 [16:31<05:33,  6.30s/it]"
     ]
    },
    {
     "name": "stdout",
     "output_type": "stream",
     "text": [
      "hm\\2023-09-15_11-50-28_UTC.jpg [A/W 2023 #HM  Director @alber…] hm\\2023-09-15_11-50-28_UTC.mp4 json \n"
     ]
    },
    {
     "name": "stderr",
     "output_type": "stream",
     "text": [
      "Downloading posts:  74%|█████████████████████████████████████████████▏               | 148/200 [16:38<05:38,  6.51s/it]"
     ]
    },
    {
     "name": "stdout",
     "output_type": "stream",
     "text": [
      "hm\\2023-09-15_07-04-05_UTC.jpg [A/W 2023 #HM  Director @alber…] hm\\2023-09-15_07-04-05_UTC.mp4 json \n"
     ]
    },
    {
     "name": "stderr",
     "output_type": "stream",
     "text": [
      "Downloading posts:  74%|█████████████████████████████████████████████▍               | 149/200 [16:45<05:48,  6.83s/it]"
     ]
    },
    {
     "name": "stdout",
     "output_type": "stream",
     "text": [
      "hm\\2023-09-14_14-13-06_UTC_1.jpg hm\\2023-09-14_14-13-06_UTC_2.jpg [A/W 2023 #HM  Models @sola553…] json \n"
     ]
    },
    {
     "name": "stderr",
     "output_type": "stream",
     "text": [
      "Downloading posts:  75%|█████████████████████████████████████████████▊               | 150/200 [16:52<05:33,  6.68s/it]"
     ]
    },
    {
     "name": "stdout",
     "output_type": "stream",
     "text": [
      "hm\\2023-09-14_11-09-39_UTC_1.jpg hm\\2023-09-14_11-09-39_UTC_2.jpg [Just dropped. A/W 2023 #HM  M…] json \n"
     ]
    },
    {
     "name": "stderr",
     "output_type": "stream",
     "text": [
      "Downloading posts:  76%|██████████████████████████████████████████████               | 151/200 [16:58<05:19,  6.52s/it]"
     ]
    },
    {
     "name": "stdout",
     "output_type": "stream",
     "text": [
      "hm\\2023-09-14_07-11-55_UTC_1.jpg hm\\2023-09-14_07-11-55_UTC_2.jpg hm\\2023-09-14_07-11-55_UTC_3.jpg [It’s here: A/W 2023 #HM  Mode…] json \n"
     ]
    },
    {
     "name": "stderr",
     "output_type": "stream",
     "text": [
      "Downloading posts:  76%|██████████████████████████████████████████████▎              | 152/200 [17:05<05:16,  6.60s/it]"
     ]
    },
    {
     "name": "stdout",
     "output_type": "stream",
     "text": [
      "hm\\2023-09-10_11-06-35_UTC.jpg [Cozy as a Sunday. #HM  Oversi…] json \n"
     ]
    },
    {
     "name": "stderr",
     "output_type": "stream",
     "text": [
      "Downloading posts:  76%|██████████████████████████████████████████████▋              | 153/200 [17:10<04:56,  6.30s/it]"
     ]
    },
    {
     "name": "stdout",
     "output_type": "stream",
     "text": [
      "hm\\2023-09-09_11-00-56_UTC.jpg [Quiet. Luxury. #HM  Slit-hem …] json \n"
     ]
    },
    {
     "name": "stderr",
     "output_type": "stream",
     "text": [
      "Downloading posts:  77%|██████████████████████████████████████████████▉              | 154/200 [17:16<04:40,  6.09s/it]"
     ]
    },
    {
     "name": "stdout",
     "output_type": "stream",
     "text": [
      "hm\\2023-09-08_11-57-14_UTC_1.jpg hm\\2023-09-08_11-57-14_UTC_2.jpg hm\\2023-09-08_11-57-14_UTC_3.jpg hm\\2023-09-08_11-57-14_UTC_4.jpg hm\\2023-09-08_11-57-14_UTC_5.jpg hm\\2023-09-08_11-57-14_UTC_6.jpg hm\\2023-09-08_11-57-14_UTC_7.jpg [Get weekend-ready with pre-fa…] json \n"
     ]
    },
    {
     "name": "stderr",
     "output_type": "stream",
     "text": [
      "Downloading posts:  78%|███████████████████████████████████████████████▎             | 155/200 [17:25<05:15,  7.02s/it]"
     ]
    },
    {
     "name": "stdout",
     "output_type": "stream",
     "text": [
      "hm\\2023-09-07_14-55-04_UTC_1.jpg hm\\2023-09-07_14-55-04_UTC_2.jpg hm\\2023-09-07_14-55-04_UTC_3.jpg [Looking good. Feeling amazing…] json \n"
     ]
    },
    {
     "name": "stderr",
     "output_type": "stream",
     "text": [
      "Downloading posts:  78%|███████████████████████████████████████████████▌             | 156/200 [17:32<05:06,  6.96s/it]"
     ]
    },
    {
     "name": "stdout",
     "output_type": "stream",
     "text": [
      "hm\\2023-09-07_13-30-26_UTC.jpg [Join the party with Good Amer…] json \n"
     ]
    },
    {
     "name": "stderr",
     "output_type": "stream",
     "text": [
      "Downloading posts:  78%|███████████████████████████████████████████████▉             | 157/200 [17:38<04:42,  6.56s/it]"
     ]
    },
    {
     "name": "stdout",
     "output_type": "stream",
     "text": [
      "hm\\2023-09-07_10-24-34_UTC.jpg [It’s here: Good American at H…] hm\\2023-09-07_10-24-34_UTC.mp4 json \n"
     ]
    },
    {
     "name": "stderr",
     "output_type": "stream",
     "text": [
      "Downloading posts:  79%|████████████████████████████████████████████████▏            | 158/200 [17:45<04:41,  6.70s/it]"
     ]
    },
    {
     "name": "stdout",
     "output_type": "stream",
     "text": [
      "hm\\2023-09-06_12-19-12_UTC_1.jpg hm\\2023-09-06_12-19-12_UTC_2.jpg [It's giving street-style turn…] json \n"
     ]
    },
    {
     "name": "stderr",
     "output_type": "stream",
     "text": [
      "Downloading posts:  80%|████████████████████████████████████████████████▍            | 159/200 [17:51<04:27,  6.54s/it]"
     ]
    },
    {
     "name": "stdout",
     "output_type": "stream",
     "text": [
      "hm\\2023-09-06_08-33-27_UTC_1.jpg hm\\2023-09-06_08-33-27_UTC_2.jpg [When you feel like playing wi…] json \n"
     ]
    },
    {
     "name": "stderr",
     "output_type": "stream",
     "text": [
      "Downloading posts:  80%|████████████████████████████████████████████████▊            | 160/200 [17:57<04:19,  6.48s/it]"
     ]
    },
    {
     "name": "stdout",
     "output_type": "stream",
     "text": [
      "hm\\2023-09-05_14-13-09_UTC_1.jpg hm\\2023-09-05_14-13-09_UTC_2.jpg [Luscious lace leggings🖤#HM   …] json \n"
     ]
    },
    {
     "name": "stderr",
     "output_type": "stream",
     "text": [
      "Downloading posts:  80%|█████████████████████████████████████████████████            | 161/200 [18:03<04:09,  6.39s/it]"
     ]
    },
    {
     "name": "stdout",
     "output_type": "stream",
     "text": [
      "hm\\2023-08-31_15-44-51_UTC.jpg [Denim to wear forever. #HM  S…] json \n"
     ]
    },
    {
     "name": "stderr",
     "output_type": "stream",
     "text": [
      "Downloading posts:  81%|█████████████████████████████████████████████████▍           | 162/200 [18:09<03:54,  6.18s/it]"
     ]
    },
    {
     "name": "stdout",
     "output_type": "stream",
     "text": [
      "hm\\2023-08-31_11-24-47_UTC.jpg [Denim to wear forever. #HM  S…] json \n"
     ]
    },
    {
     "name": "stderr",
     "output_type": "stream",
     "text": [
      "Downloading posts:  82%|█████████████████████████████████████████████████▋           | 163/200 [18:17<04:09,  6.76s/it]"
     ]
    },
    {
     "name": "stdout",
     "output_type": "stream",
     "text": [
      "hm\\2023-08-31_08-21-16_UTC_1.jpg hm\\2023-08-31_08-21-16_UTC_2.jpg [Straight leg denim: the ultim…] json \n"
     ]
    },
    {
     "name": "stderr",
     "output_type": "stream",
     "text": [
      "Downloading posts:  82%|██████████████████████████████████████████████████           | 164/200 [18:23<03:58,  6.63s/it]"
     ]
    },
    {
     "name": "stdout",
     "output_type": "stream",
     "text": [
      "hm\\2023-08-30_16-43-30_UTC.jpg [Walk into a new season. #HM] json \n"
     ]
    },
    {
     "name": "stderr",
     "output_type": "stream",
     "text": [
      "Downloading posts:  82%|██████████████████████████████████████████████████▎          | 165/200 [18:29<03:40,  6.31s/it]"
     ]
    },
    {
     "name": "stdout",
     "output_type": "stream",
     "text": [
      "hm\\2023-08-30_14-22-21_UTC.jpg [Future's bright with sunglass…] json \n"
     ]
    },
    {
     "name": "stderr",
     "output_type": "stream",
     "text": [
      "Downloading posts:  83%|██████████████████████████████████████████████████▋          | 166/200 [18:35<03:27,  6.11s/it]"
     ]
    },
    {
     "name": "stdout",
     "output_type": "stream",
     "text": [
      "hm\\2023-08-30_07-41-25_UTC.jpg [Define your look with unexpec…] json \n"
     ]
    },
    {
     "name": "stderr",
     "output_type": "stream",
     "text": [
      "Downloading posts:  84%|██████████████████████████████████████████████████▉          | 167/200 [18:40<03:16,  5.95s/it]"
     ]
    },
    {
     "name": "stdout",
     "output_type": "stream",
     "text": [
      "hm\\2023-08-29_15-11-30_UTC_1.jpg hm\\2023-08-29_15-11-30_UTC_2.jpg hm\\2023-08-29_15-11-30_UTC_3.jpg hm\\2023-08-29_15-11-30_UTC_4.jpg [Get the look: sleek and lacy …] json \n"
     ]
    },
    {
     "name": "stderr",
     "output_type": "stream",
     "text": [
      "Downloading posts:  84%|███████████████████████████████████████████████████▏         | 168/200 [18:48<03:24,  6.39s/it]"
     ]
    },
    {
     "name": "stdout",
     "output_type": "stream",
     "text": [
      "hm\\2023-08-29_12-29-12_UTC.jpg [Add a leather jacket for a pl…] json \n"
     ]
    },
    {
     "name": "stderr",
     "output_type": "stream",
     "text": [
      "Downloading posts:  84%|███████████████████████████████████████████████████▌         | 169/200 [18:53<03:11,  6.17s/it]"
     ]
    },
    {
     "name": "stdout",
     "output_type": "stream",
     "text": [
      "hm\\2023-08-29_07-51-01_UTC.jpg [This season's best pick: glos…] json \n"
     ]
    },
    {
     "name": "stderr",
     "output_type": "stream",
     "text": [
      "Downloading posts:  85%|███████████████████████████████████████████████████▊         | 170/200 [18:59<03:00,  6.02s/it]"
     ]
    },
    {
     "name": "stdout",
     "output_type": "stream",
     "text": [
      "hm\\2023-08-25_17-45-00_UTC_1.jpg hm\\2023-08-25_17-45-00_UTC_2.jpg [Simple, sleek and sophisticat…] json \n"
     ]
    },
    {
     "name": "stderr",
     "output_type": "stream",
     "text": [
      "Downloading posts:  86%|████████████████████████████████████████████████████▏        | 171/200 [19:05<02:56,  6.10s/it]"
     ]
    },
    {
     "name": "stdout",
     "output_type": "stream",
     "text": [
      "hm\\2023-08-25_17-42-58_UTC_1.jpg hm\\2023-08-25_17-42-58_UTC_2.jpg [Monochrome magic. Which is yo…] json \n"
     ]
    },
    {
     "name": "stderr",
     "output_type": "stream",
     "text": [
      "Downloading posts:  86%|████████████████████████████████████████████████████▍        | 172/200 [19:12<02:52,  6.17s/it]"
     ]
    },
    {
     "name": "stdout",
     "output_type": "stream",
     "text": [
      "hm\\2023-08-25_10-14-14_UTC.jpg [Everything is elegant in head…] json \n"
     ]
    },
    {
     "name": "stderr",
     "output_type": "stream",
     "text": [
      "Downloading posts:  86%|████████████████████████████████████████████████████▊        | 173/200 [19:17<02:41,  5.99s/it]"
     ]
    },
    {
     "name": "stdout",
     "output_type": "stream",
     "text": [
      "hm\\2023-08-25_10-13-29_UTC_1.jpg hm\\2023-08-25_10-13-29_UTC_2.jpg [The secret of denim diva: Wea…] json \n"
     ]
    },
    {
     "name": "stderr",
     "output_type": "stream",
     "text": [
      "Downloading posts:  87%|█████████████████████████████████████████████████████        | 174/200 [19:23<02:37,  6.05s/it]"
     ]
    },
    {
     "name": "stdout",
     "output_type": "stream",
     "text": [
      "hm\\2023-08-25_07-43-32_UTC_1.jpg hm\\2023-08-25_07-43-32_UTC_2.jpg [Make denim the canvas for you…] json \n"
     ]
    },
    {
     "name": "stderr",
     "output_type": "stream",
     "text": [
      "Downloading posts:  88%|█████████████████████████████████████████████████████▍       | 175/200 [19:30<02:32,  6.10s/it]"
     ]
    },
    {
     "name": "stdout",
     "output_type": "stream",
     "text": [
      "hm\\2023-08-25_07-37-03_UTC.jpg [Indulge the extraordinary in …] hm\\2023-08-25_07-37-03_UTC.mp4 json \n"
     ]
    },
    {
     "name": "stderr",
     "output_type": "stream",
     "text": [
      "Downloading posts:  88%|█████████████████████████████████████████████████████▋       | 176/200 [19:36<02:32,  6.34s/it]"
     ]
    },
    {
     "name": "stdout",
     "output_type": "stream",
     "text": [
      "hm\\2023-08-24_10-01-47_UTC.jpg [Denim, meet halter top. #HM  …] json \n"
     ]
    },
    {
     "name": "stderr",
     "output_type": "stream",
     "text": [
      "Downloading posts:  88%|█████████████████████████████████████████████████████▉       | 177/200 [19:42<02:20,  6.13s/it]"
     ]
    },
    {
     "name": "stdout",
     "output_type": "stream",
     "text": [
      "hm\\2023-08-22_10-13-17_UTC_1.jpg hm\\2023-08-22_10-13-17_UTC_2.jpg hm\\2023-08-22_10-13-17_UTC_3.jpg [Back to business in herringbo…] json \n"
     ]
    },
    {
     "name": "stderr",
     "output_type": "stream",
     "text": [
      "Downloading posts:  89%|██████████████████████████████████████████████████████▎      | 178/200 [19:49<02:18,  6.32s/it]"
     ]
    },
    {
     "name": "stdout",
     "output_type": "stream",
     "text": [
      "hm\\2023-08-21_08-17-16_UTC.jpg [Light knitwear season. #HM  S…] hm\\2023-08-21_08-17-16_UTC.mp4 json \n"
     ]
    },
    {
     "name": "stderr",
     "output_type": "stream",
     "text": [
      "Downloading posts:  90%|██████████████████████████████████████████████████████▌      | 179/200 [19:57<02:26,  6.96s/it]"
     ]
    },
    {
     "name": "stdout",
     "output_type": "stream",
     "text": [
      "hm\\2023-08-20_15-27-45_UTC_1.jpg hm\\2023-08-20_15-27-45_UTC_2.jpg [A masterclass in laidback chi…] json \n"
     ]
    },
    {
     "name": "stderr",
     "output_type": "stream",
     "text": [
      "Downloading posts:  90%|██████████████████████████████████████████████████████▉      | 180/200 [20:03<02:14,  6.74s/it]"
     ]
    },
    {
     "name": "stdout",
     "output_type": "stream",
     "text": [
      "hm\\2023-08-20_12-45-28_UTC_1.jpg hm\\2023-08-20_12-45-28_UTC_2.jpg [That blue jean feeling. #HM  …] json \n"
     ]
    },
    {
     "name": "stderr",
     "output_type": "stream",
     "text": [
      "Downloading posts:  90%|███████████████████████████████████████████████████████▏     | 181/200 [20:10<02:05,  6.59s/it]"
     ]
    },
    {
     "name": "stdout",
     "output_type": "stream",
     "text": [
      "hm\\2023-08-20_09-11-50_UTC_1.jpg hm\\2023-08-20_09-11-50_UTC_2.jpg hm\\2023-08-20_09-11-50_UTC_3.jpg [Double denim never looked so …] json \n"
     ]
    },
    {
     "name": "stderr",
     "output_type": "stream",
     "text": [
      "Downloading posts:  91%|███████████████████████████████████████████████████████▌     | 182/200 [20:16<01:59,  6.64s/it]"
     ]
    },
    {
     "name": "stdout",
     "output_type": "stream",
     "text": [
      "hm\\2023-08-19_17-14-57_UTC.jpg [The classic tweed jacket, rea…] json \n"
     ]
    },
    {
     "name": "stderr",
     "output_type": "stream",
     "text": [
      "Downloading posts:  92%|███████████████████████████████████████████████████████▊     | 183/200 [20:22<01:47,  6.35s/it]"
     ]
    },
    {
     "name": "stdout",
     "output_type": "stream",
     "text": [
      "hm\\2023-08-19_10-24-12_UTC.jpg [Going places in chunky white …] json \n"
     ]
    },
    {
     "name": "stderr",
     "output_type": "stream",
     "text": [
      "Downloading posts:  92%|████████████████████████████████████████████████████████     | 184/200 [20:28<01:37,  6.12s/it]"
     ]
    },
    {
     "name": "stdout",
     "output_type": "stream",
     "text": [
      "hm\\2023-08-18_14-05-22_UTC.jpg [The cold shoulder, for those …] json \n"
     ]
    },
    {
     "name": "stderr",
     "output_type": "stream",
     "text": [
      "Downloading posts:  92%|████████████████████████████████████████████████████████▍    | 185/200 [20:33<01:29,  5.99s/it]"
     ]
    },
    {
     "name": "stdout",
     "output_type": "stream",
     "text": [
      "hm\\2023-08-18_08-23-28_UTC_1.jpg hm\\2023-08-18_08-23-28_UTC_2.jpg [Sporty with a glam perspectiv…] json \n"
     ]
    },
    {
     "name": "stderr",
     "output_type": "stream",
     "text": [
      "Downloading posts:  93%|████████████████████████████████████████████████████████▋    | 186/200 [20:40<01:25,  6.09s/it]"
     ]
    },
    {
     "name": "stdout",
     "output_type": "stream",
     "text": [
      "hm\\2023-08-17_13-21-43_UTC.jpg [Sophisticated and relaxed. #H…] hm\\2023-08-17_13-21-43_UTC.mp4 json \n"
     ]
    },
    {
     "name": "stderr",
     "output_type": "stream",
     "text": [
      "Downloading posts:  94%|█████████████████████████████████████████████████████████    | 187/200 [20:47<01:23,  6.45s/it]"
     ]
    },
    {
     "name": "stdout",
     "output_type": "stream",
     "text": [
      "hm\\2023-08-17_07-07-53_UTC_1.jpg hm\\2023-08-17_07-07-53_UTC_2.jpg [The secret of sporty success:…] json \n"
     ]
    },
    {
     "name": "stderr",
     "output_type": "stream",
     "text": [
      "Downloading posts:  94%|█████████████████████████████████████████████████████████▎   | 188/200 [20:53<01:17,  6.43s/it]"
     ]
    },
    {
     "name": "stdout",
     "output_type": "stream",
     "text": [
      "hm\\2023-08-13_13-48-17_UTC.jpg [Giant totes and giant stripes…] json \n"
     ]
    },
    {
     "name": "stderr",
     "output_type": "stream",
     "text": [
      "Downloading posts:  94%|█████████████████████████████████████████████████████████▋   | 189/200 [20:59<01:08,  6.19s/it]"
     ]
    },
    {
     "name": "stdout",
     "output_type": "stream",
     "text": [
      "hm\\2023-08-12_11-01-02_UTC.jpg [Complete the look with a herr…] json \n"
     ]
    },
    {
     "name": "stderr",
     "output_type": "stream",
     "text": [
      "Downloading posts:  95%|█████████████████████████████████████████████████████████▉   | 190/200 [21:05<01:00,  6.02s/it]"
     ]
    },
    {
     "name": "stdout",
     "output_type": "stream",
     "text": [
      "hm\\2023-08-11_09-11-25_UTC.jpg [Try a sleeveless mockneck for…] json \n"
     ]
    },
    {
     "name": "stderr",
     "output_type": "stream",
     "text": [
      "Downloading posts:  96%|██████████████████████████████████████████████████████████▎  | 191/200 [21:10<00:53,  5.89s/it]"
     ]
    },
    {
     "name": "stdout",
     "output_type": "stream",
     "text": [
      "hm\\2023-08-10_15-00-00_UTC_1.jpg hm\\2023-08-10_15-00-00_UTC_2.jpg [Tailoring with a sporty twist…] json \n"
     ]
    },
    {
     "name": "stderr",
     "output_type": "stream",
     "text": [
      "Downloading posts:  96%|██████████████████████████████████████████████████████████▌  | 192/200 [21:17<00:48,  6.01s/it]"
     ]
    },
    {
     "name": "stdout",
     "output_type": "stream",
     "text": [
      "hm\\2023-08-10_12-00-00_UTC_1.jpg hm\\2023-08-10_12-00-00_UTC_2.jpg [The perfect outfit for runnin…] json \n"
     ]
    },
    {
     "name": "stderr",
     "output_type": "stream",
     "text": [
      "Downloading posts:  96%|██████████████████████████████████████████████████████████▊  | 193/200 [21:23<00:42,  6.05s/it]"
     ]
    },
    {
     "name": "stdout",
     "output_type": "stream",
     "text": [
      "hm\\2023-08-10_08-30-02_UTC_1.jpg hm\\2023-08-10_08-30-02_UTC_2.jpg [Turn up the volume with bold …] json \n"
     ]
    },
    {
     "name": "stderr",
     "output_type": "stream",
     "text": [
      "Downloading posts:  97%|███████████████████████████████████████████████████████████▏ | 194/200 [21:29<00:36,  6.08s/it]"
     ]
    },
    {
     "name": "stdout",
     "output_type": "stream",
     "text": [
      "hm\\2023-08-09_12-21-35_UTC.jpg [A classic blazer to wear with…] json \n"
     ]
    },
    {
     "name": "stderr",
     "output_type": "stream",
     "text": [
      "Downloading posts:  98%|███████████████████████████████████████████████████████████▍ | 195/200 [21:34<00:29,  5.94s/it]"
     ]
    },
    {
     "name": "stdout",
     "output_type": "stream",
     "text": [
      "hm\\2023-08-08_08-05-51_UTC.jpg [The animal print turtleneck f…] json \n"
     ]
    },
    {
     "name": "stderr",
     "output_type": "stream",
     "text": [
      "Downloading posts:  98%|███████████████████████████████████████████████████████████▊ | 196/200 [21:40<00:23,  5.84s/it]"
     ]
    },
    {
     "name": "stdout",
     "output_type": "stream",
     "text": [
      "hm\\2023-08-07_08-49-07_UTC.jpg [All that glitters is gold. #H…] hm\\2023-08-07_08-49-07_UTC.mp4 json \n"
     ]
    },
    {
     "name": "stderr",
     "output_type": "stream",
     "text": [
      "Downloading posts:  98%|████████████████████████████████████████████████████████████ | 197/200 [21:47<00:18,  6.22s/it]"
     ]
    },
    {
     "name": "stdout",
     "output_type": "stream",
     "text": [
      "hm\\2023-08-05_11-50-08_UTC_1.jpg hm\\2023-08-05_11-50-08_UTC_2.jpg [It doesn’t get more chic than…] json \n"
     ]
    },
    {
     "name": "stderr",
     "output_type": "stream",
     "text": [
      "Downloading posts:  99%|████████████████████████████████████████████████████████████▍| 198/200 [21:53<00:12,  6.19s/it]"
     ]
    },
    {
     "name": "stdout",
     "output_type": "stream",
     "text": [
      "hm\\2023-08-04_13-25-01_UTC.jpg [A small handbag with a big at…] json \n"
     ]
    },
    {
     "name": "stderr",
     "output_type": "stream",
     "text": [
      "Downloading posts: 100%|████████████████████████████████████████████████████████████▋| 199/200 [21:59<00:06,  6.02s/it]"
     ]
    },
    {
     "name": "stdout",
     "output_type": "stream",
     "text": [
      "hm\\2023-08-04_07-49-05_UTC_1.jpg hm\\2023-08-04_07-49-05_UTC_2.jpg [A sequinned skirt to light up…] json \n"
     ]
    },
    {
     "name": "stderr",
     "output_type": "stream",
     "text": [
      "Downloading posts: 100%|█████████████████████████████████████████████████████████████| 200/200 [22:05<00:00,  6.63s/it]\n"
     ]
    }
   ],
   "source": [
    "import instaloader\n",
    "import time\n",
    "from tqdm import tqdm\n",
    "\n",
    "L = instaloader.Instaloader()\n",
    "user = users[0]  # Replace with the actual username\n",
    "profile = instaloader.Profile.from_username(L.context, user)  # user from list of users\n",
    "\n",
    "# Set the maximum number of posts to download\n",
    "max_posts = 200\n",
    "\n",
    "# Using tqdm to create a progress bar\n",
    "for post in tqdm(profile.get_posts(), total=max_posts, desc=\"Downloading posts\"):\n",
    "    if max_posts > 0:\n",
    "        L.download_post(post, target=profile.username)\n",
    "        max_posts -= 1  # Decrement the remaining number of posts to download\n",
    "        time.sleep(5)  # Wait for 5 seconds between downloads\n",
    "    else:\n",
    "        break  # Exit the loop after downloading the desired number of posts"
   ]
  },
  {
   "cell_type": "markdown",
   "id": "383ffa33-b525-4dea-af75-32d17d7ef293",
   "metadata": {},
   "source": [
    "# Arrange Data in folders"
   ]
  },
  {
   "cell_type": "code",
   "execution_count": 10,
   "id": "35764c79-9f79-46ef-a9ca-c75c1044f95b",
   "metadata": {},
   "outputs": [],
   "source": [
    "import os\n",
    "import shutil\n",
    "\n",
    "def organize_files_by_name(folder_path):\n",
    "    files = [f for f in os.listdir(folder_path) if os.path.isfile(os.path.join(folder_path, f))]\n",
    "    base_names = {}\n",
    "\n",
    "    for file in files:\n",
    "        # Take the first 23 characters as the base name\n",
    "        base_name = file[:23]\n",
    "\n",
    "        if base_name not in base_names:\n",
    "            base_names[base_name] = []\n",
    "\n",
    "        base_names[base_name].append(file)\n",
    "\n",
    "    for base_name, file_list in base_names.items():\n",
    "        dir_path = os.path.join(folder_path, base_name)\n",
    "        if not os.path.exists(dir_path):\n",
    "            os.makedirs(dir_path)\n",
    "\n",
    "        for file in file_list:\n",
    "            original_file = os.path.join(folder_path, file)\n",
    "            new_file = os.path.join(dir_path, file)\n",
    "\n",
    "            if os.path.exists(new_file):\n",
    "                i = 1\n",
    "                new_base_name = file[:23]\n",
    "                ext = os.path.splitext(file)[1]\n",
    "                new_file = os.path.join(dir_path, f\"{new_base_name}_{i}{ext}\")\n",
    "                while os.path.exists(new_file):\n",
    "                    i += 1\n",
    "                    new_file = os.path.join(dir_path, f\"{new_base_name}_{i}{ext}\")\n",
    "\n",
    "            shutil.move(original_file, new_file)\n",
    "\n",
    "# Example usage\n",
    "folder_path = user  # Replace with the path to your folder\n",
    "organize_files_by_name(folder_path)"
   ]
  }
 ],
 "metadata": {
  "kernelspec": {
   "display_name": "Python 3 (ipykernel)",
   "language": "python",
   "name": "python3"
  },
  "language_info": {
   "codemirror_mode": {
    "name": "ipython",
    "version": 3
   },
   "file_extension": ".py",
   "mimetype": "text/x-python",
   "name": "python",
   "nbconvert_exporter": "python",
   "pygments_lexer": "ipython3",
   "version": "3.11.5"
  }
 },
 "nbformat": 4,
 "nbformat_minor": 5
}
